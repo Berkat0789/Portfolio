{
 "cells": [
  {
   "cell_type": "code",
   "execution_count": 1,
   "metadata": {},
   "outputs": [],
   "source": [
    "import pandas as pd\n",
    "import numpy as np \n",
    "import matplotlib.pyplot as plt\n",
    "import seaborn as sns"
   ]
  },
  {
   "cell_type": "code",
   "execution_count": 2,
   "metadata": {},
   "outputs": [],
   "source": [
    "from sklearn.datasets import load_wine"
   ]
  },
  {
   "cell_type": "code",
   "execution_count": null,
   "metadata": {},
   "outputs": [],
   "source": []
  },
  {
   "cell_type": "code",
   "execution_count": 3,
   "metadata": {},
   "outputs": [],
   "source": [
    "wine = pd.DataFrame(load_wine()[\"data\"], columns=load_wine()[\"feature_names\"])"
   ]
  },
  {
   "cell_type": "code",
   "execution_count": 4,
   "metadata": {},
   "outputs": [],
   "source": [
    "wine[\"target\"] = load_wine()[\"target\"]"
   ]
  },
  {
   "cell_type": "markdown",
   "metadata": {},
   "source": [
    "#### unique targets"
   ]
  },
  {
   "cell_type": "code",
   "execution_count": 5,
   "metadata": {},
   "outputs": [
    {
     "data": {
      "text/plain": [
       "array([0, 1, 2])"
      ]
     },
     "execution_count": 5,
     "metadata": {},
     "output_type": "execute_result"
    }
   ],
   "source": [
    "wine[\"target\"].unique()"
   ]
  },
  {
   "cell_type": "markdown",
   "metadata": {},
   "source": [
    "#### Data correlation"
   ]
  },
  {
   "cell_type": "code",
   "execution_count": 6,
   "metadata": {},
   "outputs": [
    {
     "data": {
      "text/html": [
       "<div>\n",
       "<style scoped>\n",
       "    .dataframe tbody tr th:only-of-type {\n",
       "        vertical-align: middle;\n",
       "    }\n",
       "\n",
       "    .dataframe tbody tr th {\n",
       "        vertical-align: top;\n",
       "    }\n",
       "\n",
       "    .dataframe thead th {\n",
       "        text-align: right;\n",
       "    }\n",
       "</style>\n",
       "<table border=\"1\" class=\"dataframe\">\n",
       "  <thead>\n",
       "    <tr style=\"text-align: right;\">\n",
       "      <th></th>\n",
       "      <th>alcohol</th>\n",
       "      <th>malic_acid</th>\n",
       "      <th>ash</th>\n",
       "      <th>alcalinity_of_ash</th>\n",
       "      <th>magnesium</th>\n",
       "      <th>total_phenols</th>\n",
       "      <th>flavanoids</th>\n",
       "      <th>nonflavanoid_phenols</th>\n",
       "      <th>proanthocyanins</th>\n",
       "      <th>color_intensity</th>\n",
       "      <th>hue</th>\n",
       "      <th>od280/od315_of_diluted_wines</th>\n",
       "      <th>proline</th>\n",
       "      <th>target</th>\n",
       "    </tr>\n",
       "  </thead>\n",
       "  <tbody>\n",
       "    <tr>\n",
       "      <td>alcohol</td>\n",
       "      <td>1.000000</td>\n",
       "      <td>0.094397</td>\n",
       "      <td>0.211545</td>\n",
       "      <td>-0.310235</td>\n",
       "      <td>0.270798</td>\n",
       "      <td>0.289101</td>\n",
       "      <td>0.236815</td>\n",
       "      <td>-0.155929</td>\n",
       "      <td>0.136698</td>\n",
       "      <td>0.546364</td>\n",
       "      <td>-0.071747</td>\n",
       "      <td>0.072343</td>\n",
       "      <td>0.643720</td>\n",
       "      <td>-0.328222</td>\n",
       "    </tr>\n",
       "    <tr>\n",
       "      <td>malic_acid</td>\n",
       "      <td>0.094397</td>\n",
       "      <td>1.000000</td>\n",
       "      <td>0.164045</td>\n",
       "      <td>0.288500</td>\n",
       "      <td>-0.054575</td>\n",
       "      <td>-0.335167</td>\n",
       "      <td>-0.411007</td>\n",
       "      <td>0.292977</td>\n",
       "      <td>-0.220746</td>\n",
       "      <td>0.248985</td>\n",
       "      <td>-0.561296</td>\n",
       "      <td>-0.368710</td>\n",
       "      <td>-0.192011</td>\n",
       "      <td>0.437776</td>\n",
       "    </tr>\n",
       "    <tr>\n",
       "      <td>ash</td>\n",
       "      <td>0.211545</td>\n",
       "      <td>0.164045</td>\n",
       "      <td>1.000000</td>\n",
       "      <td>0.443367</td>\n",
       "      <td>0.286587</td>\n",
       "      <td>0.128980</td>\n",
       "      <td>0.115077</td>\n",
       "      <td>0.186230</td>\n",
       "      <td>0.009652</td>\n",
       "      <td>0.258887</td>\n",
       "      <td>-0.074667</td>\n",
       "      <td>0.003911</td>\n",
       "      <td>0.223626</td>\n",
       "      <td>-0.049643</td>\n",
       "    </tr>\n",
       "    <tr>\n",
       "      <td>alcalinity_of_ash</td>\n",
       "      <td>-0.310235</td>\n",
       "      <td>0.288500</td>\n",
       "      <td>0.443367</td>\n",
       "      <td>1.000000</td>\n",
       "      <td>-0.083333</td>\n",
       "      <td>-0.321113</td>\n",
       "      <td>-0.351370</td>\n",
       "      <td>0.361922</td>\n",
       "      <td>-0.197327</td>\n",
       "      <td>0.018732</td>\n",
       "      <td>-0.273955</td>\n",
       "      <td>-0.276769</td>\n",
       "      <td>-0.440597</td>\n",
       "      <td>0.517859</td>\n",
       "    </tr>\n",
       "    <tr>\n",
       "      <td>magnesium</td>\n",
       "      <td>0.270798</td>\n",
       "      <td>-0.054575</td>\n",
       "      <td>0.286587</td>\n",
       "      <td>-0.083333</td>\n",
       "      <td>1.000000</td>\n",
       "      <td>0.214401</td>\n",
       "      <td>0.195784</td>\n",
       "      <td>-0.256294</td>\n",
       "      <td>0.236441</td>\n",
       "      <td>0.199950</td>\n",
       "      <td>0.055398</td>\n",
       "      <td>0.066004</td>\n",
       "      <td>0.393351</td>\n",
       "      <td>-0.209179</td>\n",
       "    </tr>\n",
       "    <tr>\n",
       "      <td>total_phenols</td>\n",
       "      <td>0.289101</td>\n",
       "      <td>-0.335167</td>\n",
       "      <td>0.128980</td>\n",
       "      <td>-0.321113</td>\n",
       "      <td>0.214401</td>\n",
       "      <td>1.000000</td>\n",
       "      <td>0.864564</td>\n",
       "      <td>-0.449935</td>\n",
       "      <td>0.612413</td>\n",
       "      <td>-0.055136</td>\n",
       "      <td>0.433681</td>\n",
       "      <td>0.699949</td>\n",
       "      <td>0.498115</td>\n",
       "      <td>-0.719163</td>\n",
       "    </tr>\n",
       "    <tr>\n",
       "      <td>flavanoids</td>\n",
       "      <td>0.236815</td>\n",
       "      <td>-0.411007</td>\n",
       "      <td>0.115077</td>\n",
       "      <td>-0.351370</td>\n",
       "      <td>0.195784</td>\n",
       "      <td>0.864564</td>\n",
       "      <td>1.000000</td>\n",
       "      <td>-0.537900</td>\n",
       "      <td>0.652692</td>\n",
       "      <td>-0.172379</td>\n",
       "      <td>0.543479</td>\n",
       "      <td>0.787194</td>\n",
       "      <td>0.494193</td>\n",
       "      <td>-0.847498</td>\n",
       "    </tr>\n",
       "    <tr>\n",
       "      <td>nonflavanoid_phenols</td>\n",
       "      <td>-0.155929</td>\n",
       "      <td>0.292977</td>\n",
       "      <td>0.186230</td>\n",
       "      <td>0.361922</td>\n",
       "      <td>-0.256294</td>\n",
       "      <td>-0.449935</td>\n",
       "      <td>-0.537900</td>\n",
       "      <td>1.000000</td>\n",
       "      <td>-0.365845</td>\n",
       "      <td>0.139057</td>\n",
       "      <td>-0.262640</td>\n",
       "      <td>-0.503270</td>\n",
       "      <td>-0.311385</td>\n",
       "      <td>0.489109</td>\n",
       "    </tr>\n",
       "    <tr>\n",
       "      <td>proanthocyanins</td>\n",
       "      <td>0.136698</td>\n",
       "      <td>-0.220746</td>\n",
       "      <td>0.009652</td>\n",
       "      <td>-0.197327</td>\n",
       "      <td>0.236441</td>\n",
       "      <td>0.612413</td>\n",
       "      <td>0.652692</td>\n",
       "      <td>-0.365845</td>\n",
       "      <td>1.000000</td>\n",
       "      <td>-0.025250</td>\n",
       "      <td>0.295544</td>\n",
       "      <td>0.519067</td>\n",
       "      <td>0.330417</td>\n",
       "      <td>-0.499130</td>\n",
       "    </tr>\n",
       "    <tr>\n",
       "      <td>color_intensity</td>\n",
       "      <td>0.546364</td>\n",
       "      <td>0.248985</td>\n",
       "      <td>0.258887</td>\n",
       "      <td>0.018732</td>\n",
       "      <td>0.199950</td>\n",
       "      <td>-0.055136</td>\n",
       "      <td>-0.172379</td>\n",
       "      <td>0.139057</td>\n",
       "      <td>-0.025250</td>\n",
       "      <td>1.000000</td>\n",
       "      <td>-0.521813</td>\n",
       "      <td>-0.428815</td>\n",
       "      <td>0.316100</td>\n",
       "      <td>0.265668</td>\n",
       "    </tr>\n",
       "    <tr>\n",
       "      <td>hue</td>\n",
       "      <td>-0.071747</td>\n",
       "      <td>-0.561296</td>\n",
       "      <td>-0.074667</td>\n",
       "      <td>-0.273955</td>\n",
       "      <td>0.055398</td>\n",
       "      <td>0.433681</td>\n",
       "      <td>0.543479</td>\n",
       "      <td>-0.262640</td>\n",
       "      <td>0.295544</td>\n",
       "      <td>-0.521813</td>\n",
       "      <td>1.000000</td>\n",
       "      <td>0.565468</td>\n",
       "      <td>0.236183</td>\n",
       "      <td>-0.617369</td>\n",
       "    </tr>\n",
       "    <tr>\n",
       "      <td>od280/od315_of_diluted_wines</td>\n",
       "      <td>0.072343</td>\n",
       "      <td>-0.368710</td>\n",
       "      <td>0.003911</td>\n",
       "      <td>-0.276769</td>\n",
       "      <td>0.066004</td>\n",
       "      <td>0.699949</td>\n",
       "      <td>0.787194</td>\n",
       "      <td>-0.503270</td>\n",
       "      <td>0.519067</td>\n",
       "      <td>-0.428815</td>\n",
       "      <td>0.565468</td>\n",
       "      <td>1.000000</td>\n",
       "      <td>0.312761</td>\n",
       "      <td>-0.788230</td>\n",
       "    </tr>\n",
       "    <tr>\n",
       "      <td>proline</td>\n",
       "      <td>0.643720</td>\n",
       "      <td>-0.192011</td>\n",
       "      <td>0.223626</td>\n",
       "      <td>-0.440597</td>\n",
       "      <td>0.393351</td>\n",
       "      <td>0.498115</td>\n",
       "      <td>0.494193</td>\n",
       "      <td>-0.311385</td>\n",
       "      <td>0.330417</td>\n",
       "      <td>0.316100</td>\n",
       "      <td>0.236183</td>\n",
       "      <td>0.312761</td>\n",
       "      <td>1.000000</td>\n",
       "      <td>-0.633717</td>\n",
       "    </tr>\n",
       "    <tr>\n",
       "      <td>target</td>\n",
       "      <td>-0.328222</td>\n",
       "      <td>0.437776</td>\n",
       "      <td>-0.049643</td>\n",
       "      <td>0.517859</td>\n",
       "      <td>-0.209179</td>\n",
       "      <td>-0.719163</td>\n",
       "      <td>-0.847498</td>\n",
       "      <td>0.489109</td>\n",
       "      <td>-0.499130</td>\n",
       "      <td>0.265668</td>\n",
       "      <td>-0.617369</td>\n",
       "      <td>-0.788230</td>\n",
       "      <td>-0.633717</td>\n",
       "      <td>1.000000</td>\n",
       "    </tr>\n",
       "  </tbody>\n",
       "</table>\n",
       "</div>"
      ],
      "text/plain": [
       "                               alcohol  malic_acid       ash  \\\n",
       "alcohol                       1.000000    0.094397  0.211545   \n",
       "malic_acid                    0.094397    1.000000  0.164045   \n",
       "ash                           0.211545    0.164045  1.000000   \n",
       "alcalinity_of_ash            -0.310235    0.288500  0.443367   \n",
       "magnesium                     0.270798   -0.054575  0.286587   \n",
       "total_phenols                 0.289101   -0.335167  0.128980   \n",
       "flavanoids                    0.236815   -0.411007  0.115077   \n",
       "nonflavanoid_phenols         -0.155929    0.292977  0.186230   \n",
       "proanthocyanins               0.136698   -0.220746  0.009652   \n",
       "color_intensity               0.546364    0.248985  0.258887   \n",
       "hue                          -0.071747   -0.561296 -0.074667   \n",
       "od280/od315_of_diluted_wines  0.072343   -0.368710  0.003911   \n",
       "proline                       0.643720   -0.192011  0.223626   \n",
       "target                       -0.328222    0.437776 -0.049643   \n",
       "\n",
       "                              alcalinity_of_ash  magnesium  total_phenols  \\\n",
       "alcohol                               -0.310235   0.270798       0.289101   \n",
       "malic_acid                             0.288500  -0.054575      -0.335167   \n",
       "ash                                    0.443367   0.286587       0.128980   \n",
       "alcalinity_of_ash                      1.000000  -0.083333      -0.321113   \n",
       "magnesium                             -0.083333   1.000000       0.214401   \n",
       "total_phenols                         -0.321113   0.214401       1.000000   \n",
       "flavanoids                            -0.351370   0.195784       0.864564   \n",
       "nonflavanoid_phenols                   0.361922  -0.256294      -0.449935   \n",
       "proanthocyanins                       -0.197327   0.236441       0.612413   \n",
       "color_intensity                        0.018732   0.199950      -0.055136   \n",
       "hue                                   -0.273955   0.055398       0.433681   \n",
       "od280/od315_of_diluted_wines          -0.276769   0.066004       0.699949   \n",
       "proline                               -0.440597   0.393351       0.498115   \n",
       "target                                 0.517859  -0.209179      -0.719163   \n",
       "\n",
       "                              flavanoids  nonflavanoid_phenols  \\\n",
       "alcohol                         0.236815             -0.155929   \n",
       "malic_acid                     -0.411007              0.292977   \n",
       "ash                             0.115077              0.186230   \n",
       "alcalinity_of_ash              -0.351370              0.361922   \n",
       "magnesium                       0.195784             -0.256294   \n",
       "total_phenols                   0.864564             -0.449935   \n",
       "flavanoids                      1.000000             -0.537900   \n",
       "nonflavanoid_phenols           -0.537900              1.000000   \n",
       "proanthocyanins                 0.652692             -0.365845   \n",
       "color_intensity                -0.172379              0.139057   \n",
       "hue                             0.543479             -0.262640   \n",
       "od280/od315_of_diluted_wines    0.787194             -0.503270   \n",
       "proline                         0.494193             -0.311385   \n",
       "target                         -0.847498              0.489109   \n",
       "\n",
       "                              proanthocyanins  color_intensity       hue  \\\n",
       "alcohol                              0.136698         0.546364 -0.071747   \n",
       "malic_acid                          -0.220746         0.248985 -0.561296   \n",
       "ash                                  0.009652         0.258887 -0.074667   \n",
       "alcalinity_of_ash                   -0.197327         0.018732 -0.273955   \n",
       "magnesium                            0.236441         0.199950  0.055398   \n",
       "total_phenols                        0.612413        -0.055136  0.433681   \n",
       "flavanoids                           0.652692        -0.172379  0.543479   \n",
       "nonflavanoid_phenols                -0.365845         0.139057 -0.262640   \n",
       "proanthocyanins                      1.000000        -0.025250  0.295544   \n",
       "color_intensity                     -0.025250         1.000000 -0.521813   \n",
       "hue                                  0.295544        -0.521813  1.000000   \n",
       "od280/od315_of_diluted_wines         0.519067        -0.428815  0.565468   \n",
       "proline                              0.330417         0.316100  0.236183   \n",
       "target                              -0.499130         0.265668 -0.617369   \n",
       "\n",
       "                              od280/od315_of_diluted_wines   proline    target  \n",
       "alcohol                                           0.072343  0.643720 -0.328222  \n",
       "malic_acid                                       -0.368710 -0.192011  0.437776  \n",
       "ash                                               0.003911  0.223626 -0.049643  \n",
       "alcalinity_of_ash                                -0.276769 -0.440597  0.517859  \n",
       "magnesium                                         0.066004  0.393351 -0.209179  \n",
       "total_phenols                                     0.699949  0.498115 -0.719163  \n",
       "flavanoids                                        0.787194  0.494193 -0.847498  \n",
       "nonflavanoid_phenols                             -0.503270 -0.311385  0.489109  \n",
       "proanthocyanins                                   0.519067  0.330417 -0.499130  \n",
       "color_intensity                                  -0.428815  0.316100  0.265668  \n",
       "hue                                               0.565468  0.236183 -0.617369  \n",
       "od280/od315_of_diluted_wines                      1.000000  0.312761 -0.788230  \n",
       "proline                                           0.312761  1.000000 -0.633717  \n",
       "target                                           -0.788230 -0.633717  1.000000  "
      ]
     },
     "execution_count": 6,
     "metadata": {},
     "output_type": "execute_result"
    }
   ],
   "source": [
    "wine.corr()"
   ]
  },
  {
   "cell_type": "markdown",
   "metadata": {},
   "source": [
    "#### Correlation to Target"
   ]
  },
  {
   "cell_type": "code",
   "execution_count": 7,
   "metadata": {
    "scrolled": true
   },
   "outputs": [
    {
     "data": {
      "text/plain": [
       "<matplotlib.axes._subplots.AxesSubplot at 0x1a156317d0>"
      ]
     },
     "execution_count": 7,
     "metadata": {},
     "output_type": "execute_result"
    },
    {
     "data": {
      "image/png": "[encoded data removed]",
      "text/plain": [
       "<Figure size 1152x432 with 2 Axes>"
      ]
     },
     "metadata": {
      "needs_background": "light"
     },
     "output_type": "display_data"
    }
   ],
   "source": [
    "plt.figure(figsize = (16,6))\n",
    "sns.heatmap(wine.corr(), cmap=\"summer\")"
   ]
  },
  {
   "cell_type": "markdown",
   "metadata": {},
   "source": [
    "#### Lets see whats correlatied to the Alcohol content \n",
    "- proline"
   ]
  },
  {
   "cell_type": "code",
   "execution_count": 8,
   "metadata": {},
   "outputs": [
    {
     "data": {
      "text/plain": [
       "alcohol                         1.000000\n",
       "proline                         0.643720\n",
       "color_intensity                 0.546364\n",
       "total_phenols                   0.289101\n",
       "magnesium                       0.270798\n",
       "flavanoids                      0.236815\n",
       "ash                             0.211545\n",
       "proanthocyanins                 0.136698\n",
       "malic_acid                      0.094397\n",
       "od280/od315_of_diluted_wines    0.072343\n",
       "hue                            -0.071747\n",
       "nonflavanoid_phenols           -0.155929\n",
       "alcalinity_of_ash              -0.310235\n",
       "target                         -0.328222\n",
       "Name: alcohol, dtype: float64"
      ]
     },
     "execution_count": 8,
     "metadata": {},
     "output_type": "execute_result"
    }
   ],
   "source": [
    "wine.corr()[\"alcohol\"].sort_values(ascending = False)"
   ]
  },
  {
   "cell_type": "markdown",
   "metadata": {},
   "source": [
    "#### Observation of the distribution of wine types in the our data set\n",
    "- more type 1 than 0 and 2 and more 0 than 2"
   ]
  },
  {
   "cell_type": "code",
   "execution_count": 9,
   "metadata": {},
   "outputs": [
    {
     "data": {
      "image/png": "[encoded data removed]",
      "text/plain": [
       "<Figure size 1152x432 with 1 Axes>"
      ]
     },
     "metadata": {
      "needs_background": "light"
     },
     "output_type": "display_data"
    }
   ],
   "source": [
    "plt.figure(figsize = (16,6))\n",
    "sns.countplot(x = \"target\", data=wine);"
   ]
  },
  {
   "cell_type": "markdown",
   "metadata": {},
   "source": [
    "### alcohol quantity in each type of wine\n",
    "- type 0 has more of a alcohol content, followed by 2. So our data has more wine with a lower alcohol content based on the plot above"
   ]
  },
  {
   "cell_type": "code",
   "execution_count": 10,
   "metadata": {},
   "outputs": [
    {
     "data": {
      "text/plain": [
       "<matplotlib.axes._subplots.AxesSubplot at 0x1a15be84d0>"
      ]
     },
     "execution_count": 10,
     "metadata": {},
     "output_type": "execute_result"
    },
    {
     "data": {
      "image/png": "[encoded data removed]",
      "text/plain": [
       "<Figure size 1152x432 with 1 Axes>"
      ]
     },
     "metadata": {
      "needs_background": "light"
     },
     "output_type": "display_data"
    }
   ],
   "source": [
    "plt.figure(figsize = (16,6))\n",
    "sns.boxplot(x = \"target\", y=\"alcohol\", data=wine, palette=\"viridis\")"
   ]
  },
  {
   "cell_type": "markdown",
   "metadata": {},
   "source": [
    "### A look at the color intensity to  proline\n",
    "- appears as the alcohol content increases the porline does as well\n",
    "- This agrees with the correlaiton plot above as well as the alsohol content in each wine type"
   ]
  },
  {
   "cell_type": "code",
   "execution_count": 11,
   "metadata": {},
   "outputs": [
    {
     "data": {
      "image/png": "[encoded data removed]",
      "text/plain": [
       "<Figure size 1152x432 with 1 Axes>"
      ]
     },
     "metadata": {
      "needs_background": "light"
     },
     "output_type": "display_data"
    }
   ],
   "source": [
    "plt.figure(figsize = (16,6))\n",
    "sns.scatterplot(x = \"alcohol\", y = \"proline\", data=wine, hue=\"target\", palette=\"magma\");"
   ]
  },
  {
   "cell_type": "markdown",
   "metadata": {},
   "source": [
    "### Training our data"
   ]
  },
  {
   "cell_type": "code",
   "execution_count": 69,
   "metadata": {},
   "outputs": [],
   "source": [
    "from tensorflow.keras.utils import to_categorical"
   ]
  },
  {
   "cell_type": "code",
   "execution_count": 70,
   "metadata": {},
   "outputs": [],
   "source": [
    "X = wine.drop('target', axis=1).values\n",
    "y = to_categorical(wine[\"target\"].values)"
   ]
  },
  {
   "cell_type": "markdown",
   "metadata": {},
   "source": [
    "## Train test split"
   ]
  },
  {
   "cell_type": "code",
   "execution_count": 71,
   "metadata": {},
   "outputs": [],
   "source": [
    "from sklearn.model_selection import train_test_split"
   ]
  },
  {
   "cell_type": "code",
   "execution_count": 72,
   "metadata": {},
   "outputs": [],
   "source": [
    "X_train, X_test, y_train, y_test = train_test_split(X, y, test_size=0.30, random_state=101)"
   ]
  },
  {
   "cell_type": "markdown",
   "metadata": {},
   "source": [
    "### Scale the data"
   ]
  },
  {
   "cell_type": "code",
   "execution_count": 73,
   "metadata": {},
   "outputs": [],
   "source": [
    "from sklearn.preprocessing import MinMaxScaler"
   ]
  },
  {
   "cell_type": "code",
   "execution_count": 74,
   "metadata": {},
   "outputs": [],
   "source": [
    "scalar = MinMaxScaler()"
   ]
  },
  {
   "cell_type": "code",
   "execution_count": 75,
   "metadata": {},
   "outputs": [],
   "source": [
    "X_train = scalar.fit_transform(X_train)"
   ]
  },
  {
   "cell_type": "code",
   "execution_count": 76,
   "metadata": {},
   "outputs": [],
   "source": [
    "X_test = scalar.transform(X_test)"
   ]
  },
  {
   "cell_type": "markdown",
   "metadata": {},
   "source": [
    "### Creating our model"
   ]
  },
  {
   "cell_type": "code",
   "execution_count": 77,
   "metadata": {},
   "outputs": [
    {
     "data": {
      "text/plain": [
       "(124, 13)"
      ]
     },
     "execution_count": 77,
     "metadata": {},
     "output_type": "execute_result"
    }
   ],
   "source": [
    "X_train.shape"
   ]
  },
  {
   "cell_type": "code",
   "execution_count": 78,
   "metadata": {},
   "outputs": [
    {
     "data": {
      "text/plain": [
       "(124, 3)"
      ]
     },
     "execution_count": 78,
     "metadata": {},
     "output_type": "execute_result"
    }
   ],
   "source": [
    "y_train.shape"
   ]
  },
  {
   "cell_type": "code",
   "execution_count": 79,
   "metadata": {},
   "outputs": [],
   "source": [
    "from tensorflow.keras.models import Sequential\n",
    "from tensorflow.keras.layers import Dropout, Dense\n",
    "from tensorflow.keras.callbacks import EarlyStopping, TensorBoard"
   ]
  },
  {
   "cell_type": "code",
   "execution_count": 80,
   "metadata": {},
   "outputs": [],
   "source": [
    "logdir = \"resources/logs/fit\"\n",
    "\n",
    "board = TensorBoard(log_dir= logdir,\n",
    "    histogram_freq=1,\n",
    "    write_graph=True,\n",
    "    write_images=True,\n",
    "    update_freq='epoch',\n",
    "    profile_batch=2,\n",
    "    embeddings_freq=1,\n",
    "    embeddings_metadata=None,)"
   ]
  },
  {
   "cell_type": "code",
   "execution_count": 81,
   "metadata": {},
   "outputs": [],
   "source": [
    "stop = EarlyStopping(monitor=\"val_loss\", verbose=2, mode=\"min\", patience=30)"
   ]
  },
  {
   "cell_type": "code",
   "execution_count": 82,
   "metadata": {},
   "outputs": [],
   "source": [
    "model = Sequential()\n",
    "model.add(Dense(units = 13, activation = \"relu\"))\n",
    "model.add(Dense(units = 13, activation = \"relu\"))\n",
    "model.add(Dense(units = 3, activation = \"softmax\"))\n",
    "model.compile(optimization = \"adam\", loss = \"categorical_crossentropy\", metrics = [\"accuracy\"])"
   ]
  },
  {
   "cell_type": "code",
   "execution_count": 83,
   "metadata": {},
   "outputs": [
    {
     "name": "stdout",
     "output_type": "stream",
     "text": [
      "Train on 124 samples, validate on 54 samples\n",
      "Epoch 1/500\n",
      "124/124 [==============================] - 2s 20ms/sample - loss: 1.1278 - accuracy: 0.3871 - val_loss: 1.0921 - val_accuracy: 0.4074\n",
      "Epoch 2/500\n",
      "124/124 [==============================] - 0s 2ms/sample - loss: 1.0951 - accuracy: 0.3871 - val_loss: 1.0679 - val_accuracy: 0.4074\n",
      "Epoch 3/500\n",
      "124/124 [==============================] - 0s 1ms/sample - loss: 1.0763 - accuracy: 0.3871 - val_loss: 1.0524 - val_accuracy: 0.4444\n",
      "Epoch 4/500\n",
      "124/124 [==============================] - 0s 2ms/sample - loss: 1.0652 - accuracy: 0.4032 - val_loss: 1.0411 - val_accuracy: 0.4444\n",
      "Epoch 5/500\n",
      "124/124 [==============================] - 0s 1ms/sample - loss: 1.0550 - accuracy: 0.4274 - val_loss: 1.0298 - val_accuracy: 0.4630\n",
      "Epoch 6/500\n",
      "124/124 [==============================] - 0s 2ms/sample - loss: 1.0434 - accuracy: 0.4758 - val_loss: 1.0176 - val_accuracy: 0.5000\n",
      "Epoch 7/500\n",
      "124/124 [==============================] - 0s 2ms/sample - loss: 1.0321 - accuracy: 0.5323 - val_loss: 1.0049 - val_accuracy: 0.5370\n",
      "Epoch 8/500\n",
      "124/124 [==============================] - 0s 2ms/sample - loss: 1.0213 - accuracy: 0.5323 - val_loss: 0.9909 - val_accuracy: 0.5556\n",
      "Epoch 9/500\n",
      "124/124 [==============================] - 0s 2ms/sample - loss: 1.0094 - accuracy: 0.5484 - val_loss: 0.9772 - val_accuracy: 0.5741\n",
      "Epoch 10/500\n",
      "124/124 [==============================] - 0s 1ms/sample - loss: 0.9972 - accuracy: 0.5645 - val_loss: 0.9639 - val_accuracy: 0.5926\n",
      "Epoch 11/500\n",
      "124/124 [==============================] - 0s 2ms/sample - loss: 0.9860 - accuracy: 0.5726 - val_loss: 0.9507 - val_accuracy: 0.6111\n",
      "Epoch 12/500\n",
      "124/124 [==============================] - 0s 1ms/sample - loss: 0.9746 - accuracy: 0.5887 - val_loss: 0.9382 - val_accuracy: 0.6111\n",
      "Epoch 13/500\n",
      "124/124 [==============================] - 0s 2ms/sample - loss: 0.9647 - accuracy: 0.5887 - val_loss: 0.9264 - val_accuracy: 0.6111\n",
      "Epoch 14/500\n",
      "124/124 [==============================] - 0s 2ms/sample - loss: 0.9531 - accuracy: 0.5968 - val_loss: 0.9146 - val_accuracy: 0.6296\n",
      "Epoch 15/500\n",
      "124/124 [==============================] - 0s 1ms/sample - loss: 0.9432 - accuracy: 0.5968 - val_loss: 0.9035 - val_accuracy: 0.6111\n",
      "Epoch 16/500\n",
      "124/124 [==============================] - 0s 2ms/sample - loss: 0.9317 - accuracy: 0.6048 - val_loss: 0.8912 - val_accuracy: 0.6481\n",
      "Epoch 17/500\n",
      "124/124 [==============================] - 0s 1ms/sample - loss: 0.9236 - accuracy: 0.6210 - val_loss: 0.8806 - val_accuracy: 0.6667\n",
      "Epoch 18/500\n",
      "124/124 [==============================] - 0s 2ms/sample - loss: 0.9123 - accuracy: 0.6048 - val_loss: 0.8700 - val_accuracy: 0.7037\n",
      "Epoch 19/500\n",
      "124/124 [==============================] - 0s 2ms/sample - loss: 0.9013 - accuracy: 0.6532 - val_loss: 0.8593 - val_accuracy: 0.7037\n",
      "Epoch 20/500\n",
      "124/124 [==============================] - 0s 2ms/sample - loss: 0.8908 - accuracy: 0.6532 - val_loss: 0.8479 - val_accuracy: 0.7037\n",
      "Epoch 21/500\n",
      "124/124 [==============================] - 0s 2ms/sample - loss: 0.8808 - accuracy: 0.6774 - val_loss: 0.8366 - val_accuracy: 0.7222\n",
      "Epoch 22/500\n",
      "124/124 [==============================] - 0s 2ms/sample - loss: 0.8715 - accuracy: 0.6774 - val_loss: 0.8259 - val_accuracy: 0.7222\n",
      "Epoch 23/500\n",
      "124/124 [==============================] - 0s 2ms/sample - loss: 0.8593 - accuracy: 0.6774 - val_loss: 0.8143 - val_accuracy: 0.7407\n",
      "Epoch 24/500\n",
      "124/124 [==============================] - 0s 1ms/sample - loss: 0.8495 - accuracy: 0.6774 - val_loss: 0.8035 - val_accuracy: 0.7963\n",
      "Epoch 25/500\n",
      "124/124 [==============================] - 0s 2ms/sample - loss: 0.8381 - accuracy: 0.6935 - val_loss: 0.7921 - val_accuracy: 0.7778\n",
      "Epoch 26/500\n",
      "124/124 [==============================] - 0s 2ms/sample - loss: 0.8274 - accuracy: 0.6855 - val_loss: 0.7799 - val_accuracy: 0.8148\n",
      "Epoch 27/500\n",
      "124/124 [==============================] - 0s 1ms/sample - loss: 0.8166 - accuracy: 0.7097 - val_loss: 0.7682 - val_accuracy: 0.8333\n",
      "Epoch 28/500\n",
      "124/124 [==============================] - 0s 2ms/sample - loss: 0.8050 - accuracy: 0.7177 - val_loss: 0.7561 - val_accuracy: 0.8519\n",
      "Epoch 29/500\n",
      "124/124 [==============================] - 0s 2ms/sample - loss: 0.7931 - accuracy: 0.7339 - val_loss: 0.7438 - val_accuracy: 0.8704\n",
      "Epoch 30/500\n",
      "124/124 [==============================] - 0s 2ms/sample - loss: 0.7808 - accuracy: 0.7419 - val_loss: 0.7310 - val_accuracy: 0.8519\n",
      "Epoch 31/500\n",
      "124/124 [==============================] - 0s 2ms/sample - loss: 0.7692 - accuracy: 0.7339 - val_loss: 0.7179 - val_accuracy: 0.8519\n",
      "Epoch 32/500\n",
      "124/124 [==============================] - 0s 2ms/sample - loss: 0.7578 - accuracy: 0.7500 - val_loss: 0.7056 - val_accuracy: 0.8519\n",
      "Epoch 33/500\n",
      "124/124 [==============================] - 0s 2ms/sample - loss: 0.7448 - accuracy: 0.7903 - val_loss: 0.6938 - val_accuracy: 0.8704\n",
      "Epoch 34/500\n",
      "124/124 [==============================] - 0s 1ms/sample - loss: 0.7331 - accuracy: 0.8065 - val_loss: 0.6821 - val_accuracy: 0.8704\n",
      "Epoch 35/500\n",
      "124/124 [==============================] - 0s 1ms/sample - loss: 0.7204 - accuracy: 0.7984 - val_loss: 0.6696 - val_accuracy: 0.8704\n",
      "Epoch 36/500\n",
      "124/124 [==============================] - 0s 2ms/sample - loss: 0.7080 - accuracy: 0.7984 - val_loss: 0.6571 - val_accuracy: 0.8889\n",
      "Epoch 37/500\n",
      "124/124 [==============================] - 0s 1ms/sample - loss: 0.6962 - accuracy: 0.8387 - val_loss: 0.6446 - val_accuracy: 0.8704\n",
      "Epoch 38/500\n",
      "124/124 [==============================] - 0s 2ms/sample - loss: 0.6839 - accuracy: 0.8145 - val_loss: 0.6327 - val_accuracy: 0.9259\n",
      "Epoch 39/500\n",
      "124/124 [==============================] - 0s 2ms/sample - loss: 0.6702 - accuracy: 0.8306 - val_loss: 0.6207 - val_accuracy: 0.9074\n",
      "Epoch 40/500\n",
      "124/124 [==============================] - 0s 1ms/sample - loss: 0.6590 - accuracy: 0.8145 - val_loss: 0.6086 - val_accuracy: 0.9259\n",
      "Epoch 41/500\n",
      "124/124 [==============================] - 0s 2ms/sample - loss: 0.6458 - accuracy: 0.8387 - val_loss: 0.5958 - val_accuracy: 0.9259\n",
      "Epoch 42/500\n",
      "124/124 [==============================] - 0s 2ms/sample - loss: 0.6330 - accuracy: 0.8387 - val_loss: 0.5835 - val_accuracy: 0.9259\n",
      "Epoch 43/500\n",
      "124/124 [==============================] - 0s 1ms/sample - loss: 0.6212 - accuracy: 0.8387 - val_loss: 0.5718 - val_accuracy: 0.9259\n",
      "Epoch 44/500\n",
      "124/124 [==============================] - 0s 1ms/sample - loss: 0.6077 - accuracy: 0.8468 - val_loss: 0.5599 - val_accuracy: 0.9259\n",
      "Epoch 45/500\n",
      "124/124 [==============================] - 0s 1ms/sample - loss: 0.5972 - accuracy: 0.8629 - val_loss: 0.5485 - val_accuracy: 0.9259\n",
      "Epoch 46/500\n",
      "124/124 [==============================] - 0s 2ms/sample - loss: 0.5833 - accuracy: 0.8710 - val_loss: 0.5368 - val_accuracy: 0.9074\n",
      "Epoch 47/500\n",
      "124/124 [==============================] - 0s 2ms/sample - loss: 0.5725 - accuracy: 0.8871 - val_loss: 0.5257 - val_accuracy: 0.9259\n",
      "Epoch 48/500\n",
      "124/124 [==============================] - 0s 2ms/sample - loss: 0.5603 - accuracy: 0.8710 - val_loss: 0.5149 - val_accuracy: 0.9444\n",
      "Epoch 49/500\n",
      "124/124 [==============================] - 0s 2ms/sample - loss: 0.5484 - accuracy: 0.8871 - val_loss: 0.5048 - val_accuracy: 0.9074\n",
      "Epoch 50/500\n",
      "124/124 [==============================] - 0s 2ms/sample - loss: 0.5371 - accuracy: 0.9032 - val_loss: 0.4939 - val_accuracy: 0.9074\n",
      "Epoch 51/500\n",
      "124/124 [==============================] - 0s 1ms/sample - loss: 0.5260 - accuracy: 0.9032 - val_loss: 0.4837 - val_accuracy: 0.9259\n",
      "Epoch 52/500\n",
      "124/124 [==============================] - 0s 2ms/sample - loss: 0.5136 - accuracy: 0.9194 - val_loss: 0.4736 - val_accuracy: 0.9444\n",
      "Epoch 53/500\n",
      "124/124 [==============================] - 0s 2ms/sample - loss: 0.5044 - accuracy: 0.9113 - val_loss: 0.4637 - val_accuracy: 0.9259\n",
      "Epoch 54/500\n",
      "124/124 [==============================] - 0s 2ms/sample - loss: 0.4908 - accuracy: 0.9274 - val_loss: 0.4533 - val_accuracy: 0.9444\n",
      "Epoch 55/500\n",
      "124/124 [==============================] - 0s 2ms/sample - loss: 0.4802 - accuracy: 0.9274 - val_loss: 0.4437 - val_accuracy: 0.9259\n",
      "Epoch 56/500\n",
      "124/124 [==============================] - 0s 2ms/sample - loss: 0.4712 - accuracy: 0.9274 - val_loss: 0.4343 - val_accuracy: 0.9444\n"
     ]
    },
    {
     "name": "stdout",
     "output_type": "stream",
     "text": [
      "Epoch 57/500\n",
      "124/124 [==============================] - 0s 1ms/sample - loss: 0.4649 - accuracy: 0.9355 - val_loss: 0.4255 - val_accuracy: 0.9444\n",
      "Epoch 58/500\n",
      "124/124 [==============================] - 0s 2ms/sample - loss: 0.4494 - accuracy: 0.9355 - val_loss: 0.4168 - val_accuracy: 0.9444\n",
      "Epoch 59/500\n",
      "124/124 [==============================] - 0s 1ms/sample - loss: 0.4408 - accuracy: 0.9355 - val_loss: 0.4074 - val_accuracy: 0.9444\n",
      "Epoch 60/500\n",
      "124/124 [==============================] - 0s 2ms/sample - loss: 0.4307 - accuracy: 0.9355 - val_loss: 0.4003 - val_accuracy: 0.9444\n",
      "Epoch 61/500\n",
      "124/124 [==============================] - 0s 2ms/sample - loss: 0.4205 - accuracy: 0.9355 - val_loss: 0.3923 - val_accuracy: 0.9259\n",
      "Epoch 62/500\n",
      "124/124 [==============================] - 0s 1ms/sample - loss: 0.4115 - accuracy: 0.9355 - val_loss: 0.3830 - val_accuracy: 0.9444\n",
      "Epoch 63/500\n",
      "124/124 [==============================] - 0s 1ms/sample - loss: 0.4022 - accuracy: 0.9355 - val_loss: 0.3756 - val_accuracy: 0.9444\n",
      "Epoch 64/500\n",
      "124/124 [==============================] - 0s 2ms/sample - loss: 0.3940 - accuracy: 0.9274 - val_loss: 0.3663 - val_accuracy: 0.9444\n",
      "Epoch 65/500\n",
      "124/124 [==============================] - 0s 2ms/sample - loss: 0.3833 - accuracy: 0.9355 - val_loss: 0.3586 - val_accuracy: 0.9444\n",
      "Epoch 66/500\n",
      "124/124 [==============================] - 0s 2ms/sample - loss: 0.3738 - accuracy: 0.9355 - val_loss: 0.3512 - val_accuracy: 0.9444\n",
      "Epoch 67/500\n",
      "124/124 [==============================] - 0s 1ms/sample - loss: 0.3672 - accuracy: 0.9355 - val_loss: 0.3433 - val_accuracy: 0.9444\n",
      "Epoch 68/500\n",
      "124/124 [==============================] - 0s 1ms/sample - loss: 0.3560 - accuracy: 0.9355 - val_loss: 0.3352 - val_accuracy: 0.9444\n",
      "Epoch 69/500\n",
      "124/124 [==============================] - 0s 2ms/sample - loss: 0.3521 - accuracy: 0.9516 - val_loss: 0.3285 - val_accuracy: 0.9444\n",
      "Epoch 70/500\n",
      "124/124 [==============================] - 0s 2ms/sample - loss: 0.3412 - accuracy: 0.9355 - val_loss: 0.3232 - val_accuracy: 0.9444\n",
      "Epoch 71/500\n",
      "124/124 [==============================] - 0s 2ms/sample - loss: 0.3330 - accuracy: 0.9435 - val_loss: 0.3169 - val_accuracy: 0.9444\n",
      "Epoch 72/500\n",
      "124/124 [==============================] - 0s 1ms/sample - loss: 0.3263 - accuracy: 0.9516 - val_loss: 0.3098 - val_accuracy: 0.9444\n",
      "Epoch 73/500\n",
      "124/124 [==============================] - 0s 1ms/sample - loss: 0.3179 - accuracy: 0.9516 - val_loss: 0.3032 - val_accuracy: 0.9444\n",
      "Epoch 74/500\n",
      "124/124 [==============================] - 0s 2ms/sample - loss: 0.3117 - accuracy: 0.9435 - val_loss: 0.2964 - val_accuracy: 0.9444\n",
      "Epoch 75/500\n",
      "124/124 [==============================] - 0s 2ms/sample - loss: 0.3038 - accuracy: 0.9435 - val_loss: 0.2918 - val_accuracy: 0.9444\n",
      "Epoch 76/500\n",
      "124/124 [==============================] - 0s 1ms/sample - loss: 0.2968 - accuracy: 0.9516 - val_loss: 0.2848 - val_accuracy: 0.9444\n",
      "Epoch 77/500\n",
      "124/124 [==============================] - 0s 2ms/sample - loss: 0.2892 - accuracy: 0.9435 - val_loss: 0.2794 - val_accuracy: 0.9444\n",
      "Epoch 78/500\n",
      "124/124 [==============================] - ETA: 0s - loss: 0.2715 - accuracy: 0.93 - 0s 2ms/sample - loss: 0.2823 - accuracy: 0.9516 - val_loss: 0.2742 - val_accuracy: 0.9444\n",
      "Epoch 79/500\n",
      "124/124 [==============================] - 0s 2ms/sample - loss: 0.2770 - accuracy: 0.9516 - val_loss: 0.2678 - val_accuracy: 0.9444\n",
      "Epoch 80/500\n",
      "124/124 [==============================] - 0s 2ms/sample - loss: 0.2689 - accuracy: 0.9597 - val_loss: 0.2613 - val_accuracy: 0.9444\n",
      "Epoch 81/500\n",
      "124/124 [==============================] - 0s 1ms/sample - loss: 0.2624 - accuracy: 0.9597 - val_loss: 0.2566 - val_accuracy: 0.9444\n",
      "Epoch 82/500\n",
      "124/124 [==============================] - 0s 2ms/sample - loss: 0.2554 - accuracy: 0.9597 - val_loss: 0.2506 - val_accuracy: 0.9444\n",
      "Epoch 83/500\n",
      "124/124 [==============================] - 0s 2ms/sample - loss: 0.2499 - accuracy: 0.9677 - val_loss: 0.2464 - val_accuracy: 0.9444\n",
      "Epoch 84/500\n",
      "124/124 [==============================] - 0s 2ms/sample - loss: 0.2451 - accuracy: 0.9597 - val_loss: 0.2410 - val_accuracy: 0.9444\n",
      "Epoch 85/500\n",
      "124/124 [==============================] - 0s 2ms/sample - loss: 0.2369 - accuracy: 0.9597 - val_loss: 0.2374 - val_accuracy: 0.9444\n",
      "Epoch 86/500\n",
      "124/124 [==============================] - 0s 2ms/sample - loss: 0.2331 - accuracy: 0.9597 - val_loss: 0.2326 - val_accuracy: 0.9444\n",
      "Epoch 87/500\n",
      "124/124 [==============================] - 0s 2ms/sample - loss: 0.2290 - accuracy: 0.9597 - val_loss: 0.2293 - val_accuracy: 0.9444\n",
      "Epoch 88/500\n",
      "124/124 [==============================] - 0s 1ms/sample - loss: 0.2208 - accuracy: 0.9677 - val_loss: 0.2234 - val_accuracy: 0.9444\n",
      "Epoch 89/500\n",
      "124/124 [==============================] - 0s 2ms/sample - loss: 0.2162 - accuracy: 0.9677 - val_loss: 0.2191 - val_accuracy: 0.9444\n",
      "Epoch 90/500\n",
      "124/124 [==============================] - 0s 1ms/sample - loss: 0.2125 - accuracy: 0.9597 - val_loss: 0.2144 - val_accuracy: 0.9444\n",
      "Epoch 91/500\n",
      "124/124 [==============================] - 0s 1ms/sample - loss: 0.2075 - accuracy: 0.9677 - val_loss: 0.2128 - val_accuracy: 0.9444\n",
      "Epoch 92/500\n",
      "124/124 [==============================] - 0s 2ms/sample - loss: 0.2015 - accuracy: 0.9758 - val_loss: 0.2089 - val_accuracy: 0.9444\n",
      "Epoch 93/500\n",
      "124/124 [==============================] - 0s 1ms/sample - loss: 0.1961 - accuracy: 0.9758 - val_loss: 0.2039 - val_accuracy: 0.9444\n",
      "Epoch 94/500\n",
      "124/124 [==============================] - 0s 1ms/sample - loss: 0.1917 - accuracy: 0.9677 - val_loss: 0.1991 - val_accuracy: 0.9444\n",
      "Epoch 95/500\n",
      "124/124 [==============================] - 0s 2ms/sample - loss: 0.1870 - accuracy: 0.9677 - val_loss: 0.1968 - val_accuracy: 0.9444\n",
      "Epoch 96/500\n",
      "124/124 [==============================] - 0s 1ms/sample - loss: 0.1814 - accuracy: 0.9839 - val_loss: 0.1907 - val_accuracy: 0.9444\n",
      "Epoch 97/500\n",
      "124/124 [==============================] - 0s 2ms/sample - loss: 0.1773 - accuracy: 0.9758 - val_loss: 0.1868 - val_accuracy: 0.9444\n",
      "Epoch 98/500\n",
      "124/124 [==============================] - 0s 2ms/sample - loss: 0.1725 - accuracy: 0.9758 - val_loss: 0.1828 - val_accuracy: 0.9444\n",
      "Epoch 99/500\n",
      "124/124 [==============================] - 0s 2ms/sample - loss: 0.1691 - accuracy: 0.9677 - val_loss: 0.1805 - val_accuracy: 0.9444\n",
      "Epoch 100/500\n",
      "124/124 [==============================] - 0s 1ms/sample - loss: 0.1669 - accuracy: 0.9758 - val_loss: 0.1761 - val_accuracy: 0.9444\n",
      "Epoch 101/500\n",
      "124/124 [==============================] - 0s 2ms/sample - loss: 0.1605 - accuracy: 0.9677 - val_loss: 0.1737 - val_accuracy: 0.9444\n",
      "Epoch 102/500\n",
      "124/124 [==============================] - 0s 2ms/sample - loss: 0.1573 - accuracy: 0.9839 - val_loss: 0.1696 - val_accuracy: 0.9444\n",
      "Epoch 103/500\n",
      "124/124 [==============================] - 0s 1ms/sample - loss: 0.1546 - accuracy: 0.9758 - val_loss: 0.1664 - val_accuracy: 0.9444\n",
      "Epoch 104/500\n",
      "124/124 [==============================] - 0s 2ms/sample - loss: 0.1514 - accuracy: 0.9677 - val_loss: 0.1657 - val_accuracy: 0.9444\n",
      "Epoch 105/500\n",
      "124/124 [==============================] - 0s 1ms/sample - loss: 0.1469 - accuracy: 0.9758 - val_loss: 0.1627 - val_accuracy: 0.9444\n",
      "Epoch 106/500\n",
      "124/124 [==============================] - 0s 2ms/sample - loss: 0.1464 - accuracy: 0.9839 - val_loss: 0.1586 - val_accuracy: 0.9444\n",
      "Epoch 107/500\n",
      "124/124 [==============================] - 0s 1ms/sample - loss: 0.1413 - accuracy: 0.9677 - val_loss: 0.1557 - val_accuracy: 0.9444\n",
      "Epoch 108/500\n",
      "124/124 [==============================] - 0s 2ms/sample - loss: 0.1394 - accuracy: 0.9758 - val_loss: 0.1554 - val_accuracy: 0.9444\n",
      "Epoch 109/500\n",
      "124/124 [==============================] - 0s 1ms/sample - loss: 0.1410 - accuracy: 0.9758 - val_loss: 0.1544 - val_accuracy: 0.9444\n",
      "Epoch 110/500\n",
      "124/124 [==============================] - 0s 1ms/sample - loss: 0.1336 - accuracy: 0.9758 - val_loss: 0.1516 - val_accuracy: 0.9444\n",
      "Epoch 111/500\n",
      "124/124 [==============================] - 0s 2ms/sample - loss: 0.1317 - accuracy: 0.9839 - val_loss: 0.1497 - val_accuracy: 0.9444\n",
      "Epoch 112/500\n",
      "124/124 [==============================] - 0s 2ms/sample - loss: 0.1286 - accuracy: 0.9839 - val_loss: 0.1450 - val_accuracy: 0.9444\n"
     ]
    },
    {
     "name": "stdout",
     "output_type": "stream",
     "text": [
      "Epoch 113/500\n",
      "124/124 [==============================] - 0s 2ms/sample - loss: 0.1266 - accuracy: 0.9758 - val_loss: 0.1420 - val_accuracy: 0.9444\n",
      "Epoch 114/500\n",
      "124/124 [==============================] - 0s 1ms/sample - loss: 0.1246 - accuracy: 0.9919 - val_loss: 0.1400 - val_accuracy: 0.9630\n",
      "Epoch 115/500\n",
      "124/124 [==============================] - 0s 2ms/sample - loss: 0.1216 - accuracy: 0.9758 - val_loss: 0.1397 - val_accuracy: 0.9444\n",
      "Epoch 116/500\n",
      "124/124 [==============================] - 0s 1ms/sample - loss: 0.1191 - accuracy: 0.9839 - val_loss: 0.1368 - val_accuracy: 0.9630\n",
      "Epoch 117/500\n",
      "124/124 [==============================] - 0s 1ms/sample - loss: 0.1180 - accuracy: 0.9839 - val_loss: 0.1365 - val_accuracy: 0.9444\n",
      "Epoch 118/500\n",
      "124/124 [==============================] - 0s 1ms/sample - loss: 0.1165 - accuracy: 0.9839 - val_loss: 0.1338 - val_accuracy: 0.9444\n",
      "Epoch 119/500\n",
      "124/124 [==============================] - 0s 2ms/sample - loss: 0.1137 - accuracy: 0.9839 - val_loss: 0.1321 - val_accuracy: 0.9444\n",
      "Epoch 120/500\n",
      "124/124 [==============================] - 0s 1ms/sample - loss: 0.1137 - accuracy: 0.9839 - val_loss: 0.1299 - val_accuracy: 0.9444\n",
      "Epoch 121/500\n",
      "124/124 [==============================] - 0s 1ms/sample - loss: 0.1080 - accuracy: 0.9919 - val_loss: 0.1282 - val_accuracy: 0.9444\n",
      "Epoch 122/500\n",
      "124/124 [==============================] - 0s 1ms/sample - loss: 0.1098 - accuracy: 0.9839 - val_loss: 0.1275 - val_accuracy: 0.9444\n",
      "Epoch 123/500\n",
      "124/124 [==============================] - 0s 1ms/sample - loss: 0.1070 - accuracy: 0.9919 - val_loss: 0.1250 - val_accuracy: 0.9630\n",
      "Epoch 124/500\n",
      "124/124 [==============================] - 0s 2ms/sample - loss: 0.1036 - accuracy: 0.9839 - val_loss: 0.1244 - val_accuracy: 0.9444\n",
      "Epoch 125/500\n",
      "124/124 [==============================] - 0s 1ms/sample - loss: 0.1024 - accuracy: 0.9919 - val_loss: 0.1209 - val_accuracy: 0.9630\n",
      "Epoch 126/500\n",
      "124/124 [==============================] - 0s 2ms/sample - loss: 0.1015 - accuracy: 0.9839 - val_loss: 0.1196 - val_accuracy: 0.9444\n",
      "Epoch 127/500\n",
      "124/124 [==============================] - 0s 2ms/sample - loss: 0.1005 - accuracy: 0.9839 - val_loss: 0.1185 - val_accuracy: 0.9444\n",
      "Epoch 128/500\n",
      "124/124 [==============================] - 0s 2ms/sample - loss: 0.0990 - accuracy: 0.9839 - val_loss: 0.1175 - val_accuracy: 0.9444\n",
      "Epoch 129/500\n",
      "124/124 [==============================] - 0s 1ms/sample - loss: 0.0998 - accuracy: 0.9919 - val_loss: 0.1150 - val_accuracy: 0.9630\n",
      "Epoch 130/500\n",
      "124/124 [==============================] - 0s 2ms/sample - loss: 0.0953 - accuracy: 0.9919 - val_loss: 0.1144 - val_accuracy: 0.9630\n",
      "Epoch 131/500\n",
      "124/124 [==============================] - 0s 1ms/sample - loss: 0.0937 - accuracy: 0.9839 - val_loss: 0.1137 - val_accuracy: 0.9444\n",
      "Epoch 132/500\n",
      "124/124 [==============================] - 0s 1ms/sample - loss: 0.0928 - accuracy: 0.9919 - val_loss: 0.1118 - val_accuracy: 0.9630\n",
      "Epoch 133/500\n",
      "124/124 [==============================] - 0s 2ms/sample - loss: 0.0900 - accuracy: 0.9839 - val_loss: 0.1104 - val_accuracy: 0.9630\n",
      "Epoch 134/500\n",
      "124/124 [==============================] - 0s 2ms/sample - loss: 0.0892 - accuracy: 0.9839 - val_loss: 0.1081 - val_accuracy: 0.9630\n",
      "Epoch 135/500\n",
      "124/124 [==============================] - 0s 1ms/sample - loss: 0.0878 - accuracy: 0.9919 - val_loss: 0.1071 - val_accuracy: 0.9630\n",
      "Epoch 136/500\n",
      "124/124 [==============================] - 0s 1ms/sample - loss: 0.0866 - accuracy: 0.9919 - val_loss: 0.1049 - val_accuracy: 0.9630\n",
      "Epoch 137/500\n",
      "124/124 [==============================] - 0s 1ms/sample - loss: 0.0853 - accuracy: 0.9839 - val_loss: 0.1025 - val_accuracy: 0.9630\n",
      "Epoch 138/500\n",
      "124/124 [==============================] - 0s 2ms/sample - loss: 0.0856 - accuracy: 0.9839 - val_loss: 0.1023 - val_accuracy: 0.9630\n",
      "Epoch 139/500\n",
      "124/124 [==============================] - 0s 1ms/sample - loss: 0.0849 - accuracy: 0.9839 - val_loss: 0.1006 - val_accuracy: 0.9630\n",
      "Epoch 140/500\n",
      "124/124 [==============================] - 0s 1ms/sample - loss: 0.0818 - accuracy: 0.9919 - val_loss: 0.0993 - val_accuracy: 0.9630\n",
      "Epoch 141/500\n",
      "124/124 [==============================] - 0s 2ms/sample - loss: 0.0819 - accuracy: 0.9919 - val_loss: 0.0984 - val_accuracy: 0.9630\n",
      "Epoch 142/500\n",
      "124/124 [==============================] - 0s 2ms/sample - loss: 0.0798 - accuracy: 0.9919 - val_loss: 0.0970 - val_accuracy: 0.9630\n",
      "Epoch 143/500\n",
      "124/124 [==============================] - 0s 1ms/sample - loss: 0.0816 - accuracy: 0.9919 - val_loss: 0.0964 - val_accuracy: 0.9630\n",
      "Epoch 144/500\n",
      "124/124 [==============================] - 0s 1ms/sample - loss: 0.0784 - accuracy: 0.9919 - val_loss: 0.0964 - val_accuracy: 0.9630\n",
      "Epoch 145/500\n",
      "124/124 [==============================] - 0s 2ms/sample - loss: 0.0766 - accuracy: 0.9919 - val_loss: 0.0945 - val_accuracy: 0.9630\n",
      "Epoch 146/500\n",
      "124/124 [==============================] - 0s 2ms/sample - loss: 0.0765 - accuracy: 0.9919 - val_loss: 0.0945 - val_accuracy: 0.9630\n",
      "Epoch 147/500\n",
      "124/124 [==============================] - 0s 1ms/sample - loss: 0.0752 - accuracy: 0.9919 - val_loss: 0.0932 - val_accuracy: 0.9630\n",
      "Epoch 148/500\n",
      "124/124 [==============================] - 0s 1ms/sample - loss: 0.0734 - accuracy: 0.9919 - val_loss: 0.0920 - val_accuracy: 0.9630\n",
      "Epoch 149/500\n",
      "124/124 [==============================] - 0s 2ms/sample - loss: 0.0735 - accuracy: 0.9919 - val_loss: 0.0920 - val_accuracy: 0.9630\n",
      "Epoch 150/500\n",
      "124/124 [==============================] - 0s 1ms/sample - loss: 0.0713 - accuracy: 0.9919 - val_loss: 0.0896 - val_accuracy: 0.9630\n",
      "Epoch 151/500\n",
      "124/124 [==============================] - 0s 1ms/sample - loss: 0.0720 - accuracy: 0.9919 - val_loss: 0.0890 - val_accuracy: 0.9630\n",
      "Epoch 152/500\n",
      "124/124 [==============================] - 0s 1ms/sample - loss: 0.0707 - accuracy: 0.9919 - val_loss: 0.0875 - val_accuracy: 0.9630\n",
      "Epoch 153/500\n",
      "124/124 [==============================] - 0s 2ms/sample - loss: 0.0699 - accuracy: 0.9919 - val_loss: 0.0871 - val_accuracy: 0.9630\n",
      "Epoch 154/500\n",
      "124/124 [==============================] - 0s 1ms/sample - loss: 0.0697 - accuracy: 0.9919 - val_loss: 0.0855 - val_accuracy: 0.9630\n",
      "Epoch 155/500\n",
      "124/124 [==============================] - 0s 2ms/sample - loss: 0.0672 - accuracy: 0.9919 - val_loss: 0.0848 - val_accuracy: 0.9630\n",
      "Epoch 156/500\n",
      "124/124 [==============================] - 0s 2ms/sample - loss: 0.0667 - accuracy: 0.9919 - val_loss: 0.0845 - val_accuracy: 0.9630\n",
      "Epoch 157/500\n",
      "124/124 [==============================] - 0s 1ms/sample - loss: 0.0667 - accuracy: 0.9839 - val_loss: 0.0822 - val_accuracy: 0.9630\n",
      "Epoch 158/500\n",
      "124/124 [==============================] - 0s 1ms/sample - loss: 0.0646 - accuracy: 0.9919 - val_loss: 0.0816 - val_accuracy: 0.9630\n",
      "Epoch 159/500\n",
      "124/124 [==============================] - 0s 1ms/sample - loss: 0.0652 - accuracy: 0.9919 - val_loss: 0.0810 - val_accuracy: 0.9630\n",
      "Epoch 160/500\n",
      "124/124 [==============================] - 0s 2ms/sample - loss: 0.0644 - accuracy: 0.9919 - val_loss: 0.0800 - val_accuracy: 0.9630\n",
      "Epoch 161/500\n",
      "124/124 [==============================] - 0s 2ms/sample - loss: 0.0636 - accuracy: 0.9919 - val_loss: 0.0782 - val_accuracy: 0.9815\n",
      "Epoch 162/500\n",
      "124/124 [==============================] - 0s 2ms/sample - loss: 0.0615 - accuracy: 0.9919 - val_loss: 0.0775 - val_accuracy: 0.9815\n",
      "Epoch 163/500\n",
      "124/124 [==============================] - 0s 1ms/sample - loss: 0.0605 - accuracy: 0.9919 - val_loss: 0.0767 - val_accuracy: 0.9630\n",
      "Epoch 164/500\n",
      "124/124 [==============================] - 0s 1ms/sample - loss: 0.0594 - accuracy: 0.9919 - val_loss: 0.0764 - val_accuracy: 0.9815\n",
      "Epoch 165/500\n",
      "124/124 [==============================] - 0s 2ms/sample - loss: 0.0602 - accuracy: 0.9919 - val_loss: 0.0755 - val_accuracy: 0.9815\n",
      "Epoch 166/500\n",
      "124/124 [==============================] - 0s 1ms/sample - loss: 0.0582 - accuracy: 0.9919 - val_loss: 0.0757 - val_accuracy: 0.9630\n",
      "Epoch 167/500\n",
      "124/124 [==============================] - 0s 2ms/sample - loss: 0.0574 - accuracy: 0.9919 - val_loss: 0.0731 - val_accuracy: 0.9815\n",
      "Epoch 168/500\n",
      "124/124 [==============================] - 0s 2ms/sample - loss: 0.0573 - accuracy: 0.9919 - val_loss: 0.0727 - val_accuracy: 0.9815\n"
     ]
    },
    {
     "name": "stdout",
     "output_type": "stream",
     "text": [
      "Epoch 169/500\n",
      "124/124 [==============================] - 0s 2ms/sample - loss: 0.0578 - accuracy: 0.9919 - val_loss: 0.0720 - val_accuracy: 0.9815\n",
      "Epoch 170/500\n",
      "124/124 [==============================] - 0s 1ms/sample - loss: 0.0571 - accuracy: 0.9919 - val_loss: 0.0715 - val_accuracy: 0.9815\n",
      "Epoch 171/500\n",
      "124/124 [==============================] - 0s 2ms/sample - loss: 0.0546 - accuracy: 0.9919 - val_loss: 0.0710 - val_accuracy: 0.9815\n",
      "Epoch 172/500\n",
      "124/124 [==============================] - 0s 1ms/sample - loss: 0.0537 - accuracy: 0.9919 - val_loss: 0.0696 - val_accuracy: 0.9815\n",
      "Epoch 173/500\n",
      "124/124 [==============================] - 0s 2ms/sample - loss: 0.0552 - accuracy: 0.9919 - val_loss: 0.0684 - val_accuracy: 0.9815\n",
      "Epoch 174/500\n",
      "124/124 [==============================] - 0s 2ms/sample - loss: 0.0535 - accuracy: 0.9919 - val_loss: 0.0677 - val_accuracy: 0.9815\n",
      "Epoch 175/500\n",
      "124/124 [==============================] - 0s 1ms/sample - loss: 0.0528 - accuracy: 0.9919 - val_loss: 0.0679 - val_accuracy: 0.9815\n",
      "Epoch 176/500\n",
      "124/124 [==============================] - 0s 2ms/sample - loss: 0.0527 - accuracy: 0.9919 - val_loss: 0.0672 - val_accuracy: 0.9815\n",
      "Epoch 177/500\n",
      "124/124 [==============================] - 0s 1ms/sample - loss: 0.0511 - accuracy: 0.9919 - val_loss: 0.0669 - val_accuracy: 0.9815\n",
      "Epoch 178/500\n",
      "124/124 [==============================] - 0s 1ms/sample - loss: 0.0501 - accuracy: 0.9919 - val_loss: 0.0653 - val_accuracy: 0.9815\n",
      "Epoch 179/500\n",
      "124/124 [==============================] - 0s 2ms/sample - loss: 0.0503 - accuracy: 0.9919 - val_loss: 0.0651 - val_accuracy: 0.9815\n",
      "Epoch 180/500\n",
      "124/124 [==============================] - 0s 2ms/sample - loss: 0.0497 - accuracy: 0.9919 - val_loss: 0.0646 - val_accuracy: 0.9815\n",
      "Epoch 181/500\n",
      "124/124 [==============================] - 0s 1ms/sample - loss: 0.0512 - accuracy: 0.9919 - val_loss: 0.0643 - val_accuracy: 0.9815\n",
      "Epoch 182/500\n",
      "124/124 [==============================] - 0s 2ms/sample - loss: 0.0478 - accuracy: 0.9919 - val_loss: 0.0640 - val_accuracy: 0.9815\n",
      "Epoch 183/500\n",
      "124/124 [==============================] - 0s 2ms/sample - loss: 0.0484 - accuracy: 0.9919 - val_loss: 0.0630 - val_accuracy: 0.9815\n",
      "Epoch 184/500\n",
      "124/124 [==============================] - 0s 1ms/sample - loss: 0.0483 - accuracy: 0.9919 - val_loss: 0.0618 - val_accuracy: 0.9815\n",
      "Epoch 185/500\n",
      "124/124 [==============================] - 0s 1ms/sample - loss: 0.0500 - accuracy: 0.9919 - val_loss: 0.0613 - val_accuracy: 0.9815\n",
      "Epoch 186/500\n",
      "124/124 [==============================] - 0s 1ms/sample - loss: 0.0458 - accuracy: 0.9919 - val_loss: 0.0604 - val_accuracy: 0.9815\n",
      "Epoch 187/500\n",
      "124/124 [==============================] - 0s 2ms/sample - loss: 0.0463 - accuracy: 0.9919 - val_loss: 0.0599 - val_accuracy: 0.9815\n",
      "Epoch 188/500\n",
      "124/124 [==============================] - 0s 2ms/sample - loss: 0.0444 - accuracy: 0.9919 - val_loss: 0.0595 - val_accuracy: 0.9815\n",
      "Epoch 189/500\n",
      "124/124 [==============================] - 0s 2ms/sample - loss: 0.0458 - accuracy: 0.9919 - val_loss: 0.0585 - val_accuracy: 0.9815\n",
      "Epoch 190/500\n",
      "124/124 [==============================] - 0s 2ms/sample - loss: 0.0470 - accuracy: 0.9919 - val_loss: 0.0583 - val_accuracy: 0.9815\n",
      "Epoch 191/500\n",
      "124/124 [==============================] - 0s 1ms/sample - loss: 0.0439 - accuracy: 0.9919 - val_loss: 0.0578 - val_accuracy: 0.9815\n",
      "Epoch 192/500\n",
      "124/124 [==============================] - 0s 1ms/sample - loss: 0.0426 - accuracy: 0.9919 - val_loss: 0.0579 - val_accuracy: 0.9815\n",
      "Epoch 193/500\n",
      "124/124 [==============================] - 0s 2ms/sample - loss: 0.0435 - accuracy: 0.9919 - val_loss: 0.0577 - val_accuracy: 0.9815\n",
      "Epoch 194/500\n",
      "124/124 [==============================] - 0s 2ms/sample - loss: 0.0423 - accuracy: 0.9919 - val_loss: 0.0561 - val_accuracy: 0.9815\n",
      "Epoch 195/500\n",
      "124/124 [==============================] - 0s 2ms/sample - loss: 0.0424 - accuracy: 0.9919 - val_loss: 0.0558 - val_accuracy: 0.9815\n",
      "Epoch 196/500\n",
      "124/124 [==============================] - 0s 1ms/sample - loss: 0.0421 - accuracy: 0.9919 - val_loss: 0.0553 - val_accuracy: 0.9815\n",
      "Epoch 197/500\n",
      "124/124 [==============================] - 0s 1ms/sample - loss: 0.0420 - accuracy: 0.9919 - val_loss: 0.0547 - val_accuracy: 0.9815\n",
      "Epoch 198/500\n",
      "124/124 [==============================] - 0s 2ms/sample - loss: 0.0408 - accuracy: 0.9919 - val_loss: 0.0538 - val_accuracy: 0.9815\n",
      "Epoch 199/500\n",
      "124/124 [==============================] - 0s 2ms/sample - loss: 0.0414 - accuracy: 0.9919 - val_loss: 0.0551 - val_accuracy: 0.9815\n",
      "Epoch 200/500\n",
      "124/124 [==============================] - 0s 2ms/sample - loss: 0.0413 - accuracy: 0.9919 - val_loss: 0.0562 - val_accuracy: 0.9815\n",
      "Epoch 201/500\n",
      "124/124 [==============================] - 0s 2ms/sample - loss: 0.0400 - accuracy: 0.9919 - val_loss: 0.0544 - val_accuracy: 0.9815\n",
      "Epoch 202/500\n",
      "124/124 [==============================] - 0s 2ms/sample - loss: 0.0397 - accuracy: 0.9919 - val_loss: 0.0527 - val_accuracy: 0.9815\n",
      "Epoch 203/500\n",
      "124/124 [==============================] - 0s 1ms/sample - loss: 0.0407 - accuracy: 0.9919 - val_loss: 0.0528 - val_accuracy: 0.9815\n",
      "Epoch 204/500\n",
      "124/124 [==============================] - 0s 1ms/sample - loss: 0.0375 - accuracy: 0.9919 - val_loss: 0.0528 - val_accuracy: 0.9815\n",
      "Epoch 205/500\n",
      "124/124 [==============================] - 0s 1ms/sample - loss: 0.0386 - accuracy: 0.9919 - val_loss: 0.0514 - val_accuracy: 0.9815\n",
      "Epoch 206/500\n",
      "124/124 [==============================] - 0s 2ms/sample - loss: 0.0377 - accuracy: 0.9919 - val_loss: 0.0523 - val_accuracy: 0.9815\n",
      "Epoch 207/500\n",
      "124/124 [==============================] - 0s 1ms/sample - loss: 0.0360 - accuracy: 0.9919 - val_loss: 0.0501 - val_accuracy: 0.9815\n",
      "Epoch 208/500\n",
      "124/124 [==============================] - 0s 1ms/sample - loss: 0.0375 - accuracy: 0.9919 - val_loss: 0.0514 - val_accuracy: 0.9815\n",
      "Epoch 209/500\n",
      "124/124 [==============================] - 0s 2ms/sample - loss: 0.0376 - accuracy: 0.9919 - val_loss: 0.0517 - val_accuracy: 0.9815\n",
      "Epoch 210/500\n",
      "124/124 [==============================] - 0s 2ms/sample - loss: 0.0358 - accuracy: 0.9919 - val_loss: 0.0501 - val_accuracy: 0.9815\n",
      "Epoch 211/500\n",
      "124/124 [==============================] - 0s 2ms/sample - loss: 0.0351 - accuracy: 0.9919 - val_loss: 0.0495 - val_accuracy: 0.9815\n",
      "Epoch 212/500\n",
      "124/124 [==============================] - 0s 1ms/sample - loss: 0.0349 - accuracy: 0.9919 - val_loss: 0.0482 - val_accuracy: 1.0000\n",
      "Epoch 213/500\n",
      "124/124 [==============================] - 0s 1ms/sample - loss: 0.0339 - accuracy: 0.9919 - val_loss: 0.0484 - val_accuracy: 0.9815\n",
      "Epoch 214/500\n",
      "124/124 [==============================] - 0s 2ms/sample - loss: 0.0345 - accuracy: 0.9919 - val_loss: 0.0495 - val_accuracy: 0.9815\n",
      "Epoch 215/500\n",
      "124/124 [==============================] - 0s 2ms/sample - loss: 0.0342 - accuracy: 0.9919 - val_loss: 0.0469 - val_accuracy: 1.0000\n",
      "Epoch 216/500\n",
      "124/124 [==============================] - 0s 1ms/sample - loss: 0.0329 - accuracy: 0.9919 - val_loss: 0.0469 - val_accuracy: 0.9815\n",
      "Epoch 217/500\n",
      "124/124 [==============================] - 0s 2ms/sample - loss: 0.0345 - accuracy: 0.9919 - val_loss: 0.0471 - val_accuracy: 0.9815\n",
      "Epoch 218/500\n",
      "124/124 [==============================] - 0s 2ms/sample - loss: 0.0337 - accuracy: 0.9919 - val_loss: 0.0465 - val_accuracy: 0.9815\n",
      "Epoch 219/500\n",
      "124/124 [==============================] - 0s 2ms/sample - loss: 0.0334 - accuracy: 0.9919 - val_loss: 0.0462 - val_accuracy: 0.9815\n",
      "Epoch 220/500\n",
      "124/124 [==============================] - 0s 2ms/sample - loss: 0.0318 - accuracy: 0.9919 - val_loss: 0.0470 - val_accuracy: 0.9815\n",
      "Epoch 221/500\n",
      "124/124 [==============================] - 0s 1ms/sample - loss: 0.0315 - accuracy: 1.0000 - val_loss: 0.0441 - val_accuracy: 1.0000\n",
      "Epoch 222/500\n",
      "124/124 [==============================] - 0s 2ms/sample - loss: 0.0311 - accuracy: 0.9919 - val_loss: 0.0441 - val_accuracy: 1.0000\n",
      "Epoch 223/500\n",
      "124/124 [==============================] - 0s 2ms/sample - loss: 0.0301 - accuracy: 0.9919 - val_loss: 0.0435 - val_accuracy: 1.0000\n",
      "Epoch 224/500\n",
      "124/124 [==============================] - 0s 2ms/sample - loss: 0.0304 - accuracy: 0.9919 - val_loss: 0.0445 - val_accuracy: 1.0000\n"
     ]
    },
    {
     "name": "stdout",
     "output_type": "stream",
     "text": [
      "Epoch 225/500\n",
      "124/124 [==============================] - 0s 2ms/sample - loss: 0.0294 - accuracy: 0.9919 - val_loss: 0.0427 - val_accuracy: 1.0000\n",
      "Epoch 226/500\n",
      "124/124 [==============================] - 0s 1ms/sample - loss: 0.0295 - accuracy: 0.9919 - val_loss: 0.0420 - val_accuracy: 1.0000\n",
      "Epoch 227/500\n",
      "124/124 [==============================] - 0s 2ms/sample - loss: 0.0294 - accuracy: 0.9919 - val_loss: 0.0443 - val_accuracy: 0.9815\n",
      "Epoch 228/500\n",
      "124/124 [==============================] - 0s 2ms/sample - loss: 0.0278 - accuracy: 1.0000 - val_loss: 0.0414 - val_accuracy: 1.0000\n",
      "Epoch 229/500\n",
      "124/124 [==============================] - 0s 1ms/sample - loss: 0.0318 - accuracy: 0.9919 - val_loss: 0.0428 - val_accuracy: 1.0000\n",
      "Epoch 230/500\n",
      "124/124 [==============================] - 0s 2ms/sample - loss: 0.0274 - accuracy: 0.9919 - val_loss: 0.0416 - val_accuracy: 1.0000\n",
      "Epoch 231/500\n",
      "124/124 [==============================] - 0s 1ms/sample - loss: 0.0286 - accuracy: 0.9919 - val_loss: 0.0419 - val_accuracy: 1.0000\n",
      "Epoch 232/500\n",
      "124/124 [==============================] - 0s 2ms/sample - loss: 0.0267 - accuracy: 1.0000 - val_loss: 0.0397 - val_accuracy: 1.0000\n",
      "Epoch 233/500\n",
      "124/124 [==============================] - 0s 2ms/sample - loss: 0.0274 - accuracy: 0.9919 - val_loss: 0.0418 - val_accuracy: 1.0000\n",
      "Epoch 234/500\n",
      "124/124 [==============================] - 0s 2ms/sample - loss: 0.0262 - accuracy: 1.0000 - val_loss: 0.0399 - val_accuracy: 1.0000\n",
      "Epoch 235/500\n",
      "124/124 [==============================] - 0s 2ms/sample - loss: 0.0262 - accuracy: 1.0000 - val_loss: 0.0390 - val_accuracy: 1.0000\n",
      "Epoch 236/500\n",
      "124/124 [==============================] - 0s 1ms/sample - loss: 0.0264 - accuracy: 1.0000 - val_loss: 0.0385 - val_accuracy: 1.0000\n",
      "Epoch 237/500\n",
      "124/124 [==============================] - 0s 2ms/sample - loss: 0.0258 - accuracy: 0.9919 - val_loss: 0.0396 - val_accuracy: 1.0000\n",
      "Epoch 238/500\n",
      "124/124 [==============================] - 0s 1ms/sample - loss: 0.0249 - accuracy: 1.0000 - val_loss: 0.0407 - val_accuracy: 1.0000\n",
      "Epoch 239/500\n",
      "124/124 [==============================] - 0s 2ms/sample - loss: 0.0244 - accuracy: 1.0000 - val_loss: 0.0374 - val_accuracy: 1.0000\n",
      "Epoch 240/500\n",
      "124/124 [==============================] - 0s 1ms/sample - loss: 0.0260 - accuracy: 0.9919 - val_loss: 0.0372 - val_accuracy: 1.0000\n",
      "Epoch 241/500\n",
      "124/124 [==============================] - 0s 1ms/sample - loss: 0.0246 - accuracy: 0.9919 - val_loss: 0.0386 - val_accuracy: 1.0000\n",
      "Epoch 242/500\n",
      "124/124 [==============================] - 0s 2ms/sample - loss: 0.0238 - accuracy: 1.0000 - val_loss: 0.0365 - val_accuracy: 1.0000\n",
      "Epoch 243/500\n",
      "124/124 [==============================] - 0s 2ms/sample - loss: 0.0239 - accuracy: 0.9919 - val_loss: 0.0382 - val_accuracy: 1.0000\n",
      "Epoch 244/500\n",
      "124/124 [==============================] - 0s 2ms/sample - loss: 0.0245 - accuracy: 1.0000 - val_loss: 0.0392 - val_accuracy: 1.0000\n",
      "Epoch 245/500\n",
      "124/124 [==============================] - 0s 2ms/sample - loss: 0.0241 - accuracy: 1.0000 - val_loss: 0.0364 - val_accuracy: 1.0000\n",
      "Epoch 246/500\n",
      "124/124 [==============================] - 0s 2ms/sample - loss: 0.0226 - accuracy: 1.0000 - val_loss: 0.0358 - val_accuracy: 1.0000\n",
      "Epoch 247/500\n",
      "124/124 [==============================] - 0s 1ms/sample - loss: 0.0225 - accuracy: 1.0000 - val_loss: 0.0370 - val_accuracy: 1.0000\n",
      "Epoch 248/500\n",
      "124/124 [==============================] - 0s 2ms/sample - loss: 0.0217 - accuracy: 1.0000 - val_loss: 0.0354 - val_accuracy: 1.0000\n",
      "Epoch 249/500\n",
      "124/124 [==============================] - 0s 1ms/sample - loss: 0.0224 - accuracy: 1.0000 - val_loss: 0.0342 - val_accuracy: 1.0000\n",
      "Epoch 250/500\n",
      "124/124 [==============================] - 0s 2ms/sample - loss: 0.0218 - accuracy: 1.0000 - val_loss: 0.0354 - val_accuracy: 1.0000\n",
      "Epoch 251/500\n",
      "124/124 [==============================] - 0s 1ms/sample - loss: 0.0225 - accuracy: 0.9919 - val_loss: 0.0363 - val_accuracy: 1.0000\n",
      "Epoch 252/500\n",
      "124/124 [==============================] - 0s 2ms/sample - loss: 0.0207 - accuracy: 1.0000 - val_loss: 0.0342 - val_accuracy: 1.0000\n",
      "Epoch 253/500\n",
      "124/124 [==============================] - 0s 2ms/sample - loss: 0.0208 - accuracy: 1.0000 - val_loss: 0.0340 - val_accuracy: 1.0000\n",
      "Epoch 254/500\n",
      "124/124 [==============================] - 0s 2ms/sample - loss: 0.0209 - accuracy: 1.0000 - val_loss: 0.0358 - val_accuracy: 1.0000\n",
      "Epoch 255/500\n",
      "124/124 [==============================] - 0s 2ms/sample - loss: 0.0199 - accuracy: 1.0000 - val_loss: 0.0324 - val_accuracy: 1.0000\n",
      "Epoch 256/500\n",
      "124/124 [==============================] - 0s 2ms/sample - loss: 0.0209 - accuracy: 1.0000 - val_loss: 0.0323 - val_accuracy: 1.0000\n",
      "Epoch 257/500\n",
      "124/124 [==============================] - 0s 2ms/sample - loss: 0.0196 - accuracy: 1.0000 - val_loss: 0.0332 - val_accuracy: 1.0000\n",
      "Epoch 258/500\n",
      "124/124 [==============================] - 0s 2ms/sample - loss: 0.0193 - accuracy: 1.0000 - val_loss: 0.0319 - val_accuracy: 1.0000\n",
      "Epoch 259/500\n",
      "124/124 [==============================] - 0s 2ms/sample - loss: 0.0192 - accuracy: 1.0000 - val_loss: 0.0311 - val_accuracy: 1.0000\n",
      "Epoch 260/500\n",
      "124/124 [==============================] - 0s 2ms/sample - loss: 0.0199 - accuracy: 1.0000 - val_loss: 0.0315 - val_accuracy: 1.0000\n",
      "Epoch 261/500\n",
      "124/124 [==============================] - 0s 2ms/sample - loss: 0.0195 - accuracy: 1.0000 - val_loss: 0.0305 - val_accuracy: 1.0000\n",
      "Epoch 262/500\n",
      "124/124 [==============================] - 0s 2ms/sample - loss: 0.0198 - accuracy: 0.9919 - val_loss: 0.0326 - val_accuracy: 1.0000\n",
      "Epoch 263/500\n",
      "124/124 [==============================] - 0s 2ms/sample - loss: 0.0188 - accuracy: 1.0000 - val_loss: 0.0326 - val_accuracy: 1.0000\n",
      "Epoch 264/500\n",
      "124/124 [==============================] - 0s 2ms/sample - loss: 0.0183 - accuracy: 1.0000 - val_loss: 0.0301 - val_accuracy: 1.0000\n",
      "Epoch 265/500\n",
      "124/124 [==============================] - 0s 2ms/sample - loss: 0.0175 - accuracy: 1.0000 - val_loss: 0.0298 - val_accuracy: 1.0000\n",
      "Epoch 266/500\n",
      "124/124 [==============================] - 0s 2ms/sample - loss: 0.0173 - accuracy: 1.0000 - val_loss: 0.0293 - val_accuracy: 1.0000\n",
      "Epoch 267/500\n",
      "124/124 [==============================] - 0s 2ms/sample - loss: 0.0186 - accuracy: 1.0000 - val_loss: 0.0293 - val_accuracy: 1.0000\n",
      "Epoch 268/500\n",
      "124/124 [==============================] - 0s 2ms/sample - loss: 0.0172 - accuracy: 1.0000 - val_loss: 0.0311 - val_accuracy: 1.0000\n",
      "Epoch 269/500\n",
      "124/124 [==============================] - 0s 1ms/sample - loss: 0.0170 - accuracy: 1.0000 - val_loss: 0.0311 - val_accuracy: 1.0000\n",
      "Epoch 270/500\n",
      "124/124 [==============================] - 0s 1ms/sample - loss: 0.0171 - accuracy: 1.0000 - val_loss: 0.0305 - val_accuracy: 1.0000\n",
      "Epoch 271/500\n",
      "124/124 [==============================] - 0s 2ms/sample - loss: 0.0173 - accuracy: 1.0000 - val_loss: 0.0288 - val_accuracy: 1.0000\n",
      "Epoch 272/500\n",
      "124/124 [==============================] - 0s 2ms/sample - loss: 0.0161 - accuracy: 1.0000 - val_loss: 0.0281 - val_accuracy: 1.0000\n",
      "Epoch 273/500\n",
      "124/124 [==============================] - 0s 2ms/sample - loss: 0.0156 - accuracy: 1.0000 - val_loss: 0.0279 - val_accuracy: 1.0000\n",
      "Epoch 274/500\n",
      "124/124 [==============================] - 0s 1ms/sample - loss: 0.0160 - accuracy: 1.0000 - val_loss: 0.0309 - val_accuracy: 1.0000\n",
      "Epoch 275/500\n",
      "124/124 [==============================] - 0s 2ms/sample - loss: 0.0168 - accuracy: 1.0000 - val_loss: 0.0275 - val_accuracy: 1.0000\n",
      "Epoch 276/500\n",
      "124/124 [==============================] - 0s 2ms/sample - loss: 0.0155 - accuracy: 1.0000 - val_loss: 0.0266 - val_accuracy: 1.0000\n",
      "Epoch 277/500\n",
      "124/124 [==============================] - 0s 2ms/sample - loss: 0.0150 - accuracy: 1.0000 - val_loss: 0.0279 - val_accuracy: 1.0000\n",
      "Epoch 278/500\n",
      "124/124 [==============================] - ETA: 0s - loss: 0.0084 - accuracy: 1.00 - 0s 2ms/sample - loss: 0.0159 - accuracy: 1.0000 - val_loss: 0.0307 - val_accuracy: 1.0000\n",
      "Epoch 279/500\n",
      "124/124 [==============================] - 0s 1ms/sample - loss: 0.0148 - accuracy: 1.0000 - val_loss: 0.0267 - val_accuracy: 1.0000\n",
      "Epoch 280/500\n",
      "124/124 [==============================] - 0s 2ms/sample - loss: 0.0144 - accuracy: 1.0000 - val_loss: 0.0260 - val_accuracy: 1.0000\n",
      "Epoch 281/500\n",
      "124/124 [==============================] - 0s 2ms/sample - loss: 0.0148 - accuracy: 1.0000 - val_loss: 0.0260 - val_accuracy: 1.0000\n",
      "Epoch 282/500\n",
      "124/124 [==============================] - 0s 2ms/sample - loss: 0.0145 - accuracy: 1.0000 - val_loss: 0.0283 - val_accuracy: 1.0000\n",
      "Epoch 283/500\n",
      "124/124 [==============================] - 0s 2ms/sample - loss: 0.0139 - accuracy: 1.0000 - val_loss: 0.0261 - val_accuracy: 1.0000\n",
      "Epoch 284/500\n",
      "124/124 [==============================] - 0s 2ms/sample - loss: 0.0154 - accuracy: 1.0000 - val_loss: 0.0274 - val_accuracy: 1.0000\n",
      "Epoch 285/500\n",
      "124/124 [==============================] - 0s 1ms/sample - loss: 0.0146 - accuracy: 1.0000 - val_loss: 0.0277 - val_accuracy: 1.0000\n",
      "Epoch 286/500\n",
      "124/124 [==============================] - 0s 1ms/sample - loss: 0.0137 - accuracy: 1.0000 - val_loss: 0.0265 - val_accuracy: 1.0000\n",
      "Epoch 287/500\n",
      "124/124 [==============================] - 0s 2ms/sample - loss: 0.0137 - accuracy: 1.0000 - val_loss: 0.0262 - val_accuracy: 1.0000\n",
      "Epoch 288/500\n",
      "124/124 [==============================] - 0s 2ms/sample - loss: 0.0129 - accuracy: 1.0000 - val_loss: 0.0249 - val_accuracy: 1.0000\n",
      "Epoch 289/500\n",
      "124/124 [==============================] - 0s 1ms/sample - loss: 0.0130 - accuracy: 1.0000 - val_loss: 0.0274 - val_accuracy: 1.0000\n",
      "Epoch 290/500\n",
      "124/124 [==============================] - 0s 2ms/sample - loss: 0.0132 - accuracy: 1.0000 - val_loss: 0.0244 - val_accuracy: 1.0000\n",
      "Epoch 291/500\n",
      "124/124 [==============================] - 0s 2ms/sample - loss: 0.0125 - accuracy: 1.0000 - val_loss: 0.0241 - val_accuracy: 1.0000\n",
      "Epoch 292/500\n",
      "124/124 [==============================] - 0s 2ms/sample - loss: 0.0125 - accuracy: 1.0000 - val_loss: 0.0231 - val_accuracy: 1.0000\n",
      "Epoch 293/500\n",
      "124/124 [==============================] - 0s 2ms/sample - loss: 0.0130 - accuracy: 1.0000 - val_loss: 0.0226 - val_accuracy: 1.0000\n",
      "Epoch 294/500\n",
      "124/124 [==============================] - 0s 1ms/sample - loss: 0.0126 - accuracy: 1.0000 - val_loss: 0.0260 - val_accuracy: 1.0000\n",
      "Epoch 295/500\n",
      "124/124 [==============================] - 0s 1ms/sample - loss: 0.0121 - accuracy: 1.0000 - val_loss: 0.0233 - val_accuracy: 1.0000\n",
      "Epoch 296/500\n",
      "124/124 [==============================] - 0s 2ms/sample - loss: 0.0134 - accuracy: 1.0000 - val_loss: 0.0229 - val_accuracy: 1.0000\n",
      "Epoch 297/500\n",
      "124/124 [==============================] - 0s 2ms/sample - loss: 0.0116 - accuracy: 1.0000 - val_loss: 0.0248 - val_accuracy: 1.0000\n",
      "Epoch 298/500\n",
      "124/124 [==============================] - 0s 2ms/sample - loss: 0.0115 - accuracy: 1.0000 - val_loss: 0.0222 - val_accuracy: 1.0000\n",
      "Epoch 299/500\n",
      "124/124 [==============================] - 0s 2ms/sample - loss: 0.0112 - accuracy: 1.0000 - val_loss: 0.0237 - val_accuracy: 1.0000\n",
      "Epoch 300/500\n",
      "124/124 [==============================] - 0s 2ms/sample - loss: 0.0115 - accuracy: 1.0000 - val_loss: 0.0245 - val_accuracy: 1.0000\n",
      "Epoch 301/500\n",
      "124/124 [==============================] - 0s 2ms/sample - loss: 0.0115 - accuracy: 1.0000 - val_loss: 0.0255 - val_accuracy: 1.0000\n",
      "Epoch 302/500\n",
      "124/124 [==============================] - 0s 2ms/sample - loss: 0.0116 - accuracy: 1.0000 - val_loss: 0.0244 - val_accuracy: 1.0000\n",
      "Epoch 303/500\n",
      "124/124 [==============================] - 0s 1ms/sample - loss: 0.0108 - accuracy: 1.0000 - val_loss: 0.0231 - val_accuracy: 1.0000\n",
      "Epoch 304/500\n",
      "124/124 [==============================] - 0s 1ms/sample - loss: 0.0109 - accuracy: 1.0000 - val_loss: 0.0230 - val_accuracy: 1.0000\n",
      "Epoch 305/500\n",
      "124/124 [==============================] - 0s 2ms/sample - loss: 0.0118 - accuracy: 1.0000 - val_loss: 0.0211 - val_accuracy: 1.0000\n",
      "Epoch 306/500\n",
      "124/124 [==============================] - 0s 2ms/sample - loss: 0.0104 - accuracy: 1.0000 - val_loss: 0.0205 - val_accuracy: 1.0000\n",
      "Epoch 307/500\n",
      "124/124 [==============================] - 0s 1ms/sample - loss: 0.0104 - accuracy: 1.0000 - val_loss: 0.0221 - val_accuracy: 1.0000\n",
      "Epoch 308/500\n",
      "124/124 [==============================] - 0s 2ms/sample - loss: 0.0107 - accuracy: 1.0000 - val_loss: 0.0219 - val_accuracy: 1.0000\n",
      "Epoch 309/500\n",
      "124/124 [==============================] - 0s 1ms/sample - loss: 0.0098 - accuracy: 1.0000 - val_loss: 0.0204 - val_accuracy: 1.0000\n",
      "Epoch 310/500\n",
      "124/124 [==============================] - 0s 1ms/sample - loss: 0.0101 - accuracy: 1.0000 - val_loss: 0.0211 - val_accuracy: 1.0000\n",
      "Epoch 311/500\n",
      "124/124 [==============================] - 0s 2ms/sample - loss: 0.0094 - accuracy: 1.0000 - val_loss: 0.0204 - val_accuracy: 1.0000\n",
      "Epoch 312/500\n",
      "124/124 [==============================] - 0s 2ms/sample - loss: 0.0097 - accuracy: 1.0000 - val_loss: 0.0192 - val_accuracy: 1.0000\n",
      "Epoch 313/500\n",
      "124/124 [==============================] - 0s 2ms/sample - loss: 0.0101 - accuracy: 1.0000 - val_loss: 0.0199 - val_accuracy: 1.0000\n",
      "Epoch 314/500\n",
      "124/124 [==============================] - 0s 1ms/sample - loss: 0.0099 - accuracy: 1.0000 - val_loss: 0.0188 - val_accuracy: 1.0000\n",
      "Epoch 315/500\n",
      "124/124 [==============================] - 0s 1ms/sample - loss: 0.0094 - accuracy: 1.0000 - val_loss: 0.0194 - val_accuracy: 1.0000\n",
      "Epoch 316/500\n",
      "124/124 [==============================] - 0s 1ms/sample - loss: 0.0091 - accuracy: 1.0000 - val_loss: 0.0208 - val_accuracy: 1.0000\n",
      "Epoch 317/500\n",
      "124/124 [==============================] - 0s 2ms/sample - loss: 0.0089 - accuracy: 1.0000 - val_loss: 0.0196 - val_accuracy: 1.0000\n",
      "Epoch 318/500\n",
      "124/124 [==============================] - 0s 1ms/sample - loss: 0.0089 - accuracy: 1.0000 - val_loss: 0.0180 - val_accuracy: 1.0000\n",
      "Epoch 319/500\n",
      "124/124 [==============================] - 0s 1ms/sample - loss: 0.0087 - accuracy: 1.0000 - val_loss: 0.0183 - val_accuracy: 1.0000\n",
      "Epoch 320/500\n",
      "124/124 [==============================] - 0s 2ms/sample - loss: 0.0086 - accuracy: 1.0000 - val_loss: 0.0176 - val_accuracy: 1.0000\n",
      "Epoch 321/500\n",
      "124/124 [==============================] - 0s 2ms/sample - loss: 0.0089 - accuracy: 1.0000 - val_loss: 0.0180 - val_accuracy: 1.0000\n",
      "Epoch 322/500\n",
      "124/124 [==============================] - 0s 2ms/sample - loss: 0.0086 - accuracy: 1.0000 - val_loss: 0.0181 - val_accuracy: 1.0000\n",
      "Epoch 323/500\n",
      "124/124 [==============================] - 0s 2ms/sample - loss: 0.0085 - accuracy: 1.0000 - val_loss: 0.0175 - val_accuracy: 1.0000\n",
      "Epoch 324/500\n",
      "124/124 [==============================] - 0s 1ms/sample - loss: 0.0082 - accuracy: 1.0000 - val_loss: 0.0174 - val_accuracy: 1.0000\n",
      "Epoch 325/500\n",
      "124/124 [==============================] - 0s 1ms/sample - loss: 0.0077 - accuracy: 1.0000 - val_loss: 0.0174 - val_accuracy: 1.0000\n",
      "Epoch 326/500\n",
      "124/124 [==============================] - 0s 1ms/sample - loss: 0.0090 - accuracy: 1.0000 - val_loss: 0.0181 - val_accuracy: 1.0000\n",
      "Epoch 327/500\n",
      "124/124 [==============================] - 0s 2ms/sample - loss: 0.0078 - accuracy: 1.0000 - val_loss: 0.0177 - val_accuracy: 1.0000\n",
      "Epoch 328/500\n",
      "124/124 [==============================] - 0s 2ms/sample - loss: 0.0074 - accuracy: 1.0000 - val_loss: 0.0185 - val_accuracy: 1.0000\n",
      "Epoch 329/500\n",
      "124/124 [==============================] - 0s 1ms/sample - loss: 0.0077 - accuracy: 1.0000 - val_loss: 0.0169 - val_accuracy: 1.0000\n",
      "Epoch 330/500\n",
      "124/124 [==============================] - 0s 2ms/sample - loss: 0.0073 - accuracy: 1.0000 - val_loss: 0.0161 - val_accuracy: 1.0000\n",
      "Epoch 331/500\n",
      "124/124 [==============================] - 0s 2ms/sample - loss: 0.0075 - accuracy: 1.0000 - val_loss: 0.0171 - val_accuracy: 1.0000\n",
      "Epoch 332/500\n",
      "124/124 [==============================] - 0s 2ms/sample - loss: 0.0069 - accuracy: 1.0000 - val_loss: 0.0166 - val_accuracy: 1.0000\n",
      "Epoch 333/500\n",
      "124/124 [==============================] - 0s 1ms/sample - loss: 0.0074 - accuracy: 1.0000 - val_loss: 0.0162 - val_accuracy: 1.0000\n",
      "Epoch 334/500\n",
      "124/124 [==============================] - 0s 2ms/sample - loss: 0.0068 - accuracy: 1.0000 - val_loss: 0.0169 - val_accuracy: 1.0000\n",
      "Epoch 335/500\n",
      "124/124 [==============================] - 0s 2ms/sample - loss: 0.0076 - accuracy: 1.0000 - val_loss: 0.0180 - val_accuracy: 1.0000\n"
     ]
    },
    {
     "name": "stdout",
     "output_type": "stream",
     "text": [
      "Epoch 336/500\n",
      "124/124 [==============================] - 0s 1ms/sample - loss: 0.0067 - accuracy: 1.0000 - val_loss: 0.0162 - val_accuracy: 1.0000\n",
      "Epoch 337/500\n",
      "124/124 [==============================] - 0s 2ms/sample - loss: 0.0068 - accuracy: 1.0000 - val_loss: 0.0165 - val_accuracy: 1.0000\n",
      "Epoch 338/500\n",
      "124/124 [==============================] - 0s 2ms/sample - loss: 0.0064 - accuracy: 1.0000 - val_loss: 0.0157 - val_accuracy: 1.0000\n",
      "Epoch 339/500\n",
      "124/124 [==============================] - 0s 2ms/sample - loss: 0.0063 - accuracy: 1.0000 - val_loss: 0.0143 - val_accuracy: 1.0000\n",
      "Epoch 340/500\n",
      "124/124 [==============================] - 0s 2ms/sample - loss: 0.0072 - accuracy: 1.0000 - val_loss: 0.0174 - val_accuracy: 1.0000\n",
      "Epoch 341/500\n",
      "124/124 [==============================] - 0s 2ms/sample - loss: 0.0065 - accuracy: 1.0000 - val_loss: 0.0144 - val_accuracy: 1.0000\n",
      "Epoch 342/500\n",
      "124/124 [==============================] - 0s 1ms/sample - loss: 0.0072 - accuracy: 1.0000 - val_loss: 0.0149 - val_accuracy: 1.0000\n",
      "Epoch 343/500\n",
      "124/124 [==============================] - 0s 2ms/sample - loss: 0.0063 - accuracy: 1.0000 - val_loss: 0.0149 - val_accuracy: 1.0000\n",
      "Epoch 344/500\n",
      "124/124 [==============================] - 0s 2ms/sample - loss: 0.0060 - accuracy: 1.0000 - val_loss: 0.0168 - val_accuracy: 1.0000\n",
      "Epoch 345/500\n",
      "124/124 [==============================] - 0s 2ms/sample - loss: 0.0060 - accuracy: 1.0000 - val_loss: 0.0149 - val_accuracy: 1.0000\n",
      "Epoch 346/500\n",
      "124/124 [==============================] - 0s 1ms/sample - loss: 0.0060 - accuracy: 1.0000 - val_loss: 0.0141 - val_accuracy: 1.0000\n",
      "Epoch 347/500\n",
      "124/124 [==============================] - 0s 1ms/sample - loss: 0.0059 - accuracy: 1.0000 - val_loss: 0.0140 - val_accuracy: 1.0000\n",
      "Epoch 348/500\n",
      "124/124 [==============================] - 0s 1ms/sample - loss: 0.0065 - accuracy: 1.0000 - val_loss: 0.0140 - val_accuracy: 1.0000\n",
      "Epoch 349/500\n",
      "124/124 [==============================] - 0s 2ms/sample - loss: 0.0057 - accuracy: 1.0000 - val_loss: 0.0157 - val_accuracy: 1.0000\n",
      "Epoch 350/500\n",
      "124/124 [==============================] - 0s 2ms/sample - loss: 0.0058 - accuracy: 1.0000 - val_loss: 0.0150 - val_accuracy: 1.0000\n",
      "Epoch 351/500\n",
      "124/124 [==============================] - 0s 2ms/sample - loss: 0.0054 - accuracy: 1.0000 - val_loss: 0.0134 - val_accuracy: 1.0000\n",
      "Epoch 352/500\n",
      "124/124 [==============================] - 0s 2ms/sample - loss: 0.0055 - accuracy: 1.0000 - val_loss: 0.0140 - val_accuracy: 1.0000\n",
      "Epoch 353/500\n",
      "124/124 [==============================] - 0s 2ms/sample - loss: 0.0054 - accuracy: 1.0000 - val_loss: 0.0158 - val_accuracy: 1.0000\n",
      "Epoch 354/500\n",
      "124/124 [==============================] - 0s 2ms/sample - loss: 0.0052 - accuracy: 1.0000 - val_loss: 0.0142 - val_accuracy: 1.0000\n",
      "Epoch 355/500\n",
      "124/124 [==============================] - 0s 1ms/sample - loss: 0.0056 - accuracy: 1.0000 - val_loss: 0.0166 - val_accuracy: 1.0000\n",
      "Epoch 356/500\n",
      "124/124 [==============================] - 0s 1ms/sample - loss: 0.0056 - accuracy: 1.0000 - val_loss: 0.0133 - val_accuracy: 1.0000\n",
      "Epoch 357/500\n",
      "124/124 [==============================] - 0s 1ms/sample - loss: 0.0049 - accuracy: 1.0000 - val_loss: 0.0137 - val_accuracy: 1.0000\n",
      "Epoch 358/500\n",
      "124/124 [==============================] - 0s 2ms/sample - loss: 0.0050 - accuracy: 1.0000 - val_loss: 0.0128 - val_accuracy: 1.0000\n",
      "Epoch 359/500\n",
      "124/124 [==============================] - 0s 2ms/sample - loss: 0.0047 - accuracy: 1.0000 - val_loss: 0.0133 - val_accuracy: 1.0000\n",
      "Epoch 360/500\n",
      "124/124 [==============================] - 0s 1ms/sample - loss: 0.0048 - accuracy: 1.0000 - val_loss: 0.0162 - val_accuracy: 1.0000\n",
      "Epoch 361/500\n",
      "124/124 [==============================] - 0s 2ms/sample - loss: 0.0048 - accuracy: 1.0000 - val_loss: 0.0120 - val_accuracy: 1.0000\n",
      "Epoch 362/500\n",
      "124/124 [==============================] - 0s 2ms/sample - loss: 0.0048 - accuracy: 1.0000 - val_loss: 0.0120 - val_accuracy: 1.0000\n",
      "Epoch 363/500\n",
      "124/124 [==============================] - 0s 2ms/sample - loss: 0.0049 - accuracy: 1.0000 - val_loss: 0.0122 - val_accuracy: 1.0000\n",
      "Epoch 364/500\n",
      "124/124 [==============================] - 0s 2ms/sample - loss: 0.0049 - accuracy: 1.0000 - val_loss: 0.0119 - val_accuracy: 1.0000\n",
      "Epoch 365/500\n",
      "124/124 [==============================] - 0s 1ms/sample - loss: 0.0044 - accuracy: 1.0000 - val_loss: 0.0122 - val_accuracy: 1.0000\n",
      "Epoch 366/500\n",
      "124/124 [==============================] - 0s 2ms/sample - loss: 0.0042 - accuracy: 1.0000 - val_loss: 0.0116 - val_accuracy: 1.0000\n",
      "Epoch 367/500\n",
      "124/124 [==============================] - 0s 2ms/sample - loss: 0.0043 - accuracy: 1.0000 - val_loss: 0.0121 - val_accuracy: 1.0000\n",
      "Epoch 368/500\n",
      "124/124 [==============================] - 0s 2ms/sample - loss: 0.0041 - accuracy: 1.0000 - val_loss: 0.0108 - val_accuracy: 1.0000\n",
      "Epoch 369/500\n",
      "124/124 [==============================] - 0s 2ms/sample - loss: 0.0041 - accuracy: 1.0000 - val_loss: 0.0139 - val_accuracy: 1.0000\n",
      "Epoch 370/500\n",
      "124/124 [==============================] - 0s 1ms/sample - loss: 0.0049 - accuracy: 1.0000 - val_loss: 0.0146 - val_accuracy: 1.0000\n",
      "Epoch 371/500\n",
      "124/124 [==============================] - 0s 2ms/sample - loss: 0.0047 - accuracy: 1.0000 - val_loss: 0.0138 - val_accuracy: 1.0000\n",
      "Epoch 372/500\n",
      "124/124 [==============================] - 0s 2ms/sample - loss: 0.0041 - accuracy: 1.0000 - val_loss: 0.0108 - val_accuracy: 1.0000\n",
      "Epoch 373/500\n",
      "124/124 [==============================] - 0s 1ms/sample - loss: 0.0042 - accuracy: 1.0000 - val_loss: 0.0118 - val_accuracy: 1.0000\n",
      "Epoch 374/500\n",
      "124/124 [==============================] - 0s 2ms/sample - loss: 0.0037 - accuracy: 1.0000 - val_loss: 0.0110 - val_accuracy: 1.0000\n",
      "Epoch 375/500\n",
      "124/124 [==============================] - 0s 2ms/sample - loss: 0.0039 - accuracy: 1.0000 - val_loss: 0.0112 - val_accuracy: 1.0000\n",
      "Epoch 376/500\n",
      "124/124 [==============================] - 0s 2ms/sample - loss: 0.0039 - accuracy: 1.0000 - val_loss: 0.0137 - val_accuracy: 1.0000\n",
      "Epoch 377/500\n",
      "124/124 [==============================] - 0s 1ms/sample - loss: 0.0040 - accuracy: 1.0000 - val_loss: 0.0102 - val_accuracy: 1.0000\n",
      "Epoch 378/500\n",
      "124/124 [==============================] - 0s 2ms/sample - loss: 0.0037 - accuracy: 1.0000 - val_loss: 0.0108 - val_accuracy: 1.0000\n",
      "Epoch 379/500\n",
      "124/124 [==============================] - 0s 2ms/sample - loss: 0.0038 - accuracy: 1.0000 - val_loss: 0.0122 - val_accuracy: 1.0000\n",
      "Epoch 380/500\n",
      "124/124 [==============================] - 0s 2ms/sample - loss: 0.0035 - accuracy: 1.0000 - val_loss: 0.0103 - val_accuracy: 1.0000\n",
      "Epoch 381/500\n",
      "124/124 [==============================] - 0s 2ms/sample - loss: 0.0035 - accuracy: 1.0000 - val_loss: 0.0111 - val_accuracy: 1.0000\n",
      "Epoch 382/500\n",
      "124/124 [==============================] - 0s 2ms/sample - loss: 0.0034 - accuracy: 1.0000 - val_loss: 0.0109 - val_accuracy: 1.0000\n",
      "Epoch 383/500\n",
      "124/124 [==============================] - 0s 2ms/sample - loss: 0.0036 - accuracy: 1.0000 - val_loss: 0.0094 - val_accuracy: 1.0000\n",
      "Epoch 384/500\n",
      "124/124 [==============================] - 0s 1ms/sample - loss: 0.0036 - accuracy: 1.0000 - val_loss: 0.0093 - val_accuracy: 1.0000\n",
      "Epoch 385/500\n",
      "124/124 [==============================] - 0s 2ms/sample - loss: 0.0037 - accuracy: 1.0000 - val_loss: 0.0100 - val_accuracy: 1.0000\n",
      "Epoch 386/500\n",
      "124/124 [==============================] - 0s 1ms/sample - loss: 0.0034 - accuracy: 1.0000 - val_loss: 0.0098 - val_accuracy: 1.0000\n",
      "Epoch 387/500\n",
      "124/124 [==============================] - 0s 1ms/sample - loss: 0.0037 - accuracy: 1.0000 - val_loss: 0.0107 - val_accuracy: 1.0000\n",
      "Epoch 388/500\n",
      "124/124 [==============================] - 0s 1ms/sample - loss: 0.0032 - accuracy: 1.0000 - val_loss: 0.0107 - val_accuracy: 1.0000\n",
      "Epoch 389/500\n",
      "124/124 [==============================] - 0s 1ms/sample - loss: 0.0032 - accuracy: 1.0000 - val_loss: 0.0121 - val_accuracy: 1.0000\n",
      "Epoch 390/500\n",
      "124/124 [==============================] - 0s 2ms/sample - loss: 0.0031 - accuracy: 1.0000 - val_loss: 0.0096 - val_accuracy: 1.0000\n",
      "Epoch 391/500\n",
      "124/124 [==============================] - 0s 2ms/sample - loss: 0.0030 - accuracy: 1.0000 - val_loss: 0.0091 - val_accuracy: 1.0000\n"
     ]
    },
    {
     "name": "stdout",
     "output_type": "stream",
     "text": [
      "Epoch 392/500\n",
      "124/124 [==============================] - 0s 2ms/sample - loss: 0.0030 - accuracy: 1.0000 - val_loss: 0.0089 - val_accuracy: 1.0000\n",
      "Epoch 393/500\n",
      "124/124 [==============================] - 0s 1ms/sample - loss: 0.0030 - accuracy: 1.0000 - val_loss: 0.0085 - val_accuracy: 1.0000\n",
      "Epoch 394/500\n",
      "124/124 [==============================] - 0s 2ms/sample - loss: 0.0032 - accuracy: 1.0000 - val_loss: 0.0092 - val_accuracy: 1.0000\n",
      "Epoch 395/500\n",
      "124/124 [==============================] - 0s 2ms/sample - loss: 0.0028 - accuracy: 1.0000 - val_loss: 0.0095 - val_accuracy: 1.0000\n",
      "Epoch 396/500\n",
      "124/124 [==============================] - 0s 2ms/sample - loss: 0.0029 - accuracy: 1.0000 - val_loss: 0.0099 - val_accuracy: 1.0000\n",
      "Epoch 397/500\n",
      "124/124 [==============================] - 0s 2ms/sample - loss: 0.0028 - accuracy: 1.0000 - val_loss: 0.0090 - val_accuracy: 1.0000\n",
      "Epoch 398/500\n",
      "124/124 [==============================] - 0s 2ms/sample - loss: 0.0028 - accuracy: 1.0000 - val_loss: 0.0100 - val_accuracy: 1.0000\n",
      "Epoch 399/500\n",
      "124/124 [==============================] - 0s 2ms/sample - loss: 0.0027 - accuracy: 1.0000 - val_loss: 0.0083 - val_accuracy: 1.0000\n",
      "Epoch 400/500\n",
      "124/124 [==============================] - 0s 2ms/sample - loss: 0.0030 - accuracy: 1.0000 - val_loss: 0.0102 - val_accuracy: 1.0000\n",
      "Epoch 401/500\n",
      "124/124 [==============================] - 0s 2ms/sample - loss: 0.0027 - accuracy: 1.0000 - val_loss: 0.0087 - val_accuracy: 1.0000\n",
      "Epoch 402/500\n",
      "124/124 [==============================] - 0s 2ms/sample - loss: 0.0028 - accuracy: 1.0000 - val_loss: 0.0104 - val_accuracy: 1.0000\n",
      "Epoch 403/500\n",
      "124/124 [==============================] - 0s 2ms/sample - loss: 0.0025 - accuracy: 1.0000 - val_loss: 0.0082 - val_accuracy: 1.0000\n",
      "Epoch 404/500\n",
      "124/124 [==============================] - 0s 2ms/sample - loss: 0.0027 - accuracy: 1.0000 - val_loss: 0.0080 - val_accuracy: 1.0000\n",
      "Epoch 405/500\n",
      "124/124 [==============================] - 0s 2ms/sample - loss: 0.0025 - accuracy: 1.0000 - val_loss: 0.0087 - val_accuracy: 1.0000\n",
      "Epoch 406/500\n",
      "124/124 [==============================] - 0s 2ms/sample - loss: 0.0024 - accuracy: 1.0000 - val_loss: 0.0087 - val_accuracy: 1.0000\n",
      "Epoch 407/500\n",
      "124/124 [==============================] - 0s 1ms/sample - loss: 0.0026 - accuracy: 1.0000 - val_loss: 0.0087 - val_accuracy: 1.0000\n",
      "Epoch 408/500\n",
      "124/124 [==============================] - 0s 1ms/sample - loss: 0.0026 - accuracy: 1.0000 - val_loss: 0.0097 - val_accuracy: 1.0000\n",
      "Epoch 409/500\n",
      "124/124 [==============================] - 0s 2ms/sample - loss: 0.0025 - accuracy: 1.0000 - val_loss: 0.0082 - val_accuracy: 1.0000\n",
      "Epoch 410/500\n",
      "124/124 [==============================] - 0s 1ms/sample - loss: 0.0022 - accuracy: 1.0000 - val_loss: 0.0080 - val_accuracy: 1.0000\n",
      "Epoch 411/500\n",
      "124/124 [==============================] - 0s 2ms/sample - loss: 0.0023 - accuracy: 1.0000 - val_loss: 0.0076 - val_accuracy: 1.0000\n",
      "Epoch 412/500\n",
      "124/124 [==============================] - 0s 1ms/sample - loss: 0.0022 - accuracy: 1.0000 - val_loss: 0.0093 - val_accuracy: 1.0000\n",
      "Epoch 413/500\n",
      "124/124 [==============================] - 0s 2ms/sample - loss: 0.0022 - accuracy: 1.0000 - val_loss: 0.0074 - val_accuracy: 1.0000\n",
      "Epoch 414/500\n",
      "124/124 [==============================] - 0s 2ms/sample - loss: 0.0021 - accuracy: 1.0000 - val_loss: 0.0071 - val_accuracy: 1.0000\n",
      "Epoch 415/500\n",
      "124/124 [==============================] - 0s 2ms/sample - loss: 0.0022 - accuracy: 1.0000 - val_loss: 0.0072 - val_accuracy: 1.0000\n",
      "Epoch 416/500\n",
      "124/124 [==============================] - 0s 2ms/sample - loss: 0.0021 - accuracy: 1.0000 - val_loss: 0.0068 - val_accuracy: 1.0000\n",
      "Epoch 417/500\n",
      "124/124 [==============================] - 0s 2ms/sample - loss: 0.0024 - accuracy: 1.0000 - val_loss: 0.0077 - val_accuracy: 1.0000\n",
      "Epoch 418/500\n",
      "124/124 [==============================] - 0s 2ms/sample - loss: 0.0021 - accuracy: 1.0000 - val_loss: 0.0089 - val_accuracy: 1.0000\n",
      "Epoch 419/500\n",
      "124/124 [==============================] - 0s 2ms/sample - loss: 0.0020 - accuracy: 1.0000 - val_loss: 0.0087 - val_accuracy: 1.0000\n",
      "Epoch 420/500\n",
      "124/124 [==============================] - 0s 1ms/sample - loss: 0.0022 - accuracy: 1.0000 - val_loss: 0.0067 - val_accuracy: 1.0000\n",
      "Epoch 421/500\n",
      "124/124 [==============================] - 0s 2ms/sample - loss: 0.0020 - accuracy: 1.0000 - val_loss: 0.0071 - val_accuracy: 1.0000\n",
      "Epoch 422/500\n",
      "124/124 [==============================] - 0s 2ms/sample - loss: 0.0019 - accuracy: 1.0000 - val_loss: 0.0065 - val_accuracy: 1.0000\n",
      "Epoch 423/500\n",
      "124/124 [==============================] - 0s 2ms/sample - loss: 0.0020 - accuracy: 1.0000 - val_loss: 0.0063 - val_accuracy: 1.0000\n",
      "Epoch 424/500\n",
      "124/124 [==============================] - 0s 1ms/sample - loss: 0.0019 - accuracy: 1.0000 - val_loss: 0.0078 - val_accuracy: 1.0000\n",
      "Epoch 425/500\n",
      "124/124 [==============================] - 0s 2ms/sample - loss: 0.0018 - accuracy: 1.0000 - val_loss: 0.0073 - val_accuracy: 1.0000\n",
      "Epoch 426/500\n",
      "124/124 [==============================] - 0s 2ms/sample - loss: 0.0020 - accuracy: 1.0000 - val_loss: 0.0069 - val_accuracy: 1.0000\n",
      "Epoch 427/500\n",
      "124/124 [==============================] - 0s 1ms/sample - loss: 0.0018 - accuracy: 1.0000 - val_loss: 0.0068 - val_accuracy: 1.0000\n",
      "Epoch 428/500\n",
      "124/124 [==============================] - 0s 2ms/sample - loss: 0.0018 - accuracy: 1.0000 - val_loss: 0.0066 - val_accuracy: 1.0000\n",
      "Epoch 429/500\n",
      "124/124 [==============================] - 0s 2ms/sample - loss: 0.0017 - accuracy: 1.0000 - val_loss: 0.0062 - val_accuracy: 1.0000\n",
      "Epoch 430/500\n",
      "124/124 [==============================] - 0s 1ms/sample - loss: 0.0017 - accuracy: 1.0000 - val_loss: 0.0064 - val_accuracy: 1.0000\n",
      "Epoch 431/500\n",
      "124/124 [==============================] - 0s 1ms/sample - loss: 0.0017 - accuracy: 1.0000 - val_loss: 0.0063 - val_accuracy: 1.0000\n",
      "Epoch 432/500\n",
      "124/124 [==============================] - 0s 2ms/sample - loss: 0.0017 - accuracy: 1.0000 - val_loss: 0.0059 - val_accuracy: 1.0000\n",
      "Epoch 433/500\n",
      "124/124 [==============================] - 0s 2ms/sample - loss: 0.0016 - accuracy: 1.0000 - val_loss: 0.0059 - val_accuracy: 1.0000\n",
      "Epoch 434/500\n",
      "124/124 [==============================] - 0s 2ms/sample - loss: 0.0021 - accuracy: 1.0000 - val_loss: 0.0076 - val_accuracy: 1.0000\n",
      "Epoch 435/500\n",
      "124/124 [==============================] - 0s 2ms/sample - loss: 0.0016 - accuracy: 1.0000 - val_loss: 0.0065 - val_accuracy: 1.0000\n",
      "Epoch 436/500\n",
      "124/124 [==============================] - 0s 2ms/sample - loss: 0.0015 - accuracy: 1.0000 - val_loss: 0.0076 - val_accuracy: 1.0000\n",
      "Epoch 437/500\n",
      "124/124 [==============================] - 0s 2ms/sample - loss: 0.0015 - accuracy: 1.0000 - val_loss: 0.0056 - val_accuracy: 1.0000\n",
      "Epoch 438/500\n",
      "124/124 [==============================] - 0s 2ms/sample - loss: 0.0015 - accuracy: 1.0000 - val_loss: 0.0076 - val_accuracy: 1.0000\n",
      "Epoch 439/500\n",
      "124/124 [==============================] - 0s 1ms/sample - loss: 0.0019 - accuracy: 1.0000 - val_loss: 0.0075 - val_accuracy: 1.0000\n",
      "Epoch 440/500\n",
      "124/124 [==============================] - 0s 2ms/sample - loss: 0.0015 - accuracy: 1.0000 - val_loss: 0.0057 - val_accuracy: 1.0000\n",
      "Epoch 441/500\n",
      "124/124 [==============================] - 0s 2ms/sample - loss: 0.0014 - accuracy: 1.0000 - val_loss: 0.0062 - val_accuracy: 1.0000\n",
      "Epoch 442/500\n",
      "124/124 [==============================] - 0s 2ms/sample - loss: 0.0014 - accuracy: 1.0000 - val_loss: 0.0055 - val_accuracy: 1.0000\n",
      "Epoch 443/500\n",
      "124/124 [==============================] - 0s 2ms/sample - loss: 0.0015 - accuracy: 1.0000 - val_loss: 0.0056 - val_accuracy: 1.0000\n",
      "Epoch 444/500\n",
      "124/124 [==============================] - 0s 2ms/sample - loss: 0.0014 - accuracy: 1.0000 - val_loss: 0.0057 - val_accuracy: 1.0000\n",
      "Epoch 445/500\n",
      "124/124 [==============================] - 0s 2ms/sample - loss: 0.0013 - accuracy: 1.0000 - val_loss: 0.0070 - val_accuracy: 1.0000\n",
      "Epoch 446/500\n",
      "124/124 [==============================] - 0s 2ms/sample - loss: 0.0014 - accuracy: 1.0000 - val_loss: 0.0056 - val_accuracy: 1.0000\n",
      "Epoch 447/500\n",
      "124/124 [==============================] - 0s 1ms/sample - loss: 0.0014 - accuracy: 1.0000 - val_loss: 0.0068 - val_accuracy: 1.0000\n"
     ]
    },
    {
     "name": "stdout",
     "output_type": "stream",
     "text": [
      "Epoch 448/500\n",
      "124/124 [==============================] - 0s 1ms/sample - loss: 0.0013 - accuracy: 1.0000 - val_loss: 0.0054 - val_accuracy: 1.0000\n",
      "Epoch 449/500\n",
      "124/124 [==============================] - 0s 1ms/sample - loss: 0.0014 - accuracy: 1.0000 - val_loss: 0.0066 - val_accuracy: 1.0000\n",
      "Epoch 450/500\n",
      "124/124 [==============================] - 0s 2ms/sample - loss: 0.0013 - accuracy: 1.0000 - val_loss: 0.0063 - val_accuracy: 1.0000\n",
      "Epoch 451/500\n",
      "124/124 [==============================] - 0s 2ms/sample - loss: 0.0012 - accuracy: 1.0000 - val_loss: 0.0053 - val_accuracy: 1.0000\n",
      "Epoch 452/500\n",
      "124/124 [==============================] - 0s 2ms/sample - loss: 0.0012 - accuracy: 1.0000 - val_loss: 0.0050 - val_accuracy: 1.0000\n",
      "Epoch 453/500\n",
      "124/124 [==============================] - ETA: 0s - loss: 8.5941e-04 - accuracy: 1.00 - 0s 2ms/sample - loss: 0.0015 - accuracy: 1.0000 - val_loss: 0.0052 - val_accuracy: 1.0000\n",
      "Epoch 454/500\n",
      "124/124 [==============================] - 0s 1ms/sample - loss: 0.0011 - accuracy: 1.0000 - val_loss: 0.0060 - val_accuracy: 1.0000\n",
      "Epoch 455/500\n",
      "124/124 [==============================] - 0s 2ms/sample - loss: 0.0011 - accuracy: 1.0000 - val_loss: 0.0051 - val_accuracy: 1.0000\n",
      "Epoch 456/500\n",
      "124/124 [==============================] - 0s 1ms/sample - loss: 0.0011 - accuracy: 1.0000 - val_loss: 0.0052 - val_accuracy: 1.0000\n",
      "Epoch 457/500\n",
      "124/124 [==============================] - 0s 1ms/sample - loss: 0.0012 - accuracy: 1.0000 - val_loss: 0.0070 - val_accuracy: 1.0000\n",
      "Epoch 458/500\n",
      "124/124 [==============================] - 0s 2ms/sample - loss: 0.0011 - accuracy: 1.0000 - val_loss: 0.0054 - val_accuracy: 1.0000\n",
      "Epoch 459/500\n",
      "124/124 [==============================] - 0s 2ms/sample - loss: 0.0010 - accuracy: 1.0000 - val_loss: 0.0050 - val_accuracy: 1.0000\n",
      "Epoch 460/500\n",
      "124/124 [==============================] - 0s 1ms/sample - loss: 0.0012 - accuracy: 1.0000 - val_loss: 0.0052 - val_accuracy: 1.0000\n",
      "Epoch 461/500\n",
      "124/124 [==============================] - 0s 2ms/sample - loss: 0.0011 - accuracy: 1.0000 - val_loss: 0.0060 - val_accuracy: 1.0000\n",
      "Epoch 462/500\n",
      "124/124 [==============================] - 0s 1ms/sample - loss: 0.0011 - accuracy: 1.0000 - val_loss: 0.0050 - val_accuracy: 1.0000\n",
      "Epoch 463/500\n",
      "124/124 [==============================] - 0s 1ms/sample - loss: 9.9334e-04 - accuracy: 1.0000 - val_loss: 0.0055 - val_accuracy: 1.0000\n",
      "Epoch 464/500\n",
      "124/124 [==============================] - 0s 1ms/sample - loss: 0.0011 - accuracy: 1.0000 - val_loss: 0.0049 - val_accuracy: 1.0000\n",
      "Epoch 465/500\n",
      "124/124 [==============================] - 0s 2ms/sample - loss: 9.9622e-04 - accuracy: 1.0000 - val_loss: 0.0043 - val_accuracy: 1.0000\n",
      "Epoch 466/500\n",
      "124/124 [==============================] - 0s 1ms/sample - loss: 0.0010 - accuracy: 1.0000 - val_loss: 0.0052 - val_accuracy: 1.0000\n",
      "Epoch 467/500\n",
      "124/124 [==============================] - 0s 1ms/sample - loss: 9.1686e-04 - accuracy: 1.0000 - val_loss: 0.0045 - val_accuracy: 1.0000\n",
      "Epoch 468/500\n",
      "124/124 [==============================] - 0s 1ms/sample - loss: 8.9995e-04 - accuracy: 1.0000 - val_loss: 0.0056 - val_accuracy: 1.0000\n",
      "Epoch 469/500\n",
      "124/124 [==============================] - 0s 2ms/sample - loss: 9.2216e-04 - accuracy: 1.0000 - val_loss: 0.0045 - val_accuracy: 1.0000\n",
      "Epoch 470/500\n",
      "124/124 [==============================] - 0s 1ms/sample - loss: 8.5858e-04 - accuracy: 1.0000 - val_loss: 0.0043 - val_accuracy: 1.0000\n",
      "Epoch 471/500\n",
      "124/124 [==============================] - 0s 1ms/sample - loss: 8.8632e-04 - accuracy: 1.0000 - val_loss: 0.0059 - val_accuracy: 1.0000\n",
      "Epoch 472/500\n",
      "124/124 [==============================] - 0s 2ms/sample - loss: 8.7965e-04 - accuracy: 1.0000 - val_loss: 0.0041 - val_accuracy: 1.0000\n",
      "Epoch 473/500\n",
      "124/124 [==============================] - 0s 2ms/sample - loss: 8.5592e-04 - accuracy: 1.0000 - val_loss: 0.0047 - val_accuracy: 1.0000\n",
      "Epoch 474/500\n",
      "124/124 [==============================] - 0s 2ms/sample - loss: 9.0164e-04 - accuracy: 1.0000 - val_loss: 0.0043 - val_accuracy: 1.0000\n",
      "Epoch 475/500\n",
      "124/124 [==============================] - 0s 1ms/sample - loss: 8.3179e-04 - accuracy: 1.0000 - val_loss: 0.0053 - val_accuracy: 1.0000\n",
      "Epoch 476/500\n",
      "124/124 [==============================] - 0s 1ms/sample - loss: 8.2230e-04 - accuracy: 1.0000 - val_loss: 0.0040 - val_accuracy: 1.0000\n",
      "Epoch 477/500\n",
      "124/124 [==============================] - 0s 2ms/sample - loss: 7.5144e-04 - accuracy: 1.0000 - val_loss: 0.0049 - val_accuracy: 1.0000\n",
      "Epoch 478/500\n",
      "124/124 [==============================] - 0s 1ms/sample - loss: 7.7572e-04 - accuracy: 1.0000 - val_loss: 0.0039 - val_accuracy: 1.0000\n",
      "Epoch 479/500\n",
      "124/124 [==============================] - 0s 1ms/sample - loss: 9.0211e-04 - accuracy: 1.0000 - val_loss: 0.0037 - val_accuracy: 1.0000\n",
      "Epoch 480/500\n",
      "124/124 [==============================] - 0s 1ms/sample - loss: 7.0922e-04 - accuracy: 1.0000 - val_loss: 0.0045 - val_accuracy: 1.0000\n",
      "Epoch 481/500\n",
      "124/124 [==============================] - 0s 2ms/sample - loss: 6.7586e-04 - accuracy: 1.0000 - val_loss: 0.0035 - val_accuracy: 1.0000\n",
      "Epoch 482/500\n",
      "124/124 [==============================] - 0s 2ms/sample - loss: 8.4812e-04 - accuracy: 1.0000 - val_loss: 0.0045 - val_accuracy: 1.0000\n",
      "Epoch 483/500\n",
      "124/124 [==============================] - 0s 1ms/sample - loss: 7.2553e-04 - accuracy: 1.0000 - val_loss: 0.0041 - val_accuracy: 1.0000\n",
      "Epoch 484/500\n",
      "124/124 [==============================] - 0s 2ms/sample - loss: 6.6391e-04 - accuracy: 1.0000 - val_loss: 0.0038 - val_accuracy: 1.0000\n",
      "Epoch 485/500\n",
      "124/124 [==============================] - 0s 2ms/sample - loss: 6.6074e-04 - accuracy: 1.0000 - val_loss: 0.0035 - val_accuracy: 1.0000\n",
      "Epoch 486/500\n",
      "124/124 [==============================] - 0s 2ms/sample - loss: 7.2632e-04 - accuracy: 1.0000 - val_loss: 0.0037 - val_accuracy: 1.0000\n",
      "Epoch 487/500\n",
      "124/124 [==============================] - 0s 2ms/sample - loss: 7.3562e-04 - accuracy: 1.0000 - val_loss: 0.0037 - val_accuracy: 1.0000\n",
      "Epoch 488/500\n",
      "124/124 [==============================] - 0s 2ms/sample - loss: 6.1417e-04 - accuracy: 1.0000 - val_loss: 0.0036 - val_accuracy: 1.0000\n",
      "Epoch 489/500\n",
      "124/124 [==============================] - 0s 2ms/sample - loss: 7.5101e-04 - accuracy: 1.0000 - val_loss: 0.0048 - val_accuracy: 1.0000\n",
      "Epoch 490/500\n",
      "124/124 [==============================] - 0s 1ms/sample - loss: 6.6106e-04 - accuracy: 1.0000 - val_loss: 0.0035 - val_accuracy: 1.0000\n",
      "Epoch 491/500\n",
      "124/124 [==============================] - 0s 1ms/sample - loss: 5.7533e-04 - accuracy: 1.0000 - val_loss: 0.0031 - val_accuracy: 1.0000\n",
      "Epoch 492/500\n",
      "124/124 [==============================] - 0s 2ms/sample - loss: 6.3570e-04 - accuracy: 1.0000 - val_loss: 0.0031 - val_accuracy: 1.0000\n",
      "Epoch 493/500\n",
      "124/124 [==============================] - 0s 2ms/sample - loss: 5.6967e-04 - accuracy: 1.0000 - val_loss: 0.0034 - val_accuracy: 1.0000\n",
      "Epoch 494/500\n",
      "124/124 [==============================] - 0s 2ms/sample - loss: 5.7418e-04 - accuracy: 1.0000 - val_loss: 0.0033 - val_accuracy: 1.0000\n",
      "Epoch 495/500\n",
      "124/124 [==============================] - 0s 1ms/sample - loss: 5.4953e-04 - accuracy: 1.0000 - val_loss: 0.0029 - val_accuracy: 1.0000\n",
      "Epoch 496/500\n",
      "124/124 [==============================] - 0s 1ms/sample - loss: 5.6251e-04 - accuracy: 1.0000 - val_loss: 0.0037 - val_accuracy: 1.0000\n",
      "Epoch 497/500\n",
      "124/124 [==============================] - 0s 1ms/sample - loss: 6.0959e-04 - accuracy: 1.0000 - val_loss: 0.0028 - val_accuracy: 1.0000\n",
      "Epoch 498/500\n",
      "124/124 [==============================] - 0s 2ms/sample - loss: 6.4257e-04 - accuracy: 1.0000 - val_loss: 0.0030 - val_accuracy: 1.0000\n",
      "Epoch 499/500\n",
      "124/124 [==============================] - 0s 1ms/sample - loss: 5.1989e-04 - accuracy: 1.0000 - val_loss: 0.0030 - val_accuracy: 1.0000\n",
      "Epoch 500/500\n",
      "124/124 [==============================] - 0s 2ms/sample - loss: 4.9315e-04 - accuracy: 1.0000 - val_loss: 0.0045 - val_accuracy: 1.0000\n"
     ]
    },
    {
     "data": {
      "text/plain": [
       "<tensorflow.python.keras.callbacks.History at 0x1a40794750>"
      ]
     },
     "execution_count": 83,
     "metadata": {},
     "output_type": "execute_result"
    }
   ],
   "source": [
    "model.fit(X_train,y_train, validation_data=(X_test,y_test), epochs=500,callbacks=[stop, board])"
   ]
  },
  {
   "cell_type": "code",
   "execution_count": 84,
   "metadata": {},
   "outputs": [],
   "source": [
    "metrics  = pd.DataFrame(model.history.history)"
   ]
  },
  {
   "cell_type": "code",
   "execution_count": 85,
   "metadata": {},
   "outputs": [
    {
     "data": {
      "text/plain": [
       "<matplotlib.axes._subplots.AxesSubplot at 0x1a157d8ed0>"
      ]
     },
     "execution_count": 85,
     "metadata": {},
     "output_type": "execute_result"
    },
    {
     "data": {
      "image/png": "[encoded data removed]",
      "text/plain": [
       "<Figure size 432x288 with 1 Axes>"
      ]
     },
     "metadata": {
      "needs_background": "light"
     },
     "output_type": "display_data"
    }
   ],
   "source": [
    "metrics[[\"loss\", \"val_loss\"]].plot()"
   ]
  },
  {
   "cell_type": "code",
   "execution_count": 86,
   "metadata": {},
   "outputs": [
    {
     "data": {
      "text/plain": [
       "<matplotlib.axes._subplots.AxesSubplot at 0x1a15852610>"
      ]
     },
     "execution_count": 86,
     "metadata": {},
     "output_type": "execute_result"
    },
    {
     "data": {
      "image/png": "[encoded data removed]",
      "text/plain": [
       "<Figure size 1152x432 with 1 Axes>"
      ]
     },
     "metadata": {
      "needs_background": "light"
     },
     "output_type": "display_data"
    }
   ],
   "source": [
    "metrics[[\"accuracy\", \"val_accuracy\"]].plot(figsize = (16,6))"
   ]
  },
  {
   "cell_type": "code",
   "execution_count": 87,
   "metadata": {},
   "outputs": [],
   "source": [
    "from sklearn.metrics import classification_report,confusion_matrix"
   ]
  },
  {
   "cell_type": "code",
   "execution_count": 88,
   "metadata": {},
   "outputs": [],
   "source": [
    "predict = model.predict_classes(X_test)"
   ]
  },
  {
   "cell_type": "code",
   "execution_count": 90,
   "metadata": {},
   "outputs": [
    {
     "data": {
      "text/plain": [
       "array([[1., 0., 0.],\n",
       "       [1., 0., 0.],\n",
       "       [0., 0., 1.],\n",
       "       [1., 0., 0.],\n",
       "       [0., 0., 1.],\n",
       "       [0., 1., 0.],\n",
       "       [0., 0., 1.],\n",
       "       [1., 0., 0.],\n",
       "       [0., 1., 0.],\n",
       "       [0., 1., 0.],\n",
       "       [1., 0., 0.],\n",
       "       [0., 1., 0.],\n",
       "       [1., 0., 0.],\n",
       "       [1., 0., 0.],\n",
       "       [1., 0., 0.],\n",
       "       [1., 0., 0.],\n",
       "       [0., 1., 0.],\n",
       "       [0., 0., 1.],\n",
       "       [0., 1., 0.],\n",
       "       [0., 1., 0.],\n",
       "       [0., 1., 0.],\n",
       "       [0., 0., 1.],\n",
       "       [0., 0., 1.],\n",
       "       [0., 0., 1.],\n",
       "       [1., 0., 0.],\n",
       "       [1., 0., 0.],\n",
       "       [0., 1., 0.],\n",
       "       [0., 1., 0.],\n",
       "       [0., 0., 1.],\n",
       "       [0., 1., 0.],\n",
       "       [0., 0., 1.],\n",
       "       [0., 1., 0.],\n",
       "       [0., 1., 0.],\n",
       "       [1., 0., 0.],\n",
       "       [1., 0., 0.],\n",
       "       [1., 0., 0.],\n",
       "       [1., 0., 0.],\n",
       "       [0., 1., 0.],\n",
       "       [0., 1., 0.],\n",
       "       [0., 0., 1.],\n",
       "       [0., 1., 0.],\n",
       "       [1., 0., 0.],\n",
       "       [1., 0., 0.],\n",
       "       [0., 1., 0.],\n",
       "       [0., 0., 1.],\n",
       "       [0., 1., 0.],\n",
       "       [0., 1., 0.],\n",
       "       [0., 0., 1.],\n",
       "       [0., 0., 1.],\n",
       "       [0., 1., 0.],\n",
       "       [1., 0., 0.],\n",
       "       [0., 1., 0.],\n",
       "       [0., 1., 0.],\n",
       "       [1., 0., 0.]], dtype=float32)"
      ]
     },
     "execution_count": 90,
     "metadata": {},
     "output_type": "execute_result"
    }
   ],
   "source": [
    "y_test"
   ]
  },
  {
   "cell_type": "code",
   "execution_count": 91,
   "metadata": {},
   "outputs": [],
   "source": [
    "y_test_converted = np.argmax(y_test, axis=1)"
   ]
  },
  {
   "cell_type": "code",
   "execution_count": 92,
   "metadata": {},
   "outputs": [
    {
     "data": {
      "text/plain": [
       "array([0, 0, 2, 0, 2, 1, 2, 0, 1, 1, 0, 1, 0, 0, 0, 0, 1, 2, 1, 1, 1, 2,\n",
       "       2, 2, 0, 0, 1, 1, 2, 1, 2, 1, 1, 0, 0, 0, 0, 1, 1, 2, 1, 0, 0, 1,\n",
       "       2, 1, 1, 2, 2, 1, 0, 1, 1, 0])"
      ]
     },
     "execution_count": 92,
     "metadata": {},
     "output_type": "execute_result"
    }
   ],
   "source": [
    "y_test_converted"
   ]
  },
  {
   "cell_type": "markdown",
   "metadata": {},
   "source": [
    "## Model Predicitons\n",
    "- Model Predictied 100% accuracy in classifying the wine\n",
    "- WE will test this below"
   ]
  },
  {
   "cell_type": "code",
   "execution_count": 93,
   "metadata": {},
   "outputs": [
    {
     "name": "stdout",
     "output_type": "stream",
     "text": [
      "              precision    recall  f1-score   support\n",
      "\n",
      "           0       1.00      1.00      1.00        19\n",
      "           1       1.00      1.00      1.00        22\n",
      "           2       1.00      1.00      1.00        13\n",
      "\n",
      "    accuracy                           1.00        54\n",
      "   macro avg       1.00      1.00      1.00        54\n",
      "weighted avg       1.00      1.00      1.00        54\n",
      "\n"
     ]
    }
   ],
   "source": [
    "print(classification_report(y_test_converted, predict))"
   ]
  },
  {
   "cell_type": "markdown",
   "metadata": {},
   "source": [
    "## Random Predictions\n",
    "- Lets see how our model will work if we passed it random images"
   ]
  },
  {
   "cell_type": "code",
   "execution_count": 98,
   "metadata": {},
   "outputs": [],
   "source": [
    "mynumber = X_test[0]"
   ]
  },
  {
   "cell_type": "code",
   "execution_count": 99,
   "metadata": {},
   "outputs": [
    {
     "data": {
      "text/plain": [
       "array([0.53157895, 0.1798419 , 0.63978495, 0.3814433 , 0.23809524,\n",
       "       0.49090909, 0.56647399, 0.30188679, 0.32492114, 0.21171171,\n",
       "       0.4957265 , 0.45421245, 0.58633094])"
      ]
     },
     "execution_count": 99,
     "metadata": {},
     "output_type": "execute_result"
    }
   ],
   "source": [
    "mynumber"
   ]
  },
  {
   "cell_type": "code",
   "execution_count": 134,
   "metadata": {},
   "outputs": [],
   "source": [
    "from random import randint\n",
    "random_index = randint(1, len(X_test))\n",
    "new_wine = X_test[random_index]"
   ]
  },
  {
   "cell_type": "code",
   "execution_count": 135,
   "metadata": {},
   "outputs": [
    {
     "data": {
      "text/plain": [
       "array([0.53947368, 0.62450593, 0.53763441, 0.56185567, 0.41666667,\n",
       "       0.11272727, 0.26589595, 0.39622642, 0.23028391, 0.67567568,\n",
       "       0.02564103, 0.02197802, 0.18705036])"
      ]
     },
     "execution_count": 135,
     "metadata": {},
     "output_type": "execute_result"
    }
   ],
   "source": [
    "new_wine"
   ]
  },
  {
   "cell_type": "code",
   "execution_count": 136,
   "metadata": {},
   "outputs": [
    {
     "data": {
      "text/plain": [
       "array([2])"
      ]
     },
     "execution_count": 136,
     "metadata": {},
     "output_type": "execute_result"
    }
   ],
   "source": [
    "model.predict_classes(new_wine.reshape(1,13))"
   ]
  },
  {
   "cell_type": "code",
   "execution_count": 137,
   "metadata": {},
   "outputs": [
    {
     "data": {
      "text/plain": [
       "2"
      ]
     },
     "execution_count": 137,
     "metadata": {},
     "output_type": "execute_result"
    }
   ],
   "source": [
    "y_test_converted[random_index]"
   ]
  },
  {
   "cell_type": "code",
   "execution_count": 138,
   "metadata": {},
   "outputs": [
    {
     "data": {
      "text/plain": [
       "array([0, 0, 2, 0, 2, 1, 2, 0, 1, 1, 0, 1, 0, 0, 0, 0, 1, 2, 1, 1, 1, 2,\n",
       "       2, 2, 0, 0, 1, 1, 2, 1, 2, 1, 1, 0, 0, 0, 0, 1, 1, 2, 1, 0, 0, 1,\n",
       "       2, 1, 1, 2, 2, 1, 0, 1, 1, 0])"
      ]
     },
     "execution_count": 138,
     "metadata": {},
     "output_type": "execute_result"
    }
   ],
   "source": [
    "y_test_converted"
   ]
  },
  {
   "cell_type": "code",
   "execution_count": null,
   "metadata": {},
   "outputs": [],
   "source": []
  },
  {
   "cell_type": "code",
   "execution_count": null,
   "metadata": {},
   "outputs": [],
   "source": []
  }
 ],
 "metadata": {
  "kernelspec": {
   "display_name": "Python 3",
   "language": "python",
   "name": "python3"
  },
  "language_info": {
   "codemirror_mode": {
    "name": "ipython",
    "version": 3
   },
   "file_extension": ".py",
   "mimetype": "text/x-python",
   "name": "python",
   "nbconvert_exporter": "python",
   "pygments_lexer": "ipython3",
   "version": "3.7.6"
  }
 },
 "nbformat": 4,
 "nbformat_minor": 2
}
