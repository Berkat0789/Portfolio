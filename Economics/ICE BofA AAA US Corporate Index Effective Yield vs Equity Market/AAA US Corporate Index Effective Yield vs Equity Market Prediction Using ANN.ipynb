{
 "cells": [
  {
   "cell_type": "markdown",
   "metadata": {},
   "source": [
    "### Project Overview\n",
    "- Your goal for this project is to create an Artificial Neural Network that will aim to predict the AAA US Corporate Index Effective Yield using the equity markets (\"^GSPC\", \"^DJI\", \"^IXIC\",  \"^RUT\") as your features. \n",
    "- 20 year time frame beginning 2000\n",
    "- What realationship did you find between the equity market and the AAA US Corporate Index Effective Yield?\n",
    "- How accurate is your model in predicting the AAA US Corporate Index Effective Yield?\n",
    "- How could you improve this model if possible. "
   ]
  },
  {
   "cell_type": "markdown",
   "metadata": {},
   "source": [
    "## Data/Acknowledgement\n",
    "- AAA US Corporate Index Effective Yield will be downloaded from the https://fred.stlouisfed.org/series/BAMLC0A1CAAAEY\n",
    "- Equity data will be collected from the Pandas_Datareader library with a 20 year time frame"
   ]
  },
  {
   "cell_type": "markdown",
   "metadata": {},
   "source": [
    "### Project Inspiration\n",
    "- The AAA US Corporate Index Effective Yield is inversely coorelatied to the Equity markets about 50% over a 20 year span. This would present the possibility that there is some predictive capability in these markets. Though we do not know exactly were we can use a Artificial Neural Network to find out if our theory is correct."
   ]
  },
  {
   "cell_type": "markdown",
   "metadata": {},
   "source": [
    "### Project Results \n",
    "- Equity Markets have a 94% explained variance score for relative to the AAA US Corporate Index Effective Yield\n",
    "- We can conclude that we can make accurate prediciton of the value of AAA US Corporate Index Effective Yield based on the equity markets. \n",
    "- We may also conclude that we can do inverse  where the AAA US Corporate Index Effective Yield could predice the value of the Equity Markets"
   ]
  },
  {
   "cell_type": "code",
   "execution_count": 14,
   "metadata": {},
   "outputs": [],
   "source": [
    "import pandas as pd\n",
    "import numpy as np\n",
    "from pandas_datareader import data as web\n",
    "import matplotlib.pyplot as plt\n",
    "import seaborn as sns"
   ]
  },
  {
   "cell_type": "markdown",
   "metadata": {},
   "source": [
    "### Importing data\n",
    "- will need to convert the  AAA US Corporate Index Effective Yield values to numeric, but first remove the . values in the data set"
   ]
  },
  {
   "cell_type": "code",
   "execution_count": 18,
   "metadata": {},
   "outputs": [],
   "source": [
    "aaa_yield = pd.DataFrame(pd.read_csv(\"resources/aaayield.csv\", index_col=\"DATE\", parse_dates = True))"
   ]
  },
  {
   "cell_type": "code",
   "execution_count": 19,
   "metadata": {},
   "outputs": [],
   "source": [
    "aaa_yield.columns = [\"AAA\"]"
   ]
  },
  {
   "cell_type": "code",
   "execution_count": 23,
   "metadata": {},
   "outputs": [],
   "source": [
    "aaa_yield.replace([\".\"], np.nan, inplace=True)"
   ]
  },
  {
   "cell_type": "code",
   "execution_count": 27,
   "metadata": {},
   "outputs": [],
   "source": [
    "aaa_yield = pd.to_numeric(aaa_yield[\"AAA\"])"
   ]
  },
  {
   "cell_type": "code",
   "execution_count": 29,
   "metadata": {},
   "outputs": [],
   "source": [
    "aaa_yield  = pd.DataFrame(aaa_yield)"
   ]
  },
  {
   "cell_type": "markdown",
   "metadata": {},
   "source": [
    "### Visualization\n",
    "- the AAA US Corporate Index Effective Yield has fallen below 2% only two times since 1996\n",
    "- appears the second time is during our current crisis (Covid-19) and 2012"
   ]
  },
  {
   "cell_type": "code",
   "execution_count": 37,
   "metadata": {},
   "outputs": [
    {
     "data": {
      "text/html": [
       "<div>\n",
       "<style scoped>\n",
       "    .dataframe tbody tr th:only-of-type {\n",
       "        vertical-align: middle;\n",
       "    }\n",
       "\n",
       "    .dataframe tbody tr th {\n",
       "        vertical-align: top;\n",
       "    }\n",
       "\n",
       "    .dataframe thead th {\n",
       "        text-align: right;\n",
       "    }\n",
       "</style>\n",
       "<table border=\"1\" class=\"dataframe\">\n",
       "  <thead>\n",
       "    <tr style=\"text-align: right;\">\n",
       "      <th></th>\n",
       "      <th>AAA</th>\n",
       "    </tr>\n",
       "    <tr>\n",
       "      <th>DATE</th>\n",
       "      <th></th>\n",
       "    </tr>\n",
       "  </thead>\n",
       "  <tbody>\n",
       "    <tr>\n",
       "      <td>2012-01-30</td>\n",
       "      <td>1.98</td>\n",
       "    </tr>\n",
       "    <tr>\n",
       "      <td>2012-01-31</td>\n",
       "      <td>1.97</td>\n",
       "    </tr>\n",
       "    <tr>\n",
       "      <td>2012-02-01</td>\n",
       "      <td>1.99</td>\n",
       "    </tr>\n",
       "    <tr>\n",
       "      <td>2012-02-02</td>\n",
       "      <td>1.99</td>\n",
       "    </tr>\n",
       "    <tr>\n",
       "      <td>2012-02-10</td>\n",
       "      <td>1.99</td>\n",
       "    </tr>\n",
       "    <tr>\n",
       "      <td>...</td>\n",
       "      <td>...</td>\n",
       "    </tr>\n",
       "    <tr>\n",
       "      <td>2020-07-01</td>\n",
       "      <td>1.63</td>\n",
       "    </tr>\n",
       "    <tr>\n",
       "      <td>2020-07-02</td>\n",
       "      <td>1.60</td>\n",
       "    </tr>\n",
       "    <tr>\n",
       "      <td>2020-07-03</td>\n",
       "      <td>1.60</td>\n",
       "    </tr>\n",
       "    <tr>\n",
       "      <td>2020-07-06</td>\n",
       "      <td>1.58</td>\n",
       "    </tr>\n",
       "    <tr>\n",
       "      <td>2020-07-07</td>\n",
       "      <td>1.55</td>\n",
       "    </tr>\n",
       "  </tbody>\n",
       "</table>\n",
       "<p>313 rows × 1 columns</p>\n",
       "</div>"
      ],
      "text/plain": [
       "             AAA\n",
       "DATE            \n",
       "2012-01-30  1.98\n",
       "2012-01-31  1.97\n",
       "2012-02-01  1.99\n",
       "2012-02-02  1.99\n",
       "2012-02-10  1.99\n",
       "...          ...\n",
       "2020-07-01  1.63\n",
       "2020-07-02  1.60\n",
       "2020-07-03  1.60\n",
       "2020-07-06  1.58\n",
       "2020-07-07  1.55\n",
       "\n",
       "[313 rows x 1 columns]"
      ]
     },
     "execution_count": 37,
     "metadata": {},
     "output_type": "execute_result"
    }
   ],
   "source": [
    "aaa_yield[aaa_yield[\"AAA\"] < 2]"
   ]
  },
  {
   "cell_type": "code",
   "execution_count": 35,
   "metadata": {},
   "outputs": [
    {
     "data": {
      "text/plain": [
       "Text(0.5, 1.0, 'AAA US Corporate Index Effective Yield')"
      ]
     },
     "execution_count": 35,
     "metadata": {},
     "output_type": "execute_result"
    },
    {
     "data": {
      "image/png": "[encoded data removed]",
      "text/plain": [
       "<Figure size 1152x432 with 1 Axes>"
      ]
     },
     "metadata": {
      "needs_background": "light"
     },
     "output_type": "display_data"
    }
   ],
   "source": [
    "aaa_yield.plot(figsize = (16,6));\n",
    "plt.xlabel(\"Year\")\n",
    "plt.ylabel(\"Percent\")\n",
    "plt.title(\"AAA US Corporate Index Effective Yield\")"
   ]
  },
  {
   "cell_type": "markdown",
   "metadata": {},
   "source": [
    "### Equity Markets Data\n",
    "- Will gather data form the S&P 500, Dow, Nasdaq, and Russell 2000 \n",
    "- Will be best to use the Open data in the attempt to predict the AAA US Corporate Index Effective Yield"
   ]
  },
  {
   "cell_type": "code",
   "execution_count": 38,
   "metadata": {},
   "outputs": [],
   "source": [
    "tickers = [\"^GSPC\", \"^DJI\", \"^IXIC\",  \"^RUT\"]"
   ]
  },
  {
   "cell_type": "code",
   "execution_count": 39,
   "metadata": {},
   "outputs": [],
   "source": [
    "equity_data = pd.DataFrame()"
   ]
  },
  {
   "cell_type": "code",
   "execution_count": 40,
   "metadata": {},
   "outputs": [],
   "source": [
    "for t in tickers:\n",
    "    equity_data[t] = web.DataReader(t, data_source=\"yahoo\", start = \"2000\")[\"Close\"]"
   ]
  },
  {
   "cell_type": "code",
   "execution_count": 43,
   "metadata": {},
   "outputs": [
    {
     "data": {
      "text/plain": [
       "<matplotlib.axes._subplots.AxesSubplot at 0x1a1d240a50>"
      ]
     },
     "execution_count": 43,
     "metadata": {},
     "output_type": "execute_result"
    },
    {
     "data": {
      "image/png": "[encoded data removed]",
      "text/plain": [
       "<Figure size 1152x432 with 1 Axes>"
      ]
     },
     "metadata": {
      "needs_background": "light"
     },
     "output_type": "display_data"
    }
   ],
   "source": [
    "equity_data.plot(figsize = (16,6))"
   ]
  },
  {
   "cell_type": "markdown",
   "metadata": {},
   "source": [
    "### Combining data sets\n",
    "- Will combine the data for the AAA US Corporate Index Effective Yield and the equity markets\n",
    "- will need to adjust the time frames acccordingly"
   ]
  },
  {
   "cell_type": "code",
   "execution_count": 47,
   "metadata": {},
   "outputs": [],
   "source": [
    "working_data = pd.concat([equity_data, aaa_yield.loc[\"2000-01-03\":]], axis=1)"
   ]
  },
  {
   "cell_type": "code",
   "execution_count": 48,
   "metadata": {},
   "outputs": [
    {
     "data": {
      "text/html": [
       "<div>\n",
       "<style scoped>\n",
       "    .dataframe tbody tr th:only-of-type {\n",
       "        vertical-align: middle;\n",
       "    }\n",
       "\n",
       "    .dataframe tbody tr th {\n",
       "        vertical-align: top;\n",
       "    }\n",
       "\n",
       "    .dataframe thead th {\n",
       "        text-align: right;\n",
       "    }\n",
       "</style>\n",
       "<table border=\"1\" class=\"dataframe\">\n",
       "  <thead>\n",
       "    <tr style=\"text-align: right;\">\n",
       "      <th></th>\n",
       "      <th>^GSPC</th>\n",
       "      <th>^DJI</th>\n",
       "      <th>^IXIC</th>\n",
       "      <th>^RUT</th>\n",
       "      <th>AAA</th>\n",
       "    </tr>\n",
       "  </thead>\n",
       "  <tbody>\n",
       "    <tr>\n",
       "      <td>2000-01-03</td>\n",
       "      <td>1455.219971</td>\n",
       "      <td>11357.509766</td>\n",
       "      <td>4131.149902</td>\n",
       "      <td>496.420013</td>\n",
       "      <td>7.41</td>\n",
       "    </tr>\n",
       "    <tr>\n",
       "      <td>2000-01-04</td>\n",
       "      <td>1399.420044</td>\n",
       "      <td>10997.929688</td>\n",
       "      <td>3901.689941</td>\n",
       "      <td>478.380005</td>\n",
       "      <td>7.34</td>\n",
       "    </tr>\n",
       "    <tr>\n",
       "      <td>2000-01-05</td>\n",
       "      <td>1402.109985</td>\n",
       "      <td>11122.650391</td>\n",
       "      <td>3877.540039</td>\n",
       "      <td>478.829987</td>\n",
       "      <td>7.42</td>\n",
       "    </tr>\n",
       "    <tr>\n",
       "      <td>2000-01-06</td>\n",
       "      <td>1403.449951</td>\n",
       "      <td>11253.259766</td>\n",
       "      <td>3727.129883</td>\n",
       "      <td>475.339996</td>\n",
       "      <td>7.37</td>\n",
       "    </tr>\n",
       "    <tr>\n",
       "      <td>2000-01-07</td>\n",
       "      <td>1441.469971</td>\n",
       "      <td>11522.559570</td>\n",
       "      <td>3882.620117</td>\n",
       "      <td>488.309998</td>\n",
       "      <td>7.35</td>\n",
       "    </tr>\n",
       "    <tr>\n",
       "      <td>...</td>\n",
       "      <td>...</td>\n",
       "      <td>...</td>\n",
       "      <td>...</td>\n",
       "      <td>...</td>\n",
       "      <td>...</td>\n",
       "    </tr>\n",
       "    <tr>\n",
       "      <td>2020-07-02</td>\n",
       "      <td>3130.010010</td>\n",
       "      <td>25827.359375</td>\n",
       "      <td>10207.629883</td>\n",
       "      <td>1431.859985</td>\n",
       "      <td>1.60</td>\n",
       "    </tr>\n",
       "    <tr>\n",
       "      <td>2020-07-03</td>\n",
       "      <td>NaN</td>\n",
       "      <td>NaN</td>\n",
       "      <td>NaN</td>\n",
       "      <td>NaN</td>\n",
       "      <td>1.60</td>\n",
       "    </tr>\n",
       "    <tr>\n",
       "      <td>2020-07-06</td>\n",
       "      <td>3179.719971</td>\n",
       "      <td>26287.029297</td>\n",
       "      <td>10433.650391</td>\n",
       "      <td>1442.880005</td>\n",
       "      <td>1.58</td>\n",
       "    </tr>\n",
       "    <tr>\n",
       "      <td>2020-07-07</td>\n",
       "      <td>3145.320068</td>\n",
       "      <td>25890.179688</td>\n",
       "      <td>10343.889648</td>\n",
       "      <td>1416.000000</td>\n",
       "      <td>1.55</td>\n",
       "    </tr>\n",
       "    <tr>\n",
       "      <td>2020-07-08</td>\n",
       "      <td>3149.399902</td>\n",
       "      <td>25873.189453</td>\n",
       "      <td>10418.022461</td>\n",
       "      <td>1415.635132</td>\n",
       "      <td>NaN</td>\n",
       "    </tr>\n",
       "  </tbody>\n",
       "</table>\n",
       "<p>5422 rows × 5 columns</p>\n",
       "</div>"
      ],
      "text/plain": [
       "                  ^GSPC          ^DJI         ^IXIC         ^RUT   AAA\n",
       "2000-01-03  1455.219971  11357.509766   4131.149902   496.420013  7.41\n",
       "2000-01-04  1399.420044  10997.929688   3901.689941   478.380005  7.34\n",
       "2000-01-05  1402.109985  11122.650391   3877.540039   478.829987  7.42\n",
       "2000-01-06  1403.449951  11253.259766   3727.129883   475.339996  7.37\n",
       "2000-01-07  1441.469971  11522.559570   3882.620117   488.309998  7.35\n",
       "...                 ...           ...           ...          ...   ...\n",
       "2020-07-02  3130.010010  25827.359375  10207.629883  1431.859985  1.60\n",
       "2020-07-03          NaN           NaN           NaN          NaN  1.60\n",
       "2020-07-06  3179.719971  26287.029297  10433.650391  1442.880005  1.58\n",
       "2020-07-07  3145.320068  25890.179688  10343.889648  1416.000000  1.55\n",
       "2020-07-08  3149.399902  25873.189453  10418.022461  1415.635132   NaN\n",
       "\n",
       "[5422 rows x 5 columns]"
      ]
     },
     "execution_count": 48,
     "metadata": {},
     "output_type": "execute_result"
    }
   ],
   "source": [
    "working_data"
   ]
  },
  {
   "cell_type": "markdown",
   "metadata": {},
   "source": [
    "### Removing  Nan values and checking coorelation\n",
    "- Will remove the null values and check the coorelation between the data series "
   ]
  },
  {
   "cell_type": "code",
   "execution_count": 50,
   "metadata": {},
   "outputs": [],
   "source": [
    "working_data.dropna(inplace= True)"
   ]
  },
  {
   "cell_type": "markdown",
   "metadata": {},
   "source": [
    "### Correlation Report\n",
    "- The equity market is inversely correlated to the AAA US Corporate Index Effective Yield \n",
    "- More so to the russell 2000"
   ]
  },
  {
   "cell_type": "code",
   "execution_count": 52,
   "metadata": {},
   "outputs": [
    {
     "data": {
      "text/html": [
       "<div>\n",
       "<style scoped>\n",
       "    .dataframe tbody tr th:only-of-type {\n",
       "        vertical-align: middle;\n",
       "    }\n",
       "\n",
       "    .dataframe tbody tr th {\n",
       "        vertical-align: top;\n",
       "    }\n",
       "\n",
       "    .dataframe thead th {\n",
       "        text-align: right;\n",
       "    }\n",
       "</style>\n",
       "<table border=\"1\" class=\"dataframe\">\n",
       "  <thead>\n",
       "    <tr style=\"text-align: right;\">\n",
       "      <th></th>\n",
       "      <th>^GSPC</th>\n",
       "      <th>^DJI</th>\n",
       "      <th>^IXIC</th>\n",
       "      <th>^RUT</th>\n",
       "      <th>AAA</th>\n",
       "    </tr>\n",
       "  </thead>\n",
       "  <tbody>\n",
       "    <tr>\n",
       "      <td>^GSPC</td>\n",
       "      <td>1.000000</td>\n",
       "      <td>0.992026</td>\n",
       "      <td>0.984743</td>\n",
       "      <td>0.960358</td>\n",
       "      <td>-0.453887</td>\n",
       "    </tr>\n",
       "    <tr>\n",
       "      <td>^DJI</td>\n",
       "      <td>0.992026</td>\n",
       "      <td>1.000000</td>\n",
       "      <td>0.972113</td>\n",
       "      <td>0.971461</td>\n",
       "      <td>-0.502712</td>\n",
       "    </tr>\n",
       "    <tr>\n",
       "      <td>^IXIC</td>\n",
       "      <td>0.984743</td>\n",
       "      <td>0.972113</td>\n",
       "      <td>1.000000</td>\n",
       "      <td>0.926777</td>\n",
       "      <td>-0.439385</td>\n",
       "    </tr>\n",
       "    <tr>\n",
       "      <td>^RUT</td>\n",
       "      <td>0.960358</td>\n",
       "      <td>0.971461</td>\n",
       "      <td>0.926777</td>\n",
       "      <td>1.000000</td>\n",
       "      <td>-0.576680</td>\n",
       "    </tr>\n",
       "    <tr>\n",
       "      <td>AAA</td>\n",
       "      <td>-0.453887</td>\n",
       "      <td>-0.502712</td>\n",
       "      <td>-0.439385</td>\n",
       "      <td>-0.576680</td>\n",
       "      <td>1.000000</td>\n",
       "    </tr>\n",
       "  </tbody>\n",
       "</table>\n",
       "</div>"
      ],
      "text/plain": [
       "          ^GSPC      ^DJI     ^IXIC      ^RUT       AAA\n",
       "^GSPC  1.000000  0.992026  0.984743  0.960358 -0.453887\n",
       "^DJI   0.992026  1.000000  0.972113  0.971461 -0.502712\n",
       "^IXIC  0.984743  0.972113  1.000000  0.926777 -0.439385\n",
       "^RUT   0.960358  0.971461  0.926777  1.000000 -0.576680\n",
       "AAA   -0.453887 -0.502712 -0.439385 -0.576680  1.000000"
      ]
     },
     "execution_count": 52,
     "metadata": {},
     "output_type": "execute_result"
    }
   ],
   "source": [
    "working_data.corr()"
   ]
  },
  {
   "cell_type": "code",
   "execution_count": 54,
   "metadata": {},
   "outputs": [
    {
     "data": {
      "image/png": "[encoded data removed]",
      "text/plain": [
       "<Figure size 1152x432 with 2 Axes>"
      ]
     },
     "metadata": {
      "needs_background": "light"
     },
     "output_type": "display_data"
    }
   ],
   "source": [
    "plt.figure(figsize=(16,6))\n",
    "sns.heatmap(working_data.corr(), annot= True, cmap= \"coolwarm\");"
   ]
  },
  {
   "cell_type": "markdown",
   "metadata": {},
   "source": [
    "### Data prepration \n",
    "- The theory for this project is that the the equity market should have some predictive capabilities on the the AAA US Corporate Index Effective Yield since they are inversely coorelated. \n",
    "- Will test this theory below"
   ]
  },
  {
   "cell_type": "code",
   "execution_count": 56,
   "metadata": {},
   "outputs": [],
   "source": [
    "X = working_data.drop(\"AAA\", axis=1).values\n",
    "y = working_data[\"AAA\"].values"
   ]
  },
  {
   "cell_type": "markdown",
   "metadata": {},
   "source": [
    "### Training Testing and Splitting data"
   ]
  },
  {
   "cell_type": "code",
   "execution_count": 57,
   "metadata": {},
   "outputs": [],
   "source": [
    "from sklearn.model_selection import train_test_split"
   ]
  },
  {
   "cell_type": "code",
   "execution_count": 59,
   "metadata": {},
   "outputs": [],
   "source": [
    "X_train, X_test, y_train, y_test = train_test_split(X, y, test_size=0.40, random_state=101)"
   ]
  },
  {
   "cell_type": "code",
   "execution_count": 61,
   "metadata": {},
   "outputs": [
    {
     "data": {
      "text/plain": [
       "(2063, 4)"
      ]
     },
     "execution_count": 61,
     "metadata": {},
     "output_type": "execute_result"
    }
   ],
   "source": [
    "X_test.shape"
   ]
  },
  {
   "cell_type": "code",
   "execution_count": 62,
   "metadata": {},
   "outputs": [
    {
     "data": {
      "text/plain": [
       "array([4.49, 4.49, 2.45, ..., 6.93, 2.47, 5.39])"
      ]
     },
     "execution_count": 62,
     "metadata": {},
     "output_type": "execute_result"
    }
   ],
   "source": [
    "y_test"
   ]
  },
  {
   "cell_type": "markdown",
   "metadata": {},
   "source": [
    "## Scaling the Data \n",
    "- Will scale the X values to a normal disribution "
   ]
  },
  {
   "cell_type": "code",
   "execution_count": 64,
   "metadata": {},
   "outputs": [],
   "source": [
    "from sklearn.preprocessing import MinMaxScaler"
   ]
  },
  {
   "cell_type": "code",
   "execution_count": 65,
   "metadata": {},
   "outputs": [],
   "source": [
    "scalar = MinMaxScaler()"
   ]
  },
  {
   "cell_type": "code",
   "execution_count": 68,
   "metadata": {},
   "outputs": [],
   "source": [
    "X_train = scalar.fit_transform(X_train)"
   ]
  },
  {
   "cell_type": "code",
   "execution_count": 69,
   "metadata": {},
   "outputs": [],
   "source": [
    "X_test = scalar.transform(X_test)"
   ]
  },
  {
   "cell_type": "markdown",
   "metadata": {},
   "source": [
    "### Early Stopping\n",
    "- will use to prevent overtraining of the model"
   ]
  },
  {
   "cell_type": "code",
   "execution_count": 70,
   "metadata": {},
   "outputs": [],
   "source": [
    "from tensorflow.keras.callbacks import EarlyStopping"
   ]
  },
  {
   "cell_type": "code",
   "execution_count": 71,
   "metadata": {},
   "outputs": [],
   "source": [
    "stop = EarlyStopping(monitor=\"val_loss\", mode=\"min\", patience=30)"
   ]
  },
  {
   "cell_type": "markdown",
   "metadata": {},
   "source": [
    "### Creating Model"
   ]
  },
  {
   "cell_type": "code",
   "execution_count": 72,
   "metadata": {},
   "outputs": [],
   "source": [
    "from tensorflow.keras.models import Sequential\n",
    "from tensorflow.keras.layers import Dense, Dropout"
   ]
  },
  {
   "cell_type": "code",
   "execution_count": 73,
   "metadata": {},
   "outputs": [],
   "source": [
    "model = Sequential()\n",
    "model.add(Dense(units = 200, activation = \"relu\"))\n",
    "model.add(Dropout(0.5))\n",
    "model.add(Dense(units = 200, activation = \"relu\"))\n",
    "model.add(Dropout(0.5))\n",
    "model.add(Dense(units = 100, activation = \"relu\"))\n",
    "model.add(Dropout(0.5))\n",
    "model.add(Dense(units = 100, activation = \"relu\"))\n",
    "model.add(Dense(units = 1))\n",
    "model.compile(loss = \"mse\", optimizer = \"adam\")"
   ]
  },
  {
   "cell_type": "markdown",
   "metadata": {},
   "source": [
    "### Fitting the model to data"
   ]
  },
  {
   "cell_type": "code",
   "execution_count": 74,
   "metadata": {},
   "outputs": [
    {
     "name": "stdout",
     "output_type": "stream",
     "text": [
      "Train on 3094 samples, validate on 2063 samples\n",
      "Epoch 1/300\n",
      "3094/3094 [==============================] - 5s 1ms/sample - loss: 5.1425 - val_loss: 1.6147\n",
      "Epoch 2/300\n",
      "3094/3094 [==============================] - 2s 638us/sample - loss: 1.5040 - val_loss: 1.0836\n",
      "Epoch 3/300\n",
      "3094/3094 [==============================] - 2s 647us/sample - loss: 1.2604 - val_loss: 1.0477\n",
      "Epoch 4/300\n",
      "3094/3094 [==============================] - 2s 631us/sample - loss: 1.1305 - val_loss: 0.7912\n",
      "Epoch 5/300\n",
      "3094/3094 [==============================] - 2s 633us/sample - loss: 1.0155 - val_loss: 0.6850\n",
      "Epoch 6/300\n",
      "3094/3094 [==============================] - 2s 622us/sample - loss: 0.8992 - val_loss: 0.7384\n",
      "Epoch 7/300\n",
      "3094/3094 [==============================] - 2s 623us/sample - loss: 0.8329 - val_loss: 0.5447\n",
      "Epoch 8/300\n",
      "3094/3094 [==============================] - 2s 628us/sample - loss: 0.7010 - val_loss: 0.4170\n",
      "Epoch 9/300\n",
      "3094/3094 [==============================] - 2s 630us/sample - loss: 0.6628 - val_loss: 0.3740\n",
      "Epoch 10/300\n",
      "3094/3094 [==============================] - 2s 649us/sample - loss: 0.5592 - val_loss: 0.3021\n",
      "Epoch 11/300\n",
      "3094/3094 [==============================] - 2s 635us/sample - loss: 0.5339 - val_loss: 0.3274\n",
      "Epoch 12/300\n",
      "3094/3094 [==============================] - 2s 636us/sample - loss: 0.4877 - val_loss: 0.2804\n",
      "Epoch 13/300\n",
      "3094/3094 [==============================] - 2s 635us/sample - loss: 0.4870 - val_loss: 0.2851\n",
      "Epoch 14/300\n",
      "3094/3094 [==============================] - 2s 638us/sample - loss: 0.4744 - val_loss: 0.2766\n",
      "Epoch 15/300\n",
      "3094/3094 [==============================] - 2s 625us/sample - loss: 0.4185 - val_loss: 0.2544\n",
      "Epoch 16/300\n",
      "3094/3094 [==============================] - 2s 627us/sample - loss: 0.4268 - val_loss: 0.2147\n",
      "Epoch 17/300\n",
      "3094/3094 [==============================] - 2s 617us/sample - loss: 0.4214 - val_loss: 0.2028\n",
      "Epoch 18/300\n",
      "3094/3094 [==============================] - 2s 625us/sample - loss: 0.3893 - val_loss: 0.2433\n",
      "Epoch 19/300\n",
      "3094/3094 [==============================] - 2s 612us/sample - loss: 0.3999 - val_loss: 0.2172\n",
      "Epoch 20/300\n",
      "3094/3094 [==============================] - 2s 620us/sample - loss: 0.3706 - val_loss: 0.2256\n",
      "Epoch 21/300\n",
      "3094/3094 [==============================] - 2s 616us/sample - loss: 0.3772 - val_loss: 0.2071\n",
      "Epoch 22/300\n",
      "3094/3094 [==============================] - 2s 615us/sample - loss: 0.3468 - val_loss: 0.2511\n",
      "Epoch 23/300\n",
      "3094/3094 [==============================] - 2s 630us/sample - loss: 0.3483 - val_loss: 0.1758\n",
      "Epoch 24/300\n",
      "3094/3094 [==============================] - 2s 615us/sample - loss: 0.3315 - val_loss: 0.1749\n",
      "Epoch 25/300\n",
      "3094/3094 [==============================] - 2s 618us/sample - loss: 0.3291 - val_loss: 0.2043\n",
      "Epoch 26/300\n",
      "3094/3094 [==============================] - 2s 620us/sample - loss: 0.3253 - val_loss: 0.1649\n",
      "Epoch 27/300\n",
      "3094/3094 [==============================] - 2s 616us/sample - loss: 0.3144 - val_loss: 0.1903\n",
      "Epoch 28/300\n",
      "3094/3094 [==============================] - 2s 623us/sample - loss: 0.3238 - val_loss: 0.1674\n",
      "Epoch 29/300\n",
      "3094/3094 [==============================] - 2s 614us/sample - loss: 0.3149 - val_loss: 0.1641\n",
      "Epoch 30/300\n",
      "3094/3094 [==============================] - 2s 617us/sample - loss: 0.2853 - val_loss: 0.1538\n",
      "Epoch 31/300\n",
      "3094/3094 [==============================] - 2s 620us/sample - loss: 0.2779 - val_loss: 0.1506\n",
      "Epoch 32/300\n",
      "3094/3094 [==============================] - 2s 612us/sample - loss: 0.2893 - val_loss: 0.1741\n",
      "Epoch 33/300\n",
      "3094/3094 [==============================] - 2s 623us/sample - loss: 0.2850 - val_loss: 0.1743\n",
      "Epoch 34/300\n",
      "3094/3094 [==============================] - 2s 616us/sample - loss: 0.2711 - val_loss: 0.1732\n",
      "Epoch 35/300\n",
      "3094/3094 [==============================] - 2s 612us/sample - loss: 0.2520 - val_loss: 0.1665\n",
      "Epoch 36/300\n",
      "3094/3094 [==============================] - 2s 621us/sample - loss: 0.2513 - val_loss: 0.1703\n",
      "Epoch 37/300\n",
      "3094/3094 [==============================] - 2s 612us/sample - loss: 0.2525 - val_loss: 0.1583\n",
      "Epoch 38/300\n",
      "3094/3094 [==============================] - 2s 622us/sample - loss: 0.2335 - val_loss: 0.1712\n",
      "Epoch 39/300\n",
      "3094/3094 [==============================] - 2s 620us/sample - loss: 0.2355 - val_loss: 0.1580\n",
      "Epoch 40/300\n",
      "3094/3094 [==============================] - 2s 615us/sample - loss: 0.2257 - val_loss: 0.1994\n",
      "Epoch 41/300\n",
      "3094/3094 [==============================] - 2s 615us/sample - loss: 0.2280 - val_loss: 0.1512\n",
      "Epoch 42/300\n",
      "3094/3094 [==============================] - 2s 623us/sample - loss: 0.2281 - val_loss: 0.2419\n",
      "Epoch 43/300\n",
      "3094/3094 [==============================] - 2s 620us/sample - loss: 0.2268 - val_loss: 0.1673\n",
      "Epoch 44/300\n",
      "3094/3094 [==============================] - 2s 627us/sample - loss: 0.2321 - val_loss: 0.1863\n",
      "Epoch 45/300\n",
      "3094/3094 [==============================] - 2s 608us/sample - loss: 0.2176 - val_loss: 0.1535\n",
      "Epoch 46/300\n",
      "3094/3094 [==============================] - 2s 616us/sample - loss: 0.2065 - val_loss: 0.1558\n",
      "Epoch 47/300\n",
      "3094/3094 [==============================] - 2s 615us/sample - loss: 0.2241 - val_loss: 0.1543\n",
      "Epoch 48/300\n",
      "3094/3094 [==============================] - 2s 616us/sample - loss: 0.2044 - val_loss: 0.1740\n",
      "Epoch 49/300\n",
      "3094/3094 [==============================] - 2s 628us/sample - loss: 0.2211 - val_loss: 0.1620\n",
      "Epoch 50/300\n",
      "3094/3094 [==============================] - 2s 618us/sample - loss: 0.2326 - val_loss: 0.1704\n",
      "Epoch 51/300\n",
      "3094/3094 [==============================] - 2s 614us/sample - loss: 0.2140 - val_loss: 0.1442\n",
      "Epoch 52/300\n",
      "3094/3094 [==============================] - 2s 613us/sample - loss: 0.2005 - val_loss: 0.1528\n",
      "Epoch 53/300\n",
      "3094/3094 [==============================] - 2s 613us/sample - loss: 0.2304 - val_loss: 0.1444\n",
      "Epoch 54/300\n",
      "3094/3094 [==============================] - 2s 621us/sample - loss: 0.2188 - val_loss: 0.1393\n",
      "Epoch 55/300\n",
      "3094/3094 [==============================] - 2s 619us/sample - loss: 0.2179 - val_loss: 0.1857\n",
      "Epoch 56/300\n",
      "3094/3094 [==============================] - 2s 619us/sample - loss: 0.2201 - val_loss: 0.1363\n",
      "Epoch 57/300\n",
      "3094/3094 [==============================] - 2s 614us/sample - loss: 0.2145 - val_loss: 0.1728\n",
      "Epoch 58/300\n",
      "3094/3094 [==============================] - 2s 615us/sample - loss: 0.2133 - val_loss: 0.1783\n",
      "Epoch 59/300\n",
      "3094/3094 [==============================] - 2s 619us/sample - loss: 0.1914 - val_loss: 0.1660\n",
      "Epoch 60/300\n",
      "3094/3094 [==============================] - 2s 617us/sample - loss: 0.2051 - val_loss: 0.1326\n",
      "Epoch 61/300\n",
      "3094/3094 [==============================] - 2s 611us/sample - loss: 0.1989 - val_loss: 0.1378\n",
      "Epoch 62/300\n",
      "3094/3094 [==============================] - 2s 616us/sample - loss: 0.1846 - val_loss: 0.1260\n",
      "Epoch 63/300\n",
      "3094/3094 [==============================] - 2s 615us/sample - loss: 0.2014 - val_loss: 0.1449\n",
      "Epoch 64/300\n",
      "3094/3094 [==============================] - 2s 617us/sample - loss: 0.2226 - val_loss: 0.1642\n",
      "Epoch 65/300\n",
      "3094/3094 [==============================] - 2s 616us/sample - loss: 0.1951 - val_loss: 0.1220\n",
      "Epoch 66/300\n",
      "3094/3094 [==============================] - 2s 615us/sample - loss: 0.1926 - val_loss: 0.1323\n",
      "Epoch 67/300\n",
      "3094/3094 [==============================] - 2s 619us/sample - loss: 0.1993 - val_loss: 0.1360\n",
      "Epoch 68/300\n",
      "3094/3094 [==============================] - 2s 619us/sample - loss: 0.1885 - val_loss: 0.1315\n",
      "Epoch 69/300\n",
      "3094/3094 [==============================] - 2s 616us/sample - loss: 0.1786 - val_loss: 0.1590\n",
      "Epoch 70/300\n",
      "3094/3094 [==============================] - 2s 618us/sample - loss: 0.2052 - val_loss: 0.1352\n",
      "Epoch 71/300\n",
      "3094/3094 [==============================] - 2s 617us/sample - loss: 0.1984 - val_loss: 0.1139\n",
      "Epoch 72/300\n",
      "3094/3094 [==============================] - 2s 617us/sample - loss: 0.2082 - val_loss: 0.1260\n",
      "Epoch 73/300\n",
      "3094/3094 [==============================] - 2s 616us/sample - loss: 0.2118 - val_loss: 0.1531\n",
      "Epoch 74/300\n",
      "3094/3094 [==============================] - 2s 615us/sample - loss: 0.2082 - val_loss: 0.1124\n",
      "Epoch 75/300\n",
      "3094/3094 [==============================] - 2s 616us/sample - loss: 0.2206 - val_loss: 0.1577\n",
      "Epoch 76/300\n"
     ]
    },
    {
     "name": "stdout",
     "output_type": "stream",
     "text": [
      "3094/3094 [==============================] - 2s 635us/sample - loss: 0.1960 - val_loss: 0.1165\n",
      "Epoch 77/300\n",
      "3094/3094 [==============================] - 2s 652us/sample - loss: 0.1942 - val_loss: 0.1206\n",
      "Epoch 78/300\n",
      "3094/3094 [==============================] - 2s 629us/sample - loss: 0.2127 - val_loss: 0.1134\n",
      "Epoch 79/300\n",
      "3094/3094 [==============================] - 2s 629us/sample - loss: 0.1978 - val_loss: 0.1389\n",
      "Epoch 80/300\n",
      "3094/3094 [==============================] - 2s 630us/sample - loss: 0.1887 - val_loss: 0.1277\n",
      "Epoch 81/300\n",
      "3094/3094 [==============================] - 2s 641us/sample - loss: 0.1922 - val_loss: 0.1158\n",
      "Epoch 82/300\n",
      "3094/3094 [==============================] - 2s 633us/sample - loss: 0.1910 - val_loss: 0.1124\n",
      "Epoch 83/300\n",
      "3094/3094 [==============================] - 2s 632us/sample - loss: 0.1673 - val_loss: 0.1142\n",
      "Epoch 84/300\n",
      "3094/3094 [==============================] - 2s 621us/sample - loss: 0.1832 - val_loss: 0.1104\n",
      "Epoch 85/300\n",
      "3094/3094 [==============================] - 2s 633us/sample - loss: 0.1984 - val_loss: 0.1155\n",
      "Epoch 86/300\n",
      "3094/3094 [==============================] - 2s 629us/sample - loss: 0.1817 - val_loss: 0.1270\n",
      "Epoch 87/300\n",
      "3094/3094 [==============================] - 2s 621us/sample - loss: 0.1769 - val_loss: 0.1147\n",
      "Epoch 88/300\n",
      "3094/3094 [==============================] - 2s 624us/sample - loss: 0.1781 - val_loss: 0.1126\n",
      "Epoch 89/300\n",
      "3094/3094 [==============================] - 2s 624us/sample - loss: 0.1795 - val_loss: 0.1236\n",
      "Epoch 90/300\n",
      "3094/3094 [==============================] - 2s 630us/sample - loss: 0.1960 - val_loss: 0.1150\n",
      "Epoch 91/300\n",
      "3094/3094 [==============================] - 2s 620us/sample - loss: 0.2081 - val_loss: 0.1182\n",
      "Epoch 92/300\n",
      "3094/3094 [==============================] - 2s 625us/sample - loss: 0.1810 - val_loss: 0.1389\n",
      "Epoch 93/300\n",
      "3094/3094 [==============================] - 2s 630us/sample - loss: 0.1731 - val_loss: 0.1101\n",
      "Epoch 94/300\n",
      "3094/3094 [==============================] - 2s 618us/sample - loss: 0.2056 - val_loss: 0.1223\n",
      "Epoch 95/300\n",
      "3094/3094 [==============================] - 2s 619us/sample - loss: 0.2218 - val_loss: 0.1297\n",
      "Epoch 96/300\n",
      "3094/3094 [==============================] - 2s 629us/sample - loss: 0.2159 - val_loss: 0.1241\n",
      "Epoch 97/300\n",
      "3094/3094 [==============================] - 2s 623us/sample - loss: 0.1889 - val_loss: 0.1167\n",
      "Epoch 98/300\n",
      "3094/3094 [==============================] - 2s 620us/sample - loss: 0.1897 - val_loss: 0.1050\n",
      "Epoch 99/300\n",
      "3094/3094 [==============================] - 2s 614us/sample - loss: 0.1917 - val_loss: 0.1177\n",
      "Epoch 100/300\n",
      "3094/3094 [==============================] - 2s 631us/sample - loss: 0.1934 - val_loss: 0.1695\n",
      "Epoch 101/300\n",
      "3094/3094 [==============================] - 2s 628us/sample - loss: 0.2128 - val_loss: 0.1203\n",
      "Epoch 102/300\n",
      "3094/3094 [==============================] - 2s 628us/sample - loss: 0.1915 - val_loss: 0.1187\n",
      "Epoch 103/300\n",
      "3094/3094 [==============================] - 2s 624us/sample - loss: 0.1944 - val_loss: 0.1137\n",
      "Epoch 104/300\n",
      "3094/3094 [==============================] - 2s 628us/sample - loss: 0.1832 - val_loss: 0.1081\n",
      "Epoch 105/300\n",
      "3094/3094 [==============================] - 2s 624us/sample - loss: 0.1813 - val_loss: 0.1234\n",
      "Epoch 106/300\n",
      "3094/3094 [==============================] - 2s 623us/sample - loss: 0.2149 - val_loss: 0.1165\n",
      "Epoch 107/300\n",
      "3094/3094 [==============================] - 2s 620us/sample - loss: 0.1833 - val_loss: 0.1349\n",
      "Epoch 108/300\n",
      "3094/3094 [==============================] - 2s 619us/sample - loss: 0.1799 - val_loss: 0.1258\n",
      "Epoch 109/300\n",
      "3094/3094 [==============================] - 2s 623us/sample - loss: 0.1861 - val_loss: 0.1203\n",
      "Epoch 110/300\n",
      "3094/3094 [==============================] - 2s 635us/sample - loss: 0.2075 - val_loss: 0.2068\n",
      "Epoch 111/300\n",
      "3094/3094 [==============================] - 2s 625us/sample - loss: 0.1831 - val_loss: 0.1183\n",
      "Epoch 112/300\n",
      "3094/3094 [==============================] - 2s 627us/sample - loss: 0.1766 - val_loss: 0.1297\n",
      "Epoch 113/300\n",
      "3094/3094 [==============================] - 2s 646us/sample - loss: 0.1657 - val_loss: 0.1292\n",
      "Epoch 114/300\n",
      "3094/3094 [==============================] - 2s 623us/sample - loss: 0.1725 - val_loss: 0.1185\n",
      "Epoch 115/300\n",
      "3094/3094 [==============================] - 2s 646us/sample - loss: 0.2009 - val_loss: 0.1114\n",
      "Epoch 116/300\n",
      "3094/3094 [==============================] - 2s 666us/sample - loss: 0.1984 - val_loss: 0.1350\n",
      "Epoch 117/300\n",
      "3094/3094 [==============================] - 2s 662us/sample - loss: 0.1835 - val_loss: 0.1104\n",
      "Epoch 118/300\n",
      "3094/3094 [==============================] - 2s 650us/sample - loss: 0.1694 - val_loss: 0.1032\n",
      "Epoch 119/300\n",
      "3094/3094 [==============================] - 2s 683us/sample - loss: 0.1640 - val_loss: 0.1083\n",
      "Epoch 120/300\n",
      "3094/3094 [==============================] - 2s 652us/sample - loss: 0.1615 - val_loss: 0.1177\n",
      "Epoch 121/300\n",
      "3094/3094 [==============================] - 2s 673us/sample - loss: 0.1686 - val_loss: 0.1152\n",
      "Epoch 122/300\n",
      "3094/3094 [==============================] - 2s 641us/sample - loss: 0.1928 - val_loss: 0.1187\n",
      "Epoch 123/300\n",
      "3094/3094 [==============================] - 2s 627us/sample - loss: 0.1703 - val_loss: 0.1059\n",
      "Epoch 124/300\n",
      "3094/3094 [==============================] - 2s 641us/sample - loss: 0.1810 - val_loss: 0.1066\n",
      "Epoch 125/300\n",
      "3094/3094 [==============================] - 2s 637us/sample - loss: 0.1841 - val_loss: 0.1088\n",
      "Epoch 126/300\n",
      "3094/3094 [==============================] - 2s 636us/sample - loss: 0.1909 - val_loss: 0.1142\n",
      "Epoch 127/300\n",
      "3094/3094 [==============================] - 2s 632us/sample - loss: 0.1865 - val_loss: 0.1269\n",
      "Epoch 128/300\n",
      "3094/3094 [==============================] - 2s 630us/sample - loss: 0.1879 - val_loss: 0.1056\n",
      "Epoch 129/300\n",
      "3094/3094 [==============================] - 2s 646us/sample - loss: 0.1622 - val_loss: 0.1045\n",
      "Epoch 130/300\n",
      "3094/3094 [==============================] - 2s 646us/sample - loss: 0.1741 - val_loss: 0.1122\n",
      "Epoch 131/300\n",
      "3094/3094 [==============================] - 2s 644us/sample - loss: 0.1579 - val_loss: 0.1084\n",
      "Epoch 132/300\n",
      "3094/3094 [==============================] - 2s 641us/sample - loss: 0.1869 - val_loss: 0.1093\n",
      "Epoch 133/300\n",
      "3094/3094 [==============================] - 2s 671us/sample - loss: 0.1894 - val_loss: 0.1007\n",
      "Epoch 134/300\n",
      "3094/3094 [==============================] - 2s 643us/sample - loss: 0.1615 - val_loss: 0.1060\n",
      "Epoch 135/300\n",
      "3094/3094 [==============================] - 2s 654us/sample - loss: 0.1476 - val_loss: 0.1096\n",
      "Epoch 136/300\n",
      "3094/3094 [==============================] - 2s 665us/sample - loss: 0.1560 - val_loss: 0.1082\n",
      "Epoch 137/300\n",
      "3094/3094 [==============================] - 2s 641us/sample - loss: 0.2029 - val_loss: 0.1223\n",
      "Epoch 138/300\n",
      "3094/3094 [==============================] - 2s 615us/sample - loss: 0.1706 - val_loss: 0.1093\n",
      "Epoch 139/300\n",
      "3094/3094 [==============================] - 2s 617us/sample - loss: 0.1841 - val_loss: 0.1111\n",
      "Epoch 140/300\n",
      "3094/3094 [==============================] - 2s 616us/sample - loss: 0.1766 - val_loss: 0.1229\n",
      "Epoch 141/300\n",
      "3094/3094 [==============================] - 2s 627us/sample - loss: 0.1687 - val_loss: 0.0951\n",
      "Epoch 142/300\n",
      "3094/3094 [==============================] - 2s 619us/sample - loss: 0.1810 - val_loss: 0.1131\n",
      "Epoch 143/300\n",
      "3094/3094 [==============================] - 2s 627us/sample - loss: 0.1800 - val_loss: 0.1023\n",
      "Epoch 144/300\n",
      "3094/3094 [==============================] - 2s 621us/sample - loss: 0.1828 - val_loss: 0.1390\n",
      "Epoch 145/300\n",
      "3094/3094 [==============================] - 2s 620us/sample - loss: 0.1720 - val_loss: 0.1090\n",
      "Epoch 146/300\n",
      "3094/3094 [==============================] - 2s 625us/sample - loss: 0.1738 - val_loss: 0.1113\n",
      "Epoch 147/300\n",
      "3094/3094 [==============================] - 2s 620us/sample - loss: 0.1704 - val_loss: 0.1028\n",
      "Epoch 148/300\n",
      "3094/3094 [==============================] - 2s 620us/sample - loss: 0.1602 - val_loss: 0.1096\n",
      "Epoch 149/300\n",
      "3094/3094 [==============================] - 2s 620us/sample - loss: 0.1553 - val_loss: 0.1069\n",
      "Epoch 150/300\n",
      "3094/3094 [==============================] - 2s 619us/sample - loss: 0.1983 - val_loss: 0.1384\n",
      "Epoch 151/300\n"
     ]
    },
    {
     "name": "stdout",
     "output_type": "stream",
     "text": [
      "3094/3094 [==============================] - 2s 619us/sample - loss: 0.1687 - val_loss: 0.1096\n",
      "Epoch 152/300\n",
      "3094/3094 [==============================] - 2s 623us/sample - loss: 0.1790 - val_loss: 0.1027\n",
      "Epoch 153/300\n",
      "3094/3094 [==============================] - 2s 616us/sample - loss: 0.1625 - val_loss: 0.1088\n",
      "Epoch 154/300\n",
      "3094/3094 [==============================] - 2s 616us/sample - loss: 0.1735 - val_loss: 0.0928\n",
      "Epoch 155/300\n",
      "3094/3094 [==============================] - 2s 617us/sample - loss: 0.1854 - val_loss: 0.1232\n",
      "Epoch 156/300\n",
      "3094/3094 [==============================] - 2s 614us/sample - loss: 0.1949 - val_loss: 0.1151\n",
      "Epoch 157/300\n",
      "3094/3094 [==============================] - 2s 617us/sample - loss: 0.1654 - val_loss: 0.1056\n",
      "Epoch 158/300\n",
      "3094/3094 [==============================] - 2s 617us/sample - loss: 0.1740 - val_loss: 0.1109\n",
      "Epoch 159/300\n",
      "3094/3094 [==============================] - 2s 621us/sample - loss: 0.1686 - val_loss: 0.0986\n",
      "Epoch 160/300\n",
      "3094/3094 [==============================] - 2s 619us/sample - loss: 0.1808 - val_loss: 0.1072\n",
      "Epoch 161/300\n",
      "3094/3094 [==============================] - 2s 614us/sample - loss: 0.1601 - val_loss: 0.0923\n",
      "Epoch 162/300\n",
      "3094/3094 [==============================] - 2s 620us/sample - loss: 0.1631 - val_loss: 0.1020\n",
      "Epoch 163/300\n",
      "3094/3094 [==============================] - 2s 620us/sample - loss: 0.1495 - val_loss: 0.1073\n",
      "Epoch 164/300\n",
      "3094/3094 [==============================] - 2s 622us/sample - loss: 0.1718 - val_loss: 0.1209\n",
      "Epoch 165/300\n",
      "3094/3094 [==============================] - 2s 623us/sample - loss: 0.1504 - val_loss: 0.1171\n",
      "Epoch 166/300\n",
      "3094/3094 [==============================] - 2s 622us/sample - loss: 0.1730 - val_loss: 0.1116\n",
      "Epoch 167/300\n",
      "3094/3094 [==============================] - 2s 613us/sample - loss: 0.1868 - val_loss: 0.1154\n",
      "Epoch 168/300\n",
      "3094/3094 [==============================] - 2s 620us/sample - loss: 0.1875 - val_loss: 0.1074\n",
      "Epoch 169/300\n",
      "3094/3094 [==============================] - 2s 626us/sample - loss: 0.1875 - val_loss: 0.1016\n",
      "Epoch 170/300\n",
      "3094/3094 [==============================] - 2s 619us/sample - loss: 0.1804 - val_loss: 0.1542\n",
      "Epoch 171/300\n",
      "3094/3094 [==============================] - 2s 612us/sample - loss: 0.1983 - val_loss: 0.1019\n",
      "Epoch 172/300\n",
      "3094/3094 [==============================] - 2s 619us/sample - loss: 0.1826 - val_loss: 0.1047\n",
      "Epoch 173/300\n",
      "3094/3094 [==============================] - 2s 616us/sample - loss: 0.1989 - val_loss: 0.1194\n",
      "Epoch 174/300\n",
      "3094/3094 [==============================] - 2s 615us/sample - loss: 0.2156 - val_loss: 0.1555\n",
      "Epoch 175/300\n",
      "3094/3094 [==============================] - 2s 623us/sample - loss: 0.1914 - val_loss: 0.1117\n",
      "Epoch 176/300\n",
      "3094/3094 [==============================] - 2s 617us/sample - loss: 0.1710 - val_loss: 0.1050\n",
      "Epoch 177/300\n",
      "3094/3094 [==============================] - 2s 636us/sample - loss: 0.1807 - val_loss: 0.1109\n",
      "Epoch 178/300\n",
      "3094/3094 [==============================] - 2s 649us/sample - loss: 0.1914 - val_loss: 0.1319\n",
      "Epoch 179/300\n",
      "3094/3094 [==============================] - 2s 630us/sample - loss: 0.1891 - val_loss: 0.1124\n",
      "Epoch 180/300\n",
      "3094/3094 [==============================] - 2s 634us/sample - loss: 0.1889 - val_loss: 0.1083\n",
      "Epoch 181/300\n",
      "3094/3094 [==============================] - 2s 633us/sample - loss: 0.1848 - val_loss: 0.1015\n",
      "Epoch 182/300\n",
      "3094/3094 [==============================] - 2s 627us/sample - loss: 0.1580 - val_loss: 0.1141\n",
      "Epoch 183/300\n",
      "3094/3094 [==============================] - 2s 639us/sample - loss: 0.1563 - val_loss: 0.1036\n",
      "Epoch 184/300\n",
      "3094/3094 [==============================] - 2s 634us/sample - loss: 0.1709 - val_loss: 0.1126\n",
      "Epoch 185/300\n",
      "3094/3094 [==============================] - 2s 649us/sample - loss: 0.2226 - val_loss: 0.1304\n",
      "Epoch 186/300\n",
      "3094/3094 [==============================] - 2s 632us/sample - loss: 0.1980 - val_loss: 0.1077\n",
      "Epoch 187/300\n",
      "3094/3094 [==============================] - 2s 635us/sample - loss: 0.1762 - val_loss: 0.1188\n",
      "Epoch 188/300\n",
      "3094/3094 [==============================] - 2s 627us/sample - loss: 0.2043 - val_loss: 0.1222\n",
      "Epoch 189/300\n",
      "3094/3094 [==============================] - 2s 624us/sample - loss: 0.1688 - val_loss: 0.1084\n",
      "Epoch 190/300\n",
      "3094/3094 [==============================] - 2s 641us/sample - loss: 0.1857 - val_loss: 0.1383\n",
      "Epoch 191/300\n",
      "3094/3094 [==============================] - 2s 619us/sample - loss: 0.1824 - val_loss: 0.1121\n"
     ]
    },
    {
     "data": {
      "text/plain": [
       "<tensorflow.python.keras.callbacks.History at 0x1a47cc7310>"
      ]
     },
     "execution_count": 74,
     "metadata": {},
     "output_type": "execute_result"
    }
   ],
   "source": [
    "model.fit(X_train,y_train, validation_data=(X_test,y_test), epochs=300, callbacks=[stop])"
   ]
  },
  {
   "cell_type": "markdown",
   "metadata": {},
   "source": [
    "## Model Evaluation"
   ]
  },
  {
   "cell_type": "code",
   "execution_count": 75,
   "metadata": {},
   "outputs": [
    {
     "name": "stdout",
     "output_type": "stream",
     "text": [
      "Model: \"sequential\"\n",
      "_________________________________________________________________\n",
      "Layer (type)                 Output Shape              Param #   \n",
      "=================================================================\n",
      "dense (Dense)                multiple                  1000      \n",
      "_________________________________________________________________\n",
      "dropout (Dropout)            multiple                  0         \n",
      "_________________________________________________________________\n",
      "dense_1 (Dense)              multiple                  40200     \n",
      "_________________________________________________________________\n",
      "dropout_1 (Dropout)          multiple                  0         \n",
      "_________________________________________________________________\n",
      "dense_2 (Dense)              multiple                  20100     \n",
      "_________________________________________________________________\n",
      "dropout_2 (Dropout)          multiple                  0         \n",
      "_________________________________________________________________\n",
      "dense_3 (Dense)              multiple                  10100     \n",
      "_________________________________________________________________\n",
      "dense_4 (Dense)              multiple                  101       \n",
      "=================================================================\n",
      "Total params: 71,501\n",
      "Trainable params: 71,501\n",
      "Non-trainable params: 0\n",
      "_________________________________________________________________\n"
     ]
    }
   ],
   "source": [
    "model.summary()"
   ]
  },
  {
   "cell_type": "markdown",
   "metadata": {},
   "source": [
    "## Training \n",
    "- WE can see that the model is training very well with the data provided"
   ]
  },
  {
   "cell_type": "code",
   "execution_count": 83,
   "metadata": {},
   "outputs": [
    {
     "data": {
      "text/plain": [
       "<matplotlib.axes._subplots.AxesSubplot at 0x1a4a3d4a10>"
      ]
     },
     "execution_count": 83,
     "metadata": {},
     "output_type": "execute_result"
    },
    {
     "data": {
      "image/png": "[encoded data removed]",
      "text/plain": [
       "<Figure size 1152x432 with 1 Axes>"
      ]
     },
     "metadata": {
      "needs_background": "light"
     },
     "output_type": "display_data"
    }
   ],
   "source": [
    "pd.DataFrame(model.history.history).plot(figsize = (16,6))"
   ]
  },
  {
   "cell_type": "markdown",
   "metadata": {},
   "source": [
    "### Prediction\n",
    "- Lets check the predicitons of the model\n",
    "- will check the metrics of the model as well "
   ]
  },
  {
   "cell_type": "code",
   "execution_count": 84,
   "metadata": {},
   "outputs": [],
   "source": [
    "predictions = model.predict(X_test)"
   ]
  },
  {
   "cell_type": "code",
   "execution_count": 85,
   "metadata": {},
   "outputs": [],
   "source": [
    "from sklearn.metrics import mean_absolute_error, mean_squared_error, explained_variance_score"
   ]
  },
  {
   "cell_type": "code",
   "execution_count": 86,
   "metadata": {},
   "outputs": [
    {
     "data": {
      "text/plain": [
       "0.1120519411316308"
      ]
     },
     "execution_count": 86,
     "metadata": {},
     "output_type": "execute_result"
    }
   ],
   "source": [
    "mean_squared_error(y_test, predictions)"
   ]
  },
  {
   "cell_type": "code",
   "execution_count": 87,
   "metadata": {},
   "outputs": [
    {
     "data": {
      "text/plain": [
       "0.2509964319923464"
      ]
     },
     "execution_count": 87,
     "metadata": {},
     "output_type": "execute_result"
    }
   ],
   "source": [
    "mean_absolute_error(y_test, predictions)"
   ]
  },
  {
   "cell_type": "markdown",
   "metadata": {},
   "source": [
    "### Explained Variance\n",
    "- Model tells us that the equity markets can explain 94% of the value and behavior of the AAA US Corporate Index Effective Yield "
   ]
  },
  {
   "cell_type": "code",
   "execution_count": 88,
   "metadata": {},
   "outputs": [
    {
     "data": {
      "text/plain": [
       "0.9487354534273779"
      ]
     },
     "execution_count": 88,
     "metadata": {},
     "output_type": "execute_result"
    }
   ],
   "source": [
    "explained_variance_score(y_test, predictions)"
   ]
  },
  {
   "cell_type": "markdown",
   "metadata": {},
   "source": [
    "### Testing on random data \n",
    "- will remove the AAA yield data to create an environment where the data has not seen our target\n",
    "- We used the new data with our model to predict the value AAA US Corporate Index Effective Yield"
   ]
  },
  {
   "cell_type": "code",
   "execution_count": 173,
   "metadata": {},
   "outputs": [],
   "source": [
    "from random import randint\n",
    "rand_index = randint(1, len(X_train))\n",
    "new_day = working_data.drop(\"AAA\", axis=1).iloc[rand_index]"
   ]
  },
  {
   "cell_type": "markdown",
   "metadata": {},
   "source": [
    "## New data\n",
    "- Our model was trained on scaled data \n",
    "- We will need to scale the data to meet the proper input"
   ]
  },
  {
   "cell_type": "code",
   "execution_count": 174,
   "metadata": {},
   "outputs": [],
   "source": [
    "new_day = scalar.transform(new_day.values.reshape(1,4))"
   ]
  },
  {
   "cell_type": "markdown",
   "metadata": {},
   "source": [
    "### Model Prediction\n",
    "- Model predicts the value of AAA US Corporate Index Effective Yield below"
   ]
  },
  {
   "cell_type": "code",
   "execution_count": 175,
   "metadata": {},
   "outputs": [
    {
     "data": {
      "text/plain": [
       "array([[5.1200347]], dtype=float32)"
      ]
     },
     "execution_count": 175,
     "metadata": {},
     "output_type": "execute_result"
    }
   ],
   "source": [
    "model.predict(new_day)"
   ]
  },
  {
   "cell_type": "markdown",
   "metadata": {},
   "source": [
    "### True Value\n",
    "- we will grab the index for the random index from our working data to see how the predicitons matches up with the actual value"
   ]
  },
  {
   "cell_type": "code",
   "execution_count": 176,
   "metadata": {},
   "outputs": [
    {
     "data": {
      "text/plain": [
       "5.16"
      ]
     },
     "execution_count": 176,
     "metadata": {},
     "output_type": "execute_result"
    }
   ],
   "source": [
    "working_data.iloc[rand_index][\"AAA\"]"
   ]
  },
  {
   "cell_type": "markdown",
   "metadata": {},
   "source": [
    "### Saving our model, and history"
   ]
  },
  {
   "cell_type": "code",
   "execution_count": 150,
   "metadata": {},
   "outputs": [],
   "source": [
    "#model.save(\"resources/AAA_Yield.h5\")"
   ]
  },
  {
   "cell_type": "code",
   "execution_count": 152,
   "metadata": {},
   "outputs": [],
   "source": [
    "#pd.DataFrame(model.history.history).to_csv(\"resources/Model_history.csv\")"
   ]
  },
  {
   "cell_type": "code",
   "execution_count": null,
   "metadata": {},
   "outputs": [],
   "source": []
  }
 ],
 "metadata": {
  "kernelspec": {
   "display_name": "Python 3",
   "language": "python",
   "name": "python3"
  },
  "language_info": {
   "codemirror_mode": {
    "name": "ipython",
    "version": 3
   },
   "file_extension": ".py",
   "mimetype": "text/x-python",
   "name": "python",
   "nbconvert_exporter": "python",
   "pygments_lexer": "ipython3",
   "version": "3.7.4"
  }
 },
 "nbformat": 4,
 "nbformat_minor": 2
}
