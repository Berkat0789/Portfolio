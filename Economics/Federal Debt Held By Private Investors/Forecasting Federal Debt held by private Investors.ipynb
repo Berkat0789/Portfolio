{
 "cells": [
  {
   "cell_type": "markdown",
   "metadata": {},
   "source": [
    "### Project Overview\n",
    "- You are assigned to fetch the total federal debts held by private investors. The data will be in units of Billions of Dollars, Not Seasonally Adjusted. The time frame will be Quarterly reported  beginning year 2000 to the recently reported june 9th 2020(q1 2020 reported). The data will be colleced from the Federal Reserve Bank of St. Louis cited below\n",
    "- Using your knowledge of Recurrent Neural Networks forecast the Debt held by investors one quarter out. Based on your observation is the forcast resonable to use as a good indicator of what the debt held by private investors. If not, what would you suggest?"
   ]
  },
  {
   "cell_type": "markdown",
   "metadata": {},
   "source": [
    "#### Suggested Citation: U.S. Department of the Treasury. Fiscal Service, Federal Debt Held by Private Investors\n",
    "[FDHBPIN], retrieved from FRED, Federal Reserve Bank of St. Louis; https://fred.stlouisfed.org/series/FDHBPIN, August 31, 2020."
   ]
  },
  {
   "cell_type": "code",
   "execution_count": 38,
   "metadata": {},
   "outputs": [],
   "source": [
    "import pandas as pd\n",
    "import matplotlib.pyplot as plt\n",
    "import seaborn as sns\n",
    "import numpy as np"
   ]
  },
  {
   "cell_type": "markdown",
   "metadata": {},
   "source": [
    "## Importing Data "
   ]
  },
  {
   "cell_type": "code",
   "execution_count": 39,
   "metadata": {},
   "outputs": [],
   "source": [
    "data = pd.read_csv(\"resources/fedDebtheldPrivateInvestors.csv\", parse_dates=True, index_col=\"DATE\")"
   ]
  },
  {
   "cell_type": "code",
   "execution_count": 40,
   "metadata": {},
   "outputs": [],
   "source": [
    "data.columns= [\"fed debt\"]"
   ]
  },
  {
   "cell_type": "code",
   "execution_count": 41,
   "metadata": {},
   "outputs": [
    {
     "data": {
      "text/plain": [
       "Text(0.5, 1.0, 'Federal Debt held by Private Investors')"
      ]
     },
     "execution_count": 41,
     "metadata": {},
     "output_type": "execute_result"
    },
    {
     "data": {
      "image/png": "[encoded data removed]",
      "text/plain": [
       "<Figure size 1152x432 with 1 Axes>"
      ]
     },
     "metadata": {
      "needs_background": "light"
     },
     "output_type": "display_data"
    }
   ],
   "source": [
    "data.plot(figsize = (16,6), marker = \"o\", mfc = \"red\", mec = \"y\")\n",
    "plt.ylabel(\"Billions of Dollars\")\n",
    "plt.title(\"Federal Debt held by Private Investors\")"
   ]
  },
  {
   "cell_type": "code",
   "execution_count": 42,
   "metadata": {},
   "outputs": [
    {
     "name": "stdout",
     "output_type": "stream",
     "text": [
      "<class 'pandas.core.frame.DataFrame'>\n",
      "DatetimeIndex: 81 entries, 2000-01-01 to 2020-01-01\n",
      "Data columns (total 1 columns):\n",
      "fed debt    81 non-null float64\n",
      "dtypes: float64(1)\n",
      "memory usage: 1.3 KB\n"
     ]
    }
   ],
   "source": [
    "data.info()"
   ]
  },
  {
   "cell_type": "markdown",
   "metadata": {},
   "source": [
    "### Summary\n",
    "- The federal deby held by private investors has continue to increase within the 20 year period of our data set\n",
    "- Data provides us with 81 quarters which we will use for our analysis\n",
    "- we will need a siginificant amount of data to forecast this since we can see that there is no seasonality in the data."
   ]
  },
  {
   "cell_type": "markdown",
   "metadata": {},
   "source": [
    "### Data sampling to create model\n",
    " - Since we have 81 quarters we will take approsimately 30 quarters to be our testing sample below"
   ]
  },
  {
   "cell_type": "code",
   "execution_count": 43,
   "metadata": {},
   "outputs": [],
   "source": [
    "test_sample = 30"
   ]
  },
  {
   "cell_type": "code",
   "execution_count": 44,
   "metadata": {},
   "outputs": [],
   "source": [
    "test_index = len(data) - test_sample"
   ]
  },
  {
   "cell_type": "code",
   "execution_count": 45,
   "metadata": {},
   "outputs": [
    {
     "data": {
      "text/plain": [
       "51"
      ]
     },
     "execution_count": 45,
     "metadata": {},
     "output_type": "execute_result"
    }
   ],
   "source": [
    "test_index"
   ]
  },
  {
   "cell_type": "markdown",
   "metadata": {},
   "source": [
    "## Setting testing and training data"
   ]
  },
  {
   "cell_type": "code",
   "execution_count": 46,
   "metadata": {},
   "outputs": [],
   "source": [
    "train = data.iloc[:test_index]"
   ]
  },
  {
   "cell_type": "code",
   "execution_count": 47,
   "metadata": {},
   "outputs": [],
   "source": [
    "test =data.iloc[test_index:]"
   ]
  },
  {
   "cell_type": "code",
   "execution_count": 48,
   "metadata": {},
   "outputs": [
    {
     "data": {
      "text/plain": [
       "(30, 1)"
      ]
     },
     "execution_count": 48,
     "metadata": {},
     "output_type": "execute_result"
    }
   ],
   "source": [
    "test.shape"
   ]
  },
  {
   "cell_type": "code",
   "execution_count": 49,
   "metadata": {},
   "outputs": [
    {
     "data": {
      "text/plain": [
       "(51, 1)"
      ]
     },
     "execution_count": 49,
     "metadata": {},
     "output_type": "execute_result"
    }
   ],
   "source": [
    "train.shape"
   ]
  },
  {
   "cell_type": "markdown",
   "metadata": {},
   "source": [
    "#### Scaling the data to a nomal distribution \n",
    "- Will do this to punish any extrame values or outliers"
   ]
  },
  {
   "cell_type": "code",
   "execution_count": 50,
   "metadata": {},
   "outputs": [],
   "source": [
    "from sklearn.preprocessing import MinMaxScaler"
   ]
  },
  {
   "cell_type": "code",
   "execution_count": 51,
   "metadata": {},
   "outputs": [],
   "source": [
    "scalar = MinMaxScaler()"
   ]
  },
  {
   "cell_type": "code",
   "execution_count": 52,
   "metadata": {},
   "outputs": [],
   "source": [
    "train_scaled = scalar.fit_transform(train)"
   ]
  },
  {
   "cell_type": "code",
   "execution_count": 53,
   "metadata": {},
   "outputs": [],
   "source": [
    "test_scaled = scalar.transform(test)"
   ]
  },
  {
   "cell_type": "markdown",
   "metadata": {},
   "source": [
    "## Length\n",
    "- This is the number if quarters we are going to attempt to predict\n",
    "- we will aim for 4 quarters \n",
    "- Since the model is mostly accurate in the first prediction, we will look at the first quarter predicitons as the target."
   ]
  },
  {
   "cell_type": "code",
   "execution_count": 56,
   "metadata": {},
   "outputs": [],
   "source": [
    "length = 4"
   ]
  },
  {
   "cell_type": "markdown",
   "metadata": {},
   "source": [
    "### Time series generator"
   ]
  },
  {
   "cell_type": "code",
   "execution_count": 54,
   "metadata": {},
   "outputs": [],
   "source": [
    "from tensorflow.keras.preprocessing.sequence import TimeseriesGenerator"
   ]
  },
  {
   "cell_type": "code",
   "execution_count": 57,
   "metadata": {},
   "outputs": [],
   "source": [
    "gen = TimeseriesGenerator(train_scaled, train_scaled, length=length, batch_size=1)"
   ]
  },
  {
   "cell_type": "markdown",
   "metadata": {},
   "source": [
    "### Validation Generation"
   ]
  },
  {
   "cell_type": "code",
   "execution_count": 58,
   "metadata": {},
   "outputs": [],
   "source": [
    "valid_gen = TimeseriesGenerator(test_scaled, test_scaled, length=4, batch_size=1)"
   ]
  },
  {
   "cell_type": "markdown",
   "metadata": {},
   "source": [
    "## Early stopping \n",
    "- Adding early stopping to prevent overtraining of the model"
   ]
  },
  {
   "cell_type": "code",
   "execution_count": 59,
   "metadata": {},
   "outputs": [],
   "source": [
    "from tensorflow.keras.callbacks import EarlyStopping"
   ]
  },
  {
   "cell_type": "code",
   "execution_count": 60,
   "metadata": {},
   "outputs": [],
   "source": [
    "stop = EarlyStopping(monitor=\"val_loss\", mode = \"min\", patience=3)"
   ]
  },
  {
   "cell_type": "markdown",
   "metadata": {},
   "source": [
    "## Network and Model \n",
    "- Will use a LSTM to prevent gradient Decay for beter learning and results\n",
    "- number of features we are trying ot predict will be 1(value of rate)"
   ]
  },
  {
   "cell_type": "code",
   "execution_count": 61,
   "metadata": {},
   "outputs": [],
   "source": [
    "n_features = 1 "
   ]
  },
  {
   "cell_type": "code",
   "execution_count": 62,
   "metadata": {},
   "outputs": [],
   "source": [
    "from tensorflow.keras.models import Sequential\n",
    "from tensorflow.keras.layers import LSTM, Dense"
   ]
  },
  {
   "cell_type": "code",
   "execution_count": 63,
   "metadata": {},
   "outputs": [],
   "source": [
    "model = Sequential()\n",
    "model.add(LSTM(units = 200, activation ='relu', input_shape = (length, n_features)))\n",
    "model.add(Dense(units = 1))\n",
    "model.compile(loss = \"mse\", optimizer = \"adam\")"
   ]
  },
  {
   "cell_type": "markdown",
   "metadata": {},
   "source": [
    "### Fitting model"
   ]
  },
  {
   "cell_type": "code",
   "execution_count": 64,
   "metadata": {},
   "outputs": [
    {
     "name": "stdout",
     "output_type": "stream",
     "text": [
      "Epoch 1/10\n",
      "47/47 [==============================] - 10s 212ms/step - loss: 0.1152 - val_loss: 0.1330\n",
      "Epoch 2/10\n",
      "47/47 [==============================] - 10s 205ms/step - loss: 0.0095 - val_loss: 0.0496\n",
      "Epoch 3/10\n",
      "47/47 [==============================] - 9s 200ms/step - loss: 0.0026 - val_loss: 0.0095\n",
      "Epoch 4/10\n",
      "47/47 [==============================] - 11s 235ms/step - loss: 0.0018 - val_loss: 0.0294\n",
      "Epoch 5/10\n",
      "47/47 [==============================] - 10s 220ms/step - loss: 0.0023 - val_loss: 0.0060\n",
      "Epoch 6/10\n",
      "47/47 [==============================] - 10s 210ms/step - loss: 0.0023 - val_loss: 0.0036\n",
      "Epoch 7/10\n",
      "47/47 [==============================] - 9s 201ms/step - loss: 0.0020 - val_loss: 0.0046\n",
      "Epoch 8/10\n",
      "47/47 [==============================] - 9s 192ms/step - loss: 0.0018 - val_loss: 0.0027\n",
      "Epoch 9/10\n",
      "47/47 [==============================] - 10s 203ms/step - loss: 0.0017 - val_loss: 0.0149\n",
      "Epoch 10/10\n",
      "47/47 [==============================] - 11s 227ms/step - loss: 0.0016 - val_loss: 0.0154\n"
     ]
    },
    {
     "data": {
      "text/plain": [
       "<tensorflow.python.keras.callbacks.History at 0x1a51b3b0d0>"
      ]
     },
     "execution_count": 64,
     "metadata": {},
     "output_type": "execute_result"
    }
   ],
   "source": [
    "model.fit_generator(gen, validation_data=valid_gen, epochs=10, callbacks=[stop])"
   ]
  },
  {
   "cell_type": "markdown",
   "metadata": {},
   "source": [
    "## Model  Performance\n",
    "-  plotting the model performance on training\n",
    "- model did pretty well in training where the loss was close to the predicitons\n",
    "- This could be increased by increasing the Epohs during training"
   ]
  },
  {
   "cell_type": "code",
   "execution_count": 67,
   "metadata": {},
   "outputs": [
    {
     "data": {
      "text/plain": [
       "<matplotlib.axes._subplots.AxesSubplot at 0x1a52a510d0>"
      ]
     },
     "execution_count": 67,
     "metadata": {},
     "output_type": "execute_result"
    },
    {
     "data": {
      "image/png": "[encoded data removed]",
      "text/plain": [
       "<Figure size 1152x432 with 1 Axes>"
      ]
     },
     "metadata": {
      "needs_background": "light"
     },
     "output_type": "display_data"
    }
   ],
   "source": [
    "pd.DataFrame(model.history.history).plot(figsize = (16,6))"
   ]
  },
  {
   "cell_type": "markdown",
   "metadata": {},
   "source": [
    "## Making Prediction\n",
    "- Will use the model to make prediction of the first quarter out"
   ]
  },
  {
   "cell_type": "code",
   "execution_count": 68,
   "metadata": {},
   "outputs": [],
   "source": [
    "predictions = []\n",
    "batch = train_scaled[-length:]\n",
    "current_batch = batch.reshape((1,length,n_features))\n",
    "\n",
    "for x in range(len(test)):\n",
    "    current_pred = model.predict(current_batch)[0]\n",
    "    predictions.append(current_pred)\n",
    "    current_batch = np.append(current_batch[:,1:,:], [[current_pred]], axis=1)b"
   ]
  },
  {
   "cell_type": "code",
   "execution_count": 99,
   "metadata": {},
   "outputs": [
    {
     "data": {
      "text/plain": [
       "array([[0.87876986],\n",
       "       [0.93702877],\n",
       "       [0.96524475],\n",
       "       [1.        ]])"
      ]
     },
     "execution_count": 99,
     "metadata": {},
     "output_type": "execute_result"
    }
   ],
   "source": [
    "train_scaled[-length:]"
   ]
  },
  {
   "cell_type": "markdown",
   "metadata": {},
   "source": [
    "## Predictions\n",
    "- The predicitons we have are in a scaled format so we need to inverse this"
   ]
  },
  {
   "cell_type": "code",
   "execution_count": 70,
   "metadata": {},
   "outputs": [
    {
     "data": {
      "text/plain": [
       "[array([1.0559183], dtype=float32),\n",
       " array([1.103633], dtype=float32),\n",
       " array([1.1462926], dtype=float32),\n",
       " array([1.1958944], dtype=float32),\n",
       " array([1.2521982], dtype=float32),\n",
       " array([1.3076701], dtype=float32),\n",
       " array([1.3660395], dtype=float32),\n",
       " array([1.4311934], dtype=float32),\n",
       " array([1.5025421], dtype=float32),\n",
       " array([1.5793449], dtype=float32),\n",
       " array([1.6647477], dtype=float32),\n",
       " array([1.7613838], dtype=float32),\n",
       " array([1.8709854], dtype=float32),\n",
       " array([1.9966782], dtype=float32),\n",
       " array([2.1439307], dtype=float32),\n",
       " array([2.3194058], dtype=float32),\n",
       " array([2.532219], dtype=float32),\n",
       " array([2.7965157], dtype=float32),\n",
       " array([3.1343558], dtype=float32),\n",
       " array([3.580585], dtype=float32),\n",
       " array([4.1940455], dtype=float32),\n",
       " array([5.0809884], dtype=float32),\n",
       " array([6.445758], dtype=float32),\n",
       " array([8.712753], dtype=float32),\n",
       " array([12.829878], dtype=float32),\n",
       " array([20.987658], dtype=float32),\n",
       " array([37.962414], dtype=float32),\n",
       " array([73.21965], dtype=float32),\n",
       " array([148.0188], dtype=float32),\n",
       " array([309.3841], dtype=float32)]"
      ]
     },
     "execution_count": 70,
     "metadata": {},
     "output_type": "execute_result"
    }
   ],
   "source": [
    "predictions"
   ]
  },
  {
   "cell_type": "code",
   "execution_count": 71,
   "metadata": {},
   "outputs": [],
   "source": [
    "true_predictions = scalar.inverse_transform(predictions)"
   ]
  },
  {
   "cell_type": "markdown",
   "metadata": {},
   "source": [
    "### True Predicitons \n",
    "- Will combine this with out test data to\n",
    "- remeber we will only be paying attention to the first quarter out since this will be the most accurate"
   ]
  },
  {
   "cell_type": "code",
   "execution_count": 72,
   "metadata": {},
   "outputs": [
    {
     "data": {
      "text/plain": [
       "array([[  10005.05757914],\n",
       "       [  10334.13639269],\n",
       "       [  10628.35057783],\n",
       "       [  10970.44422579],\n",
       "       [  11358.76067886],\n",
       "       [  11741.33925896],\n",
       "       [  12143.90132389],\n",
       "       [  12593.25430832],\n",
       "       [  13085.33261805],\n",
       "       [  13615.02569017],\n",
       "       [  14204.03204079],\n",
       "       [  14870.51159801],\n",
       "       [  15626.41202917],\n",
       "       [  16493.29043837],\n",
       "       [  17508.86106968],\n",
       "       [  18719.07788105],\n",
       "       [  20186.80753784],\n",
       "       [  22009.60950184],\n",
       "       [  24339.62496738],\n",
       "       [  27417.17864799],\n",
       "       [  31648.09330559],\n",
       "       [  37765.16084633],\n",
       "       [  47177.70284958],\n",
       "       [  62812.71693115],\n",
       "       [  91207.70157928],\n",
       "       [ 147470.27657013],\n",
       "       [ 264541.77541199],\n",
       "       [ 507703.88397217],\n",
       "       [1023578.65175781],\n",
       "       [2136482.82114258]])"
      ]
     },
     "execution_count": 72,
     "metadata": {},
     "output_type": "execute_result"
    }
   ],
   "source": [
    "true_predictions"
   ]
  },
  {
   "cell_type": "markdown",
   "metadata": {},
   "source": [
    "### Combining True predicitons with the test data "
   ]
  },
  {
   "cell_type": "code",
   "execution_count": 73,
   "metadata": {},
   "outputs": [
    {
     "name": "stderr",
     "output_type": "stream",
     "text": [
      "/Users/admin/opt/anaconda3/lib/python3.7/site-packages/ipykernel_launcher.py:1: SettingWithCopyWarning: \n",
      "A value is trying to be set on a copy of a slice from a DataFrame.\n",
      "Try using .loc[row_indexer,col_indexer] = value instead\n",
      "\n",
      "See the caveats in the documentation: http://pandas.pydata.org/pandas-docs/stable/user_guide/indexing.html#returning-a-view-versus-a-copy\n",
      "  \"\"\"Entry point for launching an IPython kernel.\n"
     ]
    }
   ],
   "source": [
    "test[\"predictions\"] = true_predictions"
   ]
  },
  {
   "cell_type": "code",
   "execution_count": 76,
   "metadata": {},
   "outputs": [
    {
     "data": {
      "text/html": [
       "<div>\n",
       "<style scoped>\n",
       "    .dataframe tbody tr th:only-of-type {\n",
       "        vertical-align: middle;\n",
       "    }\n",
       "\n",
       "    .dataframe tbody tr th {\n",
       "        vertical-align: top;\n",
       "    }\n",
       "\n",
       "    .dataframe thead th {\n",
       "        text-align: right;\n",
       "    }\n",
       "</style>\n",
       "<table border=\"1\" class=\"dataframe\">\n",
       "  <thead>\n",
       "    <tr style=\"text-align: right;\">\n",
       "      <th></th>\n",
       "      <th>fed debt</th>\n",
       "      <th>predictions</th>\n",
       "    </tr>\n",
       "    <tr>\n",
       "      <th>DATE</th>\n",
       "      <th></th>\n",
       "      <th></th>\n",
       "    </tr>\n",
       "  </thead>\n",
       "  <tbody>\n",
       "    <tr>\n",
       "      <td>2012-10-01</td>\n",
       "      <td>9909.1</td>\n",
       "      <td>1.000506e+04</td>\n",
       "    </tr>\n",
       "    <tr>\n",
       "      <td>2013-01-01</td>\n",
       "      <td>10114.8</td>\n",
       "      <td>1.033414e+04</td>\n",
       "    </tr>\n",
       "    <tr>\n",
       "      <td>2013-04-01</td>\n",
       "      <td>9964.9</td>\n",
       "      <td>1.062835e+04</td>\n",
       "    </tr>\n",
       "    <tr>\n",
       "      <td>2013-07-01</td>\n",
       "      <td>9904.0</td>\n",
       "      <td>1.097044e+04</td>\n",
       "    </tr>\n",
       "    <tr>\n",
       "      <td>2013-10-01</td>\n",
       "      <td>10146.6</td>\n",
       "      <td>1.135876e+04</td>\n",
       "    </tr>\n",
       "    <tr>\n",
       "      <td>2014-01-01</td>\n",
       "      <td>10299.7</td>\n",
       "      <td>1.174134e+04</td>\n",
       "    </tr>\n",
       "    <tr>\n",
       "      <td>2014-04-01</td>\n",
       "      <td>10171.6</td>\n",
       "      <td>1.214390e+04</td>\n",
       "    </tr>\n",
       "    <tr>\n",
       "      <td>2014-07-01</td>\n",
       "      <td>10333.2</td>\n",
       "      <td>1.259325e+04</td>\n",
       "    </tr>\n",
       "    <tr>\n",
       "      <td>2014-10-01</td>\n",
       "      <td>10562.6</td>\n",
       "      <td>1.308533e+04</td>\n",
       "    </tr>\n",
       "    <tr>\n",
       "      <td>2015-01-01</td>\n",
       "      <td>10630.8</td>\n",
       "      <td>1.361503e+04</td>\n",
       "    </tr>\n",
       "    <tr>\n",
       "      <td>2015-04-01</td>\n",
       "      <td>10615.5</td>\n",
       "      <td>1.420403e+04</td>\n",
       "    </tr>\n",
       "    <tr>\n",
       "      <td>2015-07-01</td>\n",
       "      <td>10661.9</td>\n",
       "      <td>1.487051e+04</td>\n",
       "    </tr>\n",
       "    <tr>\n",
       "      <td>2015-10-01</td>\n",
       "      <td>11211.0</td>\n",
       "      <td>1.562641e+04</td>\n",
       "    </tr>\n",
       "    <tr>\n",
       "      <td>2016-01-01</td>\n",
       "      <td>11463.6</td>\n",
       "      <td>1.649329e+04</td>\n",
       "    </tr>\n",
       "    <tr>\n",
       "      <td>2016-04-01</td>\n",
       "      <td>11470.4</td>\n",
       "      <td>1.750886e+04</td>\n",
       "    </tr>\n",
       "    <tr>\n",
       "      <td>2016-07-01</td>\n",
       "      <td>11709.9</td>\n",
       "      <td>1.871908e+04</td>\n",
       "    </tr>\n",
       "    <tr>\n",
       "      <td>2016-10-01</td>\n",
       "      <td>11971.3</td>\n",
       "      <td>2.018681e+04</td>\n",
       "    </tr>\n",
       "    <tr>\n",
       "      <td>2017-01-01</td>\n",
       "      <td>11905.3</td>\n",
       "      <td>2.200961e+04</td>\n",
       "    </tr>\n",
       "    <tr>\n",
       "      <td>2017-04-01</td>\n",
       "      <td>11901.1</td>\n",
       "      <td>2.433962e+04</td>\n",
       "    </tr>\n",
       "    <tr>\n",
       "      <td>2017-07-01</td>\n",
       "      <td>12208.0</td>\n",
       "      <td>2.741718e+04</td>\n",
       "    </tr>\n",
       "    <tr>\n",
       "      <td>2017-10-01</td>\n",
       "      <td>12360.6</td>\n",
       "      <td>3.164809e+04</td>\n",
       "    </tr>\n",
       "    <tr>\n",
       "      <td>2018-01-01</td>\n",
       "      <td>13003.3</td>\n",
       "      <td>3.776516e+04</td>\n",
       "    </tr>\n",
       "    <tr>\n",
       "      <td>2018-04-01</td>\n",
       "      <td>13088.5</td>\n",
       "      <td>4.717770e+04</td>\n",
       "    </tr>\n",
       "    <tr>\n",
       "      <td>2018-07-01</td>\n",
       "      <td>13447.9</td>\n",
       "      <td>6.281272e+04</td>\n",
       "    </tr>\n",
       "    <tr>\n",
       "      <td>2018-10-01</td>\n",
       "      <td>13879.1</td>\n",
       "      <td>9.120770e+04</td>\n",
       "    </tr>\n",
       "    <tr>\n",
       "      <td>2019-01-01</td>\n",
       "      <td>14028.9</td>\n",
       "      <td>1.474703e+05</td>\n",
       "    </tr>\n",
       "    <tr>\n",
       "      <td>2019-04-01</td>\n",
       "      <td>14078.4</td>\n",
       "      <td>2.645418e+05</td>\n",
       "    </tr>\n",
       "    <tr>\n",
       "      <td>2019-07-01</td>\n",
       "      <td>14695.8</td>\n",
       "      <td>5.077039e+05</td>\n",
       "    </tr>\n",
       "    <tr>\n",
       "      <td>2019-10-01</td>\n",
       "      <td>14841.5</td>\n",
       "      <td>1.023579e+06</td>\n",
       "    </tr>\n",
       "    <tr>\n",
       "      <td>2020-01-01</td>\n",
       "      <td>14407.2</td>\n",
       "      <td>2.136483e+06</td>\n",
       "    </tr>\n",
       "  </tbody>\n",
       "</table>\n",
       "</div>"
      ],
      "text/plain": [
       "            fed debt   predictions\n",
       "DATE                              \n",
       "2012-10-01    9909.1  1.000506e+04\n",
       "2013-01-01   10114.8  1.033414e+04\n",
       "2013-04-01    9964.9  1.062835e+04\n",
       "2013-07-01    9904.0  1.097044e+04\n",
       "2013-10-01   10146.6  1.135876e+04\n",
       "2014-01-01   10299.7  1.174134e+04\n",
       "2014-04-01   10171.6  1.214390e+04\n",
       "2014-07-01   10333.2  1.259325e+04\n",
       "2014-10-01   10562.6  1.308533e+04\n",
       "2015-01-01   10630.8  1.361503e+04\n",
       "2015-04-01   10615.5  1.420403e+04\n",
       "2015-07-01   10661.9  1.487051e+04\n",
       "2015-10-01   11211.0  1.562641e+04\n",
       "2016-01-01   11463.6  1.649329e+04\n",
       "2016-04-01   11470.4  1.750886e+04\n",
       "2016-07-01   11709.9  1.871908e+04\n",
       "2016-10-01   11971.3  2.018681e+04\n",
       "2017-01-01   11905.3  2.200961e+04\n",
       "2017-04-01   11901.1  2.433962e+04\n",
       "2017-07-01   12208.0  2.741718e+04\n",
       "2017-10-01   12360.6  3.164809e+04\n",
       "2018-01-01   13003.3  3.776516e+04\n",
       "2018-04-01   13088.5  4.717770e+04\n",
       "2018-07-01   13447.9  6.281272e+04\n",
       "2018-10-01   13879.1  9.120770e+04\n",
       "2019-01-01   14028.9  1.474703e+05\n",
       "2019-04-01   14078.4  2.645418e+05\n",
       "2019-07-01   14695.8  5.077039e+05\n",
       "2019-10-01   14841.5  1.023579e+06\n",
       "2020-01-01   14407.2  2.136483e+06"
      ]
     },
     "execution_count": 76,
     "metadata": {},
     "output_type": "execute_result"
    }
   ],
   "source": [
    "test"
   ]
  },
  {
   "cell_type": "markdown",
   "metadata": {},
   "source": [
    "### Test vs true Predicitons \n",
    "- We can see that the model perform very well with making predicitons\n",
    "- since our predictions are accurate it is safe to foreacast on the data that we have"
   ]
  },
  {
   "cell_type": "code",
   "execution_count": 78,
   "metadata": {},
   "outputs": [
    {
     "data": {
      "text/plain": [
       "<matplotlib.axes._subplots.AxesSubplot at 0x1a5546f690>"
      ]
     },
     "execution_count": 78,
     "metadata": {},
     "output_type": "execute_result"
    },
    {
     "data": {
      "image/png": "[encoded data removed]",
      "text/plain": [
       "<Figure size 1152x432 with 1 Axes>"
      ]
     },
     "metadata": {
      "needs_background": "light"
     },
     "output_type": "display_data"
    }
   ],
   "source": [
    "test.plot(figsize = (16,6))"
   ]
  },
  {
   "cell_type": "markdown",
   "metadata": {},
   "source": [
    "### Forecasting\n",
    " - Based on the 20 years of data and using the model we just created, we will forcast the value of Total Debt held by prvate investors 4 quarters out. Though the above shows the model predictions were very accurate we will pay closer attention to the first month out\n",
    " - Will need to scale the entire data set and forecast 4 quarter"
   ]
  },
  {
   "cell_type": "code",
   "execution_count": 79,
   "metadata": {},
   "outputs": [],
   "source": [
    "fullScaler = MinMaxScaler()"
   ]
  },
  {
   "cell_type": "code",
   "execution_count": 80,
   "metadata": {},
   "outputs": [],
   "source": [
    "data_scaled = fullScaler.fit_transform(data)"
   ]
  },
  {
   "cell_type": "code",
   "execution_count": 82,
   "metadata": {},
   "outputs": [],
   "source": [
    "forecast = []\n",
    "period = length\n",
    "batch = data_scaled[-length:]\n",
    "curr_b = batch.reshape((1,length,n_features))\n",
    "\n",
    "for i in range(period):\n",
    "    current_pred = model.predict(curr_b)[0]\n",
    "    forecast.append(current_pred)\n",
    "    curr_b = np.append(curr_b[:,1:,:], [[current_pred]], axis=1)"
   ]
  },
  {
   "cell_type": "code",
   "execution_count": 83,
   "metadata": {},
   "outputs": [
    {
     "data": {
      "text/plain": [
       "[array([1.0930606], dtype=float32),\n",
       " array([1.1313249], dtype=float32),\n",
       " array([1.1622157], dtype=float32),\n",
       " array([1.2031733], dtype=float32)]"
      ]
     },
     "execution_count": 83,
     "metadata": {},
     "output_type": "execute_result"
    }
   ],
   "source": [
    "forecast"
   ]
  },
  {
   "cell_type": "markdown",
   "metadata": {},
   "source": [
    "## inverse scale the forecast to get the true values"
   ]
  },
  {
   "cell_type": "code",
   "execution_count": 84,
   "metadata": {},
   "outputs": [],
   "source": [
    "true_forecast = fullScaler.inverse_transform(forecast)"
   ]
  },
  {
   "cell_type": "code",
   "execution_count": 85,
   "metadata": {},
   "outputs": [
    {
     "data": {
      "text/plain": [
       "array([[15969.29225899],\n",
       "       [16433.01317641],\n",
       "       [16807.37596412],\n",
       "       [17303.73666011]])"
      ]
     },
     "execution_count": 85,
     "metadata": {},
     "output_type": "execute_result"
    }
   ],
   "source": [
    "true_forecast"
   ]
  },
  {
   "cell_type": "markdown",
   "metadata": {},
   "source": [
    "## Adding forecast to data plot\n",
    "- will add the forcast values to the data plot\n",
    "- paying closer attention to the first value"
   ]
  },
  {
   "cell_type": "markdown",
   "metadata": {},
   "source": [
    "### Setting dates for forecast\n",
    "- lets get the last quarter first, which we will add 4 quarters to"
   ]
  },
  {
   "cell_type": "code",
   "execution_count": 89,
   "metadata": {},
   "outputs": [
    {
     "data": {
      "text/html": [
       "<div>\n",
       "<style scoped>\n",
       "    .dataframe tbody tr th:only-of-type {\n",
       "        vertical-align: middle;\n",
       "    }\n",
       "\n",
       "    .dataframe tbody tr th {\n",
       "        vertical-align: top;\n",
       "    }\n",
       "\n",
       "    .dataframe thead th {\n",
       "        text-align: right;\n",
       "    }\n",
       "</style>\n",
       "<table border=\"1\" class=\"dataframe\">\n",
       "  <thead>\n",
       "    <tr style=\"text-align: right;\">\n",
       "      <th></th>\n",
       "      <th>fed debt</th>\n",
       "    </tr>\n",
       "    <tr>\n",
       "      <th>DATE</th>\n",
       "      <th></th>\n",
       "    </tr>\n",
       "  </thead>\n",
       "  <tbody>\n",
       "    <tr>\n",
       "      <td>2019-01-01</td>\n",
       "      <td>14028.9</td>\n",
       "    </tr>\n",
       "    <tr>\n",
       "      <td>2019-04-01</td>\n",
       "      <td>14078.4</td>\n",
       "    </tr>\n",
       "    <tr>\n",
       "      <td>2019-07-01</td>\n",
       "      <td>14695.8</td>\n",
       "    </tr>\n",
       "    <tr>\n",
       "      <td>2019-10-01</td>\n",
       "      <td>14841.5</td>\n",
       "    </tr>\n",
       "    <tr>\n",
       "      <td>2020-01-01</td>\n",
       "      <td>14407.2</td>\n",
       "    </tr>\n",
       "  </tbody>\n",
       "</table>\n",
       "</div>"
      ],
      "text/plain": [
       "            fed debt\n",
       "DATE                \n",
       "2019-01-01   14028.9\n",
       "2019-04-01   14078.4\n",
       "2019-07-01   14695.8\n",
       "2019-10-01   14841.5\n",
       "2020-01-01   14407.2"
      ]
     },
     "execution_count": 89,
     "metadata": {},
     "output_type": "execute_result"
    }
   ],
   "source": [
    "data.tail()"
   ]
  },
  {
   "cell_type": "code",
   "execution_count": 92,
   "metadata": {},
   "outputs": [],
   "source": [
    "dates = pd.date_range(start=\"2020-4-1\", periods=period, freq=\"QS\")"
   ]
  },
  {
   "cell_type": "code",
   "execution_count": 93,
   "metadata": {},
   "outputs": [
    {
     "data": {
      "text/plain": [
       "DatetimeIndex(['2020-04-01', '2020-07-01', '2020-10-01', '2021-01-01'], dtype='datetime64[ns]', freq='QS-JAN')"
      ]
     },
     "execution_count": 93,
     "metadata": {},
     "output_type": "execute_result"
    }
   ],
   "source": [
    "dates"
   ]
  },
  {
   "cell_type": "markdown",
   "metadata": {},
   "source": [
    "### Creating Forecast DataFrame\n",
    "- Will add the dates to the forecasted data "
   ]
  },
  {
   "cell_type": "code",
   "execution_count": 94,
   "metadata": {},
   "outputs": [],
   "source": [
    "forecast_Df = pd.DataFrame(true_forecast, columns=[\"forecast\"], index=dates)"
   ]
  },
  {
   "cell_type": "code",
   "execution_count": 95,
   "metadata": {},
   "outputs": [
    {
     "data": {
      "text/html": [
       "<div>\n",
       "<style scoped>\n",
       "    .dataframe tbody tr th:only-of-type {\n",
       "        vertical-align: middle;\n",
       "    }\n",
       "\n",
       "    .dataframe tbody tr th {\n",
       "        vertical-align: top;\n",
       "    }\n",
       "\n",
       "    .dataframe thead th {\n",
       "        text-align: right;\n",
       "    }\n",
       "</style>\n",
       "<table border=\"1\" class=\"dataframe\">\n",
       "  <thead>\n",
       "    <tr style=\"text-align: right;\">\n",
       "      <th></th>\n",
       "      <th>forecast</th>\n",
       "    </tr>\n",
       "  </thead>\n",
       "  <tbody>\n",
       "    <tr>\n",
       "      <td>2020-04-01</td>\n",
       "      <td>15969.292259</td>\n",
       "    </tr>\n",
       "    <tr>\n",
       "      <td>2020-07-01</td>\n",
       "      <td>16433.013176</td>\n",
       "    </tr>\n",
       "    <tr>\n",
       "      <td>2020-10-01</td>\n",
       "      <td>16807.375964</td>\n",
       "    </tr>\n",
       "    <tr>\n",
       "      <td>2021-01-01</td>\n",
       "      <td>17303.736660</td>\n",
       "    </tr>\n",
       "  </tbody>\n",
       "</table>\n",
       "</div>"
      ],
      "text/plain": [
       "                forecast\n",
       "2020-04-01  15969.292259\n",
       "2020-07-01  16433.013176\n",
       "2020-10-01  16807.375964\n",
       "2021-01-01  17303.736660"
      ]
     },
     "execution_count": 95,
     "metadata": {},
     "output_type": "execute_result"
    }
   ],
   "source": [
    "forecast_Df"
   ]
  },
  {
   "cell_type": "code",
   "execution_count": 98,
   "metadata": {},
   "outputs": [
    {
     "data": {
      "text/plain": [
       "(199, 204)"
      ]
     },
     "execution_count": 98,
     "metadata": {},
     "output_type": "execute_result"
    },
    {
     "data": {
      "image/png": "[encoded data removed]",
      "text/plain": [
       "<Figure size 1152x432 with 1 Axes>"
      ]
     },
     "metadata": {
      "needs_background": "light"
     },
     "output_type": "display_data"
    }
   ],
   "source": [
    "ax = data.plot(figsize = (16,6))\n",
    "forecast_Df.plot(ax = ax)\n",
    "plt.xlim(\"2019-10-01\", \"2021-01-01\")"
   ]
  },
  {
   "cell_type": "code",
   "execution_count": null,
   "metadata": {},
   "outputs": [],
   "source": []
  }
 ],
 "metadata": {
  "kernelspec": {
   "display_name": "Python 3",
   "language": "python",
   "name": "python3"
  },
  "language_info": {
   "codemirror_mode": {
    "name": "ipython",
    "version": 3
   },
   "file_extension": ".py",
   "mimetype": "text/x-python",
   "name": "python",
   "nbconvert_exporter": "python",
   "pygments_lexer": "ipython3",
   "version": "3.7.4"
  }
 },
 "nbformat": 4,
 "nbformat_minor": 2
}
