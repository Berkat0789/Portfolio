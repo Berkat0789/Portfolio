{
 "cells": [
  {
   "cell_type": "markdown",
   "metadata": {},
   "source": [
    "### Project Overview\n",
    "- You are assigned to fetch the total federal debts held by private investors. The data will be in units of Billions of Dollars, Not Seasonally Adjusted. The time frame will be Quarterly reported beginning year 2000 to the recently reported June 9th 2020(q1 - 2020 reported). The data will be collected from the Federal Reserve Bank of St. Louis cited below\n",
    "- Using your knowledge of Recurrent Neural Networks forecast the Debt held by investors one quarter out. Based on your observation is the forecast reasonable to use as a good indicator of what the debt held by private investors. If not, what would you suggest?"
   ]
  },
  {
   "cell_type": "markdown",
   "metadata": {},
   "source": [
    "#### Suggested Citation: U.S. Department of the Treasury. Fiscal Service, Federal Debt Held by Private Investors\n",
    "[FDHBPIN], retrieved from FRED, Federal Reserve Bank of St. Louis; https://fred.stlouisfed.org/series/FDHBPIN, August 31, 2020."
   ]
  },
  {
   "cell_type": "code",
   "execution_count": 1,
   "metadata": {},
   "outputs": [],
   "source": [
    "import pandas as pd\n",
    "import matplotlib.pyplot as plt\n",
    "import seaborn as sns\n",
    "import numpy as np"
   ]
  },
  {
   "cell_type": "markdown",
   "metadata": {},
   "source": [
    "## Importing Data \n",
    "- plot below shows that the Debt held by private investors have been on a steady increase since 2000"
   ]
  },
  {
   "cell_type": "code",
   "execution_count": 2,
   "metadata": {},
   "outputs": [],
   "source": [
    "data = pd.read_csv(\"resources/fedDebtheldPrivateInvestors.csv\", parse_dates=True, index_col=\"DATE\")"
   ]
  },
  {
   "cell_type": "code",
   "execution_count": 3,
   "metadata": {},
   "outputs": [],
   "source": [
    "data.columns= [\"fed debt\"]"
   ]
  },
  {
   "cell_type": "code",
   "execution_count": 65,
   "metadata": {},
   "outputs": [
    {
     "data": {
      "image/png": "[encoded data removed]",
      "text/plain": [
       "<Figure size 504x360 with 1 Axes>"
      ]
     },
     "metadata": {
      "needs_background": "light"
     },
     "output_type": "display_data"
    }
   ],
   "source": [
    "data.plot(figsize = (7,5), marker = \"o\", mfc = \"red\", mec = \"y\")\n",
    "plt.ylabel(\"Billions of Dollars\")\n",
    "plt.title(\"Federal Debt held by Private Investors\")\n",
    "plt.savefig(\"resources/timePlot.png\", dpi =300)"
   ]
  },
  {
   "cell_type": "code",
   "execution_count": 5,
   "metadata": {},
   "outputs": [
    {
     "name": "stdout",
     "output_type": "stream",
     "text": [
      "<class 'pandas.core.frame.DataFrame'>\n",
      "DatetimeIndex: 81 entries, 2000-01-01 to 2020-01-01\n",
      "Data columns (total 1 columns):\n",
      " #   Column    Non-Null Count  Dtype  \n",
      "---  ------    --------------  -----  \n",
      " 0   fed debt  81 non-null     float64\n",
      "dtypes: float64(1)\n",
      "memory usage: 1.3 KB\n"
     ]
    }
   ],
   "source": [
    "data.info()"
   ]
  },
  {
   "cell_type": "markdown",
   "metadata": {},
   "source": [
    "### Summary\n",
    "- The federal deby held by private investors has continue to increase within the 20 year period of our data set\n",
    "- Data provides us with 81 quarters which we will use for our analysis\n",
    "- we will need a siginificant amount of data to forecast this since we can see that there is no seasonality in the data."
   ]
  },
  {
   "cell_type": "markdown",
   "metadata": {},
   "source": [
    "### Data sampling to create model\n",
    " - Since we have 81 quarters we will take approsimately 30 quarters to be our testing sample below"
   ]
  },
  {
   "cell_type": "code",
   "execution_count": 6,
   "metadata": {},
   "outputs": [],
   "source": [
    "test_sample = 30"
   ]
  },
  {
   "cell_type": "code",
   "execution_count": 7,
   "metadata": {},
   "outputs": [],
   "source": [
    "test_index = len(data) - test_sample"
   ]
  },
  {
   "cell_type": "code",
   "execution_count": 8,
   "metadata": {},
   "outputs": [
    {
     "data": {
      "text/plain": [
       "51"
      ]
     },
     "execution_count": 8,
     "metadata": {},
     "output_type": "execute_result"
    }
   ],
   "source": [
    "test_index"
   ]
  },
  {
   "cell_type": "markdown",
   "metadata": {},
   "source": [
    "## Setting testing and training data"
   ]
  },
  {
   "cell_type": "code",
   "execution_count": 9,
   "metadata": {},
   "outputs": [],
   "source": [
    "train = data.iloc[:test_index]"
   ]
  },
  {
   "cell_type": "code",
   "execution_count": 10,
   "metadata": {},
   "outputs": [],
   "source": [
    "test =data.iloc[test_index:]"
   ]
  },
  {
   "cell_type": "code",
   "execution_count": 11,
   "metadata": {},
   "outputs": [
    {
     "data": {
      "text/plain": [
       "(30, 1)"
      ]
     },
     "execution_count": 11,
     "metadata": {},
     "output_type": "execute_result"
    }
   ],
   "source": [
    "test.shape"
   ]
  },
  {
   "cell_type": "code",
   "execution_count": 12,
   "metadata": {},
   "outputs": [
    {
     "data": {
      "text/plain": [
       "(51, 1)"
      ]
     },
     "execution_count": 12,
     "metadata": {},
     "output_type": "execute_result"
    }
   ],
   "source": [
    "train.shape"
   ]
  },
  {
   "cell_type": "markdown",
   "metadata": {},
   "source": [
    "#### Scaling the data to a nomal distribution \n",
    "- Will do this to punish any extrame values or outliers"
   ]
  },
  {
   "cell_type": "code",
   "execution_count": 13,
   "metadata": {},
   "outputs": [],
   "source": [
    "from sklearn.preprocessing import MinMaxScaler"
   ]
  },
  {
   "cell_type": "code",
   "execution_count": 14,
   "metadata": {},
   "outputs": [],
   "source": [
    "scalar = MinMaxScaler()"
   ]
  },
  {
   "cell_type": "code",
   "execution_count": 15,
   "metadata": {},
   "outputs": [],
   "source": [
    "train_scaled = scalar.fit_transform(train)"
   ]
  },
  {
   "cell_type": "code",
   "execution_count": 16,
   "metadata": {},
   "outputs": [],
   "source": [
    "test_scaled = scalar.transform(test)"
   ]
  },
  {
   "cell_type": "markdown",
   "metadata": {},
   "source": [
    "## Length\n",
    "- This is the number if quarters we are going to attempt to predict\n",
    "- we will aim for 4 quarters \n",
    "- Since the model is mostly accurate in the first prediction, we will look at the first quarter predicitons as the target."
   ]
  },
  {
   "cell_type": "code",
   "execution_count": 17,
   "metadata": {},
   "outputs": [],
   "source": [
    "length = 4"
   ]
  },
  {
   "cell_type": "markdown",
   "metadata": {},
   "source": [
    "### Time series generator"
   ]
  },
  {
   "cell_type": "code",
   "execution_count": 18,
   "metadata": {},
   "outputs": [],
   "source": [
    "from tensorflow.keras.preprocessing.sequence import TimeseriesGenerator"
   ]
  },
  {
   "cell_type": "code",
   "execution_count": 19,
   "metadata": {},
   "outputs": [],
   "source": [
    "gen = TimeseriesGenerator(train_scaled, train_scaled, length=length, batch_size=1)"
   ]
  },
  {
   "cell_type": "markdown",
   "metadata": {},
   "source": [
    "### Validation Generation"
   ]
  },
  {
   "cell_type": "code",
   "execution_count": 20,
   "metadata": {},
   "outputs": [],
   "source": [
    "valid_gen = TimeseriesGenerator(test_scaled, test_scaled, length=4, batch_size=1)"
   ]
  },
  {
   "cell_type": "markdown",
   "metadata": {},
   "source": [
    "## Early stopping \n",
    "- Adding early stopping to prevent overtraining of the model"
   ]
  },
  {
   "cell_type": "code",
   "execution_count": 21,
   "metadata": {},
   "outputs": [],
   "source": [
    "from tensorflow.keras.callbacks import EarlyStopping"
   ]
  },
  {
   "cell_type": "code",
   "execution_count": 22,
   "metadata": {},
   "outputs": [],
   "source": [
    "stop = EarlyStopping(monitor=\"val_loss\", mode = \"min\", patience=3)"
   ]
  },
  {
   "cell_type": "markdown",
   "metadata": {},
   "source": [
    "## Network and Model \n",
    "- Will use a LSTM to prevent gradient Decay for beter learning and results\n",
    "- number of features we are trying ot predict will be 1(value of rate)"
   ]
  },
  {
   "cell_type": "code",
   "execution_count": 23,
   "metadata": {},
   "outputs": [],
   "source": [
    "n_features = 1 "
   ]
  },
  {
   "cell_type": "code",
   "execution_count": 24,
   "metadata": {},
   "outputs": [],
   "source": [
    "from tensorflow.keras.models import Sequential\n",
    "from tensorflow.keras.layers import LSTM, Dense"
   ]
  },
  {
   "cell_type": "code",
   "execution_count": 25,
   "metadata": {},
   "outputs": [],
   "source": [
    "model = Sequential()\n",
    "model.add(LSTM(units = 200, activation ='relu', input_shape = (length, n_features)))\n",
    "model.add(Dense(units = 1))\n",
    "model.compile(loss = \"mse\", optimizer = \"adam\")"
   ]
  },
  {
   "cell_type": "markdown",
   "metadata": {},
   "source": [
    "### Fitting model"
   ]
  },
  {
   "cell_type": "code",
   "execution_count": 66,
   "metadata": {},
   "outputs": [
    {
     "name": "stdout",
     "output_type": "stream",
     "text": [
      "Epoch 1/10\n",
      "47/47 [==============================] - 30s 639ms/step - loss: 0.0019 - val_loss: 0.0016\n",
      "Epoch 2/10\n",
      "47/47 [==============================] - 30s 640ms/step - loss: 0.0017 - val_loss: 0.0016\n",
      "Epoch 3/10\n",
      "47/47 [==============================] - 29s 616ms/step - loss: 0.0020 - val_loss: 0.0207\n",
      "Epoch 4/10\n",
      "47/47 [==============================] - 31s 654ms/step - loss: 0.0022 - val_loss: 0.0043\n",
      "Epoch 5/10\n",
      "47/47 [==============================] - 31s 669ms/step - loss: 0.0012 - val_loss: 0.0024\n"
     ]
    },
    {
     "data": {
      "text/plain": [
       "<tensorflow.python.keras.callbacks.History at 0x1a4ffddad0>"
      ]
     },
     "execution_count": 66,
     "metadata": {},
     "output_type": "execute_result"
    }
   ],
   "source": [
    "model.fit_generator(gen, validation_data=valid_gen, epochs=10, callbacks=[stop])"
   ]
  },
  {
   "cell_type": "markdown",
   "metadata": {},
   "source": [
    "## Model  Performance\n",
    "-  plotting the model performance on training\n",
    "- model did pretty well in training where the loss was close to the predicitons\n",
    "- This could be increased by increasing the Epohs during training"
   ]
  },
  {
   "cell_type": "code",
   "execution_count": 27,
   "metadata": {},
   "outputs": [
    {
     "data": {
      "text/plain": [
       "<matplotlib.axes._subplots.AxesSubplot at 0x1a4968e790>"
      ]
     },
     "execution_count": 27,
     "metadata": {},
     "output_type": "execute_result"
    },
    {
     "data": {
      "image/png": "[encoded data removed]",
      "text/plain": [
       "<Figure size 1152x432 with 1 Axes>"
      ]
     },
     "metadata": {
      "needs_background": "light"
     },
     "output_type": "display_data"
    }
   ],
   "source": [
    "pd.DataFrame(model.history.history).plot(figsize = (16,6))"
   ]
  },
  {
   "cell_type": "markdown",
   "metadata": {},
   "source": [
    "## Making Prediction\n",
    "- Will use the model to make prediction of the first quarter out"
   ]
  },
  {
   "cell_type": "code",
   "execution_count": 29,
   "metadata": {},
   "outputs": [],
   "source": [
    "predictions = []\n",
    "batch = train_scaled[-length:]\n",
    "current_batch = batch.reshape((1,length,n_features))\n",
    "\n",
    "for x in range(len(test)):\n",
    "    current_pred = model.predict(current_batch)[0]\n",
    "    predictions.append(current_pred)\n",
    "    current_batch = np.append(current_batch[:,1:,:], [[current_pred]], axis=1)"
   ]
  },
  {
   "cell_type": "code",
   "execution_count": 30,
   "metadata": {},
   "outputs": [
    {
     "data": {
      "text/plain": [
       "array([[0.87876986],\n",
       "       [0.93702877],\n",
       "       [0.96524475],\n",
       "       [1.        ]])"
      ]
     },
     "execution_count": 30,
     "metadata": {},
     "output_type": "execute_result"
    }
   ],
   "source": [
    "train_scaled[-length:]"
   ]
  },
  {
   "cell_type": "markdown",
   "metadata": {},
   "source": [
    "## Predictions\n",
    "- The predicitons we have are in a scaled format so we need to inverse this"
   ]
  },
  {
   "cell_type": "code",
   "execution_count": 31,
   "metadata": {},
   "outputs": [
    {
     "data": {
      "text/plain": [
       "[array([1.0607896], dtype=float32),\n",
       " array([1.1083924], dtype=float32),\n",
       " array([1.1510726], dtype=float32),\n",
       " array([1.2011169], dtype=float32),\n",
       " array([1.2584769], dtype=float32),\n",
       " array([1.313153], dtype=float32),\n",
       " array([1.3706173], dtype=float32),\n",
       " array([1.4347224], dtype=float32),\n",
       " array([1.5044792], dtype=float32),\n",
       " array([1.5784624], dtype=float32),\n",
       " array([1.6603197], dtype=float32),\n",
       " array([1.75233], dtype=float32),\n",
       " array([1.8556855], dtype=float32),\n",
       " array([1.97288], dtype=float32),\n",
       " array([2.108851], dtype=float32),\n",
       " array([2.269008], dtype=float32),\n",
       " array([2.4606671], dtype=float32),\n",
       " array([2.6951053], dtype=float32),\n",
       " array([2.9896793], dtype=float32),\n",
       " array([3.370801], dtype=float32),\n",
       " array([3.8819726], dtype=float32),\n",
       " array([4.5991325], dtype=float32),\n",
       " array([5.6632123], dtype=float32),\n",
       " array([7.3557243], dtype=float32),\n",
       " array([10.286194], dtype=float32),\n",
       " array([15.860163], dtype=float32),\n",
       " array([27.325583], dtype=float32),\n",
       " array([51.541798], dtype=float32),\n",
       " array([102.50546], dtype=float32),\n",
       " array([212.61488], dtype=float32)]"
      ]
     },
     "execution_count": 31,
     "metadata": {},
     "output_type": "execute_result"
    }
   ],
   "source": [
    "predictions"
   ]
  },
  {
   "cell_type": "code",
   "execution_count": 32,
   "metadata": {},
   "outputs": [],
   "source": [
    "true_predictions = scalar.inverse_transform(predictions)"
   ]
  },
  {
   "cell_type": "markdown",
   "metadata": {},
   "source": [
    "### True Predicitons \n",
    "- Will combine this with out test data to\n",
    "- remeber we will only be paying attention to the first quarter out since this will be the most accurate"
   ]
  },
  {
   "cell_type": "code",
   "execution_count": 33,
   "metadata": {},
   "outputs": [
    {
     "data": {
      "text/plain": [
       "array([[  10038.65361061],\n",
       "       [  10366.96041346],\n",
       "       [  10661.3176549 ],\n",
       "       [  11006.46317053],\n",
       "       [  11402.06316233],\n",
       "       [  11779.15380688],\n",
       "       [  12175.47319098],\n",
       "       [  12617.59361076],\n",
       "       [  13098.69193859],\n",
       "       [  13608.93922024],\n",
       "       [  14173.49280996],\n",
       "       [  14808.06916857],\n",
       "       [  15520.89156666],\n",
       "       [  16329.15882425],\n",
       "       [  17266.92327309],\n",
       "       [  18371.49383106],\n",
       "       [  19693.32908516],\n",
       "       [  21310.20233135],\n",
       "       [  23341.8204483 ],\n",
       "       [  25970.34014359],\n",
       "       [  29495.78829212],\n",
       "       [  34441.89728699],\n",
       "       [  41780.64258614],\n",
       "       [  53453.55959167],\n",
       "       [  73664.42172852],\n",
       "       [ 112106.97035065],\n",
       "       [ 191181.67741547],\n",
       "       [ 358196.06994934],\n",
       "       [ 709682.27478027],\n",
       "       [1469084.92799072]])"
      ]
     },
     "execution_count": 33,
     "metadata": {},
     "output_type": "execute_result"
    }
   ],
   "source": [
    "true_predictions"
   ]
  },
  {
   "cell_type": "markdown",
   "metadata": {},
   "source": [
    "### Combining True predicitons with the test data "
   ]
  },
  {
   "cell_type": "code",
   "execution_count": 34,
   "metadata": {},
   "outputs": [
    {
     "name": "stderr",
     "output_type": "stream",
     "text": [
      "/Users/berkatbhatti/opt/anaconda3/lib/python3.7/site-packages/ipykernel_launcher.py:1: SettingWithCopyWarning: \n",
      "A value is trying to be set on a copy of a slice from a DataFrame.\n",
      "Try using .loc[row_indexer,col_indexer] = value instead\n",
      "\n",
      "See the caveats in the documentation: https://pandas.pydata.org/pandas-docs/stable/user_guide/indexing.html#returning-a-view-versus-a-copy\n",
      "  \"\"\"Entry point for launching an IPython kernel.\n"
     ]
    }
   ],
   "source": [
    "test[\"predictions\"] = true_predictions"
   ]
  },
  {
   "cell_type": "code",
   "execution_count": 35,
   "metadata": {},
   "outputs": [
    {
     "data": {
      "text/html": [
       "<div>\n",
       "<style scoped>\n",
       "    .dataframe tbody tr th:only-of-type {\n",
       "        vertical-align: middle;\n",
       "    }\n",
       "\n",
       "    .dataframe tbody tr th {\n",
       "        vertical-align: top;\n",
       "    }\n",
       "\n",
       "    .dataframe thead th {\n",
       "        text-align: right;\n",
       "    }\n",
       "</style>\n",
       "<table border=\"1\" class=\"dataframe\">\n",
       "  <thead>\n",
       "    <tr style=\"text-align: right;\">\n",
       "      <th></th>\n",
       "      <th>fed debt</th>\n",
       "      <th>predictions</th>\n",
       "    </tr>\n",
       "    <tr>\n",
       "      <th>DATE</th>\n",
       "      <th></th>\n",
       "      <th></th>\n",
       "    </tr>\n",
       "  </thead>\n",
       "  <tbody>\n",
       "    <tr>\n",
       "      <th>2012-10-01</th>\n",
       "      <td>9909.1</td>\n",
       "      <td>1.003865e+04</td>\n",
       "    </tr>\n",
       "    <tr>\n",
       "      <th>2013-01-01</th>\n",
       "      <td>10114.8</td>\n",
       "      <td>1.036696e+04</td>\n",
       "    </tr>\n",
       "    <tr>\n",
       "      <th>2013-04-01</th>\n",
       "      <td>9964.9</td>\n",
       "      <td>1.066132e+04</td>\n",
       "    </tr>\n",
       "    <tr>\n",
       "      <th>2013-07-01</th>\n",
       "      <td>9904.0</td>\n",
       "      <td>1.100646e+04</td>\n",
       "    </tr>\n",
       "    <tr>\n",
       "      <th>2013-10-01</th>\n",
       "      <td>10146.6</td>\n",
       "      <td>1.140206e+04</td>\n",
       "    </tr>\n",
       "    <tr>\n",
       "      <th>2014-01-01</th>\n",
       "      <td>10299.7</td>\n",
       "      <td>1.177915e+04</td>\n",
       "    </tr>\n",
       "    <tr>\n",
       "      <th>2014-04-01</th>\n",
       "      <td>10171.6</td>\n",
       "      <td>1.217547e+04</td>\n",
       "    </tr>\n",
       "    <tr>\n",
       "      <th>2014-07-01</th>\n",
       "      <td>10333.2</td>\n",
       "      <td>1.261759e+04</td>\n",
       "    </tr>\n",
       "    <tr>\n",
       "      <th>2014-10-01</th>\n",
       "      <td>10562.6</td>\n",
       "      <td>1.309869e+04</td>\n",
       "    </tr>\n",
       "    <tr>\n",
       "      <th>2015-01-01</th>\n",
       "      <td>10630.8</td>\n",
       "      <td>1.360894e+04</td>\n",
       "    </tr>\n",
       "    <tr>\n",
       "      <th>2015-04-01</th>\n",
       "      <td>10615.5</td>\n",
       "      <td>1.417349e+04</td>\n",
       "    </tr>\n",
       "    <tr>\n",
       "      <th>2015-07-01</th>\n",
       "      <td>10661.9</td>\n",
       "      <td>1.480807e+04</td>\n",
       "    </tr>\n",
       "    <tr>\n",
       "      <th>2015-10-01</th>\n",
       "      <td>11211.0</td>\n",
       "      <td>1.552089e+04</td>\n",
       "    </tr>\n",
       "    <tr>\n",
       "      <th>2016-01-01</th>\n",
       "      <td>11463.6</td>\n",
       "      <td>1.632916e+04</td>\n",
       "    </tr>\n",
       "    <tr>\n",
       "      <th>2016-04-01</th>\n",
       "      <td>11470.4</td>\n",
       "      <td>1.726692e+04</td>\n",
       "    </tr>\n",
       "    <tr>\n",
       "      <th>2016-07-01</th>\n",
       "      <td>11709.9</td>\n",
       "      <td>1.837149e+04</td>\n",
       "    </tr>\n",
       "    <tr>\n",
       "      <th>2016-10-01</th>\n",
       "      <td>11971.3</td>\n",
       "      <td>1.969333e+04</td>\n",
       "    </tr>\n",
       "    <tr>\n",
       "      <th>2017-01-01</th>\n",
       "      <td>11905.3</td>\n",
       "      <td>2.131020e+04</td>\n",
       "    </tr>\n",
       "    <tr>\n",
       "      <th>2017-04-01</th>\n",
       "      <td>11901.1</td>\n",
       "      <td>2.334182e+04</td>\n",
       "    </tr>\n",
       "    <tr>\n",
       "      <th>2017-07-01</th>\n",
       "      <td>12208.0</td>\n",
       "      <td>2.597034e+04</td>\n",
       "    </tr>\n",
       "    <tr>\n",
       "      <th>2017-10-01</th>\n",
       "      <td>12360.6</td>\n",
       "      <td>2.949579e+04</td>\n",
       "    </tr>\n",
       "    <tr>\n",
       "      <th>2018-01-01</th>\n",
       "      <td>13003.3</td>\n",
       "      <td>3.444190e+04</td>\n",
       "    </tr>\n",
       "    <tr>\n",
       "      <th>2018-04-01</th>\n",
       "      <td>13088.5</td>\n",
       "      <td>4.178064e+04</td>\n",
       "    </tr>\n",
       "    <tr>\n",
       "      <th>2018-07-01</th>\n",
       "      <td>13447.9</td>\n",
       "      <td>5.345356e+04</td>\n",
       "    </tr>\n",
       "    <tr>\n",
       "      <th>2018-10-01</th>\n",
       "      <td>13879.1</td>\n",
       "      <td>7.366442e+04</td>\n",
       "    </tr>\n",
       "    <tr>\n",
       "      <th>2019-01-01</th>\n",
       "      <td>14028.9</td>\n",
       "      <td>1.121070e+05</td>\n",
       "    </tr>\n",
       "    <tr>\n",
       "      <th>2019-04-01</th>\n",
       "      <td>14078.4</td>\n",
       "      <td>1.911817e+05</td>\n",
       "    </tr>\n",
       "    <tr>\n",
       "      <th>2019-07-01</th>\n",
       "      <td>14695.8</td>\n",
       "      <td>3.581961e+05</td>\n",
       "    </tr>\n",
       "    <tr>\n",
       "      <th>2019-10-01</th>\n",
       "      <td>14841.5</td>\n",
       "      <td>7.096823e+05</td>\n",
       "    </tr>\n",
       "    <tr>\n",
       "      <th>2020-01-01</th>\n",
       "      <td>14407.2</td>\n",
       "      <td>1.469085e+06</td>\n",
       "    </tr>\n",
       "  </tbody>\n",
       "</table>\n",
       "</div>"
      ],
      "text/plain": [
       "            fed debt   predictions\n",
       "DATE                              \n",
       "2012-10-01    9909.1  1.003865e+04\n",
       "2013-01-01   10114.8  1.036696e+04\n",
       "2013-04-01    9964.9  1.066132e+04\n",
       "2013-07-01    9904.0  1.100646e+04\n",
       "2013-10-01   10146.6  1.140206e+04\n",
       "2014-01-01   10299.7  1.177915e+04\n",
       "2014-04-01   10171.6  1.217547e+04\n",
       "2014-07-01   10333.2  1.261759e+04\n",
       "2014-10-01   10562.6  1.309869e+04\n",
       "2015-01-01   10630.8  1.360894e+04\n",
       "2015-04-01   10615.5  1.417349e+04\n",
       "2015-07-01   10661.9  1.480807e+04\n",
       "2015-10-01   11211.0  1.552089e+04\n",
       "2016-01-01   11463.6  1.632916e+04\n",
       "2016-04-01   11470.4  1.726692e+04\n",
       "2016-07-01   11709.9  1.837149e+04\n",
       "2016-10-01   11971.3  1.969333e+04\n",
       "2017-01-01   11905.3  2.131020e+04\n",
       "2017-04-01   11901.1  2.334182e+04\n",
       "2017-07-01   12208.0  2.597034e+04\n",
       "2017-10-01   12360.6  2.949579e+04\n",
       "2018-01-01   13003.3  3.444190e+04\n",
       "2018-04-01   13088.5  4.178064e+04\n",
       "2018-07-01   13447.9  5.345356e+04\n",
       "2018-10-01   13879.1  7.366442e+04\n",
       "2019-01-01   14028.9  1.121070e+05\n",
       "2019-04-01   14078.4  1.911817e+05\n",
       "2019-07-01   14695.8  3.581961e+05\n",
       "2019-10-01   14841.5  7.096823e+05\n",
       "2020-01-01   14407.2  1.469085e+06"
      ]
     },
     "execution_count": 35,
     "metadata": {},
     "output_type": "execute_result"
    }
   ],
   "source": [
    "test"
   ]
  },
  {
   "cell_type": "markdown",
   "metadata": {},
   "source": [
    "### Test vs true Predicitons \n",
    "- We can see that the model perform very well with making predicitons\n",
    "- since our predictions are accurate it is safe to foreacast on the data that we have"
   ]
  },
  {
   "cell_type": "code",
   "execution_count": 36,
   "metadata": {},
   "outputs": [
    {
     "data": {
      "text/plain": [
       "<matplotlib.axes._subplots.AxesSubplot at 0x1a4a2c04d0>"
      ]
     },
     "execution_count": 36,
     "metadata": {},
     "output_type": "execute_result"
    },
    {
     "data": {
      "image/png": "[encoded data removed]",
      "text/plain": [
       "<Figure size 1152x432 with 1 Axes>"
      ]
     },
     "metadata": {
      "needs_background": "light"
     },
     "output_type": "display_data"
    }
   ],
   "source": [
    "test.plot(figsize = (16,6))"
   ]
  },
  {
   "cell_type": "markdown",
   "metadata": {},
   "source": [
    "### Forecasting\n",
    " - Based on the 20 years of data and using the model we just created, we will forcast the value of Total Debt held by prvate investors 4 quarters out. Though the above shows the model predictions were very accurate we will pay closer attention to the first month out\n",
    " - Will need to scale the entire data set and forecast 4 quarter"
   ]
  },
  {
   "cell_type": "code",
   "execution_count": 37,
   "metadata": {},
   "outputs": [],
   "source": [
    "fullScaler = MinMaxScaler()"
   ]
  },
  {
   "cell_type": "code",
   "execution_count": 38,
   "metadata": {},
   "outputs": [],
   "source": [
    "data_scaled = fullScaler.fit_transform(data)"
   ]
  },
  {
   "cell_type": "code",
   "execution_count": 39,
   "metadata": {},
   "outputs": [],
   "source": [
    "forecast = []\n",
    "period = length\n",
    "batch = data_scaled[-length:]\n",
    "curr_b = batch.reshape((1,length,n_features))\n",
    "\n",
    "for i in range(period):\n",
    "    current_pred = model.predict(curr_b)[0]\n",
    "    forecast.append(current_pred)\n",
    "    curr_b = np.append(curr_b[:,1:,:], [[current_pred]], axis=1)"
   ]
  },
  {
   "cell_type": "code",
   "execution_count": 40,
   "metadata": {},
   "outputs": [
    {
     "data": {
      "text/plain": [
       "[array([1.0992632], dtype=float32),\n",
       " array([1.1363095], dtype=float32),\n",
       " array([1.167], dtype=float32),\n",
       " array([1.2081693], dtype=float32)]"
      ]
     },
     "execution_count": 40,
     "metadata": {},
     "output_type": "execute_result"
    }
   ],
   "source": [
    "forecast"
   ]
  },
  {
   "cell_type": "markdown",
   "metadata": {},
   "source": [
    "## inverse scale the forecast to get the true values"
   ]
  },
  {
   "cell_type": "code",
   "execution_count": 41,
   "metadata": {},
   "outputs": [],
   "source": [
    "true_forecast = fullScaler.inverse_transform(forecast)"
   ]
  },
  {
   "cell_type": "code",
   "execution_count": 42,
   "metadata": {},
   "outputs": [
    {
     "data": {
      "text/plain": [
       "array([[16044.46068811],\n",
       "       [16493.42125419],\n",
       "       [16865.35697033],\n",
       "       [17364.2834277 ]])"
      ]
     },
     "execution_count": 42,
     "metadata": {},
     "output_type": "execute_result"
    }
   ],
   "source": [
    "true_forecast"
   ]
  },
  {
   "cell_type": "markdown",
   "metadata": {},
   "source": [
    "## Adding forecast to data plot\n",
    "- will add the forcast values to the data plot\n",
    "- paying closer attention to the first value"
   ]
  },
  {
   "cell_type": "markdown",
   "metadata": {},
   "source": [
    "### Setting dates for forecast\n",
    "- lets get the last quarter first, which we will add 4 quarters to"
   ]
  },
  {
   "cell_type": "code",
   "execution_count": 43,
   "metadata": {},
   "outputs": [
    {
     "data": {
      "text/html": [
       "<div>\n",
       "<style scoped>\n",
       "    .dataframe tbody tr th:only-of-type {\n",
       "        vertical-align: middle;\n",
       "    }\n",
       "\n",
       "    .dataframe tbody tr th {\n",
       "        vertical-align: top;\n",
       "    }\n",
       "\n",
       "    .dataframe thead th {\n",
       "        text-align: right;\n",
       "    }\n",
       "</style>\n",
       "<table border=\"1\" class=\"dataframe\">\n",
       "  <thead>\n",
       "    <tr style=\"text-align: right;\">\n",
       "      <th></th>\n",
       "      <th>fed debt</th>\n",
       "    </tr>\n",
       "    <tr>\n",
       "      <th>DATE</th>\n",
       "      <th></th>\n",
       "    </tr>\n",
       "  </thead>\n",
       "  <tbody>\n",
       "    <tr>\n",
       "      <th>2019-01-01</th>\n",
       "      <td>14028.9</td>\n",
       "    </tr>\n",
       "    <tr>\n",
       "      <th>2019-04-01</th>\n",
       "      <td>14078.4</td>\n",
       "    </tr>\n",
       "    <tr>\n",
       "      <th>2019-07-01</th>\n",
       "      <td>14695.8</td>\n",
       "    </tr>\n",
       "    <tr>\n",
       "      <th>2019-10-01</th>\n",
       "      <td>14841.5</td>\n",
       "    </tr>\n",
       "    <tr>\n",
       "      <th>2020-01-01</th>\n",
       "      <td>14407.2</td>\n",
       "    </tr>\n",
       "  </tbody>\n",
       "</table>\n",
       "</div>"
      ],
      "text/plain": [
       "            fed debt\n",
       "DATE                \n",
       "2019-01-01   14028.9\n",
       "2019-04-01   14078.4\n",
       "2019-07-01   14695.8\n",
       "2019-10-01   14841.5\n",
       "2020-01-01   14407.2"
      ]
     },
     "execution_count": 43,
     "metadata": {},
     "output_type": "execute_result"
    }
   ],
   "source": [
    "data.tail()"
   ]
  },
  {
   "cell_type": "code",
   "execution_count": 44,
   "metadata": {},
   "outputs": [],
   "source": [
    "dates = pd.date_range(start=\"2020-4-1\", periods=period, freq=\"QS\")"
   ]
  },
  {
   "cell_type": "code",
   "execution_count": 45,
   "metadata": {},
   "outputs": [
    {
     "data": {
      "text/plain": [
       "DatetimeIndex(['2020-04-01', '2020-07-01', '2020-10-01', '2021-01-01'], dtype='datetime64[ns]', freq='QS-JAN')"
      ]
     },
     "execution_count": 45,
     "metadata": {},
     "output_type": "execute_result"
    }
   ],
   "source": [
    "dates"
   ]
  },
  {
   "cell_type": "markdown",
   "metadata": {},
   "source": [
    "### Creating Forecast DataFrame\n",
    "- Will add the dates to the forecasted data "
   ]
  },
  {
   "cell_type": "code",
   "execution_count": 46,
   "metadata": {},
   "outputs": [],
   "source": [
    "forecast_Df = pd.DataFrame(true_forecast, columns=[\"forecast\"], index=dates)"
   ]
  },
  {
   "cell_type": "code",
   "execution_count": 47,
   "metadata": {},
   "outputs": [
    {
     "data": {
      "text/html": [
       "<div>\n",
       "<style scoped>\n",
       "    .dataframe tbody tr th:only-of-type {\n",
       "        vertical-align: middle;\n",
       "    }\n",
       "\n",
       "    .dataframe tbody tr th {\n",
       "        vertical-align: top;\n",
       "    }\n",
       "\n",
       "    .dataframe thead th {\n",
       "        text-align: right;\n",
       "    }\n",
       "</style>\n",
       "<table border=\"1\" class=\"dataframe\">\n",
       "  <thead>\n",
       "    <tr style=\"text-align: right;\">\n",
       "      <th></th>\n",
       "      <th>forecast</th>\n",
       "    </tr>\n",
       "  </thead>\n",
       "  <tbody>\n",
       "    <tr>\n",
       "      <th>2020-04-01</th>\n",
       "      <td>16044.460688</td>\n",
       "    </tr>\n",
       "    <tr>\n",
       "      <th>2020-07-01</th>\n",
       "      <td>16493.421254</td>\n",
       "    </tr>\n",
       "    <tr>\n",
       "      <th>2020-10-01</th>\n",
       "      <td>16865.356970</td>\n",
       "    </tr>\n",
       "    <tr>\n",
       "      <th>2021-01-01</th>\n",
       "      <td>17364.283428</td>\n",
       "    </tr>\n",
       "  </tbody>\n",
       "</table>\n",
       "</div>"
      ],
      "text/plain": [
       "                forecast\n",
       "2020-04-01  16044.460688\n",
       "2020-07-01  16493.421254\n",
       "2020-10-01  16865.356970\n",
       "2021-01-01  17364.283428"
      ]
     },
     "execution_count": 47,
     "metadata": {},
     "output_type": "execute_result"
    }
   ],
   "source": [
    "forecast_Df"
   ]
  },
  {
   "cell_type": "code",
   "execution_count": 48,
   "metadata": {},
   "outputs": [
    {
     "data": {
      "text/plain": [
       "(199, 204)"
      ]
     },
     "execution_count": 48,
     "metadata": {},
     "output_type": "execute_result"
    },
    {
     "data": {
      "image/png": "[encoded data removed]",
      "text/plain": [
       "<Figure size 1152x432 with 1 Axes>"
      ]
     },
     "metadata": {
      "needs_background": "light"
     },
     "output_type": "display_data"
    }
   ],
   "source": [
    "ax = data.plot(figsize = (16,6))\n",
    "forecast_Df.plot(ax = ax)\n",
    "plt.xlim(\"2019-10-01\", \"2021-01-01\")"
   ]
  },
  {
   "cell_type": "markdown",
   "metadata": {},
   "source": [
    "#### Model Predicts the the q2 Debt held by private investors will be:\n",
    "- Accuracy may be questioed here due to the recent Covid pandemic\n",
    "- Argument can be mmade that data of this sort has nerver been seen\n",
    "- A counter argument can be made that debt owned by private investors has been on a constant increase since 2000\n",
    "- Results can be tested when updated on the Freds website"
   ]
  },
  {
   "cell_type": "code",
   "execution_count": 52,
   "metadata": {},
   "outputs": [
    {
     "name": "stdout",
     "output_type": "stream",
     "text": [
      "[16044.46068811] in Billions of dollars\n"
     ]
    }
   ],
   "source": [
    "print(f\"{forecast_Df.iloc[0].values} in Billions of dollars\")"
   ]
  },
  {
   "cell_type": "code",
   "execution_count": null,
   "metadata": {},
   "outputs": [],
   "source": []
  }
 ],
 "metadata": {
  "kernelspec": {
   "display_name": "Python 3",
   "language": "python",
   "name": "python3"
  },
  "language_info": {
   "codemirror_mode": {
    "name": "ipython",
    "version": 3
   },
   "file_extension": ".py",
   "mimetype": "text/x-python",
   "name": "python",
   "nbconvert_exporter": "python",
   "pygments_lexer": "ipython3",
   "version": "3.7.6"
  }
 },
 "nbformat": 4,
 "nbformat_minor": 2
}
