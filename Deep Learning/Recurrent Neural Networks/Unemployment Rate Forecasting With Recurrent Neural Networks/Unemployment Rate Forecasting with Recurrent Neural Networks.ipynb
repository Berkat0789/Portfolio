{
 "cells": [
  {
   "cell_type": "code",
   "execution_count": 32,
   "metadata": {},
   "outputs": [],
   "source": [
    "import pandas as pd\n",
    "import numpy as np\n",
    "import matplotlib.pyplot as plt\n",
    "import seaborn as sns"
   ]
  },
  {
   "cell_type": "code",
   "execution_count": 33,
   "metadata": {},
   "outputs": [],
   "source": [
    "unemploy = pd.read_csv(\"resources/UNRATE.csv\", parse_dates = True, index_col=\"DATE\")"
   ]
  },
  {
   "cell_type": "code",
   "execution_count": 34,
   "metadata": {},
   "outputs": [
    {
     "name": "stdout",
     "output_type": "stream",
     "text": [
      "<class 'pandas.core.frame.DataFrame'>\n",
      "DatetimeIndex: 867 entries, 1948-01-01 to 2020-03-01\n",
      "Data columns (total 1 columns):\n",
      "UNRATE    867 non-null float64\n",
      "dtypes: float64(1)\n",
      "memory usage: 13.5 KB\n"
     ]
    }
   ],
   "source": [
    "unemploy.info()"
   ]
  },
  {
   "cell_type": "markdown",
   "metadata": {},
   "source": [
    "## Selection for testing and training\n",
    "- Since out data is on a monthly base we will take 2 years of data to use as our testing set\n",
    "- in this case 24 months"
   ]
  },
  {
   "cell_type": "code",
   "execution_count": 35,
   "metadata": {},
   "outputs": [],
   "source": [
    "sample = 24 \n",
    "sample_index = len(unemploy) - sample"
   ]
  },
  {
   "cell_type": "code",
   "execution_count": 36,
   "metadata": {},
   "outputs": [
    {
     "data": {
      "text/plain": [
       "843"
      ]
     },
     "execution_count": 36,
     "metadata": {},
     "output_type": "execute_result"
    }
   ],
   "source": [
    "sample_index"
   ]
  },
  {
   "cell_type": "code",
   "execution_count": 37,
   "metadata": {},
   "outputs": [
    {
     "data": {
      "text/plain": [
       "867"
      ]
     },
     "execution_count": 37,
     "metadata": {},
     "output_type": "execute_result"
    }
   ],
   "source": [
    "len(unemploy)"
   ]
  },
  {
   "cell_type": "markdown",
   "metadata": {},
   "source": [
    "### Training and testing data "
   ]
  },
  {
   "cell_type": "code",
   "execution_count": 38,
   "metadata": {},
   "outputs": [],
   "source": [
    "train = unemploy.iloc[:sample_index]"
   ]
  },
  {
   "cell_type": "code",
   "execution_count": 39,
   "metadata": {},
   "outputs": [],
   "source": [
    "test = unemploy.iloc[sample_index:]"
   ]
  },
  {
   "cell_type": "code",
   "execution_count": 40,
   "metadata": {},
   "outputs": [
    {
     "data": {
      "text/plain": [
       "(843, 1)"
      ]
     },
     "execution_count": 40,
     "metadata": {},
     "output_type": "execute_result"
    }
   ],
   "source": [
    "train.shape"
   ]
  },
  {
   "cell_type": "code",
   "execution_count": 41,
   "metadata": {},
   "outputs": [
    {
     "data": {
      "text/plain": [
       "(24, 1)"
      ]
     },
     "execution_count": 41,
     "metadata": {},
     "output_type": "execute_result"
    }
   ],
   "source": [
    "test.shape"
   ]
  },
  {
   "cell_type": "markdown",
   "metadata": {},
   "source": [
    "## Scaling the data"
   ]
  },
  {
   "cell_type": "code",
   "execution_count": 42,
   "metadata": {},
   "outputs": [],
   "source": [
    "from sklearn.preprocessing import MinMaxScaler"
   ]
  },
  {
   "cell_type": "code",
   "execution_count": 43,
   "metadata": {},
   "outputs": [],
   "source": [
    "scalar = MinMaxScaler()"
   ]
  },
  {
   "cell_type": "code",
   "execution_count": 44,
   "metadata": {},
   "outputs": [],
   "source": [
    "train_scaled = scalar.fit_transform(train)"
   ]
  },
  {
   "cell_type": "code",
   "execution_count": 45,
   "metadata": {},
   "outputs": [],
   "source": [
    "test_scaled = scalar.transform(test)"
   ]
  },
  {
   "cell_type": "markdown",
   "metadata": {},
   "source": [
    "### Generator Creation\n",
    "- will use a length of 12 months for the batch generation for training"
   ]
  },
  {
   "cell_type": "code",
   "execution_count": 46,
   "metadata": {},
   "outputs": [],
   "source": [
    "from tensorflow.keras.preprocessing.sequence import TimeseriesGenerator"
   ]
  },
  {
   "cell_type": "code",
   "execution_count": 47,
   "metadata": {},
   "outputs": [],
   "source": [
    "length = 12\n",
    "generator  = TimeseriesGenerator(train_scaled,train_scaled, length= length, batch_size=1)"
   ]
  },
  {
   "cell_type": "markdown",
   "metadata": {},
   "source": [
    "### Model creation\n",
    "- Will add earling stopping to prevent overtraining"
   ]
  },
  {
   "cell_type": "code",
   "execution_count": 48,
   "metadata": {},
   "outputs": [],
   "source": [
    "from tensorflow.keras.models import Sequential\n",
    "from tensorflow.keras.layers import Dense, LSTM"
   ]
  },
  {
   "cell_type": "code",
   "execution_count": 49,
   "metadata": {},
   "outputs": [],
   "source": [
    "from tensorflow.keras.callbacks import EarlyStopping"
   ]
  },
  {
   "cell_type": "code",
   "execution_count": 50,
   "metadata": {},
   "outputs": [],
   "source": [
    "stop = EarlyStopping(monitor=\"val_loss\", mode=\"min\", patience=2)"
   ]
  },
  {
   "cell_type": "code",
   "execution_count": 51,
   "metadata": {},
   "outputs": [],
   "source": [
    "n_features = 1"
   ]
  },
  {
   "cell_type": "code",
   "execution_count": 52,
   "metadata": {},
   "outputs": [],
   "source": [
    "model = Sequential()\n",
    "model.add(LSTM(units = 100, activation = \"relu\", input_shape = (length,n_features)))\n",
    "model.add(Dense(units= 1))\n",
    "model.compile(optimization = \"adam\", loss= \"mse\")"
   ]
  },
  {
   "cell_type": "markdown",
   "metadata": {},
   "source": [
    "#### Model Summary"
   ]
  },
  {
   "cell_type": "code",
   "execution_count": 53,
   "metadata": {},
   "outputs": [
    {
     "name": "stdout",
     "output_type": "stream",
     "text": [
      "Model: \"sequential_1\"\n",
      "_________________________________________________________________\n",
      "Layer (type)                 Output Shape              Param #   \n",
      "=================================================================\n",
      "lstm_1 (LSTM)                (None, 100)               40800     \n",
      "_________________________________________________________________\n",
      "dense_1 (Dense)              (None, 1)                 101       \n",
      "=================================================================\n",
      "Total params: 40,901\n",
      "Trainable params: 40,901\n",
      "Non-trainable params: 0\n",
      "_________________________________________________________________\n"
     ]
    }
   ],
   "source": [
    "model.summary()"
   ]
  },
  {
   "cell_type": "markdown",
   "metadata": {},
   "source": [
    "### Validaiton Generator\n",
    "- Will need to capture our validaiton data in a validation generator to capture the loss value"
   ]
  },
  {
   "cell_type": "code",
   "execution_count": 54,
   "metadata": {},
   "outputs": [],
   "source": [
    "vaid_gen = TimeseriesGenerator(test_scaled,test_scaled, length= length, batch_size=1)"
   ]
  },
  {
   "cell_type": "markdown",
   "metadata": {},
   "source": [
    "### model fitting"
   ]
  },
  {
   "cell_type": "code",
   "execution_count": 55,
   "metadata": {},
   "outputs": [
    {
     "name": "stdout",
     "output_type": "stream",
     "text": [
      "Epoch 1/13\n",
      "831/831 [==============================] - 270s 325ms/step - loss: 0.0065 - val_loss: 0.0014\n",
      "Epoch 2/13\n",
      "831/831 [==============================] - 301s 363ms/step - loss: 0.0023 - val_loss: 0.0011\n",
      "Epoch 3/13\n",
      "831/831 [==============================] - 288s 347ms/step - loss: 0.0015 - val_loss: 0.0015\n",
      "Epoch 4/13\n",
      "831/831 [==============================] - 327s 393ms/step - loss: 0.0011 - val_loss: 0.0010\n",
      "Epoch 5/13\n",
      "831/831 [==============================] - 310s 373ms/step - loss: 9.3406e-04 - val_loss: 0.0011\n",
      "Epoch 6/13\n",
      "831/831 [==============================] - 318s 383ms/step - loss: 8.8694e-04 - val_loss: 0.0011\n"
     ]
    },
    {
     "data": {
      "text/plain": [
       "<tensorflow.python.keras.callbacks.History at 0x1a50670b50>"
      ]
     },
     "execution_count": 55,
     "metadata": {},
     "output_type": "execute_result"
    }
   ],
   "source": [
    "model.fit_generator(generator = generator, validation_data=vaid_gen, epochs=13, callbacks= [stop])"
   ]
  },
  {
   "cell_type": "markdown",
   "metadata": {},
   "source": [
    "## model evaluation\n",
    "-model looks to have trained well"
   ]
  },
  {
   "cell_type": "code",
   "execution_count": 56,
   "metadata": {},
   "outputs": [
    {
     "data": {
      "text/plain": [
       "<matplotlib.axes._subplots.AxesSubplot at 0x1a4f5f6e90>"
      ]
     },
     "execution_count": 56,
     "metadata": {},
     "output_type": "execute_result"
    },
    {
     "data": {
      "image/png": "[encoded data removed]",
      "text/plain": [
       "<Figure size 432x288 with 1 Axes>"
      ]
     },
     "metadata": {
      "needs_background": "light"
     },
     "output_type": "display_data"
    }
   ],
   "source": [
    "pd.DataFrame(model.history.history).plot()"
   ]
  },
  {
   "cell_type": "markdown",
   "metadata": {},
   "source": [
    "## Predictons\n",
    "-  Making Predicitons off the model"
   ]
  },
  {
   "cell_type": "code",
   "execution_count": 69,
   "metadata": {},
   "outputs": [],
   "source": [
    "test_predictions = []\n",
    "first_batch = train_scaled[-length:]\n",
    "current_batch = first_batch.reshape((1,length, n_features))\n",
    "\n",
    "for i in range(len(test)):\n",
    "    current_predictions = model.predict(current_batch)[0]\n",
    "    test_predictions.append(current_predictions)\n",
    "    current_batch = np.append(current_batch[:,1:,:], [[current_predictions]], axis = 1)"
   ]
  },
  {
   "cell_type": "code",
   "execution_count": 70,
   "metadata": {},
   "outputs": [
    {
     "data": {
      "text/plain": [
       "[array([0.18857278], dtype=float32),\n",
       " array([0.1896534], dtype=float32),\n",
       " array([0.19198895], dtype=float32),\n",
       " array([0.19546159], dtype=float32),\n",
       " array([0.19966406], dtype=float32),\n",
       " array([0.20437515], dtype=float32),\n",
       " array([0.20985943], dtype=float32),\n",
       " array([0.21595597], dtype=float32),\n",
       " array([0.22233374], dtype=float32),\n",
       " array([0.22904792], dtype=float32),\n",
       " array([0.2359246], dtype=float32),\n",
       " array([0.242892], dtype=float32),\n",
       " array([0.2500612], dtype=float32),\n",
       " array([0.25717726], dtype=float32),\n",
       " array([0.26426142], dtype=float32),\n",
       " array([0.27116373], dtype=float32),\n",
       " array([0.27781427], dtype=float32),\n",
       " array([0.28417996], dtype=float32),\n",
       " array([0.29026517], dtype=float32),\n",
       " array([0.29598564], dtype=float32),\n",
       " array([0.30133918], dtype=float32),\n",
       " array([0.3063173], dtype=float32),\n",
       " array([0.31092775], dtype=float32),\n",
       " array([0.31517905], dtype=float32)]"
      ]
     },
     "execution_count": 70,
     "metadata": {},
     "output_type": "execute_result"
    }
   ],
   "source": [
    "test_predictions"
   ]
  },
  {
   "cell_type": "markdown",
   "metadata": {},
   "source": [
    "## inverse scaling \n",
    "- remember we have trained on scaled data so we need to inverse this process"
   ]
  },
  {
   "cell_type": "code",
   "execution_count": 71,
   "metadata": {},
   "outputs": [],
   "source": [
    "true_predictions = scalar.inverse_transform(test_predictions)"
   ]
  },
  {
   "cell_type": "code",
   "execution_count": 75,
   "metadata": {},
   "outputs": [
    {
     "data": {
      "text/html": [
       "<div>\n",
       "<style scoped>\n",
       "    .dataframe tbody tr th:only-of-type {\n",
       "        vertical-align: middle;\n",
       "    }\n",
       "\n",
       "    .dataframe tbody tr th {\n",
       "        vertical-align: top;\n",
       "    }\n",
       "\n",
       "    .dataframe thead th {\n",
       "        text-align: right;\n",
       "    }\n",
       "</style>\n",
       "<table border=\"1\" class=\"dataframe\">\n",
       "  <thead>\n",
       "    <tr style=\"text-align: right;\">\n",
       "      <th></th>\n",
       "      <th>UNRATE</th>\n",
       "      <th>predictions</th>\n",
       "    </tr>\n",
       "    <tr>\n",
       "      <th>DATE</th>\n",
       "      <th></th>\n",
       "      <th></th>\n",
       "    </tr>\n",
       "  </thead>\n",
       "  <tbody>\n",
       "    <tr>\n",
       "      <td>2018-04-01</td>\n",
       "      <td>4.0</td>\n",
       "      <td>4.065154</td>\n",
       "    </tr>\n",
       "    <tr>\n",
       "      <td>2018-05-01</td>\n",
       "      <td>3.8</td>\n",
       "      <td>4.074123</td>\n",
       "    </tr>\n",
       "    <tr>\n",
       "      <td>2018-06-01</td>\n",
       "      <td>4.0</td>\n",
       "      <td>4.093508</td>\n",
       "    </tr>\n",
       "    <tr>\n",
       "      <td>2018-07-01</td>\n",
       "      <td>3.8</td>\n",
       "      <td>4.122331</td>\n",
       "    </tr>\n",
       "    <tr>\n",
       "      <td>2018-08-01</td>\n",
       "      <td>3.8</td>\n",
       "      <td>4.157212</td>\n",
       "    </tr>\n",
       "    <tr>\n",
       "      <td>2018-09-01</td>\n",
       "      <td>3.7</td>\n",
       "      <td>4.196314</td>\n",
       "    </tr>\n",
       "    <tr>\n",
       "      <td>2018-10-01</td>\n",
       "      <td>3.8</td>\n",
       "      <td>4.241833</td>\n",
       "    </tr>\n",
       "    <tr>\n",
       "      <td>2018-11-01</td>\n",
       "      <td>3.7</td>\n",
       "      <td>4.292435</td>\n",
       "    </tr>\n",
       "    <tr>\n",
       "      <td>2018-12-01</td>\n",
       "      <td>3.9</td>\n",
       "      <td>4.345370</td>\n",
       "    </tr>\n",
       "    <tr>\n",
       "      <td>2019-01-01</td>\n",
       "      <td>4.0</td>\n",
       "      <td>4.401098</td>\n",
       "    </tr>\n",
       "    <tr>\n",
       "      <td>2019-02-01</td>\n",
       "      <td>3.8</td>\n",
       "      <td>4.458174</td>\n",
       "    </tr>\n",
       "    <tr>\n",
       "      <td>2019-03-01</td>\n",
       "      <td>3.8</td>\n",
       "      <td>4.516004</td>\n",
       "    </tr>\n",
       "    <tr>\n",
       "      <td>2019-04-01</td>\n",
       "      <td>3.6</td>\n",
       "      <td>4.575508</td>\n",
       "    </tr>\n",
       "    <tr>\n",
       "      <td>2019-05-01</td>\n",
       "      <td>3.6</td>\n",
       "      <td>4.634571</td>\n",
       "    </tr>\n",
       "    <tr>\n",
       "      <td>2019-06-01</td>\n",
       "      <td>3.7</td>\n",
       "      <td>4.693370</td>\n",
       "    </tr>\n",
       "    <tr>\n",
       "      <td>2019-07-01</td>\n",
       "      <td>3.7</td>\n",
       "      <td>4.750659</td>\n",
       "    </tr>\n",
       "    <tr>\n",
       "      <td>2019-08-01</td>\n",
       "      <td>3.7</td>\n",
       "      <td>4.805858</td>\n",
       "    </tr>\n",
       "    <tr>\n",
       "      <td>2019-09-01</td>\n",
       "      <td>3.5</td>\n",
       "      <td>4.858694</td>\n",
       "    </tr>\n",
       "    <tr>\n",
       "      <td>2019-10-01</td>\n",
       "      <td>3.6</td>\n",
       "      <td>4.909201</td>\n",
       "    </tr>\n",
       "    <tr>\n",
       "      <td>2019-11-01</td>\n",
       "      <td>3.5</td>\n",
       "      <td>4.956681</td>\n",
       "    </tr>\n",
       "    <tr>\n",
       "      <td>2019-12-01</td>\n",
       "      <td>3.5</td>\n",
       "      <td>5.001115</td>\n",
       "    </tr>\n",
       "    <tr>\n",
       "      <td>2020-01-01</td>\n",
       "      <td>3.6</td>\n",
       "      <td>5.042434</td>\n",
       "    </tr>\n",
       "    <tr>\n",
       "      <td>2020-02-01</td>\n",
       "      <td>3.5</td>\n",
       "      <td>5.080700</td>\n",
       "    </tr>\n",
       "    <tr>\n",
       "      <td>2020-03-01</td>\n",
       "      <td>4.4</td>\n",
       "      <td>5.115986</td>\n",
       "    </tr>\n",
       "  </tbody>\n",
       "</table>\n",
       "</div>"
      ],
      "text/plain": [
       "            UNRATE  predictions\n",
       "DATE                           \n",
       "2018-04-01     4.0     4.065154\n",
       "2018-05-01     3.8     4.074123\n",
       "2018-06-01     4.0     4.093508\n",
       "2018-07-01     3.8     4.122331\n",
       "2018-08-01     3.8     4.157212\n",
       "2018-09-01     3.7     4.196314\n",
       "2018-10-01     3.8     4.241833\n",
       "2018-11-01     3.7     4.292435\n",
       "2018-12-01     3.9     4.345370\n",
       "2019-01-01     4.0     4.401098\n",
       "2019-02-01     3.8     4.458174\n",
       "2019-03-01     3.8     4.516004\n",
       "2019-04-01     3.6     4.575508\n",
       "2019-05-01     3.6     4.634571\n",
       "2019-06-01     3.7     4.693370\n",
       "2019-07-01     3.7     4.750659\n",
       "2019-08-01     3.7     4.805858\n",
       "2019-09-01     3.5     4.858694\n",
       "2019-10-01     3.6     4.909201\n",
       "2019-11-01     3.5     4.956681\n",
       "2019-12-01     3.5     5.001115\n",
       "2020-01-01     3.6     5.042434\n",
       "2020-02-01     3.5     5.080700\n",
       "2020-03-01     4.4     5.115986"
      ]
     },
     "execution_count": 75,
     "metadata": {},
     "output_type": "execute_result"
    }
   ],
   "source": [
    "test"
   ]
  },
  {
   "cell_type": "code",
   "execution_count": 72,
   "metadata": {},
   "outputs": [
    {
     "data": {
      "text/plain": [
       "array([[4.06515407],\n",
       "       [4.07412319],\n",
       "       [4.09350824],\n",
       "       [4.12233116],\n",
       "       [4.15721167],\n",
       "       [4.19631373],\n",
       "       [4.24183328],\n",
       "       [4.29243457],\n",
       "       [4.34537008],\n",
       "       [4.40109777],\n",
       "       [4.45817419],\n",
       "       [4.51600358],\n",
       "       [4.57550808],\n",
       "       [4.63457129],\n",
       "       [4.69336982],\n",
       "       [4.75065897],\n",
       "       [4.80585843],\n",
       "       [4.85869363],\n",
       "       [4.90920093],\n",
       "       [4.9566808 ],\n",
       "       [5.00111519],\n",
       "       [5.04243359],\n",
       "       [5.08070031],\n",
       "       [5.11598611]])"
      ]
     },
     "execution_count": 72,
     "metadata": {},
     "output_type": "execute_result"
    }
   ],
   "source": [
    "true_predictions"
   ]
  },
  {
   "cell_type": "code",
   "execution_count": 73,
   "metadata": {},
   "outputs": [
    {
     "name": "stderr",
     "output_type": "stream",
     "text": [
      "/Users/admin/opt/anaconda3/lib/python3.7/site-packages/ipykernel_launcher.py:1: SettingWithCopyWarning: \n",
      "A value is trying to be set on a copy of a slice from a DataFrame.\n",
      "Try using .loc[row_indexer,col_indexer] = value instead\n",
      "\n",
      "See the caveats in the documentation: http://pandas.pydata.org/pandas-docs/stable/user_guide/indexing.html#returning-a-view-versus-a-copy\n",
      "  \"\"\"Entry point for launching an IPython kernel.\n"
     ]
    }
   ],
   "source": [
    "test[\"predictions\"] = true_predictions"
   ]
  },
  {
   "cell_type": "code",
   "execution_count": 76,
   "metadata": {},
   "outputs": [
    {
     "data": {
      "text/plain": [
       "<matplotlib.axes._subplots.AxesSubplot at 0x1a5220e5d0>"
      ]
     },
     "execution_count": 76,
     "metadata": {},
     "output_type": "execute_result"
    },
    {
     "data": {
      "image/png": "[encoded data removed]",
      "text/plain": [
       "<Figure size 1152x432 with 1 Axes>"
      ]
     },
     "metadata": {
      "needs_background": "light"
     },
     "output_type": "display_data"
    }
   ],
   "source": [
    "test.plot(figsize = (16,6))"
   ]
  },
  {
   "cell_type": "markdown",
   "metadata": {},
   "source": [
    "## model predicctions are not too great ut lets see what our forcast will do since our one day outpredictions was pretty close"
   ]
  },
  {
   "cell_type": "code",
   "execution_count": 80,
   "metadata": {},
   "outputs": [],
   "source": [
    "full_scalar = MinMaxScaler()"
   ]
  },
  {
   "cell_type": "code",
   "execution_count": 82,
   "metadata": {},
   "outputs": [],
   "source": [
    "unemploy_scaled = full_scalar.fit_transform(unemploy)"
   ]
  },
  {
   "cell_type": "code",
   "execution_count": 83,
   "metadata": {},
   "outputs": [],
   "source": [
    "genn = TimeseriesGenerator(unemploy_scaled,unemploy_scaled, length=length, batch_size=1)"
   ]
  },
  {
   "cell_type": "code",
   "execution_count": 84,
   "metadata": {},
   "outputs": [],
   "source": [
    "model = Sequential()\n",
    "model.add(LSTM(units = 100, activation= \"relu\", input_shape = (length, n_features)))\n",
    "model.add(Dense(units=1))\n",
    "model.compile(optimization = \"adam\", loss = \"mse\")"
   ]
  },
  {
   "cell_type": "code",
   "execution_count": 85,
   "metadata": {},
   "outputs": [
    {
     "name": "stdout",
     "output_type": "stream",
     "text": [
      "Epoch 1/20\n",
      "855/855 [==============================] - 309s 362ms/step - loss: 0.0066\n",
      "Epoch 2/20\n",
      "855/855 [==============================] - 306s 358ms/step - loss: 0.0025\n",
      "Epoch 3/20\n",
      "855/855 [==============================] - 308s 360ms/step - loss: 0.0016\n",
      "Epoch 4/20\n",
      "855/855 [==============================] - 307s 360ms/step - loss: 0.0011\n",
      "Epoch 5/20\n",
      "855/855 [==============================] - 307s 359ms/step - loss: 9.8734e-04\n",
      "Epoch 6/20\n",
      "855/855 [==============================] - 309s 362ms/step - loss: 8.9275e-04\n",
      "Epoch 7/20\n",
      "855/855 [==============================] - 308s 361ms/step - loss: 8.4195e-04\n",
      "Epoch 8/20\n",
      "855/855 [==============================] - 312s 364ms/step - loss: 8.4334e-04\n",
      "Epoch 9/20\n",
      "855/855 [==============================] - 308s 360ms/step - loss: 8.1565e-04\n",
      "Epoch 10/20\n",
      "855/855 [==============================] - 308s 361ms/step - loss: 7.6761e-04\n",
      "Epoch 11/20\n",
      "855/855 [==============================] - 308s 360ms/step - loss: 7.4755e-04\n",
      "Epoch 12/20\n",
      "855/855 [==============================] - 308s 360ms/step - loss: 7.3865e-04\n",
      "Epoch 13/20\n",
      "855/855 [==============================] - 309s 361ms/step - loss: 7.0167e-04\n",
      "Epoch 14/20\n",
      "855/855 [==============================] - 308s 360ms/step - loss: 7.2065e-04\n",
      "Epoch 15/20\n",
      "855/855 [==============================] - 307s 359ms/step - loss: 7.1085e-04\n",
      "Epoch 16/20\n",
      "855/855 [==============================] - 309s 362ms/step - loss: 7.1582e-04\n",
      "Epoch 17/20\n",
      "855/855 [==============================] - 308s 361ms/step - loss: 7.1262e-04\n",
      "Epoch 18/20\n",
      "855/855 [==============================] - 306s 358ms/step - loss: 6.8884e-04\n",
      "Epoch 19/20\n",
      "855/855 [==============================] - 309s 362ms/step - loss: 6.7986e-04\n",
      "Epoch 20/20\n",
      "855/855 [==============================] - 309s 361ms/step - loss: 6.8082e-04\n"
     ]
    },
    {
     "data": {
      "text/plain": [
       "<tensorflow.python.keras.callbacks.History at 0x1a52a0bcd0>"
      ]
     },
     "execution_count": 85,
     "metadata": {},
     "output_type": "execute_result"
    }
   ],
   "source": [
    "model.fit_generator(genn, epochs=20)"
   ]
  },
  {
   "cell_type": "code",
   "execution_count": 87,
   "metadata": {},
   "outputs": [
    {
     "data": {
      "text/plain": [
       "<matplotlib.axes._subplots.AxesSubplot at 0x1a529d5950>"
      ]
     },
     "execution_count": 87,
     "metadata": {},
     "output_type": "execute_result"
    },
    {
     "data": {
      "image/png": "[encoded data removed]",
      "text/plain": [
       "<Figure size 432x288 with 1 Axes>"
      ]
     },
     "metadata": {
      "needs_background": "light"
     },
     "output_type": "display_data"
    }
   ],
   "source": [
    "pd.DataFrame(model.history.history).plot()"
   ]
  },
  {
   "cell_type": "markdown",
   "metadata": {},
   "source": [
    "## Forescating"
   ]
  },
  {
   "cell_type": "code",
   "execution_count": 88,
   "metadata": {},
   "outputs": [],
   "source": [
    "forecast = []\n",
    "period = length\n",
    "first_batch = unemploy_scaled[-length:]\n",
    "current_batch = first_batch.reshape((1,length,n_features))\n",
    "for i in range(period):\n",
    "    current_pred = model.predict(current_batch)[0]\n",
    "    forecast.append(current_pred)\n",
    "    current_batch = np.append(current_batch[:,1:,:], [[current_pred]], axis=1)"
   ]
  },
  {
   "cell_type": "code",
   "execution_count": 89,
   "metadata": {},
   "outputs": [
    {
     "data": {
      "text/plain": [
       "[array([0.22498947], dtype=float32),\n",
       " array([0.25041646], dtype=float32),\n",
       " array([0.278639], dtype=float32),\n",
       " array([0.3070843], dtype=float32),\n",
       " array([0.3358776], dtype=float32),\n",
       " array([0.36449835], dtype=float32),\n",
       " array([0.39223793], dtype=float32),\n",
       " array([0.41801935], dtype=float32),\n",
       " array([0.44236454], dtype=float32),\n",
       " array([0.46568862], dtype=float32),\n",
       " array([0.48855156], dtype=float32),\n",
       " array([0.51168805], dtype=float32)]"
      ]
     },
     "execution_count": 89,
     "metadata": {},
     "output_type": "execute_result"
    }
   ],
   "source": [
    "forecast"
   ]
  },
  {
   "cell_type": "markdown",
   "metadata": {},
   "source": [
    "### 12 months in to the future \n",
    "- inverse scale the forecast "
   ]
  },
  {
   "cell_type": "code",
   "execution_count": 90,
   "metadata": {},
   "outputs": [],
   "source": [
    "true_forecast = full_scalar.inverse_transform(forecast)"
   ]
  },
  {
   "cell_type": "code",
   "execution_count": 91,
   "metadata": {},
   "outputs": [
    {
     "data": {
      "text/plain": [
       "array([[4.36741263],\n",
       "       [4.5784566 ],\n",
       "       [4.81270361],\n",
       "       [5.04879963],\n",
       "       [5.28778406],\n",
       "       [5.52533628],\n",
       "       [5.75557483],\n",
       "       [5.96956064],\n",
       "       [6.17162571],\n",
       "       [6.36521551],\n",
       "       [6.55497792],\n",
       "       [6.74701084]])"
      ]
     },
     "execution_count": 91,
     "metadata": {},
     "output_type": "execute_result"
    }
   ],
   "source": [
    "true_forecast"
   ]
  },
  {
   "cell_type": "markdown",
   "metadata": {},
   "source": [
    "## need Date time index for forecast data\n",
    "- form the end of our original data set "
   ]
  },
  {
   "cell_type": "code",
   "execution_count": 92,
   "metadata": {},
   "outputs": [
    {
     "data": {
      "text/html": [
       "<div>\n",
       "<style scoped>\n",
       "    .dataframe tbody tr th:only-of-type {\n",
       "        vertical-align: middle;\n",
       "    }\n",
       "\n",
       "    .dataframe tbody tr th {\n",
       "        vertical-align: top;\n",
       "    }\n",
       "\n",
       "    .dataframe thead th {\n",
       "        text-align: right;\n",
       "    }\n",
       "</style>\n",
       "<table border=\"1\" class=\"dataframe\">\n",
       "  <thead>\n",
       "    <tr style=\"text-align: right;\">\n",
       "      <th></th>\n",
       "      <th>UNRATE</th>\n",
       "    </tr>\n",
       "    <tr>\n",
       "      <th>DATE</th>\n",
       "      <th></th>\n",
       "    </tr>\n",
       "  </thead>\n",
       "  <tbody>\n",
       "    <tr>\n",
       "      <td>2019-11-01</td>\n",
       "      <td>3.5</td>\n",
       "    </tr>\n",
       "    <tr>\n",
       "      <td>2019-12-01</td>\n",
       "      <td>3.5</td>\n",
       "    </tr>\n",
       "    <tr>\n",
       "      <td>2020-01-01</td>\n",
       "      <td>3.6</td>\n",
       "    </tr>\n",
       "    <tr>\n",
       "      <td>2020-02-01</td>\n",
       "      <td>3.5</td>\n",
       "    </tr>\n",
       "    <tr>\n",
       "      <td>2020-03-01</td>\n",
       "      <td>4.4</td>\n",
       "    </tr>\n",
       "  </tbody>\n",
       "</table>\n",
       "</div>"
      ],
      "text/plain": [
       "            UNRATE\n",
       "DATE              \n",
       "2019-11-01     3.5\n",
       "2019-12-01     3.5\n",
       "2020-01-01     3.6\n",
       "2020-02-01     3.5\n",
       "2020-03-01     4.4"
      ]
     },
     "execution_count": 92,
     "metadata": {},
     "output_type": "execute_result"
    }
   ],
   "source": [
    "unemploy.tail()"
   ]
  },
  {
   "cell_type": "code",
   "execution_count": 95,
   "metadata": {},
   "outputs": [],
   "source": [
    "forcast_index = pd.date_range(start= \"2020-04-01\", periods=period, freq=\"MS\")"
   ]
  },
  {
   "cell_type": "markdown",
   "metadata": {},
   "source": [
    "## data frame with forecast data and indx"
   ]
  },
  {
   "cell_type": "code",
   "execution_count": 98,
   "metadata": {},
   "outputs": [],
   "source": [
    "forecast_df = pd.DataFrame(true_forecast, index=forcast_index, columns=[\"forecast\"])"
   ]
  },
  {
   "cell_type": "code",
   "execution_count": 99,
   "metadata": {},
   "outputs": [
    {
     "data": {
      "text/html": [
       "<div>\n",
       "<style scoped>\n",
       "    .dataframe tbody tr th:only-of-type {\n",
       "        vertical-align: middle;\n",
       "    }\n",
       "\n",
       "    .dataframe tbody tr th {\n",
       "        vertical-align: top;\n",
       "    }\n",
       "\n",
       "    .dataframe thead th {\n",
       "        text-align: right;\n",
       "    }\n",
       "</style>\n",
       "<table border=\"1\" class=\"dataframe\">\n",
       "  <thead>\n",
       "    <tr style=\"text-align: right;\">\n",
       "      <th></th>\n",
       "      <th>forecast</th>\n",
       "    </tr>\n",
       "  </thead>\n",
       "  <tbody>\n",
       "    <tr>\n",
       "      <td>2020-04-01</td>\n",
       "      <td>4.367413</td>\n",
       "    </tr>\n",
       "    <tr>\n",
       "      <td>2020-05-01</td>\n",
       "      <td>4.578457</td>\n",
       "    </tr>\n",
       "    <tr>\n",
       "      <td>2020-06-01</td>\n",
       "      <td>4.812704</td>\n",
       "    </tr>\n",
       "    <tr>\n",
       "      <td>2020-07-01</td>\n",
       "      <td>5.048800</td>\n",
       "    </tr>\n",
       "    <tr>\n",
       "      <td>2020-08-01</td>\n",
       "      <td>5.287784</td>\n",
       "    </tr>\n",
       "    <tr>\n",
       "      <td>2020-09-01</td>\n",
       "      <td>5.525336</td>\n",
       "    </tr>\n",
       "    <tr>\n",
       "      <td>2020-10-01</td>\n",
       "      <td>5.755575</td>\n",
       "    </tr>\n",
       "    <tr>\n",
       "      <td>2020-11-01</td>\n",
       "      <td>5.969561</td>\n",
       "    </tr>\n",
       "    <tr>\n",
       "      <td>2020-12-01</td>\n",
       "      <td>6.171626</td>\n",
       "    </tr>\n",
       "    <tr>\n",
       "      <td>2021-01-01</td>\n",
       "      <td>6.365216</td>\n",
       "    </tr>\n",
       "    <tr>\n",
       "      <td>2021-02-01</td>\n",
       "      <td>6.554978</td>\n",
       "    </tr>\n",
       "    <tr>\n",
       "      <td>2021-03-01</td>\n",
       "      <td>6.747011</td>\n",
       "    </tr>\n",
       "  </tbody>\n",
       "</table>\n",
       "</div>"
      ],
      "text/plain": [
       "            forecast\n",
       "2020-04-01  4.367413\n",
       "2020-05-01  4.578457\n",
       "2020-06-01  4.812704\n",
       "2020-07-01  5.048800\n",
       "2020-08-01  5.287784\n",
       "2020-09-01  5.525336\n",
       "2020-10-01  5.755575\n",
       "2020-11-01  5.969561\n",
       "2020-12-01  6.171626\n",
       "2021-01-01  6.365216\n",
       "2021-02-01  6.554978\n",
       "2021-03-01  6.747011"
      ]
     },
     "execution_count": 99,
     "metadata": {},
     "output_type": "execute_result"
    }
   ],
   "source": [
    "forecast_df"
   ]
  },
  {
   "cell_type": "markdown",
   "metadata": {},
   "source": [
    "## Forecast Plot\n",
    "- Model projects the Unemployment rate will climb for the next 12 months \n",
    "- Because the further our we go the more noose in our data, we will only consider 3 months but we may see asteady incrase in unemployment for the next few months during corona base on this model "
   ]
  },
  {
   "cell_type": "code",
   "execution_count": 108,
   "metadata": {},
   "outputs": [
    {
     "data": {
      "text/plain": [
       "(453, 614)"
      ]
     },
     "execution_count": 108,
     "metadata": {},
     "output_type": "execute_result"
    },
    {
     "data": {
      "image/png": "[encoded data removed]",
      "text/plain": [
       "<Figure size 1152x432 with 1 Axes>"
      ]
     },
     "metadata": {
      "needs_background": "light"
     },
     "output_type": "display_data"
    }
   ],
   "source": [
    "ax = unemploy.plot(figsize = (16,6))\n",
    "forecast_df.plot(ax = ax)\n",
    "plt.xlim(\"2007-10-1\", \"2021-03-01\")"
   ]
  },
  {
   "cell_type": "code",
   "execution_count": null,
   "metadata": {},
   "outputs": [],
   "source": []
  }
 ],
 "metadata": {
  "kernelspec": {
   "display_name": "Python 3",
   "language": "python",
   "name": "python3"
  },
  "language_info": {
   "codemirror_mode": {
    "name": "ipython",
    "version": 3
   },
   "file_extension": ".py",
   "mimetype": "text/x-python",
   "name": "python",
   "nbconvert_exporter": "python",
   "pygments_lexer": "ipython3",
   "version": "3.7.4"
  }
 },
 "nbformat": 4,
 "nbformat_minor": 2
}
