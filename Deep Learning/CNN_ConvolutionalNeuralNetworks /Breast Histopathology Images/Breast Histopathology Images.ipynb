{
 "cells": [
  {
   "cell_type": "markdown",
   "metadata": {},
   "source": [
    "## About Data\n",
    "- Invasive Ductal Carcinoma (IDC) is the most common subtype of all breast cancers. To assign an aggressiveness grade to a whole mount sample, pathologists typically focus on the regions which contain the IDC. As a result, one of the common pre-processing steps for automatic aggressiveness grading is to delineate the exact regions of IDC inside of a whole mount slide."
   ]
  },
  {
   "cell_type": "code",
   "execution_count": 1,
   "metadata": {},
   "outputs": [],
   "source": [
    "import pandas as pd\n",
    "import numpy as np\n",
    "import seaborn as sns\n",
    "import matplotlib.pyplot as plt\n",
    "from matplotlib.image import imread"
   ]
  },
  {
   "cell_type": "code",
   "execution_count": 2,
   "metadata": {},
   "outputs": [],
   "source": [
    "data_dir = \"/Volumes/External_HD/Data/Kaggle/Medical/breastcancer\""
   ]
  },
  {
   "cell_type": "code",
   "execution_count": 3,
   "metadata": {},
   "outputs": [],
   "source": [
    "import os"
   ]
  },
  {
   "cell_type": "code",
   "execution_count": 4,
   "metadata": {},
   "outputs": [
    {
     "data": {
      "text/plain": [
       "['.DS_Store', 'test', 'train']"
      ]
     },
     "execution_count": 4,
     "metadata": {},
     "output_type": "execute_result"
    }
   ],
   "source": [
    "os.listdir(data_dir)"
   ]
  },
  {
   "cell_type": "code",
   "execution_count": 5,
   "metadata": {},
   "outputs": [],
   "source": [
    "train_dir = data_dir +\"/train\""
   ]
  },
  {
   "cell_type": "markdown",
   "metadata": {},
   "source": [
    "## listing out all training classifications \n",
    "- Appears we have 280 differenct classiifcaitons in the Training set"
   ]
  },
  {
   "cell_type": "code",
   "execution_count": 6,
   "metadata": {},
   "outputs": [
    {
     "data": {
      "text/plain": [
       "280"
      ]
     },
     "execution_count": 6,
     "metadata": {},
     "output_type": "execute_result"
    }
   ],
   "source": [
    "len(os.listdir(train_dir))"
   ]
  },
  {
   "cell_type": "code",
   "execution_count": 7,
   "metadata": {},
   "outputs": [
    {
     "data": {
      "text/plain": [
       "['.DS_Store',\n",
       " '10253',\n",
       " '10254',\n",
       " '10255',\n",
       " '10256',\n",
       " '10257',\n",
       " '10258',\n",
       " '10259',\n",
       " '10260',\n",
       " '10261',\n",
       " '10262',\n",
       " '10264',\n",
       " '10268',\n",
       " '10269',\n",
       " '10272',\n",
       " '10273',\n",
       " '10274',\n",
       " '10275',\n",
       " '10276',\n",
       " '10277',\n",
       " '10278',\n",
       " '10279',\n",
       " '10282',\n",
       " '10285',\n",
       " '10286',\n",
       " '10288',\n",
       " '10290',\n",
       " '10291',\n",
       " '10292',\n",
       " '10293',\n",
       " '10295',\n",
       " '10299',\n",
       " '10300',\n",
       " '10301',\n",
       " '10302',\n",
       " '10303',\n",
       " '10304',\n",
       " '10305',\n",
       " '10306',\n",
       " '10307',\n",
       " '10308',\n",
       " '12241',\n",
       " '12242',\n",
       " '12626',\n",
       " '12748',\n",
       " '12749',\n",
       " '12750',\n",
       " '12751',\n",
       " '12752',\n",
       " '12810',\n",
       " '12811',\n",
       " '12817',\n",
       " '12818',\n",
       " '12819',\n",
       " '12820',\n",
       " '12821',\n",
       " '12822',\n",
       " '12823',\n",
       " '12824',\n",
       " '12826',\n",
       " '12867',\n",
       " '12868',\n",
       " '12869',\n",
       " '12870',\n",
       " '12871',\n",
       " '12872',\n",
       " '12873',\n",
       " '12875',\n",
       " '12876',\n",
       " '12877',\n",
       " '12878',\n",
       " '12879',\n",
       " '12880',\n",
       " '12881',\n",
       " '12882',\n",
       " '12883',\n",
       " '12884',\n",
       " '12886',\n",
       " '12890',\n",
       " '12891',\n",
       " '12892',\n",
       " '12893',\n",
       " '12894',\n",
       " '12895',\n",
       " '12896',\n",
       " '12897',\n",
       " '12898',\n",
       " '12900',\n",
       " '12901',\n",
       " '12905',\n",
       " '12906',\n",
       " '12907',\n",
       " '12908',\n",
       " '12909',\n",
       " '12910',\n",
       " '12911',\n",
       " '12929',\n",
       " '12930',\n",
       " '12931',\n",
       " '12932',\n",
       " '12933',\n",
       " '12934',\n",
       " '12935',\n",
       " '12947',\n",
       " '12948',\n",
       " '12949',\n",
       " '12951',\n",
       " '12954',\n",
       " '12955',\n",
       " '13018',\n",
       " '13019',\n",
       " '13020',\n",
       " '13021',\n",
       " '13022',\n",
       " '13023',\n",
       " '13024',\n",
       " '13025',\n",
       " '13106',\n",
       " '13400',\n",
       " '13401',\n",
       " '13402',\n",
       " '13403',\n",
       " '13404',\n",
       " '13458',\n",
       " '13459',\n",
       " '13460',\n",
       " '13461',\n",
       " '13462',\n",
       " '13591',\n",
       " '13613',\n",
       " '13616',\n",
       " '13617',\n",
       " '13666',\n",
       " '13687',\n",
       " '13688',\n",
       " '13689',\n",
       " '13691',\n",
       " '13692',\n",
       " '13693',\n",
       " '13694',\n",
       " '13916',\n",
       " '14078',\n",
       " '14079',\n",
       " '14081',\n",
       " '14082',\n",
       " '14153',\n",
       " '14154',\n",
       " '14155',\n",
       " '14156',\n",
       " '14157',\n",
       " '14188',\n",
       " '14189',\n",
       " '14190',\n",
       " '14191',\n",
       " '14192',\n",
       " '14209',\n",
       " '14210',\n",
       " '14211',\n",
       " '14212',\n",
       " '14213',\n",
       " '14304',\n",
       " '14305',\n",
       " '14306',\n",
       " '14321',\n",
       " '15471',\n",
       " '15472',\n",
       " '15473',\n",
       " '15510',\n",
       " '15512',\n",
       " '15513',\n",
       " '15514',\n",
       " '15515',\n",
       " '15516',\n",
       " '15632',\n",
       " '15633',\n",
       " '15634',\n",
       " '15839',\n",
       " '15840',\n",
       " '15902',\n",
       " '15903',\n",
       " '16014',\n",
       " '16085',\n",
       " '16165',\n",
       " '16166',\n",
       " '16167',\n",
       " '16531',\n",
       " '16532',\n",
       " '16533',\n",
       " '16534',\n",
       " '16550',\n",
       " '16551',\n",
       " '16552',\n",
       " '16553',\n",
       " '16554',\n",
       " '16555',\n",
       " '16568',\n",
       " '16569',\n",
       " '16570',\n",
       " '16895',\n",
       " '16896',\n",
       " '8863',\n",
       " '8864',\n",
       " '8865',\n",
       " '8867',\n",
       " '8913',\n",
       " '8914',\n",
       " '8916',\n",
       " '8917',\n",
       " '8918',\n",
       " '8950',\n",
       " '8951',\n",
       " '8955',\n",
       " '8956',\n",
       " '8957',\n",
       " '8959',\n",
       " '8974',\n",
       " '8975',\n",
       " '8980',\n",
       " '8984',\n",
       " '9022',\n",
       " '9023',\n",
       " '9029',\n",
       " '9035',\n",
       " '9036',\n",
       " '9037',\n",
       " '9041',\n",
       " '9043',\n",
       " '9044',\n",
       " '9073',\n",
       " '9075',\n",
       " '9076',\n",
       " '9077',\n",
       " '9078',\n",
       " '9081',\n",
       " '9083',\n",
       " '9123',\n",
       " '9124',\n",
       " '9125',\n",
       " '9126',\n",
       " '9135',\n",
       " '9173',\n",
       " '9174',\n",
       " '9175',\n",
       " '9176',\n",
       " '9177',\n",
       " '9178',\n",
       " '9181',\n",
       " '9225',\n",
       " '9226',\n",
       " '9227',\n",
       " '9228',\n",
       " '9250',\n",
       " '9254',\n",
       " '9255',\n",
       " '9256',\n",
       " '9257',\n",
       " '9258',\n",
       " '9259',\n",
       " '9260',\n",
       " '9261',\n",
       " '9262',\n",
       " '9265',\n",
       " '9266',\n",
       " '9267',\n",
       " '9290',\n",
       " '9291',\n",
       " '9319',\n",
       " '9320',\n",
       " '9321',\n",
       " '9322',\n",
       " '9323',\n",
       " '9324',\n",
       " '9325',\n",
       " '9344',\n",
       " '9345',\n",
       " '9346',\n",
       " '9347',\n",
       " '9381',\n",
       " '9382',\n",
       " '9383']"
      ]
     },
     "execution_count": 7,
     "metadata": {},
     "output_type": "execute_result"
    }
   ],
   "source": [
    "os.listdir(train_dir)"
   ]
  },
  {
   "cell_type": "markdown",
   "metadata": {},
   "source": [
    "### Listing the our the testing classificaitons\n",
    "- We also have 280 classificaiton of images in the test set\n",
    "- WE have an even training and testing set"
   ]
  },
  {
   "cell_type": "code",
   "execution_count": 8,
   "metadata": {},
   "outputs": [],
   "source": [
    "test_dir = data_dir+\"/test\""
   ]
  },
  {
   "cell_type": "code",
   "execution_count": 9,
   "metadata": {},
   "outputs": [
    {
     "data": {
      "text/plain": [
       "['.DS_Store',\n",
       " '10253',\n",
       " '10254',\n",
       " '10255',\n",
       " '10256',\n",
       " '10257',\n",
       " '10258',\n",
       " '10259',\n",
       " '10260',\n",
       " '10261',\n",
       " '10262',\n",
       " '10264',\n",
       " '10268',\n",
       " '10269',\n",
       " '10272',\n",
       " '10273',\n",
       " '10274',\n",
       " '10275',\n",
       " '10276',\n",
       " '10277',\n",
       " '10278',\n",
       " '10279',\n",
       " '10282',\n",
       " '10285',\n",
       " '10286',\n",
       " '10288',\n",
       " '10290',\n",
       " '10291',\n",
       " '10292',\n",
       " '10293',\n",
       " '10295',\n",
       " '10299',\n",
       " '10300',\n",
       " '10301',\n",
       " '10302',\n",
       " '10303',\n",
       " '10304',\n",
       " '10305',\n",
       " '10306',\n",
       " '10307',\n",
       " '10308',\n",
       " '12241',\n",
       " '12242',\n",
       " '12626',\n",
       " '12748',\n",
       " '12749',\n",
       " '12750',\n",
       " '12751',\n",
       " '12752',\n",
       " '12810',\n",
       " '12811',\n",
       " '12817',\n",
       " '12818',\n",
       " '12819',\n",
       " '12820',\n",
       " '12821',\n",
       " '12822',\n",
       " '12823',\n",
       " '12824',\n",
       " '12826',\n",
       " '12867',\n",
       " '12868',\n",
       " '12869',\n",
       " '12870',\n",
       " '12871',\n",
       " '12872',\n",
       " '12873',\n",
       " '12875',\n",
       " '12876',\n",
       " '12877',\n",
       " '12878',\n",
       " '12879',\n",
       " '12880',\n",
       " '12881',\n",
       " '12882',\n",
       " '12883',\n",
       " '12884',\n",
       " '12886',\n",
       " '12890',\n",
       " '12891',\n",
       " '12892',\n",
       " '12893',\n",
       " '12894',\n",
       " '12895',\n",
       " '12896',\n",
       " '12897',\n",
       " '12898',\n",
       " '12900',\n",
       " '12901',\n",
       " '12905',\n",
       " '12906',\n",
       " '12907',\n",
       " '12908',\n",
       " '12909',\n",
       " '12910',\n",
       " '12911',\n",
       " '12929',\n",
       " '12930',\n",
       " '12931',\n",
       " '12932',\n",
       " '12933',\n",
       " '12934',\n",
       " '12935',\n",
       " '12947',\n",
       " '12948',\n",
       " '12949',\n",
       " '12951',\n",
       " '12954',\n",
       " '12955',\n",
       " '13018',\n",
       " '13019',\n",
       " '13020',\n",
       " '13021',\n",
       " '13022',\n",
       " '13023',\n",
       " '13024',\n",
       " '13025',\n",
       " '13106',\n",
       " '13400',\n",
       " '13401',\n",
       " '13402',\n",
       " '13403',\n",
       " '13404',\n",
       " '13458',\n",
       " '13459',\n",
       " '13460',\n",
       " '13461',\n",
       " '13462',\n",
       " '13591',\n",
       " '13613',\n",
       " '13616',\n",
       " '13617',\n",
       " '13666',\n",
       " '13687',\n",
       " '13688',\n",
       " '13689',\n",
       " '13691',\n",
       " '13692',\n",
       " '13693',\n",
       " '13694',\n",
       " '13916',\n",
       " '14078',\n",
       " '14079',\n",
       " '14081',\n",
       " '14082',\n",
       " '14153',\n",
       " '14154',\n",
       " '14155',\n",
       " '14156',\n",
       " '14157',\n",
       " '14188',\n",
       " '14189',\n",
       " '14190',\n",
       " '14191',\n",
       " '14192',\n",
       " '14209',\n",
       " '14210',\n",
       " '14211',\n",
       " '14212',\n",
       " '14213',\n",
       " '14304',\n",
       " '14305',\n",
       " '14306',\n",
       " '14321',\n",
       " '15471',\n",
       " '15472',\n",
       " '15473',\n",
       " '15510',\n",
       " '15512',\n",
       " '15513',\n",
       " '15514',\n",
       " '15515',\n",
       " '15516',\n",
       " '15632',\n",
       " '15633',\n",
       " '15634',\n",
       " '15839',\n",
       " '15840',\n",
       " '15902',\n",
       " '15903',\n",
       " '16014',\n",
       " '16085',\n",
       " '16165',\n",
       " '16166',\n",
       " '16167',\n",
       " '16531',\n",
       " '16532',\n",
       " '16533',\n",
       " '16534',\n",
       " '16550',\n",
       " '16551',\n",
       " '16552',\n",
       " '16553',\n",
       " '16554',\n",
       " '16555',\n",
       " '16568',\n",
       " '16569',\n",
       " '16570',\n",
       " '16895',\n",
       " '16896',\n",
       " '8863',\n",
       " '8864',\n",
       " '8865',\n",
       " '8867',\n",
       " '8913',\n",
       " '8914',\n",
       " '8916',\n",
       " '8917',\n",
       " '8918',\n",
       " '8950',\n",
       " '8951',\n",
       " '8955',\n",
       " '8956',\n",
       " '8957',\n",
       " '8959',\n",
       " '8974',\n",
       " '8975',\n",
       " '8980',\n",
       " '8984',\n",
       " '9022',\n",
       " '9023',\n",
       " '9029',\n",
       " '9035',\n",
       " '9036',\n",
       " '9037',\n",
       " '9041',\n",
       " '9043',\n",
       " '9044',\n",
       " '9073',\n",
       " '9075',\n",
       " '9076',\n",
       " '9077',\n",
       " '9078',\n",
       " '9081',\n",
       " '9083',\n",
       " '9123',\n",
       " '9124',\n",
       " '9125',\n",
       " '9126',\n",
       " '9135',\n",
       " '9173',\n",
       " '9174',\n",
       " '9175',\n",
       " '9176',\n",
       " '9177',\n",
       " '9178',\n",
       " '9181',\n",
       " '9225',\n",
       " '9226',\n",
       " '9227',\n",
       " '9228',\n",
       " '9250',\n",
       " '9254',\n",
       " '9255',\n",
       " '9256',\n",
       " '9257',\n",
       " '9258',\n",
       " '9259',\n",
       " '9260',\n",
       " '9261',\n",
       " '9262',\n",
       " '9265',\n",
       " '9266',\n",
       " '9267',\n",
       " '9290',\n",
       " '9291',\n",
       " '9319',\n",
       " '9320',\n",
       " '9321',\n",
       " '9322',\n",
       " '9323',\n",
       " '9324',\n",
       " '9325',\n",
       " '9344',\n",
       " '9345',\n",
       " '9346',\n",
       " '9347',\n",
       " '9381',\n",
       " '9382',\n",
       " '9383']"
      ]
     },
     "execution_count": 9,
     "metadata": {},
     "output_type": "execute_result"
    }
   ],
   "source": [
    "os.listdir(test_dir)"
   ]
  },
  {
   "cell_type": "code",
   "execution_count": 10,
   "metadata": {},
   "outputs": [
    {
     "data": {
      "text/plain": [
       "280"
      ]
     },
     "execution_count": 10,
     "metadata": {},
     "output_type": "execute_result"
    }
   ],
   "source": [
    "len(os.listdir(test_dir))"
   ]
  },
  {
   "cell_type": "markdown",
   "metadata": {},
   "source": [
    "### Taking a look at a single infected and not infected cell"
   ]
  },
  {
   "cell_type": "markdown",
   "metadata": {},
   "source": [
    "### Uninfected Image"
   ]
  },
  {
   "cell_type": "code",
   "execution_count": 11,
   "metadata": {},
   "outputs": [
    {
     "data": {
      "text/plain": [
       "'10253_idx5_x1001_y1001_class0.png'"
      ]
     },
     "execution_count": 11,
     "metadata": {},
     "output_type": "execute_result"
    }
   ],
   "source": [
    "os.listdir(train_dir+\"/10253\"+\"/0\")[0]"
   ]
  },
  {
   "cell_type": "code",
   "execution_count": 12,
   "metadata": {},
   "outputs": [],
   "source": [
    "uninfected_cell_dir = train_dir+\"/10253\"+\"/0\"+\"/10253_idx5_x1001_y1001_class0.png\""
   ]
  },
  {
   "cell_type": "code",
   "execution_count": 13,
   "metadata": {},
   "outputs": [],
   "source": [
    "uninfected_cell_img = imread(uninfected_cell_dir)"
   ]
  },
  {
   "cell_type": "code",
   "execution_count": 14,
   "metadata": {},
   "outputs": [
    {
     "data": {
      "text/plain": [
       "<matplotlib.image.AxesImage at 0x1a16e9c510>"
      ]
     },
     "execution_count": 14,
     "metadata": {},
     "output_type": "execute_result"
    },
    {
     "data": {
      "image/png": "[encoded data removed]",
      "text/plain": [
       "<Figure size 432x288 with 1 Axes>"
      ]
     },
     "metadata": {
      "needs_background": "light"
     },
     "output_type": "display_data"
    }
   ],
   "source": [
    "plt.imshow(uninfected_cell_img)"
   ]
  },
  {
   "cell_type": "markdown",
   "metadata": {},
   "source": [
    "### Invasive Ductal Carcinoma (IDC)"
   ]
  },
  {
   "cell_type": "code",
   "execution_count": 15,
   "metadata": {},
   "outputs": [
    {
     "data": {
      "text/plain": [
       "'10253_idx5_x501_y401_class1.png'"
      ]
     },
     "execution_count": 15,
     "metadata": {},
     "output_type": "execute_result"
    }
   ],
   "source": [
    "os.listdir(train_dir+\"/10253/1\")[1]"
   ]
  },
  {
   "cell_type": "code",
   "execution_count": 16,
   "metadata": {},
   "outputs": [],
   "source": [
    "idc_img_dir = train_dir+\"/10253\"+\"/1\"+\"/10253_idx5_x501_y401_class1.png\""
   ]
  },
  {
   "cell_type": "code",
   "execution_count": 17,
   "metadata": {},
   "outputs": [],
   "source": [
    "idc_cell = imread(idc_img_dir)"
   ]
  },
  {
   "cell_type": "code",
   "execution_count": 18,
   "metadata": {},
   "outputs": [
    {
     "data": {
      "text/plain": [
       "<matplotlib.image.AxesImage at 0x1a1903edd0>"
      ]
     },
     "execution_count": 18,
     "metadata": {},
     "output_type": "execute_result"
    },
    {
     "data": {
      "image/png": "[encoded data removed]",
      "text/plain": [
       "<Figure size 432x288 with 1 Axes>"
      ]
     },
     "metadata": {
      "needs_background": "light"
     },
     "output_type": "display_data"
    }
   ],
   "source": [
    "plt.imshow(idc_cell)"
   ]
  },
  {
   "cell_type": "markdown",
   "metadata": {},
   "source": [
    "### Lets check the average size for each image in training set \n",
    "- Looks like all images is 50x50 whih is excellent"
   ]
  },
  {
   "cell_type": "code",
   "execution_count": 21,
   "metadata": {},
   "outputs": [],
   "source": [
    "dim1 = []\n",
    "dim2 = []\n",
    "cdim = []\n",
    "for image_name in os.listdir(train_dir+\"/10253\"+\"/0\"):\n",
    "    img = imread(train_dir+\"/10253\"+\"/0/\"+image_name)\n",
    "    d1,d2,c_dim = img.shape\n",
    "    dim1.append(d1)\n",
    "    dim2.append(d2)\n",
    "    cdim.append(c_dim)"
   ]
  },
  {
   "cell_type": "code",
   "execution_count": 24,
   "metadata": {},
   "outputs": [
    {
     "data": {
      "text/plain": [
       "<seaborn.axisgrid.JointGrid at 0x1a1adca710>"
      ]
     },
     "execution_count": 24,
     "metadata": {},
     "output_type": "execute_result"
    },
    {
     "data": {
      "image/png": "[encoded data removed]",
      "text/plain": [
       "<Figure size 432x432 with 3 Axes>"
      ]
     },
     "metadata": {
      "needs_background": "light"
     },
     "output_type": "display_data"
    }
   ],
   "source": [
    "sns.jointplot(dim1, dim2)"
   ]
  },
  {
   "cell_type": "code",
   "execution_count": 25,
   "metadata": {},
   "outputs": [],
   "source": [
    "network_image_shape = (50,50,3)"
   ]
  },
  {
   "cell_type": "markdown",
   "metadata": {},
   "source": [
    "### Lets create an image Generator for the images"
   ]
  },
  {
   "cell_type": "code",
   "execution_count": 26,
   "metadata": {},
   "outputs": [],
   "source": [
    "from tensorflow.keras.preprocessing.image import ImageDataGenerator"
   ]
  },
  {
   "cell_type": "code",
   "execution_count": 42,
   "metadata": {},
   "outputs": [],
   "source": [
    "image_gen = ImageDataGenerator(\n",
    "    width_shift_range=0.1,\n",
    "    height_shift_range=0.1,\n",
    "    shear_range= 0.3,\n",
    "    zoom_range= 0.2,\n",
    "    fill_mode= \"nearest\",\n",
    "    horizontal_flip= True,\n",
    "    vertical_flip= True,\n",
    "    rescale= 1/255,\n",
    ")"
   ]
  },
  {
   "cell_type": "markdown",
   "metadata": {},
   "source": [
    "### Testing our generator"
   ]
  },
  {
   "cell_type": "code",
   "execution_count": 43,
   "metadata": {},
   "outputs": [
    {
     "data": {
      "text/plain": [
       "<matplotlib.image.AxesImage at 0x1a4243ed50>"
      ]
     },
     "execution_count": 43,
     "metadata": {},
     "output_type": "execute_result"
    },
    {
     "data": {
      "image/png": "[encoded data removed]",
      "text/plain": [
       "<Figure size 432x288 with 1 Axes>"
      ]
     },
     "metadata": {
      "needs_background": "light"
     },
     "output_type": "display_data"
    }
   ],
   "source": [
    "plt.imshow(uninfected_cell_img)"
   ]
  },
  {
   "cell_type": "code",
   "execution_count": 48,
   "metadata": {},
   "outputs": [
    {
     "data": {
      "text/plain": [
       "<matplotlib.image.AxesImage at 0x1a41bf1c10>"
      ]
     },
     "execution_count": 48,
     "metadata": {},
     "output_type": "execute_result"
    },
    {
     "data": {
      "image/png": "[encoded data removed]",
      "text/plain": [
       "<Figure size 432x288 with 1 Axes>"
      ]
     },
     "metadata": {
      "needs_background": "light"
     },
     "output_type": "display_data"
    }
   ],
   "source": [
    "plt.imshow(image_gen.random_transform(idc_cell))"
   ]
  },
  {
   "cell_type": "markdown",
   "metadata": {},
   "source": [
    "### Get all the images needed for out generator \n",
    "- Flow from directory"
   ]
  },
  {
   "cell_type": "code",
   "execution_count": 49,
   "metadata": {},
   "outputs": [
    {
     "name": "stdout",
     "output_type": "stream",
     "text": [
      "Found 277524 images belonging to 279 classes.\n"
     ]
    },
    {
     "data": {
      "text/plain": [
       "<keras_preprocessing.image.directory_iterator.DirectoryIterator at 0x1a41b068d0>"
      ]
     },
     "execution_count": 49,
     "metadata": {},
     "output_type": "execute_result"
    }
   ],
   "source": [
    "image_gen.flow_from_directory(train_dir)"
   ]
  },
  {
   "cell_type": "code",
   "execution_count": 50,
   "metadata": {},
   "outputs": [
    {
     "name": "stdout",
     "output_type": "stream",
     "text": [
      "Found 277524 images belonging to 279 classes.\n"
     ]
    },
    {
     "data": {
      "text/plain": [
       "<keras_preprocessing.image.directory_iterator.DirectoryIterator at 0x1a41ca2fd0>"
      ]
     },
     "execution_count": 50,
     "metadata": {},
     "output_type": "execute_result"
    }
   ],
   "source": [
    "image_gen.flow_from_directory(test_dir)"
   ]
  },
  {
   "cell_type": "markdown",
   "metadata": {},
   "source": [
    "### Building the model"
   ]
  },
  {
   "cell_type": "code",
   "execution_count": 51,
   "metadata": {},
   "outputs": [],
   "source": [
    "from tensorflow.keras.models import Sequential\n",
    "from tensorflow.keras.layers import Dense, Conv2D, MaxPool2D, Flatten, Dropout"
   ]
  },
  {
   "cell_type": "code",
   "execution_count": 80,
   "metadata": {},
   "outputs": [],
   "source": [
    "model = Sequential()\n",
    "model.add(Conv2D(activation = \"relu\", kernel_size = (2,2), \n",
    "                strides = (1,1), input_shape = network_image_shape, padding = \"valid\", filters = 32))\n",
    "model.add(MaxPool2D(pool_size = (2,2)))\n",
    "model.add(Conv2D(activation = \"relu\", kernel_size = (2,2), \n",
    "                strides = (1,1), input_shape = network_image_shape, padding = \"valid\", filters = 64))\n",
    "model.add(MaxPool2D(pool_size = (2,2)))\n",
    "model.add(Conv2D(activation = \"relu\", kernel_size = (2,2), \n",
    "                strides = (1,1), input_shape = network_image_shape, padding = \"valid\", filters = 64))\n",
    "model.add(MaxPool2D(pool_size = (2,2)))\n",
    "model.add(Flatten())\n",
    "model.add(Dense(units = 128, activation = \"relu\"))\n",
    "model.add(Dropout(0.5))\n",
    "model.add(Dense(units = 1, activation = \"sigmoid\"))\n",
    "model.compile(loss = \"binary_crossentropy\", optimizer = \"adam\")"
   ]
  },
  {
   "cell_type": "code",
   "execution_count": 81,
   "metadata": {},
   "outputs": [
    {
     "name": "stdout",
     "output_type": "stream",
     "text": [
      "Model: \"sequential_8\"\n",
      "_________________________________________________________________\n",
      "Layer (type)                 Output Shape              Param #   \n",
      "=================================================================\n",
      "conv2d_18 (Conv2D)           (None, 49, 49, 32)        416       \n",
      "_________________________________________________________________\n",
      "max_pooling2d_16 (MaxPooling (None, 24, 24, 32)        0         \n",
      "_________________________________________________________________\n",
      "conv2d_19 (Conv2D)           (None, 23, 23, 64)        8256      \n",
      "_________________________________________________________________\n",
      "max_pooling2d_17 (MaxPooling (None, 11, 11, 64)        0         \n",
      "_________________________________________________________________\n",
      "conv2d_20 (Conv2D)           (None, 10, 10, 64)        16448     \n",
      "_________________________________________________________________\n",
      "max_pooling2d_18 (MaxPooling (None, 5, 5, 64)          0         \n",
      "_________________________________________________________________\n",
      "flatten_3 (Flatten)          (None, 1600)              0         \n",
      "_________________________________________________________________\n",
      "dense_6 (Dense)              (None, 128)               204928    \n",
      "_________________________________________________________________\n",
      "dropout_3 (Dropout)          (None, 128)               0         \n",
      "_________________________________________________________________\n",
      "dense_7 (Dense)              (None, 1)                 129       \n",
      "=================================================================\n",
      "Total params: 230,177\n",
      "Trainable params: 230,177\n",
      "Non-trainable params: 0\n",
      "_________________________________________________________________\n"
     ]
    }
   ],
   "source": [
    "model.summary()"
   ]
  },
  {
   "cell_type": "markdown",
   "metadata": {},
   "source": [
    "## Callbacks"
   ]
  },
  {
   "cell_type": "code",
   "execution_count": 82,
   "metadata": {},
   "outputs": [],
   "source": [
    "from tensorflow.keras.callbacks import EarlyStopping"
   ]
  },
  {
   "cell_type": "code",
   "execution_count": 83,
   "metadata": {},
   "outputs": [],
   "source": [
    "stop = EarlyStopping(monitor=\"val_loss\", mode= \"min\", patience=5)"
   ]
  },
  {
   "cell_type": "markdown",
   "metadata": {},
   "source": [
    "### Batch Size\n",
    "- We have alot of images so batching the imaes will assist the model in training (power of 2)"
   ]
  },
  {
   "cell_type": "code",
   "execution_count": 84,
   "metadata": {},
   "outputs": [],
   "source": [
    "batch_size = 16"
   ]
  },
  {
   "cell_type": "markdown",
   "metadata": {},
   "source": [
    "### Model will train on two generators \n",
    "- We will need two for the traiing and testing data\n",
    "- Will need to remove shufling form test set - makes a random batch of data points for you. But we will neot need this for the testing set. \n",
    "- lAbes will get shuffled around - we dont want this"
   ]
  },
  {
   "cell_type": "code",
   "execution_count": 85,
   "metadata": {},
   "outputs": [
    {
     "name": "stdout",
     "output_type": "stream",
     "text": [
      "Found 277524 images belonging to 279 classes.\n"
     ]
    }
   ],
   "source": [
    "train_image_gen = image_gen.flow_from_directory(train_dir,\n",
    "                        target_size= network_image_shape[:2],\n",
    "                    color_mode= \"rgb\", batch_size= batch_size, class_mode= \"binary\")"
   ]
  },
  {
   "cell_type": "code",
   "execution_count": 86,
   "metadata": {},
   "outputs": [
    {
     "name": "stdout",
     "output_type": "stream",
     "text": [
      "Found 277524 images belonging to 279 classes.\n"
     ]
    }
   ],
   "source": [
    "test_image_gen = image_gen.flow_from_directory(test_dir,\n",
    "                        target_size= network_image_shape[:2],\n",
    "                    color_mode= \"rgb\", batch_size= batch_size, class_mode= \"binary\", shuffle=False)"
   ]
  },
  {
   "cell_type": "markdown",
   "metadata": {},
   "source": [
    "### Take a look at the image indicies "
   ]
  },
  {
   "cell_type": "code",
   "execution_count": 87,
   "metadata": {},
   "outputs": [
    {
     "data": {
      "text/plain": [
       "{'10253': 0,\n",
       " '10254': 1,\n",
       " '10255': 2,\n",
       " '10256': 3,\n",
       " '10257': 4,\n",
       " '10258': 5,\n",
       " '10259': 6,\n",
       " '10260': 7,\n",
       " '10261': 8,\n",
       " '10262': 9,\n",
       " '10264': 10,\n",
       " '10268': 11,\n",
       " '10269': 12,\n",
       " '10272': 13,\n",
       " '10273': 14,\n",
       " '10274': 15,\n",
       " '10275': 16,\n",
       " '10276': 17,\n",
       " '10277': 18,\n",
       " '10278': 19,\n",
       " '10279': 20,\n",
       " '10282': 21,\n",
       " '10285': 22,\n",
       " '10286': 23,\n",
       " '10288': 24,\n",
       " '10290': 25,\n",
       " '10291': 26,\n",
       " '10292': 27,\n",
       " '10293': 28,\n",
       " '10295': 29,\n",
       " '10299': 30,\n",
       " '10300': 31,\n",
       " '10301': 32,\n",
       " '10302': 33,\n",
       " '10303': 34,\n",
       " '10304': 35,\n",
       " '10305': 36,\n",
       " '10306': 37,\n",
       " '10307': 38,\n",
       " '10308': 39,\n",
       " '12241': 40,\n",
       " '12242': 41,\n",
       " '12626': 42,\n",
       " '12748': 43,\n",
       " '12749': 44,\n",
       " '12750': 45,\n",
       " '12751': 46,\n",
       " '12752': 47,\n",
       " '12810': 48,\n",
       " '12811': 49,\n",
       " '12817': 50,\n",
       " '12818': 51,\n",
       " '12819': 52,\n",
       " '12820': 53,\n",
       " '12821': 54,\n",
       " '12822': 55,\n",
       " '12823': 56,\n",
       " '12824': 57,\n",
       " '12826': 58,\n",
       " '12867': 59,\n",
       " '12868': 60,\n",
       " '12869': 61,\n",
       " '12870': 62,\n",
       " '12871': 63,\n",
       " '12872': 64,\n",
       " '12873': 65,\n",
       " '12875': 66,\n",
       " '12876': 67,\n",
       " '12877': 68,\n",
       " '12878': 69,\n",
       " '12879': 70,\n",
       " '12880': 71,\n",
       " '12881': 72,\n",
       " '12882': 73,\n",
       " '12883': 74,\n",
       " '12884': 75,\n",
       " '12886': 76,\n",
       " '12890': 77,\n",
       " '12891': 78,\n",
       " '12892': 79,\n",
       " '12893': 80,\n",
       " '12894': 81,\n",
       " '12895': 82,\n",
       " '12896': 83,\n",
       " '12897': 84,\n",
       " '12898': 85,\n",
       " '12900': 86,\n",
       " '12901': 87,\n",
       " '12905': 88,\n",
       " '12906': 89,\n",
       " '12907': 90,\n",
       " '12908': 91,\n",
       " '12909': 92,\n",
       " '12910': 93,\n",
       " '12911': 94,\n",
       " '12929': 95,\n",
       " '12930': 96,\n",
       " '12931': 97,\n",
       " '12932': 98,\n",
       " '12933': 99,\n",
       " '12934': 100,\n",
       " '12935': 101,\n",
       " '12947': 102,\n",
       " '12948': 103,\n",
       " '12949': 104,\n",
       " '12951': 105,\n",
       " '12954': 106,\n",
       " '12955': 107,\n",
       " '13018': 108,\n",
       " '13019': 109,\n",
       " '13020': 110,\n",
       " '13021': 111,\n",
       " '13022': 112,\n",
       " '13023': 113,\n",
       " '13024': 114,\n",
       " '13025': 115,\n",
       " '13106': 116,\n",
       " '13400': 117,\n",
       " '13401': 118,\n",
       " '13402': 119,\n",
       " '13403': 120,\n",
       " '13404': 121,\n",
       " '13458': 122,\n",
       " '13459': 123,\n",
       " '13460': 124,\n",
       " '13461': 125,\n",
       " '13462': 126,\n",
       " '13591': 127,\n",
       " '13613': 128,\n",
       " '13616': 129,\n",
       " '13617': 130,\n",
       " '13666': 131,\n",
       " '13687': 132,\n",
       " '13688': 133,\n",
       " '13689': 134,\n",
       " '13691': 135,\n",
       " '13692': 136,\n",
       " '13693': 137,\n",
       " '13694': 138,\n",
       " '13916': 139,\n",
       " '14078': 140,\n",
       " '14079': 141,\n",
       " '14081': 142,\n",
       " '14082': 143,\n",
       " '14153': 144,\n",
       " '14154': 145,\n",
       " '14155': 146,\n",
       " '14156': 147,\n",
       " '14157': 148,\n",
       " '14188': 149,\n",
       " '14189': 150,\n",
       " '14190': 151,\n",
       " '14191': 152,\n",
       " '14192': 153,\n",
       " '14209': 154,\n",
       " '14210': 155,\n",
       " '14211': 156,\n",
       " '14212': 157,\n",
       " '14213': 158,\n",
       " '14304': 159,\n",
       " '14305': 160,\n",
       " '14306': 161,\n",
       " '14321': 162,\n",
       " '15471': 163,\n",
       " '15472': 164,\n",
       " '15473': 165,\n",
       " '15510': 166,\n",
       " '15512': 167,\n",
       " '15513': 168,\n",
       " '15514': 169,\n",
       " '15515': 170,\n",
       " '15516': 171,\n",
       " '15632': 172,\n",
       " '15633': 173,\n",
       " '15634': 174,\n",
       " '15839': 175,\n",
       " '15840': 176,\n",
       " '15902': 177,\n",
       " '15903': 178,\n",
       " '16014': 179,\n",
       " '16085': 180,\n",
       " '16165': 181,\n",
       " '16166': 182,\n",
       " '16167': 183,\n",
       " '16531': 184,\n",
       " '16532': 185,\n",
       " '16533': 186,\n",
       " '16534': 187,\n",
       " '16550': 188,\n",
       " '16551': 189,\n",
       " '16552': 190,\n",
       " '16553': 191,\n",
       " '16554': 192,\n",
       " '16555': 193,\n",
       " '16568': 194,\n",
       " '16569': 195,\n",
       " '16570': 196,\n",
       " '16895': 197,\n",
       " '16896': 198,\n",
       " '8863': 199,\n",
       " '8864': 200,\n",
       " '8865': 201,\n",
       " '8867': 202,\n",
       " '8913': 203,\n",
       " '8914': 204,\n",
       " '8916': 205,\n",
       " '8917': 206,\n",
       " '8918': 207,\n",
       " '8950': 208,\n",
       " '8951': 209,\n",
       " '8955': 210,\n",
       " '8956': 211,\n",
       " '8957': 212,\n",
       " '8959': 213,\n",
       " '8974': 214,\n",
       " '8975': 215,\n",
       " '8980': 216,\n",
       " '8984': 217,\n",
       " '9022': 218,\n",
       " '9023': 219,\n",
       " '9029': 220,\n",
       " '9035': 221,\n",
       " '9036': 222,\n",
       " '9037': 223,\n",
       " '9041': 224,\n",
       " '9043': 225,\n",
       " '9044': 226,\n",
       " '9073': 227,\n",
       " '9075': 228,\n",
       " '9076': 229,\n",
       " '9077': 230,\n",
       " '9078': 231,\n",
       " '9081': 232,\n",
       " '9083': 233,\n",
       " '9123': 234,\n",
       " '9124': 235,\n",
       " '9125': 236,\n",
       " '9126': 237,\n",
       " '9135': 238,\n",
       " '9173': 239,\n",
       " '9174': 240,\n",
       " '9175': 241,\n",
       " '9176': 242,\n",
       " '9177': 243,\n",
       " '9178': 244,\n",
       " '9181': 245,\n",
       " '9225': 246,\n",
       " '9226': 247,\n",
       " '9227': 248,\n",
       " '9228': 249,\n",
       " '9250': 250,\n",
       " '9254': 251,\n",
       " '9255': 252,\n",
       " '9256': 253,\n",
       " '9257': 254,\n",
       " '9258': 255,\n",
       " '9259': 256,\n",
       " '9260': 257,\n",
       " '9261': 258,\n",
       " '9262': 259,\n",
       " '9265': 260,\n",
       " '9266': 261,\n",
       " '9267': 262,\n",
       " '9290': 263,\n",
       " '9291': 264,\n",
       " '9319': 265,\n",
       " '9320': 266,\n",
       " '9321': 267,\n",
       " '9322': 268,\n",
       " '9323': 269,\n",
       " '9324': 270,\n",
       " '9325': 271,\n",
       " '9344': 272,\n",
       " '9345': 273,\n",
       " '9346': 274,\n",
       " '9347': 275,\n",
       " '9381': 276,\n",
       " '9382': 277,\n",
       " '9383': 278}"
      ]
     },
     "execution_count": 87,
     "metadata": {},
     "output_type": "execute_result"
    }
   ],
   "source": [
    "train_image_gen.class_indices"
   ]
  },
  {
   "cell_type": "code",
   "execution_count": 88,
   "metadata": {},
   "outputs": [
    {
     "data": {
      "text/plain": [
       "{'10253': 0,\n",
       " '10254': 1,\n",
       " '10255': 2,\n",
       " '10256': 3,\n",
       " '10257': 4,\n",
       " '10258': 5,\n",
       " '10259': 6,\n",
       " '10260': 7,\n",
       " '10261': 8,\n",
       " '10262': 9,\n",
       " '10264': 10,\n",
       " '10268': 11,\n",
       " '10269': 12,\n",
       " '10272': 13,\n",
       " '10273': 14,\n",
       " '10274': 15,\n",
       " '10275': 16,\n",
       " '10276': 17,\n",
       " '10277': 18,\n",
       " '10278': 19,\n",
       " '10279': 20,\n",
       " '10282': 21,\n",
       " '10285': 22,\n",
       " '10286': 23,\n",
       " '10288': 24,\n",
       " '10290': 25,\n",
       " '10291': 26,\n",
       " '10292': 27,\n",
       " '10293': 28,\n",
       " '10295': 29,\n",
       " '10299': 30,\n",
       " '10300': 31,\n",
       " '10301': 32,\n",
       " '10302': 33,\n",
       " '10303': 34,\n",
       " '10304': 35,\n",
       " '10305': 36,\n",
       " '10306': 37,\n",
       " '10307': 38,\n",
       " '10308': 39,\n",
       " '12241': 40,\n",
       " '12242': 41,\n",
       " '12626': 42,\n",
       " '12748': 43,\n",
       " '12749': 44,\n",
       " '12750': 45,\n",
       " '12751': 46,\n",
       " '12752': 47,\n",
       " '12810': 48,\n",
       " '12811': 49,\n",
       " '12817': 50,\n",
       " '12818': 51,\n",
       " '12819': 52,\n",
       " '12820': 53,\n",
       " '12821': 54,\n",
       " '12822': 55,\n",
       " '12823': 56,\n",
       " '12824': 57,\n",
       " '12826': 58,\n",
       " '12867': 59,\n",
       " '12868': 60,\n",
       " '12869': 61,\n",
       " '12870': 62,\n",
       " '12871': 63,\n",
       " '12872': 64,\n",
       " '12873': 65,\n",
       " '12875': 66,\n",
       " '12876': 67,\n",
       " '12877': 68,\n",
       " '12878': 69,\n",
       " '12879': 70,\n",
       " '12880': 71,\n",
       " '12881': 72,\n",
       " '12882': 73,\n",
       " '12883': 74,\n",
       " '12884': 75,\n",
       " '12886': 76,\n",
       " '12890': 77,\n",
       " '12891': 78,\n",
       " '12892': 79,\n",
       " '12893': 80,\n",
       " '12894': 81,\n",
       " '12895': 82,\n",
       " '12896': 83,\n",
       " '12897': 84,\n",
       " '12898': 85,\n",
       " '12900': 86,\n",
       " '12901': 87,\n",
       " '12905': 88,\n",
       " '12906': 89,\n",
       " '12907': 90,\n",
       " '12908': 91,\n",
       " '12909': 92,\n",
       " '12910': 93,\n",
       " '12911': 94,\n",
       " '12929': 95,\n",
       " '12930': 96,\n",
       " '12931': 97,\n",
       " '12932': 98,\n",
       " '12933': 99,\n",
       " '12934': 100,\n",
       " '12935': 101,\n",
       " '12947': 102,\n",
       " '12948': 103,\n",
       " '12949': 104,\n",
       " '12951': 105,\n",
       " '12954': 106,\n",
       " '12955': 107,\n",
       " '13018': 108,\n",
       " '13019': 109,\n",
       " '13020': 110,\n",
       " '13021': 111,\n",
       " '13022': 112,\n",
       " '13023': 113,\n",
       " '13024': 114,\n",
       " '13025': 115,\n",
       " '13106': 116,\n",
       " '13400': 117,\n",
       " '13401': 118,\n",
       " '13402': 119,\n",
       " '13403': 120,\n",
       " '13404': 121,\n",
       " '13458': 122,\n",
       " '13459': 123,\n",
       " '13460': 124,\n",
       " '13461': 125,\n",
       " '13462': 126,\n",
       " '13591': 127,\n",
       " '13613': 128,\n",
       " '13616': 129,\n",
       " '13617': 130,\n",
       " '13666': 131,\n",
       " '13687': 132,\n",
       " '13688': 133,\n",
       " '13689': 134,\n",
       " '13691': 135,\n",
       " '13692': 136,\n",
       " '13693': 137,\n",
       " '13694': 138,\n",
       " '13916': 139,\n",
       " '14078': 140,\n",
       " '14079': 141,\n",
       " '14081': 142,\n",
       " '14082': 143,\n",
       " '14153': 144,\n",
       " '14154': 145,\n",
       " '14155': 146,\n",
       " '14156': 147,\n",
       " '14157': 148,\n",
       " '14188': 149,\n",
       " '14189': 150,\n",
       " '14190': 151,\n",
       " '14191': 152,\n",
       " '14192': 153,\n",
       " '14209': 154,\n",
       " '14210': 155,\n",
       " '14211': 156,\n",
       " '14212': 157,\n",
       " '14213': 158,\n",
       " '14304': 159,\n",
       " '14305': 160,\n",
       " '14306': 161,\n",
       " '14321': 162,\n",
       " '15471': 163,\n",
       " '15472': 164,\n",
       " '15473': 165,\n",
       " '15510': 166,\n",
       " '15512': 167,\n",
       " '15513': 168,\n",
       " '15514': 169,\n",
       " '15515': 170,\n",
       " '15516': 171,\n",
       " '15632': 172,\n",
       " '15633': 173,\n",
       " '15634': 174,\n",
       " '15839': 175,\n",
       " '15840': 176,\n",
       " '15902': 177,\n",
       " '15903': 178,\n",
       " '16014': 179,\n",
       " '16085': 180,\n",
       " '16165': 181,\n",
       " '16166': 182,\n",
       " '16167': 183,\n",
       " '16531': 184,\n",
       " '16532': 185,\n",
       " '16533': 186,\n",
       " '16534': 187,\n",
       " '16550': 188,\n",
       " '16551': 189,\n",
       " '16552': 190,\n",
       " '16553': 191,\n",
       " '16554': 192,\n",
       " '16555': 193,\n",
       " '16568': 194,\n",
       " '16569': 195,\n",
       " '16570': 196,\n",
       " '16895': 197,\n",
       " '16896': 198,\n",
       " '8863': 199,\n",
       " '8864': 200,\n",
       " '8865': 201,\n",
       " '8867': 202,\n",
       " '8913': 203,\n",
       " '8914': 204,\n",
       " '8916': 205,\n",
       " '8917': 206,\n",
       " '8918': 207,\n",
       " '8950': 208,\n",
       " '8951': 209,\n",
       " '8955': 210,\n",
       " '8956': 211,\n",
       " '8957': 212,\n",
       " '8959': 213,\n",
       " '8974': 214,\n",
       " '8975': 215,\n",
       " '8980': 216,\n",
       " '8984': 217,\n",
       " '9022': 218,\n",
       " '9023': 219,\n",
       " '9029': 220,\n",
       " '9035': 221,\n",
       " '9036': 222,\n",
       " '9037': 223,\n",
       " '9041': 224,\n",
       " '9043': 225,\n",
       " '9044': 226,\n",
       " '9073': 227,\n",
       " '9075': 228,\n",
       " '9076': 229,\n",
       " '9077': 230,\n",
       " '9078': 231,\n",
       " '9081': 232,\n",
       " '9083': 233,\n",
       " '9123': 234,\n",
       " '9124': 235,\n",
       " '9125': 236,\n",
       " '9126': 237,\n",
       " '9135': 238,\n",
       " '9173': 239,\n",
       " '9174': 240,\n",
       " '9175': 241,\n",
       " '9176': 242,\n",
       " '9177': 243,\n",
       " '9178': 244,\n",
       " '9181': 245,\n",
       " '9225': 246,\n",
       " '9226': 247,\n",
       " '9227': 248,\n",
       " '9228': 249,\n",
       " '9250': 250,\n",
       " '9254': 251,\n",
       " '9255': 252,\n",
       " '9256': 253,\n",
       " '9257': 254,\n",
       " '9258': 255,\n",
       " '9259': 256,\n",
       " '9260': 257,\n",
       " '9261': 258,\n",
       " '9262': 259,\n",
       " '9265': 260,\n",
       " '9266': 261,\n",
       " '9267': 262,\n",
       " '9290': 263,\n",
       " '9291': 264,\n",
       " '9319': 265,\n",
       " '9320': 266,\n",
       " '9321': 267,\n",
       " '9322': 268,\n",
       " '9323': 269,\n",
       " '9324': 270,\n",
       " '9325': 271,\n",
       " '9344': 272,\n",
       " '9345': 273,\n",
       " '9346': 274,\n",
       " '9347': 275,\n",
       " '9381': 276,\n",
       " '9382': 277,\n",
       " '9383': 278}"
      ]
     },
     "execution_count": 88,
     "metadata": {},
     "output_type": "execute_result"
    }
   ],
   "source": [
    "test_image_gen.class_indices"
   ]
  },
  {
   "cell_type": "code",
   "execution_count": null,
   "metadata": {},
   "outputs": [
    {
     "name": "stdout",
     "output_type": "stream",
     "text": [
      "Epoch 1/5\n",
      "  226/17346 [..............................] - ETA: 3:10:47 - loss: -1987.9999"
     ]
    }
   ],
   "source": [
    "results = model.fit_generator(train_image_gen, epochs=5)"
   ]
  },
  {
   "cell_type": "code",
   "execution_count": null,
   "metadata": {},
   "outputs": [],
   "source": []
  },
  {
   "cell_type": "code",
   "execution_count": null,
   "metadata": {},
   "outputs": [],
   "source": []
  }
 ],
 "metadata": {
  "kernelspec": {
   "display_name": "Python 3",
   "language": "python",
   "name": "python3"
  },
  "language_info": {
   "codemirror_mode": {
    "name": "ipython",
    "version": 3
   },
   "file_extension": ".py",
   "mimetype": "text/x-python",
   "name": "python",
   "nbconvert_exporter": "python",
   "pygments_lexer": "ipython3",
   "version": "3.7.6"
  }
 },
 "nbformat": 4,
 "nbformat_minor": 4
}
