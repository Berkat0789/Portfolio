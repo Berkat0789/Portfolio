{
 "cells": [
  {
   "cell_type": "code",
   "execution_count": 87,
   "metadata": {},
   "outputs": [],
   "source": [
    "import pandas as pd \n",
    "import numpy as np\n",
    "import matplotlib.pyplot as plt\n",
    "import seaborn as sns"
   ]
  },
  {
   "cell_type": "code",
   "execution_count": 88,
   "metadata": {},
   "outputs": [],
   "source": [
    "from sklearn.datasets import load_wine"
   ]
  },
  {
   "cell_type": "code",
   "execution_count": 89,
   "metadata": {},
   "outputs": [],
   "source": [
    "wine = load_wine().data"
   ]
  },
  {
   "cell_type": "code",
   "execution_count": 90,
   "metadata": {},
   "outputs": [],
   "source": [
    "wine_list = pd.DataFrame(wine, columns=load_wine().feature_names)"
   ]
  },
  {
   "cell_type": "code",
   "execution_count": 91,
   "metadata": {},
   "outputs": [],
   "source": [
    "wine_list[\"target\"] = load_wine().target"
   ]
  },
  {
   "cell_type": "code",
   "execution_count": 92,
   "metadata": {},
   "outputs": [
    {
     "data": {
      "text/plain": [
       "<matplotlib.axes._subplots.AxesSubplot at 0x1a4d171310>"
      ]
     },
     "execution_count": 92,
     "metadata": {},
     "output_type": "execute_result"
    },
    {
     "data": {
      "image/png": "[encoded data removed]",
      "text/plain": [
       "<Figure size 432x288 with 1 Axes>"
      ]
     },
     "metadata": {
      "needs_background": "light"
     },
     "output_type": "display_data"
    }
   ],
   "source": [
    "sns.countplot(x=\"target\", data=wine_list)"
   ]
  },
  {
   "cell_type": "code",
   "execution_count": 93,
   "metadata": {},
   "outputs": [],
   "source": [
    "### Training testing and splitting"
   ]
  },
  {
   "cell_type": "code",
   "execution_count": 94,
   "metadata": {},
   "outputs": [],
   "source": [
    "from sklearn.model_selection import train_test_split"
   ]
  },
  {
   "cell_type": "code",
   "execution_count": 95,
   "metadata": {},
   "outputs": [],
   "source": [
    "from tensorflow.keras.utils import to_categorical"
   ]
  },
  {
   "cell_type": "code",
   "execution_count": null,
   "metadata": {},
   "outputs": [],
   "source": []
  },
  {
   "cell_type": "code",
   "execution_count": 96,
   "metadata": {},
   "outputs": [],
   "source": [
    "X = wine_list.drop(\"target\", axis=1).values\n",
    "y = to_categorical(wine_list[\"target\"].values)"
   ]
  },
  {
   "cell_type": "code",
   "execution_count": 97,
   "metadata": {},
   "outputs": [],
   "source": [
    "X_train, X_test, y_train, y_test = train_test_split(X, y, test_size=0.34, random_state=100)"
   ]
  },
  {
   "cell_type": "markdown",
   "metadata": {},
   "source": [
    "#### Scaling the data "
   ]
  },
  {
   "cell_type": "code",
   "execution_count": 98,
   "metadata": {},
   "outputs": [],
   "source": [
    "from sklearn.preprocessing import MinMaxScaler"
   ]
  },
  {
   "cell_type": "code",
   "execution_count": 99,
   "metadata": {},
   "outputs": [],
   "source": [
    "scalar = MinMaxScaler()"
   ]
  },
  {
   "cell_type": "code",
   "execution_count": 100,
   "metadata": {},
   "outputs": [],
   "source": [
    "X_train = scalar.fit_transform(X_train)"
   ]
  },
  {
   "cell_type": "code",
   "execution_count": 101,
   "metadata": {},
   "outputs": [],
   "source": [
    "X_test = scalar.transform(X_test)"
   ]
  },
  {
   "cell_type": "code",
   "execution_count": 102,
   "metadata": {},
   "outputs": [
    {
     "data": {
      "text/plain": [
       "(117, 13)"
      ]
     },
     "execution_count": 102,
     "metadata": {},
     "output_type": "execute_result"
    }
   ],
   "source": [
    "X_train.shape"
   ]
  },
  {
   "cell_type": "code",
   "execution_count": 103,
   "metadata": {},
   "outputs": [
    {
     "data": {
      "text/plain": [
       "(117, 3)"
      ]
     },
     "execution_count": 103,
     "metadata": {},
     "output_type": "execute_result"
    }
   ],
   "source": [
    "y_train.shape"
   ]
  },
  {
   "cell_type": "markdown",
   "metadata": {},
   "source": [
    "### Model creation"
   ]
  },
  {
   "cell_type": "code",
   "execution_count": 104,
   "metadata": {},
   "outputs": [],
   "source": [
    "from tensorflow.keras.models import Sequential\n",
    "from tensorflow.keras.callbacks import EarlyStopping, TensorBoard\n",
    "from tensorflow.keras.layers import Dropout,Dense"
   ]
  },
  {
   "cell_type": "code",
   "execution_count": 105,
   "metadata": {},
   "outputs": [],
   "source": [
    "stop = EarlyStopping(monitor=\"val_loss\", mode = \"min\", patience=20)"
   ]
  },
  {
   "cell_type": "code",
   "execution_count": 106,
   "metadata": {},
   "outputs": [],
   "source": [
    "dir_path = \"logs/fit\"\n",
    "\n",
    "board = TensorBoard(  log_dir=dir_path,\n",
    "    histogram_freq=1,\n",
    "    write_graph=True,\n",
    "    write_images=True,\n",
    "    update_freq='epoch',\n",
    "    profile_batch=2,\n",
    "    embeddings_freq=0,\n",
    "    embeddings_metadata=None,)"
   ]
  },
  {
   "cell_type": "code",
   "execution_count": 107,
   "metadata": {},
   "outputs": [],
   "source": [
    "model = Sequential()\n",
    "model.add(Dense(units=20, activation = \"relu\"))\n",
    "model.add(Dense(units=10, activation = \"relu\"))\n",
    "model.add(Dense(units=10, activation = \"relu\"))\n",
    "model.add(Dense(units=8, activation = \"relu\"))\n",
    "model.add(Dense(units=3, activation = \"softmax\"))\n",
    "model.compile(loss = \"categorical_crossentropy\", optimizer = \"adam\", metrics=[\"accuracy\"])"
   ]
  },
  {
   "cell_type": "code",
   "execution_count": 108,
   "metadata": {},
   "outputs": [
    {
     "name": "stdout",
     "output_type": "stream",
     "text": [
      "Train on 117 samples, validate on 61 samples\n",
      "Epoch 1/200\n",
      "117/117 [==============================] - 1s 11ms/sample - loss: 1.0752 - accuracy: 0.3675 - val_loss: 1.0908 - val_accuracy: 0.2459\n",
      "Epoch 2/200\n",
      "117/117 [==============================] - 0s 1ms/sample - loss: 1.0685 - accuracy: 0.4701 - val_loss: 1.0900 - val_accuracy: 0.2951\n",
      "Epoch 3/200\n",
      "117/117 [==============================] - 0s 1ms/sample - loss: 1.0636 - accuracy: 0.4701 - val_loss: 1.0891 - val_accuracy: 0.2951\n",
      "Epoch 4/200\n",
      "117/117 [==============================] - 0s 1ms/sample - loss: 1.0566 - accuracy: 0.4701 - val_loss: 1.0866 - val_accuracy: 0.3115\n",
      "Epoch 5/200\n",
      "117/117 [==============================] - 0s 1ms/sample - loss: 1.0500 - accuracy: 0.5043 - val_loss: 1.0835 - val_accuracy: 0.3443\n",
      "Epoch 6/200\n",
      "117/117 [==============================] - 0s 1ms/sample - loss: 1.0430 - accuracy: 0.5470 - val_loss: 1.0803 - val_accuracy: 0.3770\n",
      "Epoch 7/200\n",
      "117/117 [==============================] - 0s 1ms/sample - loss: 1.0370 - accuracy: 0.5726 - val_loss: 1.0783 - val_accuracy: 0.3607\n",
      "Epoch 8/200\n",
      "117/117 [==============================] - 0s 1ms/sample - loss: 1.0286 - accuracy: 0.5897 - val_loss: 1.0747 - val_accuracy: 0.4262\n",
      "Epoch 9/200\n",
      "117/117 [==============================] - 0s 1ms/sample - loss: 1.0204 - accuracy: 0.6154 - val_loss: 1.0701 - val_accuracy: 0.4262\n",
      "Epoch 10/200\n",
      "117/117 [==============================] - 0s 1ms/sample - loss: 1.0117 - accuracy: 0.6239 - val_loss: 1.0654 - val_accuracy: 0.4426\n",
      "Epoch 11/200\n",
      "117/117 [==============================] - 0s 1ms/sample - loss: 1.0029 - accuracy: 0.6325 - val_loss: 1.0603 - val_accuracy: 0.4426\n",
      "Epoch 12/200\n",
      "117/117 [==============================] - 0s 1ms/sample - loss: 0.9944 - accuracy: 0.6154 - val_loss: 1.0557 - val_accuracy: 0.4426\n",
      "Epoch 13/200\n",
      "117/117 [==============================] - 0s 1ms/sample - loss: 0.9843 - accuracy: 0.5983 - val_loss: 1.0482 - val_accuracy: 0.4426\n",
      "Epoch 14/200\n",
      "117/117 [==============================] - 0s 2ms/sample - loss: 0.9725 - accuracy: 0.6068 - val_loss: 1.0351 - val_accuracy: 0.4426\n",
      "Epoch 15/200\n",
      "117/117 [==============================] - 0s 2ms/sample - loss: 0.9591 - accuracy: 0.6239 - val_loss: 1.0173 - val_accuracy: 0.4590\n",
      "Epoch 16/200\n",
      "117/117 [==============================] - 0s 1ms/sample - loss: 0.9445 - accuracy: 0.6752 - val_loss: 0.9954 - val_accuracy: 0.5082\n",
      "Epoch 17/200\n",
      "117/117 [==============================] - 0s 1ms/sample - loss: 0.9256 - accuracy: 0.7009 - val_loss: 0.9724 - val_accuracy: 0.5738\n",
      "Epoch 18/200\n",
      "117/117 [==============================] - 0s 1ms/sample - loss: 0.9060 - accuracy: 0.7350 - val_loss: 0.9443 - val_accuracy: 0.6066\n",
      "Epoch 19/200\n",
      "117/117 [==============================] - 0s 2ms/sample - loss: 0.8841 - accuracy: 0.7094 - val_loss: 0.9157 - val_accuracy: 0.6721\n",
      "Epoch 20/200\n",
      "117/117 [==============================] - 0s 1ms/sample - loss: 0.8607 - accuracy: 0.7607 - val_loss: 0.8813 - val_accuracy: 0.7377\n",
      "Epoch 21/200\n",
      "117/117 [==============================] - 0s 2ms/sample - loss: 0.8373 - accuracy: 0.8034 - val_loss: 0.8507 - val_accuracy: 0.7869\n",
      "Epoch 22/200\n",
      "117/117 [==============================] - 0s 2ms/sample - loss: 0.8142 - accuracy: 0.8120 - val_loss: 0.8233 - val_accuracy: 0.8361\n",
      "Epoch 23/200\n",
      "117/117 [==============================] - 0s 1ms/sample - loss: 0.7907 - accuracy: 0.8376 - val_loss: 0.7960 - val_accuracy: 0.8361\n",
      "Epoch 24/200\n",
      "117/117 [==============================] - 0s 1ms/sample - loss: 0.7682 - accuracy: 0.8547 - val_loss: 0.7675 - val_accuracy: 0.8361\n",
      "Epoch 25/200\n",
      "117/117 [==============================] - 0s 1ms/sample - loss: 0.7447 - accuracy: 0.8547 - val_loss: 0.7409 - val_accuracy: 0.8525\n",
      "Epoch 26/200\n",
      "117/117 [==============================] - 0s 2ms/sample - loss: 0.7200 - accuracy: 0.8462 - val_loss: 0.7199 - val_accuracy: 0.8361\n",
      "Epoch 27/200\n",
      "117/117 [==============================] - 0s 1ms/sample - loss: 0.6975 - accuracy: 0.8376 - val_loss: 0.6927 - val_accuracy: 0.8525\n",
      "Epoch 28/200\n",
      "117/117 [==============================] - 0s 1ms/sample - loss: 0.6741 - accuracy: 0.8376 - val_loss: 0.6631 - val_accuracy: 0.8525\n",
      "Epoch 29/200\n",
      "117/117 [==============================] - 0s 2ms/sample - loss: 0.6496 - accuracy: 0.8462 - val_loss: 0.6301 - val_accuracy: 0.8852\n",
      "Epoch 30/200\n",
      "117/117 [==============================] - 0s 2ms/sample - loss: 0.6264 - accuracy: 0.8462 - val_loss: 0.5995 - val_accuracy: 0.8852\n",
      "Epoch 31/200\n",
      "117/117 [==============================] - 0s 2ms/sample - loss: 0.6013 - accuracy: 0.8376 - val_loss: 0.5739 - val_accuracy: 0.8852\n",
      "Epoch 32/200\n",
      "117/117 [==============================] - 0s 2ms/sample - loss: 0.5782 - accuracy: 0.8376 - val_loss: 0.5464 - val_accuracy: 0.9016\n",
      "Epoch 33/200\n",
      "117/117 [==============================] - 0s 3ms/sample - loss: 0.5545 - accuracy: 0.8632 - val_loss: 0.5268 - val_accuracy: 0.9016\n",
      "Epoch 34/200\n",
      "117/117 [==============================] - 0s 1ms/sample - loss: 0.5337 - accuracy: 0.8718 - val_loss: 0.5070 - val_accuracy: 0.9180\n",
      "Epoch 35/200\n",
      "117/117 [==============================] - 0s 1ms/sample - loss: 0.5152 - accuracy: 0.8632 - val_loss: 0.4984 - val_accuracy: 0.8852\n",
      "Epoch 36/200\n",
      "117/117 [==============================] - 0s 1ms/sample - loss: 0.4940 - accuracy: 0.8632 - val_loss: 0.4751 - val_accuracy: 0.9344\n",
      "Epoch 37/200\n",
      "117/117 [==============================] - 0s 1ms/sample - loss: 0.4766 - accuracy: 0.8718 - val_loss: 0.4520 - val_accuracy: 0.9508\n",
      "Epoch 38/200\n",
      "117/117 [==============================] - 0s 1ms/sample - loss: 0.4583 - accuracy: 0.8718 - val_loss: 0.4337 - val_accuracy: 0.9508\n",
      "Epoch 39/200\n",
      "117/117 [==============================] - 0s 1ms/sample - loss: 0.4413 - accuracy: 0.8718 - val_loss: 0.4206 - val_accuracy: 0.9344\n",
      "Epoch 40/200\n",
      "117/117 [==============================] - 0s 1ms/sample - loss: 0.4251 - accuracy: 0.8718 - val_loss: 0.4057 - val_accuracy: 0.9344\n",
      "Epoch 41/200\n",
      "117/117 [==============================] - 0s 1ms/sample - loss: 0.4100 - accuracy: 0.8889 - val_loss: 0.3860 - val_accuracy: 0.9508\n",
      "Epoch 42/200\n",
      "117/117 [==============================] - 0s 1ms/sample - loss: 0.3949 - accuracy: 0.9060 - val_loss: 0.3749 - val_accuracy: 0.9508\n",
      "Epoch 43/200\n",
      "117/117 [==============================] - 0s 1ms/sample - loss: 0.3801 - accuracy: 0.9060 - val_loss: 0.3619 - val_accuracy: 0.9508\n",
      "Epoch 44/200\n",
      "117/117 [==============================] - 0s 1ms/sample - loss: 0.3662 - accuracy: 0.9145 - val_loss: 0.3551 - val_accuracy: 0.9508\n",
      "Epoch 45/200\n",
      "117/117 [==============================] - 0s 1ms/sample - loss: 0.3538 - accuracy: 0.9145 - val_loss: 0.3425 - val_accuracy: 0.9508\n",
      "Epoch 46/200\n",
      "117/117 [==============================] - 0s 1ms/sample - loss: 0.3404 - accuracy: 0.9145 - val_loss: 0.3209 - val_accuracy: 0.9672\n",
      "Epoch 47/200\n",
      "117/117 [==============================] - 0s 1ms/sample - loss: 0.3272 - accuracy: 0.9145 - val_loss: 0.3103 - val_accuracy: 0.9672\n",
      "Epoch 48/200\n",
      "117/117 [==============================] - 0s 1ms/sample - loss: 0.3167 - accuracy: 0.9145 - val_loss: 0.3059 - val_accuracy: 0.9344\n",
      "Epoch 49/200\n",
      "117/117 [==============================] - 0s 1ms/sample - loss: 0.3025 - accuracy: 0.9145 - val_loss: 0.2889 - val_accuracy: 0.9508\n",
      "Epoch 50/200\n",
      "117/117 [==============================] - 0s 1ms/sample - loss: 0.2905 - accuracy: 0.9145 - val_loss: 0.2732 - val_accuracy: 0.9672\n",
      "Epoch 51/200\n",
      "117/117 [==============================] - 0s 1ms/sample - loss: 0.2810 - accuracy: 0.9145 - val_loss: 0.2632 - val_accuracy: 0.9672\n",
      "Epoch 52/200\n",
      "117/117 [==============================] - 0s 1ms/sample - loss: 0.2710 - accuracy: 0.9145 - val_loss: 0.2583 - val_accuracy: 0.9672\n",
      "Epoch 53/200\n",
      "117/117 [==============================] - 0s 1ms/sample - loss: 0.2633 - accuracy: 0.9402 - val_loss: 0.2472 - val_accuracy: 0.9672\n",
      "Epoch 54/200\n",
      "117/117 [==============================] - 0s 2ms/sample - loss: 0.2552 - accuracy: 0.9316 - val_loss: 0.2487 - val_accuracy: 0.9508\n",
      "Epoch 55/200\n",
      "117/117 [==============================] - 0s 944us/sample - loss: 0.2442 - accuracy: 0.9316 - val_loss: 0.2383 - val_accuracy: 0.9508\n",
      "Epoch 56/200\n",
      "117/117 [==============================] - 0s 932us/sample - loss: 0.2352 - accuracy: 0.9402 - val_loss: 0.2275 - val_accuracy: 0.9508\n"
     ]
    },
    {
     "name": "stdout",
     "output_type": "stream",
     "text": [
      "Epoch 57/200\n",
      "117/117 [==============================] - 0s 1ms/sample - loss: 0.2270 - accuracy: 0.9402 - val_loss: 0.2203 - val_accuracy: 0.9508\n",
      "Epoch 58/200\n",
      "117/117 [==============================] - 0s 998us/sample - loss: 0.2207 - accuracy: 0.9402 - val_loss: 0.2112 - val_accuracy: 0.9672\n",
      "Epoch 59/200\n",
      "117/117 [==============================] - 0s 935us/sample - loss: 0.2133 - accuracy: 0.9402 - val_loss: 0.2137 - val_accuracy: 0.9508\n",
      "Epoch 60/200\n",
      "117/117 [==============================] - 0s 921us/sample - loss: 0.2059 - accuracy: 0.9402 - val_loss: 0.2059 - val_accuracy: 0.9508\n",
      "Epoch 61/200\n",
      "117/117 [==============================] - 0s 2ms/sample - loss: 0.1986 - accuracy: 0.9487 - val_loss: 0.1950 - val_accuracy: 0.9672\n",
      "Epoch 62/200\n",
      "117/117 [==============================] - 0s 1ms/sample - loss: 0.1925 - accuracy: 0.9487 - val_loss: 0.1888 - val_accuracy: 0.9672\n",
      "Epoch 63/200\n",
      "117/117 [==============================] - 0s 1ms/sample - loss: 0.1864 - accuracy: 0.9487 - val_loss: 0.1817 - val_accuracy: 0.9672\n",
      "Epoch 64/200\n",
      "117/117 [==============================] - 0s 2ms/sample - loss: 0.1805 - accuracy: 0.9487 - val_loss: 0.1801 - val_accuracy: 0.9672\n",
      "Epoch 65/200\n",
      "117/117 [==============================] - 0s 1ms/sample - loss: 0.1734 - accuracy: 0.9487 - val_loss: 0.1817 - val_accuracy: 0.9508\n",
      "Epoch 66/200\n",
      "117/117 [==============================] - 0s 1ms/sample - loss: 0.1699 - accuracy: 0.9658 - val_loss: 0.1838 - val_accuracy: 0.9508\n",
      "Epoch 67/200\n",
      "117/117 [==============================] - 0s 2ms/sample - loss: 0.1639 - accuracy: 0.9658 - val_loss: 0.1735 - val_accuracy: 0.9508\n",
      "Epoch 68/200\n",
      "117/117 [==============================] - 0s 1ms/sample - loss: 0.1595 - accuracy: 0.9487 - val_loss: 0.1636 - val_accuracy: 0.9508\n",
      "Epoch 69/200\n",
      "117/117 [==============================] - 0s 1ms/sample - loss: 0.1569 - accuracy: 0.9573 - val_loss: 0.1568 - val_accuracy: 0.9672\n",
      "Epoch 70/200\n",
      "117/117 [==============================] - 0s 2ms/sample - loss: 0.1480 - accuracy: 0.9658 - val_loss: 0.1644 - val_accuracy: 0.9508\n",
      "Epoch 71/200\n",
      "117/117 [==============================] - 0s 1ms/sample - loss: 0.1451 - accuracy: 0.9658 - val_loss: 0.1627 - val_accuracy: 0.9508\n",
      "Epoch 72/200\n",
      "117/117 [==============================] - 0s 1ms/sample - loss: 0.1408 - accuracy: 0.9658 - val_loss: 0.1549 - val_accuracy: 0.9672\n",
      "Epoch 73/200\n",
      "117/117 [==============================] - 0s 1ms/sample - loss: 0.1351 - accuracy: 0.9744 - val_loss: 0.1483 - val_accuracy: 0.9672\n",
      "Epoch 74/200\n",
      "117/117 [==============================] - 1s 4ms/sample - loss: 0.1309 - accuracy: 0.9744 - val_loss: 0.1466 - val_accuracy: 0.9672\n",
      "Epoch 75/200\n",
      "117/117 [==============================] - 0s 2ms/sample - loss: 0.1273 - accuracy: 0.9744 - val_loss: 0.1396 - val_accuracy: 0.9672\n",
      "Epoch 76/200\n",
      "117/117 [==============================] - 0s 1ms/sample - loss: 0.1231 - accuracy: 0.9744 - val_loss: 0.1441 - val_accuracy: 0.9508\n",
      "Epoch 77/200\n",
      "117/117 [==============================] - 0s 1ms/sample - loss: 0.1181 - accuracy: 0.9829 - val_loss: 0.1432 - val_accuracy: 0.9508\n",
      "Epoch 78/200\n",
      "117/117 [==============================] - 0s 1ms/sample - loss: 0.1145 - accuracy: 0.9829 - val_loss: 0.1392 - val_accuracy: 0.9508\n",
      "Epoch 79/200\n",
      "117/117 [==============================] - 0s 1ms/sample - loss: 0.1104 - accuracy: 0.9829 - val_loss: 0.1370 - val_accuracy: 0.9508\n",
      "Epoch 80/200\n",
      "117/117 [==============================] - 0s 1ms/sample - loss: 0.1067 - accuracy: 0.9829 - val_loss: 0.1318 - val_accuracy: 0.9508\n",
      "Epoch 81/200\n",
      "117/117 [==============================] - 0s 1ms/sample - loss: 0.1032 - accuracy: 0.9829 - val_loss: 0.1295 - val_accuracy: 0.9508\n",
      "Epoch 82/200\n",
      "117/117 [==============================] - 0s 975us/sample - loss: 0.0999 - accuracy: 0.9829 - val_loss: 0.1273 - val_accuracy: 0.9508\n",
      "Epoch 83/200\n",
      "117/117 [==============================] - 0s 1ms/sample - loss: 0.0973 - accuracy: 0.9829 - val_loss: 0.1248 - val_accuracy: 0.9508\n",
      "Epoch 84/200\n",
      "117/117 [==============================] - 0s 1ms/sample - loss: 0.0934 - accuracy: 0.9915 - val_loss: 0.1209 - val_accuracy: 0.9508\n",
      "Epoch 85/200\n",
      "117/117 [==============================] - 0s 1ms/sample - loss: 0.0903 - accuracy: 0.9915 - val_loss: 0.1184 - val_accuracy: 0.9508\n",
      "Epoch 86/200\n",
      "117/117 [==============================] - 0s 1ms/sample - loss: 0.0875 - accuracy: 0.9915 - val_loss: 0.1175 - val_accuracy: 0.9508\n",
      "Epoch 87/200\n",
      "117/117 [==============================] - 0s 1ms/sample - loss: 0.0853 - accuracy: 0.9915 - val_loss: 0.1177 - val_accuracy: 0.9508\n",
      "Epoch 88/200\n",
      "117/117 [==============================] - 0s 993us/sample - loss: 0.0822 - accuracy: 0.9915 - val_loss: 0.1154 - val_accuracy: 0.9508\n",
      "Epoch 89/200\n",
      "117/117 [==============================] - 0s 997us/sample - loss: 0.0794 - accuracy: 0.9915 - val_loss: 0.1116 - val_accuracy: 0.9508\n",
      "Epoch 90/200\n",
      "117/117 [==============================] - 0s 1ms/sample - loss: 0.0770 - accuracy: 0.9915 - val_loss: 0.1104 - val_accuracy: 0.9508\n",
      "Epoch 91/200\n",
      "117/117 [==============================] - 0s 1ms/sample - loss: 0.0746 - accuracy: 0.9915 - val_loss: 0.1097 - val_accuracy: 0.9508\n",
      "Epoch 92/200\n",
      "117/117 [==============================] - 0s 999us/sample - loss: 0.0725 - accuracy: 0.9915 - val_loss: 0.1119 - val_accuracy: 0.9508\n",
      "Epoch 93/200\n",
      "117/117 [==============================] - 0s 1ms/sample - loss: 0.0709 - accuracy: 0.9915 - val_loss: 0.1108 - val_accuracy: 0.9508\n",
      "Epoch 94/200\n",
      "117/117 [==============================] - 0s 1ms/sample - loss: 0.0682 - accuracy: 0.9915 - val_loss: 0.1091 - val_accuracy: 0.9508\n",
      "Epoch 95/200\n",
      "117/117 [==============================] - 0s 1ms/sample - loss: 0.0666 - accuracy: 0.9915 - val_loss: 0.1086 - val_accuracy: 0.9508\n",
      "Epoch 96/200\n",
      "117/117 [==============================] - 0s 1ms/sample - loss: 0.0643 - accuracy: 0.9915 - val_loss: 0.1008 - val_accuracy: 0.9508\n",
      "Epoch 97/200\n",
      "117/117 [==============================] - 0s 1ms/sample - loss: 0.0643 - accuracy: 0.9915 - val_loss: 0.0953 - val_accuracy: 0.9672\n",
      "Epoch 98/200\n",
      "117/117 [==============================] - 0s 986us/sample - loss: 0.0611 - accuracy: 0.9915 - val_loss: 0.1015 - val_accuracy: 0.9508\n",
      "Epoch 99/200\n",
      "117/117 [==============================] - 0s 1ms/sample - loss: 0.0595 - accuracy: 0.9915 - val_loss: 0.1069 - val_accuracy: 0.9508\n",
      "Epoch 100/200\n",
      "117/117 [==============================] - 0s 1ms/sample - loss: 0.0580 - accuracy: 0.9915 - val_loss: 0.1053 - val_accuracy: 0.9508\n",
      "Epoch 101/200\n",
      "117/117 [==============================] - 0s 1ms/sample - loss: 0.0553 - accuracy: 0.9915 - val_loss: 0.0965 - val_accuracy: 0.9508\n",
      "Epoch 102/200\n",
      "117/117 [==============================] - 0s 1ms/sample - loss: 0.0547 - accuracy: 0.9915 - val_loss: 0.0901 - val_accuracy: 0.9672\n",
      "Epoch 103/200\n",
      "117/117 [==============================] - 0s 1ms/sample - loss: 0.0530 - accuracy: 0.9915 - val_loss: 0.0928 - val_accuracy: 0.9672\n",
      "Epoch 104/200\n",
      "117/117 [==============================] - 0s 1ms/sample - loss: 0.0514 - accuracy: 0.9915 - val_loss: 0.0973 - val_accuracy: 0.9508\n",
      "Epoch 105/200\n",
      "117/117 [==============================] - 0s 1ms/sample - loss: 0.0505 - accuracy: 0.9915 - val_loss: 0.0983 - val_accuracy: 0.9508\n",
      "Epoch 106/200\n",
      "117/117 [==============================] - 0s 1ms/sample - loss: 0.0489 - accuracy: 0.9915 - val_loss: 0.0923 - val_accuracy: 0.9672\n",
      "Epoch 107/200\n",
      "117/117 [==============================] - 0s 1ms/sample - loss: 0.0472 - accuracy: 0.9915 - val_loss: 0.0900 - val_accuracy: 0.9672\n",
      "Epoch 108/200\n",
      "117/117 [==============================] - 0s 1ms/sample - loss: 0.0461 - accuracy: 0.9915 - val_loss: 0.0914 - val_accuracy: 0.9672\n",
      "Epoch 109/200\n",
      "117/117 [==============================] - 0s 1ms/sample - loss: 0.0450 - accuracy: 0.9915 - val_loss: 0.0909 - val_accuracy: 0.9672\n",
      "Epoch 110/200\n",
      "117/117 [==============================] - 0s 1ms/sample - loss: 0.0434 - accuracy: 0.9915 - val_loss: 0.0926 - val_accuracy: 0.9672\n",
      "Epoch 111/200\n",
      "117/117 [==============================] - 0s 1ms/sample - loss: 0.0428 - accuracy: 0.9915 - val_loss: 0.0951 - val_accuracy: 0.9672\n",
      "Epoch 112/200\n",
      "117/117 [==============================] - 0s 1ms/sample - loss: 0.0419 - accuracy: 0.9915 - val_loss: 0.0925 - val_accuracy: 0.9672\n"
     ]
    },
    {
     "name": "stdout",
     "output_type": "stream",
     "text": [
      "Epoch 113/200\n",
      "117/117 [==============================] - 0s 1ms/sample - loss: 0.0404 - accuracy: 0.9915 - val_loss: 0.0872 - val_accuracy: 0.9672\n",
      "Epoch 114/200\n",
      "117/117 [==============================] - 0s 1ms/sample - loss: 0.0398 - accuracy: 0.9915 - val_loss: 0.0840 - val_accuracy: 0.9672\n",
      "Epoch 115/200\n",
      "117/117 [==============================] - 0s 995us/sample - loss: 0.0385 - accuracy: 0.9915 - val_loss: 0.0864 - val_accuracy: 0.9672\n",
      "Epoch 116/200\n",
      "117/117 [==============================] - 0s 992us/sample - loss: 0.0377 - accuracy: 0.9915 - val_loss: 0.0880 - val_accuracy: 0.9672\n",
      "Epoch 117/200\n",
      "117/117 [==============================] - 0s 1ms/sample - loss: 0.0366 - accuracy: 0.9915 - val_loss: 0.0897 - val_accuracy: 0.9672\n",
      "Epoch 118/200\n",
      "117/117 [==============================] - 0s 1ms/sample - loss: 0.0360 - accuracy: 1.0000 - val_loss: 0.0912 - val_accuracy: 0.9672\n",
      "Epoch 119/200\n",
      "117/117 [==============================] - 0s 994us/sample - loss: 0.0349 - accuracy: 1.0000 - val_loss: 0.0882 - val_accuracy: 0.9672\n",
      "Epoch 120/200\n",
      "117/117 [==============================] - 0s 1ms/sample - loss: 0.0340 - accuracy: 1.0000 - val_loss: 0.0845 - val_accuracy: 0.9672\n",
      "Epoch 121/200\n",
      "117/117 [==============================] - 0s 1ms/sample - loss: 0.0333 - accuracy: 1.0000 - val_loss: 0.0814 - val_accuracy: 0.9672\n",
      "Epoch 122/200\n",
      "117/117 [==============================] - 0s 1ms/sample - loss: 0.0326 - accuracy: 1.0000 - val_loss: 0.0819 - val_accuracy: 0.9672\n",
      "Epoch 123/200\n",
      "117/117 [==============================] - 0s 1ms/sample - loss: 0.0317 - accuracy: 1.0000 - val_loss: 0.0840 - val_accuracy: 0.9672\n",
      "Epoch 124/200\n",
      "117/117 [==============================] - 0s 1ms/sample - loss: 0.0310 - accuracy: 1.0000 - val_loss: 0.0861 - val_accuracy: 0.9672\n",
      "Epoch 125/200\n",
      "117/117 [==============================] - 0s 1ms/sample - loss: 0.0303 - accuracy: 1.0000 - val_loss: 0.0838 - val_accuracy: 0.9672\n",
      "Epoch 126/200\n",
      "117/117 [==============================] - 0s 1ms/sample - loss: 0.0295 - accuracy: 1.0000 - val_loss: 0.0793 - val_accuracy: 0.9672\n",
      "Epoch 127/200\n",
      "117/117 [==============================] - 0s 1ms/sample - loss: 0.0292 - accuracy: 1.0000 - val_loss: 0.0760 - val_accuracy: 0.9672\n",
      "Epoch 128/200\n",
      "117/117 [==============================] - 0s 1ms/sample - loss: 0.0282 - accuracy: 1.0000 - val_loss: 0.0780 - val_accuracy: 0.9672\n",
      "Epoch 129/200\n",
      "117/117 [==============================] - 0s 1ms/sample - loss: 0.0276 - accuracy: 1.0000 - val_loss: 0.0835 - val_accuracy: 0.9508\n",
      "Epoch 130/200\n",
      "117/117 [==============================] - 0s 1ms/sample - loss: 0.0270 - accuracy: 1.0000 - val_loss: 0.0861 - val_accuracy: 0.9508\n",
      "Epoch 131/200\n",
      "117/117 [==============================] - 0s 1ms/sample - loss: 0.0265 - accuracy: 1.0000 - val_loss: 0.0828 - val_accuracy: 0.9508\n",
      "Epoch 132/200\n",
      "117/117 [==============================] - 0s 1ms/sample - loss: 0.0258 - accuracy: 1.0000 - val_loss: 0.0813 - val_accuracy: 0.9508\n",
      "Epoch 133/200\n",
      "117/117 [==============================] - 0s 1ms/sample - loss: 0.0252 - accuracy: 1.0000 - val_loss: 0.0791 - val_accuracy: 0.9508\n",
      "Epoch 134/200\n",
      "117/117 [==============================] - 0s 1ms/sample - loss: 0.0246 - accuracy: 1.0000 - val_loss: 0.0808 - val_accuracy: 0.9508\n",
      "Epoch 135/200\n",
      "117/117 [==============================] - 0s 1ms/sample - loss: 0.0240 - accuracy: 1.0000 - val_loss: 0.0817 - val_accuracy: 0.9508\n",
      "Epoch 136/200\n",
      "117/117 [==============================] - 0s 991us/sample - loss: 0.0235 - accuracy: 1.0000 - val_loss: 0.0793 - val_accuracy: 0.9508\n",
      "Epoch 137/200\n",
      "117/117 [==============================] - 0s 1ms/sample - loss: 0.0230 - accuracy: 1.0000 - val_loss: 0.0746 - val_accuracy: 0.9508\n",
      "Epoch 138/200\n",
      "117/117 [==============================] - 0s 978us/sample - loss: 0.0224 - accuracy: 1.0000 - val_loss: 0.0737 - val_accuracy: 0.9508\n",
      "Epoch 139/200\n",
      "117/117 [==============================] - 0s 996us/sample - loss: 0.0219 - accuracy: 1.0000 - val_loss: 0.0754 - val_accuracy: 0.9508\n",
      "Epoch 140/200\n",
      "117/117 [==============================] - 0s 981us/sample - loss: 0.0214 - accuracy: 1.0000 - val_loss: 0.0764 - val_accuracy: 0.9508\n",
      "Epoch 141/200\n",
      "117/117 [==============================] - 0s 984us/sample - loss: 0.0209 - accuracy: 1.0000 - val_loss: 0.0775 - val_accuracy: 0.9508\n",
      "Epoch 142/200\n",
      "117/117 [==============================] - 0s 985us/sample - loss: 0.0205 - accuracy: 1.0000 - val_loss: 0.0794 - val_accuracy: 0.9508\n",
      "Epoch 143/200\n",
      "117/117 [==============================] - 0s 986us/sample - loss: 0.0201 - accuracy: 1.0000 - val_loss: 0.0800 - val_accuracy: 0.9672\n",
      "Epoch 144/200\n",
      "117/117 [==============================] - 0s 1ms/sample - loss: 0.0202 - accuracy: 1.0000 - val_loss: 0.0747 - val_accuracy: 0.9508\n",
      "Epoch 145/200\n",
      "117/117 [==============================] - 0s 1ms/sample - loss: 0.0192 - accuracy: 1.0000 - val_loss: 0.0744 - val_accuracy: 0.9508\n",
      "Epoch 146/200\n",
      "117/117 [==============================] - 0s 1ms/sample - loss: 0.0186 - accuracy: 1.0000 - val_loss: 0.0766 - val_accuracy: 0.9508\n",
      "Epoch 147/200\n",
      "117/117 [==============================] - 0s 1ms/sample - loss: 0.0184 - accuracy: 1.0000 - val_loss: 0.0796 - val_accuracy: 0.9508\n",
      "Epoch 148/200\n",
      "117/117 [==============================] - 0s 2ms/sample - loss: 0.0181 - accuracy: 1.0000 - val_loss: 0.0803 - val_accuracy: 0.9672\n",
      "Epoch 149/200\n",
      "117/117 [==============================] - 0s 2ms/sample - loss: 0.0176 - accuracy: 1.0000 - val_loss: 0.0764 - val_accuracy: 0.9672\n",
      "Epoch 150/200\n",
      "117/117 [==============================] - 0s 1ms/sample - loss: 0.0172 - accuracy: 1.0000 - val_loss: 0.0746 - val_accuracy: 0.9508\n",
      "Epoch 151/200\n",
      "117/117 [==============================] - 0s 1ms/sample - loss: 0.0167 - accuracy: 1.0000 - val_loss: 0.0723 - val_accuracy: 0.9508\n",
      "Epoch 152/200\n",
      "117/117 [==============================] - 0s 1ms/sample - loss: 0.0165 - accuracy: 1.0000 - val_loss: 0.0694 - val_accuracy: 0.9508\n",
      "Epoch 153/200\n",
      "117/117 [==============================] - 0s 1ms/sample - loss: 0.0163 - accuracy: 1.0000 - val_loss: 0.0698 - val_accuracy: 0.9508\n",
      "Epoch 154/200\n",
      "117/117 [==============================] - 0s 966us/sample - loss: 0.0159 - accuracy: 1.0000 - val_loss: 0.0712 - val_accuracy: 0.9508\n",
      "Epoch 155/200\n",
      "117/117 [==============================] - 0s 2ms/sample - loss: 0.0156 - accuracy: 1.0000 - val_loss: 0.0728 - val_accuracy: 0.9508\n",
      "Epoch 156/200\n",
      "117/117 [==============================] - 0s 2ms/sample - loss: 0.0152 - accuracy: 1.0000 - val_loss: 0.0740 - val_accuracy: 0.9672\n",
      "Epoch 157/200\n",
      "117/117 [==============================] - 0s 2ms/sample - loss: 0.0151 - accuracy: 1.0000 - val_loss: 0.0751 - val_accuracy: 0.9672\n",
      "Epoch 158/200\n",
      "117/117 [==============================] - 0s 1ms/sample - loss: 0.0145 - accuracy: 1.0000 - val_loss: 0.0725 - val_accuracy: 0.9672\n",
      "Epoch 159/200\n",
      "117/117 [==============================] - 0s 2ms/sample - loss: 0.0144 - accuracy: 1.0000 - val_loss: 0.0703 - val_accuracy: 0.9508\n",
      "Epoch 160/200\n",
      "117/117 [==============================] - 0s 954us/sample - loss: 0.0140 - accuracy: 1.0000 - val_loss: 0.0699 - val_accuracy: 0.9508\n",
      "Epoch 161/200\n",
      "117/117 [==============================] - 0s 892us/sample - loss: 0.0137 - accuracy: 1.0000 - val_loss: 0.0710 - val_accuracy: 0.9672\n",
      "Epoch 162/200\n",
      "117/117 [==============================] - 0s 918us/sample - loss: 0.0136 - accuracy: 1.0000 - val_loss: 0.0717 - val_accuracy: 0.9672\n",
      "Epoch 163/200\n",
      "117/117 [==============================] - 0s 1ms/sample - loss: 0.0132 - accuracy: 1.0000 - val_loss: 0.0702 - val_accuracy: 0.9672\n",
      "Epoch 164/200\n",
      "117/117 [==============================] - 0s 1ms/sample - loss: 0.0130 - accuracy: 1.0000 - val_loss: 0.0685 - val_accuracy: 0.9508\n",
      "Epoch 165/200\n",
      "117/117 [==============================] - 0s 1ms/sample - loss: 0.0127 - accuracy: 1.0000 - val_loss: 0.0696 - val_accuracy: 0.9672\n",
      "Epoch 166/200\n",
      "117/117 [==============================] - 0s 968us/sample - loss: 0.0124 - accuracy: 1.0000 - val_loss: 0.0704 - val_accuracy: 0.9672\n",
      "Epoch 167/200\n",
      "117/117 [==============================] - 0s 1ms/sample - loss: 0.0122 - accuracy: 1.0000 - val_loss: 0.0701 - val_accuracy: 0.9672\n",
      "Epoch 168/200\n"
     ]
    },
    {
     "name": "stdout",
     "output_type": "stream",
     "text": [
      "117/117 [==============================] - 0s 2ms/sample - loss: 0.0121 - accuracy: 1.0000 - val_loss: 0.0730 - val_accuracy: 0.9672\n",
      "Epoch 169/200\n",
      "117/117 [==============================] - 0s 1ms/sample - loss: 0.0118 - accuracy: 1.0000 - val_loss: 0.0720 - val_accuracy: 0.9672\n",
      "Epoch 170/200\n",
      "117/117 [==============================] - 0s 928us/sample - loss: 0.0116 - accuracy: 1.0000 - val_loss: 0.0694 - val_accuracy: 0.9672\n",
      "Epoch 171/200\n",
      "117/117 [==============================] - 0s 2ms/sample - loss: 0.0113 - accuracy: 1.0000 - val_loss: 0.0709 - val_accuracy: 0.9672\n",
      "Epoch 172/200\n",
      "117/117 [==============================] - 0s 1ms/sample - loss: 0.0112 - accuracy: 1.0000 - val_loss: 0.0713 - val_accuracy: 0.9672\n",
      "Epoch 173/200\n",
      "117/117 [==============================] - 0s 892us/sample - loss: 0.0109 - accuracy: 1.0000 - val_loss: 0.0699 - val_accuracy: 0.9672\n",
      "Epoch 174/200\n",
      "117/117 [==============================] - 0s 1000us/sample - loss: 0.0108 - accuracy: 1.0000 - val_loss: 0.0709 - val_accuracy: 0.9672\n",
      "Epoch 175/200\n",
      "117/117 [==============================] - 0s 2ms/sample - loss: 0.0105 - accuracy: 1.0000 - val_loss: 0.0709 - val_accuracy: 0.9672\n",
      "Epoch 176/200\n",
      "117/117 [==============================] - 0s 1ms/sample - loss: 0.0104 - accuracy: 1.0000 - val_loss: 0.0714 - val_accuracy: 0.9672\n",
      "Epoch 177/200\n",
      "117/117 [==============================] - 0s 1ms/sample - loss: 0.0101 - accuracy: 1.0000 - val_loss: 0.0672 - val_accuracy: 0.9672\n",
      "Epoch 178/200\n",
      "117/117 [==============================] - 0s 1ms/sample - loss: 0.0101 - accuracy: 1.0000 - val_loss: 0.0643 - val_accuracy: 0.9508\n",
      "Epoch 179/200\n",
      "117/117 [==============================] - 0s 1ms/sample - loss: 0.0099 - accuracy: 1.0000 - val_loss: 0.0666 - val_accuracy: 0.9672\n",
      "Epoch 180/200\n",
      "117/117 [==============================] - 0s 1ms/sample - loss: 0.0096 - accuracy: 1.0000 - val_loss: 0.0683 - val_accuracy: 0.9672\n",
      "Epoch 181/200\n",
      "117/117 [==============================] - 0s 1ms/sample - loss: 0.0094 - accuracy: 1.0000 - val_loss: 0.0690 - val_accuracy: 0.9672\n",
      "Epoch 182/200\n",
      "117/117 [==============================] - 0s 1ms/sample - loss: 0.0093 - accuracy: 1.0000 - val_loss: 0.0701 - val_accuracy: 0.9672\n",
      "Epoch 183/200\n",
      "117/117 [==============================] - 0s 1ms/sample - loss: 0.0091 - accuracy: 1.0000 - val_loss: 0.0691 - val_accuracy: 0.9672\n",
      "Epoch 184/200\n",
      "117/117 [==============================] - 0s 2ms/sample - loss: 0.0089 - accuracy: 1.0000 - val_loss: 0.0687 - val_accuracy: 0.9672\n",
      "Epoch 185/200\n",
      "117/117 [==============================] - 0s 2ms/sample - loss: 0.0088 - accuracy: 1.0000 - val_loss: 0.0683 - val_accuracy: 0.9672\n",
      "Epoch 186/200\n",
      "117/117 [==============================] - 0s 2ms/sample - loss: 0.0087 - accuracy: 1.0000 - val_loss: 0.0683 - val_accuracy: 0.9672\n",
      "Epoch 187/200\n",
      "117/117 [==============================] - 0s 1ms/sample - loss: 0.0085 - accuracy: 1.0000 - val_loss: 0.0677 - val_accuracy: 0.9672\n",
      "Epoch 188/200\n",
      "117/117 [==============================] - 0s 2ms/sample - loss: 0.0084 - accuracy: 1.0000 - val_loss: 0.0676 - val_accuracy: 0.9672\n",
      "Epoch 189/200\n",
      "117/117 [==============================] - 0s 2ms/sample - loss: 0.0083 - accuracy: 1.0000 - val_loss: 0.0671 - val_accuracy: 0.9672\n",
      "Epoch 190/200\n",
      "117/117 [==============================] - 0s 2ms/sample - loss: 0.0081 - accuracy: 1.0000 - val_loss: 0.0683 - val_accuracy: 0.9672\n",
      "Epoch 191/200\n",
      "117/117 [==============================] - 0s 1ms/sample - loss: 0.0080 - accuracy: 1.0000 - val_loss: 0.0690 - val_accuracy: 0.9672\n",
      "Epoch 192/200\n",
      "117/117 [==============================] - 0s 1ms/sample - loss: 0.0079 - accuracy: 1.0000 - val_loss: 0.0685 - val_accuracy: 0.9672\n",
      "Epoch 193/200\n",
      "117/117 [==============================] - 0s 2ms/sample - loss: 0.0078 - accuracy: 1.0000 - val_loss: 0.0676 - val_accuracy: 0.9672\n",
      "Epoch 194/200\n",
      "117/117 [==============================] - 0s 2ms/sample - loss: 0.0076 - accuracy: 1.0000 - val_loss: 0.0662 - val_accuracy: 0.9672\n",
      "Epoch 195/200\n",
      "117/117 [==============================] - 0s 2ms/sample - loss: 0.0075 - accuracy: 1.0000 - val_loss: 0.0653 - val_accuracy: 0.9672\n",
      "Epoch 196/200\n",
      "117/117 [==============================] - 0s 2ms/sample - loss: 0.0074 - accuracy: 1.0000 - val_loss: 0.0637 - val_accuracy: 0.9672\n",
      "Epoch 197/200\n",
      "117/117 [==============================] - 0s 1ms/sample - loss: 0.0073 - accuracy: 1.0000 - val_loss: 0.0646 - val_accuracy: 0.9672\n",
      "Epoch 198/200\n",
      "117/117 [==============================] - 0s 1ms/sample - loss: 0.0072 - accuracy: 1.0000 - val_loss: 0.0664 - val_accuracy: 0.9672\n",
      "Epoch 199/200\n",
      "117/117 [==============================] - 0s 1ms/sample - loss: 0.0071 - accuracy: 1.0000 - val_loss: 0.0677 - val_accuracy: 0.9672\n",
      "Epoch 200/200\n",
      "117/117 [==============================] - 0s 1ms/sample - loss: 0.0070 - accuracy: 1.0000 - val_loss: 0.0668 - val_accuracy: 0.9672\n"
     ]
    },
    {
     "data": {
      "text/plain": [
       "<tensorflow.python.keras.callbacks.History at 0x1a4d8b9d50>"
      ]
     },
     "execution_count": 108,
     "metadata": {},
     "output_type": "execute_result"
    }
   ],
   "source": [
    "model.fit(X_train,y_train, validation_data=(X_test,y_test), epochs=200, callbacks=[stop,board])"
   ]
  },
  {
   "cell_type": "code",
   "execution_count": 109,
   "metadata": {},
   "outputs": [],
   "source": [
    "metrics = pd.DataFrame(model.history.history)"
   ]
  },
  {
   "cell_type": "code",
   "execution_count": 110,
   "metadata": {},
   "outputs": [
    {
     "data": {
      "text/plain": [
       "<matplotlib.axes._subplots.AxesSubplot at 0x1a4d3537d0>"
      ]
     },
     "execution_count": 110,
     "metadata": {},
     "output_type": "execute_result"
    },
    {
     "data": {
      "image/png": "[encoded data removed]",
      "text/plain": [
       "<Figure size 432x288 with 1 Axes>"
      ]
     },
     "metadata": {
      "needs_background": "light"
     },
     "output_type": "display_data"
    }
   ],
   "source": [
    "metrics[[\"loss\", \"val_loss\"]].plot()"
   ]
  },
  {
   "cell_type": "code",
   "execution_count": 111,
   "metadata": {},
   "outputs": [
    {
     "data": {
      "text/plain": [
       "<matplotlib.axes._subplots.AxesSubplot at 0x1a4e01de50>"
      ]
     },
     "execution_count": 111,
     "metadata": {},
     "output_type": "execute_result"
    },
    {
     "data": {
      "image/png": "[encoded data removed]",
      "text/plain": [
       "<Figure size 432x288 with 1 Axes>"
      ]
     },
     "metadata": {
      "needs_background": "light"
     },
     "output_type": "display_data"
    }
   ],
   "source": [
    "metrics[[\"accuracy\", \"val_accuracy\"]].plot()"
   ]
  },
  {
   "cell_type": "code",
   "execution_count": 112,
   "metadata": {},
   "outputs": [],
   "source": [
    "predicitons = model.predict_classes(X_test)"
   ]
  },
  {
   "cell_type": "code",
   "execution_count": 113,
   "metadata": {},
   "outputs": [],
   "source": [
    "y_test_converted = np.argmax(y_test, axis = 1)"
   ]
  },
  {
   "cell_type": "code",
   "execution_count": 114,
   "metadata": {},
   "outputs": [
    {
     "data": {
      "text/plain": [
       "61"
      ]
     },
     "execution_count": 114,
     "metadata": {},
     "output_type": "execute_result"
    }
   ],
   "source": [
    "len(y_test_converted)"
   ]
  },
  {
   "cell_type": "code",
   "execution_count": 115,
   "metadata": {},
   "outputs": [
    {
     "data": {
      "text/plain": [
       "61"
      ]
     },
     "execution_count": 115,
     "metadata": {},
     "output_type": "execute_result"
    }
   ],
   "source": [
    "len(predicitons)"
   ]
  },
  {
   "cell_type": "code",
   "execution_count": 116,
   "metadata": {},
   "outputs": [],
   "source": [
    "from sklearn.metrics import classification_report, confusion_matrix, explained_variance_score"
   ]
  },
  {
   "cell_type": "code",
   "execution_count": 117,
   "metadata": {},
   "outputs": [
    {
     "name": "stdout",
     "output_type": "stream",
     "text": [
      "              precision    recall  f1-score   support\n",
      "\n",
      "           0       1.00      1.00      1.00        16\n",
      "           1       0.92      1.00      0.96        22\n",
      "           2       1.00      0.91      0.95        23\n",
      "\n",
      "    accuracy                           0.97        61\n",
      "   macro avg       0.97      0.97      0.97        61\n",
      "weighted avg       0.97      0.97      0.97        61\n",
      "\n"
     ]
    }
   ],
   "source": [
    "print(classification_report(y_test_converted, predicitons))"
   ]
  },
  {
   "cell_type": "code",
   "execution_count": 118,
   "metadata": {},
   "outputs": [
    {
     "name": "stdout",
     "output_type": "stream",
     "text": [
      "[[16  0  0]\n",
      " [ 0 22  0]\n",
      " [ 0  2 21]]\n"
     ]
    }
   ],
   "source": [
    "print(confusion_matrix(y_test_converted, predicitons))"
   ]
  },
  {
   "cell_type": "code",
   "execution_count": 119,
   "metadata": {},
   "outputs": [
    {
     "name": "stdout",
     "output_type": "stream",
     "text": [
      "0.9493562231759657\n"
     ]
    }
   ],
   "source": [
    "print(explained_variance_score(y_test_converted,predicitons))"
   ]
  },
  {
   "cell_type": "markdown",
   "metadata": {},
   "source": [
    "### Testing on random Data"
   ]
  },
  {
   "cell_type": "code",
   "execution_count": 120,
   "metadata": {},
   "outputs": [],
   "source": [
    "from random import randint\n",
    "random_index = randint(1,len(wine_list))\n",
    "rand_wine_selection = wine_list.drop(\"target\", axis=1).iloc[random_index]"
   ]
  },
  {
   "cell_type": "code",
   "execution_count": 121,
   "metadata": {},
   "outputs": [
    {
     "data": {
      "text/plain": [
       "(117, 13)"
      ]
     },
     "execution_count": 121,
     "metadata": {},
     "output_type": "execute_result"
    }
   ],
   "source": [
    "X_train.shape"
   ]
  },
  {
   "cell_type": "code",
   "execution_count": 122,
   "metadata": {},
   "outputs": [],
   "source": [
    "new_wine = scalar.transform(rand_wine_selection.values.reshape(1,13))"
   ]
  },
  {
   "cell_type": "code",
   "execution_count": 123,
   "metadata": {},
   "outputs": [
    {
     "data": {
      "text/plain": [
       "array([1])"
      ]
     },
     "execution_count": 123,
     "metadata": {},
     "output_type": "execute_result"
    }
   ],
   "source": [
    "model.predict_classes(new_wine)"
   ]
  },
  {
   "cell_type": "code",
   "execution_count": 124,
   "metadata": {},
   "outputs": [
    {
     "data": {
      "text/plain": [
       "1.0"
      ]
     },
     "execution_count": 124,
     "metadata": {},
     "output_type": "execute_result"
    }
   ],
   "source": [
    "wine_list.iloc[random_index][\"target\"]"
   ]
  },
  {
   "cell_type": "code",
   "execution_count": 125,
   "metadata": {},
   "outputs": [
    {
     "data": {
      "text/plain": [
       "'/Users/berkatbhatti/Desktop/Python/Portfolio/Artificial Neural Networks/WineClassification'"
      ]
     },
     "execution_count": 125,
     "metadata": {},
     "output_type": "execute_result"
    }
   ],
   "source": [
    "pwd"
   ]
  },
  {
   "cell_type": "code",
   "execution_count": null,
   "metadata": {},
   "outputs": [],
   "source": []
  }
 ],
 "metadata": {
  "kernelspec": {
   "display_name": "Python 3",
   "language": "python",
   "name": "python3"
  },
  "language_info": {
   "codemirror_mode": {
    "name": "ipython",
    "version": 3
   },
   "file_extension": ".py",
   "mimetype": "text/x-python",
   "name": "python",
   "nbconvert_exporter": "python",
   "pygments_lexer": "ipython3",
   "version": "3.7.6"
  }
 },
 "nbformat": 4,
 "nbformat_minor": 4
}
