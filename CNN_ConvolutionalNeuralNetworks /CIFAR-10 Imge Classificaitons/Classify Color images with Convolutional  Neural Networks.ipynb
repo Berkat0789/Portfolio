{
 "cells": [
  {
   "cell_type": "markdown",
   "metadata": {},
   "source": [
    "## Project Overview\n",
    "- you are assigned to classify images from Keras CIFAR data set\n",
    "- The images in this data set are colored and are in are of different objects, Cats, Dogs, planes etc.\n",
    "- Create a convolutional Neural Network that will accurately classfiy and predict these images\n",
    "- Becauce of a long training process use an AWS clous computing instance to train this model. \n",
    "- Save the model once you feel the accuracy is resonable "
   ]
  },
  {
   "cell_type": "markdown",
   "metadata": {},
   "source": [
    "## Project Approach \n",
    "- Import data from keras library\n",
    "- Scale the data to a normal distribution \n",
    "- One hot incode the labels for the images \n",
    "- Reshpe the train and test data \n",
    "- Create the model setting padding,kernal size, stride size ,and proper input shape \n",
    "- Rememr to flatten the images for the model\n",
    "- Get the matrics on the model after saving as well as test on a new image"
   ]
  },
  {
   "cell_type": "code",
   "execution_count": 1,
   "metadata": {},
   "outputs": [],
   "source": [
    "import pandas as pd \n",
    "import numpy as np \n",
    "import seaborn as sns\n",
    "import matplotlib.pyplot as plt"
   ]
  },
  {
   "cell_type": "markdown",
   "metadata": {},
   "source": [
    "### Importing Data"
   ]
  },
  {
   "cell_type": "code",
   "execution_count": 2,
   "metadata": {},
   "outputs": [],
   "source": [
    "from tensorflow.keras.datasets import cifar10"
   ]
  },
  {
   "cell_type": "code",
   "execution_count": 3,
   "metadata": {},
   "outputs": [],
   "source": [
    "(x_train, y_train), (x_test, y_test) = cifar10.load_data()"
   ]
  },
  {
   "cell_type": "markdown",
   "metadata": {},
   "source": [
    "## Shape observaiton \n",
    "- we have 60,0000 images total\n",
    "- color dimentions are 3 due to color images\n",
    "- the dimntions are accurate so we will not need to reshape these images"
   ]
  },
  {
   "cell_type": "code",
   "execution_count": 4,
   "metadata": {},
   "outputs": [
    {
     "data": {
      "text/plain": [
       "(50000, 32, 32, 3)"
      ]
     },
     "execution_count": 4,
     "metadata": {},
     "output_type": "execute_result"
    }
   ],
   "source": [
    "x_train.shape"
   ]
  },
  {
   "cell_type": "code",
   "execution_count": 5,
   "metadata": {},
   "outputs": [
    {
     "data": {
      "text/plain": [
       "(10000, 32, 32, 3)"
      ]
     },
     "execution_count": 5,
     "metadata": {},
     "output_type": "execute_result"
    }
   ],
   "source": [
    "x_test.shape"
   ]
  },
  {
   "cell_type": "markdown",
   "metadata": {},
   "source": [
    "## Scaling the images \n",
    "- Normalize the images \n",
    "- The images will range between 0 and 255 in color so we wil ned this number to normalize the images\n",
    "- we will see that the dimentions do not change\n",
    "- The image will also still be the same using a normalized distribution"
   ]
  },
  {
   "cell_type": "code",
   "execution_count": 6,
   "metadata": {},
   "outputs": [],
   "source": [
    "x_train = x_train/255"
   ]
  },
  {
   "cell_type": "code",
   "execution_count": 7,
   "metadata": {},
   "outputs": [],
   "source": [
    "x_test = x_test/255"
   ]
  },
  {
   "cell_type": "code",
   "execution_count": 8,
   "metadata": {},
   "outputs": [
    {
     "data": {
      "text/plain": [
       "(50000, 32, 32, 3)"
      ]
     },
     "execution_count": 8,
     "metadata": {},
     "output_type": "execute_result"
    }
   ],
   "source": [
    "x_train.shape"
   ]
  },
  {
   "cell_type": "code",
   "execution_count": 9,
   "metadata": {},
   "outputs": [
    {
     "data": {
      "text/plain": [
       "<matplotlib.image.AxesImage at 0x7fc6225ec950>"
      ]
     },
     "execution_count": 9,
     "metadata": {},
     "output_type": "execute_result"
    },
    {
     "data": {
      "image/png": "[encoded data removed]",
      "text/plain": [
       "<Figure size 432x288 with 1 Axes>"
      ]
     },
     "metadata": {
      "needs_background": "light"
     },
     "output_type": "display_data"
    }
   ],
   "source": [
    "plt.imshow(x_train[1])"
   ]
  },
  {
   "cell_type": "markdown",
   "metadata": {},
   "source": [
    "### Lets one hot encode the labels\n",
    "- This will prevent our model from confusing the classification values from a continuous value\n",
    "- we have 10 unique labels -> do images -> hense cifar-10 name for data set"
   ]
  },
  {
   "cell_type": "code",
   "execution_count": 10,
   "metadata": {},
   "outputs": [],
   "source": [
    "from tensorflow.keras.utils import to_categorical"
   ]
  },
  {
   "cell_type": "code",
   "execution_count": 11,
   "metadata": {},
   "outputs": [],
   "source": [
    "y_cat_train = to_categorical(y_train)"
   ]
  },
  {
   "cell_type": "code",
   "execution_count": 12,
   "metadata": {},
   "outputs": [
    {
     "data": {
      "text/plain": [
       "(50000, 10)"
      ]
     },
     "execution_count": 12,
     "metadata": {},
     "output_type": "execute_result"
    }
   ],
   "source": [
    "y_cat_train.shape"
   ]
  },
  {
   "cell_type": "code",
   "execution_count": 13,
   "metadata": {},
   "outputs": [],
   "source": [
    "y_cat_test = to_categorical(y_test)"
   ]
  },
  {
   "cell_type": "markdown",
   "metadata": {},
   "source": [
    "#### Creating the Model "
   ]
  },
  {
   "cell_type": "code",
   "execution_count": 14,
   "metadata": {},
   "outputs": [],
   "source": [
    "from tensorflow.keras.models import Sequential\n",
    "from tensorflow.keras.layers import Dense, MaxPool2D,Conv2D, Flatten\n",
    "from tensorflow.keras.callbacks import EarlyStopping"
   ]
  },
  {
   "cell_type": "markdown",
   "metadata": {},
   "source": [
    "## Early Stopping\n",
    "- Used to prevent over training"
   ]
  },
  {
   "cell_type": "code",
   "execution_count": 15,
   "metadata": {},
   "outputs": [
    {
     "data": {
      "text/plain": [
       "3072"
      ]
     },
     "execution_count": 15,
     "metadata": {},
     "output_type": "execute_result"
    }
   ],
   "source": [
    "32 *32*3"
   ]
  },
  {
   "cell_type": "code",
   "execution_count": 16,
   "metadata": {},
   "outputs": [],
   "source": [
    "stop = EarlyStopping(monitor=\"val_loss\", mode = \"min\", patience=5)"
   ]
  },
  {
   "cell_type": "code",
   "execution_count": 17,
   "metadata": {},
   "outputs": [],
   "source": [
    "model = Sequential()\n",
    "model.add(Conv2D(filters = 64, kernel_size = (2,2), padding = \"valid\",\n",
    "                strides = (1,1), input_shape = (32,32,3), activation = \"relu\"))\n",
    "model.add(MaxPool2D(pool_size = (2,2)))\n",
    "model.add(Conv2D(filters = 64, kernel_size = (2,2), padding = \"valid\",\n",
    "                strides = (1,1), input_shape = (31,31,3), activation = \"relu\"))\n",
    "model.add(MaxPool2D(pool_size = (2,2)))\n",
    "model.add(Flatten())\n",
    "model.add(Dense(units = 400, activation = \"relu\"))\n",
    "model.add(Dense (units = 10, activation = \"softmax\"))\n",
    "model.compile(loss = \"categorical_crossentropy\", optimizer = \"adam\", metrics = [\"accuracy\"])"
   ]
  },
  {
   "cell_type": "markdown",
   "metadata": {},
   "source": [
    "### Fitting Model\n",
    "- Will use aws EC2 instance to fit this model and import the model for time sake"
   ]
  },
  {
   "cell_type": "code",
   "execution_count": 18,
   "metadata": {},
   "outputs": [
    {
     "name": "stdout",
     "output_type": "stream",
     "text": [
      "Train on 50000 samples, validate on 10000 samples\n",
      "Epoch 1/20\n",
      "50000/50000 [==============================] - 58s 1ms/sample - loss: 1.3913 - accuracy: 0.4999 - val_loss: 1.1332 - val_accuracy: 0.6059\n",
      "Epoch 2/20\n",
      "50000/50000 [==============================] - 57s 1ms/sample - loss: 1.0139 - accuracy: 0.6416 - val_loss: 0.9469 - val_accuracy: 0.6700\n",
      "Epoch 3/20\n",
      "50000/50000 [==============================] - 57s 1ms/sample - loss: 0.8553 - accuracy: 0.6985 - val_loss: 0.9323 - val_accuracy: 0.6737\n",
      "Epoch 4/20\n",
      "50000/50000 [==============================] - 56s 1ms/sample - loss: 0.7293 - accuracy: 0.7439 - val_loss: 0.8866 - val_accuracy: 0.6933\n",
      "Epoch 5/20\n",
      "50000/50000 [==============================] - 56s 1ms/sample - loss: 0.6119 - accuracy: 0.7870 - val_loss: 0.8658 - val_accuracy: 0.7081\n",
      "Epoch 6/20\n",
      "50000/50000 [==============================] - 56s 1ms/sample - loss: 0.5070 - accuracy: 0.8246 - val_loss: 0.8562 - val_accuracy: 0.7204\n",
      "Epoch 7/20\n",
      "50000/50000 [==============================] - 56s 1ms/sample - loss: 0.4006 - accuracy: 0.8609 - val_loss: 0.9380 - val_accuracy: 0.7157\n",
      "Epoch 8/20\n",
      "50000/50000 [==============================] - 57s 1ms/sample - loss: 0.3101 - accuracy: 0.8924 - val_loss: 1.0481 - val_accuracy: 0.7086\n",
      "Epoch 9/20\n",
      "50000/50000 [==============================] - 57s 1ms/sample - loss: 0.2345 - accuracy: 0.9195 - val_loss: 1.1494 - val_accuracy: 0.7133\n",
      "Epoch 10/20\n",
      "50000/50000 [==============================] - 57s 1ms/sample - loss: 0.1796 - accuracy: 0.9382 - val_loss: 1.2663 - val_accuracy: 0.7035\n",
      "Epoch 11/20\n",
      "50000/50000 [==============================] - 57s 1ms/sample - loss: 0.1430 - accuracy: 0.9513 - val_loss: 1.3765 - val_accuracy: 0.7070\n"
     ]
    },
    {
     "data": {
      "text/plain": [
       "<tensorflow.python.keras.callbacks.History at 0x7fc5c2418a10>"
      ]
     },
     "execution_count": 18,
     "metadata": {},
     "output_type": "execute_result"
    }
   ],
   "source": [
    "model.fit(x_train, y_cat_train, validation_data=(x_test,y_cat_test), epochs=20, callbacks=[stop])"
   ]
  },
  {
   "cell_type": "markdown",
   "metadata": {},
   "source": [
    "## Model performance"
   ]
  },
  {
   "cell_type": "code",
   "execution_count": 19,
   "metadata": {},
   "outputs": [],
   "source": [
    "metrics = pd.DataFrame(model.history.history)"
   ]
  },
  {
   "cell_type": "code",
   "execution_count": 20,
   "metadata": {},
   "outputs": [
    {
     "data": {
      "text/plain": [
       "<matplotlib.axes._subplots.AxesSubplot at 0x7fc5c0d37f50>"
      ]
     },
     "execution_count": 20,
     "metadata": {},
     "output_type": "execute_result"
    },
    {
     "data": {
      "image/png": "[encoded data removed]",
      "text/plain": [
       "<Figure size 1152x432 with 1 Axes>"
      ]
     },
     "metadata": {
      "needs_background": "light"
     },
     "output_type": "display_data"
    }
   ],
   "source": [
    "metrics[[\"loss\",\"val_loss\"]].plot(figsize = (16,6))"
   ]
  },
  {
   "cell_type": "code",
   "execution_count": 21,
   "metadata": {},
   "outputs": [
    {
     "data": {
      "text/plain": [
       "<matplotlib.axes._subplots.AxesSubplot at 0x7fc5c0cd0190>"
      ]
     },
     "execution_count": 21,
     "metadata": {},
     "output_type": "execute_result"
    },
    {
     "data": {
      "image/png": "[encoded data removed]",
      "text/plain": [
       "<Figure size 1152x432 with 1 Axes>"
      ]
     },
     "metadata": {
      "needs_background": "light"
     },
     "output_type": "display_data"
    }
   ],
   "source": [
    "metrics[[\"accuracy\",\"val_accuracy\"]].plot(figsize = (16,6))"
   ]
  },
  {
   "cell_type": "code",
   "execution_count": 22,
   "metadata": {},
   "outputs": [],
   "source": [
    "model.save(\"Cifar-10.h5\")"
   ]
  },
  {
   "cell_type": "code",
   "execution_count": 23,
   "metadata": {},
   "outputs": [],
   "source": [
    "predictions = model.predict_classes(x_test)"
   ]
  },
  {
   "cell_type": "markdown",
   "metadata": {},
   "source": [
    "### Metrics for predicitons \n",
    "- Model predicts round 72 percent\n",
    "- This is accually good since a random guess stands to be around 10% accurate"
   ]
  },
  {
   "cell_type": "code",
   "execution_count": 24,
   "metadata": {},
   "outputs": [],
   "source": [
    "from sklearn.metrics import classification_report, confusion_matrix, explained_variance_score"
   ]
  },
  {
   "cell_type": "code",
   "execution_count": 25,
   "metadata": {},
   "outputs": [
    {
     "name": "stdout",
     "output_type": "stream",
     "text": [
      "              precision    recall  f1-score   support\n",
      "\n",
      "           0       0.72      0.79      0.75      1000\n",
      "           1       0.79      0.84      0.82      1000\n",
      "           2       0.65      0.56      0.60      1000\n",
      "           3       0.50      0.56      0.53      1000\n",
      "           4       0.72      0.55      0.62      1000\n",
      "           5       0.64      0.55      0.59      1000\n",
      "           6       0.68      0.87      0.77      1000\n",
      "           7       0.75      0.78      0.77      1000\n",
      "           8       0.79      0.83      0.81      1000\n",
      "           9       0.83      0.73      0.78      1000\n",
      "\n",
      "    accuracy                           0.71     10000\n",
      "   macro avg       0.71      0.71      0.70     10000\n",
      "weighted avg       0.71      0.71      0.70     10000\n",
      "\n"
     ]
    }
   ],
   "source": [
    "print(classification_report(y_test, predictions))"
   ]
  },
  {
   "cell_type": "code",
   "execution_count": 26,
   "metadata": {},
   "outputs": [
    {
     "name": "stdout",
     "output_type": "stream",
     "text": [
      "[[787  21  40  16   8   5  16  14  68  25]\n",
      " [ 23 844   8  12   1   5  16   4  29  58]\n",
      " [ 72   6 564  92  63  52  91  40  12   8]\n",
      " [ 39  17  63 564  47 115  82  34  20  19]\n",
      " [ 25   8  80  96 548  46  95  81  19   2]\n",
      " [ 19   6  45 209  34 549  63  57  13   5]\n",
      " [  3   6  29  49  14  12 870   4   8   5]\n",
      " [ 19   5  25  47  33  54  15 782   7  13]\n",
      " [ 58  46   6  19   7   4  12   5 829  14]\n",
      " [ 44 110   6  16   3  11  14  20  43 733]]\n"
     ]
    }
   ],
   "source": [
    "print(confusion_matrix(y_test,predictions))"
   ]
  },
  {
   "cell_type": "code",
   "execution_count": 27,
   "metadata": {},
   "outputs": [
    {
     "name": "stdout",
     "output_type": "stream",
     "text": [
      "0.39565275272727274\n"
     ]
    }
   ],
   "source": [
    "print(explained_variance_score(y_test, predictions))"
   ]
  },
  {
   "cell_type": "markdown",
   "metadata": {},
   "source": [
    "### Testing on random image"
   ]
  },
  {
   "cell_type": "code",
   "execution_count": 51,
   "metadata": {},
   "outputs": [],
   "source": [
    "from random import randint\n",
    "random_index = randint(1, len(x_train))\n",
    "img = x_train[random_index]"
   ]
  },
  {
   "cell_type": "code",
   "execution_count": 52,
   "metadata": {},
   "outputs": [
    {
     "data": {
      "text/plain": [
       "<matplotlib.image.AxesImage at 0x7fc560783f90>"
      ]
     },
     "execution_count": 52,
     "metadata": {},
     "output_type": "execute_result"
    },
    {
     "data": {
      "image/png": "[encoded data removed]",
      "text/plain": [
       "<Figure size 432x288 with 1 Axes>"
      ]
     },
     "metadata": {
      "needs_background": "light"
     },
     "output_type": "display_data"
    }
   ],
   "source": [
    "plt.imshow(img)"
   ]
  },
  {
   "cell_type": "code",
   "execution_count": 53,
   "metadata": {},
   "outputs": [
    {
     "data": {
      "text/plain": [
       "array([2])"
      ]
     },
     "execution_count": 53,
     "metadata": {},
     "output_type": "execute_result"
    }
   ],
   "source": [
    "model.predict_classes(img.reshape(1,32,32,3))"
   ]
  },
  {
   "cell_type": "markdown",
   "metadata": {},
   "source": [
    "### True Value "
   ]
  },
  {
   "cell_type": "code",
   "execution_count": 54,
   "metadata": {},
   "outputs": [
    {
     "data": {
      "text/plain": [
       "array([2], dtype=uint8)"
      ]
     },
     "execution_count": 54,
     "metadata": {},
     "output_type": "execute_result"
    }
   ],
   "source": [
    "y_train[random_index]"
   ]
  },
  {
   "cell_type": "code",
   "execution_count": null,
   "metadata": {},
   "outputs": [],
   "source": []
  },
  {
   "cell_type": "code",
   "execution_count": null,
   "metadata": {},
   "outputs": [],
   "source": []
  }
 ],
 "metadata": {
  "kernelspec": {
   "display_name": "Python 3",
   "language": "python",
   "name": "python3"
  },
  "language_info": {
   "codemirror_mode": {
    "name": "ipython",
    "version": 3
   },
   "file_extension": ".py",
   "mimetype": "text/x-python",
   "name": "python",
   "nbconvert_exporter": "python",
   "pygments_lexer": "ipython3",
   "version": "3.7.6"
  }
 },
 "nbformat": 4,
 "nbformat_minor": 4
}
