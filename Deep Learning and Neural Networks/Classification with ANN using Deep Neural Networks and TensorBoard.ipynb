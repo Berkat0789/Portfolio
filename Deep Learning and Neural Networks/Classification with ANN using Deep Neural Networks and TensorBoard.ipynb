{
 "cells": [
  {
   "cell_type": "code",
   "execution_count": 2,
   "metadata": {},
   "outputs": [],
   "source": [
    "import pandas as pd\n",
    "import numpy as np\n",
    "import matplotlib.pyplot as plt\n",
    "import seaborn as sns"
   ]
  },
  {
   "cell_type": "code",
   "execution_count": 3,
   "metadata": {},
   "outputs": [],
   "source": [
    "from sklearn.datasets import load_breast_cancer"
   ]
  },
  {
   "cell_type": "code",
   "execution_count": 4,
   "metadata": {},
   "outputs": [],
   "source": [
    "cancer_data = pd.DataFrame(load_breast_cancer()[\"data\"])"
   ]
  },
  {
   "cell_type": "code",
   "execution_count": 6,
   "metadata": {},
   "outputs": [],
   "source": [
    "cancer_data[\"target\"] = load_breast_cancer()[\"target\"]"
   ]
  },
  {
   "cell_type": "code",
   "execution_count": 7,
   "metadata": {},
   "outputs": [
    {
     "data": {
      "text/html": [
       "<div>\n",
       "<style scoped>\n",
       "    .dataframe tbody tr th:only-of-type {\n",
       "        vertical-align: middle;\n",
       "    }\n",
       "\n",
       "    .dataframe tbody tr th {\n",
       "        vertical-align: top;\n",
       "    }\n",
       "\n",
       "    .dataframe thead th {\n",
       "        text-align: right;\n",
       "    }\n",
       "</style>\n",
       "<table border=\"1\" class=\"dataframe\">\n",
       "  <thead>\n",
       "    <tr style=\"text-align: right;\">\n",
       "      <th></th>\n",
       "      <th>0</th>\n",
       "      <th>1</th>\n",
       "      <th>2</th>\n",
       "      <th>3</th>\n",
       "      <th>4</th>\n",
       "      <th>5</th>\n",
       "      <th>6</th>\n",
       "      <th>7</th>\n",
       "      <th>8</th>\n",
       "      <th>9</th>\n",
       "      <th>...</th>\n",
       "      <th>21</th>\n",
       "      <th>22</th>\n",
       "      <th>23</th>\n",
       "      <th>24</th>\n",
       "      <th>25</th>\n",
       "      <th>26</th>\n",
       "      <th>27</th>\n",
       "      <th>28</th>\n",
       "      <th>29</th>\n",
       "      <th>target</th>\n",
       "    </tr>\n",
       "  </thead>\n",
       "  <tbody>\n",
       "    <tr>\n",
       "      <th>0</th>\n",
       "      <td>17.99</td>\n",
       "      <td>10.38</td>\n",
       "      <td>122.80</td>\n",
       "      <td>1001.0</td>\n",
       "      <td>0.11840</td>\n",
       "      <td>0.27760</td>\n",
       "      <td>0.30010</td>\n",
       "      <td>0.14710</td>\n",
       "      <td>0.2419</td>\n",
       "      <td>0.07871</td>\n",
       "      <td>...</td>\n",
       "      <td>17.33</td>\n",
       "      <td>184.60</td>\n",
       "      <td>2019.0</td>\n",
       "      <td>0.16220</td>\n",
       "      <td>0.66560</td>\n",
       "      <td>0.7119</td>\n",
       "      <td>0.2654</td>\n",
       "      <td>0.4601</td>\n",
       "      <td>0.11890</td>\n",
       "      <td>0</td>\n",
       "    </tr>\n",
       "    <tr>\n",
       "      <th>1</th>\n",
       "      <td>20.57</td>\n",
       "      <td>17.77</td>\n",
       "      <td>132.90</td>\n",
       "      <td>1326.0</td>\n",
       "      <td>0.08474</td>\n",
       "      <td>0.07864</td>\n",
       "      <td>0.08690</td>\n",
       "      <td>0.07017</td>\n",
       "      <td>0.1812</td>\n",
       "      <td>0.05667</td>\n",
       "      <td>...</td>\n",
       "      <td>23.41</td>\n",
       "      <td>158.80</td>\n",
       "      <td>1956.0</td>\n",
       "      <td>0.12380</td>\n",
       "      <td>0.18660</td>\n",
       "      <td>0.2416</td>\n",
       "      <td>0.1860</td>\n",
       "      <td>0.2750</td>\n",
       "      <td>0.08902</td>\n",
       "      <td>0</td>\n",
       "    </tr>\n",
       "    <tr>\n",
       "      <th>2</th>\n",
       "      <td>19.69</td>\n",
       "      <td>21.25</td>\n",
       "      <td>130.00</td>\n",
       "      <td>1203.0</td>\n",
       "      <td>0.10960</td>\n",
       "      <td>0.15990</td>\n",
       "      <td>0.19740</td>\n",
       "      <td>0.12790</td>\n",
       "      <td>0.2069</td>\n",
       "      <td>0.05999</td>\n",
       "      <td>...</td>\n",
       "      <td>25.53</td>\n",
       "      <td>152.50</td>\n",
       "      <td>1709.0</td>\n",
       "      <td>0.14440</td>\n",
       "      <td>0.42450</td>\n",
       "      <td>0.4504</td>\n",
       "      <td>0.2430</td>\n",
       "      <td>0.3613</td>\n",
       "      <td>0.08758</td>\n",
       "      <td>0</td>\n",
       "    </tr>\n",
       "    <tr>\n",
       "      <th>3</th>\n",
       "      <td>11.42</td>\n",
       "      <td>20.38</td>\n",
       "      <td>77.58</td>\n",
       "      <td>386.1</td>\n",
       "      <td>0.14250</td>\n",
       "      <td>0.28390</td>\n",
       "      <td>0.24140</td>\n",
       "      <td>0.10520</td>\n",
       "      <td>0.2597</td>\n",
       "      <td>0.09744</td>\n",
       "      <td>...</td>\n",
       "      <td>26.50</td>\n",
       "      <td>98.87</td>\n",
       "      <td>567.7</td>\n",
       "      <td>0.20980</td>\n",
       "      <td>0.86630</td>\n",
       "      <td>0.6869</td>\n",
       "      <td>0.2575</td>\n",
       "      <td>0.6638</td>\n",
       "      <td>0.17300</td>\n",
       "      <td>0</td>\n",
       "    </tr>\n",
       "    <tr>\n",
       "      <th>4</th>\n",
       "      <td>20.29</td>\n",
       "      <td>14.34</td>\n",
       "      <td>135.10</td>\n",
       "      <td>1297.0</td>\n",
       "      <td>0.10030</td>\n",
       "      <td>0.13280</td>\n",
       "      <td>0.19800</td>\n",
       "      <td>0.10430</td>\n",
       "      <td>0.1809</td>\n",
       "      <td>0.05883</td>\n",
       "      <td>...</td>\n",
       "      <td>16.67</td>\n",
       "      <td>152.20</td>\n",
       "      <td>1575.0</td>\n",
       "      <td>0.13740</td>\n",
       "      <td>0.20500</td>\n",
       "      <td>0.4000</td>\n",
       "      <td>0.1625</td>\n",
       "      <td>0.2364</td>\n",
       "      <td>0.07678</td>\n",
       "      <td>0</td>\n",
       "    </tr>\n",
       "    <tr>\n",
       "      <th>...</th>\n",
       "      <td>...</td>\n",
       "      <td>...</td>\n",
       "      <td>...</td>\n",
       "      <td>...</td>\n",
       "      <td>...</td>\n",
       "      <td>...</td>\n",
       "      <td>...</td>\n",
       "      <td>...</td>\n",
       "      <td>...</td>\n",
       "      <td>...</td>\n",
       "      <td>...</td>\n",
       "      <td>...</td>\n",
       "      <td>...</td>\n",
       "      <td>...</td>\n",
       "      <td>...</td>\n",
       "      <td>...</td>\n",
       "      <td>...</td>\n",
       "      <td>...</td>\n",
       "      <td>...</td>\n",
       "      <td>...</td>\n",
       "      <td>...</td>\n",
       "    </tr>\n",
       "    <tr>\n",
       "      <th>564</th>\n",
       "      <td>21.56</td>\n",
       "      <td>22.39</td>\n",
       "      <td>142.00</td>\n",
       "      <td>1479.0</td>\n",
       "      <td>0.11100</td>\n",
       "      <td>0.11590</td>\n",
       "      <td>0.24390</td>\n",
       "      <td>0.13890</td>\n",
       "      <td>0.1726</td>\n",
       "      <td>0.05623</td>\n",
       "      <td>...</td>\n",
       "      <td>26.40</td>\n",
       "      <td>166.10</td>\n",
       "      <td>2027.0</td>\n",
       "      <td>0.14100</td>\n",
       "      <td>0.21130</td>\n",
       "      <td>0.4107</td>\n",
       "      <td>0.2216</td>\n",
       "      <td>0.2060</td>\n",
       "      <td>0.07115</td>\n",
       "      <td>0</td>\n",
       "    </tr>\n",
       "    <tr>\n",
       "      <th>565</th>\n",
       "      <td>20.13</td>\n",
       "      <td>28.25</td>\n",
       "      <td>131.20</td>\n",
       "      <td>1261.0</td>\n",
       "      <td>0.09780</td>\n",
       "      <td>0.10340</td>\n",
       "      <td>0.14400</td>\n",
       "      <td>0.09791</td>\n",
       "      <td>0.1752</td>\n",
       "      <td>0.05533</td>\n",
       "      <td>...</td>\n",
       "      <td>38.25</td>\n",
       "      <td>155.00</td>\n",
       "      <td>1731.0</td>\n",
       "      <td>0.11660</td>\n",
       "      <td>0.19220</td>\n",
       "      <td>0.3215</td>\n",
       "      <td>0.1628</td>\n",
       "      <td>0.2572</td>\n",
       "      <td>0.06637</td>\n",
       "      <td>0</td>\n",
       "    </tr>\n",
       "    <tr>\n",
       "      <th>566</th>\n",
       "      <td>16.60</td>\n",
       "      <td>28.08</td>\n",
       "      <td>108.30</td>\n",
       "      <td>858.1</td>\n",
       "      <td>0.08455</td>\n",
       "      <td>0.10230</td>\n",
       "      <td>0.09251</td>\n",
       "      <td>0.05302</td>\n",
       "      <td>0.1590</td>\n",
       "      <td>0.05648</td>\n",
       "      <td>...</td>\n",
       "      <td>34.12</td>\n",
       "      <td>126.70</td>\n",
       "      <td>1124.0</td>\n",
       "      <td>0.11390</td>\n",
       "      <td>0.30940</td>\n",
       "      <td>0.3403</td>\n",
       "      <td>0.1418</td>\n",
       "      <td>0.2218</td>\n",
       "      <td>0.07820</td>\n",
       "      <td>0</td>\n",
       "    </tr>\n",
       "    <tr>\n",
       "      <th>567</th>\n",
       "      <td>20.60</td>\n",
       "      <td>29.33</td>\n",
       "      <td>140.10</td>\n",
       "      <td>1265.0</td>\n",
       "      <td>0.11780</td>\n",
       "      <td>0.27700</td>\n",
       "      <td>0.35140</td>\n",
       "      <td>0.15200</td>\n",
       "      <td>0.2397</td>\n",
       "      <td>0.07016</td>\n",
       "      <td>...</td>\n",
       "      <td>39.42</td>\n",
       "      <td>184.60</td>\n",
       "      <td>1821.0</td>\n",
       "      <td>0.16500</td>\n",
       "      <td>0.86810</td>\n",
       "      <td>0.9387</td>\n",
       "      <td>0.2650</td>\n",
       "      <td>0.4087</td>\n",
       "      <td>0.12400</td>\n",
       "      <td>0</td>\n",
       "    </tr>\n",
       "    <tr>\n",
       "      <th>568</th>\n",
       "      <td>7.76</td>\n",
       "      <td>24.54</td>\n",
       "      <td>47.92</td>\n",
       "      <td>181.0</td>\n",
       "      <td>0.05263</td>\n",
       "      <td>0.04362</td>\n",
       "      <td>0.00000</td>\n",
       "      <td>0.00000</td>\n",
       "      <td>0.1587</td>\n",
       "      <td>0.05884</td>\n",
       "      <td>...</td>\n",
       "      <td>30.37</td>\n",
       "      <td>59.16</td>\n",
       "      <td>268.6</td>\n",
       "      <td>0.08996</td>\n",
       "      <td>0.06444</td>\n",
       "      <td>0.0000</td>\n",
       "      <td>0.0000</td>\n",
       "      <td>0.2871</td>\n",
       "      <td>0.07039</td>\n",
       "      <td>1</td>\n",
       "    </tr>\n",
       "  </tbody>\n",
       "</table>\n",
       "<p>569 rows × 31 columns</p>\n",
       "</div>"
      ],
      "text/plain": [
       "         0      1       2       3        4        5        6        7       8  \\\n",
       "0    17.99  10.38  122.80  1001.0  0.11840  0.27760  0.30010  0.14710  0.2419   \n",
       "1    20.57  17.77  132.90  1326.0  0.08474  0.07864  0.08690  0.07017  0.1812   \n",
       "2    19.69  21.25  130.00  1203.0  0.10960  0.15990  0.19740  0.12790  0.2069   \n",
       "3    11.42  20.38   77.58   386.1  0.14250  0.28390  0.24140  0.10520  0.2597   \n",
       "4    20.29  14.34  135.10  1297.0  0.10030  0.13280  0.19800  0.10430  0.1809   \n",
       "..     ...    ...     ...     ...      ...      ...      ...      ...     ...   \n",
       "564  21.56  22.39  142.00  1479.0  0.11100  0.11590  0.24390  0.13890  0.1726   \n",
       "565  20.13  28.25  131.20  1261.0  0.09780  0.10340  0.14400  0.09791  0.1752   \n",
       "566  16.60  28.08  108.30   858.1  0.08455  0.10230  0.09251  0.05302  0.1590   \n",
       "567  20.60  29.33  140.10  1265.0  0.11780  0.27700  0.35140  0.15200  0.2397   \n",
       "568   7.76  24.54   47.92   181.0  0.05263  0.04362  0.00000  0.00000  0.1587   \n",
       "\n",
       "           9  ...     21      22      23       24       25      26      27  \\\n",
       "0    0.07871  ...  17.33  184.60  2019.0  0.16220  0.66560  0.7119  0.2654   \n",
       "1    0.05667  ...  23.41  158.80  1956.0  0.12380  0.18660  0.2416  0.1860   \n",
       "2    0.05999  ...  25.53  152.50  1709.0  0.14440  0.42450  0.4504  0.2430   \n",
       "3    0.09744  ...  26.50   98.87   567.7  0.20980  0.86630  0.6869  0.2575   \n",
       "4    0.05883  ...  16.67  152.20  1575.0  0.13740  0.20500  0.4000  0.1625   \n",
       "..       ...  ...    ...     ...     ...      ...      ...     ...     ...   \n",
       "564  0.05623  ...  26.40  166.10  2027.0  0.14100  0.21130  0.4107  0.2216   \n",
       "565  0.05533  ...  38.25  155.00  1731.0  0.11660  0.19220  0.3215  0.1628   \n",
       "566  0.05648  ...  34.12  126.70  1124.0  0.11390  0.30940  0.3403  0.1418   \n",
       "567  0.07016  ...  39.42  184.60  1821.0  0.16500  0.86810  0.9387  0.2650   \n",
       "568  0.05884  ...  30.37   59.16   268.6  0.08996  0.06444  0.0000  0.0000   \n",
       "\n",
       "         28       29  target  \n",
       "0    0.4601  0.11890       0  \n",
       "1    0.2750  0.08902       0  \n",
       "2    0.3613  0.08758       0  \n",
       "3    0.6638  0.17300       0  \n",
       "4    0.2364  0.07678       0  \n",
       "..      ...      ...     ...  \n",
       "564  0.2060  0.07115       0  \n",
       "565  0.2572  0.06637       0  \n",
       "566  0.2218  0.07820       0  \n",
       "567  0.4087  0.12400       0  \n",
       "568  0.2871  0.07039       1  \n",
       "\n",
       "[569 rows x 31 columns]"
      ]
     },
     "execution_count": 7,
     "metadata": {},
     "output_type": "execute_result"
    }
   ],
   "source": [
    "cancer_data"
   ]
  },
  {
   "cell_type": "markdown",
   "metadata": {},
   "source": [
    "### Train Test Split"
   ]
  },
  {
   "cell_type": "code",
   "execution_count": 15,
   "metadata": {},
   "outputs": [],
   "source": [
    "X = cancer_data.drop(\"target\", axis = 1).values\n",
    "y = cancer_data[\"target\"].values"
   ]
  },
  {
   "cell_type": "code",
   "execution_count": 16,
   "metadata": {},
   "outputs": [],
   "source": [
    "from sklearn.model_selection import train_test_split"
   ]
  },
  {
   "cell_type": "code",
   "execution_count": 17,
   "metadata": {},
   "outputs": [],
   "source": [
    "X_train, X_test, y_train, y_test = train_test_split(X, y, test_size=0.30, random_state=101)"
   ]
  },
  {
   "cell_type": "markdown",
   "metadata": {},
   "source": [
    "### Scale the Data"
   ]
  },
  {
   "cell_type": "code",
   "execution_count": 18,
   "metadata": {},
   "outputs": [],
   "source": [
    "from sklearn.preprocessing import MinMaxScaler"
   ]
  },
  {
   "cell_type": "code",
   "execution_count": 19,
   "metadata": {},
   "outputs": [],
   "source": [
    "scalar = MinMaxScaler()"
   ]
  },
  {
   "cell_type": "code",
   "execution_count": 20,
   "metadata": {},
   "outputs": [],
   "source": [
    "X_train = scalar.fit_transform(X_train)"
   ]
  },
  {
   "cell_type": "code",
   "execution_count": 21,
   "metadata": {},
   "outputs": [],
   "source": [
    "X_test = scalar.transform(X_test)"
   ]
  },
  {
   "cell_type": "markdown",
   "metadata": {},
   "source": [
    "### Model Development"
   ]
  },
  {
   "cell_type": "code",
   "execution_count": 22,
   "metadata": {},
   "outputs": [],
   "source": [
    "from tensorflow.keras.models import Sequential\n",
    "from tensorflow.keras.layers import Dense,Dropout\n",
    "from tensorflow.keras.callbacks import TensorBoard, EarlyStopping"
   ]
  },
  {
   "cell_type": "code",
   "execution_count": 23,
   "metadata": {},
   "outputs": [],
   "source": [
    "early_Stop = EarlyStopping(monitor=\"val_loss\", mode=\"min\", verbose=3, patience=25)"
   ]
  },
  {
   "cell_type": "code",
   "execution_count": 24,
   "metadata": {},
   "outputs": [
    {
     "data": {
      "text/plain": [
       "'/Users/berkatbhatti/Desktop/python/Portfolio/Deep Learning and Neural Networks'"
      ]
     },
     "execution_count": 24,
     "metadata": {},
     "output_type": "execute_result"
    }
   ],
   "source": [
    "pwd"
   ]
  },
  {
   "cell_type": "markdown",
   "metadata": {},
   "source": [
    "### We will set the the log events for tensorboard"
   ]
  },
  {
   "cell_type": "markdown",
   "metadata": {},
   "source": [
    "## if we are running this model with different parameters and want a different directory for the logs add  time stamp"
   ]
  },
  {
   "cell_type": "code",
   "execution_count": 25,
   "metadata": {},
   "outputs": [],
   "source": [
    "from datetime import datetime"
   ]
  },
  {
   "cell_type": "code",
   "execution_count": 26,
   "metadata": {},
   "outputs": [
    {
     "data": {
      "text/plain": [
       "'2020-04-22--1355'"
      ]
     },
     "execution_count": 26,
     "metadata": {},
     "output_type": "execute_result"
    }
   ],
   "source": [
    "datetime.now().strftime(\"%Y-%m-%d-%--%H%M\")"
   ]
  },
  {
   "cell_type": "code",
   "execution_count": 33,
   "metadata": {},
   "outputs": [],
   "source": [
    "log_dir = \"logs/fit\"\n",
    "board = TensorBoard( log_dir=log_dir,\n",
    "    histogram_freq=1,\n",
    "    write_graph=True,\n",
    "    write_images=False,\n",
    "    update_freq='epoch',\n",
    "    profile_batch=2,\n",
    "    embeddings_freq=1)"
   ]
  },
  {
   "cell_type": "code",
   "execution_count": 34,
   "metadata": {},
   "outputs": [
    {
     "data": {
      "text/plain": [
       "(398, 30)"
      ]
     },
     "execution_count": 34,
     "metadata": {},
     "output_type": "execute_result"
    }
   ],
   "source": [
    "X_train.shape"
   ]
  },
  {
   "cell_type": "code",
   "execution_count": 35,
   "metadata": {},
   "outputs": [],
   "source": [
    "model = Sequential()\n",
    "model.add(Dense(units = 30, activation = 'relu'))\n",
    "model.add(Dropout(0.5))\n",
    "model.add(Dense(units = 10, activation = 'relu'))\n",
    "model.add(Dropout(0.5))\n",
    "model.add(Dense(units = 15, activation = 'relu'))\n",
    "model.add(Dropout(0.5))\n",
    "model.add(Dense(units = 15, activation = 'relu'))\n",
    "model.add(Dropout(0.5))\n",
    "model.add(Dense(units = 1, activation = 'sigmoid'))\n",
    "model.compile(optimization = \"adam\", loss = 'binary_crossentropy')"
   ]
  },
  {
   "cell_type": "code",
   "execution_count": 36,
   "metadata": {},
   "outputs": [
    {
     "name": "stdout",
     "output_type": "stream",
     "text": [
      "Train on 398 samples, validate on 171 samples\n",
      "Epoch 1/300\n",
      "398/398 [==============================] - 3s 7ms/sample - loss: 0.7118 - val_loss: 0.6886\n",
      "Epoch 2/300\n",
      "398/398 [==============================] - 0s 411us/sample - loss: 0.7012 - val_loss: 0.6855\n",
      "Epoch 3/300\n",
      "398/398 [==============================] - 0s 415us/sample - loss: 0.6856 - val_loss: 0.6810\n",
      "Epoch 4/300\n",
      "398/398 [==============================] - 0s 415us/sample - loss: 0.6905 - val_loss: 0.6788\n",
      "Epoch 5/300\n",
      "398/398 [==============================] - 0s 420us/sample - loss: 0.6828 - val_loss: 0.6752\n",
      "Epoch 6/300\n",
      "398/398 [==============================] - 0s 414us/sample - loss: 0.6704 - val_loss: 0.6710\n",
      "Epoch 7/300\n",
      "398/398 [==============================] - 0s 415us/sample - loss: 0.6630 - val_loss: 0.6631\n",
      "Epoch 8/300\n",
      "398/398 [==============================] - 0s 417us/sample - loss: 0.6717 - val_loss: 0.6621\n",
      "Epoch 9/300\n",
      "398/398 [==============================] - 0s 421us/sample - loss: 0.6568 - val_loss: 0.6523\n",
      "Epoch 10/300\n",
      "398/398 [==============================] - 0s 419us/sample - loss: 0.6538 - val_loss: 0.6448\n",
      "Epoch 11/300\n",
      "398/398 [==============================] - 0s 417us/sample - loss: 0.6553 - val_loss: 0.6389\n",
      "Epoch 12/300\n",
      "398/398 [==============================] - 0s 421us/sample - loss: 0.6413 - val_loss: 0.6291\n",
      "Epoch 13/300\n",
      "398/398 [==============================] - 0s 417us/sample - loss: 0.6391 - val_loss: 0.6217\n",
      "Epoch 14/300\n",
      "398/398 [==============================] - 0s 417us/sample - loss: 0.6253 - val_loss: 0.6147\n",
      "Epoch 15/300\n",
      "398/398 [==============================] - 0s 418us/sample - loss: 0.6165 - val_loss: 0.6045\n",
      "Epoch 16/300\n",
      "398/398 [==============================] - 0s 423us/sample - loss: 0.6116 - val_loss: 0.5979\n",
      "Epoch 17/300\n",
      "398/398 [==============================] - 0s 418us/sample - loss: 0.6058 - val_loss: 0.5879\n",
      "Epoch 18/300\n",
      "398/398 [==============================] - 0s 420us/sample - loss: 0.6076 - val_loss: 0.5749\n",
      "Epoch 19/300\n",
      "398/398 [==============================] - 0s 416us/sample - loss: 0.5902 - val_loss: 0.5649\n",
      "Epoch 20/300\n",
      "398/398 [==============================] - 0s 416us/sample - loss: 0.5759 - val_loss: 0.5513\n",
      "Epoch 21/300\n",
      "398/398 [==============================] - 0s 419us/sample - loss: 0.5639 - val_loss: 0.5358\n",
      "Epoch 22/300\n",
      "398/398 [==============================] - 0s 417us/sample - loss: 0.5667 - val_loss: 0.5259\n",
      "Epoch 23/300\n",
      "398/398 [==============================] - 0s 416us/sample - loss: 0.5477 - val_loss: 0.5079\n",
      "Epoch 24/300\n",
      "398/398 [==============================] - 0s 419us/sample - loss: 0.5389 - val_loss: 0.4916\n",
      "Epoch 25/300\n",
      "398/398 [==============================] - 0s 417us/sample - loss: 0.5254 - val_loss: 0.4794\n",
      "Epoch 26/300\n",
      "398/398 [==============================] - 0s 417us/sample - loss: 0.5422 - val_loss: 0.4773\n",
      "Epoch 27/300\n",
      "398/398 [==============================] - 0s 421us/sample - loss: 0.5168 - val_loss: 0.4645\n",
      "Epoch 28/300\n",
      "398/398 [==============================] - 0s 418us/sample - loss: 0.5242 - val_loss: 0.4534\n",
      "Epoch 29/300\n",
      "398/398 [==============================] - 0s 418us/sample - loss: 0.5219 - val_loss: 0.4435\n",
      "Epoch 30/300\n",
      "398/398 [==============================] - 0s 420us/sample - loss: 0.4887 - val_loss: 0.4232\n",
      "Epoch 31/300\n",
      "398/398 [==============================] - 0s 415us/sample - loss: 0.4925 - val_loss: 0.4167\n",
      "Epoch 32/300\n",
      "398/398 [==============================] - 0s 415us/sample - loss: 0.4855 - val_loss: 0.4048\n",
      "Epoch 33/300\n",
      "398/398 [==============================] - 0s 442us/sample - loss: 0.4986 - val_loss: 0.4008\n",
      "Epoch 34/300\n",
      "398/398 [==============================] - 0s 416us/sample - loss: 0.4410 - val_loss: 0.3845\n",
      "Epoch 35/300\n",
      "398/398 [==============================] - 0s 416us/sample - loss: 0.4733 - val_loss: 0.3943\n",
      "Epoch 36/300\n",
      "398/398 [==============================] - 0s 426us/sample - loss: 0.4533 - val_loss: 0.3798\n",
      "Epoch 37/300\n",
      "398/398 [==============================] - 0s 454us/sample - loss: 0.4660 - val_loss: 0.3678\n",
      "Epoch 38/300\n",
      "398/398 [==============================] - 0s 420us/sample - loss: 0.4403 - val_loss: 0.3624\n",
      "Epoch 39/300\n",
      "398/398 [==============================] - 0s 423us/sample - loss: 0.4042 - val_loss: 0.3492\n",
      "Epoch 40/300\n",
      "398/398 [==============================] - 0s 423us/sample - loss: 0.4160 - val_loss: 0.3455\n",
      "Epoch 41/300\n",
      "398/398 [==============================] - 0s 435us/sample - loss: 0.4161 - val_loss: 0.3419\n",
      "Epoch 42/300\n",
      "398/398 [==============================] - 0s 436us/sample - loss: 0.4126 - val_loss: 0.3323\n",
      "Epoch 43/300\n",
      "398/398 [==============================] - 0s 459us/sample - loss: 0.3766 - val_loss: 0.3268\n",
      "Epoch 44/300\n",
      "398/398 [==============================] - 0s 424us/sample - loss: 0.4160 - val_loss: 0.3238\n",
      "Epoch 45/300\n",
      "398/398 [==============================] - 0s 435us/sample - loss: 0.3940 - val_loss: 0.3221\n",
      "Epoch 46/300\n",
      "398/398 [==============================] - 0s 423us/sample - loss: 0.3637 - val_loss: 0.3241\n",
      "Epoch 47/300\n",
      "398/398 [==============================] - 0s 435us/sample - loss: 0.3742 - val_loss: 0.3183\n",
      "Epoch 48/300\n",
      "398/398 [==============================] - 0s 435us/sample - loss: 0.3984 - val_loss: 0.3103\n",
      "Epoch 49/300\n",
      "398/398 [==============================] - 0s 415us/sample - loss: 0.3461 - val_loss: 0.2950\n",
      "Epoch 50/300\n",
      "398/398 [==============================] - 0s 418us/sample - loss: 0.3495 - val_loss: 0.2885\n",
      "Epoch 51/300\n",
      "398/398 [==============================] - 0s 420us/sample - loss: 0.4032 - val_loss: 0.3050\n",
      "Epoch 52/300\n",
      "398/398 [==============================] - 0s 416us/sample - loss: 0.3280 - val_loss: 0.2935\n",
      "Epoch 53/300\n",
      "398/398 [==============================] - 0s 432us/sample - loss: 0.3833 - val_loss: 0.2901\n",
      "Epoch 54/300\n",
      "398/398 [==============================] - 0s 437us/sample - loss: 0.3460 - val_loss: 0.2797\n",
      "Epoch 55/300\n",
      "398/398 [==============================] - 0s 442us/sample - loss: 0.3360 - val_loss: 0.2757\n",
      "Epoch 56/300\n",
      "398/398 [==============================] - 0s 429us/sample - loss: 0.3546 - val_loss: 0.2783\n",
      "Epoch 57/300\n",
      "398/398 [==============================] - 0s 414us/sample - loss: 0.3356 - val_loss: 0.2771\n",
      "Epoch 58/300\n",
      "398/398 [==============================] - 0s 419us/sample - loss: 0.3409 - val_loss: 0.2875\n",
      "Epoch 59/300\n",
      "398/398 [==============================] - 0s 429us/sample - loss: 0.3410 - val_loss: 0.3004\n",
      "Epoch 60/300\n",
      "398/398 [==============================] - 0s 420us/sample - loss: 0.3515 - val_loss: 0.2788\n",
      "Epoch 61/300\n",
      "398/398 [==============================] - 0s 416us/sample - loss: 0.3290 - val_loss: 0.2785\n",
      "Epoch 62/300\n",
      "398/398 [==============================] - 0s 414us/sample - loss: 0.3384 - val_loss: 0.2711\n",
      "Epoch 63/300\n",
      "398/398 [==============================] - 0s 420us/sample - loss: 0.2965 - val_loss: 0.2645\n",
      "Epoch 64/300\n",
      "398/398 [==============================] - 0s 423us/sample - loss: 0.2916 - val_loss: 0.2632\n",
      "Epoch 65/300\n",
      "398/398 [==============================] - 0s 413us/sample - loss: 0.3287 - val_loss: 0.2552\n",
      "Epoch 66/300\n",
      "398/398 [==============================] - 0s 412us/sample - loss: 0.2934 - val_loss: 0.2577\n",
      "Epoch 67/300\n",
      "398/398 [==============================] - 0s 410us/sample - loss: 0.2915 - val_loss: 0.2578\n",
      "Epoch 68/300\n",
      "398/398 [==============================] - 0s 418us/sample - loss: 0.3023 - val_loss: 0.2563\n",
      "Epoch 69/300\n",
      "398/398 [==============================] - 0s 414us/sample - loss: 0.3385 - val_loss: 0.2479\n",
      "Epoch 70/300\n",
      "398/398 [==============================] - 0s 415us/sample - loss: 0.2736 - val_loss: 0.2494\n",
      "Epoch 71/300\n",
      "398/398 [==============================] - 0s 417us/sample - loss: 0.2707 - val_loss: 0.2486\n",
      "Epoch 72/300\n",
      "398/398 [==============================] - 0s 419us/sample - loss: 0.3065 - val_loss: 0.2484\n",
      "Epoch 73/300\n",
      "398/398 [==============================] - 0s 416us/sample - loss: 0.2766 - val_loss: 0.2478\n",
      "Epoch 74/300\n",
      "398/398 [==============================] - 0s 417us/sample - loss: 0.2877 - val_loss: 0.2407\n",
      "Epoch 75/300\n",
      "398/398 [==============================] - 0s 412us/sample - loss: 0.2929 - val_loss: 0.2512\n",
      "Epoch 76/300\n",
      "398/398 [==============================] - 0s 415us/sample - loss: 0.2614 - val_loss: 0.2491\n",
      "Epoch 77/300\n",
      "398/398 [==============================] - 0s 415us/sample - loss: 0.2571 - val_loss: 0.2508\n"
     ]
    },
    {
     "name": "stdout",
     "output_type": "stream",
     "text": [
      "Epoch 78/300\n",
      "398/398 [==============================] - 0s 417us/sample - loss: 0.2665 - val_loss: 0.2486\n",
      "Epoch 79/300\n",
      "398/398 [==============================] - 0s 409us/sample - loss: 0.2488 - val_loss: 0.2468\n",
      "Epoch 80/300\n",
      "398/398 [==============================] - 0s 413us/sample - loss: 0.2401 - val_loss: 0.2421\n",
      "Epoch 81/300\n",
      "398/398 [==============================] - 0s 413us/sample - loss: 0.2666 - val_loss: 0.2457\n",
      "Epoch 82/300\n",
      "398/398 [==============================] - 0s 412us/sample - loss: 0.2535 - val_loss: 0.2440\n",
      "Epoch 83/300\n",
      "398/398 [==============================] - 0s 415us/sample - loss: 0.2173 - val_loss: 0.2555\n",
      "Epoch 84/300\n",
      "398/398 [==============================] - 0s 415us/sample - loss: 0.2462 - val_loss: 0.2468\n",
      "Epoch 85/300\n",
      "398/398 [==============================] - 0s 413us/sample - loss: 0.2434 - val_loss: 0.2421\n",
      "Epoch 86/300\n",
      "398/398 [==============================] - 0s 414us/sample - loss: 0.2370 - val_loss: 0.2459\n",
      "Epoch 87/300\n",
      "398/398 [==============================] - 0s 412us/sample - loss: 0.2721 - val_loss: 0.2498\n",
      "Epoch 88/300\n",
      "398/398 [==============================] - 0s 414us/sample - loss: 0.2436 - val_loss: 0.2434\n",
      "Epoch 89/300\n",
      "398/398 [==============================] - 0s 413us/sample - loss: 0.2653 - val_loss: 0.2365\n",
      "Epoch 90/300\n",
      "398/398 [==============================] - 0s 411us/sample - loss: 0.2686 - val_loss: 0.2301\n",
      "Epoch 91/300\n",
      "398/398 [==============================] - 0s 412us/sample - loss: 0.2262 - val_loss: 0.2209\n",
      "Epoch 92/300\n",
      "398/398 [==============================] - 0s 414us/sample - loss: 0.2738 - val_loss: 0.2353\n",
      "Epoch 93/300\n",
      "398/398 [==============================] - 0s 413us/sample - loss: 0.2230 - val_loss: 0.2251\n",
      "Epoch 94/300\n",
      "398/398 [==============================] - 0s 413us/sample - loss: 0.2169 - val_loss: 0.2282\n",
      "Epoch 95/300\n",
      "398/398 [==============================] - 0s 411us/sample - loss: 0.2136 - val_loss: 0.2300\n",
      "Epoch 96/300\n",
      "398/398 [==============================] - 0s 414us/sample - loss: 0.1877 - val_loss: 0.2488\n",
      "Epoch 97/300\n",
      "398/398 [==============================] - 0s 408us/sample - loss: 0.2614 - val_loss: 0.2426\n",
      "Epoch 98/300\n",
      "398/398 [==============================] - 0s 413us/sample - loss: 0.2136 - val_loss: 0.2487\n",
      "Epoch 99/300\n",
      "398/398 [==============================] - 0s 411us/sample - loss: 0.2003 - val_loss: 0.2490\n",
      "Epoch 100/300\n",
      "398/398 [==============================] - 0s 412us/sample - loss: 0.2681 - val_loss: 0.2332\n",
      "Epoch 101/300\n",
      "398/398 [==============================] - 0s 415us/sample - loss: 0.2632 - val_loss: 0.2316\n",
      "Epoch 102/300\n",
      "398/398 [==============================] - 0s 411us/sample - loss: 0.2008 - val_loss: 0.2288\n",
      "Epoch 103/300\n",
      "398/398 [==============================] - 0s 410us/sample - loss: 0.1942 - val_loss: 0.2332\n",
      "Epoch 104/300\n",
      "398/398 [==============================] - 0s 412us/sample - loss: 0.2085 - val_loss: 0.2266\n",
      "Epoch 105/300\n",
      "398/398 [==============================] - 0s 415us/sample - loss: 0.2128 - val_loss: 0.2344\n",
      "Epoch 106/300\n",
      "398/398 [==============================] - 0s 411us/sample - loss: 0.2444 - val_loss: 0.2434\n",
      "Epoch 107/300\n",
      "398/398 [==============================] - 0s 414us/sample - loss: 0.1996 - val_loss: 0.2437\n",
      "Epoch 108/300\n",
      "398/398 [==============================] - 0s 424us/sample - loss: 0.2081 - val_loss: 0.2437\n",
      "Epoch 109/300\n",
      "398/398 [==============================] - 0s 413us/sample - loss: 0.1967 - val_loss: 0.2404\n",
      "Epoch 110/300\n",
      "398/398 [==============================] - 0s 413us/sample - loss: 0.1918 - val_loss: 0.2398\n",
      "Epoch 111/300\n",
      "398/398 [==============================] - 0s 412us/sample - loss: 0.1929 - val_loss: 0.2412\n",
      "Epoch 112/300\n",
      "398/398 [==============================] - 0s 413us/sample - loss: 0.2162 - val_loss: 0.2377\n",
      "Epoch 113/300\n",
      "398/398 [==============================] - 0s 414us/sample - loss: 0.2192 - val_loss: 0.2500\n",
      "Epoch 114/300\n",
      "398/398 [==============================] - 0s 416us/sample - loss: 0.2014 - val_loss: 0.2515\n",
      "Epoch 115/300\n",
      "398/398 [==============================] - 0s 425us/sample - loss: 0.1767 - val_loss: 0.2685\n",
      "Epoch 116/300\n",
      "398/398 [==============================] - 0s 418us/sample - loss: 0.1799 - val_loss: 0.2633\n",
      "Epoch 00116: early stopping\n"
     ]
    },
    {
     "data": {
      "text/plain": [
       "<tensorflow.python.keras.callbacks.History at 0x1a501cea90>"
      ]
     },
     "execution_count": 36,
     "metadata": {},
     "output_type": "execute_result"
    }
   ],
   "source": [
    "model.fit(X_train, y_train, validation_data=(X_test,y_test), epochs=300, callbacks=[early_Stop,board])"
   ]
  },
  {
   "cell_type": "markdown",
   "metadata": {},
   "source": [
    "#### Performnce"
   ]
  },
  {
   "cell_type": "code",
   "execution_count": 37,
   "metadata": {},
   "outputs": [
    {
     "data": {
      "text/plain": [
       "<matplotlib.axes._subplots.AxesSubplot at 0x1a50cedd50>"
      ]
     },
     "execution_count": 37,
     "metadata": {},
     "output_type": "execute_result"
    },
    {
     "data": {
      "image/png": "[encoded data removed]",
      "text/plain": [
       "<Figure size 432x288 with 1 Axes>"
      ]
     },
     "metadata": {
      "needs_background": "light"
     },
     "output_type": "display_data"
    }
   ],
   "source": [
    "pd.DataFrame(model.history.history).plot()"
   ]
  },
  {
   "cell_type": "code",
   "execution_count": 41,
   "metadata": {},
   "outputs": [],
   "source": [
    "predictions = model.predict_classes(X_test)"
   ]
  },
  {
   "cell_type": "code",
   "execution_count": 42,
   "metadata": {},
   "outputs": [],
   "source": [
    "from sklearn.metrics import classification_report, confusion_matrix"
   ]
  },
  {
   "cell_type": "markdown",
   "metadata": {},
   "source": [
    "### Model has a 96% accuracy"
   ]
  },
  {
   "cell_type": "code",
   "execution_count": 43,
   "metadata": {},
   "outputs": [
    {
     "name": "stdout",
     "output_type": "stream",
     "text": [
      "              precision    recall  f1-score   support\n",
      "\n",
      "           0       0.95      0.94      0.95        66\n",
      "           1       0.96      0.97      0.97       105\n",
      "\n",
      "    accuracy                           0.96       171\n",
      "   macro avg       0.96      0.96      0.96       171\n",
      "weighted avg       0.96      0.96      0.96       171\n",
      "\n"
     ]
    }
   ],
   "source": [
    "print(classification_report(y_test,predictions))"
   ]
  },
  {
   "cell_type": "code",
   "execution_count": 44,
   "metadata": {},
   "outputs": [
    {
     "name": "stdout",
     "output_type": "stream",
     "text": [
      "[[ 62   4]\n",
      " [  3 102]]\n"
     ]
    }
   ],
   "source": [
    "print(confusion_matrix(y_test, predictions))"
   ]
  },
  {
   "cell_type": "markdown",
   "metadata": {},
   "source": [
    "## lets pass in random new features to check if the model will predict accurately"
   ]
  },
  {
   "cell_type": "code",
   "execution_count": 77,
   "metadata": {},
   "outputs": [
    {
     "data": {
      "text/plain": [
       "0       21.610000\n",
       "1       22.280000\n",
       "2      144.400000\n",
       "3     1407.000000\n",
       "4        0.116700\n",
       "5        0.208700\n",
       "6        0.281000\n",
       "7        0.156200\n",
       "8        0.216200\n",
       "9        0.066060\n",
       "10       0.624200\n",
       "11       0.920900\n",
       "12       4.158000\n",
       "13      80.990000\n",
       "14       0.005215\n",
       "15       0.037260\n",
       "16       0.047180\n",
       "17       0.012880\n",
       "18       0.020450\n",
       "19       0.004028\n",
       "20      26.230000\n",
       "21      28.740000\n",
       "22     172.000000\n",
       "23    2081.000000\n",
       "24       0.150200\n",
       "25       0.571700\n",
       "26       0.705300\n",
       "27       0.242200\n",
       "28       0.382800\n",
       "29       0.100700\n",
       "Name: 393, dtype: float64"
      ]
     },
     "execution_count": 77,
     "metadata": {},
     "output_type": "execute_result"
    }
   ],
   "source": [
    "from random import randint\n",
    "random_index = randint(0,len(cancer_data))\n",
    "\n",
    "new_feature = cancer_data.drop(\"target\", axis =1).iloc[random_index]\n",
    "new_feature"
   ]
  },
  {
   "cell_type": "code",
   "execution_count": 78,
   "metadata": {},
   "outputs": [],
   "source": [
    "new = scalar.transform(new_feature.values.reshape(1,30))"
   ]
  },
  {
   "cell_type": "code",
   "execution_count": 79,
   "metadata": {},
   "outputs": [
    {
     "data": {
      "text/plain": [
       "array([[0]], dtype=int32)"
      ]
     },
     "execution_count": 79,
     "metadata": {},
     "output_type": "execute_result"
    }
   ],
   "source": [
    "model.predict_classes(new)"
   ]
  },
  {
   "cell_type": "markdown",
   "metadata": {},
   "source": [
    "### WE can inspect this by passing in the random index in to the dataFrame. We can see that our model predicted correctly"
   ]
  },
  {
   "cell_type": "code",
   "execution_count": 80,
   "metadata": {},
   "outputs": [
    {
     "data": {
      "text/plain": [
       "0.0"
      ]
     },
     "execution_count": 80,
     "metadata": {},
     "output_type": "execute_result"
    }
   ],
   "source": [
    "cancer_data.iloc[random_index][\"target\"]"
   ]
  },
  {
   "cell_type": "code",
   "execution_count": 81,
   "metadata": {},
   "outputs": [
    {
     "data": {
      "text/plain": [
       "'/Users/berkatbhatti/Desktop/python/Portfolio/Deep Learning and Neural Networks'"
      ]
     },
     "execution_count": 81,
     "metadata": {},
     "output_type": "execute_result"
    }
   ],
   "source": [
    "pwd"
   ]
  },
  {
   "cell_type": "code",
   "execution_count": null,
   "metadata": {},
   "outputs": [],
   "source": []
  }
 ],
 "metadata": {
  "kernelspec": {
   "display_name": "Python 3",
   "language": "python",
   "name": "python3"
  },
  "language_info": {
   "codemirror_mode": {
    "name": "ipython",
    "version": 3
   },
   "file_extension": ".py",
   "mimetype": "text/x-python",
   "name": "python",
   "nbconvert_exporter": "python",
   "pygments_lexer": "ipython3",
   "version": "3.7.6"
  }
 },
 "nbformat": 4,
 "nbformat_minor": 4
}
