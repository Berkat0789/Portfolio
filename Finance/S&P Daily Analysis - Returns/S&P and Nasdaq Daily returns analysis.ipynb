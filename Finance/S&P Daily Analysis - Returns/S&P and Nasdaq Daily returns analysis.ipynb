{
 "cells": [
  {
   "cell_type": "markdown",
   "metadata": {},
   "source": [
    "### Project Overview\n",
    "- Your goal is to evaluate every stock in the s&P500, and Nasdaq Adj Close as well as the daily return\n",
    "- You will look for companies who too a dip (Loss for the day) as  well as companies that have spiked for the today's close"
   ]
  },
  {
   "cell_type": "markdown",
   "metadata": {},
   "source": [
    "## Project approach:\n",
    "- Use pandas data reader to get all Adj Close data for each stock for the year 2020 \n",
    "- Will import all securities form a past project that passed properly through pandas data reader \n",
    "- Add all of resuts to a data frame\n",
    "- Calculate the Daily return for each stock as well as the volitility year to date\n",
    "- group Dips and Spikes - Which are worthy of investing"
   ]
  },
  {
   "cell_type": "code",
   "execution_count": 1,
   "metadata": {},
   "outputs": [
    {
     "name": "stderr",
     "output_type": "stream",
     "text": [
      "/Users/berkatbhatti/opt/anaconda3/lib/python3.7/site-packages/pandas_datareader/compat/__init__.py:7: FutureWarning: pandas.util.testing is deprecated. Use the functions in the public API at pandas.testing instead.\n",
      "  from pandas.util.testing import assert_frame_equal\n"
     ]
    }
   ],
   "source": [
    "import pandas as pd \n",
    "import numpy as np\n",
    "from pandas_datareader import data as web\n",
    "import matplotlib.pyplot as plt\n",
    "import seaborn as sns"
   ]
  },
  {
   "cell_type": "code",
   "execution_count": 2,
   "metadata": {},
   "outputs": [],
   "source": [
    "tickers = pd.read_csv(\"resources/passed_Tickers.csv\", index_col='Unnamed: 0')"
   ]
  },
  {
   "cell_type": "code",
   "execution_count": 3,
   "metadata": {},
   "outputs": [],
   "source": [
    "tickers = list(tickers[\"Tickers\"].values)"
   ]
  },
  {
   "cell_type": "markdown",
   "metadata": {},
   "source": [
    "## Fetching the data \n",
    " - we need ot consider companies that myay no longer exist and or have failed \n",
    " - We also need to store the failed companies for future use"
   ]
  },
  {
   "cell_type": "code",
   "execution_count": 4,
   "metadata": {},
   "outputs": [],
   "source": [
    "data = pd.DataFrame()"
   ]
  },
  {
   "cell_type": "code",
   "execution_count": 5,
   "metadata": {},
   "outputs": [],
   "source": [
    "failed = []\n",
    "passed = []\n",
    "for x in tickers:\n",
    "    try:\n",
    "        data[x] = web.DataReader(x, data_source= \"yahoo\", start = \"2020-1-1\")[\"Adj Close\"]\n",
    "        passed.append(x)\n",
    "    except (IOError, KeyError):\n",
    "        msg = 'Failed to read symbol: {0!r}, replacing with NaN.'\n",
    "        failed.append(x)"
   ]
  },
  {
   "cell_type": "markdown",
   "metadata": {},
   "source": [
    "## Taking A Look at Arconic and the companies Coorelated Year to Date"
   ]
  },
  {
   "cell_type": "code",
   "execution_count": 6,
   "metadata": {},
   "outputs": [
    {
     "data": {
      "text/plain": [
       "<matplotlib.axes._subplots.AxesSubplot at 0x11dafcbd0>"
      ]
     },
     "execution_count": 6,
     "metadata": {},
     "output_type": "execute_result"
    },
    {
     "data": {
      "image/png": "[encoded data removed]",
      "text/plain": [
       "<Figure size 1152x432 with 1 Axes>"
      ]
     },
     "metadata": {
      "needs_background": "light"
     },
     "output_type": "display_data"
    }
   ],
   "source": [
    "data[\"ARNC\"].plot(figsize = (16,6), marker = \"o\")"
   ]
  },
  {
   "cell_type": "markdown",
   "metadata": {},
   "source": [
    "### Passed Companies Passed \n",
    "- 471 companies passed the yahoo finance "
   ]
  },
  {
   "cell_type": "code",
   "execution_count": 7,
   "metadata": {},
   "outputs": [
    {
     "data": {
      "text/plain": [
       "471"
      ]
     },
     "execution_count": 7,
     "metadata": {},
     "output_type": "execute_result"
    }
   ],
   "source": [
    "len(passed)"
   ]
  },
  {
   "cell_type": "markdown",
   "metadata": {},
   "source": [
    "## Corr to Arconic\n",
    "- Below are the top 20 companies coorelated to arconic "
   ]
  },
  {
   "cell_type": "code",
   "execution_count": 8,
   "metadata": {},
   "outputs": [
    {
     "data": {
      "text/plain": [
       "ARNC    1.000000\n",
       "RTN     1.000000\n",
       "ALB     0.940517\n",
       "PPG     0.930673\n",
       "MTD     0.923245\n",
       "TDG     0.922373\n",
       "NKE     0.920912\n",
       "GRMN    0.920376\n",
       "DLTR    0.915136\n",
       "F       0.911131\n",
       "ETFC    0.910224\n",
       "MS      0.909070\n",
       "EL      0.908383\n",
       "LB      0.907750\n",
       "GM      0.903776\n",
       "MCK     0.903759\n",
       "GD      0.902682\n",
       "CHRW    0.901706\n",
       "XRAY    0.901577\n",
       "ABC     0.897721\n",
       "dtype: float64"
      ]
     },
     "execution_count": 8,
     "metadata": {},
     "output_type": "execute_result"
    }
   ],
   "source": [
    "data.corrwith(data[\"ARNC\"]).sort_values(ascending = False).head(20)"
   ]
  },
  {
   "cell_type": "markdown",
   "metadata": {},
   "source": [
    "## Daily Returns for each Stock\n",
    "- We will focus on todays closing only to see which companies Dip or spikes"
   ]
  },
  {
   "cell_type": "code",
   "execution_count": 34,
   "metadata": {},
   "outputs": [],
   "source": [
    "returns_df = pd.DataFrame()\n",
    "for x in passed:\n",
    "    data[f\"{x} daily return\"] = data[f\"{x}\"].pct_change()\n",
    "    returns_df[f\"{x}\"] = data[f\"{x}\"].pct_change()"
   ]
  },
  {
   "cell_type": "markdown",
   "metadata": {},
   "source": [
    "## Analysis of todays close - Spikes\n",
    "- top 20 companies that had the highest daily returns at close"
   ]
  },
  {
   "cell_type": "code",
   "execution_count": 35,
   "metadata": {},
   "outputs": [
    {
     "data": {
      "text/plain": [
       "SPG     0.148621\n",
       "MAC     0.142287\n",
       "COTY    0.133652\n",
       "BA      0.129476\n",
       "M       0.129310\n",
       "UAL     0.125042\n",
       "MCHP    0.123399\n",
       "HBI     0.123134\n",
       "GPS     0.122066\n",
       "KIM     0.113782\n",
       "MGM     0.113187\n",
       "WYNN    0.111772\n",
       "ADS     0.108945\n",
       "PVH     0.108849\n",
       "DXC     0.104579\n",
       "DRI     0.099974\n",
       "UAA     0.094580\n",
       "IVZ     0.093190\n",
       "JWN     0.092801\n",
       "UA      0.092747\n",
       "Name: 2020-06-03 00:00:00, dtype: float64"
      ]
     },
     "execution_count": 35,
     "metadata": {},
     "output_type": "execute_result"
    }
   ],
   "source": [
    "returns_df.transpose()[\"2020-06-03\"].sort_values(ascending = False).head(20)"
   ]
  },
  {
   "cell_type": "code",
   "execution_count": 36,
   "metadata": {},
   "outputs": [
    {
     "data": {
      "text/plain": [
       "<matplotlib.axes._subplots.AxesSubplot at 0x1a25a941d0>"
      ]
     },
     "execution_count": 36,
     "metadata": {},
     "output_type": "execute_result"
    },
    {
     "data": {
      "image/png": "[encoded data removed]",
      "text/plain": [
       "<Figure size 1152x432 with 1 Axes>"
      ]
     },
     "metadata": {
      "needs_background": "light"
     },
     "output_type": "display_data"
    }
   ],
   "source": [
    "returns_df.transpose()[\"2020-06-03\"].sort_values(ascending = False).head(20).plot(kind = 'bar', figsize = (16,6))"
   ]
  },
  {
   "cell_type": "markdown",
   "metadata": {},
   "source": [
    "### Dips \n",
    "- top 20 companies that had the lowest daily returns fot todays close"
   ]
  },
  {
   "cell_type": "code",
   "execution_count": 37,
   "metadata": {},
   "outputs": [
    {
     "data": {
      "text/plain": [
       "CPB    -0.061334\n",
       "ATVI   -0.041929\n",
       "TTWO   -0.039376\n",
       "TSN    -0.038400\n",
       "NEM    -0.037788\n",
       "EA     -0.036205\n",
       "RRC    -0.032761\n",
       "GIS    -0.030747\n",
       "CTXS   -0.029888\n",
       "HUM    -0.027587\n",
       "VRTX   -0.025539\n",
       "DGX    -0.025365\n",
       "DLTR   -0.024851\n",
       "AKAM   -0.023879\n",
       "TIF    -0.023840\n",
       "CAG    -0.023789\n",
       "HRL    -0.022354\n",
       "REGN   -0.021662\n",
       "ALXN   -0.021586\n",
       "HSY    -0.021577\n",
       "Name: 2020-06-03 00:00:00, dtype: float64"
      ]
     },
     "execution_count": 37,
     "metadata": {},
     "output_type": "execute_result"
    }
   ],
   "source": [
    "returns_df.transpose()[\"2020-06-03\"].sort_values(ascending = True).head(20)"
   ]
  },
  {
   "cell_type": "code",
   "execution_count": 38,
   "metadata": {},
   "outputs": [
    {
     "data": {
      "text/plain": [
       "<matplotlib.axes._subplots.AxesSubplot at 0x1a25a452d0>"
      ]
     },
     "execution_count": 38,
     "metadata": {},
     "output_type": "execute_result"
    },
    {
     "data": {
      "image/png": "[encoded data removed]",
      "text/plain": [
       "<Figure size 1152x432 with 1 Axes>"
      ]
     },
     "metadata": {
      "needs_background": "light"
     },
     "output_type": "display_data"
    }
   ],
   "source": [
    "returns_df.transpose()[\"2020-06-03\"].sort_values(ascending = True).head(20).plot(kind = \"bar\", figsize = (16,6))"
   ]
  },
  {
   "cell_type": "markdown",
   "metadata": {},
   "source": [
    "# Nasdaq - Dips and Spikes"
   ]
  },
  {
   "cell_type": "markdown",
   "metadata": {},
   "source": [
    "- Fetching Data\n",
    "- we will repeat the same process for the Nasdaq"
   ]
  },
  {
   "cell_type": "code",
   "execution_count": 14,
   "metadata": {},
   "outputs": [],
   "source": [
    "nasdaq = pd.DataFrame()"
   ]
  },
  {
   "cell_type": "code",
   "execution_count": 15,
   "metadata": {},
   "outputs": [],
   "source": [
    "nasdaq_data = pd.read_excel(\"resources/nasdaq_100_stocks.xlsx\")"
   ]
  },
  {
   "cell_type": "code",
   "execution_count": 16,
   "metadata": {},
   "outputs": [],
   "source": [
    "nas_tickers = list(nasdaq_data[\"Ticker\"].values)"
   ]
  },
  {
   "cell_type": "code",
   "execution_count": 17,
   "metadata": {},
   "outputs": [],
   "source": [
    "nas_failed = []\n",
    "nas_passed = []\n",
    "for x in nas_tickers:\n",
    "    try:\n",
    "        nasdaq[x] = web.DataReader(x, data_source= \"yahoo\", start = \"2020-1-1\")[\"Adj Close\"]\n",
    "        nas_passed.append(x)\n",
    "    except (IOError, KeyError):\n",
    "        msg = 'Failed to read symbol: {0!r}, replacing with NaN.'\n",
    "        nas_failed.append(x)"
   ]
  },
  {
   "cell_type": "markdown",
   "metadata": {},
   "source": [
    "## Daily Returns for Nasdaq"
   ]
  },
  {
   "cell_type": "code",
   "execution_count": 39,
   "metadata": {},
   "outputs": [],
   "source": [
    "nas_returns = pd.DataFrame()\n",
    "for x in nas_passed:\n",
    "    nasdaq[f\"{x} returns\"] = nasdaq[f\"{x}\"].pct_change()\n",
    "    nas_returns[f\"{x}\"] = nasdaq[f\"{x}\"].pct_change()"
   ]
  },
  {
   "cell_type": "markdown",
   "metadata": {},
   "source": [
    "### Spikes\n",
    " - Top 20 companies with the higheest daily returns"
   ]
  },
  {
   "cell_type": "code",
   "execution_count": 40,
   "metadata": {},
   "outputs": [
    {
     "data": {
      "text/plain": [
       "UAL     0.125042\n",
       "MCHP    0.123399\n",
       "WYNN    0.111772\n",
       "NXPI    0.069985\n",
       "CTAS    0.062000\n",
       "EXPE    0.058418\n",
       "LRCX    0.056841\n",
       "AAL     0.056150\n",
       "HAS     0.052782\n",
       "FOXA    0.050171\n",
       "KLAC    0.049411\n",
       "BIDU    0.048680\n",
       "FOX     0.046761\n",
       "ULTA    0.045933\n",
       "SIRI    0.045150\n",
       "MAR     0.044870\n",
       "MU      0.044853\n",
       "BKNG    0.042882\n",
       "ADI     0.041267\n",
       "AVGO    0.038482\n",
       "Name: 2020-06-03 00:00:00, dtype: float64"
      ]
     },
     "execution_count": 40,
     "metadata": {},
     "output_type": "execute_result"
    }
   ],
   "source": [
    "nas_returns.transpose()[\"2020-06-03\"].sort_values(ascending = False).head(20)"
   ]
  },
  {
   "cell_type": "code",
   "execution_count": 41,
   "metadata": {},
   "outputs": [
    {
     "data": {
      "text/plain": [
       "<matplotlib.axes._subplots.AxesSubplot at 0x1a2213cd10>"
      ]
     },
     "execution_count": 41,
     "metadata": {},
     "output_type": "execute_result"
    },
    {
     "data": {
      "image/png": "[encoded data removed]",
      "text/plain": [
       "<Figure size 1152x432 with 1 Axes>"
      ]
     },
     "metadata": {
      "needs_background": "light"
     },
     "output_type": "display_data"
    }
   ],
   "source": [
    "nas_returns.transpose()[\"2020-06-03\"].sort_values(ascending = False).head(20).plot(kind = \"bar\", figsize = (16,6))"
   ]
  },
  {
   "cell_type": "markdown",
   "metadata": {},
   "source": [
    "## Dips\n",
    "- top 20 companies with the lowest daily returns for today"
   ]
  },
  {
   "cell_type": "code",
   "execution_count": 42,
   "metadata": {},
   "outputs": [
    {
     "data": {
      "text/plain": [
       "<matplotlib.axes._subplots.AxesSubplot at 0x1a22854390>"
      ]
     },
     "execution_count": 42,
     "metadata": {},
     "output_type": "execute_result"
    },
    {
     "data": {
      "image/png": "[encoded data removed]",
      "text/plain": [
       "<Figure size 1152x432 with 1 Axes>"
      ]
     },
     "metadata": {
      "needs_background": "light"
     },
     "output_type": "display_data"
    }
   ],
   "source": [
    "nas_returns.transpose()[\"2020-06-03\"].sort_values(ascending = True).head(20).plot(kind = \"bar\", figsize = (16,6))"
   ]
  },
  {
   "cell_type": "code",
   "execution_count": 43,
   "metadata": {},
   "outputs": [
    {
     "data": {
      "text/plain": [
       "ATVI   -0.041929\n",
       "TTWO   -0.039376\n",
       "EA     -0.036205\n",
       "CTXS   -0.029888\n",
       "VRTX   -0.025539\n",
       "DLTR   -0.024851\n",
       "REGN   -0.021662\n",
       "ALXN   -0.021586\n",
       "ILMN   -0.021117\n",
       "INCY   -0.020515\n",
       "VRSN   -0.015778\n",
       "JBHT   -0.015453\n",
       "AMD    -0.015129\n",
       "NFLX   -0.012497\n",
       "AMGN   -0.012158\n",
       "FB     -0.011000\n",
       "ISRG   -0.009227\n",
       "CHKP   -0.007309\n",
       "MELI   -0.007269\n",
       "NVDA   -0.006317\n",
       "Name: 2020-06-03 00:00:00, dtype: float64"
      ]
     },
     "execution_count": 43,
     "metadata": {},
     "output_type": "execute_result"
    }
   ],
   "source": [
    "nas_returns.transpose()[\"2020-06-03\"].sort_values(ascending = True).head(20)"
   ]
  },
  {
   "cell_type": "markdown",
   "metadata": {},
   "source": [
    "### S&P Vol 2020"
   ]
  },
  {
   "cell_type": "code",
   "execution_count": 52,
   "metadata": {},
   "outputs": [],
   "source": [
    "cols = [x for x in returns_df]"
   ]
  },
  {
   "cell_type": "code",
   "execution_count": 83,
   "metadata": {},
   "outputs": [],
   "source": [
    "sandp_vol = []\n",
    "for x in returns_df.columns:\n",
    "    sandp_vol.append(returns_df[f\"{x}\"].std())"
   ]
  },
  {
   "cell_type": "code",
   "execution_count": 84,
   "metadata": {},
   "outputs": [],
   "source": [
    "s_andp_volitility = pd.DataFrame(sandp_vol, index=cols, columns=[\"vol\"])"
   ]
  },
  {
   "cell_type": "markdown",
   "metadata": {},
   "source": [
    "### Top 10 most volitile companies - S&P 2020 - year to date"
   ]
  },
  {
   "cell_type": "code",
   "execution_count": 90,
   "metadata": {},
   "outputs": [
    {
     "data": {
      "text/plain": [
       "<matplotlib.axes._subplots.AxesSubplot at 0x1a22880190>"
      ]
     },
     "execution_count": 90,
     "metadata": {},
     "output_type": "execute_result"
    },
    {
     "data": {
      "image/png": "[encoded data removed]",
      "text/plain": [
       "<Figure size 1152x432 with 1 Axes>"
      ]
     },
     "metadata": {
      "needs_background": "light"
     },
     "output_type": "display_data"
    }
   ],
   "source": [
    "s_andp_volitility.sort_values(\"vol\", ascending = False).head(20).plot(kind = \"bar\", figsize = (16,6))"
   ]
  },
  {
   "cell_type": "markdown",
   "metadata": {},
   "source": [
    "### Top 10 least volitile companies - S&P 2020 - year to date"
   ]
  },
  {
   "cell_type": "code",
   "execution_count": 99,
   "metadata": {},
   "outputs": [
    {
     "data": {
      "text/plain": [
       "<matplotlib.axes._subplots.AxesSubplot at 0x1a27c3c8d0>"
      ]
     },
     "execution_count": 99,
     "metadata": {},
     "output_type": "execute_result"
    },
    {
     "data": {
      "image/png": "[encoded data removed]",
      "text/plain": [
       "<Figure size 1152x432 with 1 Axes>"
      ]
     },
     "metadata": {
      "needs_background": "light"
     },
     "output_type": "display_data"
    }
   ],
   "source": [
    "s_andp_volitility.sort_values(\"vol\", ascending = True).head(20).plot(kind = \"bar\", figsize = (16,6))"
   ]
  },
  {
   "cell_type": "code",
   "execution_count": null,
   "metadata": {},
   "outputs": [],
   "source": []
  }
 ],
 "metadata": {
  "kernelspec": {
   "display_name": "Python 3",
   "language": "python",
   "name": "python3"
  },
  "language_info": {
   "codemirror_mode": {
    "name": "ipython",
    "version": 3
   },
   "file_extension": ".py",
   "mimetype": "text/x-python",
   "name": "python",
   "nbconvert_exporter": "python",
   "pygments_lexer": "ipython3",
   "version": "3.7.6"
  }
 },
 "nbformat": 4,
 "nbformat_minor": 2
}
