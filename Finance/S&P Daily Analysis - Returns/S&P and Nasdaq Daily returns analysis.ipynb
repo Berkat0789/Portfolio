{
 "cells": [
  {
   "cell_type": "markdown",
   "metadata": {},
   "source": [
    "### Project Overview\n",
    "- Your goal is to evaluate every stock in the s&P500, and Nasdaq Adj Close as well as the daily return\n",
    "- You will look for companies who too a dip (Loss for the day) as  well as companies that have spiked for the today's close"
   ]
  },
  {
   "cell_type": "markdown",
   "metadata": {},
   "source": [
    "## Project approach:\n",
    "- Use pandas data reader to get all Adj Close data for each stock for the year 2020 \n",
    "- Will import all securities form a past project that passed properly through pandas data reader \n",
    "- Add all of resuts to a data frame\n",
    "- Calculate the Daily return for each stock as well as the volitility year to date\n",
    "- group Dips and Spikes - Which are worthy of investing"
   ]
  },
  {
   "cell_type": "code",
   "execution_count": 1,
   "metadata": {},
   "outputs": [
    {
     "name": "stderr",
     "output_type": "stream",
     "text": [
      "/Users/berkatbhatti/opt/anaconda3/lib/python3.7/site-packages/pandas_datareader/compat/__init__.py:7: FutureWarning: pandas.util.testing is deprecated. Use the functions in the public API at pandas.testing instead.\n",
      "  from pandas.util.testing import assert_frame_equal\n"
     ]
    }
   ],
   "source": [
    "import pandas as pd \n",
    "import numpy as np\n",
    "from pandas_datareader import data as web\n",
    "import matplotlib.pyplot as plt\n",
    "import seaborn as sns"
   ]
  },
  {
   "cell_type": "code",
   "execution_count": 2,
   "metadata": {},
   "outputs": [],
   "source": [
    "tickers = pd.read_csv(\"resources/passed_Tickers.csv\", index_col='Unnamed: 0')"
   ]
  },
  {
   "cell_type": "code",
   "execution_count": 3,
   "metadata": {},
   "outputs": [],
   "source": [
    "tickers = list(tickers[\"Tickers\"].values)"
   ]
  },
  {
   "cell_type": "markdown",
   "metadata": {},
   "source": [
    "## Fetching the data \n",
    " - we need ot consider companies that myay no longer exist and or have failed \n",
    " - We also need to store the failed companies for future use"
   ]
  },
  {
   "cell_type": "code",
   "execution_count": 4,
   "metadata": {},
   "outputs": [],
   "source": [
    "data = pd.DataFrame()"
   ]
  },
  {
   "cell_type": "code",
   "execution_count": 5,
   "metadata": {},
   "outputs": [],
   "source": [
    "failed = []\n",
    "passed = []\n",
    "for x in tickers:\n",
    "    try:\n",
    "        data[x] = web.DataReader(x, data_source= \"yahoo\", start = \"2020-1-1\")[\"Adj Close\"]\n",
    "        passed.append(x)\n",
    "    except (IOError, KeyError):\n",
    "        msg = 'Failed to read symbol: {0!r}, replacing with NaN.'\n",
    "        failed.append(x)"
   ]
  },
  {
   "cell_type": "markdown",
   "metadata": {},
   "source": [
    "## Taking A Look at Arconic and the companies Coorelated Year to Date"
   ]
  },
  {
   "cell_type": "code",
   "execution_count": 6,
   "metadata": {},
   "outputs": [
    {
     "data": {
      "text/plain": [
       "<matplotlib.axes._subplots.AxesSubplot at 0x1a1f3cca90>"
      ]
     },
     "execution_count": 6,
     "metadata": {},
     "output_type": "execute_result"
    },
    {
     "data": {
      "image/png": "[encoded data removed]",
      "text/plain": [
       "<Figure size 1152x432 with 1 Axes>"
      ]
     },
     "metadata": {
      "needs_background": "light"
     },
     "output_type": "display_data"
    }
   ],
   "source": [
    "data[\"ARNC\"].plot(figsize = (16,6), marker = \"o\")"
   ]
  },
  {
   "cell_type": "markdown",
   "metadata": {},
   "source": [
    "### Passed Companies Passed \n",
    "- 471 companies passed the yahoo finance "
   ]
  },
  {
   "cell_type": "code",
   "execution_count": 7,
   "metadata": {},
   "outputs": [
    {
     "data": {
      "text/plain": [
       "471"
      ]
     },
     "execution_count": 7,
     "metadata": {},
     "output_type": "execute_result"
    }
   ],
   "source": [
    "len(passed)"
   ]
  },
  {
   "cell_type": "markdown",
   "metadata": {},
   "source": [
    "## Corr to Arconic\n",
    "- Below are the top 20 companies coorelated to arconic "
   ]
  },
  {
   "cell_type": "code",
   "execution_count": 8,
   "metadata": {},
   "outputs": [
    {
     "data": {
      "text/plain": [
       "ARNC    1.000000\n",
       "RTN     1.000000\n",
       "ALB     0.964966\n",
       "GRMN    0.952231\n",
       "PPG     0.952027\n",
       "TDG     0.950921\n",
       "ETFC    0.948006\n",
       "MS      0.947080\n",
       "F       0.944228\n",
       "GD      0.943100\n",
       "MTD     0.939952\n",
       "VTR     0.939481\n",
       "GM      0.937500\n",
       "NKE     0.935470\n",
       "DISH    0.935058\n",
       "LB      0.933399\n",
       "JCI     0.932240\n",
       "GPS     0.931986\n",
       "EL      0.930954\n",
       "CHRW    0.930647\n",
       "dtype: float64"
      ]
     },
     "execution_count": 8,
     "metadata": {},
     "output_type": "execute_result"
    }
   ],
   "source": [
    "data.corrwith(data[\"ARNC\"]).sort_values(ascending = False).head(20)"
   ]
  },
  {
   "cell_type": "markdown",
   "metadata": {},
   "source": [
    "## Daily Returns for each Stock\n",
    "- We will focus on todays closing only to see which companies Dip or spikes"
   ]
  },
  {
   "cell_type": "code",
   "execution_count": 9,
   "metadata": {},
   "outputs": [],
   "source": [
    "returns_df = pd.DataFrame()\n",
    "for x in passed:\n",
    "    data[f\"{x} daily return\"] = data[f\"{x}\"].pct_change()\n",
    "    returns_df[f\"{x}\"] = data[f\"{x}\"].pct_change()"
   ]
  },
  {
   "cell_type": "markdown",
   "metadata": {},
   "source": [
    "## Analysis of todays close - Spikes\n",
    "- top 20 companies that had the highest daily returns at close"
   ]
  },
  {
   "cell_type": "code",
   "execution_count": 10,
   "metadata": {},
   "outputs": [],
   "source": [
    "todaysdate = returns_df.tail()[-1:].iloc[0].name"
   ]
  },
  {
   "cell_type": "code",
   "execution_count": 11,
   "metadata": {},
   "outputs": [
    {
     "data": {
      "text/plain": [
       "KR      0.003991\n",
       "RTN     0.000000\n",
       "COL     0.000000\n",
       "UTX     0.000000\n",
       "AGN     0.000000\n",
       "SCG     0.000000\n",
       "COG    -0.004941\n",
       "WMT    -0.008831\n",
       "DG     -0.009730\n",
       "KMB    -0.011118\n",
       "CLX    -0.011433\n",
       "TIF    -0.013052\n",
       "CHD    -0.014305\n",
       "TGT    -0.016583\n",
       "CL     -0.016945\n",
       "TSCO   -0.017149\n",
       "REGN   -0.017195\n",
       "TTWO   -0.017406\n",
       "ORLY   -0.018152\n",
       "EA     -0.019149\n",
       "Name: 2020-06-11 00:00:00, dtype: float64"
      ]
     },
     "execution_count": 11,
     "metadata": {},
     "output_type": "execute_result"
    }
   ],
   "source": [
    "returns_df.transpose()[todaysdate].sort_values(ascending = False).head(20)"
   ]
  },
  {
   "cell_type": "code",
   "execution_count": 12,
   "metadata": {},
   "outputs": [
    {
     "data": {
      "text/plain": [
       "<matplotlib.axes._subplots.AxesSubplot at 0x1a1f4f3110>"
      ]
     },
     "execution_count": 12,
     "metadata": {},
     "output_type": "execute_result"
    },
    {
     "data": {
      "image/png": "[encoded data removed]",
      "text/plain": [
       "<Figure size 1152x432 with 1 Axes>"
      ]
     },
     "metadata": {
      "needs_background": "light"
     },
     "output_type": "display_data"
    }
   ],
   "source": [
    "returns_df.transpose()[todaysdate].sort_values(ascending = False).head(20).plot(kind = 'bar', figsize = (16,6))"
   ]
  },
  {
   "cell_type": "markdown",
   "metadata": {},
   "source": [
    "### Dips \n",
    "- top 20 companies that had the lowest daily returns fot todays close"
   ]
  },
  {
   "cell_type": "code",
   "execution_count": 13,
   "metadata": {},
   "outputs": [
    {
     "data": {
      "text/plain": [
       "NCLH   -0.164649\n",
       "BA     -0.164250\n",
       "OXY    -0.161368\n",
       "UAL    -0.161128\n",
       "ADS    -0.158798\n",
       "OKE    -0.158409\n",
       "HP     -0.158108\n",
       "AAL    -0.155112\n",
       "HAL    -0.153687\n",
       "CCL    -0.152987\n",
       "M      -0.148615\n",
       "BHF    -0.145078\n",
       "RCL    -0.142790\n",
       "ALK    -0.141996\n",
       "NOV    -0.141791\n",
       "DAL    -0.140329\n",
       "MAC    -0.139098\n",
       "APA    -0.137559\n",
       "FCX    -0.136007\n",
       "C      -0.133727\n",
       "Name: 2020-06-11 00:00:00, dtype: float64"
      ]
     },
     "execution_count": 13,
     "metadata": {},
     "output_type": "execute_result"
    }
   ],
   "source": [
    "returns_df.transpose()[todaysdate].sort_values(ascending = True).head(20)"
   ]
  },
  {
   "cell_type": "code",
   "execution_count": 14,
   "metadata": {},
   "outputs": [
    {
     "data": {
      "text/plain": [
       "<matplotlib.axes._subplots.AxesSubplot at 0x1a1f5a5150>"
      ]
     },
     "execution_count": 14,
     "metadata": {},
     "output_type": "execute_result"
    },
    {
     "data": {
      "image/png": "[encoded data removed]",
      "text/plain": [
       "<Figure size 1152x432 with 1 Axes>"
      ]
     },
     "metadata": {
      "needs_background": "light"
     },
     "output_type": "display_data"
    }
   ],
   "source": [
    "returns_df.transpose()[todaysdate].sort_values(ascending = True).head(20).plot(kind = \"bar\", figsize = (16,6))"
   ]
  },
  {
   "cell_type": "markdown",
   "metadata": {},
   "source": [
    "# Nasdaq - Dips and Spikes"
   ]
  },
  {
   "cell_type": "markdown",
   "metadata": {},
   "source": [
    "- Fetching Data\n",
    "- we will repeat the same process for the Nasdaq"
   ]
  },
  {
   "cell_type": "code",
   "execution_count": 15,
   "metadata": {},
   "outputs": [],
   "source": [
    "nasdaq = pd.DataFrame()"
   ]
  },
  {
   "cell_type": "code",
   "execution_count": 16,
   "metadata": {},
   "outputs": [],
   "source": [
    "nasdaq_data = pd.read_excel(\"resources/nasdaq_100_stocks.xlsx\")"
   ]
  },
  {
   "cell_type": "code",
   "execution_count": 17,
   "metadata": {},
   "outputs": [],
   "source": [
    "nas_tickers = list(nasdaq_data[\"Ticker\"].values)"
   ]
  },
  {
   "cell_type": "code",
   "execution_count": 18,
   "metadata": {},
   "outputs": [],
   "source": [
    "nas_failed = []\n",
    "nas_passed = []\n",
    "for x in nas_tickers:\n",
    "    try:\n",
    "        nasdaq[x] = web.DataReader(x, data_source= \"yahoo\", start = \"2020-1-1\")[\"Adj Close\"]\n",
    "        nas_passed.append(x)\n",
    "    except (IOError, KeyError):\n",
    "        msg = 'Failed to read symbol: {0!r}, replacing with NaN.'\n",
    "        nas_failed.append(x)"
   ]
  },
  {
   "cell_type": "markdown",
   "metadata": {},
   "source": [
    "## Daily Returns for Nasdaq"
   ]
  },
  {
   "cell_type": "code",
   "execution_count": 19,
   "metadata": {},
   "outputs": [],
   "source": [
    "nas_returns = pd.DataFrame()\n",
    "for x in nas_passed:\n",
    "    nasdaq[f\"{x} returns\"] = nasdaq[f\"{x}\"].pct_change()\n",
    "    nas_returns[f\"{x}\"] = nasdaq[f\"{x}\"].pct_change()"
   ]
  },
  {
   "cell_type": "markdown",
   "metadata": {},
   "source": [
    "### Spikes\n",
    " - Top 20 companies with the higheest daily returns"
   ]
  },
  {
   "cell_type": "code",
   "execution_count": 20,
   "metadata": {},
   "outputs": [
    {
     "data": {
      "text/plain": [
       "REGN   -0.017195\n",
       "TTWO   -0.017406\n",
       "ORLY   -0.018152\n",
       "EA     -0.019149\n",
       "NFLX   -0.020530\n",
       "COST   -0.021150\n",
       "INCY   -0.023968\n",
       "CTXS   -0.024687\n",
       "DLTR   -0.025910\n",
       "EBAY   -0.026599\n",
       "XEL    -0.027641\n",
       "CHTR   -0.031172\n",
       "NTES   -0.031860\n",
       "AMZN   -0.033802\n",
       "ATVI   -0.034408\n",
       "BMRN   -0.035296\n",
       "MELI   -0.035838\n",
       "AMGN   -0.036192\n",
       "MNST   -0.037479\n",
       "VRTX   -0.038091\n",
       "Name: 2020-06-11 00:00:00, dtype: float64"
      ]
     },
     "execution_count": 20,
     "metadata": {},
     "output_type": "execute_result"
    }
   ],
   "source": [
    "nas_returns.transpose()[todaysdate].sort_values(ascending = False).head(20)"
   ]
  },
  {
   "cell_type": "code",
   "execution_count": 21,
   "metadata": {},
   "outputs": [
    {
     "data": {
      "text/plain": [
       "<matplotlib.axes._subplots.AxesSubplot at 0x1a2a490950>"
      ]
     },
     "execution_count": 21,
     "metadata": {},
     "output_type": "execute_result"
    },
    {
     "data": {
      "image/png": "[encoded data removed]",
      "text/plain": [
       "<Figure size 1152x432 with 1 Axes>"
      ]
     },
     "metadata": {
      "needs_background": "light"
     },
     "output_type": "display_data"
    }
   ],
   "source": [
    "nas_returns.transpose()[todaysdate].sort_values(ascending = False).head(20).plot(kind = \"bar\", figsize = (16,6))"
   ]
  },
  {
   "cell_type": "markdown",
   "metadata": {},
   "source": [
    "## Dips\n",
    "- top 20 companies with the lowest daily returns for today"
   ]
  },
  {
   "cell_type": "code",
   "execution_count": 22,
   "metadata": {},
   "outputs": [
    {
     "data": {
      "text/plain": [
       "<matplotlib.axes._subplots.AxesSubplot at 0x1a2a15cdd0>"
      ]
     },
     "execution_count": 22,
     "metadata": {},
     "output_type": "execute_result"
    },
    {
     "data": {
      "image/png": "[encoded data removed]",
      "text/plain": [
       "<Figure size 1152x432 with 1 Axes>"
      ]
     },
     "metadata": {
      "needs_background": "light"
     },
     "output_type": "display_data"
    }
   ],
   "source": [
    "nas_returns.transpose()[todaysdate].sort_values(ascending = True).head(20).plot(kind = \"bar\", figsize = (16,6))"
   ]
  },
  {
   "cell_type": "code",
   "execution_count": 23,
   "metadata": {},
   "outputs": [
    {
     "data": {
      "text/plain": [
       "UAL    -0.161128\n",
       "AAL    -0.155112\n",
       "EXPE   -0.110335\n",
       "NTAP   -0.109909\n",
       "ALGN   -0.109433\n",
       "MAR    -0.108946\n",
       "WDC    -0.096051\n",
       "WYNN   -0.092894\n",
       "ADP    -0.083632\n",
       "BKNG   -0.083620\n",
       "SBUX   -0.081509\n",
       "AMD    -0.080258\n",
       "WBA    -0.079720\n",
       "CSCO   -0.079081\n",
       "QCOM   -0.076805\n",
       "MU     -0.075281\n",
       "AMAT   -0.074340\n",
       "ADSK   -0.073925\n",
       "IDXX   -0.071702\n",
       "FOX    -0.070972\n",
       "Name: 2020-06-11 00:00:00, dtype: float64"
      ]
     },
     "execution_count": 23,
     "metadata": {},
     "output_type": "execute_result"
    }
   ],
   "source": [
    "nas_returns.transpose()[todaysdate].sort_values(ascending = True).head(20)"
   ]
  },
  {
   "cell_type": "markdown",
   "metadata": {},
   "source": [
    "### S&P Vol 2020"
   ]
  },
  {
   "cell_type": "code",
   "execution_count": 24,
   "metadata": {},
   "outputs": [],
   "source": [
    "cols = [x for x in returns_df]"
   ]
  },
  {
   "cell_type": "code",
   "execution_count": 25,
   "metadata": {},
   "outputs": [],
   "source": [
    "sandp_vol = []\n",
    "for x in returns_df.columns:\n",
    "    sandp_vol.append(returns_df[f\"{x}\"].std())"
   ]
  },
  {
   "cell_type": "code",
   "execution_count": 26,
   "metadata": {},
   "outputs": [],
   "source": [
    "s_andp_volitility = pd.DataFrame(sandp_vol, index=cols, columns=[\"vol\"])"
   ]
  },
  {
   "cell_type": "code",
   "execution_count": 27,
   "metadata": {},
   "outputs": [
    {
     "data": {
      "text/html": [
       "<div>\n",
       "<style scoped>\n",
       "    .dataframe tbody tr th:only-of-type {\n",
       "        vertical-align: middle;\n",
       "    }\n",
       "\n",
       "    .dataframe tbody tr th {\n",
       "        vertical-align: top;\n",
       "    }\n",
       "\n",
       "    .dataframe thead th {\n",
       "        text-align: right;\n",
       "    }\n",
       "</style>\n",
       "<table border=\"1\" class=\"dataframe\">\n",
       "  <thead>\n",
       "    <tr style=\"text-align: right;\">\n",
       "      <th></th>\n",
       "      <th>vol</th>\n",
       "    </tr>\n",
       "  </thead>\n",
       "  <tbody>\n",
       "    <tr>\n",
       "      <th>MMM</th>\n",
       "      <td>0.031727</td>\n",
       "    </tr>\n",
       "    <tr>\n",
       "      <th>AOS</th>\n",
       "      <td>0.029962</td>\n",
       "    </tr>\n",
       "    <tr>\n",
       "      <th>ABT</th>\n",
       "      <td>0.032811</td>\n",
       "    </tr>\n",
       "    <tr>\n",
       "      <th>ABBV</th>\n",
       "      <td>0.028582</td>\n",
       "    </tr>\n",
       "    <tr>\n",
       "      <th>ACN</th>\n",
       "      <td>0.034968</td>\n",
       "    </tr>\n",
       "    <tr>\n",
       "      <th>...</th>\n",
       "      <td>...</td>\n",
       "    </tr>\n",
       "    <tr>\n",
       "      <th>XYL</th>\n",
       "      <td>0.039282</td>\n",
       "    </tr>\n",
       "    <tr>\n",
       "      <th>YUM</th>\n",
       "      <td>0.039265</td>\n",
       "    </tr>\n",
       "    <tr>\n",
       "      <th>ZBH</th>\n",
       "      <td>0.041176</td>\n",
       "    </tr>\n",
       "    <tr>\n",
       "      <th>ZION</th>\n",
       "      <td>0.040871</td>\n",
       "    </tr>\n",
       "    <tr>\n",
       "      <th>ZTS</th>\n",
       "      <td>0.033699</td>\n",
       "    </tr>\n",
       "  </tbody>\n",
       "</table>\n",
       "<p>470 rows × 1 columns</p>\n",
       "</div>"
      ],
      "text/plain": [
       "           vol\n",
       "MMM   0.031727\n",
       "AOS   0.029962\n",
       "ABT   0.032811\n",
       "ABBV  0.028582\n",
       "ACN   0.034968\n",
       "...        ...\n",
       "XYL   0.039282\n",
       "YUM   0.039265\n",
       "ZBH   0.041176\n",
       "ZION  0.040871\n",
       "ZTS   0.033699\n",
       "\n",
       "[470 rows x 1 columns]"
      ]
     },
     "execution_count": 27,
     "metadata": {},
     "output_type": "execute_result"
    }
   ],
   "source": [
    "s_andp_volitility.drop(\"EW\")"
   ]
  },
  {
   "cell_type": "markdown",
   "metadata": {},
   "source": [
    "### Top 10 most volitile companies - S&P 2020 - year to date"
   ]
  },
  {
   "cell_type": "code",
   "execution_count": 28,
   "metadata": {},
   "outputs": [
    {
     "data": {
      "text/plain": [
       "<matplotlib.axes._subplots.AxesSubplot at 0x1a2a912790>"
      ]
     },
     "execution_count": 28,
     "metadata": {},
     "output_type": "execute_result"
    },
    {
     "data": {
      "image/png": "[encoded data removed]",
      "text/plain": [
       "<Figure size 1152x432 with 1 Axes>"
      ]
     },
     "metadata": {
      "needs_background": "light"
     },
     "output_type": "display_data"
    }
   ],
   "source": [
    "s_andp_volitility.drop(\"EW\").sort_values(\"vol\", ascending = False).head(20).plot(kind = \"bar\", figsize = (16,6))"
   ]
  },
  {
   "cell_type": "markdown",
   "metadata": {},
   "source": [
    "### Top 10 least volitile companies - S&P 2020 - year to date"
   ]
  },
  {
   "cell_type": "code",
   "execution_count": 29,
   "metadata": {},
   "outputs": [
    {
     "data": {
      "text/plain": [
       "<matplotlib.axes._subplots.AxesSubplot at 0x1a2a59e290>"
      ]
     },
     "execution_count": 29,
     "metadata": {},
     "output_type": "execute_result"
    },
    {
     "data": {
      "image/png": "[encoded data removed]",
      "text/plain": [
       "<Figure size 1152x432 with 1 Axes>"
      ]
     },
     "metadata": {
      "needs_background": "light"
     },
     "output_type": "display_data"
    }
   ],
   "source": [
    "s_andp_volitility.sort_values(\"vol\", ascending = True).head(20).plot(kind = \"bar\", figsize = (16,6))"
   ]
  },
  {
   "cell_type": "code",
   "execution_count": null,
   "metadata": {},
   "outputs": [],
   "source": []
  }
 ],
 "metadata": {
  "kernelspec": {
   "display_name": "Python 3",
   "language": "python",
   "name": "python3"
  },
  "language_info": {
   "codemirror_mode": {
    "name": "ipython",
    "version": 3
   },
   "file_extension": ".py",
   "mimetype": "text/x-python",
   "name": "python",
   "nbconvert_exporter": "python",
   "pygments_lexer": "ipython3",
   "version": "3.7.4"
  }
 },
 "nbformat": 4,
 "nbformat_minor": 2
}
