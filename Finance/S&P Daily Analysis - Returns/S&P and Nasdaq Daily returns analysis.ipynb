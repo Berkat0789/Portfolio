{
 "cells": [
  {
   "cell_type": "markdown",
   "metadata": {},
   "source": [
    "### Project Overview\n",
    "- Your goal is to evaluate every stock in the s&P500, and Nasdaq Adj Close as well as the daily return\n",
    "- You will look for companies who too a dip (Loss for the day) as  well as companies that have spiked for the today's close"
   ]
  },
  {
   "cell_type": "markdown",
   "metadata": {},
   "source": [
    "## Project approach:\n",
    "- Use pandas data reader to get all Adj Close data for each stock for the year 2020 \n",
    "- Will import all securities form a past project that passed properly through pandas data reader \n",
    "- Add all of resuts to a data frame\n",
    "- Calculate the Daily return for each stock as well as the volitility year to date\n",
    "- group Dips and Spikes - Which are worthy of investing"
   ]
  },
  {
   "cell_type": "code",
   "execution_count": 1,
   "metadata": {},
   "outputs": [
    {
     "name": "stderr",
     "output_type": "stream",
     "text": [
      "/Users/berkatbhatti/opt/anaconda3/lib/python3.7/site-packages/pandas_datareader/compat/__init__.py:7: FutureWarning: pandas.util.testing is deprecated. Use the functions in the public API at pandas.testing instead.\n",
      "  from pandas.util.testing import assert_frame_equal\n"
     ]
    }
   ],
   "source": [
    "import pandas as pd \n",
    "import numpy as np\n",
    "from pandas_datareader import data as web\n",
    "import matplotlib.pyplot as plt\n",
    "import seaborn as sns"
   ]
  },
  {
   "cell_type": "code",
   "execution_count": 2,
   "metadata": {},
   "outputs": [],
   "source": [
    "tickers = pd.read_csv(\"resources/passed_Tickers.csv\", index_col='Unnamed: 0')"
   ]
  },
  {
   "cell_type": "code",
   "execution_count": 3,
   "metadata": {},
   "outputs": [],
   "source": [
    "tickers = list(tickers[\"Tickers\"].values)"
   ]
  },
  {
   "cell_type": "markdown",
   "metadata": {},
   "source": [
    "## Fetching the data \n",
    " - we need ot consider companies that myay no longer exist and or have failed \n",
    " - We also need to store the failed companies for future use"
   ]
  },
  {
   "cell_type": "code",
   "execution_count": 4,
   "metadata": {},
   "outputs": [],
   "source": [
    "data = pd.DataFrame()"
   ]
  },
  {
   "cell_type": "code",
   "execution_count": 5,
   "metadata": {},
   "outputs": [],
   "source": [
    "failed = []\n",
    "passed = []\n",
    "for x in tickers:\n",
    "    try:\n",
    "        data[x] = web.DataReader(x, data_source= \"yahoo\", start = \"2020-1-1\")[\"Adj Close\"]\n",
    "        passed.append(x)\n",
    "    except (IOError, KeyError):\n",
    "        msg = 'Failed to read symbol: {0!r}, replacing with NaN.'\n",
    "        failed.append(x)"
   ]
  },
  {
   "cell_type": "markdown",
   "metadata": {},
   "source": [
    "## Taking A Look at Arconic and the companies Coorelated Year to Date"
   ]
  },
  {
   "cell_type": "code",
   "execution_count": 6,
   "metadata": {},
   "outputs": [
    {
     "data": {
      "text/plain": [
       "<matplotlib.axes._subplots.AxesSubplot at 0x1a181b91d0>"
      ]
     },
     "execution_count": 6,
     "metadata": {},
     "output_type": "execute_result"
    },
    {
     "data": {
      "image/png": "[encoded data removed]",
      "text/plain": [
       "<Figure size 1152x432 with 1 Axes>"
      ]
     },
     "metadata": {
      "needs_background": "light"
     },
     "output_type": "display_data"
    }
   ],
   "source": [
    "data[\"ARNC\"].plot(figsize = (16,6), marker = \"o\")"
   ]
  },
  {
   "cell_type": "markdown",
   "metadata": {},
   "source": [
    "### Passed Companies Passed \n",
    "- 471 companies passed the yahoo finance "
   ]
  },
  {
   "cell_type": "code",
   "execution_count": 7,
   "metadata": {},
   "outputs": [
    {
     "data": {
      "text/plain": [
       "471"
      ]
     },
     "execution_count": 7,
     "metadata": {},
     "output_type": "execute_result"
    }
   ],
   "source": [
    "len(passed)"
   ]
  },
  {
   "cell_type": "markdown",
   "metadata": {},
   "source": [
    "## Corr to Arconic\n",
    "- Below are the top 20 companies coorelated to arconic "
   ]
  },
  {
   "cell_type": "code",
   "execution_count": 8,
   "metadata": {},
   "outputs": [
    {
     "data": {
      "text/plain": [
       "ARNC    1.000000\n",
       "RTN     1.000000\n",
       "ALB     0.951005\n",
       "PPG     0.941833\n",
       "MTD     0.936192\n",
       "TDG     0.933676\n",
       "GRMN    0.930184\n",
       "F       0.927472\n",
       "ETFC    0.926549\n",
       "MS      0.925670\n",
       "NKE     0.920935\n",
       "GD      0.920888\n",
       "GM      0.918445\n",
       "LB      0.916974\n",
       "EL      0.915942\n",
       "XRAY    0.915343\n",
       "VTR     0.914605\n",
       "ALK     0.912026\n",
       "DISH    0.911504\n",
       "CHRW    0.908565\n",
       "dtype: float64"
      ]
     },
     "execution_count": 8,
     "metadata": {},
     "output_type": "execute_result"
    }
   ],
   "source": [
    "data.corrwith(data[\"ARNC\"]).sort_values(ascending = False).head(20)"
   ]
  },
  {
   "cell_type": "markdown",
   "metadata": {},
   "source": [
    "## Daily Returns for each Stock\n",
    "- We will focus on todays closing only to see which companies Dip or spikes"
   ]
  },
  {
   "cell_type": "code",
   "execution_count": 9,
   "metadata": {},
   "outputs": [],
   "source": [
    "returns_df = pd.DataFrame()\n",
    "for x in passed:\n",
    "    data[f\"{x} daily return\"] = data[f\"{x}\"].pct_change()\n",
    "    returns_df[f\"{x}\"] = data[f\"{x}\"].pct_change()"
   ]
  },
  {
   "cell_type": "markdown",
   "metadata": {},
   "source": [
    "## Analysis of todays close - Spikes\n",
    "- top 20 companies that had the highest daily returns at close"
   ]
  },
  {
   "cell_type": "code",
   "execution_count": 28,
   "metadata": {},
   "outputs": [
    {
     "data": {
      "text/plain": [
       "OXY     0.336978\n",
       "APA     0.236154\n",
       "RCL     0.203675\n",
       "MAC     0.192308\n",
       "MRO     0.174960\n",
       "CCL     0.163961\n",
       "TRIP    0.158110\n",
       "SPG     0.154698\n",
       "DVN     0.147799\n",
       "NCLH    0.144972\n",
       "F       0.117199\n",
       "KSS     0.114933\n",
       "BA      0.114650\n",
       "OKE     0.113977\n",
       "FTI     0.113821\n",
       "AAL     0.111842\n",
       "XEC     0.110920\n",
       "NBL     0.110454\n",
       "ALGN    0.108202\n",
       "ADS     0.106547\n",
       "Name: 2020-06-05 00:00:00, dtype: float64"
      ]
     },
     "execution_count": 28,
     "metadata": {},
     "output_type": "execute_result"
    }
   ],
   "source": [
    "returns_df.transpose()[\"2020-06-05\"].sort_values(ascending = False).head(20)"
   ]
  },
  {
   "cell_type": "code",
   "execution_count": 29,
   "metadata": {},
   "outputs": [
    {
     "data": {
      "text/plain": [
       "<matplotlib.axes._subplots.AxesSubplot at 0x1a23832490>"
      ]
     },
     "execution_count": 29,
     "metadata": {},
     "output_type": "execute_result"
    },
    {
     "data": {
      "image/png": "[encoded data removed]",
      "text/plain": [
       "<Figure size 1152x432 with 1 Axes>"
      ]
     },
     "metadata": {
      "needs_background": "light"
     },
     "output_type": "display_data"
    }
   ],
   "source": [
    "returns_df.transpose()[\"2020-06-05\"].sort_values(ascending = False).head(20).plot(kind = 'bar', figsize = (16,6))"
   ]
  },
  {
   "cell_type": "markdown",
   "metadata": {},
   "source": [
    "### Dips \n",
    "- top 20 companies that had the lowest daily returns fot todays close"
   ]
  },
  {
   "cell_type": "code",
   "execution_count": 30,
   "metadata": {},
   "outputs": [
    {
     "data": {
      "text/plain": [
       "NKTR   -0.035931\n",
       "CLX    -0.032705\n",
       "CBOE   -0.031575\n",
       "AKAM   -0.027887\n",
       "VRTX   -0.026134\n",
       "NEM    -0.020394\n",
       "DGX    -0.020330\n",
       "BLL    -0.019496\n",
       "KR     -0.019028\n",
       "CHTR   -0.017240\n",
       "SJM    -0.015215\n",
       "CPB    -0.012098\n",
       "ILMN   -0.011970\n",
       "SBAC   -0.011344\n",
       "EBAY   -0.010940\n",
       "IQV    -0.010780\n",
       "FLIR   -0.010654\n",
       "GILD   -0.010188\n",
       "LLY    -0.009953\n",
       "A      -0.008339\n",
       "Name: 2020-06-05 00:00:00, dtype: float64"
      ]
     },
     "execution_count": 30,
     "metadata": {},
     "output_type": "execute_result"
    }
   ],
   "source": [
    "returns_df.transpose()[\"2020-06-05\"].sort_values(ascending = True).head(20)"
   ]
  },
  {
   "cell_type": "code",
   "execution_count": 31,
   "metadata": {},
   "outputs": [
    {
     "data": {
      "text/plain": [
       "<matplotlib.axes._subplots.AxesSubplot at 0x1a23c69810>"
      ]
     },
     "execution_count": 31,
     "metadata": {},
     "output_type": "execute_result"
    },
    {
     "data": {
      "image/png": "[encoded data removed]",
      "text/plain": [
       "<Figure size 1152x432 with 1 Axes>"
      ]
     },
     "metadata": {
      "needs_background": "light"
     },
     "output_type": "display_data"
    }
   ],
   "source": [
    "returns_df.transpose()[\"2020-06-05\"].sort_values(ascending = True).head(20).plot(kind = \"bar\", figsize = (16,6))"
   ]
  },
  {
   "cell_type": "markdown",
   "metadata": {},
   "source": [
    "# Nasdaq - Dips and Spikes"
   ]
  },
  {
   "cell_type": "markdown",
   "metadata": {},
   "source": [
    "- Fetching Data\n",
    "- we will repeat the same process for the Nasdaq"
   ]
  },
  {
   "cell_type": "code",
   "execution_count": 14,
   "metadata": {},
   "outputs": [],
   "source": [
    "nasdaq = pd.DataFrame()"
   ]
  },
  {
   "cell_type": "code",
   "execution_count": 15,
   "metadata": {},
   "outputs": [],
   "source": [
    "nasdaq_data = pd.read_excel(\"resources/nasdaq_100_stocks.xlsx\")"
   ]
  },
  {
   "cell_type": "code",
   "execution_count": 16,
   "metadata": {},
   "outputs": [],
   "source": [
    "nas_tickers = list(nasdaq_data[\"Ticker\"].values)"
   ]
  },
  {
   "cell_type": "code",
   "execution_count": 17,
   "metadata": {},
   "outputs": [],
   "source": [
    "nas_failed = []\n",
    "nas_passed = []\n",
    "for x in nas_tickers:\n",
    "    try:\n",
    "        nasdaq[x] = web.DataReader(x, data_source= \"yahoo\", start = \"2020-1-1\")[\"Adj Close\"]\n",
    "        nas_passed.append(x)\n",
    "    except (IOError, KeyError):\n",
    "        msg = 'Failed to read symbol: {0!r}, replacing with NaN.'\n",
    "        nas_failed.append(x)"
   ]
  },
  {
   "cell_type": "markdown",
   "metadata": {},
   "source": [
    "## Daily Returns for Nasdaq"
   ]
  },
  {
   "cell_type": "code",
   "execution_count": 18,
   "metadata": {},
   "outputs": [],
   "source": [
    "nas_returns = pd.DataFrame()\n",
    "for x in nas_passed:\n",
    "    nasdaq[f\"{x} returns\"] = nasdaq[f\"{x}\"].pct_change()\n",
    "    nas_returns[f\"{x}\"] = nasdaq[f\"{x}\"].pct_change()"
   ]
  },
  {
   "cell_type": "markdown",
   "metadata": {},
   "source": [
    "### Spikes\n",
    " - Top 20 companies with the higheest daily returns"
   ]
  },
  {
   "cell_type": "code",
   "execution_count": 32,
   "metadata": {},
   "outputs": [
    {
     "data": {
      "text/plain": [
       "AAL     0.111842\n",
       "ALGN    0.108202\n",
       "UAL     0.084655\n",
       "PAYX    0.078986\n",
       "ADP     0.067747\n",
       "WYNN    0.065318\n",
       "CTAS    0.064225\n",
       "NTAP    0.061865\n",
       "SWKS    0.058211\n",
       "WDC     0.053936\n",
       "ISRG    0.050527\n",
       "NTES    0.050270\n",
       "HAS     0.049312\n",
       "BIDU    0.048964\n",
       "MU      0.048809\n",
       "LRCX    0.044819\n",
       "JD      0.044586\n",
       "SBUX    0.043180\n",
       "HSIC    0.040297\n",
       "BKNG    0.040169\n",
       "Name: 2020-06-05 00:00:00, dtype: float64"
      ]
     },
     "execution_count": 32,
     "metadata": {},
     "output_type": "execute_result"
    }
   ],
   "source": [
    "nas_returns.transpose()[\"2020-06-05\"].sort_values(ascending = False).head(20)"
   ]
  },
  {
   "cell_type": "code",
   "execution_count": 20,
   "metadata": {},
   "outputs": [
    {
     "data": {
      "text/plain": [
       "<matplotlib.axes._subplots.AxesSubplot at 0x1a1833f810>"
      ]
     },
     "execution_count": 20,
     "metadata": {},
     "output_type": "execute_result"
    },
    {
     "data": {
      "image/png": "[encoded data removed]",
      "text/plain": [
       "<Figure size 1152x432 with 1 Axes>"
      ]
     },
     "metadata": {
      "needs_background": "light"
     },
     "output_type": "display_data"
    }
   ],
   "source": [
    "nas_returns.transpose()[\"2020-06-03\"].sort_values(ascending = False).head(20).plot(kind = \"bar\", figsize = (16,6))"
   ]
  },
  {
   "cell_type": "markdown",
   "metadata": {},
   "source": [
    "## Dips\n",
    "- top 20 companies with the lowest daily returns for today"
   ]
  },
  {
   "cell_type": "code",
   "execution_count": 21,
   "metadata": {},
   "outputs": [
    {
     "data": {
      "text/plain": [
       "<matplotlib.axes._subplots.AxesSubplot at 0x1a232dfed0>"
      ]
     },
     "execution_count": 21,
     "metadata": {},
     "output_type": "execute_result"
    },
    {
     "data": {
      "image/png": "[encoded data removed]",
      "text/plain": [
       "<Figure size 1152x432 with 1 Axes>"
      ]
     },
     "metadata": {
      "needs_background": "light"
     },
     "output_type": "display_data"
    }
   ],
   "source": [
    "nas_returns.transpose()[\"2020-06-03\"].sort_values(ascending = True).head(20).plot(kind = \"bar\", figsize = (16,6))"
   ]
  },
  {
   "cell_type": "code",
   "execution_count": 22,
   "metadata": {},
   "outputs": [
    {
     "data": {
      "text/plain": [
       "ATVI   -0.041929\n",
       "TTWO   -0.039376\n",
       "EA     -0.036205\n",
       "CTXS   -0.029888\n",
       "VRTX   -0.025539\n",
       "DLTR   -0.024851\n",
       "REGN   -0.021662\n",
       "ALXN   -0.021586\n",
       "ILMN   -0.021117\n",
       "INCY   -0.020515\n",
       "VRSN   -0.015778\n",
       "JBHT   -0.015453\n",
       "AMD    -0.015129\n",
       "NFLX   -0.012497\n",
       "AMGN   -0.012158\n",
       "FB     -0.011000\n",
       "ISRG   -0.009227\n",
       "CHKP   -0.007309\n",
       "MELI   -0.007269\n",
       "NVDA   -0.006317\n",
       "Name: 2020-06-03 00:00:00, dtype: float64"
      ]
     },
     "execution_count": 22,
     "metadata": {},
     "output_type": "execute_result"
    }
   ],
   "source": [
    "nas_returns.transpose()[\"2020-06-03\"].sort_values(ascending = True).head(20)"
   ]
  },
  {
   "cell_type": "markdown",
   "metadata": {},
   "source": [
    "### S&P Vol 2020"
   ]
  },
  {
   "cell_type": "code",
   "execution_count": 23,
   "metadata": {},
   "outputs": [],
   "source": [
    "cols = [x for x in returns_df]"
   ]
  },
  {
   "cell_type": "code",
   "execution_count": 24,
   "metadata": {},
   "outputs": [],
   "source": [
    "sandp_vol = []\n",
    "for x in returns_df.columns:\n",
    "    sandp_vol.append(returns_df[f\"{x}\"].std())"
   ]
  },
  {
   "cell_type": "code",
   "execution_count": 25,
   "metadata": {},
   "outputs": [],
   "source": [
    "s_andp_volitility = pd.DataFrame(sandp_vol, index=cols, columns=[\"vol\"])"
   ]
  },
  {
   "cell_type": "code",
   "execution_count": 34,
   "metadata": {},
   "outputs": [
    {
     "data": {
      "text/html": [
       "<div>\n",
       "<style scoped>\n",
       "    .dataframe tbody tr th:only-of-type {\n",
       "        vertical-align: middle;\n",
       "    }\n",
       "\n",
       "    .dataframe tbody tr th {\n",
       "        vertical-align: top;\n",
       "    }\n",
       "\n",
       "    .dataframe thead th {\n",
       "        text-align: right;\n",
       "    }\n",
       "</style>\n",
       "<table border=\"1\" class=\"dataframe\">\n",
       "  <thead>\n",
       "    <tr style=\"text-align: right;\">\n",
       "      <th></th>\n",
       "      <th>vol</th>\n",
       "    </tr>\n",
       "  </thead>\n",
       "  <tbody>\n",
       "    <tr>\n",
       "      <th>MMM</th>\n",
       "      <td>0.031558</td>\n",
       "    </tr>\n",
       "    <tr>\n",
       "      <th>AOS</th>\n",
       "      <td>0.030052</td>\n",
       "    </tr>\n",
       "    <tr>\n",
       "      <th>ABT</th>\n",
       "      <td>0.032819</td>\n",
       "    </tr>\n",
       "    <tr>\n",
       "      <th>ABBV</th>\n",
       "      <td>0.028671</td>\n",
       "    </tr>\n",
       "    <tr>\n",
       "      <th>ACN</th>\n",
       "      <td>0.034979</td>\n",
       "    </tr>\n",
       "    <tr>\n",
       "      <th>...</th>\n",
       "      <td>...</td>\n",
       "    </tr>\n",
       "    <tr>\n",
       "      <th>XYL</th>\n",
       "      <td>0.039300</td>\n",
       "    </tr>\n",
       "    <tr>\n",
       "      <th>YUM</th>\n",
       "      <td>0.039809</td>\n",
       "    </tr>\n",
       "    <tr>\n",
       "      <th>ZBH</th>\n",
       "      <td>0.040826</td>\n",
       "    </tr>\n",
       "    <tr>\n",
       "      <th>ZION</th>\n",
       "      <td>0.039993</td>\n",
       "    </tr>\n",
       "    <tr>\n",
       "      <th>ZTS</th>\n",
       "      <td>0.033707</td>\n",
       "    </tr>\n",
       "  </tbody>\n",
       "</table>\n",
       "<p>470 rows × 1 columns</p>\n",
       "</div>"
      ],
      "text/plain": [
       "           vol\n",
       "MMM   0.031558\n",
       "AOS   0.030052\n",
       "ABT   0.032819\n",
       "ABBV  0.028671\n",
       "ACN   0.034979\n",
       "...        ...\n",
       "XYL   0.039300\n",
       "YUM   0.039809\n",
       "ZBH   0.040826\n",
       "ZION  0.039993\n",
       "ZTS   0.033707\n",
       "\n",
       "[470 rows x 1 columns]"
      ]
     },
     "execution_count": 34,
     "metadata": {},
     "output_type": "execute_result"
    }
   ],
   "source": [
    "s_andp_volitility.drop(\"EW\")"
   ]
  },
  {
   "cell_type": "markdown",
   "metadata": {},
   "source": [
    "### Top 10 most volitile companies - S&P 2020 - year to date"
   ]
  },
  {
   "cell_type": "code",
   "execution_count": 35,
   "metadata": {},
   "outputs": [
    {
     "data": {
      "text/plain": [
       "<matplotlib.axes._subplots.AxesSubplot at 0x1a23a55a10>"
      ]
     },
     "execution_count": 35,
     "metadata": {},
     "output_type": "execute_result"
    },
    {
     "data": {
      "image/png": "[encoded data removed]",
      "text/plain": [
       "<Figure size 1152x432 with 1 Axes>"
      ]
     },
     "metadata": {
      "needs_background": "light"
     },
     "output_type": "display_data"
    }
   ],
   "source": [
    "s_andp_volitility.drop(\"EW\").sort_values(\"vol\", ascending = False).head(20).plot(kind = \"bar\", figsize = (16,6))"
   ]
  },
  {
   "cell_type": "markdown",
   "metadata": {},
   "source": [
    "### Top 10 least volitile companies - S&P 2020 - year to date"
   ]
  },
  {
   "cell_type": "code",
   "execution_count": 27,
   "metadata": {},
   "outputs": [
    {
     "data": {
      "text/plain": [
       "<matplotlib.axes._subplots.AxesSubplot at 0x1a233e14d0>"
      ]
     },
     "execution_count": 27,
     "metadata": {},
     "output_type": "execute_result"
    },
    {
     "data": {
      "image/png": "[encoded data removed]",
      "text/plain": [
       "<Figure size 1152x432 with 1 Axes>"
      ]
     },
     "metadata": {
      "needs_background": "light"
     },
     "output_type": "display_data"
    }
   ],
   "source": [
    "s_andp_volitility.sort_values(\"vol\", ascending = True).head(20).plot(kind = \"bar\", figsize = (16,6))"
   ]
  },
  {
   "cell_type": "code",
   "execution_count": null,
   "metadata": {},
   "outputs": [],
   "source": []
  }
 ],
 "metadata": {
  "kernelspec": {
   "display_name": "Python 3",
   "language": "python",
   "name": "python3"
  },
  "language_info": {
   "codemirror_mode": {
    "name": "ipython",
    "version": 3
   },
   "file_extension": ".py",
   "mimetype": "text/x-python",
   "name": "python",
   "nbconvert_exporter": "python",
   "pygments_lexer": "ipython3",
   "version": "3.7.6"
  }
 },
 "nbformat": 4,
 "nbformat_minor": 2
}
