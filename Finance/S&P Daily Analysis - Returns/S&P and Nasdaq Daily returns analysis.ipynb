{
 "cells": [
  {
   "cell_type": "markdown",
   "metadata": {},
   "source": [
    "### Project Overview\n",
    "- Your goal is to evaluate every stock in the s&P500, and Nasdaq Adj Close as well as the daily return\n",
    "- You will look for companies who too a dip (Loss for the day) as  well as companies that have spiked for the today's close"
   ]
  },
  {
   "cell_type": "markdown",
   "metadata": {},
   "source": [
    "## Project approach:\n",
    "- Use pandas data reader to get all Adj Close data for each stock for the year 2020 \n",
    "- Will import all securities form a past project that passed properly through pandas data reader \n",
    "- Add all of resuts to a data frame\n",
    "- Calculate the Daily return for each stock as well as the volitility year to date\n",
    "- group Dips and Spikes - Which are worthy of investing"
   ]
  },
  {
   "cell_type": "code",
   "execution_count": 1,
   "metadata": {},
   "outputs": [
    {
     "name": "stderr",
     "output_type": "stream",
     "text": [
      "/Users/berkatbhatti/opt/anaconda3/lib/python3.7/site-packages/pandas_datareader/compat/__init__.py:7: FutureWarning: pandas.util.testing is deprecated. Use the functions in the public API at pandas.testing instead.\n",
      "  from pandas.util.testing import assert_frame_equal\n"
     ]
    }
   ],
   "source": [
    "import pandas as pd \n",
    "import numpy as np\n",
    "from pandas_datareader import data as web\n",
    "import matplotlib.pyplot as plt\n",
    "import seaborn as sns"
   ]
  },
  {
   "cell_type": "code",
   "execution_count": 2,
   "metadata": {},
   "outputs": [],
   "source": [
    "tickers = pd.read_csv(\"resources/passed_Tickers.csv\", index_col='Unnamed: 0')"
   ]
  },
  {
   "cell_type": "code",
   "execution_count": 3,
   "metadata": {},
   "outputs": [],
   "source": [
    "tickers = list(tickers[\"Tickers\"].values)"
   ]
  },
  {
   "cell_type": "markdown",
   "metadata": {},
   "source": [
    "## Fetching the data \n",
    " - we need ot consider companies that myay no longer exist and or have failed \n",
    " - We also need to store the failed companies for future use"
   ]
  },
  {
   "cell_type": "code",
   "execution_count": 4,
   "metadata": {},
   "outputs": [],
   "source": [
    "data = pd.DataFrame()"
   ]
  },
  {
   "cell_type": "code",
   "execution_count": 5,
   "metadata": {},
   "outputs": [],
   "source": [
    "failed = []\n",
    "passed = []\n",
    "for x in tickers:\n",
    "    try:\n",
    "        data[x] = web.DataReader(x, data_source= \"yahoo\", start = \"2020-1-1\")[\"Adj Close\"]\n",
    "        passed.append(x)\n",
    "    except (IOError, KeyError):\n",
    "        msg = 'Failed to read symbol: {0!r}, replacing with NaN.'\n",
    "        failed.append(x)"
   ]
  },
  {
   "cell_type": "markdown",
   "metadata": {},
   "source": [
    "## Taking A Look at Arconic and the companies Coorelated Year to Date"
   ]
  },
  {
   "cell_type": "code",
   "execution_count": 6,
   "metadata": {},
   "outputs": [
    {
     "data": {
      "text/plain": [
       "<matplotlib.axes._subplots.AxesSubplot at 0x1a1dbc5650>"
      ]
     },
     "execution_count": 6,
     "metadata": {},
     "output_type": "execute_result"
    },
    {
     "data": {
      "image/png": "[encoded data removed]",
      "text/plain": [
       "<Figure size 1152x432 with 1 Axes>"
      ]
     },
     "metadata": {
      "needs_background": "light"
     },
     "output_type": "display_data"
    }
   ],
   "source": [
    "data[\"ARNC\"].plot(figsize = (16,6), marker = \"o\")"
   ]
  },
  {
   "cell_type": "markdown",
   "metadata": {},
   "source": [
    "### Passed Companies Passed \n",
    "- 471 companies passed the yahoo finance "
   ]
  },
  {
   "cell_type": "code",
   "execution_count": 7,
   "metadata": {},
   "outputs": [
    {
     "data": {
      "text/plain": [
       "471"
      ]
     },
     "execution_count": 7,
     "metadata": {},
     "output_type": "execute_result"
    }
   ],
   "source": [
    "len(passed)"
   ]
  },
  {
   "cell_type": "markdown",
   "metadata": {},
   "source": [
    "## Corr to Arconic\n",
    "- Below are the top 20 companies coorelated to arconic "
   ]
  },
  {
   "cell_type": "code",
   "execution_count": 8,
   "metadata": {},
   "outputs": [
    {
     "data": {
      "text/plain": [
       "ARNC    1.000000\n",
       "RTN     1.000000\n",
       "ALB     0.965220\n",
       "PPG     0.956880\n",
       "TDG     0.950894\n",
       "GRMN    0.950628\n",
       "ETFC    0.947979\n",
       "MS      0.947340\n",
       "MTD     0.946135\n",
       "F       0.943623\n",
       "GD      0.943208\n",
       "VTR     0.939709\n",
       "NKE     0.938766\n",
       "GM      0.938623\n",
       "LB      0.935507\n",
       "DISH    0.933778\n",
       "GPS     0.932035\n",
       "ABC     0.931574\n",
       "XRAY    0.931544\n",
       "EL      0.931263\n",
       "dtype: float64"
      ]
     },
     "execution_count": 8,
     "metadata": {},
     "output_type": "execute_result"
    }
   ],
   "source": [
    "data.corrwith(data[\"ARNC\"]).sort_values(ascending = False).head(20)"
   ]
  },
  {
   "cell_type": "markdown",
   "metadata": {},
   "source": [
    "## Daily Returns for each Stock\n",
    "- We will focus on todays closing only to see which companies Dip or spikes"
   ]
  },
  {
   "cell_type": "code",
   "execution_count": 9,
   "metadata": {},
   "outputs": [],
   "source": [
    "returns_df = pd.DataFrame()\n",
    "for x in passed:\n",
    "    data[f\"{x} daily return\"] = data[f\"{x}\"].pct_change()\n",
    "    returns_df[f\"{x}\"] = data[f\"{x}\"].pct_change()"
   ]
  },
  {
   "cell_type": "markdown",
   "metadata": {},
   "source": [
    "## Analysis of todays close - Spikes\n",
    "- top 20 companies that had the highest daily returns at close"
   ]
  },
  {
   "cell_type": "code",
   "execution_count": 47,
   "metadata": {},
   "outputs": [],
   "source": [
    "todaysdate = returns_df.tail()[-1:].iloc[0].name"
   ]
  },
  {
   "cell_type": "code",
   "execution_count": 48,
   "metadata": {},
   "outputs": [
    {
     "data": {
      "text/plain": [
       "APTV    0.067580\n",
       "IDXX    0.061584\n",
       "CRM     0.043767\n",
       "MSFT    0.037092\n",
       "NVDA    0.035458\n",
       "RMD     0.031519\n",
       "EA      0.031387\n",
       "AAPL    0.027908\n",
       "NEM     0.027287\n",
       "ADBE    0.026627\n",
       "CLX     0.026228\n",
       "ATVI    0.025417\n",
       "ABT     0.023374\n",
       "DG      0.022604\n",
       "TTWO    0.021576\n",
       "PCG     0.021169\n",
       "AMD     0.020885\n",
       "GPN     0.020491\n",
       "PYPL    0.019444\n",
       "DHR     0.019416\n",
       "Name: 2020-06-10 00:00:00, dtype: float64"
      ]
     },
     "execution_count": 48,
     "metadata": {},
     "output_type": "execute_result"
    }
   ],
   "source": [
    "returns_df.transpose()[todaysdate].sort_values(ascending = False).head(20)"
   ]
  },
  {
   "cell_type": "code",
   "execution_count": 49,
   "metadata": {},
   "outputs": [
    {
     "data": {
      "text/plain": [
       "<matplotlib.axes._subplots.AxesSubplot at 0x1a2bb361d0>"
      ]
     },
     "execution_count": 49,
     "metadata": {},
     "output_type": "execute_result"
    },
    {
     "data": {
      "image/png": "[encoded data removed]",
      "text/plain": [
       "<Figure size 1152x432 with 1 Axes>"
      ]
     },
     "metadata": {
      "needs_background": "light"
     },
     "output_type": "display_data"
    }
   ],
   "source": [
    "returns_df.transpose()[todaysdate].sort_values(ascending = False).head(20).plot(kind = 'bar', figsize = (16,6))"
   ]
  },
  {
   "cell_type": "markdown",
   "metadata": {},
   "source": [
    "### Dips \n",
    "- top 20 companies that had the lowest daily returns fot todays close"
   ]
  },
  {
   "cell_type": "code",
   "execution_count": 50,
   "metadata": {},
   "outputs": [
    {
     "data": {
      "text/plain": [
       "NCLH   -0.144219\n",
       "GPS    -0.112670\n",
       "MAC    -0.110368\n",
       "UAL    -0.110215\n",
       "ADS    -0.107385\n",
       "KSS    -0.107196\n",
       "CCL    -0.106771\n",
       "M      -0.105975\n",
       "OXY    -0.104616\n",
       "APA    -0.099516\n",
       "ALK    -0.099349\n",
       "RCL    -0.090402\n",
       "WFC    -0.089488\n",
       "NBL    -0.087436\n",
       "COTY   -0.086879\n",
       "RRC    -0.086093\n",
       "CMA    -0.085430\n",
       "AAL    -0.083008\n",
       "COF    -0.082197\n",
       "TXT    -0.081927\n",
       "Name: 2020-06-10 00:00:00, dtype: float64"
      ]
     },
     "execution_count": 50,
     "metadata": {},
     "output_type": "execute_result"
    }
   ],
   "source": [
    "returns_df.transpose()[todaysdate].sort_values(ascending = True).head(20)"
   ]
  },
  {
   "cell_type": "code",
   "execution_count": 51,
   "metadata": {},
   "outputs": [
    {
     "data": {
      "text/plain": [
       "<matplotlib.axes._subplots.AxesSubplot at 0x1a2b9eb690>"
      ]
     },
     "execution_count": 51,
     "metadata": {},
     "output_type": "execute_result"
    },
    {
     "data": {
      "image/png": "[encoded data removed]",
      "text/plain": [
       "<Figure size 1152x432 with 1 Axes>"
      ]
     },
     "metadata": {
      "needs_background": "light"
     },
     "output_type": "display_data"
    }
   ],
   "source": [
    "returns_df.transpose()[todaysdate].sort_values(ascending = True).head(20).plot(kind = \"bar\", figsize = (16,6))"
   ]
  },
  {
   "cell_type": "markdown",
   "metadata": {},
   "source": [
    "# Nasdaq - Dips and Spikes"
   ]
  },
  {
   "cell_type": "markdown",
   "metadata": {},
   "source": [
    "- Fetching Data\n",
    "- we will repeat the same process for the Nasdaq"
   ]
  },
  {
   "cell_type": "code",
   "execution_count": 14,
   "metadata": {},
   "outputs": [],
   "source": [
    "nasdaq = pd.DataFrame()"
   ]
  },
  {
   "cell_type": "code",
   "execution_count": 15,
   "metadata": {},
   "outputs": [],
   "source": [
    "nasdaq_data = pd.read_excel(\"resources/nasdaq_100_stocks.xlsx\")"
   ]
  },
  {
   "cell_type": "code",
   "execution_count": 16,
   "metadata": {},
   "outputs": [],
   "source": [
    "nas_tickers = list(nasdaq_data[\"Ticker\"].values)"
   ]
  },
  {
   "cell_type": "code",
   "execution_count": 17,
   "metadata": {},
   "outputs": [],
   "source": [
    "nas_failed = []\n",
    "nas_passed = []\n",
    "for x in nas_tickers:\n",
    "    try:\n",
    "        nasdaq[x] = web.DataReader(x, data_source= \"yahoo\", start = \"2020-1-1\")[\"Adj Close\"]\n",
    "        nas_passed.append(x)\n",
    "    except (IOError, KeyError):\n",
    "        msg = 'Failed to read symbol: {0!r}, replacing with NaN.'\n",
    "        nas_failed.append(x)"
   ]
  },
  {
   "cell_type": "markdown",
   "metadata": {},
   "source": [
    "## Daily Returns for Nasdaq"
   ]
  },
  {
   "cell_type": "code",
   "execution_count": 18,
   "metadata": {},
   "outputs": [],
   "source": [
    "nas_returns = pd.DataFrame()\n",
    "for x in nas_passed:\n",
    "    nasdaq[f\"{x} returns\"] = nasdaq[f\"{x}\"].pct_change()\n",
    "    nas_returns[f\"{x}\"] = nasdaq[f\"{x}\"].pct_change()"
   ]
  },
  {
   "cell_type": "markdown",
   "metadata": {},
   "source": [
    "### Spikes\n",
    " - Top 20 companies with the higheest daily returns"
   ]
  },
  {
   "cell_type": "code",
   "execution_count": 52,
   "metadata": {},
   "outputs": [
    {
     "data": {
      "text/plain": [
       "TSLA    0.089702\n",
       "IDXX    0.062343\n",
       "NTES    0.037701\n",
       "MSFT    0.037092\n",
       "NVDA    0.035458\n",
       "JD      0.031962\n",
       "EA      0.030891\n",
       "AAPL    0.025728\n",
       "ATVI    0.025278\n",
       "TMUS    0.025196\n",
       "BMRN    0.024455\n",
       "ADBE    0.024323\n",
       "MELI    0.023487\n",
       "LULU    0.021650\n",
       "TTWO    0.021576\n",
       "PYPL    0.019444\n",
       "AMD     0.018620\n",
       "WDAY    0.018302\n",
       "AMZN    0.017913\n",
       "INTU    0.015863\n",
       "Name: 2020-06-10 00:00:00, dtype: float64"
      ]
     },
     "execution_count": 52,
     "metadata": {},
     "output_type": "execute_result"
    }
   ],
   "source": [
    "nas_returns.transpose()[todaysdate].sort_values(ascending = False).head(20)"
   ]
  },
  {
   "cell_type": "code",
   "execution_count": 53,
   "metadata": {},
   "outputs": [
    {
     "data": {
      "text/plain": [
       "<matplotlib.axes._subplots.AxesSubplot at 0x1a2bbef8d0>"
      ]
     },
     "execution_count": 53,
     "metadata": {},
     "output_type": "execute_result"
    },
    {
     "data": {
      "image/png": "[encoded data removed]",
      "text/plain": [
       "<Figure size 1152x432 with 1 Axes>"
      ]
     },
     "metadata": {
      "needs_background": "light"
     },
     "output_type": "display_data"
    }
   ],
   "source": [
    "nas_returns.transpose()[todaysdate].sort_values(ascending = False).head(20).plot(kind = \"bar\", figsize = (16,6))"
   ]
  },
  {
   "cell_type": "markdown",
   "metadata": {},
   "source": [
    "## Dips\n",
    "- top 20 companies with the lowest daily returns for today"
   ]
  },
  {
   "cell_type": "code",
   "execution_count": 54,
   "metadata": {},
   "outputs": [
    {
     "data": {
      "text/plain": [
       "<matplotlib.axes._subplots.AxesSubplot at 0x1a2bc14f50>"
      ]
     },
     "execution_count": 54,
     "metadata": {},
     "output_type": "execute_result"
    },
    {
     "data": {
      "image/png": "[encoded data removed]",
      "text/plain": [
       "<Figure size 1152x432 with 1 Axes>"
      ]
     },
     "metadata": {
      "needs_background": "light"
     },
     "output_type": "display_data"
    }
   ],
   "source": [
    "nas_returns.transpose()[todaysdate].sort_values(ascending = True).head(20).plot(kind = \"bar\", figsize = (16,6))"
   ]
  },
  {
   "cell_type": "code",
   "execution_count": 55,
   "metadata": {},
   "outputs": [
    {
     "data": {
      "text/plain": [
       "UAL     -0.110215\n",
       "AAL     -0.082480\n",
       "MYL     -0.061518\n",
       "MAR     -0.043794\n",
       "ALGN    -0.043438\n",
       "SBUX    -0.040792\n",
       "HAS     -0.039010\n",
       "HSIC    -0.038260\n",
       "WYNN    -0.037271\n",
       "PCAR    -0.027232\n",
       "ULTA    -0.025625\n",
       "BKNG    -0.025118\n",
       "WBA     -0.022085\n",
       "FOXA    -0.021746\n",
       "WDC     -0.020489\n",
       "FOX     -0.019782\n",
       "SWKS    -0.019404\n",
       "CMCSA   -0.018743\n",
       "KHC     -0.018127\n",
       "SIRI    -0.017378\n",
       "Name: 2020-06-10 00:00:00, dtype: float64"
      ]
     },
     "execution_count": 55,
     "metadata": {},
     "output_type": "execute_result"
    }
   ],
   "source": [
    "nas_returns.transpose()[todaysdate].sort_values(ascending = True).head(20)"
   ]
  },
  {
   "cell_type": "markdown",
   "metadata": {},
   "source": [
    "### S&P Vol 2020"
   ]
  },
  {
   "cell_type": "code",
   "execution_count": 56,
   "metadata": {},
   "outputs": [],
   "source": [
    "cols = [x for x in returns_df]"
   ]
  },
  {
   "cell_type": "code",
   "execution_count": 57,
   "metadata": {},
   "outputs": [],
   "source": [
    "sandp_vol = []\n",
    "for x in returns_df.columns:\n",
    "    sandp_vol.append(returns_df[f\"{x}\"].std())"
   ]
  },
  {
   "cell_type": "code",
   "execution_count": 58,
   "metadata": {},
   "outputs": [],
   "source": [
    "s_andp_volitility = pd.DataFrame(sandp_vol, index=cols, columns=[\"vol\"])"
   ]
  },
  {
   "cell_type": "code",
   "execution_count": 59,
   "metadata": {},
   "outputs": [
    {
     "data": {
      "text/html": [
       "<div>\n",
       "<style scoped>\n",
       "    .dataframe tbody tr th:only-of-type {\n",
       "        vertical-align: middle;\n",
       "    }\n",
       "\n",
       "    .dataframe tbody tr th {\n",
       "        vertical-align: top;\n",
       "    }\n",
       "\n",
       "    .dataframe thead th {\n",
       "        text-align: right;\n",
       "    }\n",
       "</style>\n",
       "<table border=\"1\" class=\"dataframe\">\n",
       "  <thead>\n",
       "    <tr style=\"text-align: right;\">\n",
       "      <th></th>\n",
       "      <th>vol</th>\n",
       "    </tr>\n",
       "  </thead>\n",
       "  <tbody>\n",
       "    <tr>\n",
       "      <th>MMM</th>\n",
       "      <td>0.031154</td>\n",
       "    </tr>\n",
       "    <tr>\n",
       "      <th>AOS</th>\n",
       "      <td>0.029934</td>\n",
       "    </tr>\n",
       "    <tr>\n",
       "      <th>ABT</th>\n",
       "      <td>0.032647</td>\n",
       "    </tr>\n",
       "    <tr>\n",
       "      <th>ABBV</th>\n",
       "      <td>0.028329</td>\n",
       "    </tr>\n",
       "    <tr>\n",
       "      <th>ACN</th>\n",
       "      <td>0.034579</td>\n",
       "    </tr>\n",
       "    <tr>\n",
       "      <th>...</th>\n",
       "      <td>...</td>\n",
       "    </tr>\n",
       "    <tr>\n",
       "      <th>XYL</th>\n",
       "      <td>0.038917</td>\n",
       "    </tr>\n",
       "    <tr>\n",
       "      <th>YUM</th>\n",
       "      <td>0.039290</td>\n",
       "    </tr>\n",
       "    <tr>\n",
       "      <th>ZBH</th>\n",
       "      <td>0.040300</td>\n",
       "    </tr>\n",
       "    <tr>\n",
       "      <th>ZION</th>\n",
       "      <td>0.040310</td>\n",
       "    </tr>\n",
       "    <tr>\n",
       "      <th>ZTS</th>\n",
       "      <td>0.033296</td>\n",
       "    </tr>\n",
       "  </tbody>\n",
       "</table>\n",
       "<p>470 rows × 1 columns</p>\n",
       "</div>"
      ],
      "text/plain": [
       "           vol\n",
       "MMM   0.031154\n",
       "AOS   0.029934\n",
       "ABT   0.032647\n",
       "ABBV  0.028329\n",
       "ACN   0.034579\n",
       "...        ...\n",
       "XYL   0.038917\n",
       "YUM   0.039290\n",
       "ZBH   0.040300\n",
       "ZION  0.040310\n",
       "ZTS   0.033296\n",
       "\n",
       "[470 rows x 1 columns]"
      ]
     },
     "execution_count": 59,
     "metadata": {},
     "output_type": "execute_result"
    }
   ],
   "source": [
    "s_andp_volitility.drop(\"EW\")"
   ]
  },
  {
   "cell_type": "markdown",
   "metadata": {},
   "source": [
    "### Top 10 most volitile companies - S&P 2020 - year to date"
   ]
  },
  {
   "cell_type": "code",
   "execution_count": 60,
   "metadata": {},
   "outputs": [
    {
     "data": {
      "text/plain": [
       "<matplotlib.axes._subplots.AxesSubplot at 0x1a2bbea1d0>"
      ]
     },
     "execution_count": 60,
     "metadata": {},
     "output_type": "execute_result"
    },
    {
     "data": {
      "image/png": "[encoded data removed]",
      "text/plain": [
       "<Figure size 1152x432 with 1 Axes>"
      ]
     },
     "metadata": {
      "needs_background": "light"
     },
     "output_type": "display_data"
    }
   ],
   "source": [
    "s_andp_volitility.drop(\"EW\").sort_values(\"vol\", ascending = False).head(20).plot(kind = \"bar\", figsize = (16,6))"
   ]
  },
  {
   "cell_type": "markdown",
   "metadata": {},
   "source": [
    "### Top 10 least volitile companies - S&P 2020 - year to date"
   ]
  },
  {
   "cell_type": "code",
   "execution_count": 61,
   "metadata": {},
   "outputs": [
    {
     "data": {
      "text/plain": [
       "<matplotlib.axes._subplots.AxesSubplot at 0x1a2af96510>"
      ]
     },
     "execution_count": 61,
     "metadata": {},
     "output_type": "execute_result"
    },
    {
     "data": {
      "image/png": "[encoded data removed]",
      "text/plain": [
       "<Figure size 1152x432 with 1 Axes>"
      ]
     },
     "metadata": {
      "needs_background": "light"
     },
     "output_type": "display_data"
    }
   ],
   "source": [
    "s_andp_volitility.sort_values(\"vol\", ascending = True).head(20).plot(kind = \"bar\", figsize = (16,6))"
   ]
  },
  {
   "cell_type": "code",
   "execution_count": null,
   "metadata": {},
   "outputs": [],
   "source": []
  }
 ],
 "metadata": {
  "kernelspec": {
   "display_name": "Python 3",
   "language": "python",
   "name": "python3"
  },
  "language_info": {
   "codemirror_mode": {
    "name": "ipython",
    "version": 3
   },
   "file_extension": ".py",
   "mimetype": "text/x-python",
   "name": "python",
   "nbconvert_exporter": "python",
   "pygments_lexer": "ipython3",
   "version": "3.7.6"
  }
 },
 "nbformat": 4,
 "nbformat_minor": 2
}
