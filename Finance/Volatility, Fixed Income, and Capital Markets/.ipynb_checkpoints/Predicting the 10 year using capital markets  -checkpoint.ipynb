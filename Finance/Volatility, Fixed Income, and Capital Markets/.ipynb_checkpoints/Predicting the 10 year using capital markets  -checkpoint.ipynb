{
 "cells": [
  {
   "cell_type": "markdown",
   "metadata": {},
   "source": [
    "## Project Summary \n",
    "-- Your goal ifor this project if to create an Artificial Neural Network that will use the OPEN for the  Capital Markets and Volatility to predict the ClOSE for the 10 year Treasury (20 year tome frame)\n",
    "-- Does these markes provide predictive insites on the the 10 Year Treasury Yield? \n",
    "-- How is the model impacted with the addition of Volitily, GOLD, OIL etc"
   ]
  },
  {
   "cell_type": "code",
   "execution_count": 166,
   "metadata": {},
   "outputs": [],
   "source": [
    "import pandas as pd\n",
    "import numpy as np\n",
    "import matplotlib.pyplot as plt\n",
    "import seaborn as sns\n",
    "from pandas_datareader import data as web"
   ]
  },
  {
   "cell_type": "code",
   "execution_count": 167,
   "metadata": {},
   "outputs": [],
   "source": [
    "capital_tickers = [\"^GSPC\",\"^DJI\", \"^IXIC\",\"^RUT\"]\n",
    "## \"CL=F\", \"GC=F\",\"SI=F\",\"EURUSD=X\""
   ]
  },
  {
   "cell_type": "code",
   "execution_count": 168,
   "metadata": {},
   "outputs": [],
   "source": [
    "capital_data = pd.DataFrame()"
   ]
  },
  {
   "cell_type": "code",
   "execution_count": 169,
   "metadata": {},
   "outputs": [],
   "source": [
    "for t in capital_tickers:\n",
    "    capital_data[t] = web.DataReader(t, data_source=\"yahoo\", start = \"2000-1-1\")[\"Open\"]"
   ]
  },
  {
   "cell_type": "code",
   "execution_count": 170,
   "metadata": {},
   "outputs": [
    {
     "data": {
      "text/html": [
       "<div>\n",
       "<style scoped>\n",
       "    .dataframe tbody tr th:only-of-type {\n",
       "        vertical-align: middle;\n",
       "    }\n",
       "\n",
       "    .dataframe tbody tr th {\n",
       "        vertical-align: top;\n",
       "    }\n",
       "\n",
       "    .dataframe thead th {\n",
       "        text-align: right;\n",
       "    }\n",
       "</style>\n",
       "<table border=\"1\" class=\"dataframe\">\n",
       "  <thead>\n",
       "    <tr style=\"text-align: right;\">\n",
       "      <th></th>\n",
       "      <th>^GSPC</th>\n",
       "      <th>^DJI</th>\n",
       "      <th>^IXIC</th>\n",
       "      <th>^RUT</th>\n",
       "    </tr>\n",
       "    <tr>\n",
       "      <th>Date</th>\n",
       "      <th></th>\n",
       "      <th></th>\n",
       "      <th></th>\n",
       "      <th></th>\n",
       "    </tr>\n",
       "  </thead>\n",
       "  <tbody>\n",
       "    <tr>\n",
       "      <th>2000-01-03</th>\n",
       "      <td>1469.250000</td>\n",
       "      <td>11501.849609</td>\n",
       "      <td>4186.189941</td>\n",
       "      <td>504.760010</td>\n",
       "    </tr>\n",
       "    <tr>\n",
       "      <th>2000-01-04</th>\n",
       "      <td>1455.219971</td>\n",
       "      <td>11349.750000</td>\n",
       "      <td>4020.000000</td>\n",
       "      <td>497.049988</td>\n",
       "    </tr>\n",
       "    <tr>\n",
       "      <th>2000-01-05</th>\n",
       "      <td>1399.420044</td>\n",
       "      <td>10989.370117</td>\n",
       "      <td>3854.350098</td>\n",
       "      <td>478.380005</td>\n",
       "    </tr>\n",
       "    <tr>\n",
       "      <th>2000-01-06</th>\n",
       "      <td>1402.109985</td>\n",
       "      <td>11113.370117</td>\n",
       "      <td>3834.439941</td>\n",
       "      <td>478.829987</td>\n",
       "    </tr>\n",
       "    <tr>\n",
       "      <th>2000-01-07</th>\n",
       "      <td>1403.449951</td>\n",
       "      <td>11247.059570</td>\n",
       "      <td>3711.090088</td>\n",
       "      <td>475.339996</td>\n",
       "    </tr>\n",
       "    <tr>\n",
       "      <th>...</th>\n",
       "      <td>...</td>\n",
       "      <td>...</td>\n",
       "      <td>...</td>\n",
       "      <td>...</td>\n",
       "    </tr>\n",
       "    <tr>\n",
       "      <th>2020-10-12</th>\n",
       "      <td>3500.020020</td>\n",
       "      <td>28671.119141</td>\n",
       "      <td>11732.330078</td>\n",
       "      <td>1642.459961</td>\n",
       "    </tr>\n",
       "    <tr>\n",
       "      <th>2020-10-13</th>\n",
       "      <td>3534.010010</td>\n",
       "      <td>28764.949219</td>\n",
       "      <td>11901.759766</td>\n",
       "      <td>1647.569946</td>\n",
       "    </tr>\n",
       "    <tr>\n",
       "      <th>2020-10-14</th>\n",
       "      <td>3515.469971</td>\n",
       "      <td>28731.300781</td>\n",
       "      <td>11889.070312</td>\n",
       "      <td>1637.969971</td>\n",
       "    </tr>\n",
       "    <tr>\n",
       "      <th>2020-10-15</th>\n",
       "      <td>3453.719971</td>\n",
       "      <td>28323.400391</td>\n",
       "      <td>11559.879883</td>\n",
       "      <td>1618.880005</td>\n",
       "    </tr>\n",
       "    <tr>\n",
       "      <th>2020-10-16</th>\n",
       "      <td>3493.500000</td>\n",
       "      <td>28570.720703</td>\n",
       "      <td>11761.830078</td>\n",
       "      <td>1638.479980</td>\n",
       "    </tr>\n",
       "  </tbody>\n",
       "</table>\n",
       "<p>5232 rows × 4 columns</p>\n",
       "</div>"
      ],
      "text/plain": [
       "                  ^GSPC          ^DJI         ^IXIC         ^RUT\n",
       "Date                                                            \n",
       "2000-01-03  1469.250000  11501.849609   4186.189941   504.760010\n",
       "2000-01-04  1455.219971  11349.750000   4020.000000   497.049988\n",
       "2000-01-05  1399.420044  10989.370117   3854.350098   478.380005\n",
       "2000-01-06  1402.109985  11113.370117   3834.439941   478.829987\n",
       "2000-01-07  1403.449951  11247.059570   3711.090088   475.339996\n",
       "...                 ...           ...           ...          ...\n",
       "2020-10-12  3500.020020  28671.119141  11732.330078  1642.459961\n",
       "2020-10-13  3534.010010  28764.949219  11901.759766  1647.569946\n",
       "2020-10-14  3515.469971  28731.300781  11889.070312  1637.969971\n",
       "2020-10-15  3453.719971  28323.400391  11559.879883  1618.880005\n",
       "2020-10-16  3493.500000  28570.720703  11761.830078  1638.479980\n",
       "\n",
       "[5232 rows x 4 columns]"
      ]
     },
     "execution_count": 170,
     "metadata": {},
     "output_type": "execute_result"
    }
   ],
   "source": [
    "capital_data"
   ]
  },
  {
   "cell_type": "markdown",
   "metadata": {},
   "source": [
    "## Checking for missing Data\n",
    "- Below we can see there is data missing from a few features so we ill need to take that into consideration when training our model"
   ]
  },
  {
   "cell_type": "code",
   "execution_count": 171,
   "metadata": {},
   "outputs": [
    {
     "data": {
      "text/plain": [
       "^GSPC    0\n",
       "^DJI     0\n",
       "^IXIC    0\n",
       "^RUT     1\n",
       "dtype: int64"
      ]
     },
     "execution_count": 171,
     "metadata": {},
     "output_type": "execute_result"
    }
   ],
   "source": [
    "capital_data.isnull().sum()"
   ]
  },
  {
   "cell_type": "code",
   "execution_count": 172,
   "metadata": {},
   "outputs": [
    {
     "data": {
      "text/html": [
       "<div>\n",
       "<style scoped>\n",
       "    .dataframe tbody tr th:only-of-type {\n",
       "        vertical-align: middle;\n",
       "    }\n",
       "\n",
       "    .dataframe tbody tr th {\n",
       "        vertical-align: top;\n",
       "    }\n",
       "\n",
       "    .dataframe thead th {\n",
       "        text-align: right;\n",
       "    }\n",
       "</style>\n",
       "<table border=\"1\" class=\"dataframe\">\n",
       "  <thead>\n",
       "    <tr style=\"text-align: right;\">\n",
       "      <th></th>\n",
       "      <th>^GSPC</th>\n",
       "      <th>^DJI</th>\n",
       "      <th>^IXIC</th>\n",
       "      <th>^RUT</th>\n",
       "    </tr>\n",
       "  </thead>\n",
       "  <tbody>\n",
       "    <tr>\n",
       "      <th>^GSPC</th>\n",
       "      <td>1.000000</td>\n",
       "      <td>0.991880</td>\n",
       "      <td>0.983121</td>\n",
       "      <td>0.956773</td>\n",
       "    </tr>\n",
       "    <tr>\n",
       "      <th>^DJI</th>\n",
       "      <td>0.991880</td>\n",
       "      <td>1.000000</td>\n",
       "      <td>0.967532</td>\n",
       "      <td>0.970487</td>\n",
       "    </tr>\n",
       "    <tr>\n",
       "      <th>^IXIC</th>\n",
       "      <td>0.983121</td>\n",
       "      <td>0.967532</td>\n",
       "      <td>1.000000</td>\n",
       "      <td>0.914880</td>\n",
       "    </tr>\n",
       "    <tr>\n",
       "      <th>^RUT</th>\n",
       "      <td>0.956773</td>\n",
       "      <td>0.970487</td>\n",
       "      <td>0.914880</td>\n",
       "      <td>1.000000</td>\n",
       "    </tr>\n",
       "  </tbody>\n",
       "</table>\n",
       "</div>"
      ],
      "text/plain": [
       "          ^GSPC      ^DJI     ^IXIC      ^RUT\n",
       "^GSPC  1.000000  0.991880  0.983121  0.956773\n",
       "^DJI   0.991880  1.000000  0.967532  0.970487\n",
       "^IXIC  0.983121  0.967532  1.000000  0.914880\n",
       "^RUT   0.956773  0.970487  0.914880  1.000000"
      ]
     },
     "execution_count": 172,
     "metadata": {},
     "output_type": "execute_result"
    }
   ],
   "source": [
    "capital_data.corr()"
   ]
  },
  {
   "cell_type": "code",
   "execution_count": 173,
   "metadata": {},
   "outputs": [
    {
     "data": {
      "text/plain": [
       "<matplotlib.axes._subplots.AxesSubplot at 0x1a5be4ee10>"
      ]
     },
     "execution_count": 173,
     "metadata": {},
     "output_type": "execute_result"
    },
    {
     "data": {
      "image/png": "[encoded data removed]",
      "text/plain": [
       "<Figure size 1152x432 with 2 Axes>"
      ]
     },
     "metadata": {
      "needs_background": "light"
     },
     "output_type": "display_data"
    }
   ],
   "source": [
    "plt.figure(figsize=(16,6))\n",
    "sns.heatmap(capital_data.corr(), annot=True)"
   ]
  },
  {
   "cell_type": "markdown",
   "metadata": {},
   "source": [
    "## Putting the data Together\n",
    "- Now that the data is ready the Capital Markets we need the close for the 10 Year"
   ]
  },
  {
   "cell_type": "code",
   "execution_count": 174,
   "metadata": {},
   "outputs": [],
   "source": [
    "tenYearData = web.DataReader(\"^TNX\", data_source=\"yahoo\", start= \"2001-1-1\")[\"Adj Close\"]"
   ]
  },
  {
   "cell_type": "markdown",
   "metadata": {},
   "source": [
    "### Combining the Data \n",
    "- adding the 10 year ADJ Close data to the Capital Markets data set\n",
    "- This will be our working Data"
   ]
  },
  {
   "cell_type": "code",
   "execution_count": 175,
   "metadata": {},
   "outputs": [],
   "source": [
    "working_data = pd.concat([capital_data, tenYearData], axis=1)"
   ]
  },
  {
   "cell_type": "code",
   "execution_count": 176,
   "metadata": {},
   "outputs": [
    {
     "data": {
      "text/html": [
       "<div>\n",
       "<style scoped>\n",
       "    .dataframe tbody tr th:only-of-type {\n",
       "        vertical-align: middle;\n",
       "    }\n",
       "\n",
       "    .dataframe tbody tr th {\n",
       "        vertical-align: top;\n",
       "    }\n",
       "\n",
       "    .dataframe thead th {\n",
       "        text-align: right;\n",
       "    }\n",
       "</style>\n",
       "<table border=\"1\" class=\"dataframe\">\n",
       "  <thead>\n",
       "    <tr style=\"text-align: right;\">\n",
       "      <th></th>\n",
       "      <th>^GSPC</th>\n",
       "      <th>^DJI</th>\n",
       "      <th>^IXIC</th>\n",
       "      <th>^RUT</th>\n",
       "      <th>Adj Close</th>\n",
       "    </tr>\n",
       "    <tr>\n",
       "      <th>Date</th>\n",
       "      <th></th>\n",
       "      <th></th>\n",
       "      <th></th>\n",
       "      <th></th>\n",
       "      <th></th>\n",
       "    </tr>\n",
       "  </thead>\n",
       "  <tbody>\n",
       "    <tr>\n",
       "      <th>2000-01-03</th>\n",
       "      <td>1469.250000</td>\n",
       "      <td>11501.849609</td>\n",
       "      <td>4186.189941</td>\n",
       "      <td>504.760010</td>\n",
       "      <td>NaN</td>\n",
       "    </tr>\n",
       "    <tr>\n",
       "      <th>2000-01-04</th>\n",
       "      <td>1455.219971</td>\n",
       "      <td>11349.750000</td>\n",
       "      <td>4020.000000</td>\n",
       "      <td>497.049988</td>\n",
       "      <td>NaN</td>\n",
       "    </tr>\n",
       "    <tr>\n",
       "      <th>2000-01-05</th>\n",
       "      <td>1399.420044</td>\n",
       "      <td>10989.370117</td>\n",
       "      <td>3854.350098</td>\n",
       "      <td>478.380005</td>\n",
       "      <td>NaN</td>\n",
       "    </tr>\n",
       "    <tr>\n",
       "      <th>2000-01-06</th>\n",
       "      <td>1402.109985</td>\n",
       "      <td>11113.370117</td>\n",
       "      <td>3834.439941</td>\n",
       "      <td>478.829987</td>\n",
       "      <td>NaN</td>\n",
       "    </tr>\n",
       "    <tr>\n",
       "      <th>2000-01-07</th>\n",
       "      <td>1403.449951</td>\n",
       "      <td>11247.059570</td>\n",
       "      <td>3711.090088</td>\n",
       "      <td>475.339996</td>\n",
       "      <td>NaN</td>\n",
       "    </tr>\n",
       "    <tr>\n",
       "      <th>...</th>\n",
       "      <td>...</td>\n",
       "      <td>...</td>\n",
       "      <td>...</td>\n",
       "      <td>...</td>\n",
       "      <td>...</td>\n",
       "    </tr>\n",
       "    <tr>\n",
       "      <th>2020-10-12</th>\n",
       "      <td>3500.020020</td>\n",
       "      <td>28671.119141</td>\n",
       "      <td>11732.330078</td>\n",
       "      <td>1642.459961</td>\n",
       "      <td>0.777</td>\n",
       "    </tr>\n",
       "    <tr>\n",
       "      <th>2020-10-13</th>\n",
       "      <td>3534.010010</td>\n",
       "      <td>28764.949219</td>\n",
       "      <td>11901.759766</td>\n",
       "      <td>1647.569946</td>\n",
       "      <td>0.727</td>\n",
       "    </tr>\n",
       "    <tr>\n",
       "      <th>2020-10-14</th>\n",
       "      <td>3515.469971</td>\n",
       "      <td>28731.300781</td>\n",
       "      <td>11889.070312</td>\n",
       "      <td>1637.969971</td>\n",
       "      <td>0.722</td>\n",
       "    </tr>\n",
       "    <tr>\n",
       "      <th>2020-10-15</th>\n",
       "      <td>3453.719971</td>\n",
       "      <td>28323.400391</td>\n",
       "      <td>11559.879883</td>\n",
       "      <td>1618.880005</td>\n",
       "      <td>0.731</td>\n",
       "    </tr>\n",
       "    <tr>\n",
       "      <th>2020-10-16</th>\n",
       "      <td>3493.500000</td>\n",
       "      <td>28570.720703</td>\n",
       "      <td>11761.830078</td>\n",
       "      <td>1638.479980</td>\n",
       "      <td>0.744</td>\n",
       "    </tr>\n",
       "  </tbody>\n",
       "</table>\n",
       "<p>5232 rows × 5 columns</p>\n",
       "</div>"
      ],
      "text/plain": [
       "                  ^GSPC          ^DJI         ^IXIC         ^RUT  Adj Close\n",
       "Date                                                                       \n",
       "2000-01-03  1469.250000  11501.849609   4186.189941   504.760010        NaN\n",
       "2000-01-04  1455.219971  11349.750000   4020.000000   497.049988        NaN\n",
       "2000-01-05  1399.420044  10989.370117   3854.350098   478.380005        NaN\n",
       "2000-01-06  1402.109985  11113.370117   3834.439941   478.829987        NaN\n",
       "2000-01-07  1403.449951  11247.059570   3711.090088   475.339996        NaN\n",
       "...                 ...           ...           ...          ...        ...\n",
       "2020-10-12  3500.020020  28671.119141  11732.330078  1642.459961      0.777\n",
       "2020-10-13  3534.010010  28764.949219  11901.759766  1647.569946      0.727\n",
       "2020-10-14  3515.469971  28731.300781  11889.070312  1637.969971      0.722\n",
       "2020-10-15  3453.719971  28323.400391  11559.879883  1618.880005      0.731\n",
       "2020-10-16  3493.500000  28570.720703  11761.830078  1638.479980      0.744\n",
       "\n",
       "[5232 rows x 5 columns]"
      ]
     },
     "execution_count": 176,
     "metadata": {},
     "output_type": "execute_result"
    }
   ],
   "source": [
    "working_data"
   ]
  },
  {
   "cell_type": "markdown",
   "metadata": {},
   "source": [
    "### Analyzing the Data \n",
    "- Currently we see there is missing data we need to consider removing\n",
    "- lets see how to go about this\n",
    "- First lets fix the columns "
   ]
  },
  {
   "cell_type": "code",
   "execution_count": 177,
   "metadata": {},
   "outputs": [
    {
     "data": {
      "text/plain": [
       "Index(['^GSPC', '^DJI', '^IXIC', '^RUT', 'Adj Close'], dtype='object')"
      ]
     },
     "execution_count": 177,
     "metadata": {},
     "output_type": "execute_result"
    }
   ],
   "source": [
    "working_data.columns"
   ]
  },
  {
   "cell_type": "code",
   "execution_count": 178,
   "metadata": {},
   "outputs": [],
   "source": [
    "working_data.columns = ['^GSPC', '^DJI', '^IXIC', '^RUT', '^TNX Adj Close']"
   ]
  },
  {
   "cell_type": "markdown",
   "metadata": {},
   "source": [
    "### Handling missing data\n",
    "- ^TNX has 288 days missing form the total 5232 days\n",
    "- approximately 5% of the data so this is not siginificate to mak a huge diffference so will drop these days"
   ]
  },
  {
   "cell_type": "code",
   "execution_count": 179,
   "metadata": {},
   "outputs": [
    {
     "data": {
      "text/plain": [
       "^GSPC               0\n",
       "^DJI                0\n",
       "^IXIC               0\n",
       "^RUT                1\n",
       "^TNX Adj Close    288\n",
       "dtype: int64"
      ]
     },
     "execution_count": 179,
     "metadata": {},
     "output_type": "execute_result"
    }
   ],
   "source": [
    "working_data.isnull().sum()"
   ]
  },
  {
   "cell_type": "code",
   "execution_count": 180,
   "metadata": {},
   "outputs": [],
   "source": [
    "working_data.dropna(inplace=True)"
   ]
  },
  {
   "cell_type": "code",
   "execution_count": 181,
   "metadata": {},
   "outputs": [
    {
     "data": {
      "text/html": [
       "<div>\n",
       "<style scoped>\n",
       "    .dataframe tbody tr th:only-of-type {\n",
       "        vertical-align: middle;\n",
       "    }\n",
       "\n",
       "    .dataframe tbody tr th {\n",
       "        vertical-align: top;\n",
       "    }\n",
       "\n",
       "    .dataframe thead th {\n",
       "        text-align: right;\n",
       "    }\n",
       "</style>\n",
       "<table border=\"1\" class=\"dataframe\">\n",
       "  <thead>\n",
       "    <tr style=\"text-align: right;\">\n",
       "      <th></th>\n",
       "      <th>^GSPC</th>\n",
       "      <th>^DJI</th>\n",
       "      <th>^IXIC</th>\n",
       "      <th>^RUT</th>\n",
       "      <th>^TNX Adj Close</th>\n",
       "    </tr>\n",
       "    <tr>\n",
       "      <th>Date</th>\n",
       "      <th></th>\n",
       "      <th></th>\n",
       "      <th></th>\n",
       "      <th></th>\n",
       "      <th></th>\n",
       "    </tr>\n",
       "  </thead>\n",
       "  <tbody>\n",
       "    <tr>\n",
       "      <th>2001-01-02</th>\n",
       "      <td>1320.280029</td>\n",
       "      <td>10790.919922</td>\n",
       "      <td>2474.159912</td>\n",
       "      <td>483.549988</td>\n",
       "      <td>4.917</td>\n",
       "    </tr>\n",
       "    <tr>\n",
       "      <th>2001-01-03</th>\n",
       "      <td>1283.270020</td>\n",
       "      <td>10637.419922</td>\n",
       "      <td>2254.560059</td>\n",
       "      <td>462.489990</td>\n",
       "      <td>5.097</td>\n",
       "    </tr>\n",
       "    <tr>\n",
       "      <th>2001-01-04</th>\n",
       "      <td>1347.560059</td>\n",
       "      <td>10944.940430</td>\n",
       "      <td>2593.959961</td>\n",
       "      <td>484.390015</td>\n",
       "      <td>5.013</td>\n",
       "    </tr>\n",
       "    <tr>\n",
       "      <th>2001-01-05</th>\n",
       "      <td>1333.339966</td>\n",
       "      <td>10912.809570</td>\n",
       "      <td>2573.110107</td>\n",
       "      <td>477.200012</td>\n",
       "      <td>4.948</td>\n",
       "    </tr>\n",
       "    <tr>\n",
       "      <th>2001-01-08</th>\n",
       "      <td>1298.349976</td>\n",
       "      <td>10658.730469</td>\n",
       "      <td>2388.719971</td>\n",
       "      <td>463.140015</td>\n",
       "      <td>4.897</td>\n",
       "    </tr>\n",
       "    <tr>\n",
       "      <th>...</th>\n",
       "      <td>...</td>\n",
       "      <td>...</td>\n",
       "      <td>...</td>\n",
       "      <td>...</td>\n",
       "      <td>...</td>\n",
       "    </tr>\n",
       "    <tr>\n",
       "      <th>2020-10-12</th>\n",
       "      <td>3500.020020</td>\n",
       "      <td>28671.119141</td>\n",
       "      <td>11732.330078</td>\n",
       "      <td>1642.459961</td>\n",
       "      <td>0.777</td>\n",
       "    </tr>\n",
       "    <tr>\n",
       "      <th>2020-10-13</th>\n",
       "      <td>3534.010010</td>\n",
       "      <td>28764.949219</td>\n",
       "      <td>11901.759766</td>\n",
       "      <td>1647.569946</td>\n",
       "      <td>0.727</td>\n",
       "    </tr>\n",
       "    <tr>\n",
       "      <th>2020-10-14</th>\n",
       "      <td>3515.469971</td>\n",
       "      <td>28731.300781</td>\n",
       "      <td>11889.070312</td>\n",
       "      <td>1637.969971</td>\n",
       "      <td>0.722</td>\n",
       "    </tr>\n",
       "    <tr>\n",
       "      <th>2020-10-15</th>\n",
       "      <td>3453.719971</td>\n",
       "      <td>28323.400391</td>\n",
       "      <td>11559.879883</td>\n",
       "      <td>1618.880005</td>\n",
       "      <td>0.731</td>\n",
       "    </tr>\n",
       "    <tr>\n",
       "      <th>2020-10-16</th>\n",
       "      <td>3493.500000</td>\n",
       "      <td>28570.720703</td>\n",
       "      <td>11761.830078</td>\n",
       "      <td>1638.479980</td>\n",
       "      <td>0.744</td>\n",
       "    </tr>\n",
       "  </tbody>\n",
       "</table>\n",
       "<p>4943 rows × 5 columns</p>\n",
       "</div>"
      ],
      "text/plain": [
       "                  ^GSPC          ^DJI         ^IXIC         ^RUT  \\\n",
       "Date                                                               \n",
       "2001-01-02  1320.280029  10790.919922   2474.159912   483.549988   \n",
       "2001-01-03  1283.270020  10637.419922   2254.560059   462.489990   \n",
       "2001-01-04  1347.560059  10944.940430   2593.959961   484.390015   \n",
       "2001-01-05  1333.339966  10912.809570   2573.110107   477.200012   \n",
       "2001-01-08  1298.349976  10658.730469   2388.719971   463.140015   \n",
       "...                 ...           ...           ...          ...   \n",
       "2020-10-12  3500.020020  28671.119141  11732.330078  1642.459961   \n",
       "2020-10-13  3534.010010  28764.949219  11901.759766  1647.569946   \n",
       "2020-10-14  3515.469971  28731.300781  11889.070312  1637.969971   \n",
       "2020-10-15  3453.719971  28323.400391  11559.879883  1618.880005   \n",
       "2020-10-16  3493.500000  28570.720703  11761.830078  1638.479980   \n",
       "\n",
       "            ^TNX Adj Close  \n",
       "Date                        \n",
       "2001-01-02           4.917  \n",
       "2001-01-03           5.097  \n",
       "2001-01-04           5.013  \n",
       "2001-01-05           4.948  \n",
       "2001-01-08           4.897  \n",
       "...                    ...  \n",
       "2020-10-12           0.777  \n",
       "2020-10-13           0.727  \n",
       "2020-10-14           0.722  \n",
       "2020-10-15           0.731  \n",
       "2020-10-16           0.744  \n",
       "\n",
       "[4943 rows x 5 columns]"
      ]
     },
     "execution_count": 181,
     "metadata": {},
     "output_type": "execute_result"
    }
   ],
   "source": [
    "working_data"
   ]
  },
  {
   "cell_type": "markdown",
   "metadata": {},
   "source": [
    "### 10 Year activity over time\n",
    "- Since late 2009 ther has been a stedy decline in the 10 year yield"
   ]
  },
  {
   "cell_type": "code",
   "execution_count": 182,
   "metadata": {},
   "outputs": [
    {
     "data": {
      "text/plain": [
       "<matplotlib.axes._subplots.AxesSubplot at 0x1a5e02b710>"
      ]
     },
     "execution_count": 182,
     "metadata": {},
     "output_type": "execute_result"
    },
    {
     "data": {
      "image/png": "[encoded data removed]",
      "text/plain": [
       "<Figure size 1152x432 with 1 Axes>"
      ]
     },
     "metadata": {
      "needs_background": "light"
     },
     "output_type": "display_data"
    }
   ],
   "source": [
    "working_data[\"^TNX Adj Close\"].plot(figsize = (16,6))"
   ]
  },
  {
   "cell_type": "markdown",
   "metadata": {},
   "source": [
    "### Preparing the data for model\n",
    "- Separating X - > Features and y - > Target (TNX)"
   ]
  },
  {
   "cell_type": "code",
   "execution_count": 183,
   "metadata": {},
   "outputs": [],
   "source": [
    "X = working_data.drop(\"^TNX Adj Close\", axis= 1).values\n",
    "y = working_data[\"^TNX Adj Close\"].values"
   ]
  },
  {
   "cell_type": "markdown",
   "metadata": {},
   "source": [
    "### Training testing and splitting"
   ]
  },
  {
   "cell_type": "code",
   "execution_count": 184,
   "metadata": {},
   "outputs": [],
   "source": [
    "from sklearn.model_selection import train_test_split"
   ]
  },
  {
   "cell_type": "code",
   "execution_count": 185,
   "metadata": {},
   "outputs": [],
   "source": [
    "X_train, X_test, y_train, y_test = train_test_split(X, y, test_size=0.30, random_state=42)"
   ]
  },
  {
   "cell_type": "markdown",
   "metadata": {},
   "source": [
    "## Scaling the data to a normal Distribution"
   ]
  },
  {
   "cell_type": "code",
   "execution_count": 186,
   "metadata": {},
   "outputs": [],
   "source": [
    "from sklearn.preprocessing import MinMaxScaler"
   ]
  },
  {
   "cell_type": "code",
   "execution_count": 187,
   "metadata": {},
   "outputs": [],
   "source": [
    "scalar = MinMaxScaler()"
   ]
  },
  {
   "cell_type": "code",
   "execution_count": 188,
   "metadata": {},
   "outputs": [],
   "source": [
    "X_train = scalar.fit_transform(X_train)"
   ]
  },
  {
   "cell_type": "code",
   "execution_count": 189,
   "metadata": {},
   "outputs": [],
   "source": [
    "X_test = scalar.transform(X_test)"
   ]
  },
  {
   "cell_type": "markdown",
   "metadata": {},
   "source": [
    "### Early Stopping Callback\n",
    "- Will use early stopping to prevent overtraining on the training data "
   ]
  },
  {
   "cell_type": "code",
   "execution_count": 190,
   "metadata": {},
   "outputs": [],
   "source": [
    "from tensorflow.keras.callbacks import EarlyStopping"
   ]
  },
  {
   "cell_type": "code",
   "execution_count": 191,
   "metadata": {},
   "outputs": [],
   "source": [
    "stop = EarlyStopping(\"val_loss\", mode=\"min\", patience= 50)"
   ]
  },
  {
   "cell_type": "markdown",
   "metadata": {},
   "source": [
    "## Creating the model"
   ]
  },
  {
   "cell_type": "code",
   "execution_count": 192,
   "metadata": {},
   "outputs": [],
   "source": [
    "from tensorflow.keras.models import Sequential\n",
    "from tensorflow.keras.layers import Dropout, Dense"
   ]
  },
  {
   "cell_type": "code",
   "execution_count": 193,
   "metadata": {},
   "outputs": [],
   "source": [
    "model = Sequential()\n",
    "model.add(Dense(units = 4, activation = \"relu\"))\n",
    "model.add(Dense(units = 4, activation = \"relu\"))\n",
    "model.add(Dense(units = 4, activation = \"relu\"))\n",
    "model.add(Dense(units = 4, activation = \"relu\"))\n",
    "model.add(Dense(units = 1))\n",
    "model.compile(activation = 'adam', loss = \"mse\")"
   ]
  },
  {
   "cell_type": "code",
   "execution_count": 194,
   "metadata": {},
   "outputs": [
    {
     "name": "stdout",
     "output_type": "stream",
     "text": [
      "Train on 3460 samples, validate on 1483 samples\n",
      "Epoch 1/400\n",
      "3460/3460 [==============================] - 2s 608us/sample - loss: 7.8563 - val_loss: 5.7249\n",
      "Epoch 2/400\n",
      "3460/3460 [==============================] - 0s 129us/sample - loss: 4.1133 - val_loss: 3.4797\n",
      "Epoch 3/400\n",
      "3460/3460 [==============================] - 0s 126us/sample - loss: 2.7896 - val_loss: 2.5344\n",
      "Epoch 4/400\n",
      "3460/3460 [==============================] - 0s 127us/sample - loss: 2.1003 - val_loss: 1.9528\n",
      "Epoch 5/400\n",
      "3460/3460 [==============================] - 0s 125us/sample - loss: 1.6980 - val_loss: 1.6709\n",
      "Epoch 6/400\n",
      "3460/3460 [==============================] - 0s 129us/sample - loss: 1.4994 - val_loss: 1.4981\n",
      "Epoch 7/400\n",
      "3460/3460 [==============================] - 0s 128us/sample - loss: 1.4105 - val_loss: 1.4622\n",
      "Epoch 8/400\n",
      "3460/3460 [==============================] - 0s 140us/sample - loss: 1.3721 - val_loss: 1.3837\n",
      "Epoch 9/400\n",
      "3460/3460 [==============================] - 0s 135us/sample - loss: 1.2423 - val_loss: 1.1733\n",
      "Epoch 10/400\n",
      "3460/3460 [==============================] - 0s 128us/sample - loss: 1.0178 - val_loss: 0.9244\n",
      "Epoch 11/400\n",
      "3460/3460 [==============================] - 0s 127us/sample - loss: 0.8448 - val_loss: 0.8103\n",
      "Epoch 12/400\n",
      "3460/3460 [==============================] - 0s 128us/sample - loss: 0.7963 - val_loss: 0.7875\n",
      "Epoch 13/400\n",
      "3460/3460 [==============================] - 0s 125us/sample - loss: 0.7876 - val_loss: 0.7778\n",
      "Epoch 14/400\n",
      "3460/3460 [==============================] - 0s 127us/sample - loss: 0.7855 - val_loss: 0.8478\n",
      "Epoch 15/400\n",
      "3460/3460 [==============================] - 0s 128us/sample - loss: 0.7874 - val_loss: 0.7634\n",
      "Epoch 16/400\n",
      "3460/3460 [==============================] - 0s 128us/sample - loss: 0.7828 - val_loss: 0.7639\n",
      "Epoch 17/400\n",
      "3460/3460 [==============================] - 0s 127us/sample - loss: 0.7861 - val_loss: 0.7601\n",
      "Epoch 18/400\n",
      "3460/3460 [==============================] - 0s 129us/sample - loss: 0.7826 - val_loss: 0.7672\n",
      "Epoch 19/400\n",
      "3460/3460 [==============================] - 0s 128us/sample - loss: 0.7847 - val_loss: 0.7697\n",
      "Epoch 20/400\n",
      "3460/3460 [==============================] - 0s 128us/sample - loss: 0.7836 - val_loss: 0.7721\n",
      "Epoch 21/400\n",
      "3460/3460 [==============================] - 0s 126us/sample - loss: 0.7842 - val_loss: 0.7566\n",
      "Epoch 22/400\n",
      "3460/3460 [==============================] - 0s 129us/sample - loss: 0.7816 - val_loss: 0.7793\n",
      "Epoch 23/400\n",
      "3460/3460 [==============================] - 0s 126us/sample - loss: 0.7810 - val_loss: 0.7611\n",
      "Epoch 24/400\n",
      "3460/3460 [==============================] - 0s 127us/sample - loss: 0.7827 - val_loss: 0.7525\n",
      "Epoch 25/400\n",
      "3460/3460 [==============================] - 0s 125us/sample - loss: 0.7807 - val_loss: 0.7920\n",
      "Epoch 26/400\n",
      "3460/3460 [==============================] - 0s 129us/sample - loss: 0.7797 - val_loss: 0.8095\n",
      "Epoch 27/400\n",
      "3460/3460 [==============================] - 0s 128us/sample - loss: 0.7797 - val_loss: 0.7536\n",
      "Epoch 28/400\n",
      "3460/3460 [==============================] - 0s 126us/sample - loss: 0.7789 - val_loss: 0.7613\n",
      "Epoch 29/400\n",
      "3460/3460 [==============================] - 0s 129us/sample - loss: 0.7790 - val_loss: 0.7611\n",
      "Epoch 30/400\n",
      "3460/3460 [==============================] - 0s 128us/sample - loss: 0.7765 - val_loss: 0.7598\n",
      "Epoch 31/400\n",
      "3460/3460 [==============================] - 0s 137us/sample - loss: 0.7790 - val_loss: 0.7507\n",
      "Epoch 32/400\n",
      "3460/3460 [==============================] - 0s 136us/sample - loss: 0.7769 - val_loss: 0.7587\n",
      "Epoch 33/400\n",
      "3460/3460 [==============================] - 0s 127us/sample - loss: 0.7765 - val_loss: 0.7465\n",
      "Epoch 34/400\n",
      "3460/3460 [==============================] - 0s 125us/sample - loss: 0.7740 - val_loss: 0.7780\n",
      "Epoch 35/400\n",
      "3460/3460 [==============================] - 0s 128us/sample - loss: 0.7768 - val_loss: 0.7532\n",
      "Epoch 36/400\n",
      "3460/3460 [==============================] - 0s 127us/sample - loss: 0.7734 - val_loss: 0.7546\n",
      "Epoch 37/400\n",
      "3460/3460 [==============================] - 0s 127us/sample - loss: 0.7750 - val_loss: 0.7537\n",
      "Epoch 38/400\n",
      "3460/3460 [==============================] - 0s 126us/sample - loss: 0.7723 - val_loss: 0.7677\n",
      "Epoch 39/400\n",
      "3460/3460 [==============================] - 0s 126us/sample - loss: 0.7715 - val_loss: 0.7509\n",
      "Epoch 40/400\n",
      "3460/3460 [==============================] - 0s 129us/sample - loss: 0.7714 - val_loss: 0.7414\n",
      "Epoch 41/400\n",
      "3460/3460 [==============================] - 0s 134us/sample - loss: 0.7700 - val_loss: 0.7439\n",
      "Epoch 42/400\n",
      "3460/3460 [==============================] - 0s 127us/sample - loss: 0.7675 - val_loss: 0.7482\n",
      "Epoch 43/400\n",
      "3460/3460 [==============================] - 0s 128us/sample - loss: 0.7682 - val_loss: 0.7378\n",
      "Epoch 44/400\n",
      "3460/3460 [==============================] - 0s 127us/sample - loss: 0.7683 - val_loss: 0.7691\n",
      "Epoch 45/400\n",
      "3460/3460 [==============================] - 0s 127us/sample - loss: 0.7690 - val_loss: 0.7397\n",
      "Epoch 46/400\n",
      "3460/3460 [==============================] - 0s 129us/sample - loss: 0.7672 - val_loss: 0.7358\n",
      "Epoch 47/400\n",
      "3460/3460 [==============================] - 0s 128us/sample - loss: 0.7668 - val_loss: 0.7389\n",
      "Epoch 48/400\n",
      "3460/3460 [==============================] - 0s 125us/sample - loss: 0.7641 - val_loss: 0.7334\n",
      "Epoch 49/400\n",
      "3460/3460 [==============================] - 0s 129us/sample - loss: 0.7646 - val_loss: 0.7476\n",
      "Epoch 50/400\n",
      "3460/3460 [==============================] - 0s 131us/sample - loss: 0.7633 - val_loss: 0.7339\n",
      "Epoch 51/400\n",
      "3460/3460 [==============================] - 0s 126us/sample - loss: 0.7623 - val_loss: 0.7435\n",
      "Epoch 52/400\n",
      "3460/3460 [==============================] - 0s 129us/sample - loss: 0.7604 - val_loss: 0.7306\n",
      "Epoch 53/400\n",
      "3460/3460 [==============================] - 0s 130us/sample - loss: 0.7588 - val_loss: 0.7584\n",
      "Epoch 54/400\n",
      "3460/3460 [==============================] - 0s 127us/sample - loss: 0.7604 - val_loss: 0.7314\n",
      "Epoch 55/400\n",
      "3460/3460 [==============================] - 0s 129us/sample - loss: 0.7582 - val_loss: 0.7344\n",
      "Epoch 56/400\n",
      "3460/3460 [==============================] - 0s 127us/sample - loss: 0.7571 - val_loss: 0.7434\n",
      "Epoch 57/400\n",
      "3460/3460 [==============================] - 0s 125us/sample - loss: 0.7542 - val_loss: 0.7279\n",
      "Epoch 58/400\n",
      "3460/3460 [==============================] - 0s 128us/sample - loss: 0.7518 - val_loss: 0.7328\n",
      "Epoch 59/400\n",
      "3460/3460 [==============================] - 0s 128us/sample - loss: 0.7501 - val_loss: 0.7193\n",
      "Epoch 60/400\n",
      "3460/3460 [==============================] - 0s 137us/sample - loss: 0.7499 - val_loss: 0.7167\n",
      "Epoch 61/400\n",
      "3460/3460 [==============================] - 0s 127us/sample - loss: 0.7460 - val_loss: 0.7178\n",
      "Epoch 62/400\n",
      "3460/3460 [==============================] - 0s 127us/sample - loss: 0.7446 - val_loss: 0.7122\n",
      "Epoch 63/400\n",
      "3460/3460 [==============================] - 0s 126us/sample - loss: 0.7420 - val_loss: 0.7201\n",
      "Epoch 64/400\n",
      "3460/3460 [==============================] - 0s 129us/sample - loss: 0.7408 - val_loss: 0.7113\n",
      "Epoch 65/400\n",
      "3460/3460 [==============================] - 0s 127us/sample - loss: 0.7385 - val_loss: 0.7172\n",
      "Epoch 66/400\n",
      "3460/3460 [==============================] - 0s 131us/sample - loss: 0.7357 - val_loss: 0.7019\n",
      "Epoch 67/400\n",
      "3460/3460 [==============================] - 0s 134us/sample - loss: 0.7337 - val_loss: 0.7192\n",
      "Epoch 68/400\n",
      "3460/3460 [==============================] - 0s 128us/sample - loss: 0.7292 - val_loss: 0.7672\n",
      "Epoch 69/400\n",
      "3460/3460 [==============================] - 0s 128us/sample - loss: 0.7285 - val_loss: 0.6942\n",
      "Epoch 70/400\n",
      "3460/3460 [==============================] - 0s 128us/sample - loss: 0.7244 - val_loss: 0.6965\n",
      "Epoch 71/400\n",
      "3460/3460 [==============================] - 0s 127us/sample - loss: 0.7190 - val_loss: 0.6867\n",
      "Epoch 72/400\n",
      "3460/3460 [==============================] - 0s 128us/sample - loss: 0.7160 - val_loss: 0.6823\n",
      "Epoch 73/400\n",
      "3460/3460 [==============================] - 0s 127us/sample - loss: 0.7125 - val_loss: 0.6816\n",
      "Epoch 74/400\n",
      "3460/3460 [==============================] - 0s 129us/sample - loss: 0.7078 - val_loss: 0.7127\n",
      "Epoch 75/400\n",
      "3460/3460 [==============================] - 0s 126us/sample - loss: 0.7039 - val_loss: 0.6765\n",
      "Epoch 76/400\n"
     ]
    },
    {
     "name": "stdout",
     "output_type": "stream",
     "text": [
      "3460/3460 [==============================] - 0s 136us/sample - loss: 0.7001 - val_loss: 0.6648\n",
      "Epoch 77/400\n",
      "3460/3460 [==============================] - 0s 139us/sample - loss: 0.6957 - val_loss: 0.6711\n",
      "Epoch 78/400\n",
      "3460/3460 [==============================] - 0s 126us/sample - loss: 0.6899 - val_loss: 0.6563\n",
      "Epoch 79/400\n",
      "3460/3460 [==============================] - 0s 127us/sample - loss: 0.6870 - val_loss: 0.6711\n",
      "Epoch 80/400\n",
      "3460/3460 [==============================] - 0s 127us/sample - loss: 0.6799 - val_loss: 0.6455\n",
      "Epoch 81/400\n",
      "3460/3460 [==============================] - 0s 127us/sample - loss: 0.6755 - val_loss: 0.6390\n",
      "Epoch 82/400\n",
      "3460/3460 [==============================] - 0s 128us/sample - loss: 0.6683 - val_loss: 0.6599\n",
      "Epoch 83/400\n",
      "3460/3460 [==============================] - 0s 125us/sample - loss: 0.6633 - val_loss: 0.6657\n",
      "Epoch 84/400\n",
      "3460/3460 [==============================] - 0s 126us/sample - loss: 0.6538 - val_loss: 0.6221\n",
      "Epoch 85/400\n",
      "3460/3460 [==============================] - 0s 127us/sample - loss: 0.6505 - val_loss: 0.6118\n",
      "Epoch 86/400\n",
      "3460/3460 [==============================] - 0s 127us/sample - loss: 0.6432 - val_loss: 0.6175\n",
      "Epoch 87/400\n",
      "3460/3460 [==============================] - 0s 124us/sample - loss: 0.6362 - val_loss: 0.6034\n",
      "Epoch 88/400\n",
      "3460/3460 [==============================] - 0s 127us/sample - loss: 0.6317 - val_loss: 0.5949\n",
      "Epoch 89/400\n",
      "3460/3460 [==============================] - 0s 128us/sample - loss: 0.6240 - val_loss: 0.5979\n",
      "Epoch 90/400\n",
      "3460/3460 [==============================] - 0s 127us/sample - loss: 0.6153 - val_loss: 0.6167\n",
      "Epoch 91/400\n",
      "3460/3460 [==============================] - 0s 128us/sample - loss: 0.6107 - val_loss: 0.5803\n",
      "Epoch 92/400\n",
      "3460/3460 [==============================] - 0s 126us/sample - loss: 0.6032 - val_loss: 0.6183\n",
      "Epoch 93/400\n",
      "3460/3460 [==============================] - 0s 124us/sample - loss: 0.5985 - val_loss: 0.5697\n",
      "Epoch 94/400\n",
      "3460/3460 [==============================] - 0s 129us/sample - loss: 0.5906 - val_loss: 0.6158\n",
      "Epoch 95/400\n",
      "3460/3460 [==============================] - 0s 126us/sample - loss: 0.5877 - val_loss: 0.5498\n",
      "Epoch 96/400\n",
      "3460/3460 [==============================] - 0s 125us/sample - loss: 0.5804 - val_loss: 0.5664\n",
      "Epoch 97/400\n",
      "3460/3460 [==============================] - 0s 128us/sample - loss: 0.5788 - val_loss: 0.6493\n",
      "Epoch 98/400\n",
      "3460/3460 [==============================] - 0s 126us/sample - loss: 0.5758 - val_loss: 0.5435\n",
      "Epoch 99/400\n",
      "3460/3460 [==============================] - 0s 134us/sample - loss: 0.5694 - val_loss: 0.5644\n",
      "Epoch 100/400\n",
      "3460/3460 [==============================] - 0s 137us/sample - loss: 0.5687 - val_loss: 0.5417\n",
      "Epoch 101/400\n",
      "3460/3460 [==============================] - 0s 127us/sample - loss: 0.5673 - val_loss: 0.5431\n",
      "Epoch 102/400\n",
      "3460/3460 [==============================] - 0s 127us/sample - loss: 0.5623 - val_loss: 0.5275\n",
      "Epoch 103/400\n",
      "3460/3460 [==============================] - 0s 126us/sample - loss: 0.5612 - val_loss: 0.5233\n",
      "Epoch 104/400\n",
      "3460/3460 [==============================] - 0s 129us/sample - loss: 0.5589 - val_loss: 0.5256\n",
      "Epoch 105/400\n",
      "3460/3460 [==============================] - 0s 127us/sample - loss: 0.5552 - val_loss: 0.5551\n",
      "Epoch 106/400\n",
      "3460/3460 [==============================] - 0s 126us/sample - loss: 0.5531 - val_loss: 0.5408\n",
      "Epoch 107/400\n",
      "3460/3460 [==============================] - 0s 127us/sample - loss: 0.5547 - val_loss: 0.5565\n",
      "Epoch 108/400\n",
      "3460/3460 [==============================] - 0s 127us/sample - loss: 0.5552 - val_loss: 0.5460\n",
      "Epoch 109/400\n",
      "3460/3460 [==============================] - 0s 123us/sample - loss: 0.5532 - val_loss: 0.5208\n",
      "Epoch 110/400\n",
      "3460/3460 [==============================] - 0s 127us/sample - loss: 0.5480 - val_loss: 0.5327\n",
      "Epoch 111/400\n",
      "3460/3460 [==============================] - 0s 128us/sample - loss: 0.5532 - val_loss: 0.5617\n",
      "Epoch 112/400\n",
      "3460/3460 [==============================] - 0s 126us/sample - loss: 0.5473 - val_loss: 0.5203\n",
      "Epoch 113/400\n",
      "3460/3460 [==============================] - 0s 125us/sample - loss: 0.5517 - val_loss: 0.5885\n",
      "Epoch 114/400\n",
      "3460/3460 [==============================] - 0s 126us/sample - loss: 0.5519 - val_loss: 0.5451\n",
      "Epoch 115/400\n",
      "3460/3460 [==============================] - 0s 127us/sample - loss: 0.5506 - val_loss: 0.5125\n",
      "Epoch 116/400\n",
      "3460/3460 [==============================] - 0s 126us/sample - loss: 0.5493 - val_loss: 0.5275\n",
      "Epoch 117/400\n",
      "3460/3460 [==============================] - 0s 127us/sample - loss: 0.5487 - val_loss: 0.5298\n",
      "Epoch 118/400\n",
      "3460/3460 [==============================] - 0s 126us/sample - loss: 0.5467 - val_loss: 0.5607\n",
      "Epoch 119/400\n",
      "3460/3460 [==============================] - 0s 129us/sample - loss: 0.5495 - val_loss: 0.5343\n",
      "Epoch 120/400\n",
      "3460/3460 [==============================] - 0s 128us/sample - loss: 0.5446 - val_loss: 0.5393\n",
      "Epoch 121/400\n",
      "3460/3460 [==============================] - 0s 126us/sample - loss: 0.5488 - val_loss: 0.5343\n",
      "Epoch 122/400\n",
      "3460/3460 [==============================] - 0s 127us/sample - loss: 0.5487 - val_loss: 0.5133\n",
      "Epoch 123/400\n",
      "3460/3460 [==============================] - 0s 128us/sample - loss: 0.5483 - val_loss: 0.6900\n",
      "Epoch 124/400\n",
      "3460/3460 [==============================] - 0s 126us/sample - loss: 0.5507 - val_loss: 0.5133\n",
      "Epoch 125/400\n",
      "3460/3460 [==============================] - 0s 129us/sample - loss: 0.5496 - val_loss: 0.5198\n",
      "Epoch 126/400\n",
      "3460/3460 [==============================] - 0s 127us/sample - loss: 0.5490 - val_loss: 0.5865\n",
      "Epoch 127/400\n",
      "3460/3460 [==============================] - 0s 127us/sample - loss: 0.5485 - val_loss: 0.5263\n",
      "Epoch 128/400\n",
      "3460/3460 [==============================] - 0s 125us/sample - loss: 0.5491 - val_loss: 0.5161\n",
      "Epoch 129/400\n",
      "3460/3460 [==============================] - 0s 128us/sample - loss: 0.5494 - val_loss: 0.5774\n",
      "Epoch 130/400\n",
      "3460/3460 [==============================] - 0s 127us/sample - loss: 0.5489 - val_loss: 0.5155\n",
      "Epoch 131/400\n",
      "3460/3460 [==============================] - 0s 124us/sample - loss: 0.5498 - val_loss: 0.5377\n",
      "Epoch 132/400\n",
      "3460/3460 [==============================] - 0s 129us/sample - loss: 0.5481 - val_loss: 0.5491\n",
      "Epoch 133/400\n",
      "3460/3460 [==============================] - 0s 125us/sample - loss: 0.5489 - val_loss: 0.5929\n",
      "Epoch 134/400\n",
      "3460/3460 [==============================] - 0s 129us/sample - loss: 0.5443 - val_loss: 0.5507\n",
      "Epoch 135/400\n",
      "3460/3460 [==============================] - 0s 133us/sample - loss: 0.5468 - val_loss: 0.5655\n",
      "Epoch 136/400\n",
      "3460/3460 [==============================] - 0s 128us/sample - loss: 0.5501 - val_loss: 0.5352\n",
      "Epoch 137/400\n",
      "3460/3460 [==============================] - 0s 125us/sample - loss: 0.5462 - val_loss: 0.5335\n",
      "Epoch 138/400\n",
      "3460/3460 [==============================] - 0s 129us/sample - loss: 0.5518 - val_loss: 0.5307\n",
      "Epoch 139/400\n",
      "3460/3460 [==============================] - 0s 127us/sample - loss: 0.5464 - val_loss: 0.5148\n",
      "Epoch 140/400\n",
      "3460/3460 [==============================] - 0s 125us/sample - loss: 0.5464 - val_loss: 0.5122\n",
      "Epoch 141/400\n",
      "3460/3460 [==============================] - 0s 128us/sample - loss: 0.5490 - val_loss: 0.5631\n",
      "Epoch 142/400\n",
      "3460/3460 [==============================] - 0s 126us/sample - loss: 0.5482 - val_loss: 0.5279\n",
      "Epoch 143/400\n",
      "3460/3460 [==============================] - 0s 128us/sample - loss: 0.5474 - val_loss: 0.5185\n",
      "Epoch 144/400\n",
      "3460/3460 [==============================] - 0s 127us/sample - loss: 0.5491 - val_loss: 0.5251\n",
      "Epoch 145/400\n",
      "3460/3460 [==============================] - 0s 136us/sample - loss: 0.5507 - val_loss: 0.5172\n",
      "Epoch 146/400\n",
      "3460/3460 [==============================] - 0s 139us/sample - loss: 0.5484 - val_loss: 0.5112\n",
      "Epoch 147/400\n",
      "3460/3460 [==============================] - 0s 126us/sample - loss: 0.5459 - val_loss: 0.5383\n",
      "Epoch 148/400\n",
      "3460/3460 [==============================] - 0s 128us/sample - loss: 0.5488 - val_loss: 0.5748\n",
      "Epoch 149/400\n",
      "3460/3460 [==============================] - 0s 136us/sample - loss: 0.5495 - val_loss: 0.5626\n",
      "Epoch 150/400\n",
      "3460/3460 [==============================] - 0s 128us/sample - loss: 0.5460 - val_loss: 0.5572\n",
      "Epoch 151/400\n"
     ]
    },
    {
     "name": "stdout",
     "output_type": "stream",
     "text": [
      "3460/3460 [==============================] - 0s 125us/sample - loss: 0.5479 - val_loss: 0.5242\n",
      "Epoch 152/400\n",
      "3460/3460 [==============================] - 0s 128us/sample - loss: 0.5503 - val_loss: 0.5314\n",
      "Epoch 153/400\n",
      "3460/3460 [==============================] - 0s 125us/sample - loss: 0.5490 - val_loss: 0.5112\n",
      "Epoch 154/400\n",
      "3460/3460 [==============================] - 0s 127us/sample - loss: 0.5441 - val_loss: 0.7313\n",
      "Epoch 155/400\n",
      "3460/3460 [==============================] - 0s 129us/sample - loss: 0.5501 - val_loss: 0.5191\n",
      "Epoch 156/400\n",
      "3460/3460 [==============================] - 0s 128us/sample - loss: 0.5515 - val_loss: 0.5112\n",
      "Epoch 157/400\n",
      "3460/3460 [==============================] - 0s 126us/sample - loss: 0.5486 - val_loss: 0.5232\n",
      "Epoch 158/400\n",
      "3460/3460 [==============================] - 0s 127us/sample - loss: 0.5470 - val_loss: 0.5518\n",
      "Epoch 159/400\n",
      "3460/3460 [==============================] - 0s 128us/sample - loss: 0.5486 - val_loss: 0.5483\n",
      "Epoch 160/400\n",
      "3460/3460 [==============================] - 0s 128us/sample - loss: 0.5511 - val_loss: 0.5530\n",
      "Epoch 161/400\n",
      "3460/3460 [==============================] - 0s 127us/sample - loss: 0.5465 - val_loss: 0.5400\n",
      "Epoch 162/400\n",
      "3460/3460 [==============================] - 0s 128us/sample - loss: 0.5462 - val_loss: 0.5169\n",
      "Epoch 163/400\n",
      "3460/3460 [==============================] - 0s 136us/sample - loss: 0.5482 - val_loss: 0.5667\n",
      "Epoch 164/400\n",
      "3460/3460 [==============================] - 0s 126us/sample - loss: 0.5488 - val_loss: 0.5311\n",
      "Epoch 165/400\n",
      "3460/3460 [==============================] - 0s 127us/sample - loss: 0.5473 - val_loss: 0.5123\n",
      "Epoch 166/400\n",
      "3460/3460 [==============================] - 0s 129us/sample - loss: 0.5477 - val_loss: 0.5122\n",
      "Epoch 167/400\n",
      "3460/3460 [==============================] - 0s 140us/sample - loss: 0.5492 - val_loss: 0.5406\n",
      "Epoch 168/400\n",
      "3460/3460 [==============================] - 1s 165us/sample - loss: 0.5482 - val_loss: 0.6055\n",
      "Epoch 169/400\n",
      "3460/3460 [==============================] - 0s 131us/sample - loss: 0.5485 - val_loss: 0.5418\n",
      "Epoch 170/400\n",
      "3460/3460 [==============================] - 0s 125us/sample - loss: 0.5479 - val_loss: 0.5118\n",
      "Epoch 171/400\n",
      "3460/3460 [==============================] - 0s 125us/sample - loss: 0.5478 - val_loss: 0.5130\n",
      "Epoch 172/400\n",
      "3460/3460 [==============================] - 0s 125us/sample - loss: 0.5507 - val_loss: 0.5185\n",
      "Epoch 173/400\n",
      "3460/3460 [==============================] - 0s 128us/sample - loss: 0.5498 - val_loss: 0.5432\n",
      "Epoch 174/400\n",
      "3460/3460 [==============================] - 0s 127us/sample - loss: 0.5473 - val_loss: 0.5147\n",
      "Epoch 175/400\n",
      "3460/3460 [==============================] - 0s 124us/sample - loss: 0.5473 - val_loss: 0.5118\n",
      "Epoch 176/400\n",
      "3460/3460 [==============================] - 0s 124us/sample - loss: 0.5477 - val_loss: 0.5705\n",
      "Epoch 177/400\n",
      "3460/3460 [==============================] - 0s 136us/sample - loss: 0.5511 - val_loss: 0.5456\n",
      "Epoch 178/400\n",
      "3460/3460 [==============================] - 0s 126us/sample - loss: 0.5482 - val_loss: 0.5205\n",
      "Epoch 179/400\n",
      "3460/3460 [==============================] - 0s 127us/sample - loss: 0.5470 - val_loss: 0.5304\n",
      "Epoch 180/400\n",
      "3460/3460 [==============================] - 0s 129us/sample - loss: 0.5504 - val_loss: 0.5270\n",
      "Epoch 181/400\n",
      "3460/3460 [==============================] - 0s 125us/sample - loss: 0.5454 - val_loss: 0.5179\n",
      "Epoch 182/400\n",
      "3460/3460 [==============================] - 0s 127us/sample - loss: 0.5491 - val_loss: 0.5516\n",
      "Epoch 183/400\n",
      "3460/3460 [==============================] - 1s 146us/sample - loss: 0.5503 - val_loss: 0.5143\n",
      "Epoch 184/400\n",
      "3460/3460 [==============================] - 0s 121us/sample - loss: 0.5474 - val_loss: 0.6659\n",
      "Epoch 185/400\n",
      "3460/3460 [==============================] - 0s 121us/sample - loss: 0.5522 - val_loss: 0.5112\n",
      "Epoch 186/400\n",
      "3460/3460 [==============================] - 0s 121us/sample - loss: 0.5459 - val_loss: 0.5738\n",
      "Epoch 187/400\n",
      "3460/3460 [==============================] - 0s 119us/sample - loss: 0.5483 - val_loss: 0.5495\n",
      "Epoch 188/400\n",
      "3460/3460 [==============================] - 0s 120us/sample - loss: 0.5485 - val_loss: 0.5118\n",
      "Epoch 189/400\n",
      "3460/3460 [==============================] - 0s 120us/sample - loss: 0.5481 - val_loss: 0.5292\n",
      "Epoch 190/400\n",
      "3460/3460 [==============================] - 0s 121us/sample - loss: 0.5480 - val_loss: 0.5328\n",
      "Epoch 191/400\n",
      "3460/3460 [==============================] - 0s 122us/sample - loss: 0.5494 - val_loss: 0.5133\n",
      "Epoch 192/400\n",
      "3460/3460 [==============================] - 0s 120us/sample - loss: 0.5478 - val_loss: 0.5225\n",
      "Epoch 193/400\n",
      "3460/3460 [==============================] - 0s 120us/sample - loss: 0.5477 - val_loss: 0.5644\n",
      "Epoch 194/400\n",
      "3460/3460 [==============================] - 0s 122us/sample - loss: 0.5456 - val_loss: 0.5167\n",
      "Epoch 195/400\n",
      "3460/3460 [==============================] - 0s 134us/sample - loss: 0.5487 - val_loss: 0.5607\n",
      "Epoch 196/400\n",
      "3460/3460 [==============================] - 0s 120us/sample - loss: 0.5491 - val_loss: 0.6257\n",
      "Epoch 197/400\n",
      "3460/3460 [==============================] - 0s 144us/sample - loss: 0.5467 - val_loss: 0.5171\n",
      "Epoch 198/400\n",
      "3460/3460 [==============================] - 0s 126us/sample - loss: 0.5479 - val_loss: 0.5229\n",
      "Epoch 199/400\n",
      "3460/3460 [==============================] - 0s 128us/sample - loss: 0.5493 - val_loss: 0.5496\n",
      "Epoch 200/400\n",
      "3460/3460 [==============================] - 0s 124us/sample - loss: 0.5493 - val_loss: 0.5555\n",
      "Epoch 201/400\n",
      "3460/3460 [==============================] - 1s 153us/sample - loss: 0.5490 - val_loss: 0.5155\n",
      "Epoch 202/400\n",
      "3460/3460 [==============================] - 0s 134us/sample - loss: 0.5479 - val_loss: 0.5806\n",
      "Epoch 203/400\n",
      "3460/3460 [==============================] - 0s 120us/sample - loss: 0.5487 - val_loss: 0.5123\n",
      "Epoch 204/400\n",
      "3460/3460 [==============================] - 0s 121us/sample - loss: 0.5479 - val_loss: 0.5649\n",
      "Epoch 205/400\n",
      "3460/3460 [==============================] - 0s 120us/sample - loss: 0.5463 - val_loss: 0.5116\n",
      "Epoch 206/400\n",
      "3460/3460 [==============================] - 0s 119us/sample - loss: 0.5487 - val_loss: 0.5170\n"
     ]
    },
    {
     "data": {
      "text/plain": [
       "<tensorflow.python.keras.callbacks.History at 0x1a5c521110>"
      ]
     },
     "execution_count": 194,
     "metadata": {},
     "output_type": "execute_result"
    }
   ],
   "source": [
    "model.fit(X_train,y_train, validation_data=(X_test,y_test), epochs=300, callbacks=[stop])"
   ]
  },
  {
   "cell_type": "markdown",
   "metadata": {},
   "source": [
    "## Plot below shows that the modle preformed really well \n",
    "- There is also a good about of room to keep training since we made it to all 300 epochs"
   ]
  },
  {
   "cell_type": "code",
   "execution_count": 207,
   "metadata": {},
   "outputs": [
    {
     "data": {
      "text/plain": [
       "<matplotlib.axes._subplots.AxesSubplot at 0x1a604c9050>"
      ]
     },
     "execution_count": 207,
     "metadata": {},
     "output_type": "execute_result"
    },
    {
     "data": {
      "image/png": "[encoded data removed]",
      "text/plain": [
       "<Figure size 1152x432 with 1 Axes>"
      ]
     },
     "metadata": {
      "needs_background": "light"
     },
     "output_type": "display_data"
    }
   ],
   "source": [
    "pd.DataFrame(model.history.history).plot(figsize = (16,6))"
   ]
  },
  {
   "cell_type": "code",
   "execution_count": null,
   "metadata": {},
   "outputs": [],
   "source": []
  },
  {
   "cell_type": "markdown",
   "metadata": {},
   "source": [
    "### Predictions \n",
    "- will use the model to make preditions on the Test data"
   ]
  },
  {
   "cell_type": "code",
   "execution_count": 208,
   "metadata": {},
   "outputs": [],
   "source": [
    "predictions = model.predict(X_test)"
   ]
  },
  {
   "cell_type": "markdown",
   "metadata": {},
   "source": [
    "### Metrics\n",
    "- Will use sklearn metrics to test the prediction accuracy for the data"
   ]
  },
  {
   "cell_type": "code",
   "execution_count": 209,
   "metadata": {},
   "outputs": [],
   "source": [
    "from sklearn.metrics import mean_absolute_error, mean_squared_error, explained_variance_score"
   ]
  },
  {
   "cell_type": "code",
   "execution_count": 210,
   "metadata": {},
   "outputs": [
    {
     "name": "stdout",
     "output_type": "stream",
     "text": [
      "0.6448622582677319\n"
     ]
    }
   ],
   "source": [
    "print(explained_variance_score(y_test, predictions))"
   ]
  },
  {
   "cell_type": "code",
   "execution_count": 211,
   "metadata": {},
   "outputs": [
    {
     "name": "stdout",
     "output_type": "stream",
     "text": [
      "0.5574711297945806\n"
     ]
    }
   ],
   "source": [
    "print(mean_absolute_error(y_test, predictions))"
   ]
  },
  {
   "cell_type": "code",
   "execution_count": 212,
   "metadata": {},
   "outputs": [
    {
     "name": "stdout",
     "output_type": "stream",
     "text": [
      "0.5169851093863163\n"
     ]
    }
   ],
   "source": [
    "print(mean_squared_error(y_test, predictions))"
   ]
  },
  {
   "cell_type": "code",
   "execution_count": 213,
   "metadata": {},
   "outputs": [
    {
     "data": {
      "text/plain": [
       "<matplotlib.collections.PathCollection at 0x1a60a2f3d0>"
      ]
     },
     "execution_count": 213,
     "metadata": {},
     "output_type": "execute_result"
    },
    {
     "data": {
      "image/png": "[encoded data removed]",
      "text/plain": [
       "<Figure size 432x288 with 1 Axes>"
      ]
     },
     "metadata": {
      "needs_background": "light"
     },
     "output_type": "display_data"
    }
   ],
   "source": [
    "plt.scatter(y_test, predictions)"
   ]
  },
  {
   "cell_type": "markdown",
   "metadata": {},
   "source": [
    "### Testing in random Data "
   ]
  },
  {
   "cell_type": "code",
   "execution_count": 214,
   "metadata": {},
   "outputs": [],
   "source": [
    "from random import randint\n",
    "random_index = randint(1, len(working_data))\n",
    "random_day = working_data.drop(\"^TNX Adj Close\", axis=1).iloc[random_index]"
   ]
  },
  {
   "cell_type": "code",
   "execution_count": 215,
   "metadata": {},
   "outputs": [
    {
     "data": {
      "text/plain": [
       "^GSPC     2906.600098\n",
       "^DJI     26287.839844\n",
       "^IXIC     7962.549805\n",
       "^RUT      1710.880005\n",
       "Name: 2018-09-19 00:00:00, dtype: float64"
      ]
     },
     "execution_count": 215,
     "metadata": {},
     "output_type": "execute_result"
    }
   ],
   "source": [
    "random_day"
   ]
  },
  {
   "cell_type": "code",
   "execution_count": 216,
   "metadata": {},
   "outputs": [],
   "source": [
    "random_day = scalar.transform(random_day.values.reshape(1,4))"
   ]
  },
  {
   "cell_type": "code",
   "execution_count": 217,
   "metadata": {},
   "outputs": [
    {
     "data": {
      "text/plain": [
       "array([[1.4038491]], dtype=float32)"
      ]
     },
     "execution_count": 217,
     "metadata": {},
     "output_type": "execute_result"
    }
   ],
   "source": [
    "model.predict(random_day)"
   ]
  },
  {
   "cell_type": "code",
   "execution_count": 218,
   "metadata": {},
   "outputs": [
    {
     "data": {
      "text/plain": [
       "^GSPC              2906.600098\n",
       "^DJI              26287.839844\n",
       "^IXIC              7962.549805\n",
       "^RUT               1710.880005\n",
       "^TNX Adj Close        3.083000\n",
       "Name: 2018-09-19 00:00:00, dtype: float64"
      ]
     },
     "execution_count": 218,
     "metadata": {},
     "output_type": "execute_result"
    }
   ],
   "source": [
    "working_data.iloc[random_index]"
   ]
  },
  {
   "cell_type": "code",
   "execution_count": null,
   "metadata": {},
   "outputs": [],
   "source": []
  },
  {
   "cell_type": "code",
   "execution_count": null,
   "metadata": {},
   "outputs": [],
   "source": []
  }
 ],
 "metadata": {
  "kernelspec": {
   "display_name": "Python 3",
   "language": "python",
   "name": "python3"
  },
  "language_info": {
   "codemirror_mode": {
    "name": "ipython",
    "version": 3
   },
   "file_extension": ".py",
   "mimetype": "text/x-python",
   "name": "python",
   "nbconvert_exporter": "python",
   "pygments_lexer": "ipython3",
   "version": "3.7.6"
  }
 },
 "nbformat": 4,
 "nbformat_minor": 2
}
