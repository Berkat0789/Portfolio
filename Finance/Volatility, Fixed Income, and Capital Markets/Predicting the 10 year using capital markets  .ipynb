{
 "cells": [
  {
   "cell_type": "markdown",
   "metadata": {},
   "source": [
    "## Project Summary \n",
    "-- Your goal ifor this project if to create an Artificial Neural Network that will use the OPEN for the  Capital Markets to predict the ClOSE for the 10 year Treasury (20 year tome frame)\n",
    "-- Does these markes provide predictive insites on the the 10 Year Treasury Yield? \n",
    "-- Does using the 20 and 15 day moving average improve the model ? \n"
   ]
  },
  {
   "cell_type": "code",
   "execution_count": 82,
   "metadata": {},
   "outputs": [],
   "source": [
    "import pandas as pd\n",
    "import numpy as np\n",
    "import matplotlib.pyplot as plt\n",
    "import seaborn as sns\n",
    "from pandas_datareader import data as web"
   ]
  },
  {
   "cell_type": "code",
   "execution_count": 83,
   "metadata": {},
   "outputs": [],
   "source": [
    "capital_tickers = [\"^GSPC\",\"^DJI\", \"^IXIC\",\"^RUT\"]\n",
    "## \"CL=F\", \"GC=F\",\"SI=F\",\"EURUSD=X\""
   ]
  },
  {
   "cell_type": "code",
   "execution_count": 84,
   "metadata": {},
   "outputs": [],
   "source": [
    "capital_data = pd.DataFrame()"
   ]
  },
  {
   "cell_type": "code",
   "execution_count": 85,
   "metadata": {},
   "outputs": [],
   "source": [
    "for t in capital_tickers:\n",
    "    capital_data[t] = web.DataReader(t, data_source=\"yahoo\", start = \"2000-1-1\")[\"Open\"]"
   ]
  },
  {
   "cell_type": "code",
   "execution_count": 86,
   "metadata": {},
   "outputs": [
    {
     "data": {
      "text/html": [
       "<div>\n",
       "<style scoped>\n",
       "    .dataframe tbody tr th:only-of-type {\n",
       "        vertical-align: middle;\n",
       "    }\n",
       "\n",
       "    .dataframe tbody tr th {\n",
       "        vertical-align: top;\n",
       "    }\n",
       "\n",
       "    .dataframe thead th {\n",
       "        text-align: right;\n",
       "    }\n",
       "</style>\n",
       "<table border=\"1\" class=\"dataframe\">\n",
       "  <thead>\n",
       "    <tr style=\"text-align: right;\">\n",
       "      <th></th>\n",
       "      <th>^GSPC</th>\n",
       "      <th>^DJI</th>\n",
       "      <th>^IXIC</th>\n",
       "      <th>^RUT</th>\n",
       "    </tr>\n",
       "    <tr>\n",
       "      <th>Date</th>\n",
       "      <th></th>\n",
       "      <th></th>\n",
       "      <th></th>\n",
       "      <th></th>\n",
       "    </tr>\n",
       "  </thead>\n",
       "  <tbody>\n",
       "    <tr>\n",
       "      <th>2000-01-03</th>\n",
       "      <td>1469.250000</td>\n",
       "      <td>11501.849609</td>\n",
       "      <td>4186.189941</td>\n",
       "      <td>504.760010</td>\n",
       "    </tr>\n",
       "    <tr>\n",
       "      <th>2000-01-04</th>\n",
       "      <td>1455.219971</td>\n",
       "      <td>11349.750000</td>\n",
       "      <td>4020.000000</td>\n",
       "      <td>497.049988</td>\n",
       "    </tr>\n",
       "    <tr>\n",
       "      <th>2000-01-05</th>\n",
       "      <td>1399.420044</td>\n",
       "      <td>10989.370117</td>\n",
       "      <td>3854.350098</td>\n",
       "      <td>478.380005</td>\n",
       "    </tr>\n",
       "    <tr>\n",
       "      <th>2000-01-06</th>\n",
       "      <td>1402.109985</td>\n",
       "      <td>11113.370117</td>\n",
       "      <td>3834.439941</td>\n",
       "      <td>478.829987</td>\n",
       "    </tr>\n",
       "    <tr>\n",
       "      <th>2000-01-07</th>\n",
       "      <td>1403.449951</td>\n",
       "      <td>11247.059570</td>\n",
       "      <td>3711.090088</td>\n",
       "      <td>475.339996</td>\n",
       "    </tr>\n",
       "    <tr>\n",
       "      <th>...</th>\n",
       "      <td>...</td>\n",
       "      <td>...</td>\n",
       "      <td>...</td>\n",
       "      <td>...</td>\n",
       "    </tr>\n",
       "    <tr>\n",
       "      <th>2020-10-19</th>\n",
       "      <td>3493.659912</td>\n",
       "      <td>28633.550781</td>\n",
       "      <td>11732.339844</td>\n",
       "      <td>1636.839966</td>\n",
       "    </tr>\n",
       "    <tr>\n",
       "      <th>2020-10-20</th>\n",
       "      <td>3439.379883</td>\n",
       "      <td>28245.849609</td>\n",
       "      <td>11531.830078</td>\n",
       "      <td>1620.569946</td>\n",
       "    </tr>\n",
       "    <tr>\n",
       "      <th>2020-10-21</th>\n",
       "      <td>3439.909912</td>\n",
       "      <td>28270.660156</td>\n",
       "      <td>11530.389648</td>\n",
       "      <td>1618.339966</td>\n",
       "    </tr>\n",
       "    <tr>\n",
       "      <th>2020-10-22</th>\n",
       "      <td>3438.500000</td>\n",
       "      <td>28197.419922</td>\n",
       "      <td>11526.969727</td>\n",
       "      <td>1604.949951</td>\n",
       "    </tr>\n",
       "    <tr>\n",
       "      <th>2020-10-23</th>\n",
       "      <td>3464.899902</td>\n",
       "      <td>28409.650391</td>\n",
       "      <td>11536.009766</td>\n",
       "      <td>1634.060059</td>\n",
       "    </tr>\n",
       "  </tbody>\n",
       "</table>\n",
       "<p>5237 rows × 4 columns</p>\n",
       "</div>"
      ],
      "text/plain": [
       "                  ^GSPC          ^DJI         ^IXIC         ^RUT\n",
       "Date                                                            \n",
       "2000-01-03  1469.250000  11501.849609   4186.189941   504.760010\n",
       "2000-01-04  1455.219971  11349.750000   4020.000000   497.049988\n",
       "2000-01-05  1399.420044  10989.370117   3854.350098   478.380005\n",
       "2000-01-06  1402.109985  11113.370117   3834.439941   478.829987\n",
       "2000-01-07  1403.449951  11247.059570   3711.090088   475.339996\n",
       "...                 ...           ...           ...          ...\n",
       "2020-10-19  3493.659912  28633.550781  11732.339844  1636.839966\n",
       "2020-10-20  3439.379883  28245.849609  11531.830078  1620.569946\n",
       "2020-10-21  3439.909912  28270.660156  11530.389648  1618.339966\n",
       "2020-10-22  3438.500000  28197.419922  11526.969727  1604.949951\n",
       "2020-10-23  3464.899902  28409.650391  11536.009766  1634.060059\n",
       "\n",
       "[5237 rows x 4 columns]"
      ]
     },
     "execution_count": 86,
     "metadata": {},
     "output_type": "execute_result"
    }
   ],
   "source": [
    "capital_data"
   ]
  },
  {
   "cell_type": "markdown",
   "metadata": {},
   "source": [
    "## Checking for missing Data\n",
    "- Below we can see there is data missing from a few features so we ill need to take that into consideration when training our model"
   ]
  },
  {
   "cell_type": "code",
   "execution_count": 87,
   "metadata": {},
   "outputs": [
    {
     "data": {
      "text/plain": [
       "^GSPC    0\n",
       "^DJI     0\n",
       "^IXIC    0\n",
       "^RUT     1\n",
       "dtype: int64"
      ]
     },
     "execution_count": 87,
     "metadata": {},
     "output_type": "execute_result"
    }
   ],
   "source": [
    "capital_data.isnull().sum()"
   ]
  },
  {
   "cell_type": "code",
   "execution_count": 88,
   "metadata": {},
   "outputs": [
    {
     "data": {
      "text/html": [
       "<div>\n",
       "<style scoped>\n",
       "    .dataframe tbody tr th:only-of-type {\n",
       "        vertical-align: middle;\n",
       "    }\n",
       "\n",
       "    .dataframe tbody tr th {\n",
       "        vertical-align: top;\n",
       "    }\n",
       "\n",
       "    .dataframe thead th {\n",
       "        text-align: right;\n",
       "    }\n",
       "</style>\n",
       "<table border=\"1\" class=\"dataframe\">\n",
       "  <thead>\n",
       "    <tr style=\"text-align: right;\">\n",
       "      <th></th>\n",
       "      <th>^GSPC</th>\n",
       "      <th>^DJI</th>\n",
       "      <th>^IXIC</th>\n",
       "      <th>^RUT</th>\n",
       "    </tr>\n",
       "  </thead>\n",
       "  <tbody>\n",
       "    <tr>\n",
       "      <th>^GSPC</th>\n",
       "      <td>1.000000</td>\n",
       "      <td>0.991877</td>\n",
       "      <td>0.983038</td>\n",
       "      <td>0.956677</td>\n",
       "    </tr>\n",
       "    <tr>\n",
       "      <th>^DJI</th>\n",
       "      <td>0.991877</td>\n",
       "      <td>1.000000</td>\n",
       "      <td>0.967279</td>\n",
       "      <td>0.970509</td>\n",
       "    </tr>\n",
       "    <tr>\n",
       "      <th>^IXIC</th>\n",
       "      <td>0.983038</td>\n",
       "      <td>0.967279</td>\n",
       "      <td>1.000000</td>\n",
       "      <td>0.914378</td>\n",
       "    </tr>\n",
       "    <tr>\n",
       "      <th>^RUT</th>\n",
       "      <td>0.956677</td>\n",
       "      <td>0.970509</td>\n",
       "      <td>0.914378</td>\n",
       "      <td>1.000000</td>\n",
       "    </tr>\n",
       "  </tbody>\n",
       "</table>\n",
       "</div>"
      ],
      "text/plain": [
       "          ^GSPC      ^DJI     ^IXIC      ^RUT\n",
       "^GSPC  1.000000  0.991877  0.983038  0.956677\n",
       "^DJI   0.991877  1.000000  0.967279  0.970509\n",
       "^IXIC  0.983038  0.967279  1.000000  0.914378\n",
       "^RUT   0.956677  0.970509  0.914378  1.000000"
      ]
     },
     "execution_count": 88,
     "metadata": {},
     "output_type": "execute_result"
    }
   ],
   "source": [
    "capital_data.corr()"
   ]
  },
  {
   "cell_type": "code",
   "execution_count": 89,
   "metadata": {},
   "outputs": [
    {
     "data": {
      "text/plain": [
       "<matplotlib.axes._subplots.AxesSubplot at 0x1a4ceedf90>"
      ]
     },
     "execution_count": 89,
     "metadata": {},
     "output_type": "execute_result"
    },
    {
     "data": {
      "image/png": "[encoded data removed]",
      "text/plain": [
       "<Figure size 1152x432 with 2 Axes>"
      ]
     },
     "metadata": {
      "needs_background": "light"
     },
     "output_type": "display_data"
    }
   ],
   "source": [
    "plt.figure(figsize=(16,6))\n",
    "sns.heatmap(capital_data.corr(), annot=True)"
   ]
  },
  {
   "cell_type": "markdown",
   "metadata": {},
   "source": [
    "## Putting the data Together\n",
    "- Now that the data is ready the Capital Markets we need the close for the 10 Year"
   ]
  },
  {
   "cell_type": "code",
   "execution_count": 90,
   "metadata": {},
   "outputs": [],
   "source": [
    "tenYearData = web.DataReader(\"^TNX\", data_source=\"yahoo\", start= \"2001-1-1\")[\"Adj Close\"]"
   ]
  },
  {
   "cell_type": "markdown",
   "metadata": {},
   "source": [
    "### Combining the Data \n",
    "- adding the 10 year ADJ Close data to the Capital Markets data set\n",
    "- This will be our working Data"
   ]
  },
  {
   "cell_type": "code",
   "execution_count": 91,
   "metadata": {},
   "outputs": [],
   "source": [
    "working_data = pd.concat([capital_data, tenYearData], axis=1)"
   ]
  },
  {
   "cell_type": "code",
   "execution_count": 92,
   "metadata": {},
   "outputs": [
    {
     "data": {
      "text/html": [
       "<div>\n",
       "<style scoped>\n",
       "    .dataframe tbody tr th:only-of-type {\n",
       "        vertical-align: middle;\n",
       "    }\n",
       "\n",
       "    .dataframe tbody tr th {\n",
       "        vertical-align: top;\n",
       "    }\n",
       "\n",
       "    .dataframe thead th {\n",
       "        text-align: right;\n",
       "    }\n",
       "</style>\n",
       "<table border=\"1\" class=\"dataframe\">\n",
       "  <thead>\n",
       "    <tr style=\"text-align: right;\">\n",
       "      <th></th>\n",
       "      <th>^GSPC</th>\n",
       "      <th>^DJI</th>\n",
       "      <th>^IXIC</th>\n",
       "      <th>^RUT</th>\n",
       "      <th>Adj Close</th>\n",
       "    </tr>\n",
       "    <tr>\n",
       "      <th>Date</th>\n",
       "      <th></th>\n",
       "      <th></th>\n",
       "      <th></th>\n",
       "      <th></th>\n",
       "      <th></th>\n",
       "    </tr>\n",
       "  </thead>\n",
       "  <tbody>\n",
       "    <tr>\n",
       "      <th>2000-01-03</th>\n",
       "      <td>1469.250000</td>\n",
       "      <td>11501.849609</td>\n",
       "      <td>4186.189941</td>\n",
       "      <td>504.760010</td>\n",
       "      <td>NaN</td>\n",
       "    </tr>\n",
       "    <tr>\n",
       "      <th>2000-01-04</th>\n",
       "      <td>1455.219971</td>\n",
       "      <td>11349.750000</td>\n",
       "      <td>4020.000000</td>\n",
       "      <td>497.049988</td>\n",
       "      <td>NaN</td>\n",
       "    </tr>\n",
       "    <tr>\n",
       "      <th>2000-01-05</th>\n",
       "      <td>1399.420044</td>\n",
       "      <td>10989.370117</td>\n",
       "      <td>3854.350098</td>\n",
       "      <td>478.380005</td>\n",
       "      <td>NaN</td>\n",
       "    </tr>\n",
       "    <tr>\n",
       "      <th>2000-01-06</th>\n",
       "      <td>1402.109985</td>\n",
       "      <td>11113.370117</td>\n",
       "      <td>3834.439941</td>\n",
       "      <td>478.829987</td>\n",
       "      <td>NaN</td>\n",
       "    </tr>\n",
       "    <tr>\n",
       "      <th>2000-01-07</th>\n",
       "      <td>1403.449951</td>\n",
       "      <td>11247.059570</td>\n",
       "      <td>3711.090088</td>\n",
       "      <td>475.339996</td>\n",
       "      <td>NaN</td>\n",
       "    </tr>\n",
       "    <tr>\n",
       "      <th>...</th>\n",
       "      <td>...</td>\n",
       "      <td>...</td>\n",
       "      <td>...</td>\n",
       "      <td>...</td>\n",
       "      <td>...</td>\n",
       "    </tr>\n",
       "    <tr>\n",
       "      <th>2020-10-19</th>\n",
       "      <td>3493.659912</td>\n",
       "      <td>28633.550781</td>\n",
       "      <td>11732.339844</td>\n",
       "      <td>1636.839966</td>\n",
       "      <td>0.761</td>\n",
       "    </tr>\n",
       "    <tr>\n",
       "      <th>2020-10-20</th>\n",
       "      <td>3439.379883</td>\n",
       "      <td>28245.849609</td>\n",
       "      <td>11531.830078</td>\n",
       "      <td>1620.569946</td>\n",
       "      <td>0.797</td>\n",
       "    </tr>\n",
       "    <tr>\n",
       "      <th>2020-10-21</th>\n",
       "      <td>3439.909912</td>\n",
       "      <td>28270.660156</td>\n",
       "      <td>11530.389648</td>\n",
       "      <td>1618.339966</td>\n",
       "      <td>0.816</td>\n",
       "    </tr>\n",
       "    <tr>\n",
       "      <th>2020-10-22</th>\n",
       "      <td>3438.500000</td>\n",
       "      <td>28197.419922</td>\n",
       "      <td>11526.969727</td>\n",
       "      <td>1604.949951</td>\n",
       "      <td>0.848</td>\n",
       "    </tr>\n",
       "    <tr>\n",
       "      <th>2020-10-23</th>\n",
       "      <td>3464.899902</td>\n",
       "      <td>28409.650391</td>\n",
       "      <td>11536.009766</td>\n",
       "      <td>1634.060059</td>\n",
       "      <td>0.841</td>\n",
       "    </tr>\n",
       "  </tbody>\n",
       "</table>\n",
       "<p>5237 rows × 5 columns</p>\n",
       "</div>"
      ],
      "text/plain": [
       "                  ^GSPC          ^DJI         ^IXIC         ^RUT  Adj Close\n",
       "Date                                                                       \n",
       "2000-01-03  1469.250000  11501.849609   4186.189941   504.760010        NaN\n",
       "2000-01-04  1455.219971  11349.750000   4020.000000   497.049988        NaN\n",
       "2000-01-05  1399.420044  10989.370117   3854.350098   478.380005        NaN\n",
       "2000-01-06  1402.109985  11113.370117   3834.439941   478.829987        NaN\n",
       "2000-01-07  1403.449951  11247.059570   3711.090088   475.339996        NaN\n",
       "...                 ...           ...           ...          ...        ...\n",
       "2020-10-19  3493.659912  28633.550781  11732.339844  1636.839966      0.761\n",
       "2020-10-20  3439.379883  28245.849609  11531.830078  1620.569946      0.797\n",
       "2020-10-21  3439.909912  28270.660156  11530.389648  1618.339966      0.816\n",
       "2020-10-22  3438.500000  28197.419922  11526.969727  1604.949951      0.848\n",
       "2020-10-23  3464.899902  28409.650391  11536.009766  1634.060059      0.841\n",
       "\n",
       "[5237 rows x 5 columns]"
      ]
     },
     "execution_count": 92,
     "metadata": {},
     "output_type": "execute_result"
    }
   ],
   "source": [
    "working_data"
   ]
  },
  {
   "cell_type": "markdown",
   "metadata": {},
   "source": [
    "### Analyzing the Data \n",
    "- Currently we see there is missing data we need to consider removing\n",
    "- lets see how to go about this\n",
    "- First lets fix the columns "
   ]
  },
  {
   "cell_type": "code",
   "execution_count": 93,
   "metadata": {},
   "outputs": [
    {
     "data": {
      "text/plain": [
       "Index(['^GSPC', '^DJI', '^IXIC', '^RUT', 'Adj Close'], dtype='object')"
      ]
     },
     "execution_count": 93,
     "metadata": {},
     "output_type": "execute_result"
    }
   ],
   "source": [
    "working_data.columns"
   ]
  },
  {
   "cell_type": "code",
   "execution_count": 94,
   "metadata": {},
   "outputs": [],
   "source": [
    "working_data.columns = ['^GSPC', '^DJI', '^IXIC', '^RUT', '^TNX Adj Close']"
   ]
  },
  {
   "cell_type": "markdown",
   "metadata": {},
   "source": [
    "### Handling missing data\n",
    "- ^TNX has 288 days missing form the total 5232 days\n",
    "- approximately 5% of the data so this is not siginificate to mak a huge diffference so will drop these days"
   ]
  },
  {
   "cell_type": "code",
   "execution_count": 95,
   "metadata": {},
   "outputs": [
    {
     "data": {
      "text/plain": [
       "^GSPC               0\n",
       "^DJI                0\n",
       "^IXIC               0\n",
       "^RUT                1\n",
       "^TNX Adj Close    288\n",
       "dtype: int64"
      ]
     },
     "execution_count": 95,
     "metadata": {},
     "output_type": "execute_result"
    }
   ],
   "source": [
    "working_data.isnull().sum()"
   ]
  },
  {
   "cell_type": "code",
   "execution_count": 96,
   "metadata": {},
   "outputs": [],
   "source": [
    "working_data.dropna(inplace=True)"
   ]
  },
  {
   "cell_type": "code",
   "execution_count": 97,
   "metadata": {},
   "outputs": [
    {
     "data": {
      "text/html": [
       "<div>\n",
       "<style scoped>\n",
       "    .dataframe tbody tr th:only-of-type {\n",
       "        vertical-align: middle;\n",
       "    }\n",
       "\n",
       "    .dataframe tbody tr th {\n",
       "        vertical-align: top;\n",
       "    }\n",
       "\n",
       "    .dataframe thead th {\n",
       "        text-align: right;\n",
       "    }\n",
       "</style>\n",
       "<table border=\"1\" class=\"dataframe\">\n",
       "  <thead>\n",
       "    <tr style=\"text-align: right;\">\n",
       "      <th></th>\n",
       "      <th>^GSPC</th>\n",
       "      <th>^DJI</th>\n",
       "      <th>^IXIC</th>\n",
       "      <th>^RUT</th>\n",
       "      <th>^TNX Adj Close</th>\n",
       "    </tr>\n",
       "    <tr>\n",
       "      <th>Date</th>\n",
       "      <th></th>\n",
       "      <th></th>\n",
       "      <th></th>\n",
       "      <th></th>\n",
       "      <th></th>\n",
       "    </tr>\n",
       "  </thead>\n",
       "  <tbody>\n",
       "    <tr>\n",
       "      <th>2001-01-02</th>\n",
       "      <td>1320.280029</td>\n",
       "      <td>10790.919922</td>\n",
       "      <td>2474.159912</td>\n",
       "      <td>483.549988</td>\n",
       "      <td>4.917</td>\n",
       "    </tr>\n",
       "    <tr>\n",
       "      <th>2001-01-03</th>\n",
       "      <td>1283.270020</td>\n",
       "      <td>10637.419922</td>\n",
       "      <td>2254.560059</td>\n",
       "      <td>462.489990</td>\n",
       "      <td>5.097</td>\n",
       "    </tr>\n",
       "    <tr>\n",
       "      <th>2001-01-04</th>\n",
       "      <td>1347.560059</td>\n",
       "      <td>10944.940430</td>\n",
       "      <td>2593.959961</td>\n",
       "      <td>484.390015</td>\n",
       "      <td>5.013</td>\n",
       "    </tr>\n",
       "    <tr>\n",
       "      <th>2001-01-05</th>\n",
       "      <td>1333.339966</td>\n",
       "      <td>10912.809570</td>\n",
       "      <td>2573.110107</td>\n",
       "      <td>477.200012</td>\n",
       "      <td>4.948</td>\n",
       "    </tr>\n",
       "    <tr>\n",
       "      <th>2001-01-08</th>\n",
       "      <td>1298.349976</td>\n",
       "      <td>10658.730469</td>\n",
       "      <td>2388.719971</td>\n",
       "      <td>463.140015</td>\n",
       "      <td>4.897</td>\n",
       "    </tr>\n",
       "    <tr>\n",
       "      <th>...</th>\n",
       "      <td>...</td>\n",
       "      <td>...</td>\n",
       "      <td>...</td>\n",
       "      <td>...</td>\n",
       "      <td>...</td>\n",
       "    </tr>\n",
       "    <tr>\n",
       "      <th>2020-10-19</th>\n",
       "      <td>3493.659912</td>\n",
       "      <td>28633.550781</td>\n",
       "      <td>11732.339844</td>\n",
       "      <td>1636.839966</td>\n",
       "      <td>0.761</td>\n",
       "    </tr>\n",
       "    <tr>\n",
       "      <th>2020-10-20</th>\n",
       "      <td>3439.379883</td>\n",
       "      <td>28245.849609</td>\n",
       "      <td>11531.830078</td>\n",
       "      <td>1620.569946</td>\n",
       "      <td>0.797</td>\n",
       "    </tr>\n",
       "    <tr>\n",
       "      <th>2020-10-21</th>\n",
       "      <td>3439.909912</td>\n",
       "      <td>28270.660156</td>\n",
       "      <td>11530.389648</td>\n",
       "      <td>1618.339966</td>\n",
       "      <td>0.816</td>\n",
       "    </tr>\n",
       "    <tr>\n",
       "      <th>2020-10-22</th>\n",
       "      <td>3438.500000</td>\n",
       "      <td>28197.419922</td>\n",
       "      <td>11526.969727</td>\n",
       "      <td>1604.949951</td>\n",
       "      <td>0.848</td>\n",
       "    </tr>\n",
       "    <tr>\n",
       "      <th>2020-10-23</th>\n",
       "      <td>3464.899902</td>\n",
       "      <td>28409.650391</td>\n",
       "      <td>11536.009766</td>\n",
       "      <td>1634.060059</td>\n",
       "      <td>0.841</td>\n",
       "    </tr>\n",
       "  </tbody>\n",
       "</table>\n",
       "<p>4948 rows × 5 columns</p>\n",
       "</div>"
      ],
      "text/plain": [
       "                  ^GSPC          ^DJI         ^IXIC         ^RUT  \\\n",
       "Date                                                               \n",
       "2001-01-02  1320.280029  10790.919922   2474.159912   483.549988   \n",
       "2001-01-03  1283.270020  10637.419922   2254.560059   462.489990   \n",
       "2001-01-04  1347.560059  10944.940430   2593.959961   484.390015   \n",
       "2001-01-05  1333.339966  10912.809570   2573.110107   477.200012   \n",
       "2001-01-08  1298.349976  10658.730469   2388.719971   463.140015   \n",
       "...                 ...           ...           ...          ...   \n",
       "2020-10-19  3493.659912  28633.550781  11732.339844  1636.839966   \n",
       "2020-10-20  3439.379883  28245.849609  11531.830078  1620.569946   \n",
       "2020-10-21  3439.909912  28270.660156  11530.389648  1618.339966   \n",
       "2020-10-22  3438.500000  28197.419922  11526.969727  1604.949951   \n",
       "2020-10-23  3464.899902  28409.650391  11536.009766  1634.060059   \n",
       "\n",
       "            ^TNX Adj Close  \n",
       "Date                        \n",
       "2001-01-02           4.917  \n",
       "2001-01-03           5.097  \n",
       "2001-01-04           5.013  \n",
       "2001-01-05           4.948  \n",
       "2001-01-08           4.897  \n",
       "...                    ...  \n",
       "2020-10-19           0.761  \n",
       "2020-10-20           0.797  \n",
       "2020-10-21           0.816  \n",
       "2020-10-22           0.848  \n",
       "2020-10-23           0.841  \n",
       "\n",
       "[4948 rows x 5 columns]"
      ]
     },
     "execution_count": 97,
     "metadata": {},
     "output_type": "execute_result"
    }
   ],
   "source": [
    "working_data"
   ]
  },
  {
   "cell_type": "markdown",
   "metadata": {},
   "source": [
    "### 10 Year activity over time\n",
    "- Since late 2009 ther has been a stedy decline in the 10 year yield"
   ]
  },
  {
   "cell_type": "code",
   "execution_count": 98,
   "metadata": {},
   "outputs": [
    {
     "data": {
      "text/plain": [
       "<matplotlib.axes._subplots.AxesSubplot at 0x1a4ac46610>"
      ]
     },
     "execution_count": 98,
     "metadata": {},
     "output_type": "execute_result"
    },
    {
     "data": {
      "image/png": "[encoded data removed]",
      "text/plain": [
       "<Figure size 1152x432 with 1 Axes>"
      ]
     },
     "metadata": {
      "needs_background": "light"
     },
     "output_type": "display_data"
    }
   ],
   "source": [
    "working_data[\"^TNX Adj Close\"].plot(figsize = (16,6))"
   ]
  },
  {
   "cell_type": "markdown",
   "metadata": {},
   "source": [
    "### Preparing the data for model\n",
    "- Separating X - > Features and y - > Target (TNX)"
   ]
  },
  {
   "cell_type": "code",
   "execution_count": 99,
   "metadata": {},
   "outputs": [],
   "source": [
    "X = working_data.drop(\"^TNX Adj Close\", axis= 1).values\n",
    "y = working_data[\"^TNX Adj Close\"].values"
   ]
  },
  {
   "cell_type": "markdown",
   "metadata": {},
   "source": [
    "### Training testing and splitting"
   ]
  },
  {
   "cell_type": "code",
   "execution_count": 100,
   "metadata": {},
   "outputs": [],
   "source": [
    "from sklearn.model_selection import train_test_split"
   ]
  },
  {
   "cell_type": "code",
   "execution_count": 101,
   "metadata": {},
   "outputs": [],
   "source": [
    "X_train, X_test, y_train, y_test = train_test_split(X, y, test_size=0.30, random_state=42)"
   ]
  },
  {
   "cell_type": "markdown",
   "metadata": {},
   "source": [
    "## Scaling the data to a normal Distribution"
   ]
  },
  {
   "cell_type": "code",
   "execution_count": 102,
   "metadata": {},
   "outputs": [],
   "source": [
    "from sklearn.preprocessing import MinMaxScaler"
   ]
  },
  {
   "cell_type": "code",
   "execution_count": 103,
   "metadata": {},
   "outputs": [],
   "source": [
    "scalar = MinMaxScaler()"
   ]
  },
  {
   "cell_type": "code",
   "execution_count": 104,
   "metadata": {},
   "outputs": [],
   "source": [
    "X_train = scalar.fit_transform(X_train)"
   ]
  },
  {
   "cell_type": "code",
   "execution_count": 105,
   "metadata": {},
   "outputs": [],
   "source": [
    "X_test = scalar.transform(X_test)"
   ]
  },
  {
   "cell_type": "markdown",
   "metadata": {},
   "source": [
    "### Early Stopping Callback\n",
    "- Will use early stopping to prevent overtraining on the training data "
   ]
  },
  {
   "cell_type": "code",
   "execution_count": 106,
   "metadata": {},
   "outputs": [],
   "source": [
    "from tensorflow.keras.callbacks import EarlyStopping"
   ]
  },
  {
   "cell_type": "code",
   "execution_count": 107,
   "metadata": {},
   "outputs": [],
   "source": [
    "stop = EarlyStopping(\"val_loss\", mode=\"min\", patience= 20)"
   ]
  },
  {
   "cell_type": "markdown",
   "metadata": {},
   "source": [
    "## Creating the model"
   ]
  },
  {
   "cell_type": "code",
   "execution_count": 108,
   "metadata": {},
   "outputs": [],
   "source": [
    "from tensorflow.keras.models import Sequential\n",
    "from tensorflow.keras.layers import Dropout, Dense"
   ]
  },
  {
   "cell_type": "code",
   "execution_count": 109,
   "metadata": {},
   "outputs": [],
   "source": [
    "model = Sequential()\n",
    "model.add(Dense(units = 4, activation = \"relu\"))\n",
    "model.add(Dense(units = 4, activation = \"relu\"))\n",
    "model.add(Dense(units = 4, activation = \"relu\"))\n",
    "model.add(Dense(units = 4, activation = \"relu\"))\n",
    "model.add(Dense(units = 4, activation = \"relu\"))\n",
    "model.add(Dense(units = 1))\n",
    "model.compile(activation = 'adam', loss = \"mse\")"
   ]
  },
  {
   "cell_type": "code",
   "execution_count": 110,
   "metadata": {},
   "outputs": [
    {
     "name": "stdout",
     "output_type": "stream",
     "text": [
      "Train on 3463 samples, validate on 1485 samples\n",
      "Epoch 1/200\n",
      "3463/3463 [==============================] - 3s 731us/sample - loss: 10.3763 - val_loss: 9.4739\n",
      "Epoch 2/200\n",
      "3463/3463 [==============================] - 0s 132us/sample - loss: 7.4419 - val_loss: 5.6727\n",
      "Epoch 3/200\n",
      "3463/3463 [==============================] - 0s 132us/sample - loss: 3.5779 - val_loss: 2.2855\n",
      "Epoch 4/200\n",
      "3463/3463 [==============================] - 0s 132us/sample - loss: 1.8390 - val_loss: 1.6866\n",
      "Epoch 5/200\n",
      "3463/3463 [==============================] - 1s 146us/sample - loss: 1.4604 - val_loss: 1.3402\n",
      "Epoch 6/200\n",
      "3463/3463 [==============================] - 0s 141us/sample - loss: 1.1901 - val_loss: 1.0989\n",
      "Epoch 7/200\n",
      "3463/3463 [==============================] - 0s 132us/sample - loss: 0.9984 - val_loss: 0.9249\n",
      "Epoch 8/200\n",
      "3463/3463 [==============================] - 0s 132us/sample - loss: 0.8756 - val_loss: 0.8307\n",
      "Epoch 9/200\n",
      "3463/3463 [==============================] - 0s 132us/sample - loss: 0.8011 - val_loss: 0.7716\n",
      "Epoch 10/200\n",
      "3463/3463 [==============================] - 0s 132us/sample - loss: 0.7643 - val_loss: 0.7416\n",
      "Epoch 11/200\n",
      "3463/3463 [==============================] - 0s 131us/sample - loss: 0.7480 - val_loss: 0.7393\n",
      "Epoch 12/200\n",
      "3463/3463 [==============================] - 0s 132us/sample - loss: 0.7403 - val_loss: 0.7240\n",
      "Epoch 13/200\n",
      "3463/3463 [==============================] - 0s 132us/sample - loss: 0.7349 - val_loss: 0.7170\n",
      "Epoch 14/200\n",
      "3463/3463 [==============================] - 0s 133us/sample - loss: 0.7315 - val_loss: 0.7212\n",
      "Epoch 15/200\n",
      "3463/3463 [==============================] - 0s 132us/sample - loss: 0.7262 - val_loss: 0.7100\n",
      "Epoch 16/200\n",
      "3463/3463 [==============================] - 0s 132us/sample - loss: 0.7218 - val_loss: 0.7368\n",
      "Epoch 17/200\n",
      "3463/3463 [==============================] - 0s 132us/sample - loss: 0.7202 - val_loss: 0.7046\n",
      "Epoch 18/200\n",
      "3463/3463 [==============================] - 0s 133us/sample - loss: 0.7150 - val_loss: 0.6982\n",
      "Epoch 19/200\n",
      "3463/3463 [==============================] - 0s 132us/sample - loss: 0.7127 - val_loss: 0.6935\n",
      "Epoch 20/200\n",
      "3463/3463 [==============================] - 0s 132us/sample - loss: 0.7082 - val_loss: 0.6970\n",
      "Epoch 21/200\n",
      "3463/3463 [==============================] - 0s 132us/sample - loss: 0.7048 - val_loss: 0.6941\n",
      "Epoch 22/200\n",
      "3463/3463 [==============================] - 0s 132us/sample - loss: 0.7007 - val_loss: 0.7045\n",
      "Epoch 23/200\n",
      "3463/3463 [==============================] - 0s 133us/sample - loss: 0.6987 - val_loss: 0.6786\n",
      "Epoch 24/200\n",
      "3463/3463 [==============================] - 0s 132us/sample - loss: 0.6947 - val_loss: 0.6942\n",
      "Epoch 25/200\n",
      "3463/3463 [==============================] - 0s 132us/sample - loss: 0.6915 - val_loss: 0.6780\n",
      "Epoch 26/200\n",
      "3463/3463 [==============================] - 0s 133us/sample - loss: 0.6882 - val_loss: 0.6693\n",
      "Epoch 27/200\n",
      "3463/3463 [==============================] - 0s 141us/sample - loss: 0.6854 - val_loss: 0.6687\n",
      "Epoch 28/200\n",
      "3463/3463 [==============================] - 0s 142us/sample - loss: 0.6813 - val_loss: 0.6612\n",
      "Epoch 29/200\n",
      "3463/3463 [==============================] - 0s 132us/sample - loss: 0.6794 - val_loss: 0.6579\n",
      "Epoch 30/200\n",
      "3463/3463 [==============================] - 0s 132us/sample - loss: 0.6750 - val_loss: 0.6555\n",
      "Epoch 31/200\n",
      "3463/3463 [==============================] - 0s 133us/sample - loss: 0.6718 - val_loss: 0.6590\n",
      "Epoch 32/200\n",
      "3463/3463 [==============================] - 0s 133us/sample - loss: 0.6693 - val_loss: 0.6566\n",
      "Epoch 33/200\n",
      "3463/3463 [==============================] - 0s 132us/sample - loss: 0.6650 - val_loss: 0.6532\n",
      "Epoch 34/200\n",
      "3463/3463 [==============================] - 0s 132us/sample - loss: 0.6622 - val_loss: 0.6411\n",
      "Epoch 35/200\n",
      "3463/3463 [==============================] - 0s 133us/sample - loss: 0.6595 - val_loss: 0.6386\n",
      "Epoch 36/200\n",
      "3463/3463 [==============================] - 0s 132us/sample - loss: 0.6552 - val_loss: 0.6475\n",
      "Epoch 37/200\n",
      "3463/3463 [==============================] - 0s 133us/sample - loss: 0.6518 - val_loss: 0.6316\n",
      "Epoch 38/200\n",
      "3463/3463 [==============================] - 0s 132us/sample - loss: 0.6499 - val_loss: 0.6313\n",
      "Epoch 39/200\n",
      "3463/3463 [==============================] - 0s 132us/sample - loss: 0.6443 - val_loss: 0.6384\n",
      "Epoch 40/200\n",
      "3463/3463 [==============================] - 0s 134us/sample - loss: 0.6421 - val_loss: 0.6301\n",
      "Epoch 41/200\n",
      "3463/3463 [==============================] - 0s 132us/sample - loss: 0.6375 - val_loss: 0.6520\n",
      "Epoch 42/200\n",
      "3463/3463 [==============================] - 0s 132us/sample - loss: 0.6361 - val_loss: 0.6141\n",
      "Epoch 43/200\n",
      "3463/3463 [==============================] - 0s 133us/sample - loss: 0.6313 - val_loss: 0.6110\n",
      "Epoch 44/200\n",
      "3463/3463 [==============================] - 0s 132us/sample - loss: 0.6263 - val_loss: 0.6108\n",
      "Epoch 45/200\n",
      "3463/3463 [==============================] - 0s 132us/sample - loss: 0.6235 - val_loss: 0.6031\n",
      "Epoch 46/200\n",
      "3463/3463 [==============================] - 0s 133us/sample - loss: 0.6193 - val_loss: 0.6148\n",
      "Epoch 47/200\n",
      "3463/3463 [==============================] - 0s 134us/sample - loss: 0.6097 - val_loss: 0.5817\n",
      "Epoch 48/200\n",
      "3463/3463 [==============================] - 0s 133us/sample - loss: 0.5971 - val_loss: 0.5777\n",
      "Epoch 49/200\n",
      "3463/3463 [==============================] - 0s 133us/sample - loss: 0.5887 - val_loss: 0.5748\n",
      "Epoch 50/200\n",
      "3463/3463 [==============================] - 0s 133us/sample - loss: 0.5820 - val_loss: 0.5581\n",
      "Epoch 51/200\n",
      "3463/3463 [==============================] - 0s 133us/sample - loss: 0.5724 - val_loss: 0.5594\n",
      "Epoch 52/200\n",
      "3463/3463 [==============================] - 0s 133us/sample - loss: 0.5654 - val_loss: 0.5412\n",
      "Epoch 53/200\n",
      "3463/3463 [==============================] - 0s 134us/sample - loss: 0.5559 - val_loss: 0.5338\n",
      "Epoch 54/200\n",
      "3463/3463 [==============================] - 0s 133us/sample - loss: 0.5476 - val_loss: 0.5249\n",
      "Epoch 55/200\n",
      "3463/3463 [==============================] - 0s 138us/sample - loss: 0.5382 - val_loss: 0.5130\n",
      "Epoch 56/200\n",
      "3463/3463 [==============================] - 0s 137us/sample - loss: 0.5297 - val_loss: 0.5029\n",
      "Epoch 57/200\n",
      "3463/3463 [==============================] - 0s 140us/sample - loss: 0.5197 - val_loss: 0.4950\n",
      "Epoch 58/200\n",
      "3463/3463 [==============================] - 0s 133us/sample - loss: 0.5086 - val_loss: 0.4815\n",
      "Epoch 59/200\n",
      "3463/3463 [==============================] - 0s 135us/sample - loss: 0.4977 - val_loss: 0.4713\n",
      "Epoch 60/200\n",
      "3463/3463 [==============================] - 0s 134us/sample - loss: 0.4877 - val_loss: 0.4632\n",
      "Epoch 61/200\n",
      "3463/3463 [==============================] - 0s 133us/sample - loss: 0.4753 - val_loss: 0.4528\n",
      "Epoch 62/200\n",
      "3463/3463 [==============================] - 0s 132us/sample - loss: 0.4643 - val_loss: 0.4393\n",
      "Epoch 63/200\n",
      "3463/3463 [==============================] - 0s 131us/sample - loss: 0.4511 - val_loss: 0.4240\n",
      "Epoch 64/200\n",
      "3463/3463 [==============================] - 0s 132us/sample - loss: 0.4389 - val_loss: 0.4407\n",
      "Epoch 65/200\n",
      "3463/3463 [==============================] - 0s 132us/sample - loss: 0.4303 - val_loss: 0.3989\n",
      "Epoch 66/200\n",
      "3463/3463 [==============================] - 0s 132us/sample - loss: 0.4168 - val_loss: 0.3864\n",
      "Epoch 67/200\n",
      "3463/3463 [==============================] - 0s 132us/sample - loss: 0.4031 - val_loss: 0.3710\n",
      "Epoch 68/200\n",
      "3463/3463 [==============================] - 0s 132us/sample - loss: 0.3928 - val_loss: 0.3833\n",
      "Epoch 69/200\n",
      "3463/3463 [==============================] - 0s 133us/sample - loss: 0.3821 - val_loss: 0.3482\n",
      "Epoch 70/200\n",
      "3463/3463 [==============================] - 0s 138us/sample - loss: 0.3701 - val_loss: 0.3477\n",
      "Epoch 71/200\n",
      "3463/3463 [==============================] - 0s 143us/sample - loss: 0.3594 - val_loss: 0.3294\n",
      "Epoch 72/200\n",
      "3463/3463 [==============================] - 0s 142us/sample - loss: 0.3538 - val_loss: 0.3279\n",
      "Epoch 73/200\n",
      "3463/3463 [==============================] - 0s 132us/sample - loss: 0.3469 - val_loss: 0.3220\n",
      "Epoch 74/200\n",
      "3463/3463 [==============================] - 0s 132us/sample - loss: 0.3416 - val_loss: 0.3085\n",
      "Epoch 75/200\n",
      "3463/3463 [==============================] - 0s 132us/sample - loss: 0.3364 - val_loss: 0.3092\n",
      "Epoch 76/200\n"
     ]
    },
    {
     "name": "stdout",
     "output_type": "stream",
     "text": [
      "3463/3463 [==============================] - 0s 131us/sample - loss: 0.3331 - val_loss: 0.3001\n",
      "Epoch 77/200\n",
      "3463/3463 [==============================] - 0s 130us/sample - loss: 0.3279 - val_loss: 0.3065\n",
      "Epoch 78/200\n",
      "3463/3463 [==============================] - 0s 130us/sample - loss: 0.3256 - val_loss: 0.2957\n",
      "Epoch 79/200\n",
      "3463/3463 [==============================] - 0s 131us/sample - loss: 0.3229 - val_loss: 0.3002\n",
      "Epoch 80/200\n",
      "3463/3463 [==============================] - 0s 132us/sample - loss: 0.3218 - val_loss: 0.2875\n",
      "Epoch 81/200\n",
      "3463/3463 [==============================] - 0s 136us/sample - loss: 0.3180 - val_loss: 0.2855\n",
      "Epoch 82/200\n",
      "3463/3463 [==============================] - 0s 137us/sample - loss: 0.3158 - val_loss: 0.2993\n",
      "Epoch 83/200\n",
      "3463/3463 [==============================] - 0s 136us/sample - loss: 0.3155 - val_loss: 0.2838\n",
      "Epoch 84/200\n",
      "3463/3463 [==============================] - 0s 136us/sample - loss: 0.3139 - val_loss: 0.2922\n",
      "Epoch 85/200\n",
      "3463/3463 [==============================] - 0s 135us/sample - loss: 0.3114 - val_loss: 0.2793\n",
      "Epoch 86/200\n",
      "3463/3463 [==============================] - 0s 138us/sample - loss: 0.3091 - val_loss: 0.3117\n",
      "Epoch 87/200\n",
      "3463/3463 [==============================] - 0s 135us/sample - loss: 0.3084 - val_loss: 0.2765\n",
      "Epoch 88/200\n",
      "3463/3463 [==============================] - 0s 135us/sample - loss: 0.3068 - val_loss: 0.2805\n",
      "Epoch 89/200\n",
      "3463/3463 [==============================] - 0s 135us/sample - loss: 0.3058 - val_loss: 0.2801\n",
      "Epoch 90/200\n",
      "3463/3463 [==============================] - 0s 132us/sample - loss: 0.3042 - val_loss: 0.2747\n",
      "Epoch 91/200\n",
      "3463/3463 [==============================] - 0s 132us/sample - loss: 0.3028 - val_loss: 0.2741\n",
      "Epoch 92/200\n",
      "3463/3463 [==============================] - 0s 134us/sample - loss: 0.3020 - val_loss: 0.2890\n",
      "Epoch 93/200\n",
      "3463/3463 [==============================] - 1s 148us/sample - loss: 0.3007 - val_loss: 0.2983\n",
      "Epoch 94/200\n",
      "3463/3463 [==============================] - 0s 138us/sample - loss: 0.3007 - val_loss: 0.2862\n",
      "Epoch 95/200\n",
      "3463/3463 [==============================] - 0s 132us/sample - loss: 0.2989 - val_loss: 0.2695\n",
      "Epoch 96/200\n",
      "3463/3463 [==============================] - 0s 134us/sample - loss: 0.2981 - val_loss: 0.2705\n",
      "Epoch 97/200\n",
      "3463/3463 [==============================] - 0s 131us/sample - loss: 0.2962 - val_loss: 0.2662\n",
      "Epoch 98/200\n",
      "3463/3463 [==============================] - 0s 132us/sample - loss: 0.2928 - val_loss: 0.2692\n",
      "Epoch 99/200\n",
      "3463/3463 [==============================] - 0s 131us/sample - loss: 0.2936 - val_loss: 0.2646\n",
      "Epoch 100/200\n",
      "3463/3463 [==============================] - 0s 132us/sample - loss: 0.2931 - val_loss: 0.2671\n",
      "Epoch 101/200\n",
      "3463/3463 [==============================] - 0s 132us/sample - loss: 0.2914 - val_loss: 0.2908\n",
      "Epoch 102/200\n",
      "3463/3463 [==============================] - 0s 134us/sample - loss: 0.2910 - val_loss: 0.2627\n",
      "Epoch 103/200\n",
      "3463/3463 [==============================] - 0s 133us/sample - loss: 0.2890 - val_loss: 0.2854\n",
      "Epoch 104/200\n",
      "3463/3463 [==============================] - 0s 133us/sample - loss: 0.2885 - val_loss: 0.2681\n",
      "Epoch 105/200\n",
      "3463/3463 [==============================] - 0s 132us/sample - loss: 0.2869 - val_loss: 0.2582\n",
      "Epoch 106/200\n",
      "3463/3463 [==============================] - 0s 132us/sample - loss: 0.2866 - val_loss: 0.2581\n",
      "Epoch 107/200\n",
      "3463/3463 [==============================] - 0s 132us/sample - loss: 0.2847 - val_loss: 0.2601\n",
      "Epoch 108/200\n",
      "3463/3463 [==============================] - 0s 132us/sample - loss: 0.2846 - val_loss: 0.2625\n",
      "Epoch 109/200\n",
      "3463/3463 [==============================] - 0s 132us/sample - loss: 0.2843 - val_loss: 0.2637\n",
      "Epoch 110/200\n",
      "3463/3463 [==============================] - 0s 131us/sample - loss: 0.2824 - val_loss: 0.2855\n",
      "Epoch 111/200\n",
      "3463/3463 [==============================] - 0s 131us/sample - loss: 0.2810 - val_loss: 0.2671\n",
      "Epoch 112/200\n",
      "3463/3463 [==============================] - 0s 131us/sample - loss: 0.2809 - val_loss: 0.2761\n",
      "Epoch 113/200\n",
      "3463/3463 [==============================] - 0s 132us/sample - loss: 0.2796 - val_loss: 0.2844\n",
      "Epoch 114/200\n",
      "3463/3463 [==============================] - 0s 132us/sample - loss: 0.2783 - val_loss: 0.2534\n",
      "Epoch 115/200\n",
      "3463/3463 [==============================] - 0s 132us/sample - loss: 0.2784 - val_loss: 0.2504\n",
      "Epoch 116/200\n",
      "3463/3463 [==============================] - 0s 136us/sample - loss: 0.2762 - val_loss: 0.2570\n",
      "Epoch 117/200\n",
      "3463/3463 [==============================] - 0s 131us/sample - loss: 0.2757 - val_loss: 0.2576\n",
      "Epoch 118/200\n",
      "3463/3463 [==============================] - 0s 132us/sample - loss: 0.2755 - val_loss: 0.2596\n",
      "Epoch 119/200\n",
      "3463/3463 [==============================] - 0s 132us/sample - loss: 0.2741 - val_loss: 0.2603\n",
      "Epoch 120/200\n",
      "3463/3463 [==============================] - 0s 131us/sample - loss: 0.2738 - val_loss: 0.2639\n",
      "Epoch 121/200\n",
      "3463/3463 [==============================] - 0s 131us/sample - loss: 0.2733 - val_loss: 0.2541\n",
      "Epoch 122/200\n",
      "3463/3463 [==============================] - 0s 132us/sample - loss: 0.2730 - val_loss: 0.2841\n",
      "Epoch 123/200\n",
      "3463/3463 [==============================] - 0s 131us/sample - loss: 0.2710 - val_loss: 0.2582\n",
      "Epoch 124/200\n",
      "3463/3463 [==============================] - 0s 132us/sample - loss: 0.2712 - val_loss: 0.2561\n",
      "Epoch 125/200\n",
      "3463/3463 [==============================] - 0s 132us/sample - loss: 0.2705 - val_loss: 0.2487\n",
      "Epoch 126/200\n",
      "3463/3463 [==============================] - 0s 133us/sample - loss: 0.2686 - val_loss: 0.2536\n",
      "Epoch 127/200\n",
      "3463/3463 [==============================] - 0s 132us/sample - loss: 0.2687 - val_loss: 0.2448\n",
      "Epoch 128/200\n",
      "3463/3463 [==============================] - 0s 135us/sample - loss: 0.2682 - val_loss: 0.2520\n",
      "Epoch 129/200\n",
      "3463/3463 [==============================] - 0s 133us/sample - loss: 0.2657 - val_loss: 0.2814\n",
      "Epoch 130/200\n",
      "3463/3463 [==============================] - 0s 132us/sample - loss: 0.2660 - val_loss: 0.2520\n",
      "Epoch 131/200\n",
      "3463/3463 [==============================] - 0s 132us/sample - loss: 0.2662 - val_loss: 0.2396\n",
      "Epoch 132/200\n",
      "3463/3463 [==============================] - 0s 131us/sample - loss: 0.2655 - val_loss: 0.2390\n",
      "Epoch 133/200\n",
      "3463/3463 [==============================] - 0s 135us/sample - loss: 0.2642 - val_loss: 0.2500\n",
      "Epoch 134/200\n",
      "3463/3463 [==============================] - 0s 143us/sample - loss: 0.2633 - val_loss: 0.2467\n",
      "Epoch 135/200\n",
      "3463/3463 [==============================] - 0s 132us/sample - loss: 0.2633 - val_loss: 0.2378\n",
      "Epoch 136/200\n",
      "3463/3463 [==============================] - 0s 135us/sample - loss: 0.2616 - val_loss: 0.2406\n",
      "Epoch 137/200\n",
      "3463/3463 [==============================] - 0s 141us/sample - loss: 0.2616 - val_loss: 0.2490\n",
      "Epoch 138/200\n",
      "3463/3463 [==============================] - 0s 138us/sample - loss: 0.2596 - val_loss: 0.2529\n",
      "Epoch 139/200\n",
      "3463/3463 [==============================] - 0s 132us/sample - loss: 0.2595 - val_loss: 0.2505\n",
      "Epoch 140/200\n",
      "3463/3463 [==============================] - 0s 133us/sample - loss: 0.2590 - val_loss: 0.2351\n",
      "Epoch 141/200\n",
      "3463/3463 [==============================] - 0s 132us/sample - loss: 0.2582 - val_loss: 0.2419\n",
      "Epoch 142/200\n",
      "3463/3463 [==============================] - 0s 132us/sample - loss: 0.2578 - val_loss: 0.2452\n",
      "Epoch 143/200\n",
      "3463/3463 [==============================] - 0s 132us/sample - loss: 0.2569 - val_loss: 0.2327\n",
      "Epoch 144/200\n",
      "3463/3463 [==============================] - 0s 136us/sample - loss: 0.2564 - val_loss: 0.2367\n",
      "Epoch 145/200\n",
      "3463/3463 [==============================] - 0s 136us/sample - loss: 0.2556 - val_loss: 0.2330\n",
      "Epoch 146/200\n",
      "3463/3463 [==============================] - 0s 132us/sample - loss: 0.2553 - val_loss: 0.2387\n",
      "Epoch 147/200\n",
      "3463/3463 [==============================] - 0s 134us/sample - loss: 0.2544 - val_loss: 0.2432\n",
      "Epoch 148/200\n",
      "3463/3463 [==============================] - 0s 135us/sample - loss: 0.2533 - val_loss: 0.2298\n",
      "Epoch 149/200\n",
      "3463/3463 [==============================] - 0s 132us/sample - loss: 0.2531 - val_loss: 0.2307\n",
      "Epoch 150/200\n",
      "3463/3463 [==============================] - 0s 132us/sample - loss: 0.2532 - val_loss: 0.2450\n",
      "Epoch 151/200\n"
     ]
    },
    {
     "name": "stdout",
     "output_type": "stream",
     "text": [
      "3463/3463 [==============================] - 0s 131us/sample - loss: 0.2510 - val_loss: 0.2307\n",
      "Epoch 152/200\n",
      "3463/3463 [==============================] - 0s 131us/sample - loss: 0.2519 - val_loss: 0.2280\n",
      "Epoch 153/200\n",
      "3463/3463 [==============================] - 0s 131us/sample - loss: 0.2503 - val_loss: 0.2810\n",
      "Epoch 154/200\n",
      "3463/3463 [==============================] - 0s 131us/sample - loss: 0.2514 - val_loss: 0.2307\n",
      "Epoch 155/200\n",
      "3463/3463 [==============================] - 0s 131us/sample - loss: 0.2497 - val_loss: 0.2292\n",
      "Epoch 156/200\n",
      "3463/3463 [==============================] - 0s 130us/sample - loss: 0.2503 - val_loss: 0.2259\n",
      "Epoch 157/200\n",
      "3463/3463 [==============================] - 0s 131us/sample - loss: 0.2488 - val_loss: 0.2266\n",
      "Epoch 158/200\n",
      "3463/3463 [==============================] - 0s 130us/sample - loss: 0.2478 - val_loss: 0.2426\n",
      "Epoch 159/200\n",
      "3463/3463 [==============================] - 0s 131us/sample - loss: 0.2479 - val_loss: 0.2357\n",
      "Epoch 160/200\n",
      "3463/3463 [==============================] - 0s 131us/sample - loss: 0.2476 - val_loss: 0.2241\n",
      "Epoch 161/200\n",
      "3463/3463 [==============================] - 0s 131us/sample - loss: 0.2454 - val_loss: 0.2347\n",
      "Epoch 162/200\n",
      "3463/3463 [==============================] - 0s 131us/sample - loss: 0.2459 - val_loss: 0.2232\n",
      "Epoch 163/200\n",
      "3463/3463 [==============================] - 0s 131us/sample - loss: 0.2445 - val_loss: 0.2361\n",
      "Epoch 164/200\n",
      "3463/3463 [==============================] - 0s 131us/sample - loss: 0.2449 - val_loss: 0.2330\n",
      "Epoch 165/200\n",
      "3463/3463 [==============================] - 0s 131us/sample - loss: 0.2440 - val_loss: 0.2216\n",
      "Epoch 166/200\n",
      "3463/3463 [==============================] - 0s 130us/sample - loss: 0.2440 - val_loss: 0.2310\n",
      "Epoch 167/200\n",
      "3463/3463 [==============================] - 0s 131us/sample - loss: 0.2445 - val_loss: 0.2214\n",
      "Epoch 168/200\n",
      "3463/3463 [==============================] - 0s 130us/sample - loss: 0.2431 - val_loss: 0.2273\n",
      "Epoch 169/200\n",
      "3463/3463 [==============================] - 0s 131us/sample - loss: 0.2432 - val_loss: 0.2316\n",
      "Epoch 170/200\n",
      "3463/3463 [==============================] - 0s 131us/sample - loss: 0.2417 - val_loss: 0.2196\n",
      "Epoch 171/200\n",
      "3463/3463 [==============================] - 0s 131us/sample - loss: 0.2424 - val_loss: 0.2195\n",
      "Epoch 172/200\n",
      "3463/3463 [==============================] - 0s 131us/sample - loss: 0.2414 - val_loss: 0.2251\n",
      "Epoch 173/200\n",
      "3463/3463 [==============================] - 0s 130us/sample - loss: 0.2400 - val_loss: 0.2212\n",
      "Epoch 174/200\n",
      "3463/3463 [==============================] - 0s 131us/sample - loss: 0.2399 - val_loss: 0.2176\n",
      "Epoch 175/200\n",
      "3463/3463 [==============================] - 0s 130us/sample - loss: 0.2395 - val_loss: 0.2341\n",
      "Epoch 176/200\n",
      "3463/3463 [==============================] - 0s 130us/sample - loss: 0.2394 - val_loss: 0.2243\n",
      "Epoch 177/200\n",
      "3463/3463 [==============================] - 0s 130us/sample - loss: 0.2380 - val_loss: 0.2185\n",
      "Epoch 178/200\n",
      "3463/3463 [==============================] - 0s 131us/sample - loss: 0.2382 - val_loss: 0.2431\n",
      "Epoch 179/200\n",
      "3463/3463 [==============================] - 0s 131us/sample - loss: 0.2384 - val_loss: 0.2247\n",
      "Epoch 180/200\n",
      "3463/3463 [==============================] - 0s 132us/sample - loss: 0.2370 - val_loss: 0.2181\n",
      "Epoch 181/200\n",
      "3463/3463 [==============================] - 1s 147us/sample - loss: 0.2364 - val_loss: 0.2213\n",
      "Epoch 182/200\n",
      "3463/3463 [==============================] - 0s 141us/sample - loss: 0.2363 - val_loss: 0.2314\n",
      "Epoch 183/200\n",
      "3463/3463 [==============================] - 0s 136us/sample - loss: 0.2366 - val_loss: 0.2237\n",
      "Epoch 184/200\n",
      "3463/3463 [==============================] - 0s 133us/sample - loss: 0.2354 - val_loss: 0.2268\n",
      "Epoch 185/200\n",
      "3463/3463 [==============================] - 1s 164us/sample - loss: 0.2351 - val_loss: 0.2361\n",
      "Epoch 186/200\n",
      "3463/3463 [==============================] - 1s 147us/sample - loss: 0.2354 - val_loss: 0.2464\n",
      "Epoch 187/200\n",
      "3463/3463 [==============================] - 0s 136us/sample - loss: 0.2341 - val_loss: 0.2229\n",
      "Epoch 188/200\n",
      "3463/3463 [==============================] - 0s 130us/sample - loss: 0.2343 - val_loss: 0.2190\n",
      "Epoch 189/200\n",
      "3463/3463 [==============================] - 0s 129us/sample - loss: 0.2327 - val_loss: 0.2280\n",
      "Epoch 190/200\n",
      "3463/3463 [==============================] - 0s 128us/sample - loss: 0.2330 - val_loss: 0.2132\n",
      "Epoch 191/200\n",
      "3463/3463 [==============================] - 0s 130us/sample - loss: 0.2333 - val_loss: 0.2151\n",
      "Epoch 192/200\n",
      "3463/3463 [==============================] - 0s 140us/sample - loss: 0.2311 - val_loss: 0.2686\n",
      "Epoch 193/200\n",
      "3463/3463 [==============================] - 1s 159us/sample - loss: 0.2313 - val_loss: 0.2115\n",
      "Epoch 194/200\n",
      "3463/3463 [==============================] - 1s 171us/sample - loss: 0.2308 - val_loss: 0.2091\n",
      "Epoch 195/200\n",
      "3463/3463 [==============================] - 1s 165us/sample - loss: 0.2309 - val_loss: 0.2277\n",
      "Epoch 196/200\n",
      "3463/3463 [==============================] - 0s 134us/sample - loss: 0.2295 - val_loss: 0.2109\n",
      "Epoch 197/200\n",
      "3463/3463 [==============================] - 0s 128us/sample - loss: 0.2305 - val_loss: 0.2095\n",
      "Epoch 198/200\n",
      "3463/3463 [==============================] - 0s 130us/sample - loss: 0.2295 - val_loss: 0.2112\n",
      "Epoch 199/200\n",
      "3463/3463 [==============================] - 0s 129us/sample - loss: 0.2298 - val_loss: 0.2099\n",
      "Epoch 200/200\n",
      "3463/3463 [==============================] - 0s 129us/sample - loss: 0.2281 - val_loss: 0.2085\n"
     ]
    },
    {
     "data": {
      "text/plain": [
       "<tensorflow.python.keras.callbacks.History at 0x1a4db4d450>"
      ]
     },
     "execution_count": 110,
     "metadata": {},
     "output_type": "execute_result"
    }
   ],
   "source": [
    "model.fit(X_train,y_train, validation_data=(X_test,y_test), epochs=200, callbacks=[stop])"
   ]
  },
  {
   "cell_type": "markdown",
   "metadata": {},
   "source": [
    "## Plot below shows that the model preformed really well \n",
    "- There is also a good about of room to keep training since we made it to all 300 epochs"
   ]
  },
  {
   "cell_type": "code",
   "execution_count": 111,
   "metadata": {},
   "outputs": [
    {
     "data": {
      "text/plain": [
       "<matplotlib.axes._subplots.AxesSubplot at 0x1a4ef0df10>"
      ]
     },
     "execution_count": 111,
     "metadata": {},
     "output_type": "execute_result"
    },
    {
     "data": {
      "image/png": "[encoded data removed]",
      "text/plain": [
       "<Figure size 1152x432 with 1 Axes>"
      ]
     },
     "metadata": {
      "needs_background": "light"
     },
     "output_type": "display_data"
    }
   ],
   "source": [
    "pd.DataFrame(model.history.history).plot(figsize = (16,6))"
   ]
  },
  {
   "cell_type": "code",
   "execution_count": null,
   "metadata": {},
   "outputs": [],
   "source": []
  },
  {
   "cell_type": "markdown",
   "metadata": {},
   "source": [
    "### Predictions \n",
    "- will use the model to make preditions on the Test data"
   ]
  },
  {
   "cell_type": "code",
   "execution_count": 112,
   "metadata": {},
   "outputs": [],
   "source": [
    "predictions = model.predict(X_test)"
   ]
  },
  {
   "cell_type": "markdown",
   "metadata": {},
   "source": [
    "### Metrics\n",
    "- Will use sklearn metrics to test the prediction accuracy for the data"
   ]
  },
  {
   "cell_type": "code",
   "execution_count": 113,
   "metadata": {},
   "outputs": [],
   "source": [
    "from sklearn.metrics import mean_absolute_error, mean_squared_error, explained_variance_score"
   ]
  },
  {
   "cell_type": "code",
   "execution_count": 114,
   "metadata": {},
   "outputs": [
    {
     "name": "stdout",
     "output_type": "stream",
     "text": [
      "0.8553957956986719\n"
     ]
    }
   ],
   "source": [
    "print(explained_variance_score(y_test, predictions))"
   ]
  },
  {
   "cell_type": "code",
   "execution_count": 115,
   "metadata": {},
   "outputs": [
    {
     "name": "stdout",
     "output_type": "stream",
     "text": [
      "0.3676470028832304\n"
     ]
    }
   ],
   "source": [
    "print(mean_absolute_error(y_test, predictions))"
   ]
  },
  {
   "cell_type": "code",
   "execution_count": 116,
   "metadata": {},
   "outputs": [
    {
     "name": "stdout",
     "output_type": "stream",
     "text": [
      "0.20853902969437155\n"
     ]
    }
   ],
   "source": [
    "print(mean_squared_error(y_test, predictions))"
   ]
  },
  {
   "cell_type": "code",
   "execution_count": 117,
   "metadata": {},
   "outputs": [
    {
     "data": {
      "text/plain": [
       "<matplotlib.collections.PathCollection at 0x111e2c8d0>"
      ]
     },
     "execution_count": 117,
     "metadata": {},
     "output_type": "execute_result"
    },
    {
     "data": {
      "image/png": "[encoded data removed]",
      "text/plain": [
       "<Figure size 1152x432 with 1 Axes>"
      ]
     },
     "metadata": {
      "needs_background": "light"
     },
     "output_type": "display_data"
    }
   ],
   "source": [
    "plt.figure(figsize=(16,6))\n",
    "plt.scatter(y_test, predictions)"
   ]
  },
  {
   "cell_type": "markdown",
   "metadata": {},
   "source": [
    "### Testing in random Data "
   ]
  },
  {
   "cell_type": "code",
   "execution_count": 118,
   "metadata": {},
   "outputs": [],
   "source": [
    "from random import randint\n",
    "random_index = randint(1, len(working_data))\n",
    "random_day = working_data.drop(\"^TNX Adj Close\", axis=1).iloc[random_index]"
   ]
  },
  {
   "cell_type": "code",
   "execution_count": 119,
   "metadata": {},
   "outputs": [
    {
     "data": {
      "text/plain": [
       "^GSPC     1142.310059\n",
       "^DJI     10809.169922\n",
       "^IXIC     2373.129883\n",
       "^RUT       669.739990\n",
       "Name: 2010-09-28 00:00:00, dtype: float64"
      ]
     },
     "execution_count": 119,
     "metadata": {},
     "output_type": "execute_result"
    }
   ],
   "source": [
    "random_day"
   ]
  },
  {
   "cell_type": "code",
   "execution_count": 120,
   "metadata": {},
   "outputs": [],
   "source": [
    "random_day = scalar.transform(random_day.values.reshape(1,4))"
   ]
  },
  {
   "cell_type": "code",
   "execution_count": 121,
   "metadata": {},
   "outputs": [
    {
     "data": {
      "text/plain": [
       "array([[2.6834779]], dtype=float32)"
      ]
     },
     "execution_count": 121,
     "metadata": {},
     "output_type": "execute_result"
    }
   ],
   "source": [
    "model.predict(random_day)"
   ]
  },
  {
   "cell_type": "code",
   "execution_count": 122,
   "metadata": {},
   "outputs": [
    {
     "data": {
      "text/plain": [
       "^GSPC              1142.310059\n",
       "^DJI              10809.169922\n",
       "^IXIC              2373.129883\n",
       "^RUT                669.739990\n",
       "^TNX Adj Close        2.456000\n",
       "Name: 2010-09-28 00:00:00, dtype: float64"
      ]
     },
     "execution_count": 122,
     "metadata": {},
     "output_type": "execute_result"
    }
   ],
   "source": [
    "working_data.iloc[random_index]"
   ]
  },
  {
   "cell_type": "markdown",
   "metadata": {},
   "source": [
    "### Checking Today's Date"
   ]
  },
  {
   "cell_type": "code",
   "execution_count": 123,
   "metadata": {},
   "outputs": [],
   "source": [
    "toadys_index = working_data.index.argmax()"
   ]
  },
  {
   "cell_type": "code",
   "execution_count": 124,
   "metadata": {},
   "outputs": [
    {
     "data": {
      "text/plain": [
       "^GSPC              3464.899902\n",
       "^DJI              28409.650391\n",
       "^IXIC             11536.009766\n",
       "^RUT               1634.060059\n",
       "^TNX Adj Close        0.841000\n",
       "Name: 2020-10-23 00:00:00, dtype: float64"
      ]
     },
     "execution_count": 124,
     "metadata": {},
     "output_type": "execute_result"
    }
   ],
   "source": [
    "working_data.iloc[toadys_index]"
   ]
  },
  {
   "cell_type": "code",
   "execution_count": 125,
   "metadata": {},
   "outputs": [
    {
     "data": {
      "text/plain": [
       "(3463, 4)"
      ]
     },
     "execution_count": 125,
     "metadata": {},
     "output_type": "execute_result"
    }
   ],
   "source": [
    "X_train.shape"
   ]
  },
  {
   "cell_type": "code",
   "execution_count": 126,
   "metadata": {},
   "outputs": [
    {
     "data": {
      "text/plain": [
       "array([3.46489990e+03, 2.84096504e+04, 1.15360098e+04, 1.63406006e+03,\n",
       "       8.41000021e-01])"
      ]
     },
     "execution_count": 126,
     "metadata": {},
     "output_type": "execute_result"
    }
   ],
   "source": [
    "working_data.iloc[toadys_index].values"
   ]
  },
  {
   "cell_type": "markdown",
   "metadata": {},
   "source": [
    "##### we will need to reshape and scale the data since this is what the model was trained on"
   ]
  },
  {
   "cell_type": "code",
   "execution_count": 127,
   "metadata": {},
   "outputs": [],
   "source": [
    "todays_date_data = scalar.transform(working_data.drop(\"^TNX Adj Close\", axis = 1).iloc[toadys_index].values.reshape(1,4))"
   ]
  },
  {
   "cell_type": "markdown",
   "metadata": {},
   "source": [
    "## Model Prediction on the 10year\n",
    "- Model predicition for the most recent date in the data set\n",
    "- WE can see that the model is not too far off but could make some improvments\n",
    "- Below we wull add a 20 day moving average for the Capital markets as well as the upper and loer bounds of a bollinger band"
   ]
  },
  {
   "cell_type": "code",
   "execution_count": 128,
   "metadata": {},
   "outputs": [
    {
     "data": {
      "text/plain": [
       "array([[1.0398058]], dtype=float32)"
      ]
     },
     "execution_count": 128,
     "metadata": {},
     "output_type": "execute_result"
    }
   ],
   "source": [
    "model.predict(todays_date_data)"
   ]
  },
  {
   "cell_type": "code",
   "execution_count": null,
   "metadata": {},
   "outputs": [],
   "source": []
  },
  {
   "cell_type": "markdown",
   "metadata": {},
   "source": [
    "## Feature Generation\n",
    "- 20 day Rolling mean and Bollinger Band "
   ]
  },
  {
   "cell_type": "code",
   "execution_count": 129,
   "metadata": {},
   "outputs": [
    {
     "data": {
      "text/html": [
       "<div>\n",
       "<style scoped>\n",
       "    .dataframe tbody tr th:only-of-type {\n",
       "        vertical-align: middle;\n",
       "    }\n",
       "\n",
       "    .dataframe tbody tr th {\n",
       "        vertical-align: top;\n",
       "    }\n",
       "\n",
       "    .dataframe thead th {\n",
       "        text-align: right;\n",
       "    }\n",
       "</style>\n",
       "<table border=\"1\" class=\"dataframe\">\n",
       "  <thead>\n",
       "    <tr style=\"text-align: right;\">\n",
       "      <th></th>\n",
       "      <th>^GSPC</th>\n",
       "      <th>^DJI</th>\n",
       "      <th>^IXIC</th>\n",
       "      <th>^RUT</th>\n",
       "      <th>^TNX Adj Close</th>\n",
       "    </tr>\n",
       "    <tr>\n",
       "      <th>Date</th>\n",
       "      <th></th>\n",
       "      <th></th>\n",
       "      <th></th>\n",
       "      <th></th>\n",
       "      <th></th>\n",
       "    </tr>\n",
       "  </thead>\n",
       "  <tbody>\n",
       "    <tr>\n",
       "      <th>2001-01-02</th>\n",
       "      <td>NaN</td>\n",
       "      <td>NaN</td>\n",
       "      <td>NaN</td>\n",
       "      <td>NaN</td>\n",
       "      <td>NaN</td>\n",
       "    </tr>\n",
       "    <tr>\n",
       "      <th>2001-01-03</th>\n",
       "      <td>NaN</td>\n",
       "      <td>NaN</td>\n",
       "      <td>NaN</td>\n",
       "      <td>NaN</td>\n",
       "      <td>NaN</td>\n",
       "    </tr>\n",
       "    <tr>\n",
       "      <th>2001-01-04</th>\n",
       "      <td>NaN</td>\n",
       "      <td>NaN</td>\n",
       "      <td>NaN</td>\n",
       "      <td>NaN</td>\n",
       "      <td>NaN</td>\n",
       "    </tr>\n",
       "    <tr>\n",
       "      <th>2001-01-05</th>\n",
       "      <td>NaN</td>\n",
       "      <td>NaN</td>\n",
       "      <td>NaN</td>\n",
       "      <td>NaN</td>\n",
       "      <td>NaN</td>\n",
       "    </tr>\n",
       "    <tr>\n",
       "      <th>2001-01-08</th>\n",
       "      <td>NaN</td>\n",
       "      <td>NaN</td>\n",
       "      <td>NaN</td>\n",
       "      <td>NaN</td>\n",
       "      <td>NaN</td>\n",
       "    </tr>\n",
       "    <tr>\n",
       "      <th>...</th>\n",
       "      <td>...</td>\n",
       "      <td>...</td>\n",
       "      <td>...</td>\n",
       "      <td>...</td>\n",
       "      <td>...</td>\n",
       "    </tr>\n",
       "    <tr>\n",
       "      <th>2020-10-19</th>\n",
       "      <td>3391.051489</td>\n",
       "      <td>27922.271582</td>\n",
       "      <td>11275.374463</td>\n",
       "      <td>1559.740985</td>\n",
       "      <td>0.71445</td>\n",
       "    </tr>\n",
       "    <tr>\n",
       "      <th>2020-10-20</th>\n",
       "      <td>3398.741980</td>\n",
       "      <td>27960.328516</td>\n",
       "      <td>11321.458984</td>\n",
       "      <td>1564.073480</td>\n",
       "      <td>0.72075</td>\n",
       "    </tr>\n",
       "    <tr>\n",
       "      <th>2020-10-21</th>\n",
       "      <td>3405.949976</td>\n",
       "      <td>28015.344531</td>\n",
       "      <td>11354.313477</td>\n",
       "      <td>1570.687976</td>\n",
       "      <td>0.72835</td>\n",
       "    </tr>\n",
       "    <tr>\n",
       "      <th>2020-10-22</th>\n",
       "      <td>3411.869470</td>\n",
       "      <td>28054.535547</td>\n",
       "      <td>11383.120947</td>\n",
       "      <td>1576.086975</td>\n",
       "      <td>0.73695</td>\n",
       "    </tr>\n",
       "    <tr>\n",
       "      <th>2020-10-23</th>\n",
       "      <td>3423.807471</td>\n",
       "      <td>28139.213574</td>\n",
       "      <td>11432.370459</td>\n",
       "      <td>1585.247980</td>\n",
       "      <td>0.74570</td>\n",
       "    </tr>\n",
       "  </tbody>\n",
       "</table>\n",
       "<p>4948 rows × 5 columns</p>\n",
       "</div>"
      ],
      "text/plain": [
       "                  ^GSPC          ^DJI         ^IXIC         ^RUT  \\\n",
       "Date                                                               \n",
       "2001-01-02          NaN           NaN           NaN          NaN   \n",
       "2001-01-03          NaN           NaN           NaN          NaN   \n",
       "2001-01-04          NaN           NaN           NaN          NaN   \n",
       "2001-01-05          NaN           NaN           NaN          NaN   \n",
       "2001-01-08          NaN           NaN           NaN          NaN   \n",
       "...                 ...           ...           ...          ...   \n",
       "2020-10-19  3391.051489  27922.271582  11275.374463  1559.740985   \n",
       "2020-10-20  3398.741980  27960.328516  11321.458984  1564.073480   \n",
       "2020-10-21  3405.949976  28015.344531  11354.313477  1570.687976   \n",
       "2020-10-22  3411.869470  28054.535547  11383.120947  1576.086975   \n",
       "2020-10-23  3423.807471  28139.213574  11432.370459  1585.247980   \n",
       "\n",
       "            ^TNX Adj Close  \n",
       "Date                        \n",
       "2001-01-02             NaN  \n",
       "2001-01-03             NaN  \n",
       "2001-01-04             NaN  \n",
       "2001-01-05             NaN  \n",
       "2001-01-08             NaN  \n",
       "...                    ...  \n",
       "2020-10-19         0.71445  \n",
       "2020-10-20         0.72075  \n",
       "2020-10-21         0.72835  \n",
       "2020-10-22         0.73695  \n",
       "2020-10-23         0.74570  \n",
       "\n",
       "[4948 rows x 5 columns]"
      ]
     },
     "execution_count": 129,
     "metadata": {},
     "output_type": "execute_result"
    }
   ],
   "source": [
    "working_data.rolling(20).mean()"
   ]
  },
  {
   "cell_type": "code",
   "execution_count": 130,
   "metadata": {},
   "outputs": [
    {
     "data": {
      "text/plain": [
       "<matplotlib.axes._subplots.AxesSubplot at 0x1a4ca5d590>"
      ]
     },
     "execution_count": 130,
     "metadata": {},
     "output_type": "execute_result"
    },
    {
     "data": {
      "image/png": "[encoded data removed]",
      "text/plain": [
       "<Figure size 432x288 with 1 Axes>"
      ]
     },
     "metadata": {
      "needs_background": "light"
     },
     "output_type": "display_data"
    }
   ],
   "source": [
    "working_data.rolling(20).mean().drop(\"^TNX Adj Close\", axis = 1).plot()"
   ]
  },
  {
   "cell_type": "markdown",
   "metadata": {},
   "source": [
    "### Adding the 15 day, 20 day moving average to the data set"
   ]
  },
  {
   "cell_type": "code",
   "execution_count": 131,
   "metadata": {},
   "outputs": [],
   "source": [
    "for t in list(working_data.columns):\n",
    "    working_data[f\"{t} 20day MA\"] = working_data[f\"{t}\"].rolling(20).mean()"
   ]
  },
  {
   "cell_type": "code",
   "execution_count": 132,
   "metadata": {},
   "outputs": [],
   "source": [
    "for x in ['^GSPC', '^DJI', '^IXIC', '^RUT']:\n",
    "    working_data[f\"{x} 15day  MA\"] = working_data[f\"{x}\"].rolling(15).mean()"
   ]
  },
  {
   "cell_type": "code",
   "execution_count": 133,
   "metadata": {},
   "outputs": [
    {
     "data": {
      "text/html": [
       "<div>\n",
       "<style scoped>\n",
       "    .dataframe tbody tr th:only-of-type {\n",
       "        vertical-align: middle;\n",
       "    }\n",
       "\n",
       "    .dataframe tbody tr th {\n",
       "        vertical-align: top;\n",
       "    }\n",
       "\n",
       "    .dataframe thead th {\n",
       "        text-align: right;\n",
       "    }\n",
       "</style>\n",
       "<table border=\"1\" class=\"dataframe\">\n",
       "  <thead>\n",
       "    <tr style=\"text-align: right;\">\n",
       "      <th></th>\n",
       "      <th>^GSPC</th>\n",
       "      <th>^DJI</th>\n",
       "      <th>^IXIC</th>\n",
       "      <th>^RUT</th>\n",
       "      <th>^TNX Adj Close</th>\n",
       "      <th>^GSPC 20day MA</th>\n",
       "      <th>^DJI 20day MA</th>\n",
       "      <th>^IXIC 20day MA</th>\n",
       "      <th>^RUT 20day MA</th>\n",
       "      <th>^TNX Adj Close 20day MA</th>\n",
       "      <th>^GSPC 15day  MA</th>\n",
       "      <th>^DJI 15day  MA</th>\n",
       "      <th>^IXIC 15day  MA</th>\n",
       "      <th>^RUT 15day  MA</th>\n",
       "    </tr>\n",
       "    <tr>\n",
       "      <th>Date</th>\n",
       "      <th></th>\n",
       "      <th></th>\n",
       "      <th></th>\n",
       "      <th></th>\n",
       "      <th></th>\n",
       "      <th></th>\n",
       "      <th></th>\n",
       "      <th></th>\n",
       "      <th></th>\n",
       "      <th></th>\n",
       "      <th></th>\n",
       "      <th></th>\n",
       "      <th></th>\n",
       "      <th></th>\n",
       "    </tr>\n",
       "  </thead>\n",
       "  <tbody>\n",
       "    <tr>\n",
       "      <th>2001-01-02</th>\n",
       "      <td>1320.280029</td>\n",
       "      <td>10790.919922</td>\n",
       "      <td>2474.159912</td>\n",
       "      <td>483.549988</td>\n",
       "      <td>4.917</td>\n",
       "      <td>NaN</td>\n",
       "      <td>NaN</td>\n",
       "      <td>NaN</td>\n",
       "      <td>NaN</td>\n",
       "      <td>NaN</td>\n",
       "      <td>NaN</td>\n",
       "      <td>NaN</td>\n",
       "      <td>NaN</td>\n",
       "      <td>NaN</td>\n",
       "    </tr>\n",
       "    <tr>\n",
       "      <th>2001-01-03</th>\n",
       "      <td>1283.270020</td>\n",
       "      <td>10637.419922</td>\n",
       "      <td>2254.560059</td>\n",
       "      <td>462.489990</td>\n",
       "      <td>5.097</td>\n",
       "      <td>NaN</td>\n",
       "      <td>NaN</td>\n",
       "      <td>NaN</td>\n",
       "      <td>NaN</td>\n",
       "      <td>NaN</td>\n",
       "      <td>NaN</td>\n",
       "      <td>NaN</td>\n",
       "      <td>NaN</td>\n",
       "      <td>NaN</td>\n",
       "    </tr>\n",
       "    <tr>\n",
       "      <th>2001-01-04</th>\n",
       "      <td>1347.560059</td>\n",
       "      <td>10944.940430</td>\n",
       "      <td>2593.959961</td>\n",
       "      <td>484.390015</td>\n",
       "      <td>5.013</td>\n",
       "      <td>NaN</td>\n",
       "      <td>NaN</td>\n",
       "      <td>NaN</td>\n",
       "      <td>NaN</td>\n",
       "      <td>NaN</td>\n",
       "      <td>NaN</td>\n",
       "      <td>NaN</td>\n",
       "      <td>NaN</td>\n",
       "      <td>NaN</td>\n",
       "    </tr>\n",
       "    <tr>\n",
       "      <th>2001-01-05</th>\n",
       "      <td>1333.339966</td>\n",
       "      <td>10912.809570</td>\n",
       "      <td>2573.110107</td>\n",
       "      <td>477.200012</td>\n",
       "      <td>4.948</td>\n",
       "      <td>NaN</td>\n",
       "      <td>NaN</td>\n",
       "      <td>NaN</td>\n",
       "      <td>NaN</td>\n",
       "      <td>NaN</td>\n",
       "      <td>NaN</td>\n",
       "      <td>NaN</td>\n",
       "      <td>NaN</td>\n",
       "      <td>NaN</td>\n",
       "    </tr>\n",
       "    <tr>\n",
       "      <th>2001-01-08</th>\n",
       "      <td>1298.349976</td>\n",
       "      <td>10658.730469</td>\n",
       "      <td>2388.719971</td>\n",
       "      <td>463.140015</td>\n",
       "      <td>4.897</td>\n",
       "      <td>NaN</td>\n",
       "      <td>NaN</td>\n",
       "      <td>NaN</td>\n",
       "      <td>NaN</td>\n",
       "      <td>NaN</td>\n",
       "      <td>NaN</td>\n",
       "      <td>NaN</td>\n",
       "      <td>NaN</td>\n",
       "      <td>NaN</td>\n",
       "    </tr>\n",
       "    <tr>\n",
       "      <th>...</th>\n",
       "      <td>...</td>\n",
       "      <td>...</td>\n",
       "      <td>...</td>\n",
       "      <td>...</td>\n",
       "      <td>...</td>\n",
       "      <td>...</td>\n",
       "      <td>...</td>\n",
       "      <td>...</td>\n",
       "      <td>...</td>\n",
       "      <td>...</td>\n",
       "      <td>...</td>\n",
       "      <td>...</td>\n",
       "      <td>...</td>\n",
       "      <td>...</td>\n",
       "    </tr>\n",
       "    <tr>\n",
       "      <th>2020-10-19</th>\n",
       "      <td>3493.659912</td>\n",
       "      <td>28633.550781</td>\n",
       "      <td>11732.339844</td>\n",
       "      <td>1636.839966</td>\n",
       "      <td>0.761</td>\n",
       "      <td>3391.051489</td>\n",
       "      <td>27922.271582</td>\n",
       "      <td>11275.374463</td>\n",
       "      <td>1559.740985</td>\n",
       "      <td>0.71445</td>\n",
       "      <td>3430.453320</td>\n",
       "      <td>28197.745443</td>\n",
       "      <td>11456.116667</td>\n",
       "      <td>1585.070646</td>\n",
       "    </tr>\n",
       "    <tr>\n",
       "      <th>2020-10-20</th>\n",
       "      <td>3439.379883</td>\n",
       "      <td>28245.849609</td>\n",
       "      <td>11531.830078</td>\n",
       "      <td>1620.569946</td>\n",
       "      <td>0.797</td>\n",
       "      <td>3398.741980</td>\n",
       "      <td>27960.328516</td>\n",
       "      <td>11321.458984</td>\n",
       "      <td>1564.073480</td>\n",
       "      <td>0.72075</td>\n",
       "      <td>3437.485319</td>\n",
       "      <td>28256.659375</td>\n",
       "      <td>11485.946680</td>\n",
       "      <td>1594.613306</td>\n",
       "    </tr>\n",
       "    <tr>\n",
       "      <th>2020-10-21</th>\n",
       "      <td>3439.909912</td>\n",
       "      <td>28270.660156</td>\n",
       "      <td>11530.389648</td>\n",
       "      <td>1618.339966</td>\n",
       "      <td>0.816</td>\n",
       "      <td>3405.949976</td>\n",
       "      <td>28015.344531</td>\n",
       "      <td>11354.313477</td>\n",
       "      <td>1570.687976</td>\n",
       "      <td>0.72835</td>\n",
       "      <td>3443.417985</td>\n",
       "      <td>28304.020703</td>\n",
       "      <td>11514.039323</td>\n",
       "      <td>1601.822640</td>\n",
       "    </tr>\n",
       "    <tr>\n",
       "      <th>2020-10-22</th>\n",
       "      <td>3438.500000</td>\n",
       "      <td>28197.419922</td>\n",
       "      <td>11526.969727</td>\n",
       "      <td>1604.949951</td>\n",
       "      <td>0.848</td>\n",
       "      <td>3411.869470</td>\n",
       "      <td>28054.535547</td>\n",
       "      <td>11383.120947</td>\n",
       "      <td>1576.086975</td>\n",
       "      <td>0.73695</td>\n",
       "      <td>3449.903988</td>\n",
       "      <td>28349.539323</td>\n",
       "      <td>11542.977279</td>\n",
       "      <td>1608.496639</td>\n",
       "    </tr>\n",
       "    <tr>\n",
       "      <th>2020-10-23</th>\n",
       "      <td>3464.899902</td>\n",
       "      <td>28409.650391</td>\n",
       "      <td>11536.009766</td>\n",
       "      <td>1634.060059</td>\n",
       "      <td>0.841</td>\n",
       "      <td>3423.807471</td>\n",
       "      <td>28139.213574</td>\n",
       "      <td>11432.370459</td>\n",
       "      <td>1585.247980</td>\n",
       "      <td>0.74570</td>\n",
       "      <td>3455.172640</td>\n",
       "      <td>28380.807292</td>\n",
       "      <td>11559.245247</td>\n",
       "      <td>1616.860645</td>\n",
       "    </tr>\n",
       "  </tbody>\n",
       "</table>\n",
       "<p>4948 rows × 14 columns</p>\n",
       "</div>"
      ],
      "text/plain": [
       "                  ^GSPC          ^DJI         ^IXIC         ^RUT  \\\n",
       "Date                                                               \n",
       "2001-01-02  1320.280029  10790.919922   2474.159912   483.549988   \n",
       "2001-01-03  1283.270020  10637.419922   2254.560059   462.489990   \n",
       "2001-01-04  1347.560059  10944.940430   2593.959961   484.390015   \n",
       "2001-01-05  1333.339966  10912.809570   2573.110107   477.200012   \n",
       "2001-01-08  1298.349976  10658.730469   2388.719971   463.140015   \n",
       "...                 ...           ...           ...          ...   \n",
       "2020-10-19  3493.659912  28633.550781  11732.339844  1636.839966   \n",
       "2020-10-20  3439.379883  28245.849609  11531.830078  1620.569946   \n",
       "2020-10-21  3439.909912  28270.660156  11530.389648  1618.339966   \n",
       "2020-10-22  3438.500000  28197.419922  11526.969727  1604.949951   \n",
       "2020-10-23  3464.899902  28409.650391  11536.009766  1634.060059   \n",
       "\n",
       "            ^TNX Adj Close  ^GSPC 20day MA  ^DJI 20day MA  ^IXIC 20day MA  \\\n",
       "Date                                                                        \n",
       "2001-01-02           4.917             NaN            NaN             NaN   \n",
       "2001-01-03           5.097             NaN            NaN             NaN   \n",
       "2001-01-04           5.013             NaN            NaN             NaN   \n",
       "2001-01-05           4.948             NaN            NaN             NaN   \n",
       "2001-01-08           4.897             NaN            NaN             NaN   \n",
       "...                    ...             ...            ...             ...   \n",
       "2020-10-19           0.761     3391.051489   27922.271582    11275.374463   \n",
       "2020-10-20           0.797     3398.741980   27960.328516    11321.458984   \n",
       "2020-10-21           0.816     3405.949976   28015.344531    11354.313477   \n",
       "2020-10-22           0.848     3411.869470   28054.535547    11383.120947   \n",
       "2020-10-23           0.841     3423.807471   28139.213574    11432.370459   \n",
       "\n",
       "            ^RUT 20day MA  ^TNX Adj Close 20day MA  ^GSPC 15day  MA  \\\n",
       "Date                                                                  \n",
       "2001-01-02            NaN                      NaN              NaN   \n",
       "2001-01-03            NaN                      NaN              NaN   \n",
       "2001-01-04            NaN                      NaN              NaN   \n",
       "2001-01-05            NaN                      NaN              NaN   \n",
       "2001-01-08            NaN                      NaN              NaN   \n",
       "...                   ...                      ...              ...   \n",
       "2020-10-19    1559.740985                  0.71445      3430.453320   \n",
       "2020-10-20    1564.073480                  0.72075      3437.485319   \n",
       "2020-10-21    1570.687976                  0.72835      3443.417985   \n",
       "2020-10-22    1576.086975                  0.73695      3449.903988   \n",
       "2020-10-23    1585.247980                  0.74570      3455.172640   \n",
       "\n",
       "            ^DJI 15day  MA  ^IXIC 15day  MA  ^RUT 15day  MA  \n",
       "Date                                                         \n",
       "2001-01-02             NaN              NaN             NaN  \n",
       "2001-01-03             NaN              NaN             NaN  \n",
       "2001-01-04             NaN              NaN             NaN  \n",
       "2001-01-05             NaN              NaN             NaN  \n",
       "2001-01-08             NaN              NaN             NaN  \n",
       "...                    ...              ...             ...  \n",
       "2020-10-19    28197.745443     11456.116667     1585.070646  \n",
       "2020-10-20    28256.659375     11485.946680     1594.613306  \n",
       "2020-10-21    28304.020703     11514.039323     1601.822640  \n",
       "2020-10-22    28349.539323     11542.977279     1608.496639  \n",
       "2020-10-23    28380.807292     11559.245247     1616.860645  \n",
       "\n",
       "[4948 rows x 14 columns]"
      ]
     },
     "execution_count": 133,
     "metadata": {},
     "output_type": "execute_result"
    }
   ],
   "source": [
    "working_data"
   ]
  },
  {
   "cell_type": "markdown",
   "metadata": {},
   "source": [
    "##  Dropping the 10 year MA, and nill values"
   ]
  },
  {
   "cell_type": "code",
   "execution_count": 134,
   "metadata": {},
   "outputs": [],
   "source": [
    "working_data.drop(\"^TNX Adj Close 20day MA\", axis=1, inplace=True)"
   ]
  },
  {
   "cell_type": "code",
   "execution_count": 135,
   "metadata": {},
   "outputs": [],
   "source": [
    "working_data.dropna(inplace=True)"
   ]
  },
  {
   "cell_type": "code",
   "execution_count": 136,
   "metadata": {},
   "outputs": [
    {
     "data": {
      "text/plain": [
       "^GSPC              0\n",
       "^DJI               0\n",
       "^IXIC              0\n",
       "^RUT               0\n",
       "^TNX Adj Close     0\n",
       "^GSPC 20day MA     0\n",
       "^DJI 20day MA      0\n",
       "^IXIC 20day MA     0\n",
       "^RUT 20day MA      0\n",
       "^GSPC 15day  MA    0\n",
       "^DJI 15day  MA     0\n",
       "^IXIC 15day  MA    0\n",
       "^RUT 15day  MA     0\n",
       "dtype: int64"
      ]
     },
     "execution_count": 136,
     "metadata": {},
     "output_type": "execute_result"
    }
   ],
   "source": [
    "working_data.isnull().sum()"
   ]
  },
  {
   "cell_type": "code",
   "execution_count": 137,
   "metadata": {},
   "outputs": [
    {
     "data": {
      "text/plain": [
       "<matplotlib.axes._subplots.AxesSubplot at 0x1a4e4f3910>"
      ]
     },
     "execution_count": 137,
     "metadata": {},
     "output_type": "execute_result"
    },
    {
     "data": {
      "image/png": "[encoded data removed]",
      "text/plain": [
       "<Figure size 1152x432 with 1 Axes>"
      ]
     },
     "metadata": {
      "needs_background": "light"
     },
     "output_type": "display_data"
    }
   ],
   "source": [
    "working_data.plot(figsize = (16,6))"
   ]
  },
  {
   "cell_type": "markdown",
   "metadata": {},
   "source": [
    "## Recreating the model to see if there is any improvments"
   ]
  },
  {
   "cell_type": "code",
   "execution_count": 138,
   "metadata": {},
   "outputs": [],
   "source": [
    "X = working_data.drop(\"^TNX Adj Close\", axis=1).values\n",
    "y = working_data[\"^TNX Adj Close\"].values"
   ]
  },
  {
   "cell_type": "markdown",
   "metadata": {},
   "source": [
    "## Training Spliting "
   ]
  },
  {
   "cell_type": "code",
   "execution_count": 139,
   "metadata": {},
   "outputs": [],
   "source": [
    "X_train, X_test, y_train, y_test = train_test_split(X, y, test_size=0.30, random_state=42)"
   ]
  },
  {
   "cell_type": "code",
   "execution_count": 140,
   "metadata": {},
   "outputs": [],
   "source": [
    "X_train = scalar.fit_transform(X_train)"
   ]
  },
  {
   "cell_type": "code",
   "execution_count": 141,
   "metadata": {},
   "outputs": [],
   "source": [
    "X_test = scalar.transform(X_test)"
   ]
  },
  {
   "cell_type": "markdown",
   "metadata": {},
   "source": [
    "## Stopping\n",
    "- We will use the same early stopping callback as we used previously "
   ]
  },
  {
   "cell_type": "markdown",
   "metadata": {},
   "source": [
    "## creating the model "
   ]
  },
  {
   "cell_type": "code",
   "execution_count": 142,
   "metadata": {},
   "outputs": [
    {
     "data": {
      "text/plain": [
       "(3450, 12)"
      ]
     },
     "execution_count": 142,
     "metadata": {},
     "output_type": "execute_result"
    }
   ],
   "source": [
    "X_train.shape"
   ]
  },
  {
   "cell_type": "code",
   "execution_count": 143,
   "metadata": {},
   "outputs": [],
   "source": [
    "model = Sequential()\n",
    "model.add(Dense(units = 12, activation = \"relu\"))\n",
    "model.add(Dense(units = 12, activation = \"relu\"))\n",
    "model.add(Dense(units = 12, activation = \"relu\"))\n",
    "model.add(Dense(units = 12, activation = \"relu\"))\n",
    "model.add(Dense(units = 12, activation = \"relu\"))\n",
    "model.add(Dense(units = 12, activation = \"relu\"))\n",
    "model.add(Dense(units = 1))\n",
    "model.compile(optimizer = \"adam\", loss = \"mse\")"
   ]
  },
  {
   "cell_type": "markdown",
   "metadata": {},
   "source": [
    "## fitting the model"
   ]
  },
  {
   "cell_type": "code",
   "execution_count": 144,
   "metadata": {},
   "outputs": [
    {
     "name": "stdout",
     "output_type": "stream",
     "text": [
      "Train on 3450 samples, validate on 1479 samples\n",
      "Epoch 1/250\n",
      "3450/3450 [==============================] - 2s 544us/sample - loss: 7.9514 - val_loss: 3.2605\n",
      "Epoch 2/250\n",
      "3450/3450 [==============================] - 0s 131us/sample - loss: 1.6421 - val_loss: 0.7599\n",
      "Epoch 3/250\n",
      "3450/3450 [==============================] - 0s 137us/sample - loss: 0.7041 - val_loss: 0.6497\n",
      "Epoch 4/250\n",
      "3450/3450 [==============================] - 0s 126us/sample - loss: 0.6280 - val_loss: 0.5599\n",
      "Epoch 5/250\n",
      "3450/3450 [==============================] - 0s 126us/sample - loss: 0.5148 - val_loss: 0.4728\n",
      "Epoch 6/250\n",
      "3450/3450 [==============================] - 0s 128us/sample - loss: 0.3756 - val_loss: 0.2960\n",
      "Epoch 7/250\n",
      "3450/3450 [==============================] - 0s 129us/sample - loss: 0.2635 - val_loss: 0.2075\n",
      "Epoch 8/250\n",
      "3450/3450 [==============================] - 0s 134us/sample - loss: 0.2135 - val_loss: 0.1706\n",
      "Epoch 9/250\n",
      "3450/3450 [==============================] - 0s 128us/sample - loss: 0.1889 - val_loss: 0.1654\n",
      "Epoch 10/250\n",
      "3450/3450 [==============================] - 0s 130us/sample - loss: 0.1779 - val_loss: 0.1501\n",
      "Epoch 11/250\n",
      "3450/3450 [==============================] - 0s 137us/sample - loss: 0.1660 - val_loss: 0.1405\n",
      "Epoch 12/250\n",
      "3450/3450 [==============================] - 0s 129us/sample - loss: 0.1567 - val_loss: 0.1366\n",
      "Epoch 13/250\n",
      "3450/3450 [==============================] - 0s 132us/sample - loss: 0.1499 - val_loss: 0.1368\n",
      "Epoch 14/250\n",
      "3450/3450 [==============================] - 0s 135us/sample - loss: 0.1469 - val_loss: 0.1282\n",
      "Epoch 15/250\n",
      "3450/3450 [==============================] - 0s 127us/sample - loss: 0.1428 - val_loss: 0.1194\n",
      "Epoch 16/250\n",
      "3450/3450 [==============================] - 0s 129us/sample - loss: 0.1296 - val_loss: 0.1162\n",
      "Epoch 17/250\n",
      "3450/3450 [==============================] - 0s 129us/sample - loss: 0.1326 - val_loss: 0.1229\n",
      "Epoch 18/250\n",
      "3450/3450 [==============================] - 0s 129us/sample - loss: 0.1246 - val_loss: 0.1103\n",
      "Epoch 19/250\n",
      "3450/3450 [==============================] - 0s 129us/sample - loss: 0.1212 - val_loss: 0.1261\n",
      "Epoch 20/250\n",
      "3450/3450 [==============================] - 0s 127us/sample - loss: 0.1195 - val_loss: 0.1056\n",
      "Epoch 21/250\n",
      "3450/3450 [==============================] - 0s 128us/sample - loss: 0.1135 - val_loss: 0.1107\n",
      "Epoch 22/250\n",
      "3450/3450 [==============================] - 0s 127us/sample - loss: 0.1104 - val_loss: 0.1114\n",
      "Epoch 23/250\n",
      "3450/3450 [==============================] - 0s 133us/sample - loss: 0.1095 - val_loss: 0.1050\n",
      "Epoch 24/250\n",
      "3450/3450 [==============================] - 0s 127us/sample - loss: 0.1106 - val_loss: 0.0983\n",
      "Epoch 25/250\n",
      "3450/3450 [==============================] - 0s 129us/sample - loss: 0.1040 - val_loss: 0.0991\n",
      "Epoch 26/250\n",
      "3450/3450 [==============================] - 0s 128us/sample - loss: 0.1012 - val_loss: 0.0939\n",
      "Epoch 27/250\n",
      "3450/3450 [==============================] - 0s 132us/sample - loss: 0.1023 - val_loss: 0.0937\n",
      "Epoch 28/250\n",
      "3450/3450 [==============================] - 0s 139us/sample - loss: 0.0990 - val_loss: 0.0889\n",
      "Epoch 29/250\n",
      "3450/3450 [==============================] - 0s 132us/sample - loss: 0.0977 - val_loss: 0.0916\n",
      "Epoch 30/250\n",
      "3450/3450 [==============================] - 0s 129us/sample - loss: 0.1021 - val_loss: 0.0941\n",
      "Epoch 31/250\n",
      "3450/3450 [==============================] - 0s 129us/sample - loss: 0.0976 - val_loss: 0.1049\n",
      "Epoch 32/250\n",
      "3450/3450 [==============================] - 0s 129us/sample - loss: 0.0953 - val_loss: 0.0901\n",
      "Epoch 33/250\n",
      "3450/3450 [==============================] - 0s 127us/sample - loss: 0.0948 - val_loss: 0.0850\n",
      "Epoch 34/250\n",
      "3450/3450 [==============================] - 0s 133us/sample - loss: 0.0910 - val_loss: 0.0833\n",
      "Epoch 35/250\n",
      "3450/3450 [==============================] - 0s 129us/sample - loss: 0.0898 - val_loss: 0.0882\n",
      "Epoch 36/250\n",
      "3450/3450 [==============================] - 0s 129us/sample - loss: 0.0889 - val_loss: 0.0843\n",
      "Epoch 37/250\n",
      "3450/3450 [==============================] - 0s 129us/sample - loss: 0.0909 - val_loss: 0.0855\n",
      "Epoch 38/250\n",
      "3450/3450 [==============================] - 0s 129us/sample - loss: 0.0910 - val_loss: 0.0886\n",
      "Epoch 39/250\n",
      "3450/3450 [==============================] - 0s 130us/sample - loss: 0.0893 - val_loss: 0.0900\n",
      "Epoch 40/250\n",
      "3450/3450 [==============================] - 0s 129us/sample - loss: 0.0910 - val_loss: 0.0841\n",
      "Epoch 41/250\n",
      "3450/3450 [==============================] - 0s 129us/sample - loss: 0.0892 - val_loss: 0.0823\n",
      "Epoch 42/250\n",
      "3450/3450 [==============================] - 0s 130us/sample - loss: 0.0876 - val_loss: 0.0817\n",
      "Epoch 43/250\n",
      "3450/3450 [==============================] - 0s 134us/sample - loss: 0.0873 - val_loss: 0.0850\n",
      "Epoch 44/250\n",
      "3450/3450 [==============================] - 0s 127us/sample - loss: 0.0874 - val_loss: 0.0834\n",
      "Epoch 45/250\n",
      "3450/3450 [==============================] - 0s 134us/sample - loss: 0.0913 - val_loss: 0.0922\n",
      "Epoch 46/250\n",
      "3450/3450 [==============================] - 0s 130us/sample - loss: 0.0875 - val_loss: 0.0826\n",
      "Epoch 47/250\n",
      "3450/3450 [==============================] - 0s 129us/sample - loss: 0.0852 - val_loss: 0.0940\n",
      "Epoch 48/250\n",
      "3450/3450 [==============================] - 0s 129us/sample - loss: 0.0871 - val_loss: 0.0785\n",
      "Epoch 49/250\n",
      "3450/3450 [==============================] - 0s 128us/sample - loss: 0.0831 - val_loss: 0.0801\n",
      "Epoch 50/250\n",
      "3450/3450 [==============================] - 0s 136us/sample - loss: 0.0847 - val_loss: 0.0800\n",
      "Epoch 51/250\n",
      "3450/3450 [==============================] - 0s 139us/sample - loss: 0.0845 - val_loss: 0.0821\n",
      "Epoch 52/250\n",
      "3450/3450 [==============================] - 0s 129us/sample - loss: 0.0850 - val_loss: 0.0838\n",
      "Epoch 53/250\n",
      "3450/3450 [==============================] - 0s 129us/sample - loss: 0.0823 - val_loss: 0.0757\n",
      "Epoch 54/250\n",
      "3450/3450 [==============================] - 0s 133us/sample - loss: 0.0866 - val_loss: 0.0793\n",
      "Epoch 55/250\n",
      "3450/3450 [==============================] - 0s 127us/sample - loss: 0.0844 - val_loss: 0.0801\n",
      "Epoch 56/250\n",
      "3450/3450 [==============================] - 0s 127us/sample - loss: 0.0823 - val_loss: 0.0773\n",
      "Epoch 57/250\n",
      "3450/3450 [==============================] - 0s 137us/sample - loss: 0.0886 - val_loss: 0.0939\n",
      "Epoch 58/250\n",
      "3450/3450 [==============================] - 0s 127us/sample - loss: 0.0853 - val_loss: 0.1032\n",
      "Epoch 59/250\n",
      "3450/3450 [==============================] - 0s 132us/sample - loss: 0.0880 - val_loss: 0.0831\n",
      "Epoch 60/250\n",
      "3450/3450 [==============================] - 0s 130us/sample - loss: 0.0838 - val_loss: 0.0850\n",
      "Epoch 61/250\n",
      "3450/3450 [==============================] - 0s 129us/sample - loss: 0.0813 - val_loss: 0.0759\n",
      "Epoch 62/250\n",
      "3450/3450 [==============================] - 0s 130us/sample - loss: 0.0816 - val_loss: 0.0772\n",
      "Epoch 63/250\n",
      "3450/3450 [==============================] - 0s 128us/sample - loss: 0.0835 - val_loss: 0.0799\n",
      "Epoch 64/250\n",
      "3450/3450 [==============================] - 0s 131us/sample - loss: 0.0811 - val_loss: 0.0780\n",
      "Epoch 65/250\n",
      "3450/3450 [==============================] - 0s 135us/sample - loss: 0.0793 - val_loss: 0.0818\n",
      "Epoch 66/250\n",
      "3450/3450 [==============================] - 0s 134us/sample - loss: 0.0801 - val_loss: 0.0728\n",
      "Epoch 67/250\n",
      "3450/3450 [==============================] - 0s 127us/sample - loss: 0.0791 - val_loss: 0.0777\n",
      "Epoch 68/250\n",
      "3450/3450 [==============================] - 0s 128us/sample - loss: 0.0797 - val_loss: 0.0786\n",
      "Epoch 69/250\n",
      "3450/3450 [==============================] - 0s 129us/sample - loss: 0.0776 - val_loss: 0.0761\n",
      "Epoch 70/250\n",
      "3450/3450 [==============================] - 0s 129us/sample - loss: 0.0781 - val_loss: 0.0735\n",
      "Epoch 71/250\n",
      "3450/3450 [==============================] - 0s 130us/sample - loss: 0.0785 - val_loss: 0.0715\n",
      "Epoch 72/250\n",
      "3450/3450 [==============================] - 0s 128us/sample - loss: 0.0788 - val_loss: 0.0745\n",
      "Epoch 73/250\n",
      "3450/3450 [==============================] - 0s 129us/sample - loss: 0.0783 - val_loss: 0.0788\n",
      "Epoch 74/250\n",
      "3450/3450 [==============================] - 0s 133us/sample - loss: 0.0778 - val_loss: 0.0771\n",
      "Epoch 75/250\n",
      "3450/3450 [==============================] - 0s 126us/sample - loss: 0.0769 - val_loss: 0.0717\n",
      "Epoch 76/250\n"
     ]
    },
    {
     "name": "stdout",
     "output_type": "stream",
     "text": [
      "3450/3450 [==============================] - 0s 128us/sample - loss: 0.0792 - val_loss: 0.0726\n",
      "Epoch 77/250\n",
      "3450/3450 [==============================] - 0s 128us/sample - loss: 0.0771 - val_loss: 0.0719\n",
      "Epoch 78/250\n",
      "3450/3450 [==============================] - 0s 126us/sample - loss: 0.0784 - val_loss: 0.0776\n",
      "Epoch 79/250\n",
      "3450/3450 [==============================] - 0s 127us/sample - loss: 0.0807 - val_loss: 0.0749\n",
      "Epoch 80/250\n",
      "3450/3450 [==============================] - 0s 127us/sample - loss: 0.0763 - val_loss: 0.0759\n",
      "Epoch 81/250\n",
      "3450/3450 [==============================] - 0s 127us/sample - loss: 0.0766 - val_loss: 0.0704\n",
      "Epoch 82/250\n",
      "3450/3450 [==============================] - 0s 126us/sample - loss: 0.0766 - val_loss: 0.0703\n",
      "Epoch 83/250\n",
      "3450/3450 [==============================] - 0s 126us/sample - loss: 0.0747 - val_loss: 0.0772\n",
      "Epoch 84/250\n",
      "3450/3450 [==============================] - 0s 127us/sample - loss: 0.0746 - val_loss: 0.0776\n",
      "Epoch 85/250\n",
      "3450/3450 [==============================] - 0s 127us/sample - loss: 0.0786 - val_loss: 0.0704\n",
      "Epoch 86/250\n",
      "3450/3450 [==============================] - 0s 134us/sample - loss: 0.0739 - val_loss: 0.0727\n",
      "Epoch 87/250\n",
      "3450/3450 [==============================] - 0s 126us/sample - loss: 0.0758 - val_loss: 0.0717\n",
      "Epoch 88/250\n",
      "3450/3450 [==============================] - 0s 127us/sample - loss: 0.0750 - val_loss: 0.0697\n",
      "Epoch 89/250\n",
      "3450/3450 [==============================] - 0s 127us/sample - loss: 0.0730 - val_loss: 0.0686\n",
      "Epoch 90/250\n",
      "3450/3450 [==============================] - 0s 126us/sample - loss: 0.0769 - val_loss: 0.0750\n",
      "Epoch 91/250\n",
      "3450/3450 [==============================] - 0s 126us/sample - loss: 0.0736 - val_loss: 0.0725\n",
      "Epoch 92/250\n",
      "3450/3450 [==============================] - 0s 126us/sample - loss: 0.0756 - val_loss: 0.0790\n",
      "Epoch 93/250\n",
      "3450/3450 [==============================] - 0s 126us/sample - loss: 0.0775 - val_loss: 0.0692\n",
      "Epoch 94/250\n",
      "3450/3450 [==============================] - 0s 128us/sample - loss: 0.0755 - val_loss: 0.0692\n",
      "Epoch 95/250\n",
      "3450/3450 [==============================] - 0s 133us/sample - loss: 0.0744 - val_loss: 0.0716\n",
      "Epoch 96/250\n",
      "3450/3450 [==============================] - 0s 127us/sample - loss: 0.0726 - val_loss: 0.0720\n",
      "Epoch 97/250\n",
      "3450/3450 [==============================] - 0s 126us/sample - loss: 0.0733 - val_loss: 0.0689\n",
      "Epoch 98/250\n",
      "3450/3450 [==============================] - 0s 127us/sample - loss: 0.0720 - val_loss: 0.0670\n",
      "Epoch 99/250\n",
      "3450/3450 [==============================] - 0s 126us/sample - loss: 0.0743 - val_loss: 0.0718\n",
      "Epoch 100/250\n",
      "3450/3450 [==============================] - 0s 127us/sample - loss: 0.0781 - val_loss: 0.0678\n",
      "Epoch 101/250\n",
      "3450/3450 [==============================] - 0s 126us/sample - loss: 0.0725 - val_loss: 0.0698\n",
      "Epoch 102/250\n",
      "3450/3450 [==============================] - 0s 128us/sample - loss: 0.0801 - val_loss: 0.0850\n",
      "Epoch 103/250\n",
      "3450/3450 [==============================] - 0s 135us/sample - loss: 0.0737 - val_loss: 0.0749\n",
      "Epoch 104/250\n",
      "3450/3450 [==============================] - 0s 135us/sample - loss: 0.0715 - val_loss: 0.0700\n",
      "Epoch 105/250\n",
      "3450/3450 [==============================] - 0s 132us/sample - loss: 0.0725 - val_loss: 0.0784\n",
      "Epoch 106/250\n",
      "3450/3450 [==============================] - 0s 134us/sample - loss: 0.0726 - val_loss: 0.0977\n",
      "Epoch 107/250\n",
      "3450/3450 [==============================] - 0s 126us/sample - loss: 0.0728 - val_loss: 0.0724\n",
      "Epoch 108/250\n",
      "3450/3450 [==============================] - 0s 126us/sample - loss: 0.0751 - val_loss: 0.0690\n",
      "Epoch 109/250\n",
      "3450/3450 [==============================] - 0s 127us/sample - loss: 0.0715 - val_loss: 0.0658\n",
      "Epoch 110/250\n",
      "3450/3450 [==============================] - 0s 126us/sample - loss: 0.0724 - val_loss: 0.0670\n",
      "Epoch 111/250\n",
      "3450/3450 [==============================] - 0s 126us/sample - loss: 0.0734 - val_loss: 0.0744\n",
      "Epoch 112/250\n",
      "3450/3450 [==============================] - 0s 133us/sample - loss: 0.0757 - val_loss: 0.0672\n",
      "Epoch 113/250\n",
      "3450/3450 [==============================] - 0s 127us/sample - loss: 0.0710 - val_loss: 0.0662\n",
      "Epoch 114/250\n",
      "3450/3450 [==============================] - 0s 128us/sample - loss: 0.0716 - val_loss: 0.0725\n",
      "Epoch 115/250\n",
      "3450/3450 [==============================] - 0s 133us/sample - loss: 0.0722 - val_loss: 0.0708\n",
      "Epoch 116/250\n",
      "3450/3450 [==============================] - 0s 127us/sample - loss: 0.0712 - val_loss: 0.0665\n",
      "Epoch 117/250\n",
      "3450/3450 [==============================] - 0s 127us/sample - loss: 0.0709 - val_loss: 0.0646\n",
      "Epoch 118/250\n",
      "3450/3450 [==============================] - 0s 126us/sample - loss: 0.0780 - val_loss: 0.0704\n",
      "Epoch 119/250\n",
      "3450/3450 [==============================] - 0s 126us/sample - loss: 0.0692 - val_loss: 0.0706\n",
      "Epoch 120/250\n",
      "3450/3450 [==============================] - 0s 128us/sample - loss: 0.0716 - val_loss: 0.0670\n",
      "Epoch 121/250\n",
      "3450/3450 [==============================] - 0s 128us/sample - loss: 0.0700 - val_loss: 0.0727\n",
      "Epoch 122/250\n",
      "3450/3450 [==============================] - 0s 128us/sample - loss: 0.0711 - val_loss: 0.0673\n",
      "Epoch 123/250\n",
      "3450/3450 [==============================] - 0s 128us/sample - loss: 0.0701 - val_loss: 0.0689\n",
      "Epoch 124/250\n",
      "3450/3450 [==============================] - 0s 134us/sample - loss: 0.0699 - val_loss: 0.0671\n",
      "Epoch 125/250\n",
      "3450/3450 [==============================] - 0s 130us/sample - loss: 0.0716 - val_loss: 0.0871\n",
      "Epoch 126/250\n",
      "3450/3450 [==============================] - 0s 137us/sample - loss: 0.0727 - val_loss: 0.0840\n",
      "Epoch 127/250\n",
      "3450/3450 [==============================] - 0s 139us/sample - loss: 0.0729 - val_loss: 0.0672\n",
      "Epoch 128/250\n",
      "3450/3450 [==============================] - 0s 129us/sample - loss: 0.0755 - val_loss: 0.0707\n",
      "Epoch 129/250\n",
      "3450/3450 [==============================] - 0s 128us/sample - loss: 0.0700 - val_loss: 0.0650\n",
      "Epoch 130/250\n",
      "3450/3450 [==============================] - 0s 132us/sample - loss: 0.0685 - val_loss: 0.0640\n",
      "Epoch 131/250\n",
      "3450/3450 [==============================] - 0s 127us/sample - loss: 0.0705 - val_loss: 0.0717\n",
      "Epoch 132/250\n",
      "3450/3450 [==============================] - 0s 127us/sample - loss: 0.0715 - val_loss: 0.0661\n",
      "Epoch 133/250\n",
      "3450/3450 [==============================] - 0s 135us/sample - loss: 0.0695 - val_loss: 0.0688\n",
      "Epoch 134/250\n",
      "3450/3450 [==============================] - 0s 127us/sample - loss: 0.0691 - val_loss: 0.0661\n",
      "Epoch 135/250\n",
      "3450/3450 [==============================] - 0s 127us/sample - loss: 0.0692 - val_loss: 0.0672\n",
      "Epoch 136/250\n",
      "3450/3450 [==============================] - 0s 127us/sample - loss: 0.0701 - val_loss: 0.0650\n",
      "Epoch 137/250\n",
      "3450/3450 [==============================] - 0s 127us/sample - loss: 0.0718 - val_loss: 0.0653\n",
      "Epoch 138/250\n",
      "3450/3450 [==============================] - 0s 128us/sample - loss: 0.0676 - val_loss: 0.0672\n",
      "Epoch 139/250\n",
      "3450/3450 [==============================] - 0s 128us/sample - loss: 0.0684 - val_loss: 0.0753\n",
      "Epoch 140/250\n",
      "3450/3450 [==============================] - 0s 128us/sample - loss: 0.0704 - val_loss: 0.0650\n",
      "Epoch 141/250\n",
      "3450/3450 [==============================] - 0s 127us/sample - loss: 0.0701 - val_loss: 0.0734\n",
      "Epoch 142/250\n",
      "3450/3450 [==============================] - 0s 127us/sample - loss: 0.0708 - val_loss: 0.0640\n",
      "Epoch 143/250\n",
      "3450/3450 [==============================] - 0s 127us/sample - loss: 0.0685 - val_loss: 0.0747\n",
      "Epoch 144/250\n",
      "3450/3450 [==============================] - 0s 138us/sample - loss: 0.0712 - val_loss: 0.0651\n",
      "Epoch 145/250\n",
      "3450/3450 [==============================] - 0s 127us/sample - loss: 0.0701 - val_loss: 0.0722\n",
      "Epoch 146/250\n",
      "3450/3450 [==============================] - 0s 128us/sample - loss: 0.0697 - val_loss: 0.0692\n",
      "Epoch 147/250\n",
      "3450/3450 [==============================] - 0s 127us/sample - loss: 0.0694 - val_loss: 0.0676\n",
      "Epoch 148/250\n",
      "3450/3450 [==============================] - 0s 127us/sample - loss: 0.0729 - val_loss: 0.0635\n",
      "Epoch 149/250\n",
      "3450/3450 [==============================] - 0s 127us/sample - loss: 0.0701 - val_loss: 0.0687\n",
      "Epoch 150/250\n",
      "3450/3450 [==============================] - 0s 127us/sample - loss: 0.0689 - val_loss: 0.0677\n",
      "Epoch 151/250\n"
     ]
    },
    {
     "name": "stdout",
     "output_type": "stream",
     "text": [
      "3450/3450 [==============================] - 0s 128us/sample - loss: 0.0684 - val_loss: 0.0702\n",
      "Epoch 152/250\n",
      "3450/3450 [==============================] - 0s 126us/sample - loss: 0.0703 - val_loss: 0.0660\n",
      "Epoch 153/250\n",
      "3450/3450 [==============================] - 0s 126us/sample - loss: 0.0671 - val_loss: 0.0666\n",
      "Epoch 154/250\n",
      "3450/3450 [==============================] - 0s 128us/sample - loss: 0.0691 - val_loss: 0.0668\n",
      "Epoch 155/250\n",
      "3450/3450 [==============================] - 0s 134us/sample - loss: 0.0690 - val_loss: 0.0662\n",
      "Epoch 156/250\n",
      "3450/3450 [==============================] - 0s 133us/sample - loss: 0.0670 - val_loss: 0.0650\n",
      "Epoch 157/250\n",
      "3450/3450 [==============================] - 0s 128us/sample - loss: 0.0682 - val_loss: 0.0652\n",
      "Epoch 158/250\n",
      "3450/3450 [==============================] - 1s 188us/sample - loss: 0.0656 - val_loss: 0.0690\n",
      "Epoch 159/250\n",
      "3450/3450 [==============================] - 1s 164us/sample - loss: 0.0681 - val_loss: 0.0683\n",
      "Epoch 160/250\n",
      "3450/3450 [==============================] - 0s 132us/sample - loss: 0.0689 - val_loss: 0.0645\n",
      "Epoch 161/250\n",
      "3450/3450 [==============================] - 1s 146us/sample - loss: 0.0691 - val_loss: 0.0723\n",
      "Epoch 162/250\n",
      "3450/3450 [==============================] - 0s 142us/sample - loss: 0.0706 - val_loss: 0.0629\n",
      "Epoch 163/250\n",
      "3450/3450 [==============================] - 0s 144us/sample - loss: 0.0679 - val_loss: 0.0682\n",
      "Epoch 164/250\n",
      "3450/3450 [==============================] - 0s 144us/sample - loss: 0.0687 - val_loss: 0.0632\n",
      "Epoch 165/250\n",
      "3450/3450 [==============================] - 1s 200us/sample - loss: 0.0693 - val_loss: 0.0647\n",
      "Epoch 166/250\n",
      "3450/3450 [==============================] - 1s 177us/sample - loss: 0.0673 - val_loss: 0.0647\n",
      "Epoch 167/250\n",
      "3450/3450 [==============================] - 1s 177us/sample - loss: 0.0674 - val_loss: 0.0690\n",
      "Epoch 168/250\n",
      "3450/3450 [==============================] - 1s 157us/sample - loss: 0.0701 - val_loss: 0.0715\n",
      "Epoch 169/250\n",
      "3450/3450 [==============================] - 1s 164us/sample - loss: 0.0688 - val_loss: 0.0710\n",
      "Epoch 170/250\n",
      "3450/3450 [==============================] - 1s 159us/sample - loss: 0.0682 - val_loss: 0.0627\n",
      "Epoch 171/250\n",
      "3450/3450 [==============================] - 1s 151us/sample - loss: 0.0702 - val_loss: 0.0785\n",
      "Epoch 172/250\n",
      "3450/3450 [==============================] - 1s 145us/sample - loss: 0.0699 - val_loss: 0.0798\n",
      "Epoch 173/250\n",
      "3450/3450 [==============================] - 0s 142us/sample - loss: 0.0674 - val_loss: 0.0625\n",
      "Epoch 174/250\n",
      "3450/3450 [==============================] - 0s 133us/sample - loss: 0.0694 - val_loss: 0.0658\n",
      "Epoch 175/250\n",
      "3450/3450 [==============================] - 0s 127us/sample - loss: 0.0677 - val_loss: 0.0617\n",
      "Epoch 176/250\n",
      "3450/3450 [==============================] - 0s 130us/sample - loss: 0.0663 - val_loss: 0.0645\n",
      "Epoch 177/250\n",
      "3450/3450 [==============================] - 0s 128us/sample - loss: 0.0703 - val_loss: 0.0664\n",
      "Epoch 178/250\n",
      "3450/3450 [==============================] - 0s 130us/sample - loss: 0.0676 - val_loss: 0.0631\n",
      "Epoch 179/250\n",
      "3450/3450 [==============================] - 0s 130us/sample - loss: 0.0659 - val_loss: 0.0644\n",
      "Epoch 180/250\n",
      "3450/3450 [==============================] - 0s 129us/sample - loss: 0.0663 - val_loss: 0.0689\n",
      "Epoch 181/250\n",
      "3450/3450 [==============================] - 0s 127us/sample - loss: 0.0649 - val_loss: 0.0644\n",
      "Epoch 182/250\n",
      "3450/3450 [==============================] - 0s 124us/sample - loss: 0.0651 - val_loss: 0.0649\n",
      "Epoch 183/250\n",
      "3450/3450 [==============================] - 0s 130us/sample - loss: 0.0676 - val_loss: 0.0668\n",
      "Epoch 184/250\n",
      "3450/3450 [==============================] - 0s 123us/sample - loss: 0.0670 - val_loss: 0.0646\n",
      "Epoch 185/250\n",
      "3450/3450 [==============================] - 0s 124us/sample - loss: 0.0678 - val_loss: 0.0630\n",
      "Epoch 186/250\n",
      "3450/3450 [==============================] - 0s 124us/sample - loss: 0.0696 - val_loss: 0.0642\n",
      "Epoch 187/250\n",
      "3450/3450 [==============================] - 0s 123us/sample - loss: 0.0709 - val_loss: 0.0659\n",
      "Epoch 188/250\n",
      "3450/3450 [==============================] - 0s 123us/sample - loss: 0.0663 - val_loss: 0.0654\n",
      "Epoch 189/250\n",
      "3450/3450 [==============================] - 0s 128us/sample - loss: 0.0666 - val_loss: 0.0680\n",
      "Epoch 190/250\n",
      "3450/3450 [==============================] - 0s 129us/sample - loss: 0.0653 - val_loss: 0.0795\n",
      "Epoch 191/250\n",
      "3450/3450 [==============================] - 0s 127us/sample - loss: 0.0676 - val_loss: 0.0626\n",
      "Epoch 192/250\n",
      "3450/3450 [==============================] - 0s 124us/sample - loss: 0.0655 - val_loss: 0.0688\n",
      "Epoch 193/250\n",
      "3450/3450 [==============================] - 0s 126us/sample - loss: 0.0724 - val_loss: 0.0633\n",
      "Epoch 194/250\n",
      "3450/3450 [==============================] - 0s 129us/sample - loss: 0.0661 - val_loss: 0.0613\n",
      "Epoch 195/250\n",
      "3450/3450 [==============================] - 0s 130us/sample - loss: 0.0633 - val_loss: 0.0617\n",
      "Epoch 196/250\n",
      "3450/3450 [==============================] - 0s 130us/sample - loss: 0.0649 - val_loss: 0.0622\n",
      "Epoch 197/250\n",
      "3450/3450 [==============================] - 0s 125us/sample - loss: 0.0655 - val_loss: 0.0656\n",
      "Epoch 198/250\n",
      "3450/3450 [==============================] - 0s 124us/sample - loss: 0.0679 - val_loss: 0.0725\n",
      "Epoch 199/250\n",
      "3450/3450 [==============================] - 0s 124us/sample - loss: 0.0652 - val_loss: 0.0648\n",
      "Epoch 200/250\n",
      "3450/3450 [==============================] - 0s 128us/sample - loss: 0.0663 - val_loss: 0.0655\n",
      "Epoch 201/250\n",
      "3450/3450 [==============================] - 0s 133us/sample - loss: 0.0643 - val_loss: 0.0632\n",
      "Epoch 202/250\n",
      "3450/3450 [==============================] - 0s 123us/sample - loss: 0.0658 - val_loss: 0.0646\n",
      "Epoch 203/250\n",
      "3450/3450 [==============================] - 0s 126us/sample - loss: 0.0682 - val_loss: 0.0809\n",
      "Epoch 204/250\n",
      "3450/3450 [==============================] - 0s 132us/sample - loss: 0.0668 - val_loss: 0.0728\n",
      "Epoch 205/250\n",
      "3450/3450 [==============================] - 0s 124us/sample - loss: 0.0678 - val_loss: 0.0615\n",
      "Epoch 206/250\n",
      "3450/3450 [==============================] - 0s 125us/sample - loss: 0.0662 - val_loss: 0.0673\n",
      "Epoch 207/250\n",
      "3450/3450 [==============================] - 0s 124us/sample - loss: 0.0669 - val_loss: 0.0609\n",
      "Epoch 208/250\n",
      "3450/3450 [==============================] - 0s 124us/sample - loss: 0.0638 - val_loss: 0.0629\n",
      "Epoch 209/250\n",
      "3450/3450 [==============================] - 0s 126us/sample - loss: 0.0634 - val_loss: 0.0612\n",
      "Epoch 210/250\n",
      "3450/3450 [==============================] - 0s 128us/sample - loss: 0.0657 - val_loss: 0.0752\n",
      "Epoch 211/250\n",
      "3450/3450 [==============================] - 0s 124us/sample - loss: 0.0668 - val_loss: 0.0612\n",
      "Epoch 212/250\n",
      "3450/3450 [==============================] - 0s 125us/sample - loss: 0.0645 - val_loss: 0.0676\n",
      "Epoch 213/250\n",
      "3450/3450 [==============================] - 0s 130us/sample - loss: 0.0647 - val_loss: 0.0612\n",
      "Epoch 214/250\n",
      "3450/3450 [==============================] - 0s 127us/sample - loss: 0.0659 - val_loss: 0.0618\n",
      "Epoch 215/250\n",
      "3450/3450 [==============================] - 0s 125us/sample - loss: 0.0668 - val_loss: 0.0618\n",
      "Epoch 216/250\n",
      "3450/3450 [==============================] - 0s 126us/sample - loss: 0.0639 - val_loss: 0.0607\n",
      "Epoch 217/250\n",
      "3450/3450 [==============================] - 0s 126us/sample - loss: 0.0658 - val_loss: 0.0670\n",
      "Epoch 218/250\n",
      "3450/3450 [==============================] - 0s 123us/sample - loss: 0.0632 - val_loss: 0.0707\n",
      "Epoch 219/250\n",
      "3450/3450 [==============================] - 0s 124us/sample - loss: 0.0699 - val_loss: 0.0678\n",
      "Epoch 220/250\n",
      "3450/3450 [==============================] - 0s 124us/sample - loss: 0.0663 - val_loss: 0.0646\n",
      "Epoch 221/250\n",
      "3450/3450 [==============================] - 0s 123us/sample - loss: 0.0657 - val_loss: 0.0617\n",
      "Epoch 222/250\n",
      "3450/3450 [==============================] - 0s 123us/sample - loss: 0.0646 - val_loss: 0.0649\n",
      "Epoch 223/250\n",
      "3450/3450 [==============================] - 0s 123us/sample - loss: 0.0626 - val_loss: 0.0617\n",
      "Epoch 224/250\n",
      "3450/3450 [==============================] - 0s 126us/sample - loss: 0.0646 - val_loss: 0.0849\n",
      "Epoch 225/250\n",
      "3450/3450 [==============================] - 0s 126us/sample - loss: 0.0650 - val_loss: 0.0596\n",
      "Epoch 226/250\n"
     ]
    },
    {
     "name": "stdout",
     "output_type": "stream",
     "text": [
      "3450/3450 [==============================] - 0s 123us/sample - loss: 0.0659 - val_loss: 0.0671\n",
      "Epoch 227/250\n",
      "3450/3450 [==============================] - 0s 124us/sample - loss: 0.0684 - val_loss: 0.0642\n",
      "Epoch 228/250\n",
      "3450/3450 [==============================] - 0s 123us/sample - loss: 0.0646 - val_loss: 0.0704\n",
      "Epoch 229/250\n",
      "3450/3450 [==============================] - 0s 125us/sample - loss: 0.0642 - val_loss: 0.0590\n",
      "Epoch 230/250\n",
      "3450/3450 [==============================] - 0s 124us/sample - loss: 0.0675 - val_loss: 0.0646\n",
      "Epoch 231/250\n",
      "3450/3450 [==============================] - 0s 123us/sample - loss: 0.0627 - val_loss: 0.0829\n",
      "Epoch 232/250\n",
      "3450/3450 [==============================] - 0s 136us/sample - loss: 0.0643 - val_loss: 0.0594\n",
      "Epoch 233/250\n",
      "3450/3450 [==============================] - 1s 199us/sample - loss: 0.0689 - val_loss: 0.0611\n",
      "Epoch 234/250\n",
      "3450/3450 [==============================] - 0s 143us/sample - loss: 0.0661 - val_loss: 0.0667\n",
      "Epoch 235/250\n",
      "3450/3450 [==============================] - 0s 127us/sample - loss: 0.0661 - val_loss: 0.0607\n",
      "Epoch 236/250\n",
      "3450/3450 [==============================] - 0s 129us/sample - loss: 0.0636 - val_loss: 0.0628\n",
      "Epoch 237/250\n",
      "3450/3450 [==============================] - 0s 130us/sample - loss: 0.0674 - val_loss: 0.0671\n",
      "Epoch 238/250\n",
      "3450/3450 [==============================] - 0s 130us/sample - loss: 0.0644 - val_loss: 0.0622\n",
      "Epoch 239/250\n",
      "3450/3450 [==============================] - 0s 128us/sample - loss: 0.0631 - val_loss: 0.0600\n",
      "Epoch 240/250\n",
      "3450/3450 [==============================] - 0s 125us/sample - loss: 0.0627 - val_loss: 0.0649\n",
      "Epoch 241/250\n",
      "3450/3450 [==============================] - 1s 160us/sample - loss: 0.0650 - val_loss: 0.0607\n",
      "Epoch 242/250\n",
      "3450/3450 [==============================] - 1s 164us/sample - loss: 0.0670 - val_loss: 0.0644\n",
      "Epoch 243/250\n",
      "3450/3450 [==============================] - 1s 168us/sample - loss: 0.0636 - val_loss: 0.0615\n",
      "Epoch 244/250\n",
      "3450/3450 [==============================] - 0s 130us/sample - loss: 0.0655 - val_loss: 0.0622\n",
      "Epoch 245/250\n",
      "3450/3450 [==============================] - 0s 126us/sample - loss: 0.0623 - val_loss: 0.0595\n",
      "Epoch 246/250\n",
      "3450/3450 [==============================] - 0s 128us/sample - loss: 0.0633 - val_loss: 0.0619\n",
      "Epoch 247/250\n",
      "3450/3450 [==============================] - 0s 134us/sample - loss: 0.0631 - val_loss: 0.0651\n",
      "Epoch 248/250\n",
      "3450/3450 [==============================] - 1s 178us/sample - loss: 0.0651 - val_loss: 0.0681\n",
      "Epoch 249/250\n",
      "3450/3450 [==============================] - 1s 150us/sample - loss: 0.0668 - val_loss: 0.0819\n"
     ]
    },
    {
     "data": {
      "text/plain": [
       "<tensorflow.python.keras.callbacks.History at 0x1a4f611290>"
      ]
     },
     "execution_count": 144,
     "metadata": {},
     "output_type": "execute_result"
    }
   ],
   "source": [
    "model.fit(X_train,y_train, validation_data=(X_test,y_test), epochs=250, callbacks=[stop])"
   ]
  },
  {
   "cell_type": "code",
   "execution_count": 145,
   "metadata": {},
   "outputs": [
    {
     "data": {
      "text/plain": [
       "<matplotlib.axes._subplots.AxesSubplot at 0x1a4fd55fd0>"
      ]
     },
     "execution_count": 145,
     "metadata": {},
     "output_type": "execute_result"
    },
    {
     "data": {
      "image/png": "[encoded data removed]",
      "text/plain": [
       "<Figure size 1152x432 with 1 Axes>"
      ]
     },
     "metadata": {
      "needs_background": "light"
     },
     "output_type": "display_data"
    }
   ],
   "source": [
    "pd.DataFrame(model.history.history).plot(figsize = (16,6))"
   ]
  },
  {
   "cell_type": "markdown",
   "metadata": {},
   "source": [
    "## Checking Metrics"
   ]
  },
  {
   "cell_type": "code",
   "execution_count": 146,
   "metadata": {},
   "outputs": [],
   "source": [
    "predict = model.predict(X_test)"
   ]
  },
  {
   "cell_type": "code",
   "execution_count": 147,
   "metadata": {},
   "outputs": [
    {
     "name": "stdout",
     "output_type": "stream",
     "text": [
      "0.22750452920502306\n"
     ]
    }
   ],
   "source": [
    "print(mean_absolute_error(y_test, predict))"
   ]
  },
  {
   "cell_type": "code",
   "execution_count": 148,
   "metadata": {},
   "outputs": [
    {
     "name": "stdout",
     "output_type": "stream",
     "text": [
      "0.0818509755841951\n"
     ]
    }
   ],
   "source": [
    "print(mean_squared_error(y_test, predict))"
   ]
  },
  {
   "cell_type": "markdown",
   "metadata": {},
   "source": [
    "## WE see a great improvment in the explained verience score"
   ]
  },
  {
   "cell_type": "code",
   "execution_count": 149,
   "metadata": {},
   "outputs": [
    {
     "name": "stdout",
     "output_type": "stream",
     "text": [
      "0.951764225979789\n"
     ]
    }
   ],
   "source": [
    "print(explained_variance_score(y_test, predict))"
   ]
  },
  {
   "cell_type": "markdown",
   "metadata": {},
   "source": [
    "## Testing the Data on random dates "
   ]
  },
  {
   "cell_type": "code",
   "execution_count": 150,
   "metadata": {},
   "outputs": [],
   "source": [
    "rand_ind = randint(1, len(working_data))\n",
    "random_day = working_data.drop(\"^TNX Adj Close\", axis=1).iloc[rand_ind]"
   ]
  },
  {
   "cell_type": "markdown",
   "metadata": {},
   "source": [
    "## scaling the random data "
   ]
  },
  {
   "cell_type": "code",
   "execution_count": 151,
   "metadata": {},
   "outputs": [],
   "source": [
    "random_day = scalar.transform(random_day.values.reshape(1,12))"
   ]
  },
  {
   "cell_type": "markdown",
   "metadata": {},
   "source": [
    "## True value"
   ]
  },
  {
   "cell_type": "code",
   "execution_count": 152,
   "metadata": {},
   "outputs": [
    {
     "data": {
      "text/plain": [
       "1.6100000143051147"
      ]
     },
     "execution_count": 152,
     "metadata": {},
     "output_type": "execute_result"
    }
   ],
   "source": [
    "working_data.iloc[rand_ind][\"^TNX Adj Close\"]"
   ]
  },
  {
   "cell_type": "markdown",
   "metadata": {},
   "source": [
    "## prediction"
   ]
  },
  {
   "cell_type": "code",
   "execution_count": 153,
   "metadata": {},
   "outputs": [
    {
     "data": {
      "text/plain": [
       "array([[2.1779013]], dtype=float32)"
      ]
     },
     "execution_count": 153,
     "metadata": {},
     "output_type": "execute_result"
    }
   ],
   "source": [
    "model.predict(random_day)"
   ]
  },
  {
   "cell_type": "markdown",
   "metadata": {},
   "source": [
    "## Testing new model on most recent day"
   ]
  },
  {
   "cell_type": "code",
   "execution_count": 154,
   "metadata": {},
   "outputs": [],
   "source": [
    "most_recent = working_data.index.argmax()"
   ]
  },
  {
   "cell_type": "code",
   "execution_count": 155,
   "metadata": {},
   "outputs": [
    {
     "data": {
      "text/plain": [
       "^GSPC               3464.899902\n",
       "^DJI               28409.650391\n",
       "^IXIC              11536.009766\n",
       "^RUT                1634.060059\n",
       "^TNX Adj Close         0.841000\n",
       "^GSPC 20day MA      3423.807471\n",
       "^DJI 20day MA      28139.213574\n",
       "^IXIC 20day MA     11432.370459\n",
       "^RUT 20day MA       1585.247980\n",
       "^GSPC 15day  MA     3455.172640\n",
       "^DJI 15day  MA     28380.807292\n",
       "^IXIC 15day  MA    11559.245247\n",
       "^RUT 15day  MA      1616.860645\n",
       "Name: 2020-10-23 00:00:00, dtype: float64"
      ]
     },
     "execution_count": 155,
     "metadata": {},
     "output_type": "execute_result"
    }
   ],
   "source": [
    "working_data.iloc[most_recent]"
   ]
  },
  {
   "cell_type": "markdown",
   "metadata": {},
   "source": [
    "## Getting Values"
   ]
  },
  {
   "cell_type": "code",
   "execution_count": 156,
   "metadata": {},
   "outputs": [],
   "source": [
    "today = working_data.iloc[most_recent].drop(\"^TNX Adj Close\").values"
   ]
  },
  {
   "cell_type": "code",
   "execution_count": 157,
   "metadata": {},
   "outputs": [],
   "source": [
    "today = scalar.transform(today.reshape(1,12))"
   ]
  },
  {
   "cell_type": "code",
   "execution_count": 158,
   "metadata": {},
   "outputs": [
    {
     "data": {
      "text/plain": [
       "array([[0.7606135]], dtype=float32)"
      ]
     },
     "execution_count": 158,
     "metadata": {},
     "output_type": "execute_result"
    }
   ],
   "source": [
    "model.predict(today)"
   ]
  },
  {
   "cell_type": "code",
   "execution_count": null,
   "metadata": {},
   "outputs": [],
   "source": []
  },
  {
   "cell_type": "code",
   "execution_count": null,
   "metadata": {},
   "outputs": [],
   "source": []
  },
  {
   "cell_type": "code",
   "execution_count": null,
   "metadata": {},
   "outputs": [],
   "source": []
  }
 ],
 "metadata": {
  "kernelspec": {
   "display_name": "Python 3",
   "language": "python",
   "name": "python3"
  },
  "language_info": {
   "codemirror_mode": {
    "name": "ipython",
    "version": 3
   },
   "file_extension": ".py",
   "mimetype": "text/x-python",
   "name": "python",
   "nbconvert_exporter": "python",
   "pygments_lexer": "ipython3",
   "version": "3.7.6"
  }
 },
 "nbformat": 4,
 "nbformat_minor": 2
}
