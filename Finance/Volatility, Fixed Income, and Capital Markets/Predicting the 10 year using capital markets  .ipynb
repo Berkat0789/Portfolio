{
 "cells": [
  {
   "cell_type": "markdown",
   "metadata": {},
   "source": [
    "## Project Summary \n",
    "-- Your goal ifor this project if to create an Artificial Neural Network that will use the OPEN for the  Capital Markets to predict the ClOSE for the 10 year Treasury (20 year tome frame)\n",
    "-- Does these markes provide predictive insites on the the 10 Year Treasury Yield? \n",
    "-- Does using the 20 and 15 day moving average improve the model ? \n"
   ]
  },
  {
   "cell_type": "code",
<<<<<<< HEAD
   "execution_count": 82,
=======
   "execution_count": 1,
>>>>>>> 365249751834da7fffe48fb76d31f14c16bb07bd
   "metadata": {},
   "outputs": [],
   "source": [
    "import pandas as pd\n",
    "import numpy as np\n",
    "import matplotlib.pyplot as plt\n",
    "import seaborn as sns\n",
    "from pandas_datareader import data as web"
   ]
  },
  {
   "cell_type": "code",
<<<<<<< HEAD
   "execution_count": 83,
=======
   "execution_count": 2,
>>>>>>> 365249751834da7fffe48fb76d31f14c16bb07bd
   "metadata": {},
   "outputs": [],
   "source": [
    "capital_tickers = [\"^GSPC\",\"^DJI\", \"^IXIC\",\"^RUT\"]\n",
    "## \"CL=F\", \"GC=F\",\"SI=F\",\"EURUSD=X\""
   ]
  },
  {
   "cell_type": "code",
<<<<<<< HEAD
   "execution_count": 84,
=======
   "execution_count": 3,
>>>>>>> 365249751834da7fffe48fb76d31f14c16bb07bd
   "metadata": {},
   "outputs": [],
   "source": [
    "capital_data = pd.DataFrame()"
   ]
  },
  {
   "cell_type": "code",
<<<<<<< HEAD
   "execution_count": 85,
=======
   "execution_count": 4,
>>>>>>> 365249751834da7fffe48fb76d31f14c16bb07bd
   "metadata": {},
   "outputs": [],
   "source": [
    "for t in capital_tickers:\n",
    "    capital_data[t] = web.DataReader(t, data_source=\"yahoo\", start = \"1990-1-1\")[\"Open\"]"
   ]
  },
  {
   "cell_type": "code",
<<<<<<< HEAD
   "execution_count": 86,
=======
   "execution_count": 5,
>>>>>>> 365249751834da7fffe48fb76d31f14c16bb07bd
   "metadata": {},
   "outputs": [
    {
     "data": {
      "text/html": [
       "<div>\n",
       "<style scoped>\n",
       "    .dataframe tbody tr th:only-of-type {\n",
       "        vertical-align: middle;\n",
       "    }\n",
       "\n",
       "    .dataframe tbody tr th {\n",
       "        vertical-align: top;\n",
       "    }\n",
       "\n",
       "    .dataframe thead th {\n",
       "        text-align: right;\n",
       "    }\n",
       "</style>\n",
       "<table border=\"1\" class=\"dataframe\">\n",
       "  <thead>\n",
       "    <tr style=\"text-align: right;\">\n",
       "      <th></th>\n",
       "      <th>^GSPC</th>\n",
       "      <th>^DJI</th>\n",
       "      <th>^IXIC</th>\n",
       "      <th>^RUT</th>\n",
       "    </tr>\n",
       "    <tr>\n",
       "      <th>Date</th>\n",
       "      <th></th>\n",
       "      <th></th>\n",
       "      <th></th>\n",
       "      <th></th>\n",
       "    </tr>\n",
       "  </thead>\n",
       "  <tbody>\n",
       "    <tr>\n",
       "      <td>1990-01-02</td>\n",
       "      <td>353.399994</td>\n",
       "      <td>2748.719971</td>\n",
       "      <td>452.899994</td>\n",
       "      <td>168.309998</td>\n",
       "    </tr>\n",
       "    <tr>\n",
       "      <td>1990-01-03</td>\n",
       "      <td>359.690002</td>\n",
       "      <td>2814.199951</td>\n",
       "      <td>461.100006</td>\n",
       "      <td>169.960007</td>\n",
       "    </tr>\n",
       "    <tr>\n",
       "      <td>1990-01-04</td>\n",
       "      <td>358.760010</td>\n",
       "      <td>2804.389893</td>\n",
       "      <td>460.399994</td>\n",
       "      <td>170.779999</td>\n",
       "    </tr>\n",
       "    <tr>\n",
       "      <td>1990-01-05</td>\n",
       "      <td>355.670013</td>\n",
       "      <td>2786.899902</td>\n",
       "      <td>457.899994</td>\n",
       "      <td>170.089996</td>\n",
       "    </tr>\n",
       "    <tr>\n",
       "      <td>1990-01-08</td>\n",
       "      <td>352.200012</td>\n",
       "      <td>2761.729980</td>\n",
       "      <td>457.100006</td>\n",
       "      <td>169.669998</td>\n",
       "    </tr>\n",
       "    <tr>\n",
       "      <td>...</td>\n",
       "      <td>...</td>\n",
       "      <td>...</td>\n",
       "      <td>...</td>\n",
       "      <td>...</td>\n",
       "    </tr>\n",
       "    <tr>\n",
<<<<<<< HEAD
       "      <th>2020-10-19</th>\n",
       "      <td>3493.659912</td>\n",
       "      <td>28633.550781</td>\n",
       "      <td>11732.339844</td>\n",
       "      <td>1636.839966</td>\n",
       "    </tr>\n",
       "    <tr>\n",
       "      <th>2020-10-20</th>\n",
       "      <td>3439.379883</td>\n",
       "      <td>28245.849609</td>\n",
       "      <td>11531.830078</td>\n",
       "      <td>1620.569946</td>\n",
       "    </tr>\n",
       "    <tr>\n",
       "      <th>2020-10-21</th>\n",
       "      <td>3439.909912</td>\n",
       "      <td>28270.660156</td>\n",
       "      <td>11530.389648</td>\n",
       "      <td>1618.339966</td>\n",
       "    </tr>\n",
       "    <tr>\n",
       "      <th>2020-10-22</th>\n",
       "      <td>3438.500000</td>\n",
       "      <td>28197.419922</td>\n",
       "      <td>11526.969727</td>\n",
       "      <td>1604.949951</td>\n",
       "    </tr>\n",
       "    <tr>\n",
       "      <th>2020-10-23</th>\n",
       "      <td>3464.899902</td>\n",
       "      <td>28409.650391</td>\n",
       "      <td>11536.009766</td>\n",
       "      <td>1634.060059</td>\n",
=======
       "      <td>2020-10-14</td>\n",
       "      <td>3515.469971</td>\n",
       "      <td>28731.300781</td>\n",
       "      <td>11889.070312</td>\n",
       "      <td>1637.969971</td>\n",
       "    </tr>\n",
       "    <tr>\n",
       "      <td>2020-10-15</td>\n",
       "      <td>3453.719971</td>\n",
       "      <td>28323.400391</td>\n",
       "      <td>11559.879883</td>\n",
       "      <td>1618.880005</td>\n",
       "    </tr>\n",
       "    <tr>\n",
       "      <td>2020-10-16</td>\n",
       "      <td>3493.500000</td>\n",
       "      <td>28570.720703</td>\n",
       "      <td>11761.830078</td>\n",
       "      <td>1638.479980</td>\n",
       "    </tr>\n",
       "    <tr>\n",
       "      <td>2020-10-19</td>\n",
       "      <td>3493.659912</td>\n",
       "      <td>28633.550781</td>\n",
       "      <td>11732.339844</td>\n",
       "      <td>1636.839966</td>\n",
>>>>>>> 365249751834da7fffe48fb76d31f14c16bb07bd
       "    </tr>\n",
       "    <tr>\n",
       "      <td>2020-10-20</td>\n",
       "      <td>3439.379883</td>\n",
       "      <td>28245.849609</td>\n",
       "      <td>11531.799805</td>\n",
       "      <td>1620.565430</td>\n",
       "    </tr>\n",
       "  </tbody>\n",
       "</table>\n",
<<<<<<< HEAD
       "<p>5237 rows × 4 columns</p>\n",
=======
       "<p>7762 rows × 4 columns</p>\n",
>>>>>>> 365249751834da7fffe48fb76d31f14c16bb07bd
       "</div>"
      ],
      "text/plain": [
       "                  ^GSPC          ^DJI         ^IXIC         ^RUT\n",
       "Date                                                            \n",
       "1990-01-02   353.399994   2748.719971    452.899994   168.309998\n",
       "1990-01-03   359.690002   2814.199951    461.100006   169.960007\n",
       "1990-01-04   358.760010   2804.389893    460.399994   170.779999\n",
       "1990-01-05   355.670013   2786.899902    457.899994   170.089996\n",
       "1990-01-08   352.200012   2761.729980    457.100006   169.669998\n",
       "...                 ...           ...           ...          ...\n",
<<<<<<< HEAD
       "2020-10-19  3493.659912  28633.550781  11732.339844  1636.839966\n",
       "2020-10-20  3439.379883  28245.849609  11531.830078  1620.569946\n",
       "2020-10-21  3439.909912  28270.660156  11530.389648  1618.339966\n",
       "2020-10-22  3438.500000  28197.419922  11526.969727  1604.949951\n",
       "2020-10-23  3464.899902  28409.650391  11536.009766  1634.060059\n",
       "\n",
       "[5237 rows x 4 columns]"
      ]
     },
     "execution_count": 86,
=======
       "2020-10-14  3515.469971  28731.300781  11889.070312  1637.969971\n",
       "2020-10-15  3453.719971  28323.400391  11559.879883  1618.880005\n",
       "2020-10-16  3493.500000  28570.720703  11761.830078  1638.479980\n",
       "2020-10-19  3493.659912  28633.550781  11732.339844  1636.839966\n",
       "2020-10-20  3439.379883  28245.849609  11531.799805  1620.565430\n",
       "\n",
       "[7762 rows x 4 columns]"
      ]
     },
     "execution_count": 5,
>>>>>>> 365249751834da7fffe48fb76d31f14c16bb07bd
     "metadata": {},
     "output_type": "execute_result"
    }
   ],
   "source": [
    "capital_data"
   ]
  },
  {
   "cell_type": "markdown",
   "metadata": {},
   "source": [
    "## Checking for missing Data\n",
    "- Below we can see there is data missing from a few features so we ill need to take that into consideration when training our model"
   ]
  },
  {
   "cell_type": "code",
<<<<<<< HEAD
   "execution_count": 87,
=======
   "execution_count": 6,
>>>>>>> 365249751834da7fffe48fb76d31f14c16bb07bd
   "metadata": {},
   "outputs": [
    {
     "data": {
      "text/plain": [
       "^GSPC    0\n",
       "^DJI     0\n",
       "^IXIC    0\n",
       "^RUT     1\n",
       "dtype: int64"
      ]
     },
<<<<<<< HEAD
     "execution_count": 87,
=======
     "execution_count": 6,
>>>>>>> 365249751834da7fffe48fb76d31f14c16bb07bd
     "metadata": {},
     "output_type": "execute_result"
    }
   ],
   "source": [
    "capital_data.isnull().sum()"
   ]
  },
  {
   "cell_type": "code",
<<<<<<< HEAD
   "execution_count": 88,
=======
   "execution_count": 7,
   "metadata": {},
   "outputs": [],
   "source": [
    "capital_data.dropna(inplace=True)"
   ]
  },
  {
   "cell_type": "code",
   "execution_count": 8,
>>>>>>> 365249751834da7fffe48fb76d31f14c16bb07bd
   "metadata": {},
   "outputs": [
    {
     "data": {
      "text/html": [
       "<div>\n",
       "<style scoped>\n",
       "    .dataframe tbody tr th:only-of-type {\n",
       "        vertical-align: middle;\n",
       "    }\n",
       "\n",
       "    .dataframe tbody tr th {\n",
       "        vertical-align: top;\n",
       "    }\n",
       "\n",
       "    .dataframe thead th {\n",
       "        text-align: right;\n",
       "    }\n",
       "</style>\n",
       "<table border=\"1\" class=\"dataframe\">\n",
       "  <thead>\n",
       "    <tr style=\"text-align: right;\">\n",
       "      <th></th>\n",
       "      <th>^GSPC</th>\n",
       "      <th>^DJI</th>\n",
       "      <th>^IXIC</th>\n",
       "      <th>^RUT</th>\n",
       "    </tr>\n",
       "  </thead>\n",
       "  <tbody>\n",
       "    <tr>\n",
       "      <td>^GSPC</td>\n",
       "      <td>1.000000</td>\n",
<<<<<<< HEAD
       "      <td>0.991877</td>\n",
       "      <td>0.983038</td>\n",
       "      <td>0.956677</td>\n",
       "    </tr>\n",
       "    <tr>\n",
       "      <th>^DJI</th>\n",
       "      <td>0.991877</td>\n",
       "      <td>1.000000</td>\n",
       "      <td>0.967279</td>\n",
       "      <td>0.970509</td>\n",
       "    </tr>\n",
       "    <tr>\n",
       "      <th>^IXIC</th>\n",
       "      <td>0.983038</td>\n",
       "      <td>0.967279</td>\n",
       "      <td>1.000000</td>\n",
       "      <td>0.914378</td>\n",
       "    </tr>\n",
       "    <tr>\n",
       "      <th>^RUT</th>\n",
       "      <td>0.956677</td>\n",
       "      <td>0.970509</td>\n",
       "      <td>0.914378</td>\n",
=======
       "      <td>0.994446</td>\n",
       "      <td>0.978819</td>\n",
       "      <td>0.967169</td>\n",
       "    </tr>\n",
       "    <tr>\n",
       "      <td>^DJI</td>\n",
       "      <td>0.994446</td>\n",
       "      <td>1.000000</td>\n",
       "      <td>0.965997</td>\n",
       "      <td>0.978485</td>\n",
       "    </tr>\n",
       "    <tr>\n",
       "      <td>^IXIC</td>\n",
       "      <td>0.978819</td>\n",
       "      <td>0.965997</td>\n",
       "      <td>1.000000</td>\n",
       "      <td>0.935275</td>\n",
       "    </tr>\n",
       "    <tr>\n",
       "      <td>^RUT</td>\n",
       "      <td>0.967169</td>\n",
       "      <td>0.978485</td>\n",
       "      <td>0.935275</td>\n",
>>>>>>> 365249751834da7fffe48fb76d31f14c16bb07bd
       "      <td>1.000000</td>\n",
       "    </tr>\n",
       "  </tbody>\n",
       "</table>\n",
       "</div>"
      ],
      "text/plain": [
       "          ^GSPC      ^DJI     ^IXIC      ^RUT\n",
<<<<<<< HEAD
       "^GSPC  1.000000  0.991877  0.983038  0.956677\n",
       "^DJI   0.991877  1.000000  0.967279  0.970509\n",
       "^IXIC  0.983038  0.967279  1.000000  0.914378\n",
       "^RUT   0.956677  0.970509  0.914378  1.000000"
      ]
     },
     "execution_count": 88,
=======
       "^GSPC  1.000000  0.994446  0.978819  0.967169\n",
       "^DJI   0.994446  1.000000  0.965997  0.978485\n",
       "^IXIC  0.978819  0.965997  1.000000  0.935275\n",
       "^RUT   0.967169  0.978485  0.935275  1.000000"
      ]
     },
     "execution_count": 8,
>>>>>>> 365249751834da7fffe48fb76d31f14c16bb07bd
     "metadata": {},
     "output_type": "execute_result"
    }
   ],
   "source": [
    "capital_data.corr()"
   ]
  },
  {
<<<<<<< HEAD
   "cell_type": "code",
   "execution_count": 89,
   "metadata": {},
   "outputs": [
    {
     "data": {
      "text/plain": [
       "<matplotlib.axes._subplots.AxesSubplot at 0x1a4ceedf90>"
      ]
     },
     "execution_count": 89,
     "metadata": {},
     "output_type": "execute_result"
    },
    {
     "data": {
      "image/png": "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\n",
      "text/plain": [
       "<Figure size 1152x432 with 2 Axes>"
      ]
     },
     "metadata": {
      "needs_background": "light"
     },
     "output_type": "display_data"
    }
   ],
   "source": [
    "plt.figure(figsize=(16,6))\n",
    "sns.heatmap(capital_data.corr(), annot=True)"
   ]
  },
  {
   "cell_type": "markdown",
   "metadata": {},
   "source": [
    "## Putting the data Together\n",
    "- Now that the data is ready the Capital Markets we need the close for the 10 Year"
   ]
  },
  {
   "cell_type": "code",
   "execution_count": 90,
   "metadata": {},
   "outputs": [],
   "source": [
    "tenYearData = web.DataReader(\"^TNX\", data_source=\"yahoo\", start= \"2001-1-1\")[\"Adj Close\"]"
   ]
  },
  {
=======
>>>>>>> 365249751834da7fffe48fb76d31f14c16bb07bd
   "cell_type": "markdown",
   "metadata": {},
   "source": [
    "### Feature Generation \n",
    "- Wiull calculate and generate the 20 day moving average for each index \n",
    "- Will also calculate the upper and lower averages for a bolenger band to assist in  improving the prediciton"
   ]
  },
  {
   "cell_type": "code",
<<<<<<< HEAD
   "execution_count": 91,
=======
   "execution_count": 9,
>>>>>>> 365249751834da7fffe48fb76d31f14c16bb07bd
   "metadata": {},
   "outputs": [],
   "source": [
    "for x in list(capital_data.columns):\n",
    "    capital_data[f\"{x} 20day MA\"] = capital_data[f\"{x}\"].rolling(20).mean()"
   ]
  },
  {
   "cell_type": "code",
<<<<<<< HEAD
   "execution_count": 92,
=======
   "execution_count": 10,
>>>>>>> 365249751834da7fffe48fb76d31f14c16bb07bd
   "metadata": {},
   "outputs": [
    {
     "data": {
      "text/html": [
       "<div>\n",
       "<style scoped>\n",
       "    .dataframe tbody tr th:only-of-type {\n",
       "        vertical-align: middle;\n",
       "    }\n",
       "\n",
       "    .dataframe tbody tr th {\n",
       "        vertical-align: top;\n",
       "    }\n",
       "\n",
       "    .dataframe thead th {\n",
       "        text-align: right;\n",
       "    }\n",
       "</style>\n",
       "<table border=\"1\" class=\"dataframe\">\n",
       "  <thead>\n",
       "    <tr style=\"text-align: right;\">\n",
       "      <th></th>\n",
       "      <th>^GSPC</th>\n",
       "      <th>^DJI</th>\n",
       "      <th>^IXIC</th>\n",
       "      <th>^RUT</th>\n",
       "      <th>^GSPC 20day MA</th>\n",
       "      <th>^DJI 20day MA</th>\n",
       "      <th>^IXIC 20day MA</th>\n",
       "      <th>^RUT 20day MA</th>\n",
       "    </tr>\n",
       "    <tr>\n",
       "      <th>Date</th>\n",
       "      <th></th>\n",
       "      <th></th>\n",
       "      <th></th>\n",
       "      <th></th>\n",
       "      <th></th>\n",
       "      <th></th>\n",
       "      <th></th>\n",
       "      <th></th>\n",
       "    </tr>\n",
       "  </thead>\n",
       "  <tbody>\n",
       "    <tr>\n",
       "      <td>1990-01-02</td>\n",
       "      <td>353.399994</td>\n",
       "      <td>2748.719971</td>\n",
       "      <td>452.899994</td>\n",
       "      <td>168.309998</td>\n",
       "      <td>NaN</td>\n",
       "      <td>NaN</td>\n",
       "      <td>NaN</td>\n",
       "      <td>NaN</td>\n",
       "    </tr>\n",
       "    <tr>\n",
       "      <td>1990-01-03</td>\n",
       "      <td>359.690002</td>\n",
       "      <td>2814.199951</td>\n",
       "      <td>461.100006</td>\n",
       "      <td>169.960007</td>\n",
       "      <td>NaN</td>\n",
       "      <td>NaN</td>\n",
       "      <td>NaN</td>\n",
       "      <td>NaN</td>\n",
       "    </tr>\n",
       "    <tr>\n",
       "      <td>1990-01-04</td>\n",
       "      <td>358.760010</td>\n",
       "      <td>2804.389893</td>\n",
       "      <td>460.399994</td>\n",
       "      <td>170.779999</td>\n",
       "      <td>NaN</td>\n",
       "      <td>NaN</td>\n",
       "      <td>NaN</td>\n",
       "      <td>NaN</td>\n",
       "    </tr>\n",
       "    <tr>\n",
       "      <td>1990-01-05</td>\n",
       "      <td>355.670013</td>\n",
       "      <td>2786.899902</td>\n",
       "      <td>457.899994</td>\n",
       "      <td>170.089996</td>\n",
       "      <td>NaN</td>\n",
       "      <td>NaN</td>\n",
       "      <td>NaN</td>\n",
       "      <td>NaN</td>\n",
       "    </tr>\n",
       "    <tr>\n",
       "      <td>1990-01-08</td>\n",
       "      <td>352.200012</td>\n",
       "      <td>2761.729980</td>\n",
       "      <td>457.100006</td>\n",
       "      <td>169.669998</td>\n",
       "      <td>NaN</td>\n",
       "      <td>NaN</td>\n",
       "      <td>NaN</td>\n",
       "      <td>NaN</td>\n",
       "    </tr>\n",
       "    <tr>\n",
       "      <td>...</td>\n",
       "      <td>...</td>\n",
       "      <td>...</td>\n",
       "      <td>...</td>\n",
       "      <td>...</td>\n",
       "      <td>...</td>\n",
       "      <td>...</td>\n",
       "      <td>...</td>\n",
       "      <td>...</td>\n",
       "    </tr>\n",
       "    <tr>\n",
<<<<<<< HEAD
       "      <th>2020-10-19</th>\n",
       "      <td>3493.659912</td>\n",
       "      <td>28633.550781</td>\n",
       "      <td>11732.339844</td>\n",
       "      <td>1636.839966</td>\n",
       "      <td>0.761</td>\n",
       "    </tr>\n",
       "    <tr>\n",
       "      <th>2020-10-20</th>\n",
       "      <td>3439.379883</td>\n",
       "      <td>28245.849609</td>\n",
       "      <td>11531.830078</td>\n",
       "      <td>1620.569946</td>\n",
       "      <td>0.797</td>\n",
       "    </tr>\n",
       "    <tr>\n",
       "      <th>2020-10-21</th>\n",
       "      <td>3439.909912</td>\n",
       "      <td>28270.660156</td>\n",
       "      <td>11530.389648</td>\n",
       "      <td>1618.339966</td>\n",
       "      <td>0.816</td>\n",
       "    </tr>\n",
       "    <tr>\n",
       "      <th>2020-10-22</th>\n",
       "      <td>3438.500000</td>\n",
       "      <td>28197.419922</td>\n",
       "      <td>11526.969727</td>\n",
       "      <td>1604.949951</td>\n",
       "      <td>0.848</td>\n",
       "    </tr>\n",
       "    <tr>\n",
       "      <th>2020-10-23</th>\n",
       "      <td>3464.899902</td>\n",
       "      <td>28409.650391</td>\n",
       "      <td>11536.009766</td>\n",
       "      <td>1634.060059</td>\n",
       "      <td>0.841</td>\n",
       "    </tr>\n",
       "  </tbody>\n",
       "</table>\n",
       "<p>5237 rows × 5 columns</p>\n",
       "</div>"
      ],
      "text/plain": [
       "                  ^GSPC          ^DJI         ^IXIC         ^RUT  Adj Close\n",
       "Date                                                                       \n",
       "2000-01-03  1469.250000  11501.849609   4186.189941   504.760010        NaN\n",
       "2000-01-04  1455.219971  11349.750000   4020.000000   497.049988        NaN\n",
       "2000-01-05  1399.420044  10989.370117   3854.350098   478.380005        NaN\n",
       "2000-01-06  1402.109985  11113.370117   3834.439941   478.829987        NaN\n",
       "2000-01-07  1403.449951  11247.059570   3711.090088   475.339996        NaN\n",
       "...                 ...           ...           ...          ...        ...\n",
       "2020-10-19  3493.659912  28633.550781  11732.339844  1636.839966      0.761\n",
       "2020-10-20  3439.379883  28245.849609  11531.830078  1620.569946      0.797\n",
       "2020-10-21  3439.909912  28270.660156  11530.389648  1618.339966      0.816\n",
       "2020-10-22  3438.500000  28197.419922  11526.969727  1604.949951      0.848\n",
       "2020-10-23  3464.899902  28409.650391  11536.009766  1634.060059      0.841\n",
       "\n",
       "[5237 rows x 5 columns]"
      ]
     },
     "execution_count": 92,
=======
       "      <td>2020-10-14</td>\n",
       "      <td>3515.469971</td>\n",
       "      <td>28731.300781</td>\n",
       "      <td>11889.070312</td>\n",
       "      <td>1637.969971</td>\n",
       "      <td>3374.780994</td>\n",
       "      <td>27832.424902</td>\n",
       "      <td>11172.250977</td>\n",
       "      <td>1546.718488</td>\n",
       "    </tr>\n",
       "    <tr>\n",
       "      <td>2020-10-15</td>\n",
       "      <td>3453.719971</td>\n",
       "      <td>28323.400391</td>\n",
       "      <td>11559.879883</td>\n",
       "      <td>1618.880005</td>\n",
       "      <td>3376.905493</td>\n",
       "      <td>27847.010449</td>\n",
       "      <td>11189.140967</td>\n",
       "      <td>1550.698987</td>\n",
       "    </tr>\n",
       "    <tr>\n",
       "      <td>2020-10-16</td>\n",
       "      <td>3493.500000</td>\n",
       "      <td>28570.720703</td>\n",
       "      <td>11761.830078</td>\n",
       "      <td>1638.479980</td>\n",
       "      <td>3384.237488</td>\n",
       "      <td>27883.837500</td>\n",
       "      <td>11237.429980</td>\n",
       "      <td>1555.115985</td>\n",
       "    </tr>\n",
       "    <tr>\n",
       "      <td>2020-10-19</td>\n",
       "      <td>3493.659912</td>\n",
       "      <td>28633.550781</td>\n",
       "      <td>11732.339844</td>\n",
       "      <td>1636.839966</td>\n",
       "      <td>3391.051489</td>\n",
       "      <td>27922.271582</td>\n",
       "      <td>11275.374463</td>\n",
       "      <td>1559.740985</td>\n",
       "    </tr>\n",
       "    <tr>\n",
       "      <td>2020-10-20</td>\n",
       "      <td>3439.379883</td>\n",
       "      <td>28245.849609</td>\n",
       "      <td>11531.799805</td>\n",
       "      <td>1620.565430</td>\n",
       "      <td>3398.741980</td>\n",
       "      <td>27960.328516</td>\n",
       "      <td>11321.457471</td>\n",
       "      <td>1564.073254</td>\n",
       "    </tr>\n",
       "  </tbody>\n",
       "</table>\n",
       "<p>7761 rows × 8 columns</p>\n",
       "</div>"
      ],
      "text/plain": [
       "                  ^GSPC          ^DJI         ^IXIC         ^RUT  \\\n",
       "Date                                                               \n",
       "1990-01-02   353.399994   2748.719971    452.899994   168.309998   \n",
       "1990-01-03   359.690002   2814.199951    461.100006   169.960007   \n",
       "1990-01-04   358.760010   2804.389893    460.399994   170.779999   \n",
       "1990-01-05   355.670013   2786.899902    457.899994   170.089996   \n",
       "1990-01-08   352.200012   2761.729980    457.100006   169.669998   \n",
       "...                 ...           ...           ...          ...   \n",
       "2020-10-14  3515.469971  28731.300781  11889.070312  1637.969971   \n",
       "2020-10-15  3453.719971  28323.400391  11559.879883  1618.880005   \n",
       "2020-10-16  3493.500000  28570.720703  11761.830078  1638.479980   \n",
       "2020-10-19  3493.659912  28633.550781  11732.339844  1636.839966   \n",
       "2020-10-20  3439.379883  28245.849609  11531.799805  1620.565430   \n",
       "\n",
       "            ^GSPC 20day MA  ^DJI 20day MA  ^IXIC 20day MA  ^RUT 20day MA  \n",
       "Date                                                                      \n",
       "1990-01-02             NaN            NaN             NaN            NaN  \n",
       "1990-01-03             NaN            NaN             NaN            NaN  \n",
       "1990-01-04             NaN            NaN             NaN            NaN  \n",
       "1990-01-05             NaN            NaN             NaN            NaN  \n",
       "1990-01-08             NaN            NaN             NaN            NaN  \n",
       "...                    ...            ...             ...            ...  \n",
       "2020-10-14     3374.780994   27832.424902    11172.250977    1546.718488  \n",
       "2020-10-15     3376.905493   27847.010449    11189.140967    1550.698987  \n",
       "2020-10-16     3384.237488   27883.837500    11237.429980    1555.115985  \n",
       "2020-10-19     3391.051489   27922.271582    11275.374463    1559.740985  \n",
       "2020-10-20     3398.741980   27960.328516    11321.457471    1564.073254  \n",
       "\n",
       "[7761 rows x 8 columns]"
      ]
     },
     "execution_count": 10,
>>>>>>> 365249751834da7fffe48fb76d31f14c16bb07bd
     "metadata": {},
     "output_type": "execute_result"
    }
   ],
   "source": [
    "capital_data"
   ]
  },
  {
   "cell_type": "markdown",
   "metadata": {},
   "source": [
<<<<<<< HEAD
    "### Analyzing the Data \n",
    "- Currently we see there is missing data we need to consider removing\n",
    "- lets see how to go about this\n",
    "- First lets fix the columns "
   ]
  },
  {
   "cell_type": "code",
   "execution_count": 93,
   "metadata": {},
   "outputs": [
    {
     "data": {
      "text/plain": [
       "Index(['^GSPC', '^DJI', '^IXIC', '^RUT', 'Adj Close'], dtype='object')"
      ]
     },
     "execution_count": 93,
     "metadata": {},
     "output_type": "execute_result"
    }
   ],
   "source": [
    "working_data.columns"
   ]
  },
  {
   "cell_type": "code",
   "execution_count": 94,
   "metadata": {},
   "outputs": [],
   "source": [
    "working_data.columns = ['^GSPC', '^DJI', '^IXIC', '^RUT', '^TNX Adj Close']"
=======
    "### Adding upper and lower Bollinger Values and considering Volitility"
>>>>>>> 365249751834da7fffe48fb76d31f14c16bb07bd
   ]
  },
  {
   "cell_type": "markdown",
   "metadata": {},
   "source": [
<<<<<<< HEAD
    "### Handling missing data\n",
    "- ^TNX has 288 days missing form the total 5232 days\n",
    "- approximately 5% of the data so this is not siginificate to mak a huge diffference so will drop these days"
   ]
  },
  {
   "cell_type": "code",
   "execution_count": 95,
   "metadata": {},
   "outputs": [
    {
     "data": {
      "text/plain": [
       "^GSPC               0\n",
       "^DJI                0\n",
       "^IXIC               0\n",
       "^RUT                1\n",
       "^TNX Adj Close    288\n",
       "dtype: int64"
      ]
     },
     "execution_count": 95,
     "metadata": {},
     "output_type": "execute_result"
    }
   ],
   "source": [
    "working_data.isnull().sum()"
=======
    "## Upper"
>>>>>>> 365249751834da7fffe48fb76d31f14c16bb07bd
   ]
  },
  {
   "cell_type": "code",
<<<<<<< HEAD
   "execution_count": 96,
=======
   "execution_count": 11,
>>>>>>> 365249751834da7fffe48fb76d31f14c16bb07bd
   "metadata": {},
   "outputs": [],
   "source": [
    "for x in capital_tickers:\n",
    "    capital_data[f\"{x} upper\"] = capital_data[f\"{x}\"].rolling(20).mean() + 2*(capital_data[f\"{x}\"].rolling(20).std())"
   ]
  },
  {
   "cell_type": "code",
<<<<<<< HEAD
   "execution_count": 97,
=======
   "execution_count": 12,
>>>>>>> 365249751834da7fffe48fb76d31f14c16bb07bd
   "metadata": {},
   "outputs": [
    {
     "data": {
      "text/html": [
       "<div>\n",
       "<style scoped>\n",
       "    .dataframe tbody tr th:only-of-type {\n",
       "        vertical-align: middle;\n",
       "    }\n",
       "\n",
       "    .dataframe tbody tr th {\n",
       "        vertical-align: top;\n",
       "    }\n",
       "\n",
       "    .dataframe thead th {\n",
       "        text-align: right;\n",
       "    }\n",
       "</style>\n",
       "<table border=\"1\" class=\"dataframe\">\n",
       "  <thead>\n",
       "    <tr style=\"text-align: right;\">\n",
       "      <th></th>\n",
       "      <th>^GSPC</th>\n",
       "      <th>^DJI</th>\n",
       "      <th>^IXIC</th>\n",
       "      <th>^RUT</th>\n",
       "      <th>^GSPC 20day MA</th>\n",
       "      <th>^DJI 20day MA</th>\n",
       "      <th>^IXIC 20day MA</th>\n",
       "      <th>^RUT 20day MA</th>\n",
       "      <th>^GSPC upper</th>\n",
       "      <th>^DJI upper</th>\n",
       "      <th>^IXIC upper</th>\n",
       "      <th>^RUT upper</th>\n",
       "    </tr>\n",
       "    <tr>\n",
       "      <th>Date</th>\n",
       "      <th></th>\n",
       "      <th></th>\n",
       "      <th></th>\n",
       "      <th></th>\n",
       "      <th></th>\n",
       "      <th></th>\n",
       "      <th></th>\n",
       "      <th></th>\n",
       "      <th></th>\n",
       "      <th></th>\n",
       "      <th></th>\n",
       "      <th></th>\n",
       "    </tr>\n",
       "  </thead>\n",
       "  <tbody>\n",
       "    <tr>\n",
       "      <td>1990-01-02</td>\n",
       "      <td>353.399994</td>\n",
       "      <td>2748.719971</td>\n",
       "      <td>452.899994</td>\n",
       "      <td>168.309998</td>\n",
       "      <td>NaN</td>\n",
       "      <td>NaN</td>\n",
       "      <td>NaN</td>\n",
       "      <td>NaN</td>\n",
       "      <td>NaN</td>\n",
       "      <td>NaN</td>\n",
       "      <td>NaN</td>\n",
       "      <td>NaN</td>\n",
       "    </tr>\n",
       "    <tr>\n",
       "      <td>1990-01-03</td>\n",
       "      <td>359.690002</td>\n",
       "      <td>2814.199951</td>\n",
       "      <td>461.100006</td>\n",
       "      <td>169.960007</td>\n",
       "      <td>NaN</td>\n",
       "      <td>NaN</td>\n",
       "      <td>NaN</td>\n",
       "      <td>NaN</td>\n",
       "      <td>NaN</td>\n",
       "      <td>NaN</td>\n",
       "      <td>NaN</td>\n",
       "      <td>NaN</td>\n",
       "    </tr>\n",
       "    <tr>\n",
       "      <td>1990-01-04</td>\n",
       "      <td>358.760010</td>\n",
       "      <td>2804.389893</td>\n",
       "      <td>460.399994</td>\n",
       "      <td>170.779999</td>\n",
       "      <td>NaN</td>\n",
       "      <td>NaN</td>\n",
       "      <td>NaN</td>\n",
       "      <td>NaN</td>\n",
       "      <td>NaN</td>\n",
       "      <td>NaN</td>\n",
       "      <td>NaN</td>\n",
       "      <td>NaN</td>\n",
       "    </tr>\n",
       "    <tr>\n",
       "      <td>1990-01-05</td>\n",
       "      <td>355.670013</td>\n",
       "      <td>2786.899902</td>\n",
       "      <td>457.899994</td>\n",
       "      <td>170.089996</td>\n",
       "      <td>NaN</td>\n",
       "      <td>NaN</td>\n",
       "      <td>NaN</td>\n",
       "      <td>NaN</td>\n",
       "      <td>NaN</td>\n",
       "      <td>NaN</td>\n",
       "      <td>NaN</td>\n",
       "      <td>NaN</td>\n",
       "    </tr>\n",
       "    <tr>\n",
       "      <td>1990-01-08</td>\n",
       "      <td>352.200012</td>\n",
       "      <td>2761.729980</td>\n",
       "      <td>457.100006</td>\n",
       "      <td>169.669998</td>\n",
       "      <td>NaN</td>\n",
       "      <td>NaN</td>\n",
       "      <td>NaN</td>\n",
       "      <td>NaN</td>\n",
       "      <td>NaN</td>\n",
       "      <td>NaN</td>\n",
       "      <td>NaN</td>\n",
       "      <td>NaN</td>\n",
       "    </tr>\n",
       "    <tr>\n",
       "      <td>...</td>\n",
       "      <td>...</td>\n",
       "      <td>...</td>\n",
       "      <td>...</td>\n",
       "      <td>...</td>\n",
       "      <td>...</td>\n",
       "      <td>...</td>\n",
       "      <td>...</td>\n",
       "      <td>...</td>\n",
       "      <td>...</td>\n",
       "      <td>...</td>\n",
       "      <td>...</td>\n",
       "      <td>...</td>\n",
       "    </tr>\n",
       "    <tr>\n",
<<<<<<< HEAD
       "      <th>2020-10-19</th>\n",
       "      <td>3493.659912</td>\n",
       "      <td>28633.550781</td>\n",
       "      <td>11732.339844</td>\n",
       "      <td>1636.839966</td>\n",
       "      <td>0.761</td>\n",
       "    </tr>\n",
       "    <tr>\n",
       "      <th>2020-10-20</th>\n",
       "      <td>3439.379883</td>\n",
       "      <td>28245.849609</td>\n",
       "      <td>11531.830078</td>\n",
       "      <td>1620.569946</td>\n",
       "      <td>0.797</td>\n",
       "    </tr>\n",
       "    <tr>\n",
       "      <th>2020-10-21</th>\n",
       "      <td>3439.909912</td>\n",
       "      <td>28270.660156</td>\n",
       "      <td>11530.389648</td>\n",
       "      <td>1618.339966</td>\n",
       "      <td>0.816</td>\n",
       "    </tr>\n",
       "    <tr>\n",
       "      <th>2020-10-22</th>\n",
       "      <td>3438.500000</td>\n",
       "      <td>28197.419922</td>\n",
       "      <td>11526.969727</td>\n",
       "      <td>1604.949951</td>\n",
       "      <td>0.848</td>\n",
       "    </tr>\n",
       "    <tr>\n",
       "      <th>2020-10-23</th>\n",
       "      <td>3464.899902</td>\n",
       "      <td>28409.650391</td>\n",
       "      <td>11536.009766</td>\n",
       "      <td>1634.060059</td>\n",
       "      <td>0.841</td>\n",
       "    </tr>\n",
       "  </tbody>\n",
       "</table>\n",
       "<p>4948 rows × 5 columns</p>\n",
=======
       "      <td>2020-10-14</td>\n",
       "      <td>3515.469971</td>\n",
       "      <td>28731.300781</td>\n",
       "      <td>11889.070312</td>\n",
       "      <td>1637.969971</td>\n",
       "      <td>3374.780994</td>\n",
       "      <td>27832.424902</td>\n",
       "      <td>11172.250977</td>\n",
       "      <td>1546.718488</td>\n",
       "      <td>3544.703644</td>\n",
       "      <td>29048.884547</td>\n",
       "      <td>11948.317662</td>\n",
       "      <td>1673.335072</td>\n",
       "    </tr>\n",
       "    <tr>\n",
       "      <td>2020-10-15</td>\n",
       "      <td>3453.719971</td>\n",
       "      <td>28323.400391</td>\n",
       "      <td>11559.879883</td>\n",
       "      <td>1618.880005</td>\n",
       "      <td>3376.905493</td>\n",
       "      <td>27847.010449</td>\n",
       "      <td>11189.140967</td>\n",
       "      <td>1550.698987</td>\n",
       "      <td>3549.783711</td>\n",
       "      <td>29080.407353</td>\n",
       "      <td>11984.243796</td>\n",
       "      <td>1681.273245</td>\n",
       "    </tr>\n",
       "    <tr>\n",
       "      <td>2020-10-16</td>\n",
       "      <td>3493.500000</td>\n",
       "      <td>28570.720703</td>\n",
       "      <td>11761.830078</td>\n",
       "      <td>1638.479980</td>\n",
       "      <td>3384.237488</td>\n",
       "      <td>27883.837500</td>\n",
       "      <td>11237.429980</td>\n",
       "      <td>1555.115985</td>\n",
       "      <td>3564.049707</td>\n",
       "      <td>29158.901164</td>\n",
       "      <td>12049.148236</td>\n",
       "      <td>1691.459798</td>\n",
       "    </tr>\n",
       "    <tr>\n",
       "      <td>2020-10-19</td>\n",
       "      <td>3493.659912</td>\n",
       "      <td>28633.550781</td>\n",
       "      <td>11732.339844</td>\n",
       "      <td>1636.839966</td>\n",
       "      <td>3391.051489</td>\n",
       "      <td>27922.271582</td>\n",
       "      <td>11275.374463</td>\n",
       "      <td>1559.740985</td>\n",
       "      <td>3576.808765</td>\n",
       "      <td>29240.536512</td>\n",
       "      <td>12105.867756</td>\n",
       "      <td>1700.741651</td>\n",
       "    </tr>\n",
       "    <tr>\n",
       "      <td>2020-10-20</td>\n",
       "      <td>3439.379883</td>\n",
       "      <td>28245.849609</td>\n",
       "      <td>11531.799805</td>\n",
       "      <td>1620.565430</td>\n",
       "      <td>3398.741980</td>\n",
       "      <td>27960.328516</td>\n",
       "      <td>11321.457471</td>\n",
       "      <td>1564.073254</td>\n",
       "      <td>3578.758831</td>\n",
       "      <td>29269.320361</td>\n",
       "      <td>12096.992531</td>\n",
       "      <td>1707.044111</td>\n",
       "    </tr>\n",
       "  </tbody>\n",
       "</table>\n",
       "<p>7761 rows × 12 columns</p>\n",
>>>>>>> 365249751834da7fffe48fb76d31f14c16bb07bd
       "</div>"
      ],
      "text/plain": [
       "                  ^GSPC          ^DJI         ^IXIC         ^RUT  \\\n",
       "Date                                                               \n",
       "1990-01-02   353.399994   2748.719971    452.899994   168.309998   \n",
       "1990-01-03   359.690002   2814.199951    461.100006   169.960007   \n",
       "1990-01-04   358.760010   2804.389893    460.399994   170.779999   \n",
       "1990-01-05   355.670013   2786.899902    457.899994   170.089996   \n",
       "1990-01-08   352.200012   2761.729980    457.100006   169.669998   \n",
       "...                 ...           ...           ...          ...   \n",
<<<<<<< HEAD
       "2020-10-19  3493.659912  28633.550781  11732.339844  1636.839966   \n",
       "2020-10-20  3439.379883  28245.849609  11531.830078  1620.569946   \n",
       "2020-10-21  3439.909912  28270.660156  11530.389648  1618.339966   \n",
       "2020-10-22  3438.500000  28197.419922  11526.969727  1604.949951   \n",
       "2020-10-23  3464.899902  28409.650391  11536.009766  1634.060059   \n",
       "\n",
       "            ^TNX Adj Close  \n",
       "Date                        \n",
       "2001-01-02           4.917  \n",
       "2001-01-03           5.097  \n",
       "2001-01-04           5.013  \n",
       "2001-01-05           4.948  \n",
       "2001-01-08           4.897  \n",
       "...                    ...  \n",
       "2020-10-19           0.761  \n",
       "2020-10-20           0.797  \n",
       "2020-10-21           0.816  \n",
       "2020-10-22           0.848  \n",
       "2020-10-23           0.841  \n",
       "\n",
       "[4948 rows x 5 columns]"
      ]
     },
     "execution_count": 97,
=======
       "2020-10-14  3515.469971  28731.300781  11889.070312  1637.969971   \n",
       "2020-10-15  3453.719971  28323.400391  11559.879883  1618.880005   \n",
       "2020-10-16  3493.500000  28570.720703  11761.830078  1638.479980   \n",
       "2020-10-19  3493.659912  28633.550781  11732.339844  1636.839966   \n",
       "2020-10-20  3439.379883  28245.849609  11531.799805  1620.565430   \n",
       "\n",
       "            ^GSPC 20day MA  ^DJI 20day MA  ^IXIC 20day MA  ^RUT 20day MA  \\\n",
       "Date                                                                       \n",
       "1990-01-02             NaN            NaN             NaN            NaN   \n",
       "1990-01-03             NaN            NaN             NaN            NaN   \n",
       "1990-01-04             NaN            NaN             NaN            NaN   \n",
       "1990-01-05             NaN            NaN             NaN            NaN   \n",
       "1990-01-08             NaN            NaN             NaN            NaN   \n",
       "...                    ...            ...             ...            ...   \n",
       "2020-10-14     3374.780994   27832.424902    11172.250977    1546.718488   \n",
       "2020-10-15     3376.905493   27847.010449    11189.140967    1550.698987   \n",
       "2020-10-16     3384.237488   27883.837500    11237.429980    1555.115985   \n",
       "2020-10-19     3391.051489   27922.271582    11275.374463    1559.740985   \n",
       "2020-10-20     3398.741980   27960.328516    11321.457471    1564.073254   \n",
       "\n",
       "            ^GSPC upper    ^DJI upper   ^IXIC upper   ^RUT upper  \n",
       "Date                                                              \n",
       "1990-01-02          NaN           NaN           NaN          NaN  \n",
       "1990-01-03          NaN           NaN           NaN          NaN  \n",
       "1990-01-04          NaN           NaN           NaN          NaN  \n",
       "1990-01-05          NaN           NaN           NaN          NaN  \n",
       "1990-01-08          NaN           NaN           NaN          NaN  \n",
       "...                 ...           ...           ...          ...  \n",
       "2020-10-14  3544.703644  29048.884547  11948.317662  1673.335072  \n",
       "2020-10-15  3549.783711  29080.407353  11984.243796  1681.273245  \n",
       "2020-10-16  3564.049707  29158.901164  12049.148236  1691.459798  \n",
       "2020-10-19  3576.808765  29240.536512  12105.867756  1700.741651  \n",
       "2020-10-20  3578.758831  29269.320361  12096.992531  1707.044111  \n",
       "\n",
       "[7761 rows x 12 columns]"
      ]
     },
     "execution_count": 12,
>>>>>>> 365249751834da7fffe48fb76d31f14c16bb07bd
     "metadata": {},
     "output_type": "execute_result"
    }
   ],
   "source": [
    "capital_data"
   ]
  },
  {
   "cell_type": "markdown",
   "metadata": {},
   "source": [
    "## Lower"
   ]
  },
  {
   "cell_type": "code",
<<<<<<< HEAD
   "execution_count": 98,
   "metadata": {},
   "outputs": [
    {
     "data": {
      "text/plain": [
       "<matplotlib.axes._subplots.AxesSubplot at 0x1a4ac46610>"
      ]
     },
     "execution_count": 98,
     "metadata": {},
     "output_type": "execute_result"
    },
    {
     "data": {
      "image/png": "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\n",
=======
   "execution_count": 13,
   "metadata": {},
   "outputs": [],
   "source": [
    "for x in capital_tickers:\n",
    "    capital_data[f\"{x} lower\"] = capital_data[f\"{x}\"].rolling(20).mean() - 2*(capital_data[f\"{x}\"].rolling(20).std())"
   ]
  },
  {
   "cell_type": "code",
   "execution_count": 14,
   "metadata": {},
   "outputs": [
    {
     "data": {
      "text/html": [
       "<div>\n",
       "<style scoped>\n",
       "    .dataframe tbody tr th:only-of-type {\n",
       "        vertical-align: middle;\n",
       "    }\n",
       "\n",
       "    .dataframe tbody tr th {\n",
       "        vertical-align: top;\n",
       "    }\n",
       "\n",
       "    .dataframe thead th {\n",
       "        text-align: right;\n",
       "    }\n",
       "</style>\n",
       "<table border=\"1\" class=\"dataframe\">\n",
       "  <thead>\n",
       "    <tr style=\"text-align: right;\">\n",
       "      <th></th>\n",
       "      <th>^GSPC</th>\n",
       "      <th>^DJI</th>\n",
       "      <th>^IXIC</th>\n",
       "      <th>^RUT</th>\n",
       "      <th>^GSPC 20day MA</th>\n",
       "      <th>^DJI 20day MA</th>\n",
       "      <th>^IXIC 20day MA</th>\n",
       "      <th>^RUT 20day MA</th>\n",
       "      <th>^GSPC upper</th>\n",
       "      <th>^DJI upper</th>\n",
       "      <th>^IXIC upper</th>\n",
       "      <th>^RUT upper</th>\n",
       "      <th>^GSPC lower</th>\n",
       "      <th>^DJI lower</th>\n",
       "      <th>^IXIC lower</th>\n",
       "      <th>^RUT lower</th>\n",
       "    </tr>\n",
       "    <tr>\n",
       "      <th>Date</th>\n",
       "      <th></th>\n",
       "      <th></th>\n",
       "      <th></th>\n",
       "      <th></th>\n",
       "      <th></th>\n",
       "      <th></th>\n",
       "      <th></th>\n",
       "      <th></th>\n",
       "      <th></th>\n",
       "      <th></th>\n",
       "      <th></th>\n",
       "      <th></th>\n",
       "      <th></th>\n",
       "      <th></th>\n",
       "      <th></th>\n",
       "      <th></th>\n",
       "    </tr>\n",
       "  </thead>\n",
       "  <tbody>\n",
       "    <tr>\n",
       "      <td>1990-01-02</td>\n",
       "      <td>353.399994</td>\n",
       "      <td>2748.719971</td>\n",
       "      <td>452.899994</td>\n",
       "      <td>168.309998</td>\n",
       "      <td>NaN</td>\n",
       "      <td>NaN</td>\n",
       "      <td>NaN</td>\n",
       "      <td>NaN</td>\n",
       "      <td>NaN</td>\n",
       "      <td>NaN</td>\n",
       "      <td>NaN</td>\n",
       "      <td>NaN</td>\n",
       "      <td>NaN</td>\n",
       "      <td>NaN</td>\n",
       "      <td>NaN</td>\n",
       "      <td>NaN</td>\n",
       "    </tr>\n",
       "    <tr>\n",
       "      <td>1990-01-03</td>\n",
       "      <td>359.690002</td>\n",
       "      <td>2814.199951</td>\n",
       "      <td>461.100006</td>\n",
       "      <td>169.960007</td>\n",
       "      <td>NaN</td>\n",
       "      <td>NaN</td>\n",
       "      <td>NaN</td>\n",
       "      <td>NaN</td>\n",
       "      <td>NaN</td>\n",
       "      <td>NaN</td>\n",
       "      <td>NaN</td>\n",
       "      <td>NaN</td>\n",
       "      <td>NaN</td>\n",
       "      <td>NaN</td>\n",
       "      <td>NaN</td>\n",
       "      <td>NaN</td>\n",
       "    </tr>\n",
       "    <tr>\n",
       "      <td>1990-01-04</td>\n",
       "      <td>358.760010</td>\n",
       "      <td>2804.389893</td>\n",
       "      <td>460.399994</td>\n",
       "      <td>170.779999</td>\n",
       "      <td>NaN</td>\n",
       "      <td>NaN</td>\n",
       "      <td>NaN</td>\n",
       "      <td>NaN</td>\n",
       "      <td>NaN</td>\n",
       "      <td>NaN</td>\n",
       "      <td>NaN</td>\n",
       "      <td>NaN</td>\n",
       "      <td>NaN</td>\n",
       "      <td>NaN</td>\n",
       "      <td>NaN</td>\n",
       "      <td>NaN</td>\n",
       "    </tr>\n",
       "    <tr>\n",
       "      <td>1990-01-05</td>\n",
       "      <td>355.670013</td>\n",
       "      <td>2786.899902</td>\n",
       "      <td>457.899994</td>\n",
       "      <td>170.089996</td>\n",
       "      <td>NaN</td>\n",
       "      <td>NaN</td>\n",
       "      <td>NaN</td>\n",
       "      <td>NaN</td>\n",
       "      <td>NaN</td>\n",
       "      <td>NaN</td>\n",
       "      <td>NaN</td>\n",
       "      <td>NaN</td>\n",
       "      <td>NaN</td>\n",
       "      <td>NaN</td>\n",
       "      <td>NaN</td>\n",
       "      <td>NaN</td>\n",
       "    </tr>\n",
       "    <tr>\n",
       "      <td>1990-01-08</td>\n",
       "      <td>352.200012</td>\n",
       "      <td>2761.729980</td>\n",
       "      <td>457.100006</td>\n",
       "      <td>169.669998</td>\n",
       "      <td>NaN</td>\n",
       "      <td>NaN</td>\n",
       "      <td>NaN</td>\n",
       "      <td>NaN</td>\n",
       "      <td>NaN</td>\n",
       "      <td>NaN</td>\n",
       "      <td>NaN</td>\n",
       "      <td>NaN</td>\n",
       "      <td>NaN</td>\n",
       "      <td>NaN</td>\n",
       "      <td>NaN</td>\n",
       "      <td>NaN</td>\n",
       "    </tr>\n",
       "    <tr>\n",
       "      <td>...</td>\n",
       "      <td>...</td>\n",
       "      <td>...</td>\n",
       "      <td>...</td>\n",
       "      <td>...</td>\n",
       "      <td>...</td>\n",
       "      <td>...</td>\n",
       "      <td>...</td>\n",
       "      <td>...</td>\n",
       "      <td>...</td>\n",
       "      <td>...</td>\n",
       "      <td>...</td>\n",
       "      <td>...</td>\n",
       "      <td>...</td>\n",
       "      <td>...</td>\n",
       "      <td>...</td>\n",
       "      <td>...</td>\n",
       "    </tr>\n",
       "    <tr>\n",
       "      <td>2020-10-14</td>\n",
       "      <td>3515.469971</td>\n",
       "      <td>28731.300781</td>\n",
       "      <td>11889.070312</td>\n",
       "      <td>1637.969971</td>\n",
       "      <td>3374.780994</td>\n",
       "      <td>27832.424902</td>\n",
       "      <td>11172.250977</td>\n",
       "      <td>1546.718488</td>\n",
       "      <td>3544.703644</td>\n",
       "      <td>29048.884547</td>\n",
       "      <td>11948.317662</td>\n",
       "      <td>1673.335072</td>\n",
       "      <td>3204.858343</td>\n",
       "      <td>26615.965258</td>\n",
       "      <td>10396.184291</td>\n",
       "      <td>1420.101903</td>\n",
       "    </tr>\n",
       "    <tr>\n",
       "      <td>2020-10-15</td>\n",
       "      <td>3453.719971</td>\n",
       "      <td>28323.400391</td>\n",
       "      <td>11559.879883</td>\n",
       "      <td>1618.880005</td>\n",
       "      <td>3376.905493</td>\n",
       "      <td>27847.010449</td>\n",
       "      <td>11189.140967</td>\n",
       "      <td>1550.698987</td>\n",
       "      <td>3549.783711</td>\n",
       "      <td>29080.407353</td>\n",
       "      <td>11984.243796</td>\n",
       "      <td>1681.273245</td>\n",
       "      <td>3204.027275</td>\n",
       "      <td>26613.613546</td>\n",
       "      <td>10394.038137</td>\n",
       "      <td>1420.124729</td>\n",
       "    </tr>\n",
       "    <tr>\n",
       "      <td>2020-10-16</td>\n",
       "      <td>3493.500000</td>\n",
       "      <td>28570.720703</td>\n",
       "      <td>11761.830078</td>\n",
       "      <td>1638.479980</td>\n",
       "      <td>3384.237488</td>\n",
       "      <td>27883.837500</td>\n",
       "      <td>11237.429980</td>\n",
       "      <td>1555.115985</td>\n",
       "      <td>3564.049707</td>\n",
       "      <td>29158.901164</td>\n",
       "      <td>12049.148236</td>\n",
       "      <td>1691.459798</td>\n",
       "      <td>3204.425268</td>\n",
       "      <td>26608.773836</td>\n",
       "      <td>10425.711725</td>\n",
       "      <td>1418.772172</td>\n",
       "    </tr>\n",
       "    <tr>\n",
       "      <td>2020-10-19</td>\n",
       "      <td>3493.659912</td>\n",
       "      <td>28633.550781</td>\n",
       "      <td>11732.339844</td>\n",
       "      <td>1636.839966</td>\n",
       "      <td>3391.051489</td>\n",
       "      <td>27922.271582</td>\n",
       "      <td>11275.374463</td>\n",
       "      <td>1559.740985</td>\n",
       "      <td>3576.808765</td>\n",
       "      <td>29240.536512</td>\n",
       "      <td>12105.867756</td>\n",
       "      <td>1700.741651</td>\n",
       "      <td>3205.294213</td>\n",
       "      <td>26604.006652</td>\n",
       "      <td>10444.881170</td>\n",
       "      <td>1418.740319</td>\n",
       "    </tr>\n",
       "    <tr>\n",
       "      <td>2020-10-20</td>\n",
       "      <td>3439.379883</td>\n",
       "      <td>28245.849609</td>\n",
       "      <td>11531.799805</td>\n",
       "      <td>1620.565430</td>\n",
       "      <td>3398.741980</td>\n",
       "      <td>27960.328516</td>\n",
       "      <td>11321.457471</td>\n",
       "      <td>1564.073254</td>\n",
       "      <td>3578.758831</td>\n",
       "      <td>29269.320361</td>\n",
       "      <td>12096.992531</td>\n",
       "      <td>1707.044111</td>\n",
       "      <td>3218.725129</td>\n",
       "      <td>26651.336670</td>\n",
       "      <td>10545.922410</td>\n",
       "      <td>1421.102398</td>\n",
       "    </tr>\n",
       "  </tbody>\n",
       "</table>\n",
       "<p>7761 rows × 16 columns</p>\n",
       "</div>"
      ],
>>>>>>> 365249751834da7fffe48fb76d31f14c16bb07bd
      "text/plain": [
       "                  ^GSPC          ^DJI         ^IXIC         ^RUT  \\\n",
       "Date                                                               \n",
       "1990-01-02   353.399994   2748.719971    452.899994   168.309998   \n",
       "1990-01-03   359.690002   2814.199951    461.100006   169.960007   \n",
       "1990-01-04   358.760010   2804.389893    460.399994   170.779999   \n",
       "1990-01-05   355.670013   2786.899902    457.899994   170.089996   \n",
       "1990-01-08   352.200012   2761.729980    457.100006   169.669998   \n",
       "...                 ...           ...           ...          ...   \n",
       "2020-10-14  3515.469971  28731.300781  11889.070312  1637.969971   \n",
       "2020-10-15  3453.719971  28323.400391  11559.879883  1618.880005   \n",
       "2020-10-16  3493.500000  28570.720703  11761.830078  1638.479980   \n",
       "2020-10-19  3493.659912  28633.550781  11732.339844  1636.839966   \n",
       "2020-10-20  3439.379883  28245.849609  11531.799805  1620.565430   \n",
       "\n",
       "            ^GSPC 20day MA  ^DJI 20day MA  ^IXIC 20day MA  ^RUT 20day MA  \\\n",
       "Date                                                                       \n",
       "1990-01-02             NaN            NaN             NaN            NaN   \n",
       "1990-01-03             NaN            NaN             NaN            NaN   \n",
       "1990-01-04             NaN            NaN             NaN            NaN   \n",
       "1990-01-05             NaN            NaN             NaN            NaN   \n",
       "1990-01-08             NaN            NaN             NaN            NaN   \n",
       "...                    ...            ...             ...            ...   \n",
       "2020-10-14     3374.780994   27832.424902    11172.250977    1546.718488   \n",
       "2020-10-15     3376.905493   27847.010449    11189.140967    1550.698987   \n",
       "2020-10-16     3384.237488   27883.837500    11237.429980    1555.115985   \n",
       "2020-10-19     3391.051489   27922.271582    11275.374463    1559.740985   \n",
       "2020-10-20     3398.741980   27960.328516    11321.457471    1564.073254   \n",
       "\n",
       "            ^GSPC upper    ^DJI upper   ^IXIC upper   ^RUT upper  ^GSPC lower  \\\n",
       "Date                                                                            \n",
       "1990-01-02          NaN           NaN           NaN          NaN          NaN   \n",
       "1990-01-03          NaN           NaN           NaN          NaN          NaN   \n",
       "1990-01-04          NaN           NaN           NaN          NaN          NaN   \n",
       "1990-01-05          NaN           NaN           NaN          NaN          NaN   \n",
       "1990-01-08          NaN           NaN           NaN          NaN          NaN   \n",
       "...                 ...           ...           ...          ...          ...   \n",
       "2020-10-14  3544.703644  29048.884547  11948.317662  1673.335072  3204.858343   \n",
       "2020-10-15  3549.783711  29080.407353  11984.243796  1681.273245  3204.027275   \n",
       "2020-10-16  3564.049707  29158.901164  12049.148236  1691.459798  3204.425268   \n",
       "2020-10-19  3576.808765  29240.536512  12105.867756  1700.741651  3205.294213   \n",
       "2020-10-20  3578.758831  29269.320361  12096.992531  1707.044111  3218.725129   \n",
       "\n",
       "              ^DJI lower   ^IXIC lower   ^RUT lower  \n",
       "Date                                                 \n",
       "1990-01-02           NaN           NaN          NaN  \n",
       "1990-01-03           NaN           NaN          NaN  \n",
       "1990-01-04           NaN           NaN          NaN  \n",
       "1990-01-05           NaN           NaN          NaN  \n",
       "1990-01-08           NaN           NaN          NaN  \n",
       "...                  ...           ...          ...  \n",
       "2020-10-14  26615.965258  10396.184291  1420.101903  \n",
       "2020-10-15  26613.613546  10394.038137  1420.124729  \n",
       "2020-10-16  26608.773836  10425.711725  1418.772172  \n",
       "2020-10-19  26604.006652  10444.881170  1418.740319  \n",
       "2020-10-20  26651.336670  10545.922410  1421.102398  \n",
       "\n",
       "[7761 rows x 16 columns]"
      ]
     },
     "execution_count": 14,
     "metadata": {},
     "output_type": "execute_result"
    }
   ],
   "source": [
<<<<<<< HEAD
    "working_data[\"^TNX Adj Close\"].plot(figsize = (16,6))"
   ]
  },
  {
   "cell_type": "markdown",
   "metadata": {},
   "source": [
    "### Preparing the data for model\n",
    "- Separating X - > Features and y - > Target (TNX)"
   ]
  },
  {
   "cell_type": "code",
   "execution_count": 99,
   "metadata": {},
   "outputs": [],
   "source": [
    "X = working_data.drop(\"^TNX Adj Close\", axis= 1).values\n",
    "y = working_data[\"^TNX Adj Close\"].values"
   ]
  },
  {
   "cell_type": "markdown",
   "metadata": {},
   "source": [
    "### Training testing and splitting"
=======
    "capital_data"
>>>>>>> 365249751834da7fffe48fb76d31f14c16bb07bd
   ]
  },
  {
   "cell_type": "code",
<<<<<<< HEAD
   "execution_count": 100,
=======
   "execution_count": null,
>>>>>>> 365249751834da7fffe48fb76d31f14c16bb07bd
   "metadata": {},
   "outputs": [],
   "source": []
  },
  {
   "cell_type": "code",
<<<<<<< HEAD
   "execution_count": 101,
=======
   "execution_count": 15,
>>>>>>> 365249751834da7fffe48fb76d31f14c16bb07bd
   "metadata": {},
   "outputs": [
    {
     "data": {
      "text/plain": [
       "<matplotlib.axes._subplots.AxesSubplot at 0x1a1ca18b10>"
      ]
     },
     "execution_count": 15,
     "metadata": {},
     "output_type": "execute_result"
    },
    {
     "data": {
      "image/png": "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\n",
      "text/plain": [
       "<Figure size 1152x432 with 2 Axes>"
      ]
     },
     "metadata": {
      "needs_background": "light"
     },
     "output_type": "display_data"
    }
   ],
   "source": [
    "plt.figure(figsize=(16,6))\n",
    "sns.heatmap(capital_data.corr(), annot=True)"
   ]
  },
  {
   "cell_type": "markdown",
   "metadata": {},
   "source": [
    "## Putting the data Together\n",
    "- Now that the data is ready the Capital Markets we need the close for the 10 Year"
   ]
  },
  {
   "cell_type": "code",
<<<<<<< HEAD
   "execution_count": 102,
=======
   "execution_count": 16,
>>>>>>> 365249751834da7fffe48fb76d31f14c16bb07bd
   "metadata": {},
   "outputs": [],
   "source": [
    "tenYearData = web.DataReader(\"^TNX\", data_source=\"yahoo\", start= \"2001-1-1\")[\"Adj Close\"]"
   ]
  },
  {
<<<<<<< HEAD
   "cell_type": "code",
   "execution_count": 103,
=======
   "cell_type": "markdown",
>>>>>>> 365249751834da7fffe48fb76d31f14c16bb07bd
   "metadata": {},
   "source": [
    "### Combining the Data \n",
    "- adding the 10 year ADJ Close data to the Capital Markets data set\n",
    "- This will be our working Data"
   ]
  },
  {
   "cell_type": "code",
<<<<<<< HEAD
   "execution_count": 104,
=======
   "execution_count": 17,
>>>>>>> 365249751834da7fffe48fb76d31f14c16bb07bd
   "metadata": {},
   "outputs": [],
   "source": [
    "working_data = pd.concat([capital_data, tenYearData], axis=1)"
   ]
  },
  {
   "cell_type": "code",
<<<<<<< HEAD
   "execution_count": 105,
=======
   "execution_count": 18,
>>>>>>> 365249751834da7fffe48fb76d31f14c16bb07bd
   "metadata": {},
   "outputs": [
    {
     "data": {
      "text/html": [
       "<div>\n",
       "<style scoped>\n",
       "    .dataframe tbody tr th:only-of-type {\n",
       "        vertical-align: middle;\n",
       "    }\n",
       "\n",
       "    .dataframe tbody tr th {\n",
       "        vertical-align: top;\n",
       "    }\n",
       "\n",
       "    .dataframe thead th {\n",
       "        text-align: right;\n",
       "    }\n",
       "</style>\n",
       "<table border=\"1\" class=\"dataframe\">\n",
       "  <thead>\n",
       "    <tr style=\"text-align: right;\">\n",
       "      <th></th>\n",
       "      <th>^GSPC</th>\n",
       "      <th>^DJI</th>\n",
       "      <th>^IXIC</th>\n",
       "      <th>^RUT</th>\n",
       "      <th>^GSPC 20day MA</th>\n",
       "      <th>^DJI 20day MA</th>\n",
       "      <th>^IXIC 20day MA</th>\n",
       "      <th>^RUT 20day MA</th>\n",
       "      <th>^GSPC upper</th>\n",
       "      <th>^DJI upper</th>\n",
       "      <th>^IXIC upper</th>\n",
       "      <th>^RUT upper</th>\n",
       "      <th>^GSPC lower</th>\n",
       "      <th>^DJI lower</th>\n",
       "      <th>^IXIC lower</th>\n",
       "      <th>^RUT lower</th>\n",
       "      <th>Adj Close</th>\n",
       "    </tr>\n",
       "    <tr>\n",
       "      <th>Date</th>\n",
       "      <th></th>\n",
       "      <th></th>\n",
       "      <th></th>\n",
       "      <th></th>\n",
       "      <th></th>\n",
       "      <th></th>\n",
       "      <th></th>\n",
       "      <th></th>\n",
       "      <th></th>\n",
       "      <th></th>\n",
       "      <th></th>\n",
       "      <th></th>\n",
       "      <th></th>\n",
       "      <th></th>\n",
       "      <th></th>\n",
       "      <th></th>\n",
       "      <th></th>\n",
       "    </tr>\n",
       "  </thead>\n",
       "  <tbody>\n",
       "    <tr>\n",
       "      <td>1990-01-02</td>\n",
       "      <td>353.399994</td>\n",
       "      <td>2748.719971</td>\n",
       "      <td>452.899994</td>\n",
       "      <td>168.309998</td>\n",
       "      <td>NaN</td>\n",
       "      <td>NaN</td>\n",
       "      <td>NaN</td>\n",
       "      <td>NaN</td>\n",
       "      <td>NaN</td>\n",
       "      <td>NaN</td>\n",
       "      <td>NaN</td>\n",
       "      <td>NaN</td>\n",
       "      <td>NaN</td>\n",
       "      <td>NaN</td>\n",
       "      <td>NaN</td>\n",
       "      <td>NaN</td>\n",
       "      <td>NaN</td>\n",
       "    </tr>\n",
       "    <tr>\n",
       "      <td>1990-01-03</td>\n",
       "      <td>359.690002</td>\n",
       "      <td>2814.199951</td>\n",
       "      <td>461.100006</td>\n",
       "      <td>169.960007</td>\n",
       "      <td>NaN</td>\n",
       "      <td>NaN</td>\n",
       "      <td>NaN</td>\n",
       "      <td>NaN</td>\n",
       "      <td>NaN</td>\n",
       "      <td>NaN</td>\n",
       "      <td>NaN</td>\n",
       "      <td>NaN</td>\n",
       "      <td>NaN</td>\n",
       "      <td>NaN</td>\n",
       "      <td>NaN</td>\n",
       "      <td>NaN</td>\n",
       "      <td>NaN</td>\n",
       "    </tr>\n",
       "    <tr>\n",
       "      <td>1990-01-04</td>\n",
       "      <td>358.760010</td>\n",
       "      <td>2804.389893</td>\n",
       "      <td>460.399994</td>\n",
       "      <td>170.779999</td>\n",
       "      <td>NaN</td>\n",
       "      <td>NaN</td>\n",
       "      <td>NaN</td>\n",
       "      <td>NaN</td>\n",
       "      <td>NaN</td>\n",
       "      <td>NaN</td>\n",
       "      <td>NaN</td>\n",
       "      <td>NaN</td>\n",
       "      <td>NaN</td>\n",
       "      <td>NaN</td>\n",
       "      <td>NaN</td>\n",
       "      <td>NaN</td>\n",
       "      <td>NaN</td>\n",
       "    </tr>\n",
       "    <tr>\n",
       "      <td>1990-01-05</td>\n",
       "      <td>355.670013</td>\n",
       "      <td>2786.899902</td>\n",
       "      <td>457.899994</td>\n",
       "      <td>170.089996</td>\n",
       "      <td>NaN</td>\n",
       "      <td>NaN</td>\n",
       "      <td>NaN</td>\n",
       "      <td>NaN</td>\n",
       "      <td>NaN</td>\n",
       "      <td>NaN</td>\n",
       "      <td>NaN</td>\n",
       "      <td>NaN</td>\n",
       "      <td>NaN</td>\n",
       "      <td>NaN</td>\n",
       "      <td>NaN</td>\n",
       "      <td>NaN</td>\n",
       "      <td>NaN</td>\n",
       "    </tr>\n",
       "    <tr>\n",
       "      <td>1990-01-08</td>\n",
       "      <td>352.200012</td>\n",
       "      <td>2761.729980</td>\n",
       "      <td>457.100006</td>\n",
       "      <td>169.669998</td>\n",
       "      <td>NaN</td>\n",
       "      <td>NaN</td>\n",
       "      <td>NaN</td>\n",
       "      <td>NaN</td>\n",
       "      <td>NaN</td>\n",
       "      <td>NaN</td>\n",
       "      <td>NaN</td>\n",
       "      <td>NaN</td>\n",
       "      <td>NaN</td>\n",
       "      <td>NaN</td>\n",
       "      <td>NaN</td>\n",
       "      <td>NaN</td>\n",
       "      <td>NaN</td>\n",
       "    </tr>\n",
       "    <tr>\n",
       "      <td>...</td>\n",
       "      <td>...</td>\n",
       "      <td>...</td>\n",
       "      <td>...</td>\n",
       "      <td>...</td>\n",
       "      <td>...</td>\n",
       "      <td>...</td>\n",
       "      <td>...</td>\n",
       "      <td>...</td>\n",
       "      <td>...</td>\n",
       "      <td>...</td>\n",
       "      <td>...</td>\n",
       "      <td>...</td>\n",
       "      <td>...</td>\n",
       "      <td>...</td>\n",
       "      <td>...</td>\n",
       "      <td>...</td>\n",
       "      <td>...</td>\n",
       "    </tr>\n",
       "    <tr>\n",
       "      <td>2020-10-14</td>\n",
       "      <td>3515.469971</td>\n",
       "      <td>28731.300781</td>\n",
       "      <td>11889.070312</td>\n",
       "      <td>1637.969971</td>\n",
       "      <td>3374.780994</td>\n",
       "      <td>27832.424902</td>\n",
       "      <td>11172.250977</td>\n",
       "      <td>1546.718488</td>\n",
       "      <td>3544.703644</td>\n",
       "      <td>29048.884547</td>\n",
       "      <td>11948.317662</td>\n",
       "      <td>1673.335072</td>\n",
       "      <td>3204.858343</td>\n",
       "      <td>26615.965258</td>\n",
       "      <td>10396.184291</td>\n",
       "      <td>1420.101903</td>\n",
       "      <td>0.722</td>\n",
       "    </tr>\n",
       "    <tr>\n",
       "      <td>2020-10-15</td>\n",
       "      <td>3453.719971</td>\n",
       "      <td>28323.400391</td>\n",
       "      <td>11559.879883</td>\n",
       "      <td>1618.880005</td>\n",
       "      <td>3376.905493</td>\n",
       "      <td>27847.010449</td>\n",
       "      <td>11189.140967</td>\n",
       "      <td>1550.698987</td>\n",
       "      <td>3549.783711</td>\n",
       "      <td>29080.407353</td>\n",
       "      <td>11984.243796</td>\n",
       "      <td>1681.273245</td>\n",
       "      <td>3204.027275</td>\n",
       "      <td>26613.613546</td>\n",
       "      <td>10394.038137</td>\n",
       "      <td>1420.124729</td>\n",
       "      <td>0.731</td>\n",
       "    </tr>\n",
       "    <tr>\n",
       "      <td>2020-10-16</td>\n",
       "      <td>3493.500000</td>\n",
       "      <td>28570.720703</td>\n",
       "      <td>11761.830078</td>\n",
       "      <td>1638.479980</td>\n",
       "      <td>3384.237488</td>\n",
       "      <td>27883.837500</td>\n",
       "      <td>11237.429980</td>\n",
       "      <td>1555.115985</td>\n",
       "      <td>3564.049707</td>\n",
       "      <td>29158.901164</td>\n",
       "      <td>12049.148236</td>\n",
       "      <td>1691.459798</td>\n",
       "      <td>3204.425268</td>\n",
       "      <td>26608.773836</td>\n",
       "      <td>10425.711725</td>\n",
       "      <td>1418.772172</td>\n",
       "      <td>0.744</td>\n",
       "    </tr>\n",
       "    <tr>\n",
       "      <td>2020-10-19</td>\n",
       "      <td>3493.659912</td>\n",
       "      <td>28633.550781</td>\n",
       "      <td>11732.339844</td>\n",
       "      <td>1636.839966</td>\n",
       "      <td>3391.051489</td>\n",
       "      <td>27922.271582</td>\n",
       "      <td>11275.374463</td>\n",
       "      <td>1559.740985</td>\n",
       "      <td>3576.808765</td>\n",
       "      <td>29240.536512</td>\n",
       "      <td>12105.867756</td>\n",
       "      <td>1700.741651</td>\n",
       "      <td>3205.294213</td>\n",
       "      <td>26604.006652</td>\n",
       "      <td>10444.881170</td>\n",
       "      <td>1418.740319</td>\n",
       "      <td>0.761</td>\n",
       "    </tr>\n",
       "    <tr>\n",
       "      <td>2020-10-20</td>\n",
       "      <td>3439.379883</td>\n",
       "      <td>28245.849609</td>\n",
       "      <td>11531.799805</td>\n",
       "      <td>1620.565430</td>\n",
       "      <td>3398.741980</td>\n",
       "      <td>27960.328516</td>\n",
       "      <td>11321.457471</td>\n",
       "      <td>1564.073254</td>\n",
       "      <td>3578.758831</td>\n",
       "      <td>29269.320361</td>\n",
       "      <td>12096.992531</td>\n",
       "      <td>1707.044111</td>\n",
       "      <td>3218.725129</td>\n",
       "      <td>26651.336670</td>\n",
       "      <td>10545.922410</td>\n",
       "      <td>1421.102398</td>\n",
       "      <td>0.786</td>\n",
       "    </tr>\n",
       "  </tbody>\n",
       "</table>\n",
       "<p>7762 rows × 17 columns</p>\n",
       "</div>"
      ],
      "text/plain": [
       "                  ^GSPC          ^DJI         ^IXIC         ^RUT  \\\n",
       "Date                                                               \n",
       "1990-01-02   353.399994   2748.719971    452.899994   168.309998   \n",
       "1990-01-03   359.690002   2814.199951    461.100006   169.960007   \n",
       "1990-01-04   358.760010   2804.389893    460.399994   170.779999   \n",
       "1990-01-05   355.670013   2786.899902    457.899994   170.089996   \n",
       "1990-01-08   352.200012   2761.729980    457.100006   169.669998   \n",
       "...                 ...           ...           ...          ...   \n",
       "2020-10-14  3515.469971  28731.300781  11889.070312  1637.969971   \n",
       "2020-10-15  3453.719971  28323.400391  11559.879883  1618.880005   \n",
       "2020-10-16  3493.500000  28570.720703  11761.830078  1638.479980   \n",
       "2020-10-19  3493.659912  28633.550781  11732.339844  1636.839966   \n",
       "2020-10-20  3439.379883  28245.849609  11531.799805  1620.565430   \n",
       "\n",
       "            ^GSPC 20day MA  ^DJI 20day MA  ^IXIC 20day MA  ^RUT 20day MA  \\\n",
       "Date                                                                       \n",
       "1990-01-02             NaN            NaN             NaN            NaN   \n",
       "1990-01-03             NaN            NaN             NaN            NaN   \n",
       "1990-01-04             NaN            NaN             NaN            NaN   \n",
       "1990-01-05             NaN            NaN             NaN            NaN   \n",
       "1990-01-08             NaN            NaN             NaN            NaN   \n",
       "...                    ...            ...             ...            ...   \n",
       "2020-10-14     3374.780994   27832.424902    11172.250977    1546.718488   \n",
       "2020-10-15     3376.905493   27847.010449    11189.140967    1550.698987   \n",
       "2020-10-16     3384.237488   27883.837500    11237.429980    1555.115985   \n",
       "2020-10-19     3391.051489   27922.271582    11275.374463    1559.740985   \n",
       "2020-10-20     3398.741980   27960.328516    11321.457471    1564.073254   \n",
       "\n",
       "            ^GSPC upper    ^DJI upper   ^IXIC upper   ^RUT upper  ^GSPC lower  \\\n",
       "Date                                                                            \n",
       "1990-01-02          NaN           NaN           NaN          NaN          NaN   \n",
       "1990-01-03          NaN           NaN           NaN          NaN          NaN   \n",
       "1990-01-04          NaN           NaN           NaN          NaN          NaN   \n",
       "1990-01-05          NaN           NaN           NaN          NaN          NaN   \n",
       "1990-01-08          NaN           NaN           NaN          NaN          NaN   \n",
       "...                 ...           ...           ...          ...          ...   \n",
       "2020-10-14  3544.703644  29048.884547  11948.317662  1673.335072  3204.858343   \n",
       "2020-10-15  3549.783711  29080.407353  11984.243796  1681.273245  3204.027275   \n",
       "2020-10-16  3564.049707  29158.901164  12049.148236  1691.459798  3204.425268   \n",
       "2020-10-19  3576.808765  29240.536512  12105.867756  1700.741651  3205.294213   \n",
       "2020-10-20  3578.758831  29269.320361  12096.992531  1707.044111  3218.725129   \n",
       "\n",
       "              ^DJI lower   ^IXIC lower   ^RUT lower  Adj Close  \n",
       "Date                                                            \n",
       "1990-01-02           NaN           NaN          NaN        NaN  \n",
       "1990-01-03           NaN           NaN          NaN        NaN  \n",
       "1990-01-04           NaN           NaN          NaN        NaN  \n",
       "1990-01-05           NaN           NaN          NaN        NaN  \n",
       "1990-01-08           NaN           NaN          NaN        NaN  \n",
       "...                  ...           ...          ...        ...  \n",
       "2020-10-14  26615.965258  10396.184291  1420.101903      0.722  \n",
       "2020-10-15  26613.613546  10394.038137  1420.124729      0.731  \n",
       "2020-10-16  26608.773836  10425.711725  1418.772172      0.744  \n",
       "2020-10-19  26604.006652  10444.881170  1418.740319      0.761  \n",
       "2020-10-20  26651.336670  10545.922410  1421.102398      0.786  \n",
       "\n",
       "[7762 rows x 17 columns]"
      ]
     },
     "execution_count": 18,
     "metadata": {},
     "output_type": "execute_result"
    }
   ],
   "source": [
    "working_data"
   ]
  },
  {
   "cell_type": "markdown",
   "metadata": {},
   "source": [
    "### Analyzing the Data \n",
    "- Currently we see there is missing data we need to consider removing\n",
    "- lets see how to go about this\n",
    "- First lets fix the columns "
   ]
  },
  {
   "cell_type": "code",
<<<<<<< HEAD
   "execution_count": 106,
=======
   "execution_count": 19,
>>>>>>> 365249751834da7fffe48fb76d31f14c16bb07bd
   "metadata": {},
   "outputs": [
    {
     "data": {
      "text/plain": [
       "Index(['^GSPC', '^DJI', '^IXIC', '^RUT', '^GSPC 20day MA', '^DJI 20day MA',\n",
       "       '^IXIC 20day MA', '^RUT 20day MA', '^GSPC upper', '^DJI upper',\n",
       "       '^IXIC upper', '^RUT upper', '^GSPC lower', '^DJI lower', '^IXIC lower',\n",
       "       '^RUT lower', 'Adj Close'],\n",
       "      dtype='object')"
      ]
     },
     "execution_count": 19,
     "metadata": {},
     "output_type": "execute_result"
    }
   ],
   "source": [
    "working_data.columns"
   ]
  },
  {
   "cell_type": "code",
<<<<<<< HEAD
   "execution_count": 107,
=======
   "execution_count": 20,
>>>>>>> 365249751834da7fffe48fb76d31f14c16bb07bd
   "metadata": {},
   "outputs": [],
   "source": [
    "working_data.columns = ['^GSPC', '^DJI', '^IXIC', '^RUT', '^GSPC 20day MA', '^DJI 20day MA',\n",
    "       '^IXIC 20day MA', '^RUT 20day MA', '^GSPC upper', '^DJI upper',\n",
    "       '^IXIC upper', '^RUT upper', '^GSPC lower', '^DJI lower', '^IXIC lower',\n",
    "       '^RUT lower', 'TNX Adj Close']"
   ]
  },
  {
   "cell_type": "markdown",
   "metadata": {},
   "source": [
    "### Handling missing data\n",
    "- ^TNX has 288 days missing form the total 5232 days\n",
    "- approximately 5% of the data so this is not siginificate to mak a huge diffference so will drop these days"
   ]
  },
  {
   "cell_type": "code",
<<<<<<< HEAD
   "execution_count": 108,
=======
   "execution_count": 21,
>>>>>>> 365249751834da7fffe48fb76d31f14c16bb07bd
   "metadata": {},
   "outputs": [
    {
     "data": {
      "text/plain": [
       "^GSPC                1\n",
       "^DJI                 1\n",
       "^IXIC                1\n",
       "^RUT                 1\n",
       "^GSPC 20day MA      20\n",
       "^DJI 20day MA       20\n",
       "^IXIC 20day MA      20\n",
       "^RUT 20day MA       20\n",
       "^GSPC upper         20\n",
       "^DJI upper          20\n",
       "^IXIC upper         20\n",
       "^RUT upper          20\n",
       "^GSPC lower         20\n",
       "^DJI lower          20\n",
       "^IXIC lower         20\n",
       "^RUT lower          20\n",
       "TNX Adj Close     2816\n",
       "dtype: int64"
      ]
     },
     "execution_count": 21,
     "metadata": {},
     "output_type": "execute_result"
    }
   ],
   "source": [
    "working_data.isnull().sum()"
   ]
  },
  {
   "cell_type": "code",
<<<<<<< HEAD
   "execution_count": 109,
=======
   "execution_count": 22,
>>>>>>> 365249751834da7fffe48fb76d31f14c16bb07bd
   "metadata": {},
   "outputs": [],
   "source": [
    "working_data.dropna(inplace=True)"
   ]
  },
  {
   "cell_type": "code",
<<<<<<< HEAD
   "execution_count": 110,
   "metadata": {},
   "outputs": [
    {
     "name": "stdout",
     "output_type": "stream",
     "text": [
      "Train on 3463 samples, validate on 1485 samples\n",
      "Epoch 1/200\n",
      "3463/3463 [==============================] - 3s 731us/sample - loss: 10.3763 - val_loss: 9.4739\n",
      "Epoch 2/200\n",
      "3463/3463 [==============================] - 0s 132us/sample - loss: 7.4419 - val_loss: 5.6727\n",
      "Epoch 3/200\n",
      "3463/3463 [==============================] - 0s 132us/sample - loss: 3.5779 - val_loss: 2.2855\n",
      "Epoch 4/200\n",
      "3463/3463 [==============================] - 0s 132us/sample - loss: 1.8390 - val_loss: 1.6866\n",
      "Epoch 5/200\n",
      "3463/3463 [==============================] - 1s 146us/sample - loss: 1.4604 - val_loss: 1.3402\n",
      "Epoch 6/200\n",
      "3463/3463 [==============================] - 0s 141us/sample - loss: 1.1901 - val_loss: 1.0989\n",
      "Epoch 7/200\n",
      "3463/3463 [==============================] - 0s 132us/sample - loss: 0.9984 - val_loss: 0.9249\n",
      "Epoch 8/200\n",
      "3463/3463 [==============================] - 0s 132us/sample - loss: 0.8756 - val_loss: 0.8307\n",
      "Epoch 9/200\n",
      "3463/3463 [==============================] - 0s 132us/sample - loss: 0.8011 - val_loss: 0.7716\n",
      "Epoch 10/200\n",
      "3463/3463 [==============================] - 0s 132us/sample - loss: 0.7643 - val_loss: 0.7416\n",
      "Epoch 11/200\n",
      "3463/3463 [==============================] - 0s 131us/sample - loss: 0.7480 - val_loss: 0.7393\n",
      "Epoch 12/200\n",
      "3463/3463 [==============================] - 0s 132us/sample - loss: 0.7403 - val_loss: 0.7240\n",
      "Epoch 13/200\n",
      "3463/3463 [==============================] - 0s 132us/sample - loss: 0.7349 - val_loss: 0.7170\n",
      "Epoch 14/200\n",
      "3463/3463 [==============================] - 0s 133us/sample - loss: 0.7315 - val_loss: 0.7212\n",
      "Epoch 15/200\n",
      "3463/3463 [==============================] - 0s 132us/sample - loss: 0.7262 - val_loss: 0.7100\n",
      "Epoch 16/200\n",
      "3463/3463 [==============================] - 0s 132us/sample - loss: 0.7218 - val_loss: 0.7368\n",
      "Epoch 17/200\n",
      "3463/3463 [==============================] - 0s 132us/sample - loss: 0.7202 - val_loss: 0.7046\n",
      "Epoch 18/200\n",
      "3463/3463 [==============================] - 0s 133us/sample - loss: 0.7150 - val_loss: 0.6982\n",
      "Epoch 19/200\n",
      "3463/3463 [==============================] - 0s 132us/sample - loss: 0.7127 - val_loss: 0.6935\n",
      "Epoch 20/200\n",
      "3463/3463 [==============================] - 0s 132us/sample - loss: 0.7082 - val_loss: 0.6970\n",
      "Epoch 21/200\n",
      "3463/3463 [==============================] - 0s 132us/sample - loss: 0.7048 - val_loss: 0.6941\n",
      "Epoch 22/200\n",
      "3463/3463 [==============================] - 0s 132us/sample - loss: 0.7007 - val_loss: 0.7045\n",
      "Epoch 23/200\n",
      "3463/3463 [==============================] - 0s 133us/sample - loss: 0.6987 - val_loss: 0.6786\n",
      "Epoch 24/200\n",
      "3463/3463 [==============================] - 0s 132us/sample - loss: 0.6947 - val_loss: 0.6942\n",
      "Epoch 25/200\n",
      "3463/3463 [==============================] - 0s 132us/sample - loss: 0.6915 - val_loss: 0.6780\n",
      "Epoch 26/200\n",
      "3463/3463 [==============================] - 0s 133us/sample - loss: 0.6882 - val_loss: 0.6693\n",
      "Epoch 27/200\n",
      "3463/3463 [==============================] - 0s 141us/sample - loss: 0.6854 - val_loss: 0.6687\n",
      "Epoch 28/200\n",
      "3463/3463 [==============================] - 0s 142us/sample - loss: 0.6813 - val_loss: 0.6612\n",
      "Epoch 29/200\n",
      "3463/3463 [==============================] - 0s 132us/sample - loss: 0.6794 - val_loss: 0.6579\n",
      "Epoch 30/200\n",
      "3463/3463 [==============================] - 0s 132us/sample - loss: 0.6750 - val_loss: 0.6555\n",
      "Epoch 31/200\n",
      "3463/3463 [==============================] - 0s 133us/sample - loss: 0.6718 - val_loss: 0.6590\n",
      "Epoch 32/200\n",
      "3463/3463 [==============================] - 0s 133us/sample - loss: 0.6693 - val_loss: 0.6566\n",
      "Epoch 33/200\n",
      "3463/3463 [==============================] - 0s 132us/sample - loss: 0.6650 - val_loss: 0.6532\n",
      "Epoch 34/200\n",
      "3463/3463 [==============================] - 0s 132us/sample - loss: 0.6622 - val_loss: 0.6411\n",
      "Epoch 35/200\n",
      "3463/3463 [==============================] - 0s 133us/sample - loss: 0.6595 - val_loss: 0.6386\n",
      "Epoch 36/200\n",
      "3463/3463 [==============================] - 0s 132us/sample - loss: 0.6552 - val_loss: 0.6475\n",
      "Epoch 37/200\n",
      "3463/3463 [==============================] - 0s 133us/sample - loss: 0.6518 - val_loss: 0.6316\n",
      "Epoch 38/200\n",
      "3463/3463 [==============================] - 0s 132us/sample - loss: 0.6499 - val_loss: 0.6313\n",
      "Epoch 39/200\n",
      "3463/3463 [==============================] - 0s 132us/sample - loss: 0.6443 - val_loss: 0.6384\n",
      "Epoch 40/200\n",
      "3463/3463 [==============================] - 0s 134us/sample - loss: 0.6421 - val_loss: 0.6301\n",
      "Epoch 41/200\n",
      "3463/3463 [==============================] - 0s 132us/sample - loss: 0.6375 - val_loss: 0.6520\n",
      "Epoch 42/200\n",
      "3463/3463 [==============================] - 0s 132us/sample - loss: 0.6361 - val_loss: 0.6141\n",
      "Epoch 43/200\n",
      "3463/3463 [==============================] - 0s 133us/sample - loss: 0.6313 - val_loss: 0.6110\n",
      "Epoch 44/200\n",
      "3463/3463 [==============================] - 0s 132us/sample - loss: 0.6263 - val_loss: 0.6108\n",
      "Epoch 45/200\n",
      "3463/3463 [==============================] - 0s 132us/sample - loss: 0.6235 - val_loss: 0.6031\n",
      "Epoch 46/200\n",
      "3463/3463 [==============================] - 0s 133us/sample - loss: 0.6193 - val_loss: 0.6148\n",
      "Epoch 47/200\n",
      "3463/3463 [==============================] - 0s 134us/sample - loss: 0.6097 - val_loss: 0.5817\n",
      "Epoch 48/200\n",
      "3463/3463 [==============================] - 0s 133us/sample - loss: 0.5971 - val_loss: 0.5777\n",
      "Epoch 49/200\n",
      "3463/3463 [==============================] - 0s 133us/sample - loss: 0.5887 - val_loss: 0.5748\n",
      "Epoch 50/200\n",
      "3463/3463 [==============================] - 0s 133us/sample - loss: 0.5820 - val_loss: 0.5581\n",
      "Epoch 51/200\n",
      "3463/3463 [==============================] - 0s 133us/sample - loss: 0.5724 - val_loss: 0.5594\n",
      "Epoch 52/200\n",
      "3463/3463 [==============================] - 0s 133us/sample - loss: 0.5654 - val_loss: 0.5412\n",
      "Epoch 53/200\n",
      "3463/3463 [==============================] - 0s 134us/sample - loss: 0.5559 - val_loss: 0.5338\n",
      "Epoch 54/200\n",
      "3463/3463 [==============================] - 0s 133us/sample - loss: 0.5476 - val_loss: 0.5249\n",
      "Epoch 55/200\n",
      "3463/3463 [==============================] - 0s 138us/sample - loss: 0.5382 - val_loss: 0.5130\n",
      "Epoch 56/200\n",
      "3463/3463 [==============================] - 0s 137us/sample - loss: 0.5297 - val_loss: 0.5029\n",
      "Epoch 57/200\n",
      "3463/3463 [==============================] - 0s 140us/sample - loss: 0.5197 - val_loss: 0.4950\n",
      "Epoch 58/200\n",
      "3463/3463 [==============================] - 0s 133us/sample - loss: 0.5086 - val_loss: 0.4815\n",
      "Epoch 59/200\n",
      "3463/3463 [==============================] - 0s 135us/sample - loss: 0.4977 - val_loss: 0.4713\n",
      "Epoch 60/200\n",
      "3463/3463 [==============================] - 0s 134us/sample - loss: 0.4877 - val_loss: 0.4632\n",
      "Epoch 61/200\n",
      "3463/3463 [==============================] - 0s 133us/sample - loss: 0.4753 - val_loss: 0.4528\n",
      "Epoch 62/200\n",
      "3463/3463 [==============================] - 0s 132us/sample - loss: 0.4643 - val_loss: 0.4393\n",
      "Epoch 63/200\n",
      "3463/3463 [==============================] - 0s 131us/sample - loss: 0.4511 - val_loss: 0.4240\n",
      "Epoch 64/200\n",
      "3463/3463 [==============================] - 0s 132us/sample - loss: 0.4389 - val_loss: 0.4407\n",
      "Epoch 65/200\n",
      "3463/3463 [==============================] - 0s 132us/sample - loss: 0.4303 - val_loss: 0.3989\n",
      "Epoch 66/200\n",
      "3463/3463 [==============================] - 0s 132us/sample - loss: 0.4168 - val_loss: 0.3864\n",
      "Epoch 67/200\n",
      "3463/3463 [==============================] - 0s 132us/sample - loss: 0.4031 - val_loss: 0.3710\n",
      "Epoch 68/200\n",
      "3463/3463 [==============================] - 0s 132us/sample - loss: 0.3928 - val_loss: 0.3833\n",
      "Epoch 69/200\n",
      "3463/3463 [==============================] - 0s 133us/sample - loss: 0.3821 - val_loss: 0.3482\n",
      "Epoch 70/200\n",
      "3463/3463 [==============================] - 0s 138us/sample - loss: 0.3701 - val_loss: 0.3477\n",
      "Epoch 71/200\n",
      "3463/3463 [==============================] - 0s 143us/sample - loss: 0.3594 - val_loss: 0.3294\n",
      "Epoch 72/200\n",
      "3463/3463 [==============================] - 0s 142us/sample - loss: 0.3538 - val_loss: 0.3279\n",
      "Epoch 73/200\n",
      "3463/3463 [==============================] - 0s 132us/sample - loss: 0.3469 - val_loss: 0.3220\n",
      "Epoch 74/200\n",
      "3463/3463 [==============================] - 0s 132us/sample - loss: 0.3416 - val_loss: 0.3085\n",
      "Epoch 75/200\n",
      "3463/3463 [==============================] - 0s 132us/sample - loss: 0.3364 - val_loss: 0.3092\n",
      "Epoch 76/200\n"
     ]
    },
    {
     "name": "stdout",
     "output_type": "stream",
     "text": [
      "3463/3463 [==============================] - 0s 131us/sample - loss: 0.3331 - val_loss: 0.3001\n",
      "Epoch 77/200\n",
      "3463/3463 [==============================] - 0s 130us/sample - loss: 0.3279 - val_loss: 0.3065\n",
      "Epoch 78/200\n",
      "3463/3463 [==============================] - 0s 130us/sample - loss: 0.3256 - val_loss: 0.2957\n",
      "Epoch 79/200\n",
      "3463/3463 [==============================] - 0s 131us/sample - loss: 0.3229 - val_loss: 0.3002\n",
      "Epoch 80/200\n",
      "3463/3463 [==============================] - 0s 132us/sample - loss: 0.3218 - val_loss: 0.2875\n",
      "Epoch 81/200\n",
      "3463/3463 [==============================] - 0s 136us/sample - loss: 0.3180 - val_loss: 0.2855\n",
      "Epoch 82/200\n",
      "3463/3463 [==============================] - 0s 137us/sample - loss: 0.3158 - val_loss: 0.2993\n",
      "Epoch 83/200\n",
      "3463/3463 [==============================] - 0s 136us/sample - loss: 0.3155 - val_loss: 0.2838\n",
      "Epoch 84/200\n",
      "3463/3463 [==============================] - 0s 136us/sample - loss: 0.3139 - val_loss: 0.2922\n",
      "Epoch 85/200\n",
      "3463/3463 [==============================] - 0s 135us/sample - loss: 0.3114 - val_loss: 0.2793\n",
      "Epoch 86/200\n",
      "3463/3463 [==============================] - 0s 138us/sample - loss: 0.3091 - val_loss: 0.3117\n",
      "Epoch 87/200\n",
      "3463/3463 [==============================] - 0s 135us/sample - loss: 0.3084 - val_loss: 0.2765\n",
      "Epoch 88/200\n",
      "3463/3463 [==============================] - 0s 135us/sample - loss: 0.3068 - val_loss: 0.2805\n",
      "Epoch 89/200\n",
      "3463/3463 [==============================] - 0s 135us/sample - loss: 0.3058 - val_loss: 0.2801\n",
      "Epoch 90/200\n",
      "3463/3463 [==============================] - 0s 132us/sample - loss: 0.3042 - val_loss: 0.2747\n",
      "Epoch 91/200\n",
      "3463/3463 [==============================] - 0s 132us/sample - loss: 0.3028 - val_loss: 0.2741\n",
      "Epoch 92/200\n",
      "3463/3463 [==============================] - 0s 134us/sample - loss: 0.3020 - val_loss: 0.2890\n",
      "Epoch 93/200\n",
      "3463/3463 [==============================] - 1s 148us/sample - loss: 0.3007 - val_loss: 0.2983\n",
      "Epoch 94/200\n",
      "3463/3463 [==============================] - 0s 138us/sample - loss: 0.3007 - val_loss: 0.2862\n",
      "Epoch 95/200\n",
      "3463/3463 [==============================] - 0s 132us/sample - loss: 0.2989 - val_loss: 0.2695\n",
      "Epoch 96/200\n",
      "3463/3463 [==============================] - 0s 134us/sample - loss: 0.2981 - val_loss: 0.2705\n",
      "Epoch 97/200\n",
      "3463/3463 [==============================] - 0s 131us/sample - loss: 0.2962 - val_loss: 0.2662\n",
      "Epoch 98/200\n",
      "3463/3463 [==============================] - 0s 132us/sample - loss: 0.2928 - val_loss: 0.2692\n",
      "Epoch 99/200\n",
      "3463/3463 [==============================] - 0s 131us/sample - loss: 0.2936 - val_loss: 0.2646\n",
      "Epoch 100/200\n",
      "3463/3463 [==============================] - 0s 132us/sample - loss: 0.2931 - val_loss: 0.2671\n",
      "Epoch 101/200\n",
      "3463/3463 [==============================] - 0s 132us/sample - loss: 0.2914 - val_loss: 0.2908\n",
      "Epoch 102/200\n",
      "3463/3463 [==============================] - 0s 134us/sample - loss: 0.2910 - val_loss: 0.2627\n",
      "Epoch 103/200\n",
      "3463/3463 [==============================] - 0s 133us/sample - loss: 0.2890 - val_loss: 0.2854\n",
      "Epoch 104/200\n",
      "3463/3463 [==============================] - 0s 133us/sample - loss: 0.2885 - val_loss: 0.2681\n",
      "Epoch 105/200\n",
      "3463/3463 [==============================] - 0s 132us/sample - loss: 0.2869 - val_loss: 0.2582\n",
      "Epoch 106/200\n",
      "3463/3463 [==============================] - 0s 132us/sample - loss: 0.2866 - val_loss: 0.2581\n",
      "Epoch 107/200\n",
      "3463/3463 [==============================] - 0s 132us/sample - loss: 0.2847 - val_loss: 0.2601\n",
      "Epoch 108/200\n",
      "3463/3463 [==============================] - 0s 132us/sample - loss: 0.2846 - val_loss: 0.2625\n",
      "Epoch 109/200\n",
      "3463/3463 [==============================] - 0s 132us/sample - loss: 0.2843 - val_loss: 0.2637\n",
      "Epoch 110/200\n",
      "3463/3463 [==============================] - 0s 131us/sample - loss: 0.2824 - val_loss: 0.2855\n",
      "Epoch 111/200\n",
      "3463/3463 [==============================] - 0s 131us/sample - loss: 0.2810 - val_loss: 0.2671\n",
      "Epoch 112/200\n",
      "3463/3463 [==============================] - 0s 131us/sample - loss: 0.2809 - val_loss: 0.2761\n",
      "Epoch 113/200\n",
      "3463/3463 [==============================] - 0s 132us/sample - loss: 0.2796 - val_loss: 0.2844\n",
      "Epoch 114/200\n",
      "3463/3463 [==============================] - 0s 132us/sample - loss: 0.2783 - val_loss: 0.2534\n",
      "Epoch 115/200\n",
      "3463/3463 [==============================] - 0s 132us/sample - loss: 0.2784 - val_loss: 0.2504\n",
      "Epoch 116/200\n",
      "3463/3463 [==============================] - 0s 136us/sample - loss: 0.2762 - val_loss: 0.2570\n",
      "Epoch 117/200\n",
      "3463/3463 [==============================] - 0s 131us/sample - loss: 0.2757 - val_loss: 0.2576\n",
      "Epoch 118/200\n",
      "3463/3463 [==============================] - 0s 132us/sample - loss: 0.2755 - val_loss: 0.2596\n",
      "Epoch 119/200\n",
      "3463/3463 [==============================] - 0s 132us/sample - loss: 0.2741 - val_loss: 0.2603\n",
      "Epoch 120/200\n",
      "3463/3463 [==============================] - 0s 131us/sample - loss: 0.2738 - val_loss: 0.2639\n",
      "Epoch 121/200\n",
      "3463/3463 [==============================] - 0s 131us/sample - loss: 0.2733 - val_loss: 0.2541\n",
      "Epoch 122/200\n",
      "3463/3463 [==============================] - 0s 132us/sample - loss: 0.2730 - val_loss: 0.2841\n",
      "Epoch 123/200\n",
      "3463/3463 [==============================] - 0s 131us/sample - loss: 0.2710 - val_loss: 0.2582\n",
      "Epoch 124/200\n",
      "3463/3463 [==============================] - 0s 132us/sample - loss: 0.2712 - val_loss: 0.2561\n",
      "Epoch 125/200\n",
      "3463/3463 [==============================] - 0s 132us/sample - loss: 0.2705 - val_loss: 0.2487\n",
      "Epoch 126/200\n",
      "3463/3463 [==============================] - 0s 133us/sample - loss: 0.2686 - val_loss: 0.2536\n",
      "Epoch 127/200\n",
      "3463/3463 [==============================] - 0s 132us/sample - loss: 0.2687 - val_loss: 0.2448\n",
      "Epoch 128/200\n",
      "3463/3463 [==============================] - 0s 135us/sample - loss: 0.2682 - val_loss: 0.2520\n",
      "Epoch 129/200\n",
      "3463/3463 [==============================] - 0s 133us/sample - loss: 0.2657 - val_loss: 0.2814\n",
      "Epoch 130/200\n",
      "3463/3463 [==============================] - 0s 132us/sample - loss: 0.2660 - val_loss: 0.2520\n",
      "Epoch 131/200\n",
      "3463/3463 [==============================] - 0s 132us/sample - loss: 0.2662 - val_loss: 0.2396\n",
      "Epoch 132/200\n",
      "3463/3463 [==============================] - 0s 131us/sample - loss: 0.2655 - val_loss: 0.2390\n",
      "Epoch 133/200\n",
      "3463/3463 [==============================] - 0s 135us/sample - loss: 0.2642 - val_loss: 0.2500\n",
      "Epoch 134/200\n",
      "3463/3463 [==============================] - 0s 143us/sample - loss: 0.2633 - val_loss: 0.2467\n",
      "Epoch 135/200\n",
      "3463/3463 [==============================] - 0s 132us/sample - loss: 0.2633 - val_loss: 0.2378\n",
      "Epoch 136/200\n",
      "3463/3463 [==============================] - 0s 135us/sample - loss: 0.2616 - val_loss: 0.2406\n",
      "Epoch 137/200\n",
      "3463/3463 [==============================] - 0s 141us/sample - loss: 0.2616 - val_loss: 0.2490\n",
      "Epoch 138/200\n",
      "3463/3463 [==============================] - 0s 138us/sample - loss: 0.2596 - val_loss: 0.2529\n",
      "Epoch 139/200\n",
      "3463/3463 [==============================] - 0s 132us/sample - loss: 0.2595 - val_loss: 0.2505\n",
      "Epoch 140/200\n",
      "3463/3463 [==============================] - 0s 133us/sample - loss: 0.2590 - val_loss: 0.2351\n",
      "Epoch 141/200\n",
      "3463/3463 [==============================] - 0s 132us/sample - loss: 0.2582 - val_loss: 0.2419\n",
      "Epoch 142/200\n",
      "3463/3463 [==============================] - 0s 132us/sample - loss: 0.2578 - val_loss: 0.2452\n",
      "Epoch 143/200\n",
      "3463/3463 [==============================] - 0s 132us/sample - loss: 0.2569 - val_loss: 0.2327\n",
      "Epoch 144/200\n",
      "3463/3463 [==============================] - 0s 136us/sample - loss: 0.2564 - val_loss: 0.2367\n",
      "Epoch 145/200\n",
      "3463/3463 [==============================] - 0s 136us/sample - loss: 0.2556 - val_loss: 0.2330\n",
      "Epoch 146/200\n",
      "3463/3463 [==============================] - 0s 132us/sample - loss: 0.2553 - val_loss: 0.2387\n",
      "Epoch 147/200\n",
      "3463/3463 [==============================] - 0s 134us/sample - loss: 0.2544 - val_loss: 0.2432\n",
      "Epoch 148/200\n",
      "3463/3463 [==============================] - 0s 135us/sample - loss: 0.2533 - val_loss: 0.2298\n",
      "Epoch 149/200\n",
      "3463/3463 [==============================] - 0s 132us/sample - loss: 0.2531 - val_loss: 0.2307\n",
      "Epoch 150/200\n",
      "3463/3463 [==============================] - 0s 132us/sample - loss: 0.2532 - val_loss: 0.2450\n",
      "Epoch 151/200\n"
     ]
    },
    {
     "name": "stdout",
     "output_type": "stream",
     "text": [
      "3463/3463 [==============================] - 0s 131us/sample - loss: 0.2510 - val_loss: 0.2307\n",
      "Epoch 152/200\n",
      "3463/3463 [==============================] - 0s 131us/sample - loss: 0.2519 - val_loss: 0.2280\n",
      "Epoch 153/200\n",
      "3463/3463 [==============================] - 0s 131us/sample - loss: 0.2503 - val_loss: 0.2810\n",
      "Epoch 154/200\n",
      "3463/3463 [==============================] - 0s 131us/sample - loss: 0.2514 - val_loss: 0.2307\n",
      "Epoch 155/200\n",
      "3463/3463 [==============================] - 0s 131us/sample - loss: 0.2497 - val_loss: 0.2292\n",
      "Epoch 156/200\n",
      "3463/3463 [==============================] - 0s 130us/sample - loss: 0.2503 - val_loss: 0.2259\n",
      "Epoch 157/200\n",
      "3463/3463 [==============================] - 0s 131us/sample - loss: 0.2488 - val_loss: 0.2266\n",
      "Epoch 158/200\n",
      "3463/3463 [==============================] - 0s 130us/sample - loss: 0.2478 - val_loss: 0.2426\n",
      "Epoch 159/200\n",
      "3463/3463 [==============================] - 0s 131us/sample - loss: 0.2479 - val_loss: 0.2357\n",
      "Epoch 160/200\n",
      "3463/3463 [==============================] - 0s 131us/sample - loss: 0.2476 - val_loss: 0.2241\n",
      "Epoch 161/200\n",
      "3463/3463 [==============================] - 0s 131us/sample - loss: 0.2454 - val_loss: 0.2347\n",
      "Epoch 162/200\n",
      "3463/3463 [==============================] - 0s 131us/sample - loss: 0.2459 - val_loss: 0.2232\n",
      "Epoch 163/200\n",
      "3463/3463 [==============================] - 0s 131us/sample - loss: 0.2445 - val_loss: 0.2361\n",
      "Epoch 164/200\n",
      "3463/3463 [==============================] - 0s 131us/sample - loss: 0.2449 - val_loss: 0.2330\n",
      "Epoch 165/200\n",
      "3463/3463 [==============================] - 0s 131us/sample - loss: 0.2440 - val_loss: 0.2216\n",
      "Epoch 166/200\n",
      "3463/3463 [==============================] - 0s 130us/sample - loss: 0.2440 - val_loss: 0.2310\n",
      "Epoch 167/200\n",
      "3463/3463 [==============================] - 0s 131us/sample - loss: 0.2445 - val_loss: 0.2214\n",
      "Epoch 168/200\n",
      "3463/3463 [==============================] - 0s 130us/sample - loss: 0.2431 - val_loss: 0.2273\n",
      "Epoch 169/200\n",
      "3463/3463 [==============================] - 0s 131us/sample - loss: 0.2432 - val_loss: 0.2316\n",
      "Epoch 170/200\n",
      "3463/3463 [==============================] - 0s 131us/sample - loss: 0.2417 - val_loss: 0.2196\n",
      "Epoch 171/200\n",
      "3463/3463 [==============================] - 0s 131us/sample - loss: 0.2424 - val_loss: 0.2195\n",
      "Epoch 172/200\n",
      "3463/3463 [==============================] - 0s 131us/sample - loss: 0.2414 - val_loss: 0.2251\n",
      "Epoch 173/200\n",
      "3463/3463 [==============================] - 0s 130us/sample - loss: 0.2400 - val_loss: 0.2212\n",
      "Epoch 174/200\n",
      "3463/3463 [==============================] - 0s 131us/sample - loss: 0.2399 - val_loss: 0.2176\n",
      "Epoch 175/200\n",
      "3463/3463 [==============================] - 0s 130us/sample - loss: 0.2395 - val_loss: 0.2341\n",
      "Epoch 176/200\n",
      "3463/3463 [==============================] - 0s 130us/sample - loss: 0.2394 - val_loss: 0.2243\n",
      "Epoch 177/200\n",
      "3463/3463 [==============================] - 0s 130us/sample - loss: 0.2380 - val_loss: 0.2185\n",
      "Epoch 178/200\n",
      "3463/3463 [==============================] - 0s 131us/sample - loss: 0.2382 - val_loss: 0.2431\n",
      "Epoch 179/200\n",
      "3463/3463 [==============================] - 0s 131us/sample - loss: 0.2384 - val_loss: 0.2247\n",
      "Epoch 180/200\n",
      "3463/3463 [==============================] - 0s 132us/sample - loss: 0.2370 - val_loss: 0.2181\n",
      "Epoch 181/200\n",
      "3463/3463 [==============================] - 1s 147us/sample - loss: 0.2364 - val_loss: 0.2213\n",
      "Epoch 182/200\n",
      "3463/3463 [==============================] - 0s 141us/sample - loss: 0.2363 - val_loss: 0.2314\n",
      "Epoch 183/200\n",
      "3463/3463 [==============================] - 0s 136us/sample - loss: 0.2366 - val_loss: 0.2237\n",
      "Epoch 184/200\n",
      "3463/3463 [==============================] - 0s 133us/sample - loss: 0.2354 - val_loss: 0.2268\n",
      "Epoch 185/200\n",
      "3463/3463 [==============================] - 1s 164us/sample - loss: 0.2351 - val_loss: 0.2361\n",
      "Epoch 186/200\n",
      "3463/3463 [==============================] - 1s 147us/sample - loss: 0.2354 - val_loss: 0.2464\n",
      "Epoch 187/200\n",
      "3463/3463 [==============================] - 0s 136us/sample - loss: 0.2341 - val_loss: 0.2229\n",
      "Epoch 188/200\n",
      "3463/3463 [==============================] - 0s 130us/sample - loss: 0.2343 - val_loss: 0.2190\n",
      "Epoch 189/200\n",
      "3463/3463 [==============================] - 0s 129us/sample - loss: 0.2327 - val_loss: 0.2280\n",
      "Epoch 190/200\n",
      "3463/3463 [==============================] - 0s 128us/sample - loss: 0.2330 - val_loss: 0.2132\n",
      "Epoch 191/200\n",
      "3463/3463 [==============================] - 0s 130us/sample - loss: 0.2333 - val_loss: 0.2151\n",
      "Epoch 192/200\n",
      "3463/3463 [==============================] - 0s 140us/sample - loss: 0.2311 - val_loss: 0.2686\n",
      "Epoch 193/200\n",
      "3463/3463 [==============================] - 1s 159us/sample - loss: 0.2313 - val_loss: 0.2115\n",
      "Epoch 194/200\n",
      "3463/3463 [==============================] - 1s 171us/sample - loss: 0.2308 - val_loss: 0.2091\n",
      "Epoch 195/200\n",
      "3463/3463 [==============================] - 1s 165us/sample - loss: 0.2309 - val_loss: 0.2277\n",
      "Epoch 196/200\n",
      "3463/3463 [==============================] - 0s 134us/sample - loss: 0.2295 - val_loss: 0.2109\n",
      "Epoch 197/200\n",
      "3463/3463 [==============================] - 0s 128us/sample - loss: 0.2305 - val_loss: 0.2095\n",
      "Epoch 198/200\n",
      "3463/3463 [==============================] - 0s 130us/sample - loss: 0.2295 - val_loss: 0.2112\n",
      "Epoch 199/200\n",
      "3463/3463 [==============================] - 0s 129us/sample - loss: 0.2298 - val_loss: 0.2099\n",
      "Epoch 200/200\n",
      "3463/3463 [==============================] - 0s 129us/sample - loss: 0.2281 - val_loss: 0.2085\n"
     ]
    },
    {
     "data": {
      "text/plain": [
       "<tensorflow.python.keras.callbacks.History at 0x1a4db4d450>"
      ]
     },
     "execution_count": 110,
     "metadata": {},
     "output_type": "execute_result"
    }
   ],
   "source": [
    "model.fit(X_train,y_train, validation_data=(X_test,y_test), epochs=200, callbacks=[stop])"
   ]
  },
  {
   "cell_type": "markdown",
   "metadata": {},
   "source": [
    "## Plot below shows that the model preformed really well \n",
    "- There is also a good about of room to keep training since we made it to all 300 epochs"
   ]
  },
  {
   "cell_type": "code",
   "execution_count": 111,
   "metadata": {},
   "outputs": [
    {
     "data": {
      "text/plain": [
       "<matplotlib.axes._subplots.AxesSubplot at 0x1a4ef0df10>"
      ]
     },
     "execution_count": 111,
     "metadata": {},
     "output_type": "execute_result"
    },
    {
     "data": {
      "image/png": "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\n",
      "text/plain": [
       "<Figure size 1152x432 with 1 Axes>"
      ]
     },
     "metadata": {
      "needs_background": "light"
     },
     "output_type": "display_data"
    }
   ],
   "source": [
    "pd.DataFrame(model.history.history).plot(figsize = (16,6))"
   ]
  },
  {
   "cell_type": "code",
   "execution_count": null,
   "metadata": {},
   "outputs": [],
   "source": []
  },
  {
   "cell_type": "markdown",
   "metadata": {},
   "source": [
    "### Predictions \n",
    "- will use the model to make preditions on the Test data"
   ]
  },
  {
   "cell_type": "code",
   "execution_count": 112,
   "metadata": {},
   "outputs": [],
   "source": [
    "predictions = model.predict(X_test)"
   ]
  },
  {
   "cell_type": "markdown",
   "metadata": {},
   "source": [
    "### Metrics\n",
    "- Will use sklearn metrics to test the prediction accuracy for the data"
   ]
  },
  {
   "cell_type": "code",
   "execution_count": 113,
   "metadata": {},
   "outputs": [],
   "source": [
    "from sklearn.metrics import mean_absolute_error, mean_squared_error, explained_variance_score"
   ]
  },
  {
   "cell_type": "code",
   "execution_count": 114,
   "metadata": {},
   "outputs": [
    {
     "name": "stdout",
     "output_type": "stream",
     "text": [
      "0.8553957956986719\n"
     ]
    }
   ],
   "source": [
    "print(explained_variance_score(y_test, predictions))"
   ]
  },
  {
   "cell_type": "code",
   "execution_count": 115,
   "metadata": {},
   "outputs": [
    {
     "name": "stdout",
     "output_type": "stream",
     "text": [
      "0.3676470028832304\n"
     ]
    }
   ],
   "source": [
    "print(mean_absolute_error(y_test, predictions))"
   ]
  },
  {
   "cell_type": "code",
   "execution_count": 116,
   "metadata": {},
   "outputs": [
    {
     "name": "stdout",
     "output_type": "stream",
     "text": [
      "0.20853902969437155\n"
     ]
    }
   ],
   "source": [
    "print(mean_squared_error(y_test, predictions))"
   ]
  },
  {
   "cell_type": "code",
   "execution_count": 117,
   "metadata": {},
   "outputs": [
    {
     "data": {
      "text/plain": [
       "<matplotlib.collections.PathCollection at 0x111e2c8d0>"
      ]
     },
     "execution_count": 117,
     "metadata": {},
     "output_type": "execute_result"
    },
    {
     "data": {
      "image/png": "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\n",
      "text/plain": [
       "<Figure size 1152x432 with 1 Axes>"
      ]
     },
     "metadata": {
      "needs_background": "light"
     },
     "output_type": "display_data"
    }
   ],
   "source": [
    "plt.figure(figsize=(16,6))\n",
    "plt.scatter(y_test, predictions)"
   ]
  },
  {
   "cell_type": "markdown",
   "metadata": {},
   "source": [
    "### Testing in random Data "
   ]
  },
  {
   "cell_type": "code",
   "execution_count": 118,
   "metadata": {},
   "outputs": [],
   "source": [
    "from random import randint\n",
    "random_index = randint(1, len(working_data))\n",
    "random_day = working_data.drop(\"^TNX Adj Close\", axis=1).iloc[random_index]"
   ]
  },
  {
   "cell_type": "code",
   "execution_count": 119,
   "metadata": {},
   "outputs": [
    {
     "data": {
      "text/plain": [
       "^GSPC     1142.310059\n",
       "^DJI     10809.169922\n",
       "^IXIC     2373.129883\n",
       "^RUT       669.739990\n",
       "Name: 2010-09-28 00:00:00, dtype: float64"
      ]
     },
     "execution_count": 119,
     "metadata": {},
     "output_type": "execute_result"
    }
   ],
   "source": [
    "random_day"
   ]
  },
  {
   "cell_type": "code",
   "execution_count": 120,
   "metadata": {},
   "outputs": [],
   "source": [
    "random_day = scalar.transform(random_day.values.reshape(1,4))"
   ]
  },
  {
   "cell_type": "code",
   "execution_count": 121,
   "metadata": {},
   "outputs": [
    {
     "data": {
      "text/plain": [
       "array([[2.6834779]], dtype=float32)"
      ]
     },
     "execution_count": 121,
     "metadata": {},
     "output_type": "execute_result"
    }
   ],
   "source": [
    "model.predict(random_day)"
   ]
  },
  {
   "cell_type": "code",
   "execution_count": 122,
   "metadata": {},
   "outputs": [
    {
     "data": {
      "text/plain": [
       "^GSPC              1142.310059\n",
       "^DJI              10809.169922\n",
       "^IXIC              2373.129883\n",
       "^RUT                669.739990\n",
       "^TNX Adj Close        2.456000\n",
       "Name: 2010-09-28 00:00:00, dtype: float64"
      ]
     },
     "execution_count": 122,
     "metadata": {},
     "output_type": "execute_result"
    }
   ],
   "source": [
    "working_data.iloc[random_index]"
   ]
  },
  {
   "cell_type": "markdown",
   "metadata": {},
   "source": [
    "### Checking Today's Date"
   ]
  },
  {
   "cell_type": "code",
   "execution_count": 123,
   "metadata": {},
   "outputs": [],
   "source": [
    "toadys_index = working_data.index.argmax()"
   ]
  },
  {
   "cell_type": "code",
   "execution_count": 124,
   "metadata": {},
   "outputs": [
    {
     "data": {
      "text/plain": [
       "^GSPC              3464.899902\n",
       "^DJI              28409.650391\n",
       "^IXIC             11536.009766\n",
       "^RUT               1634.060059\n",
       "^TNX Adj Close        0.841000\n",
       "Name: 2020-10-23 00:00:00, dtype: float64"
      ]
     },
     "execution_count": 124,
     "metadata": {},
     "output_type": "execute_result"
    }
   ],
   "source": [
    "working_data.iloc[toadys_index]"
   ]
  },
  {
   "cell_type": "code",
   "execution_count": 125,
   "metadata": {},
   "outputs": [
    {
     "data": {
      "text/plain": [
       "(3463, 4)"
      ]
     },
     "execution_count": 125,
     "metadata": {},
     "output_type": "execute_result"
    }
   ],
   "source": [
    "X_train.shape"
   ]
  },
  {
   "cell_type": "code",
   "execution_count": 126,
   "metadata": {},
   "outputs": [
    {
     "data": {
      "text/plain": [
       "array([3.46489990e+03, 2.84096504e+04, 1.15360098e+04, 1.63406006e+03,\n",
       "       8.41000021e-01])"
      ]
     },
     "execution_count": 126,
     "metadata": {},
     "output_type": "execute_result"
    }
   ],
   "source": [
    "working_data.iloc[toadys_index].values"
   ]
  },
  {
   "cell_type": "markdown",
   "metadata": {},
   "source": [
    "##### we will need to reshape and scale the data since this is what the model was trained on"
   ]
  },
  {
   "cell_type": "code",
   "execution_count": 127,
   "metadata": {},
   "outputs": [],
   "source": [
    "todays_date_data = scalar.transform(working_data.drop(\"^TNX Adj Close\", axis = 1).iloc[toadys_index].values.reshape(1,4))"
   ]
  },
  {
   "cell_type": "markdown",
   "metadata": {},
   "source": [
    "## Model Prediction on the 10year\n",
    "- Model predicition for the most recent date in the data set\n",
    "- WE can see that the model is not too far off but could make some improvments\n",
    "- Below we wull add a 20 day moving average for the Capital markets as well as the upper and loer bounds of a bollinger band"
   ]
  },
  {
   "cell_type": "code",
   "execution_count": 128,
   "metadata": {},
   "outputs": [
    {
     "data": {
      "text/plain": [
       "array([[1.0398058]], dtype=float32)"
      ]
     },
     "execution_count": 128,
     "metadata": {},
     "output_type": "execute_result"
    }
   ],
   "source": [
    "model.predict(todays_date_data)"
   ]
  },
  {
   "cell_type": "code",
   "execution_count": null,
   "metadata": {},
   "outputs": [],
   "source": []
  },
  {
   "cell_type": "markdown",
   "metadata": {},
   "source": [
    "## Feature Generation\n",
    "- 20 day Rolling mean and Bollinger Band "
   ]
  },
  {
   "cell_type": "code",
   "execution_count": 129,
   "metadata": {},
   "outputs": [
    {
     "data": {
      "text/html": [
       "<div>\n",
       "<style scoped>\n",
       "    .dataframe tbody tr th:only-of-type {\n",
       "        vertical-align: middle;\n",
       "    }\n",
       "\n",
       "    .dataframe tbody tr th {\n",
       "        vertical-align: top;\n",
       "    }\n",
       "\n",
       "    .dataframe thead th {\n",
       "        text-align: right;\n",
       "    }\n",
       "</style>\n",
       "<table border=\"1\" class=\"dataframe\">\n",
       "  <thead>\n",
       "    <tr style=\"text-align: right;\">\n",
       "      <th></th>\n",
       "      <th>^GSPC</th>\n",
       "      <th>^DJI</th>\n",
       "      <th>^IXIC</th>\n",
       "      <th>^RUT</th>\n",
       "      <th>^TNX Adj Close</th>\n",
       "    </tr>\n",
       "    <tr>\n",
       "      <th>Date</th>\n",
       "      <th></th>\n",
       "      <th></th>\n",
       "      <th></th>\n",
       "      <th></th>\n",
       "      <th></th>\n",
       "    </tr>\n",
       "  </thead>\n",
       "  <tbody>\n",
       "    <tr>\n",
       "      <th>2001-01-02</th>\n",
       "      <td>NaN</td>\n",
       "      <td>NaN</td>\n",
       "      <td>NaN</td>\n",
       "      <td>NaN</td>\n",
       "      <td>NaN</td>\n",
       "    </tr>\n",
       "    <tr>\n",
       "      <th>2001-01-03</th>\n",
       "      <td>NaN</td>\n",
       "      <td>NaN</td>\n",
       "      <td>NaN</td>\n",
       "      <td>NaN</td>\n",
       "      <td>NaN</td>\n",
       "    </tr>\n",
       "    <tr>\n",
       "      <th>2001-01-04</th>\n",
       "      <td>NaN</td>\n",
       "      <td>NaN</td>\n",
       "      <td>NaN</td>\n",
       "      <td>NaN</td>\n",
       "      <td>NaN</td>\n",
       "    </tr>\n",
       "    <tr>\n",
       "      <th>2001-01-05</th>\n",
       "      <td>NaN</td>\n",
       "      <td>NaN</td>\n",
       "      <td>NaN</td>\n",
       "      <td>NaN</td>\n",
       "      <td>NaN</td>\n",
       "    </tr>\n",
       "    <tr>\n",
       "      <th>2001-01-08</th>\n",
       "      <td>NaN</td>\n",
       "      <td>NaN</td>\n",
       "      <td>NaN</td>\n",
       "      <td>NaN</td>\n",
       "      <td>NaN</td>\n",
       "    </tr>\n",
       "    <tr>\n",
       "      <th>...</th>\n",
       "      <td>...</td>\n",
       "      <td>...</td>\n",
       "      <td>...</td>\n",
       "      <td>...</td>\n",
       "      <td>...</td>\n",
       "    </tr>\n",
       "    <tr>\n",
       "      <th>2020-10-19</th>\n",
       "      <td>3391.051489</td>\n",
       "      <td>27922.271582</td>\n",
       "      <td>11275.374463</td>\n",
       "      <td>1559.740985</td>\n",
       "      <td>0.71445</td>\n",
       "    </tr>\n",
       "    <tr>\n",
       "      <th>2020-10-20</th>\n",
       "      <td>3398.741980</td>\n",
       "      <td>27960.328516</td>\n",
       "      <td>11321.458984</td>\n",
       "      <td>1564.073480</td>\n",
       "      <td>0.72075</td>\n",
       "    </tr>\n",
       "    <tr>\n",
       "      <th>2020-10-21</th>\n",
       "      <td>3405.949976</td>\n",
       "      <td>28015.344531</td>\n",
       "      <td>11354.313477</td>\n",
       "      <td>1570.687976</td>\n",
       "      <td>0.72835</td>\n",
       "    </tr>\n",
       "    <tr>\n",
       "      <th>2020-10-22</th>\n",
       "      <td>3411.869470</td>\n",
       "      <td>28054.535547</td>\n",
       "      <td>11383.120947</td>\n",
       "      <td>1576.086975</td>\n",
       "      <td>0.73695</td>\n",
       "    </tr>\n",
       "    <tr>\n",
       "      <th>2020-10-23</th>\n",
       "      <td>3423.807471</td>\n",
       "      <td>28139.213574</td>\n",
       "      <td>11432.370459</td>\n",
       "      <td>1585.247980</td>\n",
       "      <td>0.74570</td>\n",
       "    </tr>\n",
       "  </tbody>\n",
       "</table>\n",
       "<p>4948 rows × 5 columns</p>\n",
       "</div>"
      ],
      "text/plain": [
       "                  ^GSPC          ^DJI         ^IXIC         ^RUT  \\\n",
       "Date                                                               \n",
       "2001-01-02          NaN           NaN           NaN          NaN   \n",
       "2001-01-03          NaN           NaN           NaN          NaN   \n",
       "2001-01-04          NaN           NaN           NaN          NaN   \n",
       "2001-01-05          NaN           NaN           NaN          NaN   \n",
       "2001-01-08          NaN           NaN           NaN          NaN   \n",
       "...                 ...           ...           ...          ...   \n",
       "2020-10-19  3391.051489  27922.271582  11275.374463  1559.740985   \n",
       "2020-10-20  3398.741980  27960.328516  11321.458984  1564.073480   \n",
       "2020-10-21  3405.949976  28015.344531  11354.313477  1570.687976   \n",
       "2020-10-22  3411.869470  28054.535547  11383.120947  1576.086975   \n",
       "2020-10-23  3423.807471  28139.213574  11432.370459  1585.247980   \n",
       "\n",
       "            ^TNX Adj Close  \n",
       "Date                        \n",
       "2001-01-02             NaN  \n",
       "2001-01-03             NaN  \n",
       "2001-01-04             NaN  \n",
       "2001-01-05             NaN  \n",
       "2001-01-08             NaN  \n",
       "...                    ...  \n",
       "2020-10-19         0.71445  \n",
       "2020-10-20         0.72075  \n",
       "2020-10-21         0.72835  \n",
       "2020-10-22         0.73695  \n",
       "2020-10-23         0.74570  \n",
       "\n",
       "[4948 rows x 5 columns]"
      ]
     },
     "execution_count": 129,
     "metadata": {},
     "output_type": "execute_result"
    }
   ],
   "source": [
    "working_data.rolling(20).mean()"
   ]
  },
  {
   "cell_type": "code",
   "execution_count": 130,
   "metadata": {},
   "outputs": [
    {
     "data": {
      "text/plain": [
       "<matplotlib.axes._subplots.AxesSubplot at 0x1a4ca5d590>"
      ]
     },
     "execution_count": 130,
     "metadata": {},
     "output_type": "execute_result"
    },
    {
     "data": {
      "image/png": "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\n",
      "text/plain": [
       "<Figure size 432x288 with 1 Axes>"
      ]
     },
     "metadata": {
      "needs_background": "light"
     },
     "output_type": "display_data"
    }
   ],
   "source": [
    "working_data.rolling(20).mean().drop(\"^TNX Adj Close\", axis = 1).plot()"
   ]
  },
  {
   "cell_type": "markdown",
   "metadata": {},
   "source": [
    "### Adding the 15 day, 20 day moving average to the data set"
   ]
  },
  {
   "cell_type": "code",
   "execution_count": 131,
   "metadata": {},
   "outputs": [],
   "source": [
    "for t in list(working_data.columns):\n",
    "    working_data[f\"{t} 20day MA\"] = working_data[f\"{t}\"].rolling(20).mean()"
   ]
  },
  {
   "cell_type": "code",
   "execution_count": 132,
   "metadata": {},
   "outputs": [],
   "source": [
    "for x in ['^GSPC', '^DJI', '^IXIC', '^RUT']:\n",
    "    working_data[f\"{x} 15day  MA\"] = working_data[f\"{x}\"].rolling(15).mean()"
   ]
  },
  {
   "cell_type": "code",
   "execution_count": 133,
=======
   "execution_count": 23,
>>>>>>> 365249751834da7fffe48fb76d31f14c16bb07bd
   "metadata": {},
   "outputs": [
    {
     "data": {
      "text/html": [
       "<div>\n",
       "<style scoped>\n",
       "    .dataframe tbody tr th:only-of-type {\n",
       "        vertical-align: middle;\n",
       "    }\n",
       "\n",
       "    .dataframe tbody tr th {\n",
       "        vertical-align: top;\n",
       "    }\n",
       "\n",
       "    .dataframe thead th {\n",
       "        text-align: right;\n",
       "    }\n",
       "</style>\n",
       "<table border=\"1\" class=\"dataframe\">\n",
       "  <thead>\n",
       "    <tr style=\"text-align: right;\">\n",
       "      <th></th>\n",
       "      <th>^GSPC</th>\n",
       "      <th>^DJI</th>\n",
       "      <th>^IXIC</th>\n",
       "      <th>^RUT</th>\n",
<<<<<<< HEAD
       "      <th>^TNX Adj Close</th>\n",
=======
>>>>>>> 365249751834da7fffe48fb76d31f14c16bb07bd
       "      <th>^GSPC 20day MA</th>\n",
       "      <th>^DJI 20day MA</th>\n",
       "      <th>^IXIC 20day MA</th>\n",
       "      <th>^RUT 20day MA</th>\n",
<<<<<<< HEAD
       "      <th>^TNX Adj Close 20day MA</th>\n",
       "      <th>^GSPC 15day  MA</th>\n",
       "      <th>^DJI 15day  MA</th>\n",
       "      <th>^IXIC 15day  MA</th>\n",
       "      <th>^RUT 15day  MA</th>\n",
=======
       "      <th>^GSPC upper</th>\n",
       "      <th>^DJI upper</th>\n",
       "      <th>^IXIC upper</th>\n",
       "      <th>^RUT upper</th>\n",
       "      <th>^GSPC lower</th>\n",
       "      <th>^DJI lower</th>\n",
       "      <th>^IXIC lower</th>\n",
       "      <th>^RUT lower</th>\n",
       "      <th>TNX Adj Close</th>\n",
>>>>>>> 365249751834da7fffe48fb76d31f14c16bb07bd
       "    </tr>\n",
       "    <tr>\n",
       "      <th>Date</th>\n",
       "      <th></th>\n",
       "      <th></th>\n",
       "      <th></th>\n",
       "      <th></th>\n",
       "      <th></th>\n",
       "      <th></th>\n",
       "      <th></th>\n",
       "      <th></th>\n",
       "      <th></th>\n",
       "      <th></th>\n",
       "      <th></th>\n",
       "      <th></th>\n",
       "      <th></th>\n",
       "      <th></th>\n",
<<<<<<< HEAD
=======
       "      <th></th>\n",
       "      <th></th>\n",
       "      <th></th>\n",
>>>>>>> 365249751834da7fffe48fb76d31f14c16bb07bd
       "    </tr>\n",
       "  </thead>\n",
       "  <tbody>\n",
       "    <tr>\n",
<<<<<<< HEAD
       "      <th>2001-01-02</th>\n",
=======
       "      <td>2001-01-02</td>\n",
>>>>>>> 365249751834da7fffe48fb76d31f14c16bb07bd
       "      <td>1320.280029</td>\n",
       "      <td>10790.919922</td>\n",
       "      <td>2474.159912</td>\n",
       "      <td>483.549988</td>\n",
<<<<<<< HEAD
       "      <td>4.917</td>\n",
       "      <td>NaN</td>\n",
       "      <td>NaN</td>\n",
       "      <td>NaN</td>\n",
       "      <td>NaN</td>\n",
       "      <td>NaN</td>\n",
       "      <td>NaN</td>\n",
       "      <td>NaN</td>\n",
       "      <td>NaN</td>\n",
       "      <td>NaN</td>\n",
       "    </tr>\n",
       "    <tr>\n",
       "      <th>2001-01-03</th>\n",
=======
       "      <td>1330.939001</td>\n",
       "      <td>10652.161963</td>\n",
       "      <td>2662.785999</td>\n",
       "      <td>466.831001</td>\n",
       "      <td>1394.245083</td>\n",
       "      <td>10965.828597</td>\n",
       "      <td>3073.938160</td>\n",
       "      <td>493.652803</td>\n",
       "      <td>1267.632920</td>\n",
       "      <td>10338.495329</td>\n",
       "      <td>2251.633837</td>\n",
       "      <td>440.009200</td>\n",
       "      <td>4.917</td>\n",
       "    </tr>\n",
       "    <tr>\n",
       "      <td>2001-01-03</td>\n",
>>>>>>> 365249751834da7fffe48fb76d31f14c16bb07bd
       "      <td>1283.270020</td>\n",
       "      <td>10637.419922</td>\n",
       "      <td>2254.560059</td>\n",
       "      <td>462.489990</td>\n",
<<<<<<< HEAD
       "      <td>5.097</td>\n",
       "      <td>NaN</td>\n",
       "      <td>NaN</td>\n",
       "      <td>NaN</td>\n",
       "      <td>NaN</td>\n",
       "      <td>NaN</td>\n",
       "      <td>NaN</td>\n",
       "      <td>NaN</td>\n",
       "      <td>NaN</td>\n",
       "      <td>NaN</td>\n",
       "    </tr>\n",
       "    <tr>\n",
       "      <th>2001-01-04</th>\n",
=======
       "      <td>1329.343500</td>\n",
       "      <td>10665.166455</td>\n",
       "      <td>2642.385999</td>\n",
       "      <td>467.114001</td>\n",
       "      <td>1395.849470</td>\n",
       "      <td>10951.206395</td>\n",
       "      <td>3092.250105</td>\n",
       "      <td>493.608947</td>\n",
       "      <td>1262.837529</td>\n",
       "      <td>10379.126515</td>\n",
       "      <td>2192.521892</td>\n",
       "      <td>440.619056</td>\n",
       "      <td>5.097</td>\n",
       "    </tr>\n",
       "    <tr>\n",
       "      <td>2001-01-04</td>\n",
>>>>>>> 365249751834da7fffe48fb76d31f14c16bb07bd
       "      <td>1347.560059</td>\n",
       "      <td>10944.940430</td>\n",
       "      <td>2593.959961</td>\n",
       "      <td>484.390015</td>\n",
<<<<<<< HEAD
       "      <td>5.013</td>\n",
       "      <td>NaN</td>\n",
       "      <td>NaN</td>\n",
       "      <td>NaN</td>\n",
       "      <td>NaN</td>\n",
       "      <td>NaN</td>\n",
       "      <td>NaN</td>\n",
       "      <td>NaN</td>\n",
       "      <td>NaN</td>\n",
       "      <td>NaN</td>\n",
       "    </tr>\n",
       "    <tr>\n",
       "      <th>2001-01-05</th>\n",
=======
       "      <td>1330.473004</td>\n",
       "      <td>10683.574463</td>\n",
       "      <td>2636.947998</td>\n",
       "      <td>468.814001</td>\n",
       "      <td>1397.432001</td>\n",
       "      <td>10992.161664</td>\n",
       "      <td>3086.370458</td>\n",
       "      <td>495.153422</td>\n",
       "      <td>1263.514008</td>\n",
       "      <td>10374.987262</td>\n",
       "      <td>2187.525538</td>\n",
       "      <td>442.474581</td>\n",
       "      <td>5.013</td>\n",
       "    </tr>\n",
       "    <tr>\n",
       "      <td>2001-01-05</td>\n",
>>>>>>> 365249751834da7fffe48fb76d31f14c16bb07bd
       "      <td>1333.339966</td>\n",
       "      <td>10912.809570</td>\n",
       "      <td>2573.110107</td>\n",
       "      <td>477.200012</td>\n",
<<<<<<< HEAD
       "      <td>4.948</td>\n",
       "      <td>NaN</td>\n",
       "      <td>NaN</td>\n",
       "      <td>NaN</td>\n",
       "      <td>NaN</td>\n",
       "      <td>NaN</td>\n",
       "      <td>NaN</td>\n",
       "      <td>NaN</td>\n",
       "      <td>NaN</td>\n",
       "      <td>NaN</td>\n",
       "    </tr>\n",
       "    <tr>\n",
       "      <th>2001-01-08</th>\n",
=======
       "      <td>1328.313000</td>\n",
       "      <td>10684.407959</td>\n",
       "      <td>2621.659998</td>\n",
       "      <td>469.115501</td>\n",
       "      <td>1391.707164</td>\n",
       "      <td>10995.492537</td>\n",
       "      <td>3057.013962</td>\n",
       "      <td>495.705331</td>\n",
       "      <td>1264.918837</td>\n",
       "      <td>10373.323381</td>\n",
       "      <td>2186.306033</td>\n",
       "      <td>442.525672</td>\n",
       "      <td>4.948</td>\n",
       "    </tr>\n",
       "    <tr>\n",
       "      <td>2001-01-08</td>\n",
>>>>>>> 365249751834da7fffe48fb76d31f14c16bb07bd
       "      <td>1298.349976</td>\n",
       "      <td>10658.730469</td>\n",
       "      <td>2388.719971</td>\n",
       "      <td>463.140015</td>\n",
<<<<<<< HEAD
       "      <td>4.897</td>\n",
       "      <td>NaN</td>\n",
       "      <td>NaN</td>\n",
       "      <td>NaN</td>\n",
       "      <td>NaN</td>\n",
       "      <td>NaN</td>\n",
       "      <td>NaN</td>\n",
       "      <td>NaN</td>\n",
       "      <td>NaN</td>\n",
       "      <td>NaN</td>\n",
       "    </tr>\n",
       "    <tr>\n",
       "      <th>...</th>\n",
=======
       "      <td>1325.657501</td>\n",
       "      <td>10685.111475</td>\n",
       "      <td>2603.681494</td>\n",
       "      <td>469.095502</td>\n",
       "      <td>1389.417516</td>\n",
       "      <td>10995.881052</td>\n",
       "      <td>3046.648396</td>\n",
       "      <td>495.703584</td>\n",
       "      <td>1261.897487</td>\n",
       "      <td>10374.341897</td>\n",
       "      <td>2160.714592</td>\n",
       "      <td>442.487419</td>\n",
       "      <td>4.897</td>\n",
       "    </tr>\n",
       "    <tr>\n",
>>>>>>> 365249751834da7fffe48fb76d31f14c16bb07bd
       "      <td>...</td>\n",
       "      <td>...</td>\n",
       "      <td>...</td>\n",
       "      <td>...</td>\n",
       "      <td>...</td>\n",
       "      <td>...</td>\n",
       "      <td>...</td>\n",
       "      <td>...</td>\n",
       "      <td>...</td>\n",
       "      <td>...</td>\n",
       "      <td>...</td>\n",
       "      <td>...</td>\n",
       "      <td>...</td>\n",
       "      <td>...</td>\n",
<<<<<<< HEAD
       "    </tr>\n",
       "    <tr>\n",
       "      <th>2020-10-19</th>\n",
=======
       "      <td>...</td>\n",
       "      <td>...</td>\n",
       "      <td>...</td>\n",
       "      <td>...</td>\n",
       "    </tr>\n",
       "    <tr>\n",
       "      <td>2020-10-14</td>\n",
       "      <td>3515.469971</td>\n",
       "      <td>28731.300781</td>\n",
       "      <td>11889.070312</td>\n",
       "      <td>1637.969971</td>\n",
       "      <td>3374.780994</td>\n",
       "      <td>27832.424902</td>\n",
       "      <td>11172.250977</td>\n",
       "      <td>1546.718488</td>\n",
       "      <td>3544.703644</td>\n",
       "      <td>29048.884547</td>\n",
       "      <td>11948.317662</td>\n",
       "      <td>1673.335072</td>\n",
       "      <td>3204.858343</td>\n",
       "      <td>26615.965258</td>\n",
       "      <td>10396.184291</td>\n",
       "      <td>1420.101903</td>\n",
       "      <td>0.722</td>\n",
       "    </tr>\n",
       "    <tr>\n",
       "      <td>2020-10-15</td>\n",
       "      <td>3453.719971</td>\n",
       "      <td>28323.400391</td>\n",
       "      <td>11559.879883</td>\n",
       "      <td>1618.880005</td>\n",
       "      <td>3376.905493</td>\n",
       "      <td>27847.010449</td>\n",
       "      <td>11189.140967</td>\n",
       "      <td>1550.698987</td>\n",
       "      <td>3549.783711</td>\n",
       "      <td>29080.407353</td>\n",
       "      <td>11984.243796</td>\n",
       "      <td>1681.273245</td>\n",
       "      <td>3204.027275</td>\n",
       "      <td>26613.613546</td>\n",
       "      <td>10394.038137</td>\n",
       "      <td>1420.124729</td>\n",
       "      <td>0.731</td>\n",
       "    </tr>\n",
       "    <tr>\n",
       "      <td>2020-10-16</td>\n",
       "      <td>3493.500000</td>\n",
       "      <td>28570.720703</td>\n",
       "      <td>11761.830078</td>\n",
       "      <td>1638.479980</td>\n",
       "      <td>3384.237488</td>\n",
       "      <td>27883.837500</td>\n",
       "      <td>11237.429980</td>\n",
       "      <td>1555.115985</td>\n",
       "      <td>3564.049707</td>\n",
       "      <td>29158.901164</td>\n",
       "      <td>12049.148236</td>\n",
       "      <td>1691.459798</td>\n",
       "      <td>3204.425268</td>\n",
       "      <td>26608.773836</td>\n",
       "      <td>10425.711725</td>\n",
       "      <td>1418.772172</td>\n",
       "      <td>0.744</td>\n",
       "    </tr>\n",
       "    <tr>\n",
       "      <td>2020-10-19</td>\n",
>>>>>>> 365249751834da7fffe48fb76d31f14c16bb07bd
       "      <td>3493.659912</td>\n",
       "      <td>28633.550781</td>\n",
       "      <td>11732.339844</td>\n",
       "      <td>1636.839966</td>\n",
<<<<<<< HEAD
       "      <td>0.761</td>\n",
=======
>>>>>>> 365249751834da7fffe48fb76d31f14c16bb07bd
       "      <td>3391.051489</td>\n",
       "      <td>27922.271582</td>\n",
       "      <td>11275.374463</td>\n",
       "      <td>1559.740985</td>\n",
<<<<<<< HEAD
       "      <td>0.71445</td>\n",
       "      <td>3430.453320</td>\n",
       "      <td>28197.745443</td>\n",
       "      <td>11456.116667</td>\n",
       "      <td>1585.070646</td>\n",
       "    </tr>\n",
       "    <tr>\n",
       "      <th>2020-10-20</th>\n",
       "      <td>3439.379883</td>\n",
       "      <td>28245.849609</td>\n",
       "      <td>11531.830078</td>\n",
       "      <td>1620.569946</td>\n",
       "      <td>0.797</td>\n",
       "      <td>3398.741980</td>\n",
       "      <td>27960.328516</td>\n",
       "      <td>11321.458984</td>\n",
       "      <td>1564.073480</td>\n",
       "      <td>0.72075</td>\n",
       "      <td>3437.485319</td>\n",
       "      <td>28256.659375</td>\n",
       "      <td>11485.946680</td>\n",
       "      <td>1594.613306</td>\n",
       "    </tr>\n",
       "    <tr>\n",
       "      <th>2020-10-21</th>\n",
       "      <td>3439.909912</td>\n",
       "      <td>28270.660156</td>\n",
       "      <td>11530.389648</td>\n",
       "      <td>1618.339966</td>\n",
       "      <td>0.816</td>\n",
       "      <td>3405.949976</td>\n",
       "      <td>28015.344531</td>\n",
       "      <td>11354.313477</td>\n",
       "      <td>1570.687976</td>\n",
       "      <td>0.72835</td>\n",
       "      <td>3443.417985</td>\n",
       "      <td>28304.020703</td>\n",
       "      <td>11514.039323</td>\n",
       "      <td>1601.822640</td>\n",
       "    </tr>\n",
       "    <tr>\n",
       "      <th>2020-10-22</th>\n",
       "      <td>3438.500000</td>\n",
       "      <td>28197.419922</td>\n",
       "      <td>11526.969727</td>\n",
       "      <td>1604.949951</td>\n",
       "      <td>0.848</td>\n",
       "      <td>3411.869470</td>\n",
       "      <td>28054.535547</td>\n",
       "      <td>11383.120947</td>\n",
       "      <td>1576.086975</td>\n",
       "      <td>0.73695</td>\n",
       "      <td>3449.903988</td>\n",
       "      <td>28349.539323</td>\n",
       "      <td>11542.977279</td>\n",
       "      <td>1608.496639</td>\n",
       "    </tr>\n",
       "    <tr>\n",
       "      <th>2020-10-23</th>\n",
       "      <td>3464.899902</td>\n",
       "      <td>28409.650391</td>\n",
       "      <td>11536.009766</td>\n",
       "      <td>1634.060059</td>\n",
       "      <td>0.841</td>\n",
       "      <td>3423.807471</td>\n",
       "      <td>28139.213574</td>\n",
       "      <td>11432.370459</td>\n",
       "      <td>1585.247980</td>\n",
       "      <td>0.74570</td>\n",
       "      <td>3455.172640</td>\n",
       "      <td>28380.807292</td>\n",
       "      <td>11559.245247</td>\n",
       "      <td>1616.860645</td>\n",
       "    </tr>\n",
       "  </tbody>\n",
       "</table>\n",
       "<p>4948 rows × 14 columns</p>\n",
       "</div>"
      ],
      "text/plain": [
       "                  ^GSPC          ^DJI         ^IXIC         ^RUT  \\\n",
       "Date                                                               \n",
       "2001-01-02  1320.280029  10790.919922   2474.159912   483.549988   \n",
       "2001-01-03  1283.270020  10637.419922   2254.560059   462.489990   \n",
       "2001-01-04  1347.560059  10944.940430   2593.959961   484.390015   \n",
       "2001-01-05  1333.339966  10912.809570   2573.110107   477.200012   \n",
       "2001-01-08  1298.349976  10658.730469   2388.719971   463.140015   \n",
       "...                 ...           ...           ...          ...   \n",
       "2020-10-19  3493.659912  28633.550781  11732.339844  1636.839966   \n",
       "2020-10-20  3439.379883  28245.849609  11531.830078  1620.569946   \n",
       "2020-10-21  3439.909912  28270.660156  11530.389648  1618.339966   \n",
       "2020-10-22  3438.500000  28197.419922  11526.969727  1604.949951   \n",
       "2020-10-23  3464.899902  28409.650391  11536.009766  1634.060059   \n",
       "\n",
       "            ^TNX Adj Close  ^GSPC 20day MA  ^DJI 20day MA  ^IXIC 20day MA  \\\n",
       "Date                                                                        \n",
       "2001-01-02           4.917             NaN            NaN             NaN   \n",
       "2001-01-03           5.097             NaN            NaN             NaN   \n",
       "2001-01-04           5.013             NaN            NaN             NaN   \n",
       "2001-01-05           4.948             NaN            NaN             NaN   \n",
       "2001-01-08           4.897             NaN            NaN             NaN   \n",
       "...                    ...             ...            ...             ...   \n",
       "2020-10-19           0.761     3391.051489   27922.271582    11275.374463   \n",
       "2020-10-20           0.797     3398.741980   27960.328516    11321.458984   \n",
       "2020-10-21           0.816     3405.949976   28015.344531    11354.313477   \n",
       "2020-10-22           0.848     3411.869470   28054.535547    11383.120947   \n",
       "2020-10-23           0.841     3423.807471   28139.213574    11432.370459   \n",
       "\n",
       "            ^RUT 20day MA  ^TNX Adj Close 20day MA  ^GSPC 15day  MA  \\\n",
       "Date                                                                  \n",
       "2001-01-02            NaN                      NaN              NaN   \n",
       "2001-01-03            NaN                      NaN              NaN   \n",
       "2001-01-04            NaN                      NaN              NaN   \n",
       "2001-01-05            NaN                      NaN              NaN   \n",
       "2001-01-08            NaN                      NaN              NaN   \n",
       "...                   ...                      ...              ...   \n",
       "2020-10-19    1559.740985                  0.71445      3430.453320   \n",
       "2020-10-20    1564.073480                  0.72075      3437.485319   \n",
       "2020-10-21    1570.687976                  0.72835      3443.417985   \n",
       "2020-10-22    1576.086975                  0.73695      3449.903988   \n",
       "2020-10-23    1585.247980                  0.74570      3455.172640   \n",
       "\n",
       "            ^DJI 15day  MA  ^IXIC 15day  MA  ^RUT 15day  MA  \n",
       "Date                                                         \n",
       "2001-01-02             NaN              NaN             NaN  \n",
       "2001-01-03             NaN              NaN             NaN  \n",
       "2001-01-04             NaN              NaN             NaN  \n",
       "2001-01-05             NaN              NaN             NaN  \n",
       "2001-01-08             NaN              NaN             NaN  \n",
       "...                    ...              ...             ...  \n",
       "2020-10-19    28197.745443     11456.116667     1585.070646  \n",
       "2020-10-20    28256.659375     11485.946680     1594.613306  \n",
       "2020-10-21    28304.020703     11514.039323     1601.822640  \n",
       "2020-10-22    28349.539323     11542.977279     1608.496639  \n",
       "2020-10-23    28380.807292     11559.245247     1616.860645  \n",
       "\n",
       "[4948 rows x 14 columns]"
      ]
     },
     "execution_count": 133,
     "metadata": {},
     "output_type": "execute_result"
    }
   ],
   "source": [
    "working_data"
   ]
  },
  {
   "cell_type": "markdown",
   "metadata": {},
   "source": [
    "##  Dropping the 10 year MA, and nill values"
   ]
  },
  {
   "cell_type": "code",
   "execution_count": 134,
   "metadata": {},
   "outputs": [],
   "source": [
    "working_data.drop(\"^TNX Adj Close 20day MA\", axis=1, inplace=True)"
   ]
  },
  {
   "cell_type": "code",
   "execution_count": 135,
   "metadata": {},
   "outputs": [],
   "source": [
    "working_data.dropna(inplace=True)"
   ]
  },
  {
   "cell_type": "code",
   "execution_count": 136,
   "metadata": {},
   "outputs": [
    {
     "data": {
      "text/plain": [
       "^GSPC              0\n",
       "^DJI               0\n",
       "^IXIC              0\n",
       "^RUT               0\n",
       "^TNX Adj Close     0\n",
       "^GSPC 20day MA     0\n",
       "^DJI 20day MA      0\n",
       "^IXIC 20day MA     0\n",
       "^RUT 20day MA      0\n",
       "^GSPC 15day  MA    0\n",
       "^DJI 15day  MA     0\n",
       "^IXIC 15day  MA    0\n",
       "^RUT 15day  MA     0\n",
       "dtype: int64"
      ]
     },
     "execution_count": 136,
     "metadata": {},
     "output_type": "execute_result"
    }
   ],
   "source": [
    "working_data.isnull().sum()"
   ]
  },
  {
   "cell_type": "code",
   "execution_count": 137,
   "metadata": {},
   "outputs": [
    {
     "data": {
      "text/plain": [
       "<matplotlib.axes._subplots.AxesSubplot at 0x1a4e4f3910>"
      ]
     },
     "execution_count": 137,
     "metadata": {},
     "output_type": "execute_result"
    },
    {
     "data": {
      "image/png": "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\n",
      "text/plain": [
       "<Figure size 1152x432 with 1 Axes>"
      ]
     },
     "metadata": {
      "needs_background": "light"
     },
     "output_type": "display_data"
    }
   ],
   "source": [
    "working_data.plot(figsize = (16,6))"
   ]
  },
  {
   "cell_type": "markdown",
   "metadata": {},
   "source": [
    "## Recreating the model to see if there is any improvments"
   ]
  },
  {
   "cell_type": "code",
   "execution_count": 138,
   "metadata": {},
   "outputs": [],
   "source": [
    "X = working_data.drop(\"^TNX Adj Close\", axis=1).values\n",
    "y = working_data[\"^TNX Adj Close\"].values"
   ]
  },
  {
   "cell_type": "markdown",
   "metadata": {},
   "source": [
    "## Training Spliting "
   ]
  },
  {
   "cell_type": "code",
   "execution_count": 139,
   "metadata": {},
   "outputs": [],
   "source": [
    "X_train, X_test, y_train, y_test = train_test_split(X, y, test_size=0.30, random_state=42)"
   ]
  },
  {
   "cell_type": "code",
   "execution_count": 140,
   "metadata": {},
   "outputs": [],
   "source": [
    "X_train = scalar.fit_transform(X_train)"
   ]
  },
  {
   "cell_type": "code",
   "execution_count": 141,
   "metadata": {},
   "outputs": [],
   "source": [
    "X_test = scalar.transform(X_test)"
   ]
  },
  {
   "cell_type": "markdown",
   "metadata": {},
   "source": [
    "## Stopping\n",
    "- We will use the same early stopping callback as we used previously "
   ]
  },
  {
   "cell_type": "markdown",
   "metadata": {},
   "source": [
    "## creating the model "
   ]
  },
  {
   "cell_type": "code",
   "execution_count": 142,
   "metadata": {},
   "outputs": [
    {
     "data": {
      "text/plain": [
       "(3450, 12)"
      ]
     },
     "execution_count": 142,
=======
       "      <td>3576.808765</td>\n",
       "      <td>29240.536512</td>\n",
       "      <td>12105.867756</td>\n",
       "      <td>1700.741651</td>\n",
       "      <td>3205.294213</td>\n",
       "      <td>26604.006652</td>\n",
       "      <td>10444.881170</td>\n",
       "      <td>1418.740319</td>\n",
       "      <td>0.761</td>\n",
       "    </tr>\n",
       "    <tr>\n",
       "      <td>2020-10-20</td>\n",
       "      <td>3439.379883</td>\n",
       "      <td>28245.849609</td>\n",
       "      <td>11531.799805</td>\n",
       "      <td>1620.565430</td>\n",
       "      <td>3398.741980</td>\n",
       "      <td>27960.328516</td>\n",
       "      <td>11321.457471</td>\n",
       "      <td>1564.073254</td>\n",
       "      <td>3578.758831</td>\n",
       "      <td>29269.320361</td>\n",
       "      <td>12096.992531</td>\n",
       "      <td>1707.044111</td>\n",
       "      <td>3218.725129</td>\n",
       "      <td>26651.336670</td>\n",
       "      <td>10545.922410</td>\n",
       "      <td>1421.102398</td>\n",
       "      <td>0.786</td>\n",
       "    </tr>\n",
       "  </tbody>\n",
       "</table>\n",
       "<p>4945 rows × 17 columns</p>\n",
       "</div>"
      ],
      "text/plain": [
       "                  ^GSPC          ^DJI         ^IXIC         ^RUT  \\\n",
       "Date                                                               \n",
       "2001-01-02  1320.280029  10790.919922   2474.159912   483.549988   \n",
       "2001-01-03  1283.270020  10637.419922   2254.560059   462.489990   \n",
       "2001-01-04  1347.560059  10944.940430   2593.959961   484.390015   \n",
       "2001-01-05  1333.339966  10912.809570   2573.110107   477.200012   \n",
       "2001-01-08  1298.349976  10658.730469   2388.719971   463.140015   \n",
       "...                 ...           ...           ...          ...   \n",
       "2020-10-14  3515.469971  28731.300781  11889.070312  1637.969971   \n",
       "2020-10-15  3453.719971  28323.400391  11559.879883  1618.880005   \n",
       "2020-10-16  3493.500000  28570.720703  11761.830078  1638.479980   \n",
       "2020-10-19  3493.659912  28633.550781  11732.339844  1636.839966   \n",
       "2020-10-20  3439.379883  28245.849609  11531.799805  1620.565430   \n",
       "\n",
       "            ^GSPC 20day MA  ^DJI 20day MA  ^IXIC 20day MA  ^RUT 20day MA  \\\n",
       "Date                                                                       \n",
       "2001-01-02     1330.939001   10652.161963     2662.785999     466.831001   \n",
       "2001-01-03     1329.343500   10665.166455     2642.385999     467.114001   \n",
       "2001-01-04     1330.473004   10683.574463     2636.947998     468.814001   \n",
       "2001-01-05     1328.313000   10684.407959     2621.659998     469.115501   \n",
       "2001-01-08     1325.657501   10685.111475     2603.681494     469.095502   \n",
       "...                    ...            ...             ...            ...   \n",
       "2020-10-14     3374.780994   27832.424902    11172.250977    1546.718488   \n",
       "2020-10-15     3376.905493   27847.010449    11189.140967    1550.698987   \n",
       "2020-10-16     3384.237488   27883.837500    11237.429980    1555.115985   \n",
       "2020-10-19     3391.051489   27922.271582    11275.374463    1559.740985   \n",
       "2020-10-20     3398.741980   27960.328516    11321.457471    1564.073254   \n",
       "\n",
       "            ^GSPC upper    ^DJI upper   ^IXIC upper   ^RUT upper  ^GSPC lower  \\\n",
       "Date                                                                            \n",
       "2001-01-02  1394.245083  10965.828597   3073.938160   493.652803  1267.632920   \n",
       "2001-01-03  1395.849470  10951.206395   3092.250105   493.608947  1262.837529   \n",
       "2001-01-04  1397.432001  10992.161664   3086.370458   495.153422  1263.514008   \n",
       "2001-01-05  1391.707164  10995.492537   3057.013962   495.705331  1264.918837   \n",
       "2001-01-08  1389.417516  10995.881052   3046.648396   495.703584  1261.897487   \n",
       "...                 ...           ...           ...          ...          ...   \n",
       "2020-10-14  3544.703644  29048.884547  11948.317662  1673.335072  3204.858343   \n",
       "2020-10-15  3549.783711  29080.407353  11984.243796  1681.273245  3204.027275   \n",
       "2020-10-16  3564.049707  29158.901164  12049.148236  1691.459798  3204.425268   \n",
       "2020-10-19  3576.808765  29240.536512  12105.867756  1700.741651  3205.294213   \n",
       "2020-10-20  3578.758831  29269.320361  12096.992531  1707.044111  3218.725129   \n",
       "\n",
       "              ^DJI lower   ^IXIC lower   ^RUT lower  TNX Adj Close  \n",
       "Date                                                                \n",
       "2001-01-02  10338.495329   2251.633837   440.009200          4.917  \n",
       "2001-01-03  10379.126515   2192.521892   440.619056          5.097  \n",
       "2001-01-04  10374.987262   2187.525538   442.474581          5.013  \n",
       "2001-01-05  10373.323381   2186.306033   442.525672          4.948  \n",
       "2001-01-08  10374.341897   2160.714592   442.487419          4.897  \n",
       "...                  ...           ...          ...            ...  \n",
       "2020-10-14  26615.965258  10396.184291  1420.101903          0.722  \n",
       "2020-10-15  26613.613546  10394.038137  1420.124729          0.731  \n",
       "2020-10-16  26608.773836  10425.711725  1418.772172          0.744  \n",
       "2020-10-19  26604.006652  10444.881170  1418.740319          0.761  \n",
       "2020-10-20  26651.336670  10545.922410  1421.102398          0.786  \n",
       "\n",
       "[4945 rows x 17 columns]"
      ]
     },
     "execution_count": 23,
>>>>>>> 365249751834da7fffe48fb76d31f14c16bb07bd
     "metadata": {},
     "output_type": "execute_result"
    }
   ],
   "source": [
<<<<<<< HEAD
    "X_train.shape"
   ]
  },
  {
   "cell_type": "code",
   "execution_count": 143,
   "metadata": {},
   "outputs": [],
   "source": [
    "model = Sequential()\n",
    "model.add(Dense(units = 12, activation = \"relu\"))\n",
    "model.add(Dense(units = 12, activation = \"relu\"))\n",
    "model.add(Dense(units = 12, activation = \"relu\"))\n",
    "model.add(Dense(units = 12, activation = \"relu\"))\n",
    "model.add(Dense(units = 12, activation = \"relu\"))\n",
    "model.add(Dense(units = 12, activation = \"relu\"))\n",
    "model.add(Dense(units = 1))\n",
    "model.compile(optimizer = \"adam\", loss = \"mse\")"
=======
    "working_data"
>>>>>>> 365249751834da7fffe48fb76d31f14c16bb07bd
   ]
  },
  {
   "cell_type": "markdown",
   "metadata": {},
   "source": [
<<<<<<< HEAD
    "## fitting the model"
=======
    "### 10 Year activity over time\n",
    "- Since late 2009 ther has been a stedy decline in the 10 year yield"
>>>>>>> 365249751834da7fffe48fb76d31f14c16bb07bd
   ]
  },
  {
   "cell_type": "code",
<<<<<<< HEAD
   "execution_count": 144,
   "metadata": {},
   "outputs": [
    {
     "name": "stdout",
     "output_type": "stream",
     "text": [
      "Train on 3450 samples, validate on 1479 samples\n",
      "Epoch 1/250\n",
      "3450/3450 [==============================] - 2s 544us/sample - loss: 7.9514 - val_loss: 3.2605\n",
      "Epoch 2/250\n",
      "3450/3450 [==============================] - 0s 131us/sample - loss: 1.6421 - val_loss: 0.7599\n",
      "Epoch 3/250\n",
      "3450/3450 [==============================] - 0s 137us/sample - loss: 0.7041 - val_loss: 0.6497\n",
      "Epoch 4/250\n",
      "3450/3450 [==============================] - 0s 126us/sample - loss: 0.6280 - val_loss: 0.5599\n",
      "Epoch 5/250\n",
      "3450/3450 [==============================] - 0s 126us/sample - loss: 0.5148 - val_loss: 0.4728\n",
      "Epoch 6/250\n",
      "3450/3450 [==============================] - 0s 128us/sample - loss: 0.3756 - val_loss: 0.2960\n",
      "Epoch 7/250\n",
      "3450/3450 [==============================] - 0s 129us/sample - loss: 0.2635 - val_loss: 0.2075\n",
      "Epoch 8/250\n",
      "3450/3450 [==============================] - 0s 134us/sample - loss: 0.2135 - val_loss: 0.1706\n",
      "Epoch 9/250\n",
      "3450/3450 [==============================] - 0s 128us/sample - loss: 0.1889 - val_loss: 0.1654\n",
      "Epoch 10/250\n",
      "3450/3450 [==============================] - 0s 130us/sample - loss: 0.1779 - val_loss: 0.1501\n",
      "Epoch 11/250\n",
      "3450/3450 [==============================] - 0s 137us/sample - loss: 0.1660 - val_loss: 0.1405\n",
      "Epoch 12/250\n",
      "3450/3450 [==============================] - 0s 129us/sample - loss: 0.1567 - val_loss: 0.1366\n",
      "Epoch 13/250\n",
      "3450/3450 [==============================] - 0s 132us/sample - loss: 0.1499 - val_loss: 0.1368\n",
      "Epoch 14/250\n",
      "3450/3450 [==============================] - 0s 135us/sample - loss: 0.1469 - val_loss: 0.1282\n",
      "Epoch 15/250\n",
      "3450/3450 [==============================] - 0s 127us/sample - loss: 0.1428 - val_loss: 0.1194\n",
      "Epoch 16/250\n",
      "3450/3450 [==============================] - 0s 129us/sample - loss: 0.1296 - val_loss: 0.1162\n",
      "Epoch 17/250\n",
      "3450/3450 [==============================] - 0s 129us/sample - loss: 0.1326 - val_loss: 0.1229\n",
      "Epoch 18/250\n",
      "3450/3450 [==============================] - 0s 129us/sample - loss: 0.1246 - val_loss: 0.1103\n",
      "Epoch 19/250\n",
      "3450/3450 [==============================] - 0s 129us/sample - loss: 0.1212 - val_loss: 0.1261\n",
      "Epoch 20/250\n",
      "3450/3450 [==============================] - 0s 127us/sample - loss: 0.1195 - val_loss: 0.1056\n",
      "Epoch 21/250\n",
      "3450/3450 [==============================] - 0s 128us/sample - loss: 0.1135 - val_loss: 0.1107\n",
      "Epoch 22/250\n",
      "3450/3450 [==============================] - 0s 127us/sample - loss: 0.1104 - val_loss: 0.1114\n",
      "Epoch 23/250\n",
      "3450/3450 [==============================] - 0s 133us/sample - loss: 0.1095 - val_loss: 0.1050\n",
      "Epoch 24/250\n",
      "3450/3450 [==============================] - 0s 127us/sample - loss: 0.1106 - val_loss: 0.0983\n",
      "Epoch 25/250\n",
      "3450/3450 [==============================] - 0s 129us/sample - loss: 0.1040 - val_loss: 0.0991\n",
      "Epoch 26/250\n",
      "3450/3450 [==============================] - 0s 128us/sample - loss: 0.1012 - val_loss: 0.0939\n",
      "Epoch 27/250\n",
      "3450/3450 [==============================] - 0s 132us/sample - loss: 0.1023 - val_loss: 0.0937\n",
      "Epoch 28/250\n",
      "3450/3450 [==============================] - 0s 139us/sample - loss: 0.0990 - val_loss: 0.0889\n",
      "Epoch 29/250\n",
      "3450/3450 [==============================] - 0s 132us/sample - loss: 0.0977 - val_loss: 0.0916\n",
      "Epoch 30/250\n",
      "3450/3450 [==============================] - 0s 129us/sample - loss: 0.1021 - val_loss: 0.0941\n",
      "Epoch 31/250\n",
      "3450/3450 [==============================] - 0s 129us/sample - loss: 0.0976 - val_loss: 0.1049\n",
      "Epoch 32/250\n",
      "3450/3450 [==============================] - 0s 129us/sample - loss: 0.0953 - val_loss: 0.0901\n",
      "Epoch 33/250\n",
      "3450/3450 [==============================] - 0s 127us/sample - loss: 0.0948 - val_loss: 0.0850\n",
      "Epoch 34/250\n",
      "3450/3450 [==============================] - 0s 133us/sample - loss: 0.0910 - val_loss: 0.0833\n",
      "Epoch 35/250\n",
      "3450/3450 [==============================] - 0s 129us/sample - loss: 0.0898 - val_loss: 0.0882\n",
      "Epoch 36/250\n",
      "3450/3450 [==============================] - 0s 129us/sample - loss: 0.0889 - val_loss: 0.0843\n",
      "Epoch 37/250\n",
      "3450/3450 [==============================] - 0s 129us/sample - loss: 0.0909 - val_loss: 0.0855\n",
      "Epoch 38/250\n",
      "3450/3450 [==============================] - 0s 129us/sample - loss: 0.0910 - val_loss: 0.0886\n",
      "Epoch 39/250\n",
      "3450/3450 [==============================] - 0s 130us/sample - loss: 0.0893 - val_loss: 0.0900\n",
      "Epoch 40/250\n",
      "3450/3450 [==============================] - 0s 129us/sample - loss: 0.0910 - val_loss: 0.0841\n",
      "Epoch 41/250\n",
      "3450/3450 [==============================] - 0s 129us/sample - loss: 0.0892 - val_loss: 0.0823\n",
      "Epoch 42/250\n",
      "3450/3450 [==============================] - 0s 130us/sample - loss: 0.0876 - val_loss: 0.0817\n",
      "Epoch 43/250\n",
      "3450/3450 [==============================] - 0s 134us/sample - loss: 0.0873 - val_loss: 0.0850\n",
      "Epoch 44/250\n",
      "3450/3450 [==============================] - 0s 127us/sample - loss: 0.0874 - val_loss: 0.0834\n",
      "Epoch 45/250\n",
      "3450/3450 [==============================] - 0s 134us/sample - loss: 0.0913 - val_loss: 0.0922\n",
      "Epoch 46/250\n",
      "3450/3450 [==============================] - 0s 130us/sample - loss: 0.0875 - val_loss: 0.0826\n",
      "Epoch 47/250\n",
      "3450/3450 [==============================] - 0s 129us/sample - loss: 0.0852 - val_loss: 0.0940\n",
      "Epoch 48/250\n",
      "3450/3450 [==============================] - 0s 129us/sample - loss: 0.0871 - val_loss: 0.0785\n",
      "Epoch 49/250\n",
      "3450/3450 [==============================] - 0s 128us/sample - loss: 0.0831 - val_loss: 0.0801\n",
      "Epoch 50/250\n",
      "3450/3450 [==============================] - 0s 136us/sample - loss: 0.0847 - val_loss: 0.0800\n",
      "Epoch 51/250\n",
      "3450/3450 [==============================] - 0s 139us/sample - loss: 0.0845 - val_loss: 0.0821\n",
      "Epoch 52/250\n",
      "3450/3450 [==============================] - 0s 129us/sample - loss: 0.0850 - val_loss: 0.0838\n",
      "Epoch 53/250\n",
      "3450/3450 [==============================] - 0s 129us/sample - loss: 0.0823 - val_loss: 0.0757\n",
      "Epoch 54/250\n",
      "3450/3450 [==============================] - 0s 133us/sample - loss: 0.0866 - val_loss: 0.0793\n",
      "Epoch 55/250\n",
      "3450/3450 [==============================] - 0s 127us/sample - loss: 0.0844 - val_loss: 0.0801\n",
      "Epoch 56/250\n",
      "3450/3450 [==============================] - 0s 127us/sample - loss: 0.0823 - val_loss: 0.0773\n",
      "Epoch 57/250\n",
      "3450/3450 [==============================] - 0s 137us/sample - loss: 0.0886 - val_loss: 0.0939\n",
      "Epoch 58/250\n",
      "3450/3450 [==============================] - 0s 127us/sample - loss: 0.0853 - val_loss: 0.1032\n",
      "Epoch 59/250\n",
      "3450/3450 [==============================] - 0s 132us/sample - loss: 0.0880 - val_loss: 0.0831\n",
      "Epoch 60/250\n",
      "3450/3450 [==============================] - 0s 130us/sample - loss: 0.0838 - val_loss: 0.0850\n",
      "Epoch 61/250\n",
      "3450/3450 [==============================] - 0s 129us/sample - loss: 0.0813 - val_loss: 0.0759\n",
      "Epoch 62/250\n",
      "3450/3450 [==============================] - 0s 130us/sample - loss: 0.0816 - val_loss: 0.0772\n",
      "Epoch 63/250\n",
      "3450/3450 [==============================] - 0s 128us/sample - loss: 0.0835 - val_loss: 0.0799\n",
      "Epoch 64/250\n",
      "3450/3450 [==============================] - 0s 131us/sample - loss: 0.0811 - val_loss: 0.0780\n",
      "Epoch 65/250\n",
      "3450/3450 [==============================] - 0s 135us/sample - loss: 0.0793 - val_loss: 0.0818\n",
      "Epoch 66/250\n",
      "3450/3450 [==============================] - 0s 134us/sample - loss: 0.0801 - val_loss: 0.0728\n",
      "Epoch 67/250\n",
      "3450/3450 [==============================] - 0s 127us/sample - loss: 0.0791 - val_loss: 0.0777\n",
      "Epoch 68/250\n",
      "3450/3450 [==============================] - 0s 128us/sample - loss: 0.0797 - val_loss: 0.0786\n",
      "Epoch 69/250\n",
      "3450/3450 [==============================] - 0s 129us/sample - loss: 0.0776 - val_loss: 0.0761\n",
      "Epoch 70/250\n",
      "3450/3450 [==============================] - 0s 129us/sample - loss: 0.0781 - val_loss: 0.0735\n",
      "Epoch 71/250\n",
      "3450/3450 [==============================] - 0s 130us/sample - loss: 0.0785 - val_loss: 0.0715\n",
      "Epoch 72/250\n",
      "3450/3450 [==============================] - 0s 128us/sample - loss: 0.0788 - val_loss: 0.0745\n",
      "Epoch 73/250\n",
      "3450/3450 [==============================] - 0s 129us/sample - loss: 0.0783 - val_loss: 0.0788\n",
      "Epoch 74/250\n",
      "3450/3450 [==============================] - 0s 133us/sample - loss: 0.0778 - val_loss: 0.0771\n",
      "Epoch 75/250\n",
      "3450/3450 [==============================] - 0s 126us/sample - loss: 0.0769 - val_loss: 0.0717\n",
      "Epoch 76/250\n"
     ]
    },
    {
     "name": "stdout",
     "output_type": "stream",
     "text": [
      "3450/3450 [==============================] - 0s 128us/sample - loss: 0.0792 - val_loss: 0.0726\n",
      "Epoch 77/250\n",
      "3450/3450 [==============================] - 0s 128us/sample - loss: 0.0771 - val_loss: 0.0719\n",
      "Epoch 78/250\n",
      "3450/3450 [==============================] - 0s 126us/sample - loss: 0.0784 - val_loss: 0.0776\n",
      "Epoch 79/250\n",
      "3450/3450 [==============================] - 0s 127us/sample - loss: 0.0807 - val_loss: 0.0749\n",
      "Epoch 80/250\n",
      "3450/3450 [==============================] - 0s 127us/sample - loss: 0.0763 - val_loss: 0.0759\n",
      "Epoch 81/250\n",
      "3450/3450 [==============================] - 0s 127us/sample - loss: 0.0766 - val_loss: 0.0704\n",
      "Epoch 82/250\n",
      "3450/3450 [==============================] - 0s 126us/sample - loss: 0.0766 - val_loss: 0.0703\n",
      "Epoch 83/250\n",
      "3450/3450 [==============================] - 0s 126us/sample - loss: 0.0747 - val_loss: 0.0772\n",
      "Epoch 84/250\n",
      "3450/3450 [==============================] - 0s 127us/sample - loss: 0.0746 - val_loss: 0.0776\n",
      "Epoch 85/250\n",
      "3450/3450 [==============================] - 0s 127us/sample - loss: 0.0786 - val_loss: 0.0704\n",
      "Epoch 86/250\n",
      "3450/3450 [==============================] - 0s 134us/sample - loss: 0.0739 - val_loss: 0.0727\n",
      "Epoch 87/250\n",
      "3450/3450 [==============================] - 0s 126us/sample - loss: 0.0758 - val_loss: 0.0717\n",
      "Epoch 88/250\n",
      "3450/3450 [==============================] - 0s 127us/sample - loss: 0.0750 - val_loss: 0.0697\n",
      "Epoch 89/250\n",
      "3450/3450 [==============================] - 0s 127us/sample - loss: 0.0730 - val_loss: 0.0686\n",
      "Epoch 90/250\n",
      "3450/3450 [==============================] - 0s 126us/sample - loss: 0.0769 - val_loss: 0.0750\n",
      "Epoch 91/250\n",
      "3450/3450 [==============================] - 0s 126us/sample - loss: 0.0736 - val_loss: 0.0725\n",
      "Epoch 92/250\n",
      "3450/3450 [==============================] - 0s 126us/sample - loss: 0.0756 - val_loss: 0.0790\n",
      "Epoch 93/250\n",
      "3450/3450 [==============================] - 0s 126us/sample - loss: 0.0775 - val_loss: 0.0692\n",
      "Epoch 94/250\n",
      "3450/3450 [==============================] - 0s 128us/sample - loss: 0.0755 - val_loss: 0.0692\n",
      "Epoch 95/250\n",
      "3450/3450 [==============================] - 0s 133us/sample - loss: 0.0744 - val_loss: 0.0716\n",
      "Epoch 96/250\n",
      "3450/3450 [==============================] - 0s 127us/sample - loss: 0.0726 - val_loss: 0.0720\n",
      "Epoch 97/250\n",
      "3450/3450 [==============================] - 0s 126us/sample - loss: 0.0733 - val_loss: 0.0689\n",
      "Epoch 98/250\n",
      "3450/3450 [==============================] - 0s 127us/sample - loss: 0.0720 - val_loss: 0.0670\n",
      "Epoch 99/250\n",
      "3450/3450 [==============================] - 0s 126us/sample - loss: 0.0743 - val_loss: 0.0718\n",
      "Epoch 100/250\n",
      "3450/3450 [==============================] - 0s 127us/sample - loss: 0.0781 - val_loss: 0.0678\n",
      "Epoch 101/250\n",
      "3450/3450 [==============================] - 0s 126us/sample - loss: 0.0725 - val_loss: 0.0698\n",
      "Epoch 102/250\n",
      "3450/3450 [==============================] - 0s 128us/sample - loss: 0.0801 - val_loss: 0.0850\n",
      "Epoch 103/250\n",
      "3450/3450 [==============================] - 0s 135us/sample - loss: 0.0737 - val_loss: 0.0749\n",
      "Epoch 104/250\n",
      "3450/3450 [==============================] - 0s 135us/sample - loss: 0.0715 - val_loss: 0.0700\n",
      "Epoch 105/250\n",
      "3450/3450 [==============================] - 0s 132us/sample - loss: 0.0725 - val_loss: 0.0784\n",
      "Epoch 106/250\n",
      "3450/3450 [==============================] - 0s 134us/sample - loss: 0.0726 - val_loss: 0.0977\n",
      "Epoch 107/250\n",
      "3450/3450 [==============================] - 0s 126us/sample - loss: 0.0728 - val_loss: 0.0724\n",
      "Epoch 108/250\n",
      "3450/3450 [==============================] - 0s 126us/sample - loss: 0.0751 - val_loss: 0.0690\n",
      "Epoch 109/250\n",
      "3450/3450 [==============================] - 0s 127us/sample - loss: 0.0715 - val_loss: 0.0658\n",
      "Epoch 110/250\n",
      "3450/3450 [==============================] - 0s 126us/sample - loss: 0.0724 - val_loss: 0.0670\n",
      "Epoch 111/250\n",
      "3450/3450 [==============================] - 0s 126us/sample - loss: 0.0734 - val_loss: 0.0744\n",
      "Epoch 112/250\n",
      "3450/3450 [==============================] - 0s 133us/sample - loss: 0.0757 - val_loss: 0.0672\n",
      "Epoch 113/250\n",
      "3450/3450 [==============================] - 0s 127us/sample - loss: 0.0710 - val_loss: 0.0662\n",
      "Epoch 114/250\n",
      "3450/3450 [==============================] - 0s 128us/sample - loss: 0.0716 - val_loss: 0.0725\n",
      "Epoch 115/250\n",
      "3450/3450 [==============================] - 0s 133us/sample - loss: 0.0722 - val_loss: 0.0708\n",
      "Epoch 116/250\n",
      "3450/3450 [==============================] - 0s 127us/sample - loss: 0.0712 - val_loss: 0.0665\n",
      "Epoch 117/250\n",
      "3450/3450 [==============================] - 0s 127us/sample - loss: 0.0709 - val_loss: 0.0646\n",
      "Epoch 118/250\n",
      "3450/3450 [==============================] - 0s 126us/sample - loss: 0.0780 - val_loss: 0.0704\n",
      "Epoch 119/250\n",
      "3450/3450 [==============================] - 0s 126us/sample - loss: 0.0692 - val_loss: 0.0706\n",
      "Epoch 120/250\n",
      "3450/3450 [==============================] - 0s 128us/sample - loss: 0.0716 - val_loss: 0.0670\n",
      "Epoch 121/250\n",
      "3450/3450 [==============================] - 0s 128us/sample - loss: 0.0700 - val_loss: 0.0727\n",
      "Epoch 122/250\n",
      "3450/3450 [==============================] - 0s 128us/sample - loss: 0.0711 - val_loss: 0.0673\n",
      "Epoch 123/250\n",
      "3450/3450 [==============================] - 0s 128us/sample - loss: 0.0701 - val_loss: 0.0689\n",
      "Epoch 124/250\n",
      "3450/3450 [==============================] - 0s 134us/sample - loss: 0.0699 - val_loss: 0.0671\n",
      "Epoch 125/250\n",
      "3450/3450 [==============================] - 0s 130us/sample - loss: 0.0716 - val_loss: 0.0871\n",
      "Epoch 126/250\n",
      "3450/3450 [==============================] - 0s 137us/sample - loss: 0.0727 - val_loss: 0.0840\n",
      "Epoch 127/250\n",
      "3450/3450 [==============================] - 0s 139us/sample - loss: 0.0729 - val_loss: 0.0672\n",
      "Epoch 128/250\n",
      "3450/3450 [==============================] - 0s 129us/sample - loss: 0.0755 - val_loss: 0.0707\n",
      "Epoch 129/250\n",
      "3450/3450 [==============================] - 0s 128us/sample - loss: 0.0700 - val_loss: 0.0650\n",
      "Epoch 130/250\n",
      "3450/3450 [==============================] - 0s 132us/sample - loss: 0.0685 - val_loss: 0.0640\n",
      "Epoch 131/250\n",
      "3450/3450 [==============================] - 0s 127us/sample - loss: 0.0705 - val_loss: 0.0717\n",
      "Epoch 132/250\n",
      "3450/3450 [==============================] - 0s 127us/sample - loss: 0.0715 - val_loss: 0.0661\n",
      "Epoch 133/250\n",
      "3450/3450 [==============================] - 0s 135us/sample - loss: 0.0695 - val_loss: 0.0688\n",
      "Epoch 134/250\n",
      "3450/3450 [==============================] - 0s 127us/sample - loss: 0.0691 - val_loss: 0.0661\n",
      "Epoch 135/250\n",
      "3450/3450 [==============================] - 0s 127us/sample - loss: 0.0692 - val_loss: 0.0672\n",
      "Epoch 136/250\n",
      "3450/3450 [==============================] - 0s 127us/sample - loss: 0.0701 - val_loss: 0.0650\n",
      "Epoch 137/250\n",
      "3450/3450 [==============================] - 0s 127us/sample - loss: 0.0718 - val_loss: 0.0653\n",
      "Epoch 138/250\n",
      "3450/3450 [==============================] - 0s 128us/sample - loss: 0.0676 - val_loss: 0.0672\n",
      "Epoch 139/250\n",
      "3450/3450 [==============================] - 0s 128us/sample - loss: 0.0684 - val_loss: 0.0753\n",
      "Epoch 140/250\n",
      "3450/3450 [==============================] - 0s 128us/sample - loss: 0.0704 - val_loss: 0.0650\n",
      "Epoch 141/250\n",
      "3450/3450 [==============================] - 0s 127us/sample - loss: 0.0701 - val_loss: 0.0734\n",
      "Epoch 142/250\n",
      "3450/3450 [==============================] - 0s 127us/sample - loss: 0.0708 - val_loss: 0.0640\n",
      "Epoch 143/250\n",
      "3450/3450 [==============================] - 0s 127us/sample - loss: 0.0685 - val_loss: 0.0747\n",
      "Epoch 144/250\n",
      "3450/3450 [==============================] - 0s 138us/sample - loss: 0.0712 - val_loss: 0.0651\n",
      "Epoch 145/250\n",
      "3450/3450 [==============================] - 0s 127us/sample - loss: 0.0701 - val_loss: 0.0722\n",
      "Epoch 146/250\n",
      "3450/3450 [==============================] - 0s 128us/sample - loss: 0.0697 - val_loss: 0.0692\n",
      "Epoch 147/250\n",
      "3450/3450 [==============================] - 0s 127us/sample - loss: 0.0694 - val_loss: 0.0676\n",
      "Epoch 148/250\n",
      "3450/3450 [==============================] - 0s 127us/sample - loss: 0.0729 - val_loss: 0.0635\n",
      "Epoch 149/250\n",
      "3450/3450 [==============================] - 0s 127us/sample - loss: 0.0701 - val_loss: 0.0687\n",
      "Epoch 150/250\n",
      "3450/3450 [==============================] - 0s 127us/sample - loss: 0.0689 - val_loss: 0.0677\n",
      "Epoch 151/250\n"
     ]
    },
    {
     "name": "stdout",
     "output_type": "stream",
     "text": [
      "3450/3450 [==============================] - 0s 128us/sample - loss: 0.0684 - val_loss: 0.0702\n",
      "Epoch 152/250\n",
      "3450/3450 [==============================] - 0s 126us/sample - loss: 0.0703 - val_loss: 0.0660\n",
      "Epoch 153/250\n",
      "3450/3450 [==============================] - 0s 126us/sample - loss: 0.0671 - val_loss: 0.0666\n",
      "Epoch 154/250\n",
      "3450/3450 [==============================] - 0s 128us/sample - loss: 0.0691 - val_loss: 0.0668\n",
      "Epoch 155/250\n",
      "3450/3450 [==============================] - 0s 134us/sample - loss: 0.0690 - val_loss: 0.0662\n",
      "Epoch 156/250\n",
      "3450/3450 [==============================] - 0s 133us/sample - loss: 0.0670 - val_loss: 0.0650\n",
      "Epoch 157/250\n",
      "3450/3450 [==============================] - 0s 128us/sample - loss: 0.0682 - val_loss: 0.0652\n",
      "Epoch 158/250\n",
      "3450/3450 [==============================] - 1s 188us/sample - loss: 0.0656 - val_loss: 0.0690\n",
      "Epoch 159/250\n",
      "3450/3450 [==============================] - 1s 164us/sample - loss: 0.0681 - val_loss: 0.0683\n",
      "Epoch 160/250\n",
      "3450/3450 [==============================] - 0s 132us/sample - loss: 0.0689 - val_loss: 0.0645\n",
      "Epoch 161/250\n",
      "3450/3450 [==============================] - 1s 146us/sample - loss: 0.0691 - val_loss: 0.0723\n",
      "Epoch 162/250\n",
      "3450/3450 [==============================] - 0s 142us/sample - loss: 0.0706 - val_loss: 0.0629\n",
      "Epoch 163/250\n",
      "3450/3450 [==============================] - 0s 144us/sample - loss: 0.0679 - val_loss: 0.0682\n",
      "Epoch 164/250\n",
      "3450/3450 [==============================] - 0s 144us/sample - loss: 0.0687 - val_loss: 0.0632\n",
      "Epoch 165/250\n",
      "3450/3450 [==============================] - 1s 200us/sample - loss: 0.0693 - val_loss: 0.0647\n",
      "Epoch 166/250\n",
      "3450/3450 [==============================] - 1s 177us/sample - loss: 0.0673 - val_loss: 0.0647\n",
      "Epoch 167/250\n",
      "3450/3450 [==============================] - 1s 177us/sample - loss: 0.0674 - val_loss: 0.0690\n",
      "Epoch 168/250\n",
      "3450/3450 [==============================] - 1s 157us/sample - loss: 0.0701 - val_loss: 0.0715\n",
      "Epoch 169/250\n",
      "3450/3450 [==============================] - 1s 164us/sample - loss: 0.0688 - val_loss: 0.0710\n",
      "Epoch 170/250\n",
      "3450/3450 [==============================] - 1s 159us/sample - loss: 0.0682 - val_loss: 0.0627\n",
      "Epoch 171/250\n",
      "3450/3450 [==============================] - 1s 151us/sample - loss: 0.0702 - val_loss: 0.0785\n",
      "Epoch 172/250\n",
      "3450/3450 [==============================] - 1s 145us/sample - loss: 0.0699 - val_loss: 0.0798\n",
      "Epoch 173/250\n",
      "3450/3450 [==============================] - 0s 142us/sample - loss: 0.0674 - val_loss: 0.0625\n",
      "Epoch 174/250\n",
      "3450/3450 [==============================] - 0s 133us/sample - loss: 0.0694 - val_loss: 0.0658\n",
      "Epoch 175/250\n",
      "3450/3450 [==============================] - 0s 127us/sample - loss: 0.0677 - val_loss: 0.0617\n",
      "Epoch 176/250\n",
      "3450/3450 [==============================] - 0s 130us/sample - loss: 0.0663 - val_loss: 0.0645\n",
      "Epoch 177/250\n",
      "3450/3450 [==============================] - 0s 128us/sample - loss: 0.0703 - val_loss: 0.0664\n",
      "Epoch 178/250\n",
      "3450/3450 [==============================] - 0s 130us/sample - loss: 0.0676 - val_loss: 0.0631\n",
      "Epoch 179/250\n",
      "3450/3450 [==============================] - 0s 130us/sample - loss: 0.0659 - val_loss: 0.0644\n",
      "Epoch 180/250\n",
      "3450/3450 [==============================] - 0s 129us/sample - loss: 0.0663 - val_loss: 0.0689\n",
      "Epoch 181/250\n",
      "3450/3450 [==============================] - 0s 127us/sample - loss: 0.0649 - val_loss: 0.0644\n",
      "Epoch 182/250\n",
      "3450/3450 [==============================] - 0s 124us/sample - loss: 0.0651 - val_loss: 0.0649\n",
      "Epoch 183/250\n",
      "3450/3450 [==============================] - 0s 130us/sample - loss: 0.0676 - val_loss: 0.0668\n",
      "Epoch 184/250\n",
      "3450/3450 [==============================] - 0s 123us/sample - loss: 0.0670 - val_loss: 0.0646\n",
      "Epoch 185/250\n",
      "3450/3450 [==============================] - 0s 124us/sample - loss: 0.0678 - val_loss: 0.0630\n",
      "Epoch 186/250\n",
      "3450/3450 [==============================] - 0s 124us/sample - loss: 0.0696 - val_loss: 0.0642\n",
      "Epoch 187/250\n",
      "3450/3450 [==============================] - 0s 123us/sample - loss: 0.0709 - val_loss: 0.0659\n",
      "Epoch 188/250\n",
      "3450/3450 [==============================] - 0s 123us/sample - loss: 0.0663 - val_loss: 0.0654\n",
      "Epoch 189/250\n",
      "3450/3450 [==============================] - 0s 128us/sample - loss: 0.0666 - val_loss: 0.0680\n",
      "Epoch 190/250\n",
      "3450/3450 [==============================] - 0s 129us/sample - loss: 0.0653 - val_loss: 0.0795\n",
      "Epoch 191/250\n",
      "3450/3450 [==============================] - 0s 127us/sample - loss: 0.0676 - val_loss: 0.0626\n",
      "Epoch 192/250\n",
      "3450/3450 [==============================] - 0s 124us/sample - loss: 0.0655 - val_loss: 0.0688\n",
      "Epoch 193/250\n",
      "3450/3450 [==============================] - 0s 126us/sample - loss: 0.0724 - val_loss: 0.0633\n",
      "Epoch 194/250\n",
      "3450/3450 [==============================] - 0s 129us/sample - loss: 0.0661 - val_loss: 0.0613\n",
      "Epoch 195/250\n",
      "3450/3450 [==============================] - 0s 130us/sample - loss: 0.0633 - val_loss: 0.0617\n",
      "Epoch 196/250\n",
      "3450/3450 [==============================] - 0s 130us/sample - loss: 0.0649 - val_loss: 0.0622\n",
      "Epoch 197/250\n",
      "3450/3450 [==============================] - 0s 125us/sample - loss: 0.0655 - val_loss: 0.0656\n",
      "Epoch 198/250\n",
      "3450/3450 [==============================] - 0s 124us/sample - loss: 0.0679 - val_loss: 0.0725\n",
      "Epoch 199/250\n",
      "3450/3450 [==============================] - 0s 124us/sample - loss: 0.0652 - val_loss: 0.0648\n",
      "Epoch 200/250\n",
      "3450/3450 [==============================] - 0s 128us/sample - loss: 0.0663 - val_loss: 0.0655\n",
      "Epoch 201/250\n",
      "3450/3450 [==============================] - 0s 133us/sample - loss: 0.0643 - val_loss: 0.0632\n",
      "Epoch 202/250\n",
      "3450/3450 [==============================] - 0s 123us/sample - loss: 0.0658 - val_loss: 0.0646\n",
      "Epoch 203/250\n",
      "3450/3450 [==============================] - 0s 126us/sample - loss: 0.0682 - val_loss: 0.0809\n",
      "Epoch 204/250\n",
      "3450/3450 [==============================] - 0s 132us/sample - loss: 0.0668 - val_loss: 0.0728\n",
      "Epoch 205/250\n",
      "3450/3450 [==============================] - 0s 124us/sample - loss: 0.0678 - val_loss: 0.0615\n",
      "Epoch 206/250\n",
      "3450/3450 [==============================] - 0s 125us/sample - loss: 0.0662 - val_loss: 0.0673\n",
      "Epoch 207/250\n",
      "3450/3450 [==============================] - 0s 124us/sample - loss: 0.0669 - val_loss: 0.0609\n",
      "Epoch 208/250\n",
      "3450/3450 [==============================] - 0s 124us/sample - loss: 0.0638 - val_loss: 0.0629\n",
      "Epoch 209/250\n",
      "3450/3450 [==============================] - 0s 126us/sample - loss: 0.0634 - val_loss: 0.0612\n",
      "Epoch 210/250\n",
      "3450/3450 [==============================] - 0s 128us/sample - loss: 0.0657 - val_loss: 0.0752\n",
      "Epoch 211/250\n",
      "3450/3450 [==============================] - 0s 124us/sample - loss: 0.0668 - val_loss: 0.0612\n",
      "Epoch 212/250\n",
      "3450/3450 [==============================] - 0s 125us/sample - loss: 0.0645 - val_loss: 0.0676\n",
      "Epoch 213/250\n",
      "3450/3450 [==============================] - 0s 130us/sample - loss: 0.0647 - val_loss: 0.0612\n",
      "Epoch 214/250\n",
      "3450/3450 [==============================] - 0s 127us/sample - loss: 0.0659 - val_loss: 0.0618\n",
      "Epoch 215/250\n",
      "3450/3450 [==============================] - 0s 125us/sample - loss: 0.0668 - val_loss: 0.0618\n",
      "Epoch 216/250\n",
      "3450/3450 [==============================] - 0s 126us/sample - loss: 0.0639 - val_loss: 0.0607\n",
      "Epoch 217/250\n",
      "3450/3450 [==============================] - 0s 126us/sample - loss: 0.0658 - val_loss: 0.0670\n",
      "Epoch 218/250\n",
      "3450/3450 [==============================] - 0s 123us/sample - loss: 0.0632 - val_loss: 0.0707\n",
      "Epoch 219/250\n",
      "3450/3450 [==============================] - 0s 124us/sample - loss: 0.0699 - val_loss: 0.0678\n",
      "Epoch 220/250\n",
      "3450/3450 [==============================] - 0s 124us/sample - loss: 0.0663 - val_loss: 0.0646\n",
      "Epoch 221/250\n",
      "3450/3450 [==============================] - 0s 123us/sample - loss: 0.0657 - val_loss: 0.0617\n",
      "Epoch 222/250\n",
      "3450/3450 [==============================] - 0s 123us/sample - loss: 0.0646 - val_loss: 0.0649\n",
      "Epoch 223/250\n",
      "3450/3450 [==============================] - 0s 123us/sample - loss: 0.0626 - val_loss: 0.0617\n",
      "Epoch 224/250\n",
      "3450/3450 [==============================] - 0s 126us/sample - loss: 0.0646 - val_loss: 0.0849\n",
      "Epoch 225/250\n",
      "3450/3450 [==============================] - 0s 126us/sample - loss: 0.0650 - val_loss: 0.0596\n",
      "Epoch 226/250\n"
     ]
    },
    {
     "name": "stdout",
     "output_type": "stream",
     "text": [
      "3450/3450 [==============================] - 0s 123us/sample - loss: 0.0659 - val_loss: 0.0671\n",
      "Epoch 227/250\n",
      "3450/3450 [==============================] - 0s 124us/sample - loss: 0.0684 - val_loss: 0.0642\n",
      "Epoch 228/250\n",
      "3450/3450 [==============================] - 0s 123us/sample - loss: 0.0646 - val_loss: 0.0704\n",
      "Epoch 229/250\n",
      "3450/3450 [==============================] - 0s 125us/sample - loss: 0.0642 - val_loss: 0.0590\n",
      "Epoch 230/250\n",
      "3450/3450 [==============================] - 0s 124us/sample - loss: 0.0675 - val_loss: 0.0646\n",
      "Epoch 231/250\n",
      "3450/3450 [==============================] - 0s 123us/sample - loss: 0.0627 - val_loss: 0.0829\n",
      "Epoch 232/250\n",
      "3450/3450 [==============================] - 0s 136us/sample - loss: 0.0643 - val_loss: 0.0594\n",
      "Epoch 233/250\n",
      "3450/3450 [==============================] - 1s 199us/sample - loss: 0.0689 - val_loss: 0.0611\n",
      "Epoch 234/250\n",
      "3450/3450 [==============================] - 0s 143us/sample - loss: 0.0661 - val_loss: 0.0667\n",
      "Epoch 235/250\n",
      "3450/3450 [==============================] - 0s 127us/sample - loss: 0.0661 - val_loss: 0.0607\n",
      "Epoch 236/250\n",
      "3450/3450 [==============================] - 0s 129us/sample - loss: 0.0636 - val_loss: 0.0628\n",
      "Epoch 237/250\n",
      "3450/3450 [==============================] - 0s 130us/sample - loss: 0.0674 - val_loss: 0.0671\n",
      "Epoch 238/250\n",
      "3450/3450 [==============================] - 0s 130us/sample - loss: 0.0644 - val_loss: 0.0622\n",
      "Epoch 239/250\n",
      "3450/3450 [==============================] - 0s 128us/sample - loss: 0.0631 - val_loss: 0.0600\n",
      "Epoch 240/250\n",
      "3450/3450 [==============================] - 0s 125us/sample - loss: 0.0627 - val_loss: 0.0649\n",
      "Epoch 241/250\n",
      "3450/3450 [==============================] - 1s 160us/sample - loss: 0.0650 - val_loss: 0.0607\n",
      "Epoch 242/250\n",
      "3450/3450 [==============================] - 1s 164us/sample - loss: 0.0670 - val_loss: 0.0644\n",
      "Epoch 243/250\n",
      "3450/3450 [==============================] - 1s 168us/sample - loss: 0.0636 - val_loss: 0.0615\n",
      "Epoch 244/250\n",
      "3450/3450 [==============================] - 0s 130us/sample - loss: 0.0655 - val_loss: 0.0622\n",
      "Epoch 245/250\n",
      "3450/3450 [==============================] - 0s 126us/sample - loss: 0.0623 - val_loss: 0.0595\n",
      "Epoch 246/250\n",
      "3450/3450 [==============================] - 0s 128us/sample - loss: 0.0633 - val_loss: 0.0619\n",
      "Epoch 247/250\n",
      "3450/3450 [==============================] - 0s 134us/sample - loss: 0.0631 - val_loss: 0.0651\n",
      "Epoch 248/250\n",
      "3450/3450 [==============================] - 1s 178us/sample - loss: 0.0651 - val_loss: 0.0681\n",
      "Epoch 249/250\n",
      "3450/3450 [==============================] - 1s 150us/sample - loss: 0.0668 - val_loss: 0.0819\n"
     ]
    },
    {
     "data": {
      "text/plain": [
       "<tensorflow.python.keras.callbacks.History at 0x1a4f611290>"
      ]
     },
     "execution_count": 144,
     "metadata": {},
     "output_type": "execute_result"
    }
   ],
   "source": [
    "model.fit(X_train,y_train, validation_data=(X_test,y_test), epochs=250, callbacks=[stop])"
   ]
  },
  {
   "cell_type": "code",
   "execution_count": 145,
=======
   "execution_count": 24,
>>>>>>> 365249751834da7fffe48fb76d31f14c16bb07bd
   "metadata": {},
   "outputs": [
    {
     "data": {
      "text/plain": [
<<<<<<< HEAD
       "<matplotlib.axes._subplots.AxesSubplot at 0x1a4fd55fd0>"
      ]
     },
     "execution_count": 145,
=======
       "<matplotlib.axes._subplots.AxesSubplot at 0x1a1cc0b190>"
      ]
     },
     "execution_count": 24,
>>>>>>> 365249751834da7fffe48fb76d31f14c16bb07bd
     "metadata": {},
     "output_type": "execute_result"
    },
    {
     "data": {
<<<<<<< HEAD
      "image/png": "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\n",
=======
      "image/png": "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\n",
>>>>>>> 365249751834da7fffe48fb76d31f14c16bb07bd
      "text/plain": [
       "<Figure size 1152x432 with 1 Axes>"
      ]
     },
     "metadata": {
      "needs_background": "light"
     },
     "output_type": "display_data"
    }
   ],
   "source": [
<<<<<<< HEAD
    "pd.DataFrame(model.history.history).plot(figsize = (16,6))"
=======
    "working_data[\"TNX Adj Close\"].plot(figsize = (16,6))"
>>>>>>> 365249751834da7fffe48fb76d31f14c16bb07bd
   ]
  },
  {
   "cell_type": "markdown",
   "metadata": {},
   "source": [
<<<<<<< HEAD
    "## Checking Metrics"
=======
    "### Preparing the data for model\n",
    "- Separating X - > Features and y - > Target (TNX)"
>>>>>>> 365249751834da7fffe48fb76d31f14c16bb07bd
   ]
  },
  {
   "cell_type": "code",
<<<<<<< HEAD
   "execution_count": 146,
   "metadata": {},
   "outputs": [],
   "source": [
    "predict = model.predict(X_test)"
=======
   "execution_count": 25,
   "metadata": {},
   "outputs": [],
   "source": [
    "X = working_data.drop(\"TNX Adj Close\", axis= 1).values\n",
    "y = working_data[\"TNX Adj Close\"].values"
>>>>>>> 365249751834da7fffe48fb76d31f14c16bb07bd
   ]
  },
  {
   "cell_type": "code",
   "execution_count": 147,
   "metadata": {},
   "outputs": [
    {
     "name": "stdout",
     "output_type": "stream",
     "text": [
      "0.22750452920502306\n"
     ]
    }
   ],
   "source": [
<<<<<<< HEAD
    "print(mean_absolute_error(y_test, predict))"
=======
    "### Training testing and splitting"
   ]
  },
  {
   "cell_type": "code",
   "execution_count": 26,
   "metadata": {},
   "outputs": [],
   "source": [
    "from sklearn.model_selection import train_test_split"
>>>>>>> 365249751834da7fffe48fb76d31f14c16bb07bd
   ]
  },
  {
   "cell_type": "code",
<<<<<<< HEAD
   "execution_count": 148,
=======
   "execution_count": 27,
>>>>>>> 365249751834da7fffe48fb76d31f14c16bb07bd
   "metadata": {},
   "outputs": [
    {
     "name": "stdout",
     "output_type": "stream",
     "text": [
      "0.0818509755841951\n"
     ]
    }
   ],
   "source": [
    "print(mean_squared_error(y_test, predict))"
   ]
  },
  {
   "cell_type": "markdown",
   "metadata": {},
   "source": [
<<<<<<< HEAD
    "## WE see a great improvment in the explained verience score"
=======
    "## Scaling the data to a normal Distribution"
   ]
  },
  {
   "cell_type": "code",
   "execution_count": 28,
   "metadata": {},
   "outputs": [],
   "source": [
    "from sklearn.preprocessing import MinMaxScaler"
   ]
  },
  {
   "cell_type": "code",
   "execution_count": 29,
   "metadata": {},
   "outputs": [],
   "source": [
    "scalar = MinMaxScaler()"
   ]
  },
  {
   "cell_type": "code",
   "execution_count": 30,
   "metadata": {},
   "outputs": [],
   "source": [
    "X_train = scalar.fit_transform(X_train)"
>>>>>>> 365249751834da7fffe48fb76d31f14c16bb07bd
   ]
  },
  {
   "cell_type": "code",
<<<<<<< HEAD
   "execution_count": 149,
=======
   "execution_count": 31,
>>>>>>> 365249751834da7fffe48fb76d31f14c16bb07bd
   "metadata": {},
   "outputs": [
    {
     "name": "stdout",
     "output_type": "stream",
     "text": [
      "0.951764225979789\n"
     ]
    }
   ],
   "source": [
<<<<<<< HEAD
    "print(explained_variance_score(y_test, predict))"
   ]
  },
  {
   "cell_type": "markdown",
=======
    "X_test = scalar.transform(X_test)"
   ]
  },
  {
   "cell_type": "markdown",
   "metadata": {},
   "source": [
    "### Early Stopping Callback\n",
    "- Will use early stopping to prevent overtraining on the training data "
   ]
  },
  {
   "cell_type": "code",
   "execution_count": 32,
>>>>>>> 365249751834da7fffe48fb76d31f14c16bb07bd
   "metadata": {},
   "source": [
<<<<<<< HEAD
    "## Testing the Data on random dates "
=======
    "from tensorflow.keras.callbacks import EarlyStopping"
>>>>>>> 365249751834da7fffe48fb76d31f14c16bb07bd
   ]
  },
  {
   "cell_type": "code",
<<<<<<< HEAD
   "execution_count": 150,
   "metadata": {},
   "outputs": [],
   "source": [
    "rand_ind = randint(1, len(working_data))\n",
    "random_day = working_data.drop(\"^TNX Adj Close\", axis=1).iloc[rand_ind]"
=======
   "execution_count": 33,
   "metadata": {},
   "outputs": [],
   "source": [
    "stop = EarlyStopping(\"val_loss\", mode=\"min\", patience= 20)"
>>>>>>> 365249751834da7fffe48fb76d31f14c16bb07bd
   ]
  },
  {
   "cell_type": "markdown",
   "metadata": {},
   "source": [
<<<<<<< HEAD
    "## scaling the random data "
=======
    "## Creating the model"
   ]
  },
  {
   "cell_type": "code",
   "execution_count": 34,
   "metadata": {},
   "outputs": [],
   "source": [
    "from tensorflow.keras.models import Sequential\n",
    "from tensorflow.keras.layers import Dropout, Dense"
>>>>>>> 365249751834da7fffe48fb76d31f14c16bb07bd
   ]
  },
  {
   "cell_type": "code",
<<<<<<< HEAD
   "execution_count": 151,
   "metadata": {},
   "outputs": [],
   "source": [
    "random_day = scalar.transform(random_day.values.reshape(1,12))"
   ]
  },
  {
   "cell_type": "markdown",
   "metadata": {},
   "source": [
    "## True value"
=======
   "execution_count": 35,
   "metadata": {},
   "outputs": [],
   "source": [
    "model = Sequential()\n",
    "model.add(Dense(units = 4, activation = \"relu\"))\n",
    "model.add(Dense(units = 4, activation = \"relu\"))\n",
    "model.add(Dense(units = 4, activation = \"relu\"))\n",
    "model.add(Dense(units = 4, activation = \"relu\"))\n",
    "model.add(Dense(units = 4, activation = \"relu\"))\n",
    "model.add(Dense(units = 1))\n",
    "model.compile(activation = 'adam', loss = \"mse\")"
>>>>>>> 365249751834da7fffe48fb76d31f14c16bb07bd
   ]
  },
  {
   "cell_type": "code",
<<<<<<< HEAD
   "execution_count": 152,
   "metadata": {},
   "outputs": [
    {
=======
   "execution_count": 36,
   "metadata": {},
   "outputs": [
    {
     "name": "stdout",
     "output_type": "stream",
     "text": [
      "Train on 3461 samples, validate on 1484 samples\n",
      "Epoch 1/350\n",
      "3461/3461 [==============================] - 3s 881us/sample - loss: 10.7393 - val_loss: 10.1835\n",
      "Epoch 2/350\n",
      "3461/3461 [==============================] - 1s 182us/sample - loss: 8.0986 - val_loss: 6.2236\n",
      "Epoch 3/350\n",
      "3461/3461 [==============================] - 1s 175us/sample - loss: 4.0303 - val_loss: 2.8743\n",
      "Epoch 4/350\n",
      "3461/3461 [==============================] - 1s 177us/sample - loss: 2.3029 - val_loss: 1.9740\n",
      "Epoch 5/350\n",
      "3461/3461 [==============================] - 1s 190us/sample - loss: 1.7383 - val_loss: 1.6036\n",
      "Epoch 6/350\n",
      "3461/3461 [==============================] - 1s 181us/sample - loss: 1.4955 - val_loss: 1.4162\n",
      "Epoch 7/350\n",
      "3461/3461 [==============================] - 1s 196us/sample - loss: 1.3272 - val_loss: 1.2624\n",
      "Epoch 8/350\n",
      "3461/3461 [==============================] - 1s 183us/sample - loss: 1.2256 - val_loss: 1.1808\n",
      "Epoch 9/350\n",
      "3461/3461 [==============================] - 1s 185us/sample - loss: 1.1354 - val_loss: 1.0637\n",
      "Epoch 10/350\n",
      "3461/3461 [==============================] - 1s 185us/sample - loss: 1.0330 - val_loss: 0.9423\n",
      "Epoch 11/350\n",
      "3461/3461 [==============================] - 1s 180us/sample - loss: 0.9253 - val_loss: 0.8334\n",
      "Epoch 12/350\n",
      "3461/3461 [==============================] - 1s 187us/sample - loss: 0.8263 - val_loss: 0.7758\n",
      "Epoch 13/350\n",
      "3461/3461 [==============================] - 1s 220us/sample - loss: 0.7485 - val_loss: 0.6778\n",
      "Epoch 14/350\n",
      "3461/3461 [==============================] - 1s 184us/sample - loss: 0.7015 - val_loss: 0.6393\n",
      "Epoch 15/350\n",
      "3461/3461 [==============================] - 1s 182us/sample - loss: 0.6761 - val_loss: 0.6189\n",
      "Epoch 16/350\n",
      "3461/3461 [==============================] - 1s 181us/sample - loss: 0.6632 - val_loss: 0.6094\n",
      "Epoch 17/350\n",
      "3461/3461 [==============================] - 1s 180us/sample - loss: 0.6540 - val_loss: 0.6187\n",
      "Epoch 18/350\n",
      "3461/3461 [==============================] - 1s 181us/sample - loss: 0.6467 - val_loss: 0.5981\n",
      "Epoch 19/350\n",
      "3461/3461 [==============================] - 1s 187us/sample - loss: 0.6413 - val_loss: 0.5923\n",
      "Epoch 20/350\n",
      "3461/3461 [==============================] - 1s 184us/sample - loss: 0.6334 - val_loss: 0.5836\n",
      "Epoch 21/350\n",
      "3461/3461 [==============================] - 1s 191us/sample - loss: 0.6265 - val_loss: 0.5753\n",
      "Epoch 22/350\n",
      "3461/3461 [==============================] - 1s 193us/sample - loss: 0.6182 - val_loss: 0.5747\n",
      "Epoch 23/350\n",
      "3461/3461 [==============================] - 1s 215us/sample - loss: 0.6083 - val_loss: 0.5772\n",
      "Epoch 24/350\n",
      "3461/3461 [==============================] - 1s 187us/sample - loss: 0.5975 - val_loss: 0.5678\n",
      "Epoch 25/350\n",
      "3461/3461 [==============================] - 1s 183us/sample - loss: 0.5890 - val_loss: 0.5478\n",
      "Epoch 26/350\n",
      "3461/3461 [==============================] - 1s 181us/sample - loss: 0.5820 - val_loss: 0.5444\n",
      "Epoch 27/350\n",
      "3461/3461 [==============================] - 1s 181us/sample - loss: 0.5723 - val_loss: 0.5316\n",
      "Epoch 28/350\n",
      "3461/3461 [==============================] - 1s 182us/sample - loss: 0.5632 - val_loss: 0.5272\n",
      "Epoch 29/350\n",
      "3461/3461 [==============================] - 1s 181us/sample - loss: 0.5549 - val_loss: 0.5123\n",
      "Epoch 30/350\n",
      "3461/3461 [==============================] - 1s 180us/sample - loss: 0.5438 - val_loss: 0.5042\n",
      "Epoch 31/350\n",
      "3461/3461 [==============================] - 1s 182us/sample - loss: 0.5338 - val_loss: 0.4962\n",
      "Epoch 32/350\n",
      "3461/3461 [==============================] - 1s 182us/sample - loss: 0.5240 - val_loss: 0.4842\n",
      "Epoch 33/350\n",
      "3461/3461 [==============================] - 1s 182us/sample - loss: 0.5137 - val_loss: 0.4716\n",
      "Epoch 34/350\n",
      "3461/3461 [==============================] - 1s 182us/sample - loss: 0.5014 - val_loss: 0.4632\n",
      "Epoch 35/350\n",
      "3461/3461 [==============================] - 1s 182us/sample - loss: 0.4918 - val_loss: 0.4566\n",
      "Epoch 36/350\n",
      "3461/3461 [==============================] - 1s 183us/sample - loss: 0.4808 - val_loss: 0.4593\n",
      "Epoch 37/350\n",
      "3461/3461 [==============================] - 1s 186us/sample - loss: 0.4730 - val_loss: 0.4456\n",
      "Epoch 38/350\n",
      "3461/3461 [==============================] - 1s 182us/sample - loss: 0.4619 - val_loss: 0.4312\n",
      "Epoch 39/350\n",
      "3461/3461 [==============================] - 1s 180us/sample - loss: 0.4529 - val_loss: 0.4226\n",
      "Epoch 40/350\n",
      "3461/3461 [==============================] - 1s 181us/sample - loss: 0.4422 - val_loss: 0.4176\n",
      "Epoch 41/350\n",
      "3461/3461 [==============================] - 1s 200us/sample - loss: 0.4349 - val_loss: 0.4197\n",
      "Epoch 42/350\n",
      "3461/3461 [==============================] - 1s 215us/sample - loss: 0.4270 - val_loss: 0.4052\n",
      "Epoch 43/350\n",
      "3461/3461 [==============================] - 1s 181us/sample - loss: 0.4216 - val_loss: 0.3863\n",
      "Epoch 44/350\n",
      "3461/3461 [==============================] - 1s 190us/sample - loss: 0.4145 - val_loss: 0.3925\n",
      "Epoch 45/350\n",
      "3461/3461 [==============================] - 1s 179us/sample - loss: 0.4090 - val_loss: 0.3760\n",
      "Epoch 46/350\n",
      "3461/3461 [==============================] - 1s 180us/sample - loss: 0.4033 - val_loss: 0.3717\n",
      "Epoch 47/350\n",
      "3461/3461 [==============================] - 1s 179us/sample - loss: 0.3977 - val_loss: 0.3670\n",
      "Epoch 48/350\n",
      "3461/3461 [==============================] - 1s 180us/sample - loss: 0.3944 - val_loss: 0.3595\n",
      "Epoch 49/350\n",
      "3461/3461 [==============================] - 1s 181us/sample - loss: 0.3909 - val_loss: 0.3544\n",
      "Epoch 50/350\n",
      "3461/3461 [==============================] - 1s 181us/sample - loss: 0.3851 - val_loss: 0.3500\n",
      "Epoch 51/350\n",
      "3461/3461 [==============================] - 1s 182us/sample - loss: 0.3812 - val_loss: 0.3460\n",
      "Epoch 52/350\n",
      "3461/3461 [==============================] - 1s 180us/sample - loss: 0.3761 - val_loss: 0.3406\n",
      "Epoch 53/350\n",
      "3461/3461 [==============================] - 1s 182us/sample - loss: 0.3726 - val_loss: 0.3390\n",
      "Epoch 54/350\n",
      "3461/3461 [==============================] - 1s 178us/sample - loss: 0.3665 - val_loss: 0.3359\n",
      "Epoch 55/350\n",
      "3461/3461 [==============================] - 1s 191us/sample - loss: 0.3624 - val_loss: 0.3281\n",
      "Epoch 56/350\n",
      "3461/3461 [==============================] - 1s 183us/sample - loss: 0.3577 - val_loss: 0.3284\n",
      "Epoch 57/350\n",
      "3461/3461 [==============================] - 1s 197us/sample - loss: 0.3545 - val_loss: 0.3259\n",
      "Epoch 58/350\n",
      "3461/3461 [==============================] - 1s 192us/sample - loss: 0.3526 - val_loss: 0.3201\n",
      "Epoch 59/350\n",
      "3461/3461 [==============================] - 1s 188us/sample - loss: 0.3492 - val_loss: 0.3192\n",
      "Epoch 60/350\n",
      "3461/3461 [==============================] - 1s 182us/sample - loss: 0.3478 - val_loss: 0.3160\n",
      "Epoch 61/350\n",
      "3461/3461 [==============================] - 1s 184us/sample - loss: 0.3449 - val_loss: 0.3275\n",
      "Epoch 62/350\n",
      "3461/3461 [==============================] - 1s 197us/sample - loss: 0.3427 - val_loss: 0.3202\n",
      "Epoch 63/350\n",
      "3461/3461 [==============================] - 1s 182us/sample - loss: 0.3409 - val_loss: 0.3175\n",
      "Epoch 64/350\n",
      "3461/3461 [==============================] - 1s 180us/sample - loss: 0.3395 - val_loss: 0.3113\n",
      "Epoch 65/350\n",
      "3461/3461 [==============================] - 1s 195us/sample - loss: 0.3370 - val_loss: 0.3131\n",
      "Epoch 66/350\n",
      "3461/3461 [==============================] - 1s 184us/sample - loss: 0.3352 - val_loss: 0.3102\n",
      "Epoch 67/350\n",
      "3461/3461 [==============================] - 1s 185us/sample - loss: 0.3329 - val_loss: 0.3098\n",
      "Epoch 68/350\n",
      "3461/3461 [==============================] - 1s 183us/sample - loss: 0.3325 - val_loss: 0.3223\n",
      "Epoch 69/350\n",
      "3461/3461 [==============================] - 1s 188us/sample - loss: 0.3310 - val_loss: 0.3077\n",
      "Epoch 70/350\n",
      "3461/3461 [==============================] - 1s 190us/sample - loss: 0.3291 - val_loss: 0.3025\n",
      "Epoch 71/350\n",
      "3461/3461 [==============================] - 1s 186us/sample - loss: 0.3286 - val_loss: 0.3053\n",
      "Epoch 72/350\n",
      "3461/3461 [==============================] - 1s 212us/sample - loss: 0.3267 - val_loss: 0.3171\n",
      "Epoch 73/350\n",
      "3461/3461 [==============================] - 1s 198us/sample - loss: 0.3265 - val_loss: 0.3010\n",
      "Epoch 74/350\n",
      "3461/3461 [==============================] - 1s 192us/sample - loss: 0.3250 - val_loss: 0.3013\n",
      "Epoch 75/350\n",
      "3461/3461 [==============================] - 1s 213us/sample - loss: 0.3236 - val_loss: 0.3037\n",
      "Epoch 76/350\n"
     ]
    },
    {
     "name": "stdout",
     "output_type": "stream",
     "text": [
      "3461/3461 [==============================] - 1s 212us/sample - loss: 0.3234 - val_loss: 0.2973\n",
      "Epoch 77/350\n",
      "3461/3461 [==============================] - 1s 193us/sample - loss: 0.3214 - val_loss: 0.3027\n",
      "Epoch 78/350\n",
      "3461/3461 [==============================] - 1s 188us/sample - loss: 0.3209 - val_loss: 0.3196\n",
      "Epoch 79/350\n",
      "3461/3461 [==============================] - 1s 188us/sample - loss: 0.3203 - val_loss: 0.3001\n",
      "Epoch 80/350\n",
      "3461/3461 [==============================] - 1s 188us/sample - loss: 0.3193 - val_loss: 0.2946\n",
      "Epoch 81/350\n",
      "3461/3461 [==============================] - 1s 183us/sample - loss: 0.3183 - val_loss: 0.3073\n",
      "Epoch 82/350\n",
      "3461/3461 [==============================] - 1s 190us/sample - loss: 0.3173 - val_loss: 0.2968\n",
      "Epoch 83/350\n",
      "3461/3461 [==============================] - 1s 180us/sample - loss: 0.3159 - val_loss: 0.2947\n",
      "Epoch 84/350\n",
      "3461/3461 [==============================] - 1s 187us/sample - loss: 0.3137 - val_loss: 0.2988\n",
      "Epoch 85/350\n",
      "3461/3461 [==============================] - 1s 215us/sample - loss: 0.3142 - val_loss: 0.2936\n",
      "Epoch 86/350\n",
      "3461/3461 [==============================] - 1s 183us/sample - loss: 0.3134 - val_loss: 0.2927\n",
      "Epoch 87/350\n",
      "3461/3461 [==============================] - 1s 181us/sample - loss: 0.3122 - val_loss: 0.2912\n",
      "Epoch 88/350\n",
      "3461/3461 [==============================] - 1s 178us/sample - loss: 0.3119 - val_loss: 0.2874\n",
      "Epoch 89/350\n",
      "3461/3461 [==============================] - 1s 185us/sample - loss: 0.3115 - val_loss: 0.2928\n",
      "Epoch 90/350\n",
      "3461/3461 [==============================] - 1s 183us/sample - loss: 0.3088 - val_loss: 0.3016\n",
      "Epoch 91/350\n",
      "3461/3461 [==============================] - 1s 177us/sample - loss: 0.3090 - val_loss: 0.2841\n",
      "Epoch 92/350\n",
      "3461/3461 [==============================] - 1s 179us/sample - loss: 0.3077 - val_loss: 0.2840\n",
      "Epoch 93/350\n",
      "3461/3461 [==============================] - 1s 181us/sample - loss: 0.3061 - val_loss: 0.2898\n",
      "Epoch 94/350\n",
      "3461/3461 [==============================] - 1s 178us/sample - loss: 0.3065 - val_loss: 0.3066\n",
      "Epoch 95/350\n",
      "3461/3461 [==============================] - 1s 179us/sample - loss: 0.3051 - val_loss: 0.2941\n",
      "Epoch 96/350\n",
      "3461/3461 [==============================] - 1s 180us/sample - loss: 0.3037 - val_loss: 0.2863\n",
      "Epoch 97/350\n",
      "3461/3461 [==============================] - 1s 180us/sample - loss: 0.3032 - val_loss: 0.2811\n",
      "Epoch 98/350\n",
      "3461/3461 [==============================] - 1s 180us/sample - loss: 0.3027 - val_loss: 0.2803\n",
      "Epoch 99/350\n",
      "3461/3461 [==============================] - 1s 179us/sample - loss: 0.3006 - val_loss: 0.2792\n",
      "Epoch 100/350\n",
      "3461/3461 [==============================] - 1s 176us/sample - loss: 0.3004 - val_loss: 0.2950\n",
      "Epoch 101/350\n",
      "3461/3461 [==============================] - 1s 178us/sample - loss: 0.2992 - val_loss: 0.2827\n",
      "Epoch 102/350\n",
      "3461/3461 [==============================] - 1s 179us/sample - loss: 0.2988 - val_loss: 0.2976\n",
      "Epoch 103/350\n",
      "3461/3461 [==============================] - 1s 178us/sample - loss: 0.2983 - val_loss: 0.2769\n",
      "Epoch 104/350\n",
      "3461/3461 [==============================] - 1s 180us/sample - loss: 0.2963 - val_loss: 0.3033\n",
      "Epoch 105/350\n",
      "3461/3461 [==============================] - 1s 185us/sample - loss: 0.2963 - val_loss: 0.2996\n",
      "Epoch 106/350\n",
      "3461/3461 [==============================] - 1s 177us/sample - loss: 0.2963 - val_loss: 0.2726\n",
      "Epoch 107/350\n",
      "3461/3461 [==============================] - 1s 177us/sample - loss: 0.2949 - val_loss: 0.2783\n",
      "Epoch 108/350\n",
      "3461/3461 [==============================] - 1s 181us/sample - loss: 0.2935 - val_loss: 0.2697\n",
      "Epoch 109/350\n",
      "3461/3461 [==============================] - 1s 180us/sample - loss: 0.2901 - val_loss: 0.2722\n",
      "Epoch 110/350\n",
      "3461/3461 [==============================] - 1s 177us/sample - loss: 0.2913 - val_loss: 0.2754\n",
      "Epoch 111/350\n",
      "3461/3461 [==============================] - 1s 182us/sample - loss: 0.2894 - val_loss: 0.2679\n",
      "Epoch 112/350\n",
      "3461/3461 [==============================] - 1s 178us/sample - loss: 0.2882 - val_loss: 0.2720\n",
      "Epoch 113/350\n",
      "3461/3461 [==============================] - 1s 179us/sample - loss: 0.2877 - val_loss: 0.2659\n",
      "Epoch 114/350\n",
      "3461/3461 [==============================] - 1s 180us/sample - loss: 0.2872 - val_loss: 0.2658\n",
      "Epoch 115/350\n",
      "3461/3461 [==============================] - 1s 178us/sample - loss: 0.2852 - val_loss: 0.2648\n",
      "Epoch 116/350\n",
      "3461/3461 [==============================] - 1s 178us/sample - loss: 0.2856 - val_loss: 0.2686\n",
      "Epoch 117/350\n",
      "3461/3461 [==============================] - 1s 177us/sample - loss: 0.2854 - val_loss: 0.2807\n",
      "Epoch 118/350\n",
      "3461/3461 [==============================] - 1s 183us/sample - loss: 0.2854 - val_loss: 0.2638\n",
      "Epoch 119/350\n",
      "3461/3461 [==============================] - 1s 180us/sample - loss: 0.2838 - val_loss: 0.2768\n",
      "Epoch 120/350\n",
      "3461/3461 [==============================] - 1s 177us/sample - loss: 0.2846 - val_loss: 0.2665\n",
      "Epoch 121/350\n",
      "3461/3461 [==============================] - 1s 180us/sample - loss: 0.2824 - val_loss: 0.2621\n",
      "Epoch 122/350\n",
      "3461/3461 [==============================] - 1s 180us/sample - loss: 0.2825 - val_loss: 0.2826\n",
      "Epoch 123/350\n",
      "3461/3461 [==============================] - 1s 180us/sample - loss: 0.2827 - val_loss: 0.2723\n",
      "Epoch 124/350\n",
      "3461/3461 [==============================] - 1s 182us/sample - loss: 0.2816 - val_loss: 0.2611\n",
      "Epoch 125/350\n",
      "3461/3461 [==============================] - 1s 179us/sample - loss: 0.2798 - val_loss: 0.2721\n",
      "Epoch 126/350\n",
      "3461/3461 [==============================] - 1s 180us/sample - loss: 0.2801 - val_loss: 0.2834\n",
      "Epoch 127/350\n",
      "3461/3461 [==============================] - 1s 179us/sample - loss: 0.2793 - val_loss: 0.2772\n",
      "Epoch 128/350\n",
      "3461/3461 [==============================] - 1s 179us/sample - loss: 0.2798 - val_loss: 0.2587\n",
      "Epoch 129/350\n",
      "3461/3461 [==============================] - 1s 180us/sample - loss: 0.2784 - val_loss: 0.2593\n",
      "Epoch 130/350\n",
      "3461/3461 [==============================] - 1s 179us/sample - loss: 0.2780 - val_loss: 0.2584\n",
      "Epoch 131/350\n",
      "3461/3461 [==============================] - 1s 188us/sample - loss: 0.2764 - val_loss: 0.2686\n",
      "Epoch 132/350\n",
      "3461/3461 [==============================] - 1s 178us/sample - loss: 0.2760 - val_loss: 0.2581\n",
      "Epoch 133/350\n",
      "3461/3461 [==============================] - 1s 176us/sample - loss: 0.2750 - val_loss: 0.2605\n",
      "Epoch 134/350\n",
      "3461/3461 [==============================] - 1s 180us/sample - loss: 0.2746 - val_loss: 0.2802\n",
      "Epoch 135/350\n",
      "3461/3461 [==============================] - 1s 185us/sample - loss: 0.2749 - val_loss: 0.2654\n",
      "Epoch 136/350\n",
      "3461/3461 [==============================] - 1s 221us/sample - loss: 0.2738 - val_loss: 0.2563\n",
      "Epoch 137/350\n",
      "3461/3461 [==============================] - 1s 184us/sample - loss: 0.2745 - val_loss: 0.2557\n",
      "Epoch 138/350\n",
      "3461/3461 [==============================] - 1s 186us/sample - loss: 0.2746 - val_loss: 0.2556\n",
      "Epoch 139/350\n",
      "3461/3461 [==============================] - 1s 180us/sample - loss: 0.2731 - val_loss: 0.2573\n",
      "Epoch 140/350\n",
      "3461/3461 [==============================] - 1s 181us/sample - loss: 0.2731 - val_loss: 0.2717\n",
      "Epoch 141/350\n",
      "3461/3461 [==============================] - 1s 180us/sample - loss: 0.2724 - val_loss: 0.2547\n",
      "Epoch 142/350\n",
      "3461/3461 [==============================] - 1s 180us/sample - loss: 0.2709 - val_loss: 0.2871\n",
      "Epoch 143/350\n",
      "3461/3461 [==============================] - 1s 180us/sample - loss: 0.2722 - val_loss: 0.2591\n",
      "Epoch 144/350\n",
      "3461/3461 [==============================] - 1s 180us/sample - loss: 0.2706 - val_loss: 0.2582\n",
      "Epoch 145/350\n",
      "3461/3461 [==============================] - 1s 182us/sample - loss: 0.2706 - val_loss: 0.2599\n",
      "Epoch 146/350\n",
      "3461/3461 [==============================] - 1s 184us/sample - loss: 0.2703 - val_loss: 0.2572\n",
      "Epoch 147/350\n",
      "3461/3461 [==============================] - 1s 200us/sample - loss: 0.2695 - val_loss: 0.2732\n",
      "Epoch 148/350\n",
      "3461/3461 [==============================] - 1s 204us/sample - loss: 0.2702 - val_loss: 0.2512\n",
      "Epoch 149/350\n",
      "3461/3461 [==============================] - 1s 190us/sample - loss: 0.2686 - val_loss: 0.2701\n",
      "Epoch 150/350\n",
      "3461/3461 [==============================] - 1s 205us/sample - loss: 0.2693 - val_loss: 0.2527\n",
      "Epoch 151/350\n"
     ]
    },
    {
     "name": "stdout",
     "output_type": "stream",
     "text": [
      "3461/3461 [==============================] - 1s 197us/sample - loss: 0.2690 - val_loss: 0.2541\n",
      "Epoch 152/350\n",
      "3461/3461 [==============================] - 1s 191us/sample - loss: 0.2688 - val_loss: 0.2509\n",
      "Epoch 153/350\n",
      "3461/3461 [==============================] - 1s 185us/sample - loss: 0.2685 - val_loss: 0.2776\n",
      "Epoch 154/350\n",
      "3461/3461 [==============================] - 1s 183us/sample - loss: 0.2685 - val_loss: 0.2579\n",
      "Epoch 155/350\n",
      "3461/3461 [==============================] - 1s 179us/sample - loss: 0.2675 - val_loss: 0.2617\n",
      "Epoch 156/350\n",
      "3461/3461 [==============================] - 1s 180us/sample - loss: 0.2683 - val_loss: 0.2549\n",
      "Epoch 157/350\n",
      "3461/3461 [==============================] - 1s 179us/sample - loss: 0.2676 - val_loss: 0.2532\n",
      "Epoch 158/350\n",
      "3461/3461 [==============================] - 1s 185us/sample - loss: 0.2664 - val_loss: 0.2542\n",
      "Epoch 159/350\n",
      "3461/3461 [==============================] - 1s 178us/sample - loss: 0.2662 - val_loss: 0.2496\n",
      "Epoch 160/350\n",
      "3461/3461 [==============================] - 1s 180us/sample - loss: 0.2665 - val_loss: 0.2570\n",
      "Epoch 161/350\n",
      "3461/3461 [==============================] - 1s 178us/sample - loss: 0.2673 - val_loss: 0.2590\n",
      "Epoch 162/350\n",
      "3461/3461 [==============================] - 1s 186us/sample - loss: 0.2661 - val_loss: 0.2563\n",
      "Epoch 163/350\n",
      "3461/3461 [==============================] - 1s 187us/sample - loss: 0.2663 - val_loss: 0.2502\n",
      "Epoch 164/350\n",
      "3461/3461 [==============================] - 1s 199us/sample - loss: 0.2659 - val_loss: 0.2579\n",
      "Epoch 165/350\n",
      "3461/3461 [==============================] - 1s 186us/sample - loss: 0.2659 - val_loss: 0.2510\n",
      "Epoch 166/350\n",
      "3461/3461 [==============================] - 1s 185us/sample - loss: 0.2659 - val_loss: 0.2562\n",
      "Epoch 167/350\n",
      "3461/3461 [==============================] - 1s 179us/sample - loss: 0.2661 - val_loss: 0.2489\n",
      "Epoch 168/350\n",
      "3461/3461 [==============================] - 1s 186us/sample - loss: 0.2656 - val_loss: 0.2490\n",
      "Epoch 169/350\n",
      "3461/3461 [==============================] - 1s 187us/sample - loss: 0.2651 - val_loss: 0.2661\n",
      "Epoch 170/350\n",
      "3461/3461 [==============================] - 1s 186us/sample - loss: 0.2653 - val_loss: 0.2512\n",
      "Epoch 171/350\n",
      "3461/3461 [==============================] - 1s 185us/sample - loss: 0.2642 - val_loss: 0.2635\n",
      "Epoch 172/350\n",
      "3461/3461 [==============================] - 1s 185us/sample - loss: 0.2654 - val_loss: 0.2487\n",
      "Epoch 173/350\n",
      "3461/3461 [==============================] - 1s 181us/sample - loss: 0.2652 - val_loss: 0.2539\n",
      "Epoch 174/350\n",
      "3461/3461 [==============================] - 1s 180us/sample - loss: 0.2649 - val_loss: 0.2487\n",
      "Epoch 175/350\n",
      "3461/3461 [==============================] - 1s 180us/sample - loss: 0.2650 - val_loss: 0.2499\n",
      "Epoch 176/350\n",
      "3461/3461 [==============================] - 1s 180us/sample - loss: 0.2650 - val_loss: 0.2501\n",
      "Epoch 177/350\n",
      "3461/3461 [==============================] - 1s 189us/sample - loss: 0.2637 - val_loss: 0.2597\n",
      "Epoch 178/350\n",
      "3461/3461 [==============================] - 1s 193us/sample - loss: 0.2653 - val_loss: 0.2548\n",
      "Epoch 179/350\n",
      "3461/3461 [==============================] - 1s 190us/sample - loss: 0.2645 - val_loss: 0.2501\n",
      "Epoch 180/350\n",
      "3461/3461 [==============================] - 1s 183us/sample - loss: 0.2654 - val_loss: 0.2511\n",
      "Epoch 181/350\n",
      "3461/3461 [==============================] - 1s 190us/sample - loss: 0.2630 - val_loss: 0.2653\n",
      "Epoch 182/350\n",
      "3461/3461 [==============================] - 1s 199us/sample - loss: 0.2641 - val_loss: 0.2586\n",
      "Epoch 183/350\n",
      "3461/3461 [==============================] - 1s 205us/sample - loss: 0.2642 - val_loss: 0.2523\n",
      "Epoch 184/350\n",
      "3461/3461 [==============================] - 1s 193us/sample - loss: 0.2632 - val_loss: 0.2491\n",
      "Epoch 185/350\n",
      "3461/3461 [==============================] - 1s 183us/sample - loss: 0.2633 - val_loss: 0.2553\n",
      "Epoch 186/350\n",
      "3461/3461 [==============================] - 1s 188us/sample - loss: 0.2648 - val_loss: 0.2573\n",
      "Epoch 187/350\n",
      "3461/3461 [==============================] - 1s 187us/sample - loss: 0.2640 - val_loss: 0.2650\n",
      "Epoch 188/350\n",
      "3461/3461 [==============================] - 1s 185us/sample - loss: 0.2631 - val_loss: 0.2581\n",
      "Epoch 189/350\n",
      "3461/3461 [==============================] - 1s 189us/sample - loss: 0.2635 - val_loss: 0.2529\n",
      "Epoch 190/350\n",
      "3461/3461 [==============================] - 1s 181us/sample - loss: 0.2640 - val_loss: 0.2495\n",
      "Epoch 191/350\n",
      "3461/3461 [==============================] - 1s 183us/sample - loss: 0.2635 - val_loss: 0.2719\n",
      "Epoch 192/350\n",
      "3461/3461 [==============================] - 1s 188us/sample - loss: 0.2635 - val_loss: 0.2488\n",
      "Epoch 193/350\n",
      "3461/3461 [==============================] - 1s 191us/sample - loss: 0.2644 - val_loss: 0.2508\n",
      "Epoch 194/350\n",
      "3461/3461 [==============================] - 1s 190us/sample - loss: 0.2644 - val_loss: 0.2485\n",
      "Epoch 195/350\n",
      "3461/3461 [==============================] - 1s 185us/sample - loss: 0.2630 - val_loss: 0.2498\n",
      "Epoch 196/350\n",
      "3461/3461 [==============================] - 1s 191us/sample - loss: 0.2622 - val_loss: 0.2529\n",
      "Epoch 197/350\n",
      "3461/3461 [==============================] - 1s 187us/sample - loss: 0.2638 - val_loss: 0.2581\n",
      "Epoch 198/350\n",
      "3461/3461 [==============================] - 1s 184us/sample - loss: 0.2618 - val_loss: 0.2526\n",
      "Epoch 199/350\n",
      "3461/3461 [==============================] - 1s 190us/sample - loss: 0.2630 - val_loss: 0.2557\n",
      "Epoch 200/350\n",
      "3461/3461 [==============================] - 1s 184us/sample - loss: 0.2635 - val_loss: 0.2564\n",
      "Epoch 201/350\n",
      "3461/3461 [==============================] - 1s 190us/sample - loss: 0.2634 - val_loss: 0.2519\n",
      "Epoch 202/350\n",
      "3461/3461 [==============================] - 1s 187us/sample - loss: 0.2636 - val_loss: 0.2495\n",
      "Epoch 203/350\n",
      "3461/3461 [==============================] - 1s 194us/sample - loss: 0.2629 - val_loss: 0.2544\n",
      "Epoch 204/350\n",
      "3461/3461 [==============================] - 1s 189us/sample - loss: 0.2625 - val_loss: 0.2538\n",
      "Epoch 205/350\n",
      "3461/3461 [==============================] - 1s 187us/sample - loss: 0.2631 - val_loss: 0.2516\n",
      "Epoch 206/350\n",
      "3461/3461 [==============================] - 1s 195us/sample - loss: 0.2626 - val_loss: 0.2488\n",
      "Epoch 207/350\n",
      "3461/3461 [==============================] - 1s 187us/sample - loss: 0.2632 - val_loss: 0.2608\n",
      "Epoch 208/350\n",
      "3461/3461 [==============================] - 1s 190us/sample - loss: 0.2624 - val_loss: 0.2551\n",
      "Epoch 209/350\n",
      "3461/3461 [==============================] - 1s 190us/sample - loss: 0.2622 - val_loss: 0.2555\n",
      "Epoch 210/350\n",
      "3461/3461 [==============================] - 1s 188us/sample - loss: 0.2620 - val_loss: 0.2561\n",
      "Epoch 211/350\n",
      "3461/3461 [==============================] - 1s 190us/sample - loss: 0.2634 - val_loss: 0.2829\n",
      "Epoch 212/350\n",
      "3461/3461 [==============================] - 1s 187us/sample - loss: 0.2630 - val_loss: 0.2480\n",
      "Epoch 213/350\n",
      "3461/3461 [==============================] - 1s 188us/sample - loss: 0.2627 - val_loss: 0.2487\n",
      "Epoch 214/350\n",
      "3461/3461 [==============================] - 1s 185us/sample - loss: 0.2619 - val_loss: 0.2577\n",
      "Epoch 215/350\n",
      "3461/3461 [==============================] - 1s 191us/sample - loss: 0.2625 - val_loss: 0.2520\n",
      "Epoch 216/350\n",
      "3461/3461 [==============================] - 1s 189us/sample - loss: 0.2628 - val_loss: 0.2535\n",
      "Epoch 217/350\n",
      "3461/3461 [==============================] - 1s 186us/sample - loss: 0.2628 - val_loss: 0.2521\n",
      "Epoch 218/350\n",
      "3461/3461 [==============================] - 1s 188us/sample - loss: 0.2623 - val_loss: 0.2589\n",
      "Epoch 219/350\n",
      "3461/3461 [==============================] - 1s 186us/sample - loss: 0.2627 - val_loss: 0.2499\n",
      "Epoch 220/350\n",
      "3461/3461 [==============================] - 1s 184us/sample - loss: 0.2621 - val_loss: 0.2557\n",
      "Epoch 221/350\n",
      "3461/3461 [==============================] - 1s 186us/sample - loss: 0.2629 - val_loss: 0.2473\n",
      "Epoch 222/350\n",
      "3461/3461 [==============================] - 1s 188us/sample - loss: 0.2620 - val_loss: 0.2486\n",
      "Epoch 223/350\n",
      "3461/3461 [==============================] - 1s 184us/sample - loss: 0.2622 - val_loss: 0.2657\n",
      "Epoch 224/350\n",
      "3461/3461 [==============================] - 1s 199us/sample - loss: 0.2614 - val_loss: 0.2562\n",
      "Epoch 225/350\n",
      "3461/3461 [==============================] - 1s 187us/sample - loss: 0.2630 - val_loss: 0.2585\n",
      "Epoch 226/350\n"
     ]
    },
    {
     "name": "stdout",
     "output_type": "stream",
     "text": [
      "3461/3461 [==============================] - 1s 182us/sample - loss: 0.2637 - val_loss: 0.2490\n",
      "Epoch 227/350\n",
      "3461/3461 [==============================] - 1s 185us/sample - loss: 0.2614 - val_loss: 0.2519\n",
      "Epoch 228/350\n",
      "3461/3461 [==============================] - 1s 189us/sample - loss: 0.2622 - val_loss: 0.2489\n",
      "Epoch 229/350\n",
      "3461/3461 [==============================] - 1s 181us/sample - loss: 0.2621 - val_loss: 0.2722\n",
      "Epoch 230/350\n",
      "3461/3461 [==============================] - 1s 187us/sample - loss: 0.2622 - val_loss: 0.2542\n",
      "Epoch 231/350\n",
      "3461/3461 [==============================] - 1s 191us/sample - loss: 0.2620 - val_loss: 0.2487\n",
      "Epoch 232/350\n",
      "3461/3461 [==============================] - 1s 181us/sample - loss: 0.2623 - val_loss: 0.2513\n",
      "Epoch 233/350\n",
      "3461/3461 [==============================] - 1s 183us/sample - loss: 0.2620 - val_loss: 0.2559\n",
      "Epoch 234/350\n",
      "3461/3461 [==============================] - 1s 188us/sample - loss: 0.2621 - val_loss: 0.2502\n",
      "Epoch 235/350\n",
      "3461/3461 [==============================] - 1s 182us/sample - loss: 0.2621 - val_loss: 0.2520\n",
      "Epoch 236/350\n",
      "3461/3461 [==============================] - 1s 184us/sample - loss: 0.2617 - val_loss: 0.2705\n",
      "Epoch 237/350\n",
      "3461/3461 [==============================] - 1s 179us/sample - loss: 0.2625 - val_loss: 0.2535\n",
      "Epoch 238/350\n",
      "3461/3461 [==============================] - 1s 180us/sample - loss: 0.2624 - val_loss: 0.2539\n",
      "Epoch 239/350\n",
      "3461/3461 [==============================] - 1s 181us/sample - loss: 0.2612 - val_loss: 0.2623\n",
      "Epoch 240/350\n",
      "3461/3461 [==============================] - 1s 181us/sample - loss: 0.2617 - val_loss: 0.2478\n",
      "Epoch 241/350\n",
      "3461/3461 [==============================] - 1s 190us/sample - loss: 0.2623 - val_loss: 0.2489\n"
     ]
    },
    {
     "data": {
      "text/plain": [
       "<tensorflow.python.keras.callbacks.History at 0x1a4377f890>"
      ]
     },
     "execution_count": 36,
     "metadata": {},
     "output_type": "execute_result"
    }
   ],
   "source": [
    "model.fit(X_train,y_train, validation_data=(X_test,y_test), epochs=350, callbacks=[stop])"
   ]
  },
  {
   "cell_type": "markdown",
   "metadata": {},
   "source": [
    "## Plot below shows that the model preformed really well \n",
    "- There is also a good about of room to keep training since we made it to all 300 epochs"
   ]
  },
  {
   "cell_type": "code",
   "execution_count": 37,
   "metadata": {},
   "outputs": [
    {
     "data": {
      "text/plain": [
       "<matplotlib.axes._subplots.AxesSubplot at 0x1a444fd910>"
      ]
     },
     "execution_count": 37,
     "metadata": {},
     "output_type": "execute_result"
    },
    {
     "data": {
      "image/png": "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\n",
      "text/plain": [
       "<Figure size 1152x432 with 1 Axes>"
      ]
     },
     "metadata": {
      "needs_background": "light"
     },
     "output_type": "display_data"
    }
   ],
   "source": [
    "pd.DataFrame(model.history.history).plot(figsize = (16,6))"
   ]
  },
  {
   "cell_type": "code",
   "execution_count": null,
   "metadata": {},
   "outputs": [],
   "source": []
  },
  {
   "cell_type": "markdown",
   "metadata": {},
   "source": [
    "### Predictions \n",
    "- will use the model to make preditions on the Test data"
   ]
  },
  {
   "cell_type": "code",
   "execution_count": 38,
   "metadata": {},
   "outputs": [],
   "source": [
    "predictions = model.predict(X_test)"
   ]
  },
  {
   "cell_type": "markdown",
   "metadata": {},
   "source": [
    "### Metrics\n",
    "- Will use sklearn metrics to test the prediction accuracy for the data"
   ]
  },
  {
   "cell_type": "code",
   "execution_count": 39,
   "metadata": {},
   "outputs": [],
   "source": [
    "from sklearn.metrics import mean_absolute_error, mean_squared_error, explained_variance_score"
   ]
  },
  {
   "cell_type": "code",
   "execution_count": 40,
   "metadata": {},
   "outputs": [
    {
     "name": "stdout",
     "output_type": "stream",
     "text": [
      "0.8230591058491274\n"
     ]
    }
   ],
   "source": [
    "print(explained_variance_score(y_test, predictions))"
   ]
  },
  {
   "cell_type": "code",
   "execution_count": 41,
   "metadata": {},
   "outputs": [
    {
     "name": "stdout",
     "output_type": "stream",
     "text": [
      "0.387246415942827\n"
     ]
    }
   ],
   "source": [
    "print(mean_absolute_error(y_test, predictions))"
   ]
  },
  {
   "cell_type": "code",
   "execution_count": 42,
   "metadata": {},
   "outputs": [
    {
     "name": "stdout",
     "output_type": "stream",
     "text": [
      "0.2488853393245192\n"
     ]
    }
   ],
   "source": [
    "print(mean_squared_error(y_test, predictions))"
   ]
  },
  {
   "cell_type": "code",
   "execution_count": 43,
   "metadata": {},
   "outputs": [
    {
     "data": {
      "text/plain": [
       "<matplotlib.collections.PathCollection at 0x1a1c9f7d90>"
      ]
     },
     "execution_count": 43,
     "metadata": {},
     "output_type": "execute_result"
    },
    {
>>>>>>> 365249751834da7fffe48fb76d31f14c16bb07bd
     "data": {
      "image/png": "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\n",
      "text/plain": [
       "<Figure size 432x288 with 1 Axes>"
      ]
     },
     "metadata": {
      "needs_background": "light"
     },
     "output_type": "display_data"
    }
   ],
   "source": [
    "plt.scatter(y_test, predictions)"
   ]
  },
  {
   "cell_type": "markdown",
   "metadata": {},
   "source": [
    "### Testing in random Data "
   ]
  },
  {
   "cell_type": "code",
   "execution_count": 44,
   "metadata": {},
   "outputs": [],
   "source": [
    "from random import randint\n",
    "random_index = randint(1, len(working_data))\n",
    "random_day = working_data.drop([\"TNX Adj Close\"], axis=1).iloc[random_index]"
   ]
  },
  {
   "cell_type": "code",
   "execution_count": 45,
   "metadata": {},
   "outputs": [
    {
     "data": {
      "text/plain": [
<<<<<<< HEAD
       "1.6100000143051147"
      ]
     },
     "execution_count": 152,
=======
       "^GSPC              1164.079956\n",
       "^DJI              10378.589844\n",
       "^IXIC              2039.579956\n",
       "^RUT                606.640015\n",
       "^GSPC 20day MA     1124.910999\n",
       "^DJI 20day MA     10027.695117\n",
       "^IXIC 20day MA     1965.439502\n",
       "^RUT 20day MA       582.289499\n",
       "^GSPC upper        1172.636806\n",
       "^DJI upper        10423.301300\n",
       "^IXIC upper        2061.233482\n",
       "^RUT upper          609.858287\n",
       "^GSPC lower        1077.185191\n",
       "^DJI lower         9632.088935\n",
       "^IXIC lower        1869.645522\n",
       "^RUT lower          554.720711\n",
       "Name: 2004-11-10 00:00:00, dtype: float64"
      ]
     },
     "execution_count": 45,
>>>>>>> 365249751834da7fffe48fb76d31f14c16bb07bd
     "metadata": {},
     "output_type": "execute_result"
    }
   ],
   "source": [
<<<<<<< HEAD
    "working_data.iloc[rand_ind][\"^TNX Adj Close\"]"
   ]
  },
  {
   "cell_type": "markdown",
   "metadata": {},
   "source": [
    "## prediction"
=======
    "random_day"
   ]
  },
  {
   "cell_type": "code",
   "execution_count": 46,
   "metadata": {},
   "outputs": [],
   "source": [
    "random_day = scalar.transform(random_day.values.reshape(1,len(random_day)))"
>>>>>>> 365249751834da7fffe48fb76d31f14c16bb07bd
   ]
  },
  {
   "cell_type": "code",
<<<<<<< HEAD
   "execution_count": 153,
=======
   "execution_count": 47,
>>>>>>> 365249751834da7fffe48fb76d31f14c16bb07bd
   "metadata": {},
   "outputs": [
    {
     "data": {
      "text/plain": [
<<<<<<< HEAD
       "array([[2.1779013]], dtype=float32)"
      ]
     },
     "execution_count": 153,
=======
       "array([[4.2604036]], dtype=float32)"
      ]
     },
     "execution_count": 47,
>>>>>>> 365249751834da7fffe48fb76d31f14c16bb07bd
     "metadata": {},
     "output_type": "execute_result"
    }
   ],
   "source": [
    "model.predict(random_day)"
   ]
  },
  {
<<<<<<< HEAD
   "cell_type": "markdown",
   "metadata": {},
   "source": [
    "## Testing new model on most recent day"
   ]
  },
  {
   "cell_type": "code",
   "execution_count": 154,
   "metadata": {},
   "outputs": [],
   "source": [
    "most_recent = working_data.index.argmax()"
   ]
  },
  {
   "cell_type": "code",
   "execution_count": 155,
=======
   "cell_type": "code",
   "execution_count": 48,
>>>>>>> 365249751834da7fffe48fb76d31f14c16bb07bd
   "metadata": {},
   "outputs": [
    {
     "data": {
      "text/plain": [
<<<<<<< HEAD
       "^GSPC               3464.899902\n",
       "^DJI               28409.650391\n",
       "^IXIC              11536.009766\n",
       "^RUT                1634.060059\n",
       "^TNX Adj Close         0.841000\n",
       "^GSPC 20day MA      3423.807471\n",
       "^DJI 20day MA      28139.213574\n",
       "^IXIC 20day MA     11432.370459\n",
       "^RUT 20day MA       1585.247980\n",
       "^GSPC 15day  MA     3455.172640\n",
       "^DJI 15day  MA     28380.807292\n",
       "^IXIC 15day  MA    11559.245247\n",
       "^RUT 15day  MA      1616.860645\n",
       "Name: 2020-10-23 00:00:00, dtype: float64"
      ]
     },
     "execution_count": 155,
=======
       "^GSPC              1164.079956\n",
       "^DJI              10378.589844\n",
       "^IXIC              2039.579956\n",
       "^RUT                606.640015\n",
       "^GSPC 20day MA     1124.910999\n",
       "^DJI 20day MA     10027.695117\n",
       "^IXIC 20day MA     1965.439502\n",
       "^RUT 20day MA       582.289499\n",
       "^GSPC upper        1172.636806\n",
       "^DJI upper        10423.301300\n",
       "^IXIC upper        2061.233482\n",
       "^RUT upper          609.858287\n",
       "^GSPC lower        1077.185191\n",
       "^DJI lower         9632.088935\n",
       "^IXIC lower        1869.645522\n",
       "^RUT lower          554.720711\n",
       "TNX Adj Close         4.253000\n",
       "Name: 2004-11-10 00:00:00, dtype: float64"
      ]
     },
     "execution_count": 48,
>>>>>>> 365249751834da7fffe48fb76d31f14c16bb07bd
     "metadata": {},
     "output_type": "execute_result"
    }
   ],
   "source": [
<<<<<<< HEAD
    "working_data.iloc[most_recent]"
   ]
  },
  {
   "cell_type": "markdown",
   "metadata": {},
   "source": [
    "## Getting Values"
=======
    "working_data.iloc[random_index]"
>>>>>>> 365249751834da7fffe48fb76d31f14c16bb07bd
   ]
  },
  {
   "cell_type": "code",
<<<<<<< HEAD
   "execution_count": 156,
   "metadata": {},
   "outputs": [],
   "source": [
    "today = working_data.iloc[most_recent].drop(\"^TNX Adj Close\").values"
   ]
  },
  {
   "cell_type": "code",
   "execution_count": 157,
   "metadata": {},
   "outputs": [],
   "source": [
    "today = scalar.transform(today.reshape(1,12))"
=======
   "execution_count": null,
   "metadata": {},
   "outputs": [],
   "source": []
  },
  {
   "cell_type": "markdown",
   "metadata": {},
   "source": [
    "### Checking Todays Data\n",
    "- Will use the model to predice what the TNX will be at close"
>>>>>>> 365249751834da7fffe48fb76d31f14c16bb07bd
   ]
  },
  {
   "cell_type": "code",
<<<<<<< HEAD
   "execution_count": 158,
=======
   "execution_count": 49,
>>>>>>> 365249751834da7fffe48fb76d31f14c16bb07bd
   "metadata": {},
   "outputs": [
    {
     "data": {
      "text/plain": [
<<<<<<< HEAD
       "array([[0.7606135]], dtype=float32)"
      ]
     },
     "execution_count": 158,
=======
       "^GSPC              3439.379883\n",
       "^DJI              28245.849609\n",
       "^IXIC             11531.799805\n",
       "^RUT               1620.565430\n",
       "^GSPC 20day MA     3398.741980\n",
       "^DJI 20day MA     27960.328516\n",
       "^IXIC 20day MA    11321.457471\n",
       "^RUT 20day MA      1564.073254\n",
       "^GSPC upper        3578.758831\n",
       "^DJI upper        29269.320361\n",
       "^IXIC upper       12096.992531\n",
       "^RUT upper         1707.044111\n",
       "^GSPC lower        3218.725129\n",
       "^DJI lower        26651.336670\n",
       "^IXIC lower       10545.922410\n",
       "^RUT lower         1421.102398\n",
       "TNX Adj Close         0.786000\n",
       "Name: 2020-10-20 00:00:00, dtype: float64"
      ]
     },
     "execution_count": 49,
     "metadata": {},
     "output_type": "execute_result"
    }
   ],
   "source": [
    "working_data.iloc[working_data.index.argmax()]"
   ]
  },
  {
   "cell_type": "code",
   "execution_count": 53,
   "metadata": {},
   "outputs": [],
   "source": [
    "today = working_data.drop(\"TNX Adj Close\", axis=1).iloc[working_data.index.argmax()].values"
   ]
  },
  {
   "cell_type": "code",
   "execution_count": null,
   "metadata": {},
   "outputs": [],
   "source": []
  },
  {
   "cell_type": "code",
   "execution_count": 54,
   "metadata": {},
   "outputs": [],
   "source": [
    "today = scalar.transform(today.reshape(1,len(today)))"
   ]
  },
  {
   "cell_type": "code",
   "execution_count": 55,
   "metadata": {},
   "outputs": [
    {
     "data": {
      "text/plain": [
       "array([[2.1158326]], dtype=float32)"
      ]
     },
     "execution_count": 55,
>>>>>>> 365249751834da7fffe48fb76d31f14c16bb07bd
     "metadata": {},
     "output_type": "execute_result"
    }
   ],
   "source": [
    "model.predict(today)"
   ]
  },
  {
   "cell_type": "code",
   "execution_count": null,
   "metadata": {},
   "outputs": [],
   "source": []
  },
  {
   "cell_type": "code",
   "execution_count": null,
   "metadata": {},
   "outputs": [],
   "source": []
  },
  {
   "cell_type": "code",
   "execution_count": null,
   "metadata": {},
   "outputs": [],
   "source": []
  }
 ],
 "metadata": {
  "kernelspec": {
   "display_name": "Python 3",
   "language": "python",
   "name": "python3"
  },
  "language_info": {
   "codemirror_mode": {
    "name": "ipython",
    "version": 3
   },
   "file_extension": ".py",
   "mimetype": "text/x-python",
   "name": "python",
   "nbconvert_exporter": "python",
   "pygments_lexer": "ipython3",
   "version": "3.7.4"
  }
 },
 "nbformat": 4,
 "nbformat_minor": 2
}
