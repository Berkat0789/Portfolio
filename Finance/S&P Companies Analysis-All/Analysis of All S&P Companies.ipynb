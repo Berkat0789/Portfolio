{
 "cells": [
  {
   "cell_type": "markdown",
   "metadata": {},
   "source": [
    "### Project Overview\n",
    "- You are required to analyze all of the Active Companies in the S&P 500\n",
    "- Generate the Volatility of each company\n",
    "- The market Cap of each company \n",
    "- The Expected Return of each company\n",
    "- How does these companies tie into the Volatility market and what can we determine form this data"
   ]
  },
  {
   "cell_type": "code",
   "execution_count": 1,
   "metadata": {},
   "outputs": [],
   "source": [
    "import pandas as pd\n",
    "import numpy as np \n",
    "from pandas_datareader import data as web\n",
    "import seaborn as sns"
   ]
  },
  {
   "cell_type": "code",
   "execution_count": 2,
   "metadata": {},
   "outputs": [],
   "source": [
    "data = pd.read_csv(\"resources/companies.csv\")"
   ]
  },
  {
   "cell_type": "markdown",
   "metadata": {},
   "source": [
    "## Data Overview\n",
    "- There are 505 entries in the data set, but there my be conpanies that my not exist in the set so we will acount for them"
   ]
  },
  {
   "cell_type": "code",
   "execution_count": 3,
   "metadata": {},
   "outputs": [
    {
     "name": "stdout",
     "output_type": "stream",
     "text": [
      "<class 'pandas.core.frame.DataFrame'>\n",
      "RangeIndex: 505 entries, 0 to 504\n",
      "Data columns (total 3 columns):\n",
      "Symbol    505 non-null object\n",
      "Name      505 non-null object\n",
      "Sector    505 non-null object\n",
      "dtypes: object(3)\n",
      "memory usage: 12.0+ KB\n"
     ]
    }
   ],
   "source": [
    "data.info()"
   ]
  },
  {
   "cell_type": "markdown",
   "metadata": {},
   "source": [
    "## Stock Data \n",
    "- We will use pandas to get the stock data for each symbol in the list\n",
    "- Will use data for the last 10 years if exists"
   ]
  },
  {
   "cell_type": "code",
   "execution_count": null,
   "metadata": {},
   "outputs": [],
   "source": []
  },
  {
   "cell_type": "code",
   "execution_count": 4,
   "metadata": {},
   "outputs": [],
   "source": [
    "failed = []\n",
    "passed = []\n",
    "stock_Data = pd.DataFrame()\n",
    "for x in data[\"Symbol\"]:\n",
    "    try:\n",
    "        stock_Data[x] = web.DataReader(x, data_source= \"yahoo\", start = \"2010-1-1\")[\"Adj Close\"]\n",
    "        passed.append(x)\n",
    "    except (IOError, KeyError):\n",
    "        msg = 'Failed to read symbol: {0!r}, replacing with NaN.'\n",
    "        failed.append(x)\n",
    "    "
   ]
  },
  {
   "cell_type": "markdown",
   "metadata": {},
   "source": [
    "### Companies that failed\n",
    "- Either does not exist or cannot be fetched by yahoo data reader\n",
    "- We have 485 companies Passed \n",
    "- 20 failed \n",
    "- This is a good number to move forward with our analysis"
   ]
  },
  {
   "cell_type": "code",
   "execution_count": 5,
   "metadata": {},
   "outputs": [
    {
     "data": {
      "text/plain": [
       "20"
      ]
     },
     "execution_count": 5,
     "metadata": {},
     "output_type": "execute_result"
    }
   ],
   "source": [
    "len(failed)"
   ]
  },
  {
   "cell_type": "code",
   "execution_count": 6,
   "metadata": {},
   "outputs": [
    {
     "data": {
      "text/plain": [
       "485"
      ]
     },
     "execution_count": 6,
     "metadata": {},
     "output_type": "execute_result"
    }
   ],
   "source": [
    "len(passed)"
   ]
  },
  {
   "cell_type": "code",
   "execution_count": 7,
   "metadata": {},
   "outputs": [],
   "source": [
    "stock_Data = pd.read_csv(\"resources/StockData.csv\", parse_dates = True, index_col=\"Date\")"
   ]
  },
  {
   "cell_type": "markdown",
   "metadata": {},
   "source": [
    "### Calculating Volatility\n",
    "- Calculating the Volatility for each Security"
   ]
  },
  {
   "cell_type": "code",
   "execution_count": 8,
   "metadata": {},
   "outputs": [],
   "source": [
    "company_Vol= [stock_Data[x].pct_change().std() * np.sqrt(252) for x in stock_Data]"
   ]
  },
  {
   "cell_type": "code",
   "execution_count": 9,
   "metadata": {},
   "outputs": [],
   "source": [
    "vol_for_period = pd.DataFrame(company_Vol, columns=[\"Vol\"])"
   ]
  },
  {
   "cell_type": "code",
   "execution_count": 10,
   "metadata": {},
   "outputs": [],
   "source": [
    "vol_for_period.index = passed"
   ]
  },
  {
   "cell_type": "markdown",
   "metadata": {},
   "source": [
    "### Outlier\n",
    "- Looks like there is one company disrupting the data set\n",
    "- Let find that company and see if we should eliminate it\n",
    "- looks like SCG is the issue- We will visit the web to make a decision on this company\n",
    "- The Company is SCANA Corporation (SCG) \n",
    "- Loks like this company did not last long and the price dropped to 0 within a 1 year perios so we will eliminate it"
   ]
  },
  {
   "cell_type": "code",
   "execution_count": 11,
   "metadata": {},
   "outputs": [
    {
     "data": {
      "text/plain": [
       "Date\n",
       "2015-07-16    1.018275e+26\n",
       "2015-07-17    1.018275e+26\n",
       "2015-07-20    1.018275e+26\n",
       "2015-07-21    1.018275e+26\n",
       "2015-07-22    1.018275e+26\n",
       "                  ...     \n",
       "2020-05-12    4.500000e-03\n",
       "2020-05-13    4.500000e-03\n",
       "2020-05-14    4.500000e-03\n",
       "2020-05-15    4.500000e-03\n",
       "2020-05-18    4.500000e-03\n",
       "Name: SCG, Length: 1219, dtype: float64"
      ]
     },
     "execution_count": 11,
     "metadata": {},
     "output_type": "execute_result"
    }
   ],
   "source": [
    "stock_Data[\"SCG\"].dropna()"
   ]
  },
  {
   "cell_type": "code",
   "execution_count": 12,
   "metadata": {},
   "outputs": [
    {
     "data": {
      "text/plain": [
       "<matplotlib.axes._subplots.AxesSubplot at 0x1a246a0dd0>"
      ]
     },
     "execution_count": 12,
     "metadata": {},
     "output_type": "execute_result"
    },
    {
     "data": {
      "image/png": "[encoded data removed]",
      "text/plain": [
       "<Figure size 432x288 with 1 Axes>"
      ]
     },
     "metadata": {
      "needs_background": "light"
     },
     "output_type": "display_data"
    }
   ],
   "source": [
    "stock_Data[\"SCG\"].plot()"
   ]
  },
  {
   "cell_type": "code",
   "execution_count": 13,
   "metadata": {},
   "outputs": [
    {
     "data": {
      "text/plain": [
       "9.700138257652694e-28"
      ]
     },
     "execution_count": 13,
     "metadata": {},
     "output_type": "execute_result"
    }
   ],
   "source": [
    "stock_Data['AMZN'].pct_change().std() ** 252 ** 0.5"
   ]
  },
  {
   "cell_type": "code",
   "execution_count": 14,
   "metadata": {},
   "outputs": [
    {
     "data": {
      "text/html": [
       "<div>\n",
       "<style scoped>\n",
       "    .dataframe tbody tr th:only-of-type {\n",
       "        vertical-align: middle;\n",
       "    }\n",
       "\n",
       "    .dataframe tbody tr th {\n",
       "        vertical-align: top;\n",
       "    }\n",
       "\n",
       "    .dataframe thead th {\n",
       "        text-align: right;\n",
       "    }\n",
       "</style>\n",
       "<table border=\"1\" class=\"dataframe\">\n",
       "  <thead>\n",
       "    <tr style=\"text-align: right;\">\n",
       "      <th></th>\n",
       "      <th>Vol</th>\n",
       "    </tr>\n",
       "  </thead>\n",
       "  <tbody>\n",
       "    <tr>\n",
       "      <td>MON</td>\n",
       "      <td>0.163335</td>\n",
       "    </tr>\n",
       "    <tr>\n",
       "      <td>JNJ</td>\n",
       "      <td>0.169479</td>\n",
       "    </tr>\n",
       "    <tr>\n",
       "      <td>KO</td>\n",
       "      <td>0.171567</td>\n",
       "    </tr>\n",
       "    <tr>\n",
       "      <td>PG</td>\n",
       "      <td>0.172565</td>\n",
       "    </tr>\n",
       "    <tr>\n",
       "      <td>PEP</td>\n",
       "      <td>0.174845</td>\n",
       "    </tr>\n",
       "    <tr>\n",
       "      <td>...</td>\n",
       "      <td>...</td>\n",
       "    </tr>\n",
       "    <tr>\n",
       "      <td>PCG</td>\n",
       "      <td>0.555253</td>\n",
       "    </tr>\n",
       "    <tr>\n",
       "      <td>AMD</td>\n",
       "      <td>0.579607</td>\n",
       "    </tr>\n",
       "    <tr>\n",
       "      <td>NKTR</td>\n",
       "      <td>0.579943</td>\n",
       "    </tr>\n",
       "    <tr>\n",
       "      <td>ARNC</td>\n",
       "      <td>1.677144</td>\n",
       "    </tr>\n",
       "    <tr>\n",
       "      <td>SCG</td>\n",
       "      <td>1.735346</td>\n",
       "    </tr>\n",
       "  </tbody>\n",
       "</table>\n",
       "<p>485 rows × 1 columns</p>\n",
       "</div>"
      ],
      "text/plain": [
       "           Vol\n",
       "MON   0.163335\n",
       "JNJ   0.169479\n",
       "KO    0.171567\n",
       "PG    0.172565\n",
       "PEP   0.174845\n",
       "...        ...\n",
       "PCG   0.555253\n",
       "AMD   0.579607\n",
       "NKTR  0.579943\n",
       "ARNC  1.677144\n",
       "SCG   1.735346\n",
       "\n",
       "[485 rows x 1 columns]"
      ]
     },
     "execution_count": 14,
     "metadata": {},
     "output_type": "execute_result"
    }
   ],
   "source": [
    "vol_for_period.sort_values(\"Vol\", ascending = True)"
   ]
  },
  {
   "cell_type": "code",
   "execution_count": 17,
   "metadata": {},
   "outputs": [
    {
     "data": {
      "text/html": [
       "<div>\n",
       "<style scoped>\n",
       "    .dataframe tbody tr th:only-of-type {\n",
       "        vertical-align: middle;\n",
       "    }\n",
       "\n",
       "    .dataframe tbody tr th {\n",
       "        vertical-align: top;\n",
       "    }\n",
       "\n",
       "    .dataframe thead th {\n",
       "        text-align: right;\n",
       "    }\n",
       "</style>\n",
       "<table border=\"1\" class=\"dataframe\">\n",
       "  <thead>\n",
       "    <tr style=\"text-align: right;\">\n",
       "      <th></th>\n",
       "      <th>Symbol</th>\n",
       "      <th>Name</th>\n",
       "      <th>Sector</th>\n",
       "    </tr>\n",
       "  </thead>\n",
       "  <tbody>\n",
       "    <tr>\n",
       "      <td>55</td>\n",
       "      <td>ARNC</td>\n",
       "      <td>Arconic Inc.</td>\n",
       "      <td>Industrials</td>\n",
       "    </tr>\n",
       "  </tbody>\n",
       "</table>\n",
       "</div>"
      ],
      "text/plain": [
       "   Symbol          Name       Sector\n",
       "55   ARNC  Arconic Inc.  Industrials"
      ]
     },
     "execution_count": 17,
     "metadata": {},
     "output_type": "execute_result"
    }
   ],
   "source": [
    "data[data['Symbol'] == \"ARNC\"]"
   ]
  },
  {
   "cell_type": "code",
   "execution_count": 18,
   "metadata": {},
   "outputs": [
    {
     "data": {
      "text/plain": [
       "<matplotlib.axes._subplots.AxesSubplot at 0x1a26a2ead0>"
      ]
     },
     "execution_count": 18,
     "metadata": {},
     "output_type": "execute_result"
    },
    {
     "data": {
      "image/png": "[encoded data removed]",
      "text/plain": [
       "<Figure size 432x288 with 1 Axes>"
      ]
     },
     "metadata": {
      "needs_background": "light"
     },
     "output_type": "display_data"
    }
   ],
   "source": [
    "vol_for_period.plot()"
   ]
  },
  {
   "cell_type": "code",
   "execution_count": 19,
   "metadata": {},
   "outputs": [
    {
     "data": {
      "text/plain": [
       "Vol    SCG\n",
       "dtype: object"
      ]
     },
     "execution_count": 19,
     "metadata": {},
     "output_type": "execute_result"
    }
   ],
   "source": [
    "vol_for_period.idxmax()"
   ]
  },
  {
   "cell_type": "markdown",
   "metadata": {},
   "source": [
    "### S&P Average Volatility\n",
    "- From the list below we can that that most of the companies in the s&P have an average volatility around 25%"
   ]
  },
  {
   "cell_type": "code",
   "execution_count": 20,
   "metadata": {},
   "outputs": [
    {
     "data": {
      "text/plain": [
       "<matplotlib.axes._subplots.AxesSubplot at 0x1a26b07f10>"
      ]
     },
     "execution_count": 20,
     "metadata": {},
     "output_type": "execute_result"
    },
    {
     "data": {
      "image/png": "[encoded data removed]",
      "text/plain": [
       "<Figure size 1152x432 with 1 Axes>"
      ]
     },
     "metadata": {
      "needs_background": "light"
     },
     "output_type": "display_data"
    }
   ],
   "source": [
    "vol_for_period.drop([\"SCG\", \"ARNC\"]).plot(figsize = (16,6))"
   ]
  },
  {
   "cell_type": "code",
   "execution_count": 21,
   "metadata": {},
   "outputs": [
    {
     "data": {
      "text/plain": [
       "array([[<matplotlib.axes._subplots.AxesSubplot object at 0x1a26953b50>]],\n",
       "      dtype=object)"
      ]
     },
     "execution_count": 21,
     "metadata": {},
     "output_type": "execute_result"
    },
    {
     "data": {
      "image/png": "[encoded data removed]",
      "text/plain": [
       "<Figure size 1152x432 with 1 Axes>"
      ]
     },
     "metadata": {
      "needs_background": "light"
     },
     "output_type": "display_data"
    }
   ],
   "source": [
    "vol_for_period.drop([\"SCG\", \"ARNC\"]).hist(figsize = (16,6), bins = 40)"
   ]
  },
  {
   "cell_type": "markdown",
   "metadata": {},
   "source": [
    "## Combining data\n",
    "- Add the vol to the data set for the laast 10 years of data"
   ]
  },
  {
   "cell_type": "markdown",
   "metadata": {},
   "source": [
    "### S&P as a Portfolio \n",
    "- What would happen if we had a portfolio that consisted of every company since 2010. What coupanies would have earned us the highest retirns and a 200,000 investment weighted Arbritrarly over the period\n",
    "- Also what if we optomized this portfolio using a Markowitz Portfolio Oprimization. What portfolio would earn us the highest return\n",
    "- INvestment data will be 2010-1-04 as a start"
   ]
  },
  {
   "cell_type": "markdown",
   "metadata": {},
   "source": [
    "## Calculate Normal Returns\n",
    "- We will first need to eliminate all stocks that have no values on our initial investment dates. \n",
    "- Would be difficult to calculate the returns of each stock that would have been in our portfilio\n",
    "- After droping all the null values we are ready to create our portfolio that will consist of 426 companies since 2010"
   ]
  },
  {
   "cell_type": "code",
   "execution_count": 22,
   "metadata": {},
   "outputs": [],
   "source": [
    "portfolio_data = stock_Data.dropna(axis=1)"
   ]
  },
  {
   "cell_type": "code",
   "execution_count": 23,
   "metadata": {},
   "outputs": [
    {
     "data": {
      "text/plain": [
       "MMM     0\n",
       "AOS     0\n",
       "ABT     0\n",
       "ACN     0\n",
       "ATVI    0\n",
       "       ..\n",
       "XRX     0\n",
       "XLNX    0\n",
       "YUM     0\n",
       "ZBH     0\n",
       "ZION    0\n",
       "Length: 426, dtype: int64"
      ]
     },
     "execution_count": 23,
     "metadata": {},
     "output_type": "execute_result"
    }
   ],
   "source": [
    "portfolio_data.isnull().sum()"
   ]
  },
  {
   "cell_type": "code",
   "execution_count": 24,
   "metadata": {},
   "outputs": [],
   "source": [
    "port_Tickers = portfolio_data.columns"
   ]
  },
  {
   "cell_type": "code",
   "execution_count": null,
   "metadata": {},
   "outputs": [],
   "source": []
  },
  {
   "cell_type": "code",
   "execution_count": 25,
   "metadata": {},
   "outputs": [
    {
     "name": "stdout",
     "output_type": "stream",
     "text": [
      "<class 'pandas.core.frame.DataFrame'>\n",
      "DatetimeIndex: 2612 entries, 2010-01-04 to 2020-05-19\n",
      "Columns: 426 entries, MMM to ZION\n",
      "dtypes: float64(426)\n",
      "memory usage: 8.5 MB\n"
     ]
    }
   ],
   "source": [
    "portfolio_data.info()"
   ]
  },
  {
   "cell_type": "code",
   "execution_count": 26,
   "metadata": {},
   "outputs": [
    {
     "name": "stderr",
     "output_type": "stream",
     "text": [
      "/Users/admin/opt/anaconda3/lib/python3.7/site-packages/ipykernel_launcher.py:2: SettingWithCopyWarning: \n",
      "A value is trying to be set on a copy of a slice from a DataFrame.\n",
      "Try using .loc[row_indexer,col_indexer] = value instead\n",
      "\n",
      "See the caveats in the documentation: http://pandas.pydata.org/pandas-docs/stable/user_guide/indexing.html#returning-a-view-versus-a-copy\n",
      "  \n"
     ]
    }
   ],
   "source": [
    "for t in portfolio_data.columns:\n",
    "    portfolio_data[f\"{t} normal returns\"] = portfolio_data[t]/portfolio_data[t].iloc[0]"
   ]
  },
  {
   "cell_type": "markdown",
   "metadata": {},
   "source": [
    "### Allocations\n",
    "- LEts consider how we would weigh each security in the portfolio\n",
    "- Will randomize the Allocation for each security in the portfolio\n",
    "- And make sure they will add up to 100% of the portflio"
   ]
  },
  {
   "cell_type": "code",
   "execution_count": 27,
   "metadata": {},
   "outputs": [],
   "source": [
    "weii = np.random.random(426)\n",
    "weights = weii/weii.sum()"
   ]
  },
  {
   "cell_type": "code",
   "execution_count": 28,
   "metadata": {},
   "outputs": [
    {
     "data": {
      "text/plain": [
       "1.0"
      ]
     },
     "execution_count": 28,
     "metadata": {},
     "output_type": "execute_result"
    }
   ],
   "source": [
    "weights.sum()"
   ]
  },
  {
   "cell_type": "markdown",
   "metadata": {},
   "source": [
    "### Calculating Allocations with Weights"
   ]
  },
  {
   "cell_type": "code",
   "execution_count": 29,
   "metadata": {},
   "outputs": [],
   "source": [
    "port_Allocaitons = pd.DataFrame()\n",
    "for stock, weight in zip(port_Tickers,weights):\n",
    "    portfolio_data[f\"{stock} allocation\"] = portfolio_data[f\"{stock} normal returns\"] * weight\n",
    "    port_Allocaitons[f\"{stock} allocation\"] = portfolio_data[f\"{stock} normal returns\"] * weight\n",
    "    "
   ]
  },
  {
   "cell_type": "code",
   "execution_count": 30,
   "metadata": {},
   "outputs": [
    {
     "data": {
      "text/plain": [
       "<matplotlib.axes._subplots.AxesSubplot at 0x1a26c2e210>"
      ]
     },
     "execution_count": 30,
     "metadata": {},
     "output_type": "execute_result"
    },
    {
     "data": {
      "image/png": "[encoded data removed]",
      "text/plain": [
       "<Figure size 1152x432 with 1 Axes>"
      ]
     },
     "metadata": {
      "needs_background": "light"
     },
     "output_type": "display_data"
    }
   ],
   "source": [
    "port_Allocaitons.loc[\"2020-5-19\"].plot(figsize = (16,6))"
   ]
  },
  {
   "cell_type": "markdown",
   "metadata": {},
   "source": [
    "### Leading Companies over a 10 year period \n",
    "- Top 20 companies are below in relative to alocations\n",
    "- Netflix would have had the highest allocaton over a 10 year span \n",
    "- Agai nkeep in mind that this is arbritrary values of weights \n",
    "- Below we will take a look at 2000 different portfolios weighed randomly"
   ]
  },
  {
   "cell_type": "code",
   "execution_count": 31,
   "metadata": {},
   "outputs": [
    {
     "data": {
      "text/plain": [
       "NVDA allocation    0.090543\n",
       "REGN allocation    0.082754\n",
       "NFLX allocation    0.076640\n",
       "TDG allocation     0.066604\n",
       "MA allocation      0.057755\n",
       "ALGN allocation    0.048234\n",
       "IDXX allocation    0.047704\n",
       "ADBE allocation    0.045988\n",
       "STZ allocation     0.045951\n",
       "SPGI allocation    0.043280\n",
       "ULTA allocation    0.042045\n",
       "AAPL allocation    0.040123\n",
       "HUM allocation     0.034680\n",
       "MCO allocation     0.034665\n",
       "AVGO allocation    0.033231\n",
       "NOC allocation     0.031757\n",
       "EA allocation      0.029848\n",
       "CMG allocation     0.029661\n",
       "CHD allocation     0.028589\n",
       "URI allocation     0.028536\n",
       "Name: 2020-05-19 00:00:00, dtype: float64"
      ]
     },
     "execution_count": 31,
     "metadata": {},
     "output_type": "execute_result"
    }
   ],
   "source": [
    "port_Allocaitons.loc[\"2020-5-19\"].sort_values(ascending = False).head(20)"
   ]
  },
  {
   "cell_type": "markdown",
   "metadata": {},
   "source": [
    "### Calculating Position Value \n",
    "- We will invest in the portfolio with a position of 200K"
   ]
  },
  {
   "cell_type": "code",
   "execution_count": 32,
   "metadata": {},
   "outputs": [],
   "source": [
    "position = pd.DataFrame()\n",
    "for x in port_Tickers:\n",
    "    portfolio_data[f\"{x} pos for stock\"] = portfolio_data[f\"{x} allocation\"] * 200000\n",
    "    position[f\"{x} positon\"] = portfolio_data[f\"{x} allocation\"] * 200000"
   ]
  },
  {
   "cell_type": "code",
   "execution_count": 33,
   "metadata": {},
   "outputs": [
    {
     "data": {
      "text/plain": [
       "2612"
      ]
     },
     "execution_count": 33,
     "metadata": {},
     "output_type": "execute_result"
    }
   ],
   "source": [
    "len(position)"
   ]
  },
  {
   "cell_type": "code",
   "execution_count": null,
   "metadata": {},
   "outputs": [],
   "source": []
  },
  {
   "cell_type": "markdown",
   "metadata": {},
   "source": [
    "#### Calculating total Position \n",
    "- Lets see the daily Total positon we hold for the period"
   ]
  },
  {
   "cell_type": "code",
   "execution_count": 34,
   "metadata": {},
   "outputs": [],
   "source": [
    "portfolio_data[\"total positon\"] = position.sum(axis = 1)"
   ]
  },
  {
   "cell_type": "code",
   "execution_count": 35,
   "metadata": {},
   "outputs": [
    {
     "data": {
      "text/plain": [
       "<matplotlib.axes._subplots.AxesSubplot at 0x1a26905590>"
      ]
     },
     "execution_count": 35,
     "metadata": {},
     "output_type": "execute_result"
    },
    {
     "data": {
      "image/png": "[encoded data removed]",
      "text/plain": [
       "<Figure size 1152x432 with 1 Axes>"
      ]
     },
     "metadata": {
      "needs_background": "light"
     },
     "output_type": "display_data"
    }
   ],
   "source": [
    "portfolio_data[\"total positon\"].plot(figsize = (16,6))"
   ]
  },
  {
   "cell_type": "markdown",
   "metadata": {},
   "source": [
    "### Highest Portfolio Position \n",
    "- would Have been on first day below "
   ]
  },
  {
   "cell_type": "code",
   "execution_count": 36,
   "metadata": {},
   "outputs": [
    {
     "data": {
      "text/plain": [
       "Date\n",
       "2020-02-19    941499.345755\n",
       "2020-02-14    940042.415856\n",
       "2020-02-20    939975.693398\n",
       "2020-02-13    937720.910893\n",
       "2020-02-18    937039.335309\n",
       "                  ...      \n",
       "2010-02-09    190920.961805\n",
       "2010-02-10    190512.666740\n",
       "2010-02-05    189757.459323\n",
       "2010-02-04    189344.740377\n",
       "2010-02-08    188570.949018\n",
       "Name: total positon, Length: 2612, dtype: float64"
      ]
     },
     "execution_count": 36,
     "metadata": {},
     "output_type": "execute_result"
    }
   ],
   "source": [
    "portfolio_data[\"total positon\"].sort_values(ascending = False)"
   ]
  },
  {
   "cell_type": "markdown",
   "metadata": {},
   "source": [
    "### Calculating Daily Portfolio Returns\n",
    "- We see our portfolio Volatility below\n",
    "- Vol increase in 2010, late 2011, late 2015,early 2018, 2019 and recent 2020(COVID 19 epedemic)\n",
    "- for from a educated guess since all companies in this portfolio makes up the S&P the overall/average vol should be close to that of the entire index. We will analyze this later"
   ]
  },
  {
   "cell_type": "code",
   "execution_count": 37,
   "metadata": {},
   "outputs": [],
   "source": [
    "portfolio_data[\"daily returns\"] = portfolio_data[\"total positon\"].pct_change()"
   ]
  },
  {
   "cell_type": "code",
   "execution_count": 38,
   "metadata": {},
   "outputs": [
    {
     "data": {
      "text/plain": [
       "<matplotlib.axes._subplots.AxesSubplot at 0x1a26ac3e50>"
      ]
     },
     "execution_count": 38,
     "metadata": {},
     "output_type": "execute_result"
    },
    {
     "data": {
      "image/png": "[encoded data removed]",
      "text/plain": [
       "<Figure size 1152x432 with 1 Axes>"
      ]
     },
     "metadata": {
      "needs_background": "light"
     },
     "output_type": "display_data"
    }
   ],
   "source": [
    "portfolio_data[\"daily returns\"].plot(figsize = (16,6))"
   ]
  },
  {
   "cell_type": "markdown",
   "metadata": {},
   "source": [
    "## Sharp Ratio\n",
    "- Since we have the daily returns and the for the Portfilio we can calculate the Sharp Ratio for the portfilio"
   ]
  },
  {
   "cell_type": "code",
   "execution_count": 39,
   "metadata": {},
   "outputs": [],
   "source": [
    "volatility = portfolio_data[\"daily returns\"].std()"
   ]
  },
  {
   "cell_type": "code",
   "execution_count": 40,
   "metadata": {},
   "outputs": [
    {
     "data": {
      "text/plain": [
       "0.011571221217655058"
      ]
     },
     "execution_count": 40,
     "metadata": {},
     "output_type": "execute_result"
    }
   ],
   "source": [
    "volatility"
   ]
  },
  {
   "cell_type": "code",
   "execution_count": 41,
   "metadata": {},
   "outputs": [],
   "source": [
    "mean_daily_return = portfolio_data[\"daily returns\"].mean()"
   ]
  },
  {
   "cell_type": "code",
   "execution_count": 42,
   "metadata": {},
   "outputs": [
    {
     "data": {
      "text/plain": [
       "0.0005993605676253051"
      ]
     },
     "execution_count": 42,
     "metadata": {},
     "output_type": "execute_result"
    }
   ],
   "source": [
    "mean_daily_return"
   ]
  },
  {
   "cell_type": "code",
   "execution_count": 43,
   "metadata": {},
   "outputs": [],
   "source": [
    "sharp = (mean_daily_return/volatility) * np.sqrt(252)"
   ]
  },
  {
   "cell_type": "markdown",
   "metadata": {},
   "source": [
    "### Sharp Results\n",
    "- We get at pretty low sharp ratio for this portfolio \n",
    "- This is the outcome of having some really volatilie companies and some not \n",
    "- Keep in mind this is again using arbritrary Weights \n",
    "- We will use markowitz portfolio optimiztion on this portfolio to see what is the max sharp we could get from this portfolio"
   ]
  },
  {
   "cell_type": "code",
   "execution_count": 44,
   "metadata": {},
   "outputs": [
    {
     "data": {
      "text/plain": [
       "0.8222601458049525"
      ]
     },
     "execution_count": 44,
     "metadata": {},
     "output_type": "execute_result"
    }
   ],
   "source": [
    "sharp"
   ]
  },
  {
   "cell_type": "markdown",
   "metadata": {},
   "source": [
    "### Random Allocation of weights\n",
    "- We will assign 2000 portfolios with random weights to try to get the max sharp"
   ]
  },
  {
   "cell_type": "code",
   "execution_count": 45,
   "metadata": {},
   "outputs": [
    {
     "data": {
      "text/plain": [
       "Index(['MMM', 'AOS', 'ABT', 'ACN', 'ATVI', 'AYI', 'ADBE', 'AAP', 'AMD', 'AES',\n",
       "       ...\n",
       "       'WHR', 'WMB', 'WLTW', 'WYNN', 'XEL', 'XRX', 'XLNX', 'YUM', 'ZBH',\n",
       "       'ZION'],\n",
       "      dtype='object', length=426)"
      ]
     },
     "execution_count": 45,
     "metadata": {},
     "output_type": "execute_result"
    }
   ],
   "source": [
    "port_Tickers"
   ]
  },
  {
   "cell_type": "code",
   "execution_count": 46,
   "metadata": {},
   "outputs": [],
   "source": [
    "port_daily_returns = stock_Data.dropna(axis = 1).pct_change()"
   ]
  },
  {
   "cell_type": "code",
   "execution_count": 47,
   "metadata": {},
   "outputs": [],
   "source": [
    "number_of_ports = 2000\n",
    "all_weights = np.zeros((number_of_ports, len(port_Tickers)))\n",
    "all_vol = np.zeros(number_of_ports)\n",
    "all_returns = np.zeros(number_of_ports)\n",
    "all_sharps = np.zeros(number_of_ports)\n",
    "\n",
    "for ind in range(number_of_ports):\n",
    "    weights = np.random.random(len(port_Tickers))\n",
    "    weights = weights/weights.sum()\n",
    "    all_weights[ind,:] = weights\n",
    "    \n",
    "    all_returns[ind] = np.sum(port_daily_returns.mean() *weights) * 252 \n",
    "    all_vol[ind] = np.sqrt(np.dot(weights.T, np.dot(port_daily_returns.cov() * 252, weights)))\n",
    "    all_sharps[ind] = all_returns[ind]/all_vol[ind]"
   ]
  },
  {
   "cell_type": "markdown",
   "metadata": {},
   "source": [
    "### Capturing Metrics\n",
    "- will look at the Max Sharp\n",
    "- Lowest Vol\n",
    "- Highest Return"
   ]
  },
  {
   "cell_type": "code",
   "execution_count": 50,
   "metadata": {},
   "outputs": [],
   "source": [
    "max_sharp = all_sharps.argmax()"
   ]
  },
  {
   "cell_type": "code",
   "execution_count": 51,
   "metadata": {},
   "outputs": [
    {
     "data": {
      "text/plain": [
       "213"
      ]
     },
     "execution_count": 51,
     "metadata": {},
     "output_type": "execute_result"
    }
   ],
   "source": [
    "max_sharp"
   ]
  },
  {
   "cell_type": "code",
   "execution_count": 52,
   "metadata": {},
   "outputs": [],
   "source": [
    "max_returns = all_returns.argmax()"
   ]
  },
  {
   "cell_type": "code",
   "execution_count": 53,
   "metadata": {},
   "outputs": [
    {
     "data": {
      "text/plain": [
       "213"
      ]
     },
     "execution_count": 53,
     "metadata": {},
     "output_type": "execute_result"
    }
   ],
   "source": [
    "max_returns"
   ]
  },
  {
   "cell_type": "code",
   "execution_count": 54,
   "metadata": {},
   "outputs": [],
   "source": [
    "lowest_vol =all_vol.argmin()"
   ]
  },
  {
   "cell_type": "code",
   "execution_count": 55,
   "metadata": {},
   "outputs": [
    {
     "data": {
      "text/plain": [
       "834"
      ]
     },
     "execution_count": 55,
     "metadata": {},
     "output_type": "execute_result"
    }
   ],
   "source": [
    "lowest_vol"
   ]
  },
  {
   "cell_type": "markdown",
   "metadata": {},
   "source": [
    "### Plotting the All portfolios"
   ]
  },
  {
   "cell_type": "code",
   "execution_count": 56,
   "metadata": {},
   "outputs": [],
   "source": [
    "import matplotlib.pyplot as plt"
   ]
  },
  {
   "cell_type": "code",
   "execution_count": 93,
   "metadata": {},
   "outputs": [
    {
     "data": {
      "text/plain": [
       "Text(0.5, 1.0, 'Sharp Ratio of 2000 rendomized Portfolios \\n Every company in S&P')"
      ]
     },
     "execution_count": 93,
     "metadata": {},
     "output_type": "execute_result"
    },
    {
     "data": {
      "image/png": "[encoded data removed]",
      "text/plain": [
       "<Figure size 1152x576 with 2 Axes>"
      ]
     },
     "metadata": {
      "needs_background": "light"
     },
     "output_type": "display_data"
    }
   ],
   "source": [
    "plt.figure(figsize= (16,8))\n",
    "plt.scatter(all_vol, all_returns, c = all_sharps)\n",
    "plt.colorbar(label = \"Sharp\")\n",
    "plt.scatter(all_vol[max_sharp], all_returns[max_sharp], c = \"r\", s = 190, label = \"Max Sharp\")\n",
    "plt.scatter(all_vol[lowest_vol], all_returns[lowest_vol], c = \"orange\", s = 40, label  = \"Lowest Vol\")\n",
    "plt.scatter(all_vol[max_returns], all_returns[max_returns], c = \"b\", s = 70, label = \"Max Returns\")\n",
    "plt.xlabel(\"Vol\")\n",
    "plt.ylabel(\"Returns\")\n",
    "plt.title(\"Sharp Ratio of 2000 rendomized Portfolios \\n Every company in S&P\")"
   ]
  },
  {
   "cell_type": "markdown",
   "metadata": {},
   "source": [
    "### Saving the Data \n",
    "- At the data to a DF to csv for future use"
   ]
  },
  {
   "cell_type": "code",
   "execution_count": 75,
   "metadata": {},
   "outputs": [],
   "source": [
    "random_Df = pd.DataFrame(all_sharps, columns=[\"Sharps\"])"
   ]
  },
  {
   "cell_type": "code",
   "execution_count": 77,
   "metadata": {},
   "outputs": [],
   "source": [
    "random_Df[\"all Vols\"] = all_vol"
   ]
  },
  {
   "cell_type": "code",
   "execution_count": 79,
   "metadata": {},
   "outputs": [],
   "source": [
    "random_Df[\"all_returns\"] = all_returns"
   ]
  },
  {
   "cell_type": "code",
   "execution_count": 83,
   "metadata": {},
   "outputs": [],
   "source": [
    "weights_df = pd.DataFrame(all_weights)"
   ]
  },
  {
   "cell_type": "code",
   "execution_count": 85,
   "metadata": {},
   "outputs": [],
   "source": [
    "weights_df.columns = port_Tickers"
   ]
  },
  {
   "cell_type": "code",
   "execution_count": 87,
   "metadata": {},
   "outputs": [],
   "source": [
    "random_allocation_df = pd.concat([random_Df, weights_df], axis=1)"
   ]
  },
  {
   "cell_type": "code",
   "execution_count": 89,
   "metadata": {},
   "outputs": [],
   "source": [
    "random_allocation_df.to_csv(\"resources/random_Allocations_DF.csv\")"
   ]
  },
  {
   "cell_type": "code",
   "execution_count": 90,
   "metadata": {},
   "outputs": [],
   "source": [
    "weights_df.to_csv(\"resources/just_weights.csv\")"
   ]
  },
  {
   "cell_type": "code",
   "execution_count": 92,
   "metadata": {},
   "outputs": [
    {
     "data": {
      "text/html": [
       "<div>\n",
       "<style scoped>\n",
       "    .dataframe tbody tr th:only-of-type {\n",
       "        vertical-align: middle;\n",
       "    }\n",
       "\n",
       "    .dataframe tbody tr th {\n",
       "        vertical-align: top;\n",
       "    }\n",
       "\n",
       "    .dataframe thead th {\n",
       "        text-align: right;\n",
       "    }\n",
       "</style>\n",
       "<table border=\"1\" class=\"dataframe\">\n",
       "  <thead>\n",
       "    <tr style=\"text-align: right;\">\n",
       "      <th></th>\n",
       "      <th>Sharps</th>\n",
       "      <th>all Vols</th>\n",
       "      <th>all_returns</th>\n",
       "      <th>MMM</th>\n",
       "      <th>AOS</th>\n",
       "      <th>ABT</th>\n",
       "      <th>ACN</th>\n",
       "      <th>ATVI</th>\n",
       "      <th>AYI</th>\n",
       "      <th>ADBE</th>\n",
       "      <th>...</th>\n",
       "      <th>WHR</th>\n",
       "      <th>WMB</th>\n",
       "      <th>WLTW</th>\n",
       "      <th>WYNN</th>\n",
       "      <th>XEL</th>\n",
       "      <th>XRX</th>\n",
       "      <th>XLNX</th>\n",
       "      <th>YUM</th>\n",
       "      <th>ZBH</th>\n",
       "      <th>ZION</th>\n",
       "    </tr>\n",
       "  </thead>\n",
       "  <tbody>\n",
       "    <tr>\n",
       "      <td>213</td>\n",
       "      <td>0.849394</td>\n",
       "      <td>0.183828</td>\n",
       "      <td>0.156142</td>\n",
       "      <td>0.004285</td>\n",
       "      <td>0.00313</td>\n",
       "      <td>0.002169</td>\n",
       "      <td>0.002197</td>\n",
       "      <td>0.003488</td>\n",
       "      <td>0.002639</td>\n",
       "      <td>0.003143</td>\n",
       "      <td>...</td>\n",
       "      <td>0.003783</td>\n",
       "      <td>0.003605</td>\n",
       "      <td>0.003951</td>\n",
       "      <td>0.000888</td>\n",
       "      <td>0.002099</td>\n",
       "      <td>0.001061</td>\n",
       "      <td>0.004136</td>\n",
       "      <td>0.000574</td>\n",
       "      <td>0.000576</td>\n",
       "      <td>0.000315</td>\n",
       "    </tr>\n",
       "  </tbody>\n",
       "</table>\n",
       "<p>1 rows × 429 columns</p>\n",
       "</div>"
      ],
      "text/plain": [
       "       Sharps  all Vols  all_returns       MMM      AOS       ABT       ACN  \\\n",
       "213  0.849394  0.183828     0.156142  0.004285  0.00313  0.002169  0.002197   \n",
       "\n",
       "         ATVI       AYI      ADBE  ...       WHR       WMB      WLTW  \\\n",
       "213  0.003488  0.002639  0.003143  ...  0.003783  0.003605  0.003951   \n",
       "\n",
       "         WYNN       XEL       XRX      XLNX       YUM       ZBH      ZION  \n",
       "213  0.000888  0.002099  0.001061  0.004136  0.000574  0.000576  0.000315  \n",
       "\n",
       "[1 rows x 429 columns]"
      ]
     },
     "execution_count": 92,
     "metadata": {},
     "output_type": "execute_result"
    }
   ],
   "source": [
    "random_allocation_df[random_allocation_df[\"Sharps\"] == all_sharps.max()]"
   ]
  },
  {
   "cell_type": "code",
   "execution_count": 96,
   "metadata": {},
   "outputs": [
    {
     "data": {
      "text/html": [
       "<div>\n",
       "<style scoped>\n",
       "    .dataframe tbody tr th:only-of-type {\n",
       "        vertical-align: middle;\n",
       "    }\n",
       "\n",
       "    .dataframe tbody tr th {\n",
       "        vertical-align: top;\n",
       "    }\n",
       "\n",
       "    .dataframe thead th {\n",
       "        text-align: right;\n",
       "    }\n",
       "</style>\n",
       "<table border=\"1\" class=\"dataframe\">\n",
       "  <thead>\n",
       "    <tr style=\"text-align: right;\">\n",
       "      <th></th>\n",
       "      <th>Sharps</th>\n",
       "      <th>all Vols</th>\n",
       "      <th>all_returns</th>\n",
       "      <th>MMM</th>\n",
       "      <th>AOS</th>\n",
       "      <th>ABT</th>\n",
       "      <th>ACN</th>\n",
       "      <th>ATVI</th>\n",
       "      <th>AYI</th>\n",
       "      <th>ADBE</th>\n",
       "      <th>...</th>\n",
       "      <th>WHR</th>\n",
       "      <th>WMB</th>\n",
       "      <th>WLTW</th>\n",
       "      <th>WYNN</th>\n",
       "      <th>XEL</th>\n",
       "      <th>XRX</th>\n",
       "      <th>XLNX</th>\n",
       "      <th>YUM</th>\n",
       "      <th>ZBH</th>\n",
       "      <th>ZION</th>\n",
       "    </tr>\n",
       "  </thead>\n",
       "  <tbody>\n",
       "    <tr>\n",
       "      <td>213</td>\n",
       "      <td>0.849394</td>\n",
       "      <td>0.183828</td>\n",
       "      <td>0.156142</td>\n",
       "      <td>0.004285</td>\n",
       "      <td>0.00313</td>\n",
       "      <td>0.002169</td>\n",
       "      <td>0.002197</td>\n",
       "      <td>0.003488</td>\n",
       "      <td>0.002639</td>\n",
       "      <td>0.003143</td>\n",
       "      <td>...</td>\n",
       "      <td>0.003783</td>\n",
       "      <td>0.003605</td>\n",
       "      <td>0.003951</td>\n",
       "      <td>0.000888</td>\n",
       "      <td>0.002099</td>\n",
       "      <td>0.001061</td>\n",
       "      <td>0.004136</td>\n",
       "      <td>0.000574</td>\n",
       "      <td>0.000576</td>\n",
       "      <td>0.000315</td>\n",
       "    </tr>\n",
       "  </tbody>\n",
       "</table>\n",
       "<p>1 rows × 429 columns</p>\n",
       "</div>"
      ],
      "text/plain": [
       "       Sharps  all Vols  all_returns       MMM      AOS       ABT       ACN  \\\n",
       "213  0.849394  0.183828     0.156142  0.004285  0.00313  0.002169  0.002197   \n",
       "\n",
       "         ATVI       AYI      ADBE  ...       WHR       WMB      WLTW  \\\n",
       "213  0.003488  0.002639  0.003143  ...  0.003783  0.003605  0.003951   \n",
       "\n",
       "         WYNN       XEL       XRX      XLNX       YUM       ZBH      ZION  \n",
       "213  0.000888  0.002099  0.001061  0.004136  0.000574  0.000576  0.000315  \n",
       "\n",
       "[1 rows x 429 columns]"
      ]
     },
     "execution_count": 96,
     "metadata": {},
     "output_type": "execute_result"
    }
   ],
   "source": [
    "random_allocation_df[random_allocation_df[\"all_returns\"] == all_returns.max()]"
   ]
  },
  {
   "cell_type": "code",
   "execution_count": 97,
   "metadata": {},
   "outputs": [
    {
     "data": {
      "text/html": [
       "<div>\n",
       "<style scoped>\n",
       "    .dataframe tbody tr th:only-of-type {\n",
       "        vertical-align: middle;\n",
       "    }\n",
       "\n",
       "    .dataframe tbody tr th {\n",
       "        vertical-align: top;\n",
       "    }\n",
       "\n",
       "    .dataframe thead th {\n",
       "        text-align: right;\n",
       "    }\n",
       "</style>\n",
       "<table border=\"1\" class=\"dataframe\">\n",
       "  <thead>\n",
       "    <tr style=\"text-align: right;\">\n",
       "      <th></th>\n",
       "      <th>Sharps</th>\n",
       "      <th>all Vols</th>\n",
       "      <th>all_returns</th>\n",
       "      <th>MMM</th>\n",
       "      <th>AOS</th>\n",
       "      <th>ABT</th>\n",
       "      <th>ACN</th>\n",
       "      <th>ATVI</th>\n",
       "      <th>AYI</th>\n",
       "      <th>ADBE</th>\n",
       "      <th>...</th>\n",
       "      <th>WHR</th>\n",
       "      <th>WMB</th>\n",
       "      <th>WLTW</th>\n",
       "      <th>WYNN</th>\n",
       "      <th>XEL</th>\n",
       "      <th>XRX</th>\n",
       "      <th>XLNX</th>\n",
       "      <th>YUM</th>\n",
       "      <th>ZBH</th>\n",
       "      <th>ZION</th>\n",
       "    </tr>\n",
       "  </thead>\n",
       "  <tbody>\n",
       "    <tr>\n",
       "      <td>834</td>\n",
       "      <td>0.819759</td>\n",
       "      <td>0.182714</td>\n",
       "      <td>0.149782</td>\n",
       "      <td>0.002405</td>\n",
       "      <td>0.00147</td>\n",
       "      <td>0.0008</td>\n",
       "      <td>0.001875</td>\n",
       "      <td>0.002108</td>\n",
       "      <td>0.001634</td>\n",
       "      <td>0.001536</td>\n",
       "      <td>...</td>\n",
       "      <td>0.001359</td>\n",
       "      <td>0.000539</td>\n",
       "      <td>0.000552</td>\n",
       "      <td>0.000435</td>\n",
       "      <td>0.001473</td>\n",
       "      <td>0.003409</td>\n",
       "      <td>0.001249</td>\n",
       "      <td>0.000123</td>\n",
       "      <td>0.003292</td>\n",
       "      <td>0.001218</td>\n",
       "    </tr>\n",
       "  </tbody>\n",
       "</table>\n",
       "<p>1 rows × 429 columns</p>\n",
       "</div>"
      ],
      "text/plain": [
       "       Sharps  all Vols  all_returns       MMM      AOS     ABT       ACN  \\\n",
       "834  0.819759  0.182714     0.149782  0.002405  0.00147  0.0008  0.001875   \n",
       "\n",
       "         ATVI       AYI      ADBE  ...       WHR       WMB      WLTW  \\\n",
       "834  0.002108  0.001634  0.001536  ...  0.001359  0.000539  0.000552   \n",
       "\n",
       "         WYNN       XEL       XRX      XLNX       YUM       ZBH      ZION  \n",
       "834  0.000435  0.001473  0.003409  0.001249  0.000123  0.003292  0.001218  \n",
       "\n",
       "[1 rows x 429 columns]"
      ]
     },
     "execution_count": 97,
     "metadata": {},
     "output_type": "execute_result"
    }
   ],
   "source": [
    "random_allocation_df[random_allocation_df[\"all Vols\"] == all_vol.min()]"
   ]
  },
  {
   "cell_type": "code",
   "execution_count": 98,
   "metadata": {},
   "outputs": [
    {
     "data": {
      "text/html": [
       "<div>\n",
       "<style scoped>\n",
       "    .dataframe tbody tr th:only-of-type {\n",
       "        vertical-align: middle;\n",
       "    }\n",
       "\n",
       "    .dataframe tbody tr th {\n",
       "        vertical-align: top;\n",
       "    }\n",
       "\n",
       "    .dataframe thead th {\n",
       "        text-align: right;\n",
       "    }\n",
       "</style>\n",
       "<table border=\"1\" class=\"dataframe\">\n",
       "  <thead>\n",
       "    <tr style=\"text-align: right;\">\n",
       "      <th></th>\n",
       "      <th>MMM</th>\n",
       "      <th>AOS</th>\n",
       "      <th>ABT</th>\n",
       "      <th>ACN</th>\n",
       "      <th>ATVI</th>\n",
       "      <th>AYI</th>\n",
       "      <th>ADBE</th>\n",
       "      <th>AAP</th>\n",
       "      <th>AMD</th>\n",
       "      <th>AES</th>\n",
       "      <th>...</th>\n",
       "      <th>WHR</th>\n",
       "      <th>WMB</th>\n",
       "      <th>WLTW</th>\n",
       "      <th>WYNN</th>\n",
       "      <th>XEL</th>\n",
       "      <th>XRX</th>\n",
       "      <th>XLNX</th>\n",
       "      <th>YUM</th>\n",
       "      <th>ZBH</th>\n",
       "      <th>ZION</th>\n",
       "    </tr>\n",
       "  </thead>\n",
       "  <tbody>\n",
       "    <tr>\n",
       "      <td>0</td>\n",
       "      <td>0.003477</td>\n",
       "      <td>0.001425</td>\n",
       "      <td>2.868633e-07</td>\n",
       "      <td>0.001667</td>\n",
       "      <td>0.001057</td>\n",
       "      <td>0.003193</td>\n",
       "      <td>0.003028</td>\n",
       "      <td>0.000668</td>\n",
       "      <td>0.004497</td>\n",
       "      <td>0.001018</td>\n",
       "      <td>...</td>\n",
       "      <td>0.000345</td>\n",
       "      <td>0.003904</td>\n",
       "      <td>0.004026</td>\n",
       "      <td>0.000205</td>\n",
       "      <td>0.000783</td>\n",
       "      <td>0.000585</td>\n",
       "      <td>0.003815</td>\n",
       "      <td>0.001741</td>\n",
       "      <td>0.002437</td>\n",
       "      <td>0.004652</td>\n",
       "    </tr>\n",
       "    <tr>\n",
       "      <td>1</td>\n",
       "      <td>0.003414</td>\n",
       "      <td>0.004202</td>\n",
       "      <td>4.261506e-03</td>\n",
       "      <td>0.004137</td>\n",
       "      <td>0.000526</td>\n",
       "      <td>0.001657</td>\n",
       "      <td>0.003958</td>\n",
       "      <td>0.004318</td>\n",
       "      <td>0.000276</td>\n",
       "      <td>0.004164</td>\n",
       "      <td>...</td>\n",
       "      <td>0.002735</td>\n",
       "      <td>0.002721</td>\n",
       "      <td>0.000670</td>\n",
       "      <td>0.000344</td>\n",
       "      <td>0.003898</td>\n",
       "      <td>0.000385</td>\n",
       "      <td>0.001820</td>\n",
       "      <td>0.001140</td>\n",
       "      <td>0.003534</td>\n",
       "      <td>0.002187</td>\n",
       "    </tr>\n",
       "    <tr>\n",
       "      <td>2</td>\n",
       "      <td>0.000902</td>\n",
       "      <td>0.004115</td>\n",
       "      <td>1.382467e-03</td>\n",
       "      <td>0.001075</td>\n",
       "      <td>0.002607</td>\n",
       "      <td>0.000288</td>\n",
       "      <td>0.003656</td>\n",
       "      <td>0.002154</td>\n",
       "      <td>0.003515</td>\n",
       "      <td>0.002804</td>\n",
       "      <td>...</td>\n",
       "      <td>0.004532</td>\n",
       "      <td>0.002947</td>\n",
       "      <td>0.003176</td>\n",
       "      <td>0.000047</td>\n",
       "      <td>0.002609</td>\n",
       "      <td>0.000233</td>\n",
       "      <td>0.001821</td>\n",
       "      <td>0.000744</td>\n",
       "      <td>0.001036</td>\n",
       "      <td>0.001396</td>\n",
       "    </tr>\n",
       "    <tr>\n",
       "      <td>3</td>\n",
       "      <td>0.002971</td>\n",
       "      <td>0.002829</td>\n",
       "      <td>1.822727e-03</td>\n",
       "      <td>0.001705</td>\n",
       "      <td>0.002172</td>\n",
       "      <td>0.000558</td>\n",
       "      <td>0.000052</td>\n",
       "      <td>0.004572</td>\n",
       "      <td>0.002795</td>\n",
       "      <td>0.002117</td>\n",
       "      <td>...</td>\n",
       "      <td>0.003195</td>\n",
       "      <td>0.002898</td>\n",
       "      <td>0.004006</td>\n",
       "      <td>0.001271</td>\n",
       "      <td>0.000815</td>\n",
       "      <td>0.002880</td>\n",
       "      <td>0.000622</td>\n",
       "      <td>0.000247</td>\n",
       "      <td>0.003610</td>\n",
       "      <td>0.000597</td>\n",
       "    </tr>\n",
       "    <tr>\n",
       "      <td>4</td>\n",
       "      <td>0.000511</td>\n",
       "      <td>0.004532</td>\n",
       "      <td>3.125251e-03</td>\n",
       "      <td>0.002973</td>\n",
       "      <td>0.003099</td>\n",
       "      <td>0.002088</td>\n",
       "      <td>0.001960</td>\n",
       "      <td>0.004100</td>\n",
       "      <td>0.000195</td>\n",
       "      <td>0.001602</td>\n",
       "      <td>...</td>\n",
       "      <td>0.004215</td>\n",
       "      <td>0.001742</td>\n",
       "      <td>0.002014</td>\n",
       "      <td>0.003458</td>\n",
       "      <td>0.001567</td>\n",
       "      <td>0.000876</td>\n",
       "      <td>0.000689</td>\n",
       "      <td>0.003855</td>\n",
       "      <td>0.000590</td>\n",
       "      <td>0.001180</td>\n",
       "    </tr>\n",
       "    <tr>\n",
       "      <td>...</td>\n",
       "      <td>...</td>\n",
       "      <td>...</td>\n",
       "      <td>...</td>\n",
       "      <td>...</td>\n",
       "      <td>...</td>\n",
       "      <td>...</td>\n",
       "      <td>...</td>\n",
       "      <td>...</td>\n",
       "      <td>...</td>\n",
       "      <td>...</td>\n",
       "      <td>...</td>\n",
       "      <td>...</td>\n",
       "      <td>...</td>\n",
       "      <td>...</td>\n",
       "      <td>...</td>\n",
       "      <td>...</td>\n",
       "      <td>...</td>\n",
       "      <td>...</td>\n",
       "      <td>...</td>\n",
       "      <td>...</td>\n",
       "      <td>...</td>\n",
       "    </tr>\n",
       "    <tr>\n",
       "      <td>1995</td>\n",
       "      <td>0.001578</td>\n",
       "      <td>0.000927</td>\n",
       "      <td>1.280502e-03</td>\n",
       "      <td>0.004624</td>\n",
       "      <td>0.001591</td>\n",
       "      <td>0.003100</td>\n",
       "      <td>0.000182</td>\n",
       "      <td>0.004259</td>\n",
       "      <td>0.002631</td>\n",
       "      <td>0.000472</td>\n",
       "      <td>...</td>\n",
       "      <td>0.002763</td>\n",
       "      <td>0.000430</td>\n",
       "      <td>0.000245</td>\n",
       "      <td>0.003022</td>\n",
       "      <td>0.001231</td>\n",
       "      <td>0.003832</td>\n",
       "      <td>0.003940</td>\n",
       "      <td>0.003982</td>\n",
       "      <td>0.001947</td>\n",
       "      <td>0.002831</td>\n",
       "    </tr>\n",
       "    <tr>\n",
       "      <td>1996</td>\n",
       "      <td>0.002494</td>\n",
       "      <td>0.003775</td>\n",
       "      <td>3.563485e-03</td>\n",
       "      <td>0.001862</td>\n",
       "      <td>0.001500</td>\n",
       "      <td>0.004278</td>\n",
       "      <td>0.001145</td>\n",
       "      <td>0.003010</td>\n",
       "      <td>0.000634</td>\n",
       "      <td>0.004138</td>\n",
       "      <td>...</td>\n",
       "      <td>0.002095</td>\n",
       "      <td>0.004431</td>\n",
       "      <td>0.002957</td>\n",
       "      <td>0.001058</td>\n",
       "      <td>0.001391</td>\n",
       "      <td>0.002448</td>\n",
       "      <td>0.002332</td>\n",
       "      <td>0.001074</td>\n",
       "      <td>0.004308</td>\n",
       "      <td>0.001839</td>\n",
       "    </tr>\n",
       "    <tr>\n",
       "      <td>1997</td>\n",
       "      <td>0.003656</td>\n",
       "      <td>0.001029</td>\n",
       "      <td>2.828402e-03</td>\n",
       "      <td>0.000266</td>\n",
       "      <td>0.000352</td>\n",
       "      <td>0.003971</td>\n",
       "      <td>0.001929</td>\n",
       "      <td>0.000809</td>\n",
       "      <td>0.002687</td>\n",
       "      <td>0.000857</td>\n",
       "      <td>...</td>\n",
       "      <td>0.002969</td>\n",
       "      <td>0.001706</td>\n",
       "      <td>0.003899</td>\n",
       "      <td>0.001368</td>\n",
       "      <td>0.000532</td>\n",
       "      <td>0.003578</td>\n",
       "      <td>0.003802</td>\n",
       "      <td>0.001227</td>\n",
       "      <td>0.002427</td>\n",
       "      <td>0.003022</td>\n",
       "    </tr>\n",
       "    <tr>\n",
       "      <td>1998</td>\n",
       "      <td>0.004029</td>\n",
       "      <td>0.004375</td>\n",
       "      <td>2.828057e-03</td>\n",
       "      <td>0.002234</td>\n",
       "      <td>0.002285</td>\n",
       "      <td>0.004558</td>\n",
       "      <td>0.002057</td>\n",
       "      <td>0.001622</td>\n",
       "      <td>0.002840</td>\n",
       "      <td>0.004523</td>\n",
       "      <td>...</td>\n",
       "      <td>0.002308</td>\n",
       "      <td>0.004592</td>\n",
       "      <td>0.001511</td>\n",
       "      <td>0.002613</td>\n",
       "      <td>0.001070</td>\n",
       "      <td>0.002935</td>\n",
       "      <td>0.002370</td>\n",
       "      <td>0.003747</td>\n",
       "      <td>0.002185</td>\n",
       "      <td>0.000599</td>\n",
       "    </tr>\n",
       "    <tr>\n",
       "      <td>1999</td>\n",
       "      <td>0.002434</td>\n",
       "      <td>0.002371</td>\n",
       "      <td>1.165822e-03</td>\n",
       "      <td>0.003012</td>\n",
       "      <td>0.002543</td>\n",
       "      <td>0.002977</td>\n",
       "      <td>0.001521</td>\n",
       "      <td>0.000474</td>\n",
       "      <td>0.000292</td>\n",
       "      <td>0.003478</td>\n",
       "      <td>...</td>\n",
       "      <td>0.002835</td>\n",
       "      <td>0.003061</td>\n",
       "      <td>0.000449</td>\n",
       "      <td>0.003624</td>\n",
       "      <td>0.002772</td>\n",
       "      <td>0.000305</td>\n",
       "      <td>0.002411</td>\n",
       "      <td>0.000548</td>\n",
       "      <td>0.003425</td>\n",
       "      <td>0.002941</td>\n",
       "    </tr>\n",
       "  </tbody>\n",
       "</table>\n",
       "<p>2000 rows × 426 columns</p>\n",
       "</div>"
      ],
      "text/plain": [
       "           MMM       AOS           ABT       ACN      ATVI       AYI  \\\n",
       "0     0.003477  0.001425  2.868633e-07  0.001667  0.001057  0.003193   \n",
       "1     0.003414  0.004202  4.261506e-03  0.004137  0.000526  0.001657   \n",
       "2     0.000902  0.004115  1.382467e-03  0.001075  0.002607  0.000288   \n",
       "3     0.002971  0.002829  1.822727e-03  0.001705  0.002172  0.000558   \n",
       "4     0.000511  0.004532  3.125251e-03  0.002973  0.003099  0.002088   \n",
       "...        ...       ...           ...       ...       ...       ...   \n",
       "1995  0.001578  0.000927  1.280502e-03  0.004624  0.001591  0.003100   \n",
       "1996  0.002494  0.003775  3.563485e-03  0.001862  0.001500  0.004278   \n",
       "1997  0.003656  0.001029  2.828402e-03  0.000266  0.000352  0.003971   \n",
       "1998  0.004029  0.004375  2.828057e-03  0.002234  0.002285  0.004558   \n",
       "1999  0.002434  0.002371  1.165822e-03  0.003012  0.002543  0.002977   \n",
       "\n",
       "          ADBE       AAP       AMD       AES  ...       WHR       WMB  \\\n",
       "0     0.003028  0.000668  0.004497  0.001018  ...  0.000345  0.003904   \n",
       "1     0.003958  0.004318  0.000276  0.004164  ...  0.002735  0.002721   \n",
       "2     0.003656  0.002154  0.003515  0.002804  ...  0.004532  0.002947   \n",
       "3     0.000052  0.004572  0.002795  0.002117  ...  0.003195  0.002898   \n",
       "4     0.001960  0.004100  0.000195  0.001602  ...  0.004215  0.001742   \n",
       "...        ...       ...       ...       ...  ...       ...       ...   \n",
       "1995  0.000182  0.004259  0.002631  0.000472  ...  0.002763  0.000430   \n",
       "1996  0.001145  0.003010  0.000634  0.004138  ...  0.002095  0.004431   \n",
       "1997  0.001929  0.000809  0.002687  0.000857  ...  0.002969  0.001706   \n",
       "1998  0.002057  0.001622  0.002840  0.004523  ...  0.002308  0.004592   \n",
       "1999  0.001521  0.000474  0.000292  0.003478  ...  0.002835  0.003061   \n",
       "\n",
       "          WLTW      WYNN       XEL       XRX      XLNX       YUM       ZBH  \\\n",
       "0     0.004026  0.000205  0.000783  0.000585  0.003815  0.001741  0.002437   \n",
       "1     0.000670  0.000344  0.003898  0.000385  0.001820  0.001140  0.003534   \n",
       "2     0.003176  0.000047  0.002609  0.000233  0.001821  0.000744  0.001036   \n",
       "3     0.004006  0.001271  0.000815  0.002880  0.000622  0.000247  0.003610   \n",
       "4     0.002014  0.003458  0.001567  0.000876  0.000689  0.003855  0.000590   \n",
       "...        ...       ...       ...       ...       ...       ...       ...   \n",
       "1995  0.000245  0.003022  0.001231  0.003832  0.003940  0.003982  0.001947   \n",
       "1996  0.002957  0.001058  0.001391  0.002448  0.002332  0.001074  0.004308   \n",
       "1997  0.003899  0.001368  0.000532  0.003578  0.003802  0.001227  0.002427   \n",
       "1998  0.001511  0.002613  0.001070  0.002935  0.002370  0.003747  0.002185   \n",
       "1999  0.000449  0.003624  0.002772  0.000305  0.002411  0.000548  0.003425   \n",
       "\n",
       "          ZION  \n",
       "0     0.004652  \n",
       "1     0.002187  \n",
       "2     0.001396  \n",
       "3     0.000597  \n",
       "4     0.001180  \n",
       "...        ...  \n",
       "1995  0.002831  \n",
       "1996  0.001839  \n",
       "1997  0.003022  \n",
       "1998  0.000599  \n",
       "1999  0.002941  \n",
       "\n",
       "[2000 rows x 426 columns]"
      ]
     },
     "execution_count": 98,
     "metadata": {},
     "output_type": "execute_result"
    }
   ],
   "source": [
    "weights_df"
   ]
  },
  {
   "cell_type": "code",
   "execution_count": 105,
   "metadata": {},
   "outputs": [
    {
     "data": {
      "text/html": [
       "<div>\n",
       "<style scoped>\n",
       "    .dataframe tbody tr th:only-of-type {\n",
       "        vertical-align: middle;\n",
       "    }\n",
       "\n",
       "    .dataframe tbody tr th {\n",
       "        vertical-align: top;\n",
       "    }\n",
       "\n",
       "    .dataframe thead th {\n",
       "        text-align: right;\n",
       "    }\n",
       "</style>\n",
       "<table border=\"1\" class=\"dataframe\">\n",
       "  <thead>\n",
       "    <tr style=\"text-align: right;\">\n",
       "      <th></th>\n",
       "      <th>834</th>\n",
       "    </tr>\n",
       "  </thead>\n",
       "  <tbody>\n",
       "    <tr>\n",
       "      <td>CF</td>\n",
       "      <td>0.004656</td>\n",
       "    </tr>\n",
       "    <tr>\n",
       "      <td>HSIC</td>\n",
       "      <td>0.004646</td>\n",
       "    </tr>\n",
       "    <tr>\n",
       "      <td>RF</td>\n",
       "      <td>0.004631</td>\n",
       "    </tr>\n",
       "    <tr>\n",
       "      <td>RSG</td>\n",
       "      <td>0.004630</td>\n",
       "    </tr>\n",
       "    <tr>\n",
       "      <td>IDXX</td>\n",
       "      <td>0.004615</td>\n",
       "    </tr>\n",
       "    <tr>\n",
       "      <td>...</td>\n",
       "      <td>...</td>\n",
       "    </tr>\n",
       "    <tr>\n",
       "      <td>COG</td>\n",
       "      <td>0.000057</td>\n",
       "    </tr>\n",
       "    <tr>\n",
       "      <td>RCL</td>\n",
       "      <td>0.000054</td>\n",
       "    </tr>\n",
       "    <tr>\n",
       "      <td>BK</td>\n",
       "      <td>0.000045</td>\n",
       "    </tr>\n",
       "    <tr>\n",
       "      <td>RJF</td>\n",
       "      <td>0.000031</td>\n",
       "    </tr>\n",
       "    <tr>\n",
       "      <td>HAS</td>\n",
       "      <td>0.000015</td>\n",
       "    </tr>\n",
       "  </tbody>\n",
       "</table>\n",
       "<p>426 rows × 1 columns</p>\n",
       "</div>"
      ],
      "text/plain": [
       "           834\n",
       "CF    0.004656\n",
       "HSIC  0.004646\n",
       "RF    0.004631\n",
       "RSG   0.004630\n",
       "IDXX  0.004615\n",
       "...        ...\n",
       "COG   0.000057\n",
       "RCL   0.000054\n",
       "BK    0.000045\n",
       "RJF   0.000031\n",
       "HAS   0.000015\n",
       "\n",
       "[426 rows x 1 columns]"
      ]
     },
     "execution_count": 105,
     "metadata": {},
     "output_type": "execute_result"
    }
   ],
   "source": [
    "random_allocation_df[random_allocation_df[\"all Vols\"] == all_vol.min()].transpose().drop([\"Sharps\",\n",
    "                        \"all Vols\", \"all_returns\"]).sort_values(834, ascending = False)"
   ]
  },
  {
   "cell_type": "code",
   "execution_count": 106,
   "metadata": {},
   "outputs": [
    {
     "data": {
      "text/plain": [
       "<matplotlib.axes._subplots.AxesSubplot at 0x1a37edf390>"
      ]
     },
     "execution_count": 106,
     "metadata": {},
     "output_type": "execute_result"
    },
    {
     "data": {
      "image/png": "[encoded data removed]",
      "text/plain": [
       "<Figure size 432x288 with 1 Axes>"
      ]
     },
     "metadata": {
      "needs_background": "light"
     },
     "output_type": "display_data"
    }
   ],
   "source": [
    "random_allocation_df[random_allocation_df[\"all Vols\"] == all_vol.min()].transpose().drop([\"Sharps\",\n",
    "                        \"all Vols\", \"all_returns\"]).sort_values(834, ascending = False).plot()"
   ]
  },
  {
   "cell_type": "code",
   "execution_count": 112,
   "metadata": {},
   "outputs": [
    {
     "data": {
      "text/html": [
       "<div>\n",
       "<style scoped>\n",
       "    .dataframe tbody tr th:only-of-type {\n",
       "        vertical-align: middle;\n",
       "    }\n",
       "\n",
       "    .dataframe tbody tr th {\n",
       "        vertical-align: top;\n",
       "    }\n",
       "\n",
       "    .dataframe thead th {\n",
       "        text-align: right;\n",
       "    }\n",
       "</style>\n",
       "<table border=\"1\" class=\"dataframe\">\n",
       "  <thead>\n",
       "    <tr style=\"text-align: right;\">\n",
       "      <th></th>\n",
       "      <th>213</th>\n",
       "    </tr>\n",
       "  </thead>\n",
       "  <tbody>\n",
       "    <tr>\n",
       "      <td>KMB</td>\n",
       "      <td>0.004611</td>\n",
       "    </tr>\n",
       "    <tr>\n",
       "      <td>HRL</td>\n",
       "      <td>0.004606</td>\n",
       "    </tr>\n",
       "    <tr>\n",
       "      <td>RF</td>\n",
       "      <td>0.004590</td>\n",
       "    </tr>\n",
       "    <tr>\n",
       "      <td>WDC</td>\n",
       "      <td>0.004585</td>\n",
       "    </tr>\n",
       "    <tr>\n",
       "      <td>MSI</td>\n",
       "      <td>0.004579</td>\n",
       "    </tr>\n",
       "    <tr>\n",
       "      <td>DRE</td>\n",
       "      <td>0.004574</td>\n",
       "    </tr>\n",
       "    <tr>\n",
       "      <td>AMD</td>\n",
       "      <td>0.004574</td>\n",
       "    </tr>\n",
       "    <tr>\n",
       "      <td>KO</td>\n",
       "      <td>0.004556</td>\n",
       "    </tr>\n",
       "    <tr>\n",
       "      <td>NFLX</td>\n",
       "      <td>0.004535</td>\n",
       "    </tr>\n",
       "    <tr>\n",
       "      <td>NTAP</td>\n",
       "      <td>0.004523</td>\n",
       "    </tr>\n",
       "    <tr>\n",
       "      <td>CERN</td>\n",
       "      <td>0.004499</td>\n",
       "    </tr>\n",
       "    <tr>\n",
       "      <td>AEP</td>\n",
       "      <td>0.004479</td>\n",
       "    </tr>\n",
       "    <tr>\n",
       "      <td>EXPD</td>\n",
       "      <td>0.004466</td>\n",
       "    </tr>\n",
       "    <tr>\n",
       "      <td>AVY</td>\n",
       "      <td>0.004461</td>\n",
       "    </tr>\n",
       "    <tr>\n",
       "      <td>AKAM</td>\n",
       "      <td>0.004453</td>\n",
       "    </tr>\n",
       "    <tr>\n",
       "      <td>GRMN</td>\n",
       "      <td>0.004412</td>\n",
       "    </tr>\n",
       "    <tr>\n",
       "      <td>BLL</td>\n",
       "      <td>0.004400</td>\n",
       "    </tr>\n",
       "    <tr>\n",
       "      <td>TGT</td>\n",
       "      <td>0.004391</td>\n",
       "    </tr>\n",
       "    <tr>\n",
       "      <td>JNPR</td>\n",
       "      <td>0.004360</td>\n",
       "    </tr>\n",
       "    <tr>\n",
       "      <td>GS</td>\n",
       "      <td>0.004351</td>\n",
       "    </tr>\n",
       "  </tbody>\n",
       "</table>\n",
       "</div>"
      ],
      "text/plain": [
       "           213\n",
       "KMB   0.004611\n",
       "HRL   0.004606\n",
       "RF    0.004590\n",
       "WDC   0.004585\n",
       "MSI   0.004579\n",
       "DRE   0.004574\n",
       "AMD   0.004574\n",
       "KO    0.004556\n",
       "NFLX  0.004535\n",
       "NTAP  0.004523\n",
       "CERN  0.004499\n",
       "AEP   0.004479\n",
       "EXPD  0.004466\n",
       "AVY   0.004461\n",
       "AKAM  0.004453\n",
       "GRMN  0.004412\n",
       "BLL   0.004400\n",
       "TGT   0.004391\n",
       "JNPR  0.004360\n",
       "GS    0.004351"
      ]
     },
     "execution_count": 112,
     "metadata": {},
     "output_type": "execute_result"
    }
   ],
   "source": [
    "random_allocation_df[random_allocation_df[\"all_returns\"] == all_returns.max()].transpose().drop([\"Sharps\",\n",
    "                        \"all Vols\", \"all_returns\"]).sort_values(213, ascending = False).head(20)"
   ]
  },
  {
   "cell_type": "code",
   "execution_count": 113,
   "metadata": {},
   "outputs": [
    {
     "data": {
      "text/html": [
       "<div>\n",
       "<style scoped>\n",
       "    .dataframe tbody tr th:only-of-type {\n",
       "        vertical-align: middle;\n",
       "    }\n",
       "\n",
       "    .dataframe tbody tr th {\n",
       "        vertical-align: top;\n",
       "    }\n",
       "\n",
       "    .dataframe thead th {\n",
       "        text-align: right;\n",
       "    }\n",
       "</style>\n",
       "<table border=\"1\" class=\"dataframe\">\n",
       "  <thead>\n",
       "    <tr style=\"text-align: right;\">\n",
       "      <th></th>\n",
       "      <th>Sharps</th>\n",
       "      <th>all Vols</th>\n",
       "      <th>all_returns</th>\n",
       "      <th>MMM</th>\n",
       "      <th>AOS</th>\n",
       "      <th>ABT</th>\n",
       "      <th>ACN</th>\n",
       "      <th>ATVI</th>\n",
       "      <th>AYI</th>\n",
       "      <th>ADBE</th>\n",
       "      <th>...</th>\n",
       "      <th>WHR</th>\n",
       "      <th>WMB</th>\n",
       "      <th>WLTW</th>\n",
       "      <th>WYNN</th>\n",
       "      <th>XEL</th>\n",
       "      <th>XRX</th>\n",
       "      <th>XLNX</th>\n",
       "      <th>YUM</th>\n",
       "      <th>ZBH</th>\n",
       "      <th>ZION</th>\n",
       "    </tr>\n",
       "  </thead>\n",
       "  <tbody>\n",
       "    <tr>\n",
       "      <td>0</td>\n",
       "      <td>0.795924</td>\n",
       "      <td>0.188594</td>\n",
       "      <td>0.150107</td>\n",
       "      <td>0.003477</td>\n",
       "      <td>0.001425</td>\n",
       "      <td>2.868633e-07</td>\n",
       "      <td>0.001667</td>\n",
       "      <td>0.001057</td>\n",
       "      <td>0.003193</td>\n",
       "      <td>0.003028</td>\n",
       "      <td>...</td>\n",
       "      <td>0.000345</td>\n",
       "      <td>0.003904</td>\n",
       "      <td>0.004026</td>\n",
       "      <td>0.000205</td>\n",
       "      <td>0.000783</td>\n",
       "      <td>0.000585</td>\n",
       "      <td>0.003815</td>\n",
       "      <td>0.001741</td>\n",
       "      <td>0.002437</td>\n",
       "      <td>0.004652</td>\n",
       "    </tr>\n",
       "    <tr>\n",
       "      <td>1</td>\n",
       "      <td>0.786016</td>\n",
       "      <td>0.187959</td>\n",
       "      <td>0.147739</td>\n",
       "      <td>0.003414</td>\n",
       "      <td>0.004202</td>\n",
       "      <td>4.261506e-03</td>\n",
       "      <td>0.004137</td>\n",
       "      <td>0.000526</td>\n",
       "      <td>0.001657</td>\n",
       "      <td>0.003958</td>\n",
       "      <td>...</td>\n",
       "      <td>0.002735</td>\n",
       "      <td>0.002721</td>\n",
       "      <td>0.000670</td>\n",
       "      <td>0.000344</td>\n",
       "      <td>0.003898</td>\n",
       "      <td>0.000385</td>\n",
       "      <td>0.001820</td>\n",
       "      <td>0.001140</td>\n",
       "      <td>0.003534</td>\n",
       "      <td>0.002187</td>\n",
       "    </tr>\n",
       "    <tr>\n",
       "      <td>2</td>\n",
       "      <td>0.784577</td>\n",
       "      <td>0.188108</td>\n",
       "      <td>0.147585</td>\n",
       "      <td>0.000902</td>\n",
       "      <td>0.004115</td>\n",
       "      <td>1.382467e-03</td>\n",
       "      <td>0.001075</td>\n",
       "      <td>0.002607</td>\n",
       "      <td>0.000288</td>\n",
       "      <td>0.003656</td>\n",
       "      <td>...</td>\n",
       "      <td>0.004532</td>\n",
       "      <td>0.002947</td>\n",
       "      <td>0.003176</td>\n",
       "      <td>0.000047</td>\n",
       "      <td>0.002609</td>\n",
       "      <td>0.000233</td>\n",
       "      <td>0.001821</td>\n",
       "      <td>0.000744</td>\n",
       "      <td>0.001036</td>\n",
       "      <td>0.001396</td>\n",
       "    </tr>\n",
       "    <tr>\n",
       "      <td>3</td>\n",
       "      <td>0.805457</td>\n",
       "      <td>0.186523</td>\n",
       "      <td>0.150237</td>\n",
       "      <td>0.002971</td>\n",
       "      <td>0.002829</td>\n",
       "      <td>1.822727e-03</td>\n",
       "      <td>0.001705</td>\n",
       "      <td>0.002172</td>\n",
       "      <td>0.000558</td>\n",
       "      <td>0.000052</td>\n",
       "      <td>...</td>\n",
       "      <td>0.003195</td>\n",
       "      <td>0.002898</td>\n",
       "      <td>0.004006</td>\n",
       "      <td>0.001271</td>\n",
       "      <td>0.000815</td>\n",
       "      <td>0.002880</td>\n",
       "      <td>0.000622</td>\n",
       "      <td>0.000247</td>\n",
       "      <td>0.003610</td>\n",
       "      <td>0.000597</td>\n",
       "    </tr>\n",
       "    <tr>\n",
       "      <td>4</td>\n",
       "      <td>0.788990</td>\n",
       "      <td>0.189476</td>\n",
       "      <td>0.149495</td>\n",
       "      <td>0.000511</td>\n",
       "      <td>0.004532</td>\n",
       "      <td>3.125251e-03</td>\n",
       "      <td>0.002973</td>\n",
       "      <td>0.003099</td>\n",
       "      <td>0.002088</td>\n",
       "      <td>0.001960</td>\n",
       "      <td>...</td>\n",
       "      <td>0.004215</td>\n",
       "      <td>0.001742</td>\n",
       "      <td>0.002014</td>\n",
       "      <td>0.003458</td>\n",
       "      <td>0.001567</td>\n",
       "      <td>0.000876</td>\n",
       "      <td>0.000689</td>\n",
       "      <td>0.003855</td>\n",
       "      <td>0.000590</td>\n",
       "      <td>0.001180</td>\n",
       "    </tr>\n",
       "    <tr>\n",
       "      <td>...</td>\n",
       "      <td>...</td>\n",
       "      <td>...</td>\n",
       "      <td>...</td>\n",
       "      <td>...</td>\n",
       "      <td>...</td>\n",
       "      <td>...</td>\n",
       "      <td>...</td>\n",
       "      <td>...</td>\n",
       "      <td>...</td>\n",
       "      <td>...</td>\n",
       "      <td>...</td>\n",
       "      <td>...</td>\n",
       "      <td>...</td>\n",
       "      <td>...</td>\n",
       "      <td>...</td>\n",
       "      <td>...</td>\n",
       "      <td>...</td>\n",
       "      <td>...</td>\n",
       "      <td>...</td>\n",
       "      <td>...</td>\n",
       "      <td>...</td>\n",
       "    </tr>\n",
       "    <tr>\n",
       "      <td>1995</td>\n",
       "      <td>0.793747</td>\n",
       "      <td>0.188954</td>\n",
       "      <td>0.149982</td>\n",
       "      <td>0.001578</td>\n",
       "      <td>0.000927</td>\n",
       "      <td>1.280502e-03</td>\n",
       "      <td>0.004624</td>\n",
       "      <td>0.001591</td>\n",
       "      <td>0.003100</td>\n",
       "      <td>0.000182</td>\n",
       "      <td>...</td>\n",
       "      <td>0.002763</td>\n",
       "      <td>0.000430</td>\n",
       "      <td>0.000245</td>\n",
       "      <td>0.003022</td>\n",
       "      <td>0.001231</td>\n",
       "      <td>0.003832</td>\n",
       "      <td>0.003940</td>\n",
       "      <td>0.003982</td>\n",
       "      <td>0.001947</td>\n",
       "      <td>0.002831</td>\n",
       "    </tr>\n",
       "    <tr>\n",
       "      <td>1996</td>\n",
       "      <td>0.806006</td>\n",
       "      <td>0.187626</td>\n",
       "      <td>0.151228</td>\n",
       "      <td>0.002494</td>\n",
       "      <td>0.003775</td>\n",
       "      <td>3.563485e-03</td>\n",
       "      <td>0.001862</td>\n",
       "      <td>0.001500</td>\n",
       "      <td>0.004278</td>\n",
       "      <td>0.001145</td>\n",
       "      <td>...</td>\n",
       "      <td>0.002095</td>\n",
       "      <td>0.004431</td>\n",
       "      <td>0.002957</td>\n",
       "      <td>0.001058</td>\n",
       "      <td>0.001391</td>\n",
       "      <td>0.002448</td>\n",
       "      <td>0.002332</td>\n",
       "      <td>0.001074</td>\n",
       "      <td>0.004308</td>\n",
       "      <td>0.001839</td>\n",
       "    </tr>\n",
       "    <tr>\n",
       "      <td>1997</td>\n",
       "      <td>0.778071</td>\n",
       "      <td>0.189697</td>\n",
       "      <td>0.147598</td>\n",
       "      <td>0.003656</td>\n",
       "      <td>0.001029</td>\n",
       "      <td>2.828402e-03</td>\n",
       "      <td>0.000266</td>\n",
       "      <td>0.000352</td>\n",
       "      <td>0.003971</td>\n",
       "      <td>0.001929</td>\n",
       "      <td>...</td>\n",
       "      <td>0.002969</td>\n",
       "      <td>0.001706</td>\n",
       "      <td>0.003899</td>\n",
       "      <td>0.001368</td>\n",
       "      <td>0.000532</td>\n",
       "      <td>0.003578</td>\n",
       "      <td>0.003802</td>\n",
       "      <td>0.001227</td>\n",
       "      <td>0.002427</td>\n",
       "      <td>0.003022</td>\n",
       "    </tr>\n",
       "    <tr>\n",
       "      <td>1998</td>\n",
       "      <td>0.785410</td>\n",
       "      <td>0.190312</td>\n",
       "      <td>0.149473</td>\n",
       "      <td>0.004029</td>\n",
       "      <td>0.004375</td>\n",
       "      <td>2.828057e-03</td>\n",
       "      <td>0.002234</td>\n",
       "      <td>0.002285</td>\n",
       "      <td>0.004558</td>\n",
       "      <td>0.002057</td>\n",
       "      <td>...</td>\n",
       "      <td>0.002308</td>\n",
       "      <td>0.004592</td>\n",
       "      <td>0.001511</td>\n",
       "      <td>0.002613</td>\n",
       "      <td>0.001070</td>\n",
       "      <td>0.002935</td>\n",
       "      <td>0.002370</td>\n",
       "      <td>0.003747</td>\n",
       "      <td>0.002185</td>\n",
       "      <td>0.000599</td>\n",
       "    </tr>\n",
       "    <tr>\n",
       "      <td>1999</td>\n",
       "      <td>0.800781</td>\n",
       "      <td>0.188478</td>\n",
       "      <td>0.150929</td>\n",
       "      <td>0.002434</td>\n",
       "      <td>0.002371</td>\n",
       "      <td>1.165822e-03</td>\n",
       "      <td>0.003012</td>\n",
       "      <td>0.002543</td>\n",
       "      <td>0.002977</td>\n",
       "      <td>0.001521</td>\n",
       "      <td>...</td>\n",
       "      <td>0.002835</td>\n",
       "      <td>0.003061</td>\n",
       "      <td>0.000449</td>\n",
       "      <td>0.003624</td>\n",
       "      <td>0.002772</td>\n",
       "      <td>0.000305</td>\n",
       "      <td>0.002411</td>\n",
       "      <td>0.000548</td>\n",
       "      <td>0.003425</td>\n",
       "      <td>0.002941</td>\n",
       "    </tr>\n",
       "  </tbody>\n",
       "</table>\n",
       "<p>2000 rows × 429 columns</p>\n",
       "</div>"
      ],
      "text/plain": [
       "        Sharps  all Vols  all_returns       MMM       AOS           ABT  \\\n",
       "0     0.795924  0.188594     0.150107  0.003477  0.001425  2.868633e-07   \n",
       "1     0.786016  0.187959     0.147739  0.003414  0.004202  4.261506e-03   \n",
       "2     0.784577  0.188108     0.147585  0.000902  0.004115  1.382467e-03   \n",
       "3     0.805457  0.186523     0.150237  0.002971  0.002829  1.822727e-03   \n",
       "4     0.788990  0.189476     0.149495  0.000511  0.004532  3.125251e-03   \n",
       "...        ...       ...          ...       ...       ...           ...   \n",
       "1995  0.793747  0.188954     0.149982  0.001578  0.000927  1.280502e-03   \n",
       "1996  0.806006  0.187626     0.151228  0.002494  0.003775  3.563485e-03   \n",
       "1997  0.778071  0.189697     0.147598  0.003656  0.001029  2.828402e-03   \n",
       "1998  0.785410  0.190312     0.149473  0.004029  0.004375  2.828057e-03   \n",
       "1999  0.800781  0.188478     0.150929  0.002434  0.002371  1.165822e-03   \n",
       "\n",
       "           ACN      ATVI       AYI      ADBE  ...       WHR       WMB  \\\n",
       "0     0.001667  0.001057  0.003193  0.003028  ...  0.000345  0.003904   \n",
       "1     0.004137  0.000526  0.001657  0.003958  ...  0.002735  0.002721   \n",
       "2     0.001075  0.002607  0.000288  0.003656  ...  0.004532  0.002947   \n",
       "3     0.001705  0.002172  0.000558  0.000052  ...  0.003195  0.002898   \n",
       "4     0.002973  0.003099  0.002088  0.001960  ...  0.004215  0.001742   \n",
       "...        ...       ...       ...       ...  ...       ...       ...   \n",
       "1995  0.004624  0.001591  0.003100  0.000182  ...  0.002763  0.000430   \n",
       "1996  0.001862  0.001500  0.004278  0.001145  ...  0.002095  0.004431   \n",
       "1997  0.000266  0.000352  0.003971  0.001929  ...  0.002969  0.001706   \n",
       "1998  0.002234  0.002285  0.004558  0.002057  ...  0.002308  0.004592   \n",
       "1999  0.003012  0.002543  0.002977  0.001521  ...  0.002835  0.003061   \n",
       "\n",
       "          WLTW      WYNN       XEL       XRX      XLNX       YUM       ZBH  \\\n",
       "0     0.004026  0.000205  0.000783  0.000585  0.003815  0.001741  0.002437   \n",
       "1     0.000670  0.000344  0.003898  0.000385  0.001820  0.001140  0.003534   \n",
       "2     0.003176  0.000047  0.002609  0.000233  0.001821  0.000744  0.001036   \n",
       "3     0.004006  0.001271  0.000815  0.002880  0.000622  0.000247  0.003610   \n",
       "4     0.002014  0.003458  0.001567  0.000876  0.000689  0.003855  0.000590   \n",
       "...        ...       ...       ...       ...       ...       ...       ...   \n",
       "1995  0.000245  0.003022  0.001231  0.003832  0.003940  0.003982  0.001947   \n",
       "1996  0.002957  0.001058  0.001391  0.002448  0.002332  0.001074  0.004308   \n",
       "1997  0.003899  0.001368  0.000532  0.003578  0.003802  0.001227  0.002427   \n",
       "1998  0.001511  0.002613  0.001070  0.002935  0.002370  0.003747  0.002185   \n",
       "1999  0.000449  0.003624  0.002772  0.000305  0.002411  0.000548  0.003425   \n",
       "\n",
       "          ZION  \n",
       "0     0.004652  \n",
       "1     0.002187  \n",
       "2     0.001396  \n",
       "3     0.000597  \n",
       "4     0.001180  \n",
       "...        ...  \n",
       "1995  0.002831  \n",
       "1996  0.001839  \n",
       "1997  0.003022  \n",
       "1998  0.000599  \n",
       "1999  0.002941  \n",
       "\n",
       "[2000 rows x 429 columns]"
      ]
     },
     "execution_count": 113,
     "metadata": {},
     "output_type": "execute_result"
    }
   ],
   "source": [
    "random_allocation_df"
   ]
  },
  {
   "cell_type": "code",
   "execution_count": null,
   "metadata": {},
   "outputs": [],
   "source": []
  }
 ],
 "metadata": {
  "kernelspec": {
   "display_name": "Python 3",
   "language": "python",
   "name": "python3"
  },
  "language_info": {
   "codemirror_mode": {
    "name": "ipython",
    "version": 3
   },
   "file_extension": ".py",
   "mimetype": "text/x-python",
   "name": "python",
   "nbconvert_exporter": "python",
   "pygments_lexer": "ipython3",
   "version": "3.7.4"
  }
 },
 "nbformat": 4,
 "nbformat_minor": 4
}
