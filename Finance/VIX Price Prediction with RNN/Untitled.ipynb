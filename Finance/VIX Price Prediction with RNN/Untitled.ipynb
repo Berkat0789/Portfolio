{
 "cells": [
  {
   "cell_type": "code",
   "execution_count": 35,
   "metadata": {},
   "outputs": [],
   "source": [
    "import pandas as pd\n",
    "import numpy as np \n",
    "import matplotlib.pyplot as plt\n",
    "import seaborn as sns"
   ]
  },
  {
   "cell_type": "code",
   "execution_count": 213,
   "metadata": {},
   "outputs": [],
   "source": [
    "vix_Data = pd.read_csv(\"resources/vix_data_updated.csv\", index_col=\"dates\").drop(\"target\", axis = 1)[\"VIX\"]"
   ]
  },
  {
   "cell_type": "code",
   "execution_count": 214,
   "metadata": {},
   "outputs": [],
   "source": [
    "vix_Data = pd.DataFrame(vix_Data)"
   ]
  },
  {
   "cell_type": "markdown",
   "metadata": {},
   "source": [
    "### Train test-> we need to decide what percentage at the end of the data we will be using .\n",
    "- 20%"
   ]
  },
  {
   "cell_type": "code",
   "execution_count": 215,
   "metadata": {},
   "outputs": [],
   "source": [
    "vix = vix_Data[\"VIX\"]"
   ]
  },
  {
   "cell_type": "code",
   "execution_count": 216,
   "metadata": {},
   "outputs": [],
   "source": [
    "vix = pd.DataFrame(vix)"
   ]
  },
  {
   "cell_type": "code",
   "execution_count": 217,
   "metadata": {},
   "outputs": [],
   "source": [
    "vix = vix.loc[\"2017-1-1\":]"
   ]
  },
  {
   "cell_type": "code",
   "execution_count": 218,
   "metadata": {},
   "outputs": [
    {
     "data": {
      "text/html": [
       "<div>\n",
       "<style scoped>\n",
       "    .dataframe tbody tr th:only-of-type {\n",
       "        vertical-align: middle;\n",
       "    }\n",
       "\n",
       "    .dataframe tbody tr th {\n",
       "        vertical-align: top;\n",
       "    }\n",
       "\n",
       "    .dataframe thead th {\n",
       "        text-align: right;\n",
       "    }\n",
       "</style>\n",
       "<table border=\"1\" class=\"dataframe\">\n",
       "  <thead>\n",
       "    <tr style=\"text-align: right;\">\n",
       "      <th></th>\n",
       "      <th>VIX</th>\n",
       "    </tr>\n",
       "    <tr>\n",
       "      <th>dates</th>\n",
       "      <th></th>\n",
       "    </tr>\n",
       "  </thead>\n",
       "  <tbody>\n",
       "    <tr>\n",
       "      <th>2017-10-02</th>\n",
       "      <td>9.45</td>\n",
       "    </tr>\n",
       "    <tr>\n",
       "      <th>2017-10-03</th>\n",
       "      <td>9.51</td>\n",
       "    </tr>\n",
       "    <tr>\n",
       "      <th>2017-10-04</th>\n",
       "      <td>9.63</td>\n",
       "    </tr>\n",
       "    <tr>\n",
       "      <th>2017-10-05</th>\n",
       "      <td>9.19</td>\n",
       "    </tr>\n",
       "    <tr>\n",
       "      <th>2017-10-06</th>\n",
       "      <td>9.65</td>\n",
       "    </tr>\n",
       "    <tr>\n",
       "      <th>...</th>\n",
       "      <td>...</td>\n",
       "    </tr>\n",
       "    <tr>\n",
       "      <th>2019-09-10</th>\n",
       "      <td>15.20</td>\n",
       "    </tr>\n",
       "    <tr>\n",
       "      <th>2019-09-11</th>\n",
       "      <td>14.61</td>\n",
       "    </tr>\n",
       "    <tr>\n",
       "      <th>2019-09-12</th>\n",
       "      <td>14.22</td>\n",
       "    </tr>\n",
       "    <tr>\n",
       "      <th>2019-09-13</th>\n",
       "      <td>13.74</td>\n",
       "    </tr>\n",
       "    <tr>\n",
       "      <th>2019-09-16</th>\n",
       "      <td>14.67</td>\n",
       "    </tr>\n",
       "  </tbody>\n",
       "</table>\n",
       "<p>492 rows × 1 columns</p>\n",
       "</div>"
      ],
      "text/plain": [
       "              VIX\n",
       "dates            \n",
       "2017-10-02   9.45\n",
       "2017-10-03   9.51\n",
       "2017-10-04   9.63\n",
       "2017-10-05   9.19\n",
       "2017-10-06   9.65\n",
       "...           ...\n",
       "2019-09-10  15.20\n",
       "2019-09-11  14.61\n",
       "2019-09-12  14.22\n",
       "2019-09-13  13.74\n",
       "2019-09-16  14.67\n",
       "\n",
       "[492 rows x 1 columns]"
      ]
     },
     "execution_count": 218,
     "metadata": {},
     "output_type": "execute_result"
    }
   ],
   "source": [
    "vix"
   ]
  },
  {
   "cell_type": "code",
   "execution_count": 219,
   "metadata": {},
   "outputs": [],
   "source": [
    "test_percent = 0.3"
   ]
  },
  {
   "cell_type": "markdown",
   "metadata": {},
   "source": [
    "## we now need to calculate the cutoff point - index a 649 will be where our data will be cutoff for testing"
   ]
  },
  {
   "cell_type": "code",
   "execution_count": 220,
   "metadata": {},
   "outputs": [
    {
     "data": {
      "text/plain": [
       "148.0"
      ]
     },
     "execution_count": 220,
     "metadata": {},
     "output_type": "execute_result"
    }
   ],
   "source": [
    "test_point = np.round(len(vix) * test_percent)\n",
    "test_point"
   ]
  },
  {
   "cell_type": "markdown",
   "metadata": {},
   "source": [
    "### Set the index for the testing data"
   ]
  },
  {
   "cell_type": "code",
   "execution_count": 221,
   "metadata": {},
   "outputs": [],
   "source": [
    "test_index = int(len(vix) - test_point)"
   ]
  },
  {
   "cell_type": "code",
   "execution_count": 222,
   "metadata": {},
   "outputs": [
    {
     "data": {
      "text/plain": [
       "344"
      ]
     },
     "execution_count": 222,
     "metadata": {},
     "output_type": "execute_result"
    }
   ],
   "source": [
    "test_index"
   ]
  },
  {
   "cell_type": "markdown",
   "metadata": {},
   "source": [
    "### Setting training and test data"
   ]
  },
  {
   "cell_type": "code",
   "execution_count": 223,
   "metadata": {},
   "outputs": [],
   "source": [
    "train = vix.iloc[:test_index]"
   ]
  },
  {
   "cell_type": "code",
   "execution_count": 224,
   "metadata": {},
   "outputs": [],
   "source": [
    "test = vix.iloc[test_index:]"
   ]
  },
  {
   "cell_type": "markdown",
   "metadata": {},
   "source": [
    "### Scaling our data"
   ]
  },
  {
   "cell_type": "code",
   "execution_count": 225,
   "metadata": {},
   "outputs": [],
   "source": [
    "from sklearn.preprocessing import MinMaxScaler"
   ]
  },
  {
   "cell_type": "code",
   "execution_count": 226,
   "metadata": {},
   "outputs": [],
   "source": [
    "scalar  = MinMaxScaler()"
   ]
  },
  {
   "cell_type": "code",
   "execution_count": 227,
   "metadata": {},
   "outputs": [],
   "source": [
    "train_scaled = scalar.fit_transform(train)"
   ]
  },
  {
   "cell_type": "code",
   "execution_count": 228,
   "metadata": {},
   "outputs": [],
   "source": [
    "test_scaled = scalar.transform(test)"
   ]
  },
  {
   "cell_type": "code",
   "execution_count": 231,
   "metadata": {},
   "outputs": [
    {
     "data": {
      "text/plain": [
       "344"
      ]
     },
     "execution_count": 231,
     "metadata": {},
     "output_type": "execute_result"
    }
   ],
   "source": [
    "len(train_scaled)"
   ]
  },
  {
   "cell_type": "markdown",
   "metadata": {},
   "source": [
    "### Lets make batches of data that the RNN will understand"
   ]
  },
  {
   "cell_type": "code",
   "execution_count": 230,
   "metadata": {},
   "outputs": [],
   "source": [
    "from tensorflow.keras.preprocessing.sequence import TimeseriesGenerator"
   ]
  },
  {
   "cell_type": "markdown",
   "metadata": {},
   "source": [
    "### length shouldn not be an arbritraty number -> we should make sure its an good enough cycle for our model Such as a quater or 6 months etc. "
   ]
  },
  {
   "cell_type": "code",
   "execution_count": 232,
   "metadata": {},
   "outputs": [],
   "source": [
    "length = 100\n",
    "batch = 1\n",
    "generator = TimeseriesGenerator(train_scaled,train_scaled, length= length, batch_size=batch)"
   ]
  },
  {
   "cell_type": "code",
   "execution_count": 233,
   "metadata": {},
   "outputs": [
    {
     "data": {
      "text/plain": [
       "344"
      ]
     },
     "execution_count": 233,
     "metadata": {},
     "output_type": "execute_result"
    }
   ],
   "source": [
    "len(train_scaled)"
   ]
  },
  {
   "cell_type": "code",
   "execution_count": 234,
   "metadata": {},
   "outputs": [
    {
     "data": {
      "text/plain": [
       "244"
      ]
     },
     "execution_count": 234,
     "metadata": {},
     "output_type": "execute_result"
    }
   ],
   "source": [
    "len(generator)"
   ]
  },
  {
   "cell_type": "code",
   "execution_count": 235,
   "metadata": {},
   "outputs": [],
   "source": [
    "X, y = generator[0]"
   ]
  },
  {
   "cell_type": "code",
   "execution_count": 236,
   "metadata": {},
   "outputs": [
    {
     "data": {
      "text/plain": [
       "array([[[1.10007097e-02],\n",
       "        [1.31298793e-02],\n",
       "        [1.73882186e-02],\n",
       "        [1.77430802e-03],\n",
       "        [1.80979418e-02],\n",
       "        [4.22285309e-02],\n",
       "        [3.33569908e-02],\n",
       "        [2.51951739e-02],\n",
       "        [2.73243435e-02],\n",
       "        [1.66784954e-02],\n",
       "        [2.73243435e-02],\n",
       "        [4.15188077e-02],\n",
       "        [3.30021292e-02],\n",
       "        [3.22924060e-02],\n",
       "        [2.94535131e-02],\n",
       "        [6.84882896e-02],\n",
       "        [7.16820440e-02],\n",
       "        [7.41660752e-02],\n",
       "        [7.66501065e-02],\n",
       "        [2.34208659e-02],\n",
       "        [4.82611781e-02],\n",
       "        [3.69056068e-02],\n",
       "        [3.76153300e-02],\n",
       "        [2.80340667e-02],\n",
       "        [0.00000000e+00],\n",
       "        [9.22640170e-03],\n",
       "        [2.66146203e-02],\n",
       "        [2.27111427e-02],\n",
       "        [4.82611781e-02],\n",
       "        [7.62952449e-02],\n",
       "        [8.37473385e-02],\n",
       "        [8.69410930e-02],\n",
       "        [1.41589780e-01],\n",
       "        [9.29737402e-02],\n",
       "        [8.12633073e-02],\n",
       "        [5.35841022e-02],\n",
       "        [2.09368346e-02],\n",
       "        [2.62597587e-02],\n",
       "        [1.88076650e-02],\n",
       "        [2.59048971e-02],\n",
       "        [3.15826828e-02],\n",
       "        [5.53584102e-02],\n",
       "        [7.59403833e-02],\n",
       "        [8.12633073e-02],\n",
       "        [9.01348474e-02],\n",
       "        [7.77146913e-02],\n",
       "        [6.67139815e-02],\n",
       "        [3.61958836e-02],\n",
       "        [1.56139106e-02],\n",
       "        [7.09723208e-03],\n",
       "        [2.76792051e-02],\n",
       "        [3.69056068e-02],\n",
       "        [4.79063165e-02],\n",
       "        [9.93612491e-03],\n",
       "        [1.38396026e-02],\n",
       "        [3.15826828e-02],\n",
       "        [2.05819730e-02],\n",
       "        [1.70333570e-02],\n",
       "        [2.69694819e-02],\n",
       "        [3.93896380e-02],\n",
       "        [4.71965933e-02],\n",
       "        [3.69056068e-02],\n",
       "        [6.74237048e-02],\n",
       "        [2.23562811e-02],\n",
       "        [3.54861604e-04],\n",
       "        [2.83889283e-03],\n",
       "        [2.83889283e-03],\n",
       "        [1.34847410e-02],\n",
       "        [3.33569908e-02],\n",
       "        [2.41305891e-02],\n",
       "        [2.62597587e-02],\n",
       "        [3.61958836e-02],\n",
       "        [8.94251242e-02],\n",
       "        [9.82966643e-02],\n",
       "        [1.09297374e-01],\n",
       "        [7.55855216e-02],\n",
       "        [6.70688432e-02],\n",
       "        [6.95528744e-02],\n",
       "        [8.26827537e-02],\n",
       "        [8.65862314e-02],\n",
       "        [6.88431512e-02],\n",
       "        [1.66784954e-01],\n",
       "        [2.00496806e-01],\n",
       "        [1.56139106e-01],\n",
       "        [1.53655075e-01],\n",
       "        [2.89921930e-01],\n",
       "        [1.00000000e+00],\n",
       "        [7.39531583e-01],\n",
       "        [6.59687722e-01],\n",
       "        [8.63023421e-01],\n",
       "        [7.06884315e-01],\n",
       "        [5.84457062e-01],\n",
       "        [5.61745919e-01],\n",
       "        [3.59119943e-01],\n",
       "        [3.54506742e-01],\n",
       "        [3.66217175e-01],\n",
       "        [4.06671398e-01],\n",
       "        [3.86089425e-01],\n",
       "        [3.39957417e-01],\n",
       "        [2.60823279e-01]]])"
      ]
     },
     "execution_count": 236,
     "metadata": {},
     "output_type": "execute_result"
    }
   ],
   "source": [
    "X"
   ]
  },
  {
   "cell_type": "code",
   "execution_count": 237,
   "metadata": {},
   "outputs": [
    {
     "data": {
      "text/plain": [
       "array([[0.23633783]])"
      ]
     },
     "execution_count": 237,
     "metadata": {},
     "output_type": "execute_result"
    }
   ],
   "source": [
    "y"
   ]
  },
  {
   "cell_type": "markdown",
   "metadata": {},
   "source": [
    "### lets create our model"
   ]
  },
  {
   "cell_type": "code",
   "execution_count": 238,
   "metadata": {},
   "outputs": [],
   "source": [
    "from tensorflow.keras.models import Sequential\n",
    "from tensorflow.keras.layers import Dense, SimpleRNN,LSTM"
   ]
  },
  {
   "cell_type": "markdown",
   "metadata": {},
   "source": [
    "### we need to determine how many features we are actually training off..."
   ]
  },
  {
   "cell_type": "code",
   "execution_count": 239,
   "metadata": {},
   "outputs": [],
   "source": [
    "n_features = 1"
   ]
  },
  {
   "cell_type": "code",
   "execution_count": 240,
   "metadata": {},
   "outputs": [],
   "source": [
    "model = Sequential()\n",
    "model.add(SimpleRNN(100, input_shape = (length, n_features)))\n",
    "model.add(Dense(units = 1))\n",
    "model.compile(optimizer = \"adam\", loss = \"mse\")"
   ]
  },
  {
   "cell_type": "markdown",
   "metadata": {},
   "source": [
    "### Fit model"
   ]
  },
  {
   "cell_type": "code",
   "execution_count": 241,
   "metadata": {},
   "outputs": [
    {
     "name": "stdout",
     "output_type": "stream",
     "text": [
      "Model: \"sequential_4\"\n",
      "_________________________________________________________________\n",
      "Layer (type)                 Output Shape              Param #   \n",
      "=================================================================\n",
      "simple_rnn_3 (SimpleRNN)     (None, 100)               10200     \n",
      "_________________________________________________________________\n",
      "dense_3 (Dense)              (None, 1)                 101       \n",
      "=================================================================\n",
      "Total params: 10,301\n",
      "Trainable params: 10,301\n",
      "Non-trainable params: 0\n",
      "_________________________________________________________________\n"
     ]
    }
   ],
   "source": [
    "model.summary()"
   ]
  },
  {
   "cell_type": "code",
   "execution_count": 242,
   "metadata": {},
   "outputs": [
    {
     "name": "stdout",
     "output_type": "stream",
     "text": [
      "Epoch 1/5\n",
      "244/244 [==============================] - 241s 986ms/step - loss: 0.0143\n",
      "Epoch 2/5\n",
      "244/244 [==============================] - 241s 987ms/step - loss: 0.0050\n",
      "Epoch 3/5\n",
      "244/244 [==============================] - 241s 987ms/step - loss: 0.0048\n",
      "Epoch 4/5\n",
      "244/244 [==============================] - 241s 987ms/step - loss: 0.0036\n",
      "Epoch 5/5\n",
      "244/244 [==============================] - 241s 986ms/step - loss: 0.0036\n"
     ]
    },
    {
     "data": {
      "text/plain": [
       "<tensorflow.python.keras.callbacks.History at 0x1a47279e90>"
      ]
     },
     "execution_count": 242,
     "metadata": {},
     "output_type": "execute_result"
    }
   ],
   "source": [
    "model.fit_generator(generator, epochs=5)"
   ]
  },
  {
   "cell_type": "code",
   "execution_count": 243,
   "metadata": {},
   "outputs": [
    {
     "data": {
      "text/plain": [
       "<matplotlib.axes._subplots.AxesSubplot at 0x1a486a5cd0>"
      ]
     },
     "execution_count": 243,
     "metadata": {},
     "output_type": "execute_result"
    },
    {
     "data": {
      "image/png": "[encoded data removed]",
      "text/plain": [
       "<Figure size 432x288 with 1 Axes>"
      ]
     },
     "metadata": {
      "needs_background": "light"
     },
     "output_type": "display_data"
    }
   ],
   "source": [
    "pd.DataFrame(model.history.history).plot()"
   ]
  },
  {
   "cell_type": "code",
   "execution_count": 244,
   "metadata": {},
   "outputs": [],
   "source": [
    "first_eval_batch = train_scaled[-length:]"
   ]
  },
  {
   "cell_type": "code",
   "execution_count": 245,
   "metadata": {},
   "outputs": [],
   "source": [
    "first_eval_batch = first_eval_batch.reshape((1,length,n_features))"
   ]
  },
  {
   "cell_type": "code",
   "execution_count": 246,
   "metadata": {},
   "outputs": [
    {
     "data": {
      "text/plain": [
       "array([[[0.09439319],\n",
       "        [0.09013485],\n",
       "        [0.10858765],\n",
       "        [0.11639461],\n",
       "        [0.1330731 ],\n",
       "        [0.11603974],\n",
       "        [0.10574876],\n",
       "        [0.10149042],\n",
       "        [0.10326473],\n",
       "        [0.08765082],\n",
       "        [0.18026969],\n",
       "        [0.20156139],\n",
       "        [0.23243435],\n",
       "        [0.24166075],\n",
       "        [0.49041874],\n",
       "        [0.56210078],\n",
       "        [0.43186657],\n",
       "        [0.43151171],\n",
       "        [0.30092264],\n",
       "        [0.29311568],\n",
       "        [0.38750887],\n",
       "        [0.38147622],\n",
       "        [0.37260468],\n",
       "        [0.41057488],\n",
       "        [0.57097232],\n",
       "        [0.5351313 ],\n",
       "        [0.53300213],\n",
       "        [0.55216466],\n",
       "        [0.50425834],\n",
       "        [0.42902768],\n",
       "        [0.36195884],\n",
       "        [0.36799148],\n",
       "        [0.38396026],\n",
       "        [0.38218595],\n",
       "        [0.25621008],\n",
       "        [0.2689851 ],\n",
       "        [0.29169624],\n",
       "        [0.40134847],\n",
       "        [0.38608943],\n",
       "        [0.4297374 ],\n",
       "        [0.38466998],\n",
       "        [0.31937544],\n",
       "        [0.38892832],\n",
       "        [0.47338538],\n",
       "        [0.41376863],\n",
       "        [0.43931867],\n",
       "        [0.34634493],\n",
       "        [0.35060326],\n",
       "        [0.3317956 ],\n",
       "        [0.34244145],\n",
       "        [0.31689141],\n",
       "        [0.25904897],\n",
       "        [0.41163946],\n",
       "        [0.42760823],\n",
       "        [0.5       ],\n",
       "        [0.47906317],\n",
       "        [0.44783534],\n",
       "        [0.4371895 ],\n",
       "        [0.40844571],\n",
       "        [0.44322214],\n",
       "        [0.54577715],\n",
       "        [0.58339248],\n",
       "        [0.58339248],\n",
       "        [0.68275373],\n",
       "        [0.74414478],\n",
       "        [0.9556423 ],\n",
       "        [0.75479063],\n",
       "        [0.73882186],\n",
       "        [0.68133428],\n",
       "        [0.57771469],\n",
       "        [0.49964514],\n",
       "        [0.57877928],\n",
       "        [0.4343506 ],\n",
       "        [0.43506033],\n",
       "        [0.4020582 ],\n",
       "        [0.38466998],\n",
       "        [0.36763662],\n",
       "        [0.32114975],\n",
       "        [0.35237757],\n",
       "        [0.33569908],\n",
       "        [0.35131299],\n",
       "        [0.31653655],\n",
       "        [0.30731015],\n",
       "        [0.41376863],\n",
       "        [0.36834634],\n",
       "        [0.34599006],\n",
       "        [0.29382541],\n",
       "        [0.34528034],\n",
       "        [0.35450674],\n",
       "        [0.30234209],\n",
       "        [0.26366217],\n",
       "        [0.24840312],\n",
       "        [0.2338538 ],\n",
       "        [0.22817601],\n",
       "        [0.22143364],\n",
       "        [0.25656494],\n",
       "        [0.23349894],\n",
       "        [0.24237048],\n",
       "        [0.22320795],\n",
       "        [0.2310149 ]]])"
      ]
     },
     "execution_count": 246,
     "metadata": {},
     "output_type": "execute_result"
    }
   ],
   "source": [
    "first_eval_batch"
   ]
  },
  {
   "cell_type": "code",
   "execution_count": 247,
   "metadata": {},
   "outputs": [
    {
     "data": {
      "text/plain": [
       "array([[0.29340708]], dtype=float32)"
      ]
     },
     "execution_count": 247,
     "metadata": {},
     "output_type": "execute_result"
    }
   ],
   "source": [
    "model.predict(first_eval_batch)"
   ]
  },
  {
   "cell_type": "code",
   "execution_count": 248,
   "metadata": {},
   "outputs": [
    {
     "data": {
      "text/plain": [
       "array([0.25124202])"
      ]
     },
     "execution_count": 248,
     "metadata": {},
     "output_type": "execute_result"
    }
   ],
   "source": [
    "test_scaled[0]"
   ]
  },
  {
   "cell_type": "code",
   "execution_count": 249,
   "metadata": {},
   "outputs": [],
   "source": [
    "my_predictions = []\n",
    "first_ev = train_scaled[-length:]\n",
    "current_batch = first_ev.reshape((1,length,n_features))\n",
    "\n",
    "for i in range(len(test)):\n",
    "    current_pred = model.predict(current_batch)[0]\n",
    "    my_predictions.append(current_pred)\n",
    "    current_batch = np.append(current_batch[:,1:,:], [[current_pred]], axis = 1)"
   ]
  },
  {
   "cell_type": "code",
   "execution_count": 250,
   "metadata": {},
   "outputs": [
    {
     "data": {
      "text/plain": [
       "[array([0.29340708], dtype=float32),\n",
       " array([0.31560504], dtype=float32),\n",
       " array([0.34206954], dtype=float32),\n",
       " array([0.39354822], dtype=float32),\n",
       " array([0.45186636], dtype=float32),\n",
       " array([0.51500803], dtype=float32),\n",
       " array([0.5761533], dtype=float32),\n",
       " array([0.64717287], dtype=float32),\n",
       " array([0.7238304], dtype=float32),\n",
       " array([0.82183594], dtype=float32),\n",
       " array([0.9236453], dtype=float32),\n",
       " array([1.0339772], dtype=float32),\n",
       " array([1.1586068], dtype=float32),\n",
       " array([1.2790314], dtype=float32),\n",
       " array([1.4080672], dtype=float32),\n",
       " array([1.5309227], dtype=float32),\n",
       " array([1.6590798], dtype=float32),\n",
       " array([1.7736034], dtype=float32),\n",
       " array([1.880602], dtype=float32),\n",
       " array([1.9747454], dtype=float32),\n",
       " array([2.05205], dtype=float32),\n",
       " array([2.122984], dtype=float32),\n",
       " array([2.178432], dtype=float32),\n",
       " array([2.2260783], dtype=float32),\n",
       " array([2.2618358], dtype=float32),\n",
       " array([2.2893648], dtype=float32),\n",
       " array([2.3136191], dtype=float32),\n",
       " array([2.3303504], dtype=float32),\n",
       " array([2.3433552], dtype=float32),\n",
       " array([2.3532925], dtype=float32),\n",
       " array([2.3610578], dtype=float32),\n",
       " array([2.3671193], dtype=float32),\n",
       " array([2.3707638], dtype=float32),\n",
       " array([2.374608], dtype=float32),\n",
       " array([2.377033], dtype=float32),\n",
       " array([2.3785803], dtype=float32),\n",
       " array([2.379999], dtype=float32),\n",
       " array([2.381022], dtype=float32),\n",
       " array([2.3818629], dtype=float32),\n",
       " array([2.382244], dtype=float32),\n",
       " array([2.382688], dtype=float32),\n",
       " array([2.3830247], dtype=float32),\n",
       " array([2.383222], dtype=float32),\n",
       " array([2.3834276], dtype=float32),\n",
       " array([2.3835444], dtype=float32),\n",
       " array([2.3837051], dtype=float32),\n",
       " array([2.3838065], dtype=float32),\n",
       " array([2.3838406], dtype=float32),\n",
       " array([2.3839278], dtype=float32),\n",
       " array([2.3839717], dtype=float32),\n",
       " array([2.3840346], dtype=float32),\n",
       " array([2.3840544], dtype=float32),\n",
       " array([2.3841102], dtype=float32),\n",
       " array([2.3841343], dtype=float32),\n",
       " array([2.384146], dtype=float32),\n",
       " array([2.3841827], dtype=float32),\n",
       " array([2.3841949], dtype=float32),\n",
       " array([2.3842034], dtype=float32),\n",
       " array([2.384203], dtype=float32),\n",
       " array([2.3842182], dtype=float32),\n",
       " array([2.384222], dtype=float32),\n",
       " array([2.3842173], dtype=float32),\n",
       " array([2.3842177], dtype=float32),\n",
       " array([2.3842158], dtype=float32),\n",
       " array([2.3842146], dtype=float32),\n",
       " array([2.3842099], dtype=float32),\n",
       " array([2.3842077], dtype=float32),\n",
       " array([2.3842032], dtype=float32),\n",
       " array([2.3841987], dtype=float32),\n",
       " array([2.3841968], dtype=float32),\n",
       " array([2.3841932], dtype=float32),\n",
       " array([2.3841896], dtype=float32),\n",
       " array([2.3841882], dtype=float32),\n",
       " array([2.3841856], dtype=float32),\n",
       " array([2.3841844], dtype=float32),\n",
       " array([2.3841834], dtype=float32),\n",
       " array([2.3841825], dtype=float32),\n",
       " array([2.384182], dtype=float32),\n",
       " array([2.384182], dtype=float32),\n",
       " array([2.384182], dtype=float32),\n",
       " array([2.3841815], dtype=float32),\n",
       " array([2.3841817], dtype=float32),\n",
       " array([2.384182], dtype=float32),\n",
       " array([2.3841825], dtype=float32),\n",
       " array([2.3841825], dtype=float32),\n",
       " array([2.3841825], dtype=float32),\n",
       " array([2.384183], dtype=float32),\n",
       " array([2.3841832], dtype=float32),\n",
       " array([2.3841836], dtype=float32),\n",
       " array([2.3841836], dtype=float32),\n",
       " array([2.384184], dtype=float32),\n",
       " array([2.384184], dtype=float32),\n",
       " array([2.3841841], dtype=float32),\n",
       " array([2.3841844], dtype=float32),\n",
       " array([2.3841844], dtype=float32),\n",
       " array([2.3841844], dtype=float32),\n",
       " array([2.3841844], dtype=float32),\n",
       " array([2.3841844], dtype=float32),\n",
       " array([2.3841844], dtype=float32),\n",
       " array([2.3841844], dtype=float32),\n",
       " array([2.3841844], dtype=float32),\n",
       " array([2.3841844], dtype=float32),\n",
       " array([2.3841844], dtype=float32),\n",
       " array([2.3841844], dtype=float32),\n",
       " array([2.3841844], dtype=float32),\n",
       " array([2.3841846], dtype=float32),\n",
       " array([2.3841844], dtype=float32),\n",
       " array([2.3841844], dtype=float32),\n",
       " array([2.3841844], dtype=float32),\n",
       " array([2.3841846], dtype=float32),\n",
       " array([2.3841844], dtype=float32),\n",
       " array([2.3841846], dtype=float32),\n",
       " array([2.3841846], dtype=float32),\n",
       " array([2.3841846], dtype=float32),\n",
       " array([2.3841846], dtype=float32),\n",
       " array([2.3841844], dtype=float32),\n",
       " array([2.3841844], dtype=float32),\n",
       " array([2.3841846], dtype=float32),\n",
       " array([2.3841848], dtype=float32),\n",
       " array([2.3841848], dtype=float32),\n",
       " array([2.3841848], dtype=float32),\n",
       " array([2.3841848], dtype=float32),\n",
       " array([2.3841848], dtype=float32),\n",
       " array([2.3841848], dtype=float32),\n",
       " array([2.3841848], dtype=float32),\n",
       " array([2.3841848], dtype=float32),\n",
       " array([2.3841844], dtype=float32),\n",
       " array([2.3841844], dtype=float32),\n",
       " array([2.3841844], dtype=float32),\n",
       " array([2.3841844], dtype=float32),\n",
       " array([2.3841844], dtype=float32),\n",
       " array([2.3841844], dtype=float32),\n",
       " array([2.3841844], dtype=float32),\n",
       " array([2.3841844], dtype=float32),\n",
       " array([2.3841844], dtype=float32),\n",
       " array([2.3841846], dtype=float32),\n",
       " array([2.3841848], dtype=float32),\n",
       " array([2.3841848], dtype=float32),\n",
       " array([2.3841848], dtype=float32),\n",
       " array([2.3841846], dtype=float32),\n",
       " array([2.3841846], dtype=float32),\n",
       " array([2.3841846], dtype=float32),\n",
       " array([2.3841846], dtype=float32),\n",
       " array([2.3841844], dtype=float32),\n",
       " array([2.3841844], dtype=float32),\n",
       " array([2.3841846], dtype=float32),\n",
       " array([2.3841848], dtype=float32),\n",
       " array([2.3841848], dtype=float32)]"
      ]
     },
     "execution_count": 250,
     "metadata": {},
     "output_type": "execute_result"
    }
   ],
   "source": [
    "my_predictions"
   ]
  },
  {
   "cell_type": "code",
   "execution_count": 251,
   "metadata": {},
   "outputs": [
    {
     "data": {
      "text/plain": [
       "array([[0.25124202],\n",
       "       [0.20475515],\n",
       "       [0.20369056],\n",
       "       [0.17317246],\n",
       "       [0.18878637],\n",
       "       [0.15507452],\n",
       "       [0.20262598],\n",
       "       [0.21398155],\n",
       "       [0.19730305],\n",
       "       [0.20014194],\n",
       "       [0.15720369],\n",
       "       [0.19481902],\n",
       "       [0.1987225 ],\n",
       "       [0.23420866],\n",
       "       [0.26437189],\n",
       "       [0.24520937],\n",
       "       [0.18417317],\n",
       "       [0.16430092],\n",
       "       [0.1515259 ],\n",
       "       [0.15471966],\n",
       "       [0.13271824],\n",
       "       [0.1405252 ],\n",
       "       [0.15684883],\n",
       "       [0.16926899],\n",
       "       [0.15933286],\n",
       "       [0.26046842],\n",
       "       [0.25514549],\n",
       "       [0.19659333],\n",
       "       [0.21327182],\n",
       "       [0.18772179],\n",
       "       [0.16217175],\n",
       "       [0.15117104],\n",
       "       [0.1497516 ],\n",
       "       [0.16323634],\n",
       "       [0.15755855],\n",
       "       [0.13058907],\n",
       "       [0.14336409],\n",
       "       [0.18239886],\n",
       "       [0.14762243],\n",
       "       [0.1376863 ],\n",
       "       [0.10184528],\n",
       "       [0.11284599],\n",
       "       [0.10787793],\n",
       "       [0.12278211],\n",
       "       [0.10468417],\n",
       "       [0.11639461],\n",
       "       [0.11142654],\n",
       "       [0.14194464],\n",
       "       [0.14584812],\n",
       "       [0.12739532],\n",
       "       [0.14088006],\n",
       "       [0.14123492],\n",
       "       [0.20085167],\n",
       "       [0.18736693],\n",
       "       [0.13236338],\n",
       "       [0.22356281],\n",
       "       [0.36124911],\n",
       "       [0.36408801],\n",
       "       [0.35344216],\n",
       "       [0.24485451],\n",
       "       [0.40489709],\n",
       "       [0.31653655],\n",
       "       [0.25904897],\n",
       "       [0.21823989],\n",
       "       [0.24201561],\n",
       "       [0.25443577],\n",
       "       [0.20617459],\n",
       "       [0.19907736],\n",
       "       [0.27608233],\n",
       "       [0.23811214],\n",
       "       [0.2966643 ],\n",
       "       [0.31085877],\n",
       "       [0.28956707],\n",
       "       [0.33960256],\n",
       "       [0.34492548],\n",
       "       [0.27785664],\n",
       "       [0.24662881],\n",
       "       [0.24095103],\n",
       "       [0.25408091],\n",
       "       [0.24130589],\n",
       "       [0.2430802 ],\n",
       "       [0.24024131],\n",
       "       [0.23704755],\n",
       "       [0.21788502],\n",
       "       [0.22036906],\n",
       "       [0.21327182],\n",
       "       [0.18417317],\n",
       "       [0.19907736],\n",
       "       [0.22214336],\n",
       "       [0.2171753 ],\n",
       "       [0.25337119],\n",
       "       [0.25088715],\n",
       "       [0.23704755],\n",
       "       [0.21078779],\n",
       "       [0.17459191],\n",
       "       [0.13449255],\n",
       "       [0.12171753],\n",
       "       [0.1469127 ],\n",
       "       [0.17104329],\n",
       "       [0.17565649],\n",
       "       [0.13804116],\n",
       "       [0.13449255],\n",
       "       [0.11533002],\n",
       "       [0.12562101],\n",
       "       [0.13200852],\n",
       "       [0.17139815],\n",
       "       [0.15578424],\n",
       "       [0.18843151],\n",
       "       [0.15578424],\n",
       "       [0.12313698],\n",
       "       [0.10397445],\n",
       "       [0.12775018],\n",
       "       [0.1071682 ],\n",
       "       [0.13094393],\n",
       "       [0.17033357],\n",
       "       [0.2476934 ],\n",
       "       [0.30979418],\n",
       "       [0.30056778],\n",
       "       [0.54826118],\n",
       "       [0.39141235],\n",
       "       [0.36728176],\n",
       "       [0.27572747],\n",
       "       [0.3133428 ],\n",
       "       [0.42405962],\n",
       "       [0.29737402],\n",
       "       [0.45990064],\n",
       "       [0.42725337],\n",
       "       [0.33108588],\n",
       "       [0.27466288],\n",
       "       [0.2966643 ],\n",
       "       [0.23633783],\n",
       "       [0.26756565],\n",
       "       [0.3807665 ],\n",
       "       [0.36124911],\n",
       "       [0.39638041],\n",
       "       [0.3623137 ],\n",
       "       [0.31014904],\n",
       "       [0.34918382],\n",
       "       [0.37331441],\n",
       "       [0.29063165],\n",
       "       [0.25301632],\n",
       "       [0.2079489 ],\n",
       "       [0.21753016],\n",
       "       [0.21504613],\n",
       "       [0.1941093 ],\n",
       "       [0.18026969],\n",
       "       [0.16323634],\n",
       "       [0.19623847]])"
      ]
     },
     "execution_count": 251,
     "metadata": {},
     "output_type": "execute_result"
    }
   ],
   "source": [
    "test_scaled"
   ]
  },
  {
   "cell_type": "code",
   "execution_count": 252,
   "metadata": {},
   "outputs": [],
   "source": [
    "true_prediciton = scalar.inverse_transform(my_predictions)"
   ]
  },
  {
   "cell_type": "code",
   "execution_count": 253,
   "metadata": {},
   "outputs": [
    {
     "data": {
      "text/plain": [
       "array([[17.40821159],\n",
       "       [18.03375015],\n",
       "       [18.77951954],\n",
       "       [20.23018885],\n",
       "       [21.87359398],\n",
       "       [23.65292635],\n",
       "       [25.37599938],\n",
       "       [27.37733143],\n",
       "       [29.53754073],\n",
       "       [32.29933665],\n",
       "       [35.16832505],\n",
       "       [38.27747611],\n",
       "       [41.78953871],\n",
       "       [45.18310474],\n",
       "       [48.81933444],\n",
       "       [52.28140031],\n",
       "       [55.89286849],\n",
       "       [59.12014492],\n",
       "       [62.13536442],\n",
       "       [64.78832517],\n",
       "       [66.9667722 ],\n",
       "       [68.96568722],\n",
       "       [70.52821342],\n",
       "       [71.8708857 ],\n",
       "       [72.87853323],\n",
       "       [73.65430048],\n",
       "       [74.33778728],\n",
       "       [74.80927424],\n",
       "       [75.17574894],\n",
       "       [75.45578167],\n",
       "       [75.67460763],\n",
       "       [75.84542222],\n",
       "       [75.94812328],\n",
       "       [76.05645456],\n",
       "       [76.12478981],\n",
       "       [76.16839375],\n",
       "       [76.20836963],\n",
       "       [76.2371993 ],\n",
       "       [76.26089592],\n",
       "       [76.27163902],\n",
       "       [76.28414912],\n",
       "       [76.29363584],\n",
       "       [76.29919887],\n",
       "       [76.30499033],\n",
       "       [76.30828246],\n",
       "       [76.31281082],\n",
       "       [76.31566624],\n",
       "       [76.31662701],\n",
       "       [76.31908603],\n",
       "       [76.32032226],\n",
       "       [76.32209598],\n",
       "       [76.32265362],\n",
       "       [76.32422578],\n",
       "       [76.32490437],\n",
       "       [76.32523358],\n",
       "       [76.32626825],\n",
       "       [76.3266109 ],\n",
       "       [76.32685277],\n",
       "       [76.32683933],\n",
       "       [76.32726933],\n",
       "       [76.32737682],\n",
       "       [76.32724245],\n",
       "       [76.32725589],\n",
       "       [76.32720214],\n",
       "       [76.32716855],\n",
       "       [76.32703417],\n",
       "       [76.32697371],\n",
       "       [76.32684605],\n",
       "       [76.3267184 ],\n",
       "       [76.32666465],\n",
       "       [76.32656387],\n",
       "       [76.32646309],\n",
       "       [76.32642278],\n",
       "       [76.32634887],\n",
       "       [76.32631528],\n",
       "       [76.3262884 ],\n",
       "       [76.32626153],\n",
       "       [76.32624809],\n",
       "       [76.32624809],\n",
       "       [76.32624809],\n",
       "       [76.32623466],\n",
       "       [76.32624137],\n",
       "       [76.32624809],\n",
       "       [76.32626153],\n",
       "       [76.32626153],\n",
       "       [76.32626153],\n",
       "       [76.32627497],\n",
       "       [76.32628169],\n",
       "       [76.32629512],\n",
       "       [76.32629512],\n",
       "       [76.32630184],\n",
       "       [76.32630184],\n",
       "       [76.32630856],\n",
       "       [76.32631528],\n",
       "       [76.32631528],\n",
       "       [76.32631528],\n",
       "       [76.32631528],\n",
       "       [76.32631528],\n",
       "       [76.32631528],\n",
       "       [76.32631528],\n",
       "       [76.32631528],\n",
       "       [76.32631528],\n",
       "       [76.32631528],\n",
       "       [76.32631528],\n",
       "       [76.32631528],\n",
       "       [76.326322  ],\n",
       "       [76.32631528],\n",
       "       [76.32631528],\n",
       "       [76.32631528],\n",
       "       [76.326322  ],\n",
       "       [76.32631528],\n",
       "       [76.326322  ],\n",
       "       [76.326322  ],\n",
       "       [76.326322  ],\n",
       "       [76.326322  ],\n",
       "       [76.32631528],\n",
       "       [76.32631528],\n",
       "       [76.326322  ],\n",
       "       [76.32632872],\n",
       "       [76.32632872],\n",
       "       [76.32632872],\n",
       "       [76.32632872],\n",
       "       [76.32632872],\n",
       "       [76.32632872],\n",
       "       [76.32632872],\n",
       "       [76.32632872],\n",
       "       [76.32631528],\n",
       "       [76.32631528],\n",
       "       [76.32631528],\n",
       "       [76.32631528],\n",
       "       [76.32631528],\n",
       "       [76.32631528],\n",
       "       [76.32631528],\n",
       "       [76.32631528],\n",
       "       [76.32631528],\n",
       "       [76.326322  ],\n",
       "       [76.32632872],\n",
       "       [76.32632872],\n",
       "       [76.32632872],\n",
       "       [76.326322  ],\n",
       "       [76.326322  ],\n",
       "       [76.326322  ],\n",
       "       [76.326322  ],\n",
       "       [76.32631528],\n",
       "       [76.32631528],\n",
       "       [76.326322  ],\n",
       "       [76.32632872],\n",
       "       [76.32632872]])"
      ]
     },
     "execution_count": 253,
     "metadata": {},
     "output_type": "execute_result"
    }
   ],
   "source": [
    "true_prediciton"
   ]
  },
  {
   "cell_type": "code",
   "execution_count": 254,
   "metadata": {},
   "outputs": [
    {
     "name": "stderr",
     "output_type": "stream",
     "text": [
      "/Users/berkatbhatti/opt/anaconda3/lib/python3.7/site-packages/ipykernel_launcher.py:1: SettingWithCopyWarning: \n",
      "A value is trying to be set on a copy of a slice from a DataFrame.\n",
      "Try using .loc[row_indexer,col_indexer] = value instead\n",
      "\n",
      "See the caveats in the documentation: https://pandas.pydata.org/pandas-docs/stable/user_guide/indexing.html#returning-a-view-versus-a-copy\n",
      "  \"\"\"Entry point for launching an IPython kernel.\n"
     ]
    }
   ],
   "source": [
    "test[\"predicitons\"] = true_prediciton"
   ]
  },
  {
   "cell_type": "code",
   "execution_count": 256,
   "metadata": {},
   "outputs": [
    {
     "data": {
      "text/html": [
       "<div>\n",
       "<style scoped>\n",
       "    .dataframe tbody tr th:only-of-type {\n",
       "        vertical-align: middle;\n",
       "    }\n",
       "\n",
       "    .dataframe tbody tr th {\n",
       "        vertical-align: top;\n",
       "    }\n",
       "\n",
       "    .dataframe thead th {\n",
       "        text-align: right;\n",
       "    }\n",
       "</style>\n",
       "<table border=\"1\" class=\"dataframe\">\n",
       "  <thead>\n",
       "    <tr style=\"text-align: right;\">\n",
       "      <th></th>\n",
       "      <th>VIX</th>\n",
       "      <th>predicitons</th>\n",
       "    </tr>\n",
       "    <tr>\n",
       "      <th>dates</th>\n",
       "      <th></th>\n",
       "      <th></th>\n",
       "    </tr>\n",
       "  </thead>\n",
       "  <tbody>\n",
       "    <tr>\n",
       "      <th>2019-02-14</th>\n",
       "      <td>16.22</td>\n",
       "      <td>17.408212</td>\n",
       "    </tr>\n",
       "    <tr>\n",
       "      <th>2019-02-15</th>\n",
       "      <td>14.91</td>\n",
       "      <td>18.033750</td>\n",
       "    </tr>\n",
       "    <tr>\n",
       "      <th>2019-02-19</th>\n",
       "      <td>14.88</td>\n",
       "      <td>18.779520</td>\n",
       "    </tr>\n",
       "    <tr>\n",
       "      <th>2019-02-20</th>\n",
       "      <td>14.02</td>\n",
       "      <td>20.230189</td>\n",
       "    </tr>\n",
       "    <tr>\n",
       "      <th>2019-02-21</th>\n",
       "      <td>14.46</td>\n",
       "      <td>21.873594</td>\n",
       "    </tr>\n",
       "    <tr>\n",
       "      <th>...</th>\n",
       "      <td>...</td>\n",
       "      <td>...</td>\n",
       "    </tr>\n",
       "    <tr>\n",
       "      <th>2019-09-10</th>\n",
       "      <td>15.20</td>\n",
       "      <td>76.326315</td>\n",
       "    </tr>\n",
       "    <tr>\n",
       "      <th>2019-09-11</th>\n",
       "      <td>14.61</td>\n",
       "      <td>76.326315</td>\n",
       "    </tr>\n",
       "    <tr>\n",
       "      <th>2019-09-12</th>\n",
       "      <td>14.22</td>\n",
       "      <td>76.326322</td>\n",
       "    </tr>\n",
       "    <tr>\n",
       "      <th>2019-09-13</th>\n",
       "      <td>13.74</td>\n",
       "      <td>76.326329</td>\n",
       "    </tr>\n",
       "    <tr>\n",
       "      <th>2019-09-16</th>\n",
       "      <td>14.67</td>\n",
       "      <td>76.326329</td>\n",
       "    </tr>\n",
       "  </tbody>\n",
       "</table>\n",
       "<p>148 rows × 2 columns</p>\n",
       "</div>"
      ],
      "text/plain": [
       "              VIX  predicitons\n",
       "dates                         \n",
       "2019-02-14  16.22    17.408212\n",
       "2019-02-15  14.91    18.033750\n",
       "2019-02-19  14.88    18.779520\n",
       "2019-02-20  14.02    20.230189\n",
       "2019-02-21  14.46    21.873594\n",
       "...           ...          ...\n",
       "2019-09-10  15.20    76.326315\n",
       "2019-09-11  14.61    76.326315\n",
       "2019-09-12  14.22    76.326322\n",
       "2019-09-13  13.74    76.326329\n",
       "2019-09-16  14.67    76.326329\n",
       "\n",
       "[148 rows x 2 columns]"
      ]
     },
     "execution_count": 256,
     "metadata": {},
     "output_type": "execute_result"
    }
   ],
   "source": [
    "test"
   ]
  },
  {
   "cell_type": "code",
   "execution_count": 255,
   "metadata": {},
   "outputs": [
    {
     "data": {
      "text/plain": [
       "<matplotlib.axes._subplots.AxesSubplot at 0x1a4b7208d0>"
      ]
     },
     "execution_count": 255,
     "metadata": {},
     "output_type": "execute_result"
    },
    {
     "data": {
      "image/png": "[encoded data removed]",
      "text/plain": [
       "<Figure size 432x288 with 1 Axes>"
      ]
     },
     "metadata": {
      "needs_background": "light"
     },
     "output_type": "display_data"
    }
   ],
   "source": [
    "test.plot(marker =\"o\")"
   ]
  },
  {
   "cell_type": "markdown",
   "metadata": {},
   "source": [
    "### Lets see if we cna improve on this with LSTM"
   ]
  },
  {
   "cell_type": "code",
   "execution_count": null,
   "metadata": {},
   "outputs": [],
   "source": []
  }
 ],
 "metadata": {
  "kernelspec": {
   "display_name": "Python 3",
   "language": "python",
   "name": "python3"
  },
  "language_info": {
   "codemirror_mode": {
    "name": "ipython",
    "version": 3
   },
   "file_extension": ".py",
   "mimetype": "text/x-python",
   "name": "python",
   "nbconvert_exporter": "python",
   "pygments_lexer": "ipython3",
   "version": "3.7.6"
  }
 },
 "nbformat": 4,
 "nbformat_minor": 2
}
