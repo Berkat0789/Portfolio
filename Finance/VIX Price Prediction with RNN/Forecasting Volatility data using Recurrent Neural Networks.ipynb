{
 "cells": [
  {
   "cell_type": "markdown",
   "metadata": {},
   "source": [
    "### Congratulations Berkat on your previous forecasting project using the volatility data you were provided. You model was accurate in forecasting on VIX. Though we found that during Covid-19 it was very difficult to predict the value of vix, we found that your model worked well in \"normal\" instances. \n",
    "\n",
    "### There has been a quesiton that has came up. Is it possible to forecast on multiple variables in a data set? and if so could we use the forecast predicted to classify the ^VIX index. This is certainly a challenge and we are certin that Covid-19 would create some uncertainty but maybe back testing on data pre-COVID would be essential"
   ]
  },
  {
   "cell_type": "markdown",
   "metadata": {},
   "source": [
    "### Project Approach: \n",
    "- compile data that will be used to predict the VIX index\n",
    "- create a Artificial Neural Network that will classify VIX as gain or loss (1,0) \n",
    "- create a multivriate Neural network that will forecast one day into the future\n",
    "- on this forecast use the previously created ANN to classify the day as a loss or gain\n",
    "- back test this model on pre-COVID-19 Data"
   ]
  },
  {
   "cell_type": "code",
   "execution_count": 1,
   "metadata": {},
   "outputs": [],
   "source": [
    "import pandas as pd\n",
    "import numpy as np\n",
    "import seaborn as sns\n",
    "import matplotlib.pyplot as plt"
   ]
  },
  {
   "cell_type": "code",
   "execution_count": 2,
   "metadata": {},
   "outputs": [],
   "source": [
    "data = pd.read_csv(\"resources/vix_data_updated.csv\",parse_dates = True, index_col=\"dates\")"
   ]
  },
  {
   "cell_type": "code",
   "execution_count": 3,
   "metadata": {},
   "outputs": [],
   "source": [
    "data.drop(\"target\", axis=1, inplace=True)"
   ]
  },
  {
   "cell_type": "markdown",
   "metadata": {},
   "source": [
    "### Classification\n",
    "- Our classificaiton will be in the form of dummy variables (1,0)\n",
    "- if the daily returns of VIX was < 0 we will classify that as 1, positive 0\n",
    "- THis will be our classification \"target\""
   ]
  },
  {
   "cell_type": "code",
   "execution_count": 4,
   "metadata": {},
   "outputs": [],
   "source": [
    "def check_loss_gain(vix_daily_returns):\n",
    "    if vix_daily_returns < 0:\n",
    "        return 1\n",
    "    elif vix_daily_returns > 0:\n",
    "        return 0\n",
    "    else:\n",
    "        return vix_daily_returns"
   ]
  },
  {
   "cell_type": "code",
   "execution_count": 5,
   "metadata": {},
   "outputs": [],
   "source": [
    "data[\"target\"] = data[\"VIX % returns\"].apply(lambda x : check_loss_gain(x))"
   ]
  },
  {
   "cell_type": "markdown",
   "metadata": {},
   "source": [
    "### Target Analysis\n",
    "- We will take a look at how many days the VIX index too a loss or a gain\n",
    "- VIX has approximately 250 more days were the index too a loss but the spread seems pretty close \n",
    "- Assumption is that there is much volatility in this market"
   ]
  },
  {
   "cell_type": "code",
   "execution_count": 6,
   "metadata": {},
   "outputs": [
    {
     "data": {
      "text/plain": [
       "<matplotlib.axes._subplots.AxesSubplot at 0x7fd6cc1da210>"
      ]
     },
     "execution_count": 6,
     "metadata": {},
     "output_type": "execute_result"
    },
    {
     "data": {
      "image/png": "[encoded data removed]",
      "text/plain": [
       "<Figure size 1152x432 with 1 Axes>"
      ]
     },
     "metadata": {
      "needs_background": "light"
     },
     "output_type": "display_data"
    }
   ],
   "source": [
    "plt.figure(figsize=(16,6))\n",
    "sns.countplot(x = \"target\", data= data)"
   ]
  },
  {
   "cell_type": "markdown",
   "metadata": {},
   "source": [
    "### Classificaiton Model\n",
    "- We will use the data above to create a model to classify VIX as gain (0) or loss (1)\n",
    "- we will need to remove the data that prefectly pedicts this, VIX,VIX &% returns, Targets for out training set"
   ]
  },
  {
   "cell_type": "code",
   "execution_count": 7,
   "metadata": {},
   "outputs": [
    {
     "data": {
      "text/plain": [
       "Index(['UVXY', 'SPY', 'VXXBEN', 'VIX', 'UX1', 'UX2', 'UX3', 'UX4',\n",
       "       'Day of Week', 'Days to Roll', 'Day in Cycle', 'Daily Decay', 'VXXGREG',\n",
       "       'UX1 % returns', 'UX2 % returns', 'UX3 % returns', 'UX4 % returns',\n",
       "       'UVXY % returns', 'SPY % returns', 'VXXBEN % returns', 'VIX % returns',\n",
       "       'regression Slope', 'Inverse Slope', 'target'],\n",
       "      dtype='object')"
      ]
     },
     "execution_count": 7,
     "metadata": {},
     "output_type": "execute_result"
    }
   ],
   "source": [
    "data.columns"
   ]
  },
  {
   "cell_type": "markdown",
   "metadata": {},
   "source": [
    "## infinity Value\n",
    "- Appears that our data has an infinity value \n",
    "- we will need to replace this with a 0"
   ]
  },
  {
   "cell_type": "code",
   "execution_count": 8,
   "metadata": {},
   "outputs": [],
   "source": [
    "vix_data = data.replace([np.inf, -np.inf], np.nan).dropna()"
   ]
  },
  {
   "cell_type": "code",
   "execution_count": null,
   "metadata": {},
   "outputs": [],
   "source": []
  },
  {
   "cell_type": "code",
   "execution_count": null,
   "metadata": {},
   "outputs": [],
   "source": []
  },
  {
   "cell_type": "code",
   "execution_count": 9,
   "metadata": {},
   "outputs": [],
   "source": [
    "X = vix_data.drop([\"VIX\", 'VIX % returns', \"target\"], axis = 1).values\n",
    "y = vix_data[\"target\"].values"
   ]
  },
  {
   "cell_type": "markdown",
   "metadata": {},
   "source": [
    "## Training Testing and Splitting our data"
   ]
  },
  {
   "cell_type": "code",
   "execution_count": 10,
   "metadata": {},
   "outputs": [],
   "source": [
    "from sklearn.model_selection import train_test_split"
   ]
  },
  {
   "cell_type": "code",
   "execution_count": 11,
   "metadata": {},
   "outputs": [],
   "source": [
    "X_train, X_test, y_train, y_test = train_test_split(X, y, test_size=0.40, random_state=101)"
   ]
  },
  {
   "cell_type": "markdown",
   "metadata": {},
   "source": [
    "### Scaling the data\n",
    "- We will scale the data to train our model on so that we consider outliers"
   ]
  },
  {
   "cell_type": "code",
   "execution_count": 12,
   "metadata": {},
   "outputs": [],
   "source": [
    "from sklearn.preprocessing import MinMaxScaler"
   ]
  },
  {
   "cell_type": "code",
   "execution_count": 13,
   "metadata": {},
   "outputs": [],
   "source": [
    "scalar = MinMaxScaler()"
   ]
  },
  {
   "cell_type": "code",
   "execution_count": 14,
   "metadata": {},
   "outputs": [],
   "source": [
    "X_train = scalar.fit_transform(X_train)"
   ]
  },
  {
   "cell_type": "code",
   "execution_count": 15,
   "metadata": {},
   "outputs": [],
   "source": [
    "X_test = scalar.transform(X_test)"
   ]
  },
  {
   "cell_type": "markdown",
   "metadata": {},
   "source": [
    "## Creating the model\n",
    "- Our data is cleaned and ready to process\n",
    "- We will create our ANN below to classify VIX appropriately\n",
    "- We will be looking for a model with approximately 80-85% accuracy\n",
    "- WE will use A Dropout Layer and early stopping to improve predictions"
   ]
  },
  {
   "cell_type": "code",
   "execution_count": 16,
   "metadata": {},
   "outputs": [
    {
     "data": {
      "text/plain": [
       "(1936, 21)"
      ]
     },
     "execution_count": 16,
     "metadata": {},
     "output_type": "execute_result"
    }
   ],
   "source": [
    "X_train.shape"
   ]
  },
  {
   "cell_type": "code",
   "execution_count": 17,
   "metadata": {},
   "outputs": [],
   "source": [
    "from tensorflow.keras.models import Sequential\n",
    "from tensorflow.keras.layers import Dense, Dropout\n",
    "from tensorflow.keras.callbacks import EarlyStopping"
   ]
  },
  {
   "cell_type": "code",
   "execution_count": 18,
   "metadata": {},
   "outputs": [],
   "source": [
    "stop = EarlyStopping(monitor=\"val_loss\", mode=\"min\", patience=40)"
   ]
  },
  {
   "cell_type": "code",
   "execution_count": 19,
   "metadata": {},
   "outputs": [],
   "source": [
    "model = Sequential()\n",
    "model.add(Dense(units = 21, activation = \"relu\"))\n",
    "model.add(Dropout(0.5))\n",
    "model.add(Dense(units = 21, activation = \"relu\"))\n",
    "model.add(Dropout(0.5))\n",
    "model.add(Dense(units = 21, activation = \"relu\"))\n",
    "model.add(Dropout(0.5))\n",
    "model.add(Dense(units = 1, activation = \"sigmoid\"))\n",
    "model.compile(optimizer = \"adam\", loss = \"binary_crossentropy\")"
   ]
  },
  {
   "cell_type": "markdown",
   "metadata": {},
   "source": [
    "## Fitting the model\n",
    "- Fitting the data to the model for training"
   ]
  },
  {
   "cell_type": "code",
   "execution_count": 20,
   "metadata": {},
   "outputs": [
    {
     "name": "stdout",
     "output_type": "stream",
     "text": [
      "Train on 1936 samples, validate on 1292 samples\n",
      "Epoch 1/600\n",
      "1936/1936 [==============================] - 1s 513us/sample - loss: 0.7200 - val_loss: 0.6832\n",
      "Epoch 2/600\n",
      "1936/1936 [==============================] - 0s 81us/sample - loss: 0.6930 - val_loss: 0.6831\n",
      "Epoch 3/600\n",
      "1936/1936 [==============================] - 0s 77us/sample - loss: 0.6885 - val_loss: 0.6820\n",
      "Epoch 4/600\n",
      "1936/1936 [==============================] - 0s 79us/sample - loss: 0.6861 - val_loss: 0.6793\n",
      "Epoch 5/600\n",
      "1936/1936 [==============================] - 0s 78us/sample - loss: 0.6893 - val_loss: 0.6834\n",
      "Epoch 6/600\n",
      "1936/1936 [==============================] - 0s 79us/sample - loss: 0.6837 - val_loss: 0.6784\n",
      "Epoch 7/600\n",
      "1936/1936 [==============================] - 0s 79us/sample - loss: 0.6863 - val_loss: 0.6733\n",
      "Epoch 8/600\n",
      "1936/1936 [==============================] - 0s 80us/sample - loss: 0.6765 - val_loss: 0.6634\n",
      "Epoch 9/600\n",
      "1936/1936 [==============================] - 0s 79us/sample - loss: 0.6665 - val_loss: 0.6530\n",
      "Epoch 10/600\n",
      "1936/1936 [==============================] - 0s 79us/sample - loss: 0.6627 - val_loss: 0.6433\n",
      "Epoch 11/600\n",
      "1936/1936 [==============================] - 0s 80us/sample - loss: 0.6553 - val_loss: 0.6257\n",
      "Epoch 12/600\n",
      "1936/1936 [==============================] - 0s 80us/sample - loss: 0.6457 - val_loss: 0.6030\n",
      "Epoch 13/600\n",
      "1936/1936 [==============================] - 0s 79us/sample - loss: 0.6357 - val_loss: 0.5807\n",
      "Epoch 14/600\n",
      "1936/1936 [==============================] - 0s 80us/sample - loss: 0.6243 - val_loss: 0.5553\n",
      "Epoch 15/600\n",
      "1936/1936 [==============================] - 0s 79us/sample - loss: 0.6080 - val_loss: 0.5465\n",
      "Epoch 16/600\n",
      "1936/1936 [==============================] - 0s 80us/sample - loss: 0.5855 - val_loss: 0.5180\n",
      "Epoch 17/600\n",
      "1936/1936 [==============================] - 0s 79us/sample - loss: 0.5616 - val_loss: 0.4845\n",
      "Epoch 18/600\n",
      "1936/1936 [==============================] - 0s 79us/sample - loss: 0.5599 - val_loss: 0.4597\n",
      "Epoch 19/600\n",
      "1936/1936 [==============================] - 0s 79us/sample - loss: 0.5422 - val_loss: 0.4480\n",
      "Epoch 20/600\n",
      "1936/1936 [==============================] - 0s 79us/sample - loss: 0.5308 - val_loss: 0.4364\n",
      "Epoch 21/600\n",
      "1936/1936 [==============================] - 0s 79us/sample - loss: 0.5167 - val_loss: 0.4232\n",
      "Epoch 22/600\n",
      "1936/1936 [==============================] - 0s 79us/sample - loss: 0.5184 - val_loss: 0.4188\n",
      "Epoch 23/600\n",
      "1936/1936 [==============================] - 0s 78us/sample - loss: 0.5023 - val_loss: 0.4207\n",
      "Epoch 24/600\n",
      "1936/1936 [==============================] - 0s 78us/sample - loss: 0.4851 - val_loss: 0.4023\n",
      "Epoch 25/600\n",
      "1936/1936 [==============================] - 0s 80us/sample - loss: 0.4757 - val_loss: 0.3803\n",
      "Epoch 26/600\n",
      "1936/1936 [==============================] - 0s 78us/sample - loss: 0.4694 - val_loss: 0.3887\n",
      "Epoch 27/600\n",
      "1936/1936 [==============================] - 0s 78us/sample - loss: 0.4886 - val_loss: 0.3905\n",
      "Epoch 28/600\n",
      "1936/1936 [==============================] - 0s 78us/sample - loss: 0.4500 - val_loss: 0.3883\n",
      "Epoch 29/600\n",
      "1936/1936 [==============================] - 0s 77us/sample - loss: 0.4557 - val_loss: 0.3692\n",
      "Epoch 30/600\n",
      "1936/1936 [==============================] - 0s 79us/sample - loss: 0.4450 - val_loss: 0.3620\n",
      "Epoch 31/600\n",
      "1936/1936 [==============================] - 0s 78us/sample - loss: 0.4494 - val_loss: 0.3720\n",
      "Epoch 32/600\n",
      "1936/1936 [==============================] - 0s 79us/sample - loss: 0.4455 - val_loss: 0.3810\n",
      "Epoch 33/600\n",
      "1936/1936 [==============================] - 0s 78us/sample - loss: 0.4553 - val_loss: 0.3783\n",
      "Epoch 34/600\n",
      "1936/1936 [==============================] - 0s 78us/sample - loss: 0.4258 - val_loss: 0.3444\n",
      "Epoch 35/600\n",
      "1936/1936 [==============================] - 0s 79us/sample - loss: 0.4236 - val_loss: 0.3500\n",
      "Epoch 36/600\n",
      "1936/1936 [==============================] - 0s 79us/sample - loss: 0.4489 - val_loss: 0.3543\n",
      "Epoch 37/600\n",
      "1936/1936 [==============================] - 0s 78us/sample - loss: 0.4515 - val_loss: 0.3448\n",
      "Epoch 38/600\n",
      "1936/1936 [==============================] - 0s 79us/sample - loss: 0.4388 - val_loss: 0.3489\n",
      "Epoch 39/600\n",
      "1936/1936 [==============================] - 0s 79us/sample - loss: 0.4200 - val_loss: 0.3444\n",
      "Epoch 40/600\n",
      "1936/1936 [==============================] - 0s 80us/sample - loss: 0.4215 - val_loss: 0.3565\n",
      "Epoch 41/600\n",
      "1936/1936 [==============================] - 0s 78us/sample - loss: 0.4224 - val_loss: 0.3390\n",
      "Epoch 42/600\n",
      "1936/1936 [==============================] - 0s 78us/sample - loss: 0.4173 - val_loss: 0.3425\n",
      "Epoch 43/600\n",
      "1936/1936 [==============================] - 0s 77us/sample - loss: 0.4233 - val_loss: 0.3332\n",
      "Epoch 44/600\n",
      "1936/1936 [==============================] - 0s 78us/sample - loss: 0.4166 - val_loss: 0.3467\n",
      "Epoch 45/600\n",
      "1936/1936 [==============================] - 0s 78us/sample - loss: 0.4055 - val_loss: 0.3415\n",
      "Epoch 46/600\n",
      "1936/1936 [==============================] - 0s 79us/sample - loss: 0.4138 - val_loss: 0.3392\n",
      "Epoch 47/600\n",
      "1936/1936 [==============================] - 0s 78us/sample - loss: 0.4152 - val_loss: 0.3392\n",
      "Epoch 48/600\n",
      "1936/1936 [==============================] - 0s 80us/sample - loss: 0.3932 - val_loss: 0.3324\n",
      "Epoch 49/600\n",
      "1936/1936 [==============================] - 0s 79us/sample - loss: 0.3835 - val_loss: 0.3254\n",
      "Epoch 50/600\n",
      "1936/1936 [==============================] - 0s 78us/sample - loss: 0.4004 - val_loss: 0.3244\n",
      "Epoch 51/600\n",
      "1936/1936 [==============================] - 0s 79us/sample - loss: 0.3959 - val_loss: 0.3277\n",
      "Epoch 52/600\n",
      "1936/1936 [==============================] - 0s 79us/sample - loss: 0.4171 - val_loss: 0.3439\n",
      "Epoch 53/600\n",
      "1936/1936 [==============================] - 0s 78us/sample - loss: 0.4097 - val_loss: 0.3371\n",
      "Epoch 54/600\n",
      "1936/1936 [==============================] - 0s 79us/sample - loss: 0.4002 - val_loss: 0.3354\n",
      "Epoch 55/600\n",
      "1936/1936 [==============================] - 0s 79us/sample - loss: 0.4100 - val_loss: 0.3322\n",
      "Epoch 56/600\n",
      "1936/1936 [==============================] - 0s 80us/sample - loss: 0.3903 - val_loss: 0.3277\n",
      "Epoch 57/600\n",
      "1936/1936 [==============================] - 0s 79us/sample - loss: 0.3928 - val_loss: 0.3212\n",
      "Epoch 58/600\n",
      "1936/1936 [==============================] - 0s 78us/sample - loss: 0.4003 - val_loss: 0.3229\n",
      "Epoch 59/600\n",
      "1936/1936 [==============================] - 0s 78us/sample - loss: 0.3943 - val_loss: 0.3479\n",
      "Epoch 60/600\n",
      "1936/1936 [==============================] - 0s 78us/sample - loss: 0.3966 - val_loss: 0.3250\n",
      "Epoch 61/600\n",
      "1936/1936 [==============================] - 0s 78us/sample - loss: 0.3908 - val_loss: 0.3270\n",
      "Epoch 62/600\n",
      "1936/1936 [==============================] - 0s 79us/sample - loss: 0.3837 - val_loss: 0.3268\n",
      "Epoch 63/600\n",
      "1936/1936 [==============================] - 0s 78us/sample - loss: 0.3939 - val_loss: 0.3233\n",
      "Epoch 64/600\n",
      "1936/1936 [==============================] - 0s 79us/sample - loss: 0.3750 - val_loss: 0.3152\n",
      "Epoch 65/600\n",
      "1936/1936 [==============================] - 0s 78us/sample - loss: 0.3730 - val_loss: 0.3186\n",
      "Epoch 66/600\n",
      "1936/1936 [==============================] - 0s 80us/sample - loss: 0.3868 - val_loss: 0.3233\n",
      "Epoch 67/600\n",
      "1936/1936 [==============================] - 0s 79us/sample - loss: 0.3717 - val_loss: 0.3188\n",
      "Epoch 68/600\n",
      "1936/1936 [==============================] - 0s 79us/sample - loss: 0.3801 - val_loss: 0.3177\n",
      "Epoch 69/600\n",
      "1936/1936 [==============================] - 0s 78us/sample - loss: 0.3863 - val_loss: 0.3175\n",
      "Epoch 70/600\n",
      "1936/1936 [==============================] - 0s 79us/sample - loss: 0.3745 - val_loss: 0.3238\n",
      "Epoch 71/600\n",
      "1936/1936 [==============================] - 0s 77us/sample - loss: 0.3804 - val_loss: 0.3192\n",
      "Epoch 72/600\n",
      "1936/1936 [==============================] - 0s 79us/sample - loss: 0.3732 - val_loss: 0.3297\n",
      "Epoch 73/600\n",
      "1936/1936 [==============================] - 0s 79us/sample - loss: 0.3859 - val_loss: 0.3206\n",
      "Epoch 74/600\n",
      "1936/1936 [==============================] - 0s 78us/sample - loss: 0.3837 - val_loss: 0.3281\n",
      "Epoch 75/600\n",
      "1936/1936 [==============================] - 0s 79us/sample - loss: 0.3813 - val_loss: 0.3265\n",
      "Epoch 76/600\n",
      "1936/1936 [==============================] - 0s 79us/sample - loss: 0.3774 - val_loss: 0.3216\n",
      "Epoch 77/600\n"
     ]
    },
    {
     "name": "stdout",
     "output_type": "stream",
     "text": [
      "1936/1936 [==============================] - 0s 78us/sample - loss: 0.3735 - val_loss: 0.3133\n",
      "Epoch 78/600\n",
      "1936/1936 [==============================] - 0s 80us/sample - loss: 0.3765 - val_loss: 0.3153\n",
      "Epoch 79/600\n",
      "1936/1936 [==============================] - 0s 78us/sample - loss: 0.3795 - val_loss: 0.3332\n",
      "Epoch 80/600\n",
      "1936/1936 [==============================] - 0s 79us/sample - loss: 0.3935 - val_loss: 0.3174\n",
      "Epoch 81/600\n",
      "1936/1936 [==============================] - 0s 78us/sample - loss: 0.3931 - val_loss: 0.3113\n",
      "Epoch 82/600\n",
      "1936/1936 [==============================] - 0s 80us/sample - loss: 0.3690 - val_loss: 0.3202\n",
      "Epoch 83/600\n",
      "1936/1936 [==============================] - 0s 78us/sample - loss: 0.3749 - val_loss: 0.3203\n",
      "Epoch 84/600\n",
      "1936/1936 [==============================] - 0s 78us/sample - loss: 0.3589 - val_loss: 0.3161\n",
      "Epoch 85/600\n",
      "1936/1936 [==============================] - 0s 80us/sample - loss: 0.3673 - val_loss: 0.3186\n",
      "Epoch 86/600\n",
      "1936/1936 [==============================] - 0s 78us/sample - loss: 0.3673 - val_loss: 0.3273\n",
      "Epoch 87/600\n",
      "1936/1936 [==============================] - 0s 79us/sample - loss: 0.3780 - val_loss: 0.3156\n",
      "Epoch 88/600\n",
      "1936/1936 [==============================] - 0s 78us/sample - loss: 0.3712 - val_loss: 0.3167\n",
      "Epoch 89/600\n",
      "1936/1936 [==============================] - 0s 78us/sample - loss: 0.3669 - val_loss: 0.3154\n",
      "Epoch 90/600\n",
      "1936/1936 [==============================] - 0s 79us/sample - loss: 0.3689 - val_loss: 0.3421\n",
      "Epoch 91/600\n",
      "1936/1936 [==============================] - 0s 80us/sample - loss: 0.3778 - val_loss: 0.3125\n",
      "Epoch 92/600\n",
      "1936/1936 [==============================] - 0s 79us/sample - loss: 0.3585 - val_loss: 0.3166\n",
      "Epoch 93/600\n",
      "1936/1936 [==============================] - 0s 79us/sample - loss: 0.3632 - val_loss: 0.3127\n",
      "Epoch 94/600\n",
      "1936/1936 [==============================] - 0s 80us/sample - loss: 0.3766 - val_loss: 0.3207\n",
      "Epoch 95/600\n",
      "1936/1936 [==============================] - 0s 79us/sample - loss: 0.3593 - val_loss: 0.3202\n",
      "Epoch 96/600\n",
      "1936/1936 [==============================] - 0s 78us/sample - loss: 0.3699 - val_loss: 0.3174\n",
      "Epoch 97/600\n",
      "1936/1936 [==============================] - 0s 79us/sample - loss: 0.3787 - val_loss: 0.3156\n",
      "Epoch 98/600\n",
      "1936/1936 [==============================] - 0s 78us/sample - loss: 0.3712 - val_loss: 0.3128\n",
      "Epoch 99/600\n",
      "1936/1936 [==============================] - 0s 78us/sample - loss: 0.3627 - val_loss: 0.3145\n",
      "Epoch 100/600\n",
      "1936/1936 [==============================] - 0s 80us/sample - loss: 0.3693 - val_loss: 0.3152\n",
      "Epoch 101/600\n",
      "1936/1936 [==============================] - 0s 78us/sample - loss: 0.3633 - val_loss: 0.3185\n",
      "Epoch 102/600\n",
      "1936/1936 [==============================] - 0s 78us/sample - loss: 0.3623 - val_loss: 0.3077\n",
      "Epoch 103/600\n",
      "1936/1936 [==============================] - 0s 78us/sample - loss: 0.3796 - val_loss: 0.3128\n",
      "Epoch 104/600\n",
      "1936/1936 [==============================] - 0s 78us/sample - loss: 0.3721 - val_loss: 0.3073\n",
      "Epoch 105/600\n",
      "1936/1936 [==============================] - 0s 79us/sample - loss: 0.3725 - val_loss: 0.3080\n",
      "Epoch 106/600\n",
      "1936/1936 [==============================] - 0s 78us/sample - loss: 0.3657 - val_loss: 0.3099\n",
      "Epoch 107/600\n",
      "1936/1936 [==============================] - 0s 80us/sample - loss: 0.3666 - val_loss: 0.3095\n",
      "Epoch 108/600\n",
      "1936/1936 [==============================] - 0s 78us/sample - loss: 0.3652 - val_loss: 0.3075\n",
      "Epoch 109/600\n",
      "1936/1936 [==============================] - 0s 79us/sample - loss: 0.3749 - val_loss: 0.3104\n",
      "Epoch 110/600\n",
      "1936/1936 [==============================] - 0s 78us/sample - loss: 0.3626 - val_loss: 0.3052\n",
      "Epoch 111/600\n",
      "1936/1936 [==============================] - 0s 79us/sample - loss: 0.3605 - val_loss: 0.3102\n",
      "Epoch 112/600\n",
      "1936/1936 [==============================] - 0s 78us/sample - loss: 0.3603 - val_loss: 0.3355\n",
      "Epoch 113/600\n",
      "1936/1936 [==============================] - 0s 79us/sample - loss: 0.3612 - val_loss: 0.3067\n",
      "Epoch 114/600\n",
      "1936/1936 [==============================] - 0s 78us/sample - loss: 0.3693 - val_loss: 0.3115\n",
      "Epoch 115/600\n",
      "1936/1936 [==============================] - 0s 80us/sample - loss: 0.3653 - val_loss: 0.3122\n",
      "Epoch 116/600\n",
      "1936/1936 [==============================] - 0s 78us/sample - loss: 0.3659 - val_loss: 0.3147\n",
      "Epoch 117/600\n",
      "1936/1936 [==============================] - 0s 80us/sample - loss: 0.3621 - val_loss: 0.3132\n",
      "Epoch 118/600\n",
      "1936/1936 [==============================] - 0s 79us/sample - loss: 0.3736 - val_loss: 0.3092\n",
      "Epoch 119/600\n",
      "1936/1936 [==============================] - 0s 80us/sample - loss: 0.3590 - val_loss: 0.3070\n",
      "Epoch 120/600\n",
      "1936/1936 [==============================] - 0s 78us/sample - loss: 0.3593 - val_loss: 0.3046\n",
      "Epoch 121/600\n",
      "1936/1936 [==============================] - 0s 79us/sample - loss: 0.3737 - val_loss: 0.3128\n",
      "Epoch 122/600\n",
      "1936/1936 [==============================] - 0s 78us/sample - loss: 0.3614 - val_loss: 0.3161\n",
      "Epoch 123/600\n",
      "1936/1936 [==============================] - 0s 78us/sample - loss: 0.3665 - val_loss: 0.3273\n",
      "Epoch 124/600\n",
      "1936/1936 [==============================] - 0s 78us/sample - loss: 0.3694 - val_loss: 0.3107\n",
      "Epoch 125/600\n",
      "1936/1936 [==============================] - 0s 79us/sample - loss: 0.3614 - val_loss: 0.3149\n",
      "Epoch 126/600\n",
      "1936/1936 [==============================] - 0s 78us/sample - loss: 0.3602 - val_loss: 0.3076\n",
      "Epoch 127/600\n",
      "1936/1936 [==============================] - 0s 79us/sample - loss: 0.3540 - val_loss: 0.3121\n",
      "Epoch 128/600\n",
      "1936/1936 [==============================] - 0s 79us/sample - loss: 0.3563 - val_loss: 0.3084\n",
      "Epoch 129/600\n",
      "1936/1936 [==============================] - 0s 80us/sample - loss: 0.3609 - val_loss: 0.3138\n",
      "Epoch 130/600\n",
      "1936/1936 [==============================] - 0s 78us/sample - loss: 0.3523 - val_loss: 0.3066\n",
      "Epoch 131/600\n",
      "1936/1936 [==============================] - 0s 79us/sample - loss: 0.3683 - val_loss: 0.3108\n",
      "Epoch 132/600\n",
      "1936/1936 [==============================] - 0s 79us/sample - loss: 0.3691 - val_loss: 0.3136\n",
      "Epoch 133/600\n",
      "1936/1936 [==============================] - 0s 79us/sample - loss: 0.3680 - val_loss: 0.3161\n",
      "Epoch 134/600\n",
      "1936/1936 [==============================] - 0s 79us/sample - loss: 0.3609 - val_loss: 0.3115\n",
      "Epoch 135/600\n",
      "1936/1936 [==============================] - 0s 79us/sample - loss: 0.3494 - val_loss: 0.3056\n",
      "Epoch 136/600\n",
      "1936/1936 [==============================] - 0s 79us/sample - loss: 0.3650 - val_loss: 0.3088\n",
      "Epoch 137/600\n",
      "1936/1936 [==============================] - 0s 78us/sample - loss: 0.3659 - val_loss: 0.3242\n",
      "Epoch 138/600\n",
      "1936/1936 [==============================] - 0s 79us/sample - loss: 0.3648 - val_loss: 0.3175\n",
      "Epoch 139/600\n",
      "1936/1936 [==============================] - 0s 79us/sample - loss: 0.3619 - val_loss: 0.3094\n",
      "Epoch 140/600\n",
      "1936/1936 [==============================] - 0s 79us/sample - loss: 0.3599 - val_loss: 0.3089\n",
      "Epoch 141/600\n",
      "1936/1936 [==============================] - 0s 79us/sample - loss: 0.3608 - val_loss: 0.3049\n",
      "Epoch 142/600\n",
      "1936/1936 [==============================] - 0s 78us/sample - loss: 0.3452 - val_loss: 0.3100\n",
      "Epoch 143/600\n",
      "1936/1936 [==============================] - 0s 79us/sample - loss: 0.3597 - val_loss: 0.3062\n",
      "Epoch 144/600\n",
      "1936/1936 [==============================] - 0s 79us/sample - loss: 0.3440 - val_loss: 0.3111\n",
      "Epoch 145/600\n",
      "1936/1936 [==============================] - 0s 79us/sample - loss: 0.3667 - val_loss: 0.3121\n",
      "Epoch 146/600\n",
      "1936/1936 [==============================] - 0s 78us/sample - loss: 0.3630 - val_loss: 0.3093\n",
      "Epoch 147/600\n",
      "1936/1936 [==============================] - 0s 78us/sample - loss: 0.3745 - val_loss: 0.3113\n",
      "Epoch 148/600\n",
      "1936/1936 [==============================] - 0s 79us/sample - loss: 0.3651 - val_loss: 0.3106\n",
      "Epoch 149/600\n",
      "1936/1936 [==============================] - 0s 80us/sample - loss: 0.3544 - val_loss: 0.3120\n",
      "Epoch 150/600\n",
      "1936/1936 [==============================] - 0s 78us/sample - loss: 0.3745 - val_loss: 0.3060\n",
      "Epoch 151/600\n",
      "1936/1936 [==============================] - 0s 79us/sample - loss: 0.3474 - val_loss: 0.3066\n",
      "Epoch 152/600\n",
      "1936/1936 [==============================] - 0s 79us/sample - loss: 0.3522 - val_loss: 0.3069\n",
      "Epoch 153/600\n"
     ]
    },
    {
     "name": "stdout",
     "output_type": "stream",
     "text": [
      "1936/1936 [==============================] - 0s 79us/sample - loss: 0.3667 - val_loss: 0.3086\n",
      "Epoch 154/600\n",
      "1936/1936 [==============================] - 0s 79us/sample - loss: 0.3616 - val_loss: 0.3229\n",
      "Epoch 155/600\n",
      "1936/1936 [==============================] - 0s 79us/sample - loss: 0.3560 - val_loss: 0.3059\n",
      "Epoch 156/600\n",
      "1936/1936 [==============================] - 0s 79us/sample - loss: 0.3452 - val_loss: 0.3142\n",
      "Epoch 157/600\n",
      "1936/1936 [==============================] - 0s 78us/sample - loss: 0.3539 - val_loss: 0.3339\n",
      "Epoch 158/600\n",
      "1936/1936 [==============================] - 0s 80us/sample - loss: 0.3648 - val_loss: 0.3074\n",
      "Epoch 159/600\n",
      "1936/1936 [==============================] - 0s 79us/sample - loss: 0.3489 - val_loss: 0.3024\n",
      "Epoch 160/600\n",
      "1936/1936 [==============================] - 0s 79us/sample - loss: 0.3646 - val_loss: 0.3093\n",
      "Epoch 161/600\n",
      "1936/1936 [==============================] - 0s 79us/sample - loss: 0.3665 - val_loss: 0.3041\n",
      "Epoch 162/600\n",
      "1936/1936 [==============================] - 0s 79us/sample - loss: 0.3590 - val_loss: 0.3117\n",
      "Epoch 163/600\n",
      "1936/1936 [==============================] - 0s 79us/sample - loss: 0.3557 - val_loss: 0.3080\n",
      "Epoch 164/600\n",
      "1936/1936 [==============================] - 0s 79us/sample - loss: 0.3555 - val_loss: 0.3253\n",
      "Epoch 165/600\n",
      "1936/1936 [==============================] - 0s 78us/sample - loss: 0.3542 - val_loss: 0.3008\n",
      "Epoch 166/600\n",
      "1936/1936 [==============================] - 0s 79us/sample - loss: 0.3431 - val_loss: 0.3088\n",
      "Epoch 167/600\n",
      "1936/1936 [==============================] - 0s 79us/sample - loss: 0.3464 - val_loss: 0.3038\n",
      "Epoch 168/600\n",
      "1936/1936 [==============================] - 0s 78us/sample - loss: 0.3487 - val_loss: 0.3302\n",
      "Epoch 169/600\n",
      "1936/1936 [==============================] - 0s 78us/sample - loss: 0.3564 - val_loss: 0.3049\n",
      "Epoch 170/600\n",
      "1936/1936 [==============================] - 0s 79us/sample - loss: 0.3518 - val_loss: 0.3246\n",
      "Epoch 171/600\n",
      "1936/1936 [==============================] - 0s 78us/sample - loss: 0.3622 - val_loss: 0.3194\n",
      "Epoch 172/600\n",
      "1936/1936 [==============================] - 0s 79us/sample - loss: 0.3441 - val_loss: 0.3037\n",
      "Epoch 173/600\n",
      "1936/1936 [==============================] - 0s 78us/sample - loss: 0.3364 - val_loss: 0.3143\n",
      "Epoch 174/600\n",
      "1936/1936 [==============================] - 0s 78us/sample - loss: 0.3569 - val_loss: 0.3037\n",
      "Epoch 175/600\n",
      "1936/1936 [==============================] - 0s 84us/sample - loss: 0.3568 - val_loss: 0.3108\n",
      "Epoch 176/600\n",
      "1936/1936 [==============================] - 0s 79us/sample - loss: 0.3600 - val_loss: 0.3042\n",
      "Epoch 177/600\n",
      "1936/1936 [==============================] - 0s 79us/sample - loss: 0.3518 - val_loss: 0.3017\n",
      "Epoch 178/600\n",
      "1936/1936 [==============================] - 0s 77us/sample - loss: 0.3570 - val_loss: 0.3031\n",
      "Epoch 179/600\n",
      "1936/1936 [==============================] - 0s 78us/sample - loss: 0.3502 - val_loss: 0.3066\n",
      "Epoch 180/600\n",
      "1936/1936 [==============================] - 0s 77us/sample - loss: 0.3597 - val_loss: 0.3031\n",
      "Epoch 181/600\n",
      "1936/1936 [==============================] - 0s 78us/sample - loss: 0.3604 - val_loss: 0.3045\n",
      "Epoch 182/600\n",
      "1936/1936 [==============================] - 0s 79us/sample - loss: 0.3460 - val_loss: 0.3057\n",
      "Epoch 183/600\n",
      "1936/1936 [==============================] - 0s 79us/sample - loss: 0.3405 - val_loss: 0.3008\n",
      "Epoch 184/600\n",
      "1936/1936 [==============================] - 0s 79us/sample - loss: 0.3659 - val_loss: 0.3027\n",
      "Epoch 185/600\n",
      "1936/1936 [==============================] - 0s 78us/sample - loss: 0.3397 - val_loss: 0.3174\n",
      "Epoch 186/600\n",
      "1936/1936 [==============================] - 0s 79us/sample - loss: 0.3451 - val_loss: 0.3025\n",
      "Epoch 187/600\n",
      "1936/1936 [==============================] - 0s 78us/sample - loss: 0.3598 - val_loss: 0.3059\n",
      "Epoch 188/600\n",
      "1936/1936 [==============================] - 0s 78us/sample - loss: 0.3464 - val_loss: 0.3021\n",
      "Epoch 189/600\n",
      "1936/1936 [==============================] - 0s 79us/sample - loss: 0.3659 - val_loss: 0.3144\n",
      "Epoch 190/600\n",
      "1936/1936 [==============================] - 0s 81us/sample - loss: 0.3504 - val_loss: 0.3249\n",
      "Epoch 191/600\n",
      "1936/1936 [==============================] - 0s 79us/sample - loss: 0.3612 - val_loss: 0.3012\n",
      "Epoch 192/600\n",
      "1936/1936 [==============================] - 0s 78us/sample - loss: 0.3567 - val_loss: 0.3117\n",
      "Epoch 193/600\n",
      "1936/1936 [==============================] - 0s 78us/sample - loss: 0.3592 - val_loss: 0.3179\n",
      "Epoch 194/600\n",
      "1936/1936 [==============================] - 0s 79us/sample - loss: 0.3610 - val_loss: 0.3046\n",
      "Epoch 195/600\n",
      "1936/1936 [==============================] - 0s 78us/sample - loss: 0.3626 - val_loss: 0.3023\n",
      "Epoch 196/600\n",
      "1936/1936 [==============================] - 0s 78us/sample - loss: 0.3541 - val_loss: 0.3055\n",
      "Epoch 197/600\n",
      "1936/1936 [==============================] - 0s 80us/sample - loss: 0.3418 - val_loss: 0.3064\n",
      "Epoch 198/600\n",
      "1936/1936 [==============================] - 0s 79us/sample - loss: 0.3495 - val_loss: 0.3068\n",
      "Epoch 199/600\n",
      "1936/1936 [==============================] - 0s 78us/sample - loss: 0.3447 - val_loss: 0.3177\n",
      "Epoch 200/600\n",
      "1936/1936 [==============================] - 0s 79us/sample - loss: 0.3554 - val_loss: 0.3055\n",
      "Epoch 201/600\n",
      "1936/1936 [==============================] - 0s 78us/sample - loss: 0.3497 - val_loss: 0.3033\n",
      "Epoch 202/600\n",
      "1936/1936 [==============================] - 0s 78us/sample - loss: 0.3460 - val_loss: 0.2988\n",
      "Epoch 203/600\n",
      "1936/1936 [==============================] - 0s 78us/sample - loss: 0.3581 - val_loss: 0.3014\n",
      "Epoch 204/600\n",
      "1936/1936 [==============================] - 0s 79us/sample - loss: 0.3516 - val_loss: 0.3026\n",
      "Epoch 205/600\n",
      "1936/1936 [==============================] - 0s 79us/sample - loss: 0.3566 - val_loss: 0.3047\n",
      "Epoch 206/600\n",
      "1936/1936 [==============================] - 0s 78us/sample - loss: 0.3598 - val_loss: 0.3035\n",
      "Epoch 207/600\n",
      "1936/1936 [==============================] - 0s 80us/sample - loss: 0.3625 - val_loss: 0.3022\n",
      "Epoch 208/600\n",
      "1936/1936 [==============================] - 0s 79us/sample - loss: 0.3490 - val_loss: 0.3034\n",
      "Epoch 209/600\n",
      "1936/1936 [==============================] - 0s 79us/sample - loss: 0.3424 - val_loss: 0.3022\n",
      "Epoch 210/600\n",
      "1936/1936 [==============================] - 0s 78us/sample - loss: 0.3443 - val_loss: 0.3003\n",
      "Epoch 211/600\n",
      "1936/1936 [==============================] - 0s 79us/sample - loss: 0.3530 - val_loss: 0.3077\n",
      "Epoch 212/600\n",
      "1936/1936 [==============================] - 0s 78us/sample - loss: 0.3539 - val_loss: 0.3044\n",
      "Epoch 213/600\n",
      "1936/1936 [==============================] - 0s 77us/sample - loss: 0.3555 - val_loss: 0.3051\n",
      "Epoch 214/600\n",
      "1936/1936 [==============================] - 0s 77us/sample - loss: 0.3377 - val_loss: 0.3027\n",
      "Epoch 215/600\n",
      "1936/1936 [==============================] - 0s 78us/sample - loss: 0.3571 - val_loss: 0.3048\n",
      "Epoch 216/600\n",
      "1936/1936 [==============================] - 0s 77us/sample - loss: 0.3548 - val_loss: 0.3036\n",
      "Epoch 217/600\n",
      "1936/1936 [==============================] - 0s 78us/sample - loss: 0.3559 - val_loss: 0.3079\n",
      "Epoch 218/600\n",
      "1936/1936 [==============================] - 0s 78us/sample - loss: 0.3505 - val_loss: 0.3017\n",
      "Epoch 219/600\n",
      "1936/1936 [==============================] - 0s 78us/sample - loss: 0.3413 - val_loss: 0.3033\n",
      "Epoch 220/600\n",
      "1936/1936 [==============================] - 0s 78us/sample - loss: 0.3494 - val_loss: 0.3005\n",
      "Epoch 221/600\n",
      "1936/1936 [==============================] - 0s 78us/sample - loss: 0.3674 - val_loss: 0.3345\n",
      "Epoch 222/600\n",
      "1936/1936 [==============================] - 0s 78us/sample - loss: 0.3655 - val_loss: 0.3037\n",
      "Epoch 223/600\n",
      "1936/1936 [==============================] - 0s 79us/sample - loss: 0.3480 - val_loss: 0.3073\n",
      "Epoch 224/600\n",
      "1936/1936 [==============================] - 0s 78us/sample - loss: 0.3340 - val_loss: 0.3016\n",
      "Epoch 225/600\n",
      "1936/1936 [==============================] - 0s 78us/sample - loss: 0.3571 - val_loss: 0.3006\n",
      "Epoch 226/600\n",
      "1936/1936 [==============================] - 0s 78us/sample - loss: 0.3494 - val_loss: 0.3039\n",
      "Epoch 227/600\n",
      "1936/1936 [==============================] - 0s 78us/sample - loss: 0.3498 - val_loss: 0.3091\n",
      "Epoch 228/600\n",
      "1936/1936 [==============================] - 0s 79us/sample - loss: 0.3441 - val_loss: 0.3056\n"
     ]
    },
    {
     "name": "stdout",
     "output_type": "stream",
     "text": [
      "Epoch 229/600\n",
      "1936/1936 [==============================] - 0s 79us/sample - loss: 0.3447 - val_loss: 0.3005\n",
      "Epoch 230/600\n",
      "1936/1936 [==============================] - 0s 78us/sample - loss: 0.3625 - val_loss: 0.3023\n",
      "Epoch 231/600\n",
      "1936/1936 [==============================] - 0s 78us/sample - loss: 0.3338 - val_loss: 0.3004\n",
      "Epoch 232/600\n",
      "1936/1936 [==============================] - 0s 77us/sample - loss: 0.3399 - val_loss: 0.3009\n",
      "Epoch 233/600\n",
      "1936/1936 [==============================] - 0s 78us/sample - loss: 0.3423 - val_loss: 0.3012\n",
      "Epoch 234/600\n",
      "1936/1936 [==============================] - 0s 78us/sample - loss: 0.3366 - val_loss: 0.2999\n",
      "Epoch 235/600\n",
      "1936/1936 [==============================] - 0s 80us/sample - loss: 0.3480 - val_loss: 0.3045\n",
      "Epoch 236/600\n",
      "1936/1936 [==============================] - 0s 79us/sample - loss: 0.3455 - val_loss: 0.3003\n",
      "Epoch 237/600\n",
      "1936/1936 [==============================] - 0s 79us/sample - loss: 0.3506 - val_loss: 0.3123\n",
      "Epoch 238/600\n",
      "1936/1936 [==============================] - 0s 78us/sample - loss: 0.3573 - val_loss: 0.3022\n",
      "Epoch 239/600\n",
      "1936/1936 [==============================] - 0s 78us/sample - loss: 0.3501 - val_loss: 0.3026\n",
      "Epoch 240/600\n",
      "1936/1936 [==============================] - 0s 77us/sample - loss: 0.3394 - val_loss: 0.3188\n",
      "Epoch 241/600\n",
      "1936/1936 [==============================] - 0s 78us/sample - loss: 0.3377 - val_loss: 0.3108\n",
      "Epoch 242/600\n",
      "1936/1936 [==============================] - 0s 78us/sample - loss: 0.3557 - val_loss: 0.3073\n"
     ]
    },
    {
     "data": {
      "text/plain": [
       "<tensorflow.python.keras.callbacks.History at 0x7fd664683a90>"
      ]
     },
     "execution_count": 20,
     "metadata": {},
     "output_type": "execute_result"
    }
   ],
   "source": [
    "model.fit(X_train,y_train, validation_data=(X_test,y_test), epochs=600, callbacks=[stop])"
   ]
  },
  {
   "cell_type": "markdown",
   "metadata": {},
   "source": [
    "## Model Training Performance\n",
    "- Model trained well but can be improved\n",
    "- Will add Dropout layers to training"
   ]
  },
  {
   "cell_type": "code",
   "execution_count": 21,
   "metadata": {},
   "outputs": [
    {
     "data": {
      "text/plain": [
       "<matplotlib.axes._subplots.AxesSubplot at 0x7fd64a60e590>"
      ]
     },
     "execution_count": 21,
     "metadata": {},
     "output_type": "execute_result"
    },
    {
     "data": {
      "image/png": "[encoded data removed]",
      "text/plain": [
       "<Figure size 1152x432 with 1 Axes>"
      ]
     },
     "metadata": {
      "needs_background": "light"
     },
     "output_type": "display_data"
    }
   ],
   "source": [
    "pd.DataFrame(model.history.history).plot(figsize = (16,6))"
   ]
  },
  {
   "cell_type": "markdown",
   "metadata": {},
   "source": [
    "### Model Predicitons for Classificaitons"
   ]
  },
  {
   "cell_type": "code",
   "execution_count": 22,
   "metadata": {},
   "outputs": [],
   "source": [
    "predicitons = model.predict_classes(X_test)"
   ]
  },
  {
   "cell_type": "markdown",
   "metadata": {},
   "source": [
    "## Classificaiton metrics  \n",
    "- model has a 84 percent accuracy which is in the range of what we were looking for\n",
    "- confusion matrix shows the model predicting far more true neg,positive than false positive and false negative values"
   ]
  },
  {
   "cell_type": "code",
   "execution_count": 23,
   "metadata": {},
   "outputs": [],
   "source": [
    "from sklearn.metrics import classification_report, confusion_matrix, explained_variance_score"
   ]
  },
  {
   "cell_type": "code",
   "execution_count": 24,
   "metadata": {},
   "outputs": [
    {
     "name": "stdout",
     "output_type": "stream",
     "text": [
      "              precision    recall  f1-score   support\n",
      "\n",
      "         0.0       0.83      0.88      0.86       588\n",
      "         1.0       0.90      0.85      0.87       704\n",
      "\n",
      "    accuracy                           0.86      1292\n",
      "   macro avg       0.86      0.87      0.86      1292\n",
      "weighted avg       0.87      0.86      0.86      1292\n",
      "\n"
     ]
    }
   ],
   "source": [
    "print(classification_report(y_test, predicitons))"
   ]
  },
  {
   "cell_type": "code",
   "execution_count": 25,
   "metadata": {},
   "outputs": [
    {
     "name": "stdout",
     "output_type": "stream",
     "text": [
      "[[519  69]\n",
      " [107 597]]\n"
     ]
    }
   ],
   "source": [
    "print(confusion_matrix(y_test,predicitons))"
   ]
  },
  {
   "cell_type": "markdown",
   "metadata": {},
   "source": [
    "### Predicitng random data\n",
    "- We will pass random rows of data(minus the target) into the model to see how well its predicting"
   ]
  },
  {
   "cell_type": "code",
   "execution_count": 26,
   "metadata": {},
   "outputs": [],
   "source": [
    "from random import randint\n",
    "random_index = randint(1,len(vix_data))\n",
    "new_data = vix_data.drop([\"VIX\",\"target\",\"VIX % returns\"], axis=1).iloc[random_index]"
   ]
  },
  {
   "cell_type": "code",
   "execution_count": 27,
   "metadata": {},
   "outputs": [
    {
     "data": {
      "text/plain": [
       "UVXY                4.492880e+09\n",
       "SPY                 1.446100e+02\n",
       "VXXBEN              1.950000e+00\n",
       "UX1                 1.128000e+01\n",
       "UX2                 1.227000e+01\n",
       "UX3                 1.308000e+01\n",
       "UX4                 1.364000e+01\n",
       "Day of Week         4.000000e+00\n",
       "Days to Roll        9.000000e+00\n",
       "Day in Cycle        2.000000e+01\n",
       "Daily Decay         8.189460e-03\n",
       "VXXGREG             4.713870e+00\n",
       "UX1 % returns      -1.998262e-02\n",
       "UX2 % returns      -6.477733e-03\n",
       "UX3 % returns      -6.833713e-03\n",
       "UX4 % returns      -8.720930e-03\n",
       "UVXY % returns     -2.436110e-02\n",
       "SPY % returns       5.982609e-03\n",
       "VXXBEN % returns   -5.109489e-02\n",
       "regression Slope    8.460000e-01\n",
       "Inverse Slope      -8.460000e-01\n",
       "Name: 2007-02-01 00:00:00, dtype: float64"
      ]
     },
     "execution_count": 27,
     "metadata": {},
     "output_type": "execute_result"
    }
   ],
   "source": [
    "new_data"
   ]
  },
  {
   "cell_type": "markdown",
   "metadata": {},
   "source": [
    "## Transform New Data\n",
    "- since our model was trained on scaled data we need to transform this new data "
   ]
  },
  {
   "cell_type": "code",
   "execution_count": 28,
   "metadata": {},
   "outputs": [],
   "source": [
    "new_data = scalar.transform(new_data.values.reshape(1,21))"
   ]
  },
  {
   "cell_type": "markdown",
   "metadata": {},
   "source": [
    "## Model Prediciton on new data"
   ]
  },
  {
   "cell_type": "code",
   "execution_count": 29,
   "metadata": {},
   "outputs": [
    {
     "data": {
      "text/plain": [
       "array([[1]], dtype=int32)"
      ]
     },
     "execution_count": 29,
     "metadata": {},
     "output_type": "execute_result"
    }
   ],
   "source": [
    "model.predict_classes(new_data)"
   ]
  },
  {
   "cell_type": "markdown",
   "metadata": {},
   "source": [
    "### True value on data set\n",
    "- Looks like our model is pretty accurate in predictions"
   ]
  },
  {
   "cell_type": "code",
   "execution_count": 30,
   "metadata": {},
   "outputs": [
    {
     "data": {
      "text/plain": [
       "1.0"
      ]
     },
     "execution_count": 30,
     "metadata": {},
     "output_type": "execute_result"
    }
   ],
   "source": [
    "vix_data.iloc[random_index][\"target\"]"
   ]
  },
  {
   "cell_type": "code",
   "execution_count": 31,
   "metadata": {},
   "outputs": [],
   "source": [
    "model.save(\"vix_classificaiton.h5\")"
   ]
  },
  {
   "cell_type": "markdown",
   "metadata": {},
   "source": [
    "# MultiVariate Forecasting \n",
    "- Now that we have the above model we will run a multivariate forecast with the data without the target to see if the model could predict the classificaiton of VIX"
   ]
  },
  {
   "cell_type": "code",
   "execution_count": 112,
   "metadata": {},
   "outputs": [],
   "source": [
    "forecast_data = vix_data[[\"UVXY\",\"SPY\",\"VXXBEN\",\"UX1\",\"UX2\",\"UX3\",\"UX4\"]].loc[\"2011-1-1\":]"
   ]
  },
  {
   "cell_type": "code",
   "execution_count": 113,
   "metadata": {},
   "outputs": [
    {
     "data": {
      "text/html": [
       "<div>\n",
       "<style scoped>\n",
       "    .dataframe tbody tr th:only-of-type {\n",
       "        vertical-align: middle;\n",
       "    }\n",
       "\n",
       "    .dataframe tbody tr th {\n",
       "        vertical-align: top;\n",
       "    }\n",
       "\n",
       "    .dataframe thead th {\n",
       "        text-align: right;\n",
       "    }\n",
       "</style>\n",
       "<table border=\"1\" class=\"dataframe\">\n",
       "  <thead>\n",
       "    <tr style=\"text-align: right;\">\n",
       "      <th></th>\n",
       "      <th>UVXY</th>\n",
       "      <th>SPY</th>\n",
       "      <th>VXXBEN</th>\n",
       "      <th>UX1</th>\n",
       "      <th>UX2</th>\n",
       "      <th>UX3</th>\n",
       "      <th>UX4</th>\n",
       "    </tr>\n",
       "    <tr>\n",
       "      <th>dates</th>\n",
       "      <th></th>\n",
       "      <th></th>\n",
       "      <th></th>\n",
       "      <th></th>\n",
       "      <th></th>\n",
       "      <th></th>\n",
       "      <th></th>\n",
       "    </tr>\n",
       "  </thead>\n",
       "  <tbody>\n",
       "    <tr>\n",
       "      <th>2011-01-03</th>\n",
       "      <td>1.445273e+08</td>\n",
       "      <td>127.05</td>\n",
       "      <td>3.5600</td>\n",
       "      <td>19.300</td>\n",
       "      <td>21.350</td>\n",
       "      <td>23.450</td>\n",
       "      <td>24.300</td>\n",
       "    </tr>\n",
       "    <tr>\n",
       "      <th>2011-01-04</th>\n",
       "      <td>1.426217e+08</td>\n",
       "      <td>126.98</td>\n",
       "      <td>3.6800</td>\n",
       "      <td>19.100</td>\n",
       "      <td>21.300</td>\n",
       "      <td>23.300</td>\n",
       "      <td>24.150</td>\n",
       "    </tr>\n",
       "    <tr>\n",
       "      <th>2011-01-05</th>\n",
       "      <td>1.373275e+08</td>\n",
       "      <td>127.64</td>\n",
       "      <td>3.6450</td>\n",
       "      <td>18.700</td>\n",
       "      <td>20.950</td>\n",
       "      <td>22.850</td>\n",
       "      <td>23.750</td>\n",
       "    </tr>\n",
       "    <tr>\n",
       "      <th>2011-01-06</th>\n",
       "      <td>1.366404e+08</td>\n",
       "      <td>127.39</td>\n",
       "      <td>3.0000</td>\n",
       "      <td>18.650</td>\n",
       "      <td>20.900</td>\n",
       "      <td>22.800</td>\n",
       "      <td>23.750</td>\n",
       "    </tr>\n",
       "    <tr>\n",
       "      <th>2011-01-07</th>\n",
       "      <td>1.377407e+08</td>\n",
       "      <td>127.14</td>\n",
       "      <td>3.4900</td>\n",
       "      <td>18.700</td>\n",
       "      <td>21.000</td>\n",
       "      <td>22.850</td>\n",
       "      <td>23.800</td>\n",
       "    </tr>\n",
       "    <tr>\n",
       "      <th>...</th>\n",
       "      <td>...</td>\n",
       "      <td>...</td>\n",
       "      <td>...</td>\n",
       "      <td>...</td>\n",
       "      <td>...</td>\n",
       "      <td>...</td>\n",
       "      <td>...</td>\n",
       "    </tr>\n",
       "    <tr>\n",
       "      <th>2019-09-10</th>\n",
       "      <td>2.730000e+01</td>\n",
       "      <td>298.13</td>\n",
       "      <td>2.2625</td>\n",
       "      <td>16.225</td>\n",
       "      <td>17.675</td>\n",
       "      <td>18.025</td>\n",
       "      <td>17.875</td>\n",
       "    </tr>\n",
       "    <tr>\n",
       "      <th>2019-09-11</th>\n",
       "      <td>2.661000e+01</td>\n",
       "      <td>300.25</td>\n",
       "      <td>2.4725</td>\n",
       "      <td>15.725</td>\n",
       "      <td>17.325</td>\n",
       "      <td>17.825</td>\n",
       "      <td>17.725</td>\n",
       "    </tr>\n",
       "    <tr>\n",
       "      <th>2019-09-12</th>\n",
       "      <td>2.565000e+01</td>\n",
       "      <td>301.29</td>\n",
       "      <td>2.1575</td>\n",
       "      <td>14.975</td>\n",
       "      <td>17.025</td>\n",
       "      <td>17.625</td>\n",
       "      <td>17.575</td>\n",
       "    </tr>\n",
       "    <tr>\n",
       "      <th>2019-09-13</th>\n",
       "      <td>2.511000e+01</td>\n",
       "      <td>301.09</td>\n",
       "      <td>2.3025</td>\n",
       "      <td>14.475</td>\n",
       "      <td>16.875</td>\n",
       "      <td>17.575</td>\n",
       "      <td>17.625</td>\n",
       "    </tr>\n",
       "    <tr>\n",
       "      <th>2019-09-16</th>\n",
       "      <td>2.565000e+01</td>\n",
       "      <td>300.16</td>\n",
       "      <td>1.2575</td>\n",
       "      <td>14.625</td>\n",
       "      <td>17.275</td>\n",
       "      <td>17.925</td>\n",
       "      <td>17.925</td>\n",
       "    </tr>\n",
       "  </tbody>\n",
       "</table>\n",
       "<p>2190 rows × 7 columns</p>\n",
       "</div>"
      ],
      "text/plain": [
       "                    UVXY     SPY  VXXBEN     UX1     UX2     UX3     UX4\n",
       "dates                                                                   \n",
       "2011-01-03  1.445273e+08  127.05  3.5600  19.300  21.350  23.450  24.300\n",
       "2011-01-04  1.426217e+08  126.98  3.6800  19.100  21.300  23.300  24.150\n",
       "2011-01-05  1.373275e+08  127.64  3.6450  18.700  20.950  22.850  23.750\n",
       "2011-01-06  1.366404e+08  127.39  3.0000  18.650  20.900  22.800  23.750\n",
       "2011-01-07  1.377407e+08  127.14  3.4900  18.700  21.000  22.850  23.800\n",
       "...                  ...     ...     ...     ...     ...     ...     ...\n",
       "2019-09-10  2.730000e+01  298.13  2.2625  16.225  17.675  18.025  17.875\n",
       "2019-09-11  2.661000e+01  300.25  2.4725  15.725  17.325  17.825  17.725\n",
       "2019-09-12  2.565000e+01  301.29  2.1575  14.975  17.025  17.625  17.575\n",
       "2019-09-13  2.511000e+01  301.09  2.3025  14.475  16.875  17.575  17.625\n",
       "2019-09-16  2.565000e+01  300.16  1.2575  14.625  17.275  17.925  17.925\n",
       "\n",
       "[2190 rows x 7 columns]"
      ]
     },
     "execution_count": 113,
     "metadata": {},
     "output_type": "execute_result"
    }
   ],
   "source": [
    "forecast_data"
   ]
  },
  {
   "cell_type": "markdown",
   "metadata": {},
   "source": [
    "### Sample Test\n",
    "- Because we have years of daily dat we will Test on 2 years of data \n",
    "- Assuming 253 trading days (506 days)"
   ]
  },
  {
   "cell_type": "code",
   "execution_count": 114,
   "metadata": {},
   "outputs": [],
   "source": [
    "sample = 506"
   ]
  },
  {
   "cell_type": "code",
   "execution_count": 115,
   "metadata": {},
   "outputs": [],
   "source": [
    "sample_index = len(forecast_data) - sample"
   ]
  },
  {
   "cell_type": "code",
   "execution_count": 116,
   "metadata": {},
   "outputs": [
    {
     "data": {
      "text/plain": [
       "1684"
      ]
     },
     "execution_count": 116,
     "metadata": {},
     "output_type": "execute_result"
    }
   ],
   "source": [
    "sample_index"
   ]
  },
  {
   "cell_type": "markdown",
   "metadata": {},
   "source": [
    "### Test and Train"
   ]
  },
  {
   "cell_type": "code",
   "execution_count": 117,
   "metadata": {},
   "outputs": [],
   "source": [
    "train = forecast_data.iloc[:sample_index]"
   ]
  },
  {
   "cell_type": "code",
   "execution_count": 118,
   "metadata": {},
   "outputs": [],
   "source": [
    "test = forecast_data.iloc[sample_index:]"
   ]
  },
  {
   "cell_type": "code",
   "execution_count": 119,
   "metadata": {},
   "outputs": [
    {
     "data": {
      "text/plain": [
       "(506, 7)"
      ]
     },
     "execution_count": 119,
     "metadata": {},
     "output_type": "execute_result"
    }
   ],
   "source": [
    "test.shape"
   ]
  },
  {
   "cell_type": "code",
   "execution_count": 120,
   "metadata": {},
   "outputs": [
    {
     "data": {
      "text/plain": [
       "(1684, 7)"
      ]
     },
     "execution_count": 120,
     "metadata": {},
     "output_type": "execute_result"
    }
   ],
   "source": [
    "train.shape"
   ]
  },
  {
   "cell_type": "markdown",
   "metadata": {},
   "source": [
    "### Scaling Data"
   ]
  },
  {
   "cell_type": "code",
   "execution_count": 121,
   "metadata": {},
   "outputs": [],
   "source": [
    "forecast_scalar = MinMaxScaler()"
   ]
  },
  {
   "cell_type": "code",
   "execution_count": 122,
   "metadata": {},
   "outputs": [],
   "source": [
    "train_scaled = forecast_scalar.fit_transform(train)"
   ]
  },
  {
   "cell_type": "code",
   "execution_count": 123,
   "metadata": {},
   "outputs": [],
   "source": [
    "test_scaled = forecast_scalar.transform(test)"
   ]
  },
  {
   "cell_type": "markdown",
   "metadata": {},
   "source": [
    "### Time series Generators \n",
    "- We will train our model on a time series generator\n",
    "- length will be 21 (training the model to predict 21 days)\n",
    "- Though we ill only focus on the first day out for accuracy"
   ]
  },
  {
   "cell_type": "code",
   "execution_count": 124,
   "metadata": {},
   "outputs": [],
   "source": [
    "length = 10"
   ]
  },
  {
   "cell_type": "code",
   "execution_count": 125,
   "metadata": {},
   "outputs": [],
   "source": [
    "from tensorflow.keras.preprocessing.sequence import TimeseriesGenerator"
   ]
  },
  {
   "cell_type": "code",
   "execution_count": 126,
   "metadata": {},
   "outputs": [],
   "source": [
    "gen = TimeseriesGenerator(train_scaled,train_scaled, length=length, batch_size=1)"
   ]
  },
  {
   "cell_type": "markdown",
   "metadata": {},
   "source": [
    "## Validation Generator\n",
    "- will use to train again our model to try to validate accuracy"
   ]
  },
  {
   "cell_type": "code",
   "execution_count": 127,
   "metadata": {},
   "outputs": [],
   "source": [
    "vali_gen = TimeseriesGenerator(test_scaled,test_scaled, length=length,batch_size=1)"
   ]
  },
  {
   "cell_type": "markdown",
   "metadata": {},
   "source": [
    "## Early Stopping\n",
    "- We will use to prevent overfitting and improve our predicitons"
   ]
  },
  {
   "cell_type": "code",
   "execution_count": 128,
   "metadata": {},
   "outputs": [],
   "source": [
    "forecast_stop = EarlyStopping(monitor=\"val_loss\", mode=\"min\", patience=5)"
   ]
  },
  {
   "cell_type": "markdown",
   "metadata": {},
   "source": [
    "### Model Creation \n",
    "- the number of features we will use here us the entire list of column features since we are going to forecast each value"
   ]
  },
  {
   "cell_type": "code",
   "execution_count": 129,
   "metadata": {},
   "outputs": [],
   "source": [
    "from tensorflow.keras.layers import LSTM"
   ]
  },
  {
   "cell_type": "code",
   "execution_count": 130,
   "metadata": {},
   "outputs": [],
   "source": [
    "n_features = len(forecast_data.columns)"
   ]
  },
  {
   "cell_type": "code",
   "execution_count": 131,
   "metadata": {},
   "outputs": [],
   "source": [
    "model = Sequential()\n",
    "model.add(LSTM(units = 100, activation = \"relu\", input_shape = (length, n_features)))\n",
    "model.add(Dense(units = n_features))\n",
    "model.compile(optimizer = \"adam\", loss = \"mse\")"
   ]
  },
  {
   "cell_type": "markdown",
   "metadata": {},
   "source": [
    "## Fitting Multivariate Model\n"
   ]
  },
  {
   "cell_type": "code",
   "execution_count": 132,
   "metadata": {},
   "outputs": [
    {
     "name": "stdout",
     "output_type": "stream",
     "text": [
      "Epoch 1/40\n",
      "1674/1674 [==============================] - 57s 34ms/step - loss: 0.0047 - val_loss: 0.0018\n",
      "Epoch 2/40\n",
      "1674/1674 [==============================] - 56s 34ms/step - loss: 0.0016 - val_loss: 0.0016\n",
      "Epoch 3/40\n",
      "1674/1674 [==============================] - 56s 34ms/step - loss: 0.0015 - val_loss: 0.0011\n",
      "Epoch 4/40\n",
      "1674/1674 [==============================] - 56s 34ms/step - loss: 0.0011 - val_loss: 0.0022\n",
      "Epoch 5/40\n",
      "1674/1674 [==============================] - 56s 34ms/step - loss: 0.0011 - val_loss: 9.8227e-04\n",
      "Epoch 6/40\n",
      "1674/1674 [==============================] - 57s 34ms/step - loss: 0.0010 - val_loss: 9.8118e-04\n",
      "Epoch 7/40\n",
      "1674/1674 [==============================] - 56s 34ms/step - loss: 0.0010 - val_loss: 0.0019\n",
      "Epoch 8/40\n",
      "1674/1674 [==============================] - 57s 34ms/step - loss: 9.6774e-04 - val_loss: 0.0011\n",
      "Epoch 9/40\n",
      "1674/1674 [==============================] - 56s 34ms/step - loss: 9.6676e-04 - val_loss: 0.0010\n",
      "Epoch 10/40\n",
      "1674/1674 [==============================] - 57s 34ms/step - loss: 9.3695e-04 - val_loss: 0.0011\n",
      "Epoch 11/40\n",
      "1674/1674 [==============================] - 56s 34ms/step - loss: 9.0147e-04 - val_loss: 0.0015\n"
     ]
    },
    {
     "data": {
      "text/plain": [
       "<tensorflow.python.keras.callbacks.History at 0x7fd60fd0afd0>"
      ]
     },
     "execution_count": 132,
     "metadata": {},
     "output_type": "execute_result"
    }
   ],
   "source": [
    "model.fit_generator(generator=gen, validation_data=vali_gen, epochs=40, callbacks=[forecast_stop])"
   ]
  },
  {
   "cell_type": "markdown",
   "metadata": {},
   "source": [
    "## Model Performance"
   ]
  },
  {
   "cell_type": "code",
   "execution_count": 133,
   "metadata": {},
   "outputs": [
    {
     "data": {
      "text/plain": [
       "<matplotlib.axes._subplots.AxesSubplot at 0x7fd60f49a410>"
      ]
     },
     "execution_count": 133,
     "metadata": {},
     "output_type": "execute_result"
    },
    {
     "data": {
      "image/png": "[encoded data removed]",
      "text/plain": [
       "<Figure size 1152x432 with 1 Axes>"
      ]
     },
     "metadata": {
      "needs_background": "light"
     },
     "output_type": "display_data"
    }
   ],
   "source": [
    "pd.DataFrame(model.history.history).plot(figsize = (16,6))"
   ]
  },
  {
   "cell_type": "markdown",
   "metadata": {},
   "source": [
    "### Model Predictions\n",
    "- Using the test data we selected we will make predicitons using our model"
   ]
  },
  {
   "cell_type": "code",
   "execution_count": 140,
   "metadata": {},
   "outputs": [],
   "source": [
    "model.save(\"multi_var_vix.h5\")"
   ]
  },
  {
   "cell_type": "code",
   "execution_count": 134,
   "metadata": {},
   "outputs": [],
   "source": [
    "forecast = []\n",
    "period = length\n",
    "batch = train_scaled[-length:]\n",
    "current_batch = batch.reshape(1,length,n_features)\n",
    "for i in range(period):\n",
    "    predict = model.predict(current_batch)[0]\n",
    "    forecast.append(predict)\n",
    "    current_batch = np.append(current_batch[:,1:,:], [[predict]], axis = 1)\n",
    "    "
   ]
  },
  {
   "cell_type": "code",
   "execution_count": 135,
   "metadata": {},
   "outputs": [],
   "source": [
    "true_forecast = forecast_scalar.inverse_transform(forecast)"
   ]
  },
  {
   "cell_type": "code",
   "execution_count": 139,
   "metadata": {},
   "outputs": [
    {
     "data": {
      "text/plain": [
       "array([[-2.83878971e+06,  2.46627031e+02,  3.12942748e+00,\n",
       "         1.18104445e+01,  1.34157995e+01,  1.43026783e+01,\n",
       "         1.50360823e+01],\n",
       "       [-3.56673982e+06,  2.46478057e+02,  3.24189867e+00,\n",
       "         1.15491112e+01,  1.32778940e+01,  1.42343259e+01,\n",
       "         1.50007343e+01],\n",
       "       [-4.26745449e+06,  2.46504274e+02,  3.37642539e+00,\n",
       "         1.13265454e+01,  1.31451199e+01,  1.41765131e+01,\n",
       "         1.49590791e+01],\n",
       "       [-4.86956437e+06,  2.46579105e+02,  3.48621625e+00,\n",
       "         1.11409340e+01,  1.30227332e+01,  1.41141267e+01,\n",
       "         1.49124207e+01],\n",
       "       [-5.34262626e+06,  2.46607738e+02,  3.58856330e+00,\n",
       "         1.09834516e+01,  1.29226659e+01,  1.40697383e+01,\n",
       "         1.48760931e+01],\n",
       "       [-5.70515577e+06,  2.46582825e+02,  3.68278857e+00,\n",
       "         1.08508813e+01,  1.28441966e+01,  1.40432216e+01,\n",
       "         1.48518256e+01],\n",
       "       [-5.97434888e+06,  2.46533247e+02,  3.76352352e+00,\n",
       "         1.07412769e+01,  1.27812673e+01,  1.40231871e+01,\n",
       "         1.48361144e+01],\n",
       "       [-6.17455725e+06,  2.46494029e+02,  3.82658015e+00,\n",
       "         1.06553150e+01,  1.27268851e+01,  1.40005976e+01,\n",
       "         1.48192340e+01],\n",
       "       [-6.33051396e+06,  2.46410007e+02,  3.88432145e+00,\n",
       "         1.05781748e+01,  1.26852299e+01,  1.39905881e+01,\n",
       "         1.48105664e+01],\n",
       "       [-6.43527054e+06,  2.46398410e+02,  3.91397453e+00,\n",
       "         1.05268984e+01,  1.26398325e+01,  1.39576321e+01,\n",
       "         1.47882624e+01]])"
      ]
     },
     "execution_count": 139,
     "metadata": {},
     "output_type": "execute_result"
    }
   ],
   "source": [
    "true_forecast"
   ]
  },
  {
   "cell_type": "code",
   "execution_count": 136,
   "metadata": {},
   "outputs": [
    {
     "data": {
      "text/html": [
       "<div>\n",
       "<style scoped>\n",
       "    .dataframe tbody tr th:only-of-type {\n",
       "        vertical-align: middle;\n",
       "    }\n",
       "\n",
       "    .dataframe tbody tr th {\n",
       "        vertical-align: top;\n",
       "    }\n",
       "\n",
       "    .dataframe thead th {\n",
       "        text-align: right;\n",
       "    }\n",
       "</style>\n",
       "<table border=\"1\" class=\"dataframe\">\n",
       "  <thead>\n",
       "    <tr style=\"text-align: right;\">\n",
       "      <th></th>\n",
       "      <th>UVXY</th>\n",
       "      <th>SPY</th>\n",
       "      <th>VXXBEN</th>\n",
       "      <th>UX1</th>\n",
       "      <th>UX2</th>\n",
       "      <th>UX3</th>\n",
       "      <th>UX4</th>\n",
       "    </tr>\n",
       "    <tr>\n",
       "      <th>dates</th>\n",
       "      <th></th>\n",
       "      <th></th>\n",
       "      <th></th>\n",
       "      <th></th>\n",
       "      <th></th>\n",
       "      <th></th>\n",
       "      <th></th>\n",
       "    </tr>\n",
       "  </thead>\n",
       "  <tbody>\n",
       "    <tr>\n",
       "      <th>2019-09-10</th>\n",
       "      <td>27.30</td>\n",
       "      <td>298.13</td>\n",
       "      <td>2.2625</td>\n",
       "      <td>16.225</td>\n",
       "      <td>17.675</td>\n",
       "      <td>18.025</td>\n",
       "      <td>17.875</td>\n",
       "    </tr>\n",
       "    <tr>\n",
       "      <th>2019-09-11</th>\n",
       "      <td>26.61</td>\n",
       "      <td>300.25</td>\n",
       "      <td>2.4725</td>\n",
       "      <td>15.725</td>\n",
       "      <td>17.325</td>\n",
       "      <td>17.825</td>\n",
       "      <td>17.725</td>\n",
       "    </tr>\n",
       "    <tr>\n",
       "      <th>2019-09-12</th>\n",
       "      <td>25.65</td>\n",
       "      <td>301.29</td>\n",
       "      <td>2.1575</td>\n",
       "      <td>14.975</td>\n",
       "      <td>17.025</td>\n",
       "      <td>17.625</td>\n",
       "      <td>17.575</td>\n",
       "    </tr>\n",
       "    <tr>\n",
       "      <th>2019-09-13</th>\n",
       "      <td>25.11</td>\n",
       "      <td>301.09</td>\n",
       "      <td>2.3025</td>\n",
       "      <td>14.475</td>\n",
       "      <td>16.875</td>\n",
       "      <td>17.575</td>\n",
       "      <td>17.625</td>\n",
       "    </tr>\n",
       "    <tr>\n",
       "      <th>2019-09-16</th>\n",
       "      <td>25.65</td>\n",
       "      <td>300.16</td>\n",
       "      <td>1.2575</td>\n",
       "      <td>14.625</td>\n",
       "      <td>17.275</td>\n",
       "      <td>17.925</td>\n",
       "      <td>17.925</td>\n",
       "    </tr>\n",
       "  </tbody>\n",
       "</table>\n",
       "</div>"
      ],
      "text/plain": [
       "             UVXY     SPY  VXXBEN     UX1     UX2     UX3     UX4\n",
       "dates                                                            \n",
       "2019-09-10  27.30  298.13  2.2625  16.225  17.675  18.025  17.875\n",
       "2019-09-11  26.61  300.25  2.4725  15.725  17.325  17.825  17.725\n",
       "2019-09-12  25.65  301.29  2.1575  14.975  17.025  17.625  17.575\n",
       "2019-09-13  25.11  301.09  2.3025  14.475  16.875  17.575  17.625\n",
       "2019-09-16  25.65  300.16  1.2575  14.625  17.275  17.925  17.925"
      ]
     },
     "execution_count": 136,
     "metadata": {},
     "output_type": "execute_result"
    }
   ],
   "source": [
    "forecast_data.tail()"
   ]
  },
  {
   "cell_type": "code",
   "execution_count": 137,
   "metadata": {},
   "outputs": [],
   "source": [
    "forecast_df = pd.DataFrame(true_forecast, columns=forecast_data.columns)"
   ]
  },
  {
   "cell_type": "code",
   "execution_count": 138,
   "metadata": {},
   "outputs": [
    {
     "data": {
      "text/html": [
       "<div>\n",
       "<style scoped>\n",
       "    .dataframe tbody tr th:only-of-type {\n",
       "        vertical-align: middle;\n",
       "    }\n",
       "\n",
       "    .dataframe tbody tr th {\n",
       "        vertical-align: top;\n",
       "    }\n",
       "\n",
       "    .dataframe thead th {\n",
       "        text-align: right;\n",
       "    }\n",
       "</style>\n",
       "<table border=\"1\" class=\"dataframe\">\n",
       "  <thead>\n",
       "    <tr style=\"text-align: right;\">\n",
       "      <th></th>\n",
       "      <th>UVXY</th>\n",
       "      <th>SPY</th>\n",
       "      <th>VXXBEN</th>\n",
       "      <th>UX1</th>\n",
       "      <th>UX2</th>\n",
       "      <th>UX3</th>\n",
       "      <th>UX4</th>\n",
       "    </tr>\n",
       "  </thead>\n",
       "  <tbody>\n",
       "    <tr>\n",
       "      <th>0</th>\n",
       "      <td>-2.838790e+06</td>\n",
       "      <td>246.627031</td>\n",
       "      <td>3.129427</td>\n",
       "      <td>11.810444</td>\n",
       "      <td>13.415799</td>\n",
       "      <td>14.302678</td>\n",
       "      <td>15.036082</td>\n",
       "    </tr>\n",
       "    <tr>\n",
       "      <th>1</th>\n",
       "      <td>-3.566740e+06</td>\n",
       "      <td>246.478057</td>\n",
       "      <td>3.241899</td>\n",
       "      <td>11.549111</td>\n",
       "      <td>13.277894</td>\n",
       "      <td>14.234326</td>\n",
       "      <td>15.000734</td>\n",
       "    </tr>\n",
       "    <tr>\n",
       "      <th>2</th>\n",
       "      <td>-4.267454e+06</td>\n",
       "      <td>246.504274</td>\n",
       "      <td>3.376425</td>\n",
       "      <td>11.326545</td>\n",
       "      <td>13.145120</td>\n",
       "      <td>14.176513</td>\n",
       "      <td>14.959079</td>\n",
       "    </tr>\n",
       "    <tr>\n",
       "      <th>3</th>\n",
       "      <td>-4.869564e+06</td>\n",
       "      <td>246.579105</td>\n",
       "      <td>3.486216</td>\n",
       "      <td>11.140934</td>\n",
       "      <td>13.022733</td>\n",
       "      <td>14.114127</td>\n",
       "      <td>14.912421</td>\n",
       "    </tr>\n",
       "    <tr>\n",
       "      <th>4</th>\n",
       "      <td>-5.342626e+06</td>\n",
       "      <td>246.607738</td>\n",
       "      <td>3.588563</td>\n",
       "      <td>10.983452</td>\n",
       "      <td>12.922666</td>\n",
       "      <td>14.069738</td>\n",
       "      <td>14.876093</td>\n",
       "    </tr>\n",
       "    <tr>\n",
       "      <th>5</th>\n",
       "      <td>-5.705156e+06</td>\n",
       "      <td>246.582825</td>\n",
       "      <td>3.682789</td>\n",
       "      <td>10.850881</td>\n",
       "      <td>12.844197</td>\n",
       "      <td>14.043222</td>\n",
       "      <td>14.851826</td>\n",
       "    </tr>\n",
       "    <tr>\n",
       "      <th>6</th>\n",
       "      <td>-5.974349e+06</td>\n",
       "      <td>246.533247</td>\n",
       "      <td>3.763524</td>\n",
       "      <td>10.741277</td>\n",
       "      <td>12.781267</td>\n",
       "      <td>14.023187</td>\n",
       "      <td>14.836114</td>\n",
       "    </tr>\n",
       "    <tr>\n",
       "      <th>7</th>\n",
       "      <td>-6.174557e+06</td>\n",
       "      <td>246.494029</td>\n",
       "      <td>3.826580</td>\n",
       "      <td>10.655315</td>\n",
       "      <td>12.726885</td>\n",
       "      <td>14.000598</td>\n",
       "      <td>14.819234</td>\n",
       "    </tr>\n",
       "    <tr>\n",
       "      <th>8</th>\n",
       "      <td>-6.330514e+06</td>\n",
       "      <td>246.410007</td>\n",
       "      <td>3.884321</td>\n",
       "      <td>10.578175</td>\n",
       "      <td>12.685230</td>\n",
       "      <td>13.990588</td>\n",
       "      <td>14.810566</td>\n",
       "    </tr>\n",
       "    <tr>\n",
       "      <th>9</th>\n",
       "      <td>-6.435271e+06</td>\n",
       "      <td>246.398410</td>\n",
       "      <td>3.913975</td>\n",
       "      <td>10.526898</td>\n",
       "      <td>12.639833</td>\n",
       "      <td>13.957632</td>\n",
       "      <td>14.788262</td>\n",
       "    </tr>\n",
       "  </tbody>\n",
       "</table>\n",
       "</div>"
      ],
      "text/plain": [
       "           UVXY         SPY    VXXBEN        UX1        UX2        UX3  \\\n",
       "0 -2.838790e+06  246.627031  3.129427  11.810444  13.415799  14.302678   \n",
       "1 -3.566740e+06  246.478057  3.241899  11.549111  13.277894  14.234326   \n",
       "2 -4.267454e+06  246.504274  3.376425  11.326545  13.145120  14.176513   \n",
       "3 -4.869564e+06  246.579105  3.486216  11.140934  13.022733  14.114127   \n",
       "4 -5.342626e+06  246.607738  3.588563  10.983452  12.922666  14.069738   \n",
       "5 -5.705156e+06  246.582825  3.682789  10.850881  12.844197  14.043222   \n",
       "6 -5.974349e+06  246.533247  3.763524  10.741277  12.781267  14.023187   \n",
       "7 -6.174557e+06  246.494029  3.826580  10.655315  12.726885  14.000598   \n",
       "8 -6.330514e+06  246.410007  3.884321  10.578175  12.685230  13.990588   \n",
       "9 -6.435271e+06  246.398410  3.913975  10.526898  12.639833  13.957632   \n",
       "\n",
       "         UX4  \n",
       "0  15.036082  \n",
       "1  15.000734  \n",
       "2  14.959079  \n",
       "3  14.912421  \n",
       "4  14.876093  \n",
       "5  14.851826  \n",
       "6  14.836114  \n",
       "7  14.819234  \n",
       "8  14.810566  \n",
       "9  14.788262  "
      ]
     },
     "execution_count": 138,
     "metadata": {},
     "output_type": "execute_result"
    }
   ],
   "source": [
    "forecast_df"
   ]
  },
  {
   "cell_type": "code",
   "execution_count": null,
   "metadata": {},
   "outputs": [],
   "source": []
  }
 ],
 "metadata": {
  "kernelspec": {
   "display_name": "Python 3",
   "language": "python",
   "name": "python3"
  },
  "language_info": {
   "codemirror_mode": {
    "name": "ipython",
    "version": 3
   },
   "file_extension": ".py",
   "mimetype": "text/x-python",
   "name": "python",
   "nbconvert_exporter": "python",
   "pygments_lexer": "ipython3",
   "version": "3.7.7"
  }
 },
 "nbformat": 4,
 "nbformat_minor": 4
}
