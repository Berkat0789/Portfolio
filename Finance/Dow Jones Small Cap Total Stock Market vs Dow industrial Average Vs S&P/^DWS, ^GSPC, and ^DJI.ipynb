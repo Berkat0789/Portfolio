{
 "cells": [
  {
   "cell_type": "markdown",
   "metadata": {},
   "source": [
    "## Project Overview:\n",
    "- I would start comparing the Dow Jones Small Cap Total Stock Market Index versus the Dow Jones Industrial Average and/or the S&P 500.   My question is whether the expected higher total return for the Small Cap Index makes that index more attractive even when a measure of volatility is included in the analysis.\n",
    "- The Dow Jones U.S. Small-Cap Total Stock Market Index is a subset of the Dow Jones U.S. Total Stock Market Index, which measures all U.S. equity securities with readily available prices. The index represents the stocks ranked 751-2,500 by full market capitalization and is float-adjusted market cap weighted.\n",
    "- Out of the three index, If a portfolio held the top 10 performers in each index which would generate the highest return over a 10 year period. "
   ]
  },
  {
   "cell_type": "code",
   "execution_count": 1,
   "metadata": {},
   "outputs": [
    {
     "name": "stderr",
     "output_type": "stream",
     "text": [
      "/Users/berkatbhatti/opt/anaconda3/lib/python3.7/site-packages/pandas_datareader/compat/__init__.py:7: FutureWarning: pandas.util.testing is deprecated. Use the functions in the public API at pandas.testing instead.\n",
      "  from pandas.util.testing import assert_frame_equal\n"
     ]
    }
   ],
   "source": [
    "import pandas as pd\n",
    "import matplotlib.pyplot as plt\n",
    "from pandas_datareader import data as web\n",
    "import seaborn as sns"
   ]
  },
  {
   "cell_type": "markdown",
   "metadata": {},
   "source": [
    "#### Data source for Dow Jones U.S. Small-Cap Total Stock Market Index\n",
    "- https://us.spindices.com/indices/equity/dow-jones-us-small-cap-total-stock-market-index"
   ]
  },
  {
   "cell_type": "code",
   "execution_count": 8,
   "metadata": {},
   "outputs": [],
   "source": [
    "tickers = [\"^GSPC\", \"^DJI\"]\n",
    "data = pd.DataFrame()"
   ]
  },
  {
   "cell_type": "code",
   "execution_count": 9,
   "metadata": {},
   "outputs": [],
   "source": [
    "for t in tickers:\n",
    "    data[t] = web.DataReader(t, data_source= \"yahoo\", start = \"2016-1-5\")[\"Adj Close\"]"
   ]
  },
  {
   "cell_type": "markdown",
   "metadata": {},
   "source": [
    "## Importing Dow Jones U.S. Small-Cap Total Stock Market Index\n",
    "- The Dow Jones U.S. Small-Cap Total Stock Market Index is a subset of the Dow Jones U.S. Total Stock Market Index, which measures all U.S. equity securities with readily available prices. The index represents the stocks ranked 751-2,500 by full market capitalization and is float-adjusted market cap weighted.\n",
    "- Will upload the data from website above"
   ]
  },
  {
   "cell_type": "code",
   "execution_count": 12,
   "metadata": {},
   "outputs": [],
   "source": [
    "dws = pd.read_excel(\"resources/DowJonesSmallCapTotalStockMarketIndex.xls\")"
   ]
  },
  {
   "cell_type": "code",
   "execution_count": 15,
   "metadata": {},
   "outputs": [
    {
     "data": {
      "text/plain": [
       "Unnamed: 0      7\n",
       "Unnamed: 1      8\n",
       "Unnamed: 2    855\n",
       "Unnamed: 3     11\n",
       "dtype: int64"
      ]
     },
     "execution_count": 15,
     "metadata": {},
     "output_type": "execute_result"
    }
   ],
   "source": [
    "dws.isnull().sum()"
   ]
  },
  {
   "cell_type": "code",
   "execution_count": 10,
   "metadata": {},
   "outputs": [
    {
     "data": {
      "text/html": [
       "<div>\n",
       "<style scoped>\n",
       "    .dataframe tbody tr th:only-of-type {\n",
       "        vertical-align: middle;\n",
       "    }\n",
       "\n",
       "    .dataframe tbody tr th {\n",
       "        vertical-align: top;\n",
       "    }\n",
       "\n",
       "    .dataframe thead th {\n",
       "        text-align: right;\n",
       "    }\n",
       "</style>\n",
       "<table border=\"1\" class=\"dataframe\">\n",
       "  <thead>\n",
       "    <tr style=\"text-align: right;\">\n",
       "      <th></th>\n",
       "      <th>^GSPC</th>\n",
       "      <th>^DJI</th>\n",
       "    </tr>\n",
       "    <tr>\n",
       "      <th>Date</th>\n",
       "      <th></th>\n",
       "      <th></th>\n",
       "    </tr>\n",
       "  </thead>\n",
       "  <tbody>\n",
       "    <tr>\n",
       "      <th>2016-01-05</th>\n",
       "      <td>2016.709961</td>\n",
       "      <td>17158.660156</td>\n",
       "    </tr>\n",
       "    <tr>\n",
       "      <th>2016-01-06</th>\n",
       "      <td>1990.260010</td>\n",
       "      <td>16906.509766</td>\n",
       "    </tr>\n",
       "    <tr>\n",
       "      <th>2016-01-07</th>\n",
       "      <td>1943.089966</td>\n",
       "      <td>16514.099609</td>\n",
       "    </tr>\n",
       "    <tr>\n",
       "      <th>2016-01-08</th>\n",
       "      <td>1922.030029</td>\n",
       "      <td>16346.450195</td>\n",
       "    </tr>\n",
       "    <tr>\n",
       "      <th>2016-01-11</th>\n",
       "      <td>1923.670044</td>\n",
       "      <td>16398.570312</td>\n",
       "    </tr>\n",
       "    <tr>\n",
       "      <th>...</th>\n",
       "      <td>...</td>\n",
       "      <td>...</td>\n",
       "    </tr>\n",
       "    <tr>\n",
       "      <th>2020-05-27</th>\n",
       "      <td>3036.129883</td>\n",
       "      <td>25548.269531</td>\n",
       "    </tr>\n",
       "    <tr>\n",
       "      <th>2020-05-28</th>\n",
       "      <td>3029.729980</td>\n",
       "      <td>25400.640625</td>\n",
       "    </tr>\n",
       "    <tr>\n",
       "      <th>2020-05-29</th>\n",
       "      <td>3044.310059</td>\n",
       "      <td>25383.109375</td>\n",
       "    </tr>\n",
       "    <tr>\n",
       "      <th>2020-06-01</th>\n",
       "      <td>3055.729980</td>\n",
       "      <td>25475.019531</td>\n",
       "    </tr>\n",
       "    <tr>\n",
       "      <th>2020-06-02</th>\n",
       "      <td>3062.469971</td>\n",
       "      <td>25634.490234</td>\n",
       "    </tr>\n",
       "  </tbody>\n",
       "</table>\n",
       "<p>1110 rows × 2 columns</p>\n",
       "</div>"
      ],
      "text/plain": [
       "                  ^GSPC          ^DJI\n",
       "Date                                 \n",
       "2016-01-05  2016.709961  17158.660156\n",
       "2016-01-06  1990.260010  16906.509766\n",
       "2016-01-07  1943.089966  16514.099609\n",
       "2016-01-08  1922.030029  16346.450195\n",
       "2016-01-11  1923.670044  16398.570312\n",
       "...                 ...           ...\n",
       "2020-05-27  3036.129883  25548.269531\n",
       "2020-05-28  3029.729980  25400.640625\n",
       "2020-05-29  3044.310059  25383.109375\n",
       "2020-06-01  3055.729980  25475.019531\n",
       "2020-06-02  3062.469971  25634.490234\n",
       "\n",
       "[1110 rows x 2 columns]"
      ]
     },
     "execution_count": 10,
     "metadata": {},
     "output_type": "execute_result"
    }
   ],
   "source": [
    "data"
   ]
  },
  {
   "cell_type": "code",
   "execution_count": null,
   "metadata": {},
   "outputs": [],
   "source": []
  },
  {
   "cell_type": "code",
   "execution_count": null,
   "metadata": {},
   "outputs": [],
   "source": []
  }
 ],
 "metadata": {
  "kernelspec": {
   "display_name": "Python 3",
   "language": "python",
   "name": "python3"
  },
  "language_info": {
   "codemirror_mode": {
    "name": "ipython",
    "version": 3
   },
   "file_extension": ".py",
   "mimetype": "text/x-python",
   "name": "python",
   "nbconvert_exporter": "python",
   "pygments_lexer": "ipython3",
   "version": "3.7.6"
  }
 },
 "nbformat": 4,
 "nbformat_minor": 4
}
