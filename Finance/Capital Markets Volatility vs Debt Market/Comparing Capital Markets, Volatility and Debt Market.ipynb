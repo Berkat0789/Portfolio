{
 "cells": [
  {
   "cell_type": "markdown",
   "metadata": {},
   "source": [
    "### Project Overview \n",
    "- For this project compare the Volatility Market and the 10 Year Trearury. Since both markets are inversely coorelated to the Capital Market what indicators can you use to predict or forecast the 10 year Treasury."
   ]
  },
  {
   "cell_type": "code",
   "execution_count": 246,
   "metadata": {},
   "outputs": [],
   "source": [
    "import pandas as pd\n",
    "import numpy as np\n",
    "import pandas_datareader.data as web\n",
    "import matplotlib.pyplot as plt"
   ]
  },
  {
   "cell_type": "code",
   "execution_count": 247,
   "metadata": {},
   "outputs": [],
   "source": [
    "tickers = [\"^VIX\", \"UVXY\"]"
   ]
  },
  {
   "cell_type": "code",
   "execution_count": 248,
   "metadata": {},
   "outputs": [],
   "source": [
    "vol_data = pd.DataFrame()"
   ]
  },
  {
   "cell_type": "code",
   "execution_count": 249,
   "metadata": {},
   "outputs": [],
   "source": [
    "for t in tickers:\n",
    "    vol_data[t] = web.DataReader(t, data_source=\"yahoo\", start = \"2012-1-1\")[\"Open\"]"
   ]
  },
  {
   "cell_type": "code",
   "execution_count": 250,
   "metadata": {},
   "outputs": [
    {
     "data": {
      "text/html": [
       "<div>\n",
       "<style scoped>\n",
       "    .dataframe tbody tr th:only-of-type {\n",
       "        vertical-align: middle;\n",
       "    }\n",
       "\n",
       "    .dataframe tbody tr th {\n",
       "        vertical-align: top;\n",
       "    }\n",
       "\n",
       "    .dataframe thead th {\n",
       "        text-align: right;\n",
       "    }\n",
       "</style>\n",
       "<table border=\"1\" class=\"dataframe\">\n",
       "  <thead>\n",
       "    <tr style=\"text-align: right;\">\n",
       "      <th></th>\n",
       "      <th>^VIX</th>\n",
       "      <th>UVXY</th>\n",
       "    </tr>\n",
       "    <tr>\n",
       "      <th>Date</th>\n",
       "      <th></th>\n",
       "      <th></th>\n",
       "    </tr>\n",
       "  </thead>\n",
       "  <tbody>\n",
       "    <tr>\n",
       "      <th>2012-01-03</th>\n",
       "      <td>22.950001</td>\n",
       "      <td>6.624000e+07</td>\n",
       "    </tr>\n",
       "    <tr>\n",
       "      <th>2012-01-04</th>\n",
       "      <td>23.440001</td>\n",
       "      <td>6.714000e+07</td>\n",
       "    </tr>\n",
       "    <tr>\n",
       "      <th>2012-01-05</th>\n",
       "      <td>22.750000</td>\n",
       "      <td>6.444000e+07</td>\n",
       "    </tr>\n",
       "    <tr>\n",
       "      <th>2012-01-06</th>\n",
       "      <td>21.240000</td>\n",
       "      <td>5.886000e+07</td>\n",
       "    </tr>\n",
       "    <tr>\n",
       "      <th>2012-01-09</th>\n",
       "      <td>21.670000</td>\n",
       "      <td>5.688000e+07</td>\n",
       "    </tr>\n",
       "    <tr>\n",
       "      <th>...</th>\n",
       "      <td>...</td>\n",
       "      <td>...</td>\n",
       "    </tr>\n",
       "    <tr>\n",
       "      <th>2020-07-29</th>\n",
       "      <td>25.160000</td>\n",
       "      <td>2.524000e+01</td>\n",
       "    </tr>\n",
       "    <tr>\n",
       "      <th>2020-07-30</th>\n",
       "      <td>25.040001</td>\n",
       "      <td>2.671000e+01</td>\n",
       "    </tr>\n",
       "    <tr>\n",
       "      <th>2020-07-31</th>\n",
       "      <td>24.790001</td>\n",
       "      <td>2.488000e+01</td>\n",
       "    </tr>\n",
       "    <tr>\n",
       "      <th>2020-08-03</th>\n",
       "      <td>25.750000</td>\n",
       "      <td>2.467000e+01</td>\n",
       "    </tr>\n",
       "    <tr>\n",
       "      <th>2020-08-04</th>\n",
       "      <td>24.010000</td>\n",
       "      <td>2.473000e+01</td>\n",
       "    </tr>\n",
       "  </tbody>\n",
       "</table>\n",
       "<p>2161 rows × 2 columns</p>\n",
       "</div>"
      ],
      "text/plain": [
       "                 ^VIX          UVXY\n",
       "Date                               \n",
       "2012-01-03  22.950001  6.624000e+07\n",
       "2012-01-04  23.440001  6.714000e+07\n",
       "2012-01-05  22.750000  6.444000e+07\n",
       "2012-01-06  21.240000  5.886000e+07\n",
       "2012-01-09  21.670000  5.688000e+07\n",
       "...               ...           ...\n",
       "2020-07-29  25.160000  2.524000e+01\n",
       "2020-07-30  25.040001  2.671000e+01\n",
       "2020-07-31  24.790001  2.488000e+01\n",
       "2020-08-03  25.750000  2.467000e+01\n",
       "2020-08-04  24.010000  2.473000e+01\n",
       "\n",
       "[2161 rows x 2 columns]"
      ]
     },
     "execution_count": 250,
     "metadata": {},
     "output_type": "execute_result"
    }
   ],
   "source": [
    "vol_data"
   ]
  },
  {
   "cell_type": "markdown",
   "metadata": {},
   "source": [
    "### Lets get 10year treasury rate "
   ]
  },
  {
   "cell_type": "code",
   "execution_count": 251,
   "metadata": {},
   "outputs": [],
   "source": [
    "ten_year = pd.read_csv(\"resources/10year_treasury.csv\", parse_dates=True, index_col=\"DATE\")"
   ]
  },
  {
   "cell_type": "code",
   "execution_count": 252,
   "metadata": {},
   "outputs": [],
   "source": [
    "ten_year.replace([\".\"], np.nan, inplace=True)"
   ]
  },
  {
   "cell_type": "code",
   "execution_count": 253,
   "metadata": {},
   "outputs": [],
   "source": [
    "ten_year[\"DGS10\"] = pd.to_numeric(ten_year['DGS10'])"
   ]
  },
  {
   "cell_type": "code",
   "execution_count": 254,
   "metadata": {},
   "outputs": [
    {
     "data": {
      "text/plain": [
       "DGS10    220\n",
       "dtype: int64"
      ]
     },
     "execution_count": 254,
     "metadata": {},
     "output_type": "execute_result"
    }
   ],
   "source": [
    "ten_year.isnull().sum()"
   ]
  },
  {
   "cell_type": "markdown",
   "metadata": {},
   "source": [
    "####  Dropping Nulls"
   ]
  },
  {
   "cell_type": "code",
   "execution_count": 255,
   "metadata": {},
   "outputs": [],
   "source": [
    "working_data_tenyear = ten_year.loc[\"2012-01-03\":]"
   ]
  },
  {
   "cell_type": "code",
   "execution_count": 256,
   "metadata": {},
   "outputs": [],
   "source": [
    "working_data_vol = vol_data.loc[\"2012-1-3\":\"2020-06-11\"]"
   ]
  },
  {
   "cell_type": "code",
   "execution_count": 257,
   "metadata": {},
   "outputs": [
    {
     "data": {
      "text/html": [
       "<div>\n",
       "<style scoped>\n",
       "    .dataframe tbody tr th:only-of-type {\n",
       "        vertical-align: middle;\n",
       "    }\n",
       "\n",
       "    .dataframe tbody tr th {\n",
       "        vertical-align: top;\n",
       "    }\n",
       "\n",
       "    .dataframe thead th {\n",
       "        text-align: right;\n",
       "    }\n",
       "</style>\n",
       "<table border=\"1\" class=\"dataframe\">\n",
       "  <thead>\n",
       "    <tr style=\"text-align: right;\">\n",
       "      <th></th>\n",
       "      <th>^VIX</th>\n",
       "      <th>UVXY</th>\n",
       "    </tr>\n",
       "    <tr>\n",
       "      <th>Date</th>\n",
       "      <th></th>\n",
       "      <th></th>\n",
       "    </tr>\n",
       "  </thead>\n",
       "  <tbody>\n",
       "    <tr>\n",
       "      <th>2012-01-03</th>\n",
       "      <td>22.950001</td>\n",
       "      <td>6.624000e+07</td>\n",
       "    </tr>\n",
       "    <tr>\n",
       "      <th>2012-01-04</th>\n",
       "      <td>23.440001</td>\n",
       "      <td>6.714000e+07</td>\n",
       "    </tr>\n",
       "    <tr>\n",
       "      <th>2012-01-05</th>\n",
       "      <td>22.750000</td>\n",
       "      <td>6.444000e+07</td>\n",
       "    </tr>\n",
       "    <tr>\n",
       "      <th>2012-01-06</th>\n",
       "      <td>21.240000</td>\n",
       "      <td>5.886000e+07</td>\n",
       "    </tr>\n",
       "    <tr>\n",
       "      <th>2012-01-09</th>\n",
       "      <td>21.670000</td>\n",
       "      <td>5.688000e+07</td>\n",
       "    </tr>\n",
       "    <tr>\n",
       "      <th>...</th>\n",
       "      <td>...</td>\n",
       "      <td>...</td>\n",
       "    </tr>\n",
       "    <tr>\n",
       "      <th>2020-06-05</th>\n",
       "      <td>24.790001</td>\n",
       "      <td>2.724000e+01</td>\n",
       "    </tr>\n",
       "    <tr>\n",
       "      <th>2020-06-08</th>\n",
       "      <td>25.559999</td>\n",
       "      <td>2.743000e+01</td>\n",
       "    </tr>\n",
       "    <tr>\n",
       "      <th>2020-06-09</th>\n",
       "      <td>25.930000</td>\n",
       "      <td>2.968000e+01</td>\n",
       "    </tr>\n",
       "    <tr>\n",
       "      <th>2020-06-10</th>\n",
       "      <td>26.730000</td>\n",
       "      <td>3.088000e+01</td>\n",
       "    </tr>\n",
       "    <tr>\n",
       "      <th>2020-06-11</th>\n",
       "      <td>30.450001</td>\n",
       "      <td>3.533000e+01</td>\n",
       "    </tr>\n",
       "  </tbody>\n",
       "</table>\n",
       "<p>2124 rows × 2 columns</p>\n",
       "</div>"
      ],
      "text/plain": [
       "                 ^VIX          UVXY\n",
       "Date                               \n",
       "2012-01-03  22.950001  6.624000e+07\n",
       "2012-01-04  23.440001  6.714000e+07\n",
       "2012-01-05  22.750000  6.444000e+07\n",
       "2012-01-06  21.240000  5.886000e+07\n",
       "2012-01-09  21.670000  5.688000e+07\n",
       "...               ...           ...\n",
       "2020-06-05  24.790001  2.724000e+01\n",
       "2020-06-08  25.559999  2.743000e+01\n",
       "2020-06-09  25.930000  2.968000e+01\n",
       "2020-06-10  26.730000  3.088000e+01\n",
       "2020-06-11  30.450001  3.533000e+01\n",
       "\n",
       "[2124 rows x 2 columns]"
      ]
     },
     "execution_count": 257,
     "metadata": {},
     "output_type": "execute_result"
    }
   ],
   "source": [
    "working_data_vol"
   ]
  },
  {
   "cell_type": "code",
   "execution_count": 258,
   "metadata": {},
   "outputs": [
    {
     "data": {
      "text/html": [
       "<div>\n",
       "<style scoped>\n",
       "    .dataframe tbody tr th:only-of-type {\n",
       "        vertical-align: middle;\n",
       "    }\n",
       "\n",
       "    .dataframe tbody tr th {\n",
       "        vertical-align: top;\n",
       "    }\n",
       "\n",
       "    .dataframe thead th {\n",
       "        text-align: right;\n",
       "    }\n",
       "</style>\n",
       "<table border=\"1\" class=\"dataframe\">\n",
       "  <thead>\n",
       "    <tr style=\"text-align: right;\">\n",
       "      <th></th>\n",
       "      <th>DGS10</th>\n",
       "    </tr>\n",
       "    <tr>\n",
       "      <th>DATE</th>\n",
       "      <th></th>\n",
       "    </tr>\n",
       "  </thead>\n",
       "  <tbody>\n",
       "    <tr>\n",
       "      <th>2012-01-03</th>\n",
       "      <td>1.97</td>\n",
       "    </tr>\n",
       "    <tr>\n",
       "      <th>2012-01-04</th>\n",
       "      <td>2.00</td>\n",
       "    </tr>\n",
       "    <tr>\n",
       "      <th>2012-01-05</th>\n",
       "      <td>2.02</td>\n",
       "    </tr>\n",
       "    <tr>\n",
       "      <th>2012-01-06</th>\n",
       "      <td>1.98</td>\n",
       "    </tr>\n",
       "    <tr>\n",
       "      <th>2012-01-09</th>\n",
       "      <td>1.98</td>\n",
       "    </tr>\n",
       "    <tr>\n",
       "      <th>...</th>\n",
       "      <td>...</td>\n",
       "    </tr>\n",
       "    <tr>\n",
       "      <th>2020-06-05</th>\n",
       "      <td>0.91</td>\n",
       "    </tr>\n",
       "    <tr>\n",
       "      <th>2020-06-08</th>\n",
       "      <td>0.88</td>\n",
       "    </tr>\n",
       "    <tr>\n",
       "      <th>2020-06-09</th>\n",
       "      <td>0.84</td>\n",
       "    </tr>\n",
       "    <tr>\n",
       "      <th>2020-06-10</th>\n",
       "      <td>0.75</td>\n",
       "    </tr>\n",
       "    <tr>\n",
       "      <th>2020-06-11</th>\n",
       "      <td>0.66</td>\n",
       "    </tr>\n",
       "  </tbody>\n",
       "</table>\n",
       "<p>2203 rows × 1 columns</p>\n",
       "</div>"
      ],
      "text/plain": [
       "            DGS10\n",
       "DATE             \n",
       "2012-01-03   1.97\n",
       "2012-01-04   2.00\n",
       "2012-01-05   2.02\n",
       "2012-01-06   1.98\n",
       "2012-01-09   1.98\n",
       "...           ...\n",
       "2020-06-05   0.91\n",
       "2020-06-08   0.88\n",
       "2020-06-09   0.84\n",
       "2020-06-10   0.75\n",
       "2020-06-11   0.66\n",
       "\n",
       "[2203 rows x 1 columns]"
      ]
     },
     "execution_count": 258,
     "metadata": {},
     "output_type": "execute_result"
    }
   ],
   "source": [
    "working_data_tenyear"
   ]
  },
  {
   "cell_type": "code",
   "execution_count": 259,
   "metadata": {},
   "outputs": [],
   "source": [
    "final_data = pd.concat([working_data_tenyear, working_data_vol], axis=1)"
   ]
  },
  {
   "cell_type": "code",
   "execution_count": 260,
   "metadata": {},
   "outputs": [
    {
     "data": {
      "text/html": [
       "<div>\n",
       "<style scoped>\n",
       "    .dataframe tbody tr th:only-of-type {\n",
       "        vertical-align: middle;\n",
       "    }\n",
       "\n",
       "    .dataframe tbody tr th {\n",
       "        vertical-align: top;\n",
       "    }\n",
       "\n",
       "    .dataframe thead th {\n",
       "        text-align: right;\n",
       "    }\n",
       "</style>\n",
       "<table border=\"1\" class=\"dataframe\">\n",
       "  <thead>\n",
       "    <tr style=\"text-align: right;\">\n",
       "      <th></th>\n",
       "      <th>DGS10</th>\n",
       "      <th>^VIX</th>\n",
       "      <th>UVXY</th>\n",
       "    </tr>\n",
       "  </thead>\n",
       "  <tbody>\n",
       "    <tr>\n",
       "      <th>DGS10</th>\n",
       "      <td>1.000000</td>\n",
       "      <td>-0.443367</td>\n",
       "      <td>-0.141378</td>\n",
       "    </tr>\n",
       "    <tr>\n",
       "      <th>^VIX</th>\n",
       "      <td>-0.443367</td>\n",
       "      <td>1.000000</td>\n",
       "      <td>0.111111</td>\n",
       "    </tr>\n",
       "    <tr>\n",
       "      <th>UVXY</th>\n",
       "      <td>-0.141378</td>\n",
       "      <td>0.111111</td>\n",
       "      <td>1.000000</td>\n",
       "    </tr>\n",
       "  </tbody>\n",
       "</table>\n",
       "</div>"
      ],
      "text/plain": [
       "          DGS10      ^VIX      UVXY\n",
       "DGS10  1.000000 -0.443367 -0.141378\n",
       "^VIX  -0.443367  1.000000  0.111111\n",
       "UVXY  -0.141378  0.111111  1.000000"
      ]
     },
     "execution_count": 260,
     "metadata": {},
     "output_type": "execute_result"
    }
   ],
   "source": [
    "final_data.corr()"
   ]
  },
  {
   "cell_type": "code",
   "execution_count": 261,
   "metadata": {},
   "outputs": [
    {
     "data": {
      "text/html": [
       "<div>\n",
       "<style scoped>\n",
       "    .dataframe tbody tr th:only-of-type {\n",
       "        vertical-align: middle;\n",
       "    }\n",
       "\n",
       "    .dataframe tbody tr th {\n",
       "        vertical-align: top;\n",
       "    }\n",
       "\n",
       "    .dataframe thead th {\n",
       "        text-align: right;\n",
       "    }\n",
       "</style>\n",
       "<table border=\"1\" class=\"dataframe\">\n",
       "  <thead>\n",
       "    <tr style=\"text-align: right;\">\n",
       "      <th></th>\n",
       "      <th>DGS10</th>\n",
       "      <th>^VIX</th>\n",
       "      <th>UVXY</th>\n",
       "    </tr>\n",
       "  </thead>\n",
       "  <tbody>\n",
       "    <tr>\n",
       "      <th>2012-01-03</th>\n",
       "      <td>1.97</td>\n",
       "      <td>22.950001</td>\n",
       "      <td>6.624000e+07</td>\n",
       "    </tr>\n",
       "    <tr>\n",
       "      <th>2012-01-04</th>\n",
       "      <td>2.00</td>\n",
       "      <td>23.440001</td>\n",
       "      <td>6.714000e+07</td>\n",
       "    </tr>\n",
       "    <tr>\n",
       "      <th>2012-01-05</th>\n",
       "      <td>2.02</td>\n",
       "      <td>22.750000</td>\n",
       "      <td>6.444000e+07</td>\n",
       "    </tr>\n",
       "    <tr>\n",
       "      <th>2012-01-06</th>\n",
       "      <td>1.98</td>\n",
       "      <td>21.240000</td>\n",
       "      <td>5.886000e+07</td>\n",
       "    </tr>\n",
       "    <tr>\n",
       "      <th>2012-01-09</th>\n",
       "      <td>1.98</td>\n",
       "      <td>21.670000</td>\n",
       "      <td>5.688000e+07</td>\n",
       "    </tr>\n",
       "    <tr>\n",
       "      <th>...</th>\n",
       "      <td>...</td>\n",
       "      <td>...</td>\n",
       "      <td>...</td>\n",
       "    </tr>\n",
       "    <tr>\n",
       "      <th>2020-06-05</th>\n",
       "      <td>0.91</td>\n",
       "      <td>24.790001</td>\n",
       "      <td>2.724000e+01</td>\n",
       "    </tr>\n",
       "    <tr>\n",
       "      <th>2020-06-08</th>\n",
       "      <td>0.88</td>\n",
       "      <td>25.559999</td>\n",
       "      <td>2.743000e+01</td>\n",
       "    </tr>\n",
       "    <tr>\n",
       "      <th>2020-06-09</th>\n",
       "      <td>0.84</td>\n",
       "      <td>25.930000</td>\n",
       "      <td>2.968000e+01</td>\n",
       "    </tr>\n",
       "    <tr>\n",
       "      <th>2020-06-10</th>\n",
       "      <td>0.75</td>\n",
       "      <td>26.730000</td>\n",
       "      <td>3.088000e+01</td>\n",
       "    </tr>\n",
       "    <tr>\n",
       "      <th>2020-06-11</th>\n",
       "      <td>0.66</td>\n",
       "      <td>30.450001</td>\n",
       "      <td>3.533000e+01</td>\n",
       "    </tr>\n",
       "  </tbody>\n",
       "</table>\n",
       "<p>2203 rows × 3 columns</p>\n",
       "</div>"
      ],
      "text/plain": [
       "            DGS10       ^VIX          UVXY\n",
       "2012-01-03   1.97  22.950001  6.624000e+07\n",
       "2012-01-04   2.00  23.440001  6.714000e+07\n",
       "2012-01-05   2.02  22.750000  6.444000e+07\n",
       "2012-01-06   1.98  21.240000  5.886000e+07\n",
       "2012-01-09   1.98  21.670000  5.688000e+07\n",
       "...           ...        ...           ...\n",
       "2020-06-05   0.91  24.790001  2.724000e+01\n",
       "2020-06-08   0.88  25.559999  2.743000e+01\n",
       "2020-06-09   0.84  25.930000  2.968000e+01\n",
       "2020-06-10   0.75  26.730000  3.088000e+01\n",
       "2020-06-11   0.66  30.450001  3.533000e+01\n",
       "\n",
       "[2203 rows x 3 columns]"
      ]
     },
     "execution_count": 261,
     "metadata": {},
     "output_type": "execute_result"
    }
   ],
   "source": [
    "final_data"
   ]
  },
  {
   "cell_type": "code",
   "execution_count": 262,
   "metadata": {},
   "outputs": [],
   "source": [
    "final_data.columns = [\"10 year\", \"VIX\", \"UVXY\"]"
   ]
  },
  {
   "cell_type": "code",
   "execution_count": 263,
   "metadata": {},
   "outputs": [
    {
     "data": {
      "text/html": [
       "<div>\n",
       "<style scoped>\n",
       "    .dataframe tbody tr th:only-of-type {\n",
       "        vertical-align: middle;\n",
       "    }\n",
       "\n",
       "    .dataframe tbody tr th {\n",
       "        vertical-align: top;\n",
       "    }\n",
       "\n",
       "    .dataframe thead th {\n",
       "        text-align: right;\n",
       "    }\n",
       "</style>\n",
       "<table border=\"1\" class=\"dataframe\">\n",
       "  <thead>\n",
       "    <tr style=\"text-align: right;\">\n",
       "      <th></th>\n",
       "      <th>10 year</th>\n",
       "      <th>VIX</th>\n",
       "      <th>UVXY</th>\n",
       "    </tr>\n",
       "  </thead>\n",
       "  <tbody>\n",
       "    <tr>\n",
       "      <th>2012-01-03</th>\n",
       "      <td>1.97</td>\n",
       "      <td>22.950001</td>\n",
       "      <td>6.624000e+07</td>\n",
       "    </tr>\n",
       "    <tr>\n",
       "      <th>2012-01-04</th>\n",
       "      <td>2.00</td>\n",
       "      <td>23.440001</td>\n",
       "      <td>6.714000e+07</td>\n",
       "    </tr>\n",
       "    <tr>\n",
       "      <th>2012-01-05</th>\n",
       "      <td>2.02</td>\n",
       "      <td>22.750000</td>\n",
       "      <td>6.444000e+07</td>\n",
       "    </tr>\n",
       "    <tr>\n",
       "      <th>2012-01-06</th>\n",
       "      <td>1.98</td>\n",
       "      <td>21.240000</td>\n",
       "      <td>5.886000e+07</td>\n",
       "    </tr>\n",
       "    <tr>\n",
       "      <th>2012-01-09</th>\n",
       "      <td>1.98</td>\n",
       "      <td>21.670000</td>\n",
       "      <td>5.688000e+07</td>\n",
       "    </tr>\n",
       "    <tr>\n",
       "      <th>...</th>\n",
       "      <td>...</td>\n",
       "      <td>...</td>\n",
       "      <td>...</td>\n",
       "    </tr>\n",
       "    <tr>\n",
       "      <th>2020-06-05</th>\n",
       "      <td>0.91</td>\n",
       "      <td>24.790001</td>\n",
       "      <td>2.724000e+01</td>\n",
       "    </tr>\n",
       "    <tr>\n",
       "      <th>2020-06-08</th>\n",
       "      <td>0.88</td>\n",
       "      <td>25.559999</td>\n",
       "      <td>2.743000e+01</td>\n",
       "    </tr>\n",
       "    <tr>\n",
       "      <th>2020-06-09</th>\n",
       "      <td>0.84</td>\n",
       "      <td>25.930000</td>\n",
       "      <td>2.968000e+01</td>\n",
       "    </tr>\n",
       "    <tr>\n",
       "      <th>2020-06-10</th>\n",
       "      <td>0.75</td>\n",
       "      <td>26.730000</td>\n",
       "      <td>3.088000e+01</td>\n",
       "    </tr>\n",
       "    <tr>\n",
       "      <th>2020-06-11</th>\n",
       "      <td>0.66</td>\n",
       "      <td>30.450001</td>\n",
       "      <td>3.533000e+01</td>\n",
       "    </tr>\n",
       "  </tbody>\n",
       "</table>\n",
       "<p>2203 rows × 3 columns</p>\n",
       "</div>"
      ],
      "text/plain": [
       "            10 year        VIX          UVXY\n",
       "2012-01-03     1.97  22.950001  6.624000e+07\n",
       "2012-01-04     2.00  23.440001  6.714000e+07\n",
       "2012-01-05     2.02  22.750000  6.444000e+07\n",
       "2012-01-06     1.98  21.240000  5.886000e+07\n",
       "2012-01-09     1.98  21.670000  5.688000e+07\n",
       "...             ...        ...           ...\n",
       "2020-06-05     0.91  24.790001  2.724000e+01\n",
       "2020-06-08     0.88  25.559999  2.743000e+01\n",
       "2020-06-09     0.84  25.930000  2.968000e+01\n",
       "2020-06-10     0.75  26.730000  3.088000e+01\n",
       "2020-06-11     0.66  30.450001  3.533000e+01\n",
       "\n",
       "[2203 rows x 3 columns]"
      ]
     },
     "execution_count": 263,
     "metadata": {},
     "output_type": "execute_result"
    }
   ],
   "source": [
    "final_data"
   ]
  },
  {
   "cell_type": "code",
   "execution_count": 264,
   "metadata": {},
   "outputs": [
    {
     "data": {
      "text/plain": [
       "<matplotlib.axes._subplots.AxesSubplot at 0x1a651d0cd0>"
      ]
     },
     "execution_count": 264,
     "metadata": {},
     "output_type": "execute_result"
    },
    {
     "data": {
      "image/png": "[encoded data removed]",
      "text/plain": [
       "<Figure size 1296x432 with 1 Axes>"
      ]
     },
     "metadata": {
      "needs_background": "light"
     },
     "output_type": "display_data"
    }
   ],
   "source": [
    "final_data['10 year'].plot(figsize = (18,6))"
   ]
  },
  {
   "cell_type": "markdown",
   "metadata": {},
   "source": [
    "### lets prep out data for training"
   ]
  },
  {
   "cell_type": "code",
   "execution_count": 265,
   "metadata": {},
   "outputs": [],
   "source": [
    "from sklearn.model_selection import train_test_split"
   ]
  },
  {
   "cell_type": "code",
   "execution_count": 266,
   "metadata": {},
   "outputs": [],
   "source": [
    "import seaborn as sns"
   ]
  },
  {
   "cell_type": "code",
   "execution_count": 267,
   "metadata": {},
   "outputs": [
    {
     "data": {
      "text/plain": [
       "<matplotlib.axes._subplots.AxesSubplot at 0x1a65481750>"
      ]
     },
     "execution_count": 267,
     "metadata": {},
     "output_type": "execute_result"
    },
    {
     "data": {
      "image/png": "[encoded data removed]",
      "text/plain": [
       "<Figure size 432x288 with 2 Axes>"
      ]
     },
     "metadata": {
      "needs_background": "light"
     },
     "output_type": "display_data"
    }
   ],
   "source": [
    "sns.heatmap(final_data.isnull())"
   ]
  },
  {
   "cell_type": "code",
   "execution_count": 268,
   "metadata": {},
   "outputs": [],
   "source": [
    "final_data.dropna(inplace=True)"
   ]
  },
  {
   "cell_type": "code",
   "execution_count": 269,
   "metadata": {},
   "outputs": [],
   "source": [
    "X = final_data.drop(\"10 year\", axis=1).values\n",
    "y = final_data[\"10 year\"].values"
   ]
  },
  {
   "cell_type": "code",
   "execution_count": 270,
   "metadata": {},
   "outputs": [],
   "source": [
    "X_train, X_test, y_train, y_test = train_test_split(X, y, test_size=0.30, random_state=42)"
   ]
  },
  {
   "cell_type": "markdown",
   "metadata": {},
   "source": [
    "## Scaling the data"
   ]
  },
  {
   "cell_type": "code",
   "execution_count": 271,
   "metadata": {},
   "outputs": [],
   "source": [
    "from sklearn.preprocessing import MinMaxScaler"
   ]
  },
  {
   "cell_type": "code",
   "execution_count": 272,
   "metadata": {},
   "outputs": [],
   "source": [
    "scalar = MinMaxScaler()"
   ]
  },
  {
   "cell_type": "code",
   "execution_count": 273,
   "metadata": {},
   "outputs": [],
   "source": [
    "X_train = scalar.fit_transform(X_train)"
   ]
  },
  {
   "cell_type": "code",
   "execution_count": 274,
   "metadata": {},
   "outputs": [],
   "source": [
    "X_test= scalar.transform(X_test)"
   ]
  },
  {
   "cell_type": "markdown",
   "metadata": {},
   "source": [
    "### Early Stopping"
   ]
  },
  {
   "cell_type": "code",
   "execution_count": 275,
   "metadata": {},
   "outputs": [],
   "source": [
    "from tensorflow.keras.callbacks import EarlyStopping"
   ]
  },
  {
   "cell_type": "code",
   "execution_count": 276,
   "metadata": {},
   "outputs": [],
   "source": [
    "stop = EarlyStopping(monitor=\"val_loss\", mode=\"min\", patience=50)"
   ]
  },
  {
   "cell_type": "markdown",
   "metadata": {},
   "source": [
    "### Setting up model"
   ]
  },
  {
   "cell_type": "code",
   "execution_count": 277,
   "metadata": {},
   "outputs": [],
   "source": [
    "from tensorflow.keras.models import Sequential\n",
    "from tensorflow.keras.layers import Dense,Dropout"
   ]
  },
  {
   "cell_type": "code",
   "execution_count": 278,
   "metadata": {},
   "outputs": [],
   "source": [
    "model = Sequential()\n",
    "model.add(Dense(units =200, activation = \"relu\"))\n",
    "model.add(Dropout(0.5))\n",
    "model.add(Dense(units =180, activation = \"relu\"))\n",
    "model.add(Dropout(0.5))\n",
    "model.add(Dense(units =150, activation = \"relu\"))\n",
    "model.add(Dropout(0.5))\n",
    "model.add(Dense(units =100, activation = \"relu\"))\n",
    "model.add(Dense(units = 1))\n",
    "model.compile(optimizer = \"adam\", loss = \"mse\")"
   ]
  },
  {
   "cell_type": "markdown",
   "metadata": {},
   "source": [
    "## fitting model"
   ]
  },
  {
   "cell_type": "code",
   "execution_count": 279,
   "metadata": {},
   "outputs": [
    {
     "name": "stdout",
     "output_type": "stream",
     "text": [
      "Train on 1476 samples, validate on 633 samples\n",
      "Epoch 1/600\n",
      "1476/1476 [==============================] - 3s 2ms/sample - loss: 1.9481 - val_loss: 0.3501\n",
      "Epoch 2/600\n",
      "1476/1476 [==============================] - 1s 418us/sample - loss: 0.4231 - val_loss: 0.2366\n",
      "Epoch 3/600\n",
      "1476/1476 [==============================] - 1s 418us/sample - loss: 0.3307 - val_loss: 0.2092\n",
      "Epoch 4/600\n",
      "1476/1476 [==============================] - 1s 415us/sample - loss: 0.2928 - val_loss: 0.2379\n",
      "Epoch 5/600\n",
      "1476/1476 [==============================] - 1s 435us/sample - loss: 0.2864 - val_loss: 0.2070\n",
      "Epoch 6/600\n",
      "1476/1476 [==============================] - 1s 449us/sample - loss: 0.2546 - val_loss: 0.1968\n",
      "Epoch 7/600\n",
      "1476/1476 [==============================] - 1s 498us/sample - loss: 0.2614 - val_loss: 0.2213\n",
      "Epoch 8/600\n",
      "1476/1476 [==============================] - 1s 488us/sample - loss: 0.2396 - val_loss: 0.2120\n",
      "Epoch 9/600\n",
      "1476/1476 [==============================] - 1s 482us/sample - loss: 0.2392 - val_loss: 0.1971\n",
      "Epoch 10/600\n",
      "1476/1476 [==============================] - 1s 479us/sample - loss: 0.2367 - val_loss: 0.1992\n",
      "Epoch 11/600\n",
      "1476/1476 [==============================] - 1s 442us/sample - loss: 0.2279 - val_loss: 0.1936\n",
      "Epoch 12/600\n",
      "1476/1476 [==============================] - 1s 432us/sample - loss: 0.2204 - val_loss: 0.1962\n",
      "Epoch 13/600\n",
      "1476/1476 [==============================] - 1s 449us/sample - loss: 0.2310 - val_loss: 0.1934\n",
      "Epoch 14/600\n",
      "1476/1476 [==============================] - 1s 503us/sample - loss: 0.2133 - val_loss: 0.1868\n",
      "Epoch 15/600\n",
      "1476/1476 [==============================] - 1s 543us/sample - loss: 0.2219 - val_loss: 0.1944\n",
      "Epoch 16/600\n",
      "1476/1476 [==============================] - 1s 593us/sample - loss: 0.2256 - val_loss: 0.1932\n",
      "Epoch 17/600\n",
      "1476/1476 [==============================] - 1s 545us/sample - loss: 0.2169 - val_loss: 0.1998\n",
      "Epoch 18/600\n",
      "1476/1476 [==============================] - 1s 531us/sample - loss: 0.2222 - val_loss: 0.1905\n",
      "Epoch 19/600\n",
      "1476/1476 [==============================] - 1s 527us/sample - loss: 0.2171 - val_loss: 0.1927\n",
      "Epoch 20/600\n",
      "1476/1476 [==============================] - 1s 519us/sample - loss: 0.2075 - val_loss: 0.1873\n",
      "Epoch 21/600\n",
      "1476/1476 [==============================] - 1s 519us/sample - loss: 0.2071 - val_loss: 0.1926\n",
      "Epoch 22/600\n",
      "1476/1476 [==============================] - 1s 575us/sample - loss: 0.2075 - val_loss: 0.1846\n",
      "Epoch 23/600\n",
      "1476/1476 [==============================] - 1s 484us/sample - loss: 0.2034 - val_loss: 0.1852\n",
      "Epoch 24/600\n",
      "1476/1476 [==============================] - 1s 486us/sample - loss: 0.2075 - val_loss: 0.1983\n",
      "Epoch 25/600\n",
      "1476/1476 [==============================] - 1s 614us/sample - loss: 0.2051 - val_loss: 0.1871\n",
      "Epoch 26/600\n",
      "1476/1476 [==============================] - 1s 512us/sample - loss: 0.2017 - val_loss: 0.1914\n",
      "Epoch 27/600\n",
      "1476/1476 [==============================] - 1s 508us/sample - loss: 0.2037 - val_loss: 0.1923\n",
      "Epoch 28/600\n",
      "1476/1476 [==============================] - 1s 492us/sample - loss: 0.1995 - val_loss: 0.1953\n",
      "Epoch 29/600\n",
      "1476/1476 [==============================] - 1s 474us/sample - loss: 0.2042 - val_loss: 0.1947\n",
      "Epoch 30/600\n",
      "1476/1476 [==============================] - 1s 472us/sample - loss: 0.1987 - val_loss: 0.1901\n",
      "Epoch 31/600\n",
      "1476/1476 [==============================] - 1s 494us/sample - loss: 0.2009 - val_loss: 0.1863\n",
      "Epoch 32/600\n",
      "1476/1476 [==============================] - 1s 475us/sample - loss: 0.1940 - val_loss: 0.1909\n",
      "Epoch 33/600\n",
      "1476/1476 [==============================] - 1s 474us/sample - loss: 0.1900 - val_loss: 0.1884\n",
      "Epoch 34/600\n",
      "1476/1476 [==============================] - 1s 483us/sample - loss: 0.1954 - val_loss: 0.1851\n",
      "Epoch 35/600\n",
      "1476/1476 [==============================] - 1s 508us/sample - loss: 0.1918 - val_loss: 0.1950\n",
      "Epoch 36/600\n",
      "1476/1476 [==============================] - 1s 468us/sample - loss: 0.1958 - val_loss: 0.1843\n",
      "Epoch 37/600\n",
      "1476/1476 [==============================] - 1s 476us/sample - loss: 0.1953 - val_loss: 0.2006\n",
      "Epoch 38/600\n",
      "1476/1476 [==============================] - 1s 470us/sample - loss: 0.1902 - val_loss: 0.1817\n",
      "Epoch 39/600\n",
      "1476/1476 [==============================] - 1s 466us/sample - loss: 0.1879 - val_loss: 0.1808\n",
      "Epoch 40/600\n",
      "1476/1476 [==============================] - 1s 474us/sample - loss: 0.1873 - val_loss: 0.1854\n",
      "Epoch 41/600\n",
      "1476/1476 [==============================] - 1s 465us/sample - loss: 0.1909 - val_loss: 0.1794\n",
      "Epoch 42/600\n",
      "1476/1476 [==============================] - 1s 480us/sample - loss: 0.1947 - val_loss: 0.1896\n",
      "Epoch 43/600\n",
      "1476/1476 [==============================] - 1s 461us/sample - loss: 0.1894 - val_loss: 0.1824\n",
      "Epoch 44/600\n",
      "1476/1476 [==============================] - 1s 465us/sample - loss: 0.1874 - val_loss: 0.1770\n",
      "Epoch 45/600\n",
      "1476/1476 [==============================] - 1s 488us/sample - loss: 0.1864 - val_loss: 0.1782\n",
      "Epoch 46/600\n",
      "1476/1476 [==============================] - 1s 474us/sample - loss: 0.1827 - val_loss: 0.1799\n",
      "Epoch 47/600\n",
      "1476/1476 [==============================] - 1s 497us/sample - loss: 0.1877 - val_loss: 0.1837\n",
      "Epoch 48/600\n",
      "1476/1476 [==============================] - 1s 496us/sample - loss: 0.1828 - val_loss: 0.1817\n",
      "Epoch 49/600\n",
      "1476/1476 [==============================] - 1s 469us/sample - loss: 0.1819 - val_loss: 0.1830\n",
      "Epoch 50/600\n",
      "1476/1476 [==============================] - 1s 474us/sample - loss: 0.1835 - val_loss: 0.1794\n",
      "Epoch 51/600\n",
      "1476/1476 [==============================] - 1s 471us/sample - loss: 0.1902 - val_loss: 0.1871\n",
      "Epoch 52/600\n",
      "1476/1476 [==============================] - 1s 492us/sample - loss: 0.1826 - val_loss: 0.1773\n",
      "Epoch 53/600\n",
      "1476/1476 [==============================] - 1s 462us/sample - loss: 0.1848 - val_loss: 0.1783\n",
      "Epoch 54/600\n",
      "1476/1476 [==============================] - 1s 465us/sample - loss: 0.1793 - val_loss: 0.1786\n",
      "Epoch 55/600\n",
      "1476/1476 [==============================] - 1s 459us/sample - loss: 0.1823 - val_loss: 0.1762\n",
      "Epoch 56/600\n",
      "1476/1476 [==============================] - 1s 467us/sample - loss: 0.1814 - val_loss: 0.1891\n",
      "Epoch 57/600\n",
      "1476/1476 [==============================] - 1s 459us/sample - loss: 0.1886 - val_loss: 0.1843\n",
      "Epoch 58/600\n",
      "1476/1476 [==============================] - 1s 481us/sample - loss: 0.1792 - val_loss: 0.1786\n",
      "Epoch 59/600\n",
      "1476/1476 [==============================] - 1s 468us/sample - loss: 0.1857 - val_loss: 0.1774\n",
      "Epoch 60/600\n",
      "1476/1476 [==============================] - 1s 466us/sample - loss: 0.1784 - val_loss: 0.1772\n",
      "Epoch 61/600\n",
      "1476/1476 [==============================] - 1s 469us/sample - loss: 0.1816 - val_loss: 0.1822\n",
      "Epoch 62/600\n",
      "1476/1476 [==============================] - 1s 464us/sample - loss: 0.1820 - val_loss: 0.1859\n",
      "Epoch 63/600\n",
      "1476/1476 [==============================] - 1s 469us/sample - loss: 0.1824 - val_loss: 0.1918\n",
      "Epoch 64/600\n",
      "1476/1476 [==============================] - 1s 463us/sample - loss: 0.1836 - val_loss: 0.1787\n",
      "Epoch 65/600\n",
      "1476/1476 [==============================] - 1s 478us/sample - loss: 0.1798 - val_loss: 0.1785\n",
      "Epoch 66/600\n",
      "1476/1476 [==============================] - 1s 460us/sample - loss: 0.1762 - val_loss: 0.1808\n",
      "Epoch 67/600\n",
      "1476/1476 [==============================] - 1s 466us/sample - loss: 0.1799 - val_loss: 0.1789\n",
      "Epoch 68/600\n",
      "1476/1476 [==============================] - 1s 459us/sample - loss: 0.1851 - val_loss: 0.1799\n",
      "Epoch 69/600\n",
      "1476/1476 [==============================] - 1s 489us/sample - loss: 0.1792 - val_loss: 0.1809\n",
      "Epoch 70/600\n",
      "1476/1476 [==============================] - 1s 469us/sample - loss: 0.1853 - val_loss: 0.1799\n",
      "Epoch 71/600\n",
      "1476/1476 [==============================] - 1s 497us/sample - loss: 0.1811 - val_loss: 0.1792\n",
      "Epoch 72/600\n",
      "1476/1476 [==============================] - 1s 462us/sample - loss: 0.1779 - val_loss: 0.1759\n",
      "Epoch 73/600\n",
      "1476/1476 [==============================] - 1s 464us/sample - loss: 0.1790 - val_loss: 0.1776\n",
      "Epoch 74/600\n",
      "1476/1476 [==============================] - 1s 464us/sample - loss: 0.1812 - val_loss: 0.1766\n",
      "Epoch 75/600\n",
      "1476/1476 [==============================] - 1s 470us/sample - loss: 0.1783 - val_loss: 0.1813\n",
      "Epoch 76/600\n"
     ]
    },
    {
     "name": "stdout",
     "output_type": "stream",
     "text": [
      "1476/1476 [==============================] - 1s 464us/sample - loss: 0.1814 - val_loss: 0.1811\n",
      "Epoch 77/600\n",
      "1476/1476 [==============================] - 1s 475us/sample - loss: 0.1788 - val_loss: 0.1845\n",
      "Epoch 78/600\n",
      "1476/1476 [==============================] - 1s 475us/sample - loss: 0.1782 - val_loss: 0.1834\n",
      "Epoch 79/600\n",
      "1476/1476 [==============================] - 1s 462us/sample - loss: 0.1736 - val_loss: 0.1740\n",
      "Epoch 80/600\n",
      "1476/1476 [==============================] - 1s 463us/sample - loss: 0.1773 - val_loss: 0.1780\n",
      "Epoch 81/600\n",
      "1476/1476 [==============================] - 1s 461us/sample - loss: 0.1794 - val_loss: 0.1874\n",
      "Epoch 82/600\n",
      "1476/1476 [==============================] - 1s 470us/sample - loss: 0.1781 - val_loss: 0.1821\n",
      "Epoch 83/600\n",
      "1476/1476 [==============================] - 1s 470us/sample - loss: 0.1751 - val_loss: 0.1780\n",
      "Epoch 84/600\n",
      "1476/1476 [==============================] - 1s 472us/sample - loss: 0.1790 - val_loss: 0.1769\n",
      "Epoch 85/600\n",
      "1476/1476 [==============================] - 1s 463us/sample - loss: 0.1792 - val_loss: 0.1789\n",
      "Epoch 86/600\n",
      "1476/1476 [==============================] - 1s 470us/sample - loss: 0.1794 - val_loss: 0.1792\n",
      "Epoch 87/600\n",
      "1476/1476 [==============================] - 1s 453us/sample - loss: 0.1768 - val_loss: 0.1759\n",
      "Epoch 88/600\n",
      "1476/1476 [==============================] - 1s 463us/sample - loss: 0.1784 - val_loss: 0.1760\n",
      "Epoch 89/600\n",
      "1476/1476 [==============================] - 1s 483us/sample - loss: 0.1783 - val_loss: 0.1746\n",
      "Epoch 90/600\n",
      "1476/1476 [==============================] - 1s 457us/sample - loss: 0.1781 - val_loss: 0.1758\n",
      "Epoch 91/600\n",
      "1476/1476 [==============================] - 1s 485us/sample - loss: 0.1725 - val_loss: 0.1757\n",
      "Epoch 92/600\n",
      "1476/1476 [==============================] - 1s 459us/sample - loss: 0.1754 - val_loss: 0.1807\n",
      "Epoch 93/600\n",
      "1476/1476 [==============================] - 1s 467us/sample - loss: 0.1738 - val_loss: 0.1765\n",
      "Epoch 94/600\n",
      "1476/1476 [==============================] - 1s 466us/sample - loss: 0.1797 - val_loss: 0.1834\n",
      "Epoch 95/600\n",
      "1476/1476 [==============================] - 1s 465us/sample - loss: 0.1794 - val_loss: 0.1845\n",
      "Epoch 96/600\n",
      "1476/1476 [==============================] - 1s 462us/sample - loss: 0.1755 - val_loss: 0.1832\n",
      "Epoch 97/600\n",
      "1476/1476 [==============================] - 1s 460us/sample - loss: 0.1800 - val_loss: 0.1790\n",
      "Epoch 98/600\n",
      "1476/1476 [==============================] - 1s 476us/sample - loss: 0.1795 - val_loss: 0.1778\n",
      "Epoch 99/600\n",
      "1476/1476 [==============================] - 1s 458us/sample - loss: 0.1750 - val_loss: 0.1732\n",
      "Epoch 100/600\n",
      "1476/1476 [==============================] - 1s 466us/sample - loss: 0.1764 - val_loss: 0.1735\n",
      "Epoch 101/600\n",
      "1476/1476 [==============================] - 1s 470us/sample - loss: 0.1730 - val_loss: 0.1776\n",
      "Epoch 102/600\n",
      "1476/1476 [==============================] - 1s 466us/sample - loss: 0.1806 - val_loss: 0.1767\n",
      "Epoch 103/600\n",
      "1476/1476 [==============================] - 1s 458us/sample - loss: 0.1766 - val_loss: 0.1767\n",
      "Epoch 104/600\n",
      "1476/1476 [==============================] - 1s 463us/sample - loss: 0.1800 - val_loss: 0.1791\n",
      "Epoch 105/600\n",
      "1476/1476 [==============================] - 1s 478us/sample - loss: 0.1751 - val_loss: 0.1815\n",
      "Epoch 106/600\n",
      "1476/1476 [==============================] - 1s 453us/sample - loss: 0.1770 - val_loss: 0.1779\n",
      "Epoch 107/600\n",
      "1476/1476 [==============================] - 1s 465us/sample - loss: 0.1733 - val_loss: 0.1809\n",
      "Epoch 108/600\n",
      "1476/1476 [==============================] - 1s 489us/sample - loss: 0.1754 - val_loss: 0.1777\n",
      "Epoch 109/600\n",
      "1476/1476 [==============================] - 1s 468us/sample - loss: 0.1772 - val_loss: 0.1763\n",
      "Epoch 110/600\n",
      "1476/1476 [==============================] - 1s 465us/sample - loss: 0.1772 - val_loss: 0.1748\n",
      "Epoch 111/600\n",
      "1476/1476 [==============================] - 1s 465us/sample - loss: 0.1754 - val_loss: 0.1806\n",
      "Epoch 112/600\n",
      "1476/1476 [==============================] - 1s 476us/sample - loss: 0.1765 - val_loss: 0.1804\n",
      "Epoch 113/600\n",
      "1476/1476 [==============================] - 1s 464us/sample - loss: 0.1764 - val_loss: 0.1748\n",
      "Epoch 114/600\n",
      "1476/1476 [==============================] - 1s 470us/sample - loss: 0.1756 - val_loss: 0.1749\n",
      "Epoch 115/600\n",
      "1476/1476 [==============================] - 1s 464us/sample - loss: 0.1738 - val_loss: 0.1764\n",
      "Epoch 116/600\n",
      "1476/1476 [==============================] - 1s 459us/sample - loss: 0.1729 - val_loss: 0.1728\n",
      "Epoch 117/600\n",
      "1476/1476 [==============================] - 1s 467us/sample - loss: 0.1738 - val_loss: 0.1764\n",
      "Epoch 118/600\n",
      "1476/1476 [==============================] - 1s 497us/sample - loss: 0.1753 - val_loss: 0.1784\n",
      "Epoch 119/600\n",
      "1476/1476 [==============================] - 1s 460us/sample - loss: 0.1777 - val_loss: 0.1754\n",
      "Epoch 120/600\n",
      "1476/1476 [==============================] - 1s 460us/sample - loss: 0.1809 - val_loss: 0.1764\n",
      "Epoch 121/600\n",
      "1476/1476 [==============================] - 1s 468us/sample - loss: 0.1748 - val_loss: 0.1751\n",
      "Epoch 122/600\n",
      "1476/1476 [==============================] - 1s 464us/sample - loss: 0.1778 - val_loss: 0.1746\n",
      "Epoch 123/600\n",
      "1476/1476 [==============================] - 1s 473us/sample - loss: 0.1754 - val_loss: 0.1785\n",
      "Epoch 124/600\n",
      "1476/1476 [==============================] - 1s 483us/sample - loss: 0.1756 - val_loss: 0.1767\n",
      "Epoch 125/600\n",
      "1476/1476 [==============================] - 1s 471us/sample - loss: 0.1759 - val_loss: 0.1752\n",
      "Epoch 126/600\n",
      "1476/1476 [==============================] - 1s 478us/sample - loss: 0.1749 - val_loss: 0.1772\n",
      "Epoch 127/600\n",
      "1476/1476 [==============================] - 1s 491us/sample - loss: 0.1759 - val_loss: 0.1777\n",
      "Epoch 128/600\n",
      "1476/1476 [==============================] - 1s 468us/sample - loss: 0.1751 - val_loss: 0.1849\n",
      "Epoch 129/600\n",
      "1476/1476 [==============================] - 1s 465us/sample - loss: 0.1772 - val_loss: 0.1827\n",
      "Epoch 130/600\n",
      "1476/1476 [==============================] - 1s 465us/sample - loss: 0.1763 - val_loss: 0.1750\n",
      "Epoch 131/600\n",
      "1476/1476 [==============================] - 1s 461us/sample - loss: 0.1744 - val_loss: 0.1735\n",
      "Epoch 132/600\n",
      "1476/1476 [==============================] - 1s 482us/sample - loss: 0.1731 - val_loss: 0.1735\n",
      "Epoch 133/600\n",
      "1476/1476 [==============================] - 1s 464us/sample - loss: 0.1753 - val_loss: 0.1827\n",
      "Epoch 134/600\n",
      "1476/1476 [==============================] - 1s 464us/sample - loss: 0.1766 - val_loss: 0.1725\n",
      "Epoch 135/600\n",
      "1476/1476 [==============================] - 1s 458us/sample - loss: 0.1756 - val_loss: 0.1786\n",
      "Epoch 136/600\n",
      "1476/1476 [==============================] - 1s 488us/sample - loss: 0.1768 - val_loss: 0.1787\n",
      "Epoch 137/600\n",
      "1476/1476 [==============================] - 1s 466us/sample - loss: 0.1745 - val_loss: 0.1782\n",
      "Epoch 138/600\n",
      "1476/1476 [==============================] - 1s 463us/sample - loss: 0.1759 - val_loss: 0.1733\n",
      "Epoch 139/600\n",
      "1476/1476 [==============================] - 1s 462us/sample - loss: 0.1713 - val_loss: 0.1733\n",
      "Epoch 140/600\n",
      "1476/1476 [==============================] - 1s 475us/sample - loss: 0.1745 - val_loss: 0.1760\n",
      "Epoch 141/600\n",
      "1476/1476 [==============================] - 1s 464us/sample - loss: 0.1739 - val_loss: 0.1731\n",
      "Epoch 142/600\n",
      "1476/1476 [==============================] - 1s 464us/sample - loss: 0.1722 - val_loss: 0.1783\n",
      "Epoch 143/600\n",
      "1476/1476 [==============================] - 1s 466us/sample - loss: 0.1793 - val_loss: 0.1781\n",
      "Epoch 144/600\n",
      "1476/1476 [==============================] - 1s 463us/sample - loss: 0.1782 - val_loss: 0.1823\n",
      "Epoch 145/600\n",
      "1476/1476 [==============================] - 1s 457us/sample - loss: 0.1780 - val_loss: 0.1742\n",
      "Epoch 146/600\n",
      "1476/1476 [==============================] - 1s 466us/sample - loss: 0.1738 - val_loss: 0.1756\n",
      "Epoch 147/600\n",
      "1476/1476 [==============================] - 1s 470us/sample - loss: 0.1732 - val_loss: 0.1725\n",
      "Epoch 148/600\n",
      "1476/1476 [==============================] - 1s 470us/sample - loss: 0.1751 - val_loss: 0.1731\n",
      "Epoch 149/600\n",
      "1476/1476 [==============================] - 1s 463us/sample - loss: 0.1771 - val_loss: 0.1793\n",
      "Epoch 150/600\n",
      "1476/1476 [==============================] - 1s 464us/sample - loss: 0.1731 - val_loss: 0.1799\n",
      "Epoch 151/600\n"
     ]
    },
    {
     "name": "stdout",
     "output_type": "stream",
     "text": [
      "1476/1476 [==============================] - 1s 459us/sample - loss: 0.1736 - val_loss: 0.1744\n",
      "Epoch 152/600\n",
      "1476/1476 [==============================] - 1s 469us/sample - loss: 0.1740 - val_loss: 0.1722\n",
      "Epoch 153/600\n",
      "1476/1476 [==============================] - 1s 481us/sample - loss: 0.1742 - val_loss: 0.1736\n",
      "Epoch 154/600\n",
      "1476/1476 [==============================] - 1s 470us/sample - loss: 0.1747 - val_loss: 0.1764\n",
      "Epoch 155/600\n",
      "1476/1476 [==============================] - 1s 492us/sample - loss: 0.1737 - val_loss: 0.1751\n",
      "Epoch 156/600\n",
      "1476/1476 [==============================] - 1s 469us/sample - loss: 0.1757 - val_loss: 0.1788\n",
      "Epoch 157/600\n",
      "1476/1476 [==============================] - 1s 474us/sample - loss: 0.1765 - val_loss: 0.1762\n",
      "Epoch 158/600\n",
      "1476/1476 [==============================] - 1s 463us/sample - loss: 0.1697 - val_loss: 0.1786\n",
      "Epoch 159/600\n",
      "1476/1476 [==============================] - 1s 456us/sample - loss: 0.1775 - val_loss: 0.1757\n",
      "Epoch 160/600\n",
      "1476/1476 [==============================] - 1s 468us/sample - loss: 0.1739 - val_loss: 0.1801\n",
      "Epoch 161/600\n",
      "1476/1476 [==============================] - 1s 522us/sample - loss: 0.1708 - val_loss: 0.1796\n",
      "Epoch 162/600\n",
      "1476/1476 [==============================] - 1s 506us/sample - loss: 0.1740 - val_loss: 0.1783\n",
      "Epoch 163/600\n",
      "1476/1476 [==============================] - 1s 509us/sample - loss: 0.1735 - val_loss: 0.1824\n",
      "Epoch 164/600\n",
      "1476/1476 [==============================] - 1s 503us/sample - loss: 0.1773 - val_loss: 0.1773\n",
      "Epoch 165/600\n",
      "1476/1476 [==============================] - 1s 467us/sample - loss: 0.1718 - val_loss: 0.1724\n",
      "Epoch 166/600\n",
      "1476/1476 [==============================] - 1s 475us/sample - loss: 0.1718 - val_loss: 0.1759\n",
      "Epoch 167/600\n",
      "1476/1476 [==============================] - 1s 472us/sample - loss: 0.1774 - val_loss: 0.1779\n",
      "Epoch 168/600\n",
      "1476/1476 [==============================] - 1s 472us/sample - loss: 0.1778 - val_loss: 0.1754\n",
      "Epoch 169/600\n",
      "1476/1476 [==============================] - 1s 470us/sample - loss: 0.1773 - val_loss: 0.1767\n",
      "Epoch 170/600\n",
      "1476/1476 [==============================] - 1s 476us/sample - loss: 0.1696 - val_loss: 0.1723\n",
      "Epoch 171/600\n",
      "1476/1476 [==============================] - 1s 480us/sample - loss: 0.1693 - val_loss: 0.1740\n",
      "Epoch 172/600\n",
      "1476/1476 [==============================] - 1s 463us/sample - loss: 0.1762 - val_loss: 0.1768\n",
      "Epoch 173/600\n",
      "1476/1476 [==============================] - 1s 461us/sample - loss: 0.1731 - val_loss: 0.1786\n",
      "Epoch 174/600\n",
      "1476/1476 [==============================] - 1s 463us/sample - loss: 0.1732 - val_loss: 0.1719\n",
      "Epoch 175/600\n",
      "1476/1476 [==============================] - 1s 461us/sample - loss: 0.1711 - val_loss: 0.1756\n",
      "Epoch 176/600\n",
      "1476/1476 [==============================] - 1s 461us/sample - loss: 0.1746 - val_loss: 0.1733\n",
      "Epoch 177/600\n",
      "1476/1476 [==============================] - 1s 459us/sample - loss: 0.1758 - val_loss: 0.1728\n",
      "Epoch 178/600\n",
      "1476/1476 [==============================] - 1s 468us/sample - loss: 0.1728 - val_loss: 0.1723\n",
      "Epoch 179/600\n",
      "1476/1476 [==============================] - 1s 471us/sample - loss: 0.1702 - val_loss: 0.1707\n",
      "Epoch 180/600\n",
      "1476/1476 [==============================] - 1s 465us/sample - loss: 0.1697 - val_loss: 0.1739\n",
      "Epoch 181/600\n",
      "1476/1476 [==============================] - 1s 471us/sample - loss: 0.1718 - val_loss: 0.1724\n",
      "Epoch 182/600\n",
      "1476/1476 [==============================] - 1s 466us/sample - loss: 0.1716 - val_loss: 0.1717\n",
      "Epoch 183/600\n",
      "1476/1476 [==============================] - 1s 466us/sample - loss: 0.1733 - val_loss: 0.1737\n",
      "Epoch 184/600\n",
      "1476/1476 [==============================] - 1s 461us/sample - loss: 0.1707 - val_loss: 0.1738\n",
      "Epoch 185/600\n",
      "1476/1476 [==============================] - 1s 465us/sample - loss: 0.1727 - val_loss: 0.1750\n",
      "Epoch 186/600\n",
      "1476/1476 [==============================] - 1s 477us/sample - loss: 0.1730 - val_loss: 0.1798\n",
      "Epoch 187/600\n",
      "1476/1476 [==============================] - 1s 475us/sample - loss: 0.1761 - val_loss: 0.1845\n",
      "Epoch 188/600\n",
      "1476/1476 [==============================] - 1s 503us/sample - loss: 0.1762 - val_loss: 0.1762\n",
      "Epoch 189/600\n",
      "1476/1476 [==============================] - 1s 491us/sample - loss: 0.1759 - val_loss: 0.1751\n",
      "Epoch 190/600\n",
      "1476/1476 [==============================] - 1s 469us/sample - loss: 0.1752 - val_loss: 0.1763\n",
      "Epoch 191/600\n",
      "1476/1476 [==============================] - 1s 492us/sample - loss: 0.1735 - val_loss: 0.1740\n",
      "Epoch 192/600\n",
      "1476/1476 [==============================] - 1s 490us/sample - loss: 0.1764 - val_loss: 0.1736\n",
      "Epoch 193/600\n",
      "1476/1476 [==============================] - 1s 518us/sample - loss: 0.1744 - val_loss: 0.1784\n",
      "Epoch 194/600\n",
      "1476/1476 [==============================] - 1s 524us/sample - loss: 0.1696 - val_loss: 0.1704\n",
      "Epoch 195/600\n",
      "1476/1476 [==============================] - 1s 497us/sample - loss: 0.1749 - val_loss: 0.1744\n",
      "Epoch 196/600\n",
      "1476/1476 [==============================] - 1s 489us/sample - loss: 0.1745 - val_loss: 0.1757\n",
      "Epoch 197/600\n",
      "1476/1476 [==============================] - 1s 500us/sample - loss: 0.1701 - val_loss: 0.1737\n",
      "Epoch 198/600\n",
      "1476/1476 [==============================] - 1s 490us/sample - loss: 0.1742 - val_loss: 0.1708\n",
      "Epoch 199/600\n",
      "1476/1476 [==============================] - 1s 540us/sample - loss: 0.1762 - val_loss: 0.1727\n",
      "Epoch 200/600\n",
      "1476/1476 [==============================] - 1s 474us/sample - loss: 0.1680 - val_loss: 0.1705\n",
      "Epoch 201/600\n",
      "1476/1476 [==============================] - 1s 498us/sample - loss: 0.1725 - val_loss: 0.1781\n",
      "Epoch 202/600\n",
      "1476/1476 [==============================] - 1s 481us/sample - loss: 0.1682 - val_loss: 0.1681\n",
      "Epoch 203/600\n",
      "1476/1476 [==============================] - 1s 487us/sample - loss: 0.1725 - val_loss: 0.1722\n",
      "Epoch 204/600\n",
      "1476/1476 [==============================] - 1s 487us/sample - loss: 0.1716 - val_loss: 0.1781\n",
      "Epoch 205/600\n",
      "1476/1476 [==============================] - 1s 486us/sample - loss: 0.1751 - val_loss: 0.1737\n",
      "Epoch 206/600\n",
      "1476/1476 [==============================] - 1s 499us/sample - loss: 0.1726 - val_loss: 0.1717\n",
      "Epoch 207/600\n",
      "1476/1476 [==============================] - 1s 682us/sample - loss: 0.1777 - val_loss: 0.1720\n",
      "Epoch 208/600\n",
      "1476/1476 [==============================] - 1s 474us/sample - loss: 0.1724 - val_loss: 0.1758\n",
      "Epoch 209/600\n",
      "1476/1476 [==============================] - 1s 480us/sample - loss: 0.1730 - val_loss: 0.1716\n",
      "Epoch 210/600\n",
      "1476/1476 [==============================] - 1s 486us/sample - loss: 0.1774 - val_loss: 0.1733\n",
      "Epoch 211/600\n",
      "1476/1476 [==============================] - 1s 486us/sample - loss: 0.1707 - val_loss: 0.1727\n",
      "Epoch 212/600\n",
      "1476/1476 [==============================] - 1s 487us/sample - loss: 0.1734 - val_loss: 0.1730\n",
      "Epoch 213/600\n",
      "1476/1476 [==============================] - 1s 501us/sample - loss: 0.1747 - val_loss: 0.1726\n",
      "Epoch 214/600\n",
      "1476/1476 [==============================] - 1s 484us/sample - loss: 0.1684 - val_loss: 0.1734\n",
      "Epoch 215/600\n",
      "1476/1476 [==============================] - 1s 482us/sample - loss: 0.1779 - val_loss: 0.1743\n",
      "Epoch 216/600\n",
      "1476/1476 [==============================] - 1s 484us/sample - loss: 0.1754 - val_loss: 0.1721\n",
      "Epoch 217/600\n",
      "1476/1476 [==============================] - 1s 476us/sample - loss: 0.1716 - val_loss: 0.1695\n",
      "Epoch 218/600\n",
      "1476/1476 [==============================] - 1s 474us/sample - loss: 0.1722 - val_loss: 0.1765\n",
      "Epoch 219/600\n",
      "1476/1476 [==============================] - 1s 493us/sample - loss: 0.1694 - val_loss: 0.1730\n",
      "Epoch 220/600\n",
      "1476/1476 [==============================] - 1s 477us/sample - loss: 0.1730 - val_loss: 0.1708\n",
      "Epoch 221/600\n",
      "1476/1476 [==============================] - 1s 516us/sample - loss: 0.1760 - val_loss: 0.1721\n",
      "Epoch 222/600\n",
      "1476/1476 [==============================] - 1s 468us/sample - loss: 0.1753 - val_loss: 0.1750\n",
      "Epoch 223/600\n",
      "1476/1476 [==============================] - 1s 458us/sample - loss: 0.1732 - val_loss: 0.1775\n",
      "Epoch 224/600\n",
      "1476/1476 [==============================] - 1s 471us/sample - loss: 0.1776 - val_loss: 0.1787\n",
      "Epoch 225/600\n",
      "1476/1476 [==============================] - 1s 469us/sample - loss: 0.1720 - val_loss: 0.1712\n",
      "Epoch 226/600\n"
     ]
    },
    {
     "name": "stdout",
     "output_type": "stream",
     "text": [
      "1476/1476 [==============================] - 1s 468us/sample - loss: 0.1710 - val_loss: 0.1773\n",
      "Epoch 227/600\n",
      "1476/1476 [==============================] - 1s 480us/sample - loss: 0.1724 - val_loss: 0.1747\n",
      "Epoch 228/600\n",
      "1476/1476 [==============================] - 1s 467us/sample - loss: 0.1719 - val_loss: 0.1737\n",
      "Epoch 229/600\n",
      "1476/1476 [==============================] - 1s 469us/sample - loss: 0.1734 - val_loss: 0.1721\n",
      "Epoch 230/600\n",
      "1476/1476 [==============================] - 1s 467us/sample - loss: 0.1709 - val_loss: 0.1731\n",
      "Epoch 231/600\n",
      "1476/1476 [==============================] - 1s 471us/sample - loss: 0.1731 - val_loss: 0.1730\n",
      "Epoch 232/600\n",
      "1476/1476 [==============================] - 1s 465us/sample - loss: 0.1733 - val_loss: 0.1744\n",
      "Epoch 233/600\n",
      "1476/1476 [==============================] - 1s 491us/sample - loss: 0.1742 - val_loss: 0.1730\n",
      "Epoch 234/600\n",
      "1476/1476 [==============================] - 1s 502us/sample - loss: 0.1703 - val_loss: 0.1734\n",
      "Epoch 235/600\n",
      "1476/1476 [==============================] - 1s 480us/sample - loss: 0.1739 - val_loss: 0.1691\n",
      "Epoch 236/600\n",
      "1476/1476 [==============================] - 1s 478us/sample - loss: 0.1689 - val_loss: 0.1695\n",
      "Epoch 237/600\n",
      "1476/1476 [==============================] - 1s 479us/sample - loss: 0.1766 - val_loss: 0.1737\n",
      "Epoch 238/600\n",
      "1476/1476 [==============================] - 1s 479us/sample - loss: 0.1727 - val_loss: 0.1722\n",
      "Epoch 239/600\n",
      "1476/1476 [==============================] - 1s 466us/sample - loss: 0.1716 - val_loss: 0.1754\n",
      "Epoch 240/600\n",
      "1476/1476 [==============================] - 1s 466us/sample - loss: 0.1703 - val_loss: 0.1726\n",
      "Epoch 241/600\n",
      "1476/1476 [==============================] - 1s 503us/sample - loss: 0.1701 - val_loss: 0.1725\n",
      "Epoch 242/600\n",
      "1476/1476 [==============================] - 1s 497us/sample - loss: 0.1700 - val_loss: 0.1731\n",
      "Epoch 243/600\n",
      "1476/1476 [==============================] - 1s 464us/sample - loss: 0.1750 - val_loss: 0.1760\n",
      "Epoch 244/600\n",
      "1476/1476 [==============================] - 1s 472us/sample - loss: 0.1712 - val_loss: 0.1735\n",
      "Epoch 245/600\n",
      "1476/1476 [==============================] - 1s 466us/sample - loss: 0.1740 - val_loss: 0.1744\n",
      "Epoch 246/600\n",
      "1476/1476 [==============================] - 1s 459us/sample - loss: 0.1698 - val_loss: 0.1721\n",
      "Epoch 247/600\n",
      "1476/1476 [==============================] - 1s 462us/sample - loss: 0.1707 - val_loss: 0.1711\n",
      "Epoch 248/600\n",
      "1476/1476 [==============================] - 1s 473us/sample - loss: 0.1697 - val_loss: 0.1792\n",
      "Epoch 249/600\n",
      "1476/1476 [==============================] - 1s 466us/sample - loss: 0.1758 - val_loss: 0.1756\n",
      "Epoch 250/600\n",
      "1476/1476 [==============================] - 1s 462us/sample - loss: 0.1773 - val_loss: 0.1700\n",
      "Epoch 251/600\n",
      "1476/1476 [==============================] - 1s 468us/sample - loss: 0.1732 - val_loss: 0.1726\n",
      "Epoch 252/600\n",
      "1476/1476 [==============================] - 1s 477us/sample - loss: 0.1756 - val_loss: 0.1712\n"
     ]
    },
    {
     "data": {
      "text/plain": [
       "<tensorflow.python.keras.callbacks.History at 0x1a6565d850>"
      ]
     },
     "execution_count": 279,
     "metadata": {},
     "output_type": "execute_result"
    }
   ],
   "source": [
    "model.fit(X_train, y_train,validation_data=(X_test,y_test), callbacks=[stop], epochs=600)"
   ]
  },
  {
   "cell_type": "markdown",
   "metadata": {},
   "source": [
    "### Evauating the model"
   ]
  },
  {
   "cell_type": "code",
   "execution_count": 280,
   "metadata": {},
   "outputs": [
    {
     "data": {
      "text/plain": [
       "<matplotlib.axes._subplots.AxesSubplot at 0x1a635762d0>"
      ]
     },
     "execution_count": 280,
     "metadata": {},
     "output_type": "execute_result"
    },
    {
     "data": {
      "image/png": "[encoded data removed]",
      "text/plain": [
       "<Figure size 1152x432 with 1 Axes>"
      ]
     },
     "metadata": {
      "needs_background": "light"
     },
     "output_type": "display_data"
    }
   ],
   "source": [
    "pd.DataFrame(model.history.history).plot(figsize = (16,6))"
   ]
  },
  {
   "cell_type": "markdown",
   "metadata": {},
   "source": [
    "### Predicitons"
   ]
  },
  {
   "cell_type": "code",
   "execution_count": 281,
   "metadata": {},
   "outputs": [],
   "source": [
    "predictions = model.predict(X_test)"
   ]
  },
  {
   "cell_type": "markdown",
   "metadata": {},
   "source": [
    "### Metrics "
   ]
  },
  {
   "cell_type": "code",
   "execution_count": 282,
   "metadata": {},
   "outputs": [],
   "source": [
    "from sklearn.metrics import explained_variance_score, mean_absolute_error, mean_squared_error"
   ]
  },
  {
   "cell_type": "code",
   "execution_count": 283,
   "metadata": {},
   "outputs": [
    {
     "data": {
      "text/plain": [
       "0.3394660787476599"
      ]
     },
     "execution_count": 283,
     "metadata": {},
     "output_type": "execute_result"
    }
   ],
   "source": [
    "explained_variance_score(y_test, predictions)"
   ]
  },
  {
   "cell_type": "code",
   "execution_count": 284,
   "metadata": {},
   "outputs": [
    {
     "data": {
      "text/plain": [
       "0.3227381980400326"
      ]
     },
     "execution_count": 284,
     "metadata": {},
     "output_type": "execute_result"
    }
   ],
   "source": [
    "mean_absolute_error(y_test, predictions)"
   ]
  },
  {
   "cell_type": "code",
   "execution_count": 285,
   "metadata": {},
   "outputs": [
    {
     "data": {
      "text/plain": [
       "0.1712425403211613"
      ]
     },
     "execution_count": 285,
     "metadata": {},
     "output_type": "execute_result"
    }
   ],
   "source": [
    "mean_squared_error(y_test, predictions)"
   ]
  },
  {
   "cell_type": "markdown",
   "metadata": {},
   "source": [
    "### Random Predictions"
   ]
  },
  {
   "cell_type": "code",
   "execution_count": 286,
   "metadata": {},
   "outputs": [],
   "source": [
    "from random import randint\n",
    "random_index = randint(1, len(final_data))\n",
    "random_day = final_data.drop(\"10 year\", axis=1).iloc[random_index]"
   ]
  },
  {
   "cell_type": "code",
   "execution_count": 287,
   "metadata": {},
   "outputs": [
    {
     "data": {
      "text/plain": [
       "VIX         14.56\n",
       "UVXY    379500.00\n",
       "Name: 2013-08-16 00:00:00, dtype: float64"
      ]
     },
     "execution_count": 287,
     "metadata": {},
     "output_type": "execute_result"
    }
   ],
   "source": [
    "random_day"
   ]
  },
  {
   "cell_type": "markdown",
   "metadata": {},
   "source": [
    "### We willl need to scale reshape and get the values of the random day. Since out model was trained as such"
   ]
  },
  {
   "cell_type": "code",
   "execution_count": 288,
   "metadata": {},
   "outputs": [
    {
     "data": {
      "text/plain": [
       "(1476, 2)"
      ]
     },
     "execution_count": 288,
     "metadata": {},
     "output_type": "execute_result"
    }
   ],
   "source": [
    "X_train.shape"
   ]
  },
  {
   "cell_type": "code",
   "execution_count": 289,
   "metadata": {},
   "outputs": [],
   "source": [
    "new_day = scalar.transform(random_day.values.reshape(1,2))"
   ]
  },
  {
   "cell_type": "code",
   "execution_count": 290,
   "metadata": {},
   "outputs": [
    {
     "data": {
      "text/plain": [
       "array([[2.3703775]], dtype=float32)"
      ]
     },
     "execution_count": 290,
     "metadata": {},
     "output_type": "execute_result"
    }
   ],
   "source": [
    "model.predict(new_day)"
   ]
  },
  {
   "cell_type": "code",
   "execution_count": null,
   "metadata": {},
   "outputs": [],
   "source": []
  },
  {
   "cell_type": "code",
   "execution_count": null,
   "metadata": {},
   "outputs": [],
   "source": []
  },
  {
   "cell_type": "code",
   "execution_count": null,
   "metadata": {},
   "outputs": [],
   "source": []
  },
  {
   "cell_type": "code",
   "execution_count": null,
   "metadata": {},
   "outputs": [],
   "source": []
  },
  {
   "cell_type": "code",
   "execution_count": null,
   "metadata": {},
   "outputs": [],
   "source": []
  }
 ],
 "metadata": {
  "kernelspec": {
   "display_name": "Python 3",
   "language": "python",
   "name": "python3"
  },
  "language_info": {
   "codemirror_mode": {
    "name": "ipython",
    "version": 3
   },
   "file_extension": ".py",
   "mimetype": "text/x-python",
   "name": "python",
   "nbconvert_exporter": "python",
   "pygments_lexer": "ipython3",
   "version": "3.7.6"
  }
 },
 "nbformat": 4,
 "nbformat_minor": 2
}
