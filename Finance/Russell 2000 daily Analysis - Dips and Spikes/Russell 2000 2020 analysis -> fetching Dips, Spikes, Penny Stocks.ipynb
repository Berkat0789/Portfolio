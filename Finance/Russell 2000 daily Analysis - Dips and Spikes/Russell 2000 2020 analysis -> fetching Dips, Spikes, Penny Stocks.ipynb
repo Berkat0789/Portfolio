{
 "cells": [
  {
   "cell_type": "markdown",
   "metadata": {},
   "source": [
    "### Project Overview: \n",
    "- You are to scrape the web to find every company in the Russell 2000 as of 2020. For mthis data you will calculate the Volatility of each security a well as the Daily Returns. From the Daily Returns calculate the top 20 dips and spikes for the index. \n",
    "\n",
    "- Also look for the \"Penny stocks\" that may show some promise in recent months. \n",
    "- If you were to have every stock in the Russell 2000 in a portfolio whick would hold them ost weight after a 10 year span"
   ]
  },
  {
   "cell_type": "markdown",
   "metadata": {},
   "source": [
    "### Project Approach\n",
    "- Fetch all companies in Russell 2000\n",
    "- Use pndas Datareader to get the Adj Close\n",
    "- Calculate the Daily returns for each security\n",
    "- Find the top 20 Spikes and Dips for returns \n",
    "- Put every security into a portfolio and optimize the portfolio with 10 years back data"
   ]
  },
  {
   "cell_type": "markdown",
   "metadata": {},
   "source": [
    "### libraries\n"
   ]
  },
  {
   "cell_type": "code",
   "execution_count": 2,
   "metadata": {},
   "outputs": [
    {
     "name": "stderr",
     "output_type": "stream",
     "text": [
      "/Users/berkatbhatti/opt/anaconda3/lib/python3.7/site-packages/pandas_datareader/compat/__init__.py:7: FutureWarning: pandas.util.testing is deprecated. Use the functions in the public API at pandas.testing instead.\n",
      "  from pandas.util.testing import assert_frame_equal\n"
     ]
    }
   ],
   "source": [
    "import pandas as pd \n",
    "import numpy as np\n",
    "import matplotlib.pyplot as plt\n",
    "import seaborn as sns \n",
    "from pandas_datareader import data as web"
   ]
  },
  {
   "cell_type": "code",
   "execution_count": 3,
   "metadata": {},
   "outputs": [],
   "source": [
    "russ = pd.read_excel(\"resources/Russle_2000_2020.xlsx\", index_col='Ticker')"
   ]
  },
  {
   "cell_type": "markdown",
   "metadata": {},
   "source": [
    "### Data Overview \n",
    "- For 2020 we have 1999 conpanies in the Russle 2000"
   ]
  },
  {
   "cell_type": "code",
   "execution_count": 4,
   "metadata": {},
   "outputs": [
    {
     "name": "stdout",
     "output_type": "stream",
     "text": [
      "<class 'pandas.core.frame.DataFrame'>\n",
      "Index: 1999 entries, AAN to ZYXI\n",
      "Data columns (total 1 columns):\n",
      " #   Column  Non-Null Count  Dtype \n",
      "---  ------  --------------  ----- \n",
      " 0   Name    1999 non-null   object\n",
      "dtypes: object(1)\n",
      "memory usage: 31.2+ KB\n"
     ]
    }
   ],
   "source": [
    "russ.info()"
   ]
  },
  {
   "cell_type": "markdown",
   "metadata": {},
   "source": [
    "### Adj Closes\n",
    "- Will import data already fetched previously\n",
    "- Will download the Adj Close for each security for 2020 beginning 2020-1-1 to current using pandas Datareader"
   ]
  },
  {
   "cell_type": "code",
   "execution_count": 7,
   "metadata": {},
   "outputs": [],
   "source": [
    "tickers = list(russ.index)"
   ]
  },
  {
   "cell_type": "code",
   "execution_count": 8,
   "metadata": {},
   "outputs": [],
   "source": [
    "data = pd.DataFrame()"
   ]
  },
  {
   "cell_type": "code",
   "execution_count": 14,
   "metadata": {},
   "outputs": [],
   "source": [
    "failed = []\n",
    "passed = []\n",
    "for x in tickers:\n",
    "    try:\n",
    "        data[x] = web.DataReader(x, data_source= \"yahoo\", start = \"2020-1-1\")[\"Adj Close\"]\n",
    "        passed.append(x)\n",
    "    except (IOError, KeyError):\n",
    "        msg = 'Failed to read symbol: {0!r}, replacing with NaN.'\n",
    "        failed.append(x)"
   ]
  },
  {
   "cell_type": "code",
   "execution_count": 15,
   "metadata": {},
   "outputs": [
    {
     "data": {
      "text/html": [
       "<div>\n",
       "<style scoped>\n",
       "    .dataframe tbody tr th:only-of-type {\n",
       "        vertical-align: middle;\n",
       "    }\n",
       "\n",
       "    .dataframe tbody tr th {\n",
       "        vertical-align: top;\n",
       "    }\n",
       "\n",
       "    .dataframe thead th {\n",
       "        text-align: right;\n",
       "    }\n",
       "</style>\n",
       "<table border=\"1\" class=\"dataframe\">\n",
       "  <thead>\n",
       "    <tr style=\"text-align: right;\">\n",
       "      <th></th>\n",
       "      <th>AAN</th>\n",
       "      <th>AAOI</th>\n",
       "      <th>AAON</th>\n",
       "      <th>AAT</th>\n",
       "      <th>AAWW</th>\n",
       "      <th>AAXN</th>\n",
       "      <th>ABCB</th>\n",
       "      <th>ABEO</th>\n",
       "      <th>ABG</th>\n",
       "      <th>ABM</th>\n",
       "      <th>...</th>\n",
       "      <th>YRCW</th>\n",
       "      <th>ZAGG</th>\n",
       "      <th>ZEUS</th>\n",
       "      <th>ZGNX</th>\n",
       "      <th>ZIOP</th>\n",
       "      <th>ZIXI</th>\n",
       "      <th>ZUMZ</th>\n",
       "      <th>ZUO</th>\n",
       "      <th>ZYNE</th>\n",
       "      <th>ZYXI</th>\n",
       "    </tr>\n",
       "    <tr>\n",
       "      <th>Date</th>\n",
       "      <th></th>\n",
       "      <th></th>\n",
       "      <th></th>\n",
       "      <th></th>\n",
       "      <th></th>\n",
       "      <th></th>\n",
       "      <th></th>\n",
       "      <th></th>\n",
       "      <th></th>\n",
       "      <th></th>\n",
       "      <th></th>\n",
       "      <th></th>\n",
       "      <th></th>\n",
       "      <th></th>\n",
       "      <th></th>\n",
       "      <th></th>\n",
       "      <th></th>\n",
       "      <th></th>\n",
       "      <th></th>\n",
       "      <th></th>\n",
       "      <th></th>\n",
       "    </tr>\n",
       "  </thead>\n",
       "  <tbody>\n",
       "    <tr>\n",
       "      <th>2020-01-02</th>\n",
       "      <td>57.544491</td>\n",
       "      <td>12.500</td>\n",
       "      <td>49.715336</td>\n",
       "      <td>44.363808</td>\n",
       "      <td>27.730000</td>\n",
       "      <td>76.559998</td>\n",
       "      <td>42.455322</td>\n",
       "      <td>3.21</td>\n",
       "      <td>111.330002</td>\n",
       "      <td>38.128220</td>\n",
       "      <td>...</td>\n",
       "      <td>2.580</td>\n",
       "      <td>8.100</td>\n",
       "      <td>17.666327</td>\n",
       "      <td>52.340000</td>\n",
       "      <td>4.62</td>\n",
       "      <td>6.84</td>\n",
       "      <td>34.090000</td>\n",
       "      <td>14.76</td>\n",
       "      <td>5.880</td>\n",
       "      <td>7.920000</td>\n",
       "    </tr>\n",
       "    <tr>\n",
       "      <th>2020-01-03</th>\n",
       "      <td>56.846020</td>\n",
       "      <td>12.120</td>\n",
       "      <td>50.173725</td>\n",
       "      <td>45.251480</td>\n",
       "      <td>27.450001</td>\n",
       "      <td>73.930000</td>\n",
       "      <td>42.286449</td>\n",
       "      <td>2.90</td>\n",
       "      <td>108.389999</td>\n",
       "      <td>38.028980</td>\n",
       "      <td>...</td>\n",
       "      <td>2.570</td>\n",
       "      <td>8.150</td>\n",
       "      <td>17.437153</td>\n",
       "      <td>51.080002</td>\n",
       "      <td>4.50</td>\n",
       "      <td>6.84</td>\n",
       "      <td>33.830002</td>\n",
       "      <td>14.77</td>\n",
       "      <td>5.810</td>\n",
       "      <td>8.350000</td>\n",
       "    </tr>\n",
       "    <tr>\n",
       "      <th>2020-01-06</th>\n",
       "      <td>57.554474</td>\n",
       "      <td>12.150</td>\n",
       "      <td>50.084038</td>\n",
       "      <td>45.586823</td>\n",
       "      <td>27.430000</td>\n",
       "      <td>68.750000</td>\n",
       "      <td>42.157314</td>\n",
       "      <td>2.77</td>\n",
       "      <td>107.739998</td>\n",
       "      <td>38.019058</td>\n",
       "      <td>...</td>\n",
       "      <td>2.560</td>\n",
       "      <td>8.250</td>\n",
       "      <td>17.486971</td>\n",
       "      <td>51.200001</td>\n",
       "      <td>4.49</td>\n",
       "      <td>7.32</td>\n",
       "      <td>34.410000</td>\n",
       "      <td>14.67</td>\n",
       "      <td>5.700</td>\n",
       "      <td>8.420000</td>\n",
       "    </tr>\n",
       "    <tr>\n",
       "      <th>2020-01-07</th>\n",
       "      <td>57.464668</td>\n",
       "      <td>12.430</td>\n",
       "      <td>49.974426</td>\n",
       "      <td>44.718876</td>\n",
       "      <td>26.370001</td>\n",
       "      <td>69.769997</td>\n",
       "      <td>41.869251</td>\n",
       "      <td>2.57</td>\n",
       "      <td>103.790001</td>\n",
       "      <td>37.701488</td>\n",
       "      <td>...</td>\n",
       "      <td>2.550</td>\n",
       "      <td>8.100</td>\n",
       "      <td>17.546757</td>\n",
       "      <td>51.830002</td>\n",
       "      <td>4.53</td>\n",
       "      <td>7.39</td>\n",
       "      <td>34.180000</td>\n",
       "      <td>14.69</td>\n",
       "      <td>5.560</td>\n",
       "      <td>8.540000</td>\n",
       "    </tr>\n",
       "    <tr>\n",
       "      <th>2020-01-08</th>\n",
       "      <td>58.472469</td>\n",
       "      <td>12.700</td>\n",
       "      <td>49.834915</td>\n",
       "      <td>44.856956</td>\n",
       "      <td>27.160000</td>\n",
       "      <td>69.610001</td>\n",
       "      <td>42.365921</td>\n",
       "      <td>2.62</td>\n",
       "      <td>103.129997</td>\n",
       "      <td>38.108376</td>\n",
       "      <td>...</td>\n",
       "      <td>2.410</td>\n",
       "      <td>7.990</td>\n",
       "      <td>17.626471</td>\n",
       "      <td>52.020000</td>\n",
       "      <td>4.59</td>\n",
       "      <td>7.51</td>\n",
       "      <td>34.480000</td>\n",
       "      <td>14.66</td>\n",
       "      <td>5.310</td>\n",
       "      <td>8.470000</td>\n",
       "    </tr>\n",
       "    <tr>\n",
       "      <th>...</th>\n",
       "      <td>...</td>\n",
       "      <td>...</td>\n",
       "      <td>...</td>\n",
       "      <td>...</td>\n",
       "      <td>...</td>\n",
       "      <td>...</td>\n",
       "      <td>...</td>\n",
       "      <td>...</td>\n",
       "      <td>...</td>\n",
       "      <td>...</td>\n",
       "      <td>...</td>\n",
       "      <td>...</td>\n",
       "      <td>...</td>\n",
       "      <td>...</td>\n",
       "      <td>...</td>\n",
       "      <td>...</td>\n",
       "      <td>...</td>\n",
       "      <td>...</td>\n",
       "      <td>...</td>\n",
       "      <td>...</td>\n",
       "      <td>...</td>\n",
       "    </tr>\n",
       "    <tr>\n",
       "      <th>2020-06-05</th>\n",
       "      <td>45.570000</td>\n",
       "      <td>9.980</td>\n",
       "      <td>58.369999</td>\n",
       "      <td>32.632767</td>\n",
       "      <td>44.000000</td>\n",
       "      <td>92.790001</td>\n",
       "      <td>28.530001</td>\n",
       "      <td>2.92</td>\n",
       "      <td>81.500000</td>\n",
       "      <td>36.540001</td>\n",
       "      <td>...</td>\n",
       "      <td>2.070</td>\n",
       "      <td>3.170</td>\n",
       "      <td>12.320000</td>\n",
       "      <td>29.969999</td>\n",
       "      <td>3.11</td>\n",
       "      <td>7.36</td>\n",
       "      <td>29.459999</td>\n",
       "      <td>12.75</td>\n",
       "      <td>5.410</td>\n",
       "      <td>21.430000</td>\n",
       "    </tr>\n",
       "    <tr>\n",
       "      <th>2020-06-08</th>\n",
       "      <td>49.279999</td>\n",
       "      <td>10.240</td>\n",
       "      <td>57.820000</td>\n",
       "      <td>34.640629</td>\n",
       "      <td>40.560001</td>\n",
       "      <td>97.269997</td>\n",
       "      <td>29.629999</td>\n",
       "      <td>3.01</td>\n",
       "      <td>82.610001</td>\n",
       "      <td>36.750000</td>\n",
       "      <td>...</td>\n",
       "      <td>2.380</td>\n",
       "      <td>4.490</td>\n",
       "      <td>13.080000</td>\n",
       "      <td>32.040001</td>\n",
       "      <td>3.25</td>\n",
       "      <td>7.67</td>\n",
       "      <td>30.180000</td>\n",
       "      <td>12.25</td>\n",
       "      <td>5.625</td>\n",
       "      <td>22.889999</td>\n",
       "    </tr>\n",
       "    <tr>\n",
       "      <th>2020-06-09</th>\n",
       "      <td>48.470001</td>\n",
       "      <td>9.695</td>\n",
       "      <td>57.290001</td>\n",
       "      <td>33.090000</td>\n",
       "      <td>41.310001</td>\n",
       "      <td>100.269997</td>\n",
       "      <td>28.340000</td>\n",
       "      <td>2.90</td>\n",
       "      <td>81.519997</td>\n",
       "      <td>35.560001</td>\n",
       "      <td>...</td>\n",
       "      <td>2.120</td>\n",
       "      <td>3.910</td>\n",
       "      <td>13.380000</td>\n",
       "      <td>30.870001</td>\n",
       "      <td>3.16</td>\n",
       "      <td>7.50</td>\n",
       "      <td>28.799999</td>\n",
       "      <td>12.42</td>\n",
       "      <td>5.390</td>\n",
       "      <td>20.000000</td>\n",
       "    </tr>\n",
       "    <tr>\n",
       "      <th>2020-06-10</th>\n",
       "      <td>45.630001</td>\n",
       "      <td>9.390</td>\n",
       "      <td>56.349998</td>\n",
       "      <td>30.889999</td>\n",
       "      <td>40.950001</td>\n",
       "      <td>103.250000</td>\n",
       "      <td>26.299999</td>\n",
       "      <td>2.78</td>\n",
       "      <td>78.110001</td>\n",
       "      <td>33.740002</td>\n",
       "      <td>...</td>\n",
       "      <td>1.840</td>\n",
       "      <td>3.610</td>\n",
       "      <td>12.120000</td>\n",
       "      <td>30.299999</td>\n",
       "      <td>3.28</td>\n",
       "      <td>7.21</td>\n",
       "      <td>27.129999</td>\n",
       "      <td>12.80</td>\n",
       "      <td>5.210</td>\n",
       "      <td>21.260000</td>\n",
       "    </tr>\n",
       "    <tr>\n",
       "      <th>2020-06-11</th>\n",
       "      <td>42.110001</td>\n",
       "      <td>8.900</td>\n",
       "      <td>53.410000</td>\n",
       "      <td>28.290001</td>\n",
       "      <td>39.305000</td>\n",
       "      <td>92.669998</td>\n",
       "      <td>23.660000</td>\n",
       "      <td>2.69</td>\n",
       "      <td>73.949997</td>\n",
       "      <td>31.830000</td>\n",
       "      <td>...</td>\n",
       "      <td>1.956</td>\n",
       "      <td>3.145</td>\n",
       "      <td>10.510000</td>\n",
       "      <td>29.370001</td>\n",
       "      <td>3.15</td>\n",
       "      <td>6.43</td>\n",
       "      <td>26.020000</td>\n",
       "      <td>11.99</td>\n",
       "      <td>4.870</td>\n",
       "      <td>23.959999</td>\n",
       "    </tr>\n",
       "  </tbody>\n",
       "</table>\n",
       "<p>112 rows × 1949 columns</p>\n",
       "</div>"
      ],
      "text/plain": [
       "                  AAN    AAOI       AAON        AAT       AAWW        AAXN  \\\n",
       "Date                                                                         \n",
       "2020-01-02  57.544491  12.500  49.715336  44.363808  27.730000   76.559998   \n",
       "2020-01-03  56.846020  12.120  50.173725  45.251480  27.450001   73.930000   \n",
       "2020-01-06  57.554474  12.150  50.084038  45.586823  27.430000   68.750000   \n",
       "2020-01-07  57.464668  12.430  49.974426  44.718876  26.370001   69.769997   \n",
       "2020-01-08  58.472469  12.700  49.834915  44.856956  27.160000   69.610001   \n",
       "...               ...     ...        ...        ...        ...         ...   \n",
       "2020-06-05  45.570000   9.980  58.369999  32.632767  44.000000   92.790001   \n",
       "2020-06-08  49.279999  10.240  57.820000  34.640629  40.560001   97.269997   \n",
       "2020-06-09  48.470001   9.695  57.290001  33.090000  41.310001  100.269997   \n",
       "2020-06-10  45.630001   9.390  56.349998  30.889999  40.950001  103.250000   \n",
       "2020-06-11  42.110001   8.900  53.410000  28.290001  39.305000   92.669998   \n",
       "\n",
       "                 ABCB  ABEO         ABG        ABM  ...   YRCW   ZAGG  \\\n",
       "Date                                                ...                 \n",
       "2020-01-02  42.455322  3.21  111.330002  38.128220  ...  2.580  8.100   \n",
       "2020-01-03  42.286449  2.90  108.389999  38.028980  ...  2.570  8.150   \n",
       "2020-01-06  42.157314  2.77  107.739998  38.019058  ...  2.560  8.250   \n",
       "2020-01-07  41.869251  2.57  103.790001  37.701488  ...  2.550  8.100   \n",
       "2020-01-08  42.365921  2.62  103.129997  38.108376  ...  2.410  7.990   \n",
       "...               ...   ...         ...        ...  ...    ...    ...   \n",
       "2020-06-05  28.530001  2.92   81.500000  36.540001  ...  2.070  3.170   \n",
       "2020-06-08  29.629999  3.01   82.610001  36.750000  ...  2.380  4.490   \n",
       "2020-06-09  28.340000  2.90   81.519997  35.560001  ...  2.120  3.910   \n",
       "2020-06-10  26.299999  2.78   78.110001  33.740002  ...  1.840  3.610   \n",
       "2020-06-11  23.660000  2.69   73.949997  31.830000  ...  1.956  3.145   \n",
       "\n",
       "                 ZEUS       ZGNX  ZIOP  ZIXI       ZUMZ    ZUO   ZYNE  \\\n",
       "Date                                                                    \n",
       "2020-01-02  17.666327  52.340000  4.62  6.84  34.090000  14.76  5.880   \n",
       "2020-01-03  17.437153  51.080002  4.50  6.84  33.830002  14.77  5.810   \n",
       "2020-01-06  17.486971  51.200001  4.49  7.32  34.410000  14.67  5.700   \n",
       "2020-01-07  17.546757  51.830002  4.53  7.39  34.180000  14.69  5.560   \n",
       "2020-01-08  17.626471  52.020000  4.59  7.51  34.480000  14.66  5.310   \n",
       "...               ...        ...   ...   ...        ...    ...    ...   \n",
       "2020-06-05  12.320000  29.969999  3.11  7.36  29.459999  12.75  5.410   \n",
       "2020-06-08  13.080000  32.040001  3.25  7.67  30.180000  12.25  5.625   \n",
       "2020-06-09  13.380000  30.870001  3.16  7.50  28.799999  12.42  5.390   \n",
       "2020-06-10  12.120000  30.299999  3.28  7.21  27.129999  12.80  5.210   \n",
       "2020-06-11  10.510000  29.370001  3.15  6.43  26.020000  11.99  4.870   \n",
       "\n",
       "                 ZYXI  \n",
       "Date                   \n",
       "2020-01-02   7.920000  \n",
       "2020-01-03   8.350000  \n",
       "2020-01-06   8.420000  \n",
       "2020-01-07   8.540000  \n",
       "2020-01-08   8.470000  \n",
       "...               ...  \n",
       "2020-06-05  21.430000  \n",
       "2020-06-08  22.889999  \n",
       "2020-06-09  20.000000  \n",
       "2020-06-10  21.260000  \n",
       "2020-06-11  23.959999  \n",
       "\n",
       "[112 rows x 1949 columns]"
      ]
     },
     "execution_count": 15,
     "metadata": {},
     "output_type": "execute_result"
    }
   ],
   "source": [
    "data"
   ]
  },
  {
   "cell_type": "markdown",
   "metadata": {},
   "source": [
    "### Getting todays Date as a variable "
   ]
  },
  {
   "cell_type": "code",
   "execution_count": 16,
   "metadata": {},
   "outputs": [],
   "source": [
    "todays_date = data[-1:].iloc[0].name"
   ]
  },
  {
   "cell_type": "markdown",
   "metadata": {},
   "source": [
    "### Failed and Passed\n",
    "- 54 companies failed and 1945 passed"
   ]
  },
  {
   "cell_type": "code",
   "execution_count": 17,
   "metadata": {},
   "outputs": [],
   "source": [
    "passed = pd.DataFrame(passed, columns=[\"Tickers\"])"
   ]
  },
  {
   "cell_type": "code",
   "execution_count": 18,
   "metadata": {},
   "outputs": [],
   "source": [
    "passed.to_csv(\"resources/passed_tickers.csv\")"
   ]
  },
  {
   "cell_type": "code",
   "execution_count": 19,
   "metadata": {},
   "outputs": [
    {
     "data": {
      "text/plain": [
       "50"
      ]
     },
     "execution_count": 19,
     "metadata": {},
     "output_type": "execute_result"
    }
   ],
   "source": [
    "len(failed)"
   ]
  },
  {
   "cell_type": "code",
   "execution_count": 20,
   "metadata": {},
   "outputs": [
    {
     "data": {
      "text/plain": [
       "1949"
      ]
     },
     "execution_count": 20,
     "metadata": {},
     "output_type": "execute_result"
    }
   ],
   "source": [
    "len(passed)"
   ]
  },
  {
   "cell_type": "markdown",
   "metadata": {},
   "source": [
    "### Getting Penny Stocks \n",
    "- For penny stocks we will get all companies in the Russell 2000 we will take all stocks under 10 bucks to consideration as of the begining of 2020"
   ]
  },
  {
   "cell_type": "code",
   "execution_count": 21,
   "metadata": {},
   "outputs": [],
   "source": [
    "penny_Stocks = data[data.apply(lambda x: x < 10)].dropna(axis = 1)"
   ]
  },
  {
   "cell_type": "code",
   "execution_count": 22,
   "metadata": {},
   "outputs": [
    {
     "data": {
      "text/plain": [
       "<matplotlib.axes._subplots.AxesSubplot at 0x1a1b02dbd0>"
      ]
     },
     "execution_count": 22,
     "metadata": {},
     "output_type": "execute_result"
    },
    {
     "data": {
      "image/png": "[encoded data removed]",
      "text/plain": [
       "<Figure size 1152x432 with 1 Axes>"
      ]
     },
     "metadata": {
      "needs_background": "light"
     },
     "output_type": "display_data"
    }
   ],
   "source": [
    "penny_Stocks[-1:].plot(kind = \"bar\", figsize = (16,6), legend = None)"
   ]
  },
  {
   "cell_type": "markdown",
   "metadata": {},
   "source": [
    "## Daily Returns for PennyStocks\n",
    "- We will look at the penny stocks Dips and spikes\n",
    "- Will check for today's Date"
   ]
  },
  {
   "cell_type": "code",
   "execution_count": 23,
   "metadata": {},
   "outputs": [],
   "source": [
    "penny_returns = penny_Stocks.pct_change()"
   ]
  },
  {
   "cell_type": "code",
   "execution_count": 24,
   "metadata": {},
   "outputs": [],
   "source": [
    "top_20_penny_spikes = penny_returns[-1:].transpose().sort_values(todays_date, ascending = False).head(20)"
   ]
  },
  {
   "cell_type": "code",
   "execution_count": 25,
   "metadata": {},
   "outputs": [],
   "source": [
    "top_20_penny_spikes[\"Adj Close\"] = data[list(top_20_penny_spikes.index)][-1:].transpose().values"
   ]
  },
  {
   "cell_type": "code",
   "execution_count": 26,
   "metadata": {},
   "outputs": [],
   "source": [
    "top_20_penny_spikes.columns = [\"return\", \"Adj Close\"]"
   ]
  },
  {
   "cell_type": "code",
   "execution_count": 27,
   "metadata": {
    "scrolled": true
   },
   "outputs": [
    {
     "data": {
      "text/html": [
       "<div>\n",
       "<style scoped>\n",
       "    .dataframe tbody tr th:only-of-type {\n",
       "        vertical-align: middle;\n",
       "    }\n",
       "\n",
       "    .dataframe tbody tr th {\n",
       "        vertical-align: top;\n",
       "    }\n",
       "\n",
       "    .dataframe thead th {\n",
       "        text-align: right;\n",
       "    }\n",
       "</style>\n",
       "<table border=\"1\" class=\"dataframe\">\n",
       "  <thead>\n",
       "    <tr style=\"text-align: right;\">\n",
       "      <th></th>\n",
       "      <th>return</th>\n",
       "      <th>Adj Close</th>\n",
       "    </tr>\n",
       "  </thead>\n",
       "  <tbody>\n",
       "    <tr>\n",
       "      <th>ACER</th>\n",
       "      <td>0.169381</td>\n",
       "      <td>3.5900</td>\n",
       "    </tr>\n",
       "    <tr>\n",
       "      <th>WTRH</th>\n",
       "      <td>0.092683</td>\n",
       "      <td>2.2400</td>\n",
       "    </tr>\n",
       "    <tr>\n",
       "      <th>YRCW</th>\n",
       "      <td>0.063043</td>\n",
       "      <td>1.9560</td>\n",
       "    </tr>\n",
       "    <tr>\n",
       "      <th>NEXT</th>\n",
       "      <td>0.059809</td>\n",
       "      <td>2.2150</td>\n",
       "    </tr>\n",
       "    <tr>\n",
       "      <th>FPRX</th>\n",
       "      <td>0.046117</td>\n",
       "      <td>4.3100</td>\n",
       "    </tr>\n",
       "    <tr>\n",
       "      <th>SRNE</th>\n",
       "      <td>0.042952</td>\n",
       "      <td>4.7350</td>\n",
       "    </tr>\n",
       "    <tr>\n",
       "      <th>BGG</th>\n",
       "      <td>0.026961</td>\n",
       "      <td>2.0950</td>\n",
       "    </tr>\n",
       "    <tr>\n",
       "      <th>WLL</th>\n",
       "      <td>0.021847</td>\n",
       "      <td>1.6043</td>\n",
       "    </tr>\n",
       "    <tr>\n",
       "      <th>TLRD</th>\n",
       "      <td>0.020161</td>\n",
       "      <td>1.2650</td>\n",
       "    </tr>\n",
       "    <tr>\n",
       "      <th>MNKD</th>\n",
       "      <td>0.006803</td>\n",
       "      <td>1.4800</td>\n",
       "    </tr>\n",
       "    <tr>\n",
       "      <th>LQDT</th>\n",
       "      <td>0.006579</td>\n",
       "      <td>6.1200</td>\n",
       "    </tr>\n",
       "    <tr>\n",
       "      <th>CETV</th>\n",
       "      <td>0.000000</td>\n",
       "      <td>3.7500</td>\n",
       "    </tr>\n",
       "    <tr>\n",
       "      <th>UEC</th>\n",
       "      <td>0.000000</td>\n",
       "      <td>1.0200</td>\n",
       "    </tr>\n",
       "    <tr>\n",
       "      <th>ATHX</th>\n",
       "      <td>0.000000</td>\n",
       "      <td>2.8000</td>\n",
       "    </tr>\n",
       "    <tr>\n",
       "      <th>GCAP</th>\n",
       "      <td>-0.000828</td>\n",
       "      <td>6.0350</td>\n",
       "    </tr>\n",
       "    <tr>\n",
       "      <th>FIT</th>\n",
       "      <td>-0.004039</td>\n",
       "      <td>6.1650</td>\n",
       "    </tr>\n",
       "    <tr>\n",
       "      <th>MEET</th>\n",
       "      <td>-0.005627</td>\n",
       "      <td>6.1850</td>\n",
       "    </tr>\n",
       "    <tr>\n",
       "      <th>UUUU</th>\n",
       "      <td>-0.009202</td>\n",
       "      <td>1.6150</td>\n",
       "    </tr>\n",
       "    <tr>\n",
       "      <th>PMBC</th>\n",
       "      <td>-0.010582</td>\n",
       "      <td>3.7400</td>\n",
       "    </tr>\n",
       "    <tr>\n",
       "      <th>ADMA</th>\n",
       "      <td>-0.013793</td>\n",
       "      <td>2.8600</td>\n",
       "    </tr>\n",
       "  </tbody>\n",
       "</table>\n",
       "</div>"
      ],
      "text/plain": [
       "        return  Adj Close\n",
       "ACER  0.169381     3.5900\n",
       "WTRH  0.092683     2.2400\n",
       "YRCW  0.063043     1.9560\n",
       "NEXT  0.059809     2.2150\n",
       "FPRX  0.046117     4.3100\n",
       "SRNE  0.042952     4.7350\n",
       "BGG   0.026961     2.0950\n",
       "WLL   0.021847     1.6043\n",
       "TLRD  0.020161     1.2650\n",
       "MNKD  0.006803     1.4800\n",
       "LQDT  0.006579     6.1200\n",
       "CETV  0.000000     3.7500\n",
       "UEC   0.000000     1.0200\n",
       "ATHX  0.000000     2.8000\n",
       "GCAP -0.000828     6.0350\n",
       "FIT  -0.004039     6.1650\n",
       "MEET -0.005627     6.1850\n",
       "UUUU -0.009202     1.6150\n",
       "PMBC -0.010582     3.7400\n",
       "ADMA -0.013793     2.8600"
      ]
     },
     "execution_count": 27,
     "metadata": {},
     "output_type": "execute_result"
    }
   ],
   "source": [
    "top_20_penny_spikes"
   ]
  },
  {
   "cell_type": "markdown",
   "metadata": {},
   "source": [
    "## Penny Dips \n",
    "- Will loook at top 20 penny shares that took the biggest dips"
   ]
  },
  {
   "cell_type": "code",
   "execution_count": 28,
   "metadata": {},
   "outputs": [],
   "source": [
    "top_20_penny_dips = penny_returns[-1:].transpose().sort_values(todays_date, ascending = True).head(20)"
   ]
  },
  {
   "cell_type": "code",
   "execution_count": 29,
   "metadata": {},
   "outputs": [],
   "source": [
    "top_20_penny_dips[\"Adj Close\"] = data[list(top_20_penny_dips.index)][-1:].transpose().values"
   ]
  },
  {
   "cell_type": "code",
   "execution_count": 30,
   "metadata": {},
   "outputs": [],
   "source": [
    "top_20_penny_dips.columns = [\"returns\", \" Adj Close\"]"
   ]
  },
  {
   "cell_type": "code",
   "execution_count": 31,
   "metadata": {},
   "outputs": [],
   "source": [
    "top_20_penny_dips.to_csv(\"resources/top_20_penny_dips.csv\")"
   ]
  },
  {
   "cell_type": "code",
   "execution_count": 32,
   "metadata": {},
   "outputs": [
    {
     "data": {
      "text/html": [
       "<div>\n",
       "<style scoped>\n",
       "    .dataframe tbody tr th:only-of-type {\n",
       "        vertical-align: middle;\n",
       "    }\n",
       "\n",
       "    .dataframe tbody tr th {\n",
       "        vertical-align: top;\n",
       "    }\n",
       "\n",
       "    .dataframe thead th {\n",
       "        text-align: right;\n",
       "    }\n",
       "</style>\n",
       "<table border=\"1\" class=\"dataframe\">\n",
       "  <thead>\n",
       "    <tr style=\"text-align: right;\">\n",
       "      <th></th>\n",
       "      <th>returns</th>\n",
       "      <th>Adj Close</th>\n",
       "    </tr>\n",
       "  </thead>\n",
       "  <tbody>\n",
       "    <tr>\n",
       "      <th>MBIO</th>\n",
       "      <td>-0.293478</td>\n",
       "      <td>3.2500</td>\n",
       "    </tr>\n",
       "    <tr>\n",
       "      <th>GCI</th>\n",
       "      <td>-0.245594</td>\n",
       "      <td>1.9690</td>\n",
       "    </tr>\n",
       "    <tr>\n",
       "      <th>JILL</th>\n",
       "      <td>-0.211361</td>\n",
       "      <td>0.7011</td>\n",
       "    </tr>\n",
       "    <tr>\n",
       "      <th>TUSK</th>\n",
       "      <td>-0.208602</td>\n",
       "      <td>1.8400</td>\n",
       "    </tr>\n",
       "    <tr>\n",
       "      <th>TELL</th>\n",
       "      <td>-0.205192</td>\n",
       "      <td>1.2399</td>\n",
       "    </tr>\n",
       "    <tr>\n",
       "      <th>HNRG</th>\n",
       "      <td>-0.203463</td>\n",
       "      <td>0.9200</td>\n",
       "    </tr>\n",
       "    <tr>\n",
       "      <th>LTRPA</th>\n",
       "      <td>-0.198387</td>\n",
       "      <td>2.4850</td>\n",
       "    </tr>\n",
       "    <tr>\n",
       "      <th>TCS</th>\n",
       "      <td>-0.197101</td>\n",
       "      <td>2.7700</td>\n",
       "    </tr>\n",
       "    <tr>\n",
       "      <th>WPG</th>\n",
       "      <td>-0.193548</td>\n",
       "      <td>1.0000</td>\n",
       "    </tr>\n",
       "    <tr>\n",
       "      <th>AFI</th>\n",
       "      <td>-0.192802</td>\n",
       "      <td>3.1400</td>\n",
       "    </tr>\n",
       "    <tr>\n",
       "      <th>CHAP</th>\n",
       "      <td>-0.192483</td>\n",
       "      <td>0.7090</td>\n",
       "    </tr>\n",
       "    <tr>\n",
       "      <th>TEUM</th>\n",
       "      <td>-0.190899</td>\n",
       "      <td>0.7201</td>\n",
       "    </tr>\n",
       "    <tr>\n",
       "      <th>PYX</th>\n",
       "      <td>-0.190269</td>\n",
       "      <td>3.0122</td>\n",
       "    </tr>\n",
       "    <tr>\n",
       "      <th>ELVT</th>\n",
       "      <td>-0.186567</td>\n",
       "      <td>2.1800</td>\n",
       "    </tr>\n",
       "    <tr>\n",
       "      <th>TUP</th>\n",
       "      <td>-0.186296</td>\n",
       "      <td>4.2394</td>\n",
       "    </tr>\n",
       "    <tr>\n",
       "      <th>GOGO</th>\n",
       "      <td>-0.183333</td>\n",
       "      <td>2.4500</td>\n",
       "    </tr>\n",
       "    <tr>\n",
       "      <th>SLCA</th>\n",
       "      <td>-0.183090</td>\n",
       "      <td>3.3575</td>\n",
       "    </tr>\n",
       "    <tr>\n",
       "      <th>XELA</th>\n",
       "      <td>-0.182143</td>\n",
       "      <td>0.4580</td>\n",
       "    </tr>\n",
       "    <tr>\n",
       "      <th>HLX</th>\n",
       "      <td>-0.182105</td>\n",
       "      <td>3.8850</td>\n",
       "    </tr>\n",
       "    <tr>\n",
       "      <th>DNR</th>\n",
       "      <td>-0.180755</td>\n",
       "      <td>0.4342</td>\n",
       "    </tr>\n",
       "  </tbody>\n",
       "</table>\n",
       "</div>"
      ],
      "text/plain": [
       "        returns   Adj Close\n",
       "MBIO  -0.293478      3.2500\n",
       "GCI   -0.245594      1.9690\n",
       "JILL  -0.211361      0.7011\n",
       "TUSK  -0.208602      1.8400\n",
       "TELL  -0.205192      1.2399\n",
       "HNRG  -0.203463      0.9200\n",
       "LTRPA -0.198387      2.4850\n",
       "TCS   -0.197101      2.7700\n",
       "WPG   -0.193548      1.0000\n",
       "AFI   -0.192802      3.1400\n",
       "CHAP  -0.192483      0.7090\n",
       "TEUM  -0.190899      0.7201\n",
       "PYX   -0.190269      3.0122\n",
       "ELVT  -0.186567      2.1800\n",
       "TUP   -0.186296      4.2394\n",
       "GOGO  -0.183333      2.4500\n",
       "SLCA  -0.183090      3.3575\n",
       "XELA  -0.182143      0.4580\n",
       "HLX   -0.182105      3.8850\n",
       "DNR   -0.180755      0.4342"
      ]
     },
     "execution_count": 32,
     "metadata": {},
     "output_type": "execute_result"
    }
   ],
   "source": [
    "top_20_penny_dips"
   ]
  },
  {
   "cell_type": "markdown",
   "metadata": {},
   "source": [
    "### Entire Index DIPS\n",
    "- We will look at the dips for the entire market"
   ]
  },
  {
   "cell_type": "code",
   "execution_count": 33,
   "metadata": {},
   "outputs": [],
   "source": [
    "index_returns = data.pct_change()"
   ]
  },
  {
   "cell_type": "code",
   "execution_count": 34,
   "metadata": {},
   "outputs": [],
   "source": [
    "russ_top_30_dips = index_returns[-1:].transpose().sort_values(todays_date).head(30)"
   ]
  },
  {
   "cell_type": "code",
   "execution_count": 35,
   "metadata": {},
   "outputs": [],
   "source": [
    "russ_top_30_dips[\"Adj Close\"] = data[list(russ_top_30_dips.index)][-1:].transpose()[todays_date].values"
   ]
  },
  {
   "cell_type": "code",
   "execution_count": 36,
   "metadata": {},
   "outputs": [],
   "source": [
    "russ_top_30_dips.columns = [\"returns\", \"Adj Close\"]"
   ]
  },
  {
   "cell_type": "code",
   "execution_count": 37,
   "metadata": {},
   "outputs": [
    {
     "data": {
      "text/html": [
       "<div>\n",
       "<style scoped>\n",
       "    .dataframe tbody tr th:only-of-type {\n",
       "        vertical-align: middle;\n",
       "    }\n",
       "\n",
       "    .dataframe tbody tr th {\n",
       "        vertical-align: top;\n",
       "    }\n",
       "\n",
       "    .dataframe thead th {\n",
       "        text-align: right;\n",
       "    }\n",
       "</style>\n",
       "<table border=\"1\" class=\"dataframe\">\n",
       "  <thead>\n",
       "    <tr style=\"text-align: right;\">\n",
       "      <th></th>\n",
       "      <th>returns</th>\n",
       "      <th>Adj Close</th>\n",
       "    </tr>\n",
       "  </thead>\n",
       "  <tbody>\n",
       "    <tr>\n",
       "      <th>MBIO</th>\n",
       "      <td>-0.293478</td>\n",
       "      <td>3.2500</td>\n",
       "    </tr>\n",
       "    <tr>\n",
       "      <th>GCI</th>\n",
       "      <td>-0.245594</td>\n",
       "      <td>1.9690</td>\n",
       "    </tr>\n",
       "    <tr>\n",
       "      <th>JILL</th>\n",
       "      <td>-0.211361</td>\n",
       "      <td>0.7011</td>\n",
       "    </tr>\n",
       "    <tr>\n",
       "      <th>TUSK</th>\n",
       "      <td>-0.208602</td>\n",
       "      <td>1.8400</td>\n",
       "    </tr>\n",
       "    <tr>\n",
       "      <th>MITT</th>\n",
       "      <td>-0.205929</td>\n",
       "      <td>4.9550</td>\n",
       "    </tr>\n",
       "    <tr>\n",
       "      <th>TELL</th>\n",
       "      <td>-0.205192</td>\n",
       "      <td>1.2399</td>\n",
       "    </tr>\n",
       "    <tr>\n",
       "      <th>HNRG</th>\n",
       "      <td>-0.203463</td>\n",
       "      <td>0.9200</td>\n",
       "    </tr>\n",
       "    <tr>\n",
       "      <th>BTU</th>\n",
       "      <td>-0.198581</td>\n",
       "      <td>3.6144</td>\n",
       "    </tr>\n",
       "    <tr>\n",
       "      <th>LTRPA</th>\n",
       "      <td>-0.198387</td>\n",
       "      <td>2.4850</td>\n",
       "    </tr>\n",
       "    <tr>\n",
       "      <th>TCS</th>\n",
       "      <td>-0.197101</td>\n",
       "      <td>2.7700</td>\n",
       "    </tr>\n",
       "    <tr>\n",
       "      <th>BV</th>\n",
       "      <td>-0.196259</td>\n",
       "      <td>11.8150</td>\n",
       "    </tr>\n",
       "    <tr>\n",
       "      <th>WPG</th>\n",
       "      <td>-0.193548</td>\n",
       "      <td>1.0000</td>\n",
       "    </tr>\n",
       "    <tr>\n",
       "      <th>AFI</th>\n",
       "      <td>-0.192802</td>\n",
       "      <td>3.1400</td>\n",
       "    </tr>\n",
       "    <tr>\n",
       "      <th>CHAP</th>\n",
       "      <td>-0.192483</td>\n",
       "      <td>0.7090</td>\n",
       "    </tr>\n",
       "    <tr>\n",
       "      <th>TEUM</th>\n",
       "      <td>-0.190899</td>\n",
       "      <td>0.7201</td>\n",
       "    </tr>\n",
       "    <tr>\n",
       "      <th>PYX</th>\n",
       "      <td>-0.190269</td>\n",
       "      <td>3.0122</td>\n",
       "    </tr>\n",
       "    <tr>\n",
       "      <th>ELVT</th>\n",
       "      <td>-0.186567</td>\n",
       "      <td>2.1800</td>\n",
       "    </tr>\n",
       "    <tr>\n",
       "      <th>TUP</th>\n",
       "      <td>-0.186296</td>\n",
       "      <td>4.2394</td>\n",
       "    </tr>\n",
       "    <tr>\n",
       "      <th>GOGO</th>\n",
       "      <td>-0.183333</td>\n",
       "      <td>2.4500</td>\n",
       "    </tr>\n",
       "    <tr>\n",
       "      <th>SLCA</th>\n",
       "      <td>-0.183090</td>\n",
       "      <td>3.3575</td>\n",
       "    </tr>\n",
       "    <tr>\n",
       "      <th>XELA</th>\n",
       "      <td>-0.182143</td>\n",
       "      <td>0.4580</td>\n",
       "    </tr>\n",
       "    <tr>\n",
       "      <th>HLX</th>\n",
       "      <td>-0.182105</td>\n",
       "      <td>3.8850</td>\n",
       "    </tr>\n",
       "    <tr>\n",
       "      <th>DNR</th>\n",
       "      <td>-0.180755</td>\n",
       "      <td>0.4342</td>\n",
       "    </tr>\n",
       "    <tr>\n",
       "      <th>TH</th>\n",
       "      <td>-0.178082</td>\n",
       "      <td>2.4000</td>\n",
       "    </tr>\n",
       "    <tr>\n",
       "      <th>XAN</th>\n",
       "      <td>-0.177573</td>\n",
       "      <td>2.8127</td>\n",
       "    </tr>\n",
       "    <tr>\n",
       "      <th>RRGB</th>\n",
       "      <td>-0.177442</td>\n",
       "      <td>11.9600</td>\n",
       "    </tr>\n",
       "    <tr>\n",
       "      <th>INSE</th>\n",
       "      <td>-0.176991</td>\n",
       "      <td>2.7900</td>\n",
       "    </tr>\n",
       "    <tr>\n",
       "      <th>TEN</th>\n",
       "      <td>-0.175390</td>\n",
       "      <td>7.4050</td>\n",
       "    </tr>\n",
       "    <tr>\n",
       "      <th>BELFB</th>\n",
       "      <td>-0.174561</td>\n",
       "      <td>9.4100</td>\n",
       "    </tr>\n",
       "    <tr>\n",
       "      <th>WTTR</th>\n",
       "      <td>-0.174455</td>\n",
       "      <td>5.3000</td>\n",
       "    </tr>\n",
       "  </tbody>\n",
       "</table>\n",
       "</div>"
      ],
      "text/plain": [
       "        returns  Adj Close\n",
       "MBIO  -0.293478     3.2500\n",
       "GCI   -0.245594     1.9690\n",
       "JILL  -0.211361     0.7011\n",
       "TUSK  -0.208602     1.8400\n",
       "MITT  -0.205929     4.9550\n",
       "TELL  -0.205192     1.2399\n",
       "HNRG  -0.203463     0.9200\n",
       "BTU   -0.198581     3.6144\n",
       "LTRPA -0.198387     2.4850\n",
       "TCS   -0.197101     2.7700\n",
       "BV    -0.196259    11.8150\n",
       "WPG   -0.193548     1.0000\n",
       "AFI   -0.192802     3.1400\n",
       "CHAP  -0.192483     0.7090\n",
       "TEUM  -0.190899     0.7201\n",
       "PYX   -0.190269     3.0122\n",
       "ELVT  -0.186567     2.1800\n",
       "TUP   -0.186296     4.2394\n",
       "GOGO  -0.183333     2.4500\n",
       "SLCA  -0.183090     3.3575\n",
       "XELA  -0.182143     0.4580\n",
       "HLX   -0.182105     3.8850\n",
       "DNR   -0.180755     0.4342\n",
       "TH    -0.178082     2.4000\n",
       "XAN   -0.177573     2.8127\n",
       "RRGB  -0.177442    11.9600\n",
       "INSE  -0.176991     2.7900\n",
       "TEN   -0.175390     7.4050\n",
       "BELFB -0.174561     9.4100\n",
       "WTTR  -0.174455     5.3000"
      ]
     },
     "execution_count": 37,
     "metadata": {},
     "output_type": "execute_result"
    }
   ],
   "source": [
    "russ_top_30_dips"
   ]
  },
  {
   "cell_type": "markdown",
   "metadata": {},
   "source": [
    "### Russ Spikes"
   ]
  },
  {
   "cell_type": "code",
   "execution_count": 40,
   "metadata": {},
   "outputs": [],
   "source": [
    "russ_top_30_spikes = index_returns[-1:].transpose().sort_values(todays_date, ascending = False).head(30)"
   ]
  },
  {
   "cell_type": "code",
   "execution_count": 44,
   "metadata": {},
   "outputs": [],
   "source": [
    "russ_top_30_spikes[\"ADj Close\"] = data[list(russ_top_30_spikes.index)][-1:].transpose()"
   ]
  },
  {
   "cell_type": "code",
   "execution_count": 46,
   "metadata": {},
   "outputs": [],
   "source": [
    "russ_top_30_spikes.columns = [\"returns\", \"Adj Close\"]"
   ]
  },
  {
   "cell_type": "code",
   "execution_count": 47,
   "metadata": {
    "scrolled": false
   },
   "outputs": [
    {
     "data": {
      "text/html": [
       "<div>\n",
       "<style scoped>\n",
       "    .dataframe tbody tr th:only-of-type {\n",
       "        vertical-align: middle;\n",
       "    }\n",
       "\n",
       "    .dataframe tbody tr th {\n",
       "        vertical-align: top;\n",
       "    }\n",
       "\n",
       "    .dataframe thead th {\n",
       "        text-align: right;\n",
       "    }\n",
       "</style>\n",
       "<table border=\"1\" class=\"dataframe\">\n",
       "  <thead>\n",
       "    <tr style=\"text-align: right;\">\n",
       "      <th></th>\n",
       "      <th>returns</th>\n",
       "      <th>Adj Close</th>\n",
       "    </tr>\n",
       "  </thead>\n",
       "  <tbody>\n",
       "    <tr>\n",
       "      <th>GRPN</th>\n",
       "      <td>13.856115</td>\n",
       "      <td>20.650000</td>\n",
       "    </tr>\n",
       "    <tr>\n",
       "      <th>RETA</th>\n",
       "      <td>0.305912</td>\n",
       "      <td>170.970001</td>\n",
       "    </tr>\n",
       "    <tr>\n",
       "      <th>ACER</th>\n",
       "      <td>0.169381</td>\n",
       "      <td>3.590000</td>\n",
       "    </tr>\n",
       "    <tr>\n",
       "      <th>ZYXI</th>\n",
       "      <td>0.126999</td>\n",
       "      <td>23.959999</td>\n",
       "    </tr>\n",
       "    <tr>\n",
       "      <th>WTRH</th>\n",
       "      <td>0.092683</td>\n",
       "      <td>2.240000</td>\n",
       "    </tr>\n",
       "    <tr>\n",
       "      <th>YRCW</th>\n",
       "      <td>0.063043</td>\n",
       "      <td>1.956000</td>\n",
       "    </tr>\n",
       "    <tr>\n",
       "      <th>PFSI</th>\n",
       "      <td>0.062941</td>\n",
       "      <td>37.660000</td>\n",
       "    </tr>\n",
       "    <tr>\n",
       "      <th>NEXT</th>\n",
       "      <td>0.059809</td>\n",
       "      <td>2.215000</td>\n",
       "    </tr>\n",
       "    <tr>\n",
       "      <th>SONO</th>\n",
       "      <td>0.052224</td>\n",
       "      <td>12.489900</td>\n",
       "    </tr>\n",
       "    <tr>\n",
       "      <th>AMBC</th>\n",
       "      <td>0.050704</td>\n",
       "      <td>14.920000</td>\n",
       "    </tr>\n",
       "    <tr>\n",
       "      <th>FPRX</th>\n",
       "      <td>0.046117</td>\n",
       "      <td>4.310000</td>\n",
       "    </tr>\n",
       "    <tr>\n",
       "      <th>SRNE</th>\n",
       "      <td>0.042952</td>\n",
       "      <td>4.735000</td>\n",
       "    </tr>\n",
       "    <tr>\n",
       "      <th>TCI</th>\n",
       "      <td>0.035912</td>\n",
       "      <td>30.000000</td>\n",
       "    </tr>\n",
       "    <tr>\n",
       "      <th>GNMK</th>\n",
       "      <td>0.031024</td>\n",
       "      <td>9.970000</td>\n",
       "    </tr>\n",
       "    <tr>\n",
       "      <th>BGG</th>\n",
       "      <td>0.026961</td>\n",
       "      <td>2.095000</td>\n",
       "    </tr>\n",
       "    <tr>\n",
       "      <th>BREW</th>\n",
       "      <td>0.024503</td>\n",
       "      <td>15.470000</td>\n",
       "    </tr>\n",
       "    <tr>\n",
       "      <th>WLL</th>\n",
       "      <td>0.021847</td>\n",
       "      <td>1.604300</td>\n",
       "    </tr>\n",
       "    <tr>\n",
       "      <th>EXPI</th>\n",
       "      <td>0.021404</td>\n",
       "      <td>11.930000</td>\n",
       "    </tr>\n",
       "    <tr>\n",
       "      <th>TLRD</th>\n",
       "      <td>0.020161</td>\n",
       "      <td>1.265000</td>\n",
       "    </tr>\n",
       "    <tr>\n",
       "      <th>DNLI</th>\n",
       "      <td>0.019040</td>\n",
       "      <td>26.219900</td>\n",
       "    </tr>\n",
       "    <tr>\n",
       "      <th>SGMO</th>\n",
       "      <td>0.017016</td>\n",
       "      <td>11.248200</td>\n",
       "    </tr>\n",
       "    <tr>\n",
       "      <th>TDOC</th>\n",
       "      <td>0.015364</td>\n",
       "      <td>179.425003</td>\n",
       "    </tr>\n",
       "    <tr>\n",
       "      <th>BAND</th>\n",
       "      <td>0.015082</td>\n",
       "      <td>119.129997</td>\n",
       "    </tr>\n",
       "    <tr>\n",
       "      <th>RGR</th>\n",
       "      <td>0.013695</td>\n",
       "      <td>70.320000</td>\n",
       "    </tr>\n",
       "    <tr>\n",
       "      <th>OSPN</th>\n",
       "      <td>0.011484</td>\n",
       "      <td>22.020000</td>\n",
       "    </tr>\n",
       "    <tr>\n",
       "      <th>EGHT</th>\n",
       "      <td>0.009749</td>\n",
       "      <td>14.500000</td>\n",
       "    </tr>\n",
       "    <tr>\n",
       "      <th>MGNX</th>\n",
       "      <td>0.007576</td>\n",
       "      <td>19.950001</td>\n",
       "    </tr>\n",
       "    <tr>\n",
       "      <th>MNKD</th>\n",
       "      <td>0.006803</td>\n",
       "      <td>1.480000</td>\n",
       "    </tr>\n",
       "    <tr>\n",
       "      <th>LQDT</th>\n",
       "      <td>0.006579</td>\n",
       "      <td>6.120000</td>\n",
       "    </tr>\n",
       "    <tr>\n",
       "      <th>CIX</th>\n",
       "      <td>0.004993</td>\n",
       "      <td>14.090000</td>\n",
       "    </tr>\n",
       "  </tbody>\n",
       "</table>\n",
       "</div>"
      ],
      "text/plain": [
       "        returns   Adj Close\n",
       "GRPN  13.856115   20.650000\n",
       "RETA   0.305912  170.970001\n",
       "ACER   0.169381    3.590000\n",
       "ZYXI   0.126999   23.959999\n",
       "WTRH   0.092683    2.240000\n",
       "YRCW   0.063043    1.956000\n",
       "PFSI   0.062941   37.660000\n",
       "NEXT   0.059809    2.215000\n",
       "SONO   0.052224   12.489900\n",
       "AMBC   0.050704   14.920000\n",
       "FPRX   0.046117    4.310000\n",
       "SRNE   0.042952    4.735000\n",
       "TCI    0.035912   30.000000\n",
       "GNMK   0.031024    9.970000\n",
       "BGG    0.026961    2.095000\n",
       "BREW   0.024503   15.470000\n",
       "WLL    0.021847    1.604300\n",
       "EXPI   0.021404   11.930000\n",
       "TLRD   0.020161    1.265000\n",
       "DNLI   0.019040   26.219900\n",
       "SGMO   0.017016   11.248200\n",
       "TDOC   0.015364  179.425003\n",
       "BAND   0.015082  119.129997\n",
       "RGR    0.013695   70.320000\n",
       "OSPN   0.011484   22.020000\n",
       "EGHT   0.009749   14.500000\n",
       "MGNX   0.007576   19.950001\n",
       "MNKD   0.006803    1.480000\n",
       "LQDT   0.006579    6.120000\n",
       "CIX    0.004993   14.090000"
      ]
     },
     "execution_count": 47,
     "metadata": {},
     "output_type": "execute_result"
    }
   ],
   "source": [
    " russ_top_30_spikes"
   ]
  },
  {
   "cell_type": "code",
   "execution_count": null,
   "metadata": {},
   "outputs": [],
   "source": []
  },
  {
   "cell_type": "code",
   "execution_count": null,
   "metadata": {},
   "outputs": [],
   "source": []
  },
  {
   "cell_type": "code",
   "execution_count": null,
   "metadata": {},
   "outputs": [],
   "source": []
  },
  {
   "cell_type": "code",
   "execution_count": null,
   "metadata": {},
   "outputs": [],
   "source": []
  },
  {
   "cell_type": "markdown",
   "metadata": {},
   "source": [
    "### Russell 2000 as a portfolio - 2020\n",
    " - We want to know which 20 companies in the russell 2000 would have generated the highest returns for 2020 so far. \n",
    " - there are a little over 1900 companies listed  in the russell 2000 \n",
    " - We will create 2000 portfolios that will contain these companies and reandomly weigh each\n",
    " - based of the daily returns of each company we can generate the expected returns as well as a sharp ratio for each portfolio in the 2000\n",
    " - USing this we will find the portfilio with the highest return, best sharp, and lowest vol"
   ]
  },
  {
   "cell_type": "code",
   "execution_count": 50,
   "metadata": {},
   "outputs": [],
   "source": [
    "daily_returns = data.pct_change()"
   ]
  },
  {
   "cell_type": "code",
   "execution_count": 132,
   "metadata": {},
   "outputs": [
    {
     "data": {
      "text/plain": [
       "nan"
      ]
     },
     "execution_count": 132,
     "metadata": {},
     "output_type": "execute_result"
    }
   ],
   "source": [
    "np.dot(weights.T, np.dot(daily_returns.cov() * 252, weights))"
   ]
  },
  {
   "cell_type": "code",
   "execution_count": 116,
   "metadata": {},
   "outputs": [],
   "source": []
  },
  {
   "cell_type": "code",
   "execution_count": 131,
   "metadata": {},
   "outputs": [],
   "source": [
    "n_portfolios = 2\n",
    "all_weights = np.zeros((n_portfolios, len(passed)))\n",
    "all_returns = np.zeros(n_portfolios)\n",
    "all_vol = np.zeros(n_portfolios)\n",
    "all_sharp = np.zeros(n_portfolios)\n",
    "\n",
    "for ind in range(n_portfolios):\n",
    "    weights = np.array(np.random.random(len(passed)))\n",
    "    weights = weights/weights.sum()\n",
    "    \n",
    "    all_weights[ind,:] = weights\n",
    "    \n",
    "    all_returns[ind] = np.sum(daily_returns.mean() * weights) * 252 \n",
    "    all_vol[ind] = np.sqrt(np.dot(weights.T, np.dot(daily_returns.cov() * 252, weights)))\n",
    "    all_sharp[ind] = all_returns[ind]/all_vol[ind]"
   ]
  },
  {
   "cell_type": "markdown",
   "metadata": {},
   "source": [
    "### Max Sharp"
   ]
  },
  {
   "cell_type": "code",
   "execution_count": 121,
   "metadata": {},
   "outputs": [
    {
     "data": {
      "text/plain": [
       "array([nan, nan])"
      ]
     },
     "execution_count": 121,
     "metadata": {},
     "output_type": "execute_result"
    }
   ],
   "source": [
    "all_vol"
   ]
  },
  {
   "cell_type": "code",
   "execution_count": 82,
   "metadata": {},
   "outputs": [
    {
     "data": {
      "text/plain": [
       "1949"
      ]
     },
     "execution_count": 82,
     "metadata": {},
     "output_type": "execute_result"
    }
   ],
   "source": [
    "len(daily_returns.columns)"
   ]
  },
  {
   "cell_type": "code",
   "execution_count": 84,
   "metadata": {},
   "outputs": [
    {
     "data": {
      "text/plain": [
       "array([[4.78195761e-04, 8.50458422e-04, 4.25905677e-04, ...,\n",
       "        2.97076367e-04, 3.56650973e-04, 3.62439410e-04],\n",
       "       [3.82310607e-04, 7.80765879e-04, 8.10237632e-04, ...,\n",
       "        2.64558726e-04, 5.80813138e-04, 2.55538646e-04],\n",
       "       [1.11214728e-04, 4.13172107e-04, 2.77387857e-04, ...,\n",
       "        8.35499385e-04, 1.00353526e-03, 1.67552420e-04],\n",
       "       ...,\n",
       "       [8.67162780e-05, 7.78356380e-04, 8.49526891e-04, ...,\n",
       "        5.53994252e-05, 2.49550716e-04, 2.56961294e-04],\n",
       "       [5.55246918e-05, 6.38162371e-04, 3.49017559e-04, ...,\n",
       "        9.12118880e-04, 4.09848959e-04, 9.69914389e-04],\n",
       "       [7.35273599e-04, 8.22280593e-05, 6.18455408e-05, ...,\n",
       "        1.73483547e-04, 7.10733888e-04, 6.26117192e-05]])"
      ]
     },
     "execution_count": 84,
     "metadata": {},
     "output_type": "execute_result"
    }
   ],
   "source": [
    "all_weights"
   ]
  },
  {
   "cell_type": "code",
   "execution_count": 81,
   "metadata": {},
   "outputs": [
    {
     "data": {
      "text/plain": [
       "1949"
      ]
     },
     "execution_count": 81,
     "metadata": {},
     "output_type": "execute_result"
    }
   ],
   "source": [
    "len(passed)"
   ]
  },
  {
   "cell_type": "code",
   "execution_count": 70,
   "metadata": {},
   "outputs": [],
   "source": [
    "max_sharp = all_sharps.argmax()"
   ]
  },
  {
   "cell_type": "code",
   "execution_count": 71,
   "metadata": {},
   "outputs": [
    {
     "data": {
      "text/plain": [
       "0"
      ]
     },
     "execution_count": 71,
     "metadata": {},
     "output_type": "execute_result"
    }
   ],
   "source": [
    "max_sharp"
   ]
  },
  {
   "cell_type": "code",
   "execution_count": null,
   "metadata": {},
   "outputs": [],
   "source": []
  },
  {
   "cell_type": "code",
   "execution_count": 72,
   "metadata": {},
   "outputs": [],
   "source": [
    "max_return = all_returns.argmax()"
   ]
  },
  {
   "cell_type": "code",
   "execution_count": 73,
   "metadata": {},
   "outputs": [
    {
     "data": {
      "text/plain": [
       "527"
      ]
     },
     "execution_count": 73,
     "metadata": {},
     "output_type": "execute_result"
    }
   ],
   "source": [
    "max_return"
   ]
  },
  {
   "cell_type": "code",
   "execution_count": 74,
   "metadata": {},
   "outputs": [],
   "source": [
    "lowest_vol = all_vol.argmin()"
   ]
  },
  {
   "cell_type": "code",
   "execution_count": 75,
   "metadata": {},
   "outputs": [
    {
     "data": {
      "text/plain": [
       "0"
      ]
     },
     "execution_count": 75,
     "metadata": {},
     "output_type": "execute_result"
    }
   ],
   "source": [
    "lowest_vol"
   ]
  },
  {
   "cell_type": "code",
   "execution_count": 65,
   "metadata": {},
   "outputs": [
    {
     "data": {
      "text/plain": [
       "<matplotlib.collections.PathCollection at 0x1a2cbb33d0>"
      ]
     },
     "execution_count": 65,
     "metadata": {},
     "output_type": "execute_result"
    },
    {
     "data": {
      "image/png": "[encoded data removed]",
      "text/plain": [
       "<Figure size 432x288 with 1 Axes>"
      ]
     },
     "metadata": {
      "needs_background": "light"
     },
     "output_type": "display_data"
    }
   ],
   "source": [
    "plt.scatter(all_vol, all_returns)"
   ]
  },
  {
   "cell_type": "code",
   "execution_count": null,
   "metadata": {},
   "outputs": [],
   "source": []
  }
 ],
 "metadata": {
  "kernelspec": {
   "display_name": "Python 3",
   "language": "python",
   "name": "python3"
  },
  "language_info": {
   "codemirror_mode": {
    "name": "ipython",
    "version": 3
   },
   "file_extension": ".py",
   "mimetype": "text/x-python",
   "name": "python",
   "nbconvert_exporter": "python",
   "pygments_lexer": "ipython3",
   "version": "3.7.6"
  }
 },
 "nbformat": 4,
 "nbformat_minor": 4
}
