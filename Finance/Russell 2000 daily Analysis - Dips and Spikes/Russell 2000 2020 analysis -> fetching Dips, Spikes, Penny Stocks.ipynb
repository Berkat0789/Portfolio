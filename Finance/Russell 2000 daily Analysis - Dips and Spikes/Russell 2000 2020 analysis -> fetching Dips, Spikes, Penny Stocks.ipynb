{
 "cells": [
  {
   "cell_type": "markdown",
   "metadata": {},
   "source": [
    "### Project Overview: \n",
    "- You are to scrape the web to find every company in the Russell 2000 as of 2020. For mthis data you will calculate the Volatility of each security a well as the Daily Returns. From the Daily Returns calculate the top 20 dips and spikes for the index. \n",
    "\n",
    "- Also look for the \"Penny stocks\" that may show some promise in recent months. \n",
    "- If you were to have every stock in the Russell 2000 in a portfolio whick would hold them ost weight after a 10 year span"
   ]
  },
  {
   "cell_type": "markdown",
   "metadata": {},
   "source": [
    "### Project Approach\n",
    "- Fetch all companies in Russell 2000\n",
    "- Use pndas Datareader to get the Adj Close\n",
    "- Calculate the Daily returns for each security\n",
    "- Find the top 20 Spikes and Dips for returns \n",
    "- Put every security into a portfolio and optimize the portfolio with 10 years back data"
   ]
  },
  {
   "cell_type": "markdown",
   "metadata": {},
   "source": [
    "### libraries\n"
   ]
  },
  {
   "cell_type": "code",
   "execution_count": 14,
   "metadata": {},
   "outputs": [],
   "source": [
    "import pandas as pd \n",
    "import numpy as np\n",
    "import matplotlib.pyplot as plt\n",
    "import seaborn as sns \n",
    "from pandas_datareader import data as web"
   ]
  },
  {
   "cell_type": "code",
   "execution_count": 5,
   "metadata": {},
   "outputs": [],
   "source": [
    "russ = pd.read_excel(\"resources/Russle_2000_2020.xlsx\", index_col='Ticker')"
   ]
  },
  {
   "cell_type": "markdown",
   "metadata": {},
   "source": [
    "### Data Overview \n",
    "- For 2020 we have 1999 conpanies in the Russle 2000"
   ]
  },
  {
   "cell_type": "code",
   "execution_count": 7,
   "metadata": {},
   "outputs": [
    {
     "name": "stdout",
     "output_type": "stream",
     "text": [
      "<class 'pandas.core.frame.DataFrame'>\n",
      "Index: 1999 entries, AAN to ZYXI\n",
      "Data columns (total 1 columns):\n",
      " #   Column  Non-Null Count  Dtype \n",
      "---  ------  --------------  ----- \n",
      " 0   Name    1999 non-null   object\n",
      "dtypes: object(1)\n",
      "memory usage: 31.2+ KB\n"
     ]
    }
   ],
   "source": [
    "russ.info()"
   ]
  },
  {
   "cell_type": "markdown",
   "metadata": {},
   "source": [
    "### Adj Closes\n",
    "- Will download the Adj Close for each security for 2020 beginning 2020-1-1 to current using pandas Datareader"
   ]
  },
  {
   "cell_type": "code",
   "execution_count": 10,
   "metadata": {},
   "outputs": [],
   "source": [
    "tickers = list(russ.index)"
   ]
  },
  {
   "cell_type": "code",
   "execution_count": 12,
   "metadata": {},
   "outputs": [],
   "source": [
    "data = pd.DataFrame()"
   ]
  },
  {
   "cell_type": "code",
   "execution_count": 15,
   "metadata": {},
   "outputs": [],
   "source": [
    "failed = []\n",
    "passed = []\n",
    "for x in tickers:\n",
    "    try:\n",
    "        data[x] = web.DataReader(x, data_source= \"yahoo\", start = \"2020-1-1\")[\"Adj Close\"]\n",
    "        passed.append(x)\n",
    "    except (IOError, KeyError):\n",
    "        msg = 'Failed to read symbol: {0!r}, replacing with NaN.'\n",
    "        failed.append(x)"
   ]
  },
  {
   "cell_type": "markdown",
   "metadata": {},
   "source": [
    "### Getting todays Date as a variable "
   ]
  },
  {
   "cell_type": "code",
   "execution_count": 68,
   "metadata": {},
   "outputs": [],
   "source": [
    "todays_date = data[-1:].iloc[0].name"
   ]
  },
  {
   "cell_type": "markdown",
   "metadata": {},
   "source": [
    "### Failed and Passed\n",
    "- 54 companies failed and 1945 passed"
   ]
  },
  {
   "cell_type": "code",
   "execution_count": 137,
   "metadata": {},
   "outputs": [],
   "source": [
    "passed = pd.DataFrame(passed, columns=[\"Tickers\"])"
   ]
  },
  {
   "cell_type": "code",
   "execution_count": 138,
   "metadata": {},
   "outputs": [],
   "source": [
    "passed.to_csv(\"resources/passed_tickers.csv\")"
   ]
  },
  {
   "cell_type": "code",
   "execution_count": 16,
   "metadata": {},
   "outputs": [
    {
     "data": {
      "text/plain": [
       "54"
      ]
     },
     "execution_count": 16,
     "metadata": {},
     "output_type": "execute_result"
    }
   ],
   "source": [
    "len(failed)"
   ]
  },
  {
   "cell_type": "code",
   "execution_count": 17,
   "metadata": {},
   "outputs": [
    {
     "data": {
      "text/plain": [
       "1945"
      ]
     },
     "execution_count": 17,
     "metadata": {},
     "output_type": "execute_result"
    }
   ],
   "source": [
    "len(passed)"
   ]
  },
  {
   "cell_type": "markdown",
   "metadata": {},
   "source": [
    "### Getting Penny Stocks \n",
    "- For penny stocks we will get all companies in the Russell 2000 we will take all stocks under 10 bucks to consideration as of the begining of 2020"
   ]
  },
  {
   "cell_type": "code",
   "execution_count": 54,
   "metadata": {},
   "outputs": [],
   "source": [
    "penny_Stocks = data[data.apply(lambda x: x < 10)].dropna(axis = 1)"
   ]
  },
  {
   "cell_type": "code",
   "execution_count": 63,
   "metadata": {},
   "outputs": [
    {
     "data": {
      "text/plain": [
       "<matplotlib.axes._subplots.AxesSubplot at 0x1a2c3b6150>"
      ]
     },
     "execution_count": 63,
     "metadata": {},
     "output_type": "execute_result"
    },
    {
     "data": {
      "image/png": "[encoded data removed]",
      "text/plain": [
       "<Figure size 1152x432 with 1 Axes>"
      ]
     },
     "metadata": {
      "needs_background": "light"
     },
     "output_type": "display_data"
    }
   ],
   "source": [
    "penny_Stocks[-1:].plot(kind = \"bar\", figsize = (16,6), legend = None)"
   ]
  },
  {
   "cell_type": "markdown",
   "metadata": {},
   "source": [
    "## Daily Returns for PennyStocks\n",
    "- We will look at the penny stocks Dips and spikes\n",
    "- Will check for today's Date"
   ]
  },
  {
   "cell_type": "code",
   "execution_count": 70,
   "metadata": {},
   "outputs": [],
   "source": [
    "penny_returns = penny_Stocks.pct_change()"
   ]
  },
  {
   "cell_type": "code",
   "execution_count": 78,
   "metadata": {},
   "outputs": [],
   "source": [
    "top_20_penny_spikes = penny_returns[-1:].transpose().sort_values(todays_date, ascending = False).head(20)"
   ]
  },
  {
   "cell_type": "code",
   "execution_count": 88,
   "metadata": {},
   "outputs": [],
   "source": [
    "top_20_penny_spikes[\"Adj Close\"] = data[list(top_20_penny_spikes.index)][-1:].transpose().values"
   ]
  },
  {
   "cell_type": "code",
   "execution_count": 99,
   "metadata": {},
   "outputs": [],
   "source": [
    "top_20_penny_spikes.columns = [\"return\", \"Adj Close\"]"
   ]
  },
  {
   "cell_type": "code",
   "execution_count": 102,
   "metadata": {
    "scrolled": true
   },
   "outputs": [
    {
     "data": {
      "text/html": [
       "<div>\n",
       "<style scoped>\n",
       "    .dataframe tbody tr th:only-of-type {\n",
       "        vertical-align: middle;\n",
       "    }\n",
       "\n",
       "    .dataframe tbody tr th {\n",
       "        vertical-align: top;\n",
       "    }\n",
       "\n",
       "    .dataframe thead th {\n",
       "        text-align: right;\n",
       "    }\n",
       "</style>\n",
       "<table border=\"1\" class=\"dataframe\">\n",
       "  <thead>\n",
       "    <tr style=\"text-align: right;\">\n",
       "      <th></th>\n",
       "      <th>return</th>\n",
       "      <th>Adj Close</th>\n",
       "    </tr>\n",
       "  </thead>\n",
       "  <tbody>\n",
       "    <tr>\n",
       "      <th>PTE</th>\n",
       "      <td>0.279279</td>\n",
       "      <td>1.4200</td>\n",
       "    </tr>\n",
       "    <tr>\n",
       "      <th>TEUM</th>\n",
       "      <td>0.272857</td>\n",
       "      <td>0.8910</td>\n",
       "    </tr>\n",
       "    <tr>\n",
       "      <th>BBCP</th>\n",
       "      <td>0.172131</td>\n",
       "      <td>4.2900</td>\n",
       "    </tr>\n",
       "    <tr>\n",
       "      <th>SDRL</th>\n",
       "      <td>0.168704</td>\n",
       "      <td>0.6311</td>\n",
       "    </tr>\n",
       "    <tr>\n",
       "      <th>IDEX</th>\n",
       "      <td>0.156863</td>\n",
       "      <td>1.1800</td>\n",
       "    </tr>\n",
       "    <tr>\n",
       "      <th>CERS</th>\n",
       "      <td>0.142367</td>\n",
       "      <td>6.6600</td>\n",
       "    </tr>\n",
       "    <tr>\n",
       "      <th>PTN</th>\n",
       "      <td>0.124308</td>\n",
       "      <td>0.7308</td>\n",
       "    </tr>\n",
       "    <tr>\n",
       "      <th>PLUG</th>\n",
       "      <td>0.109804</td>\n",
       "      <td>5.6600</td>\n",
       "    </tr>\n",
       "    <tr>\n",
       "      <th>True</th>\n",
       "      <td>0.100694</td>\n",
       "      <td>3.1700</td>\n",
       "    </tr>\n",
       "    <tr>\n",
       "      <th>ECOR</th>\n",
       "      <td>0.094340</td>\n",
       "      <td>1.1600</td>\n",
       "    </tr>\n",
       "    <tr>\n",
       "      <th>SBT</th>\n",
       "      <td>0.091863</td>\n",
       "      <td>4.1600</td>\n",
       "    </tr>\n",
       "    <tr>\n",
       "      <th>HL</th>\n",
       "      <td>0.088608</td>\n",
       "      <td>3.4400</td>\n",
       "    </tr>\n",
       "    <tr>\n",
       "      <th>GTYH</th>\n",
       "      <td>0.084706</td>\n",
       "      <td>4.6100</td>\n",
       "    </tr>\n",
       "    <tr>\n",
       "      <th>MBIO</th>\n",
       "      <td>0.082353</td>\n",
       "      <td>4.6000</td>\n",
       "    </tr>\n",
       "    <tr>\n",
       "      <th>GERN</th>\n",
       "      <td>0.071006</td>\n",
       "      <td>1.8100</td>\n",
       "    </tr>\n",
       "    <tr>\n",
       "      <th>CDE</th>\n",
       "      <td>0.070209</td>\n",
       "      <td>5.6400</td>\n",
       "    </tr>\n",
       "    <tr>\n",
       "      <th>ACTG</th>\n",
       "      <td>0.069705</td>\n",
       "      <td>3.9900</td>\n",
       "    </tr>\n",
       "    <tr>\n",
       "      <th>PRTH</th>\n",
       "      <td>0.069498</td>\n",
       "      <td>2.7700</td>\n",
       "    </tr>\n",
       "    <tr>\n",
       "      <th>AGEN</th>\n",
       "      <td>0.061008</td>\n",
       "      <td>4.0000</td>\n",
       "    </tr>\n",
       "    <tr>\n",
       "      <th>BCRX</th>\n",
       "      <td>0.060325</td>\n",
       "      <td>4.5700</td>\n",
       "    </tr>\n",
       "  </tbody>\n",
       "</table>\n",
       "</div>"
      ],
      "text/plain": [
       "        return  Adj Close\n",
       "PTE   0.279279     1.4200\n",
       "TEUM  0.272857     0.8910\n",
       "BBCP  0.172131     4.2900\n",
       "SDRL  0.168704     0.6311\n",
       "IDEX  0.156863     1.1800\n",
       "CERS  0.142367     6.6600\n",
       "PTN   0.124308     0.7308\n",
       "PLUG  0.109804     5.6600\n",
       "True  0.100694     3.1700\n",
       "ECOR  0.094340     1.1600\n",
       "SBT   0.091863     4.1600\n",
       "HL    0.088608     3.4400\n",
       "GTYH  0.084706     4.6100\n",
       "MBIO  0.082353     4.6000\n",
       "GERN  0.071006     1.8100\n",
       "CDE   0.070209     5.6400\n",
       "ACTG  0.069705     3.9900\n",
       "PRTH  0.069498     2.7700\n",
       "AGEN  0.061008     4.0000\n",
       "BCRX  0.060325     4.5700"
      ]
     },
     "execution_count": 102,
     "metadata": {},
     "output_type": "execute_result"
    }
   ],
   "source": [
    "top_20_penny_spikes"
   ]
  },
  {
   "cell_type": "markdown",
   "metadata": {},
   "source": [
    "## Penny Dips \n",
    "- Will loook at top 20 penny shares that took the biggest dips"
   ]
  },
  {
   "cell_type": "code",
   "execution_count": 93,
   "metadata": {},
   "outputs": [],
   "source": [
    "top_20_penny_dips = penny_returns[-1:].transpose().sort_values(todays_date, ascending = True).head(20)"
   ]
  },
  {
   "cell_type": "code",
   "execution_count": 103,
   "metadata": {},
   "outputs": [],
   "source": [
    "top_20_penny_dips[\"Adj Close\"] = data[list(top_20_penny_dips.index)][-1:].transpose().values"
   ]
  },
  {
   "cell_type": "code",
   "execution_count": 105,
   "metadata": {},
   "outputs": [],
   "source": [
    "top_20_penny_dips.columns = [\"returns\", \" Adj Close\"]"
   ]
  },
  {
   "cell_type": "code",
   "execution_count": 107,
   "metadata": {},
   "outputs": [],
   "source": [
    "top_20_penny_dips.to_csv(\"resources/top_20_penny_dips.csv\")"
   ]
  },
  {
   "cell_type": "code",
   "execution_count": 108,
   "metadata": {},
   "outputs": [
    {
     "data": {
      "text/html": [
       "<div>\n",
       "<style scoped>\n",
       "    .dataframe tbody tr th:only-of-type {\n",
       "        vertical-align: middle;\n",
       "    }\n",
       "\n",
       "    .dataframe tbody tr th {\n",
       "        vertical-align: top;\n",
       "    }\n",
       "\n",
       "    .dataframe thead th {\n",
       "        text-align: right;\n",
       "    }\n",
       "</style>\n",
       "<table border=\"1\" class=\"dataframe\">\n",
       "  <thead>\n",
       "    <tr style=\"text-align: right;\">\n",
       "      <th></th>\n",
       "      <th>returns</th>\n",
       "      <th>Adj Close</th>\n",
       "    </tr>\n",
       "  </thead>\n",
       "  <tbody>\n",
       "    <tr>\n",
       "      <th>WLL</th>\n",
       "      <td>-0.331915</td>\n",
       "      <td>1.5700</td>\n",
       "    </tr>\n",
       "    <tr>\n",
       "      <th>XELA</th>\n",
       "      <td>-0.304348</td>\n",
       "      <td>0.5600</td>\n",
       "    </tr>\n",
       "    <tr>\n",
       "      <th>XOG</th>\n",
       "      <td>-0.301165</td>\n",
       "      <td>0.7198</td>\n",
       "    </tr>\n",
       "    <tr>\n",
       "      <th>AHT</th>\n",
       "      <td>-0.296053</td>\n",
       "      <td>1.0700</td>\n",
       "    </tr>\n",
       "    <tr>\n",
       "      <th>RNET</th>\n",
       "      <td>-0.276504</td>\n",
       "      <td>2.5250</td>\n",
       "    </tr>\n",
       "    <tr>\n",
       "      <th>CHS</th>\n",
       "      <td>-0.276190</td>\n",
       "      <td>1.5200</td>\n",
       "    </tr>\n",
       "    <tr>\n",
       "      <th>OAS</th>\n",
       "      <td>-0.229299</td>\n",
       "      <td>1.2100</td>\n",
       "    </tr>\n",
       "    <tr>\n",
       "      <th>WATT</th>\n",
       "      <td>-0.226837</td>\n",
       "      <td>2.4200</td>\n",
       "    </tr>\n",
       "    <tr>\n",
       "      <th>BGG</th>\n",
       "      <td>-0.218391</td>\n",
       "      <td>2.0400</td>\n",
       "    </tr>\n",
       "    <tr>\n",
       "      <th>CTRA</th>\n",
       "      <td>-0.199637</td>\n",
       "      <td>4.4100</td>\n",
       "    </tr>\n",
       "    <tr>\n",
       "      <th>ALTM</th>\n",
       "      <td>-0.197234</td>\n",
       "      <td>0.7546</td>\n",
       "    </tr>\n",
       "    <tr>\n",
       "      <th>HPR</th>\n",
       "      <td>-0.196970</td>\n",
       "      <td>0.5300</td>\n",
       "    </tr>\n",
       "    <tr>\n",
       "      <th>CHAP</th>\n",
       "      <td>-0.194771</td>\n",
       "      <td>0.8777</td>\n",
       "    </tr>\n",
       "    <tr>\n",
       "      <th>USWS</th>\n",
       "      <td>-0.187342</td>\n",
       "      <td>0.6420</td>\n",
       "    </tr>\n",
       "    <tr>\n",
       "      <th>TOCA</th>\n",
       "      <td>-0.182927</td>\n",
       "      <td>1.3400</td>\n",
       "    </tr>\n",
       "    <tr>\n",
       "      <th>LXU</th>\n",
       "      <td>-0.178344</td>\n",
       "      <td>1.2900</td>\n",
       "    </tr>\n",
       "    <tr>\n",
       "      <th>PACD</th>\n",
       "      <td>-0.178261</td>\n",
       "      <td>0.5670</td>\n",
       "    </tr>\n",
       "    <tr>\n",
       "      <th>ROSE</th>\n",
       "      <td>-0.176154</td>\n",
       "      <td>0.6426</td>\n",
       "    </tr>\n",
       "    <tr>\n",
       "      <th>SD</th>\n",
       "      <td>-0.169014</td>\n",
       "      <td>1.7700</td>\n",
       "    </tr>\n",
       "    <tr>\n",
       "      <th>TRXC</th>\n",
       "      <td>-0.166667</td>\n",
       "      <td>0.7250</td>\n",
       "    </tr>\n",
       "  </tbody>\n",
       "</table>\n",
       "</div>"
      ],
      "text/plain": [
       "       returns   Adj Close\n",
       "WLL  -0.331915      1.5700\n",
       "XELA -0.304348      0.5600\n",
       "XOG  -0.301165      0.7198\n",
       "AHT  -0.296053      1.0700\n",
       "RNET -0.276504      2.5250\n",
       "CHS  -0.276190      1.5200\n",
       "OAS  -0.229299      1.2100\n",
       "WATT -0.226837      2.4200\n",
       "BGG  -0.218391      2.0400\n",
       "CTRA -0.199637      4.4100\n",
       "ALTM -0.197234      0.7546\n",
       "HPR  -0.196970      0.5300\n",
       "CHAP -0.194771      0.8777\n",
       "USWS -0.187342      0.6420\n",
       "TOCA -0.182927      1.3400\n",
       "LXU  -0.178344      1.2900\n",
       "PACD -0.178261      0.5670\n",
       "ROSE -0.176154      0.6426\n",
       "SD   -0.169014      1.7700\n",
       "TRXC -0.166667      0.7250"
      ]
     },
     "execution_count": 108,
     "metadata": {},
     "output_type": "execute_result"
    }
   ],
   "source": [
    "top_20_penny_dips"
   ]
  },
  {
   "cell_type": "markdown",
   "metadata": {},
   "source": [
    "### Entire Index DIPS\n",
    "- We will look at the dips for the entire market"
   ]
  },
  {
   "cell_type": "code",
   "execution_count": 110,
   "metadata": {},
   "outputs": [],
   "source": [
    "index_returns = data.pct_change()"
   ]
  },
  {
   "cell_type": "code",
   "execution_count": 116,
   "metadata": {},
   "outputs": [],
   "source": [
    "russ_top_30_dips = index_returns[-1:].transpose().sort_values(todays_date).head(30)"
   ]
  },
  {
   "cell_type": "code",
   "execution_count": 126,
   "metadata": {},
   "outputs": [],
   "source": [
    "russ_top_30_dips[\"Adj Close\"] = data[list(russ_top_30_dips.index)][-1:].transpose()[todays_date].values"
   ]
  },
  {
   "cell_type": "code",
   "execution_count": 128,
   "metadata": {},
   "outputs": [],
   "source": [
    "russ_top_30_dips.columns = [\"returns\", \"Adj Close\"]"
   ]
  },
  {
   "cell_type": "code",
   "execution_count": 129,
   "metadata": {},
   "outputs": [
    {
     "data": {
      "text/html": [
       "<div>\n",
       "<style scoped>\n",
       "    .dataframe tbody tr th:only-of-type {\n",
       "        vertical-align: middle;\n",
       "    }\n",
       "\n",
       "    .dataframe tbody tr th {\n",
       "        vertical-align: top;\n",
       "    }\n",
       "\n",
       "    .dataframe thead th {\n",
       "        text-align: right;\n",
       "    }\n",
       "</style>\n",
       "<table border=\"1\" class=\"dataframe\">\n",
       "  <thead>\n",
       "    <tr style=\"text-align: right;\">\n",
       "      <th></th>\n",
       "      <th>returns</th>\n",
       "      <th>Adj Close</th>\n",
       "    </tr>\n",
       "  </thead>\n",
       "  <tbody>\n",
       "    <tr>\n",
       "      <th>HTZ</th>\n",
       "      <td>-0.397129</td>\n",
       "      <td>2.520000</td>\n",
       "    </tr>\n",
       "    <tr>\n",
       "      <th>WLL</th>\n",
       "      <td>-0.331915</td>\n",
       "      <td>1.570000</td>\n",
       "    </tr>\n",
       "    <tr>\n",
       "      <th>XELA</th>\n",
       "      <td>-0.304348</td>\n",
       "      <td>0.560000</td>\n",
       "    </tr>\n",
       "    <tr>\n",
       "      <th>XOG</th>\n",
       "      <td>-0.301165</td>\n",
       "      <td>0.719800</td>\n",
       "    </tr>\n",
       "    <tr>\n",
       "      <th>AHT</th>\n",
       "      <td>-0.296053</td>\n",
       "      <td>1.070000</td>\n",
       "    </tr>\n",
       "    <tr>\n",
       "      <th>RNET</th>\n",
       "      <td>-0.276504</td>\n",
       "      <td>2.525000</td>\n",
       "    </tr>\n",
       "    <tr>\n",
       "      <th>CHS</th>\n",
       "      <td>-0.276190</td>\n",
       "      <td>1.520000</td>\n",
       "    </tr>\n",
       "    <tr>\n",
       "      <th>OAS</th>\n",
       "      <td>-0.229299</td>\n",
       "      <td>1.210000</td>\n",
       "    </tr>\n",
       "    <tr>\n",
       "      <th>WATT</th>\n",
       "      <td>-0.226837</td>\n",
       "      <td>2.420000</td>\n",
       "    </tr>\n",
       "    <tr>\n",
       "      <th>HALL</th>\n",
       "      <td>-0.225688</td>\n",
       "      <td>4.220000</td>\n",
       "    </tr>\n",
       "    <tr>\n",
       "      <th>BGG</th>\n",
       "      <td>-0.218391</td>\n",
       "      <td>2.040000</td>\n",
       "    </tr>\n",
       "    <tr>\n",
       "      <th>PHX</th>\n",
       "      <td>-0.206107</td>\n",
       "      <td>4.160000</td>\n",
       "    </tr>\n",
       "    <tr>\n",
       "      <th>UNFI</th>\n",
       "      <td>-0.202317</td>\n",
       "      <td>17.900000</td>\n",
       "    </tr>\n",
       "    <tr>\n",
       "      <th>GES</th>\n",
       "      <td>-0.199843</td>\n",
       "      <td>10.210000</td>\n",
       "    </tr>\n",
       "    <tr>\n",
       "      <th>CTRA</th>\n",
       "      <td>-0.199637</td>\n",
       "      <td>4.410000</td>\n",
       "    </tr>\n",
       "    <tr>\n",
       "      <th>ALTM</th>\n",
       "      <td>-0.197234</td>\n",
       "      <td>0.754600</td>\n",
       "    </tr>\n",
       "    <tr>\n",
       "      <th>HPR</th>\n",
       "      <td>-0.196970</td>\n",
       "      <td>0.530000</td>\n",
       "    </tr>\n",
       "    <tr>\n",
       "      <th>CHAP</th>\n",
       "      <td>-0.194771</td>\n",
       "      <td>0.877700</td>\n",
       "    </tr>\n",
       "    <tr>\n",
       "      <th>NINE</th>\n",
       "      <td>-0.194373</td>\n",
       "      <td>3.150000</td>\n",
       "    </tr>\n",
       "    <tr>\n",
       "      <th>NBR</th>\n",
       "      <td>-0.191832</td>\n",
       "      <td>56.200001</td>\n",
       "    </tr>\n",
       "    <tr>\n",
       "      <th>USWS</th>\n",
       "      <td>-0.187342</td>\n",
       "      <td>0.642000</td>\n",
       "    </tr>\n",
       "    <tr>\n",
       "      <th>TOCA</th>\n",
       "      <td>-0.182927</td>\n",
       "      <td>1.340000</td>\n",
       "    </tr>\n",
       "    <tr>\n",
       "      <th>LXU</th>\n",
       "      <td>-0.178344</td>\n",
       "      <td>1.290000</td>\n",
       "    </tr>\n",
       "    <tr>\n",
       "      <th>PACD</th>\n",
       "      <td>-0.178261</td>\n",
       "      <td>0.567000</td>\n",
       "    </tr>\n",
       "    <tr>\n",
       "      <th>ROSE</th>\n",
       "      <td>-0.176154</td>\n",
       "      <td>0.642600</td>\n",
       "    </tr>\n",
       "    <tr>\n",
       "      <th>CELC</th>\n",
       "      <td>-0.171026</td>\n",
       "      <td>8.240000</td>\n",
       "    </tr>\n",
       "    <tr>\n",
       "      <th>SD</th>\n",
       "      <td>-0.169014</td>\n",
       "      <td>1.770000</td>\n",
       "    </tr>\n",
       "    <tr>\n",
       "      <th>FTSI</th>\n",
       "      <td>-0.167670</td>\n",
       "      <td>9.680000</td>\n",
       "    </tr>\n",
       "    <tr>\n",
       "      <th>TRXC</th>\n",
       "      <td>-0.166667</td>\n",
       "      <td>0.725000</td>\n",
       "    </tr>\n",
       "    <tr>\n",
       "      <th>HMHC</th>\n",
       "      <td>-0.164032</td>\n",
       "      <td>2.115000</td>\n",
       "    </tr>\n",
       "  </tbody>\n",
       "</table>\n",
       "</div>"
      ],
      "text/plain": [
       "       returns  Adj Close\n",
       "HTZ  -0.397129   2.520000\n",
       "WLL  -0.331915   1.570000\n",
       "XELA -0.304348   0.560000\n",
       "XOG  -0.301165   0.719800\n",
       "AHT  -0.296053   1.070000\n",
       "RNET -0.276504   2.525000\n",
       "CHS  -0.276190   1.520000\n",
       "OAS  -0.229299   1.210000\n",
       "WATT -0.226837   2.420000\n",
       "HALL -0.225688   4.220000\n",
       "BGG  -0.218391   2.040000\n",
       "PHX  -0.206107   4.160000\n",
       "UNFI -0.202317  17.900000\n",
       "GES  -0.199843  10.210000\n",
       "CTRA -0.199637   4.410000\n",
       "ALTM -0.197234   0.754600\n",
       "HPR  -0.196970   0.530000\n",
       "CHAP -0.194771   0.877700\n",
       "NINE -0.194373   3.150000\n",
       "NBR  -0.191832  56.200001\n",
       "USWS -0.187342   0.642000\n",
       "TOCA -0.182927   1.340000\n",
       "LXU  -0.178344   1.290000\n",
       "PACD -0.178261   0.567000\n",
       "ROSE -0.176154   0.642600\n",
       "CELC -0.171026   8.240000\n",
       "SD   -0.169014   1.770000\n",
       "FTSI -0.167670   9.680000\n",
       "TRXC -0.166667   0.725000\n",
       "HMHC -0.164032   2.115000"
      ]
     },
     "execution_count": 129,
     "metadata": {},
     "output_type": "execute_result"
    }
   ],
   "source": [
    "russ_top_30_dips"
   ]
  },
  {
   "cell_type": "markdown",
   "metadata": {},
   "source": [
    "### Russ Spikes"
   ]
  },
  {
   "cell_type": "code",
   "execution_count": 130,
   "metadata": {},
   "outputs": [],
   "source": [
    "russ_top_30_spikes = index_returns[-1:].transpose().sort_values(todays_date, ascending = False).head(30)"
   ]
  },
  {
   "cell_type": "code",
   "execution_count": 131,
   "metadata": {},
   "outputs": [
    {
     "data": {
      "text/html": [
       "<div>\n",
       "<style scoped>\n",
       "    .dataframe tbody tr th:only-of-type {\n",
       "        vertical-align: middle;\n",
       "    }\n",
       "\n",
       "    .dataframe tbody tr th {\n",
       "        vertical-align: top;\n",
       "    }\n",
       "\n",
       "    .dataframe thead th {\n",
       "        text-align: right;\n",
       "    }\n",
       "</style>\n",
       "<table border=\"1\" class=\"dataframe\">\n",
       "  <thead>\n",
       "    <tr style=\"text-align: right;\">\n",
       "      <th>Date</th>\n",
       "      <th>2020-06-10</th>\n",
       "    </tr>\n",
       "  </thead>\n",
       "  <tbody>\n",
       "    <tr>\n",
       "      <th>PTE</th>\n",
       "      <td>0.279279</td>\n",
       "    </tr>\n",
       "    <tr>\n",
       "      <th>TEUM</th>\n",
       "      <td>0.272857</td>\n",
       "    </tr>\n",
       "    <tr>\n",
       "      <th>BE</th>\n",
       "      <td>0.222619</td>\n",
       "    </tr>\n",
       "    <tr>\n",
       "      <th>BBCP</th>\n",
       "      <td>0.172131</td>\n",
       "    </tr>\n",
       "    <tr>\n",
       "      <th>SDRL</th>\n",
       "      <td>0.168704</td>\n",
       "    </tr>\n",
       "    <tr>\n",
       "      <th>IDEX</th>\n",
       "      <td>0.156863</td>\n",
       "    </tr>\n",
       "    <tr>\n",
       "      <th>CERS</th>\n",
       "      <td>0.142367</td>\n",
       "    </tr>\n",
       "    <tr>\n",
       "      <th>PTN</th>\n",
       "      <td>0.124308</td>\n",
       "    </tr>\n",
       "    <tr>\n",
       "      <th>PLUG</th>\n",
       "      <td>0.109804</td>\n",
       "    </tr>\n",
       "    <tr>\n",
       "      <th>True</th>\n",
       "      <td>0.100694</td>\n",
       "    </tr>\n",
       "    <tr>\n",
       "      <th>ECOR</th>\n",
       "      <td>0.094340</td>\n",
       "    </tr>\n",
       "    <tr>\n",
       "      <th>SBT</th>\n",
       "      <td>0.091863</td>\n",
       "    </tr>\n",
       "    <tr>\n",
       "      <th>MPX</th>\n",
       "      <td>0.090696</td>\n",
       "    </tr>\n",
       "    <tr>\n",
       "      <th>OSTK</th>\n",
       "      <td>0.090164</td>\n",
       "    </tr>\n",
       "    <tr>\n",
       "      <th>HL</th>\n",
       "      <td>0.088608</td>\n",
       "    </tr>\n",
       "    <tr>\n",
       "      <th>GTYH</th>\n",
       "      <td>0.084706</td>\n",
       "    </tr>\n",
       "    <tr>\n",
       "      <th>MBIO</th>\n",
       "      <td>0.082353</td>\n",
       "    </tr>\n",
       "    <tr>\n",
       "      <th>MITT</th>\n",
       "      <td>0.079585</td>\n",
       "    </tr>\n",
       "    <tr>\n",
       "      <th>TCI</th>\n",
       "      <td>0.077381</td>\n",
       "    </tr>\n",
       "    <tr>\n",
       "      <th>KIN</th>\n",
       "      <td>0.076289</td>\n",
       "    </tr>\n",
       "    <tr>\n",
       "      <th>NG</th>\n",
       "      <td>0.075919</td>\n",
       "    </tr>\n",
       "    <tr>\n",
       "      <th>MRTN</th>\n",
       "      <td>0.072355</td>\n",
       "    </tr>\n",
       "    <tr>\n",
       "      <th>GERN</th>\n",
       "      <td>0.071006</td>\n",
       "    </tr>\n",
       "    <tr>\n",
       "      <th>QDEL</th>\n",
       "      <td>0.070347</td>\n",
       "    </tr>\n",
       "    <tr>\n",
       "      <th>CDE</th>\n",
       "      <td>0.070209</td>\n",
       "    </tr>\n",
       "    <tr>\n",
       "      <th>INSM</th>\n",
       "      <td>0.069854</td>\n",
       "    </tr>\n",
       "    <tr>\n",
       "      <th>ACTG</th>\n",
       "      <td>0.069705</td>\n",
       "    </tr>\n",
       "    <tr>\n",
       "      <th>PRTH</th>\n",
       "      <td>0.069498</td>\n",
       "    </tr>\n",
       "    <tr>\n",
       "      <th>LVGO</th>\n",
       "      <td>0.068954</td>\n",
       "    </tr>\n",
       "    <tr>\n",
       "      <th>GNMK</th>\n",
       "      <td>0.068508</td>\n",
       "    </tr>\n",
       "  </tbody>\n",
       "</table>\n",
       "</div>"
      ],
      "text/plain": [
       "Date  2020-06-10\n",
       "PTE     0.279279\n",
       "TEUM    0.272857\n",
       "BE      0.222619\n",
       "BBCP    0.172131\n",
       "SDRL    0.168704\n",
       "IDEX    0.156863\n",
       "CERS    0.142367\n",
       "PTN     0.124308\n",
       "PLUG    0.109804\n",
       "True    0.100694\n",
       "ECOR    0.094340\n",
       "SBT     0.091863\n",
       "MPX     0.090696\n",
       "OSTK    0.090164\n",
       "HL      0.088608\n",
       "GTYH    0.084706\n",
       "MBIO    0.082353\n",
       "MITT    0.079585\n",
       "TCI     0.077381\n",
       "KIN     0.076289\n",
       "NG      0.075919\n",
       "MRTN    0.072355\n",
       "GERN    0.071006\n",
       "QDEL    0.070347\n",
       "CDE     0.070209\n",
       "INSM    0.069854\n",
       "ACTG    0.069705\n",
       "PRTH    0.069498\n",
       "LVGO    0.068954\n",
       "GNMK    0.068508"
      ]
     },
     "execution_count": 131,
     "metadata": {},
     "output_type": "execute_result"
    }
   ],
   "source": [
    "russ_top_30_spikes"
   ]
  },
  {
   "cell_type": "code",
   "execution_count": null,
   "metadata": {},
   "outputs": [],
   "source": [
    " "
   ]
  }
 ],
 "metadata": {
  "kernelspec": {
   "display_name": "Python 3",
   "language": "python",
   "name": "python3"
  },
  "language_info": {
   "codemirror_mode": {
    "name": "ipython",
    "version": 3
   },
   "file_extension": ".py",
   "mimetype": "text/x-python",
   "name": "python",
   "nbconvert_exporter": "python",
   "pygments_lexer": "ipython3",
   "version": "3.7.6"
  }
 },
 "nbformat": 4,
 "nbformat_minor": 4
}
