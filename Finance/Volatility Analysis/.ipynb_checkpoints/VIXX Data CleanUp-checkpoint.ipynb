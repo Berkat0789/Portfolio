{
 "cells": [
  {
   "cell_type": "markdown",
   "metadata": {},
   "source": [
    "# The below Analysis based on the VIX Volatility Index. VIX is generated from the implied volatilities on index options for the S&P 500, and it shows the market's expectation of 30-day volatility. Known also as the \"fear index,\" among other similar names, VIX is commonly used as a measure of investor confidence in the market, or, conversely, as a way of gauging how fearful market participants are that volatility will plague the space. The VIX tends to be largely based on stock market reactions; for instance, when the prices of stocks fall, VIX tends to Increase"
   ]
  },
  {
   "cell_type": "markdown",
   "metadata": {},
   "source": [
    "## We will import the necessary libraries to bein our analysis"
   ]
  },
  {
   "cell_type": "code",
   "execution_count": 1,
   "metadata": {},
   "outputs": [],
   "source": [
    "import pandas as pd\n",
    "import numpy as np \n",
    "import matplotlib.pyplot as plt\n",
    "import statsmodels.api as sm\n",
    "from scipy import stats\n",
    "import seaborn as sns\n",
    "from plotly.offline import plot,iplot,init_notebook_mode,download_plotlyjs \n",
    "import cufflinks as cf"
   ]
  },
  {
   "cell_type": "markdown",
   "metadata": {},
   "source": [
    "### Import Data"
   ]
  },
  {
   "cell_type": "code",
   "execution_count": 2,
   "metadata": {},
   "outputs": [],
   "source": [
    "data = pd.read_excel(\"resources/vix_data.xlsx\")"
   ]
  },
  {
   "cell_type": "markdown",
   "metadata": {},
   "source": [
    "### inspect data/clean -> Below we can see alot of data missing in certain columns. We will take and dextrace what we will need for an analysis"
   ]
  },
  {
   "cell_type": "code",
   "execution_count": 4,
   "metadata": {},
   "outputs": [
    {
     "data": {
      "text/plain": [
       "<matplotlib.axes._subplots.AxesSubplot at 0x1c28718d90>"
      ]
     },
     "execution_count": 4,
     "metadata": {},
     "output_type": "execute_result"
    },
    {
     "data": {
      "image/png": "[encoded data removed]",
      "text/plain": [
       "<Figure size 1152x432 with 1 Axes>"
      ]
     },
     "metadata": {
      "needs_background": "light"
     },
     "output_type": "display_data"
    }
   ],
   "source": [
    "plt.figure(figsize=(16,6))\n",
    "sns.heatmap(data.isnull(), yticklabels=False, cbar=False, cmap=\"viridis\")"
   ]
  },
  {
   "cell_type": "code",
   "execution_count": 23,
   "metadata": {},
   "outputs": [],
   "source": [
    "start_Data = data.loc[6:][[1,2,3,4,5,6,7,8,9,10]]"
   ]
  },
  {
   "cell_type": "code",
   "execution_count": 26,
   "metadata": {},
   "outputs": [
    {
     "data": {
      "text/plain": [
       "Index([1, 2, 3, 4, 5, 6, 7, 8, 9, 10], dtype='object')"
      ]
     },
     "execution_count": 26,
     "metadata": {},
     "output_type": "execute_result"
    }
   ],
   "source": [
    "start_Data.columns"
   ]
  },
  {
   "cell_type": "code",
   "execution_count": 27,
   "metadata": {},
   "outputs": [],
   "source": [
    "start_Data.columns = [\"Date\",\"UVXY\", \"SPY\", \"VXXBEN\", \"VIX\", \"UX1\", \"UX2\",\"UX3\",\"UX4\", \"Day of Week\"]"
   ]
  },
  {
   "cell_type": "code",
   "execution_count": 29,
   "metadata": {},
   "outputs": [],
   "source": [
    "start_Data.drop([6,7], inplace=True)"
   ]
  },
  {
   "cell_type": "code",
   "execution_count": 30,
   "metadata": {},
   "outputs": [
    {
     "data": {
      "text/html": [
       "<div>\n",
       "<style scoped>\n",
       "    .dataframe tbody tr th:only-of-type {\n",
       "        vertical-align: middle;\n",
       "    }\n",
       "\n",
       "    .dataframe tbody tr th {\n",
       "        vertical-align: top;\n",
       "    }\n",
       "\n",
       "    .dataframe thead th {\n",
       "        text-align: right;\n",
       "    }\n",
       "</style>\n",
       "<table border=\"1\" class=\"dataframe\">\n",
       "  <thead>\n",
       "    <tr style=\"text-align: right;\">\n",
       "      <th></th>\n",
       "      <th>Date</th>\n",
       "      <th>UVXY</th>\n",
       "      <th>SPY</th>\n",
       "      <th>VXXBEN</th>\n",
       "      <th>VIX</th>\n",
       "      <th>UX1</th>\n",
       "      <th>UX2</th>\n",
       "      <th>UX3</th>\n",
       "      <th>UX4</th>\n",
       "      <th>Day of Week</th>\n",
       "    </tr>\n",
       "  </thead>\n",
       "  <tbody>\n",
       "    <tr>\n",
       "      <td>8</td>\n",
       "      <td>2006-10-23 00:00:00</td>\n",
       "      <td>8.37707e+09</td>\n",
       "      <td>137.47</td>\n",
       "      <td>1.91</td>\n",
       "      <td>11.08</td>\n",
       "      <td>11.95</td>\n",
       "      <td>13.16</td>\n",
       "      <td>14.08</td>\n",
       "      <td>14.6</td>\n",
       "      <td>2</td>\n",
       "    </tr>\n",
       "    <tr>\n",
       "      <td>9</td>\n",
       "      <td>2006-10-24 00:00:00</td>\n",
       "      <td>8.37707e+09</td>\n",
       "      <td>137.88</td>\n",
       "      <td>2.025</td>\n",
       "      <td>10.78</td>\n",
       "      <td>11.78</td>\n",
       "      <td>12.83</td>\n",
       "      <td>14.03</td>\n",
       "      <td>14.47</td>\n",
       "      <td>3</td>\n",
       "    </tr>\n",
       "    <tr>\n",
       "      <td>10</td>\n",
       "      <td>2006-10-25 00:00:00</td>\n",
       "      <td>7.96899e+09</td>\n",
       "      <td>138.35</td>\n",
       "      <td>1.76</td>\n",
       "      <td>10.66</td>\n",
       "      <td>11.49</td>\n",
       "      <td>12.52</td>\n",
       "      <td>13.79</td>\n",
       "      <td>14.52</td>\n",
       "      <td>4</td>\n",
       "    </tr>\n",
       "    <tr>\n",
       "      <td>11</td>\n",
       "      <td>2006-10-26 00:00:00</td>\n",
       "      <td>7.61865e+09</td>\n",
       "      <td>138.78</td>\n",
       "      <td>1.515</td>\n",
       "      <td>10.56</td>\n",
       "      <td>11.25</td>\n",
       "      <td>12.21</td>\n",
       "      <td>13.46</td>\n",
       "      <td>14.18</td>\n",
       "      <td>5</td>\n",
       "    </tr>\n",
       "    <tr>\n",
       "      <td>12</td>\n",
       "      <td>2006-10-27 00:00:00</td>\n",
       "      <td>7.69509e+09</td>\n",
       "      <td>137.91</td>\n",
       "      <td>1.24</td>\n",
       "      <td>10.8</td>\n",
       "      <td>11.31</td>\n",
       "      <td>12.26</td>\n",
       "      <td>13.46</td>\n",
       "      <td>14.24</td>\n",
       "      <td>6</td>\n",
       "    </tr>\n",
       "    <tr>\n",
       "      <td>...</td>\n",
       "      <td>...</td>\n",
       "      <td>...</td>\n",
       "      <td>...</td>\n",
       "      <td>...</td>\n",
       "      <td>...</td>\n",
       "      <td>...</td>\n",
       "      <td>...</td>\n",
       "      <td>...</td>\n",
       "      <td>...</td>\n",
       "      <td>...</td>\n",
       "    </tr>\n",
       "    <tr>\n",
       "      <td>3249</td>\n",
       "      <td>2019-09-10 00:00:00</td>\n",
       "      <td>27.3</td>\n",
       "      <td>298.13</td>\n",
       "      <td>2.2625</td>\n",
       "      <td>15.2</td>\n",
       "      <td>16.225</td>\n",
       "      <td>17.675</td>\n",
       "      <td>18.025</td>\n",
       "      <td>17.875</td>\n",
       "      <td>2</td>\n",
       "    </tr>\n",
       "    <tr>\n",
       "      <td>3250</td>\n",
       "      <td>2019-09-11 00:00:00</td>\n",
       "      <td>26.61</td>\n",
       "      <td>300.25</td>\n",
       "      <td>2.4725</td>\n",
       "      <td>14.61</td>\n",
       "      <td>15.725</td>\n",
       "      <td>17.325</td>\n",
       "      <td>17.825</td>\n",
       "      <td>17.725</td>\n",
       "      <td>3</td>\n",
       "    </tr>\n",
       "    <tr>\n",
       "      <td>3251</td>\n",
       "      <td>2019-09-12 00:00:00</td>\n",
       "      <td>25.65</td>\n",
       "      <td>301.29</td>\n",
       "      <td>2.1575</td>\n",
       "      <td>14.22</td>\n",
       "      <td>14.975</td>\n",
       "      <td>17.025</td>\n",
       "      <td>17.625</td>\n",
       "      <td>17.575</td>\n",
       "      <td>4</td>\n",
       "    </tr>\n",
       "    <tr>\n",
       "      <td>3252</td>\n",
       "      <td>2019-09-13 00:00:00</td>\n",
       "      <td>25.11</td>\n",
       "      <td>301.09</td>\n",
       "      <td>2.3025</td>\n",
       "      <td>13.74</td>\n",
       "      <td>14.475</td>\n",
       "      <td>16.875</td>\n",
       "      <td>17.575</td>\n",
       "      <td>17.625</td>\n",
       "      <td>5</td>\n",
       "    </tr>\n",
       "    <tr>\n",
       "      <td>3253</td>\n",
       "      <td>2019-09-16 00:00:00</td>\n",
       "      <td>25.65</td>\n",
       "      <td>300.16</td>\n",
       "      <td>1.2575</td>\n",
       "      <td>14.67</td>\n",
       "      <td>14.625</td>\n",
       "      <td>17.275</td>\n",
       "      <td>17.925</td>\n",
       "      <td>17.925</td>\n",
       "      <td>1</td>\n",
       "    </tr>\n",
       "  </tbody>\n",
       "</table>\n",
       "<p>3246 rows × 10 columns</p>\n",
       "</div>"
      ],
      "text/plain": [
       "                     Date         UVXY     SPY  VXXBEN    VIX     UX1     UX2  \\\n",
       "8     2006-10-23 00:00:00  8.37707e+09  137.47    1.91  11.08   11.95   13.16   \n",
       "9     2006-10-24 00:00:00  8.37707e+09  137.88   2.025  10.78   11.78   12.83   \n",
       "10    2006-10-25 00:00:00  7.96899e+09  138.35    1.76  10.66   11.49   12.52   \n",
       "11    2006-10-26 00:00:00  7.61865e+09  138.78   1.515  10.56   11.25   12.21   \n",
       "12    2006-10-27 00:00:00  7.69509e+09  137.91    1.24   10.8   11.31   12.26   \n",
       "...                   ...          ...     ...     ...    ...     ...     ...   \n",
       "3249  2019-09-10 00:00:00         27.3  298.13  2.2625   15.2  16.225  17.675   \n",
       "3250  2019-09-11 00:00:00        26.61  300.25  2.4725  14.61  15.725  17.325   \n",
       "3251  2019-09-12 00:00:00        25.65  301.29  2.1575  14.22  14.975  17.025   \n",
       "3252  2019-09-13 00:00:00        25.11  301.09  2.3025  13.74  14.475  16.875   \n",
       "3253  2019-09-16 00:00:00        25.65  300.16  1.2575  14.67  14.625  17.275   \n",
       "\n",
       "         UX3     UX4 Day of Week  \n",
       "8      14.08    14.6           2  \n",
       "9      14.03   14.47           3  \n",
       "10     13.79   14.52           4  \n",
       "11     13.46   14.18           5  \n",
       "12     13.46   14.24           6  \n",
       "...      ...     ...         ...  \n",
       "3249  18.025  17.875           2  \n",
       "3250  17.825  17.725           3  \n",
       "3251  17.625  17.575           4  \n",
       "3252  17.575  17.625           5  \n",
       "3253  17.925  17.925           1  \n",
       "\n",
       "[3246 rows x 10 columns]"
      ]
     },
     "execution_count": 30,
     "metadata": {},
     "output_type": "execute_result"
    }
   ],
   "source": [
    "start_Data"
   ]
  },
  {
   "cell_type": "markdown",
   "metadata": {},
   "source": [
    "### Convert Date to Date Time"
   ]
  },
  {
   "cell_type": "code",
   "execution_count": 31,
   "metadata": {},
   "outputs": [],
   "source": [
    "date_Time = pd.to_datetime(start_Data[\"Date\"])"
   ]
  },
  {
   "cell_type": "code",
   "execution_count": 33,
   "metadata": {},
   "outputs": [],
   "source": [
    "start_Data[\"dates\"] = date_Time"
   ]
  },
  {
   "cell_type": "markdown",
   "metadata": {},
   "source": [
    "#### Remove old dates"
   ]
  },
  {
   "cell_type": "code",
   "execution_count": 35,
   "metadata": {},
   "outputs": [],
   "source": [
    "start_Data.drop(\"Date\", inplace=True, axis=1)"
   ]
  },
  {
   "cell_type": "code",
   "execution_count": 36,
   "metadata": {},
   "outputs": [
    {
     "data": {
      "text/html": [
       "<div>\n",
       "<style scoped>\n",
       "    .dataframe tbody tr th:only-of-type {\n",
       "        vertical-align: middle;\n",
       "    }\n",
       "\n",
       "    .dataframe tbody tr th {\n",
       "        vertical-align: top;\n",
       "    }\n",
       "\n",
       "    .dataframe thead th {\n",
       "        text-align: right;\n",
       "    }\n",
       "</style>\n",
       "<table border=\"1\" class=\"dataframe\">\n",
       "  <thead>\n",
       "    <tr style=\"text-align: right;\">\n",
       "      <th></th>\n",
       "      <th>UVXY</th>\n",
       "      <th>SPY</th>\n",
       "      <th>VXXBEN</th>\n",
       "      <th>VIX</th>\n",
       "      <th>UX1</th>\n",
       "      <th>UX2</th>\n",
       "      <th>UX3</th>\n",
       "      <th>UX4</th>\n",
       "      <th>Day of Week</th>\n",
       "      <th>dates</th>\n",
       "    </tr>\n",
       "  </thead>\n",
       "  <tbody>\n",
       "    <tr>\n",
       "      <td>8</td>\n",
       "      <td>8.37707e+09</td>\n",
       "      <td>137.47</td>\n",
       "      <td>1.91</td>\n",
       "      <td>11.08</td>\n",
       "      <td>11.95</td>\n",
       "      <td>13.16</td>\n",
       "      <td>14.08</td>\n",
       "      <td>14.6</td>\n",
       "      <td>2</td>\n",
       "      <td>2006-10-23</td>\n",
       "    </tr>\n",
       "    <tr>\n",
       "      <td>9</td>\n",
       "      <td>8.37707e+09</td>\n",
       "      <td>137.88</td>\n",
       "      <td>2.025</td>\n",
       "      <td>10.78</td>\n",
       "      <td>11.78</td>\n",
       "      <td>12.83</td>\n",
       "      <td>14.03</td>\n",
       "      <td>14.47</td>\n",
       "      <td>3</td>\n",
       "      <td>2006-10-24</td>\n",
       "    </tr>\n",
       "    <tr>\n",
       "      <td>10</td>\n",
       "      <td>7.96899e+09</td>\n",
       "      <td>138.35</td>\n",
       "      <td>1.76</td>\n",
       "      <td>10.66</td>\n",
       "      <td>11.49</td>\n",
       "      <td>12.52</td>\n",
       "      <td>13.79</td>\n",
       "      <td>14.52</td>\n",
       "      <td>4</td>\n",
       "      <td>2006-10-25</td>\n",
       "    </tr>\n",
       "    <tr>\n",
       "      <td>11</td>\n",
       "      <td>7.61865e+09</td>\n",
       "      <td>138.78</td>\n",
       "      <td>1.515</td>\n",
       "      <td>10.56</td>\n",
       "      <td>11.25</td>\n",
       "      <td>12.21</td>\n",
       "      <td>13.46</td>\n",
       "      <td>14.18</td>\n",
       "      <td>5</td>\n",
       "      <td>2006-10-26</td>\n",
       "    </tr>\n",
       "    <tr>\n",
       "      <td>12</td>\n",
       "      <td>7.69509e+09</td>\n",
       "      <td>137.91</td>\n",
       "      <td>1.24</td>\n",
       "      <td>10.8</td>\n",
       "      <td>11.31</td>\n",
       "      <td>12.26</td>\n",
       "      <td>13.46</td>\n",
       "      <td>14.24</td>\n",
       "      <td>6</td>\n",
       "      <td>2006-10-27</td>\n",
       "    </tr>\n",
       "    <tr>\n",
       "      <td>...</td>\n",
       "      <td>...</td>\n",
       "      <td>...</td>\n",
       "      <td>...</td>\n",
       "      <td>...</td>\n",
       "      <td>...</td>\n",
       "      <td>...</td>\n",
       "      <td>...</td>\n",
       "      <td>...</td>\n",
       "      <td>...</td>\n",
       "      <td>...</td>\n",
       "    </tr>\n",
       "    <tr>\n",
       "      <td>3249</td>\n",
       "      <td>27.3</td>\n",
       "      <td>298.13</td>\n",
       "      <td>2.2625</td>\n",
       "      <td>15.2</td>\n",
       "      <td>16.225</td>\n",
       "      <td>17.675</td>\n",
       "      <td>18.025</td>\n",
       "      <td>17.875</td>\n",
       "      <td>2</td>\n",
       "      <td>2019-09-10</td>\n",
       "    </tr>\n",
       "    <tr>\n",
       "      <td>3250</td>\n",
       "      <td>26.61</td>\n",
       "      <td>300.25</td>\n",
       "      <td>2.4725</td>\n",
       "      <td>14.61</td>\n",
       "      <td>15.725</td>\n",
       "      <td>17.325</td>\n",
       "      <td>17.825</td>\n",
       "      <td>17.725</td>\n",
       "      <td>3</td>\n",
       "      <td>2019-09-11</td>\n",
       "    </tr>\n",
       "    <tr>\n",
       "      <td>3251</td>\n",
       "      <td>25.65</td>\n",
       "      <td>301.29</td>\n",
       "      <td>2.1575</td>\n",
       "      <td>14.22</td>\n",
       "      <td>14.975</td>\n",
       "      <td>17.025</td>\n",
       "      <td>17.625</td>\n",
       "      <td>17.575</td>\n",
       "      <td>4</td>\n",
       "      <td>2019-09-12</td>\n",
       "    </tr>\n",
       "    <tr>\n",
       "      <td>3252</td>\n",
       "      <td>25.11</td>\n",
       "      <td>301.09</td>\n",
       "      <td>2.3025</td>\n",
       "      <td>13.74</td>\n",
       "      <td>14.475</td>\n",
       "      <td>16.875</td>\n",
       "      <td>17.575</td>\n",
       "      <td>17.625</td>\n",
       "      <td>5</td>\n",
       "      <td>2019-09-13</td>\n",
       "    </tr>\n",
       "    <tr>\n",
       "      <td>3253</td>\n",
       "      <td>25.65</td>\n",
       "      <td>300.16</td>\n",
       "      <td>1.2575</td>\n",
       "      <td>14.67</td>\n",
       "      <td>14.625</td>\n",
       "      <td>17.275</td>\n",
       "      <td>17.925</td>\n",
       "      <td>17.925</td>\n",
       "      <td>1</td>\n",
       "      <td>2019-09-16</td>\n",
       "    </tr>\n",
       "  </tbody>\n",
       "</table>\n",
       "<p>3246 rows × 10 columns</p>\n",
       "</div>"
      ],
      "text/plain": [
       "             UVXY     SPY  VXXBEN    VIX     UX1     UX2     UX3     UX4  \\\n",
       "8     8.37707e+09  137.47    1.91  11.08   11.95   13.16   14.08    14.6   \n",
       "9     8.37707e+09  137.88   2.025  10.78   11.78   12.83   14.03   14.47   \n",
       "10    7.96899e+09  138.35    1.76  10.66   11.49   12.52   13.79   14.52   \n",
       "11    7.61865e+09  138.78   1.515  10.56   11.25   12.21   13.46   14.18   \n",
       "12    7.69509e+09  137.91    1.24   10.8   11.31   12.26   13.46   14.24   \n",
       "...           ...     ...     ...    ...     ...     ...     ...     ...   \n",
       "3249         27.3  298.13  2.2625   15.2  16.225  17.675  18.025  17.875   \n",
       "3250        26.61  300.25  2.4725  14.61  15.725  17.325  17.825  17.725   \n",
       "3251        25.65  301.29  2.1575  14.22  14.975  17.025  17.625  17.575   \n",
       "3252        25.11  301.09  2.3025  13.74  14.475  16.875  17.575  17.625   \n",
       "3253        25.65  300.16  1.2575  14.67  14.625  17.275  17.925  17.925   \n",
       "\n",
       "     Day of Week      dates  \n",
       "8              2 2006-10-23  \n",
       "9              3 2006-10-24  \n",
       "10             4 2006-10-25  \n",
       "11             5 2006-10-26  \n",
       "12             6 2006-10-27  \n",
       "...          ...        ...  \n",
       "3249           2 2019-09-10  \n",
       "3250           3 2019-09-11  \n",
       "3251           4 2019-09-12  \n",
       "3252           5 2019-09-13  \n",
       "3253           1 2019-09-16  \n",
       "\n",
       "[3246 rows x 10 columns]"
      ]
     },
     "execution_count": 36,
     "metadata": {},
     "output_type": "execute_result"
    }
   ],
   "source": [
    "start_Data"
   ]
  },
  {
   "cell_type": "markdown",
   "metadata": {},
   "source": [
    "### Set index to new dates"
   ]
  },
  {
   "cell_type": "code",
   "execution_count": 38,
   "metadata": {},
   "outputs": [],
   "source": [
    "start_Data.set_index(\"dates\", inplace=True)"
   ]
  },
  {
   "cell_type": "code",
   "execution_count": 39,
   "metadata": {},
   "outputs": [
    {
     "data": {
      "text/html": [
       "<div>\n",
       "<style scoped>\n",
       "    .dataframe tbody tr th:only-of-type {\n",
       "        vertical-align: middle;\n",
       "    }\n",
       "\n",
       "    .dataframe tbody tr th {\n",
       "        vertical-align: top;\n",
       "    }\n",
       "\n",
       "    .dataframe thead th {\n",
       "        text-align: right;\n",
       "    }\n",
       "</style>\n",
       "<table border=\"1\" class=\"dataframe\">\n",
       "  <thead>\n",
       "    <tr style=\"text-align: right;\">\n",
       "      <th></th>\n",
       "      <th>UVXY</th>\n",
       "      <th>SPY</th>\n",
       "      <th>VXXBEN</th>\n",
       "      <th>VIX</th>\n",
       "      <th>UX1</th>\n",
       "      <th>UX2</th>\n",
       "      <th>UX3</th>\n",
       "      <th>UX4</th>\n",
       "      <th>Day of Week</th>\n",
       "    </tr>\n",
       "    <tr>\n",
       "      <th>dates</th>\n",
       "      <th></th>\n",
       "      <th></th>\n",
       "      <th></th>\n",
       "      <th></th>\n",
       "      <th></th>\n",
       "      <th></th>\n",
       "      <th></th>\n",
       "      <th></th>\n",
       "      <th></th>\n",
       "    </tr>\n",
       "  </thead>\n",
       "  <tbody>\n",
       "    <tr>\n",
       "      <td>2006-10-23</td>\n",
       "      <td>8.37707e+09</td>\n",
       "      <td>137.47</td>\n",
       "      <td>1.91</td>\n",
       "      <td>11.08</td>\n",
       "      <td>11.95</td>\n",
       "      <td>13.16</td>\n",
       "      <td>14.08</td>\n",
       "      <td>14.6</td>\n",
       "      <td>2</td>\n",
       "    </tr>\n",
       "    <tr>\n",
       "      <td>2006-10-24</td>\n",
       "      <td>8.37707e+09</td>\n",
       "      <td>137.88</td>\n",
       "      <td>2.025</td>\n",
       "      <td>10.78</td>\n",
       "      <td>11.78</td>\n",
       "      <td>12.83</td>\n",
       "      <td>14.03</td>\n",
       "      <td>14.47</td>\n",
       "      <td>3</td>\n",
       "    </tr>\n",
       "    <tr>\n",
       "      <td>2006-10-25</td>\n",
       "      <td>7.96899e+09</td>\n",
       "      <td>138.35</td>\n",
       "      <td>1.76</td>\n",
       "      <td>10.66</td>\n",
       "      <td>11.49</td>\n",
       "      <td>12.52</td>\n",
       "      <td>13.79</td>\n",
       "      <td>14.52</td>\n",
       "      <td>4</td>\n",
       "    </tr>\n",
       "    <tr>\n",
       "      <td>2006-10-26</td>\n",
       "      <td>7.61865e+09</td>\n",
       "      <td>138.78</td>\n",
       "      <td>1.515</td>\n",
       "      <td>10.56</td>\n",
       "      <td>11.25</td>\n",
       "      <td>12.21</td>\n",
       "      <td>13.46</td>\n",
       "      <td>14.18</td>\n",
       "      <td>5</td>\n",
       "    </tr>\n",
       "    <tr>\n",
       "      <td>2006-10-27</td>\n",
       "      <td>7.69509e+09</td>\n",
       "      <td>137.91</td>\n",
       "      <td>1.24</td>\n",
       "      <td>10.8</td>\n",
       "      <td>11.31</td>\n",
       "      <td>12.26</td>\n",
       "      <td>13.46</td>\n",
       "      <td>14.24</td>\n",
       "      <td>6</td>\n",
       "    </tr>\n",
       "    <tr>\n",
       "      <td>...</td>\n",
       "      <td>...</td>\n",
       "      <td>...</td>\n",
       "      <td>...</td>\n",
       "      <td>...</td>\n",
       "      <td>...</td>\n",
       "      <td>...</td>\n",
       "      <td>...</td>\n",
       "      <td>...</td>\n",
       "      <td>...</td>\n",
       "    </tr>\n",
       "    <tr>\n",
       "      <td>2019-09-10</td>\n",
       "      <td>27.3</td>\n",
       "      <td>298.13</td>\n",
       "      <td>2.2625</td>\n",
       "      <td>15.2</td>\n",
       "      <td>16.225</td>\n",
       "      <td>17.675</td>\n",
       "      <td>18.025</td>\n",
       "      <td>17.875</td>\n",
       "      <td>2</td>\n",
       "    </tr>\n",
       "    <tr>\n",
       "      <td>2019-09-11</td>\n",
       "      <td>26.61</td>\n",
       "      <td>300.25</td>\n",
       "      <td>2.4725</td>\n",
       "      <td>14.61</td>\n",
       "      <td>15.725</td>\n",
       "      <td>17.325</td>\n",
       "      <td>17.825</td>\n",
       "      <td>17.725</td>\n",
       "      <td>3</td>\n",
       "    </tr>\n",
       "    <tr>\n",
       "      <td>2019-09-12</td>\n",
       "      <td>25.65</td>\n",
       "      <td>301.29</td>\n",
       "      <td>2.1575</td>\n",
       "      <td>14.22</td>\n",
       "      <td>14.975</td>\n",
       "      <td>17.025</td>\n",
       "      <td>17.625</td>\n",
       "      <td>17.575</td>\n",
       "      <td>4</td>\n",
       "    </tr>\n",
       "    <tr>\n",
       "      <td>2019-09-13</td>\n",
       "      <td>25.11</td>\n",
       "      <td>301.09</td>\n",
       "      <td>2.3025</td>\n",
       "      <td>13.74</td>\n",
       "      <td>14.475</td>\n",
       "      <td>16.875</td>\n",
       "      <td>17.575</td>\n",
       "      <td>17.625</td>\n",
       "      <td>5</td>\n",
       "    </tr>\n",
       "    <tr>\n",
       "      <td>2019-09-16</td>\n",
       "      <td>25.65</td>\n",
       "      <td>300.16</td>\n",
       "      <td>1.2575</td>\n",
       "      <td>14.67</td>\n",
       "      <td>14.625</td>\n",
       "      <td>17.275</td>\n",
       "      <td>17.925</td>\n",
       "      <td>17.925</td>\n",
       "      <td>1</td>\n",
       "    </tr>\n",
       "  </tbody>\n",
       "</table>\n",
       "<p>3246 rows × 9 columns</p>\n",
       "</div>"
      ],
      "text/plain": [
       "                   UVXY     SPY  VXXBEN    VIX     UX1     UX2     UX3  \\\n",
       "dates                                                                    \n",
       "2006-10-23  8.37707e+09  137.47    1.91  11.08   11.95   13.16   14.08   \n",
       "2006-10-24  8.37707e+09  137.88   2.025  10.78   11.78   12.83   14.03   \n",
       "2006-10-25  7.96899e+09  138.35    1.76  10.66   11.49   12.52   13.79   \n",
       "2006-10-26  7.61865e+09  138.78   1.515  10.56   11.25   12.21   13.46   \n",
       "2006-10-27  7.69509e+09  137.91    1.24   10.8   11.31   12.26   13.46   \n",
       "...                 ...     ...     ...    ...     ...     ...     ...   \n",
       "2019-09-10         27.3  298.13  2.2625   15.2  16.225  17.675  18.025   \n",
       "2019-09-11        26.61  300.25  2.4725  14.61  15.725  17.325  17.825   \n",
       "2019-09-12        25.65  301.29  2.1575  14.22  14.975  17.025  17.625   \n",
       "2019-09-13        25.11  301.09  2.3025  13.74  14.475  16.875  17.575   \n",
       "2019-09-16        25.65  300.16  1.2575  14.67  14.625  17.275  17.925   \n",
       "\n",
       "               UX4 Day of Week  \n",
       "dates                           \n",
       "2006-10-23    14.6           2  \n",
       "2006-10-24   14.47           3  \n",
       "2006-10-25   14.52           4  \n",
       "2006-10-26   14.18           5  \n",
       "2006-10-27   14.24           6  \n",
       "...            ...         ...  \n",
       "2019-09-10  17.875           2  \n",
       "2019-09-11  17.725           3  \n",
       "2019-09-12  17.575           4  \n",
       "2019-09-13  17.625           5  \n",
       "2019-09-16  17.925           1  \n",
       "\n",
       "[3246 rows x 9 columns]"
      ]
     },
     "execution_count": 39,
     "metadata": {},
     "output_type": "execute_result"
    }
   ],
   "source": [
    "start_Data"
   ]
  },
  {
   "cell_type": "markdown",
   "metadata": {},
   "source": [
    "## Will being in more data from the main file that may be used for analysis"
   ]
  },
  {
   "cell_type": "markdown",
   "metadata": {},
   "source": [
    "## Days to roll"
   ]
  },
  {
   "cell_type": "code",
   "execution_count": 49,
   "metadata": {},
   "outputs": [],
   "source": [
    "daystoRoll = data.drop([1,2,3,4,5,6,7,8,9,10], axis=1).iloc[8:][14]"
   ]
  },
  {
   "cell_type": "code",
   "execution_count": 119,
   "metadata": {},
   "outputs": [
    {
     "ename": "KeyError",
     "evalue": "'[1 2 3 4 5 6 7 8 9 10 11 12 13 14 15 16 17 18 19 20 21 22 23 24 25 26 27\\n 28] not found in axis'",
     "output_type": "error",
     "traceback": [
      "\u001b[0;31m---------------------------------------------------------------------------\u001b[0m",
      "\u001b[0;31mKeyError\u001b[0m                                  Traceback (most recent call last)",
      "\u001b[0;32m<ipython-input-119-5c6fe0b06189>\u001b[0m in \u001b[0;36m<module>\u001b[0;34m\u001b[0m\n\u001b[0;32m----> 1\u001b[0;31m \u001b[0mdaily_Dacay\u001b[0m \u001b[0;34m=\u001b[0m \u001b[0mdata\u001b[0m\u001b[0;34m.\u001b[0m\u001b[0mdrop\u001b[0m\u001b[0;34m(\u001b[0m\u001b[0;34m[\u001b[0m\u001b[0;36m1\u001b[0m\u001b[0;34m,\u001b[0m\u001b[0;36m2\u001b[0m\u001b[0;34m,\u001b[0m\u001b[0;36m3\u001b[0m\u001b[0;34m,\u001b[0m\u001b[0;36m4\u001b[0m\u001b[0;34m,\u001b[0m\u001b[0;36m5\u001b[0m\u001b[0;34m,\u001b[0m\u001b[0;36m6\u001b[0m\u001b[0;34m,\u001b[0m\u001b[0;36m7\u001b[0m\u001b[0;34m,\u001b[0m\u001b[0;36m8\u001b[0m\u001b[0;34m,\u001b[0m\u001b[0;36m9\u001b[0m\u001b[0;34m,\u001b[0m\u001b[0;36m10\u001b[0m\u001b[0;34m,\u001b[0m\u001b[0;36m11\u001b[0m\u001b[0;34m,\u001b[0m\u001b[0;36m12\u001b[0m\u001b[0;34m,\u001b[0m\u001b[0;36m13\u001b[0m\u001b[0;34m,\u001b[0m\u001b[0;36m14\u001b[0m\u001b[0;34m,\u001b[0m\u001b[0;36m15\u001b[0m\u001b[0;34m,\u001b[0m\u001b[0;36m16\u001b[0m\u001b[0;34m,\u001b[0m\u001b[0;36m17\u001b[0m\u001b[0;34m,\u001b[0m\u001b[0;36m18\u001b[0m\u001b[0;34m,\u001b[0m\u001b[0;36m19\u001b[0m\u001b[0;34m,\u001b[0m\u001b[0;36m20\u001b[0m\u001b[0;34m,\u001b[0m\u001b[0;36m21\u001b[0m\u001b[0;34m,\u001b[0m\u001b[0;36m22\u001b[0m\u001b[0;34m,\u001b[0m\u001b[0;36m23\u001b[0m\u001b[0;34m,\u001b[0m\u001b[0;36m24\u001b[0m\u001b[0;34m,\u001b[0m\u001b[0;36m25\u001b[0m\u001b[0;34m,\u001b[0m\u001b[0;36m26\u001b[0m\u001b[0;34m,\u001b[0m\u001b[0;36m27\u001b[0m\u001b[0;34m,\u001b[0m\u001b[0;36m28\u001b[0m\u001b[0;34m]\u001b[0m\u001b[0;34m,\u001b[0m \u001b[0maxis\u001b[0m\u001b[0;34m=\u001b[0m\u001b[0;36m1\u001b[0m\u001b[0;34m)\u001b[0m\u001b[0;34m[\u001b[0m\u001b[0;36m33\u001b[0m\u001b[0;34m]\u001b[0m\u001b[0;34m.\u001b[0m\u001b[0miloc\u001b[0m\u001b[0;34m[\u001b[0m\u001b[0;36m8\u001b[0m\u001b[0;34m:\u001b[0m\u001b[0;34m]\u001b[0m\u001b[0;34m\u001b[0m\u001b[0;34m\u001b[0m\u001b[0m\n\u001b[0m",
      "\u001b[0;32m~/opt/anaconda3/lib/python3.7/site-packages/pandas/core/frame.py\u001b[0m in \u001b[0;36mdrop\u001b[0;34m(self, labels, axis, index, columns, level, inplace, errors)\u001b[0m\n\u001b[1;32m   4100\u001b[0m             \u001b[0mlevel\u001b[0m\u001b[0;34m=\u001b[0m\u001b[0mlevel\u001b[0m\u001b[0;34m,\u001b[0m\u001b[0;34m\u001b[0m\u001b[0;34m\u001b[0m\u001b[0m\n\u001b[1;32m   4101\u001b[0m             \u001b[0minplace\u001b[0m\u001b[0;34m=\u001b[0m\u001b[0minplace\u001b[0m\u001b[0;34m,\u001b[0m\u001b[0;34m\u001b[0m\u001b[0;34m\u001b[0m\u001b[0m\n\u001b[0;32m-> 4102\u001b[0;31m             \u001b[0merrors\u001b[0m\u001b[0;34m=\u001b[0m\u001b[0merrors\u001b[0m\u001b[0;34m,\u001b[0m\u001b[0;34m\u001b[0m\u001b[0;34m\u001b[0m\u001b[0m\n\u001b[0m\u001b[1;32m   4103\u001b[0m         )\n\u001b[1;32m   4104\u001b[0m \u001b[0;34m\u001b[0m\u001b[0m\n",
      "\u001b[0;32m~/opt/anaconda3/lib/python3.7/site-packages/pandas/core/generic.py\u001b[0m in \u001b[0;36mdrop\u001b[0;34m(self, labels, axis, index, columns, level, inplace, errors)\u001b[0m\n\u001b[1;32m   3912\u001b[0m         \u001b[0;32mfor\u001b[0m \u001b[0maxis\u001b[0m\u001b[0;34m,\u001b[0m \u001b[0mlabels\u001b[0m \u001b[0;32min\u001b[0m \u001b[0maxes\u001b[0m\u001b[0;34m.\u001b[0m\u001b[0mitems\u001b[0m\u001b[0;34m(\u001b[0m\u001b[0;34m)\u001b[0m\u001b[0;34m:\u001b[0m\u001b[0;34m\u001b[0m\u001b[0;34m\u001b[0m\u001b[0m\n\u001b[1;32m   3913\u001b[0m             \u001b[0;32mif\u001b[0m \u001b[0mlabels\u001b[0m \u001b[0;32mis\u001b[0m \u001b[0;32mnot\u001b[0m \u001b[0;32mNone\u001b[0m\u001b[0;34m:\u001b[0m\u001b[0;34m\u001b[0m\u001b[0;34m\u001b[0m\u001b[0m\n\u001b[0;32m-> 3914\u001b[0;31m                 \u001b[0mobj\u001b[0m \u001b[0;34m=\u001b[0m \u001b[0mobj\u001b[0m\u001b[0;34m.\u001b[0m\u001b[0m_drop_axis\u001b[0m\u001b[0;34m(\u001b[0m\u001b[0mlabels\u001b[0m\u001b[0;34m,\u001b[0m \u001b[0maxis\u001b[0m\u001b[0;34m,\u001b[0m \u001b[0mlevel\u001b[0m\u001b[0;34m=\u001b[0m\u001b[0mlevel\u001b[0m\u001b[0;34m,\u001b[0m \u001b[0merrors\u001b[0m\u001b[0;34m=\u001b[0m\u001b[0merrors\u001b[0m\u001b[0;34m)\u001b[0m\u001b[0;34m\u001b[0m\u001b[0;34m\u001b[0m\u001b[0m\n\u001b[0m\u001b[1;32m   3915\u001b[0m \u001b[0;34m\u001b[0m\u001b[0m\n\u001b[1;32m   3916\u001b[0m         \u001b[0;32mif\u001b[0m \u001b[0minplace\u001b[0m\u001b[0;34m:\u001b[0m\u001b[0;34m\u001b[0m\u001b[0;34m\u001b[0m\u001b[0m\n",
      "\u001b[0;32m~/opt/anaconda3/lib/python3.7/site-packages/pandas/core/generic.py\u001b[0m in \u001b[0;36m_drop_axis\u001b[0;34m(self, labels, axis, level, errors)\u001b[0m\n\u001b[1;32m   3944\u001b[0m                 \u001b[0mnew_axis\u001b[0m \u001b[0;34m=\u001b[0m \u001b[0maxis\u001b[0m\u001b[0;34m.\u001b[0m\u001b[0mdrop\u001b[0m\u001b[0;34m(\u001b[0m\u001b[0mlabels\u001b[0m\u001b[0;34m,\u001b[0m \u001b[0mlevel\u001b[0m\u001b[0;34m=\u001b[0m\u001b[0mlevel\u001b[0m\u001b[0;34m,\u001b[0m \u001b[0merrors\u001b[0m\u001b[0;34m=\u001b[0m\u001b[0merrors\u001b[0m\u001b[0;34m)\u001b[0m\u001b[0;34m\u001b[0m\u001b[0;34m\u001b[0m\u001b[0m\n\u001b[1;32m   3945\u001b[0m             \u001b[0;32melse\u001b[0m\u001b[0;34m:\u001b[0m\u001b[0;34m\u001b[0m\u001b[0;34m\u001b[0m\u001b[0m\n\u001b[0;32m-> 3946\u001b[0;31m                 \u001b[0mnew_axis\u001b[0m \u001b[0;34m=\u001b[0m \u001b[0maxis\u001b[0m\u001b[0;34m.\u001b[0m\u001b[0mdrop\u001b[0m\u001b[0;34m(\u001b[0m\u001b[0mlabels\u001b[0m\u001b[0;34m,\u001b[0m \u001b[0merrors\u001b[0m\u001b[0;34m=\u001b[0m\u001b[0merrors\u001b[0m\u001b[0;34m)\u001b[0m\u001b[0;34m\u001b[0m\u001b[0;34m\u001b[0m\u001b[0m\n\u001b[0m\u001b[1;32m   3947\u001b[0m             \u001b[0mresult\u001b[0m \u001b[0;34m=\u001b[0m \u001b[0mself\u001b[0m\u001b[0;34m.\u001b[0m\u001b[0mreindex\u001b[0m\u001b[0;34m(\u001b[0m\u001b[0;34m**\u001b[0m\u001b[0;34m{\u001b[0m\u001b[0maxis_name\u001b[0m\u001b[0;34m:\u001b[0m \u001b[0mnew_axis\u001b[0m\u001b[0;34m}\u001b[0m\u001b[0;34m)\u001b[0m\u001b[0;34m\u001b[0m\u001b[0;34m\u001b[0m\u001b[0m\n\u001b[1;32m   3948\u001b[0m \u001b[0;34m\u001b[0m\u001b[0m\n",
      "\u001b[0;32m~/opt/anaconda3/lib/python3.7/site-packages/pandas/core/indexes/base.py\u001b[0m in \u001b[0;36mdrop\u001b[0;34m(self, labels, errors)\u001b[0m\n\u001b[1;32m   5338\u001b[0m         \u001b[0;32mif\u001b[0m \u001b[0mmask\u001b[0m\u001b[0;34m.\u001b[0m\u001b[0many\u001b[0m\u001b[0;34m(\u001b[0m\u001b[0;34m)\u001b[0m\u001b[0;34m:\u001b[0m\u001b[0;34m\u001b[0m\u001b[0;34m\u001b[0m\u001b[0m\n\u001b[1;32m   5339\u001b[0m             \u001b[0;32mif\u001b[0m \u001b[0merrors\u001b[0m \u001b[0;34m!=\u001b[0m \u001b[0;34m\"ignore\"\u001b[0m\u001b[0;34m:\u001b[0m\u001b[0;34m\u001b[0m\u001b[0;34m\u001b[0m\u001b[0m\n\u001b[0;32m-> 5340\u001b[0;31m                 \u001b[0;32mraise\u001b[0m \u001b[0mKeyError\u001b[0m\u001b[0;34m(\u001b[0m\u001b[0;34m\"{} not found in axis\"\u001b[0m\u001b[0;34m.\u001b[0m\u001b[0mformat\u001b[0m\u001b[0;34m(\u001b[0m\u001b[0mlabels\u001b[0m\u001b[0;34m[\u001b[0m\u001b[0mmask\u001b[0m\u001b[0;34m]\u001b[0m\u001b[0;34m)\u001b[0m\u001b[0;34m)\u001b[0m\u001b[0;34m\u001b[0m\u001b[0;34m\u001b[0m\u001b[0m\n\u001b[0m\u001b[1;32m   5341\u001b[0m             \u001b[0mindexer\u001b[0m \u001b[0;34m=\u001b[0m \u001b[0mindexer\u001b[0m\u001b[0;34m[\u001b[0m\u001b[0;34m~\u001b[0m\u001b[0mmask\u001b[0m\u001b[0;34m]\u001b[0m\u001b[0;34m\u001b[0m\u001b[0;34m\u001b[0m\u001b[0m\n\u001b[1;32m   5342\u001b[0m         \u001b[0;32mreturn\u001b[0m \u001b[0mself\u001b[0m\u001b[0;34m.\u001b[0m\u001b[0mdelete\u001b[0m\u001b[0;34m(\u001b[0m\u001b[0mindexer\u001b[0m\u001b[0;34m)\u001b[0m\u001b[0;34m\u001b[0m\u001b[0;34m\u001b[0m\u001b[0m\n",
      "\u001b[0;31mKeyError\u001b[0m: '[1 2 3 4 5 6 7 8 9 10 11 12 13 14 15 16 17 18 19 20 21 22 23 24 25 26 27\\n 28] not found in axis'"
     ]
    }
   ],
   "source": [
    "daily_Dacay = data.drop([1,2,3,4,5,6,7,8,9,10,11,12,13,14,15,16,17,18,19,20,21,22,23,24,25,26,27,28], axis=1)[33].iloc[8:]"
   ]
  },
  {
   "cell_type": "code",
   "execution_count": 78,
   "metadata": {},
   "outputs": [],
   "source": [
    "VXXGREG = data.drop([1,2,3,4,5,6,7,8,9,10,11,12,13,14,15,16,17,18,19,20,21,22,23,24,25,26,27,28,29,30,\n",
    "           31,31,32,33,34,35,36,37,38,39,40,41,42,43,44,45,46,47,48,49,50], axis=1)[51].iloc[8:]"
   ]
  },
  {
   "cell_type": "code",
   "execution_count": 99,
   "metadata": {},
   "outputs": [],
   "source": [
    "regression_Slope_InverseSlope = data.drop([1,2,3,4,5,6,7,8,9,10,11,12,13,14,15,16,17,18,19,20,21,22,23,24,25,26,27,28,29,30,\n",
    "           31,31,32,33,34,35,36,37,38,39,40,41,42,43,44,45,46,47,48,49,50,51,52,53,54,55,56,57,58,59,60,\"Unnamed: 60\",\n",
    "          \"Unnamed: 61\",\"Unnamed: 62\",\"Unnamed: 63\",\"Unnamed: 64\",\"Unnamed: 65\",\"Unnamed: 66\",\"Unnamed: 67\",\n",
    "          \"Unnamed: 68\",0,\"1.1\"], axis=1)[[\"2.1\",\"3.1\"]].iloc[8:]"
   ]
  },
  {
   "cell_type": "code",
   "execution_count": 106,
   "metadata": {},
   "outputs": [],
   "source": [
    "adjusted_regression_slope = data.drop([1,2,3,4,5,6,7,8,9,10,11,12,13,14,15,16,17,18,19,20,21,22,23,24,25,26,27,28,29,30,\n",
    "           31,31,32,33,34,35,36,37,38,39,40,41,42,43,44,45,46,47,48,49,50,51,52,53,54,55,56,57,58,59,60,\"Unnamed: 60\",\n",
    "          \"Unnamed: 61\",\"Unnamed: 62\",\"Unnamed: 63\",\"Unnamed: 64\",\"Unnamed: 65\",\"Unnamed: 66\",\"Unnamed: 67\",\n",
    "          \"Unnamed: 68\",0,\"1.1\",\"2.1\",\"3.1\",\"4.1\"], axis=1)[\"Unnamed: 74\"].iloc[8:]"
   ]
  },
  {
   "cell_type": "code",
   "execution_count": 131,
   "metadata": {},
   "outputs": [],
   "source": [
    "start_Data[\"Daily Decay\"] = data[33].iloc[8:]"
   ]
  },
  {
   "cell_type": "code",
   "execution_count": 133,
   "metadata": {},
   "outputs": [
    {
     "data": {
      "text/plain": [
       "Index(['UVXY', 'SPY', 'VXXBEN', 'VIX', 'UX1', 'UX2', 'UX3', 'UX4',\n",
       "       'Day of Week', 'Days to Roll', 'Daily Decay'],\n",
       "      dtype='object')"
      ]
     },
     "execution_count": 133,
     "metadata": {},
     "output_type": "execute_result"
    }
   ],
   "source": [
    "start_Data.columns"
   ]
  },
  {
   "cell_type": "code",
   "execution_count": 136,
   "metadata": {},
   "outputs": [],
   "source": [
    "start_Data.drop(\"Days to Roll\", inplace=True, axis=1)"
   ]
  },
  {
   "cell_type": "code",
   "execution_count": 129,
   "metadata": {},
   "outputs": [
    {
     "data": {
      "text/plain": [
       "8              NaN\n",
       "9              NaN\n",
       "10             NaN\n",
       "11             NaN\n",
       "12             NaN\n",
       "           ...    \n",
       "3249    0.00838741\n",
       "3250     0.0101735\n",
       "3251    0.00989183\n",
       "3252     0.0118998\n",
       "3253    0.00741628\n",
       "Name: 33, Length: 3246, dtype: object"
      ]
     },
     "execution_count": 129,
     "metadata": {},
     "output_type": "execute_result"
    }
   ],
   "source": [
    "data[33].iloc[8:]"
   ]
  },
  {
   "cell_type": "code",
   "execution_count": null,
   "metadata": {},
   "outputs": [],
   "source": []
  }
 ],
 "metadata": {
  "kernelspec": {
   "display_name": "Python 3",
   "language": "python",
   "name": "python3"
  },
  "language_info": {
   "codemirror_mode": {
    "name": "ipython",
    "version": 3
   },
   "file_extension": ".py",
   "mimetype": "text/x-python",
   "name": "python",
   "nbconvert_exporter": "python",
   "pygments_lexer": "ipython3",
   "version": "3.7.4"
  }
 },
 "nbformat": 4,
 "nbformat_minor": 2
}
