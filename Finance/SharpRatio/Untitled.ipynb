{
 "cells": [
  {
   "cell_type": "markdown",
   "metadata": {},
   "source": [
    "### Congratulations! You have been hired as a consutant to assit a Hedge Fund manager in optimizing a portfio containing Apple, Microsoft, Google, Nvidia. Your goal is to find the proper weights that will generate a \"good\" return for the portfolio. WHat to take into consideration is that the manager does not like to take much rrisk but would consider is the returns for this portfilio would be significant. \n",
    "\n",
    "### Use your knowledge to look into allocating the weights for the portfolio that would suit his/her interest"
   ]
  },
  {
   "cell_type": "code",
   "execution_count": 96,
   "metadata": {},
   "outputs": [],
   "source": [
    "import pandas as pd\n",
    "import matplotlib.pyplot as plt\n",
    "import seaborn as sns\n",
    "from pandas_datareader import data as web\n",
    "import numpy as np"
   ]
  },
  {
   "cell_type": "code",
   "execution_count": 97,
   "metadata": {},
   "outputs": [],
   "source": [
    "tickers = [\"AAPL\", \"MSFT\", \"GOOG\", \"NVDA\"]"
   ]
  },
  {
   "cell_type": "code",
   "execution_count": 98,
   "metadata": {},
   "outputs": [],
   "source": [
    "data = pd.DataFrame()\n",
    "for t in tickers:\n",
    "    data[t] = web.DataReader(t, data_source=\"yahoo\", start=\"2009-1-1\")[\"Adj Close\"]"
   ]
  },
  {
   "cell_type": "code",
   "execution_count": 99,
   "metadata": {},
   "outputs": [
    {
     "data": {
      "text/html": [
       "<div>\n",
       "<style scoped>\n",
       "    .dataframe tbody tr th:only-of-type {\n",
       "        vertical-align: middle;\n",
       "    }\n",
       "\n",
       "    .dataframe tbody tr th {\n",
       "        vertical-align: top;\n",
       "    }\n",
       "\n",
       "    .dataframe thead th {\n",
       "        text-align: right;\n",
       "    }\n",
       "</style>\n",
       "<table border=\"1\" class=\"dataframe\">\n",
       "  <thead>\n",
       "    <tr style=\"text-align: right;\">\n",
       "      <th></th>\n",
       "      <th>AAPL</th>\n",
       "      <th>MSFT</th>\n",
       "      <th>GOOG</th>\n",
       "      <th>NVDA</th>\n",
       "    </tr>\n",
       "    <tr>\n",
       "      <th>Date</th>\n",
       "      <th></th>\n",
       "      <th></th>\n",
       "      <th></th>\n",
       "      <th></th>\n",
       "    </tr>\n",
       "  </thead>\n",
       "  <tbody>\n",
       "    <tr>\n",
       "      <td>2009-01-02</td>\n",
       "      <td>11.253528</td>\n",
       "      <td>15.592469</td>\n",
       "      <td>160.060059</td>\n",
       "      <td>8.016504</td>\n",
       "    </tr>\n",
       "    <tr>\n",
       "      <td>2009-01-05</td>\n",
       "      <td>11.728474</td>\n",
       "      <td>15.738195</td>\n",
       "      <td>163.412491</td>\n",
       "      <td>8.163763</td>\n",
       "    </tr>\n",
       "    <tr>\n",
       "      <td>2009-01-06</td>\n",
       "      <td>11.535025</td>\n",
       "      <td>15.922266</td>\n",
       "      <td>166.406265</td>\n",
       "      <td>8.439878</td>\n",
       "    </tr>\n",
       "    <tr>\n",
       "      <td>2009-01-07</td>\n",
       "      <td>11.285772</td>\n",
       "      <td>14.963554</td>\n",
       "      <td>160.403763</td>\n",
       "      <td>7.933669</td>\n",
       "    </tr>\n",
       "    <tr>\n",
       "      <td>2009-01-08</td>\n",
       "      <td>11.495339</td>\n",
       "      <td>15.431399</td>\n",
       "      <td>161.987823</td>\n",
       "      <td>7.731187</td>\n",
       "    </tr>\n",
       "  </tbody>\n",
       "</table>\n",
       "</div>"
      ],
      "text/plain": [
       "                 AAPL       MSFT        GOOG      NVDA\n",
       "Date                                                  \n",
       "2009-01-02  11.253528  15.592469  160.060059  8.016504\n",
       "2009-01-05  11.728474  15.738195  163.412491  8.163763\n",
       "2009-01-06  11.535025  15.922266  166.406265  8.439878\n",
       "2009-01-07  11.285772  14.963554  160.403763  7.933669\n",
       "2009-01-08  11.495339  15.431399  161.987823  7.731187"
      ]
     },
     "execution_count": 99,
     "metadata": {},
     "output_type": "execute_result"
    }
   ],
   "source": [
    "data.head()"
   ]
  },
  {
   "cell_type": "markdown",
   "metadata": {},
   "source": [
    "## Normal Returns\n",
    "- Calculate the normal returns for the portfilio containing the 4 selected securties"
   ]
  },
  {
   "cell_type": "code",
   "execution_count": 100,
   "metadata": {},
   "outputs": [],
   "source": [
    "for t in tickers:\n",
    "    data[f\"{t} normal returns\"] = data[f\"{t}\"]/data[f\"{t}\"].iloc[0]"
   ]
  },
  {
   "cell_type": "code",
   "execution_count": 101,
   "metadata": {},
   "outputs": [
    {
     "data": {
      "text/html": [
       "<div>\n",
       "<style scoped>\n",
       "    .dataframe tbody tr th:only-of-type {\n",
       "        vertical-align: middle;\n",
       "    }\n",
       "\n",
       "    .dataframe tbody tr th {\n",
       "        vertical-align: top;\n",
       "    }\n",
       "\n",
       "    .dataframe thead th {\n",
       "        text-align: right;\n",
       "    }\n",
       "</style>\n",
       "<table border=\"1\" class=\"dataframe\">\n",
       "  <thead>\n",
       "    <tr style=\"text-align: right;\">\n",
       "      <th></th>\n",
       "      <th>AAPL</th>\n",
       "      <th>MSFT</th>\n",
       "      <th>GOOG</th>\n",
       "      <th>NVDA</th>\n",
       "      <th>AAPL normal returns</th>\n",
       "      <th>MSFT normal returns</th>\n",
       "      <th>GOOG normal returns</th>\n",
       "      <th>NVDA normal returns</th>\n",
       "    </tr>\n",
       "    <tr>\n",
       "      <th>Date</th>\n",
       "      <th></th>\n",
       "      <th></th>\n",
       "      <th></th>\n",
       "      <th></th>\n",
       "      <th></th>\n",
       "      <th></th>\n",
       "      <th></th>\n",
       "      <th></th>\n",
       "    </tr>\n",
       "  </thead>\n",
       "  <tbody>\n",
       "    <tr>\n",
       "      <td>2009-01-02</td>\n",
       "      <td>11.253528</td>\n",
       "      <td>15.592469</td>\n",
       "      <td>160.060059</td>\n",
       "      <td>8.016504</td>\n",
       "      <td>1.000000</td>\n",
       "      <td>1.000000</td>\n",
       "      <td>1.000000</td>\n",
       "      <td>1.000000</td>\n",
       "    </tr>\n",
       "    <tr>\n",
       "      <td>2009-01-05</td>\n",
       "      <td>11.728474</td>\n",
       "      <td>15.738195</td>\n",
       "      <td>163.412491</td>\n",
       "      <td>8.163763</td>\n",
       "      <td>1.042204</td>\n",
       "      <td>1.009346</td>\n",
       "      <td>1.020945</td>\n",
       "      <td>1.018369</td>\n",
       "    </tr>\n",
       "    <tr>\n",
       "      <td>2009-01-06</td>\n",
       "      <td>11.535025</td>\n",
       "      <td>15.922266</td>\n",
       "      <td>166.406265</td>\n",
       "      <td>8.439878</td>\n",
       "      <td>1.025014</td>\n",
       "      <td>1.021151</td>\n",
       "      <td>1.039649</td>\n",
       "      <td>1.052813</td>\n",
       "    </tr>\n",
       "    <tr>\n",
       "      <td>2009-01-07</td>\n",
       "      <td>11.285772</td>\n",
       "      <td>14.963554</td>\n",
       "      <td>160.403763</td>\n",
       "      <td>7.933669</td>\n",
       "      <td>1.002865</td>\n",
       "      <td>0.959665</td>\n",
       "      <td>1.002147</td>\n",
       "      <td>0.989667</td>\n",
       "    </tr>\n",
       "    <tr>\n",
       "      <td>2009-01-08</td>\n",
       "      <td>11.495339</td>\n",
       "      <td>15.431399</td>\n",
       "      <td>161.987823</td>\n",
       "      <td>7.731187</td>\n",
       "      <td>1.021488</td>\n",
       "      <td>0.989670</td>\n",
       "      <td>1.012044</td>\n",
       "      <td>0.964409</td>\n",
       "    </tr>\n",
       "  </tbody>\n",
       "</table>\n",
       "</div>"
      ],
      "text/plain": [
       "                 AAPL       MSFT        GOOG      NVDA  AAPL normal returns  \\\n",
       "Date                                                                          \n",
       "2009-01-02  11.253528  15.592469  160.060059  8.016504             1.000000   \n",
       "2009-01-05  11.728474  15.738195  163.412491  8.163763             1.042204   \n",
       "2009-01-06  11.535025  15.922266  166.406265  8.439878             1.025014   \n",
       "2009-01-07  11.285772  14.963554  160.403763  7.933669             1.002865   \n",
       "2009-01-08  11.495339  15.431399  161.987823  7.731187             1.021488   \n",
       "\n",
       "            MSFT normal returns  GOOG normal returns  NVDA normal returns  \n",
       "Date                                                                       \n",
       "2009-01-02             1.000000             1.000000             1.000000  \n",
       "2009-01-05             1.009346             1.020945             1.018369  \n",
       "2009-01-06             1.021151             1.039649             1.052813  \n",
       "2009-01-07             0.959665             1.002147             0.989667  \n",
       "2009-01-08             0.989670             1.012044             0.964409  "
      ]
     },
     "execution_count": 101,
     "metadata": {},
     "output_type": "execute_result"
    }
   ],
   "source": [
    "data.head()"
   ]
  },
  {
   "cell_type": "code",
   "execution_count": 102,
   "metadata": {},
   "outputs": [
    {
     "data": {
      "text/html": [
       "<div>\n",
       "<style scoped>\n",
       "    .dataframe tbody tr th:only-of-type {\n",
       "        vertical-align: middle;\n",
       "    }\n",
       "\n",
       "    .dataframe tbody tr th {\n",
       "        vertical-align: top;\n",
       "    }\n",
       "\n",
       "    .dataframe thead th {\n",
       "        text-align: right;\n",
       "    }\n",
       "</style>\n",
       "<table border=\"1\" class=\"dataframe\">\n",
       "  <thead>\n",
       "    <tr style=\"text-align: right;\">\n",
       "      <th></th>\n",
       "      <th>AAPL</th>\n",
       "      <th>MSFT</th>\n",
       "      <th>GOOG</th>\n",
       "      <th>NVDA</th>\n",
       "      <th>AAPL normal returns</th>\n",
       "      <th>MSFT normal returns</th>\n",
       "      <th>GOOG normal returns</th>\n",
       "      <th>NVDA normal returns</th>\n",
       "    </tr>\n",
       "    <tr>\n",
       "      <th>Date</th>\n",
       "      <th></th>\n",
       "      <th></th>\n",
       "      <th></th>\n",
       "      <th></th>\n",
       "      <th></th>\n",
       "      <th></th>\n",
       "      <th></th>\n",
       "      <th></th>\n",
       "    </tr>\n",
       "  </thead>\n",
       "  <tbody>\n",
       "    <tr>\n",
       "      <td>2020-04-27</td>\n",
       "      <td>283.170013</td>\n",
       "      <td>174.050003</td>\n",
       "      <td>1275.880005</td>\n",
       "      <td>297.079987</td>\n",
       "      <td>25.162778</td>\n",
       "      <td>11.162440</td>\n",
       "      <td>7.971258</td>\n",
       "      <td>37.058545</td>\n",
       "    </tr>\n",
       "    <tr>\n",
       "      <td>2020-04-28</td>\n",
       "      <td>278.579987</td>\n",
       "      <td>169.809998</td>\n",
       "      <td>1233.670044</td>\n",
       "      <td>291.359985</td>\n",
       "      <td>24.754903</td>\n",
       "      <td>10.890514</td>\n",
       "      <td>7.707545</td>\n",
       "      <td>36.345017</td>\n",
       "    </tr>\n",
       "    <tr>\n",
       "      <td>2020-04-29</td>\n",
       "      <td>287.730011</td>\n",
       "      <td>177.429993</td>\n",
       "      <td>1341.479980</td>\n",
       "      <td>298.459991</td>\n",
       "      <td>25.567984</td>\n",
       "      <td>11.379211</td>\n",
       "      <td>8.381104</td>\n",
       "      <td>37.230691</td>\n",
       "    </tr>\n",
       "    <tr>\n",
       "      <td>2020-04-30</td>\n",
       "      <td>293.799988</td>\n",
       "      <td>179.210007</td>\n",
       "      <td>1348.660034</td>\n",
       "      <td>292.279999</td>\n",
       "      <td>26.107368</td>\n",
       "      <td>11.493369</td>\n",
       "      <td>8.425962</td>\n",
       "      <td>36.459782</td>\n",
       "    </tr>\n",
       "    <tr>\n",
       "      <td>2020-05-01</td>\n",
       "      <td>289.070007</td>\n",
       "      <td>174.570007</td>\n",
       "      <td>1320.609985</td>\n",
       "      <td>282.779999</td>\n",
       "      <td>25.687057</td>\n",
       "      <td>11.195790</td>\n",
       "      <td>8.250715</td>\n",
       "      <td>35.274727</td>\n",
       "    </tr>\n",
       "  </tbody>\n",
       "</table>\n",
       "</div>"
      ],
      "text/plain": [
       "                  AAPL        MSFT         GOOG        NVDA  \\\n",
       "Date                                                          \n",
       "2020-04-27  283.170013  174.050003  1275.880005  297.079987   \n",
       "2020-04-28  278.579987  169.809998  1233.670044  291.359985   \n",
       "2020-04-29  287.730011  177.429993  1341.479980  298.459991   \n",
       "2020-04-30  293.799988  179.210007  1348.660034  292.279999   \n",
       "2020-05-01  289.070007  174.570007  1320.609985  282.779999   \n",
       "\n",
       "            AAPL normal returns  MSFT normal returns  GOOG normal returns  \\\n",
       "Date                                                                        \n",
       "2020-04-27            25.162778            11.162440             7.971258   \n",
       "2020-04-28            24.754903            10.890514             7.707545   \n",
       "2020-04-29            25.567984            11.379211             8.381104   \n",
       "2020-04-30            26.107368            11.493369             8.425962   \n",
       "2020-05-01            25.687057            11.195790             8.250715   \n",
       "\n",
       "            NVDA normal returns  \n",
       "Date                             \n",
       "2020-04-27            37.058545  \n",
       "2020-04-28            36.345017  \n",
       "2020-04-29            37.230691  \n",
       "2020-04-30            36.459782  \n",
       "2020-05-01            35.274727  "
      ]
     },
     "execution_count": 102,
     "metadata": {},
     "output_type": "execute_result"
    }
   ],
   "source": [
    "data.tail()"
   ]
  },
  {
   "cell_type": "markdown",
   "metadata": {},
   "source": [
    "### Portfolio Allocaiton \n",
    "- What percent of the portfolio is made up by each security.\n",
    "- We will select arbritrary weights and later find the best weighted portfolio\n",
    "- weights = 2% Apple, 4% Mirosoft, 3% Google ,1% Nvidia"
   ]
  },
  {
   "cell_type": "code",
   "execution_count": 103,
   "metadata": {},
   "outputs": [],
   "source": [
    "weights = [0.2,0.4,0.3,0.1]\n",
    "for stock, allocation in zip(tickers,weights):\n",
    "    data[f\"{stock} allocation\"] = data[f\"{stock} normal returns\"] * allocation"
   ]
  },
  {
   "cell_type": "code",
   "execution_count": 104,
   "metadata": {},
   "outputs": [
    {
     "data": {
      "text/html": [
       "<div>\n",
       "<style scoped>\n",
       "    .dataframe tbody tr th:only-of-type {\n",
       "        vertical-align: middle;\n",
       "    }\n",
       "\n",
       "    .dataframe tbody tr th {\n",
       "        vertical-align: top;\n",
       "    }\n",
       "\n",
       "    .dataframe thead th {\n",
       "        text-align: right;\n",
       "    }\n",
       "</style>\n",
       "<table border=\"1\" class=\"dataframe\">\n",
       "  <thead>\n",
       "    <tr style=\"text-align: right;\">\n",
       "      <th></th>\n",
       "      <th>AAPL</th>\n",
       "      <th>MSFT</th>\n",
       "      <th>GOOG</th>\n",
       "      <th>NVDA</th>\n",
       "      <th>AAPL normal returns</th>\n",
       "      <th>MSFT normal returns</th>\n",
       "      <th>GOOG normal returns</th>\n",
       "      <th>NVDA normal returns</th>\n",
       "      <th>AAPL allocation</th>\n",
       "      <th>MSFT allocation</th>\n",
       "      <th>GOOG allocation</th>\n",
       "      <th>NVDA allocation</th>\n",
       "    </tr>\n",
       "    <tr>\n",
       "      <th>Date</th>\n",
       "      <th></th>\n",
       "      <th></th>\n",
       "      <th></th>\n",
       "      <th></th>\n",
       "      <th></th>\n",
       "      <th></th>\n",
       "      <th></th>\n",
       "      <th></th>\n",
       "      <th></th>\n",
       "      <th></th>\n",
       "      <th></th>\n",
       "      <th></th>\n",
       "    </tr>\n",
       "  </thead>\n",
       "  <tbody>\n",
       "    <tr>\n",
       "      <td>2009-01-02</td>\n",
       "      <td>11.253528</td>\n",
       "      <td>15.592469</td>\n",
       "      <td>160.060059</td>\n",
       "      <td>8.016504</td>\n",
       "      <td>1.000000</td>\n",
       "      <td>1.000000</td>\n",
       "      <td>1.000000</td>\n",
       "      <td>1.000000</td>\n",
       "      <td>0.200000</td>\n",
       "      <td>0.400000</td>\n",
       "      <td>0.300000</td>\n",
       "      <td>0.100000</td>\n",
       "    </tr>\n",
       "    <tr>\n",
       "      <td>2009-01-05</td>\n",
       "      <td>11.728474</td>\n",
       "      <td>15.738195</td>\n",
       "      <td>163.412491</td>\n",
       "      <td>8.163763</td>\n",
       "      <td>1.042204</td>\n",
       "      <td>1.009346</td>\n",
       "      <td>1.020945</td>\n",
       "      <td>1.018369</td>\n",
       "      <td>0.208441</td>\n",
       "      <td>0.403738</td>\n",
       "      <td>0.306283</td>\n",
       "      <td>0.101837</td>\n",
       "    </tr>\n",
       "    <tr>\n",
       "      <td>2009-01-06</td>\n",
       "      <td>11.535025</td>\n",
       "      <td>15.922266</td>\n",
       "      <td>166.406265</td>\n",
       "      <td>8.439878</td>\n",
       "      <td>1.025014</td>\n",
       "      <td>1.021151</td>\n",
       "      <td>1.039649</td>\n",
       "      <td>1.052813</td>\n",
       "      <td>0.205003</td>\n",
       "      <td>0.408460</td>\n",
       "      <td>0.311895</td>\n",
       "      <td>0.105281</td>\n",
       "    </tr>\n",
       "    <tr>\n",
       "      <td>2009-01-07</td>\n",
       "      <td>11.285772</td>\n",
       "      <td>14.963554</td>\n",
       "      <td>160.403763</td>\n",
       "      <td>7.933669</td>\n",
       "      <td>1.002865</td>\n",
       "      <td>0.959665</td>\n",
       "      <td>1.002147</td>\n",
       "      <td>0.989667</td>\n",
       "      <td>0.200573</td>\n",
       "      <td>0.383866</td>\n",
       "      <td>0.300644</td>\n",
       "      <td>0.098967</td>\n",
       "    </tr>\n",
       "    <tr>\n",
       "      <td>2009-01-08</td>\n",
       "      <td>11.495339</td>\n",
       "      <td>15.431399</td>\n",
       "      <td>161.987823</td>\n",
       "      <td>7.731187</td>\n",
       "      <td>1.021488</td>\n",
       "      <td>0.989670</td>\n",
       "      <td>1.012044</td>\n",
       "      <td>0.964409</td>\n",
       "      <td>0.204298</td>\n",
       "      <td>0.395868</td>\n",
       "      <td>0.303613</td>\n",
       "      <td>0.096441</td>\n",
       "    </tr>\n",
       "  </tbody>\n",
       "</table>\n",
       "</div>"
      ],
      "text/plain": [
       "                 AAPL       MSFT        GOOG      NVDA  AAPL normal returns  \\\n",
       "Date                                                                          \n",
       "2009-01-02  11.253528  15.592469  160.060059  8.016504             1.000000   \n",
       "2009-01-05  11.728474  15.738195  163.412491  8.163763             1.042204   \n",
       "2009-01-06  11.535025  15.922266  166.406265  8.439878             1.025014   \n",
       "2009-01-07  11.285772  14.963554  160.403763  7.933669             1.002865   \n",
       "2009-01-08  11.495339  15.431399  161.987823  7.731187             1.021488   \n",
       "\n",
       "            MSFT normal returns  GOOG normal returns  NVDA normal returns  \\\n",
       "Date                                                                        \n",
       "2009-01-02             1.000000             1.000000             1.000000   \n",
       "2009-01-05             1.009346             1.020945             1.018369   \n",
       "2009-01-06             1.021151             1.039649             1.052813   \n",
       "2009-01-07             0.959665             1.002147             0.989667   \n",
       "2009-01-08             0.989670             1.012044             0.964409   \n",
       "\n",
       "            AAPL allocation  MSFT allocation  GOOG allocation  NVDA allocation  \n",
       "Date                                                                            \n",
       "2009-01-02         0.200000         0.400000         0.300000         0.100000  \n",
       "2009-01-05         0.208441         0.403738         0.306283         0.101837  \n",
       "2009-01-06         0.205003         0.408460         0.311895         0.105281  \n",
       "2009-01-07         0.200573         0.383866         0.300644         0.098967  \n",
       "2009-01-08         0.204298         0.395868         0.303613         0.096441  "
      ]
     },
     "execution_count": 104,
     "metadata": {},
     "output_type": "execute_result"
    }
   ],
   "source": [
    "data.head()"
   ]
  },
  {
   "cell_type": "code",
   "execution_count": 105,
   "metadata": {},
   "outputs": [
    {
     "data": {
      "text/html": [
       "<div>\n",
       "<style scoped>\n",
       "    .dataframe tbody tr th:only-of-type {\n",
       "        vertical-align: middle;\n",
       "    }\n",
       "\n",
       "    .dataframe tbody tr th {\n",
       "        vertical-align: top;\n",
       "    }\n",
       "\n",
       "    .dataframe thead th {\n",
       "        text-align: right;\n",
       "    }\n",
       "</style>\n",
       "<table border=\"1\" class=\"dataframe\">\n",
       "  <thead>\n",
       "    <tr style=\"text-align: right;\">\n",
       "      <th></th>\n",
       "      <th>AAPL</th>\n",
       "      <th>MSFT</th>\n",
       "      <th>GOOG</th>\n",
       "      <th>NVDA</th>\n",
       "      <th>AAPL normal returns</th>\n",
       "      <th>MSFT normal returns</th>\n",
       "      <th>GOOG normal returns</th>\n",
       "      <th>NVDA normal returns</th>\n",
       "      <th>AAPL allocation</th>\n",
       "      <th>MSFT allocation</th>\n",
       "      <th>GOOG allocation</th>\n",
       "      <th>NVDA allocation</th>\n",
       "    </tr>\n",
       "    <tr>\n",
       "      <th>Date</th>\n",
       "      <th></th>\n",
       "      <th></th>\n",
       "      <th></th>\n",
       "      <th></th>\n",
       "      <th></th>\n",
       "      <th></th>\n",
       "      <th></th>\n",
       "      <th></th>\n",
       "      <th></th>\n",
       "      <th></th>\n",
       "      <th></th>\n",
       "      <th></th>\n",
       "    </tr>\n",
       "  </thead>\n",
       "  <tbody>\n",
       "    <tr>\n",
       "      <td>2020-04-27</td>\n",
       "      <td>283.170013</td>\n",
       "      <td>174.050003</td>\n",
       "      <td>1275.880005</td>\n",
       "      <td>297.079987</td>\n",
       "      <td>25.162778</td>\n",
       "      <td>11.162440</td>\n",
       "      <td>7.971258</td>\n",
       "      <td>37.058545</td>\n",
       "      <td>5.032556</td>\n",
       "      <td>4.464976</td>\n",
       "      <td>2.391377</td>\n",
       "      <td>3.705855</td>\n",
       "    </tr>\n",
       "    <tr>\n",
       "      <td>2020-04-28</td>\n",
       "      <td>278.579987</td>\n",
       "      <td>169.809998</td>\n",
       "      <td>1233.670044</td>\n",
       "      <td>291.359985</td>\n",
       "      <td>24.754903</td>\n",
       "      <td>10.890514</td>\n",
       "      <td>7.707545</td>\n",
       "      <td>36.345017</td>\n",
       "      <td>4.950981</td>\n",
       "      <td>4.356205</td>\n",
       "      <td>2.312263</td>\n",
       "      <td>3.634502</td>\n",
       "    </tr>\n",
       "    <tr>\n",
       "      <td>2020-04-29</td>\n",
       "      <td>287.730011</td>\n",
       "      <td>177.429993</td>\n",
       "      <td>1341.479980</td>\n",
       "      <td>298.459991</td>\n",
       "      <td>25.567984</td>\n",
       "      <td>11.379211</td>\n",
       "      <td>8.381104</td>\n",
       "      <td>37.230691</td>\n",
       "      <td>5.113597</td>\n",
       "      <td>4.551684</td>\n",
       "      <td>2.514331</td>\n",
       "      <td>3.723069</td>\n",
       "    </tr>\n",
       "    <tr>\n",
       "      <td>2020-04-30</td>\n",
       "      <td>293.799988</td>\n",
       "      <td>179.210007</td>\n",
       "      <td>1348.660034</td>\n",
       "      <td>292.279999</td>\n",
       "      <td>26.107368</td>\n",
       "      <td>11.493369</td>\n",
       "      <td>8.425962</td>\n",
       "      <td>36.459782</td>\n",
       "      <td>5.221474</td>\n",
       "      <td>4.597348</td>\n",
       "      <td>2.527789</td>\n",
       "      <td>3.645978</td>\n",
       "    </tr>\n",
       "    <tr>\n",
       "      <td>2020-05-01</td>\n",
       "      <td>289.070007</td>\n",
       "      <td>174.570007</td>\n",
       "      <td>1320.609985</td>\n",
       "      <td>282.779999</td>\n",
       "      <td>25.687057</td>\n",
       "      <td>11.195790</td>\n",
       "      <td>8.250715</td>\n",
       "      <td>35.274727</td>\n",
       "      <td>5.137411</td>\n",
       "      <td>4.478316</td>\n",
       "      <td>2.475215</td>\n",
       "      <td>3.527473</td>\n",
       "    </tr>\n",
       "  </tbody>\n",
       "</table>\n",
       "</div>"
      ],
      "text/plain": [
       "                  AAPL        MSFT         GOOG        NVDA  \\\n",
       "Date                                                          \n",
       "2020-04-27  283.170013  174.050003  1275.880005  297.079987   \n",
       "2020-04-28  278.579987  169.809998  1233.670044  291.359985   \n",
       "2020-04-29  287.730011  177.429993  1341.479980  298.459991   \n",
       "2020-04-30  293.799988  179.210007  1348.660034  292.279999   \n",
       "2020-05-01  289.070007  174.570007  1320.609985  282.779999   \n",
       "\n",
       "            AAPL normal returns  MSFT normal returns  GOOG normal returns  \\\n",
       "Date                                                                        \n",
       "2020-04-27            25.162778            11.162440             7.971258   \n",
       "2020-04-28            24.754903            10.890514             7.707545   \n",
       "2020-04-29            25.567984            11.379211             8.381104   \n",
       "2020-04-30            26.107368            11.493369             8.425962   \n",
       "2020-05-01            25.687057            11.195790             8.250715   \n",
       "\n",
       "            NVDA normal returns  AAPL allocation  MSFT allocation  \\\n",
       "Date                                                                \n",
       "2020-04-27            37.058545         5.032556         4.464976   \n",
       "2020-04-28            36.345017         4.950981         4.356205   \n",
       "2020-04-29            37.230691         5.113597         4.551684   \n",
       "2020-04-30            36.459782         5.221474         4.597348   \n",
       "2020-05-01            35.274727         5.137411         4.478316   \n",
       "\n",
       "            GOOG allocation  NVDA allocation  \n",
       "Date                                          \n",
       "2020-04-27         2.391377         3.705855  \n",
       "2020-04-28         2.312263         3.634502  \n",
       "2020-04-29         2.514331         3.723069  \n",
       "2020-04-30         2.527789         3.645978  \n",
       "2020-05-01         2.475215         3.527473  "
      ]
     },
     "execution_count": 105,
     "metadata": {},
     "output_type": "execute_result"
    }
   ],
   "source": [
    "data.tail()"
   ]
  },
  {
   "cell_type": "markdown",
   "metadata": {},
   "source": [
    "### Position \n",
    "- Will calculate the position in this portfolio if we were to invest 200,000 in this portfolio"
   ]
  },
  {
   "cell_type": "code",
   "execution_count": 106,
   "metadata": {},
   "outputs": [],
   "source": [
    "for s in tickers:\n",
    "    data[f\"{s} position\"] = data[f\"{s} allocation\"] * 200000"
   ]
  },
  {
   "cell_type": "code",
   "execution_count": null,
   "metadata": {},
   "outputs": [],
   "source": []
  },
  {
   "cell_type": "markdown",
   "metadata": {},
   "source": [
    "### Total Position\n",
    "- We will calculate the total positon on a daily basis for the portfolio"
   ]
  },
  {
   "cell_type": "code",
   "execution_count": 108,
   "metadata": {},
   "outputs": [],
   "source": [
    "data[\"total position\"] = data[[\"AAPL position\",\"MSFT position\",\"GOOG position\",\"NVDA position\"]].sum(axis=1)"
   ]
  },
  {
   "cell_type": "code",
   "execution_count": 109,
   "metadata": {},
   "outputs": [
    {
     "data": {
      "text/plain": [
       "<matplotlib.axes._subplots.AxesSubplot at 0x1a3c0770d0>"
      ]
     },
     "execution_count": 109,
     "metadata": {},
     "output_type": "execute_result"
    },
    {
     "data": {
      "image/png": "[encoded data removed]",
      "text/plain": [
       "<Figure size 1152x432 with 1 Axes>"
      ]
     },
     "metadata": {},
     "output_type": "display_data"
    }
   ],
   "source": [
    "data[\"total position\"].plot(figsize = (16,6))"
   ]
  },
  {
   "cell_type": "markdown",
   "metadata": {},
   "source": [
    "#### Total Position Overtime \n",
    "- A 200K investment in a this portfolio since 2009 would have made you 3M today"
   ]
  },
  {
   "cell_type": "code",
   "execution_count": 110,
   "metadata": {},
   "outputs": [
    {
     "data": {
      "text/plain": [
       "Date\n",
       "2020-04-27    3.118953e+06\n",
       "2020-04-28    3.050790e+06\n",
       "2020-04-29    3.180536e+06\n",
       "2020-04-30    3.198518e+06\n",
       "2020-05-01    3.123683e+06\n",
       "Name: total position, dtype: float64"
      ]
     },
     "execution_count": 110,
     "metadata": {},
     "output_type": "execute_result"
    }
   ],
   "source": [
    "data[\"total position\"].tail()"
   ]
  },
  {
   "cell_type": "markdown",
   "metadata": {},
   "source": [
    "### Daily Portfolio Returns\n",
    "- We will calculate the datil returs for the portfolio \n",
    "- The histagram shows that there is not too much volatility in the portfolio \n",
    "- Most this portfilio has lost is approximately 5-6% "
   ]
  },
  {
   "cell_type": "code",
   "execution_count": 111,
   "metadata": {},
   "outputs": [],
   "source": [
    "data[\"daily returns\"] = data[\"total position\"].pct_change()"
   ]
  },
  {
   "cell_type": "code",
   "execution_count": 112,
   "metadata": {},
   "outputs": [
    {
     "data": {
      "text/plain": [
       "<matplotlib.axes._subplots.AxesSubplot at 0x1a3bf8ccd0>"
      ]
     },
     "execution_count": 112,
     "metadata": {},
     "output_type": "execute_result"
    },
    {
     "data": {
      "image/png": "[encoded data removed]",
      "text/plain": [
       "<Figure size 1152x432 with 1 Axes>"
      ]
     },
     "metadata": {},
     "output_type": "display_data"
    }
   ],
   "source": [
    "data[\"daily returns\"].hist(figsize = (16,6), bins = 50)"
   ]
  },
  {
   "cell_type": "markdown",
   "metadata": {},
   "source": [
    "### Sharp Ratio\n",
    " - Sharp ratio measures the relation of returns to volatility \n",
    " - We will calculate the sharp with the portfio we have developed with our arbritrary weights\n",
    " - We get a sharp of 1.13 which is pretty good"
   ]
  },
  {
   "cell_type": "code",
   "execution_count": 113,
   "metadata": {},
   "outputs": [],
   "source": [
    "port_volatility  = data[\"daily returns\"].std()"
   ]
  },
  {
   "cell_type": "code",
   "execution_count": 114,
   "metadata": {},
   "outputs": [],
   "source": [
    "port_mean_daily_returns = data[\"daily returns\"].mean()"
   ]
  },
  {
   "cell_type": "code",
   "execution_count": 115,
   "metadata": {},
   "outputs": [],
   "source": [
    "sharp = (port_mean_daily_returns/port_volatility) * np.sqrt(252)"
   ]
  },
  {
   "cell_type": "code",
   "execution_count": 116,
   "metadata": {},
   "outputs": [
    {
     "data": {
      "text/plain": [
       "1.1309880694886065"
      ]
     },
     "execution_count": 116,
     "metadata": {},
     "output_type": "execute_result"
    }
   ],
   "source": [
    "sharp"
   ]
  },
  {
   "cell_type": "markdown",
   "metadata": {},
   "source": [
    "### Randomly Weighted Portfolios\n",
    "- We will use python to generate 2000 portfolios to see if we can improve on the Sharp"
   ]
  },
  {
   "cell_type": "code",
   "execution_count": 117,
   "metadata": {},
   "outputs": [
    {
     "data": {
      "text/plain": [
       "Index(['AAPL', 'MSFT', 'GOOG', 'NVDA', 'AAPL normal returns',\n",
       "       'MSFT normal returns', 'GOOG normal returns', 'NVDA normal returns',\n",
       "       'AAPL allocation', 'MSFT allocation', 'GOOG allocation',\n",
       "       'NVDA allocation', 'AAPL position', 'MSFT position', 'GOOG position',\n",
       "       'NVDA position', 'total position', 'daily returns'],\n",
       "      dtype='object')"
      ]
     },
     "execution_count": 117,
     "metadata": {},
     "output_type": "execute_result"
    }
   ],
   "source": [
    "data.columns"
   ]
  },
  {
   "cell_type": "code",
   "execution_count": 118,
   "metadata": {},
   "outputs": [],
   "source": [
    "securties = data[['AAPL', 'MSFT', 'GOOG', 'NVDA']]"
   ]
  },
  {
   "cell_type": "code",
   "execution_count": 119,
   "metadata": {},
   "outputs": [],
   "source": [
    "port_returns = securties.pct_change()"
   ]
  },
  {
   "cell_type": "code",
   "execution_count": 120,
   "metadata": {},
   "outputs": [
    {
     "data": {
      "text/html": [
       "<div>\n",
       "<style scoped>\n",
       "    .dataframe tbody tr th:only-of-type {\n",
       "        vertical-align: middle;\n",
       "    }\n",
       "\n",
       "    .dataframe tbody tr th {\n",
       "        vertical-align: top;\n",
       "    }\n",
       "\n",
       "    .dataframe thead th {\n",
       "        text-align: right;\n",
       "    }\n",
       "</style>\n",
       "<table border=\"1\" class=\"dataframe\">\n",
       "  <thead>\n",
       "    <tr style=\"text-align: right;\">\n",
       "      <th></th>\n",
       "      <th>AAPL</th>\n",
       "      <th>MSFT</th>\n",
       "      <th>GOOG</th>\n",
       "      <th>NVDA</th>\n",
       "    </tr>\n",
       "    <tr>\n",
       "      <th>Date</th>\n",
       "      <th></th>\n",
       "      <th></th>\n",
       "      <th></th>\n",
       "      <th></th>\n",
       "    </tr>\n",
       "  </thead>\n",
       "  <tbody>\n",
       "    <tr>\n",
       "      <td>2009-01-02</td>\n",
       "      <td>NaN</td>\n",
       "      <td>NaN</td>\n",
       "      <td>NaN</td>\n",
       "      <td>NaN</td>\n",
       "    </tr>\n",
       "    <tr>\n",
       "      <td>2009-01-05</td>\n",
       "      <td>0.042204</td>\n",
       "      <td>0.009346</td>\n",
       "      <td>0.020945</td>\n",
       "      <td>0.018369</td>\n",
       "    </tr>\n",
       "    <tr>\n",
       "      <td>2009-01-06</td>\n",
       "      <td>-0.016494</td>\n",
       "      <td>0.011696</td>\n",
       "      <td>0.018320</td>\n",
       "      <td>0.033822</td>\n",
       "    </tr>\n",
       "    <tr>\n",
       "      <td>2009-01-07</td>\n",
       "      <td>-0.021608</td>\n",
       "      <td>-0.060212</td>\n",
       "      <td>-0.036071</td>\n",
       "      <td>-0.059978</td>\n",
       "    </tr>\n",
       "    <tr>\n",
       "      <td>2009-01-08</td>\n",
       "      <td>0.018569</td>\n",
       "      <td>0.031266</td>\n",
       "      <td>0.009875</td>\n",
       "      <td>-0.025522</td>\n",
       "    </tr>\n",
       "    <tr>\n",
       "      <td>...</td>\n",
       "      <td>...</td>\n",
       "      <td>...</td>\n",
       "      <td>...</td>\n",
       "      <td>...</td>\n",
       "    </tr>\n",
       "    <tr>\n",
       "      <td>2020-04-27</td>\n",
       "      <td>0.000707</td>\n",
       "      <td>-0.002865</td>\n",
       "      <td>-0.002681</td>\n",
       "      <td>0.025864</td>\n",
       "    </tr>\n",
       "    <tr>\n",
       "      <td>2020-04-28</td>\n",
       "      <td>-0.016209</td>\n",
       "      <td>-0.024361</td>\n",
       "      <td>-0.033083</td>\n",
       "      <td>-0.019254</td>\n",
       "    </tr>\n",
       "    <tr>\n",
       "      <td>2020-04-29</td>\n",
       "      <td>0.032845</td>\n",
       "      <td>0.044874</td>\n",
       "      <td>0.087390</td>\n",
       "      <td>0.024369</td>\n",
       "    </tr>\n",
       "    <tr>\n",
       "      <td>2020-04-30</td>\n",
       "      <td>0.021096</td>\n",
       "      <td>0.010032</td>\n",
       "      <td>0.005352</td>\n",
       "      <td>-0.020706</td>\n",
       "    </tr>\n",
       "    <tr>\n",
       "      <td>2020-05-01</td>\n",
       "      <td>-0.016099</td>\n",
       "      <td>-0.025891</td>\n",
       "      <td>-0.020798</td>\n",
       "      <td>-0.032503</td>\n",
       "    </tr>\n",
       "  </tbody>\n",
       "</table>\n",
       "<p>2852 rows × 4 columns</p>\n",
       "</div>"
      ],
      "text/plain": [
       "                AAPL      MSFT      GOOG      NVDA\n",
       "Date                                              \n",
       "2009-01-02       NaN       NaN       NaN       NaN\n",
       "2009-01-05  0.042204  0.009346  0.020945  0.018369\n",
       "2009-01-06 -0.016494  0.011696  0.018320  0.033822\n",
       "2009-01-07 -0.021608 -0.060212 -0.036071 -0.059978\n",
       "2009-01-08  0.018569  0.031266  0.009875 -0.025522\n",
       "...              ...       ...       ...       ...\n",
       "2020-04-27  0.000707 -0.002865 -0.002681  0.025864\n",
       "2020-04-28 -0.016209 -0.024361 -0.033083 -0.019254\n",
       "2020-04-29  0.032845  0.044874  0.087390  0.024369\n",
       "2020-04-30  0.021096  0.010032  0.005352 -0.020706\n",
       "2020-05-01 -0.016099 -0.025891 -0.020798 -0.032503\n",
       "\n",
       "[2852 rows x 4 columns]"
      ]
     },
     "execution_count": 120,
     "metadata": {},
     "output_type": "execute_result"
    }
   ],
   "source": [
    "port_returns"
   ]
  },
  {
   "cell_type": "code",
   "execution_count": 121,
   "metadata": {},
   "outputs": [],
   "source": [
    "n_portfolios = 2000 \n",
    "all_weights = np.zeros((n_portfolios, len(tickers)))\n",
    "all_returns = np.zeros(n_portfolios)\n",
    "all_vol = np.zeros(n_portfolios)\n",
    "all_sharp = np.zeros(n_portfolios)\n",
    "\n",
    "for ind in range(n_portfolios):\n",
    "    weights = np.array(np.random.random(4))\n",
    "    weights = weights/weights.sum()\n",
    "    \n",
    "    all_weights[ind,:] = weights\n",
    "    \n",
    "    all_returns[ind] = np.sum(port_returns.mean() * weights) * 252 \n",
    "    all_vol[ind] = np.sqrt(np.dot(weights.T, np.dot(port_returns.cov() * 252, weights)))\n",
    "    all_sharp[ind] = all_returns[ind]/all_vol[ind]"
   ]
  },
  {
   "cell_type": "markdown",
   "metadata": {},
   "source": [
    "## Best Sharp\n",
    "- We will use the 2000 to find which has the \n",
    "- max sharp, lowest Vol, and the max returns"
   ]
  },
  {
   "cell_type": "code",
   "execution_count": 122,
   "metadata": {},
   "outputs": [],
   "source": [
    "max_sharp = all_sharp.argmax()"
   ]
  },
  {
   "cell_type": "code",
   "execution_count": 123,
   "metadata": {},
   "outputs": [],
   "source": [
    "lowest_vol= all_vol.argmin()"
   ]
  },
  {
   "cell_type": "code",
   "execution_count": 124,
   "metadata": {},
   "outputs": [],
   "source": [
    "max_returns = all_returns.argmax()"
   ]
  },
  {
   "cell_type": "markdown",
   "metadata": {},
   "source": [
    "## Plotting portfolios \n",
    "- Will plot all 2000 portfolios as well as the 3 portfolios listed above "
   ]
  },
  {
   "cell_type": "code",
   "execution_count": 140,
   "metadata": {},
   "outputs": [
    {
     "data": {
      "image/png": "[encoded data removed]",
      "text/plain": [
       "<Figure size 1296x648 with 1 Axes>"
      ]
     },
     "metadata": {},
     "output_type": "display_data"
    }
   ],
   "source": [
    "plt.figure(figsize=(18,9))\n",
    "plt.scatter(all_vol, all_returns, c=all_sharp, cmap=\"magma\", s = 20)\n",
    "plt.colorbar= True\n",
    "plt.xlabel(\"Volitility\")\n",
    "plt.ylabel(\"Returns\")\n",
    "plt.scatter(all_vol[max_sharp], all_returns[max_sharp], c = \"black\", s = 80, edgecolor = \"red\", label = \"Best Sharp\")\n",
    "plt.scatter(all_vol[max_returns], all_returns[max_returns], c = \"green\", s = 80, edgecolor = \"black\", label = \"Highest Return/High Risk\")\n",
    "plt.scatter(all_vol[lowest_vol], all_returns[lowest_vol], c = \"blue\", s = 80, edgecolor = \"black\", label = \"Lowest Risk/Low Reward\")\n",
    "plt.legend();"
   ]
  },
  {
   "cell_type": "markdown",
   "metadata": {},
   "source": [
    "### Mathmatically \n",
    "- Random Allocaitons of a portfolio is great but could lask when a portfolio has 100 securties \n",
    "- We will use scipy for a portfolio optimization"
   ]
  },
  {
   "cell_type": "code",
   "execution_count": 141,
   "metadata": {},
   "outputs": [],
   "source": [
    "from scipy.optimize import minimize"
   ]
  },
  {
   "cell_type": "markdown",
   "metadata": {},
   "source": [
    "## Helper Functions\n",
    "- These functions will assit in optimizing the weights of the portfolio"
   ]
  },
  {
   "cell_type": "code",
   "execution_count": 188,
   "metadata": {},
   "outputs": [],
   "source": [
    "def get_sharp(weights):\n",
    "    weights = np.array(weights)\n",
    "    ret = np.sum(port_returns.mean() *weights) * 252\n",
    "    vol = np.sqrt(np.dot(weights.T, np.dot(port_returns.cov() * 252,weights)))\n",
    "    shp = ret/vol \n",
    "    return np.array([ret,vol,shp])"
   ]
  },
  {
   "cell_type": "code",
   "execution_count": 189,
   "metadata": {},
   "outputs": [],
   "source": [
    "def check_weights(weights):\n",
    "    return np.sum(weights) - 1"
   ]
  },
  {
   "cell_type": "code",
   "execution_count": 190,
   "metadata": {},
   "outputs": [],
   "source": [
    "def improve_sharp(weights):\n",
    "    return get_sharp(weights)[2] * -1"
   ]
  },
  {
   "cell_type": "code",
   "execution_count": 191,
   "metadata": {},
   "outputs": [],
   "source": [
    "const = ({\"type\":\"eq\", \"fun\":check_weights})"
   ]
  },
  {
   "cell_type": "code",
   "execution_count": 192,
   "metadata": {},
   "outputs": [
    {
     "data": {
      "text/plain": [
       "((0, 1), (0, 1), (0, 1), (0, 1))"
      ]
     },
     "execution_count": 192,
     "metadata": {},
     "output_type": "execute_result"
    }
   ],
   "source": [
    "bounds = ((0,1),) * len(tickers)\n",
    "bounds"
   ]
  },
  {
   "cell_type": "code",
   "execution_count": 193,
   "metadata": {},
   "outputs": [
    {
     "data": {
      "text/plain": [
       "[0.25, 0.25, 0.25, 0.25]"
      ]
     },
     "execution_count": 193,
     "metadata": {},
     "output_type": "execute_result"
    }
   ],
   "source": [
    "initial_guess = [0.25] * len(tickers)\n",
    "initial_guess"
   ]
  },
  {
   "cell_type": "code",
   "execution_count": 194,
   "metadata": {},
   "outputs": [],
   "source": [
    "optimal_results = minimize(improve_sharp, initial_guess, method=\"SLSQP\",constraints=const, bounds=bounds)"
   ]
  },
  {
   "cell_type": "markdown",
   "metadata": {},
   "source": [
    "### Minimize Results \n",
    "- States the max sharp we can get out of this portfilio is 1.26\n",
    "- Weights are listed as the \"x\" values\n",
    "- we will see how these compare to the random allocation results"
   ]
  },
  {
   "cell_type": "code",
   "execution_count": 195,
   "metadata": {},
   "outputs": [
    {
     "data": {
      "text/plain": [
       "     fun: -1.2677624546739144\n",
       "     jac: array([ 1.09195709e-04, -5.17964363e-05,  3.26305628e-04, -3.28898430e-04])\n",
       " message: 'Optimization terminated successfully.'\n",
       "    nfev: 36\n",
       "     nit: 6\n",
       "    njev: 6\n",
       "  status: 0\n",
       " success: True\n",
       "       x: array([0.56405079, 0.22965267, 0.02769669, 0.17859984])"
      ]
     },
     "execution_count": 195,
     "metadata": {},
     "output_type": "execute_result"
    }
   ],
   "source": [
    "optimal_results"
   ]
  },
  {
   "cell_type": "markdown",
   "metadata": {},
   "source": [
    "## Minimize funciton - Weight prediciton"
   ]
  },
  {
   "cell_type": "code",
   "execution_count": 196,
   "metadata": {},
   "outputs": [
    {
     "data": {
      "text/plain": [
       "array([0.56405079, 0.22965267, 0.02769669, 0.17859984])"
      ]
     },
     "execution_count": 196,
     "metadata": {},
     "output_type": "execute_result"
    }
   ],
   "source": [
    "optimal_results.x"
   ]
  },
  {
   "cell_type": "markdown",
   "metadata": {},
   "source": [
    "## Random Allocated - best sharp\n",
    "- Weights that will generate the best sharp"
   ]
  },
  {
   "cell_type": "code",
   "execution_count": 197,
   "metadata": {},
   "outputs": [
    {
     "data": {
      "text/plain": [
       "array([0.55684397, 0.23937404, 0.0248493 , 0.17893268])"
      ]
     },
     "execution_count": 197,
     "metadata": {},
     "output_type": "execute_result"
    }
   ],
   "source": [
    "all_weights[max_sharp]"
   ]
  },
  {
   "cell_type": "markdown",
   "metadata": {},
   "source": [
    "### MAX Sharp\n",
    "- Both Random allocaiton as well as the minimize had similar predicitons "
   ]
  },
  {
   "cell_type": "code",
   "execution_count": 200,
   "metadata": {},
   "outputs": [
    {
     "data": {
      "text/plain": [
       "1.2677624546739144"
      ]
     },
     "execution_count": 200,
     "metadata": {},
     "output_type": "execute_result"
    }
   ],
   "source": [
    "np.abs(optimal_results[\"fun\"])"
   ]
  },
  {
   "cell_type": "code",
   "execution_count": 199,
   "metadata": {},
   "outputs": [
    {
     "data": {
      "text/plain": [
       "1.2677140304304717"
      ]
     },
     "execution_count": 199,
     "metadata": {},
     "output_type": "execute_result"
    }
   ],
   "source": [
    "all_sharp[max_sharp]"
   ]
  },
  {
   "cell_type": "markdown",
   "metadata": {},
   "source": [
    "### Efficient Frontier\n",
    "- We will use the Minimize function to get the efficient frontier"
   ]
  },
  {
   "cell_type": "code",
   "execution_count": 207,
   "metadata": {},
   "outputs": [],
   "source": [
    "frontier_y = np.linspace(0.22,.40,200)"
   ]
  },
  {
   "cell_type": "code",
   "execution_count": 208,
   "metadata": {},
   "outputs": [],
   "source": [
    "def min_vol(weights):\n",
    "    return get_sharp(weights)[1]"
   ]
  },
  {
   "cell_type": "code",
   "execution_count": 222,
   "metadata": {},
   "outputs": [],
   "source": [
    "frontier_vol = []"
   ]
  },
  {
   "cell_type": "code",
   "execution_count": 223,
   "metadata": {},
   "outputs": [],
   "source": [
    "frontier_weights = []"
   ]
  },
  {
   "cell_type": "markdown",
   "metadata": {},
   "source": [
    "## Minimize - Efficient Frontier\n",
    "- The below calculation will gather the max return at any selected Volatility\n",
    "- An investor could select a volatility of choosing ang gather the associated Return"
   ]
  },
  {
   "cell_type": "code",
   "execution_count": 224,
   "metadata": {},
   "outputs": [],
   "source": [
    "for potential_return in frontier_y:\n",
    "    cons = ({\"type\":\"eq\", \"fun\": check_weights}, \n",
    "            {\"type\":\"eq\", \"fun\": lambda x: get_sharp(x)[0] - potential_return})\n",
    "    best_result = minimize(min_vol,initial_guess,method=\"SLSQP\", constraints=cons, bounds=bounds)\n",
    "    frontier_vol.append(best_result[\"fun\"])\n",
    "    frontier_weights.append(best_result.x)"
   ]
  },
  {
   "cell_type": "markdown",
   "metadata": {},
   "source": [
    "### Final Decision: \n",
    "- Would Highly recommend that the investor look at the portfolio with the highest sharp ratio colored black below. This would generate the maximum return with at minimim volatility.\n",
    "- If this is still too much of risk a portfolio with a low rish could be considered such as the one in blue. \n",
    "- And if this is still not satisfying the Scipy function below generated a frontier that can be selected from"
   ]
  },
  {
   "cell_type": "code",
   "execution_count": 225,
   "metadata": {},
   "outputs": [
    {
     "data": {
      "image/png": "[encoded data removed]",
      "text/plain": [
       "<Figure size 1296x648 with 1 Axes>"
      ]
     },
     "metadata": {},
     "output_type": "display_data"
    }
   ],
   "source": [
    "plt.figure(figsize=(18,9))\n",
    "plt.scatter(all_vol, all_returns, c=all_sharp, cmap=\"magma\", s = 20)\n",
    "plt.colorbar= True\n",
    "plt.xlabel(\"Volitility\")\n",
    "plt.ylabel(\"Returns\")\n",
    "plt.scatter(all_vol[max_sharp], all_returns[max_sharp], c = \"black\", s = 80, edgecolor = \"red\", label = \"Best Sharp\")\n",
    "plt.scatter(all_vol[max_returns], all_returns[max_returns], c = \"green\", s = 80, edgecolor = \"black\", label = \"Highest Return/High Risk\")\n",
    "plt.scatter(all_vol[lowest_vol], all_returns[lowest_vol], c = \"blue\", s = 80, edgecolor = \"black\", label = \"Lowest Risk/Low Reward\")\n",
    "plt.plot(frontier_vol, frontier_y, ls = \"--\")\n",
    "plt.legend();"
   ]
  },
  {
   "cell_type": "markdown",
   "metadata": {},
   "source": [
    "### Efficient Frontier Data Frame"
   ]
  },
  {
   "cell_type": "code",
   "execution_count": 230,
   "metadata": {},
   "outputs": [],
   "source": [
    "frontier_weights_predictied = pd.DataFrame(frontier_weights)"
   ]
  },
  {
   "cell_type": "code",
   "execution_count": 231,
   "metadata": {},
   "outputs": [],
   "source": [
    "frontier_weights_predictied.columns = [\"AAPL\",\"MSFT\",\"GOOG\",\"NVDA\"]"
   ]
  },
  {
   "cell_type": "code",
   "execution_count": 232,
   "metadata": {},
   "outputs": [
    {
     "data": {
      "text/html": [
       "<div>\n",
       "<style scoped>\n",
       "    .dataframe tbody tr th:only-of-type {\n",
       "        vertical-align: middle;\n",
       "    }\n",
       "\n",
       "    .dataframe tbody tr th {\n",
       "        vertical-align: top;\n",
       "    }\n",
       "\n",
       "    .dataframe thead th {\n",
       "        text-align: right;\n",
       "    }\n",
       "</style>\n",
       "<table border=\"1\" class=\"dataframe\">\n",
       "  <thead>\n",
       "    <tr style=\"text-align: right;\">\n",
       "      <th></th>\n",
       "      <th>AAPL</th>\n",
       "      <th>MSFT</th>\n",
       "      <th>GOOG</th>\n",
       "      <th>NVDA</th>\n",
       "    </tr>\n",
       "  </thead>\n",
       "  <tbody>\n",
       "    <tr>\n",
       "      <td>0</td>\n",
       "      <td>2.581269e-14</td>\n",
       "      <td>0.000000e+00</td>\n",
       "      <td>1.000000e+00</td>\n",
       "      <td>0.000000e+00</td>\n",
       "    </tr>\n",
       "    <tr>\n",
       "      <td>1</td>\n",
       "      <td>1.818398e-17</td>\n",
       "      <td>2.179101e-17</td>\n",
       "      <td>1.000000e+00</td>\n",
       "      <td>6.947392e-16</td>\n",
       "    </tr>\n",
       "    <tr>\n",
       "      <td>2</td>\n",
       "      <td>6.383782e-16</td>\n",
       "      <td>2.981464e-02</td>\n",
       "      <td>9.701854e-01</td>\n",
       "      <td>0.000000e+00</td>\n",
       "    </tr>\n",
       "    <tr>\n",
       "      <td>3</td>\n",
       "      <td>3.885781e-16</td>\n",
       "      <td>6.284627e-02</td>\n",
       "      <td>9.371537e-01</td>\n",
       "      <td>0.000000e+00</td>\n",
       "    </tr>\n",
       "    <tr>\n",
       "      <td>4</td>\n",
       "      <td>5.551115e-16</td>\n",
       "      <td>9.587789e-02</td>\n",
       "      <td>9.041221e-01</td>\n",
       "      <td>0.000000e+00</td>\n",
       "    </tr>\n",
       "    <tr>\n",
       "      <td>...</td>\n",
       "      <td>...</td>\n",
       "      <td>...</td>\n",
       "      <td>...</td>\n",
       "      <td>...</td>\n",
       "    </tr>\n",
       "    <tr>\n",
       "      <td>195</td>\n",
       "      <td>1.811629e-01</td>\n",
       "      <td>0.000000e+00</td>\n",
       "      <td>0.000000e+00</td>\n",
       "      <td>8.188371e-01</td>\n",
       "    </tr>\n",
       "    <tr>\n",
       "      <td>196</td>\n",
       "      <td>1.705007e-01</td>\n",
       "      <td>0.000000e+00</td>\n",
       "      <td>2.775558e-17</td>\n",
       "      <td>8.294993e-01</td>\n",
       "    </tr>\n",
       "    <tr>\n",
       "      <td>197</td>\n",
       "      <td>1.598385e-01</td>\n",
       "      <td>1.387779e-16</td>\n",
       "      <td>0.000000e+00</td>\n",
       "      <td>8.401615e-01</td>\n",
       "    </tr>\n",
       "    <tr>\n",
       "      <td>198</td>\n",
       "      <td>1.491763e-01</td>\n",
       "      <td>0.000000e+00</td>\n",
       "      <td>0.000000e+00</td>\n",
       "      <td>8.508237e-01</td>\n",
       "    </tr>\n",
       "    <tr>\n",
       "      <td>199</td>\n",
       "      <td>1.385141e-01</td>\n",
       "      <td>0.000000e+00</td>\n",
       "      <td>2.498002e-16</td>\n",
       "      <td>8.614859e-01</td>\n",
       "    </tr>\n",
       "  </tbody>\n",
       "</table>\n",
       "<p>200 rows × 4 columns</p>\n",
       "</div>"
      ],
      "text/plain": [
       "             AAPL          MSFT          GOOG          NVDA\n",
       "0    2.581269e-14  0.000000e+00  1.000000e+00  0.000000e+00\n",
       "1    1.818398e-17  2.179101e-17  1.000000e+00  6.947392e-16\n",
       "2    6.383782e-16  2.981464e-02  9.701854e-01  0.000000e+00\n",
       "3    3.885781e-16  6.284627e-02  9.371537e-01  0.000000e+00\n",
       "4    5.551115e-16  9.587789e-02  9.041221e-01  0.000000e+00\n",
       "..            ...           ...           ...           ...\n",
       "195  1.811629e-01  0.000000e+00  0.000000e+00  8.188371e-01\n",
       "196  1.705007e-01  0.000000e+00  2.775558e-17  8.294993e-01\n",
       "197  1.598385e-01  1.387779e-16  0.000000e+00  8.401615e-01\n",
       "198  1.491763e-01  0.000000e+00  0.000000e+00  8.508237e-01\n",
       "199  1.385141e-01  0.000000e+00  2.498002e-16  8.614859e-01\n",
       "\n",
       "[200 rows x 4 columns]"
      ]
     },
     "execution_count": 232,
     "metadata": {},
     "output_type": "execute_result"
    }
   ],
   "source": [
    "frontier_weights_predictied"
   ]
  },
  {
   "cell_type": "code",
   "execution_count": 215,
   "metadata": {},
   "outputs": [],
   "source": [
    "frontier_returns = pd.DataFrame(frontier_y)\n",
    "frontier_returns[\"vol\"] = frontier_vol"
   ]
  },
  {
   "cell_type": "code",
   "execution_count": 217,
   "metadata": {},
   "outputs": [],
   "source": [
    "frontier_returns.columns = [\"returns\",\"volatility\"]"
   ]
  },
  {
   "cell_type": "code",
   "execution_count": 233,
   "metadata": {},
   "outputs": [],
   "source": [
    "frontier_Optmized = pd.concat([frontier_returns,frontier_weights_predictied], axis=1)"
   ]
  },
  {
   "cell_type": "markdown",
   "metadata": {},
   "source": [
    "### Efficiency Final \n",
    "- Returns \n",
    "- Volatility \n",
    "- Associated Weights \n",
    "- Are we increase returns volatility increases. \"Higher Risk Higher Return\"\n",
    "- WE also see that for a max retun for this portfolio the weights for MSFT and GOOG are pretty much 0"
   ]
  },
  {
   "cell_type": "code",
   "execution_count": 249,
   "metadata": {},
   "outputs": [
    {
     "data": {
      "text/html": [
       "<div>\n",
       "<style scoped>\n",
       "    .dataframe tbody tr th:only-of-type {\n",
       "        vertical-align: middle;\n",
       "    }\n",
       "\n",
       "    .dataframe tbody tr th {\n",
       "        vertical-align: top;\n",
       "    }\n",
       "\n",
       "    .dataframe thead th {\n",
       "        text-align: right;\n",
       "    }\n",
       "</style>\n",
       "<table border=\"1\" class=\"dataframe\">\n",
       "  <thead>\n",
       "    <tr style=\"text-align: right;\">\n",
       "      <th></th>\n",
       "      <th>returns</th>\n",
       "      <th>volatility</th>\n",
       "      <th>AAPL</th>\n",
       "      <th>MSFT</th>\n",
       "      <th>GOOG</th>\n",
       "      <th>NVDA</th>\n",
       "    </tr>\n",
       "  </thead>\n",
       "  <tbody>\n",
       "    <tr>\n",
       "      <td>183</td>\n",
       "      <td>0.385528</td>\n",
       "      <td>0.353613</td>\n",
       "      <td>0.309109</td>\n",
       "      <td>2.775558e-17</td>\n",
       "      <td>0.000000e+00</td>\n",
       "      <td>0.690891</td>\n",
       "    </tr>\n",
       "    <tr>\n",
       "      <td>184</td>\n",
       "      <td>0.386432</td>\n",
       "      <td>0.356273</td>\n",
       "      <td>0.298447</td>\n",
       "      <td>0.000000e+00</td>\n",
       "      <td>0.000000e+00</td>\n",
       "      <td>0.701553</td>\n",
       "    </tr>\n",
       "    <tr>\n",
       "      <td>185</td>\n",
       "      <td>0.387337</td>\n",
       "      <td>0.358964</td>\n",
       "      <td>0.287785</td>\n",
       "      <td>1.110223e-16</td>\n",
       "      <td>0.000000e+00</td>\n",
       "      <td>0.712215</td>\n",
       "    </tr>\n",
       "    <tr>\n",
       "      <td>186</td>\n",
       "      <td>0.388241</td>\n",
       "      <td>0.361686</td>\n",
       "      <td>0.277123</td>\n",
       "      <td>8.326673e-17</td>\n",
       "      <td>2.775558e-17</td>\n",
       "      <td>0.722877</td>\n",
       "    </tr>\n",
       "    <tr>\n",
       "      <td>187</td>\n",
       "      <td>0.389146</td>\n",
       "      <td>0.364436</td>\n",
       "      <td>0.266460</td>\n",
       "      <td>0.000000e+00</td>\n",
       "      <td>0.000000e+00</td>\n",
       "      <td>0.733540</td>\n",
       "    </tr>\n",
       "    <tr>\n",
       "      <td>188</td>\n",
       "      <td>0.390050</td>\n",
       "      <td>0.367215</td>\n",
       "      <td>0.255798</td>\n",
       "      <td>0.000000e+00</td>\n",
       "      <td>5.551115e-17</td>\n",
       "      <td>0.744202</td>\n",
       "    </tr>\n",
       "    <tr>\n",
       "      <td>189</td>\n",
       "      <td>0.390955</td>\n",
       "      <td>0.370021</td>\n",
       "      <td>0.245136</td>\n",
       "      <td>8.326673e-17</td>\n",
       "      <td>0.000000e+00</td>\n",
       "      <td>0.754864</td>\n",
       "    </tr>\n",
       "    <tr>\n",
       "      <td>190</td>\n",
       "      <td>0.391859</td>\n",
       "      <td>0.372855</td>\n",
       "      <td>0.234474</td>\n",
       "      <td>0.000000e+00</td>\n",
       "      <td>2.775558e-17</td>\n",
       "      <td>0.765526</td>\n",
       "    </tr>\n",
       "    <tr>\n",
       "      <td>191</td>\n",
       "      <td>0.392764</td>\n",
       "      <td>0.375716</td>\n",
       "      <td>0.223812</td>\n",
       "      <td>2.775558e-17</td>\n",
       "      <td>0.000000e+00</td>\n",
       "      <td>0.776188</td>\n",
       "    </tr>\n",
       "    <tr>\n",
       "      <td>192</td>\n",
       "      <td>0.393668</td>\n",
       "      <td>0.378603</td>\n",
       "      <td>0.213149</td>\n",
       "      <td>2.775558e-17</td>\n",
       "      <td>1.387779e-16</td>\n",
       "      <td>0.786851</td>\n",
       "    </tr>\n",
       "    <tr>\n",
       "      <td>193</td>\n",
       "      <td>0.394573</td>\n",
       "      <td>0.381515</td>\n",
       "      <td>0.202487</td>\n",
       "      <td>0.000000e+00</td>\n",
       "      <td>0.000000e+00</td>\n",
       "      <td>0.797513</td>\n",
       "    </tr>\n",
       "    <tr>\n",
       "      <td>194</td>\n",
       "      <td>0.395477</td>\n",
       "      <td>0.384453</td>\n",
       "      <td>0.191825</td>\n",
       "      <td>1.665335e-16</td>\n",
       "      <td>8.326673e-17</td>\n",
       "      <td>0.808175</td>\n",
       "    </tr>\n",
       "    <tr>\n",
       "      <td>195</td>\n",
       "      <td>0.396382</td>\n",
       "      <td>0.387414</td>\n",
       "      <td>0.181163</td>\n",
       "      <td>0.000000e+00</td>\n",
       "      <td>0.000000e+00</td>\n",
       "      <td>0.818837</td>\n",
       "    </tr>\n",
       "    <tr>\n",
       "      <td>196</td>\n",
       "      <td>0.397286</td>\n",
       "      <td>0.390400</td>\n",
       "      <td>0.170501</td>\n",
       "      <td>0.000000e+00</td>\n",
       "      <td>2.775558e-17</td>\n",
       "      <td>0.829499</td>\n",
       "    </tr>\n",
       "    <tr>\n",
       "      <td>197</td>\n",
       "      <td>0.398191</td>\n",
       "      <td>0.393408</td>\n",
       "      <td>0.159839</td>\n",
       "      <td>1.387779e-16</td>\n",
       "      <td>0.000000e+00</td>\n",
       "      <td>0.840161</td>\n",
       "    </tr>\n",
       "    <tr>\n",
       "      <td>198</td>\n",
       "      <td>0.399095</td>\n",
       "      <td>0.396439</td>\n",
       "      <td>0.149176</td>\n",
       "      <td>0.000000e+00</td>\n",
       "      <td>0.000000e+00</td>\n",
       "      <td>0.850824</td>\n",
       "    </tr>\n",
       "    <tr>\n",
       "      <td>199</td>\n",
       "      <td>0.400000</td>\n",
       "      <td>0.399493</td>\n",
       "      <td>0.138514</td>\n",
       "      <td>0.000000e+00</td>\n",
       "      <td>2.498002e-16</td>\n",
       "      <td>0.861486</td>\n",
       "    </tr>\n",
       "  </tbody>\n",
       "</table>\n",
       "</div>"
      ],
      "text/plain": [
       "      returns  volatility      AAPL          MSFT          GOOG      NVDA\n",
       "183  0.385528    0.353613  0.309109  2.775558e-17  0.000000e+00  0.690891\n",
       "184  0.386432    0.356273  0.298447  0.000000e+00  0.000000e+00  0.701553\n",
       "185  0.387337    0.358964  0.287785  1.110223e-16  0.000000e+00  0.712215\n",
       "186  0.388241    0.361686  0.277123  8.326673e-17  2.775558e-17  0.722877\n",
       "187  0.389146    0.364436  0.266460  0.000000e+00  0.000000e+00  0.733540\n",
       "188  0.390050    0.367215  0.255798  0.000000e+00  5.551115e-17  0.744202\n",
       "189  0.390955    0.370021  0.245136  8.326673e-17  0.000000e+00  0.754864\n",
       "190  0.391859    0.372855  0.234474  0.000000e+00  2.775558e-17  0.765526\n",
       "191  0.392764    0.375716  0.223812  2.775558e-17  0.000000e+00  0.776188\n",
       "192  0.393668    0.378603  0.213149  2.775558e-17  1.387779e-16  0.786851\n",
       "193  0.394573    0.381515  0.202487  0.000000e+00  0.000000e+00  0.797513\n",
       "194  0.395477    0.384453  0.191825  1.665335e-16  8.326673e-17  0.808175\n",
       "195  0.396382    0.387414  0.181163  0.000000e+00  0.000000e+00  0.818837\n",
       "196  0.397286    0.390400  0.170501  0.000000e+00  2.775558e-17  0.829499\n",
       "197  0.398191    0.393408  0.159839  1.387779e-16  0.000000e+00  0.840161\n",
       "198  0.399095    0.396439  0.149176  0.000000e+00  0.000000e+00  0.850824\n",
       "199  0.400000    0.399493  0.138514  0.000000e+00  2.498002e-16  0.861486"
      ]
     },
     "execution_count": 249,
     "metadata": {},
     "output_type": "execute_result"
    }
   ],
   "source": [
    "frontier_Optmized[frontier_Optmized[\"returns\"] > 0.385]"
   ]
  },
  {
   "cell_type": "code",
   "execution_count": null,
   "metadata": {},
   "outputs": [],
   "source": []
  }
 ],
 "metadata": {
  "kernelspec": {
   "display_name": "Python 3",
   "language": "python",
   "name": "python3"
  },
  "language_info": {
   "codemirror_mode": {
    "name": "ipython",
    "version": 3
   },
   "file_extension": ".py",
   "mimetype": "text/x-python",
   "name": "python",
   "nbconvert_exporter": "python",
   "pygments_lexer": "ipython3",
   "version": "3.7.4"
  }
 },
 "nbformat": 4,
 "nbformat_minor": 2
}
