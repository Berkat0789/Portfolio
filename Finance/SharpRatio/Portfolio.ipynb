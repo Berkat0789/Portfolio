{
 "cells": [
  {
   "cell_type": "code",
   "execution_count": 1,
   "metadata": {},
   "outputs": [],
   "source": [
    "import pandas as pd\n",
    "import matplotlib.pyplot as plt\n",
    "import seaborn as sns\n",
    "import numpy as np \n"
   ]
  },
  {
   "cell_type": "code",
   "execution_count": 2,
   "metadata": {},
   "outputs": [],
   "source": [
    "from pandas_datareader import data as web"
   ]
  },
  {
   "cell_type": "code",
   "execution_count": 3,
   "metadata": {},
   "outputs": [],
   "source": [
    "tickers = [\"GE\", \"T\", \"NVDA\", \"SNE\"]\n",
    "data = pd.DataFrame()\n",
    "for t in tickers:\n",
    "    data[t] = web.DataReader(t, data_source=\"yahoo\", start = \"2004-1-1\")[\"Adj Close\"]"
   ]
  },
  {
   "cell_type": "code",
   "execution_count": 4,
   "metadata": {},
   "outputs": [
    {
     "data": {
      "text/html": [
       "<div>\n",
       "<style scoped>\n",
       "    .dataframe tbody tr th:only-of-type {\n",
       "        vertical-align: middle;\n",
       "    }\n",
       "\n",
       "    .dataframe tbody tr th {\n",
       "        vertical-align: top;\n",
       "    }\n",
       "\n",
       "    .dataframe thead th {\n",
       "        text-align: right;\n",
       "    }\n",
       "</style>\n",
       "<table border=\"1\" class=\"dataframe\">\n",
       "  <thead>\n",
       "    <tr style=\"text-align: right;\">\n",
       "      <th></th>\n",
       "      <th>GE</th>\n",
       "      <th>T</th>\n",
       "      <th>NVDA</th>\n",
       "      <th>SNE</th>\n",
       "    </tr>\n",
       "    <tr>\n",
       "      <th>Date</th>\n",
       "      <th></th>\n",
       "      <th></th>\n",
       "      <th></th>\n",
       "      <th></th>\n",
       "    </tr>\n",
       "  </thead>\n",
       "  <tbody>\n",
       "    <tr>\n",
       "      <th>2004-01-02</th>\n",
       "      <td>17.370064</td>\n",
       "      <td>11.077169</td>\n",
       "      <td>7.080785</td>\n",
       "      <td>30.470947</td>\n",
       "    </tr>\n",
       "    <tr>\n",
       "      <th>2004-01-05</th>\n",
       "      <td>17.626814</td>\n",
       "      <td>11.462791</td>\n",
       "      <td>7.310880</td>\n",
       "      <td>31.220083</td>\n",
       "    </tr>\n",
       "    <tr>\n",
       "      <th>2004-01-06</th>\n",
       "      <td>17.509602</td>\n",
       "      <td>11.492455</td>\n",
       "      <td>7.608468</td>\n",
       "      <td>30.958763</td>\n",
       "    </tr>\n",
       "    <tr>\n",
       "      <th>2004-01-07</th>\n",
       "      <td>17.682623</td>\n",
       "      <td>11.617856</td>\n",
       "      <td>7.675963</td>\n",
       "      <td>31.272352</td>\n",
       "    </tr>\n",
       "    <tr>\n",
       "      <th>2004-01-08</th>\n",
       "      <td>18.000790</td>\n",
       "      <td>11.827921</td>\n",
       "      <td>7.703575</td>\n",
       "      <td>31.594652</td>\n",
       "    </tr>\n",
       "  </tbody>\n",
       "</table>\n",
       "</div>"
      ],
      "text/plain": [
       "                   GE          T      NVDA        SNE\n",
       "Date                                                 \n",
       "2004-01-02  17.370064  11.077169  7.080785  30.470947\n",
       "2004-01-05  17.626814  11.462791  7.310880  31.220083\n",
       "2004-01-06  17.509602  11.492455  7.608468  30.958763\n",
       "2004-01-07  17.682623  11.617856  7.675963  31.272352\n",
       "2004-01-08  18.000790  11.827921  7.703575  31.594652"
      ]
     },
     "execution_count": 4,
     "metadata": {},
     "output_type": "execute_result"
    }
   ],
   "source": [
    "data.head()"
   ]
  },
  {
   "cell_type": "markdown",
   "metadata": {},
   "source": [
    "### Calculate Normal Returns"
   ]
  },
  {
   "cell_type": "code",
   "execution_count": 5,
   "metadata": {},
   "outputs": [],
   "source": [
    "for t in tickers:\n",
    "    data[f\"{t} norm returns\"] = data[f\"{t}\"]/data[f\"{t}\"].iloc[0]"
   ]
  },
  {
   "cell_type": "code",
   "execution_count": 6,
   "metadata": {},
   "outputs": [
    {
     "data": {
      "text/html": [
       "<div>\n",
       "<style scoped>\n",
       "    .dataframe tbody tr th:only-of-type {\n",
       "        vertical-align: middle;\n",
       "    }\n",
       "\n",
       "    .dataframe tbody tr th {\n",
       "        vertical-align: top;\n",
       "    }\n",
       "\n",
       "    .dataframe thead th {\n",
       "        text-align: right;\n",
       "    }\n",
       "</style>\n",
       "<table border=\"1\" class=\"dataframe\">\n",
       "  <thead>\n",
       "    <tr style=\"text-align: right;\">\n",
       "      <th></th>\n",
       "      <th>GE</th>\n",
       "      <th>T</th>\n",
       "      <th>NVDA</th>\n",
       "      <th>SNE</th>\n",
       "      <th>GE norm returns</th>\n",
       "      <th>T norm returns</th>\n",
       "      <th>NVDA norm returns</th>\n",
       "      <th>SNE norm returns</th>\n",
       "    </tr>\n",
       "    <tr>\n",
       "      <th>Date</th>\n",
       "      <th></th>\n",
       "      <th></th>\n",
       "      <th></th>\n",
       "      <th></th>\n",
       "      <th></th>\n",
       "      <th></th>\n",
       "      <th></th>\n",
       "      <th></th>\n",
       "    </tr>\n",
       "  </thead>\n",
       "  <tbody>\n",
       "    <tr>\n",
       "      <th>2004-01-02</th>\n",
       "      <td>17.370064</td>\n",
       "      <td>11.077169</td>\n",
       "      <td>7.080785</td>\n",
       "      <td>30.470947</td>\n",
       "      <td>1.000000</td>\n",
       "      <td>1.000000</td>\n",
       "      <td>1.000000</td>\n",
       "      <td>1.000000</td>\n",
       "    </tr>\n",
       "    <tr>\n",
       "      <th>2004-01-05</th>\n",
       "      <td>17.626814</td>\n",
       "      <td>11.462791</td>\n",
       "      <td>7.310880</td>\n",
       "      <td>31.220083</td>\n",
       "      <td>1.014781</td>\n",
       "      <td>1.034812</td>\n",
       "      <td>1.032496</td>\n",
       "      <td>1.024585</td>\n",
       "    </tr>\n",
       "    <tr>\n",
       "      <th>2004-01-06</th>\n",
       "      <td>17.509602</td>\n",
       "      <td>11.492455</td>\n",
       "      <td>7.608468</td>\n",
       "      <td>30.958763</td>\n",
       "      <td>1.008033</td>\n",
       "      <td>1.037490</td>\n",
       "      <td>1.074523</td>\n",
       "      <td>1.016009</td>\n",
       "    </tr>\n",
       "    <tr>\n",
       "      <th>2004-01-07</th>\n",
       "      <td>17.682623</td>\n",
       "      <td>11.617856</td>\n",
       "      <td>7.675963</td>\n",
       "      <td>31.272352</td>\n",
       "      <td>1.017994</td>\n",
       "      <td>1.048811</td>\n",
       "      <td>1.084055</td>\n",
       "      <td>1.026301</td>\n",
       "    </tr>\n",
       "    <tr>\n",
       "      <th>2004-01-08</th>\n",
       "      <td>18.000790</td>\n",
       "      <td>11.827921</td>\n",
       "      <td>7.703575</td>\n",
       "      <td>31.594652</td>\n",
       "      <td>1.036311</td>\n",
       "      <td>1.067775</td>\n",
       "      <td>1.087955</td>\n",
       "      <td>1.036878</td>\n",
       "    </tr>\n",
       "  </tbody>\n",
       "</table>\n",
       "</div>"
      ],
      "text/plain": [
       "                   GE          T      NVDA        SNE  GE norm returns  \\\n",
       "Date                                                                     \n",
       "2004-01-02  17.370064  11.077169  7.080785  30.470947         1.000000   \n",
       "2004-01-05  17.626814  11.462791  7.310880  31.220083         1.014781   \n",
       "2004-01-06  17.509602  11.492455  7.608468  30.958763         1.008033   \n",
       "2004-01-07  17.682623  11.617856  7.675963  31.272352         1.017994   \n",
       "2004-01-08  18.000790  11.827921  7.703575  31.594652         1.036311   \n",
       "\n",
       "            T norm returns  NVDA norm returns  SNE norm returns  \n",
       "Date                                                             \n",
       "2004-01-02        1.000000           1.000000          1.000000  \n",
       "2004-01-05        1.034812           1.032496          1.024585  \n",
       "2004-01-06        1.037490           1.074523          1.016009  \n",
       "2004-01-07        1.048811           1.084055          1.026301  \n",
       "2004-01-08        1.067775           1.087955          1.036878  "
      ]
     },
     "execution_count": 6,
     "metadata": {},
     "output_type": "execute_result"
    }
   ],
   "source": [
    "data.head()"
   ]
  },
  {
   "cell_type": "markdown",
   "metadata": {},
   "source": [
    "### Calculate the allocation for each stock with arbritrary weights"
   ]
  },
  {
   "cell_type": "code",
   "execution_count": 7,
   "metadata": {},
   "outputs": [],
   "source": [
    "weights = [0.1,0.4,0.3,0.2]\n",
    "for t, wei in zip(tickers,weights):\n",
    "    data[f\"{t} allocation\"] = data[f\"{t} norm returns\"] * wei"
   ]
  },
  {
   "cell_type": "code",
   "execution_count": 8,
   "metadata": {},
   "outputs": [
    {
     "data": {
      "text/html": [
       "<div>\n",
       "<style scoped>\n",
       "    .dataframe tbody tr th:only-of-type {\n",
       "        vertical-align: middle;\n",
       "    }\n",
       "\n",
       "    .dataframe tbody tr th {\n",
       "        vertical-align: top;\n",
       "    }\n",
       "\n",
       "    .dataframe thead th {\n",
       "        text-align: right;\n",
       "    }\n",
       "</style>\n",
       "<table border=\"1\" class=\"dataframe\">\n",
       "  <thead>\n",
       "    <tr style=\"text-align: right;\">\n",
       "      <th></th>\n",
       "      <th>GE</th>\n",
       "      <th>T</th>\n",
       "      <th>NVDA</th>\n",
       "      <th>SNE</th>\n",
       "      <th>GE norm returns</th>\n",
       "      <th>T norm returns</th>\n",
       "      <th>NVDA norm returns</th>\n",
       "      <th>SNE norm returns</th>\n",
       "      <th>GE allocation</th>\n",
       "      <th>T allocation</th>\n",
       "      <th>NVDA allocation</th>\n",
       "      <th>SNE allocation</th>\n",
       "    </tr>\n",
       "    <tr>\n",
       "      <th>Date</th>\n",
       "      <th></th>\n",
       "      <th></th>\n",
       "      <th></th>\n",
       "      <th></th>\n",
       "      <th></th>\n",
       "      <th></th>\n",
       "      <th></th>\n",
       "      <th></th>\n",
       "      <th></th>\n",
       "      <th></th>\n",
       "      <th></th>\n",
       "      <th></th>\n",
       "    </tr>\n",
       "  </thead>\n",
       "  <tbody>\n",
       "    <tr>\n",
       "      <th>2004-01-02</th>\n",
       "      <td>17.370064</td>\n",
       "      <td>11.077169</td>\n",
       "      <td>7.080785</td>\n",
       "      <td>30.470947</td>\n",
       "      <td>1.000000</td>\n",
       "      <td>1.000000</td>\n",
       "      <td>1.000000</td>\n",
       "      <td>1.000000</td>\n",
       "      <td>0.100000</td>\n",
       "      <td>0.400000</td>\n",
       "      <td>0.300000</td>\n",
       "      <td>0.200000</td>\n",
       "    </tr>\n",
       "    <tr>\n",
       "      <th>2004-01-05</th>\n",
       "      <td>17.626814</td>\n",
       "      <td>11.462791</td>\n",
       "      <td>7.310880</td>\n",
       "      <td>31.220083</td>\n",
       "      <td>1.014781</td>\n",
       "      <td>1.034812</td>\n",
       "      <td>1.032496</td>\n",
       "      <td>1.024585</td>\n",
       "      <td>0.101478</td>\n",
       "      <td>0.413925</td>\n",
       "      <td>0.309749</td>\n",
       "      <td>0.204917</td>\n",
       "    </tr>\n",
       "    <tr>\n",
       "      <th>2004-01-06</th>\n",
       "      <td>17.509602</td>\n",
       "      <td>11.492455</td>\n",
       "      <td>7.608468</td>\n",
       "      <td>30.958763</td>\n",
       "      <td>1.008033</td>\n",
       "      <td>1.037490</td>\n",
       "      <td>1.074523</td>\n",
       "      <td>1.016009</td>\n",
       "      <td>0.100803</td>\n",
       "      <td>0.414996</td>\n",
       "      <td>0.322357</td>\n",
       "      <td>0.203202</td>\n",
       "    </tr>\n",
       "    <tr>\n",
       "      <th>2004-01-07</th>\n",
       "      <td>17.682623</td>\n",
       "      <td>11.617856</td>\n",
       "      <td>7.675963</td>\n",
       "      <td>31.272352</td>\n",
       "      <td>1.017994</td>\n",
       "      <td>1.048811</td>\n",
       "      <td>1.084055</td>\n",
       "      <td>1.026301</td>\n",
       "      <td>0.101799</td>\n",
       "      <td>0.419524</td>\n",
       "      <td>0.325217</td>\n",
       "      <td>0.205260</td>\n",
       "    </tr>\n",
       "    <tr>\n",
       "      <th>2004-01-08</th>\n",
       "      <td>18.000790</td>\n",
       "      <td>11.827921</td>\n",
       "      <td>7.703575</td>\n",
       "      <td>31.594652</td>\n",
       "      <td>1.036311</td>\n",
       "      <td>1.067775</td>\n",
       "      <td>1.087955</td>\n",
       "      <td>1.036878</td>\n",
       "      <td>0.103631</td>\n",
       "      <td>0.427110</td>\n",
       "      <td>0.326386</td>\n",
       "      <td>0.207376</td>\n",
       "    </tr>\n",
       "  </tbody>\n",
       "</table>\n",
       "</div>"
      ],
      "text/plain": [
       "                   GE          T      NVDA        SNE  GE norm returns  \\\n",
       "Date                                                                     \n",
       "2004-01-02  17.370064  11.077169  7.080785  30.470947         1.000000   \n",
       "2004-01-05  17.626814  11.462791  7.310880  31.220083         1.014781   \n",
       "2004-01-06  17.509602  11.492455  7.608468  30.958763         1.008033   \n",
       "2004-01-07  17.682623  11.617856  7.675963  31.272352         1.017994   \n",
       "2004-01-08  18.000790  11.827921  7.703575  31.594652         1.036311   \n",
       "\n",
       "            T norm returns  NVDA norm returns  SNE norm returns  \\\n",
       "Date                                                              \n",
       "2004-01-02        1.000000           1.000000          1.000000   \n",
       "2004-01-05        1.034812           1.032496          1.024585   \n",
       "2004-01-06        1.037490           1.074523          1.016009   \n",
       "2004-01-07        1.048811           1.084055          1.026301   \n",
       "2004-01-08        1.067775           1.087955          1.036878   \n",
       "\n",
       "            GE allocation  T allocation  NVDA allocation  SNE allocation  \n",
       "Date                                                                      \n",
       "2004-01-02       0.100000      0.400000         0.300000        0.200000  \n",
       "2004-01-05       0.101478      0.413925         0.309749        0.204917  \n",
       "2004-01-06       0.100803      0.414996         0.322357        0.203202  \n",
       "2004-01-07       0.101799      0.419524         0.325217        0.205260  \n",
       "2004-01-08       0.103631      0.427110         0.326386        0.207376  "
      ]
     },
     "execution_count": 8,
     "metadata": {},
     "output_type": "execute_result"
    }
   ],
   "source": [
    "data.head()"
   ]
  },
  {
   "cell_type": "markdown",
   "metadata": {},
   "source": [
    "### Poistion"
   ]
  },
  {
   "cell_type": "code",
   "execution_count": 9,
   "metadata": {},
   "outputs": [],
   "source": [
    "for t in tickers:\n",
    "    data[f\"{t} Pos\"] = data[f\"{t} allocation\"] * 100000"
   ]
  },
  {
   "cell_type": "code",
   "execution_count": 10,
   "metadata": {},
   "outputs": [
    {
     "data": {
      "text/html": [
       "<div>\n",
       "<style scoped>\n",
       "    .dataframe tbody tr th:only-of-type {\n",
       "        vertical-align: middle;\n",
       "    }\n",
       "\n",
       "    .dataframe tbody tr th {\n",
       "        vertical-align: top;\n",
       "    }\n",
       "\n",
       "    .dataframe thead th {\n",
       "        text-align: right;\n",
       "    }\n",
       "</style>\n",
       "<table border=\"1\" class=\"dataframe\">\n",
       "  <thead>\n",
       "    <tr style=\"text-align: right;\">\n",
       "      <th></th>\n",
       "      <th>GE</th>\n",
       "      <th>T</th>\n",
       "      <th>NVDA</th>\n",
       "      <th>SNE</th>\n",
       "      <th>GE norm returns</th>\n",
       "      <th>T norm returns</th>\n",
       "      <th>NVDA norm returns</th>\n",
       "      <th>SNE norm returns</th>\n",
       "      <th>GE allocation</th>\n",
       "      <th>T allocation</th>\n",
       "      <th>NVDA allocation</th>\n",
       "      <th>SNE allocation</th>\n",
       "      <th>GE Pos</th>\n",
       "      <th>T Pos</th>\n",
       "      <th>NVDA Pos</th>\n",
       "      <th>SNE Pos</th>\n",
       "    </tr>\n",
       "    <tr>\n",
       "      <th>Date</th>\n",
       "      <th></th>\n",
       "      <th></th>\n",
       "      <th></th>\n",
       "      <th></th>\n",
       "      <th></th>\n",
       "      <th></th>\n",
       "      <th></th>\n",
       "      <th></th>\n",
       "      <th></th>\n",
       "      <th></th>\n",
       "      <th></th>\n",
       "      <th></th>\n",
       "      <th></th>\n",
       "      <th></th>\n",
       "      <th></th>\n",
       "      <th></th>\n",
       "    </tr>\n",
       "  </thead>\n",
       "  <tbody>\n",
       "    <tr>\n",
       "      <th>2004-01-02</th>\n",
       "      <td>17.370064</td>\n",
       "      <td>11.077169</td>\n",
       "      <td>7.080785</td>\n",
       "      <td>30.470947</td>\n",
       "      <td>1.000000</td>\n",
       "      <td>1.000000</td>\n",
       "      <td>1.000000</td>\n",
       "      <td>1.000000</td>\n",
       "      <td>0.100000</td>\n",
       "      <td>0.400000</td>\n",
       "      <td>0.300000</td>\n",
       "      <td>0.200000</td>\n",
       "      <td>10000.000000</td>\n",
       "      <td>40000.000000</td>\n",
       "      <td>30000.000000</td>\n",
       "      <td>20000.000000</td>\n",
       "    </tr>\n",
       "    <tr>\n",
       "      <th>2004-01-05</th>\n",
       "      <td>17.626814</td>\n",
       "      <td>11.462791</td>\n",
       "      <td>7.310880</td>\n",
       "      <td>31.220083</td>\n",
       "      <td>1.014781</td>\n",
       "      <td>1.034812</td>\n",
       "      <td>1.032496</td>\n",
       "      <td>1.024585</td>\n",
       "      <td>0.101478</td>\n",
       "      <td>0.413925</td>\n",
       "      <td>0.309749</td>\n",
       "      <td>0.204917</td>\n",
       "      <td>10147.811839</td>\n",
       "      <td>41392.493010</td>\n",
       "      <td>30974.872389</td>\n",
       "      <td>20491.705075</td>\n",
       "    </tr>\n",
       "    <tr>\n",
       "      <th>2004-01-06</th>\n",
       "      <td>17.509602</td>\n",
       "      <td>11.492455</td>\n",
       "      <td>7.608468</td>\n",
       "      <td>30.958763</td>\n",
       "      <td>1.008033</td>\n",
       "      <td>1.037490</td>\n",
       "      <td>1.074523</td>\n",
       "      <td>1.016009</td>\n",
       "      <td>0.100803</td>\n",
       "      <td>0.414996</td>\n",
       "      <td>0.322357</td>\n",
       "      <td>0.203202</td>\n",
       "      <td>10080.332354</td>\n",
       "      <td>41499.610770</td>\n",
       "      <td>32235.696168</td>\n",
       "      <td>20320.184242</td>\n",
       "    </tr>\n",
       "    <tr>\n",
       "      <th>2004-01-07</th>\n",
       "      <td>17.682623</td>\n",
       "      <td>11.617856</td>\n",
       "      <td>7.675963</td>\n",
       "      <td>31.272352</td>\n",
       "      <td>1.017994</td>\n",
       "      <td>1.048811</td>\n",
       "      <td>1.084055</td>\n",
       "      <td>1.026301</td>\n",
       "      <td>0.101799</td>\n",
       "      <td>0.419524</td>\n",
       "      <td>0.325217</td>\n",
       "      <td>0.205260</td>\n",
       "      <td>10179.941267</td>\n",
       "      <td>41952.435995</td>\n",
       "      <td>32521.663719</td>\n",
       "      <td>20526.012497</td>\n",
       "    </tr>\n",
       "    <tr>\n",
       "      <th>2004-01-08</th>\n",
       "      <td>18.000790</td>\n",
       "      <td>11.827921</td>\n",
       "      <td>7.703575</td>\n",
       "      <td>31.594652</td>\n",
       "      <td>1.036311</td>\n",
       "      <td>1.067775</td>\n",
       "      <td>1.087955</td>\n",
       "      <td>1.036878</td>\n",
       "      <td>0.103631</td>\n",
       "      <td>0.427110</td>\n",
       "      <td>0.326386</td>\n",
       "      <td>0.207376</td>\n",
       "      <td>10363.110849</td>\n",
       "      <td>42710.986777</td>\n",
       "      <td>32638.647597</td>\n",
       "      <td>20737.558239</td>\n",
       "    </tr>\n",
       "  </tbody>\n",
       "</table>\n",
       "</div>"
      ],
      "text/plain": [
       "                   GE          T      NVDA        SNE  GE norm returns  \\\n",
       "Date                                                                     \n",
       "2004-01-02  17.370064  11.077169  7.080785  30.470947         1.000000   \n",
       "2004-01-05  17.626814  11.462791  7.310880  31.220083         1.014781   \n",
       "2004-01-06  17.509602  11.492455  7.608468  30.958763         1.008033   \n",
       "2004-01-07  17.682623  11.617856  7.675963  31.272352         1.017994   \n",
       "2004-01-08  18.000790  11.827921  7.703575  31.594652         1.036311   \n",
       "\n",
       "            T norm returns  NVDA norm returns  SNE norm returns  \\\n",
       "Date                                                              \n",
       "2004-01-02        1.000000           1.000000          1.000000   \n",
       "2004-01-05        1.034812           1.032496          1.024585   \n",
       "2004-01-06        1.037490           1.074523          1.016009   \n",
       "2004-01-07        1.048811           1.084055          1.026301   \n",
       "2004-01-08        1.067775           1.087955          1.036878   \n",
       "\n",
       "            GE allocation  T allocation  NVDA allocation  SNE allocation  \\\n",
       "Date                                                                       \n",
       "2004-01-02       0.100000      0.400000         0.300000        0.200000   \n",
       "2004-01-05       0.101478      0.413925         0.309749        0.204917   \n",
       "2004-01-06       0.100803      0.414996         0.322357        0.203202   \n",
       "2004-01-07       0.101799      0.419524         0.325217        0.205260   \n",
       "2004-01-08       0.103631      0.427110         0.326386        0.207376   \n",
       "\n",
       "                  GE Pos         T Pos      NVDA Pos       SNE Pos  \n",
       "Date                                                                \n",
       "2004-01-02  10000.000000  40000.000000  30000.000000  20000.000000  \n",
       "2004-01-05  10147.811839  41392.493010  30974.872389  20491.705075  \n",
       "2004-01-06  10080.332354  41499.610770  32235.696168  20320.184242  \n",
       "2004-01-07  10179.941267  41952.435995  32521.663719  20526.012497  \n",
       "2004-01-08  10363.110849  42710.986777  32638.647597  20737.558239  "
      ]
     },
     "execution_count": 10,
     "metadata": {},
     "output_type": "execute_result"
    }
   ],
   "source": [
    "data.head()"
   ]
  },
  {
   "cell_type": "markdown",
   "metadata": {},
   "source": [
    "### Total Positons"
   ]
  },
  {
   "cell_type": "code",
   "execution_count": 11,
   "metadata": {},
   "outputs": [
    {
     "data": {
      "text/plain": [
       "Index(['GE', 'T', 'NVDA', 'SNE', 'GE norm returns', 'T norm returns',\n",
       "       'NVDA norm returns', 'SNE norm returns', 'GE allocation',\n",
       "       'T allocation', 'NVDA allocation', 'SNE allocation', 'GE Pos', 'T Pos',\n",
       "       'NVDA Pos', 'SNE Pos'],\n",
       "      dtype='object')"
      ]
     },
     "execution_count": 11,
     "metadata": {},
     "output_type": "execute_result"
    }
   ],
   "source": [
    "data.columns"
   ]
  },
  {
   "cell_type": "code",
   "execution_count": 12,
   "metadata": {},
   "outputs": [],
   "source": [
    "data[\"Total Pos\"] = data[['GE Pos', 'T Pos','NVDA Pos', 'SNE Pos']].sum(axis = 1)"
   ]
  },
  {
   "cell_type": "code",
   "execution_count": 13,
   "metadata": {},
   "outputs": [
    {
     "data": {
      "text/html": [
       "<div>\n",
       "<style scoped>\n",
       "    .dataframe tbody tr th:only-of-type {\n",
       "        vertical-align: middle;\n",
       "    }\n",
       "\n",
       "    .dataframe tbody tr th {\n",
       "        vertical-align: top;\n",
       "    }\n",
       "\n",
       "    .dataframe thead th {\n",
       "        text-align: right;\n",
       "    }\n",
       "</style>\n",
       "<table border=\"1\" class=\"dataframe\">\n",
       "  <thead>\n",
       "    <tr style=\"text-align: right;\">\n",
       "      <th></th>\n",
       "      <th>GE</th>\n",
       "      <th>T</th>\n",
       "      <th>NVDA</th>\n",
       "      <th>SNE</th>\n",
       "      <th>GE norm returns</th>\n",
       "      <th>T norm returns</th>\n",
       "      <th>NVDA norm returns</th>\n",
       "      <th>SNE norm returns</th>\n",
       "      <th>GE allocation</th>\n",
       "      <th>T allocation</th>\n",
       "      <th>NVDA allocation</th>\n",
       "      <th>SNE allocation</th>\n",
       "      <th>GE Pos</th>\n",
       "      <th>T Pos</th>\n",
       "      <th>NVDA Pos</th>\n",
       "      <th>SNE Pos</th>\n",
       "      <th>Total Pos</th>\n",
       "    </tr>\n",
       "    <tr>\n",
       "      <th>Date</th>\n",
       "      <th></th>\n",
       "      <th></th>\n",
       "      <th></th>\n",
       "      <th></th>\n",
       "      <th></th>\n",
       "      <th></th>\n",
       "      <th></th>\n",
       "      <th></th>\n",
       "      <th></th>\n",
       "      <th></th>\n",
       "      <th></th>\n",
       "      <th></th>\n",
       "      <th></th>\n",
       "      <th></th>\n",
       "      <th></th>\n",
       "      <th></th>\n",
       "      <th></th>\n",
       "    </tr>\n",
       "  </thead>\n",
       "  <tbody>\n",
       "    <tr>\n",
       "      <th>2004-01-02</th>\n",
       "      <td>17.370064</td>\n",
       "      <td>11.077169</td>\n",
       "      <td>7.080785</td>\n",
       "      <td>30.470947</td>\n",
       "      <td>1.000000</td>\n",
       "      <td>1.000000</td>\n",
       "      <td>1.000000</td>\n",
       "      <td>1.000000</td>\n",
       "      <td>0.100000</td>\n",
       "      <td>0.400000</td>\n",
       "      <td>0.300000</td>\n",
       "      <td>0.200000</td>\n",
       "      <td>10000.000000</td>\n",
       "      <td>40000.000000</td>\n",
       "      <td>30000.000000</td>\n",
       "      <td>20000.000000</td>\n",
       "      <td>100000.000000</td>\n",
       "    </tr>\n",
       "    <tr>\n",
       "      <th>2004-01-05</th>\n",
       "      <td>17.626814</td>\n",
       "      <td>11.462791</td>\n",
       "      <td>7.310880</td>\n",
       "      <td>31.220083</td>\n",
       "      <td>1.014781</td>\n",
       "      <td>1.034812</td>\n",
       "      <td>1.032496</td>\n",
       "      <td>1.024585</td>\n",
       "      <td>0.101478</td>\n",
       "      <td>0.413925</td>\n",
       "      <td>0.309749</td>\n",
       "      <td>0.204917</td>\n",
       "      <td>10147.811839</td>\n",
       "      <td>41392.493010</td>\n",
       "      <td>30974.872389</td>\n",
       "      <td>20491.705075</td>\n",
       "      <td>103006.882313</td>\n",
       "    </tr>\n",
       "    <tr>\n",
       "      <th>2004-01-06</th>\n",
       "      <td>17.509602</td>\n",
       "      <td>11.492455</td>\n",
       "      <td>7.608468</td>\n",
       "      <td>30.958763</td>\n",
       "      <td>1.008033</td>\n",
       "      <td>1.037490</td>\n",
       "      <td>1.074523</td>\n",
       "      <td>1.016009</td>\n",
       "      <td>0.100803</td>\n",
       "      <td>0.414996</td>\n",
       "      <td>0.322357</td>\n",
       "      <td>0.203202</td>\n",
       "      <td>10080.332354</td>\n",
       "      <td>41499.610770</td>\n",
       "      <td>32235.696168</td>\n",
       "      <td>20320.184242</td>\n",
       "      <td>104135.823534</td>\n",
       "    </tr>\n",
       "    <tr>\n",
       "      <th>2004-01-07</th>\n",
       "      <td>17.682623</td>\n",
       "      <td>11.617856</td>\n",
       "      <td>7.675963</td>\n",
       "      <td>31.272352</td>\n",
       "      <td>1.017994</td>\n",
       "      <td>1.048811</td>\n",
       "      <td>1.084055</td>\n",
       "      <td>1.026301</td>\n",
       "      <td>0.101799</td>\n",
       "      <td>0.419524</td>\n",
       "      <td>0.325217</td>\n",
       "      <td>0.205260</td>\n",
       "      <td>10179.941267</td>\n",
       "      <td>41952.435995</td>\n",
       "      <td>32521.663719</td>\n",
       "      <td>20526.012497</td>\n",
       "      <td>105180.053477</td>\n",
       "    </tr>\n",
       "    <tr>\n",
       "      <th>2004-01-08</th>\n",
       "      <td>18.000790</td>\n",
       "      <td>11.827921</td>\n",
       "      <td>7.703575</td>\n",
       "      <td>31.594652</td>\n",
       "      <td>1.036311</td>\n",
       "      <td>1.067775</td>\n",
       "      <td>1.087955</td>\n",
       "      <td>1.036878</td>\n",
       "      <td>0.103631</td>\n",
       "      <td>0.427110</td>\n",
       "      <td>0.326386</td>\n",
       "      <td>0.207376</td>\n",
       "      <td>10363.110849</td>\n",
       "      <td>42710.986777</td>\n",
       "      <td>32638.647597</td>\n",
       "      <td>20737.558239</td>\n",
       "      <td>106450.303462</td>\n",
       "    </tr>\n",
       "  </tbody>\n",
       "</table>\n",
       "</div>"
      ],
      "text/plain": [
       "                   GE          T      NVDA        SNE  GE norm returns  \\\n",
       "Date                                                                     \n",
       "2004-01-02  17.370064  11.077169  7.080785  30.470947         1.000000   \n",
       "2004-01-05  17.626814  11.462791  7.310880  31.220083         1.014781   \n",
       "2004-01-06  17.509602  11.492455  7.608468  30.958763         1.008033   \n",
       "2004-01-07  17.682623  11.617856  7.675963  31.272352         1.017994   \n",
       "2004-01-08  18.000790  11.827921  7.703575  31.594652         1.036311   \n",
       "\n",
       "            T norm returns  NVDA norm returns  SNE norm returns  \\\n",
       "Date                                                              \n",
       "2004-01-02        1.000000           1.000000          1.000000   \n",
       "2004-01-05        1.034812           1.032496          1.024585   \n",
       "2004-01-06        1.037490           1.074523          1.016009   \n",
       "2004-01-07        1.048811           1.084055          1.026301   \n",
       "2004-01-08        1.067775           1.087955          1.036878   \n",
       "\n",
       "            GE allocation  T allocation  NVDA allocation  SNE allocation  \\\n",
       "Date                                                                       \n",
       "2004-01-02       0.100000      0.400000         0.300000        0.200000   \n",
       "2004-01-05       0.101478      0.413925         0.309749        0.204917   \n",
       "2004-01-06       0.100803      0.414996         0.322357        0.203202   \n",
       "2004-01-07       0.101799      0.419524         0.325217        0.205260   \n",
       "2004-01-08       0.103631      0.427110         0.326386        0.207376   \n",
       "\n",
       "                  GE Pos         T Pos      NVDA Pos       SNE Pos  \\\n",
       "Date                                                                 \n",
       "2004-01-02  10000.000000  40000.000000  30000.000000  20000.000000   \n",
       "2004-01-05  10147.811839  41392.493010  30974.872389  20491.705075   \n",
       "2004-01-06  10080.332354  41499.610770  32235.696168  20320.184242   \n",
       "2004-01-07  10179.941267  41952.435995  32521.663719  20526.012497   \n",
       "2004-01-08  10363.110849  42710.986777  32638.647597  20737.558239   \n",
       "\n",
       "                Total Pos  \n",
       "Date                       \n",
       "2004-01-02  100000.000000  \n",
       "2004-01-05  103006.882313  \n",
       "2004-01-06  104135.823534  \n",
       "2004-01-07  105180.053477  \n",
       "2004-01-08  106450.303462  "
      ]
     },
     "execution_count": 13,
     "metadata": {},
     "output_type": "execute_result"
    }
   ],
   "source": [
    "data.head()"
   ]
  },
  {
   "cell_type": "markdown",
   "metadata": {},
   "source": [
    "## Daily Returns "
   ]
  },
  {
   "cell_type": "code",
   "execution_count": 14,
   "metadata": {},
   "outputs": [],
   "source": [
    "data[\"Daily Returns\"] = data[\"Total Pos\"].pct_change()"
   ]
  },
  {
   "cell_type": "code",
   "execution_count": 18,
   "metadata": {},
   "outputs": [
    {
     "data": {
      "text/plain": [
       "<matplotlib.axes._subplots.AxesSubplot at 0x1a2a0ecb38>"
      ]
     },
     "execution_count": 18,
     "metadata": {},
     "output_type": "execute_result"
    },
    {
     "data": {
      "image/png": "[encoded data removed]",
      "text/plain": [
       "<Figure size 1152x432 with 1 Axes>"
      ]
     },
     "metadata": {
      "needs_background": "light"
     },
     "output_type": "display_data"
    }
   ],
   "source": [
    "data[\"Daily Returns\"].hist(figsize = (16,6), bins = 60)"
   ]
  },
  {
   "cell_type": "markdown",
   "metadata": {},
   "source": [
    "### Volitility"
   ]
  },
  {
   "cell_type": "code",
   "execution_count": 19,
   "metadata": {},
   "outputs": [],
   "source": [
    "port_mean_returns = data[\"Daily Returns\"].mean()"
   ]
  },
  {
   "cell_type": "code",
   "execution_count": 20,
   "metadata": {},
   "outputs": [],
   "source": [
    "port_Vol = data[\"Daily Returns\"].std()"
   ]
  },
  {
   "cell_type": "code",
   "execution_count": 22,
   "metadata": {},
   "outputs": [],
   "source": [
    "sharp = (port_mean_returns/port_Vol) * np.sqrt(252)"
   ]
  },
  {
   "cell_type": "code",
   "execution_count": 23,
   "metadata": {},
   "outputs": [
    {
     "data": {
      "text/plain": [
       "0.6626821138215747"
      ]
     },
     "execution_count": 23,
     "metadata": {},
     "output_type": "execute_result"
    }
   ],
   "source": [
    "sharp"
   ]
  },
  {
   "cell_type": "markdown",
   "metadata": {},
   "source": [
    "### LEts optimize this portfolio using The efficient Frontier"
   ]
  },
  {
   "cell_type": "code",
   "execution_count": 25,
   "metadata": {},
   "outputs": [],
   "source": [
    "port_Stocks = pd.DataFrame()\n",
    "for t in tickers:\n",
    "    port_Stocks[t] = web.DataReader(t, data_source=\"yahoo\", start = \"2004-1-1\")[\"Adj Close\"]"
   ]
  },
  {
   "cell_type": "code",
   "execution_count": 27,
   "metadata": {},
   "outputs": [],
   "source": [
    "daily_returns = port_Stocks.pct_change()"
   ]
  },
  {
   "cell_type": "code",
   "execution_count": 29,
   "metadata": {},
   "outputs": [
    {
     "data": {
      "text/html": [
       "<div>\n",
       "<style scoped>\n",
       "    .dataframe tbody tr th:only-of-type {\n",
       "        vertical-align: middle;\n",
       "    }\n",
       "\n",
       "    .dataframe tbody tr th {\n",
       "        vertical-align: top;\n",
       "    }\n",
       "\n",
       "    .dataframe thead th {\n",
       "        text-align: right;\n",
       "    }\n",
       "</style>\n",
       "<table border=\"1\" class=\"dataframe\">\n",
       "  <thead>\n",
       "    <tr style=\"text-align: right;\">\n",
       "      <th></th>\n",
       "      <th>GE</th>\n",
       "      <th>T</th>\n",
       "      <th>NVDA</th>\n",
       "      <th>SNE</th>\n",
       "    </tr>\n",
       "  </thead>\n",
       "  <tbody>\n",
       "    <tr>\n",
       "      <th>GE</th>\n",
       "      <td>1.000000</td>\n",
       "      <td>0.438799</td>\n",
       "      <td>0.363872</td>\n",
       "      <td>0.353533</td>\n",
       "    </tr>\n",
       "    <tr>\n",
       "      <th>T</th>\n",
       "      <td>0.438799</td>\n",
       "      <td>1.000000</td>\n",
       "      <td>0.347328</td>\n",
       "      <td>0.385854</td>\n",
       "    </tr>\n",
       "    <tr>\n",
       "      <th>NVDA</th>\n",
       "      <td>0.363872</td>\n",
       "      <td>0.347328</td>\n",
       "      <td>1.000000</td>\n",
       "      <td>0.348581</td>\n",
       "    </tr>\n",
       "    <tr>\n",
       "      <th>SNE</th>\n",
       "      <td>0.353533</td>\n",
       "      <td>0.385854</td>\n",
       "      <td>0.348581</td>\n",
       "      <td>1.000000</td>\n",
       "    </tr>\n",
       "  </tbody>\n",
       "</table>\n",
       "</div>"
      ],
      "text/plain": [
       "            GE         T      NVDA       SNE\n",
       "GE    1.000000  0.438799  0.363872  0.353533\n",
       "T     0.438799  1.000000  0.347328  0.385854\n",
       "NVDA  0.363872  0.347328  1.000000  0.348581\n",
       "SNE   0.353533  0.385854  0.348581  1.000000"
      ]
     },
     "execution_count": 29,
     "metadata": {},
     "output_type": "execute_result"
    }
   ],
   "source": [
    "daily_returns.corr()"
   ]
  },
  {
   "cell_type": "markdown",
   "metadata": {},
   "source": [
    "### we will create 2000 portfilios to st random allocations"
   ]
  },
  {
   "cell_type": "code",
   "execution_count": 32,
   "metadata": {},
   "outputs": [],
   "source": [
    "number_of_port = 2000\n",
    "all_weights = np.zeros((number_of_port, len(port_Stocks.columns)))\n",
    "all_ret = np.zeros(number_of_port)\n",
    "all_vol = np.zeros(number_of_port)\n",
    "all_shp = np.zeros(number_of_port)\n",
    "\n",
    "for ind in range(number_of_port):\n",
    "    weights = np.array(np.random.random(4))\n",
    "    weights = weights/weights.sum()\n",
    "    all_weights[ind,:] = weights\n",
    "    \n",
    "    all_ret[ind] = np.sum(daily_returns.mean() * weights) * 252\n",
    "    all_vol[ind] = np.sqrt(np.dot(weights.T, np.dot(daily_returns.cov() * 252, weights)))\n",
    "    all_shp[ind] = all_ret[ind]/all_vol[ind]"
   ]
  },
  {
   "cell_type": "markdown",
   "metadata": {},
   "source": [
    "## mAx sharp"
   ]
  },
  {
   "cell_type": "code",
   "execution_count": 38,
   "metadata": {},
   "outputs": [],
   "source": [
    "max_sharp = all_shp.argmax()"
   ]
  },
  {
   "cell_type": "markdown",
   "metadata": {},
   "source": [
    "## Low vol "
   ]
  },
  {
   "cell_type": "code",
   "execution_count": 45,
   "metadata": {},
   "outputs": [],
   "source": [
    "low_vol = all_vol.argmin()"
   ]
  },
  {
   "cell_type": "markdown",
   "metadata": {},
   "source": [
    "## high return"
   ]
  },
  {
   "cell_type": "code",
   "execution_count": 46,
   "metadata": {},
   "outputs": [],
   "source": [
    "high_ret = all_ret.argmax()"
   ]
  },
  {
   "cell_type": "markdown",
   "metadata": {},
   "source": [
    "## plot of vol vs returns"
   ]
  },
  {
   "cell_type": "code",
   "execution_count": 47,
   "metadata": {},
   "outputs": [
    {
     "data": {
      "text/plain": [
       "<matplotlib.collections.PathCollection at 0x1a2beaa240>"
      ]
     },
     "execution_count": 47,
     "metadata": {},
     "output_type": "execute_result"
    },
    {
     "data": {
      "image/png": "[encoded data removed]",
      "text/plain": [
       "<Figure size 1152x432 with 2 Axes>"
      ]
     },
     "metadata": {
      "needs_background": "light"
     },
     "output_type": "display_data"
    }
   ],
   "source": [
    "plt.figure(figsize=(16,6))\n",
    "plt.scatter(all_vol, all_ret, cmap=\"viridis\", c = all_shp)\n",
    "plt.colorbar(label = \"Sharp Ratio\")\n",
    "plt.scatter(all_vol[max_sharp], all_ret[max_sharp], c = \"r\", s = 60)\n",
    "plt.scatter(all_vol[low_vol], all_ret[low_vol], c = \"r\", s = 60)\n",
    "plt.scatter(all_vol[high_ret], all_ret[high_ret], c = \"r\", s = 60)"
   ]
  },
  {
   "cell_type": "markdown",
   "metadata": {},
   "source": [
    "## There are 3 personalities. Looks like the max sharp is approximately .7. Lets use math to see if we ca nget a better value"
   ]
  },
  {
   "cell_type": "code",
   "execution_count": 49,
   "metadata": {},
   "outputs": [],
   "source": [
    "def ret_vol_shp(weights):\n",
    "    weights = np.array(weights)\n",
    "    ret = np.sum(daily_returns.mean() * weights) * 252\n",
    "    vol = np.sqrt(np.dot(weights.T , np.dot(daily_returns.cov() * 252, weights)))\n",
    "    shp = ret/vol\n",
    "    return np.array([ret, vol,shp])"
   ]
  },
  {
   "cell_type": "code",
   "execution_count": 50,
   "metadata": {},
   "outputs": [],
   "source": [
    "def check_weights(weights):\n",
    "    return np.sum(weights) - 1"
   ]
  },
  {
   "cell_type": "code",
   "execution_count": 51,
   "metadata": {},
   "outputs": [],
   "source": [
    "def reduceSharp(weights):\n",
    "    return ret_vol_shp(weights)[2] * -1"
   ]
  },
  {
   "cell_type": "code",
   "execution_count": 54,
   "metadata": {},
   "outputs": [],
   "source": [
    "con = {\"type\":\"eq\", \"fun\":check_weights}"
   ]
  },
  {
   "cell_type": "code",
   "execution_count": 56,
   "metadata": {},
   "outputs": [
    {
     "data": {
      "text/plain": [
       "((0, 1), (0, 1), (0, 1), (0, 1))"
      ]
     },
     "execution_count": 56,
     "metadata": {},
     "output_type": "execute_result"
    }
   ],
   "source": [
    "bounds = ((0,1),) * len(port_Stocks.columns)\n",
    "bounds"
   ]
  },
  {
   "cell_type": "code",
   "execution_count": 57,
   "metadata": {},
   "outputs": [
    {
     "data": {
      "text/plain": [
       "[0.25, 0.25, 0.25, 0.25]"
      ]
     },
     "execution_count": 57,
     "metadata": {},
     "output_type": "execute_result"
    }
   ],
   "source": [
    "initial_guess = [0.25] * len(port_Stocks.columns)\n",
    "initial_guess"
   ]
  },
  {
   "cell_type": "code",
   "execution_count": 58,
   "metadata": {},
   "outputs": [],
   "source": [
    "from scipy.optimize import minimize"
   ]
  },
  {
   "cell_type": "code",
   "execution_count": 59,
   "metadata": {},
   "outputs": [],
   "source": [
    "bestCase = minimize(reduceSharp, initial_guess, method=\"SLSQP\", bounds= bounds, constraints=con)"
   ]
  },
  {
   "cell_type": "code",
   "execution_count": 60,
   "metadata": {},
   "outputs": [
    {
     "data": {
      "text/plain": [
       "     fun: -0.7282106472387616\n",
       "     jac: array([ 3.25331926e-01, -1.07362866e-04,  8.61138105e-05,  2.29387954e-02])\n",
       " message: 'Optimization terminated successfully.'\n",
       "    nfev: 42\n",
       "     nit: 7\n",
       "    njev: 7\n",
       "  status: 0\n",
       " success: True\n",
       "       x: array([0.00000000e+00, 4.45099065e-01, 5.54900935e-01, 3.86068892e-18])"
      ]
     },
     "execution_count": 60,
     "metadata": {},
     "output_type": "execute_result"
    }
   ],
   "source": [
    "bestCase"
   ]
  },
  {
   "cell_type": "markdown",
   "metadata": {},
   "source": [
    "## this gives us a sharp of 0.72 a bit more than our random allocations. The Ret, Vol and sharp are below"
   ]
  },
  {
   "cell_type": "code",
   "execution_count": 61,
   "metadata": {},
   "outputs": [
    {
     "data": {
      "text/plain": [
       "array([0.22653106, 0.31107903, 0.72821065])"
      ]
     },
     "execution_count": 61,
     "metadata": {},
     "output_type": "execute_result"
    }
   ],
   "source": [
    "ret_vol_shp(bestCase.x)"
   ]
  },
  {
   "cell_type": "markdown",
   "metadata": {},
   "source": [
    "## LEts plot the efficient Frontier on the plot above"
   ]
  },
  {
   "cell_type": "code",
   "execution_count": 62,
   "metadata": {},
   "outputs": [],
   "source": [
    "frontier_y = np.linspace(0,0.3,100)"
   ]
  },
  {
   "cell_type": "code",
   "execution_count": 63,
   "metadata": {},
   "outputs": [],
   "source": [
    "def minimize_vol(weights):\n",
    "    return ret_vol_shp(weights)[1]"
   ]
  },
  {
   "cell_type": "code",
   "execution_count": 64,
   "metadata": {},
   "outputs": [],
   "source": [
    "frontier_vol = []"
   ]
  },
  {
   "cell_type": "code",
   "execution_count": 66,
   "metadata": {},
   "outputs": [],
   "source": [
    "for possible_ret in frontier_y:\n",
    "    const = ({\"type\": 'eq', \"fun\":check_weights}, {\"type\":\"eq\",\"fun\": lambda w: ret_vol_shp(w)[0] - possible_ret})\n",
    "    result = minimize(minimize_vol, initial_guess, method=\"SLSQP\", bounds=bounds, constraints=const)\n",
    "    frontier_vol.append(result[\"fun\"])"
   ]
  },
  {
   "cell_type": "code",
   "execution_count": 68,
   "metadata": {},
   "outputs": [
    {
     "data": {
      "text/plain": [
       "[<matplotlib.lines.Line2D at 0x1a2c2146a0>]"
      ]
     },
     "execution_count": 68,
     "metadata": {},
     "output_type": "execute_result"
    },
    {
     "data": {
      "image/png": "[encoded data removed]",
      "text/plain": [
       "<Figure size 1152x432 with 2 Axes>"
      ]
     },
     "metadata": {
      "needs_background": "light"
     },
     "output_type": "display_data"
    }
   ],
   "source": [
    "plt.figure(figsize=(16,6))\n",
    "plt.scatter(all_vol, all_ret, cmap=\"viridis\", c = all_shp)\n",
    "plt.colorbar(label = \"Sharp Ratio\")\n",
    "plt.scatter(all_vol[max_sharp], all_ret[max_sharp], c = \"r\", s = 60)\n",
    "plt.scatter(all_vol[low_vol], all_ret[low_vol], c = \"r\", s = 60)\n",
    "plt.scatter(all_vol[high_ret], all_ret[high_ret], c = \"r\", s = 60)\n",
    "plt.plot(frontier_vol, frontier_y, ls = \"--\", c = \"r\", lw = 4)"
   ]
  },
  {
   "cell_type": "code",
   "execution_count": null,
   "metadata": {},
   "outputs": [],
   "source": []
  }
 ],
 "metadata": {
  "kernelspec": {
   "display_name": "Python 3",
   "language": "python",
   "name": "python3"
  },
  "language_info": {
   "codemirror_mode": {
    "name": "ipython",
    "version": 3
   },
   "file_extension": ".py",
   "mimetype": "text/x-python",
   "name": "python",
   "nbconvert_exporter": "python",
   "pygments_lexer": "ipython3",
   "version": "3.7.1"
  }
 },
 "nbformat": 4,
 "nbformat_minor": 2
}
