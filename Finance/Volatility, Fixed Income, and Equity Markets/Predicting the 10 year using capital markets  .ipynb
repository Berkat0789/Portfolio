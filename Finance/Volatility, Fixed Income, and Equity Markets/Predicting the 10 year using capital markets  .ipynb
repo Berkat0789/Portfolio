{
 "cells": [
  {
   "cell_type": "markdown",
   "metadata": {},
   "source": [
    "## Project Summary \n",
    "-- Your goal ifor this project if to create an Artificial Neural Network that will use the OPEN for the  Capital Markets and Volatility to predict the ClOSE for the 10 year Treasury (20 year tome frame)\n",
    "-- Does these markes provide predictive insites on the the 10 Year Treasury Yield? \n",
    "-- How is the model impacted with the addition of Volitily, GOLD, OIL etc"
   ]
  },
  {
   "cell_type": "code",
   "execution_count": 424,
   "metadata": {},
   "outputs": [],
   "source": [
    "import pandas as pd\n",
    "import numpy as np\n",
    "import matplotlib.pyplot as plt\n",
    "import seaborn as sns\n",
    "from pandas_datareader import data as web"
   ]
  },
  {
   "cell_type": "code",
   "execution_count": 425,
   "metadata": {},
   "outputs": [],
   "source": [
    "capital_tickers = [\"^GSPC\",\"^DJI\", \"^IXIC\",\"^RUT\"]\n",
    "## \"CL=F\", \"GC=F\",\"SI=F\",\"EURUSD=X\""
   ]
  },
  {
   "cell_type": "code",
   "execution_count": 426,
   "metadata": {},
   "outputs": [],
   "source": [
    "capital_data = pd.DataFrame()"
   ]
  },
  {
   "cell_type": "code",
   "execution_count": 427,
   "metadata": {},
   "outputs": [],
   "source": [
    "for t in capital_tickers:\n",
    "    capital_data[t] = web.DataReader(t, data_source=\"yahoo\", start = \"2000-1-1\")[\"Open\"]"
   ]
  },
  {
   "cell_type": "code",
   "execution_count": 428,
   "metadata": {},
   "outputs": [
    {
     "data": {
      "text/html": [
       "<div>\n",
       "<style scoped>\n",
       "    .dataframe tbody tr th:only-of-type {\n",
       "        vertical-align: middle;\n",
       "    }\n",
       "\n",
       "    .dataframe tbody tr th {\n",
       "        vertical-align: top;\n",
       "    }\n",
       "\n",
       "    .dataframe thead th {\n",
       "        text-align: right;\n",
       "    }\n",
       "</style>\n",
       "<table border=\"1\" class=\"dataframe\">\n",
       "  <thead>\n",
       "    <tr style=\"text-align: right;\">\n",
       "      <th></th>\n",
       "      <th>^GSPC</th>\n",
       "      <th>^DJI</th>\n",
       "      <th>^IXIC</th>\n",
       "      <th>^RUT</th>\n",
       "    </tr>\n",
       "    <tr>\n",
       "      <th>Date</th>\n",
       "      <th></th>\n",
       "      <th></th>\n",
       "      <th></th>\n",
       "      <th></th>\n",
       "    </tr>\n",
       "  </thead>\n",
       "  <tbody>\n",
       "    <tr>\n",
       "      <th>2000-01-03</th>\n",
       "      <td>1469.250000</td>\n",
       "      <td>11501.849609</td>\n",
       "      <td>4186.189941</td>\n",
       "      <td>504.760010</td>\n",
       "    </tr>\n",
       "    <tr>\n",
       "      <th>2000-01-04</th>\n",
       "      <td>1455.219971</td>\n",
       "      <td>11349.750000</td>\n",
       "      <td>4020.000000</td>\n",
       "      <td>497.049988</td>\n",
       "    </tr>\n",
       "    <tr>\n",
       "      <th>2000-01-05</th>\n",
       "      <td>1399.420044</td>\n",
       "      <td>10989.370117</td>\n",
       "      <td>3854.350098</td>\n",
       "      <td>478.380005</td>\n",
       "    </tr>\n",
       "    <tr>\n",
       "      <th>2000-01-06</th>\n",
       "      <td>1402.109985</td>\n",
       "      <td>11113.370117</td>\n",
       "      <td>3834.439941</td>\n",
       "      <td>478.829987</td>\n",
       "    </tr>\n",
       "    <tr>\n",
       "      <th>2000-01-07</th>\n",
       "      <td>1403.449951</td>\n",
       "      <td>11247.059570</td>\n",
       "      <td>3711.090088</td>\n",
       "      <td>475.339996</td>\n",
       "    </tr>\n",
       "    <tr>\n",
       "      <th>...</th>\n",
       "      <td>...</td>\n",
       "      <td>...</td>\n",
       "      <td>...</td>\n",
       "      <td>...</td>\n",
       "    </tr>\n",
       "    <tr>\n",
       "      <th>2020-10-12</th>\n",
       "      <td>3500.020020</td>\n",
       "      <td>28671.119141</td>\n",
       "      <td>11732.330078</td>\n",
       "      <td>1642.459961</td>\n",
       "    </tr>\n",
       "    <tr>\n",
       "      <th>2020-10-13</th>\n",
       "      <td>3534.010010</td>\n",
       "      <td>28764.949219</td>\n",
       "      <td>11901.759766</td>\n",
       "      <td>1647.569946</td>\n",
       "    </tr>\n",
       "    <tr>\n",
       "      <th>2020-10-14</th>\n",
       "      <td>3515.469971</td>\n",
       "      <td>28731.300781</td>\n",
       "      <td>11889.070312</td>\n",
       "      <td>1637.969971</td>\n",
       "    </tr>\n",
       "    <tr>\n",
       "      <th>2020-10-15</th>\n",
       "      <td>3453.719971</td>\n",
       "      <td>28323.400391</td>\n",
       "      <td>11559.879883</td>\n",
       "      <td>1618.880005</td>\n",
       "    </tr>\n",
       "    <tr>\n",
       "      <th>2020-10-16</th>\n",
       "      <td>3493.500000</td>\n",
       "      <td>28570.720703</td>\n",
       "      <td>11761.830078</td>\n",
       "      <td>1638.479980</td>\n",
       "    </tr>\n",
       "  </tbody>\n",
       "</table>\n",
       "<p>5232 rows × 4 columns</p>\n",
       "</div>"
      ],
      "text/plain": [
       "                  ^GSPC          ^DJI         ^IXIC         ^RUT\n",
       "Date                                                            \n",
       "2000-01-03  1469.250000  11501.849609   4186.189941   504.760010\n",
       "2000-01-04  1455.219971  11349.750000   4020.000000   497.049988\n",
       "2000-01-05  1399.420044  10989.370117   3854.350098   478.380005\n",
       "2000-01-06  1402.109985  11113.370117   3834.439941   478.829987\n",
       "2000-01-07  1403.449951  11247.059570   3711.090088   475.339996\n",
       "...                 ...           ...           ...          ...\n",
       "2020-10-12  3500.020020  28671.119141  11732.330078  1642.459961\n",
       "2020-10-13  3534.010010  28764.949219  11901.759766  1647.569946\n",
       "2020-10-14  3515.469971  28731.300781  11889.070312  1637.969971\n",
       "2020-10-15  3453.719971  28323.400391  11559.879883  1618.880005\n",
       "2020-10-16  3493.500000  28570.720703  11761.830078  1638.479980\n",
       "\n",
       "[5232 rows x 4 columns]"
      ]
     },
     "execution_count": 428,
     "metadata": {},
     "output_type": "execute_result"
    }
   ],
   "source": [
    "capital_data"
   ]
  },
  {
   "cell_type": "markdown",
   "metadata": {},
   "source": [
    "## Checking for missing Data\n",
    "- Below we can see there is data missing from a few features so we ill need to take that into consideration when training our model"
   ]
  },
  {
   "cell_type": "code",
   "execution_count": 429,
   "metadata": {},
   "outputs": [
    {
     "data": {
      "text/plain": [
       "^GSPC    0\n",
       "^DJI     0\n",
       "^IXIC    0\n",
       "^RUT     1\n",
       "dtype: int64"
      ]
     },
     "execution_count": 429,
     "metadata": {},
     "output_type": "execute_result"
    }
   ],
   "source": [
    "capital_data.isnull().sum()"
   ]
  },
  {
   "cell_type": "code",
   "execution_count": 430,
   "metadata": {},
   "outputs": [
    {
     "data": {
      "text/html": [
       "<div>\n",
       "<style scoped>\n",
       "    .dataframe tbody tr th:only-of-type {\n",
       "        vertical-align: middle;\n",
       "    }\n",
       "\n",
       "    .dataframe tbody tr th {\n",
       "        vertical-align: top;\n",
       "    }\n",
       "\n",
       "    .dataframe thead th {\n",
       "        text-align: right;\n",
       "    }\n",
       "</style>\n",
       "<table border=\"1\" class=\"dataframe\">\n",
       "  <thead>\n",
       "    <tr style=\"text-align: right;\">\n",
       "      <th></th>\n",
       "      <th>^GSPC</th>\n",
       "      <th>^DJI</th>\n",
       "      <th>^IXIC</th>\n",
       "      <th>^RUT</th>\n",
       "    </tr>\n",
       "  </thead>\n",
       "  <tbody>\n",
       "    <tr>\n",
       "      <th>^GSPC</th>\n",
       "      <td>1.000000</td>\n",
       "      <td>0.991880</td>\n",
       "      <td>0.983121</td>\n",
       "      <td>0.956773</td>\n",
       "    </tr>\n",
       "    <tr>\n",
       "      <th>^DJI</th>\n",
       "      <td>0.991880</td>\n",
       "      <td>1.000000</td>\n",
       "      <td>0.967532</td>\n",
       "      <td>0.970487</td>\n",
       "    </tr>\n",
       "    <tr>\n",
       "      <th>^IXIC</th>\n",
       "      <td>0.983121</td>\n",
       "      <td>0.967532</td>\n",
       "      <td>1.000000</td>\n",
       "      <td>0.914880</td>\n",
       "    </tr>\n",
       "    <tr>\n",
       "      <th>^RUT</th>\n",
       "      <td>0.956773</td>\n",
       "      <td>0.970487</td>\n",
       "      <td>0.914880</td>\n",
       "      <td>1.000000</td>\n",
       "    </tr>\n",
       "  </tbody>\n",
       "</table>\n",
       "</div>"
      ],
      "text/plain": [
       "          ^GSPC      ^DJI     ^IXIC      ^RUT\n",
       "^GSPC  1.000000  0.991880  0.983121  0.956773\n",
       "^DJI   0.991880  1.000000  0.967532  0.970487\n",
       "^IXIC  0.983121  0.967532  1.000000  0.914880\n",
       "^RUT   0.956773  0.970487  0.914880  1.000000"
      ]
     },
     "execution_count": 430,
     "metadata": {},
     "output_type": "execute_result"
    }
   ],
   "source": [
    "capital_data.corr()"
   ]
  },
  {
   "cell_type": "code",
   "execution_count": 431,
   "metadata": {},
   "outputs": [
    {
     "data": {
      "text/plain": [
       "<matplotlib.axes._subplots.AxesSubplot at 0x1a5fcf0110>"
      ]
     },
     "execution_count": 431,
     "metadata": {},
     "output_type": "execute_result"
    },
    {
     "data": {
      "image/png": "[encoded data removed]",
      "text/plain": [
       "<Figure size 1152x432 with 2 Axes>"
      ]
     },
     "metadata": {
      "needs_background": "light"
     },
     "output_type": "display_data"
    }
   ],
   "source": [
    "plt.figure(figsize=(16,6))\n",
    "sns.heatmap(capital_data.corr(), annot=True)"
   ]
  },
  {
   "cell_type": "markdown",
   "metadata": {},
   "source": [
    "## Putting the data Together\n",
    "- Now that the data is ready the Capital Markets we need the close for the 10 Year"
   ]
  },
  {
   "cell_type": "code",
   "execution_count": 432,
   "metadata": {},
   "outputs": [],
   "source": [
    "tenYearData = web.DataReader(\"^TNX\", data_source=\"yahoo\", start= \"2001-1-1\")[\"Adj Close\"]"
   ]
  },
  {
   "cell_type": "markdown",
   "metadata": {},
   "source": [
    "### Combining the Data \n",
    "- adding the 10 year ADJ Close data to the Capital Markets data set\n",
    "- This will be our working Data"
   ]
  },
  {
   "cell_type": "code",
   "execution_count": 433,
   "metadata": {},
   "outputs": [],
   "source": [
    "working_data = pd.concat([capital_data, tenYearData], axis=1)"
   ]
  },
  {
   "cell_type": "code",
   "execution_count": 434,
   "metadata": {},
   "outputs": [
    {
     "data": {
      "text/html": [
       "<div>\n",
       "<style scoped>\n",
       "    .dataframe tbody tr th:only-of-type {\n",
       "        vertical-align: middle;\n",
       "    }\n",
       "\n",
       "    .dataframe tbody tr th {\n",
       "        vertical-align: top;\n",
       "    }\n",
       "\n",
       "    .dataframe thead th {\n",
       "        text-align: right;\n",
       "    }\n",
       "</style>\n",
       "<table border=\"1\" class=\"dataframe\">\n",
       "  <thead>\n",
       "    <tr style=\"text-align: right;\">\n",
       "      <th></th>\n",
       "      <th>^GSPC</th>\n",
       "      <th>^DJI</th>\n",
       "      <th>^IXIC</th>\n",
       "      <th>^RUT</th>\n",
       "      <th>Adj Close</th>\n",
       "    </tr>\n",
       "    <tr>\n",
       "      <th>Date</th>\n",
       "      <th></th>\n",
       "      <th></th>\n",
       "      <th></th>\n",
       "      <th></th>\n",
       "      <th></th>\n",
       "    </tr>\n",
       "  </thead>\n",
       "  <tbody>\n",
       "    <tr>\n",
       "      <th>2000-01-03</th>\n",
       "      <td>1469.250000</td>\n",
       "      <td>11501.849609</td>\n",
       "      <td>4186.189941</td>\n",
       "      <td>504.760010</td>\n",
       "      <td>NaN</td>\n",
       "    </tr>\n",
       "    <tr>\n",
       "      <th>2000-01-04</th>\n",
       "      <td>1455.219971</td>\n",
       "      <td>11349.750000</td>\n",
       "      <td>4020.000000</td>\n",
       "      <td>497.049988</td>\n",
       "      <td>NaN</td>\n",
       "    </tr>\n",
       "    <tr>\n",
       "      <th>2000-01-05</th>\n",
       "      <td>1399.420044</td>\n",
       "      <td>10989.370117</td>\n",
       "      <td>3854.350098</td>\n",
       "      <td>478.380005</td>\n",
       "      <td>NaN</td>\n",
       "    </tr>\n",
       "    <tr>\n",
       "      <th>2000-01-06</th>\n",
       "      <td>1402.109985</td>\n",
       "      <td>11113.370117</td>\n",
       "      <td>3834.439941</td>\n",
       "      <td>478.829987</td>\n",
       "      <td>NaN</td>\n",
       "    </tr>\n",
       "    <tr>\n",
       "      <th>2000-01-07</th>\n",
       "      <td>1403.449951</td>\n",
       "      <td>11247.059570</td>\n",
       "      <td>3711.090088</td>\n",
       "      <td>475.339996</td>\n",
       "      <td>NaN</td>\n",
       "    </tr>\n",
       "    <tr>\n",
       "      <th>...</th>\n",
       "      <td>...</td>\n",
       "      <td>...</td>\n",
       "      <td>...</td>\n",
       "      <td>...</td>\n",
       "      <td>...</td>\n",
       "    </tr>\n",
       "    <tr>\n",
       "      <th>2020-10-12</th>\n",
       "      <td>3500.020020</td>\n",
       "      <td>28671.119141</td>\n",
       "      <td>11732.330078</td>\n",
       "      <td>1642.459961</td>\n",
       "      <td>0.777</td>\n",
       "    </tr>\n",
       "    <tr>\n",
       "      <th>2020-10-13</th>\n",
       "      <td>3534.010010</td>\n",
       "      <td>28764.949219</td>\n",
       "      <td>11901.759766</td>\n",
       "      <td>1647.569946</td>\n",
       "      <td>0.727</td>\n",
       "    </tr>\n",
       "    <tr>\n",
       "      <th>2020-10-14</th>\n",
       "      <td>3515.469971</td>\n",
       "      <td>28731.300781</td>\n",
       "      <td>11889.070312</td>\n",
       "      <td>1637.969971</td>\n",
       "      <td>0.722</td>\n",
       "    </tr>\n",
       "    <tr>\n",
       "      <th>2020-10-15</th>\n",
       "      <td>3453.719971</td>\n",
       "      <td>28323.400391</td>\n",
       "      <td>11559.879883</td>\n",
       "      <td>1618.880005</td>\n",
       "      <td>0.731</td>\n",
       "    </tr>\n",
       "    <tr>\n",
       "      <th>2020-10-16</th>\n",
       "      <td>3493.500000</td>\n",
       "      <td>28570.720703</td>\n",
       "      <td>11761.830078</td>\n",
       "      <td>1638.479980</td>\n",
       "      <td>0.744</td>\n",
       "    </tr>\n",
       "  </tbody>\n",
       "</table>\n",
       "<p>5232 rows × 5 columns</p>\n",
       "</div>"
      ],
      "text/plain": [
       "                  ^GSPC          ^DJI         ^IXIC         ^RUT  Adj Close\n",
       "Date                                                                       \n",
       "2000-01-03  1469.250000  11501.849609   4186.189941   504.760010        NaN\n",
       "2000-01-04  1455.219971  11349.750000   4020.000000   497.049988        NaN\n",
       "2000-01-05  1399.420044  10989.370117   3854.350098   478.380005        NaN\n",
       "2000-01-06  1402.109985  11113.370117   3834.439941   478.829987        NaN\n",
       "2000-01-07  1403.449951  11247.059570   3711.090088   475.339996        NaN\n",
       "...                 ...           ...           ...          ...        ...\n",
       "2020-10-12  3500.020020  28671.119141  11732.330078  1642.459961      0.777\n",
       "2020-10-13  3534.010010  28764.949219  11901.759766  1647.569946      0.727\n",
       "2020-10-14  3515.469971  28731.300781  11889.070312  1637.969971      0.722\n",
       "2020-10-15  3453.719971  28323.400391  11559.879883  1618.880005      0.731\n",
       "2020-10-16  3493.500000  28570.720703  11761.830078  1638.479980      0.744\n",
       "\n",
       "[5232 rows x 5 columns]"
      ]
     },
     "execution_count": 434,
     "metadata": {},
     "output_type": "execute_result"
    }
   ],
   "source": [
    "working_data"
   ]
  },
  {
   "cell_type": "markdown",
   "metadata": {},
   "source": [
    "### Analyzing the Data \n",
    "- Currently we see there is missing data we need to consider removing\n",
    "- lets see how to go about this\n",
    "- First lets fix the columns "
   ]
  },
  {
   "cell_type": "code",
   "execution_count": 435,
   "metadata": {},
   "outputs": [
    {
     "data": {
      "text/plain": [
       "Index(['^GSPC', '^DJI', '^IXIC', '^RUT', 'Adj Close'], dtype='object')"
      ]
     },
     "execution_count": 435,
     "metadata": {},
     "output_type": "execute_result"
    }
   ],
   "source": [
    "working_data.columns"
   ]
  },
  {
   "cell_type": "code",
   "execution_count": 436,
   "metadata": {},
   "outputs": [],
   "source": [
    "working_data.columns = ['^GSPC', '^DJI', '^IXIC', '^RUT', '^TNX Adj Close']"
   ]
  },
  {
   "cell_type": "markdown",
   "metadata": {},
   "source": [
    "### Handling missing data\n",
    "- ^TNX has 288 days missing form the total 5232 days\n",
    "- approximately 5% of the data so this is not siginificate to mak a huge diffference so will drop these days"
   ]
  },
  {
   "cell_type": "code",
   "execution_count": 437,
   "metadata": {},
   "outputs": [
    {
     "data": {
      "text/plain": [
       "^GSPC               0\n",
       "^DJI                0\n",
       "^IXIC               0\n",
       "^RUT                1\n",
       "^TNX Adj Close    288\n",
       "dtype: int64"
      ]
     },
     "execution_count": 437,
     "metadata": {},
     "output_type": "execute_result"
    }
   ],
   "source": [
    "working_data.isnull().sum()"
   ]
  },
  {
   "cell_type": "code",
   "execution_count": 438,
   "metadata": {},
   "outputs": [],
   "source": [
    "working_data.dropna(inplace=True)"
   ]
  },
  {
   "cell_type": "code",
   "execution_count": 439,
   "metadata": {},
   "outputs": [
    {
     "data": {
      "text/html": [
       "<div>\n",
       "<style scoped>\n",
       "    .dataframe tbody tr th:only-of-type {\n",
       "        vertical-align: middle;\n",
       "    }\n",
       "\n",
       "    .dataframe tbody tr th {\n",
       "        vertical-align: top;\n",
       "    }\n",
       "\n",
       "    .dataframe thead th {\n",
       "        text-align: right;\n",
       "    }\n",
       "</style>\n",
       "<table border=\"1\" class=\"dataframe\">\n",
       "  <thead>\n",
       "    <tr style=\"text-align: right;\">\n",
       "      <th></th>\n",
       "      <th>^GSPC</th>\n",
       "      <th>^DJI</th>\n",
       "      <th>^IXIC</th>\n",
       "      <th>^RUT</th>\n",
       "      <th>^TNX Adj Close</th>\n",
       "    </tr>\n",
       "    <tr>\n",
       "      <th>Date</th>\n",
       "      <th></th>\n",
       "      <th></th>\n",
       "      <th></th>\n",
       "      <th></th>\n",
       "      <th></th>\n",
       "    </tr>\n",
       "  </thead>\n",
       "  <tbody>\n",
       "    <tr>\n",
       "      <th>2001-01-02</th>\n",
       "      <td>1320.280029</td>\n",
       "      <td>10790.919922</td>\n",
       "      <td>2474.159912</td>\n",
       "      <td>483.549988</td>\n",
       "      <td>4.917</td>\n",
       "    </tr>\n",
       "    <tr>\n",
       "      <th>2001-01-03</th>\n",
       "      <td>1283.270020</td>\n",
       "      <td>10637.419922</td>\n",
       "      <td>2254.560059</td>\n",
       "      <td>462.489990</td>\n",
       "      <td>5.097</td>\n",
       "    </tr>\n",
       "    <tr>\n",
       "      <th>2001-01-04</th>\n",
       "      <td>1347.560059</td>\n",
       "      <td>10944.940430</td>\n",
       "      <td>2593.959961</td>\n",
       "      <td>484.390015</td>\n",
       "      <td>5.013</td>\n",
       "    </tr>\n",
       "    <tr>\n",
       "      <th>2001-01-05</th>\n",
       "      <td>1333.339966</td>\n",
       "      <td>10912.809570</td>\n",
       "      <td>2573.110107</td>\n",
       "      <td>477.200012</td>\n",
       "      <td>4.948</td>\n",
       "    </tr>\n",
       "    <tr>\n",
       "      <th>2001-01-08</th>\n",
       "      <td>1298.349976</td>\n",
       "      <td>10658.730469</td>\n",
       "      <td>2388.719971</td>\n",
       "      <td>463.140015</td>\n",
       "      <td>4.897</td>\n",
       "    </tr>\n",
       "    <tr>\n",
       "      <th>...</th>\n",
       "      <td>...</td>\n",
       "      <td>...</td>\n",
       "      <td>...</td>\n",
       "      <td>...</td>\n",
       "      <td>...</td>\n",
       "    </tr>\n",
       "    <tr>\n",
       "      <th>2020-10-12</th>\n",
       "      <td>3500.020020</td>\n",
       "      <td>28671.119141</td>\n",
       "      <td>11732.330078</td>\n",
       "      <td>1642.459961</td>\n",
       "      <td>0.777</td>\n",
       "    </tr>\n",
       "    <tr>\n",
       "      <th>2020-10-13</th>\n",
       "      <td>3534.010010</td>\n",
       "      <td>28764.949219</td>\n",
       "      <td>11901.759766</td>\n",
       "      <td>1647.569946</td>\n",
       "      <td>0.727</td>\n",
       "    </tr>\n",
       "    <tr>\n",
       "      <th>2020-10-14</th>\n",
       "      <td>3515.469971</td>\n",
       "      <td>28731.300781</td>\n",
       "      <td>11889.070312</td>\n",
       "      <td>1637.969971</td>\n",
       "      <td>0.722</td>\n",
       "    </tr>\n",
       "    <tr>\n",
       "      <th>2020-10-15</th>\n",
       "      <td>3453.719971</td>\n",
       "      <td>28323.400391</td>\n",
       "      <td>11559.879883</td>\n",
       "      <td>1618.880005</td>\n",
       "      <td>0.731</td>\n",
       "    </tr>\n",
       "    <tr>\n",
       "      <th>2020-10-16</th>\n",
       "      <td>3493.500000</td>\n",
       "      <td>28570.720703</td>\n",
       "      <td>11761.830078</td>\n",
       "      <td>1638.479980</td>\n",
       "      <td>0.744</td>\n",
       "    </tr>\n",
       "  </tbody>\n",
       "</table>\n",
       "<p>4943 rows × 5 columns</p>\n",
       "</div>"
      ],
      "text/plain": [
       "                  ^GSPC          ^DJI         ^IXIC         ^RUT  \\\n",
       "Date                                                               \n",
       "2001-01-02  1320.280029  10790.919922   2474.159912   483.549988   \n",
       "2001-01-03  1283.270020  10637.419922   2254.560059   462.489990   \n",
       "2001-01-04  1347.560059  10944.940430   2593.959961   484.390015   \n",
       "2001-01-05  1333.339966  10912.809570   2573.110107   477.200012   \n",
       "2001-01-08  1298.349976  10658.730469   2388.719971   463.140015   \n",
       "...                 ...           ...           ...          ...   \n",
       "2020-10-12  3500.020020  28671.119141  11732.330078  1642.459961   \n",
       "2020-10-13  3534.010010  28764.949219  11901.759766  1647.569946   \n",
       "2020-10-14  3515.469971  28731.300781  11889.070312  1637.969971   \n",
       "2020-10-15  3453.719971  28323.400391  11559.879883  1618.880005   \n",
       "2020-10-16  3493.500000  28570.720703  11761.830078  1638.479980   \n",
       "\n",
       "            ^TNX Adj Close  \n",
       "Date                        \n",
       "2001-01-02           4.917  \n",
       "2001-01-03           5.097  \n",
       "2001-01-04           5.013  \n",
       "2001-01-05           4.948  \n",
       "2001-01-08           4.897  \n",
       "...                    ...  \n",
       "2020-10-12           0.777  \n",
       "2020-10-13           0.727  \n",
       "2020-10-14           0.722  \n",
       "2020-10-15           0.731  \n",
       "2020-10-16           0.744  \n",
       "\n",
       "[4943 rows x 5 columns]"
      ]
     },
     "execution_count": 439,
     "metadata": {},
     "output_type": "execute_result"
    }
   ],
   "source": [
    "working_data"
   ]
  },
  {
   "cell_type": "markdown",
   "metadata": {},
   "source": [
    "### 10 Year activity over time\n",
    "- Since late 2009 ther has been a stedy decline in the 10 year yield"
   ]
  },
  {
   "cell_type": "code",
   "execution_count": 440,
   "metadata": {},
   "outputs": [
    {
     "data": {
      "text/plain": [
       "<matplotlib.axes._subplots.AxesSubplot at 0x1a5fee8050>"
      ]
     },
     "execution_count": 440,
     "metadata": {},
     "output_type": "execute_result"
    },
    {
     "data": {
      "image/png": "[encoded data removed]",
      "text/plain": [
       "<Figure size 1152x432 with 1 Axes>"
      ]
     },
     "metadata": {
      "needs_background": "light"
     },
     "output_type": "display_data"
    }
   ],
   "source": [
    "working_data[\"^TNX Adj Close\"].plot(figsize = (16,6))"
   ]
  },
  {
   "cell_type": "markdown",
   "metadata": {},
   "source": [
    "### Preparing the data for model\n",
    "- Separating X - > Features and y - > Target (TNX)"
   ]
  },
  {
   "cell_type": "code",
   "execution_count": 441,
   "metadata": {},
   "outputs": [],
   "source": [
    "X = working_data.drop(\"^TNX Adj Close\", axis= 1).values\n",
    "y = working_data[\"^TNX Adj Close\"].values"
   ]
  },
  {
   "cell_type": "markdown",
   "metadata": {},
   "source": [
    "### Training testing and splitting"
   ]
  },
  {
   "cell_type": "code",
   "execution_count": 442,
   "metadata": {},
   "outputs": [],
   "source": [
    "from sklearn.model_selection import train_test_split"
   ]
  },
  {
   "cell_type": "code",
   "execution_count": 443,
   "metadata": {},
   "outputs": [],
   "source": [
    "X_train, X_test, y_train, y_test = train_test_split(X, y, test_size=0.30, random_state=42)"
   ]
  },
  {
   "cell_type": "markdown",
   "metadata": {},
   "source": [
    "## Scaling the data to a normal Distribution"
   ]
  },
  {
   "cell_type": "code",
   "execution_count": 444,
   "metadata": {},
   "outputs": [],
   "source": [
    "from sklearn.preprocessing import MinMaxScaler"
   ]
  },
  {
   "cell_type": "code",
   "execution_count": 445,
   "metadata": {},
   "outputs": [],
   "source": [
    "scalar = MinMaxScaler()"
   ]
  },
  {
   "cell_type": "code",
   "execution_count": 446,
   "metadata": {},
   "outputs": [],
   "source": [
    "X_train = scalar.fit_transform(X_train)"
   ]
  },
  {
   "cell_type": "code",
   "execution_count": 447,
   "metadata": {},
   "outputs": [],
   "source": [
    "X_test = scalar.transform(X_test)"
   ]
  },
  {
   "cell_type": "markdown",
   "metadata": {},
   "source": [
    "### Early Stopping Callback\n",
    "- Will use early stopping to prevent overtraining on the training data "
   ]
  },
  {
   "cell_type": "code",
   "execution_count": 448,
   "metadata": {},
   "outputs": [],
   "source": [
    "from tensorflow.keras.callbacks import EarlyStopping"
   ]
  },
  {
   "cell_type": "code",
   "execution_count": 449,
   "metadata": {},
   "outputs": [],
   "source": [
    "stop = EarlyStopping(\"val_loss\", mode=\"min\", patience= 50)"
   ]
  },
  {
   "cell_type": "markdown",
   "metadata": {},
   "source": [
    "## Creating the model"
   ]
  },
  {
   "cell_type": "code",
   "execution_count": 450,
   "metadata": {},
   "outputs": [],
   "source": [
    "from tensorflow.keras.models import Sequential\n",
    "from tensorflow.keras.layers import Dropout, Dense"
   ]
  },
  {
   "cell_type": "code",
   "execution_count": 451,
   "metadata": {},
   "outputs": [],
   "source": [
    "model = Sequential()\n",
    "model.add(Dense(units = 4, activation = \"relu\"))\n",
    "model.add(Dense(units = 4, activation = \"relu\"))\n",
    "model.add(Dense(units = 4, activation = \"relu\"))\n",
    "model.add(Dense(units = 4, activation = \"relu\"))\n",
    "model.add(Dense(units = 4, activation = \"relu\"))\n",
    "model.add(Dense(units = 1))\n",
    "model.compile(activation = 'adam', loss = \"mse\")"
   ]
  },
  {
   "cell_type": "code",
   "execution_count": 452,
   "metadata": {},
   "outputs": [
    {
     "name": "stdout",
     "output_type": "stream",
     "text": [
      "Train on 3460 samples, validate on 1483 samples\n",
      "Epoch 1/300\n",
      "3460/3460 [==============================] - 2s 671us/sample - loss: 8.2668 - val_loss: 5.7553\n",
      "Epoch 2/300\n",
      "3460/3460 [==============================] - 0s 131us/sample - loss: 3.6783 - val_loss: 2.8252\n",
      "Epoch 3/300\n",
      "3460/3460 [==============================] - 0s 131us/sample - loss: 2.0998 - val_loss: 1.6737\n",
      "Epoch 4/300\n",
      "3460/3460 [==============================] - 0s 131us/sample - loss: 1.2129 - val_loss: 0.8287\n",
      "Epoch 5/300\n",
      "3460/3460 [==============================] - 0s 131us/sample - loss: 0.7139 - val_loss: 0.6455\n",
      "Epoch 6/300\n",
      "3460/3460 [==============================] - 0s 131us/sample - loss: 0.6680 - val_loss: 0.6307\n",
      "Epoch 7/300\n",
      "3460/3460 [==============================] - 0s 136us/sample - loss: 0.6546 - val_loss: 0.6567\n",
      "Epoch 8/300\n",
      "3460/3460 [==============================] - 0s 130us/sample - loss: 0.6429 - val_loss: 0.6128\n",
      "Epoch 9/300\n",
      "3460/3460 [==============================] - 0s 130us/sample - loss: 0.6293 - val_loss: 0.6234\n",
      "Epoch 10/300\n",
      "3460/3460 [==============================] - 0s 130us/sample - loss: 0.6179 - val_loss: 0.5946\n",
      "Epoch 11/300\n",
      "3460/3460 [==============================] - 0s 130us/sample - loss: 0.6081 - val_loss: 0.5785\n",
      "Epoch 12/300\n",
      "3460/3460 [==============================] - 0s 131us/sample - loss: 0.5956 - val_loss: 0.5786\n",
      "Epoch 13/300\n",
      "3460/3460 [==============================] - 0s 131us/sample - loss: 0.5836 - val_loss: 0.5679\n",
      "Epoch 14/300\n",
      "3460/3460 [==============================] - 0s 131us/sample - loss: 0.5711 - val_loss: 0.5565\n",
      "Epoch 15/300\n",
      "3460/3460 [==============================] - 0s 130us/sample - loss: 0.5595 - val_loss: 0.5408\n",
      "Epoch 16/300\n",
      "3460/3460 [==============================] - 0s 130us/sample - loss: 0.5440 - val_loss: 0.5246\n",
      "Epoch 17/300\n",
      "3460/3460 [==============================] - 0s 131us/sample - loss: 0.5286 - val_loss: 0.5277\n",
      "Epoch 18/300\n",
      "3460/3460 [==============================] - 0s 132us/sample - loss: 0.5135 - val_loss: 0.4850\n",
      "Epoch 19/300\n",
      "3460/3460 [==============================] - 0s 131us/sample - loss: 0.4974 - val_loss: 0.4665\n",
      "Epoch 20/300\n",
      "3460/3460 [==============================] - 0s 130us/sample - loss: 0.4780 - val_loss: 0.4678\n",
      "Epoch 21/300\n",
      "3460/3460 [==============================] - 0s 131us/sample - loss: 0.4574 - val_loss: 0.4292\n",
      "Epoch 22/300\n",
      "3460/3460 [==============================] - 0s 130us/sample - loss: 0.4395 - val_loss: 0.4211\n",
      "Epoch 23/300\n",
      "3460/3460 [==============================] - 0s 130us/sample - loss: 0.4188 - val_loss: 0.3961\n",
      "Epoch 24/300\n",
      "3460/3460 [==============================] - 0s 131us/sample - loss: 0.3959 - val_loss: 0.3752\n",
      "Epoch 25/300\n",
      "3460/3460 [==============================] - 0s 130us/sample - loss: 0.3778 - val_loss: 0.3724\n",
      "Epoch 26/300\n",
      "3460/3460 [==============================] - 0s 131us/sample - loss: 0.3551 - val_loss: 0.3225\n",
      "Epoch 27/300\n",
      "3460/3460 [==============================] - 0s 130us/sample - loss: 0.3337 - val_loss: 0.3099\n",
      "Epoch 28/300\n",
      "3460/3460 [==============================] - 0s 130us/sample - loss: 0.3160 - val_loss: 0.2971\n",
      "Epoch 29/300\n",
      "3460/3460 [==============================] - 0s 130us/sample - loss: 0.2985 - val_loss: 0.3124\n",
      "Epoch 30/300\n",
      "3460/3460 [==============================] - 0s 131us/sample - loss: 0.2846 - val_loss: 0.2699\n",
      "Epoch 31/300\n",
      "3460/3460 [==============================] - 0s 131us/sample - loss: 0.2743 - val_loss: 0.3142\n",
      "Epoch 32/300\n",
      "3460/3460 [==============================] - 0s 131us/sample - loss: 0.2658 - val_loss: 0.2952\n",
      "Epoch 33/300\n",
      "3460/3460 [==============================] - 0s 130us/sample - loss: 0.2617 - val_loss: 0.2692\n",
      "Epoch 34/300\n",
      "3460/3460 [==============================] - 0s 130us/sample - loss: 0.2558 - val_loss: 0.2467\n",
      "Epoch 35/300\n",
      "3460/3460 [==============================] - 0s 130us/sample - loss: 0.2517 - val_loss: 0.2296\n",
      "Epoch 36/300\n",
      "3460/3460 [==============================] - 0s 130us/sample - loss: 0.2508 - val_loss: 0.2318\n",
      "Epoch 37/300\n",
      "3460/3460 [==============================] - 0s 131us/sample - loss: 0.2449 - val_loss: 0.2294\n",
      "Epoch 38/300\n",
      "3460/3460 [==============================] - 0s 140us/sample - loss: 0.2453 - val_loss: 0.2314\n",
      "Epoch 39/300\n",
      "3460/3460 [==============================] - 0s 138us/sample - loss: 0.2456 - val_loss: 0.2975\n",
      "Epoch 40/300\n",
      "3460/3460 [==============================] - 0s 132us/sample - loss: 0.2419 - val_loss: 0.2359\n",
      "Epoch 41/300\n",
      "3460/3460 [==============================] - 0s 130us/sample - loss: 0.2411 - val_loss: 0.2222\n",
      "Epoch 42/300\n",
      "3460/3460 [==============================] - 0s 130us/sample - loss: 0.2410 - val_loss: 0.2213\n",
      "Epoch 43/300\n",
      "3460/3460 [==============================] - 0s 130us/sample - loss: 0.2395 - val_loss: 0.2198\n",
      "Epoch 44/300\n",
      "3460/3460 [==============================] - 0s 130us/sample - loss: 0.2396 - val_loss: 0.2211\n",
      "Epoch 45/300\n",
      "3460/3460 [==============================] - 0s 130us/sample - loss: 0.2361 - val_loss: 0.2212\n",
      "Epoch 46/300\n",
      "3460/3460 [==============================] - 0s 131us/sample - loss: 0.2348 - val_loss: 0.2408\n",
      "Epoch 47/300\n",
      "3460/3460 [==============================] - 0s 131us/sample - loss: 0.2345 - val_loss: 0.3295\n",
      "Epoch 48/300\n",
      "3460/3460 [==============================] - 0s 130us/sample - loss: 0.2368 - val_loss: 0.2193\n",
      "Epoch 49/300\n",
      "3460/3460 [==============================] - 0s 130us/sample - loss: 0.2338 - val_loss: 0.2481\n",
      "Epoch 50/300\n",
      "3460/3460 [==============================] - 0s 131us/sample - loss: 0.2324 - val_loss: 0.2425\n",
      "Epoch 51/300\n",
      "3460/3460 [==============================] - 0s 130us/sample - loss: 0.2302 - val_loss: 0.2192\n",
      "Epoch 52/300\n",
      "3460/3460 [==============================] - 0s 131us/sample - loss: 0.2307 - val_loss: 0.3062\n",
      "Epoch 53/300\n",
      "3460/3460 [==============================] - 0s 131us/sample - loss: 0.2296 - val_loss: 0.2178\n",
      "Epoch 54/300\n",
      "3460/3460 [==============================] - 0s 130us/sample - loss: 0.2286 - val_loss: 0.2160\n",
      "Epoch 55/300\n",
      "3460/3460 [==============================] - 0s 130us/sample - loss: 0.2287 - val_loss: 0.2143\n",
      "Epoch 56/300\n",
      "3460/3460 [==============================] - 0s 131us/sample - loss: 0.2263 - val_loss: 0.2101\n",
      "Epoch 57/300\n",
      "3460/3460 [==============================] - 0s 131us/sample - loss: 0.2283 - val_loss: 0.2597\n",
      "Epoch 58/300\n",
      "3460/3460 [==============================] - 0s 130us/sample - loss: 0.2280 - val_loss: 0.2146\n",
      "Epoch 59/300\n",
      "3460/3460 [==============================] - 0s 130us/sample - loss: 0.2275 - val_loss: 0.2761\n",
      "Epoch 60/300\n",
      "3460/3460 [==============================] - 0s 137us/sample - loss: 0.2264 - val_loss: 0.2483\n",
      "Epoch 61/300\n",
      "3460/3460 [==============================] - 0s 141us/sample - loss: 0.2263 - val_loss: 0.2145\n",
      "Epoch 62/300\n",
      "3460/3460 [==============================] - 0s 130us/sample - loss: 0.2248 - val_loss: 0.2083\n",
      "Epoch 63/300\n",
      "3460/3460 [==============================] - 0s 130us/sample - loss: 0.2247 - val_loss: 0.2103\n",
      "Epoch 64/300\n",
      "3460/3460 [==============================] - 0s 130us/sample - loss: 0.2231 - val_loss: 0.2173\n",
      "Epoch 65/300\n",
      "3460/3460 [==============================] - 0s 131us/sample - loss: 0.2257 - val_loss: 0.2219\n",
      "Epoch 66/300\n",
      "3460/3460 [==============================] - 0s 131us/sample - loss: 0.2233 - val_loss: 0.3072\n",
      "Epoch 67/300\n",
      "3460/3460 [==============================] - 0s 130us/sample - loss: 0.2239 - val_loss: 0.2500\n",
      "Epoch 68/300\n",
      "3460/3460 [==============================] - 0s 130us/sample - loss: 0.2223 - val_loss: 0.2312\n",
      "Epoch 69/300\n",
      "3460/3460 [==============================] - 0s 131us/sample - loss: 0.2224 - val_loss: 0.2041\n",
      "Epoch 70/300\n",
      "3460/3460 [==============================] - 0s 130us/sample - loss: 0.2212 - val_loss: 0.3440\n",
      "Epoch 71/300\n",
      "3460/3460 [==============================] - 0s 130us/sample - loss: 0.2222 - val_loss: 0.2032\n",
      "Epoch 72/300\n",
      "3460/3460 [==============================] - 0s 131us/sample - loss: 0.2197 - val_loss: 0.2470\n",
      "Epoch 73/300\n",
      "3460/3460 [==============================] - 0s 136us/sample - loss: 0.2190 - val_loss: 0.2113\n",
      "Epoch 74/300\n",
      "3460/3460 [==============================] - 0s 131us/sample - loss: 0.2201 - val_loss: 0.2094\n",
      "Epoch 75/300\n",
      "3460/3460 [==============================] - 0s 130us/sample - loss: 0.2208 - val_loss: 0.2071\n",
      "Epoch 76/300\n"
     ]
    },
    {
     "name": "stdout",
     "output_type": "stream",
     "text": [
      "3460/3460 [==============================] - 0s 134us/sample - loss: 0.2189 - val_loss: 0.2355\n",
      "Epoch 77/300\n",
      "3460/3460 [==============================] - 0s 134us/sample - loss: 0.2185 - val_loss: 0.2545\n",
      "Epoch 78/300\n",
      "3460/3460 [==============================] - 0s 131us/sample - loss: 0.2184 - val_loss: 0.2148\n",
      "Epoch 79/300\n",
      "3460/3460 [==============================] - 0s 131us/sample - loss: 0.2181 - val_loss: 0.2741\n",
      "Epoch 80/300\n",
      "3460/3460 [==============================] - 0s 129us/sample - loss: 0.2191 - val_loss: 0.2063\n",
      "Epoch 81/300\n",
      "3460/3460 [==============================] - 0s 130us/sample - loss: 0.2169 - val_loss: 0.2046\n",
      "Epoch 82/300\n",
      "3460/3460 [==============================] - 0s 131us/sample - loss: 0.2184 - val_loss: 0.2014\n",
      "Epoch 83/300\n",
      "3460/3460 [==============================] - 0s 130us/sample - loss: 0.2173 - val_loss: 0.2374\n",
      "Epoch 84/300\n",
      "3460/3460 [==============================] - 0s 130us/sample - loss: 0.2168 - val_loss: 0.2103\n",
      "Epoch 85/300\n",
      "3460/3460 [==============================] - 0s 129us/sample - loss: 0.2179 - val_loss: 0.2211\n",
      "Epoch 86/300\n",
      "3460/3460 [==============================] - 0s 131us/sample - loss: 0.2159 - val_loss: 0.2083\n",
      "Epoch 87/300\n",
      "3460/3460 [==============================] - 0s 129us/sample - loss: 0.2148 - val_loss: 0.2003\n",
      "Epoch 88/300\n",
      "3460/3460 [==============================] - 0s 130us/sample - loss: 0.2163 - val_loss: 0.2064\n",
      "Epoch 89/300\n",
      "3460/3460 [==============================] - 0s 129us/sample - loss: 0.2156 - val_loss: 0.2347\n",
      "Epoch 90/300\n",
      "3460/3460 [==============================] - 0s 130us/sample - loss: 0.2160 - val_loss: 0.2101\n",
      "Epoch 91/300\n",
      "3460/3460 [==============================] - 0s 130us/sample - loss: 0.2149 - val_loss: 0.2073\n",
      "Epoch 92/300\n",
      "3460/3460 [==============================] - 0s 130us/sample - loss: 0.2135 - val_loss: 0.1971\n",
      "Epoch 93/300\n",
      "3460/3460 [==============================] - 0s 130us/sample - loss: 0.2140 - val_loss: 0.2449\n",
      "Epoch 94/300\n",
      "3460/3460 [==============================] - 0s 130us/sample - loss: 0.2145 - val_loss: 0.2054\n",
      "Epoch 95/300\n",
      "3460/3460 [==============================] - 0s 130us/sample - loss: 0.2131 - val_loss: 0.2102\n",
      "Epoch 96/300\n",
      "3460/3460 [==============================] - 0s 130us/sample - loss: 0.2129 - val_loss: 0.2231\n",
      "Epoch 97/300\n",
      "3460/3460 [==============================] - 0s 130us/sample - loss: 0.2144 - val_loss: 0.2229\n",
      "Epoch 98/300\n",
      "3460/3460 [==============================] - 0s 130us/sample - loss: 0.2136 - val_loss: 0.2011\n",
      "Epoch 99/300\n",
      "3460/3460 [==============================] - 0s 129us/sample - loss: 0.2128 - val_loss: 0.2473\n",
      "Epoch 100/300\n",
      "3460/3460 [==============================] - 0s 130us/sample - loss: 0.2119 - val_loss: 0.2015\n",
      "Epoch 101/300\n",
      "3460/3460 [==============================] - 0s 130us/sample - loss: 0.2107 - val_loss: 0.2496\n",
      "Epoch 102/300\n",
      "3460/3460 [==============================] - 0s 130us/sample - loss: 0.2121 - val_loss: 0.2117\n",
      "Epoch 103/300\n",
      "3460/3460 [==============================] - 0s 129us/sample - loss: 0.2117 - val_loss: 0.1974\n",
      "Epoch 104/300\n",
      "3460/3460 [==============================] - 0s 129us/sample - loss: 0.2105 - val_loss: 0.1971\n",
      "Epoch 105/300\n",
      "3460/3460 [==============================] - 0s 139us/sample - loss: 0.2101 - val_loss: 0.2470\n",
      "Epoch 106/300\n",
      "3460/3460 [==============================] - 0s 144us/sample - loss: 0.2087 - val_loss: 0.2307\n",
      "Epoch 107/300\n",
      "3460/3460 [==============================] - 0s 130us/sample - loss: 0.2109 - val_loss: 0.2040\n",
      "Epoch 108/300\n",
      "3460/3460 [==============================] - 0s 131us/sample - loss: 0.2108 - val_loss: 0.2511\n",
      "Epoch 109/300\n",
      "3460/3460 [==============================] - 0s 130us/sample - loss: 0.2109 - val_loss: 0.1960\n",
      "Epoch 110/300\n",
      "3460/3460 [==============================] - 0s 130us/sample - loss: 0.2076 - val_loss: 0.2077\n",
      "Epoch 111/300\n",
      "3460/3460 [==============================] - 0s 129us/sample - loss: 0.2081 - val_loss: 0.2635\n",
      "Epoch 112/300\n",
      "3460/3460 [==============================] - 0s 130us/sample - loss: 0.2109 - val_loss: 0.2020\n",
      "Epoch 113/300\n",
      "3460/3460 [==============================] - 0s 130us/sample - loss: 0.2096 - val_loss: 0.1952\n",
      "Epoch 114/300\n",
      "3460/3460 [==============================] - 0s 130us/sample - loss: 0.2087 - val_loss: 0.2135\n",
      "Epoch 115/300\n",
      "3460/3460 [==============================] - 0s 129us/sample - loss: 0.2067 - val_loss: 0.2208\n",
      "Epoch 116/300\n",
      "3460/3460 [==============================] - 0s 130us/sample - loss: 0.2083 - val_loss: 0.1932\n",
      "Epoch 117/300\n",
      "3460/3460 [==============================] - 0s 130us/sample - loss: 0.2064 - val_loss: 0.2809\n",
      "Epoch 118/300\n",
      "3460/3460 [==============================] - 0s 130us/sample - loss: 0.2077 - val_loss: 0.2312\n",
      "Epoch 119/300\n",
      "3460/3460 [==============================] - 0s 130us/sample - loss: 0.2085 - val_loss: 0.1962\n",
      "Epoch 120/300\n",
      "3460/3460 [==============================] - 0s 130us/sample - loss: 0.2078 - val_loss: 0.1978\n",
      "Epoch 121/300\n",
      "3460/3460 [==============================] - 0s 130us/sample - loss: 0.2053 - val_loss: 0.2101\n",
      "Epoch 122/300\n",
      "3460/3460 [==============================] - 0s 130us/sample - loss: 0.2078 - val_loss: 0.2129\n",
      "Epoch 123/300\n",
      "3460/3460 [==============================] - 0s 130us/sample - loss: 0.2068 - val_loss: 0.2188\n",
      "Epoch 124/300\n",
      "3460/3460 [==============================] - 0s 131us/sample - loss: 0.2048 - val_loss: 0.1936\n",
      "Epoch 125/300\n",
      "3460/3460 [==============================] - 0s 131us/sample - loss: 0.2053 - val_loss: 0.1916\n",
      "Epoch 126/300\n",
      "3460/3460 [==============================] - 0s 130us/sample - loss: 0.2071 - val_loss: 0.2039\n",
      "Epoch 127/300\n",
      "3460/3460 [==============================] - 0s 135us/sample - loss: 0.2051 - val_loss: 0.2418\n",
      "Epoch 128/300\n",
      "3460/3460 [==============================] - 0s 140us/sample - loss: 0.2072 - val_loss: 0.1999\n",
      "Epoch 129/300\n",
      "3460/3460 [==============================] - 0s 130us/sample - loss: 0.2045 - val_loss: 0.2319\n",
      "Epoch 130/300\n",
      "3460/3460 [==============================] - 0s 130us/sample - loss: 0.2076 - val_loss: 0.1955\n",
      "Epoch 131/300\n",
      "3460/3460 [==============================] - 0s 130us/sample - loss: 0.2053 - val_loss: 0.2113\n",
      "Epoch 132/300\n",
      "3460/3460 [==============================] - 0s 131us/sample - loss: 0.2037 - val_loss: 0.2197\n",
      "Epoch 133/300\n",
      "3460/3460 [==============================] - 0s 130us/sample - loss: 0.2037 - val_loss: 0.1908\n",
      "Epoch 134/300\n",
      "3460/3460 [==============================] - 0s 130us/sample - loss: 0.2048 - val_loss: 0.2267\n",
      "Epoch 135/300\n",
      "3460/3460 [==============================] - 0s 130us/sample - loss: 0.2040 - val_loss: 0.1917\n",
      "Epoch 136/300\n",
      "3460/3460 [==============================] - 0s 131us/sample - loss: 0.2020 - val_loss: 0.2187\n",
      "Epoch 137/300\n",
      "3460/3460 [==============================] - 0s 130us/sample - loss: 0.2029 - val_loss: 0.2213\n",
      "Epoch 138/300\n",
      "3460/3460 [==============================] - 0s 130us/sample - loss: 0.2029 - val_loss: 0.2593\n",
      "Epoch 139/300\n",
      "3460/3460 [==============================] - 0s 135us/sample - loss: 0.2025 - val_loss: 0.2011\n",
      "Epoch 140/300\n",
      "3460/3460 [==============================] - 0s 130us/sample - loss: 0.2012 - val_loss: 0.2118\n",
      "Epoch 141/300\n",
      "3460/3460 [==============================] - 0s 130us/sample - loss: 0.2021 - val_loss: 0.2020\n",
      "Epoch 142/300\n",
      "3460/3460 [==============================] - 0s 131us/sample - loss: 0.2028 - val_loss: 0.1946\n",
      "Epoch 143/300\n",
      "3460/3460 [==============================] - 0s 130us/sample - loss: 0.2015 - val_loss: 0.2400\n",
      "Epoch 144/300\n",
      "3460/3460 [==============================] - 0s 137us/sample - loss: 0.2009 - val_loss: 0.1939\n",
      "Epoch 145/300\n",
      "3460/3460 [==============================] - 0s 130us/sample - loss: 0.2011 - val_loss: 0.1996\n",
      "Epoch 146/300\n",
      "3460/3460 [==============================] - 0s 131us/sample - loss: 0.2012 - val_loss: 0.2442\n",
      "Epoch 147/300\n",
      "3460/3460 [==============================] - 0s 133us/sample - loss: 0.2029 - val_loss: 0.1953\n",
      "Epoch 148/300\n",
      "3460/3460 [==============================] - 0s 135us/sample - loss: 0.2015 - val_loss: 0.1858\n",
      "Epoch 149/300\n",
      "3460/3460 [==============================] - 0s 130us/sample - loss: 0.2005 - val_loss: 0.2292\n",
      "Epoch 150/300\n",
      "3460/3460 [==============================] - 0s 130us/sample - loss: 0.2017 - val_loss: 0.1947\n",
      "Epoch 151/300\n"
     ]
    },
    {
     "name": "stdout",
     "output_type": "stream",
     "text": [
      "3460/3460 [==============================] - 0s 132us/sample - loss: 0.2015 - val_loss: 0.2177\n",
      "Epoch 152/300\n",
      "3460/3460 [==============================] - 0s 129us/sample - loss: 0.1995 - val_loss: 0.2277\n",
      "Epoch 153/300\n",
      "3460/3460 [==============================] - 0s 130us/sample - loss: 0.2000 - val_loss: 0.2038\n",
      "Epoch 154/300\n",
      "3460/3460 [==============================] - 0s 131us/sample - loss: 0.1981 - val_loss: 0.1920\n",
      "Epoch 155/300\n",
      "3460/3460 [==============================] - 0s 130us/sample - loss: 0.1981 - val_loss: 0.2128\n",
      "Epoch 156/300\n",
      "3460/3460 [==============================] - 0s 130us/sample - loss: 0.1986 - val_loss: 0.2343\n",
      "Epoch 157/300\n",
      "3460/3460 [==============================] - 0s 129us/sample - loss: 0.1968 - val_loss: 0.1855\n",
      "Epoch 158/300\n",
      "3460/3460 [==============================] - 0s 130us/sample - loss: 0.1983 - val_loss: 0.1903\n",
      "Epoch 159/300\n",
      "3460/3460 [==============================] - 0s 130us/sample - loss: 0.1984 - val_loss: 0.2563\n",
      "Epoch 160/300\n",
      "3460/3460 [==============================] - 0s 129us/sample - loss: 0.1993 - val_loss: 0.1883\n",
      "Epoch 161/300\n",
      "3460/3460 [==============================] - 0s 129us/sample - loss: 0.1973 - val_loss: 0.1967\n",
      "Epoch 162/300\n",
      "3460/3460 [==============================] - 0s 130us/sample - loss: 0.1976 - val_loss: 0.1886\n",
      "Epoch 163/300\n",
      "3460/3460 [==============================] - 0s 130us/sample - loss: 0.1984 - val_loss: 0.2147\n",
      "Epoch 164/300\n",
      "3460/3460 [==============================] - 0s 130us/sample - loss: 0.1948 - val_loss: 0.2394\n",
      "Epoch 165/300\n",
      "3460/3460 [==============================] - 0s 129us/sample - loss: 0.1950 - val_loss: 0.1967\n",
      "Epoch 166/300\n",
      "3460/3460 [==============================] - 0s 130us/sample - loss: 0.1949 - val_loss: 0.1938\n",
      "Epoch 167/300\n",
      "3460/3460 [==============================] - 0s 132us/sample - loss: 0.1978 - val_loss: 0.1870\n",
      "Epoch 168/300\n",
      "3460/3460 [==============================] - 0s 131us/sample - loss: 0.1956 - val_loss: 0.1933\n",
      "Epoch 169/300\n",
      "3460/3460 [==============================] - 0s 130us/sample - loss: 0.1960 - val_loss: 0.1808\n",
      "Epoch 170/300\n",
      "3460/3460 [==============================] - 0s 131us/sample - loss: 0.1950 - val_loss: 0.1873\n",
      "Epoch 171/300\n",
      "3460/3460 [==============================] - 0s 132us/sample - loss: 0.1945 - val_loss: 0.1995\n",
      "Epoch 172/300\n",
      "3460/3460 [==============================] - 0s 139us/sample - loss: 0.1936 - val_loss: 0.2030\n",
      "Epoch 173/300\n",
      "3460/3460 [==============================] - 0s 137us/sample - loss: 0.1952 - val_loss: 0.2084\n",
      "Epoch 174/300\n",
      "3460/3460 [==============================] - 0s 130us/sample - loss: 0.1928 - val_loss: 0.2522\n",
      "Epoch 175/300\n",
      "3460/3460 [==============================] - 0s 130us/sample - loss: 0.1946 - val_loss: 0.2331\n",
      "Epoch 176/300\n",
      "3460/3460 [==============================] - 0s 131us/sample - loss: 0.1933 - val_loss: 0.1840\n",
      "Epoch 177/300\n",
      "3460/3460 [==============================] - 0s 130us/sample - loss: 0.1930 - val_loss: 0.2219\n",
      "Epoch 178/300\n",
      "3460/3460 [==============================] - 0s 131us/sample - loss: 0.1922 - val_loss: 0.1857\n",
      "Epoch 179/300\n",
      "3460/3460 [==============================] - 0s 130us/sample - loss: 0.1930 - val_loss: 0.1802\n",
      "Epoch 180/300\n",
      "3460/3460 [==============================] - 0s 131us/sample - loss: 0.1936 - val_loss: 0.2225\n",
      "Epoch 181/300\n",
      "3460/3460 [==============================] - 0s 130us/sample - loss: 0.1917 - val_loss: 0.1869\n",
      "Epoch 182/300\n",
      "3460/3460 [==============================] - 0s 130us/sample - loss: 0.1908 - val_loss: 0.1987\n",
      "Epoch 183/300\n",
      "3460/3460 [==============================] - 0s 131us/sample - loss: 0.1907 - val_loss: 0.2091\n",
      "Epoch 184/300\n",
      "3460/3460 [==============================] - 0s 130us/sample - loss: 0.1910 - val_loss: 0.1794\n",
      "Epoch 185/300\n",
      "3460/3460 [==============================] - 0s 129us/sample - loss: 0.1913 - val_loss: 0.2512\n",
      "Epoch 186/300\n",
      "3460/3460 [==============================] - 0s 130us/sample - loss: 0.1902 - val_loss: 0.1781\n",
      "Epoch 187/300\n",
      "3460/3460 [==============================] - 0s 130us/sample - loss: 0.1905 - val_loss: 0.2669\n",
      "Epoch 188/300\n",
      "3460/3460 [==============================] - 0s 130us/sample - loss: 0.1920 - val_loss: 0.1840\n",
      "Epoch 189/300\n",
      "3460/3460 [==============================] - 0s 131us/sample - loss: 0.1897 - val_loss: 0.1801\n",
      "Epoch 190/300\n",
      "3460/3460 [==============================] - 0s 129us/sample - loss: 0.1906 - val_loss: 0.1874\n",
      "Epoch 191/300\n",
      "3460/3460 [==============================] - 0s 130us/sample - loss: 0.1905 - val_loss: 0.1821\n",
      "Epoch 192/300\n",
      "3460/3460 [==============================] - 0s 130us/sample - loss: 0.1906 - val_loss: 0.1760\n",
      "Epoch 193/300\n",
      "3460/3460 [==============================] - 0s 130us/sample - loss: 0.1885 - val_loss: 0.1755\n",
      "Epoch 194/300\n",
      "3460/3460 [==============================] - 0s 137us/sample - loss: 0.1881 - val_loss: 0.1746\n",
      "Epoch 195/300\n",
      "3460/3460 [==============================] - 0s 139us/sample - loss: 0.1891 - val_loss: 0.1869\n",
      "Epoch 196/300\n",
      "3460/3460 [==============================] - 0s 130us/sample - loss: 0.1876 - val_loss: 0.2307\n",
      "Epoch 197/300\n",
      "3460/3460 [==============================] - 0s 129us/sample - loss: 0.1866 - val_loss: 0.1925\n",
      "Epoch 198/300\n",
      "3460/3460 [==============================] - 0s 131us/sample - loss: 0.1868 - val_loss: 0.2644\n",
      "Epoch 199/300\n",
      "3460/3460 [==============================] - 0s 131us/sample - loss: 0.1859 - val_loss: 0.2419\n",
      "Epoch 200/300\n",
      "3460/3460 [==============================] - 0s 130us/sample - loss: 0.1861 - val_loss: 0.2568\n",
      "Epoch 201/300\n",
      "3460/3460 [==============================] - 0s 130us/sample - loss: 0.1874 - val_loss: 0.1733\n",
      "Epoch 202/300\n",
      "3460/3460 [==============================] - 0s 131us/sample - loss: 0.1865 - val_loss: 0.1728\n",
      "Epoch 203/300\n",
      "3460/3460 [==============================] - 0s 130us/sample - loss: 0.1842 - val_loss: 0.2593\n",
      "Epoch 204/300\n",
      "3460/3460 [==============================] - 0s 130us/sample - loss: 0.1873 - val_loss: 0.1794\n",
      "Epoch 205/300\n",
      "3460/3460 [==============================] - 0s 136us/sample - loss: 0.1850 - val_loss: 0.1766\n",
      "Epoch 206/300\n",
      "3460/3460 [==============================] - 0s 130us/sample - loss: 0.1844 - val_loss: 0.1731\n",
      "Epoch 207/300\n",
      "3460/3460 [==============================] - 0s 130us/sample - loss: 0.1833 - val_loss: 0.1770\n",
      "Epoch 208/300\n",
      "3460/3460 [==============================] - 0s 129us/sample - loss: 0.1839 - val_loss: 0.1917\n",
      "Epoch 209/300\n",
      "3460/3460 [==============================] - 0s 130us/sample - loss: 0.1832 - val_loss: 0.1756\n",
      "Epoch 210/300\n",
      "3460/3460 [==============================] - 0s 131us/sample - loss: 0.1817 - val_loss: 0.2094\n",
      "Epoch 211/300\n",
      "3460/3460 [==============================] - 0s 131us/sample - loss: 0.1818 - val_loss: 0.1831\n",
      "Epoch 212/300\n",
      "3460/3460 [==============================] - 0s 133us/sample - loss: 0.1823 - val_loss: 0.1834\n",
      "Epoch 213/300\n",
      "3460/3460 [==============================] - 0s 131us/sample - loss: 0.1825 - val_loss: 0.1945\n",
      "Epoch 214/300\n",
      "3460/3460 [==============================] - 0s 131us/sample - loss: 0.1814 - val_loss: 0.2220\n",
      "Epoch 215/300\n",
      "3460/3460 [==============================] - 0s 131us/sample - loss: 0.1828 - val_loss: 0.2647\n",
      "Epoch 216/300\n",
      "3460/3460 [==============================] - 0s 131us/sample - loss: 0.1826 - val_loss: 0.1686\n",
      "Epoch 217/300\n",
      "3460/3460 [==============================] - 0s 132us/sample - loss: 0.1800 - val_loss: 0.1768\n",
      "Epoch 218/300\n",
      "3460/3460 [==============================] - 0s 130us/sample - loss: 0.1818 - val_loss: 0.1812\n",
      "Epoch 219/300\n",
      "3460/3460 [==============================] - 0s 130us/sample - loss: 0.1793 - val_loss: 0.1985\n",
      "Epoch 220/300\n",
      "3460/3460 [==============================] - 0s 130us/sample - loss: 0.1792 - val_loss: 0.1716\n",
      "Epoch 221/300\n",
      "3460/3460 [==============================] - 0s 130us/sample - loss: 0.1791 - val_loss: 0.1691\n",
      "Epoch 222/300\n",
      "3460/3460 [==============================] - 0s 130us/sample - loss: 0.1775 - val_loss: 0.1733\n",
      "Epoch 223/300\n",
      "3460/3460 [==============================] - 0s 130us/sample - loss: 0.1779 - val_loss: 0.1678\n",
      "Epoch 224/300\n",
      "3460/3460 [==============================] - 0s 130us/sample - loss: 0.1795 - val_loss: 0.1689\n",
      "Epoch 225/300\n",
      "3460/3460 [==============================] - 0s 131us/sample - loss: 0.1768 - val_loss: 0.1804\n",
      "Epoch 226/300\n"
     ]
    },
    {
     "name": "stdout",
     "output_type": "stream",
     "text": [
      "3460/3460 [==============================] - 0s 130us/sample - loss: 0.1769 - val_loss: 0.1668\n",
      "Epoch 227/300\n",
      "3460/3460 [==============================] - 0s 130us/sample - loss: 0.1766 - val_loss: 0.1635\n",
      "Epoch 228/300\n",
      "3460/3460 [==============================] - 0s 130us/sample - loss: 0.1770 - val_loss: 0.1822\n",
      "Epoch 229/300\n",
      "3460/3460 [==============================] - 0s 130us/sample - loss: 0.1762 - val_loss: 0.2455\n",
      "Epoch 230/300\n",
      "3460/3460 [==============================] - 0s 129us/sample - loss: 0.1777 - val_loss: 0.2681\n",
      "Epoch 231/300\n",
      "3460/3460 [==============================] - 0s 130us/sample - loss: 0.1757 - val_loss: 0.1727\n",
      "Epoch 232/300\n",
      "3460/3460 [==============================] - 0s 130us/sample - loss: 0.1747 - val_loss: 0.1808\n",
      "Epoch 233/300\n",
      "3460/3460 [==============================] - 0s 129us/sample - loss: 0.1762 - val_loss: 0.1662\n",
      "Epoch 234/300\n",
      "3460/3460 [==============================] - 0s 130us/sample - loss: 0.1748 - val_loss: 0.1748\n",
      "Epoch 235/300\n",
      "3460/3460 [==============================] - 0s 130us/sample - loss: 0.1726 - val_loss: 0.1823\n",
      "Epoch 236/300\n",
      "3460/3460 [==============================] - 0s 130us/sample - loss: 0.1731 - val_loss: 0.2014\n",
      "Epoch 237/300\n",
      "3460/3460 [==============================] - 0s 130us/sample - loss: 0.1738 - val_loss: 0.1763\n",
      "Epoch 238/300\n",
      "3460/3460 [==============================] - 0s 130us/sample - loss: 0.1719 - val_loss: 0.1826\n",
      "Epoch 239/300\n",
      "3460/3460 [==============================] - 0s 140us/sample - loss: 0.1732 - val_loss: 0.1593\n",
      "Epoch 240/300\n",
      "3460/3460 [==============================] - 0s 138us/sample - loss: 0.1723 - val_loss: 0.1615\n",
      "Epoch 241/300\n",
      "3460/3460 [==============================] - 0s 130us/sample - loss: 0.1711 - val_loss: 0.1612\n",
      "Epoch 242/300\n",
      "3460/3460 [==============================] - 0s 130us/sample - loss: 0.1704 - val_loss: 0.2240\n",
      "Epoch 243/300\n",
      "3460/3460 [==============================] - 0s 130us/sample - loss: 0.1700 - val_loss: 0.2235\n",
      "Epoch 244/300\n",
      "3460/3460 [==============================] - 0s 130us/sample - loss: 0.1719 - val_loss: 0.1568\n",
      "Epoch 245/300\n",
      "3460/3460 [==============================] - 0s 130us/sample - loss: 0.1698 - val_loss: 0.2160\n",
      "Epoch 246/300\n",
      "3460/3460 [==============================] - 0s 130us/sample - loss: 0.1691 - val_loss: 0.1627\n",
      "Epoch 247/300\n",
      "3460/3460 [==============================] - 0s 130us/sample - loss: 0.1674 - val_loss: 0.1666\n",
      "Epoch 248/300\n",
      "3460/3460 [==============================] - 0s 129us/sample - loss: 0.1695 - val_loss: 0.2128\n",
      "Epoch 249/300\n",
      "3460/3460 [==============================] - 0s 130us/sample - loss: 0.1666 - val_loss: 0.1570\n",
      "Epoch 250/300\n",
      "3460/3460 [==============================] - 0s 130us/sample - loss: 0.1682 - val_loss: 0.1690\n",
      "Epoch 251/300\n",
      "3460/3460 [==============================] - 0s 130us/sample - loss: 0.1672 - val_loss: 0.1534\n",
      "Epoch 252/300\n",
      "3460/3460 [==============================] - 0s 130us/sample - loss: 0.1662 - val_loss: 0.1690\n",
      "Epoch 253/300\n",
      "3460/3460 [==============================] - 0s 130us/sample - loss: 0.1664 - val_loss: 0.1570\n",
      "Epoch 254/300\n",
      "3460/3460 [==============================] - 0s 130us/sample - loss: 0.1659 - val_loss: 0.1608\n",
      "Epoch 255/300\n",
      "3460/3460 [==============================] - 0s 133us/sample - loss: 0.1656 - val_loss: 0.1627\n",
      "Epoch 256/300\n",
      "3460/3460 [==============================] - 0s 130us/sample - loss: 0.1650 - val_loss: 0.1717\n",
      "Epoch 257/300\n",
      "3460/3460 [==============================] - 0s 130us/sample - loss: 0.1655 - val_loss: 0.1534\n",
      "Epoch 258/300\n",
      "3460/3460 [==============================] - 0s 130us/sample - loss: 0.1656 - val_loss: 0.1504\n",
      "Epoch 259/300\n",
      "3460/3460 [==============================] - 0s 129us/sample - loss: 0.1629 - val_loss: 0.1893\n",
      "Epoch 260/300\n",
      "3460/3460 [==============================] - 0s 130us/sample - loss: 0.1628 - val_loss: 0.1624\n",
      "Epoch 261/300\n",
      "3460/3460 [==============================] - 0s 130us/sample - loss: 0.1611 - val_loss: 0.2051\n",
      "Epoch 262/300\n",
      "3460/3460 [==============================] - 0s 130us/sample - loss: 0.1643 - val_loss: 0.1486\n",
      "Epoch 263/300\n",
      "3460/3460 [==============================] - 0s 130us/sample - loss: 0.1617 - val_loss: 0.2041\n",
      "Epoch 264/300\n",
      "3460/3460 [==============================] - 0s 132us/sample - loss: 0.1628 - val_loss: 0.2394\n",
      "Epoch 265/300\n",
      "3460/3460 [==============================] - 0s 130us/sample - loss: 0.1608 - val_loss: 0.2179\n",
      "Epoch 266/300\n",
      "3460/3460 [==============================] - 0s 130us/sample - loss: 0.1611 - val_loss: 0.1806\n",
      "Epoch 267/300\n",
      "3460/3460 [==============================] - 0s 130us/sample - loss: 0.1602 - val_loss: 0.1476\n",
      "Epoch 268/300\n",
      "3460/3460 [==============================] - 0s 130us/sample - loss: 0.1595 - val_loss: 0.1981\n",
      "Epoch 269/300\n",
      "3460/3460 [==============================] - 0s 130us/sample - loss: 0.1603 - val_loss: 0.1592\n",
      "Epoch 270/300\n",
      "3460/3460 [==============================] - 0s 130us/sample - loss: 0.1586 - val_loss: 0.1476\n",
      "Epoch 271/300\n",
      "3460/3460 [==============================] - 0s 135us/sample - loss: 0.1583 - val_loss: 0.2062\n",
      "Epoch 272/300\n",
      "3460/3460 [==============================] - 0s 130us/sample - loss: 0.1571 - val_loss: 0.2437\n",
      "Epoch 273/300\n",
      "3460/3460 [==============================] - 0s 136us/sample - loss: 0.1596 - val_loss: 0.1604\n",
      "Epoch 274/300\n",
      "3460/3460 [==============================] - 0s 130us/sample - loss: 0.1564 - val_loss: 0.1860\n",
      "Epoch 275/300\n",
      "3460/3460 [==============================] - 0s 130us/sample - loss: 0.1569 - val_loss: 0.1450\n",
      "Epoch 276/300\n",
      "3460/3460 [==============================] - 0s 130us/sample - loss: 0.1569 - val_loss: 0.1842\n",
      "Epoch 277/300\n",
      "3460/3460 [==============================] - 0s 130us/sample - loss: 0.1562 - val_loss: 0.1673\n",
      "Epoch 278/300\n",
      "3460/3460 [==============================] - 0s 131us/sample - loss: 0.1558 - val_loss: 0.1446\n",
      "Epoch 279/300\n",
      "3460/3460 [==============================] - 0s 130us/sample - loss: 0.1539 - val_loss: 0.1426\n",
      "Epoch 280/300\n",
      "3460/3460 [==============================] - 0s 130us/sample - loss: 0.1549 - val_loss: 0.1721\n",
      "Epoch 281/300\n",
      "3460/3460 [==============================] - 0s 130us/sample - loss: 0.1546 - val_loss: 0.1631\n",
      "Epoch 282/300\n",
      "3460/3460 [==============================] - 0s 130us/sample - loss: 0.1527 - val_loss: 0.2243\n",
      "Epoch 283/300\n",
      "3460/3460 [==============================] - 0s 132us/sample - loss: 0.1528 - val_loss: 0.1530\n",
      "Epoch 284/300\n",
      "3460/3460 [==============================] - 0s 137us/sample - loss: 0.1528 - val_loss: 0.1446\n",
      "Epoch 285/300\n",
      "3460/3460 [==============================] - 0s 138us/sample - loss: 0.1514 - val_loss: 0.1415\n",
      "Epoch 286/300\n",
      "3460/3460 [==============================] - 0s 130us/sample - loss: 0.1513 - val_loss: 0.1475\n",
      "Epoch 287/300\n",
      "3460/3460 [==============================] - 0s 130us/sample - loss: 0.1493 - val_loss: 0.1430\n",
      "Epoch 288/300\n",
      "3460/3460 [==============================] - 0s 131us/sample - loss: 0.1516 - val_loss: 0.1550\n",
      "Epoch 289/300\n",
      "3460/3460 [==============================] - 0s 130us/sample - loss: 0.1511 - val_loss: 0.1697\n",
      "Epoch 290/300\n",
      "3460/3460 [==============================] - 0s 130us/sample - loss: 0.1496 - val_loss: 0.1763\n",
      "Epoch 291/300\n",
      "3460/3460 [==============================] - 0s 130us/sample - loss: 0.1502 - val_loss: 0.1824\n",
      "Epoch 292/300\n",
      "3460/3460 [==============================] - 0s 130us/sample - loss: 0.1505 - val_loss: 0.1448\n",
      "Epoch 293/300\n",
      "3460/3460 [==============================] - 0s 130us/sample - loss: 0.1490 - val_loss: 0.1497\n",
      "Epoch 294/300\n",
      "3460/3460 [==============================] - 0s 130us/sample - loss: 0.1495 - val_loss: 0.1973\n",
      "Epoch 295/300\n",
      "3460/3460 [==============================] - 0s 130us/sample - loss: 0.1496 - val_loss: 0.1364\n",
      "Epoch 296/300\n",
      "3460/3460 [==============================] - 0s 130us/sample - loss: 0.1470 - val_loss: 0.1896\n",
      "Epoch 297/300\n",
      "3460/3460 [==============================] - 0s 130us/sample - loss: 0.1480 - val_loss: 0.1475\n",
      "Epoch 298/300\n",
      "3460/3460 [==============================] - 0s 130us/sample - loss: 0.1482 - val_loss: 0.1436\n",
      "Epoch 299/300\n",
      "3460/3460 [==============================] - 0s 131us/sample - loss: 0.1491 - val_loss: 0.1613\n",
      "Epoch 300/300\n",
      "3460/3460 [==============================] - 0s 131us/sample - loss: 0.1461 - val_loss: 0.1367\n"
     ]
    },
    {
     "data": {
      "text/plain": [
       "<tensorflow.python.keras.callbacks.History at 0x1a6a77c710>"
      ]
     },
     "execution_count": 452,
     "metadata": {},
     "output_type": "execute_result"
    }
   ],
   "source": [
    "model.fit(X_train,y_train, validation_data=(X_test,y_test), epochs=300, callbacks=[stop])"
   ]
  },
  {
   "cell_type": "markdown",
   "metadata": {},
   "source": [
    "## Plot below shows that the model preformed really well \n",
    "- There is also a good about of room to keep training since we made it to all 300 epochs"
   ]
  },
  {
   "cell_type": "code",
   "execution_count": 453,
   "metadata": {},
   "outputs": [
    {
     "data": {
      "text/plain": [
       "<matplotlib.axes._subplots.AxesSubplot at 0x1a6a2cefd0>"
      ]
     },
     "execution_count": 453,
     "metadata": {},
     "output_type": "execute_result"
    },
    {
     "data": {
      "image/png": "[encoded data removed]",
      "text/plain": [
       "<Figure size 1152x432 with 1 Axes>"
      ]
     },
     "metadata": {
      "needs_background": "light"
     },
     "output_type": "display_data"
    }
   ],
   "source": [
    "pd.DataFrame(model.history.history).plot(figsize = (16,6))"
   ]
  },
  {
   "cell_type": "code",
   "execution_count": null,
   "metadata": {},
   "outputs": [],
   "source": []
  },
  {
   "cell_type": "markdown",
   "metadata": {},
   "source": [
    "### Predictions \n",
    "- will use the model to make preditions on the Test data"
   ]
  },
  {
   "cell_type": "code",
   "execution_count": 454,
   "metadata": {},
   "outputs": [],
   "source": [
    "predictions = model.predict(X_test)"
   ]
  },
  {
   "cell_type": "markdown",
   "metadata": {},
   "source": [
    "### Metrics\n",
    "- Will use sklearn metrics to test the prediction accuracy for the data"
   ]
  },
  {
   "cell_type": "code",
   "execution_count": 455,
   "metadata": {},
   "outputs": [],
   "source": [
    "from sklearn.metrics import mean_absolute_error, mean_squared_error, explained_variance_score"
   ]
  },
  {
   "cell_type": "code",
   "execution_count": 456,
   "metadata": {},
   "outputs": [
    {
     "name": "stdout",
     "output_type": "stream",
     "text": [
      "0.9072172744673948\n"
     ]
    }
   ],
   "source": [
    "print(explained_variance_score(y_test, predictions))"
   ]
  },
  {
   "cell_type": "code",
   "execution_count": 457,
   "metadata": {},
   "outputs": [
    {
     "name": "stdout",
     "output_type": "stream",
     "text": [
      "0.2941601111208838\n"
     ]
    }
   ],
   "source": [
    "print(mean_absolute_error(y_test, predictions))"
   ]
  },
  {
   "cell_type": "code",
   "execution_count": 458,
   "metadata": {},
   "outputs": [
    {
     "name": "stdout",
     "output_type": "stream",
     "text": [
      "0.13670002846980003\n"
     ]
    }
   ],
   "source": [
    "print(mean_squared_error(y_test, predictions))"
   ]
  },
  {
   "cell_type": "code",
   "execution_count": 459,
   "metadata": {},
   "outputs": [
    {
     "data": {
      "text/plain": [
       "<matplotlib.collections.PathCollection at 0x1a6a9f8bd0>"
      ]
     },
     "execution_count": 459,
     "metadata": {},
     "output_type": "execute_result"
    },
    {
     "data": {
      "image/png": "[encoded data removed]",
      "text/plain": [
       "<Figure size 432x288 with 1 Axes>"
      ]
     },
     "metadata": {
      "needs_background": "light"
     },
     "output_type": "display_data"
    }
   ],
   "source": [
    "plt.scatter(y_test, predictions)"
   ]
  },
  {
   "cell_type": "markdown",
   "metadata": {},
   "source": [
    "### Testing in random Data "
   ]
  },
  {
   "cell_type": "code",
   "execution_count": 480,
   "metadata": {},
   "outputs": [],
   "source": [
    "from random import randint\n",
    "random_index = randint(1, len(working_data))\n",
    "random_day = working_data.drop(\"^TNX Adj Close\", axis=1).iloc[random_index]"
   ]
  },
  {
   "cell_type": "code",
   "execution_count": 481,
   "metadata": {},
   "outputs": [
    {
     "data": {
      "text/plain": [
       "^GSPC    1089.189941\n",
       "^DJI     9939.339844\n",
       "^IXIC    1910.040039\n",
       "^RUT      540.750000\n",
       "Name: 2004-05-21 00:00:00, dtype: float64"
      ]
     },
     "execution_count": 481,
     "metadata": {},
     "output_type": "execute_result"
    }
   ],
   "source": [
    "random_day"
   ]
  },
  {
   "cell_type": "code",
   "execution_count": 482,
   "metadata": {},
   "outputs": [],
   "source": [
    "random_day = scalar.transform(random_day.values.reshape(1,4))"
   ]
  },
  {
   "cell_type": "code",
   "execution_count": 483,
   "metadata": {},
   "outputs": [
    {
     "data": {
      "text/plain": [
       "array([[4.375989]], dtype=float32)"
      ]
     },
     "execution_count": 483,
     "metadata": {},
     "output_type": "execute_result"
    }
   ],
   "source": [
    "model.predict(random_day)"
   ]
  },
  {
   "cell_type": "code",
   "execution_count": 484,
   "metadata": {},
   "outputs": [
    {
     "data": {
      "text/plain": [
       "^GSPC             1089.189941\n",
       "^DJI              9939.339844\n",
       "^IXIC             1910.040039\n",
       "^RUT               540.750000\n",
       "^TNX Adj Close       4.764000\n",
       "Name: 2004-05-21 00:00:00, dtype: float64"
      ]
     },
     "execution_count": 484,
     "metadata": {},
     "output_type": "execute_result"
    }
   ],
   "source": [
    "working_data.iloc[random_index]"
   ]
  },
  {
   "cell_type": "code",
   "execution_count": null,
   "metadata": {},
   "outputs": [],
   "source": []
  },
  {
   "cell_type": "code",
   "execution_count": null,
   "metadata": {},
   "outputs": [],
   "source": []
  }
 ],
 "metadata": {
  "kernelspec": {
   "display_name": "Python 3",
   "language": "python",
   "name": "python3"
  },
  "language_info": {
   "codemirror_mode": {
    "name": "ipython",
    "version": 3
   },
   "file_extension": ".py",
   "mimetype": "text/x-python",
   "name": "python",
   "nbconvert_exporter": "python",
   "pygments_lexer": "ipython3",
   "version": "3.7.6"
  }
 },
 "nbformat": 4,
 "nbformat_minor": 2
}
