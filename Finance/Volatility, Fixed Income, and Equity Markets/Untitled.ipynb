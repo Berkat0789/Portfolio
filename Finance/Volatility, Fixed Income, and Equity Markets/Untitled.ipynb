{
 "cells": [
  {
   "cell_type": "code",
   "execution_count": 172,
   "metadata": {},
   "outputs": [],
   "source": [
    "import pandas as pd\n",
    "import numpy as np\n",
    "import matplotlib.pyplot as plt\n",
    "import seaborn as sns\n",
    "from pandas_datareader import data as web"
   ]
  },
  {
   "cell_type": "code",
   "execution_count": 173,
   "metadata": {},
   "outputs": [],
   "source": [
    "tickers = [\"^VIX\", \"UVXY\", \"^GSPC\",\"^DJI\", \"^IXIC\", \"^RUT\",\"^TNX\", \"CL=F\", \"GC=F\",\"SI=F\",\"EURUSD=X\"]"
   ]
  },
  {
   "cell_type": "code",
   "execution_count": 174,
   "metadata": {},
   "outputs": [],
   "source": [
    "data = pd.DataFrame()"
   ]
  },
  {
   "cell_type": "code",
   "execution_count": 175,
   "metadata": {},
   "outputs": [],
   "source": [
    "for t in tickers:\n",
    "    data[t] = web.DataReader(t, data_source=\"yahoo\", start = \"2000-1-1\")[\"Adj Close\"]"
   ]
  },
  {
   "cell_type": "code",
   "execution_count": 176,
   "metadata": {},
   "outputs": [],
   "source": [
    "data.dropna(inplace= True)"
   ]
  },
  {
   "cell_type": "code",
   "execution_count": 177,
   "metadata": {},
   "outputs": [
    {
     "data": {
      "text/html": [
       "<div>\n",
       "<style scoped>\n",
       "    .dataframe tbody tr th:only-of-type {\n",
       "        vertical-align: middle;\n",
       "    }\n",
       "\n",
       "    .dataframe tbody tr th {\n",
       "        vertical-align: top;\n",
       "    }\n",
       "\n",
       "    .dataframe thead th {\n",
       "        text-align: right;\n",
       "    }\n",
       "</style>\n",
       "<table border=\"1\" class=\"dataframe\">\n",
       "  <thead>\n",
       "    <tr style=\"text-align: right;\">\n",
       "      <th></th>\n",
       "      <th>^VIX</th>\n",
       "      <th>UVXY</th>\n",
       "      <th>^GSPC</th>\n",
       "      <th>^DJI</th>\n",
       "      <th>^IXIC</th>\n",
       "      <th>^RUT</th>\n",
       "      <th>^TNX</th>\n",
       "      <th>CL=F</th>\n",
       "      <th>GC=F</th>\n",
       "      <th>SI=F</th>\n",
       "      <th>EURUSD=X</th>\n",
       "    </tr>\n",
       "  </thead>\n",
       "  <tbody>\n",
       "    <tr>\n",
       "      <td>^VIX</td>\n",
       "      <td>1.000000</td>\n",
       "      <td>0.316774</td>\n",
       "      <td>0.034683</td>\n",
       "      <td>0.002370</td>\n",
       "      <td>0.144506</td>\n",
       "      <td>-0.188462</td>\n",
       "      <td>-0.487544</td>\n",
       "      <td>-0.243787</td>\n",
       "      <td>0.402907</td>\n",
       "      <td>0.072764</td>\n",
       "      <td>-0.057709</td>\n",
       "    </tr>\n",
       "    <tr>\n",
       "      <td>UVXY</td>\n",
       "      <td>0.316774</td>\n",
       "      <td>1.000000</td>\n",
       "      <td>-0.403312</td>\n",
       "      <td>-0.371012</td>\n",
       "      <td>-0.340980</td>\n",
       "      <td>-0.448603</td>\n",
       "      <td>-0.063169</td>\n",
       "      <td>0.301257</td>\n",
       "      <td>0.360969</td>\n",
       "      <td>0.511858</td>\n",
       "      <td>0.333071</td>\n",
       "    </tr>\n",
       "    <tr>\n",
       "      <td>^GSPC</td>\n",
       "      <td>0.034683</td>\n",
       "      <td>-0.403312</td>\n",
       "      <td>1.000000</td>\n",
       "      <td>0.989041</td>\n",
       "      <td>0.984479</td>\n",
       "      <td>0.943838</td>\n",
       "      <td>-0.087279</td>\n",
       "      <td>-0.633383</td>\n",
       "      <td>-0.068941</td>\n",
       "      <td>-0.634233</td>\n",
       "      <td>-0.619633</td>\n",
       "    </tr>\n",
       "    <tr>\n",
       "      <td>^DJI</td>\n",
       "      <td>0.002370</td>\n",
       "      <td>-0.371012</td>\n",
       "      <td>0.989041</td>\n",
       "      <td>1.000000</td>\n",
       "      <td>0.966233</td>\n",
       "      <td>0.952183</td>\n",
       "      <td>-0.010343</td>\n",
       "      <td>-0.572476</td>\n",
       "      <td>-0.064028</td>\n",
       "      <td>-0.606905</td>\n",
       "      <td>-0.581838</td>\n",
       "    </tr>\n",
       "    <tr>\n",
       "      <td>^IXIC</td>\n",
       "      <td>0.144506</td>\n",
       "      <td>-0.340980</td>\n",
       "      <td>0.984479</td>\n",
       "      <td>0.966233</td>\n",
       "      <td>1.000000</td>\n",
       "      <td>0.888283</td>\n",
       "      <td>-0.194551</td>\n",
       "      <td>-0.626279</td>\n",
       "      <td>0.065276</td>\n",
       "      <td>-0.541637</td>\n",
       "      <td>-0.586245</td>\n",
       "    </tr>\n",
       "    <tr>\n",
       "      <td>^RUT</td>\n",
       "      <td>-0.188462</td>\n",
       "      <td>-0.448603</td>\n",
       "      <td>0.943838</td>\n",
       "      <td>0.952183</td>\n",
       "      <td>0.888283</td>\n",
       "      <td>1.000000</td>\n",
       "      <td>0.201649</td>\n",
       "      <td>-0.530543</td>\n",
       "      <td>-0.293370</td>\n",
       "      <td>-0.707768</td>\n",
       "      <td>-0.569795</td>\n",
       "    </tr>\n",
       "    <tr>\n",
       "      <td>^TNX</td>\n",
       "      <td>-0.487544</td>\n",
       "      <td>-0.063169</td>\n",
       "      <td>-0.087279</td>\n",
       "      <td>-0.010343</td>\n",
       "      <td>-0.194551</td>\n",
       "      <td>0.201649</td>\n",
       "      <td>1.000000</td>\n",
       "      <td>0.355610</td>\n",
       "      <td>-0.654161</td>\n",
       "      <td>-0.279040</td>\n",
       "      <td>0.232110</td>\n",
       "    </tr>\n",
       "    <tr>\n",
       "      <td>CL=F</td>\n",
       "      <td>-0.243787</td>\n",
       "      <td>0.301257</td>\n",
       "      <td>-0.633383</td>\n",
       "      <td>-0.572476</td>\n",
       "      <td>-0.626279</td>\n",
       "      <td>-0.530543</td>\n",
       "      <td>0.355610</td>\n",
       "      <td>1.000000</td>\n",
       "      <td>0.241032</td>\n",
       "      <td>0.652608</td>\n",
       "      <td>0.897280</td>\n",
       "    </tr>\n",
       "    <tr>\n",
       "      <td>GC=F</td>\n",
       "      <td>0.402907</td>\n",
       "      <td>0.360969</td>\n",
       "      <td>-0.068941</td>\n",
       "      <td>-0.064028</td>\n",
       "      <td>0.065276</td>\n",
       "      <td>-0.293370</td>\n",
       "      <td>-0.654161</td>\n",
       "      <td>0.241032</td>\n",
       "      <td>1.000000</td>\n",
       "      <td>0.752685</td>\n",
       "      <td>0.316446</td>\n",
       "    </tr>\n",
       "    <tr>\n",
       "      <td>SI=F</td>\n",
       "      <td>0.072764</td>\n",
       "      <td>0.511858</td>\n",
       "      <td>-0.634233</td>\n",
       "      <td>-0.606905</td>\n",
       "      <td>-0.541637</td>\n",
       "      <td>-0.707768</td>\n",
       "      <td>-0.279040</td>\n",
       "      <td>0.652608</td>\n",
       "      <td>0.752685</td>\n",
       "      <td>1.000000</td>\n",
       "      <td>0.651263</td>\n",
       "    </tr>\n",
       "    <tr>\n",
       "      <td>EURUSD=X</td>\n",
       "      <td>-0.057709</td>\n",
       "      <td>0.333071</td>\n",
       "      <td>-0.619633</td>\n",
       "      <td>-0.581838</td>\n",
       "      <td>-0.586245</td>\n",
       "      <td>-0.569795</td>\n",
       "      <td>0.232110</td>\n",
       "      <td>0.897280</td>\n",
       "      <td>0.316446</td>\n",
       "      <td>0.651263</td>\n",
       "      <td>1.000000</td>\n",
       "    </tr>\n",
       "  </tbody>\n",
       "</table>\n",
       "</div>"
      ],
      "text/plain": [
       "              ^VIX      UVXY     ^GSPC      ^DJI     ^IXIC      ^RUT  \\\n",
       "^VIX      1.000000  0.316774  0.034683  0.002370  0.144506 -0.188462   \n",
       "UVXY      0.316774  1.000000 -0.403312 -0.371012 -0.340980 -0.448603   \n",
       "^GSPC     0.034683 -0.403312  1.000000  0.989041  0.984479  0.943838   \n",
       "^DJI      0.002370 -0.371012  0.989041  1.000000  0.966233  0.952183   \n",
       "^IXIC     0.144506 -0.340980  0.984479  0.966233  1.000000  0.888283   \n",
       "^RUT     -0.188462 -0.448603  0.943838  0.952183  0.888283  1.000000   \n",
       "^TNX     -0.487544 -0.063169 -0.087279 -0.010343 -0.194551  0.201649   \n",
       "CL=F     -0.243787  0.301257 -0.633383 -0.572476 -0.626279 -0.530543   \n",
       "GC=F      0.402907  0.360969 -0.068941 -0.064028  0.065276 -0.293370   \n",
       "SI=F      0.072764  0.511858 -0.634233 -0.606905 -0.541637 -0.707768   \n",
       "EURUSD=X -0.057709  0.333071 -0.619633 -0.581838 -0.586245 -0.569795   \n",
       "\n",
       "              ^TNX      CL=F      GC=F      SI=F  EURUSD=X  \n",
       "^VIX     -0.487544 -0.243787  0.402907  0.072764 -0.057709  \n",
       "UVXY     -0.063169  0.301257  0.360969  0.511858  0.333071  \n",
       "^GSPC    -0.087279 -0.633383 -0.068941 -0.634233 -0.619633  \n",
       "^DJI     -0.010343 -0.572476 -0.064028 -0.606905 -0.581838  \n",
       "^IXIC    -0.194551 -0.626279  0.065276 -0.541637 -0.586245  \n",
       "^RUT      0.201649 -0.530543 -0.293370 -0.707768 -0.569795  \n",
       "^TNX      1.000000  0.355610 -0.654161 -0.279040  0.232110  \n",
       "CL=F      0.355610  1.000000  0.241032  0.652608  0.897280  \n",
       "GC=F     -0.654161  0.241032  1.000000  0.752685  0.316446  \n",
       "SI=F     -0.279040  0.652608  0.752685  1.000000  0.651263  \n",
       "EURUSD=X  0.232110  0.897280  0.316446  0.651263  1.000000  "
      ]
     },
     "execution_count": 177,
     "metadata": {},
     "output_type": "execute_result"
    }
   ],
   "source": [
    "data.corr()"
   ]
  },
  {
   "cell_type": "code",
   "execution_count": 178,
   "metadata": {},
   "outputs": [
    {
     "data": {
      "text/plain": [
       "<matplotlib.axes._subplots.AxesSubplot at 0x1a4c955610>"
      ]
     },
     "execution_count": 178,
     "metadata": {},
     "output_type": "execute_result"
    },
    {
     "data": {
      "image/png": "[encoded data removed]",
      "text/plain": [
       "<Figure size 1152x432 with 2 Axes>"
      ]
     },
     "metadata": {
      "needs_background": "light"
     },
     "output_type": "display_data"
    }
   ],
   "source": [
    "plt.figure(figsize=(16,6))\n",
    "sns.heatmap(data.corr(), annot=True)"
   ]
  },
  {
   "cell_type": "code",
   "execution_count": null,
   "metadata": {},
   "outputs": [],
   "source": []
  },
  {
   "cell_type": "markdown",
   "metadata": {},
   "source": [
    "### Testing how if the Ten year treasury yield can predict the open of vix index\n",
    "- will need the close of the 20 year treasure yield"
   ]
  },
  {
   "cell_type": "code",
   "execution_count": 179,
   "metadata": {},
   "outputs": [],
   "source": [
    "tenYear = web.DataReader(\"^TNX\", data_source=\"yahoo\", start = \"2000-1-1\")[\"Open\"]"
   ]
  },
  {
   "cell_type": "code",
   "execution_count": 180,
   "metadata": {},
   "outputs": [
    {
     "data": {
      "text/plain": [
       "<matplotlib.axes._subplots.AxesSubplot at 0x1a4fed6090>"
      ]
     },
     "execution_count": 180,
     "metadata": {},
     "output_type": "execute_result"
    },
    {
     "data": {
      "image/png": "[encoded data removed]",
      "text/plain": [
       "<Figure size 432x288 with 1 Axes>"
      ]
     },
     "metadata": {
      "needs_background": "light"
     },
     "output_type": "display_data"
    }
   ],
   "source": [
    "tenYear.plot()"
   ]
  },
  {
   "cell_type": "code",
   "execution_count": 181,
   "metadata": {},
   "outputs": [],
   "source": [
    "vix = web.DataReader(\"^VIX\", data_source=\"yahoo\", start = \"2000-1-1\")[\"Close\"]"
   ]
  },
  {
   "cell_type": "code",
   "execution_count": 182,
   "metadata": {},
   "outputs": [
    {
     "data": {
      "text/plain": [
       "<matplotlib.axes._subplots.AxesSubplot at 0x1a4fecac10>"
      ]
     },
     "execution_count": 182,
     "metadata": {},
     "output_type": "execute_result"
    },
    {
     "data": {
      "image/png": "[encoded data removed]",
      "text/plain": [
       "<Figure size 432x288 with 1 Axes>"
      ]
     },
     "metadata": {
      "needs_background": "light"
     },
     "output_type": "display_data"
    }
   ],
   "source": [
    "vix.plot()"
   ]
  },
  {
   "cell_type": "code",
   "execution_count": 183,
   "metadata": {},
   "outputs": [],
   "source": [
    "working_Data = pd.concat([vix, tenYear], axis=1)"
   ]
  },
  {
   "cell_type": "code",
   "execution_count": 184,
   "metadata": {},
   "outputs": [],
   "source": [
    "working_Data.columns = [\"vix\", \"ten year\"]"
   ]
  },
  {
   "cell_type": "code",
   "execution_count": 185,
   "metadata": {},
   "outputs": [],
   "source": [
    "working_Data.dropna(inplace=True)"
   ]
  },
  {
   "cell_type": "markdown",
   "metadata": {},
   "source": [
    "### Training Testing Splitting"
   ]
  },
  {
   "cell_type": "code",
   "execution_count": 186,
   "metadata": {},
   "outputs": [],
   "source": [
    "X = working_Data.drop(\"vix\", axis=1).values\n",
    "y = working_Data[\"vix\"].values"
   ]
  },
  {
   "cell_type": "code",
   "execution_count": 187,
   "metadata": {},
   "outputs": [],
   "source": [
    "from sklearn.model_selection import train_test_split"
   ]
  },
  {
   "cell_type": "code",
   "execution_count": 188,
   "metadata": {},
   "outputs": [],
   "source": [
    "X_train, X_test, y_train, y_test = train_test_split(X, y, test_size=0.30, random_state=101)"
   ]
  },
  {
   "cell_type": "code",
   "execution_count": 189,
   "metadata": {},
   "outputs": [
    {
     "data": {
      "text/plain": [
       "(3635, 1)"
      ]
     },
     "execution_count": 189,
     "metadata": {},
     "output_type": "execute_result"
    }
   ],
   "source": [
    "X_train.shape"
   ]
  },
  {
   "cell_type": "markdown",
   "metadata": {},
   "source": [
    "### Scaling "
   ]
  },
  {
   "cell_type": "code",
   "execution_count": 190,
   "metadata": {},
   "outputs": [],
   "source": [
    "from sklearn.preprocessing import MinMaxScaler"
   ]
  },
  {
   "cell_type": "code",
   "execution_count": 191,
   "metadata": {},
   "outputs": [],
   "source": [
    "scalar = MinMaxScaler()"
   ]
  },
  {
   "cell_type": "code",
   "execution_count": 192,
   "metadata": {},
   "outputs": [],
   "source": [
    "X_train = scalar.fit_transform(X_train)"
   ]
  },
  {
   "cell_type": "code",
   "execution_count": 193,
   "metadata": {},
   "outputs": [],
   "source": [
    "X_test = scalar.transform(X_test)"
   ]
  },
  {
   "cell_type": "markdown",
   "metadata": {},
   "source": [
    "### Early Stopping"
   ]
  },
  {
   "cell_type": "code",
   "execution_count": 194,
   "metadata": {},
   "outputs": [],
   "source": [
    "from tensorflow.keras.callbacks import EarlyStopping"
   ]
  },
  {
   "cell_type": "code",
   "execution_count": 195,
   "metadata": {},
   "outputs": [],
   "source": [
    "stop = EarlyStopping(\"val_loss\", mode=\"min\", patience=70)"
   ]
  },
  {
   "cell_type": "markdown",
   "metadata": {},
   "source": [
    "### Model Creation"
   ]
  },
  {
   "cell_type": "code",
   "execution_count": 196,
   "metadata": {},
   "outputs": [],
   "source": [
    "from tensorflow.keras.models import Sequential\n",
    "from tensorflow.keras.layers import Dense, Dropout"
   ]
  },
  {
   "cell_type": "code",
   "execution_count": 197,
   "metadata": {},
   "outputs": [],
   "source": [
    "model = Sequential()\n",
    "model.add(Dense(units= 30, activation = \"relu\"))\n",
    "model.add(Dropout(0.5))\n",
    "model.add(Dense(units= 20, activation = \"relu\"))\n",
    "model.add(Dropout(0.5))\n",
    "model.add(Dense(units= 20, activation = \"relu\"))\n",
    "model.add(Dropout(0.5))\n",
    "model.add(Dense(units= 10, activation = \"relu\"))\n",
    "model.add(Dense(units= 1))\n",
    "model.compile(loss = \"mse\", optimizer = \"adam\")"
   ]
  },
  {
   "cell_type": "code",
   "execution_count": 198,
   "metadata": {},
   "outputs": [
    {
     "name": "stdout",
     "output_type": "stream",
     "text": [
      "Train on 3635 samples, validate on 1558 samples\n",
      "Epoch 1/700\n",
      "3635/3635 [==============================] - 2s 579us/sample - loss: 405.5455 - val_loss: 183.7129\n",
      "Epoch 2/700\n",
      "3635/3635 [==============================] - 1s 188us/sample - loss: 165.6126 - val_loss: 99.4027\n",
      "Epoch 3/700\n",
      "3635/3635 [==============================] - 1s 186us/sample - loss: 144.4481 - val_loss: 105.5677\n",
      "Epoch 4/700\n",
      "3635/3635 [==============================] - 1s 186us/sample - loss: 123.2343 - val_loss: 88.1488\n",
      "Epoch 5/700\n",
      "3635/3635 [==============================] - 1s 187us/sample - loss: 122.1458 - val_loss: 83.5734\n",
      "Epoch 6/700\n",
      "3635/3635 [==============================] - 1s 196us/sample - loss: 114.5366 - val_loss: 86.0124\n",
      "Epoch 7/700\n",
      "3635/3635 [==============================] - 1s 204us/sample - loss: 109.5372 - val_loss: 82.7349\n",
      "Epoch 8/700\n",
      "3635/3635 [==============================] - 1s 188us/sample - loss: 105.7454 - val_loss: 80.4471\n",
      "Epoch 9/700\n",
      "3635/3635 [==============================] - 1s 213us/sample - loss: 103.4611 - val_loss: 85.8687\n",
      "Epoch 10/700\n",
      "3635/3635 [==============================] - 1s 204us/sample - loss: 98.4276 - val_loss: 79.7477\n",
      "Epoch 11/700\n",
      "3635/3635 [==============================] - 1s 194us/sample - loss: 100.2549 - val_loss: 80.9800\n",
      "Epoch 12/700\n",
      "3635/3635 [==============================] - 1s 189us/sample - loss: 94.1997 - val_loss: 79.8454\n",
      "Epoch 13/700\n",
      "3635/3635 [==============================] - 1s 186us/sample - loss: 95.0880 - val_loss: 80.0258\n",
      "Epoch 14/700\n",
      "3635/3635 [==============================] - 1s 201us/sample - loss: 93.1485 - val_loss: 81.0222\n",
      "Epoch 15/700\n",
      "3635/3635 [==============================] - 1s 188us/sample - loss: 93.9265 - val_loss: 79.5285\n",
      "Epoch 16/700\n",
      "3635/3635 [==============================] - 1s 205us/sample - loss: 92.9104 - val_loss: 79.3129\n",
      "Epoch 17/700\n",
      "3635/3635 [==============================] - 1s 186us/sample - loss: 92.4744 - val_loss: 79.4260\n",
      "Epoch 18/700\n",
      "3635/3635 [==============================] - 1s 182us/sample - loss: 90.3857 - val_loss: 80.7179\n",
      "Epoch 19/700\n",
      "3635/3635 [==============================] - 1s 181us/sample - loss: 92.0443 - val_loss: 81.0202\n",
      "Epoch 20/700\n",
      "3635/3635 [==============================] - 1s 188us/sample - loss: 89.9819 - val_loss: 78.9476\n",
      "Epoch 21/700\n",
      "3635/3635 [==============================] - 1s 181us/sample - loss: 87.9592 - val_loss: 80.0740\n",
      "Epoch 22/700\n",
      "3635/3635 [==============================] - 1s 182us/sample - loss: 87.4310 - val_loss: 79.9889\n",
      "Epoch 23/700\n",
      "3635/3635 [==============================] - 1s 181us/sample - loss: 87.0715 - val_loss: 79.7256\n",
      "Epoch 24/700\n",
      "3635/3635 [==============================] - 1s 181us/sample - loss: 86.5989 - val_loss: 79.3473\n",
      "Epoch 25/700\n",
      "3635/3635 [==============================] - 1s 182us/sample - loss: 85.8920 - val_loss: 79.1638\n",
      "Epoch 26/700\n",
      "3635/3635 [==============================] - 1s 203us/sample - loss: 86.2435 - val_loss: 79.3895\n",
      "Epoch 27/700\n",
      "3635/3635 [==============================] - 1s 194us/sample - loss: 84.6267 - val_loss: 78.7595\n",
      "Epoch 28/700\n",
      "3635/3635 [==============================] - 1s 194us/sample - loss: 86.4415 - val_loss: 79.1783\n",
      "Epoch 29/700\n",
      "3635/3635 [==============================] - 1s 191us/sample - loss: 85.6174 - val_loss: 79.0081\n",
      "Epoch 30/700\n",
      "3635/3635 [==============================] - 1s 188us/sample - loss: 85.1704 - val_loss: 78.9773\n",
      "Epoch 31/700\n",
      "3635/3635 [==============================] - 1s 228us/sample - loss: 84.4335 - val_loss: 78.7134\n",
      "Epoch 32/700\n",
      "3635/3635 [==============================] - 1s 190us/sample - loss: 83.7474 - val_loss: 79.3266\n",
      "Epoch 33/700\n",
      "3635/3635 [==============================] - 1s 193us/sample - loss: 84.0785 - val_loss: 79.2549\n",
      "Epoch 34/700\n",
      "3635/3635 [==============================] - 1s 187us/sample - loss: 83.9600 - val_loss: 79.0233\n",
      "Epoch 35/700\n",
      "3635/3635 [==============================] - 1s 185us/sample - loss: 83.4103 - val_loss: 78.6455\n",
      "Epoch 36/700\n",
      "3635/3635 [==============================] - 1s 186us/sample - loss: 82.8583 - val_loss: 78.5924\n",
      "Epoch 37/700\n",
      "3635/3635 [==============================] - 1s 200us/sample - loss: 82.1210 - val_loss: 78.8094\n",
      "Epoch 38/700\n",
      "3635/3635 [==============================] - 1s 204us/sample - loss: 82.0106 - val_loss: 78.6787\n",
      "Epoch 39/700\n",
      "3635/3635 [==============================] - 1s 190us/sample - loss: 81.7269 - val_loss: 78.7101\n",
      "Epoch 40/700\n",
      "3635/3635 [==============================] - 1s 186us/sample - loss: 82.0018 - val_loss: 78.7763\n",
      "Epoch 41/700\n",
      "3635/3635 [==============================] - 1s 186us/sample - loss: 81.6314 - val_loss: 78.5325\n",
      "Epoch 42/700\n",
      "3635/3635 [==============================] - 1s 187us/sample - loss: 81.6248 - val_loss: 78.8268\n",
      "Epoch 43/700\n",
      "3635/3635 [==============================] - 1s 189us/sample - loss: 81.7242 - val_loss: 78.4422\n",
      "Epoch 44/700\n",
      "3635/3635 [==============================] - 1s 188us/sample - loss: 80.9038 - val_loss: 78.8743\n",
      "Epoch 45/700\n",
      "3635/3635 [==============================] - 1s 186us/sample - loss: 81.5252 - val_loss: 78.3806\n",
      "Epoch 46/700\n",
      "3635/3635 [==============================] - 1s 185us/sample - loss: 82.2332 - val_loss: 78.6044\n",
      "Epoch 47/700\n",
      "3635/3635 [==============================] - 1s 189us/sample - loss: 81.1609 - val_loss: 79.1777\n",
      "Epoch 48/700\n",
      "3635/3635 [==============================] - 1s 189us/sample - loss: 81.0529 - val_loss: 77.9983\n",
      "Epoch 49/700\n",
      "3635/3635 [==============================] - 1s 186us/sample - loss: 80.7413 - val_loss: 78.0981\n",
      "Epoch 50/700\n",
      "3635/3635 [==============================] - 1s 187us/sample - loss: 80.4259 - val_loss: 77.9276\n",
      "Epoch 51/700\n",
      "3635/3635 [==============================] - 1s 191us/sample - loss: 80.4675 - val_loss: 77.8602\n",
      "Epoch 52/700\n",
      "3635/3635 [==============================] - 1s 193us/sample - loss: 80.0780 - val_loss: 77.8553\n",
      "Epoch 53/700\n",
      "3635/3635 [==============================] - 1s 194us/sample - loss: 79.4277 - val_loss: 77.2246\n",
      "Epoch 54/700\n",
      "3635/3635 [==============================] - 1s 185us/sample - loss: 80.2105 - val_loss: 77.0987\n",
      "Epoch 55/700\n",
      "3635/3635 [==============================] - 1s 185us/sample - loss: 79.3497 - val_loss: 76.3907\n",
      "Epoch 56/700\n",
      "3635/3635 [==============================] - 1s 183us/sample - loss: 79.5084 - val_loss: 76.2793\n",
      "Epoch 57/700\n",
      "3635/3635 [==============================] - 1s 184us/sample - loss: 79.7385 - val_loss: 76.1229\n",
      "Epoch 58/700\n",
      "3635/3635 [==============================] - 1s 185us/sample - loss: 79.4166 - val_loss: 76.1377\n",
      "Epoch 59/700\n",
      "3635/3635 [==============================] - 1s 206us/sample - loss: 78.9509 - val_loss: 76.1528\n",
      "Epoch 60/700\n",
      "3635/3635 [==============================] - 1s 190us/sample - loss: 78.3751 - val_loss: 75.8098\n",
      "Epoch 61/700\n",
      "3635/3635 [==============================] - 1s 185us/sample - loss: 78.1444 - val_loss: 74.9236\n",
      "Epoch 62/700\n",
      "3635/3635 [==============================] - 1s 186us/sample - loss: 77.9637 - val_loss: 74.6219\n",
      "Epoch 63/700\n",
      "3635/3635 [==============================] - 1s 186us/sample - loss: 79.1256 - val_loss: 75.8782\n",
      "Epoch 64/700\n",
      "3635/3635 [==============================] - 1s 187us/sample - loss: 79.1767 - val_loss: 76.1972\n",
      "Epoch 65/700\n",
      "3635/3635 [==============================] - 1s 185us/sample - loss: 78.9800 - val_loss: 75.1651\n",
      "Epoch 66/700\n",
      "3635/3635 [==============================] - 1s 205us/sample - loss: 78.3317 - val_loss: 75.4096\n",
      "Epoch 67/700\n",
      "3635/3635 [==============================] - 1s 214us/sample - loss: 78.7093 - val_loss: 75.4702\n",
      "Epoch 68/700\n",
      "3635/3635 [==============================] - 1s 192us/sample - loss: 78.0869 - val_loss: 75.0088\n",
      "Epoch 69/700\n",
      "3635/3635 [==============================] - 1s 224us/sample - loss: 79.3737 - val_loss: 75.5106\n",
      "Epoch 70/700\n",
      "3635/3635 [==============================] - 1s 220us/sample - loss: 78.5105 - val_loss: 75.4541\n",
      "Epoch 71/700\n",
      "3635/3635 [==============================] - 1s 215us/sample - loss: 78.9743 - val_loss: 75.7744\n",
      "Epoch 72/700\n",
      "3635/3635 [==============================] - 1s 197us/sample - loss: 78.3742 - val_loss: 75.0241\n",
      "Epoch 73/700\n",
      "3635/3635 [==============================] - 1s 189us/sample - loss: 78.2901 - val_loss: 75.2161\n",
      "Epoch 74/700\n",
      "3635/3635 [==============================] - 1s 185us/sample - loss: 78.4717 - val_loss: 74.8771\n",
      "Epoch 75/700\n"
     ]
    },
    {
     "name": "stdout",
     "output_type": "stream",
     "text": [
      "3635/3635 [==============================] - 1s 184us/sample - loss: 78.0709 - val_loss: 75.0326\n",
      "Epoch 76/700\n",
      "3635/3635 [==============================] - 1s 182us/sample - loss: 78.1334 - val_loss: 75.1037\n",
      "Epoch 77/700\n",
      "3635/3635 [==============================] - 1s 181us/sample - loss: 78.3538 - val_loss: 74.5280\n",
      "Epoch 78/700\n",
      "3635/3635 [==============================] - 1s 181us/sample - loss: 78.1605 - val_loss: 74.7561\n",
      "Epoch 79/700\n",
      "3635/3635 [==============================] - 1s 179us/sample - loss: 78.0616 - val_loss: 74.8892\n",
      "Epoch 80/700\n",
      "3635/3635 [==============================] - 1s 181us/sample - loss: 78.3792 - val_loss: 75.0810\n",
      "Epoch 81/700\n",
      "3635/3635 [==============================] - 1s 183us/sample - loss: 78.1476 - val_loss: 74.3827\n",
      "Epoch 82/700\n",
      "3635/3635 [==============================] - 1s 181us/sample - loss: 78.3530 - val_loss: 74.3434\n",
      "Epoch 83/700\n",
      "3635/3635 [==============================] - 1s 180us/sample - loss: 77.9263 - val_loss: 74.5255\n",
      "Epoch 84/700\n",
      "3635/3635 [==============================] - 1s 180us/sample - loss: 78.2729 - val_loss: 74.1356\n",
      "Epoch 85/700\n",
      "3635/3635 [==============================] - 1s 184us/sample - loss: 77.9031 - val_loss: 75.2658\n",
      "Epoch 86/700\n",
      "3635/3635 [==============================] - 1s 180us/sample - loss: 77.4317 - val_loss: 73.9492\n",
      "Epoch 87/700\n",
      "3635/3635 [==============================] - 1s 180us/sample - loss: 77.5471 - val_loss: 73.7752\n",
      "Epoch 88/700\n",
      "3635/3635 [==============================] - 1s 181us/sample - loss: 78.4569 - val_loss: 73.9964\n",
      "Epoch 89/700\n",
      "3635/3635 [==============================] - 1s 181us/sample - loss: 78.1964 - val_loss: 75.3513\n",
      "Epoch 90/700\n",
      "3635/3635 [==============================] - 1s 181us/sample - loss: 78.4188 - val_loss: 74.8698\n",
      "Epoch 91/700\n",
      "3635/3635 [==============================] - 1s 181us/sample - loss: 78.1465 - val_loss: 74.2294\n",
      "Epoch 92/700\n",
      "3635/3635 [==============================] - 1s 180us/sample - loss: 77.5724 - val_loss: 74.1401\n",
      "Epoch 93/700\n",
      "3635/3635 [==============================] - 1s 182us/sample - loss: 77.0639 - val_loss: 74.2008\n",
      "Epoch 94/700\n",
      "3635/3635 [==============================] - 1s 180us/sample - loss: 77.4545 - val_loss: 73.8950\n",
      "Epoch 95/700\n",
      "3635/3635 [==============================] - 1s 181us/sample - loss: 77.1432 - val_loss: 74.3937\n",
      "Epoch 96/700\n",
      "3635/3635 [==============================] - 1s 182us/sample - loss: 77.5164 - val_loss: 74.6621\n",
      "Epoch 97/700\n",
      "3635/3635 [==============================] - 1s 187us/sample - loss: 78.7916 - val_loss: 74.8213\n",
      "Epoch 98/700\n",
      "3635/3635 [==============================] - 1s 181us/sample - loss: 77.7801 - val_loss: 74.3280\n",
      "Epoch 99/700\n",
      "3635/3635 [==============================] - 1s 181us/sample - loss: 78.1281 - val_loss: 73.9436\n",
      "Epoch 100/700\n",
      "3635/3635 [==============================] - 1s 182us/sample - loss: 77.4931 - val_loss: 73.8148\n",
      "Epoch 101/700\n",
      "3635/3635 [==============================] - 1s 182us/sample - loss: 77.4279 - val_loss: 74.1726\n",
      "Epoch 102/700\n",
      "3635/3635 [==============================] - 1s 181us/sample - loss: 76.7944 - val_loss: 73.5125\n",
      "Epoch 103/700\n",
      "3635/3635 [==============================] - 1s 185us/sample - loss: 77.4898 - val_loss: 74.1053\n",
      "Epoch 104/700\n",
      "3635/3635 [==============================] - 1s 184us/sample - loss: 76.1063 - val_loss: 73.1777\n",
      "Epoch 105/700\n",
      "3635/3635 [==============================] - 1s 182us/sample - loss: 77.1182 - val_loss: 72.6573\n",
      "Epoch 106/700\n",
      "3635/3635 [==============================] - 1s 182us/sample - loss: 77.1689 - val_loss: 73.4644\n",
      "Epoch 107/700\n",
      "3635/3635 [==============================] - 1s 194us/sample - loss: 77.9169 - val_loss: 73.6483\n",
      "Epoch 108/700\n",
      "3635/3635 [==============================] - 1s 181us/sample - loss: 77.7296 - val_loss: 73.0493\n",
      "Epoch 109/700\n",
      "3635/3635 [==============================] - 1s 183us/sample - loss: 77.3297 - val_loss: 72.9058\n",
      "Epoch 110/700\n",
      "3635/3635 [==============================] - 1s 181us/sample - loss: 76.8081 - val_loss: 73.6863\n",
      "Epoch 111/700\n",
      "3635/3635 [==============================] - 1s 182us/sample - loss: 77.1220 - val_loss: 73.1340\n",
      "Epoch 112/700\n",
      "3635/3635 [==============================] - 1s 181us/sample - loss: 77.0276 - val_loss: 72.9860\n",
      "Epoch 113/700\n",
      "3635/3635 [==============================] - 1s 182us/sample - loss: 77.3151 - val_loss: 73.1885\n",
      "Epoch 114/700\n",
      "3635/3635 [==============================] - 1s 186us/sample - loss: 77.0461 - val_loss: 72.8610\n",
      "Epoch 115/700\n",
      "3635/3635 [==============================] - 1s 187us/sample - loss: 77.4340 - val_loss: 73.6106\n",
      "Epoch 116/700\n",
      "3635/3635 [==============================] - 1s 196us/sample - loss: 77.5672 - val_loss: 73.5603\n",
      "Epoch 117/700\n",
      "3635/3635 [==============================] - 1s 202us/sample - loss: 77.1551 - val_loss: 72.6888\n",
      "Epoch 118/700\n",
      "3635/3635 [==============================] - 1s 194us/sample - loss: 76.8924 - val_loss: 72.7217\n",
      "Epoch 119/700\n",
      "3635/3635 [==============================] - 1s 187us/sample - loss: 77.1877 - val_loss: 72.7309\n",
      "Epoch 120/700\n",
      "3635/3635 [==============================] - 1s 210us/sample - loss: 77.0392 - val_loss: 72.7818\n",
      "Epoch 121/700\n",
      "3635/3635 [==============================] - 1s 209us/sample - loss: 76.1066 - val_loss: 72.8770\n",
      "Epoch 122/700\n",
      "3635/3635 [==============================] - 1s 193us/sample - loss: 76.7857 - val_loss: 72.0831\n",
      "Epoch 123/700\n",
      "3635/3635 [==============================] - 1s 197us/sample - loss: 77.4901 - val_loss: 72.2955\n",
      "Epoch 124/700\n",
      "3635/3635 [==============================] - 1s 201us/sample - loss: 77.6024 - val_loss: 72.7634\n",
      "Epoch 125/700\n",
      "3635/3635 [==============================] - 1s 195us/sample - loss: 78.2250 - val_loss: 72.9035\n",
      "Epoch 126/700\n",
      "3635/3635 [==============================] - 1s 208us/sample - loss: 76.8354 - val_loss: 72.4403\n",
      "Epoch 127/700\n",
      "3635/3635 [==============================] - 1s 193us/sample - loss: 77.1486 - val_loss: 73.1185\n",
      "Epoch 128/700\n",
      "3635/3635 [==============================] - 1s 198us/sample - loss: 77.8703 - val_loss: 73.2499\n",
      "Epoch 129/700\n",
      "3635/3635 [==============================] - 1s 191us/sample - loss: 76.8234 - val_loss: 72.3331\n",
      "Epoch 130/700\n",
      "3635/3635 [==============================] - 1s 189us/sample - loss: 76.1465 - val_loss: 73.1879\n",
      "Epoch 131/700\n",
      "3635/3635 [==============================] - 1s 187us/sample - loss: 76.6293 - val_loss: 71.7560\n",
      "Epoch 132/700\n",
      "3635/3635 [==============================] - 1s 187us/sample - loss: 77.0785 - val_loss: 72.5298\n",
      "Epoch 133/700\n",
      "3635/3635 [==============================] - 1s 186us/sample - loss: 75.6337 - val_loss: 71.8772\n",
      "Epoch 134/700\n",
      "3635/3635 [==============================] - 1s 184us/sample - loss: 77.1573 - val_loss: 72.0559\n",
      "Epoch 135/700\n",
      "3635/3635 [==============================] - 1s 186us/sample - loss: 76.1670 - val_loss: 72.1282\n",
      "Epoch 136/700\n",
      "3635/3635 [==============================] - 1s 187us/sample - loss: 76.9450 - val_loss: 73.3857\n",
      "Epoch 137/700\n",
      "3635/3635 [==============================] - 1s 187us/sample - loss: 76.9772 - val_loss: 72.3231\n",
      "Epoch 138/700\n",
      "3635/3635 [==============================] - 1s 186us/sample - loss: 76.2146 - val_loss: 72.6946\n",
      "Epoch 139/700\n",
      "3635/3635 [==============================] - 1s 186us/sample - loss: 76.6588 - val_loss: 71.6385\n",
      "Epoch 140/700\n",
      "3635/3635 [==============================] - 1s 186us/sample - loss: 76.5839 - val_loss: 72.5829\n",
      "Epoch 141/700\n",
      "3635/3635 [==============================] - 1s 187us/sample - loss: 76.7721 - val_loss: 71.6419\n",
      "Epoch 142/700\n",
      "3635/3635 [==============================] - 1s 185us/sample - loss: 77.1604 - val_loss: 72.3466\n",
      "Epoch 143/700\n",
      "3635/3635 [==============================] - 1s 187us/sample - loss: 76.8312 - val_loss: 72.1727\n",
      "Epoch 144/700\n",
      "3635/3635 [==============================] - 1s 185us/sample - loss: 76.5551 - val_loss: 71.7075\n",
      "Epoch 145/700\n",
      "3635/3635 [==============================] - 1s 187us/sample - loss: 76.5293 - val_loss: 72.6475\n",
      "Epoch 146/700\n",
      "3635/3635 [==============================] - 1s 186us/sample - loss: 76.2457 - val_loss: 71.9572\n",
      "Epoch 147/700\n",
      "3635/3635 [==============================] - 1s 187us/sample - loss: 77.1493 - val_loss: 72.5031\n",
      "Epoch 148/700\n",
      "3635/3635 [==============================] - 1s 185us/sample - loss: 76.3021 - val_loss: 71.3571\n",
      "Epoch 149/700\n"
     ]
    },
    {
     "name": "stdout",
     "output_type": "stream",
     "text": [
      "3635/3635 [==============================] - 1s 180us/sample - loss: 76.2162 - val_loss: 71.8088\n",
      "Epoch 150/700\n",
      "3635/3635 [==============================] - 1s 180us/sample - loss: 76.4263 - val_loss: 71.7829\n",
      "Epoch 151/700\n",
      "3635/3635 [==============================] - 1s 186us/sample - loss: 76.7952 - val_loss: 73.2645\n",
      "Epoch 152/700\n",
      "3635/3635 [==============================] - 1s 183us/sample - loss: 76.6941 - val_loss: 72.3775\n",
      "Epoch 153/700\n",
      "3635/3635 [==============================] - 1s 181us/sample - loss: 76.1543 - val_loss: 71.9573\n",
      "Epoch 154/700\n",
      "3635/3635 [==============================] - 1s 181us/sample - loss: 76.5750 - val_loss: 71.6549\n",
      "Epoch 155/700\n",
      "3635/3635 [==============================] - 1s 182us/sample - loss: 75.9708 - val_loss: 72.0897\n",
      "Epoch 156/700\n",
      "3635/3635 [==============================] - 1s 182us/sample - loss: 76.9213 - val_loss: 72.3675\n",
      "Epoch 157/700\n",
      "3635/3635 [==============================] - 1s 180us/sample - loss: 76.8802 - val_loss: 71.9182\n",
      "Epoch 158/700\n",
      "3635/3635 [==============================] - 1s 183us/sample - loss: 76.5210 - val_loss: 71.7055\n",
      "Epoch 159/700\n",
      "3635/3635 [==============================] - 1s 181us/sample - loss: 76.2564 - val_loss: 71.8330\n",
      "Epoch 160/700\n",
      "3635/3635 [==============================] - 1s 180us/sample - loss: 76.3120 - val_loss: 71.0608\n",
      "Epoch 161/700\n",
      "3635/3635 [==============================] - 1s 187us/sample - loss: 77.1174 - val_loss: 71.5232\n",
      "Epoch 162/700\n",
      "3635/3635 [==============================] - 1s 181us/sample - loss: 76.6765 - val_loss: 71.4406\n",
      "Epoch 163/700\n",
      "3635/3635 [==============================] - 1s 181us/sample - loss: 75.7444 - val_loss: 71.6650\n",
      "Epoch 164/700\n",
      "3635/3635 [==============================] - 1s 184us/sample - loss: 77.0382 - val_loss: 72.5353\n",
      "Epoch 165/700\n",
      "3635/3635 [==============================] - 1s 182us/sample - loss: 76.1027 - val_loss: 72.4804\n",
      "Epoch 166/700\n",
      "3635/3635 [==============================] - 1s 184us/sample - loss: 76.8592 - val_loss: 72.3219\n",
      "Epoch 167/700\n",
      "3635/3635 [==============================] - 1s 180us/sample - loss: 77.1223 - val_loss: 72.9837\n",
      "Epoch 168/700\n",
      "3635/3635 [==============================] - 1s 180us/sample - loss: 75.7245 - val_loss: 71.7978\n",
      "Epoch 169/700\n",
      "3635/3635 [==============================] - 1s 187us/sample - loss: 76.6156 - val_loss: 71.6596\n",
      "Epoch 170/700\n",
      "3635/3635 [==============================] - 1s 181us/sample - loss: 75.8593 - val_loss: 71.0937\n",
      "Epoch 171/700\n",
      "3635/3635 [==============================] - 1s 181us/sample - loss: 76.3151 - val_loss: 70.9510\n",
      "Epoch 172/700\n",
      "3635/3635 [==============================] - 1s 182us/sample - loss: 76.1904 - val_loss: 72.1603\n",
      "Epoch 173/700\n",
      "3635/3635 [==============================] - 1s 186us/sample - loss: 76.6176 - val_loss: 71.9799\n",
      "Epoch 174/700\n",
      "3635/3635 [==============================] - 1s 186us/sample - loss: 77.4597 - val_loss: 71.5887\n",
      "Epoch 175/700\n",
      "3635/3635 [==============================] - 1s 181us/sample - loss: 76.3053 - val_loss: 72.4216\n",
      "Epoch 176/700\n",
      "3635/3635 [==============================] - 1s 183us/sample - loss: 76.8819 - val_loss: 72.3355\n",
      "Epoch 177/700\n",
      "3635/3635 [==============================] - 1s 185us/sample - loss: 76.9888 - val_loss: 72.6094\n",
      "Epoch 178/700\n",
      "3635/3635 [==============================] - 1s 184us/sample - loss: 76.3112 - val_loss: 71.7403\n",
      "Epoch 179/700\n",
      "3635/3635 [==============================] - 1s 181us/sample - loss: 76.5720 - val_loss: 71.8678\n",
      "Epoch 180/700\n",
      "3635/3635 [==============================] - 1s 183us/sample - loss: 76.4934 - val_loss: 71.9754\n",
      "Epoch 181/700\n",
      "3635/3635 [==============================] - 1s 181us/sample - loss: 76.9006 - val_loss: 71.0495\n",
      "Epoch 182/700\n",
      "3635/3635 [==============================] - 1s 180us/sample - loss: 75.1242 - val_loss: 71.1619\n",
      "Epoch 183/700\n",
      "3635/3635 [==============================] - 1s 181us/sample - loss: 76.2650 - val_loss: 71.5180\n",
      "Epoch 184/700\n",
      "3635/3635 [==============================] - 1s 182us/sample - loss: 75.2177 - val_loss: 71.0058\n",
      "Epoch 185/700\n",
      "3635/3635 [==============================] - 1s 180us/sample - loss: 76.5111 - val_loss: 71.6048\n",
      "Epoch 186/700\n",
      "3635/3635 [==============================] - 1s 183us/sample - loss: 77.1207 - val_loss: 72.0001\n",
      "Epoch 187/700\n",
      "3635/3635 [==============================] - 1s 183us/sample - loss: 76.0024 - val_loss: 71.7468\n",
      "Epoch 188/700\n",
      "3635/3635 [==============================] - 1s 189us/sample - loss: 76.7000 - val_loss: 71.9860\n",
      "Epoch 189/700\n",
      "3635/3635 [==============================] - 1s 200us/sample - loss: 77.0953 - val_loss: 72.1946\n",
      "Epoch 190/700\n",
      "3635/3635 [==============================] - 1s 194us/sample - loss: 75.5796 - val_loss: 71.0644\n",
      "Epoch 191/700\n",
      "3635/3635 [==============================] - 1s 193us/sample - loss: 76.4015 - val_loss: 71.8364\n",
      "Epoch 192/700\n",
      "3635/3635 [==============================] - 1s 188us/sample - loss: 77.6958 - val_loss: 72.4615\n",
      "Epoch 193/700\n",
      "3635/3635 [==============================] - 1s 189us/sample - loss: 77.1276 - val_loss: 72.4038\n",
      "Epoch 194/700\n",
      "3635/3635 [==============================] - 1s 191us/sample - loss: 76.9106 - val_loss: 72.1267\n",
      "Epoch 195/700\n",
      "3635/3635 [==============================] - 1s 189us/sample - loss: 76.3881 - val_loss: 71.1683\n",
      "Epoch 196/700\n",
      "3635/3635 [==============================] - 1s 191us/sample - loss: 76.8143 - val_loss: 71.8710\n",
      "Epoch 197/700\n",
      "3635/3635 [==============================] - 1s 208us/sample - loss: 75.4240 - val_loss: 71.0467\n",
      "Epoch 198/700\n",
      "3635/3635 [==============================] - 1s 193us/sample - loss: 77.0758 - val_loss: 71.0653\n",
      "Epoch 199/700\n",
      "3635/3635 [==============================] - 1s 188us/sample - loss: 77.3033 - val_loss: 72.8564\n",
      "Epoch 200/700\n",
      "3635/3635 [==============================] - 1s 183us/sample - loss: 76.7311 - val_loss: 72.9097\n",
      "Epoch 201/700\n",
      "3635/3635 [==============================] - 1s 203us/sample - loss: 76.6711 - val_loss: 72.5983\n",
      "Epoch 202/700\n",
      "3635/3635 [==============================] - 1s 190us/sample - loss: 76.9855 - val_loss: 72.9106\n",
      "Epoch 203/700\n",
      "3635/3635 [==============================] - 1s 188us/sample - loss: 76.4107 - val_loss: 72.1921\n",
      "Epoch 204/700\n",
      "3635/3635 [==============================] - 1s 187us/sample - loss: 77.1657 - val_loss: 72.4265\n",
      "Epoch 205/700\n",
      "3635/3635 [==============================] - 1s 199us/sample - loss: 75.5754 - val_loss: 71.1097\n",
      "Epoch 206/700\n",
      "3635/3635 [==============================] - 1s 196us/sample - loss: 76.6167 - val_loss: 71.4661\n",
      "Epoch 207/700\n",
      "3635/3635 [==============================] - 1s 191us/sample - loss: 76.2778 - val_loss: 71.1807\n",
      "Epoch 208/700\n",
      "3635/3635 [==============================] - 1s 194us/sample - loss: 76.9287 - val_loss: 71.8382\n",
      "Epoch 209/700\n",
      "3635/3635 [==============================] - 1s 190us/sample - loss: 76.6109 - val_loss: 71.9636\n",
      "Epoch 210/700\n",
      "3635/3635 [==============================] - 1s 197us/sample - loss: 75.9771 - val_loss: 71.3049\n",
      "Epoch 211/700\n",
      "3635/3635 [==============================] - 1s 190us/sample - loss: 76.5399 - val_loss: 71.8577\n",
      "Epoch 212/700\n",
      "3635/3635 [==============================] - 1s 195us/sample - loss: 75.2074 - val_loss: 70.8016\n",
      "Epoch 213/700\n",
      "3635/3635 [==============================] - 1s 190us/sample - loss: 76.5943 - val_loss: 72.6010\n",
      "Epoch 214/700\n",
      "3635/3635 [==============================] - 1s 194us/sample - loss: 76.1311 - val_loss: 71.1912\n",
      "Epoch 215/700\n",
      "3635/3635 [==============================] - 1s 194us/sample - loss: 76.1830 - val_loss: 71.0516\n",
      "Epoch 216/700\n",
      "3635/3635 [==============================] - 1s 192us/sample - loss: 76.3288 - val_loss: 72.2610\n",
      "Epoch 217/700\n",
      "3635/3635 [==============================] - 1s 190us/sample - loss: 75.5465 - val_loss: 72.0172\n",
      "Epoch 218/700\n",
      "3635/3635 [==============================] - 1s 187us/sample - loss: 76.1122 - val_loss: 71.6553\n",
      "Epoch 219/700\n",
      "3635/3635 [==============================] - 1s 191us/sample - loss: 76.6116 - val_loss: 71.8700\n",
      "Epoch 220/700\n",
      "3635/3635 [==============================] - 1s 201us/sample - loss: 76.6423 - val_loss: 70.9055\n",
      "Epoch 221/700\n",
      "3635/3635 [==============================] - 1s 192us/sample - loss: 75.7967 - val_loss: 71.0797\n",
      "Epoch 222/700\n",
      "3635/3635 [==============================] - 1s 194us/sample - loss: 75.9069 - val_loss: 71.4707\n"
     ]
    },
    {
     "name": "stdout",
     "output_type": "stream",
     "text": [
      "Epoch 223/700\n",
      "3635/3635 [==============================] - 1s 193us/sample - loss: 76.4718 - val_loss: 71.5970\n",
      "Epoch 224/700\n",
      "3635/3635 [==============================] - 1s 189us/sample - loss: 75.8510 - val_loss: 72.7758\n",
      "Epoch 225/700\n",
      "3635/3635 [==============================] - 1s 195us/sample - loss: 76.0596 - val_loss: 71.2875\n",
      "Epoch 226/700\n",
      "3635/3635 [==============================] - 1s 193us/sample - loss: 76.0329 - val_loss: 71.4756\n",
      "Epoch 227/700\n",
      "3635/3635 [==============================] - 1s 189us/sample - loss: 75.7125 - val_loss: 71.1696\n",
      "Epoch 228/700\n",
      "3635/3635 [==============================] - 1s 185us/sample - loss: 76.4795 - val_loss: 72.2358\n",
      "Epoch 229/700\n",
      "3635/3635 [==============================] - 1s 184us/sample - loss: 75.9883 - val_loss: 71.2757\n",
      "Epoch 230/700\n",
      "3635/3635 [==============================] - 1s 183us/sample - loss: 76.3321 - val_loss: 71.8847\n",
      "Epoch 231/700\n",
      "3635/3635 [==============================] - 1s 184us/sample - loss: 76.3022 - val_loss: 72.2857\n",
      "Epoch 232/700\n",
      "3635/3635 [==============================] - 1s 184us/sample - loss: 76.1363 - val_loss: 72.1437\n",
      "Epoch 233/700\n",
      "3635/3635 [==============================] - 1s 185us/sample - loss: 76.2455 - val_loss: 71.2834\n",
      "Epoch 234/700\n",
      "3635/3635 [==============================] - 1s 182us/sample - loss: 76.1304 - val_loss: 71.2447\n",
      "Epoch 235/700\n",
      "3635/3635 [==============================] - 1s 183us/sample - loss: 75.6709 - val_loss: 71.6678\n",
      "Epoch 236/700\n",
      "3635/3635 [==============================] - 1s 184us/sample - loss: 76.2351 - val_loss: 72.6264\n",
      "Epoch 237/700\n",
      "3635/3635 [==============================] - 1s 186us/sample - loss: 75.2441 - val_loss: 71.8081\n",
      "Epoch 238/700\n",
      "3635/3635 [==============================] - 1s 184us/sample - loss: 76.7325 - val_loss: 71.4612\n",
      "Epoch 239/700\n",
      "3635/3635 [==============================] - 1s 185us/sample - loss: 75.8816 - val_loss: 71.8560\n",
      "Epoch 240/700\n",
      "3635/3635 [==============================] - 1s 184us/sample - loss: 75.3733 - val_loss: 71.2167\n",
      "Epoch 241/700\n",
      "3635/3635 [==============================] - 1s 183us/sample - loss: 75.2744 - val_loss: 71.8306\n",
      "Epoch 242/700\n",
      "3635/3635 [==============================] - 1s 185us/sample - loss: 76.1271 - val_loss: 71.3042\n",
      "Epoch 243/700\n",
      "3635/3635 [==============================] - 1s 184us/sample - loss: 76.7800 - val_loss: 71.9335\n",
      "Epoch 244/700\n",
      "3635/3635 [==============================] - 1s 185us/sample - loss: 76.1414 - val_loss: 71.5415\n",
      "Epoch 245/700\n",
      "3635/3635 [==============================] - 1s 185us/sample - loss: 75.8200 - val_loss: 71.2152\n",
      "Epoch 246/700\n",
      "3635/3635 [==============================] - 1s 195us/sample - loss: 76.3742 - val_loss: 71.7525\n",
      "Epoch 247/700\n",
      "3635/3635 [==============================] - 1s 192us/sample - loss: 76.2150 - val_loss: 71.4316\n",
      "Epoch 248/700\n",
      "3635/3635 [==============================] - 1s 205us/sample - loss: 76.9387 - val_loss: 71.9440\n",
      "Epoch 249/700\n",
      "3635/3635 [==============================] - 1s 195us/sample - loss: 75.8598 - val_loss: 71.6691\n",
      "Epoch 250/700\n",
      "3635/3635 [==============================] - 1s 190us/sample - loss: 75.7697 - val_loss: 71.5286\n",
      "Epoch 251/700\n",
      "3635/3635 [==============================] - 1s 185us/sample - loss: 75.8473 - val_loss: 72.4197\n",
      "Epoch 252/700\n",
      "3635/3635 [==============================] - 1s 190us/sample - loss: 76.9074 - val_loss: 71.7198\n",
      "Epoch 253/700\n",
      "3635/3635 [==============================] - 1s 209us/sample - loss: 76.4578 - val_loss: 71.2913\n",
      "Epoch 254/700\n",
      "3635/3635 [==============================] - 1s 212us/sample - loss: 77.3095 - val_loss: 72.3588\n",
      "Epoch 255/700\n",
      "3635/3635 [==============================] - 1s 205us/sample - loss: 76.5939 - val_loss: 71.7314\n",
      "Epoch 256/700\n",
      "3635/3635 [==============================] - 1s 196us/sample - loss: 76.0490 - val_loss: 73.1551\n",
      "Epoch 257/700\n",
      "3635/3635 [==============================] - 1s 197us/sample - loss: 76.6082 - val_loss: 73.3897\n",
      "Epoch 258/700\n",
      "3635/3635 [==============================] - 1s 197us/sample - loss: 76.7234 - val_loss: 72.4477\n",
      "Epoch 259/700\n",
      "3635/3635 [==============================] - 1s 189us/sample - loss: 77.1288 - val_loss: 72.2286\n",
      "Epoch 260/700\n",
      "3635/3635 [==============================] - 1s 192us/sample - loss: 75.8221 - val_loss: 72.4558\n",
      "Epoch 261/700\n",
      "3635/3635 [==============================] - 1s 209us/sample - loss: 75.2079 - val_loss: 71.7852\n",
      "Epoch 262/700\n",
      "3635/3635 [==============================] - 1s 190us/sample - loss: 76.1236 - val_loss: 72.3776\n",
      "Epoch 263/700\n",
      "3635/3635 [==============================] - 1s 187us/sample - loss: 75.9577 - val_loss: 70.9651\n",
      "Epoch 264/700\n",
      "3635/3635 [==============================] - 1s 186us/sample - loss: 76.5378 - val_loss: 71.1333\n",
      "Epoch 265/700\n",
      "3635/3635 [==============================] - 1s 186us/sample - loss: 76.2541 - val_loss: 71.2945\n",
      "Epoch 266/700\n",
      "3635/3635 [==============================] - 1s 187us/sample - loss: 77.1030 - val_loss: 72.2969\n",
      "Epoch 267/700\n",
      "3635/3635 [==============================] - 1s 186us/sample - loss: 76.6806 - val_loss: 72.0735\n",
      "Epoch 268/700\n",
      "3635/3635 [==============================] - 1s 187us/sample - loss: 75.6392 - val_loss: 71.5215\n",
      "Epoch 269/700\n",
      "3635/3635 [==============================] - 1s 193us/sample - loss: 76.3536 - val_loss: 71.8205\n",
      "Epoch 270/700\n",
      "3635/3635 [==============================] - 1s 197us/sample - loss: 77.0266 - val_loss: 72.1027\n",
      "Epoch 271/700\n",
      "3635/3635 [==============================] - 1s 192us/sample - loss: 76.4379 - val_loss: 72.3447\n",
      "Epoch 272/700\n",
      "3635/3635 [==============================] - 1s 194us/sample - loss: 76.6097 - val_loss: 71.5850\n",
      "Epoch 273/700\n",
      "3635/3635 [==============================] - 1s 190us/sample - loss: 76.1600 - val_loss: 72.1440\n",
      "Epoch 274/700\n",
      "3635/3635 [==============================] - 1s 191us/sample - loss: 76.7931 - val_loss: 72.6697\n",
      "Epoch 275/700\n",
      "3635/3635 [==============================] - 1s 193us/sample - loss: 77.0085 - val_loss: 72.3669\n",
      "Epoch 276/700\n",
      "3635/3635 [==============================] - 1s 188us/sample - loss: 76.2400 - val_loss: 72.1742\n",
      "Epoch 277/700\n",
      "3635/3635 [==============================] - 1s 195us/sample - loss: 75.6634 - val_loss: 71.5975\n",
      "Epoch 278/700\n",
      "3635/3635 [==============================] - 1s 195us/sample - loss: 77.1933 - val_loss: 72.5823\n",
      "Epoch 279/700\n",
      "3635/3635 [==============================] - 1s 191us/sample - loss: 76.8662 - val_loss: 71.9777\n",
      "Epoch 280/700\n",
      "3635/3635 [==============================] - 1s 187us/sample - loss: 76.3258 - val_loss: 71.7065\n",
      "Epoch 281/700\n",
      "3635/3635 [==============================] - 1s 190us/sample - loss: 75.8298 - val_loss: 72.6262\n",
      "Epoch 282/700\n",
      "3635/3635 [==============================] - 1s 196us/sample - loss: 76.0710 - val_loss: 72.8761\n"
     ]
    },
    {
     "data": {
      "text/plain": [
       "<tensorflow.python.keras.callbacks.History at 0x1a4f4ce910>"
      ]
     },
     "execution_count": 198,
     "metadata": {},
     "output_type": "execute_result"
    }
   ],
   "source": [
    "model.fit(X_train, y_train, validation_data=(X_test, y_test), epochs=700, callbacks=[stop])"
   ]
  },
  {
   "cell_type": "code",
   "execution_count": 199,
   "metadata": {},
   "outputs": [
    {
     "data": {
      "text/plain": [
       "<matplotlib.axes._subplots.AxesSubplot at 0x1a50f43f50>"
      ]
     },
     "execution_count": 199,
     "metadata": {},
     "output_type": "execute_result"
    },
    {
     "data": {
      "image/png": "[encoded data removed]",
      "text/plain": [
       "<Figure size 432x288 with 1 Axes>"
      ]
     },
     "metadata": {
      "needs_background": "light"
     },
     "output_type": "display_data"
    }
   ],
   "source": [
    "pd.DataFrame(model.history.history).plot()"
   ]
  },
  {
   "cell_type": "code",
   "execution_count": 200,
   "metadata": {},
   "outputs": [],
   "source": [
    "predictions = model.predict(X_test)"
   ]
  },
  {
   "cell_type": "code",
   "execution_count": 201,
   "metadata": {},
   "outputs": [
    {
     "data": {
      "text/plain": [
       "array([[17.435112],\n",
       "       [19.329788],\n",
       "       [17.423355],\n",
       "       ...,\n",
       "       [17.438343],\n",
       "       [19.314781],\n",
       "       [19.368906]], dtype=float32)"
      ]
     },
     "execution_count": 201,
     "metadata": {},
     "output_type": "execute_result"
    }
   ],
   "source": [
    "predictions"
   ]
  },
  {
   "cell_type": "code",
   "execution_count": 202,
   "metadata": {},
   "outputs": [],
   "source": [
    "from sklearn.metrics import mean_absolute_error, mean_squared_error,explained_variance_score"
   ]
  },
  {
   "cell_type": "code",
   "execution_count": 203,
   "metadata": {},
   "outputs": [
    {
     "name": "stdout",
     "output_type": "stream",
     "text": [
      "0.0933111093231016\n"
     ]
    }
   ],
   "source": [
    "print(explained_variance_score(y_test,predictions))"
   ]
  },
  {
   "cell_type": "code",
   "execution_count": 204,
   "metadata": {},
   "outputs": [
    {
     "name": "stdout",
     "output_type": "stream",
     "text": [
      "5.716863638323293\n"
     ]
    }
   ],
   "source": [
    "print(mean_absolute_error(y_test,predictions))"
   ]
  },
  {
   "cell_type": "code",
   "execution_count": 205,
   "metadata": {},
   "outputs": [
    {
     "name": "stdout",
     "output_type": "stream",
     "text": [
      "72.87612807145824\n"
     ]
    }
   ],
   "source": [
    "print(mean_squared_error(y_test,predictions))"
   ]
  },
  {
   "cell_type": "markdown",
   "metadata": {},
   "source": [
    "plt.scatter(y_test, predictions)"
   ]
  },
  {
   "cell_type": "code",
   "execution_count": 206,
   "metadata": {},
   "outputs": [],
   "source": [
    "## Trying on andom data"
   ]
  },
  {
   "cell_type": "code",
   "execution_count": 207,
   "metadata": {},
   "outputs": [],
   "source": [
    "from random import randint\n",
    "randomIndex = randint(1,len(working_Data))\n",
    "randomDay = working_Data.drop(\"vix\", axis=1).iloc[randomIndex]"
   ]
  },
  {
   "cell_type": "code",
   "execution_count": 208,
   "metadata": {},
   "outputs": [],
   "source": [
    "newDay = randomDay.values.reshape(1,1)"
   ]
  },
  {
   "cell_type": "code",
   "execution_count": 209,
   "metadata": {},
   "outputs": [
    {
     "data": {
      "text/plain": [
       "array([[27.00564]], dtype=float32)"
      ]
     },
     "execution_count": 209,
     "metadata": {},
     "output_type": "execute_result"
    }
   ],
   "source": [
    "model.predict(newDay)"
   ]
  },
  {
   "cell_type": "code",
   "execution_count": 210,
   "metadata": {},
   "outputs": [
    {
     "data": {
      "text/plain": [
       "12.029999732971191"
      ]
     },
     "execution_count": 210,
     "metadata": {},
     "output_type": "execute_result"
    }
   ],
   "source": [
    "working_Data.iloc[randomIndex][\"vix\"]"
   ]
  },
  {
   "cell_type": "code",
   "execution_count": null,
   "metadata": {},
   "outputs": [],
   "source": []
  },
  {
   "cell_type": "code",
   "execution_count": null,
   "metadata": {},
   "outputs": [],
   "source": []
  }
 ],
 "metadata": {
  "kernelspec": {
   "display_name": "Python 3",
   "language": "python",
   "name": "python3"
  },
  "language_info": {
   "codemirror_mode": {
    "name": "ipython",
    "version": 3
   },
   "file_extension": ".py",
   "mimetype": "text/x-python",
   "name": "python",
   "nbconvert_exporter": "python",
   "pygments_lexer": "ipython3",
   "version": "3.7.4"
  }
 },
 "nbformat": 4,
 "nbformat_minor": 2
}
